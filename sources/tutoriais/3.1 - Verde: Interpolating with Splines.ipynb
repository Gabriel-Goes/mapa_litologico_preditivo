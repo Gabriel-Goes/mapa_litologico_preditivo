{
 "cells": [
  {
   "cell_type": "code",
   "execution_count": 1,
   "source": [
    "import verde as vd\n",
    "import pandas as pd\n",
    "import matplotlib.pyplot as plt\n",
    "import numpy as np\n",
    "\n",
    "import pyproj\n",
    "from shapely import geometry\n",
    "\n",
    "\n",
    "%matplotlib widget\n",
    "\n",
    "gdb = '/home/ggrl/geodatabase/'"
   ],
   "outputs": [],
   "metadata": {}
  },
  {
   "cell_type": "code",
   "execution_count": 2,
   "source": [
    "g_rparaim = pd.read_csv(gdb+'geof/recortado/g_rparaim')"
   ],
   "outputs": [],
   "metadata": {}
  },
  {
   "cell_type": "code",
   "execution_count": 3,
   "source": [
    "g_rparaim.sort_values('LATITUDE')"
   ],
   "outputs": [
    {
     "output_type": "execute_result",
     "data": {
      "text/plain": [
       "               X           Y     MDT  KPERC    eU    eth    CTCOR  LONGITUDE  \\\n",
       "37611  523111.29  8784013.32  484.62   0.37  1.27   7.40   695.04 -44.788444   \n",
       "51744  533602.25  8784004.71  452.52   0.48  0.47   7.41   625.33 -44.692412   \n",
       "65711  543613.15  8783993.73  452.72   0.22  0.41   5.58   436.27 -44.600776   \n",
       "62911  541130.10  8783998.16  443.86   0.15  0.49   3.56   310.58 -44.623504   \n",
       "32024  519113.19  8784018.60  516.49   0.85  1.52   4.85   726.11 -44.825041   \n",
       "...          ...         ...     ...    ...   ...    ...      ...        ...   \n",
       "17444  509093.55  8839297.36  426.09   0.12  1.28   8.20   668.69 -44.916896   \n",
       "78993  552606.04  8839259.22  490.75   0.60  1.35  15.88  1256.65 -44.519250   \n",
       "58049  537617.81  8839279.49  437.43   0.46  0.87   8.99   759.14 -44.656221   \n",
       "43343  527623.79  8839292.72  441.65   0.27  1.92  14.35  1145.37 -44.747553   \n",
       "14212  507124.51  8839303.77  438.31   0.21  1.47   8.92   760.91 -44.934891   \n",
       "\n",
       "        LATITUDE  \n",
       "37611 -10.999992  \n",
       "51744 -10.999988  \n",
       "65711 -10.999980  \n",
       "62911 -10.999969  \n",
       "32024 -10.999967  \n",
       "...          ...  \n",
       "17444 -10.500057  \n",
       "78993 -10.500049  \n",
       "58049 -10.500044  \n",
       "43343 -10.500010  \n",
       "14212 -10.500004  \n",
       "\n",
       "[81725 rows x 9 columns]"
      ],
      "text/html": [
       "<div>\n",
       "<style scoped>\n",
       "    .dataframe tbody tr th:only-of-type {\n",
       "        vertical-align: middle;\n",
       "    }\n",
       "\n",
       "    .dataframe tbody tr th {\n",
       "        vertical-align: top;\n",
       "    }\n",
       "\n",
       "    .dataframe thead th {\n",
       "        text-align: right;\n",
       "    }\n",
       "</style>\n",
       "<table border=\"1\" class=\"dataframe\">\n",
       "  <thead>\n",
       "    <tr style=\"text-align: right;\">\n",
       "      <th></th>\n",
       "      <th>X</th>\n",
       "      <th>Y</th>\n",
       "      <th>MDT</th>\n",
       "      <th>KPERC</th>\n",
       "      <th>eU</th>\n",
       "      <th>eth</th>\n",
       "      <th>CTCOR</th>\n",
       "      <th>LONGITUDE</th>\n",
       "      <th>LATITUDE</th>\n",
       "    </tr>\n",
       "  </thead>\n",
       "  <tbody>\n",
       "    <tr>\n",
       "      <th>37611</th>\n",
       "      <td>523111.29</td>\n",
       "      <td>8784013.32</td>\n",
       "      <td>484.62</td>\n",
       "      <td>0.37</td>\n",
       "      <td>1.27</td>\n",
       "      <td>7.40</td>\n",
       "      <td>695.04</td>\n",
       "      <td>-44.788444</td>\n",
       "      <td>-10.999992</td>\n",
       "    </tr>\n",
       "    <tr>\n",
       "      <th>51744</th>\n",
       "      <td>533602.25</td>\n",
       "      <td>8784004.71</td>\n",
       "      <td>452.52</td>\n",
       "      <td>0.48</td>\n",
       "      <td>0.47</td>\n",
       "      <td>7.41</td>\n",
       "      <td>625.33</td>\n",
       "      <td>-44.692412</td>\n",
       "      <td>-10.999988</td>\n",
       "    </tr>\n",
       "    <tr>\n",
       "      <th>65711</th>\n",
       "      <td>543613.15</td>\n",
       "      <td>8783993.73</td>\n",
       "      <td>452.72</td>\n",
       "      <td>0.22</td>\n",
       "      <td>0.41</td>\n",
       "      <td>5.58</td>\n",
       "      <td>436.27</td>\n",
       "      <td>-44.600776</td>\n",
       "      <td>-10.999980</td>\n",
       "    </tr>\n",
       "    <tr>\n",
       "      <th>62911</th>\n",
       "      <td>541130.10</td>\n",
       "      <td>8783998.16</td>\n",
       "      <td>443.86</td>\n",
       "      <td>0.15</td>\n",
       "      <td>0.49</td>\n",
       "      <td>3.56</td>\n",
       "      <td>310.58</td>\n",
       "      <td>-44.623504</td>\n",
       "      <td>-10.999969</td>\n",
       "    </tr>\n",
       "    <tr>\n",
       "      <th>32024</th>\n",
       "      <td>519113.19</td>\n",
       "      <td>8784018.60</td>\n",
       "      <td>516.49</td>\n",
       "      <td>0.85</td>\n",
       "      <td>1.52</td>\n",
       "      <td>4.85</td>\n",
       "      <td>726.11</td>\n",
       "      <td>-44.825041</td>\n",
       "      <td>-10.999967</td>\n",
       "    </tr>\n",
       "    <tr>\n",
       "      <th>...</th>\n",
       "      <td>...</td>\n",
       "      <td>...</td>\n",
       "      <td>...</td>\n",
       "      <td>...</td>\n",
       "      <td>...</td>\n",
       "      <td>...</td>\n",
       "      <td>...</td>\n",
       "      <td>...</td>\n",
       "      <td>...</td>\n",
       "    </tr>\n",
       "    <tr>\n",
       "      <th>17444</th>\n",
       "      <td>509093.55</td>\n",
       "      <td>8839297.36</td>\n",
       "      <td>426.09</td>\n",
       "      <td>0.12</td>\n",
       "      <td>1.28</td>\n",
       "      <td>8.20</td>\n",
       "      <td>668.69</td>\n",
       "      <td>-44.916896</td>\n",
       "      <td>-10.500057</td>\n",
       "    </tr>\n",
       "    <tr>\n",
       "      <th>78993</th>\n",
       "      <td>552606.04</td>\n",
       "      <td>8839259.22</td>\n",
       "      <td>490.75</td>\n",
       "      <td>0.60</td>\n",
       "      <td>1.35</td>\n",
       "      <td>15.88</td>\n",
       "      <td>1256.65</td>\n",
       "      <td>-44.519250</td>\n",
       "      <td>-10.500049</td>\n",
       "    </tr>\n",
       "    <tr>\n",
       "      <th>58049</th>\n",
       "      <td>537617.81</td>\n",
       "      <td>8839279.49</td>\n",
       "      <td>437.43</td>\n",
       "      <td>0.46</td>\n",
       "      <td>0.87</td>\n",
       "      <td>8.99</td>\n",
       "      <td>759.14</td>\n",
       "      <td>-44.656221</td>\n",
       "      <td>-10.500044</td>\n",
       "    </tr>\n",
       "    <tr>\n",
       "      <th>43343</th>\n",
       "      <td>527623.79</td>\n",
       "      <td>8839292.72</td>\n",
       "      <td>441.65</td>\n",
       "      <td>0.27</td>\n",
       "      <td>1.92</td>\n",
       "      <td>14.35</td>\n",
       "      <td>1145.37</td>\n",
       "      <td>-44.747553</td>\n",
       "      <td>-10.500010</td>\n",
       "    </tr>\n",
       "    <tr>\n",
       "      <th>14212</th>\n",
       "      <td>507124.51</td>\n",
       "      <td>8839303.77</td>\n",
       "      <td>438.31</td>\n",
       "      <td>0.21</td>\n",
       "      <td>1.47</td>\n",
       "      <td>8.92</td>\n",
       "      <td>760.91</td>\n",
       "      <td>-44.934891</td>\n",
       "      <td>-10.500004</td>\n",
       "    </tr>\n",
       "  </tbody>\n",
       "</table>\n",
       "<p>81725 rows × 9 columns</p>\n",
       "</div>"
      ]
     },
     "metadata": {},
     "execution_count": 3
    }
   ],
   "metadata": {}
  },
  {
   "cell_type": "code",
   "execution_count": 4,
   "source": [
    "coordinates = (g_rparaim.X.values, g_rparaim.Y.values)\n",
    "coordinates"
   ],
   "outputs": [
    {
     "output_type": "execute_result",
     "data": {
      "text/plain": [
       "(array([500020.25, 500103.83, 500187.24, ..., 554618.94, 554618.52,\n",
       "        554617.97]),\n",
       " array([8786155.43, 8786158.77, 8786161.64, ..., 8839028.43, 8839107.8 ,\n",
       "        8839187.24]))"
      ]
     },
     "metadata": {},
     "execution_count": 4
    }
   ],
   "metadata": {}
  },
  {
   "cell_type": "code",
   "execution_count": 12,
   "source": [
    "plt.figure(figsize=(8,8))\n",
    "plt.scatter(coordinates[0],coordinates[1],\n",
    "            c    = g_rparaim.CTCOR,\n",
    "            cmap = 'hsv',\n",
    "            s    = 2)\n",
    "plt.axis('scaled')\n",
    "plt.colorbar()"
   ],
   "outputs": [
    {
     "output_type": "display_data",
     "data": {
      "text/plain": [
       "Canvas(toolbar=Toolbar(toolitems=[('Home', 'Reset original view', 'home', 'home'), ('Back', 'Back to previous …"
      ],
      "application/vnd.jupyter.widget-view+json": {
       "version_major": 2,
       "version_minor": 0,
       "model_id": "a0a4ce80467e4fdf86f226d3d637967c"
      }
     },
     "metadata": {}
    },
    {
     "output_type": "execute_result",
     "data": {
      "text/plain": [
       "<matplotlib.colorbar.Colorbar at 0x7fbaccc4bca0>"
      ]
     },
     "metadata": {},
     "execution_count": 12
    }
   ],
   "metadata": {}
  },
  {
   "cell_type": "code",
   "execution_count": 6,
   "source": [
    "g_rparaim['geometry'] = [geometry.Point(x,y) for x, y in zip(g_rparaim['LONGITUDE'], g_rparaim['LATITUDE'])]"
   ],
   "outputs": [],
   "metadata": {}
  },
  {
   "cell_type": "code",
   "execution_count": 7,
   "source": [
    "# Block Reduction\n",
    "reducer_median = vd.BlockReduce(np.mean, spacing= 500)\n",
    "b_coords, b_CTCOR = reducer_median.filter(coordinates, g_rparaim.CTCOR)\n",
    "\n",
    "\n",
    "# Ploting the Reduced data\n",
    "plt.figure('Spacing 500m',figsize=(11,11))\n",
    "plt.scatter(b_coords[0],b_coords[1],\n",
    "            c    = b_CTCOR,\n",
    "            cmap = 'magma',\n",
    "            s    = 2)\n",
    "plt.axis('scaled')\n",
    "plt.colorbar()"
   ],
   "outputs": [
    {
     "output_type": "display_data",
     "data": {
      "text/plain": [
       "Canvas(toolbar=Toolbar(toolitems=[('Home', 'Reset original view', 'home', 'home'), ('Back', 'Back to previous …"
      ],
      "application/vnd.jupyter.widget-view+json": {
       "version_major": 2,
       "version_minor": 0,
       "model_id": "b199a605b4f247d38fe76684979f758d"
      }
     },
     "metadata": {}
    },
    {
     "output_type": "execute_result",
     "data": {
      "text/plain": [
       "<matplotlib.colorbar.Colorbar at 0x7fbacdcfc430>"
      ]
     },
     "metadata": {},
     "execution_count": 7
    }
   ],
   "metadata": {}
  },
  {
   "cell_type": "code",
   "execution_count": 8,
   "source": [
    "reducer_mean = vd.BlockReduce(np.mean, spacing= 499)\n",
    "b_coords, b_CTCOR = reducer_mean.filter(coordinates, g_rparaim.CTCOR)\n",
    "\n",
    "plt.figure('Spacing 499',figsize=(16,16))\n",
    "plt.scatter(b_coords[0],b_coords[1],\n",
    "            c    = b_CTCOR,\n",
    "            cmap = 'hsv',\n",
    "            s    = 2)\n",
    "plt.axis('scaled')\n",
    "plt.colorbar()\n"
   ],
   "outputs": [
    {
     "output_type": "display_data",
     "data": {
      "text/plain": [
       "Canvas(toolbar=Toolbar(toolitems=[('Home', 'Reset original view', 'home', 'home'), ('Back', 'Back to previous …"
      ],
      "application/vnd.jupyter.widget-view+json": {
       "version_major": 2,
       "version_minor": 0,
       "model_id": "ea8b196372e1450da11c96cca148a690"
      }
     },
     "metadata": {}
    },
    {
     "output_type": "execute_result",
     "data": {
      "text/plain": [
       "<matplotlib.colorbar.Colorbar at 0x7fbaebc810a0>"
      ]
     },
     "metadata": {},
     "execution_count": 8
    }
   ],
   "metadata": {}
  },
  {
   "cell_type": "code",
   "execution_count": 25,
   "source": [
    "spline = vd.Spline()"
   ],
   "outputs": [],
   "metadata": {}
  },
  {
   "cell_type": "code",
   "execution_count": 26,
   "source": [
    "spline.fit(b_coords, b_CTCOR)"
   ],
   "outputs": [],
   "metadata": {}
  },
  {
   "cell_type": "code",
   "execution_count": null,
   "source": [
    "predicted = spline.predict(coordinates)"
   ],
   "outputs": [],
   "metadata": {}
  },
  {
   "cell_type": "code",
   "execution_count": null,
   "source": [
    "plt.figure(figsize=(8,8))\n",
    "plt.scatter(coordinates[0],coordinates[1],\n",
    "            c=predicted,\n",
    "            cmap='magma',\n",
    "            s=1)\n",
    "plt.axis('scaled')\n",
    "plt.colorbar()"
   ],
   "outputs": [],
   "metadata": {}
  },
  {
   "cell_type": "code",
   "execution_count": null,
   "source": [
    "residuals = g_rparaim.CTCOR - predicted"
   ],
   "outputs": [],
   "metadata": {}
  },
  {
   "cell_type": "code",
   "execution_count": null,
   "source": [
    "scale = vd.maxabs(residuals)\n",
    "\n",
    "plt.figure(figsize=(8,8))\n",
    "plt.scatter(coordinates[0],coordinates[1],\n",
    "            c=residuals,\n",
    "            cmap='RdBu_r',\n",
    "            s=2,\n",
    "            vmin=-scale,vmax=scale)\n",
    "plt.axis('scaled')\n",
    "plt.colorbar()"
   ],
   "outputs": [],
   "metadata": {}
  },
  {
   "cell_type": "code",
   "execution_count": null,
   "source": [
    "region = vd.get_region(coordinates)\n",
    "grid_coords = vd.grid_coordinates(region, spacing = 200,pixel_register=True)"
   ],
   "outputs": [],
   "metadata": {}
  },
  {
   "cell_type": "code",
   "execution_count": null,
   "source": [
    "region"
   ],
   "outputs": [],
   "metadata": {}
  },
  {
   "cell_type": "code",
   "execution_count": null,
   "source": [
    "grid_CTCOR = spline.predict(grid_coords)"
   ],
   "outputs": [],
   "metadata": {}
  },
  {
   "cell_type": "code",
   "execution_count": null,
   "source": [
    "plt.figure(figsize=(8,8))\n",
    "plt.scatter(grid_coords[0], grid_coords[1],\n",
    "            c=grid_CTCOR,\n",
    "            cmap='magma',\n",
    "            s=2)\n",
    "plt.axis('scaled')\n",
    "plt.colorbar()"
   ],
   "outputs": [],
   "metadata": {}
  },
  {
   "cell_type": "code",
   "execution_count": null,
   "source": [
    "grid = spline.grid(spacing=200, data_names=['CTCOR'])\n",
    "grid"
   ],
   "outputs": [],
   "metadata": {}
  },
  {
   "cell_type": "code",
   "execution_count": null,
   "source": [
    "'''\n",
    "vmin= grid.CTCOR.quantile([0.25,0.5,0.75])\n",
    "print(vmin)\n",
    "'''\n",
    "grid.CTCOR.plot(figsize=(12,12),\n",
    "               cmap='hsv',vmin=600, vmax=2000)\n",
    "plt.axis('scaled')"
   ],
   "outputs": [],
   "metadata": {}
  },
  {
   "cell_type": "code",
   "execution_count": null,
   "source": [
    "grid = vd.distance_mask(coordinates, maxdist=1000, grid=grid)\n",
    "grid\n",
    "\n",
    "grid.CTCOR.plot(figsize=(12,12),cmap='hsv')\n",
    "plt.axis('scaled')"
   ],
   "outputs": [],
   "metadata": {}
  },
  {
   "cell_type": "code",
   "execution_count": null,
   "source": [
    "chain = vd.Chain([\n",
    "    ('trend',  vd.Trend(degree=1)),\n",
    "    ('reduce', vd.BlockReduce(np.median, spacing=2000)),\n",
    "    ('spline', vd.Spline())\n",
    "])"
   ],
   "outputs": [],
   "metadata": {}
  },
  {
   "cell_type": "code",
   "execution_count": null,
   "source": [
    "g_rparaim.head()"
   ],
   "outputs": [],
   "metadata": {}
  },
  {
   "cell_type": "code",
   "execution_count": null,
   "source": [
    "chain.fit(coordinates, g_rparaim.KPERC)\n",
    "\n",
    "grid = chain.grid(spacing=400, data_names=['KPERC'])\n",
    "grid_mask = vd.distance_mask(coordinates, maxdist=2000, grid=grid)"
   ],
   "outputs": [],
   "metadata": {}
  },
  {
   "cell_type": "code",
   "execution_count": null,
   "source": [
    "grid_mask"
   ],
   "outputs": [],
   "metadata": {}
  },
  {
   "cell_type": "code",
   "execution_count": null,
   "source": [
    "grid_mask.KPERC.plot(figsize=(8,8), cmap='hsv',vmin=0)\n",
    "plt.axis('scaled')"
   ],
   "outputs": [],
   "metadata": {}
  },
  {
   "cell_type": "markdown",
   "source": [
    "Model Validation"
   ],
   "metadata": {}
  },
  {
   "cell_type": "code",
   "execution_count": null,
   "source": [
    "train, test = vd.train_test_split(coordinates, g_rparaim.CTCOR,\n",
    "                                 test_size = 0.1)"
   ],
   "outputs": [],
   "metadata": {}
  },
  {
   "cell_type": "code",
   "execution_count": null,
   "source": [
    "train"
   ],
   "outputs": [],
   "metadata": {}
  },
  {
   "cell_type": "code",
   "execution_count": null,
   "source": [
    "plt.figure(figsize=(7,7))\n",
    "plt.plot(train[0][0], train[0][1], '.b', markersize=4)\n",
    "plt.plot(test[0][0], test[0][1], '.r', markersize=4)\n",
    "plt.axis('scaled')"
   ],
   "outputs": [],
   "metadata": {}
  },
  {
   "cell_type": "code",
   "execution_count": null,
   "source": [
    "chain_CTCOR.fit(*train)\n",
    "# *train   ---> chain.fit(train[0], train[1])"
   ],
   "outputs": [],
   "metadata": {}
  },
  {
   "cell_type": "code",
   "execution_count": null,
   "source": [
    "chain_CTCOR.score(*test)"
   ],
   "outputs": [],
   "metadata": {}
  },
  {
   "cell_type": "code",
   "execution_count": null,
   "source": [
    "train, test = vd.train_test_split(coordinates, g_rparaim.CTCOR, test_size=0.1, spacing=1000)"
   ],
   "outputs": [],
   "metadata": {}
  },
  {
   "cell_type": "code",
   "execution_count": null,
   "source": [
    "plt.figure(figsize=(7,7))\n",
    "plt.plot(train[0][0], train[0][1], '.b', markersize=3)\n",
    "plt.plot(test[0][0], test[0][1], '.r', markersize=3)\n",
    "plt.axis('scaled')"
   ],
   "outputs": [],
   "metadata": {}
  },
  {
   "cell_type": "code",
   "execution_count": null,
   "source": [
    "chain_CTCOR.fit(*train)"
   ],
   "outputs": [],
   "metadata": {}
  },
  {
   "cell_type": "code",
   "execution_count": null,
   "source": [
    "chain_CTCOR.score(*test)"
   ],
   "outputs": [],
   "metadata": {}
  },
  {
   "cell_type": "code",
   "execution_count": null,
   "source": [
    "cv     = vd.BlockKFold(spacing=1000,\n",
    "                  n_splits=50,\n",
    "                  shuffle=True)"
   ],
   "outputs": [],
   "metadata": {}
  },
  {
   "cell_type": "code",
   "execution_count": null,
   "source": [
    "scores = vd.cross_val_score(chain_CTCOR,\n",
    "                            coordinates,\n",
    "                            g_rparaim.CTCOR,\n",
    "                            cv=cv)"
   ],
   "outputs": [],
   "metadata": {}
  },
  {
   "cell_type": "code",
   "execution_count": null,
   "source": [
    "scores"
   ],
   "outputs": [],
   "metadata": {}
  },
  {
   "cell_type": "code",
   "execution_count": null,
   "source": [
    "plt.figure()\n",
    "plt.hist(scores, bins ='auto')"
   ],
   "outputs": [],
   "metadata": {}
  },
  {
   "cell_type": "code",
   "execution_count": null,
   "source": [
    "geof = CTCOR_grid.to_dataframe()\n",
    "geof.reset_index(inplace=True)"
   ],
   "outputs": [],
   "metadata": {}
  },
  {
   "cell_type": "code",
   "execution_count": null,
   "source": [
    "geof"
   ],
   "outputs": [],
   "metadata": {}
  }
 ],
 "metadata": {
  "interpreter": {
   "hash": "2bc076d9378ac5ac660ba4f6a46900d2ea3732140aaa213526ceb6851acbc3f5"
  },
  "kernelspec": {
   "name": "python3",
   "display_name": "Python 3.8.2 64-bit ('mappingBot': conda)"
  },
  "language_info": {
   "name": "python",
   "version": "3.8.2",
   "mimetype": "text/x-python",
   "codemirror_mode": {
    "name": "ipython",
    "version": 3
   },
   "pygments_lexer": "ipython3",
   "nbconvert_exporter": "python",
   "file_extension": ".py"
  },
  "orig_nbformat": 4
 },
 "nbformat": 4,
 "nbformat_minor": 2
}