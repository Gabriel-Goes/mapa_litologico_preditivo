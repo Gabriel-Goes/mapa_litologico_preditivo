{
 "cells": [
  {
   "cell_type": "code",
   "execution_count": 1,
   "id": "9375da44",
   "metadata": {},
   "outputs": [
    {
     "name": "stdout",
     "output_type": "stream",
     "text": [
      "\n",
      " Diretório raíz: /home/ggrl/geodatabase/\n",
      " Diretório do arquivo: /home/ggrl/geodatabase//home/ggrl/geodatabase/geodatabase.gpkg\n"
     ]
    }
   ],
   "source": [
    "from src import f1_importar_geom as f1\n",
    "from src import f3_dicionario_cartas as f3\n",
    "\n",
    "from src.manipular_cartas import get_region"
   ]
  },
  {
   "cell_type": "code",
   "execution_count": 2,
   "id": "4591a211",
   "metadata": {},
   "outputs": [],
   "source": [
    "import geopandas as gpd\n",
    "import matplotlib.pyplot as plt\n"
   ]
  },
  {
   "cell_type": "markdown",
   "id": "ad94ef3a",
   "metadata": {},
   "source": [
    "### Carregando Área de Estudo\n"
   ]
  },
  {
   "cell_type": "code",
   "execution_count": 12,
   "id": "64ffe9b3",
   "metadata": {},
   "outputs": [
    {
     "name": "stdout",
     "output_type": "stream",
     "text": [
      "# --- Iniciando seleção de área de estudo\n",
      "Lendo Malha Cartogŕafica de 100k\n",
      "\n",
      " Diretório raíz: /home/ggrl/geodatabase/\n",
      " Diretório do arquivo: /home/ggrl/geodatabase/geodatabase.gpkg\n",
      "\n",
      "Selecionando Folhas Cartográficas que contém SF23_YA_III no id\n",
      "\n",
      "EPSG:32724\n",
      "# --- Construindo Dicionario de Cartas\n",
      "1 folha cartográfica selecionada\n",
      "\n"
     ]
    }
   ],
   "source": [
    "dicionario, malha_cartografica = f3.cartas('100k','SF23_YA_III')"
   ]
  },
  {
   "cell_type": "code",
   "execution_count": 13,
   "id": "efe84627",
   "metadata": {},
   "outputs": [
    {
     "name": "stdout",
     "output_type": "stream",
     "text": [
      "dict_keys(['geometry', 'region', 'region_proj', 'raw_data'])\n"
     ]
    },
    {
     "data": {
      "text/plain": [
       "{'SF23_YA_III': ''}"
      ]
     },
     "execution_count": 13,
     "metadata": {},
     "output_type": "execute_result"
    }
   ],
   "source": [
    "print(dicionario.keys())\n",
    "\n",
    "dicionario['raw_data']"
   ]
  },
  {
   "cell_type": "code",
   "execution_count": 14,
   "id": "b2c963c3",
   "metadata": {},
   "outputs": [
    {
     "data": {
      "text/plain": [
       "{'SF23_YA_III': ''}"
      ]
     },
     "execution_count": 14,
     "metadata": {},
     "output_type": "execute_result"
    }
   ],
   "source": [
    "dicionario['raw_data']"
   ]
  },
  {
   "cell_type": "code",
   "execution_count": 15,
   "id": "70950a8c",
   "metadata": {},
   "outputs": [
    {
     "data": {
      "text/plain": [
       "{'SF23_YA_III': (-47.0, -46.5, -22.5, -22.0)}"
      ]
     },
     "execution_count": 15,
     "metadata": {},
     "output_type": "execute_result"
    }
   ],
   "source": [
    "dicionario['region'] "
   ]
  },
  {
   "cell_type": "code",
   "execution_count": 7,
   "id": "9173bfd4",
   "metadata": {},
   "outputs": [],
   "source": [
    "from src.manipular_cartas import get_region"
   ]
  },
  {
   "cell_type": "code",
   "execution_count": 8,
   "id": "d3932b17",
   "metadata": {},
   "outputs": [
    {
     "name": "stdout",
     "output_type": "stream",
     "text": [
      "\n",
      "# - Importando dados litologicos e geofisicos\n",
      "\n",
      " Diretório raíz: /home/ggrl/geodatabase/\n",
      " Diretório do arquivo: /home/ggrl/geodatabase/geodatabase.gpkg\n",
      "\n",
      " Diretório raíz: /home/ggrl/geodatabase/\n",
      " Diretório do arquivo: /home/ggrl/geodatabase/geof/gama_line_1105\n",
      "\n",
      "# - Selecionando Folhas Cartograficas\n",
      "# --- Iniciando seleção de área de estudo\n",
      "Lendo Malha Cartogŕafica de 100k\n",
      "\n",
      " Diretório raíz: /home/ggrl/geodatabase/\n",
      " Diretório do arquivo: /home/ggrl/geodatabase/geodatabase.gpkg\n",
      "\n",
      "Selecionando Folhas Cartográficas que contém SF23_YB_I no id\n",
      "\n",
      "EPSG:32724\n",
      "# --- Construindo Dicionario de Cartas\n",
      "4 folhas cartográfica selecionadas\n",
      "\n",
      "\n",
      "# -- Contruindo dicionario de metadados\n",
      "Listando atributos dos dados geofisicos\n"
     ]
    },
    {
     "name": "stderr",
     "output_type": "stream",
     "text": [
      "100%|███████████████████████████████████████████████████████████████████████████████████████| 12/12 [00:00<00:00, 290934.38it/s]"
     ]
    },
    {
     "name": "stdout",
     "output_type": "stream",
     "text": [
      "# --- # Listagem de dados do aerolevantamento:  \n",
      "Lista de atributos geofísicos = ['KPERC', 'eU', 'eTH', 'UTHRAZAO', 'UKRAZAO', 'MDT', 'THKRAZAO', 'CTCOR']\n",
      "lista de atributos geograficos = ['LATITUDE', 'LONGITUDE']\n",
      "lista de atributos projetados = ['X', 'Y']\n"
     ]
    },
    {
     "name": "stderr",
     "output_type": "stream",
     "text": [
      "\n"
     ]
    },
    {
     "name": "stdout",
     "output_type": "stream",
     "text": [
      "\n",
      "# --- Início da iteração entre as folhas cartográficas #\n"
     ]
    },
    {
     "name": "stderr",
     "output_type": "stream",
     "text": [
      "4it [00:00, 214.67it/s]"
     ]
    },
    {
     "name": "stdout",
     "output_type": "stream",
     "text": [
      "A folha SF23_YB_I possui apenas '0' pontos coletados que devem ser adicionados a folha mais próxima\n",
      " Atualizando dados geofísicos em dic_cartas['raw_data']\n",
      " com 0 pontos de amostragem\n",
      "Folha cartografica sem dados Aerogeofisicos\n",
      "A folha SF23_YB_IV possui apenas '0' pontos coletados que devem ser adicionados a folha mais próxima\n",
      " Atualizando dados geofísicos em dic_cartas['raw_data']\n",
      " com 0 pontos de amostragem\n",
      "Folha cartografica sem dados Aerogeofisicos\n",
      "A folha SF23_YB_II possui apenas '0' pontos coletados que devem ser adicionados a folha mais próxima\n",
      " Atualizando dados geofísicos em dic_cartas['raw_data']\n",
      " com 0 pontos de amostragem\n",
      "Folha cartografica sem dados Aerogeofisicos\n",
      "A folha SF23_YB_III possui apenas '0' pontos coletados que devem ser adicionados a folha mais próxima\n",
      " Atualizando dados geofísicos em dic_cartas['raw_data']\n",
      " com 0 pontos de amostragem\n",
      "Folha cartografica sem dados Aerogeofisicos\n"
     ]
    },
    {
     "name": "stderr",
     "output_type": "stream",
     "text": [
      "\n"
     ]
    }
   ],
   "source": [
    "dicionario, malha_cartografica = get_region('100k','SF23_YB_I','geof/gama_line_1105','litologia_100k')"
   ]
  },
  {
   "cell_type": "code",
   "execution_count": 9,
   "id": "d22def23",
   "metadata": {},
   "outputs": [
    {
     "data": {
      "text/plain": [
       "dict_keys(['geometry', 'region', 'region_proj', 'raw_data', 'litologia'])"
      ]
     },
     "execution_count": 9,
     "metadata": {},
     "output_type": "execute_result"
    }
   ],
   "source": [
    "dicionario.keys()"
   ]
  },
  {
   "cell_type": "code",
   "execution_count": 10,
   "id": "e8bdea8d",
   "metadata": {},
   "outputs": [
    {
     "data": {
      "text/plain": [
       "<AxesSubplot:>"
      ]
     },
     "execution_count": 10,
     "metadata": {},
     "output_type": "execute_result"
    },
    {
     "data": {
      "image/png": "[encoded data removed]",
      "text/plain": [
       "<Figure size 432x288 with 1 Axes>"
      ]
     },
     "metadata": {
      "needs_background": "light"
     },
     "output_type": "display_data"
    }
   ],
   "source": [
    "dicionario['litologia']['SF23_YB_III'].plot()"
   ]
  }
 ],
 "metadata": {
  "kernelspec": {
   "display_name": "Python 3 (ipykernel)",
   "language": "python",
   "name": "python3"
  },
  "language_info": {
   "codemirror_mode": {
    "name": "ipython",
    "version": 3
   },
   "file_extension": ".py",
   "mimetype": "text/x-python",
   "name": "python",
   "nbconvert_exporter": "python",
   "pygments_lexer": "ipython3",
   "version": "3.8.12"
  }
 },
 "nbformat": 4,
 "nbformat_minor": 5
}
