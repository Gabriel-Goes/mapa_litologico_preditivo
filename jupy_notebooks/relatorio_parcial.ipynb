{
 "cells": [
  {
   "cell_type": "markdown",
   "id": "4309b603-172e-443c-ba85-fd2a507a8220",
   "metadata": {
    "tags": []
   },
   "source": [
    "# Relatório Parcial"
   ]
  },
  {
   "cell_type": "markdown",
   "id": "d910b8dc-abaf-42b7-b56a-9f6e9862e11c",
   "metadata": {},
   "source": [
    "## Códigos fonte sendo importados"
   ]
  },
  {
   "cell_type": "code",
   "execution_count": null,
   "id": "733941ce-c608-4085-8107-f929cb8c422a",
   "metadata": {
    "tags": []
   },
   "outputs": [],
   "source": [
    "# imports\n",
    "from src import Build_mc, Upload_litologia\n",
    "\n",
    "import matplotlib.pyplot as plt\n",
    "import geopandas as gpd\n",
    "\n",
    "%matplotlib widget\n",
    "%load_ext autoreload\n",
    "%reload_ext autoreload\n",
    "\n",
    "# ignorando avisos redundantes.\n",
    "import warnings\n",
    "warnings.filterwarnings(\"ignore\")"
   ]
  },
  {
   "cell_type": "markdown",
   "id": "106201db-4636-413b-b3cf-269fcecfcc8c",
   "metadata": {
    "tags": []
   },
   "source": [
    "## RESUMO\n",
    "\n",
    "        A grafita é um bem mineral de importância tecnológica emergente com as novas propriedades descobertas nas últimas décadas no ramo da engenharia de nanomateriais, como no emprego de fabricação de baterias elétricas, supercondutores e fibras leves de alta resistência, e com potencial para fabricação de materiais essenciais para a indústria. Estes novos usos têm aumentado a demanda pela commoditie, trazendo assim, a necessidade de descoberta de novos depósitos economicamente viáveis levando em conta sua localização, volume e grau de pureza. Recentemente, as técnicas de aprendizagem de máquina têm aumentado a viabilidade dos projetos de prospecção mineral devido ao seu baixo custo de execução e sua alta capacidade de correlação de inúmeras variáveis simultaneamente.\n",
    "        Com isto, neste projeto, pretende-se utilizar algoritmos de inteligência computacional e dados de sensores remotos para identificar padrões entre os atributos geofísicos e suas classes litológicas mineralizantes, bem como de suas ocorrências minerais. Assim, desenvolvendo novos mapas litológicos para confrontar os existentes e mapas prospectivos de minério de grafita no sistema de nappes de Socorro–Guaxupé no nordeste do estado de São Paulo, divisa com Minas Gerais."
   ]
  },
  {
   "cell_type": "markdown",
   "id": "b59d99fa-eccb-4f1d-8c40-fc4839873cd3",
   "metadata": {
    "tags": []
   },
   "source": [
    "## I. INTRODUÇÃO\t"
   ]
  },
  {
   "cell_type": "markdown",
   "id": "b598ba4d-f916-41bc-b4ee-544722904a02",
   "metadata": {},
   "source": [
    "### 1.1 APRESENTAÇÃO\n",
    "\n",
    "        A grafita possui grande importância industrial e sua demanda tem aumentado devido aos novos usos com potencial de crescimento ainda maior com a ascensão dos motores elétricos em detrimento dos motores à combustão e a necessidade de baterias de alta capacidade para aqueles. Assim, este material tem se tornado estratégico com os preços da grafita de alto teor (grafita em flocos) ultrapassando a casa dos milhares de dólares por toneladas métricas dependendo do tamanho dos flocos."
   ]
  },
  {
   "cell_type": "markdown",
   "id": "7ea72172-fc57-44a7-96c2-03a77ae79236",
   "metadata": {},
   "source": [
    "### 1.2 OBJETIVOS\n",
    "\n",
    "        Esta pesquisa tem como objetivo a prospecção de áreas potenciais de mineralização de minério de grafita no sistema de nappes de Socorro–Guaxupé com o auxílio das técnicas de aprendizagem de máquina supervisionada e não-supervisionada com dados de sensores aeroportados e em uma segunda etapa caso seja possível será produzido um mapa  co"
   ]
  },
  {
   "cell_type": "markdown",
   "id": "6f5e32a6-4731-4d4b-a035-52b38a3d489e",
   "metadata": {},
   "source": [
    "### 1.3 ÁREA DE ESTUDO\n",
    "        A área de estudo tem como foco os terrenos granulíticos do nordeste de São Paulo, divisa com o estado de Minas Gerais, região em que as rochas sofreram um alto grau de metamorfismo possibilitando a mineralização de grafita, assim como eventos posteriores como intrusões igneas que reativam os processos metamórficos. Nas primeiras etapas foram áreas com ocorrências de minério de grafita e com cobertura aerogeofísica com resolução propícia para identificar regiões anômalas com potêncial exploratório de minério de grafita. E em um na segunda etap\n",
    "        "
   ]
  },
  {
   "cell_type": "code",
   "execution_count": null,
   "id": "6f65a673-070d-4501-a8bd-2f40a8edf413",
   "metadata": {},
   "outputs": [],
   "source": [
    "quadricula = Build_mc(escala='1kk', ID=['SF23','SE23'])\n",
    "\n",
    "for id in quadricula.keys():\n",
    "    SF23 = quadricula[a].keys()\n",
    "    print(f'Chaves da quadricula {list(SF23)}')"
   ]
  },
  {
   "cell_type": "code",
   "execution_count": null,
   "id": "ecd6cda8-fb8a-4612-ab52-b068daa9d76a",
   "metadata": {
    "tags": []
   },
   "outputs": [],
   "source": [
    "Upload_litologia(quadricula,'litologia_1kk')"
   ]
  },
  {
   "cell_type": "code",
   "execution_count": null,
   "id": "abd4c138-d983-4fb7-ac78-c43a6231bea0",
   "metadata": {
    "tags": []
   },
   "outputs": [],
   "source": [
    "Upload_litologia(quadricula,'litologia_100k')"
   ]
  },
  {
   "cell_type": "code",
   "execution_count": null,
   "id": "65e96bf0-2482-4b5b-91b5-3524fc744953",
   "metadata": {},
   "outputs": [],
   "source": [
    "Upload_litologia(quadricula,'litologia_50k')"
   ]
  },
  {
   "cell_type": "markdown",
   "id": "5b756394-977f-41f6-8be8-16e78c111135",
   "metadata": {},
   "source": [
    "## Analizando as características geológicas "
   ]
  },
  {
   "cell_type": "code",
   "execution_count": null,
   "id": "594be2a8-b394-4674-9753-c040fd070df5",
   "metadata": {
    "tags": []
   },
   "outputs": [],
   "source": [
    "lista_folhas = list(quadricula.keys())\n",
    "lista_folhas"
   ]
  },
  {
   "cell_type": "code",
   "execution_count": null,
   "id": "1cc42284-27ce-4b33-816a-053b411c1022",
   "metadata": {
    "tags": []
   },
   "outputs": [],
   "source": [
    "SF23_YA_III = quadricula['SF23_YA']\n",
    "\n",
    "print(SF23_YA_III.keys())\n",
    "print('')\n",
    "\n",
    "print(SF23_YB['folha'])\n",
    "print('')\n",
    "\n",
    "\n",
    "SF23_YB['litologia_1kk'].explore('SIGLA',legend=False)"
   ]
  },
  {
   "cell_type": "code",
   "execution_count": null,
   "id": "a2044d13-0195-4767-bfc7-7b6a8a9e1172",
   "metadata": {},
   "outputs": [],
   "source": [
    "SF23_YA = quadricula['SF23_YA']\n",
    "list(SF23_YA)"
   ]
  },
  {
   "cell_type": "code",
   "execution_count": null,
   "id": "4087f172-c872-4027-ad16-f975100bc201",
   "metadata": {},
   "outputs": [],
   "source": [
    "SF23_YA['litologia_1kk'].explore('SIGLA',legend=False)"
   ]
  },
  {
   "cell_type": "markdown",
   "id": "2a55a3aa-95cf-4090-a82d-42b65939907f",
   "metadata": {
    "tags": []
   },
   "source": [
    "##  II. CONTEXTO GEOLÓGICO        "
   ]
  },
  {
   "cell_type": "markdown",
   "id": "60bbf570-8c7d-4c03-9551-2ec25f6efb46",
   "metadata": {},
   "source": [
    "### 2.1 NAPPE SOCORRO"
   ]
  },
  {
   "cell_type": "markdown",
   "id": "7f8a6087-f507-41f0-9830-c765d9524682",
   "metadata": {},
   "source": [
    "### 2.2 NAPPE GUAXUPÉ"
   ]
  },
  {
   "cell_type": "markdown",
   "id": "be71294f-6167-4458-9ef7-8e0812ec90f1",
   "metadata": {},
   "source": [
    " III. A GRAFITA\t6\n",
    " \n",
    "3.1 APRESENTAÇÃO\t6\n",
    "\n",
    "3.2 OCORRÊNCIA\t6\n",
    "\n",
    "3.3 TIPOS DE MINERALIZAÇÃO DE GRAFITA\t6\n",
    "\n",
    "3.4 GRAFITA NO SISTEMA DE NAPPES SOCORRO –GUAXUPÉ\t6\n",
    "\n",
    " IV. MATERIAIS\t7\n",
    " \n",
    "4.1 APRESENTAÇÃO\t7\n",
    "\n",
    "4.2 PROJETOS AEROGEOFÍSICOS\t7\n",
    "\n",
    "4.2.1 SÃO JOSÉ DOS CAMPOS – RESENDE\t7\n",
    "\n",
    "4.2.2 SÃO PAULO – RIO DE JANEIRO (ÁREA SÃO PAULO)\t7\n",
    "\n",
    "4.2.3 ÁREA 14 MINAS GERAIS – POÇOS DE CALDAS – VARGINHA – ANDRELÂNDIA\t7\n",
    "\n",
    "4.3 FERRAMENTAS\t7\n",
    "\n",
    " V. MÉTODOS\t8\n",
    " \n",
    "5.1 APRESENTAÇÃO\t8\n",
    "\n",
    "5.2 MÉTODO AEROMAGNETOMÉTRICO\t8\n",
    "\n",
    "5.3 PROCESSAMENTO DE DADOS AEROMAGNETOMÉTRICOS\t8\n",
    "\n",
    " 5.3.1 Pré-processamento dos dados aeromagnetométricos\t8\n",
    " \n",
    " 5.3.2 Interpolação dos dados aeromagnetométricos\t8\n",
    " \n",
    " 5.3.3 Amplitude do Sinal Analítico\t8\n",
    " \n",
    " 5.3.4 Gradiente Horizontal Total\t8\n",
    " \n",
    "5.4 MÉTODO AEROGAMAESPECTROMÉTRICO\t8\n",
    "\n",
    "5.5 PROCESSAMENTO DE DADOS AEROGAMAESPECTROMÉTRICOS\t8\n",
    "\n",
    " 5.5.1 Pré-processamento dos dados aerogamaespectrométricos\t8\n",
    " \n",
    " 5.5.2 Interpolação dos dados gama espectrométricos\t8\n",
    " \n",
    " 5.5.3 Mapas ternários\t8\n",
    " \n",
    "\n",
    "5.6 MÉTODOS DE CLASSIFICAÇÃO NÃO-SUPERVISIONADA\t8\n",
    "\n",
    " 5.6.1 SELF-ORGANIZING MAPS (SOM)\t8\n",
    " \n",
    "5.7 MÉTODOS DE CLASSIFICAÇÃO SUPERVISIONADA\t8\n",
    "\n",
    " 5.7.1 RANDOM FORESTS\t8\n",
    " \n",
    " 5.7.1 SUPPORT VECTOR MACHINES\t8\n",
    " \n",
    "VI. RESULTADOS E DISCUSSÕES\t9\n",
    "\n",
    " 6.1 APRESENTAÇÃO\t9\n",
    " \n",
    " \n",
    " 6.2 INTERPRETAÇÃO DOS DADOS AEROMAGNETOMÉTRICOS\t9\n",
    " \n",
    "VII. CONCLUSÕES\t10\n",
    "\n",
    "VIII. BIBLIOGRAFIA\t11\n"
   ]
  }
 ],
 "metadata": {
  "kernelspec": {
   "display_name": "Python 3 (ipykernel)",
   "language": "python",
   "name": "python3"
  },
  "language_info": {
   "codemirror_mode": {
    "name": "ipython",
    "version": 3
   },
   "file_extension": ".py",
   "mimetype": "text/x-python",
   "name": "python",
   "nbconvert_exporter": "python",
   "pygments_lexer": "ipython3",
   "version": "3.10.9"
  }
 },
 "nbformat": 4,
 "nbformat_minor": 5
}
