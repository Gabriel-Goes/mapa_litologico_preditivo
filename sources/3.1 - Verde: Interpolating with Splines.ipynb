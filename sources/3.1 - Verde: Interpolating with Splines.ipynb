{
 "cells": [
  {
   "cell_type": "code",
   "execution_count": 4,
   "source": [
    "import verde as vd\n",
    "import pandas as pd\n",
    "import matplotlib.pyplot as plt\n",
    "import numpy as np\n",
    "\n",
    "import pyproj\n",
    "from shapely import geometry\n",
    "\n",
    "\n",
    "%matplotlib widget\n",
    "\n",
    "gdb = '/home/ggrl/geodatabase/'"
   ],
   "outputs": [],
   "metadata": {}
  },
  {
   "cell_type": "code",
   "execution_count": 2,
   "source": [
    "m_rparaim = pd.read_csv(gdb+'geof/recortado/m_rparaim')"
   ],
   "outputs": [],
   "metadata": {}
  },
  {
   "cell_type": "code",
   "execution_count": 5,
   "source": [
    "g_rparaim = pd.read_csv(gdb+'geof/recortado/g_rparaim')"
   ],
   "outputs": [],
   "metadata": {}
  },
  {
   "cell_type": "code",
   "execution_count": 4,
   "source": [
    "g_rparaim.sort_values('LATITUDE')"
   ],
   "outputs": [
    {
     "output_type": "execute_result",
     "data": {
      "text/plain": [
       "               X           Y     MDT  KPERC    eU    eth    CTCOR  LONGITUDE  \\\n",
       "37611  523111.29  8784013.32  484.62   0.37  1.27   7.40   695.04 -44.788444   \n",
       "51744  533602.25  8784004.71  452.52   0.48  0.47   7.41   625.33 -44.692412   \n",
       "65711  543613.15  8783993.73  452.72   0.22  0.41   5.58   436.27 -44.600776   \n",
       "62911  541130.10  8783998.16  443.86   0.15  0.49   3.56   310.58 -44.623504   \n",
       "32024  519113.19  8784018.60  516.49   0.85  1.52   4.85   726.11 -44.825041   \n",
       "...          ...         ...     ...    ...   ...    ...      ...        ...   \n",
       "17444  509093.55  8839297.36  426.09   0.12  1.28   8.20   668.69 -44.916896   \n",
       "78993  552606.04  8839259.22  490.75   0.60  1.35  15.88  1256.65 -44.519250   \n",
       "58049  537617.81  8839279.49  437.43   0.46  0.87   8.99   759.14 -44.656221   \n",
       "43343  527623.79  8839292.72  441.65   0.27  1.92  14.35  1145.37 -44.747553   \n",
       "14212  507124.51  8839303.77  438.31   0.21  1.47   8.92   760.91 -44.934891   \n",
       "\n",
       "        LATITUDE  \n",
       "37611 -10.999992  \n",
       "51744 -10.999988  \n",
       "65711 -10.999980  \n",
       "62911 -10.999969  \n",
       "32024 -10.999967  \n",
       "...          ...  \n",
       "17444 -10.500057  \n",
       "78993 -10.500049  \n",
       "58049 -10.500044  \n",
       "43343 -10.500010  \n",
       "14212 -10.500004  \n",
       "\n",
       "[81725 rows x 9 columns]"
      ],
      "text/html": [
       "<div>\n",
       "<style scoped>\n",
       "    .dataframe tbody tr th:only-of-type {\n",
       "        vertical-align: middle;\n",
       "    }\n",
       "\n",
       "    .dataframe tbody tr th {\n",
       "        vertical-align: top;\n",
       "    }\n",
       "\n",
       "    .dataframe thead th {\n",
       "        text-align: right;\n",
       "    }\n",
       "</style>\n",
       "<table border=\"1\" class=\"dataframe\">\n",
       "  <thead>\n",
       "    <tr style=\"text-align: right;\">\n",
       "      <th></th>\n",
       "      <th>X</th>\n",
       "      <th>Y</th>\n",
       "      <th>MDT</th>\n",
       "      <th>KPERC</th>\n",
       "      <th>eU</th>\n",
       "      <th>eth</th>\n",
       "      <th>CTCOR</th>\n",
       "      <th>LONGITUDE</th>\n",
       "      <th>LATITUDE</th>\n",
       "    </tr>\n",
       "  </thead>\n",
       "  <tbody>\n",
       "    <tr>\n",
       "      <th>37611</th>\n",
       "      <td>523111.29</td>\n",
       "      <td>8784013.32</td>\n",
       "      <td>484.62</td>\n",
       "      <td>0.37</td>\n",
       "      <td>1.27</td>\n",
       "      <td>7.40</td>\n",
       "      <td>695.04</td>\n",
       "      <td>-44.788444</td>\n",
       "      <td>-10.999992</td>\n",
       "    </tr>\n",
       "    <tr>\n",
       "      <th>51744</th>\n",
       "      <td>533602.25</td>\n",
       "      <td>8784004.71</td>\n",
       "      <td>452.52</td>\n",
       "      <td>0.48</td>\n",
       "      <td>0.47</td>\n",
       "      <td>7.41</td>\n",
       "      <td>625.33</td>\n",
       "      <td>-44.692412</td>\n",
       "      <td>-10.999988</td>\n",
       "    </tr>\n",
       "    <tr>\n",
       "      <th>65711</th>\n",
       "      <td>543613.15</td>\n",
       "      <td>8783993.73</td>\n",
       "      <td>452.72</td>\n",
       "      <td>0.22</td>\n",
       "      <td>0.41</td>\n",
       "      <td>5.58</td>\n",
       "      <td>436.27</td>\n",
       "      <td>-44.600776</td>\n",
       "      <td>-10.999980</td>\n",
       "    </tr>\n",
       "    <tr>\n",
       "      <th>62911</th>\n",
       "      <td>541130.10</td>\n",
       "      <td>8783998.16</td>\n",
       "      <td>443.86</td>\n",
       "      <td>0.15</td>\n",
       "      <td>0.49</td>\n",
       "      <td>3.56</td>\n",
       "      <td>310.58</td>\n",
       "      <td>-44.623504</td>\n",
       "      <td>-10.999969</td>\n",
       "    </tr>\n",
       "    <tr>\n",
       "      <th>32024</th>\n",
       "      <td>519113.19</td>\n",
       "      <td>8784018.60</td>\n",
       "      <td>516.49</td>\n",
       "      <td>0.85</td>\n",
       "      <td>1.52</td>\n",
       "      <td>4.85</td>\n",
       "      <td>726.11</td>\n",
       "      <td>-44.825041</td>\n",
       "      <td>-10.999967</td>\n",
       "    </tr>\n",
       "    <tr>\n",
       "      <th>...</th>\n",
       "      <td>...</td>\n",
       "      <td>...</td>\n",
       "      <td>...</td>\n",
       "      <td>...</td>\n",
       "      <td>...</td>\n",
       "      <td>...</td>\n",
       "      <td>...</td>\n",
       "      <td>...</td>\n",
       "      <td>...</td>\n",
       "    </tr>\n",
       "    <tr>\n",
       "      <th>17444</th>\n",
       "      <td>509093.55</td>\n",
       "      <td>8839297.36</td>\n",
       "      <td>426.09</td>\n",
       "      <td>0.12</td>\n",
       "      <td>1.28</td>\n",
       "      <td>8.20</td>\n",
       "      <td>668.69</td>\n",
       "      <td>-44.916896</td>\n",
       "      <td>-10.500057</td>\n",
       "    </tr>\n",
       "    <tr>\n",
       "      <th>78993</th>\n",
       "      <td>552606.04</td>\n",
       "      <td>8839259.22</td>\n",
       "      <td>490.75</td>\n",
       "      <td>0.60</td>\n",
       "      <td>1.35</td>\n",
       "      <td>15.88</td>\n",
       "      <td>1256.65</td>\n",
       "      <td>-44.519250</td>\n",
       "      <td>-10.500049</td>\n",
       "    </tr>\n",
       "    <tr>\n",
       "      <th>58049</th>\n",
       "      <td>537617.81</td>\n",
       "      <td>8839279.49</td>\n",
       "      <td>437.43</td>\n",
       "      <td>0.46</td>\n",
       "      <td>0.87</td>\n",
       "      <td>8.99</td>\n",
       "      <td>759.14</td>\n",
       "      <td>-44.656221</td>\n",
       "      <td>-10.500044</td>\n",
       "    </tr>\n",
       "    <tr>\n",
       "      <th>43343</th>\n",
       "      <td>527623.79</td>\n",
       "      <td>8839292.72</td>\n",
       "      <td>441.65</td>\n",
       "      <td>0.27</td>\n",
       "      <td>1.92</td>\n",
       "      <td>14.35</td>\n",
       "      <td>1145.37</td>\n",
       "      <td>-44.747553</td>\n",
       "      <td>-10.500010</td>\n",
       "    </tr>\n",
       "    <tr>\n",
       "      <th>14212</th>\n",
       "      <td>507124.51</td>\n",
       "      <td>8839303.77</td>\n",
       "      <td>438.31</td>\n",
       "      <td>0.21</td>\n",
       "      <td>1.47</td>\n",
       "      <td>8.92</td>\n",
       "      <td>760.91</td>\n",
       "      <td>-44.934891</td>\n",
       "      <td>-10.500004</td>\n",
       "    </tr>\n",
       "  </tbody>\n",
       "</table>\n",
       "<p>81725 rows × 9 columns</p>\n",
       "</div>"
      ]
     },
     "metadata": {},
     "execution_count": 4
    }
   ],
   "metadata": {}
  },
  {
   "cell_type": "code",
   "execution_count": 5,
   "source": [
    "m_rparaim.sort_values('MAGIGRF')"
   ],
   "outputs": [
    {
     "output_type": "execute_result",
     "data": {
      "text/plain": [
       "                X           Y     MDT  MAGIGRF  LONGITUDE   LATITUDE\n",
       "578650  537614.77  8824535.33  638.68 -647.075 -44.656101 -10.633392\n",
       "578651  537614.87  8824543.45  638.79 -647.071 -44.656100 -10.633318\n",
       "578649  537614.67  8824527.18  639.01 -646.876 -44.656101 -10.633465\n",
       "578652  537614.97  8824551.58  638.89 -646.872 -44.656099 -10.633244\n",
       "578653  537615.07  8824559.71  639.00 -646.490 -44.656098 -10.633171\n",
       "...           ...         ...     ...      ...        ...        ...\n",
       "582452  538127.30  8823831.81  632.37  327.884 -44.651408 -10.639749\n",
       "582451  538127.60  8823839.42  632.71  328.196 -44.651405 -10.639680\n",
       "582448  538128.51  8823862.25  633.72  328.211 -44.651397 -10.639474\n",
       "582450  538127.90  8823847.03  633.04  328.367 -44.651402 -10.639611\n",
       "582449  538128.20  8823854.64  633.38  328.380 -44.651399 -10.639542\n",
       "\n",
       "[817223 rows x 6 columns]"
      ],
      "text/html": [
       "<div>\n",
       "<style scoped>\n",
       "    .dataframe tbody tr th:only-of-type {\n",
       "        vertical-align: middle;\n",
       "    }\n",
       "\n",
       "    .dataframe tbody tr th {\n",
       "        vertical-align: top;\n",
       "    }\n",
       "\n",
       "    .dataframe thead th {\n",
       "        text-align: right;\n",
       "    }\n",
       "</style>\n",
       "<table border=\"1\" class=\"dataframe\">\n",
       "  <thead>\n",
       "    <tr style=\"text-align: right;\">\n",
       "      <th></th>\n",
       "      <th>X</th>\n",
       "      <th>Y</th>\n",
       "      <th>MDT</th>\n",
       "      <th>MAGIGRF</th>\n",
       "      <th>LONGITUDE</th>\n",
       "      <th>LATITUDE</th>\n",
       "    </tr>\n",
       "  </thead>\n",
       "  <tbody>\n",
       "    <tr>\n",
       "      <th>578650</th>\n",
       "      <td>537614.77</td>\n",
       "      <td>8824535.33</td>\n",
       "      <td>638.68</td>\n",
       "      <td>-647.075</td>\n",
       "      <td>-44.656101</td>\n",
       "      <td>-10.633392</td>\n",
       "    </tr>\n",
       "    <tr>\n",
       "      <th>578651</th>\n",
       "      <td>537614.87</td>\n",
       "      <td>8824543.45</td>\n",
       "      <td>638.79</td>\n",
       "      <td>-647.071</td>\n",
       "      <td>-44.656100</td>\n",
       "      <td>-10.633318</td>\n",
       "    </tr>\n",
       "    <tr>\n",
       "      <th>578649</th>\n",
       "      <td>537614.67</td>\n",
       "      <td>8824527.18</td>\n",
       "      <td>639.01</td>\n",
       "      <td>-646.876</td>\n",
       "      <td>-44.656101</td>\n",
       "      <td>-10.633465</td>\n",
       "    </tr>\n",
       "    <tr>\n",
       "      <th>578652</th>\n",
       "      <td>537614.97</td>\n",
       "      <td>8824551.58</td>\n",
       "      <td>638.89</td>\n",
       "      <td>-646.872</td>\n",
       "      <td>-44.656099</td>\n",
       "      <td>-10.633244</td>\n",
       "    </tr>\n",
       "    <tr>\n",
       "      <th>578653</th>\n",
       "      <td>537615.07</td>\n",
       "      <td>8824559.71</td>\n",
       "      <td>639.00</td>\n",
       "      <td>-646.490</td>\n",
       "      <td>-44.656098</td>\n",
       "      <td>-10.633171</td>\n",
       "    </tr>\n",
       "    <tr>\n",
       "      <th>...</th>\n",
       "      <td>...</td>\n",
       "      <td>...</td>\n",
       "      <td>...</td>\n",
       "      <td>...</td>\n",
       "      <td>...</td>\n",
       "      <td>...</td>\n",
       "    </tr>\n",
       "    <tr>\n",
       "      <th>582452</th>\n",
       "      <td>538127.30</td>\n",
       "      <td>8823831.81</td>\n",
       "      <td>632.37</td>\n",
       "      <td>327.884</td>\n",
       "      <td>-44.651408</td>\n",
       "      <td>-10.639749</td>\n",
       "    </tr>\n",
       "    <tr>\n",
       "      <th>582451</th>\n",
       "      <td>538127.60</td>\n",
       "      <td>8823839.42</td>\n",
       "      <td>632.71</td>\n",
       "      <td>328.196</td>\n",
       "      <td>-44.651405</td>\n",
       "      <td>-10.639680</td>\n",
       "    </tr>\n",
       "    <tr>\n",
       "      <th>582448</th>\n",
       "      <td>538128.51</td>\n",
       "      <td>8823862.25</td>\n",
       "      <td>633.72</td>\n",
       "      <td>328.211</td>\n",
       "      <td>-44.651397</td>\n",
       "      <td>-10.639474</td>\n",
       "    </tr>\n",
       "    <tr>\n",
       "      <th>582450</th>\n",
       "      <td>538127.90</td>\n",
       "      <td>8823847.03</td>\n",
       "      <td>633.04</td>\n",
       "      <td>328.367</td>\n",
       "      <td>-44.651402</td>\n",
       "      <td>-10.639611</td>\n",
       "    </tr>\n",
       "    <tr>\n",
       "      <th>582449</th>\n",
       "      <td>538128.20</td>\n",
       "      <td>8823854.64</td>\n",
       "      <td>633.38</td>\n",
       "      <td>328.380</td>\n",
       "      <td>-44.651399</td>\n",
       "      <td>-10.639542</td>\n",
       "    </tr>\n",
       "  </tbody>\n",
       "</table>\n",
       "<p>817223 rows × 6 columns</p>\n",
       "</div>"
      ]
     },
     "metadata": {},
     "execution_count": 5
    }
   ],
   "metadata": {}
  },
  {
   "cell_type": "code",
   "execution_count": 8,
   "source": [
    "coordinates = (g_rparaim.X.values, g_rparaim.Y.values)\n",
    "coordinates"
   ],
   "outputs": [
    {
     "output_type": "execute_result",
     "data": {
      "text/plain": [
       "(array([500020.25, 500103.83, 500187.24, ..., 554618.94, 554618.52,\n",
       "        554617.97]),\n",
       " array([8786155.43, 8786158.77, 8786161.64, ..., 8839028.43, 8839107.8 ,\n",
       "        8839187.24]))"
      ]
     },
     "metadata": {},
     "execution_count": 8
    }
   ],
   "metadata": {}
  },
  {
   "cell_type": "code",
   "execution_count": 7,
   "source": [
    "plt.figure(figsize=(8,8))\n",
    "plt.scatter(coordinates[0],coordinates[1],\n",
    "            c    = g_rparaim.CTCOR,\n",
    "            cmap = 'magma',\n",
    "            s    = 2)\n",
    "plt.axis('scaled')\n",
    "plt.colorbar()"
   ],
   "outputs": [
    {
     "output_type": "display_data",
     "data": {
      "text/plain": [
       "Canvas(toolbar=Toolbar(toolitems=[('Home', 'Reset original view', 'home', 'home'), ('Back', 'Back to previous …"
      ],
      "application/vnd.jupyter.widget-view+json": {
       "version_major": 2,
       "version_minor": 0,
       "model_id": "c62ffcd70bcb436198dc2f7810542924"
      }
     },
     "metadata": {}
    },
    {
     "output_type": "execute_result",
     "data": {
      "text/plain": [
       "<matplotlib.colorbar.Colorbar at 0x7f6a501d3400>"
      ]
     },
     "metadata": {},
     "execution_count": 7
    }
   ],
   "metadata": {}
  },
  {
   "cell_type": "code",
   "execution_count": 8,
   "source": [
    "g_rparaim['geometry'] = [geometry.Point(x,y) for x, y in zip(g_rparaim['LONGITUDE'], g_rparaim['LATITUDE'])]"
   ],
   "outputs": [],
   "metadata": {}
  },
  {
   "cell_type": "code",
   "execution_count": 9,
   "source": [
    "# Block Reduction\n",
    "reducer_median = vd.BlockReduce(np.median, spacing= 500)\n",
    "b_coords, b_CTCOR = reducer_median.filter(coordinates, g_rparaim.CTCOR)\n",
    "\n",
    "plt.figure(figsize=(11,11))\n",
    "plt.scatter(b_coords[0],b_coords[1],\n",
    "            c    = b_CTCOR,\n",
    "            cmap = 'magma',\n",
    "            s    = 2)\n",
    "plt.axis('scaled')\n",
    "plt.colorbar()"
   ],
   "outputs": [
    {
     "output_type": "display_data",
     "data": {
      "text/plain": [
       "Canvas(toolbar=Toolbar(toolitems=[('Home', 'Reset original view', 'home', 'home'), ('Back', 'Back to previous …"
      ],
      "application/vnd.jupyter.widget-view+json": {
       "version_major": 2,
       "version_minor": 0,
       "model_id": "e912a842291d4224addacd6e53210467"
      }
     },
     "metadata": {}
    },
    {
     "output_type": "execute_result",
     "data": {
      "text/plain": [
       "<matplotlib.colorbar.Colorbar at 0x7f6a45eabc40>"
      ]
     },
     "metadata": {},
     "execution_count": 9
    }
   ],
   "metadata": {}
  },
  {
   "cell_type": "code",
   "execution_count": 12,
   "source": [
    "reducer_mean = vd.BlockReduce(np.mean, spacing= 499)\n",
    "b_coords, b_CTCOR = reducer_mean.filter(coordinates, g_rparaim.CTCOR)\n",
    "\n",
    "plt.figure(figsize=(11,11))\n",
    "plt.scatter(b_coords[0],b_coords[1],\n",
    "            c    = b_CTCOR,\n",
    "            cmap = 'magma',\n",
    "            s    = 2)\n",
    "plt.axis('scaled')\n",
    "plt.colorbar()\n"
   ],
   "outputs": [
    {
     "output_type": "display_data",
     "data": {
      "text/plain": [
       "Canvas(toolbar=Toolbar(toolitems=[('Home', 'Reset original view', 'home', 'home'), ('Back', 'Back to previous …"
      ],
      "application/vnd.jupyter.widget-view+json": {
       "version_major": 2,
       "version_minor": 0,
       "model_id": "ffdcc31abc4845bc8b6d729b036ae8cf"
      }
     },
     "metadata": {}
    },
    {
     "output_type": "execute_result",
     "data": {
      "text/plain": [
       "<matplotlib.colorbar.Colorbar at 0x7f6a4aca4f10>"
      ]
     },
     "metadata": {},
     "execution_count": 12
    }
   ],
   "metadata": {}
  },
  {
   "cell_type": "code",
   "execution_count": 13,
   "source": [
    "reducer_mean = vd.BlockReduce(np.mean, spacing= 1000)\n",
    "b_coords, b_CTCOR = reducer_mean.filter(coordinates, g_rparaim.CTCOR)"
   ],
   "outputs": [],
   "metadata": {}
  },
  {
   "cell_type": "code",
   "execution_count": 14,
   "source": [
    "spline = vd.Spline()"
   ],
   "outputs": [],
   "metadata": {}
  },
  {
   "cell_type": "code",
   "execution_count": 15,
   "source": [
    "spline.fit(b_coords, b_CTCOR)"
   ],
   "outputs": [
    {
     "output_type": "execute_result",
     "data": {
      "text/plain": [
       "Spline()"
      ]
     },
     "metadata": {},
     "execution_count": 15
    }
   ],
   "metadata": {}
  },
  {
   "cell_type": "code",
   "execution_count": 16,
   "source": [
    "predicted = spline.predict(coordinates)"
   ],
   "outputs": [],
   "metadata": {}
  },
  {
   "cell_type": "code",
   "execution_count": 17,
   "source": [
    "plt.figure(figsize=(8,8))\n",
    "plt.scatter(coordinates[0],coordinates[1],\n",
    "            c=predicted,\n",
    "            cmap='magma',\n",
    "            s=1)\n",
    "plt.axis('scaled')\n",
    "plt.colorbar()"
   ],
   "outputs": [
    {
     "output_type": "display_data",
     "data": {
      "text/plain": [
       "Canvas(toolbar=Toolbar(toolitems=[('Home', 'Reset original view', 'home', 'home'), ('Back', 'Back to previous …"
      ],
      "application/vnd.jupyter.widget-view+json": {
       "version_major": 2,
       "version_minor": 0,
       "model_id": "e9738d2d1e9d42b1972e60c73fbff6c6"
      }
     },
     "metadata": {}
    },
    {
     "output_type": "execute_result",
     "data": {
      "text/plain": [
       "<matplotlib.colorbar.Colorbar at 0x7f6a45e13e20>"
      ]
     },
     "metadata": {},
     "execution_count": 17
    }
   ],
   "metadata": {}
  },
  {
   "cell_type": "code",
   "execution_count": 18,
   "source": [
    "residuals = g_rparaim.CTCOR - predicted"
   ],
   "outputs": [],
   "metadata": {}
  },
  {
   "cell_type": "code",
   "execution_count": 19,
   "source": [
    "scale = vd.maxabs(residuals)\n",
    "\n",
    "plt.figure(figsize=(8,8))\n",
    "plt.scatter(coordinates[0],coordinates[1],\n",
    "            c=residuals,\n",
    "            cmap='RdBu_r',\n",
    "            s=2,\n",
    "            vmin=-scale,vmax=scale)\n",
    "plt.axis('scaled')\n",
    "plt.colorbar()"
   ],
   "outputs": [
    {
     "output_type": "display_data",
     "data": {
      "text/plain": [
       "Canvas(toolbar=Toolbar(toolitems=[('Home', 'Reset original view', 'home', 'home'), ('Back', 'Back to previous …"
      ],
      "application/vnd.jupyter.widget-view+json": {
       "version_major": 2,
       "version_minor": 0,
       "model_id": "fbbf36942bef40eb96767d101869adb8"
      }
     },
     "metadata": {}
    },
    {
     "output_type": "execute_result",
     "data": {
      "text/plain": [
       "<matplotlib.colorbar.Colorbar at 0x7f6a47fbfcd0>"
      ]
     },
     "metadata": {},
     "execution_count": 19
    }
   ],
   "metadata": {}
  },
  {
   "cell_type": "code",
   "execution_count": 24,
   "source": [
    "region = vd.get_region(coordinates)\n",
    "grid_coords = vd.grid_coordinates(region, spacing = 200,pixel_register=True)"
   ],
   "outputs": [],
   "metadata": {}
  },
  {
   "cell_type": "code",
   "execution_count": 25,
   "source": [
    "region"
   ],
   "outputs": [
    {
     "output_type": "execute_result",
     "data": {
      "text/plain": [
       "(500005.3, 554693.86, 8783985.23, 8839303.77)"
      ]
     },
     "metadata": {},
     "execution_count": 25
    }
   ],
   "metadata": {}
  },
  {
   "cell_type": "code",
   "execution_count": 26,
   "source": [
    "grid_CTCOR = spline.predict(grid_coords)"
   ],
   "outputs": [],
   "metadata": {}
  },
  {
   "cell_type": "code",
   "execution_count": 27,
   "source": [
    "plt.figure(figsize=(8,8))\n",
    "plt.scatter(grid_coords[0], grid_coords[1],\n",
    "            c=grid_CTCOR,\n",
    "            cmap='magma',\n",
    "            s=2)\n",
    "plt.axis('scaled')\n",
    "plt.colorbar()"
   ],
   "outputs": [
    {
     "output_type": "display_data",
     "data": {
      "text/plain": [
       "Canvas(toolbar=Toolbar(toolitems=[('Home', 'Reset original view', 'home', 'home'), ('Back', 'Back to previous …"
      ],
      "application/vnd.jupyter.widget-view+json": {
       "version_major": 2,
       "version_minor": 0,
       "model_id": "1a37e211892c452a93e5f7fa4a77f5af"
      }
     },
     "metadata": {}
    },
    {
     "output_type": "execute_result",
     "data": {
      "text/plain": [
       "<matplotlib.colorbar.Colorbar at 0x7f6a483e67c0>"
      ]
     },
     "metadata": {},
     "execution_count": 27
    }
   ],
   "metadata": {}
  },
  {
   "cell_type": "code",
   "execution_count": 28,
   "source": [
    "grid = spline.grid(spacing=200, data_names=['CTCOR'])\n",
    "grid"
   ],
   "outputs": [
    {
     "output_type": "execute_result",
     "data": {
      "text/plain": [
       "<xarray.Dataset>\n",
       "Dimensions:   (easting: 271, northing: 273)\n",
       "Coordinates:\n",
       "  * easting   (easting) float64 5.003e+05 5.005e+05 ... 5.542e+05 5.544e+05\n",
       "  * northing  (northing) float64 8.784e+06 8.785e+06 ... 8.839e+06 8.839e+06\n",
       "Data variables:\n",
       "    CTCOR     (northing, easting) float64 1.618e+03 1.614e+03 ... 1.131e+03\n",
       "Attributes:\n",
       "    metadata:  Generated by Spline()"
      ],
      "text/html": [
       "<div><svg style=\"position: absolute; width: 0; height: 0; overflow: hidden\">\n",
       "<defs>\n",
       "<symbol id=\"icon-database\" viewBox=\"0 0 32 32\">\n",
       "<path d=\"M16 0c-8.837 0-16 2.239-16 5v4c0 2.761 7.163 5 16 5s16-2.239 16-5v-4c0-2.761-7.163-5-16-5z\"></path>\n",
       "<path d=\"M16 17c-8.837 0-16-2.239-16-5v6c0 2.761 7.163 5 16 5s16-2.239 16-5v-6c0 2.761-7.163 5-16 5z\"></path>\n",
       "<path d=\"M16 26c-8.837 0-16-2.239-16-5v6c0 2.761 7.163 5 16 5s16-2.239 16-5v-6c0 2.761-7.163 5-16 5z\"></path>\n",
       "</symbol>\n",
       "<symbol id=\"icon-file-text2\" viewBox=\"0 0 32 32\">\n",
       "<path d=\"M28.681 7.159c-0.694-0.947-1.662-2.053-2.724-3.116s-2.169-2.030-3.116-2.724c-1.612-1.182-2.393-1.319-2.841-1.319h-15.5c-1.378 0-2.5 1.121-2.5 2.5v27c0 1.378 1.122 2.5 2.5 2.5h23c1.378 0 2.5-1.122 2.5-2.5v-19.5c0-0.448-0.137-1.23-1.319-2.841zM24.543 5.457c0.959 0.959 1.712 1.825 2.268 2.543h-4.811v-4.811c0.718 0.556 1.584 1.309 2.543 2.268zM28 29.5c0 0.271-0.229 0.5-0.5 0.5h-23c-0.271 0-0.5-0.229-0.5-0.5v-27c0-0.271 0.229-0.5 0.5-0.5 0 0 15.499-0 15.5 0v7c0 0.552 0.448 1 1 1h7v19.5z\"></path>\n",
       "<path d=\"M23 26h-14c-0.552 0-1-0.448-1-1s0.448-1 1-1h14c0.552 0 1 0.448 1 1s-0.448 1-1 1z\"></path>\n",
       "<path d=\"M23 22h-14c-0.552 0-1-0.448-1-1s0.448-1 1-1h14c0.552 0 1 0.448 1 1s-0.448 1-1 1z\"></path>\n",
       "<path d=\"M23 18h-14c-0.552 0-1-0.448-1-1s0.448-1 1-1h14c0.552 0 1 0.448 1 1s-0.448 1-1 1z\"></path>\n",
       "</symbol>\n",
       "</defs>\n",
       "</svg>\n",
       "<style>/* CSS stylesheet for displaying xarray objects in jupyterlab.\n",
       " *\n",
       " */\n",
       "\n",
       ":root {\n",
       "  --xr-font-color0: var(--jp-content-font-color0, rgba(0, 0, 0, 1));\n",
       "  --xr-font-color2: var(--jp-content-font-color2, rgba(0, 0, 0, 0.54));\n",
       "  --xr-font-color3: var(--jp-content-font-color3, rgba(0, 0, 0, 0.38));\n",
       "  --xr-border-color: var(--jp-border-color2, #e0e0e0);\n",
       "  --xr-disabled-color: var(--jp-layout-color3, #bdbdbd);\n",
       "  --xr-background-color: var(--jp-layout-color0, white);\n",
       "  --xr-background-color-row-even: var(--jp-layout-color1, white);\n",
       "  --xr-background-color-row-odd: var(--jp-layout-color2, #eeeeee);\n",
       "}\n",
       "\n",
       "html[theme=dark],\n",
       "body.vscode-dark {\n",
       "  --xr-font-color0: rgba(255, 255, 255, 1);\n",
       "  --xr-font-color2: rgba(255, 255, 255, 0.54);\n",
       "  --xr-font-color3: rgba(255, 255, 255, 0.38);\n",
       "  --xr-border-color: #1F1F1F;\n",
       "  --xr-disabled-color: #515151;\n",
       "  --xr-background-color: #111111;\n",
       "  --xr-background-color-row-even: #111111;\n",
       "  --xr-background-color-row-odd: #313131;\n",
       "}\n",
       "\n",
       ".xr-wrap {\n",
       "  display: block;\n",
       "  min-width: 300px;\n",
       "  max-width: 700px;\n",
       "}\n",
       "\n",
       ".xr-text-repr-fallback {\n",
       "  /* fallback to plain text repr when CSS is not injected (untrusted notebook) */\n",
       "  display: none;\n",
       "}\n",
       "\n",
       ".xr-header {\n",
       "  padding-top: 6px;\n",
       "  padding-bottom: 6px;\n",
       "  margin-bottom: 4px;\n",
       "  border-bottom: solid 1px var(--xr-border-color);\n",
       "}\n",
       "\n",
       ".xr-header > div,\n",
       ".xr-header > ul {\n",
       "  display: inline;\n",
       "  margin-top: 0;\n",
       "  margin-bottom: 0;\n",
       "}\n",
       "\n",
       ".xr-obj-type,\n",
       ".xr-array-name {\n",
       "  margin-left: 2px;\n",
       "  margin-right: 10px;\n",
       "}\n",
       "\n",
       ".xr-obj-type {\n",
       "  color: var(--xr-font-color2);\n",
       "}\n",
       "\n",
       ".xr-sections {\n",
       "  padding-left: 0 !important;\n",
       "  display: grid;\n",
       "  grid-template-columns: 150px auto auto 1fr 20px 20px;\n",
       "}\n",
       "\n",
       ".xr-section-item {\n",
       "  display: contents;\n",
       "}\n",
       "\n",
       ".xr-section-item input {\n",
       "  display: none;\n",
       "}\n",
       "\n",
       ".xr-section-item input + label {\n",
       "  color: var(--xr-disabled-color);\n",
       "}\n",
       "\n",
       ".xr-section-item input:enabled + label {\n",
       "  cursor: pointer;\n",
       "  color: var(--xr-font-color2);\n",
       "}\n",
       "\n",
       ".xr-section-item input:enabled + label:hover {\n",
       "  color: var(--xr-font-color0);\n",
       "}\n",
       "\n",
       ".xr-section-summary {\n",
       "  grid-column: 1;\n",
       "  color: var(--xr-font-color2);\n",
       "  font-weight: 500;\n",
       "}\n",
       "\n",
       ".xr-section-summary > span {\n",
       "  display: inline-block;\n",
       "  padding-left: 0.5em;\n",
       "}\n",
       "\n",
       ".xr-section-summary-in:disabled + label {\n",
       "  color: var(--xr-font-color2);\n",
       "}\n",
       "\n",
       ".xr-section-summary-in + label:before {\n",
       "  display: inline-block;\n",
       "  content: '►';\n",
       "  font-size: 11px;\n",
       "  width: 15px;\n",
       "  text-align: center;\n",
       "}\n",
       "\n",
       ".xr-section-summary-in:disabled + label:before {\n",
       "  color: var(--xr-disabled-color);\n",
       "}\n",
       "\n",
       ".xr-section-summary-in:checked + label:before {\n",
       "  content: '▼';\n",
       "}\n",
       "\n",
       ".xr-section-summary-in:checked + label > span {\n",
       "  display: none;\n",
       "}\n",
       "\n",
       ".xr-section-summary,\n",
       ".xr-section-inline-details {\n",
       "  padding-top: 4px;\n",
       "  padding-bottom: 4px;\n",
       "}\n",
       "\n",
       ".xr-section-inline-details {\n",
       "  grid-column: 2 / -1;\n",
       "}\n",
       "\n",
       ".xr-section-details {\n",
       "  display: none;\n",
       "  grid-column: 1 / -1;\n",
       "  margin-bottom: 5px;\n",
       "}\n",
       "\n",
       ".xr-section-summary-in:checked ~ .xr-section-details {\n",
       "  display: contents;\n",
       "}\n",
       "\n",
       ".xr-array-wrap {\n",
       "  grid-column: 1 / -1;\n",
       "  display: grid;\n",
       "  grid-template-columns: 20px auto;\n",
       "}\n",
       "\n",
       ".xr-array-wrap > label {\n",
       "  grid-column: 1;\n",
       "  vertical-align: top;\n",
       "}\n",
       "\n",
       ".xr-preview {\n",
       "  color: var(--xr-font-color3);\n",
       "}\n",
       "\n",
       ".xr-array-preview,\n",
       ".xr-array-data {\n",
       "  padding: 0 5px !important;\n",
       "  grid-column: 2;\n",
       "}\n",
       "\n",
       ".xr-array-data,\n",
       ".xr-array-in:checked ~ .xr-array-preview {\n",
       "  display: none;\n",
       "}\n",
       "\n",
       ".xr-array-in:checked ~ .xr-array-data,\n",
       ".xr-array-preview {\n",
       "  display: inline-block;\n",
       "}\n",
       "\n",
       ".xr-dim-list {\n",
       "  display: inline-block !important;\n",
       "  list-style: none;\n",
       "  padding: 0 !important;\n",
       "  margin: 0;\n",
       "}\n",
       "\n",
       ".xr-dim-list li {\n",
       "  display: inline-block;\n",
       "  padding: 0;\n",
       "  margin: 0;\n",
       "}\n",
       "\n",
       ".xr-dim-list:before {\n",
       "  content: '(';\n",
       "}\n",
       "\n",
       ".xr-dim-list:after {\n",
       "  content: ')';\n",
       "}\n",
       "\n",
       ".xr-dim-list li:not(:last-child):after {\n",
       "  content: ',';\n",
       "  padding-right: 5px;\n",
       "}\n",
       "\n",
       ".xr-has-index {\n",
       "  font-weight: bold;\n",
       "}\n",
       "\n",
       ".xr-var-list,\n",
       ".xr-var-item {\n",
       "  display: contents;\n",
       "}\n",
       "\n",
       ".xr-var-item > div,\n",
       ".xr-var-item label,\n",
       ".xr-var-item > .xr-var-name span {\n",
       "  background-color: var(--xr-background-color-row-even);\n",
       "  margin-bottom: 0;\n",
       "}\n",
       "\n",
       ".xr-var-item > .xr-var-name:hover span {\n",
       "  padding-right: 5px;\n",
       "}\n",
       "\n",
       ".xr-var-list > li:nth-child(odd) > div,\n",
       ".xr-var-list > li:nth-child(odd) > label,\n",
       ".xr-var-list > li:nth-child(odd) > .xr-var-name span {\n",
       "  background-color: var(--xr-background-color-row-odd);\n",
       "}\n",
       "\n",
       ".xr-var-name {\n",
       "  grid-column: 1;\n",
       "}\n",
       "\n",
       ".xr-var-dims {\n",
       "  grid-column: 2;\n",
       "}\n",
       "\n",
       ".xr-var-dtype {\n",
       "  grid-column: 3;\n",
       "  text-align: right;\n",
       "  color: var(--xr-font-color2);\n",
       "}\n",
       "\n",
       ".xr-var-preview {\n",
       "  grid-column: 4;\n",
       "}\n",
       "\n",
       ".xr-var-name,\n",
       ".xr-var-dims,\n",
       ".xr-var-dtype,\n",
       ".xr-preview,\n",
       ".xr-attrs dt {\n",
       "  white-space: nowrap;\n",
       "  overflow: hidden;\n",
       "  text-overflow: ellipsis;\n",
       "  padding-right: 10px;\n",
       "}\n",
       "\n",
       ".xr-var-name:hover,\n",
       ".xr-var-dims:hover,\n",
       ".xr-var-dtype:hover,\n",
       ".xr-attrs dt:hover {\n",
       "  overflow: visible;\n",
       "  width: auto;\n",
       "  z-index: 1;\n",
       "}\n",
       "\n",
       ".xr-var-attrs,\n",
       ".xr-var-data {\n",
       "  display: none;\n",
       "  background-color: var(--xr-background-color) !important;\n",
       "  padding-bottom: 5px !important;\n",
       "}\n",
       "\n",
       ".xr-var-attrs-in:checked ~ .xr-var-attrs,\n",
       ".xr-var-data-in:checked ~ .xr-var-data {\n",
       "  display: block;\n",
       "}\n",
       "\n",
       ".xr-var-data > table {\n",
       "  float: right;\n",
       "}\n",
       "\n",
       ".xr-var-name span,\n",
       ".xr-var-data,\n",
       ".xr-attrs {\n",
       "  padding-left: 25px !important;\n",
       "}\n",
       "\n",
       ".xr-attrs,\n",
       ".xr-var-attrs,\n",
       ".xr-var-data {\n",
       "  grid-column: 1 / -1;\n",
       "}\n",
       "\n",
       "dl.xr-attrs {\n",
       "  padding: 0;\n",
       "  margin: 0;\n",
       "  display: grid;\n",
       "  grid-template-columns: 125px auto;\n",
       "}\n",
       "\n",
       ".xr-attrs dt,\n",
       ".xr-attrs dd {\n",
       "  padding: 0;\n",
       "  margin: 0;\n",
       "  float: left;\n",
       "  padding-right: 10px;\n",
       "  width: auto;\n",
       "}\n",
       "\n",
       ".xr-attrs dt {\n",
       "  font-weight: normal;\n",
       "  grid-column: 1;\n",
       "}\n",
       "\n",
       ".xr-attrs dt:hover span {\n",
       "  display: inline-block;\n",
       "  background: var(--xr-background-color);\n",
       "  padding-right: 10px;\n",
       "}\n",
       "\n",
       ".xr-attrs dd {\n",
       "  grid-column: 2;\n",
       "  white-space: pre-wrap;\n",
       "  word-break: break-all;\n",
       "}\n",
       "\n",
       ".xr-icon-database,\n",
       ".xr-icon-file-text2 {\n",
       "  display: inline-block;\n",
       "  vertical-align: middle;\n",
       "  width: 1em;\n",
       "  height: 1.5em !important;\n",
       "  stroke-width: 0;\n",
       "  stroke: currentColor;\n",
       "  fill: currentColor;\n",
       "}\n",
       "</style><pre class='xr-text-repr-fallback'>&lt;xarray.Dataset&gt;\n",
       "Dimensions:   (easting: 271, northing: 273)\n",
       "Coordinates:\n",
       "  * easting   (easting) float64 5.003e+05 5.005e+05 ... 5.542e+05 5.544e+05\n",
       "  * northing  (northing) float64 8.784e+06 8.785e+06 ... 8.839e+06 8.839e+06\n",
       "Data variables:\n",
       "    CTCOR     (northing, easting) float64 1.618e+03 1.614e+03 ... 1.131e+03\n",
       "Attributes:\n",
       "    metadata:  Generated by Spline()</pre><div class='xr-wrap' hidden><div class='xr-header'><div class='xr-obj-type'>xarray.Dataset</div></div><ul class='xr-sections'><li class='xr-section-item'><input id='section-1977a0b4-64e4-4740-af14-1ae8e305cc79' class='xr-section-summary-in' type='checkbox' disabled ><label for='section-1977a0b4-64e4-4740-af14-1ae8e305cc79' class='xr-section-summary'  title='Expand/collapse section'>Dimensions:</label><div class='xr-section-inline-details'><ul class='xr-dim-list'><li><span class='xr-has-index'>easting</span>: 271</li><li><span class='xr-has-index'>northing</span>: 273</li></ul></div><div class='xr-section-details'></div></li><li class='xr-section-item'><input id='section-3469abc5-59d3-4cf3-83ed-e133aea36233' class='xr-section-summary-in' type='checkbox'  checked><label for='section-3469abc5-59d3-4cf3-83ed-e133aea36233' class='xr-section-summary' >Coordinates: <span>(2)</span></label><div class='xr-section-inline-details'></div><div class='xr-section-details'><ul class='xr-var-list'><li class='xr-var-item'><div class='xr-var-name'><span class='xr-has-index'>easting</span></div><div class='xr-var-dims'>(easting)</div><div class='xr-var-dtype'>float64</div><div class='xr-var-preview xr-preview'>5.003e+05 5.005e+05 ... 5.544e+05</div><input id='attrs-1d1075a3-19b6-4741-9fc0-3a0268dca26e' class='xr-var-attrs-in' type='checkbox' disabled><label for='attrs-1d1075a3-19b6-4741-9fc0-3a0268dca26e' title='Show/Hide attributes'><svg class='icon xr-icon-file-text2'><use xlink:href='#icon-file-text2'></use></svg></label><input id='data-08ad844e-7253-48f4-b3ed-3c1dd276adc8' class='xr-var-data-in' type='checkbox'><label for='data-08ad844e-7253-48f4-b3ed-3c1dd276adc8' title='Show/Hide data repr'><svg class='icon xr-icon-database'><use xlink:href='#icon-database'></use></svg></label><div class='xr-var-attrs'><dl class='xr-attrs'></dl></div><div class='xr-var-data'><pre>array([500325.285   , 500525.575281, 500725.865561, ..., 554003.080208,\n",
       "       554203.370489, 554403.660769])</pre></div></li><li class='xr-var-item'><div class='xr-var-name'><span class='xr-has-index'>northing</span></div><div class='xr-var-dims'>(northing)</div><div class='xr-var-dtype'>float64</div><div class='xr-var-preview xr-preview'>8.784e+06 8.785e+06 ... 8.839e+06</div><input id='attrs-b4c07b95-1dc5-40be-9a7e-279502f19e50' class='xr-var-attrs-in' type='checkbox' disabled><label for='attrs-b4c07b95-1dc5-40be-9a7e-279502f19e50' title='Show/Hide attributes'><svg class='icon xr-icon-file-text2'><use xlink:href='#icon-file-text2'></use></svg></label><input id='data-d14bcda5-ca7c-4f24-ad9d-bba9253073a2' class='xr-var-data-in' type='checkbox'><label for='data-d14bcda5-ca7c-4f24-ad9d-bba9253073a2' title='Show/Hide data repr'><svg class='icon xr-icon-database'><use xlink:href='#icon-database'></use></svg></label><div class='xr-var-attrs'><dl class='xr-attrs'></dl></div><div class='xr-var-data'><pre>array([8784473.0156  , 8784672.819517, 8784872.623435, ..., 8838420.073276,\n",
       "       8838619.877194, 8838819.681111])</pre></div></li></ul></div></li><li class='xr-section-item'><input id='section-e585e4b1-80c3-431a-89e5-73201d447c32' class='xr-section-summary-in' type='checkbox'  checked><label for='section-e585e4b1-80c3-431a-89e5-73201d447c32' class='xr-section-summary' >Data variables: <span>(1)</span></label><div class='xr-section-inline-details'></div><div class='xr-section-details'><ul class='xr-var-list'><li class='xr-var-item'><div class='xr-var-name'><span>CTCOR</span></div><div class='xr-var-dims'>(northing, easting)</div><div class='xr-var-dtype'>float64</div><div class='xr-var-preview xr-preview'>1.618e+03 1.614e+03 ... 1.131e+03</div><input id='attrs-3e25e8b6-2fb1-4890-9306-ad30a0ea6fde' class='xr-var-attrs-in' type='checkbox' ><label for='attrs-3e25e8b6-2fb1-4890-9306-ad30a0ea6fde' title='Show/Hide attributes'><svg class='icon xr-icon-file-text2'><use xlink:href='#icon-file-text2'></use></svg></label><input id='data-b1195096-3ff9-43ff-b713-0b3992078d40' class='xr-var-data-in' type='checkbox'><label for='data-b1195096-3ff9-43ff-b713-0b3992078d40' title='Show/Hide data repr'><svg class='icon xr-icon-database'><use xlink:href='#icon-database'></use></svg></label><div class='xr-var-attrs'><dl class='xr-attrs'><dt><span>metadata :</span></dt><dd>Generated by Spline()</dd></dl></div><div class='xr-var-data'><pre>array([[1617.58206816, 1613.96615717, 1593.6057046 , ...,  472.92065748,\n",
       "         459.05764648,  457.88941387],\n",
       "       [1582.00476704, 1587.54463189, 1580.33536508, ...,  517.2885697 ,\n",
       "         508.42410147,  509.0705187 ],\n",
       "       [1532.35828034, 1548.4272347 , 1558.90818578, ...,  570.91904266,\n",
       "         569.64340271,  571.43977964],\n",
       "       ...,\n",
       "       [ 543.66057626,  530.45771979,  515.19811114, ..., 1129.92529674,\n",
       "        1128.72480669, 1130.27710152],\n",
       "       [ 520.2168754 ,  507.69455057,  494.75477715, ..., 1127.44104115,\n",
       "        1128.71101356, 1131.07054596],\n",
       "       [ 499.4395662 ,  487.84947058,  477.07947732, ..., 1124.90794769,\n",
       "        1127.92206454, 1131.04070548]])</pre></div></li></ul></div></li><li class='xr-section-item'><input id='section-2d68f747-a7a5-440c-a448-35ea1c3d596d' class='xr-section-summary-in' type='checkbox'  checked><label for='section-2d68f747-a7a5-440c-a448-35ea1c3d596d' class='xr-section-summary' >Attributes: <span>(1)</span></label><div class='xr-section-inline-details'></div><div class='xr-section-details'><dl class='xr-attrs'><dt><span>metadata :</span></dt><dd>Generated by Spline()</dd></dl></div></li></ul></div></div>"
      ]
     },
     "metadata": {},
     "execution_count": 28
    }
   ],
   "metadata": {}
  },
  {
   "cell_type": "code",
   "execution_count": 33,
   "source": [
    "'''\n",
    "vmin= grid.CTCOR.quantile([0.25,0.5,0.75])\n",
    "print(vmin)\n",
    "'''\n",
    "grid.CTCOR.plot(figsize=(12,12),\n",
    "               cmap='hsv',vmin=600, vmax=2000)\n",
    "plt.axis('scaled')"
   ],
   "outputs": [
    {
     "output_type": "display_data",
     "data": {
      "text/plain": [
       "Canvas(toolbar=Toolbar(toolitems=[('Home', 'Reset original view', 'home', 'home'), ('Back', 'Back to previous …"
      ],
      "application/vnd.jupyter.widget-view+json": {
       "version_major": 2,
       "version_minor": 0,
       "model_id": "2782221239684f5ea61fd6147dafe11b"
      }
     },
     "metadata": {}
    },
    {
     "output_type": "execute_result",
     "data": {
      "text/plain": [
       "(500225.1398596865, 554503.805909544, 8784373.113641337, 8838919.583069772)"
      ]
     },
     "metadata": {},
     "execution_count": 33
    }
   ],
   "metadata": {}
  },
  {
   "cell_type": "code",
   "execution_count": 35,
   "source": [
    "grid = vd.distance_mask(coordinates, maxdist=1000, grid=grid)\n",
    "grid\n",
    "\n",
    "grid.CTCOR.plot(figsize=(12,12),cmap='hsv')\n",
    "plt.axis('scaled')"
   ],
   "outputs": [
    {
     "output_type": "display_data",
     "data": {
      "text/plain": [
       "Canvas(toolbar=Toolbar(toolitems=[('Home', 'Reset original view', 'home', 'home'), ('Back', 'Back to previous …"
      ],
      "application/vnd.jupyter.widget-view+json": {
       "version_major": 2,
       "version_minor": 0,
       "model_id": "3c2acad3b7ae4420b065f67abfeb8d8e"
      }
     },
     "metadata": {}
    },
    {
     "output_type": "execute_result",
     "data": {
      "text/plain": [
       "(500225.1398596865, 554503.805909544, 8784373.113641337, 8838919.583069772)"
      ]
     },
     "metadata": {},
     "execution_count": 35
    }
   ],
   "metadata": {}
  },
  {
   "cell_type": "code",
   "execution_count": 6,
   "source": [
    "chain = vd.Chain([\n",
    "    ('trend',  vd.Trend(degree=1)),\n",
    "    ('reduce', vd.BlockReduce(np.median, spacing=2000)),\n",
    "    ('spline', vd.Spline())\n",
    "])"
   ],
   "outputs": [],
   "metadata": {}
  },
  {
   "cell_type": "code",
   "execution_count": 47,
   "source": [
    "g_rparaim.head()"
   ],
   "outputs": [
    {
     "output_type": "execute_result",
     "data": {
      "text/plain": [
       "           X           Y     MDT  KPERC    eU    eth    CTCOR  LONGITUDE  \\\n",
       "0  500020.25  8786155.43  477.68   0.35  1.25  16.12  1182.85 -44.999815   \n",
       "1  500103.83  8786158.77  476.83   0.63  1.24  14.00  1143.89 -44.999050   \n",
       "2  500187.24  8786161.64  476.58   1.02  1.38  12.02  1165.74 -44.998286   \n",
       "3  500270.50  8786163.59  470.91   1.41  1.51  11.31  1257.68 -44.997524   \n",
       "4  500353.54  8786165.69  464.63   1.71  1.65  11.14  1357.00 -44.996764   \n",
       "\n",
       "    LATITUDE                           geometry  \n",
       "0 -10.980692   POINT (-44.99981462 -10.9806923)  \n",
       "1 -10.980662  POINT (-44.99904958 -10.98066207)  \n",
       "2 -10.980636   POINT (-44.99828615 -10.9806361)  \n",
       "3 -10.980618  POINT (-44.99752405 -10.98061848)  \n",
       "4 -10.980599  POINT (-44.99676395 -10.98059948)  "
      ],
      "text/html": [
       "<div>\n",
       "<style scoped>\n",
       "    .dataframe tbody tr th:only-of-type {\n",
       "        vertical-align: middle;\n",
       "    }\n",
       "\n",
       "    .dataframe tbody tr th {\n",
       "        vertical-align: top;\n",
       "    }\n",
       "\n",
       "    .dataframe thead th {\n",
       "        text-align: right;\n",
       "    }\n",
       "</style>\n",
       "<table border=\"1\" class=\"dataframe\">\n",
       "  <thead>\n",
       "    <tr style=\"text-align: right;\">\n",
       "      <th></th>\n",
       "      <th>X</th>\n",
       "      <th>Y</th>\n",
       "      <th>MDT</th>\n",
       "      <th>KPERC</th>\n",
       "      <th>eU</th>\n",
       "      <th>eth</th>\n",
       "      <th>CTCOR</th>\n",
       "      <th>LONGITUDE</th>\n",
       "      <th>LATITUDE</th>\n",
       "      <th>geometry</th>\n",
       "    </tr>\n",
       "  </thead>\n",
       "  <tbody>\n",
       "    <tr>\n",
       "      <th>0</th>\n",
       "      <td>500020.25</td>\n",
       "      <td>8786155.43</td>\n",
       "      <td>477.68</td>\n",
       "      <td>0.35</td>\n",
       "      <td>1.25</td>\n",
       "      <td>16.12</td>\n",
       "      <td>1182.85</td>\n",
       "      <td>-44.999815</td>\n",
       "      <td>-10.980692</td>\n",
       "      <td>POINT (-44.99981462 -10.9806923)</td>\n",
       "    </tr>\n",
       "    <tr>\n",
       "      <th>1</th>\n",
       "      <td>500103.83</td>\n",
       "      <td>8786158.77</td>\n",
       "      <td>476.83</td>\n",
       "      <td>0.63</td>\n",
       "      <td>1.24</td>\n",
       "      <td>14.00</td>\n",
       "      <td>1143.89</td>\n",
       "      <td>-44.999050</td>\n",
       "      <td>-10.980662</td>\n",
       "      <td>POINT (-44.99904958 -10.98066207)</td>\n",
       "    </tr>\n",
       "    <tr>\n",
       "      <th>2</th>\n",
       "      <td>500187.24</td>\n",
       "      <td>8786161.64</td>\n",
       "      <td>476.58</td>\n",
       "      <td>1.02</td>\n",
       "      <td>1.38</td>\n",
       "      <td>12.02</td>\n",
       "      <td>1165.74</td>\n",
       "      <td>-44.998286</td>\n",
       "      <td>-10.980636</td>\n",
       "      <td>POINT (-44.99828615 -10.9806361)</td>\n",
       "    </tr>\n",
       "    <tr>\n",
       "      <th>3</th>\n",
       "      <td>500270.50</td>\n",
       "      <td>8786163.59</td>\n",
       "      <td>470.91</td>\n",
       "      <td>1.41</td>\n",
       "      <td>1.51</td>\n",
       "      <td>11.31</td>\n",
       "      <td>1257.68</td>\n",
       "      <td>-44.997524</td>\n",
       "      <td>-10.980618</td>\n",
       "      <td>POINT (-44.99752405 -10.98061848)</td>\n",
       "    </tr>\n",
       "    <tr>\n",
       "      <th>4</th>\n",
       "      <td>500353.54</td>\n",
       "      <td>8786165.69</td>\n",
       "      <td>464.63</td>\n",
       "      <td>1.71</td>\n",
       "      <td>1.65</td>\n",
       "      <td>11.14</td>\n",
       "      <td>1357.00</td>\n",
       "      <td>-44.996764</td>\n",
       "      <td>-10.980599</td>\n",
       "      <td>POINT (-44.99676395 -10.98059948)</td>\n",
       "    </tr>\n",
       "  </tbody>\n",
       "</table>\n",
       "</div>"
      ]
     },
     "metadata": {},
     "execution_count": 47
    }
   ],
   "metadata": {}
  },
  {
   "cell_type": "code",
   "execution_count": 9,
   "source": [
    "chain.fit(coordinates, g_rparaim.KPERC)\n",
    "\n",
    "grid = chain.grid(spacing=400, data_names=['KPERC'])\n",
    "grid_mask = vd.distance_mask(coordinates, maxdist=2000, grid=grid)"
   ],
   "outputs": [],
   "metadata": {}
  },
  {
   "cell_type": "code",
   "execution_count": 10,
   "source": [
    "grid_mask"
   ],
   "outputs": [
    {
     "output_type": "execute_result",
     "data": {
      "text/plain": [
       "<xarray.Dataset>\n",
       "Dimensions:   (easting: 138, northing: 139)\n",
       "Coordinates:\n",
       "  * easting   (easting) float64 5e+05 5.004e+05 ... 5.543e+05 5.547e+05\n",
       "  * northing  (northing) float64 8.784e+06 8.784e+06 ... 8.839e+06 8.839e+06\n",
       "Data variables:\n",
       "    KPERC     (northing, easting) float64 1.391 1.288 1.177 ... 0.6268 0.6577\n",
       "Attributes:\n",
       "    metadata:  Generated by Chain(steps=[('trend', Trend(degree=1)),\\n       ..."
      ],
      "text/html": [
       "<div><svg style=\"position: absolute; width: 0; height: 0; overflow: hidden\">\n",
       "<defs>\n",
       "<symbol id=\"icon-database\" viewBox=\"0 0 32 32\">\n",
       "<path d=\"M16 0c-8.837 0-16 2.239-16 5v4c0 2.761 7.163 5 16 5s16-2.239 16-5v-4c0-2.761-7.163-5-16-5z\"></path>\n",
       "<path d=\"M16 17c-8.837 0-16-2.239-16-5v6c0 2.761 7.163 5 16 5s16-2.239 16-5v-6c0 2.761-7.163 5-16 5z\"></path>\n",
       "<path d=\"M16 26c-8.837 0-16-2.239-16-5v6c0 2.761 7.163 5 16 5s16-2.239 16-5v-6c0 2.761-7.163 5-16 5z\"></path>\n",
       "</symbol>\n",
       "<symbol id=\"icon-file-text2\" viewBox=\"0 0 32 32\">\n",
       "<path d=\"M28.681 7.159c-0.694-0.947-1.662-2.053-2.724-3.116s-2.169-2.030-3.116-2.724c-1.612-1.182-2.393-1.319-2.841-1.319h-15.5c-1.378 0-2.5 1.121-2.5 2.5v27c0 1.378 1.122 2.5 2.5 2.5h23c1.378 0 2.5-1.122 2.5-2.5v-19.5c0-0.448-0.137-1.23-1.319-2.841zM24.543 5.457c0.959 0.959 1.712 1.825 2.268 2.543h-4.811v-4.811c0.718 0.556 1.584 1.309 2.543 2.268zM28 29.5c0 0.271-0.229 0.5-0.5 0.5h-23c-0.271 0-0.5-0.229-0.5-0.5v-27c0-0.271 0.229-0.5 0.5-0.5 0 0 15.499-0 15.5 0v7c0 0.552 0.448 1 1 1h7v19.5z\"></path>\n",
       "<path d=\"M23 26h-14c-0.552 0-1-0.448-1-1s0.448-1 1-1h14c0.552 0 1 0.448 1 1s-0.448 1-1 1z\"></path>\n",
       "<path d=\"M23 22h-14c-0.552 0-1-0.448-1-1s0.448-1 1-1h14c0.552 0 1 0.448 1 1s-0.448 1-1 1z\"></path>\n",
       "<path d=\"M23 18h-14c-0.552 0-1-0.448-1-1s0.448-1 1-1h14c0.552 0 1 0.448 1 1s-0.448 1-1 1z\"></path>\n",
       "</symbol>\n",
       "</defs>\n",
       "</svg>\n",
       "<style>/* CSS stylesheet for displaying xarray objects in jupyterlab.\n",
       " *\n",
       " */\n",
       "\n",
       ":root {\n",
       "  --xr-font-color0: var(--jp-content-font-color0, rgba(0, 0, 0, 1));\n",
       "  --xr-font-color2: var(--jp-content-font-color2, rgba(0, 0, 0, 0.54));\n",
       "  --xr-font-color3: var(--jp-content-font-color3, rgba(0, 0, 0, 0.38));\n",
       "  --xr-border-color: var(--jp-border-color2, #e0e0e0);\n",
       "  --xr-disabled-color: var(--jp-layout-color3, #bdbdbd);\n",
       "  --xr-background-color: var(--jp-layout-color0, white);\n",
       "  --xr-background-color-row-even: var(--jp-layout-color1, white);\n",
       "  --xr-background-color-row-odd: var(--jp-layout-color2, #eeeeee);\n",
       "}\n",
       "\n",
       "html[theme=dark],\n",
       "body.vscode-dark {\n",
       "  --xr-font-color0: rgba(255, 255, 255, 1);\n",
       "  --xr-font-color2: rgba(255, 255, 255, 0.54);\n",
       "  --xr-font-color3: rgba(255, 255, 255, 0.38);\n",
       "  --xr-border-color: #1F1F1F;\n",
       "  --xr-disabled-color: #515151;\n",
       "  --xr-background-color: #111111;\n",
       "  --xr-background-color-row-even: #111111;\n",
       "  --xr-background-color-row-odd: #313131;\n",
       "}\n",
       "\n",
       ".xr-wrap {\n",
       "  display: block;\n",
       "  min-width: 300px;\n",
       "  max-width: 700px;\n",
       "}\n",
       "\n",
       ".xr-text-repr-fallback {\n",
       "  /* fallback to plain text repr when CSS is not injected (untrusted notebook) */\n",
       "  display: none;\n",
       "}\n",
       "\n",
       ".xr-header {\n",
       "  padding-top: 6px;\n",
       "  padding-bottom: 6px;\n",
       "  margin-bottom: 4px;\n",
       "  border-bottom: solid 1px var(--xr-border-color);\n",
       "}\n",
       "\n",
       ".xr-header > div,\n",
       ".xr-header > ul {\n",
       "  display: inline;\n",
       "  margin-top: 0;\n",
       "  margin-bottom: 0;\n",
       "}\n",
       "\n",
       ".xr-obj-type,\n",
       ".xr-array-name {\n",
       "  margin-left: 2px;\n",
       "  margin-right: 10px;\n",
       "}\n",
       "\n",
       ".xr-obj-type {\n",
       "  color: var(--xr-font-color2);\n",
       "}\n",
       "\n",
       ".xr-sections {\n",
       "  padding-left: 0 !important;\n",
       "  display: grid;\n",
       "  grid-template-columns: 150px auto auto 1fr 20px 20px;\n",
       "}\n",
       "\n",
       ".xr-section-item {\n",
       "  display: contents;\n",
       "}\n",
       "\n",
       ".xr-section-item input {\n",
       "  display: none;\n",
       "}\n",
       "\n",
       ".xr-section-item input + label {\n",
       "  color: var(--xr-disabled-color);\n",
       "}\n",
       "\n",
       ".xr-section-item input:enabled + label {\n",
       "  cursor: pointer;\n",
       "  color: var(--xr-font-color2);\n",
       "}\n",
       "\n",
       ".xr-section-item input:enabled + label:hover {\n",
       "  color: var(--xr-font-color0);\n",
       "}\n",
       "\n",
       ".xr-section-summary {\n",
       "  grid-column: 1;\n",
       "  color: var(--xr-font-color2);\n",
       "  font-weight: 500;\n",
       "}\n",
       "\n",
       ".xr-section-summary > span {\n",
       "  display: inline-block;\n",
       "  padding-left: 0.5em;\n",
       "}\n",
       "\n",
       ".xr-section-summary-in:disabled + label {\n",
       "  color: var(--xr-font-color2);\n",
       "}\n",
       "\n",
       ".xr-section-summary-in + label:before {\n",
       "  display: inline-block;\n",
       "  content: '►';\n",
       "  font-size: 11px;\n",
       "  width: 15px;\n",
       "  text-align: center;\n",
       "}\n",
       "\n",
       ".xr-section-summary-in:disabled + label:before {\n",
       "  color: var(--xr-disabled-color);\n",
       "}\n",
       "\n",
       ".xr-section-summary-in:checked + label:before {\n",
       "  content: '▼';\n",
       "}\n",
       "\n",
       ".xr-section-summary-in:checked + label > span {\n",
       "  display: none;\n",
       "}\n",
       "\n",
       ".xr-section-summary,\n",
       ".xr-section-inline-details {\n",
       "  padding-top: 4px;\n",
       "  padding-bottom: 4px;\n",
       "}\n",
       "\n",
       ".xr-section-inline-details {\n",
       "  grid-column: 2 / -1;\n",
       "}\n",
       "\n",
       ".xr-section-details {\n",
       "  display: none;\n",
       "  grid-column: 1 / -1;\n",
       "  margin-bottom: 5px;\n",
       "}\n",
       "\n",
       ".xr-section-summary-in:checked ~ .xr-section-details {\n",
       "  display: contents;\n",
       "}\n",
       "\n",
       ".xr-array-wrap {\n",
       "  grid-column: 1 / -1;\n",
       "  display: grid;\n",
       "  grid-template-columns: 20px auto;\n",
       "}\n",
       "\n",
       ".xr-array-wrap > label {\n",
       "  grid-column: 1;\n",
       "  vertical-align: top;\n",
       "}\n",
       "\n",
       ".xr-preview {\n",
       "  color: var(--xr-font-color3);\n",
       "}\n",
       "\n",
       ".xr-array-preview,\n",
       ".xr-array-data {\n",
       "  padding: 0 5px !important;\n",
       "  grid-column: 2;\n",
       "}\n",
       "\n",
       ".xr-array-data,\n",
       ".xr-array-in:checked ~ .xr-array-preview {\n",
       "  display: none;\n",
       "}\n",
       "\n",
       ".xr-array-in:checked ~ .xr-array-data,\n",
       ".xr-array-preview {\n",
       "  display: inline-block;\n",
       "}\n",
       "\n",
       ".xr-dim-list {\n",
       "  display: inline-block !important;\n",
       "  list-style: none;\n",
       "  padding: 0 !important;\n",
       "  margin: 0;\n",
       "}\n",
       "\n",
       ".xr-dim-list li {\n",
       "  display: inline-block;\n",
       "  padding: 0;\n",
       "  margin: 0;\n",
       "}\n",
       "\n",
       ".xr-dim-list:before {\n",
       "  content: '(';\n",
       "}\n",
       "\n",
       ".xr-dim-list:after {\n",
       "  content: ')';\n",
       "}\n",
       "\n",
       ".xr-dim-list li:not(:last-child):after {\n",
       "  content: ',';\n",
       "  padding-right: 5px;\n",
       "}\n",
       "\n",
       ".xr-has-index {\n",
       "  font-weight: bold;\n",
       "}\n",
       "\n",
       ".xr-var-list,\n",
       ".xr-var-item {\n",
       "  display: contents;\n",
       "}\n",
       "\n",
       ".xr-var-item > div,\n",
       ".xr-var-item label,\n",
       ".xr-var-item > .xr-var-name span {\n",
       "  background-color: var(--xr-background-color-row-even);\n",
       "  margin-bottom: 0;\n",
       "}\n",
       "\n",
       ".xr-var-item > .xr-var-name:hover span {\n",
       "  padding-right: 5px;\n",
       "}\n",
       "\n",
       ".xr-var-list > li:nth-child(odd) > div,\n",
       ".xr-var-list > li:nth-child(odd) > label,\n",
       ".xr-var-list > li:nth-child(odd) > .xr-var-name span {\n",
       "  background-color: var(--xr-background-color-row-odd);\n",
       "}\n",
       "\n",
       ".xr-var-name {\n",
       "  grid-column: 1;\n",
       "}\n",
       "\n",
       ".xr-var-dims {\n",
       "  grid-column: 2;\n",
       "}\n",
       "\n",
       ".xr-var-dtype {\n",
       "  grid-column: 3;\n",
       "  text-align: right;\n",
       "  color: var(--xr-font-color2);\n",
       "}\n",
       "\n",
       ".xr-var-preview {\n",
       "  grid-column: 4;\n",
       "}\n",
       "\n",
       ".xr-var-name,\n",
       ".xr-var-dims,\n",
       ".xr-var-dtype,\n",
       ".xr-preview,\n",
       ".xr-attrs dt {\n",
       "  white-space: nowrap;\n",
       "  overflow: hidden;\n",
       "  text-overflow: ellipsis;\n",
       "  padding-right: 10px;\n",
       "}\n",
       "\n",
       ".xr-var-name:hover,\n",
       ".xr-var-dims:hover,\n",
       ".xr-var-dtype:hover,\n",
       ".xr-attrs dt:hover {\n",
       "  overflow: visible;\n",
       "  width: auto;\n",
       "  z-index: 1;\n",
       "}\n",
       "\n",
       ".xr-var-attrs,\n",
       ".xr-var-data {\n",
       "  display: none;\n",
       "  background-color: var(--xr-background-color) !important;\n",
       "  padding-bottom: 5px !important;\n",
       "}\n",
       "\n",
       ".xr-var-attrs-in:checked ~ .xr-var-attrs,\n",
       ".xr-var-data-in:checked ~ .xr-var-data {\n",
       "  display: block;\n",
       "}\n",
       "\n",
       ".xr-var-data > table {\n",
       "  float: right;\n",
       "}\n",
       "\n",
       ".xr-var-name span,\n",
       ".xr-var-data,\n",
       ".xr-attrs {\n",
       "  padding-left: 25px !important;\n",
       "}\n",
       "\n",
       ".xr-attrs,\n",
       ".xr-var-attrs,\n",
       ".xr-var-data {\n",
       "  grid-column: 1 / -1;\n",
       "}\n",
       "\n",
       "dl.xr-attrs {\n",
       "  padding: 0;\n",
       "  margin: 0;\n",
       "  display: grid;\n",
       "  grid-template-columns: 125px auto;\n",
       "}\n",
       "\n",
       ".xr-attrs dt,\n",
       ".xr-attrs dd {\n",
       "  padding: 0;\n",
       "  margin: 0;\n",
       "  float: left;\n",
       "  padding-right: 10px;\n",
       "  width: auto;\n",
       "}\n",
       "\n",
       ".xr-attrs dt {\n",
       "  font-weight: normal;\n",
       "  grid-column: 1;\n",
       "}\n",
       "\n",
       ".xr-attrs dt:hover span {\n",
       "  display: inline-block;\n",
       "  background: var(--xr-background-color);\n",
       "  padding-right: 10px;\n",
       "}\n",
       "\n",
       ".xr-attrs dd {\n",
       "  grid-column: 2;\n",
       "  white-space: pre-wrap;\n",
       "  word-break: break-all;\n",
       "}\n",
       "\n",
       ".xr-icon-database,\n",
       ".xr-icon-file-text2 {\n",
       "  display: inline-block;\n",
       "  vertical-align: middle;\n",
       "  width: 1em;\n",
       "  height: 1.5em !important;\n",
       "  stroke-width: 0;\n",
       "  stroke: currentColor;\n",
       "  fill: currentColor;\n",
       "}\n",
       "</style><pre class='xr-text-repr-fallback'>&lt;xarray.Dataset&gt;\n",
       "Dimensions:   (easting: 138, northing: 139)\n",
       "Coordinates:\n",
       "  * easting   (easting) float64 5e+05 5.004e+05 ... 5.543e+05 5.547e+05\n",
       "  * northing  (northing) float64 8.784e+06 8.784e+06 ... 8.839e+06 8.839e+06\n",
       "Data variables:\n",
       "    KPERC     (northing, easting) float64 1.391 1.288 1.177 ... 0.6268 0.6577\n",
       "Attributes:\n",
       "    metadata:  Generated by Chain(steps=[(&#x27;trend&#x27;, Trend(degree=1)),\\n       ...</pre><div class='xr-wrap' hidden><div class='xr-header'><div class='xr-obj-type'>xarray.Dataset</div></div><ul class='xr-sections'><li class='xr-section-item'><input id='section-25090b44-721c-4e46-909b-69efac86a77b' class='xr-section-summary-in' type='checkbox' disabled ><label for='section-25090b44-721c-4e46-909b-69efac86a77b' class='xr-section-summary'  title='Expand/collapse section'>Dimensions:</label><div class='xr-section-inline-details'><ul class='xr-dim-list'><li><span class='xr-has-index'>easting</span>: 138</li><li><span class='xr-has-index'>northing</span>: 139</li></ul></div><div class='xr-section-details'></div></li><li class='xr-section-item'><input id='section-bd1a40f7-894f-4454-9148-c05d1a53f64f' class='xr-section-summary-in' type='checkbox'  checked><label for='section-bd1a40f7-894f-4454-9148-c05d1a53f64f' class='xr-section-summary' >Coordinates: <span>(2)</span></label><div class='xr-section-inline-details'></div><div class='xr-section-details'><ul class='xr-var-list'><li class='xr-var-item'><div class='xr-var-name'><span class='xr-has-index'>easting</span></div><div class='xr-var-dims'>(easting)</div><div class='xr-var-dtype'>float64</div><div class='xr-var-preview xr-preview'>5e+05 5.004e+05 ... 5.547e+05</div><input id='attrs-39f48b96-8206-4354-a366-1a8044066257' class='xr-var-attrs-in' type='checkbox' disabled><label for='attrs-39f48b96-8206-4354-a366-1a8044066257' title='Show/Hide attributes'><svg class='icon xr-icon-file-text2'><use xlink:href='#icon-file-text2'></use></svg></label><input id='data-7b781128-1a03-4499-b3c1-5f04e14d37a0' class='xr-var-data-in' type='checkbox'><label for='data-7b781128-1a03-4499-b3c1-5f04e14d37a0' title='Show/Hide data repr'><svg class='icon xr-icon-database'><use xlink:href='#icon-database'></use></svg></label><div class='xr-var-attrs'><dl class='xr-attrs'></dl></div><div class='xr-var-data'><pre>array([500005.3     , 500404.486569, 500803.673139, 501202.859708,\n",
       "       501602.046277, 502001.232847, 502400.419416, 502799.605985,\n",
       "       503198.792555, 503597.979124, 503997.165693, 504396.352263,\n",
       "       504795.538832, 505194.725401, 505593.911971, 505993.09854 ,\n",
       "       506392.285109, 506791.471679, 507190.658248, 507589.844818,\n",
       "       507989.031387, 508388.217956, 508787.404526, 509186.591095,\n",
       "       509585.777664, 509984.964234, 510384.150803, 510783.337372,\n",
       "       511182.523942, 511581.710511, 511980.89708 , 512380.08365 ,\n",
       "       512779.270219, 513178.456788, 513577.643358, 513976.829927,\n",
       "       514376.016496, 514775.203066, 515174.389635, 515573.576204,\n",
       "       515972.762774, 516371.949343, 516771.135912, 517170.322482,\n",
       "       517569.509051, 517968.69562 , 518367.88219 , 518767.068759,\n",
       "       519166.255328, 519565.441898, 519964.628467, 520363.815036,\n",
       "       520763.001606, 521162.188175, 521561.374745, 521960.561314,\n",
       "       522359.747883, 522758.934453, 523158.121022, 523557.307591,\n",
       "       523956.494161, 524355.68073 , 524754.867299, 525154.053869,\n",
       "       525553.240438, 525952.427007, 526351.613577, 526750.800146,\n",
       "       527149.986715, 527549.173285, 527948.359854, 528347.546423,\n",
       "       528746.732993, 529145.919562, 529545.106131, 529944.292701,\n",
       "       530343.47927 , 530742.665839, 531141.852409, 531541.038978,\n",
       "       531940.225547, 532339.412117, 532738.598686, 533137.785255,\n",
       "       533536.971825, 533936.158394, 534335.344964, 534734.531533,\n",
       "       535133.718102, 535532.904672, 535932.091241, 536331.27781 ,\n",
       "       536730.46438 , 537129.650949, 537528.837518, 537928.024088,\n",
       "       538327.210657, 538726.397226, 539125.583796, 539524.770365,\n",
       "       539923.956934, 540323.143504, 540722.330073, 541121.516642,\n",
       "       541520.703212, 541919.889781, 542319.07635 , 542718.26292 ,\n",
       "       543117.449489, 543516.636058, 543915.822628, 544315.009197,\n",
       "       544714.195766, 545113.382336, 545512.568905, 545911.755474,\n",
       "       546310.942044, 546710.128613, 547109.315182, 547508.501752,\n",
       "       547907.688321, 548306.874891, 548706.06146 , 549105.248029,\n",
       "       549504.434599, 549903.621168, 550302.807737, 550701.994307,\n",
       "       551101.180876, 551500.367445, 551899.554015, 552298.740584,\n",
       "       552697.927153, 553097.113723, 553496.300292, 553895.486861,\n",
       "       554294.673431, 554693.86    ])</pre></div></li><li class='xr-var-item'><div class='xr-var-name'><span class='xr-has-index'>northing</span></div><div class='xr-var-dims'>(northing)</div><div class='xr-var-dtype'>float64</div><div class='xr-var-preview xr-preview'>8.784e+06 8.784e+06 ... 8.839e+06</div><input id='attrs-1342c869-fe43-45d7-ab97-a8bd395078ba' class='xr-var-attrs-in' type='checkbox' disabled><label for='attrs-1342c869-fe43-45d7-ab97-a8bd395078ba' title='Show/Hide attributes'><svg class='icon xr-icon-file-text2'><use xlink:href='#icon-file-text2'></use></svg></label><input id='data-4a68b2b1-8f05-4726-85fb-584d2bbcd533' class='xr-var-data-in' type='checkbox'><label for='data-4a68b2b1-8f05-4726-85fb-584d2bbcd533' title='Show/Hide data repr'><svg class='icon xr-icon-database'><use xlink:href='#icon-database'></use></svg></label><div class='xr-var-attrs'><dl class='xr-attrs'></dl></div><div class='xr-var-data'><pre>array([8783985.23    , 8784386.088986, 8784786.947971, 8785187.806957,\n",
       "       8785588.665942, 8785989.524928, 8786390.383913, 8786791.242899,\n",
       "       8787192.101884, 8787592.96087 , 8787993.819855, 8788394.678841,\n",
       "       8788795.537826, 8789196.396812, 8789597.255797, 8789998.114783,\n",
       "       8790398.973768, 8790799.832754, 8791200.691739, 8791601.550725,\n",
       "       8792002.40971 , 8792403.268696, 8792804.127681, 8793204.986667,\n",
       "       8793605.845652, 8794006.704638, 8794407.563623, 8794808.422609,\n",
       "       8795209.281594, 8795610.14058 , 8796010.999565, 8796411.858551,\n",
       "       8796812.717536, 8797213.576522, 8797614.435507, 8798015.294493,\n",
       "       8798416.153478, 8798817.012464, 8799217.871449, 8799618.730435,\n",
       "       8800019.58942 , 8800420.448406, 8800821.307391, 8801222.166377,\n",
       "       8801623.025362, 8802023.884348, 8802424.743333, 8802825.602319,\n",
       "       8803226.461304, 8803627.32029 , 8804028.179275, 8804429.038261,\n",
       "       8804829.897246, 8805230.756232, 8805631.615217, 8806032.474203,\n",
       "       8806433.333188, 8806834.192174, 8807235.051159, 8807635.910145,\n",
       "       8808036.76913 , 8808437.628116, 8808838.487101, 8809239.346087,\n",
       "       8809640.205072, 8810041.064058, 8810441.923043, 8810842.782029,\n",
       "       8811243.641014, 8811644.5     , 8812045.358986, 8812446.217971,\n",
       "       8812847.076957, 8813247.935942, 8813648.794928, 8814049.653913,\n",
       "       8814450.512899, 8814851.371884, 8815252.23087 , 8815653.089855,\n",
       "       8816053.948841, 8816454.807826, 8816855.666812, 8817256.525797,\n",
       "       8817657.384783, 8818058.243768, 8818459.102754, 8818859.961739,\n",
       "       8819260.820725, 8819661.67971 , 8820062.538696, 8820463.397681,\n",
       "       8820864.256667, 8821265.115652, 8821665.974638, 8822066.833623,\n",
       "       8822467.692609, 8822868.551594, 8823269.41058 , 8823670.269565,\n",
       "       8824071.128551, 8824471.987536, 8824872.846522, 8825273.705507,\n",
       "       8825674.564493, 8826075.423478, 8826476.282464, 8826877.141449,\n",
       "       8827278.000435, 8827678.85942 , 8828079.718406, 8828480.577391,\n",
       "       8828881.436377, 8829282.295362, 8829683.154348, 8830084.013333,\n",
       "       8830484.872319, 8830885.731304, 8831286.59029 , 8831687.449275,\n",
       "       8832088.308261, 8832489.167246, 8832890.026232, 8833290.885217,\n",
       "       8833691.744203, 8834092.603188, 8834493.462174, 8834894.321159,\n",
       "       8835295.180145, 8835696.03913 , 8836096.898116, 8836497.757101,\n",
       "       8836898.616087, 8837299.475072, 8837700.334058, 8838101.193043,\n",
       "       8838502.052029, 8838902.911014, 8839303.77    ])</pre></div></li></ul></div></li><li class='xr-section-item'><input id='section-0f4e383f-153f-40be-bf7c-760663f88224' class='xr-section-summary-in' type='checkbox'  checked><label for='section-0f4e383f-153f-40be-bf7c-760663f88224' class='xr-section-summary' >Data variables: <span>(1)</span></label><div class='xr-section-inline-details'></div><div class='xr-section-details'><ul class='xr-var-list'><li class='xr-var-item'><div class='xr-var-name'><span>KPERC</span></div><div class='xr-var-dims'>(northing, easting)</div><div class='xr-var-dtype'>float64</div><div class='xr-var-preview xr-preview'>1.391 1.288 1.177 ... 0.6268 0.6577</div><input id='attrs-e496263b-a8e0-453c-97d1-4672785d5e7f' class='xr-var-attrs-in' type='checkbox' ><label for='attrs-e496263b-a8e0-453c-97d1-4672785d5e7f' title='Show/Hide attributes'><svg class='icon xr-icon-file-text2'><use xlink:href='#icon-file-text2'></use></svg></label><input id='data-ad69b4b8-800d-4192-bfeb-284b2f83c3a8' class='xr-var-data-in' type='checkbox'><label for='data-ad69b4b8-800d-4192-bfeb-284b2f83c3a8' title='Show/Hide data repr'><svg class='icon xr-icon-database'><use xlink:href='#icon-database'></use></svg></label><div class='xr-var-attrs'><dl class='xr-attrs'><dt><span>metadata :</span></dt><dd>Generated by Chain(steps=[(&#x27;trend&#x27;, Trend(degree=1)),\n",
       "             (&#x27;reduce&#x27;,\n",
       "              BlockReduce(reduction=&lt;function median at 0x7ff7cc11cca0&gt;,\n",
       "                          spacing=2000)),\n",
       "             (&#x27;spline&#x27;, Spline())])</dd></dl></div><div class='xr-var-data'><pre>array([[1.39100828, 1.28777457, 1.17672147, ..., 0.21626035, 0.19302523,\n",
       "        0.1718365 ],\n",
       "       [1.44326836, 1.33809865, 1.21996927, ..., 0.20488095, 0.18107372,\n",
       "        0.15976868],\n",
       "       [1.5075008 , 1.40570645, 1.28451758, ..., 0.19082566, 0.16701396,\n",
       "        0.14613722],\n",
       "       ...,\n",
       "       [0.11675553, 0.12936293, 0.13743891, ..., 0.7011798 , 0.73264268,\n",
       "        0.75798713],\n",
       "       [0.07665262, 0.08231515, 0.08322255, ..., 0.644151  , 0.67843236,\n",
       "        0.70720083],\n",
       "       [0.03488434, 0.0351123 , 0.03106857, ..., 0.59133828, 0.62679391,\n",
       "        0.65770622]])</pre></div></li></ul></div></li><li class='xr-section-item'><input id='section-db8b09c8-b6c7-4e77-aae7-193c2eca4538' class='xr-section-summary-in' type='checkbox'  checked><label for='section-db8b09c8-b6c7-4e77-aae7-193c2eca4538' class='xr-section-summary' >Attributes: <span>(1)</span></label><div class='xr-section-inline-details'></div><div class='xr-section-details'><dl class='xr-attrs'><dt><span>metadata :</span></dt><dd>Generated by Chain(steps=[(&#x27;trend&#x27;, Trend(degree=1)),\n",
       "             (&#x27;reduce&#x27;,\n",
       "              BlockReduce(reduction=&lt;function median at 0x7ff7cc11cca0&gt;,\n",
       "                          spacing=2000)),\n",
       "             (&#x27;spline&#x27;, Spline())])</dd></dl></div></li></ul></div></div>"
      ]
     },
     "metadata": {},
     "execution_count": 10
    }
   ],
   "metadata": {}
  },
  {
   "cell_type": "code",
   "execution_count": 11,
   "source": [
    "grid_mask.KPERC.plot(figsize=(8,8), cmap='hsv',vmin=0)\n",
    "plt.axis('scaled')"
   ],
   "outputs": [
    {
     "output_type": "display_data",
     "data": {
      "text/plain": [
       "Canvas(toolbar=Toolbar(toolitems=[('Home', 'Reset original view', 'home', 'home'), ('Back', 'Back to previous …"
      ],
      "application/vnd.jupyter.widget-view+json": {
       "version_major": 2,
       "version_minor": 0,
       "model_id": "aa8fa7f5ec554026b0268cb7c23cb163"
      }
     },
     "metadata": {}
    },
    {
     "output_type": "execute_result",
     "data": {
      "text/plain": [
       "(499805.70671532844, 554893.4532846715, 8783784.800507247, 8839504.199492753)"
      ]
     },
     "metadata": {},
     "execution_count": 11
    }
   ],
   "metadata": {}
  },
  {
   "cell_type": "markdown",
   "source": [
    "Model Validation"
   ],
   "metadata": {}
  },
  {
   "cell_type": "code",
   "execution_count": 83,
   "source": [
    "train, test = vd.train_test_split(coordinates, g_rparaim.CTCOR,\n",
    "                                 test_size = 0.1)"
   ],
   "outputs": [],
   "metadata": {}
  },
  {
   "cell_type": "code",
   "execution_count": 84,
   "source": [
    "train"
   ],
   "outputs": [
    {
     "output_type": "execute_result",
     "data": {
      "text/plain": [
       "((array([510111.05, 511611.91, 540119.8 , ..., 537636.97, 521580.05,\n",
       "         506097.05]),\n",
       "  array([8803812.52, 8837463.09, 8830925.37, ..., 8792793.09, 8810432.26,\n",
       "         8820906.92])),\n",
       " (array([1430.24,  719.39, 1082.28, ...,  687.89, 1114.03, 1300.79]),),\n",
       " (None,))"
      ]
     },
     "metadata": {},
     "execution_count": 84
    }
   ],
   "metadata": {}
  },
  {
   "cell_type": "code",
   "execution_count": 85,
   "source": [
    "plt.figure(figsize=(7,7))\n",
    "plt.plot(train[0][0], train[0][1], '.b', markersize=4)\n",
    "plt.plot(test[0][0], test[0][1], '.r', markersize=4)\n",
    "plt.axis('scaled')"
   ],
   "outputs": [
    {
     "output_type": "display_data",
     "data": {
      "text/plain": [
       "Canvas(toolbar=Toolbar(toolitems=[('Home', 'Reset original view', 'home', 'home'), ('Back', 'Back to previous …"
      ],
      "application/vnd.jupyter.widget-view+json": {
       "version_major": 2,
       "version_minor": 0,
       "model_id": "c76b756c2e9a4d4088d0e28f3603dfd0"
      }
     },
     "metadata": {}
    },
    {
     "output_type": "execute_result",
     "data": {
      "text/plain": [
       "(497270.872, 557428.288, 8781219.303000001, 8842069.696999999)"
      ]
     },
     "metadata": {},
     "execution_count": 85
    }
   ],
   "metadata": {}
  },
  {
   "cell_type": "code",
   "execution_count": 86,
   "source": [
    "chain_CTCOR.fit(*train)\n",
    "# *train   ---> chain.fit(train[0], train[1])"
   ],
   "outputs": [
    {
     "output_type": "execute_result",
     "data": {
      "text/plain": [
       "Chain(steps=[('trend', Trend(degree=1)),\n",
       "             ('reduce',\n",
       "              BlockReduce(reduction=<function median at 0x7f6a67efaca0>,\n",
       "                          spacing=1000)),\n",
       "             ('spline', Spline())])"
      ]
     },
     "metadata": {},
     "execution_count": 86
    }
   ],
   "metadata": {}
  },
  {
   "cell_type": "code",
   "execution_count": 87,
   "source": [
    "chain_CTCOR.score(*test)"
   ],
   "outputs": [
    {
     "output_type": "execute_result",
     "data": {
      "text/plain": [
       "0.8171088537170001"
      ]
     },
     "metadata": {},
     "execution_count": 87
    }
   ],
   "metadata": {}
  },
  {
   "cell_type": "code",
   "execution_count": 108,
   "source": [
    "train, test = vd.train_test_split(coordinates, g_rparaim.CTCOR, test_size=0.1, spacing=1000)"
   ],
   "outputs": [],
   "metadata": {}
  },
  {
   "cell_type": "code",
   "execution_count": 109,
   "source": [
    "plt.figure(figsize=(7,7))\n",
    "plt.plot(train[0][0], train[0][1], '.b', markersize=3)\n",
    "plt.plot(test[0][0], test[0][1], '.r', markersize=3)\n",
    "plt.axis('scaled')"
   ],
   "outputs": [
    {
     "output_type": "display_data",
     "data": {
      "text/plain": [
       "Canvas(toolbar=Toolbar(toolitems=[('Home', 'Reset original view', 'home', 'home'), ('Back', 'Back to previous …"
      ],
      "application/vnd.jupyter.widget-view+json": {
       "version_major": 2,
       "version_minor": 0,
       "model_id": "b7317c3986f14bc1b5c584b1432067b6"
      }
     },
     "metadata": {}
    },
    {
     "output_type": "execute_result",
     "data": {
      "text/plain": [
       "(497270.872, 557428.288, 8781219.303000001, 8842069.696999999)"
      ]
     },
     "metadata": {},
     "execution_count": 109
    }
   ],
   "metadata": {}
  },
  {
   "cell_type": "code",
   "execution_count": 110,
   "source": [
    "chain_CTCOR.fit(*train)"
   ],
   "outputs": [
    {
     "output_type": "execute_result",
     "data": {
      "text/plain": [
       "Chain(steps=[('trend', Trend(degree=1)),\n",
       "             ('reduce',\n",
       "              BlockReduce(reduction=<function median at 0x7f6a67efaca0>,\n",
       "                          spacing=1000)),\n",
       "             ('spline', Spline())])"
      ]
     },
     "metadata": {},
     "execution_count": 110
    }
   ],
   "metadata": {}
  },
  {
   "cell_type": "code",
   "execution_count": 111,
   "source": [
    "chain_CTCOR.score(*test)"
   ],
   "outputs": [
    {
     "output_type": "execute_result",
     "data": {
      "text/plain": [
       "0.6854460461252302"
      ]
     },
     "metadata": {},
     "execution_count": 111
    }
   ],
   "metadata": {}
  },
  {
   "cell_type": "code",
   "execution_count": 94,
   "source": [
    "cv     = vd.BlockKFold(spacing=1000,\n",
    "                  n_splits=50,\n",
    "                  shuffle=True)"
   ],
   "outputs": [],
   "metadata": {}
  },
  {
   "cell_type": "code",
   "execution_count": 95,
   "source": [
    "scores = vd.cross_val_score(chain_CTCOR,\n",
    "                            coordinates,\n",
    "                            g_rparaim.CTCOR,\n",
    "                            cv=cv)"
   ],
   "outputs": [],
   "metadata": {}
  },
  {
   "cell_type": "code",
   "execution_count": 96,
   "source": [
    "scores"
   ],
   "outputs": [
    {
     "output_type": "execute_result",
     "data": {
      "text/plain": [
       "array([0.76600745, 0.65691566, 0.79872783, 0.73130954, 0.73478961,\n",
       "       0.77517123, 0.63237133, 0.75020688, 0.67563968, 0.7580242 ,\n",
       "       0.79296449, 0.68999138, 0.7871542 , 0.72674868, 0.77997202,\n",
       "       0.69916478, 0.62143947, 0.72640941, 0.6324465 , 0.65074986,\n",
       "       0.73982833, 0.67945018, 0.74135313, 0.67643012, 0.79161596,\n",
       "       0.69180662, 0.68290468, 0.6929264 , 0.75604804, 0.83531106,\n",
       "       0.72031158, 0.73842824, 0.75775224, 0.7974437 , 0.81237241,\n",
       "       0.70312159, 0.63339506, 0.74506223, 0.64092632, 0.73596647,\n",
       "       0.79427739, 0.76603196, 0.76096846, 0.61802663, 0.73571703,\n",
       "       0.76286133, 0.68643094, 0.60970192, 0.7428681 , 0.81303388])"
      ]
     },
     "metadata": {},
     "execution_count": 96
    }
   ],
   "metadata": {}
  },
  {
   "cell_type": "code",
   "execution_count": 97,
   "source": [
    "plt.figure()\n",
    "plt.hist(scores, bins ='auto')"
   ],
   "outputs": [
    {
     "output_type": "display_data",
     "data": {
      "text/plain": [
       "Canvas(toolbar=Toolbar(toolitems=[('Home', 'Reset original view', 'home', 'home'), ('Back', 'Back to previous …"
      ],
      "application/vnd.jupyter.widget-view+json": {
       "version_major": 2,
       "version_minor": 0,
       "model_id": "aa38abcd4dc944a6baabbd7fc4826b75"
      }
     },
     "metadata": {}
    },
    {
     "output_type": "execute_result",
     "data": {
      "text/plain": [
       "(array([ 7.,  2., 10.,  8., 12.,  8.,  3.]),\n",
       " array([0.60970192, 0.6419318 , 0.67416168, 0.70639155, 0.73862143,\n",
       "        0.7708513 , 0.80308118, 0.83531106]),\n",
       " <BarContainer object of 7 artists>)"
      ]
     },
     "metadata": {},
     "execution_count": 97
    }
   ],
   "metadata": {}
  },
  {
   "cell_type": "code",
   "execution_count": 100,
   "source": [
    "geof = CTCOR_grid.to_dataframe()\n",
    "geof.reset_index(inplace=True)"
   ],
   "outputs": [],
   "metadata": {}
  },
  {
   "cell_type": "code",
   "execution_count": 101,
   "source": [
    "geof"
   ],
   "outputs": [
    {
     "output_type": "execute_result",
     "data": {
      "text/plain": [
       "         easting      northing        KPERC\n",
       "0      500005.30  8.783985e+06  1659.578181\n",
       "1      500005.30  8.784185e+06  1634.598105\n",
       "2      500005.30  8.784385e+06  1599.014773\n",
       "3      500005.30  8.784584e+06  1551.296070\n",
       "4      500005.30  8.784784e+06  1492.718534\n",
       "...          ...           ...          ...\n",
       "76167  554693.86  8.838505e+06  1171.607396\n",
       "76168  554693.86  8.838705e+06  1173.625707\n",
       "76169  554693.86  8.838904e+06  1174.655027\n",
       "76170  554693.86  8.839104e+06  1174.081106\n",
       "76171  554693.86  8.839304e+06  1172.421426\n",
       "\n",
       "[76172 rows x 3 columns]"
      ],
      "text/html": [
       "<div>\n",
       "<style scoped>\n",
       "    .dataframe tbody tr th:only-of-type {\n",
       "        vertical-align: middle;\n",
       "    }\n",
       "\n",
       "    .dataframe tbody tr th {\n",
       "        vertical-align: top;\n",
       "    }\n",
       "\n",
       "    .dataframe thead th {\n",
       "        text-align: right;\n",
       "    }\n",
       "</style>\n",
       "<table border=\"1\" class=\"dataframe\">\n",
       "  <thead>\n",
       "    <tr style=\"text-align: right;\">\n",
       "      <th></th>\n",
       "      <th>easting</th>\n",
       "      <th>northing</th>\n",
       "      <th>KPERC</th>\n",
       "    </tr>\n",
       "  </thead>\n",
       "  <tbody>\n",
       "    <tr>\n",
       "      <th>0</th>\n",
       "      <td>500005.30</td>\n",
       "      <td>8.783985e+06</td>\n",
       "      <td>1659.578181</td>\n",
       "    </tr>\n",
       "    <tr>\n",
       "      <th>1</th>\n",
       "      <td>500005.30</td>\n",
       "      <td>8.784185e+06</td>\n",
       "      <td>1634.598105</td>\n",
       "    </tr>\n",
       "    <tr>\n",
       "      <th>2</th>\n",
       "      <td>500005.30</td>\n",
       "      <td>8.784385e+06</td>\n",
       "      <td>1599.014773</td>\n",
       "    </tr>\n",
       "    <tr>\n",
       "      <th>3</th>\n",
       "      <td>500005.30</td>\n",
       "      <td>8.784584e+06</td>\n",
       "      <td>1551.296070</td>\n",
       "    </tr>\n",
       "    <tr>\n",
       "      <th>4</th>\n",
       "      <td>500005.30</td>\n",
       "      <td>8.784784e+06</td>\n",
       "      <td>1492.718534</td>\n",
       "    </tr>\n",
       "    <tr>\n",
       "      <th>...</th>\n",
       "      <td>...</td>\n",
       "      <td>...</td>\n",
       "      <td>...</td>\n",
       "    </tr>\n",
       "    <tr>\n",
       "      <th>76167</th>\n",
       "      <td>554693.86</td>\n",
       "      <td>8.838505e+06</td>\n",
       "      <td>1171.607396</td>\n",
       "    </tr>\n",
       "    <tr>\n",
       "      <th>76168</th>\n",
       "      <td>554693.86</td>\n",
       "      <td>8.838705e+06</td>\n",
       "      <td>1173.625707</td>\n",
       "    </tr>\n",
       "    <tr>\n",
       "      <th>76169</th>\n",
       "      <td>554693.86</td>\n",
       "      <td>8.838904e+06</td>\n",
       "      <td>1174.655027</td>\n",
       "    </tr>\n",
       "    <tr>\n",
       "      <th>76170</th>\n",
       "      <td>554693.86</td>\n",
       "      <td>8.839104e+06</td>\n",
       "      <td>1174.081106</td>\n",
       "    </tr>\n",
       "    <tr>\n",
       "      <th>76171</th>\n",
       "      <td>554693.86</td>\n",
       "      <td>8.839304e+06</td>\n",
       "      <td>1172.421426</td>\n",
       "    </tr>\n",
       "  </tbody>\n",
       "</table>\n",
       "<p>76172 rows × 3 columns</p>\n",
       "</div>"
      ]
     },
     "metadata": {},
     "execution_count": 101
    }
   ],
   "metadata": {}
  }
 ],
 "metadata": {
  "interpreter": {
   "hash": "2bc076d9378ac5ac660ba4f6a46900d2ea3732140aaa213526ceb6851acbc3f5"
  },
  "kernelspec": {
   "display_name": "Python 3.8.2 64-bit ('mappingBot': conda)",
   "name": "python3"
  },
  "language_info": {
   "name": "python",
   "version": ""
  },
  "orig_nbformat": 4
 },
 "nbformat": 4,
 "nbformat_minor": 2
}