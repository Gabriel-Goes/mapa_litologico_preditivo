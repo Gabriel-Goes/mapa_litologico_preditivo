{
 "cells": [
  {
   "cell_type": "markdown",
   "metadata": {
    "tags": []
   },
   "source": [
    "# Imports"
   ]
  },
  {
   "cell_type": "code",
   "execution_count": 1,
   "metadata": {},
   "outputs": [],
   "source": [
    "#from src import Build_mc,Upload_geof,Upload_geof_geografica,Upload_litologia,plot_filtered_values,plot_raw_mag_data,plot_raw_gama_data,plot_histograms,plot_interpolated_histograms,describe_geologico, plotBoxplots,remove_negative_values,sintetic_grid,traditional_interpolation,plot_interpolated_histograms,pop_nodata\n",
    "from src import *\n",
    "from pylab import *\n",
    "\n",
    "from tqdm import tqdm\n",
    "from shapely.ops import transform\n",
    "from shapely.geometry import Point, Polygon\n",
    "\n",
    "import matplotlib.pyplot as plt\n",
    "import pandas as pd\n",
    "import geopandas as gpd\n",
    "import verde as vd\n",
    "import numpy as np\n",
    "import os\n",
    "import pyproj\n",
    "import verde_source as vds\n",
    "\n",
    "import seaborn as sns\n",
    "import xarray as xr\n",
    "import matplotlib\n",
    "\n",
    "from sklearn_som.som import SOM\n",
    "from sklearn.preprocessing import StandardScaler"
   ]
  },
  {
   "cell_type": "code",
   "execution_count": 2,
   "metadata": {},
   "outputs": [],
   "source": [
    "import warnings\n",
    "warnings.filterwarnings(\"ignore\")\n",
    "%matplotlib widget\n",
    "%load_ext autoreload\n",
    "%autoreload 2\n",
    "%reload_ext autoreload"
   ]
  },
  {
   "cell_type": "code",
   "execution_count": 3,
   "metadata": {},
   "outputs": [
    {
     "data": {
      "text/plain": [
       "\"def sintetic_grider(quadricula=None,p_size=None):\\n    ids = list(quadricula.keys())\\n    wgs84=pyproj.CRS('EPSG:4326')\\n    for id in tqdm(ids):\\n        folha = quadricula[id]['folha']\\n        utm = pyproj.CRS('EPSG:'+folha['EPSG'])\\n        carta_geografica = folha['geometry']\\n        project = pyproj.Transformer.from_crs(wgs84,utm, always_xy=True).transform\\n        carta_utm = transform(project,carta_geografica)\\n        break\\n\""
      ]
     },
     "execution_count": 3,
     "metadata": {},
     "output_type": "execute_result"
    }
   ],
   "source": [
    "'''def sintetic_grider(quadricula=None,p_size=None):\n",
    "    ids = list(quadricula.keys())\n",
    "    wgs84=pyproj.CRS('EPSG:4326')\n",
    "    for id in tqdm(ids):\n",
    "        folha = quadricula[id]['folha']\n",
    "        utm = pyproj.CRS('EPSG:'+folha['EPSG'])\n",
    "        carta_geografica = folha['geometry']\n",
    "        project = pyproj.Transformer.from_crs(wgs84,utm, always_xy=True).transform\n",
    "        carta_utm = transform(project,carta_geografica)\n",
    "        break\n",
    "'''"
   ]
  },
  {
   "cell_type": "markdown",
   "metadata": {
    "tags": []
   },
   "source": [
    "## Construindo Quadrícula"
   ]
  },
  {
   "cell_type": "code",
   "execution_count": 4,
   "metadata": {
    "tags": []
   },
   "outputs": [
    {
     "name": "stderr",
     "output_type": "stream",
     "text": [
      "  0%|                                                                                                                    | 0/4 [00:00<?, ?it/s]\n"
     ]
    },
    {
     "ename": "AttributeError",
     "evalue": "'GeoDataFrame' object has no attribute 'append'",
     "output_type": "error",
     "traceback": [
      "\u001b[0;31m---------------------------------------------------------------------------\u001b[0m",
      "\u001b[0;31mAttributeError\u001b[0m                            Traceback (most recent call last)",
      "\u001b[0;32m/tmp/ipykernel_174924/2212415174.py\u001b[0m in \u001b[0;36m?\u001b[0;34m()\u001b[0m\n\u001b[0;32m----> 1\u001b[0;31m \u001b[0mquadricula\u001b[0m \u001b[0;34m=\u001b[0m \u001b[0mBuild_mc\u001b[0m\u001b[0;34m(\u001b[0m\u001b[0mescala\u001b[0m\u001b[0;34m=\u001b[0m\u001b[0;34m'100k'\u001b[0m\u001b[0;34m,\u001b[0m\u001b[0mID\u001b[0m\u001b[0;34m=\u001b[0m\u001b[0;34m[\u001b[0m\u001b[0;34m'SF23_VD'\u001b[0m\u001b[0;34m,\u001b[0m\u001b[0;34m'SF23_VC'\u001b[0m\u001b[0;34m,\u001b[0m\u001b[0;34m'SF23_YA'\u001b[0m\u001b[0;34m,\u001b[0m\u001b[0;34m'SF23_YB'\u001b[0m\u001b[0;34m]\u001b[0m\u001b[0;34m,\u001b[0m\u001b[0mverbose\u001b[0m\u001b[0;34m=\u001b[0m\u001b[0;32mTrue\u001b[0m\u001b[0;34m)\u001b[0m\u001b[0;34m\u001b[0m\u001b[0;34m\u001b[0m\u001b[0m\n\u001b[0m",
      "\u001b[0;32m~/projetos/geologist/src.py\u001b[0m in \u001b[0;36m?\u001b[0;34m(escala, ID, verbose)\u001b[0m\n\u001b[1;32m    779\u001b[0m \u001b[0;32mdef\u001b[0m \u001b[0mBuild_mc\u001b[0m\u001b[0;34m(\u001b[0m\u001b[0mescala\u001b[0m\u001b[0;34m=\u001b[0m\u001b[0;34m'50k'\u001b[0m\u001b[0;34m,\u001b[0m\u001b[0mID\u001b[0m\u001b[0;34m=\u001b[0m\u001b[0;34m[\u001b[0m\u001b[0;34m'SF23_YA'\u001b[0m\u001b[0;34m]\u001b[0m\u001b[0;34m,\u001b[0m\u001b[0mverbose\u001b[0m\u001b[0;34m=\u001b[0m\u001b[0;32mNone\u001b[0m\u001b[0;34m)\u001b[0m\u001b[0;34m:\u001b[0m\u001b[0;34m\u001b[0m\u001b[0;34m\u001b[0m\u001b[0m\n\u001b[0;32m--> 780\u001b[0;31m     \u001b[0mmc\u001b[0m \u001b[0;34m=\u001b[0m \u001b[0mimport_mc\u001b[0m\u001b[0;34m(\u001b[0m\u001b[0mescala\u001b[0m\u001b[0;34m,\u001b[0m\u001b[0mID\u001b[0m\u001b[0;34m)\u001b[0m\u001b[0;34m\u001b[0m\u001b[0;34m\u001b[0m\u001b[0m\n\u001b[0m\u001b[1;32m    781\u001b[0m     \u001b[0mmc\u001b[0m\u001b[0;34m.\u001b[0m\u001b[0mset_index\u001b[0m\u001b[0;34m(\u001b[0m\u001b[0;34m'id_folha'\u001b[0m\u001b[0;34m,\u001b[0m\u001b[0minplace\u001b[0m\u001b[0;34m=\u001b[0m\u001b[0;32mTrue\u001b[0m\u001b[0;34m)\u001b[0m\u001b[0;34m\u001b[0m\u001b[0;34m\u001b[0m\u001b[0m\n\u001b[1;32m    782\u001b[0m     \u001b[0mquadricula\u001b[0m \u001b[0;34m=\u001b[0m \u001b[0;34m{\u001b[0m\u001b[0;34m}\u001b[0m\u001b[0;34m\u001b[0m\u001b[0;34m\u001b[0m\u001b[0m\n\u001b[1;32m    783\u001b[0m     \u001b[0mwgs84\u001b[0m \u001b[0;34m=\u001b[0m \u001b[0mpyproj\u001b[0m\u001b[0;34m.\u001b[0m\u001b[0mCRS\u001b[0m\u001b[0;34m(\u001b[0m\u001b[0;34m'EPSG:4326'\u001b[0m\u001b[0;34m)\u001b[0m\u001b[0;34m\u001b[0m\u001b[0;34m\u001b[0m\u001b[0m\n",
      "\u001b[0;32m~/projetos/geologist/src.py\u001b[0m in \u001b[0;36m?\u001b[0;34m(escala, ID)\u001b[0m\n\u001b[1;32m     83\u001b[0m     \u001b[0mmc\u001b[0m \u001b[0;34m=\u001b[0m \u001b[0mgpd\u001b[0m\u001b[0;34m.\u001b[0m\u001b[0mread_file\u001b[0m\u001b[0;34m(\u001b[0m\u001b[0mset_gdb\u001b[0m\u001b[0;34m(\u001b[0m\u001b[0;34m'geodatabase.gpkg'\u001b[0m\u001b[0;34m)\u001b[0m\u001b[0;34m,\u001b[0m\u001b[0mdriver\u001b[0m\u001b[0;34m=\u001b[0m\u001b[0;34m'GPKG'\u001b[0m\u001b[0;34m,\u001b[0m\u001b[0mlayer\u001b[0m\u001b[0;34m=\u001b[0m\u001b[0;34m'mc_'\u001b[0m\u001b[0;34m+\u001b[0m\u001b[0mescala\u001b[0m\u001b[0;34m)\u001b[0m\u001b[0;34m\u001b[0m\u001b[0;34m\u001b[0m\u001b[0m\n\u001b[1;32m     84\u001b[0m     \u001b[0mmc_slct\u001b[0m \u001b[0;34m=\u001b[0m \u001b[0mgpd\u001b[0m\u001b[0;34m.\u001b[0m\u001b[0mGeoDataFrame\u001b[0m\u001b[0;34m(\u001b[0m\u001b[0;34m)\u001b[0m\u001b[0;34m\u001b[0m\u001b[0;34m\u001b[0m\u001b[0m\n\u001b[1;32m     85\u001b[0m     \u001b[0;32mif\u001b[0m \u001b[0mtype\u001b[0m\u001b[0;34m(\u001b[0m\u001b[0mID\u001b[0m\u001b[0;34m)\u001b[0m \u001b[0;34m==\u001b[0m \u001b[0mlist\u001b[0m\u001b[0;34m:\u001b[0m\u001b[0;34m\u001b[0m\u001b[0;34m\u001b[0m\u001b[0m\n\u001b[1;32m     86\u001b[0m         \u001b[0;32mfor\u001b[0m \u001b[0mid\u001b[0m \u001b[0;32min\u001b[0m \u001b[0mtqdm\u001b[0m\u001b[0;34m(\u001b[0m\u001b[0mID\u001b[0m\u001b[0;34m)\u001b[0m\u001b[0;34m:\u001b[0m\u001b[0;34m\u001b[0m\u001b[0;34m\u001b[0m\u001b[0m\n\u001b[0;32m---> 87\u001b[0;31m             \u001b[0mmc_slct\u001b[0m \u001b[0;34m=\u001b[0m \u001b[0mmc_slct\u001b[0m\u001b[0;34m.\u001b[0m\u001b[0mappend\u001b[0m\u001b[0;34m(\u001b[0m\u001b[0mmc\u001b[0m\u001b[0;34m[\u001b[0m\u001b[0mmc\u001b[0m\u001b[0;34m[\u001b[0m\u001b[0;34m'id_folha'\u001b[0m\u001b[0;34m]\u001b[0m\u001b[0;34m.\u001b[0m\u001b[0mstr\u001b[0m\u001b[0;34m.\u001b[0m\u001b[0mcontains\u001b[0m\u001b[0;34m(\u001b[0m\u001b[0mid\u001b[0m\u001b[0;34m)\u001b[0m\u001b[0;34m]\u001b[0m\u001b[0;34m)\u001b[0m\u001b[0;34m\u001b[0m\u001b[0;34m\u001b[0m\u001b[0m\n\u001b[0m\u001b[1;32m     88\u001b[0m         \u001b[0;32mreturn\u001b[0m \u001b[0mmc_slct\u001b[0m\u001b[0;34m\u001b[0m\u001b[0;34m\u001b[0m\u001b[0m\n\u001b[1;32m     89\u001b[0m     \u001b[0;32melif\u001b[0m \u001b[0mtype\u001b[0m\u001b[0;34m(\u001b[0m\u001b[0mID\u001b[0m\u001b[0;34m)\u001b[0m \u001b[0;34m==\u001b[0m \u001b[0mstr\u001b[0m\u001b[0;34m:\u001b[0m\u001b[0;34m\u001b[0m\u001b[0;34m\u001b[0m\u001b[0m\n\u001b[1;32m     90\u001b[0m         \u001b[0mmc_slct\u001b[0m \u001b[0;34m=\u001b[0m \u001b[0mmc\u001b[0m\u001b[0;34m[\u001b[0m\u001b[0mmc\u001b[0m\u001b[0;34m[\u001b[0m\u001b[0;34m'id_folha'\u001b[0m\u001b[0;34m]\u001b[0m \u001b[0;34m==\u001b[0m \u001b[0mID\u001b[0m\u001b[0;34m]\u001b[0m\u001b[0;34m\u001b[0m\u001b[0;34m\u001b[0m\u001b[0m\n",
      "\u001b[0;32m~/.config/ambiente_geologico/lib/python3.11/site-packages/pandas/core/generic.py\u001b[0m in \u001b[0;36m?\u001b[0;34m(self, name)\u001b[0m\n\u001b[1;32m   5985\u001b[0m             \u001b[0;32mand\u001b[0m \u001b[0mname\u001b[0m \u001b[0;32mnot\u001b[0m \u001b[0;32min\u001b[0m \u001b[0mself\u001b[0m\u001b[0;34m.\u001b[0m\u001b[0m_accessors\u001b[0m\u001b[0;34m\u001b[0m\u001b[0;34m\u001b[0m\u001b[0m\n\u001b[1;32m   5986\u001b[0m             \u001b[0;32mand\u001b[0m \u001b[0mself\u001b[0m\u001b[0;34m.\u001b[0m\u001b[0m_info_axis\u001b[0m\u001b[0;34m.\u001b[0m\u001b[0m_can_hold_identifiers_and_holds_name\u001b[0m\u001b[0;34m(\u001b[0m\u001b[0mname\u001b[0m\u001b[0;34m)\u001b[0m\u001b[0;34m\u001b[0m\u001b[0;34m\u001b[0m\u001b[0m\n\u001b[1;32m   5987\u001b[0m         ):\n\u001b[1;32m   5988\u001b[0m             \u001b[0;32mreturn\u001b[0m \u001b[0mself\u001b[0m\u001b[0;34m[\u001b[0m\u001b[0mname\u001b[0m\u001b[0;34m]\u001b[0m\u001b[0;34m\u001b[0m\u001b[0;34m\u001b[0m\u001b[0m\n\u001b[0;32m-> 5989\u001b[0;31m         \u001b[0;32mreturn\u001b[0m \u001b[0mobject\u001b[0m\u001b[0;34m.\u001b[0m\u001b[0m__getattribute__\u001b[0m\u001b[0;34m(\u001b[0m\u001b[0mself\u001b[0m\u001b[0;34m,\u001b[0m \u001b[0mname\u001b[0m\u001b[0;34m)\u001b[0m\u001b[0;34m\u001b[0m\u001b[0;34m\u001b[0m\u001b[0m\n\u001b[0m",
      "\u001b[0;31mAttributeError\u001b[0m: 'GeoDataFrame' object has no attribute 'append'"
     ]
    }
   ],
   "source": [
    "quadricula = Build_mc(escala='100k',ID=['SF23_VD','SF23_VC','SF23_YA','SF23_YB'],verbose=True)"
   ]
  },
  {
   "cell_type": "code",
   "execution_count": null,
   "metadata": {},
   "outputs": [],
   "source": [
    "list_ids = list(quadricula.keys())\n",
    "#print(list_ids)\n",
    "\n",
    "'''\n",
    "for id in list_ids:\n",
    "    print(f' - Folha: {id}')\n",
    "    carta=quadricula[id]\n",
    "    data_list = list(carta.keys())\n",
    "    print(data_list)\n",
    "    for data in data_list[4:]:\n",
    "        print(f'    - {data}')\n",
    "        print(f'        - {list(quadricula[id][data].columns)}')\n",
    "'''    \n",
    "def print_quadriculas(quadricula=quadricula):\n",
    "    list_ids = list(quadricula.keys())\n",
    "    for id in list_ids:\n",
    "        print(f' - Folha {id}')\n",
    "        carta = quadricula[id]\n",
    "        list_carta_keys = list(carta.keys())\n",
    "        print(f'    - {list_carta_keys}:')\n",
    "        for key in list_carta_keys:\n",
    "            print(carta[key])\n",
    "            print('')"
   ]
  },
  {
   "cell_type": "code",
   "execution_count": null,
   "metadata": {
    "tags": []
   },
   "outputs": [],
   "source": [
    "print_quadriculas(quadricula)"
   ]
  },
  {
   "cell_type": "markdown",
   "metadata": {
    "tags": []
   },
   "source": [
    "### Construindo grid regular sintético"
   ]
  },
  {
   "cell_type": "markdown",
   "metadata": {
    "tags": []
   },
   "source": [
    "_Verde gridder_"
   ]
  },
  {
   "cell_type": "code",
   "execution_count": null,
   "metadata": {},
   "outputs": [],
   "source": [
    "from verde import grid_coordinates"
   ]
  },
  {
   "cell_type": "code",
   "execution_count": null,
   "metadata": {
    "tags": []
   },
   "outputs": [],
   "source": [
    "def batch_grid_coordinates(quadricula,spacing=0.001,pixel_register=True):\n",
    "    list_id = list(quadricula.keys())\n",
    "    \n",
    "    #print(f' Folhas disponíveis: {list_id}')\n",
    "    for id in list_id:\n",
    "        folha = quadricula[id]\n",
    "        print(f' Folha  {id}')\n",
    "\n",
    "        df = quadricula[id]['folha']\n",
    "        area = (df['geometry'].bounds[0],df['geometry'].bounds[2],\n",
    "                df['geometry'].bounds[1],df['geometry'].bounds[3])\n",
    "        \n",
    "        xu,yu = grid_coordinates(region=area,spacing=spacing,pixel_register=pixel_register)\n",
    "       \n",
    "        df['coords'] = xu,yu\n",
    "        df['area'] = area\n",
    "        x={'area':df}\n",
    "        quadricula[id].update(x)\n",
    "        \n",
    "\n",
    "batch_grid_coordinates(quadricula)"
   ]
  },
  {
   "cell_type": "code",
   "execution_count": null,
   "metadata": {
    "tags": []
   },
   "outputs": [],
   "source": [
    "print_quadriculas(quadricula)"
   ]
  },
  {
   "cell_type": "code",
   "execution_count": null,
   "metadata": {
    "tags": []
   },
   "outputs": [],
   "source": [
    "quadricula['SF23_YA_V']['area']['coords']"
   ]
  },
  {
   "cell_type": "code",
   "execution_count": null,
   "metadata": {
    "tags": []
   },
   "outputs": [],
   "source": [
    "quadricula['SF23_YA_V']['folha']['coords']"
   ]
  },
  {
   "cell_type": "markdown",
   "metadata": {
    "tags": []
   },
   "source": [
    "## Adicionando dados brutos à Quadrícula"
   ]
  },
  {
   "cell_type": "code",
   "execution_count": null,
   "metadata": {
    "tags": []
   },
   "outputs": [],
   "source": [
    "#Upload_geof(quadricula,'gama_line_1105','mag_line_1105',1000)\n",
    "#gama_1039,mag_1039=Upload_geof(quadricula,'gama_1039','mag_1039',1000)\n",
    "\n",
    "Upload_geof_geografica(quadricula,'gama_line_1105','mag_line_1105',0.01)"
   ]
  },
  {
   "cell_type": "code",
   "execution_count": null,
   "metadata": {
    "tags": []
   },
   "outputs": [],
   "source": [
    "Upload_geof_geografica(quadricula,'gama_line_1089','mag_line_1089')"
   ]
  },
  {
   "cell_type": "code",
   "execution_count": null,
   "metadata": {},
   "outputs": [],
   "source": [
    "quadricula['SF23_YA_III']['gama_line_1105'].head()"
   ]
  },
  {
   "cell_type": "code",
   "execution_count": null,
   "metadata": {
    "tags": []
   },
   "outputs": [],
   "source": [
    "geof_list_ids = list(quadricula.keys())\n",
    "for id in geof_list_ids:\n",
    "    print(f' - Folha: {id}')\n",
    "    carta=quadricula[id]\n",
    "    data_list = list(carta.keys())\n",
    "    print(data_list)\n",
    "    for data in data_list[4:]:\n",
    "        print(f'    - {data}')\n",
    "        print(f'        - {list(quadricula[id][data].columns)}')\n",
    "    print('')\n"
   ]
  },
  {
   "cell_type": "code",
   "execution_count": null,
   "metadata": {},
   "outputs": [],
   "source": [
    "quadricula=pop_nodata(quadricula)\n",
    "len(quadricula.keys())"
   ]
  },
  {
   "cell_type": "code",
   "execution_count": null,
   "metadata": {
    "tags": []
   },
   "outputs": [],
   "source": [
    "for id in list(quadricula.keys()):\n",
    "    print(f' - Folha:  {id}')\n",
    "    carta = quadricula[id]\n",
    "    print(f'    - {list(carta.keys())}')\n",
    "    print('')"
   ]
  },
  {
   "cell_type": "markdown",
   "metadata": {
    "tags": []
   },
   "source": [
    "## Vizualisando Área de Cobertura"
   ]
  },
  {
   "cell_type": "code",
   "execution_count": null,
   "metadata": {},
   "outputs": [],
   "source": [
    "plt.figure(figsize=(9,6))\n",
    "for id in list(quadricula.keys()):\n",
    "    carta=quadricula[id]['area']\n",
    "    plt.plot(*(carta['geometry']).exterior.xy,color='black')\n",
    "    plt.axis('scaled')\n",
    "    plt.scatter(carta['coords'][0],carta['coords'][1],s=1)    \n",
    "plt.suptitle('Área de cobertura dos levantamentos aerogeofísicos')\n",
    "plt.axis('scaled')\n",
    "plt.tight_layout()"
   ]
  },
  {
   "cell_type": "code",
   "execution_count": null,
   "metadata": {},
   "outputs": [],
   "source": [
    "list(carta.keys())"
   ]
  },
  {
   "cell_type": "code",
   "execution_count": null,
   "metadata": {},
   "outputs": [],
   "source": [
    "plt.figure(figsize=(14,9))\n",
    "for id in list(quadricula.keys()):\n",
    "    carta=quadricula[id]\n",
    "    #print(carta.keys())\n",
    "    plt.plot(*(carta['area']['geometry_proj']).exterior.xy,color='black')\n",
    "    plt.axis('scaled')\n",
    "    for data in list(carta.keys())[:]:\n",
    "        if 'gama' in data:\n",
    "            #print(data)\n",
    "            plt.scatter(carta[data].X,carta[data].Y,c=carta[data].UTHRAZAO,cmap='hsv',s=1,marker='H')    \n",
    "        else:\n",
    "            None\n",
    "plt.suptitle('Área de cobertura dos levantamentos aerogeofísicos')\n",
    "plt.axis('scaled')\n",
    "plt.tight_layout()"
   ]
  },
  {
   "cell_type": "markdown",
   "metadata": {
    "tags": []
   },
   "source": [
    "#### Visualizando dados Radiométricos Brutos"
   ]
  },
  {
   "cell_type": "code",
   "execution_count": null,
   "metadata": {},
   "outputs": [],
   "source": [
    "df = quadricula['SF23_YA_III']['gama_line_1105']\n",
    "#remove_negative_values()"
   ]
  },
  {
   "cell_type": "code",
   "execution_count": null,
   "metadata": {},
   "outputs": [],
   "source": [
    "plot_histograms(df,500,'Levantamento 1105 Dados radiométricos brutos')"
   ]
  },
  {
   "cell_type": "markdown",
   "metadata": {
    "tags": []
   },
   "source": [
    "# Interpolação dos dados Brutos"
   ]
  },
  {
   "cell_type": "markdown",
   "metadata": {
    "tags": []
   },
   "source": [
    "## Verde Splines"
   ]
  },
  {
   "cell_type": "markdown",
   "metadata": {
    "tags": []
   },
   "source": [
    "## Método Linear"
   ]
  },
  {
   "cell_type": "code",
   "execution_count": null,
   "metadata": {},
   "outputs": [],
   "source": [
    "list(quadricula['SF23_YA_III']['area'].keys())"
   ]
  },
  {
   "cell_type": "code",
   "execution_count": null,
   "metadata": {},
   "outputs": [],
   "source": [
    "quadricula['SF23_YA_III']['area']['area']"
   ]
  },
  {
   "cell_type": "code",
   "execution_count": null,
   "metadata": {
    "scrolled": true,
    "tags": []
   },
   "outputs": [],
   "source": [
    "traditional_interpolation(quadricula,'mag_line_1105','gama_line_1105','linear','geof_1105',extrapolate=True,projec='geog')\n",
    "#traditional_interpolation(quadricula,'mag_1039','gama_1039','linear','geof_1039',extrapolate=True)\n",
    "#traditional_interpolation(quadricula,'mag_3022','gama_3022','linear','geof_3022')"
   ]
  },
  {
   "cell_type": "code",
   "execution_count": null,
   "metadata": {},
   "outputs": [],
   "source": [
    "ds_c = quadricula['SF23_YA_III']['geof_1105_linear']\n",
    "#ds_d = quadricula['SF23_VD']['geof_1105_linear']\n",
    "#ds_a = quadricula['SF23_YA']['geof_1105_linear']\n",
    "#ds_b = quadricula['SF23_YB']['geof_1105_linear']\n"
   ]
  },
  {
   "cell_type": "code",
   "execution_count": null,
   "metadata": {},
   "outputs": [],
   "source": [
    "ds_c"
   ]
  },
  {
   "cell_type": "code",
   "execution_count": null,
   "metadata": {},
   "outputs": [],
   "source": [
    "fig, axes = plt.subplots(3,3,figsize=(12,9))\n",
    "list_data = list(ds_c.keys())\n",
    "for i,ax in enumerate(axes.flatten()):\n",
    "    \n",
    "    if i < len(list_data):\n",
    "        if list_data[i] == 'GMT':\n",
    "            ax.imshow(ds_a[list_data[i]],cmap='bwr')\n",
    "            ax.set(title=ds_a[list_data[i]].name)\n",
    "        elif list_data[i]=='MDT':\n",
    "            ax.imshow(ds_a[list_data[i]],cmap='terrain')\n",
    "            ax.set(title=ds_a[list_data[i]].name)\n",
    "        \n",
    "        else:\n",
    "            ax.imshow(ds_a[list_data[i]])\n",
    "            ax.set(title=ds_a[list_data[i]].name)"
   ]
  },
  {
   "cell_type": "code",
   "execution_count": null,
   "metadata": {},
   "outputs": [],
   "source": [
    "fig, axes = plt.subplots(3,3,figsize=(14,12))\n",
    "list_data = list(ds_a.keys())\n",
    "for i,ax in enumerate(axes.flatten()):\n",
    "    \n",
    "    if i < len(list_data):\n",
    "        if list_data[i] == 'GMT':\n",
    "            ax.imshow(ds_a[list_data[i]],cmap='bwr')\n",
    "            ax.set(title=ds_a[list_data[i]].name)\n",
    "        elif list_data[i]=='MDT':\n",
    "            ax.imshow(ds_a[list_data[i]],cmap='terrain')\n",
    "            ax.set(title=ds_a[list_data[i]].name)\n",
    "        \n",
    "        else:\n",
    "            ax.imshow(ds_a[list_data[i]])\n",
    "            ax.set(title=ds_a[list_data[i]].name)"
   ]
  },
  {
   "cell_type": "markdown",
   "metadata": {
    "tags": []
   },
   "source": [
    "# Classificações Não-Supervisionadas"
   ]
  },
  {
   "cell_type": "markdown",
   "metadata": {
    "tags": []
   },
   "source": [
    "## Rotulando amostras com classes litológicas"
   ]
  },
  {
   "cell_type": "code",
   "execution_count": null,
   "metadata": {},
   "outputs": [],
   "source": [
    "'''\n",
    "import shapely.speedups\n",
    "from shapely import geometry\n",
    "shapely.speedups.enable()\n",
    "\n",
    "#geof_1089_linear['geometry'] = [geometry.Point(x,y) for x, y in zip(geof_1089_linear['X'], geof_1089_linear['Y'])]\n",
    "#gdf_1089_linear = geof_1089_linear.set_geometry('geometry')\n",
    "\n",
    "#gdf_1089_linear.set_crs('EPSG:32723',inplace=True)\n",
    "#gdf_1089_linear.geometry\n",
    "\n",
    "#Upload_litologia(quadricula,'litologia_100k')\n",
    "\n",
    "litologia=quadricula['SB24_ZB_II']['litologia_100k']\n",
    "litologia.to_crs('EPSG:32724',inplace=True)\n",
    "print(litologia.crs)\n",
    "litologia.reset_index(drop=True,inplace=True)\n",
    "\n",
    "dic_litologico = describe_geologico(litologia)\n",
    "print(litologia.columns)\n",
    "\n",
    "#print(dic_litologico['SIGLA']['len'])\n",
    "#print(dic_litologico['SIGLA']['lista'])\n",
    "\n",
    "#litologia.plot('SIGLA',figsize=(16,16),legend=True)\n",
    "\n",
    "#geof_1089_linear['closest_unit'] = geof_1089_linear['geometry'].apply(lambda x: litologia['SIGLA'].iloc[litologia.distance(x).idxmin()]) # .idxmin() Retorna o indice do menor valor \n",
    "\n",
    "#geof_1089_linear.to_csv('/home/ggrl/database/csv/SB24_ZB_II_gama_linear_100m.csv',index=False)\n",
    "'''"
   ]
  },
  {
   "cell_type": "markdown",
   "metadata": {},
   "source": [
    "## Self-organizing maps (SOM)"
   ]
  },
  {
   "cell_type": "markdown",
   "metadata": {
    "tags": []
   },
   "source": [
    "### Pixel size"
   ]
  },
  {
   "cell_type": "code",
   "execution_count": null,
   "metadata": {
    "tags": []
   },
   "outputs": [],
   "source": [
    "#help(pcolormesh)"
   ]
  },
  {
   "cell_type": "code",
   "execution_count": null,
   "metadata": {},
   "outputs": [],
   "source": [
    "print(list(quadricula.keys()))\n",
    "print('')\n",
    "print(quadricula['SF23_YA'].keys())\n",
    "print('')\n",
    "ds_a = quadricula['SF23_YA']['geof_1105_linear']\n",
    "ds_b = quadricula['SF23_YB']['geof_1105_linear']"
   ]
  },
  {
   "cell_type": "code",
   "execution_count": null,
   "metadata": {},
   "outputs": [],
   "source": [
    "ds_b.LONGITUDE.values.max()"
   ]
  },
  {
   "cell_type": "code",
   "execution_count": null,
   "metadata": {},
   "outputs": [],
   "source": [
    "ds_a.LONGITUDE.values.max()"
   ]
  },
  {
   "cell_type": "code",
   "execution_count": null,
   "metadata": {},
   "outputs": [],
   "source": [
    "ds_b"
   ]
  },
  {
   "cell_type": "code",
   "execution_count": null,
   "metadata": {},
   "outputs": [],
   "source": [
    "ds_b['LATITUDE']"
   ]
  },
  {
   "cell_type": "code",
   "execution_count": null,
   "metadata": {},
   "outputs": [],
   "source": [
    "ds_a['LATITUDE']"
   ]
  },
  {
   "cell_type": "code",
   "execution_count": null,
   "metadata": {},
   "outputs": [],
   "source": [
    "ds = xr.combine_by_coords([ds_a,ds_b])"
   ]
  },
  {
   "cell_type": "code",
   "execution_count": null,
   "metadata": {},
   "outputs": [],
   "source": [
    "#for id in tqdm(list(quadricula.keys())):\n",
    "#    ds = quadricula[id]['geof_1105_linear']\n",
    "features = list(ds.keys())\n",
    "print(features)"
   ]
  },
  {
   "cell_type": "code",
   "execution_count": null,
   "metadata": {},
   "outputs": [],
   "source": [
    "df = ds[features].to_dataframe()\n",
    "df = df.reset_index()\n",
    "df"
   ]
  },
  {
   "cell_type": "code",
   "execution_count": null,
   "metadata": {},
   "outputs": [],
   "source": [
    "xpixel_size = (ds.LONGITUDE.max().values-ds.LONGITUDE.min().values)/ds.LONGITUDE.size\n",
    "ypixel_size = (ds.LATITUDE.max().values-ds.LATITUDE.min().values)/ds.LATITUDE.size\n",
    "print('x:', xpixel_size, 'y:', ypixel_size)"
   ]
  },
  {
   "cell_type": "code",
   "execution_count": null,
   "metadata": {},
   "outputs": [],
   "source": [
    "nx = ds.LATITUDE.size\n",
    "ny = ds.LONGITUDE.size\n",
    "\n",
    "print(ny,nx,ny/nx)\n",
    "\n",
    "xs = df.LONGITUDE.values.reshape(nx,ny)\n",
    "ys = df.LATITUDE.values.reshape(nx,ny)"
   ]
  },
  {
   "cell_type": "code",
   "execution_count": null,
   "metadata": {},
   "outputs": [],
   "source": [
    "def plot_corr(dataframe, size=10):\n",
    "    plt.figure(figsize = (size+size*0.2, size), facecolor='w')\n",
    "    corrMatrix = dataframe.corr()\n",
    "    sns.heatmap(np.round(corrMatrix,2), annot=True,vmin=-1,vmax=1,cmap='bwr',center=0)\n",
    "    plt.xticks(rotation=90, ha='right')\n",
    "    plt.yticks(rotation=0, ha='right')\n",
    "\n",
    "plot_corr(df, size=12)\n",
    "#plt.savefig('figs/correlation_matrix.png', dpi=400, bbox_inches='tight')"
   ]
  },
  {
   "cell_type": "code",
   "execution_count": null,
   "metadata": {},
   "outputs": [],
   "source": [
    "scaler = StandardScaler()\n",
    "data = scaler.fit_transform(df[features].values)\n",
    "data.shape"
   ]
  },
  {
   "cell_type": "code",
   "execution_count": null,
   "metadata": {},
   "outputs": [],
   "source": [
    "n_clusters=4\n",
    "lito_SOM = SOM(m=n_clusters, n=1, sigma=1.5, dim=len(features), max_iter=50)\n",
    "lito_SOM.fit(data)"
   ]
  },
  {
   "cell_type": "code",
   "execution_count": null,
   "metadata": {},
   "outputs": [],
   "source": [
    "# predição de classes\n",
    "predictions = lito_SOM.predict(data)"
   ]
  },
  {
   "cell_type": "code",
   "execution_count": null,
   "metadata": {},
   "outputs": [],
   "source": [
    "# create labels\n",
    "cluster_labels=[]\n",
    "for i in range(n_clusters):\n",
    "    cluster_labels+=[f'Classe {i+1}']"
   ]
  },
  {
   "cell_type": "code",
   "execution_count": null,
   "metadata": {},
   "outputs": [],
   "source": [
    "# classes weights\n",
    "fig, ax = plt.subplots(figsize=(19,19))\n",
    "im=ax.matshow(lito_SOM.weights,cmap='bwr',vmin=-1.5,vmax=1.5)\n",
    "for (i, j), z in np.ndenumerate(lito_SOM.weights):\n",
    "    ax.text(j, i, '{:0.2f}'.format(z), ha='center', va='center')\n",
    "\n",
    "plt.yticks(range(n_clusters), cluster_labels, fontsize=9)\n",
    "plt.xticks(range(len(features)), features, rotation=55, fontsize=10, ha='left')\n",
    "fig.colorbar(im, label='weights', orientation='horizontal')\n",
    "plt.gca().set_aspect('equal')\n",
    "plt.gcf().set_size_inches(10, 10)\n",
    "plt.show()"
   ]
  },
  {
   "cell_type": "code",
   "execution_count": null,
   "metadata": {},
   "outputs": [],
   "source": [
    "id_ = [1,2,3,4]\n",
    "relcolor =  matplotlib.cm.Set3\n",
    "colors = np.array(relcolor.colors)[id_]\n",
    "relcolor = matplotlib.colors.ListedColormap(colors)"
   ]
  },
  {
   "cell_type": "code",
   "execution_count": null,
   "metadata": {},
   "outputs": [],
   "source": [
    "idxs=np.arange(0, n_clusters, 1)\n",
    "half=(idxs[1]-idxs[0])/2\n",
    "ticks=np.linspace(idxs[0]+half, idxs[-1]-half, n_clusters)"
   ]
  },
  {
   "cell_type": "code",
   "execution_count": null,
   "metadata": {},
   "outputs": [],
   "source": [
    "print(xs.shape,ys.shape)"
   ]
  },
  {
   "cell_type": "code",
   "execution_count": null,
   "metadata": {},
   "outputs": [],
   "source": [
    "fig, ax=plt.subplots(figsize=(16, 16), facecolor='w')\n",
    "im=plt.pcolormesh(xs, ys, predictions.reshape(ny, nx), cmap=relcolor, shading='auto')\n",
    "plt.xlim(xs.min(), xs.max())\n",
    "plt.ylim(ys.min(), ys.max())\n",
    "cbar_ax = fig.add_axes([0.93, 0.3, 0.05, 0.4])\n",
    "cbar = fig.colorbar(im, cax=cbar_ax, label = u'Classes', orientation='vertical',\n",
    "                    ticks=ticks)\n",
    "cbar.ax.set_yticklabels(cluster_labels, fontsize=8)\n",
    "plt.suptitle('SOM - Aerogeophysical Data (SF23_YB_I)')\n",
    "plt.axis('scaled')\n",
    "plt.show()"
   ]
  },
  {
   "cell_type": "code",
   "execution_count": null,
   "metadata": {},
   "outputs": [],
   "source": [
    "features = ['MDT','GMT','F_factor']\n",
    "\n",
    "scaler = StandardScaler()\n",
    "data = scaler.fit_transform(df[features].values)\n",
    "n_clusters=10\n",
    "lito_SOM = SOM(m=n_clusters, n=1, sigma=1.5, dim=len(features), max_iter=10000)\n",
    "lito_SOM.fit(data)\n",
    "# predição de classes\n",
    "predictions = lito_SOM.predict(data)\n",
    "# create labels\n",
    "cluster_labels=[]\n",
    "for i in range(n_clusters):\n",
    "    cluster_labels+=[f'Classe {i+1}']\n",
    "\n",
    "\n",
    "# classes weights\n",
    "fig, ax = plt.subplots(figsize=(19,19))\n",
    "im=ax.matshow(lito_SOM.weights)\n",
    "for (i, j), z in np.ndenumerate(lito_SOM.weights):\n",
    "    ax.text(j, i, '{:0.2f}'.format(z), ha='center', va='center')\n",
    "\n",
    "plt.yticks(range(n_clusters), cluster_labels, fontsize=9)\n",
    "plt.xticks(range(len(features)), features, rotation=55, fontsize=10, ha='left')\n",
    "fig.colorbar(im, label='weights', orientation='horizontal')\n",
    "plt.gca().set_aspect('equal')\n",
    "plt.gcf().set_size_inches(10, 10)\n",
    "plt.show()\n",
    "import matplotlib\n",
    "id_ = [1,2,3,4,5,6,7,8,9,10]\n",
    "relcolor =  matplotlib.cm.Set3\n",
    "colors = np.array(relcolor.colors)[id_]\n",
    "relcolor = matplotlib.colors.ListedColormap(colors)\n",
    "idxs=np.arange(0, n_clusters, 1)\n",
    "half=(idxs[1]-idxs[0])/2\n",
    "ticks=np.linspace(idxs[0]+half, idxs[-1]-half, n_clusters)\n",
    "fig, ax=plt.subplots(figsize=(16, 16), facecolor='w')\n",
    "im=plt.pcolormesh(xs, ys, predictions.reshape(ny, nx), cmap=relcolor, shading='auto')\n",
    "plt.xlim(xs.min(), xs.max())\n",
    "plt.ylim(ys.min(), ys.max())\n",
    "cbar_ax = fig.add_axes([0.93, 0.3, 0.05, 0.4])\n",
    "cbar = fig.colorbar(im, cax=cbar_ax, label = u'Classes', orientation='vertical',\n",
    "                    ticks=ticks)\n",
    "cbar.ax.set_yticklabels(cluster_labels, fontsize=8)\n",
    "plt.suptitle('SOM - Aerogeophysical Data ( Aguas de Lindóia - SF23_YA_III4)')\n",
    "plt.axis('scaled')\n",
    "plt.show()"
   ]
  },
  {
   "cell_type": "code",
   "execution_count": null,
   "metadata": {},
   "outputs": [],
   "source": [
    "features = ['MDT','GMT','F_factor','CTCOR']\n",
    "\n",
    "scaler = StandardScaler()\n",
    "data = scaler.fit_transform(df[features].values)\n",
    "n_clusters=10\n",
    "lito_SOM = SOM(m=n_clusters, n=1, sigma=1.5, dim=len(features), max_iter=10000)\n",
    "lito_SOM.fit(data)\n",
    "# predição de classes\n",
    "predictions = lito_SOM.predict(data)\n",
    "# create labels\n",
    "cluster_labels=[]\n",
    "for i in range(n_clusters):\n",
    "    cluster_labels+=[f'Classe {i+1}']\n",
    "\n",
    "\n",
    "# classes weights\n",
    "fig, ax = plt.subplots(figsize=(19,19))\n",
    "im=ax.matshow(lito_SOM.weights)\n",
    "for (i, j), z in np.ndenumerate(lito_SOM.weights):\n",
    "    ax.text(j, i, '{:0.2f}'.format(z), ha='center', va='center')\n",
    "\n",
    "plt.yticks(range(n_clusters), cluster_labels, fontsize=9)\n",
    "plt.xticks(range(len(features)), features, rotation=55, fontsize=10, ha='left')\n",
    "fig.colorbar(im, label='weights', orientation='horizontal')\n",
    "plt.gca().set_aspect('equal')\n",
    "plt.gcf().set_size_inches(10, 10)\n",
    "plt.show()\n",
    "import matplotlib\n",
    "id_ = [1,2,3,4,5,6,7,8,9,10]\n",
    "relcolor =  matplotlib.cm.Set3\n",
    "colors = np.array(relcolor.colors)[id_]\n",
    "relcolor = matplotlib.colors.ListedColormap(colors)\n",
    "idxs=np.arange(0, n_clusters, 1)\n",
    "half=(idxs[1]-idxs[0])/2\n",
    "ticks=np.linspace(idxs[0]+half, idxs[-1]-half, n_clusters)\n",
    "fig, ax=plt.subplots(figsize=(16, 16), facecolor='w')\n",
    "im=plt.pcolormesh(xs, ys, predictions.reshape(ny, nx), cmap=relcolor, shading='auto')\n",
    "plt.xlim(xs.min(), xs.max())\n",
    "plt.ylim(ys.min(), ys.max())\n",
    "cbar_ax = fig.add_axes([0.93, 0.3, 0.05, 0.4])\n",
    "cbar = fig.colorbar(im, cax=cbar_ax, label = u'Classes', orientation='vertical',\n",
    "                    ticks=ticks)\n",
    "cbar.ax.set_yticklabels(cluster_labels, fontsize=8)\n",
    "plt.suptitle('SOM - Aerogeophysical Data ( Aguas de Lindóia - SF23_YA_III4)')\n",
    "plt.axis('scaled')\n",
    "plt.show()"
   ]
  },
  {
   "cell_type": "code",
   "execution_count": null,
   "metadata": {},
   "outputs": [],
   "source": [
    "# get attributes\n",
    "features = list(SF23_YA_III_4.keys())\n",
    "print(features)\n",
    "# transform a xarray.Dataset into pandas.Dataframe\n",
    "df = SF23_YA_III_4[features].to_dataframe()\n",
    "df = df.reset_index()"
   ]
  },
  {
   "cell_type": "code",
   "execution_count": null,
   "metadata": {},
   "outputs": [],
   "source": [
    "# visualize correlations\n",
    "plot_corr(df, size=12)\n",
    "# SELECT FEATURES\n",
    "features = ['MDT','GMT','F_factor']\n",
    "print(f' - Selected Features: {features}')"
   ]
  },
  {
   "cell_type": "code",
   "execution_count": null,
   "metadata": {},
   "outputs": [],
   "source": [
    "# get pixel size\n",
    "xpixel_size = (ds.LONGITUDE.max().values-ds.LONGITUDE.min().values)/ds.LONGITUDE.size\n",
    "ypixel_size = (ds.LATITUDE.max().values-ds.LATITUDE.min().values)/ds.LATITUDE.size\n",
    "print('x:', xpixel_size, 'y:', ypixel_size)\n",
    "# get number of pixels\n",
    "nx = ds.LATITUDE.size\n",
    "ny = ds.LONGITUDE.size\n",
    "print(f'x:{ny} ; y:{nx} | x/y: {ny/nx}')\n",
    "# reshape numpy.array into tuple of arrays\n",
    "xs = df.LONGITUDE.values.reshape(nx,ny)\n",
    "ys = df.LATITUDE.values.reshape(nx,ny)\n",
    "# transform - fit dataframe to scallar matrix of shape 250 x 250\n",
    "scaler = StandardScaler()\n",
    "data = scaler.fit_transform(df[features].values)\n",
    "print(f' - Scalar shape:   {data.shape}')\n",
    "# Clusters, n, sigma, iterations\n",
    "n_clusters=10\n",
    "lito_SOM = SOM(m=n_clusters, n=1, sigma=1.5, dim=len(features), max_iter=10000)\n",
    "lito_SOM.fit(data)\n",
    "# predição de classes\n",
    "predictions = lito_SOM.predict(data)\n",
    "# create labels\n",
    "cluster_labels=[]\n",
    "for i in range(n_clusters):\n",
    "    cluster_labels+=[f'Classe {i+1}']\n",
    "# classes weights\n",
    "fig, ax = plt.subplots(figsize=(19,19))\n",
    "im=ax.matshow(lito_SOM.weights)\n",
    "for (i, j), z in np.ndenumerate(lito_SOM.weights):\n",
    "    ax.text(j, i, '{:0.2f}'.format(z), ha='center', va='center')\n",
    "# \n",
    "plt.yticks(range(n_clusters), cluster_labels, fontsize=9)\n",
    "plt.xticks(range(len(features)), features, rotation=55, fontsize=10, ha='left')\n",
    "fig.colorbar(im, label='weights', orientation='horizontal')\n",
    "plt.gca().set_aspect('equal')\n",
    "plt.gcf().set_size_inches(10, 10)\n",
    "plt.show()\n",
    "import matplotlib\n",
    "id_ = [1,2,3,4,5,6,7,8,9,10]\n",
    "relcolor =  matplotlib.cm.Set3\n",
    "colors = np.array(relcolor.colors)[id_]\n",
    "relcolor = matplotlib.colors.ListedColormap(colors)\n",
    "idxs=np.arange(0, n_clusters, 1)\n",
    "half=(idxs[1]-idxs[0])/2\n",
    "ticks=np.linspace(idxs[0]+half, idxs[-1]-half, n_clusters)\n",
    "fig, ax=plt.subplots(figsize=(16, 16), facecolor='w')\n",
    "im=plt.pcolormesh(xs, ys, predictions.reshape(ny, nx), cmap=relcolor, shading='auto')\n",
    "plt.xlim(xs.min(), xs.max())\n",
    "plt.ylim(ys.min(), ys.max())\n",
    "cbar_ax = fig.add_axes([0.93, 0.3, 0.05, 0.4])\n",
    "cbar = fig.colorbar(im, cax=cbar_ax, label = u'Classes', orientation='vertical',\n",
    "                    ticks=ticks)\n",
    "cbar.ax.set_yticklabels(cluster_labels, fontsize=8)\n",
    "# \n",
    "plt.suptitle('SOM - Aerogeophysical Data ( Aguas de Lindóia - SF23_YA_III4)')\n",
    "plt.axis('scaled')\n",
    "plt.show()"
   ]
  },
  {
   "cell_type": "code",
   "execution_count": null,
   "metadata": {},
   "outputs": [],
   "source": []
  },
  {
   "cell_type": "code",
   "execution_count": null,
   "metadata": {},
   "outputs": [],
   "source": []
  }
 ],
 "metadata": {
  "kernelspec": {
   "display_name": "Python 3 (ipykernel)",
   "language": "python",
   "name": "python3"
  },
  "language_info": {
   "codemirror_mode": {
    "name": "ipython",
    "version": 3
   },
   "file_extension": ".py",
   "mimetype": "text/x-python",
   "name": "python",
   "nbconvert_exporter": "python",
   "pygments_lexer": "ipython3",
   "version": "3.11.3"
  },
  "toc-autonumbering": true,
  "toc-showcode": true,
  "toc-showmarkdowntxt": true,
  "vscode": {
   "interpreter": {
    "hash": "ed32a6a1b508148fc3ce5ac19a3a5a750fe820bd77e8693096b5866236bb4c36"
   }
  }
 },
 "nbformat": 4,
 "nbformat_minor": 4
}
