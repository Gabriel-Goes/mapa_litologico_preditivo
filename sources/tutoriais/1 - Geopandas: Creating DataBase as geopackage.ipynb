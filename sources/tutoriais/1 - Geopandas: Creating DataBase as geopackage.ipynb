{
 "cells": [
  {
   "cell_type": "markdown",
   "id": "a5b5a6be",
   "metadata": {},
   "source": [
    "### Criando Banco de Dados Geológicos com [GeoPandas](https://geopandas.org/getting_started.html)"
   ]
  },
  {
   "cell_type": "markdown",
   "id": "95642999",
   "metadata": {},
   "source": [
    "#### Importanto a biblioteca GeoPandas."
   ]
  },
  {
   "cell_type": "code",
   "execution_count": 1,
   "id": "0e6c7c17",
   "metadata": {},
   "outputs": [],
   "source": [
    "import geopandas as gpd"
   ]
  },
  {
   "cell_type": "markdown",
   "id": "c0855380",
   "metadata": {},
   "source": [
    "####  Definindo um apelido de atalho para nossa base de dados local."
   ]
  },
  {
   "cell_type": "code",
   "execution_count": 2,
   "id": "1c7c2a95",
   "metadata": {
    "scrolled": true
   },
   "outputs": [],
   "source": [
    "gdb = '/home/ggrl/geodatabase/'"
   ]
  },
  {
   "cell_type": "markdown",
   "id": "625ef169",
   "metadata": {},
   "source": [
    "####  Lendo as geometrias litoestratigráficas  '.shp' e definindo a cama com um nome para cada escala."
   ]
  },
  {
   "cell_type": "code",
   "execution_count": 3,
   "id": "21c6aaa4",
   "metadata": {},
   "outputs": [],
   "source": [
    "# abrindo unidades litoestratigráficas em escala de 1 : 1.000.000 \n",
    "l_1kk = gpd.read_file(gdb+'litostrat/1kk/Unidades_litoestratigráficas___1_1_000_000__2004_.shp')\n",
    "\n",
    "l_1kk.to_file(gdb+'database.gpkg',\n",
    "              driver='GPKG',\n",
    "              layer='l_1kk',)"
   ]
  },
  {
   "cell_type": "code",
   "execution_count": 4,
   "id": "3989d6be",
   "metadata": {},
   "outputs": [],
   "source": [
    "# Unidades Litoestratigráficas na escala de 1 : 250.000\n",
    "l_250k = gpd.read_file(gdb+'litostrat/250k/Unidades_litoestratigráficas___1_250_000.shp')\n",
    "\n",
    "l_250k.to_file(gdb+'database.gpkg',\n",
    "              driver='GPKG',\n",
    "              layer='l_250k')"
   ]
  },
  {
   "cell_type": "code",
   "execution_count": 8,
   "id": "c774da57",
   "metadata": {},
   "outputs": [
    {
     "data": {
      "text/plain": [
       "\"\\n# Unidades Litoestratigráficas na escalada de 1 : 150.000\\nl_150k = gpd.read_file(gdb+'litostrat/150k/Unidades_litoestratigráficas___1_150_000.shp')\\n\\nl_150k.to_file(gdb+'database.gpkg',\\n              driver='GPKG',\\n              layer='l_150k')\\n# Este shapefile está vazio, podendo ser um erro no download da base de dados do SGB ou apenas que não há mapas disponibilizado para esta escala.\\n\""
      ]
     },
     "execution_count": 8,
     "metadata": {},
     "output_type": "execute_result"
    }
   ],
   "source": [
    "'''\n",
    "# Unidades Litoestratigráficas na escalada de 1 : 150.000\n",
    "l_150k = gpd.read_file(gdb+'litostrat/150k/Unidades_litoestratigráficas___1_150_000.shp')\n",
    "\n",
    "l_150k.to_file(gdb+'database.gpkg',\n",
    "              driver='GPKG',\n",
    "              layer='l_150k')\n",
    "'''\n",
    "# Este shapefile está vazio, podendo ser um erro no download da base de dados do SGB ou\n",
    "# apenas que não há mapas disponibilizado para esta escala."
   ]
  },
  {
   "cell_type": "code",
   "execution_count": 6,
   "id": "d83550dd",
   "metadata": {},
   "outputs": [],
   "source": [
    "# Unidades Litoestratigráficas na escalada de 1 : 100.000\n",
    "l_100k = gpd.read_file(gdb+'litostrat/100k/Unidades_litoestratigráficas___1_100_000.shp')\n",
    "\n",
    "l_100k.to_file(gdb+'database.gpkg',\n",
    "              driver='GPKG',\n",
    "              layer='l_100k')"
   ]
  },
  {
   "cell_type": "code",
   "execution_count": 7,
   "id": "b38ec8cd",
   "metadata": {},
   "outputs": [],
   "source": [
    "# Unidades Litoestratigráficas na escalada de 1 : 50.000\n",
    "l_50k = gpd.read_file(gdb+'litostrat/50k/Unidades_litoestratigráficas___1_50_000.shp')\n",
    "\n",
    "l_50k.to_file(gdb+'database.gpkg',\n",
    "              driver='GPKG',\n",
    "              layer='l_50k')"
   ]
  },
  {
   "cell_type": "markdown",
   "id": "be2d41ad",
   "metadata": {},
   "source": [
    "#### Podemos, também, adicionar ao nosso GeoPackage geometrias outros tipos de geometria, como pontos de ocorrência mineral."
   ]
  },
  {
   "cell_type": "code",
   "execution_count": 8,
   "id": "80dd37ce",
   "metadata": {},
   "outputs": [],
   "source": [
    "ocorr_min = gpd.read_file(gdb+'ocorr_min/Ocorrências_minerais.shp')\n",
    "\n",
    "ocorr_min.to_file(gdb+'database.gpkg',\n",
    "                  driver='GPKG',\n",
    "                  layer='ocorr_min')"
   ]
  },
  {
   "cell_type": "code",
   "execution_count": 12,
   "id": "dd351025",
   "metadata": {},
   "outputs": [
    {
     "data": {
      "text/plain": [
       "(34599, 33)"
      ]
     },
     "execution_count": 12,
     "metadata": {},
     "output_type": "execute_result"
    }
   ],
   "source": [
    "ocorr_min.shape"
   ]
  },
  {
   "cell_type": "code",
   "execution_count": 13,
   "id": "4c6f0c30",
   "metadata": {},
   "outputs": [
    {
     "data": {
      "text/plain": [
       "Index(['ID_AFLORAM', 'ORIGEM', 'METODO_GEO', 'TOPONIMIA', 'MUNICIPIO', 'UF',\n",
       "       'GEOLOGO', 'DATA_CADAS', 'TIPO_AFLOR', 'DESCRICAO', 'NUMERO_CAM',\n",
       "       'ROCHAS', 'SUREG', 'PROJETO', 'CODIGO_FOL', 'FOLHA', 'ID_OCORREN',\n",
       "       'PROVINCIA', 'STATUS_ECO', 'IMPORTANCI', 'LOCALIZACA', 'SITUACAO_M',\n",
       "       'MOTIVO_INA', 'SITUACAO_G', 'MOTIVO_I_1', 'SUBSTANCIA', 'ROCHAS_HOS',\n",
       "       'ROCHAS_ENC', 'CLASSES_UT', 'MORFOLOGIA', 'TEXTURAS', 'TIPOS_ALTE',\n",
       "       'geometry'],\n",
       "      dtype='object')"
      ]
     },
     "execution_count": 13,
     "metadata": {},
     "output_type": "execute_result"
    }
   ],
   "source": [
    "ocorr_min.columns"
   ]
  },
  {
   "cell_type": "code",
   "execution_count": 16,
   "id": "c11d47d4",
   "metadata": {},
   "outputs": [
    {
     "data": {
      "text/plain": [
       "\"\\nan_geoq_pre = gpd.read_file(gdb+'an_geoq/pre_2012/data.gdb')\\n\\nan_geoq_pre.to_file(gdb+'database.gpkg',\\n                  driver='GPKG',\\n                  layer='an_geoq_pre')\\n\""
      ]
     },
     "execution_count": 16,
     "metadata": {},
     "output_type": "execute_result"
    }
   ],
   "source": [
    "'''\n",
    "an_geoq_pre = gpd.read_file(gdb+'an_geoq/pre_2012/data.gdb')\n",
    "\n",
    "an_geoq_pre.to_file(gdb+'database.gpkg',\n",
    "                  driver='GPKG',\n",
    "                  layer='an_geoq_pre')\n",
    "'''"
   ]
  },
  {
   "cell_type": "code",
   "execution_count": 17,
   "id": "f1781c31",
   "metadata": {},
   "outputs": [
    {
     "data": {
      "text/plain": [
       "\"\\nan_geoq_pos = gpd.read_file(gdb+'an_geoq/pos_2012/data.gdb')\\n\\nan_geoq_pos.to_file(gdb+'database.gpkg',\\n                  driver='GPKG',\\n                  layer='an_geoq_pos')\\n\""
      ]
     },
     "execution_count": 17,
     "metadata": {},
     "output_type": "execute_result"
    }
   ],
   "source": [
    "'''\n",
    "an_geoq_pos = gpd.read_file(gdb+'an_geoq/pos_2012/data.gdb')\n",
    "\n",
    "an_geoq_pos.to_file(gdb+'database.gpkg',\n",
    "                  driver='GPKG',\n",
    "                  layer='an_geoq_pos')\n",
    "'''"
   ]
  },
  {
   "cell_type": "code",
   "execution_count": 18,
   "id": "a4e45fb1",
   "metadata": {},
   "outputs": [
    {
     "data": {
      "text/plain": [
       "\"\\nan_min_pos = gpd.read_file(gdb+'an_min/pos_2012/data.gdb')\\n\\nan_min_pos.to_file(gdb+'database.gpkg',\\n                  driver='GPKG',\\n                  layer='an_min_pos')\\n\""
      ]
     },
     "execution_count": 18,
     "metadata": {},
     "output_type": "execute_result"
    }
   ],
   "source": [
    "'''\n",
    "an_min_pos = gpd.read_file(gdb+'an_min/pos_2012/data.gdb')\n",
    "\n",
    "an_min_pos.to_file(gdb+'database.gpkg',\n",
    "                  driver='GPKG',\n",
    "                  layer='an_min_pos')\n",
    "'''"
   ]
  },
  {
   "cell_type": "code",
   "execution_count": 19,
   "id": "1914f81e",
   "metadata": {},
   "outputs": [
    {
     "data": {
      "text/plain": [
       "\"\\nan_min_pre = gpd.read_file(gdb+'an_min/pre_2012/data.gdb')\\n\\nan_min_pre.to_file(gdb+'database.gpkg',\\n                  driver='GPKG',\\n                  layer='an_min_pre')\\n\""
      ]
     },
     "execution_count": 19,
     "metadata": {},
     "output_type": "execute_result"
    }
   ],
   "source": [
    "'''\n",
    "an_min_pre = gpd.read_file(gdb+'an_min/pre_2012/data.gdb')\n",
    "\n",
    "an_min_pre.to_file(gdb+'database.gpkg',\n",
    "                  driver='GPKG',\n",
    "                  layer='an_min_pre')\n",
    "'''"
   ]
  },
  {
   "cell_type": "code",
   "execution_count": 20,
   "id": "3e676c84",
   "metadata": {},
   "outputs": [],
   "source": [
    "aflora = gpd.read_file(gdb+'aflora/Afloramentos_geológicos.shp')\n",
    "\n",
    "aflora.to_file(gdb+'database.gpkg',\n",
    "                  driver='GPKG',\n",
    "                  layer='aflora')"
   ]
  },
  {
   "cell_type": "code",
   "execution_count": 21,
   "id": "73921ed4",
   "metadata": {},
   "outputs": [],
   "source": [
    "am_petro = gpd.read_file(gdb+'am_petro/Amostras_petrográficas.shp')\n",
    "\n",
    "am_petro.to_file(gdb+'database.gpkg',\n",
    "                  driver='GPKG',\n",
    "                  layer='am_petro')"
   ]
  },
  {
   "cell_type": "code",
   "execution_count": 9,
   "id": "9699680b",
   "metadata": {},
   "outputs": [],
   "source": [
    "proj_cprm = gpd.read_file(gdb+'projetos/cprm/Projetos_da_CPRM.shp')\n",
    "\n",
    "\n",
    "proj_cprm.to_file(gdb+'database.gpkg',\n",
    "                  driver='GPKG',\n",
    "                  layer='proj_cprm')"
   ]
  },
  {
   "cell_type": "code",
   "execution_count": 10,
   "id": "a6e5c25c",
   "metadata": {},
   "outputs": [],
   "source": [
    "proj_aerogeof = gpd.read_file(gdb+'/projetos/aerogeof/Projetos_de_aerogeofísica.shp')\n",
    "\n",
    "proj_aerogeof.to_file(gdb+'database.gpkg',\n",
    "                  driver='GPKG',\n",
    "                  layer='proj_aerogeof')"
   ]
  },
  {
   "cell_type": "code",
   "execution_count": 5,
   "id": "e8614f9c-60b8-4531-8336-265bae2e844c",
   "metadata": {},
   "outputs": [],
   "source": [
    "import geopandas as gpd\n",
    "import my_funcs as f"
   ]
  },
  {
   "cell_type": "code",
   "execution_count": 7,
   "id": "adf735d9",
   "metadata": {},
   "outputs": [],
   "source": [
    "socorro_250k = gpd.read_file(f.gdb+'litostrat/250k/socorro.shp')"
   ]
  },
  {
   "cell_type": "code",
   "execution_count": 12,
   "id": "21a0c852",
   "metadata": {},
   "outputs": [],
   "source": [
    "socorro_250k.to_file(gdb+'database.gpkg',\n",
    "                  driver='GPKG',\n",
    "                  layer='socorro_250k')                  "
   ]
  },
  {
   "cell_type": "code",
   "execution_count": 9,
   "id": "269871c2-6c17-4161-9b40-114ab8eae11b",
   "metadata": {},
   "outputs": [
    {
     "data": {
      "text/html": [
       "<div>\n",
       "<style scoped>\n",
       "    .dataframe tbody tr th:only-of-type {\n",
       "        vertical-align: middle;\n",
       "    }\n",
       "\n",
       "    .dataframe tbody tr th {\n",
       "        vertical-align: top;\n",
       "    }\n",
       "\n",
       "    .dataframe thead th {\n",
       "        text-align: right;\n",
       "    }\n",
       "</style>\n",
       "<table border=\"1\" class=\"dataframe\">\n",
       "  <thead>\n",
       "    <tr style=\"text-align: right;\">\n",
       "      <th></th>\n",
       "      <th>id</th>\n",
       "      <th>litologia</th>\n",
       "      <th>geometry</th>\n",
       "    </tr>\n",
       "  </thead>\n",
       "  <tbody>\n",
       "    <tr>\n",
       "      <th>0</th>\n",
       "      <td>0.0</td>\n",
       "      <td>34</td>\n",
       "      <td>POLYGON ((345186.707 7559158.013, 345136.915 7...</td>\n",
       "    </tr>\n",
       "    <tr>\n",
       "      <th>1</th>\n",
       "      <td>0.0</td>\n",
       "      <td>5</td>\n",
       "      <td>POLYGON ((345164.823 7561383.560, 345138.937 7...</td>\n",
       "    </tr>\n",
       "    <tr>\n",
       "      <th>2</th>\n",
       "      <td>0.0</td>\n",
       "      <td>35</td>\n",
       "      <td>POLYGON ((323776.991 7566137.214, 323756.868 7...</td>\n",
       "    </tr>\n",
       "    <tr>\n",
       "      <th>3</th>\n",
       "      <td>0.0</td>\n",
       "      <td>35</td>\n",
       "      <td>POLYGON ((338693.270 7557591.923, 338623.783 7...</td>\n",
       "    </tr>\n",
       "    <tr>\n",
       "      <th>4</th>\n",
       "      <td>0.0</td>\n",
       "      <td>32</td>\n",
       "      <td>POLYGON ((345326.331 7545003.497, 345053.343 7...</td>\n",
       "    </tr>\n",
       "    <tr>\n",
       "      <th>...</th>\n",
       "      <td>...</td>\n",
       "      <td>...</td>\n",
       "      <td>...</td>\n",
       "    </tr>\n",
       "    <tr>\n",
       "      <th>212</th>\n",
       "      <td>0.0</td>\n",
       "      <td>20</td>\n",
       "      <td>POLYGON ((338480.326 7477111.826, 338222.688 7...</td>\n",
       "    </tr>\n",
       "    <tr>\n",
       "      <th>213</th>\n",
       "      <td>0.0</td>\n",
       "      <td>44</td>\n",
       "      <td>POLYGON ((334123.991 7497025.380, 334080.654 7...</td>\n",
       "    </tr>\n",
       "    <tr>\n",
       "      <th>214</th>\n",
       "      <td>0.0</td>\n",
       "      <td>42</td>\n",
       "      <td>POLYGON ((337176.035 7527920.906, 337116.748 7...</td>\n",
       "    </tr>\n",
       "    <tr>\n",
       "      <th>215</th>\n",
       "      <td>0.0</td>\n",
       "      <td>47</td>\n",
       "      <td>POLYGON ((345547.764 7522712.905, 345488.083 7...</td>\n",
       "    </tr>\n",
       "    <tr>\n",
       "      <th>216</th>\n",
       "      <td>0.0</td>\n",
       "      <td>47</td>\n",
       "      <td>POLYGON ((317521.540 7494786.647, 317697.911 7...</td>\n",
       "    </tr>\n",
       "  </tbody>\n",
       "</table>\n",
       "<p>217 rows × 3 columns</p>\n",
       "</div>"
      ],
      "text/plain": [
       "      id litologia                                           geometry\n",
       "0    0.0        34  POLYGON ((345186.707 7559158.013, 345136.915 7...\n",
       "1    0.0         5  POLYGON ((345164.823 7561383.560, 345138.937 7...\n",
       "2    0.0        35  POLYGON ((323776.991 7566137.214, 323756.868 7...\n",
       "3    0.0        35  POLYGON ((338693.270 7557591.923, 338623.783 7...\n",
       "4    0.0        32  POLYGON ((345326.331 7545003.497, 345053.343 7...\n",
       "..   ...       ...                                                ...\n",
       "212  0.0        20  POLYGON ((338480.326 7477111.826, 338222.688 7...\n",
       "213  0.0        44  POLYGON ((334123.991 7497025.380, 334080.654 7...\n",
       "214  0.0        42  POLYGON ((337176.035 7527920.906, 337116.748 7...\n",
       "215  0.0        47  POLYGON ((345547.764 7522712.905, 345488.083 7...\n",
       "216  0.0        47  POLYGON ((317521.540 7494786.647, 317697.911 7...\n",
       "\n",
       "[217 rows x 3 columns]"
      ]
     },
     "execution_count": 9,
     "metadata": {},
     "output_type": "execute_result"
    }
   ],
   "source": [
    "socorro_250k"
   ]
  },
  {
   "cell_type": "code",
   "execution_count": 8,
   "id": "27b69605",
   "metadata": {},
   "outputs": [
    {
     "ename": "SyntaxError",
     "evalue": "positional argument follows keyword argument (2284547676.py, line 1)",
     "output_type": "error",
     "traceback": [
      "\u001b[0;36m  File \u001b[0;32m\"/tmp/ipykernel_156402/2284547676.py\"\u001b[0;36m, line \u001b[0;32m1\u001b[0m\n\u001b[0;31m    socorro_250k.plot(title='Leste da Folha Campinas - SF23 ','litologia',figsize=(6,12))\u001b[0m\n\u001b[0m                                                             ^\u001b[0m\n\u001b[0;31mSyntaxError\u001b[0m\u001b[0;31m:\u001b[0m positional argument follows keyword argument\n"
     ]
    }
   ],
   "source": [
    "socorro_250k.plot(title='Leste da Folha Campinas - SF23 ','litologia',figsize=(6,12))"
   ]
  },
  {
   "cell_type": "code",
   "execution_count": null,
   "id": "2cbfdd49",
   "metadata": {},
   "outputs": [],
   "source": []
  }
 ],
 "metadata": {
  "interpreter": {
   "hash": "2bc076d9378ac5ac660ba4f6a46900d2ea3732140aaa213526ceb6851acbc3f5"
  },
  "kernelspec": {
   "display_name": "Python [conda env:geologist_bot]",
   "language": "python",
   "name": "conda-env-geologist_bot-py"
  },
  "language_info": {
   "codemirror_mode": {
    "name": "ipython",
    "version": 3
   },
   "file_extension": ".py",
   "mimetype": "text/x-python",
   "name": "python",
   "nbconvert_exporter": "python",
   "pygments_lexer": "ipython3",
   "version": "3.7.11"
  }
 },
 "nbformat": 4,
 "nbformat_minor": 5
}
