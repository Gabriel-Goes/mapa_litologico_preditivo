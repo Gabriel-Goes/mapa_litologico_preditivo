{
 "cells": [
  {
   "cell_type": "code",
   "execution_count": null,
   "source": [],
   "outputs": [],
   "metadata": {}
  }
 ],
 "metadata": {
  "orig_nbformat": 4,
  "language_info": {
   "name": "python",
   "version": "3.8.2"
  },
  "kernelspec": {
   "name": "python3",
   "display_name": "Python 3.8.2 64-bit ('mappingBot': conda)"
  },
  "interpreter": {
   "hash": "2bc076d9378ac5ac660ba4f6a46900d2ea3732140aaa213526ceb6851acbc3f5"
  }
 },
 "nbformat": 4,
 "nbformat_minor": 2
}