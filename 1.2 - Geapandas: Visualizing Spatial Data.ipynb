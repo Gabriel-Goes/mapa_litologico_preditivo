{
 "cells": [
  {
   "cell_type": "code",
   "execution_count": 1,
   "metadata": {},
   "outputs": [],
   "source": [
    "import geopandas as gpd\n",
    "import matplotlib.pyplot as plt\n",
    "\n",
    "%matplotlib widget"
   ]
  },
  {
   "cell_type": "code",
   "execution_count": 2,
   "metadata": {},
   "outputs": [],
   "source": [
    "from sources.importar import geometrias\n",
    "from sources.descricao import metadataframe, describe_geologico\n",
    "from sources.filtros import filtro"
   ]
  },
  {
   "cell_type": "code",
   "execution_count": 69,
   "metadata": {},
   "outputs": [],
   "source": [
    "litologia_1kk = geometrias('litologia_1kk')"
   ]
  },
  {
   "cell_type": "code",
   "execution_count": 68,
   "metadata": {},
   "outputs": [],
   "source": [
    "litologia_250k = geometrias('litologia_250k')\n",
    "litologia_100k = geometrias('litologia_100k')\n",
    "litologia_50k = geometrias('litologia_50k')"
   ]
  },
  {
   "cell_type": "code",
   "execution_count": 4,
   "metadata": {},
   "outputs": [
    {
     "data": {
      "text/html": [
       "<div>\n",
       "<style scoped>\n",
       "    .dataframe tbody tr th:only-of-type {\n",
       "        vertical-align: middle;\n",
       "    }\n",
       "\n",
       "    .dataframe tbody tr th {\n",
       "        vertical-align: top;\n",
       "    }\n",
       "\n",
       "    .dataframe thead th {\n",
       "        text-align: right;\n",
       "    }\n",
       "</style>\n",
       "<table border=\"1\" class=\"dataframe\">\n",
       "  <thead>\n",
       "    <tr style=\"text-align: right;\">\n",
       "      <th></th>\n",
       "      <th>dType</th>\n",
       "      <th>Valores null</th>\n",
       "      <th>Valores unicos</th>\n",
       "    </tr>\n",
       "  </thead>\n",
       "  <tbody>\n",
       "    <tr>\n",
       "      <th>ID_UNIDADE</th>\n",
       "      <td>int64</td>\n",
       "      <td>0</td>\n",
       "      <td>2334</td>\n",
       "    </tr>\n",
       "    <tr>\n",
       "      <th>SIGLA</th>\n",
       "      <td>object</td>\n",
       "      <td>0</td>\n",
       "      <td>2334</td>\n",
       "    </tr>\n",
       "    <tr>\n",
       "      <th>HIERARQUIA</th>\n",
       "      <td>object</td>\n",
       "      <td>0</td>\n",
       "      <td>30</td>\n",
       "    </tr>\n",
       "    <tr>\n",
       "      <th>NOME</th>\n",
       "      <td>object</td>\n",
       "      <td>0</td>\n",
       "      <td>2299</td>\n",
       "    </tr>\n",
       "    <tr>\n",
       "      <th>AMBIENTE_T</th>\n",
       "      <td>object</td>\n",
       "      <td>30843</td>\n",
       "      <td>9</td>\n",
       "    </tr>\n",
       "    <tr>\n",
       "      <th>SUB_AMBIEN</th>\n",
       "      <td>object</td>\n",
       "      <td>37895</td>\n",
       "      <td>28</td>\n",
       "    </tr>\n",
       "    <tr>\n",
       "      <th>SIGLA_PAI</th>\n",
       "      <td>object</td>\n",
       "      <td>31035</td>\n",
       "      <td>380</td>\n",
       "    </tr>\n",
       "    <tr>\n",
       "      <th>NOME_PAI</th>\n",
       "      <td>object</td>\n",
       "      <td>31035</td>\n",
       "      <td>380</td>\n",
       "    </tr>\n",
       "    <tr>\n",
       "      <th>LEGENDA</th>\n",
       "      <td>object</td>\n",
       "      <td>13</td>\n",
       "      <td>2095</td>\n",
       "    </tr>\n",
       "    <tr>\n",
       "      <th>ESCALA</th>\n",
       "      <td>object</td>\n",
       "      <td>0</td>\n",
       "      <td>1</td>\n",
       "    </tr>\n",
       "    <tr>\n",
       "      <th>MAPA</th>\n",
       "      <td>object</td>\n",
       "      <td>0</td>\n",
       "      <td>45</td>\n",
       "    </tr>\n",
       "    <tr>\n",
       "      <th>LITOTIPOS</th>\n",
       "      <td>object</td>\n",
       "      <td>0</td>\n",
       "      <td>1637</td>\n",
       "    </tr>\n",
       "    <tr>\n",
       "      <th>RANGE</th>\n",
       "      <td>object</td>\n",
       "      <td>0</td>\n",
       "      <td>112</td>\n",
       "    </tr>\n",
       "    <tr>\n",
       "      <th>IDADE_MIN</th>\n",
       "      <td>int64</td>\n",
       "      <td>0</td>\n",
       "      <td>43</td>\n",
       "    </tr>\n",
       "    <tr>\n",
       "      <th>IDADE_MAX</th>\n",
       "      <td>int64</td>\n",
       "      <td>0</td>\n",
       "      <td>44</td>\n",
       "    </tr>\n",
       "    <tr>\n",
       "      <th>EON_MIN</th>\n",
       "      <td>object</td>\n",
       "      <td>0</td>\n",
       "      <td>3</td>\n",
       "    </tr>\n",
       "    <tr>\n",
       "      <th>EON_MAX</th>\n",
       "      <td>object</td>\n",
       "      <td>0</td>\n",
       "      <td>3</td>\n",
       "    </tr>\n",
       "    <tr>\n",
       "      <th>ERA_MIN</th>\n",
       "      <td>object</td>\n",
       "      <td>0</td>\n",
       "      <td>9</td>\n",
       "    </tr>\n",
       "    <tr>\n",
       "      <th>ERA_MAX</th>\n",
       "      <td>object</td>\n",
       "      <td>0</td>\n",
       "      <td>10</td>\n",
       "    </tr>\n",
       "    <tr>\n",
       "      <th>SISTEMA_MI</th>\n",
       "      <td>object</td>\n",
       "      <td>1943</td>\n",
       "      <td>21</td>\n",
       "    </tr>\n",
       "    <tr>\n",
       "      <th>SISTEMA_MA</th>\n",
       "      <td>object</td>\n",
       "      <td>2534</td>\n",
       "      <td>21</td>\n",
       "    </tr>\n",
       "    <tr>\n",
       "      <th>EPOCA_MIN</th>\n",
       "      <td>object</td>\n",
       "      <td>1943</td>\n",
       "      <td>15</td>\n",
       "    </tr>\n",
       "    <tr>\n",
       "      <th>EPOCA_MAX</th>\n",
       "      <td>object</td>\n",
       "      <td>2534</td>\n",
       "      <td>15</td>\n",
       "    </tr>\n",
       "    <tr>\n",
       "      <th>SIGLAS_HIS</th>\n",
       "      <td>object</td>\n",
       "      <td>18820</td>\n",
       "      <td>1103</td>\n",
       "    </tr>\n",
       "    <tr>\n",
       "      <th>SHAPE_AREA</th>\n",
       "      <td>float64</td>\n",
       "      <td>0</td>\n",
       "      <td>46705</td>\n",
       "    </tr>\n",
       "    <tr>\n",
       "      <th>SHAPE_LEN</th>\n",
       "      <td>float64</td>\n",
       "      <td>0</td>\n",
       "      <td>46705</td>\n",
       "    </tr>\n",
       "    <tr>\n",
       "      <th>geometry</th>\n",
       "      <td>geometry</td>\n",
       "      <td>0</td>\n",
       "      <td>46705</td>\n",
       "    </tr>\n",
       "  </tbody>\n",
       "</table>\n",
       "</div>"
      ],
      "text/plain": [
       "               dType  Valores null  Valores unicos\n",
       "ID_UNIDADE     int64             0            2334\n",
       "SIGLA         object             0            2334\n",
       "HIERARQUIA    object             0              30\n",
       "NOME          object             0            2299\n",
       "AMBIENTE_T    object         30843               9\n",
       "SUB_AMBIEN    object         37895              28\n",
       "SIGLA_PAI     object         31035             380\n",
       "NOME_PAI      object         31035             380\n",
       "LEGENDA       object            13            2095\n",
       "ESCALA        object             0               1\n",
       "MAPA          object             0              45\n",
       "LITOTIPOS     object             0            1637\n",
       "RANGE         object             0             112\n",
       "IDADE_MIN      int64             0              43\n",
       "IDADE_MAX      int64             0              44\n",
       "EON_MIN       object             0               3\n",
       "EON_MAX       object             0               3\n",
       "ERA_MIN       object             0               9\n",
       "ERA_MAX       object             0              10\n",
       "SISTEMA_MI    object          1943              21\n",
       "SISTEMA_MA    object          2534              21\n",
       "EPOCA_MIN     object          1943              15\n",
       "EPOCA_MAX     object          2534              15\n",
       "SIGLAS_HIS    object         18820            1103\n",
       "SHAPE_AREA   float64             0           46705\n",
       "SHAPE_LEN    float64             0           46705\n",
       "geometry    geometry             0           46705"
      ]
     },
     "execution_count": 4,
     "metadata": {},
     "output_type": "execute_result"
    }
   ],
   "source": [
    "metadataframe(litologia_1kk)"
   ]
  },
  {
   "cell_type": "code",
   "execution_count": 88,
   "metadata": {},
   "outputs": [],
   "source": [
    "grafita_xistos_1kk = filtro(litologia_1kk,'Grafita xisto')\n",
    "#litologia_grafitica_1kk = filtro(litologia_1kk,'graf')"
   ]
  },
  {
   "cell_type": "code",
   "execution_count": 61,
   "metadata": {},
   "outputs": [],
   "source": [
    "dic_list_litotipos_legenda = describe_geologico(grafita_xistos_1kk)"
   ]
  },
  {
   "cell_type": "code",
   "execution_count": 89,
   "metadata": {},
   "outputs": [
    {
     "data": {
      "text/plain": [
       "['Anfibolito, Grafita xisto, Metapelito, Quartzito',\n",
       " 'Formação ferrífera bandada, Grafita xisto, Metachert, Rocha metassedimentar, Rocha metavulcânica ultramáfica, Serpentinito',\n",
       " 'Biotita-anfibólio xisto, Biotita-quartzo xisto, Filito, Grafita xisto, Mármore calcítico, Mármore dolomítico, Metatufo, Quartzo-mica xisto, Rocha calcissilicática, Xisto carbonático',\n",
       " 'Clorita xisto, Grafita xisto, Hornblenda gnaisse, Metacalcário, Muscovita quartzito, Muscovita-biotita xisto, Quartzito ferruginoso, Talco xisto',\n",
       " 'Clorita xisto, Grafita xisto, Metachert, Metadacito, Metatufo, Xisto',\n",
       " 'Biotita gnaisse, Gnaisse, Gondito, Grafita xisto, Granada gnaisse, Kinzigito, Mármore, Muscovita quartzito, Quartzito, Rocha calcissilicática, Sericita xisto, Xisto',\n",
       " 'Grafita xisto, Metachert, Muscovita quartzito, Quartzito ferruginoso, Xisto, Xisto aluminoso',\n",
       " 'Clorita xisto, Cloritito, Formação ferrífera bandada, Grafita xisto, Muscovita-biotita xisto, Piroxenito, Serpentinito, Talco xisto, Xisto magnesiano',\n",
       " 'Biotita xisto, Biotita-muscovita-quartzo xisto, Grafita xisto, Granada-biotita-muscovita-quartzo xisto, Granada-clorita xisto, Mármore, Metaconglomerado suportado por clastos, Metapsamito, Metarcóseo, Quartzito ferruginoso',\n",
       " 'Filito, Grafita xisto, Quartzo-mica xisto',\n",
       " 'Ardósia, Filito, Grafita xisto, Metarenito, Metargilito, Metassiltito, Mica xisto, Sericita xisto, Xisto',\n",
       " 'Biotita gnaisse, Clorita xisto, Grafita xisto, Metaconglomerado, Metapelito, Metarritmito, Mica xisto, Paragnaisse, Turmalinito',\n",
       " 'Biotita gnaisse, Biotita xisto, Grafita xisto, Mármore, Muscovita-biotita xisto, Rocha calcissilicática, Talco xisto',\n",
       " 'Grafita xisto, Metadiamictito, Metapelito, Quartzito ferruginoso',\n",
       " 'Formação ferrífera bandada, Grafita xisto, Mármore, Metakomatiíto, Metamáfica, Quartzito ferruginoso, Rocha calcissilicática, Xisto',\n",
       " 'Formação ferrífera bandada, Grafita xisto, Kinzigito, Metamáfica, Paragnaisse, Rocha calcissilicática, Rocha metaultramáfica',\n",
       " 'Grafita xisto, Metabasito, Metachert',\n",
       " 'Formação ferrífera bandada, Grafita xisto, Mármore, Metabasalto, Metachert, Metagabro, Metakomatiíto, Mica xisto, Rocha calcissilicática',\n",
       " 'Formação ferrífera bandada, Grafita xisto, Metabasalto, Metachert',\n",
       " 'Grafita xisto, Metabasalto, Metachert, Metamáfica, Metatufo, Muscovita quartzito, Muscovita-biotita xisto, Rocha metaultramáfica, Sericita xisto, Turmalinito',\n",
       " 'Grafita xisto, Metadiamictito, Quartzo xisto, Rocha calcissilicática',\n",
       " 'Biotita xisto, Formação ferrífera bandada, Gnaisse, Grafita xisto, Mármore, Metagrauvaca, Metamáfica, Metamarga, Metavulcanoclástica, Mica xisto, Ortoanfibolito, Paragnaisse, Rocha calcissilicática, Rocha metaultramáfica',\n",
       " 'Anfibolito, Clorita xisto, Grafita xisto, Granada-biotita xisto, Paragnaisse, Quartzito micáceo, Talco xisto, Turmalinito',\n",
       " 'Grafita xisto, Xisto aluminoso, Xisto carbonático',\n",
       " 'Biotita gnaisse, Grafita xisto, Metachert, Metarriolito, Metatufo, Xisto, Xisto aluminoso, Xisto carbonático',\n",
       " 'Grafita xisto',\n",
       " 'Chert, Clorita xisto, Grafita xisto, Metaconglomerado, Metatufo, Xisto',\n",
       " 'Dolomito, Filito, Formação ferrífera bandada, Grafita xisto, Metachert, Quartzo xisto, Xisto',\n",
       " 'Formação ferrífera bandada, Grafita xisto, Metachert, Sericita xisto']"
      ]
     },
     "execution_count": 89,
     "metadata": {},
     "output_type": "execute_result"
    }
   ],
   "source": [
    "dic_list_litotipos_legenda['lista_litotipos']"
   ]
  },
  {
   "cell_type": "code",
   "execution_count": 104,
   "metadata": {},
   "outputs": [
    {
     "data": {
      "application/vnd.jupyter.widget-view+json": {
       "model_id": "8903ecac761b40e392d1c54357ae86e7",
       "version_major": 2,
       "version_minor": 0
      },
      "text/plain": [
       "Canvas(toolbar=Toolbar(toolitems=[('Home', 'Reset original view', 'home', 'home'), ('Back', 'Back to previous …"
      ]
     },
     "metadata": {},
     "output_type": "display_data"
    },
    {
     "data": {
      "text/plain": [
       "<AxesSubplot:>"
      ]
     },
     "execution_count": 104,
     "metadata": {},
     "output_type": "execute_result"
    }
   ],
   "source": [
    "ax = litologia_1kk.plot('HIERARQUIA')\n",
    "\n",
    "grafita_xistos_1kk.plot(color='Red',ax=ax,legend=True, \\\n",
    "                legend_kwds={'loc' : 'center left', 'bbox_to_anchor':(1,0.5)})"
   ]
  },
  {
   "cell_type": "markdown",
   "metadata": {},
   "source": [
    "## THE PLOTTING TECHNIQUES WITH PYTHON LIBRARIES ARE NOT FULLY UNDERSTOOD TO PRODUCE MAPS WITH CARTOGRAPHIC RIGOR, HENCE THE PRODUCTION OF MAPS WILL BE EXECUTED WITH QGIS"
   ]
  },
  {
   "cell_type": "markdown",
   "metadata": {},
   "source": [
    "### To do so, we have to export layers that we produced to our local machine with GeoDataFrame.to_file('PATH') function."
   ]
  }
 ],
 "metadata": {
  "interpreter": {
   "hash": "d412e3d091f5968552f8aa760bc8da416522b5884f97efbbec2149c97127b032"
  },
  "kernelspec": {
   "display_name": "Python 3.8.11 64-bit ('geologist_bot': conda)",
   "name": "python3"
  },
  "language_info": {
   "codemirror_mode": {
    "name": "ipython",
    "version": 3
   },
   "file_extension": ".py",
   "mimetype": "text/x-python",
   "name": "python",
   "nbconvert_exporter": "python",
   "pygments_lexer": "ipython3",
   "version": "3.8.11"
  },
  "orig_nbformat": 4
 },
 "nbformat": 4,
 "nbformat_minor": 2
}
