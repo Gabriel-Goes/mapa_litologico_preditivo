{
 "cells": [
  {
   "cell_type": "markdown",
   "source": [
    "# Automaçao da Malha Cartografica"
   ],
   "metadata": {}
  },
  {
   "cell_type": "code",
   "execution_count": 1,
   "source": [
    "from sources import source_code as f\n",
    "from sources import nomeador as nome"
   ],
   "outputs": [],
   "metadata": {}
  },
  {
   "cell_type": "code",
   "execution_count": 2,
   "source": [
    "import pandas as pd\n",
    "import verde as vd\n",
    "import numpy as np\n",
    "import geopandas as gpd\n",
    "import rioxarray as rio\n",
    "import pyproj\n",
    "\n",
    "import matplotlib.pyplot as plt\n",
    "\n",
    "gdb = '/home/ggrl/geodatabase/'"
   ],
   "outputs": [],
   "metadata": {}
  },
  {
   "cell_type": "code",
   "execution_count": 3,
   "source": [
    "%matplotlib widget"
   ],
   "outputs": [],
   "metadata": {}
  },
  {
   "cell_type": "code",
   "execution_count": 3,
   "source": [
    "def plot_base(gdf,atributo=None,escala=None,nome=None):\n",
    "    litologia = f.importar(escala,nome)\n",
    "\n",
    "    if atributo:\n",
    "        ax = litologia.plot('SIGLA')\n",
    "        gdf.plot(atributo,ax=ax)\n",
    "    else:\n",
    "        ax = litologia.plot('SIGLA')\n",
    "        gdf.plot(ax=ax)"
   ],
   "outputs": [],
   "metadata": {}
  },
  {
   "cell_type": "markdown",
   "source": [
    "## Com a funçao de produçao de grids da biblioteca GDAL disponibilzada pelo software livre QGIS foi possivel construir uma malha cartografica para as escalas de 1:25.000, 50.000, 100.000, 250.000 e 1.000.000 \n",
    "\n",
    "## E a partir destas malhas cartograficas vamos setorizar o territorio continental brasileiro nomeando cada setor a partir do sistema de automatizaçao de folhas de cartas que utiliza os vertices da geometria retangular para nomear cada setor.  a biblioteca GeoPandas do primeiro grupo de JupyterNotebooks"
   ],
   "metadata": {}
  },
  {
   "cell_type": "code",
   "execution_count": 5,
   "source": [
    "# Lendo cama vertorial gerada no QGIS com poligonos de 6º x 4º [Folhas em escala de 1:1.000.000]\n",
    "malha_cartog_1kk = gpd.read_file(gdb+'cartografia/malha_cartog_1kk_wgs84.shp')\n",
    "malha_cartog_1kk.head(5)"
   ],
   "outputs": [
    {
     "output_type": "execute_result",
     "data": {
      "text/html": [
       "<div>\n",
       "<style scoped>\n",
       "    .dataframe tbody tr th:only-of-type {\n",
       "        vertical-align: middle;\n",
       "    }\n",
       "\n",
       "    .dataframe tbody tr th {\n",
       "        vertical-align: top;\n",
       "    }\n",
       "\n",
       "    .dataframe thead th {\n",
       "        text-align: right;\n",
       "    }\n",
       "</style>\n",
       "<table border=\"1\" class=\"dataframe\">\n",
       "  <thead>\n",
       "    <tr style=\"text-align: right;\">\n",
       "      <th></th>\n",
       "      <th>id</th>\n",
       "      <th>left</th>\n",
       "      <th>top</th>\n",
       "      <th>right</th>\n",
       "      <th>bottom</th>\n",
       "      <th>geometry</th>\n",
       "    </tr>\n",
       "  </thead>\n",
       "  <tbody>\n",
       "    <tr>\n",
       "      <th>0</th>\n",
       "      <td>4.0</td>\n",
       "      <td>-78.0</td>\n",
       "      <td>-4.0</td>\n",
       "      <td>-72.0</td>\n",
       "      <td>-8.0</td>\n",
       "      <td>POLYGON ((-78.00000 -4.00000, -72.00000 -4.000...</td>\n",
       "    </tr>\n",
       "    <tr>\n",
       "      <th>1</th>\n",
       "      <td>5.0</td>\n",
       "      <td>-78.0</td>\n",
       "      <td>-8.0</td>\n",
       "      <td>-72.0</td>\n",
       "      <td>-12.0</td>\n",
       "      <td>POLYGON ((-78.00000 -8.00000, -72.00000 -8.000...</td>\n",
       "    </tr>\n",
       "    <tr>\n",
       "      <th>2</th>\n",
       "      <td>13.0</td>\n",
       "      <td>-72.0</td>\n",
       "      <td>4.0</td>\n",
       "      <td>-66.0</td>\n",
       "      <td>0.0</td>\n",
       "      <td>POLYGON ((-72.00000 4.00000, -66.00000 4.00000...</td>\n",
       "    </tr>\n",
       "    <tr>\n",
       "      <th>3</th>\n",
       "      <td>14.0</td>\n",
       "      <td>-72.0</td>\n",
       "      <td>0.0</td>\n",
       "      <td>-66.0</td>\n",
       "      <td>-4.0</td>\n",
       "      <td>POLYGON ((-72.00000 0.00000, -66.00000 0.00000...</td>\n",
       "    </tr>\n",
       "    <tr>\n",
       "      <th>4</th>\n",
       "      <td>15.0</td>\n",
       "      <td>-72.0</td>\n",
       "      <td>-4.0</td>\n",
       "      <td>-66.0</td>\n",
       "      <td>-8.0</td>\n",
       "      <td>POLYGON ((-72.00000 -4.00000, -66.00000 -4.000...</td>\n",
       "    </tr>\n",
       "  </tbody>\n",
       "</table>\n",
       "</div>"
      ],
      "text/plain": [
       "     id  left  top  right  bottom  \\\n",
       "0   4.0 -78.0 -4.0  -72.0    -8.0   \n",
       "1   5.0 -78.0 -8.0  -72.0   -12.0   \n",
       "2  13.0 -72.0  4.0  -66.0     0.0   \n",
       "3  14.0 -72.0  0.0  -66.0    -4.0   \n",
       "4  15.0 -72.0 -4.0  -66.0    -8.0   \n",
       "\n",
       "                                            geometry  \n",
       "0  POLYGON ((-78.00000 -4.00000, -72.00000 -4.000...  \n",
       "1  POLYGON ((-78.00000 -8.00000, -72.00000 -8.000...  \n",
       "2  POLYGON ((-72.00000 4.00000, -66.00000 4.00000...  \n",
       "3  POLYGON ((-72.00000 0.00000, -66.00000 0.00000...  \n",
       "4  POLYGON ((-72.00000 -4.00000, -66.00000 -4.000...  "
      ]
     },
     "metadata": {},
     "execution_count": 5
    }
   ],
   "metadata": {}
  },
  {
   "cell_type": "code",
   "execution_count": 6,
   "source": [
    "f.plot_brazil(malha_cartog_1kk.boundary)"
   ],
   "outputs": [
    {
     "output_type": "display_data",
     "data": {
      "application/vnd.jupyter.widget-view+json": {
       "version_major": 2,
       "version_minor": 0,
       "model_id": "7dc60cdae39a4056b98b91bfe7d1cd81"
      },
      "text/plain": [
       "Canvas(toolbar=Toolbar(toolitems=[('Home', 'Reset original view', 'home', 'home'), ('Back', 'Back to previous …"
      ]
     },
     "metadata": {}
    }
   ],
   "metadata": {}
  },
  {
   "cell_type": "markdown",
   "source": [
    "#### Definindo as regioes delimitadores para cada unidade da malha consturida no qgis Folha cartografica)."
   ],
   "metadata": {}
  },
  {
   "cell_type": "code",
   "execution_count": 7,
   "source": [
    "bounds = malha_cartog_1kk.bounds\n",
    "bounds.head()"
   ],
   "outputs": [
    {
     "output_type": "execute_result",
     "data": {
      "text/html": [
       "<div>\n",
       "<style scoped>\n",
       "    .dataframe tbody tr th:only-of-type {\n",
       "        vertical-align: middle;\n",
       "    }\n",
       "\n",
       "    .dataframe tbody tr th {\n",
       "        vertical-align: top;\n",
       "    }\n",
       "\n",
       "    .dataframe thead th {\n",
       "        text-align: right;\n",
       "    }\n",
       "</style>\n",
       "<table border=\"1\" class=\"dataframe\">\n",
       "  <thead>\n",
       "    <tr style=\"text-align: right;\">\n",
       "      <th></th>\n",
       "      <th>minx</th>\n",
       "      <th>miny</th>\n",
       "      <th>maxx</th>\n",
       "      <th>maxy</th>\n",
       "    </tr>\n",
       "  </thead>\n",
       "  <tbody>\n",
       "    <tr>\n",
       "      <th>0</th>\n",
       "      <td>-78.0</td>\n",
       "      <td>-8.0</td>\n",
       "      <td>-72.0</td>\n",
       "      <td>-4.0</td>\n",
       "    </tr>\n",
       "    <tr>\n",
       "      <th>1</th>\n",
       "      <td>-78.0</td>\n",
       "      <td>-12.0</td>\n",
       "      <td>-72.0</td>\n",
       "      <td>-8.0</td>\n",
       "    </tr>\n",
       "    <tr>\n",
       "      <th>2</th>\n",
       "      <td>-72.0</td>\n",
       "      <td>0.0</td>\n",
       "      <td>-66.0</td>\n",
       "      <td>4.0</td>\n",
       "    </tr>\n",
       "    <tr>\n",
       "      <th>3</th>\n",
       "      <td>-72.0</td>\n",
       "      <td>-4.0</td>\n",
       "      <td>-66.0</td>\n",
       "      <td>0.0</td>\n",
       "    </tr>\n",
       "    <tr>\n",
       "      <th>4</th>\n",
       "      <td>-72.0</td>\n",
       "      <td>-8.0</td>\n",
       "      <td>-66.0</td>\n",
       "      <td>-4.0</td>\n",
       "    </tr>\n",
       "  </tbody>\n",
       "</table>\n",
       "</div>"
      ],
      "text/plain": [
       "   minx  miny  maxx  maxy\n",
       "0 -78.0  -8.0 -72.0  -4.0\n",
       "1 -78.0 -12.0 -72.0  -8.0\n",
       "2 -72.0   0.0 -66.0   4.0\n",
       "3 -72.0  -4.0 -66.0   0.0\n",
       "4 -72.0  -8.0 -66.0  -4.0"
      ]
     },
     "metadata": {},
     "execution_count": 7
    }
   ],
   "metadata": {}
  },
  {
   "cell_type": "markdown",
   "source": [
    "### Criando uma coluna region com os atributos retirados da funçao acima"
   ],
   "metadata": {}
  },
  {
   "cell_type": "code",
   "execution_count": 8,
   "source": [
    "malha_cartog_1kk['region'] = [(left,right,bottom,top) for left,right,bottom,top in zip(bounds['minx'],bounds['maxx'],\n",
    "                                                                                       bounds['miny'],bounds['maxy'])]"
   ],
   "outputs": [],
   "metadata": {}
  },
  {
   "cell_type": "code",
   "execution_count": 9,
   "source": [
    "# Indexando as folhas 1kk com função 'nomeador_grid()' descrita em './my_funcs.py' importado como 'mf'\n",
    "df = pd.DataFrame(malha_cartog_1kk)\n",
    "lista_grid = []\n",
    "for index, row in df.iterrows():\n",
    "    row['id_folha'] = (f.nomeador_grid(row.region[0],row.region[1],   \n",
    "                                        row.region[3],row.region[2]))\n",
    "    lista_grid.append(row.id_folha)\n",
    "\n",
    "malha_cartog_1kk['id_folha'] = lista_grid"
   ],
   "outputs": [],
   "metadata": {}
  },
  {
   "cell_type": "code",
   "execution_count": 10,
   "source": [
    "malha_cartog_1kk.head(5)"
   ],
   "outputs": [
    {
     "output_type": "execute_result",
     "data": {
      "text/html": [
       "<div>\n",
       "<style scoped>\n",
       "    .dataframe tbody tr th:only-of-type {\n",
       "        vertical-align: middle;\n",
       "    }\n",
       "\n",
       "    .dataframe tbody tr th {\n",
       "        vertical-align: top;\n",
       "    }\n",
       "\n",
       "    .dataframe thead th {\n",
       "        text-align: right;\n",
       "    }\n",
       "</style>\n",
       "<table border=\"1\" class=\"dataframe\">\n",
       "  <thead>\n",
       "    <tr style=\"text-align: right;\">\n",
       "      <th></th>\n",
       "      <th>id</th>\n",
       "      <th>left</th>\n",
       "      <th>top</th>\n",
       "      <th>right</th>\n",
       "      <th>bottom</th>\n",
       "      <th>geometry</th>\n",
       "      <th>region</th>\n",
       "      <th>id_folha</th>\n",
       "    </tr>\n",
       "  </thead>\n",
       "  <tbody>\n",
       "    <tr>\n",
       "      <th>0</th>\n",
       "      <td>4.0</td>\n",
       "      <td>-78.0</td>\n",
       "      <td>-4.0</td>\n",
       "      <td>-72.0</td>\n",
       "      <td>-8.0</td>\n",
       "      <td>POLYGON ((-78.00000 -4.00000, -72.00000 -4.000...</td>\n",
       "      <td>(-78.0, -72.0, -8.0, -4.0)</td>\n",
       "      <td>SB18</td>\n",
       "    </tr>\n",
       "    <tr>\n",
       "      <th>1</th>\n",
       "      <td>5.0</td>\n",
       "      <td>-78.0</td>\n",
       "      <td>-8.0</td>\n",
       "      <td>-72.0</td>\n",
       "      <td>-12.0</td>\n",
       "      <td>POLYGON ((-78.00000 -8.00000, -72.00000 -8.000...</td>\n",
       "      <td>(-78.0, -72.0, -12.0, -8.0)</td>\n",
       "      <td>SC18</td>\n",
       "    </tr>\n",
       "    <tr>\n",
       "      <th>2</th>\n",
       "      <td>13.0</td>\n",
       "      <td>-72.0</td>\n",
       "      <td>4.0</td>\n",
       "      <td>-66.0</td>\n",
       "      <td>0.0</td>\n",
       "      <td>POLYGON ((-72.00000 4.00000, -66.00000 4.00000...</td>\n",
       "      <td>(-72.0, -66.0, 0.0, 4.0)</td>\n",
       "      <td>NA19</td>\n",
       "    </tr>\n",
       "    <tr>\n",
       "      <th>3</th>\n",
       "      <td>14.0</td>\n",
       "      <td>-72.0</td>\n",
       "      <td>0.0</td>\n",
       "      <td>-66.0</td>\n",
       "      <td>-4.0</td>\n",
       "      <td>POLYGON ((-72.00000 0.00000, -66.00000 0.00000...</td>\n",
       "      <td>(-72.0, -66.0, -4.0, 0.0)</td>\n",
       "      <td>SA19</td>\n",
       "    </tr>\n",
       "    <tr>\n",
       "      <th>4</th>\n",
       "      <td>15.0</td>\n",
       "      <td>-72.0</td>\n",
       "      <td>-4.0</td>\n",
       "      <td>-66.0</td>\n",
       "      <td>-8.0</td>\n",
       "      <td>POLYGON ((-72.00000 -4.00000, -66.00000 -4.000...</td>\n",
       "      <td>(-72.0, -66.0, -8.0, -4.0)</td>\n",
       "      <td>SB19</td>\n",
       "    </tr>\n",
       "  </tbody>\n",
       "</table>\n",
       "</div>"
      ],
      "text/plain": [
       "     id  left  top  right  bottom  \\\n",
       "0   4.0 -78.0 -4.0  -72.0    -8.0   \n",
       "1   5.0 -78.0 -8.0  -72.0   -12.0   \n",
       "2  13.0 -72.0  4.0  -66.0     0.0   \n",
       "3  14.0 -72.0  0.0  -66.0    -4.0   \n",
       "4  15.0 -72.0 -4.0  -66.0    -8.0   \n",
       "\n",
       "                                            geometry  \\\n",
       "0  POLYGON ((-78.00000 -4.00000, -72.00000 -4.000...   \n",
       "1  POLYGON ((-78.00000 -8.00000, -72.00000 -8.000...   \n",
       "2  POLYGON ((-72.00000 4.00000, -66.00000 4.00000...   \n",
       "3  POLYGON ((-72.00000 0.00000, -66.00000 0.00000...   \n",
       "4  POLYGON ((-72.00000 -4.00000, -66.00000 -4.000...   \n",
       "\n",
       "                        region id_folha  \n",
       "0   (-78.0, -72.0, -8.0, -4.0)     SB18  \n",
       "1  (-78.0, -72.0, -12.0, -8.0)     SC18  \n",
       "2     (-72.0, -66.0, 0.0, 4.0)     NA19  \n",
       "3    (-72.0, -66.0, -4.0, 0.0)     SA19  \n",
       "4   (-72.0, -66.0, -8.0, -4.0)     SB19  "
      ]
     },
     "metadata": {},
     "execution_count": 10
    }
   ],
   "metadata": {}
  },
  {
   "cell_type": "code",
   "execution_count": 11,
   "source": [
    "malha_cartog_1kk.drop(['id','left','right','bottom','top','region'],axis=1,inplace=True)"
   ],
   "outputs": [],
   "metadata": {}
  },
  {
   "cell_type": "code",
   "execution_count": 12,
   "source": [
    "malha_cartog_1kk.to_file(gdb+'geodatabase.gpkg',driver='GPKG',layer='malha_cartog_1kk_wgs84')"
   ],
   "outputs": [],
   "metadata": {}
  },
  {
   "cell_type": "code",
   "execution_count": 13,
   "source": [
    "malha_cartog_1kk.head()"
   ],
   "outputs": [
    {
     "output_type": "execute_result",
     "data": {
      "text/html": [
       "<div>\n",
       "<style scoped>\n",
       "    .dataframe tbody tr th:only-of-type {\n",
       "        vertical-align: middle;\n",
       "    }\n",
       "\n",
       "    .dataframe tbody tr th {\n",
       "        vertical-align: top;\n",
       "    }\n",
       "\n",
       "    .dataframe thead th {\n",
       "        text-align: right;\n",
       "    }\n",
       "</style>\n",
       "<table border=\"1\" class=\"dataframe\">\n",
       "  <thead>\n",
       "    <tr style=\"text-align: right;\">\n",
       "      <th></th>\n",
       "      <th>geometry</th>\n",
       "      <th>id_folha</th>\n",
       "    </tr>\n",
       "  </thead>\n",
       "  <tbody>\n",
       "    <tr>\n",
       "      <th>0</th>\n",
       "      <td>POLYGON ((-78.00000 -4.00000, -72.00000 -4.000...</td>\n",
       "      <td>SB18</td>\n",
       "    </tr>\n",
       "    <tr>\n",
       "      <th>1</th>\n",
       "      <td>POLYGON ((-78.00000 -8.00000, -72.00000 -8.000...</td>\n",
       "      <td>SC18</td>\n",
       "    </tr>\n",
       "    <tr>\n",
       "      <th>2</th>\n",
       "      <td>POLYGON ((-72.00000 4.00000, -66.00000 4.00000...</td>\n",
       "      <td>NA19</td>\n",
       "    </tr>\n",
       "    <tr>\n",
       "      <th>3</th>\n",
       "      <td>POLYGON ((-72.00000 0.00000, -66.00000 0.00000...</td>\n",
       "      <td>SA19</td>\n",
       "    </tr>\n",
       "    <tr>\n",
       "      <th>4</th>\n",
       "      <td>POLYGON ((-72.00000 -4.00000, -66.00000 -4.000...</td>\n",
       "      <td>SB19</td>\n",
       "    </tr>\n",
       "  </tbody>\n",
       "</table>\n",
       "</div>"
      ],
      "text/plain": [
       "                                            geometry id_folha\n",
       "0  POLYGON ((-78.00000 -4.00000, -72.00000 -4.000...     SB18\n",
       "1  POLYGON ((-78.00000 -8.00000, -72.00000 -8.000...     SC18\n",
       "2  POLYGON ((-72.00000 4.00000, -66.00000 4.00000...     NA19\n",
       "3  POLYGON ((-72.00000 0.00000, -66.00000 0.00000...     SA19\n",
       "4  POLYGON ((-72.00000 -4.00000, -66.00000 -4.000...     SB19"
      ]
     },
     "metadata": {},
     "execution_count": 13
    }
   ],
   "metadata": {}
  },
  {
   "cell_type": "code",
   "execution_count": 14,
   "source": [
    "malha_cartog_1kk['centroid'] = malha_cartog_1kk.centroid"
   ],
   "outputs": [
    {
     "output_type": "stream",
     "name": "stderr",
     "text": [
      "/tmp/ipykernel_24758/3010519588.py:1: UserWarning: Geometry is in a geographic CRS. Results from 'centroid' are likely incorrect. Use 'GeoSeries.to_crs()' to re-project geometries to a projected CRS before this operation.\n",
      "\n",
      "  malha_cartog_1kk['centroid'] = malha_cartog_1kk.centroid\n"
     ]
    }
   ],
   "metadata": {}
  },
  {
   "cell_type": "code",
   "execution_count": 15,
   "source": [
    "c = malha_cartog_1kk"
   ],
   "outputs": [],
   "metadata": {}
  },
  {
   "cell_type": "code",
   "execution_count": 16,
   "source": [
    "c['coords'] = c['geometry'].apply(lambda x: x.representative_point().coords[:])\n",
    "c['coords'] = [coords[0] for coords in c['coords']]"
   ],
   "outputs": [],
   "metadata": {}
  },
  {
   "cell_type": "code",
   "execution_count": 17,
   "source": [
    "malha_cartog_1kk['coords'] = c['coords']"
   ],
   "outputs": [],
   "metadata": {}
  },
  {
   "cell_type": "code",
   "execution_count": 18,
   "source": [
    "f.plot_brazil(malha_cartog_1kk.boundary)\n",
    "\n",
    "for index, row in malha_cartog_1kk.iterrows():\n",
    "    plt.annotate(s=row['id_folha'], xy=row['coords'],\n",
    "                horizontalalignment='center')"
   ],
   "outputs": [
    {
     "output_type": "display_data",
     "data": {
      "application/vnd.jupyter.widget-view+json": {
       "version_major": 2,
       "version_minor": 0,
       "model_id": "4b990cff8a8643d9a223a1fd172c8790"
      },
      "text/plain": [
       "Canvas(toolbar=Toolbar(toolitems=[('Home', 'Reset original view', 'home', 'home'), ('Back', 'Back to previous …"
      ]
     },
     "metadata": {}
    },
    {
     "output_type": "stream",
     "name": "stderr",
     "text": [
      "/tmp/ipykernel_24758/3900048026.py:4: MatplotlibDeprecationWarning: The 's' parameter of annotate() has been renamed 'text' since Matplotlib 3.3; support for the old name will be dropped two minor releases later.\n",
      "  plt.annotate(s=row['id_folha'], xy=row['coords'],\n"
     ]
    }
   ],
   "metadata": {}
  },
  {
   "cell_type": "code",
   "execution_count": 3,
   "source": [
    "# Definindo Regions (W,E,S,N)\n",
    "def regions(gdf):\n",
    "    bounds = gdf.bounds \n",
    "    gdf['region'] = [(left,right,bottom,top) for left,right,bottom,top in zip(bounds['minx'],bounds['maxx'],\n",
    "                                                                                bounds['miny'],bounds['maxy'])]"
   ],
   "outputs": [],
   "metadata": {}
  },
  {
   "cell_type": "code",
   "execution_count": 5,
   "source": [
    "# Definindo nomes a partir da articulação sistematica de folhas de cartas. Construindo uma lista e definindo como uma series.\n",
    "def nomeador_malha(gdf):\n",
    "    df = pd.DataFrame(gdf)\n",
    "    lista_grid = []\n",
    "    for index, row in df.iterrows():\n",
    "        row['id_folha'] = (nome.nomeador_grid(row.region[0],row.region[1],\n",
    "                                              row.region[3],row.region[2],escala=5))\n",
    "        lista_grid.append(row.id_folha)\n",
    "\n",
    "    gdf['id_folha'] = lista_grid"
   ],
   "outputs": [],
   "metadata": {}
  },
  {
   "cell_type": "code",
   "execution_count": 21,
   "source": [
    "malha_cartog_25k = gpd.read_file(gdb+'cartografia/malha_cartog_25k_wgs84.shp')   # Escala de 1:25.000\n",
    "malha_cartog_50k = gpd.read_file(gdb+'cartografia/malha_cartog_50k_wgs84.shp')   # Escala de 1:50.000\n",
    "malha_cartog_100k = gpd.read_file(gdb+'cartografia/malha_cartog_100k_wgs84.shp') # Escala de 1:100.000\n",
    "\n",
    "regions(malha_cartog_25k)\n",
    "regions(malha_cartog_50k)\n",
    "regions(malha_cartog_100k)\n",
    "\n",
    "nomeador_malha(malha_cartog_25k)\n",
    "nomeador_malha(malha_cartog_50k)\n",
    "nomeador_malha(malha_cartog_100k)\n",
    "\n",
    "# Percebe-se que há redundância no código, o que leva ao excesso de informação a ser escrita/lida e processada."
   ],
   "outputs": [],
   "metadata": {}
  },
  {
   "cell_type": "code",
   "execution_count": 22,
   "source": [
    "malha_cartog_50k.drop(['id','left','right','bottom','top','region'],axis=1,inplace=True)\n",
    "malha_cartog_25k.drop(['id','left','right','bottom','top','region'],axis=1,inplace=True)\n",
    "malha_cartog_100k.drop(['id','left','right','bottom','top','region'],axis=1,inplace=True)"
   ],
   "outputs": [],
   "metadata": {}
  },
  {
   "cell_type": "code",
   "execution_count": 23,
   "source": [
    "malha_cartog_50k.to_file(gdb+'geodatabase.gpkg',driver='GPKG',layer='malha_cartog_50k_wgs84')\n",
    "malha_cartog_25k.to_file(gdb+'geodatabase.gpkg',driver='GPKG',layer='malha_cartog_25k_wgs84')\n",
    "malha_cartog_100k.to_file(gdb+'geodatabase.gpkg',driver='GPKG',layer='malha_cartog_100k_wgs84')"
   ],
   "outputs": [],
   "metadata": {}
  },
  {
   "cell_type": "code",
   "execution_count": 6,
   "source": [
    "malha_cartog_250k = gpd.read_file(gdb+'cartografia/malha_cartog_250k_wgs84.shp') # Escala de 1:250.000\n",
    "regions(malha_cartog_250k)\n",
    "nomeador_malha(malha_cartog_250k)\n",
    "malha_cartog_250k.drop(['id','left','right','bottom','top','region'],axis=1,inplace=True)\n",
    "malha_cartog_250k.to_file(gdb+'geodatabase.gpkg',driver='GPKG',layer='malha_cartog_250k_wgs84')"
   ],
   "outputs": [],
   "metadata": {}
  },
  {
   "cell_type": "code",
   "execution_count": 10,
   "source": [
    "malha_cartog_250k"
   ],
   "outputs": [
    {
     "output_type": "execute_result",
     "data": {
      "text/html": [
       "<div>\n",
       "<style scoped>\n",
       "    .dataframe tbody tr th:only-of-type {\n",
       "        vertical-align: middle;\n",
       "    }\n",
       "\n",
       "    .dataframe tbody tr th {\n",
       "        vertical-align: top;\n",
       "    }\n",
       "\n",
       "    .dataframe thead th {\n",
       "        text-align: right;\n",
       "    }\n",
       "</style>\n",
       "<table border=\"1\" class=\"dataframe\">\n",
       "  <thead>\n",
       "    <tr style=\"text-align: right;\">\n",
       "      <th></th>\n",
       "      <th>geometry</th>\n",
       "      <th>id_folha</th>\n",
       "    </tr>\n",
       "  </thead>\n",
       "  <tbody>\n",
       "    <tr>\n",
       "      <th>0</th>\n",
       "      <td>POLYGON ((-75.00000 -6.00000, -73.50000 -6.000...</td>\n",
       "      <td>SB18_Z_A</td>\n",
       "    </tr>\n",
       "    <tr>\n",
       "      <th>1</th>\n",
       "      <td>POLYGON ((-75.00000 -7.00000, -73.50000 -7.000...</td>\n",
       "      <td>SB18_Z_C</td>\n",
       "    </tr>\n",
       "    <tr>\n",
       "      <th>2</th>\n",
       "      <td>POLYGON ((-75.00000 -8.00000, -73.50000 -8.000...</td>\n",
       "      <td>SC18_X_A</td>\n",
       "    </tr>\n",
       "    <tr>\n",
       "      <th>3</th>\n",
       "      <td>POLYGON ((-73.50000 -4.00000, -72.00000 -4.000...</td>\n",
       "      <td>SB18_X_B</td>\n",
       "    </tr>\n",
       "    <tr>\n",
       "      <th>4</th>\n",
       "      <td>POLYGON ((-73.50000 -5.00000, -72.00000 -5.000...</td>\n",
       "      <td>SB18_X_D</td>\n",
       "    </tr>\n",
       "    <tr>\n",
       "      <th>...</th>\n",
       "      <td>...</td>\n",
       "      <td>...</td>\n",
       "    </tr>\n",
       "    <tr>\n",
       "      <th>555</th>\n",
       "      <td>POLYGON ((-36.00000 -7.00000, -34.50000 -7.000...</td>\n",
       "      <td>SB25_Y_C</td>\n",
       "    </tr>\n",
       "    <tr>\n",
       "      <th>556</th>\n",
       "      <td>POLYGON ((-36.00000 -8.00000, -34.50000 -8.000...</td>\n",
       "      <td>SC25_V_A</td>\n",
       "    </tr>\n",
       "    <tr>\n",
       "      <th>557</th>\n",
       "      <td>POLYGON ((-36.00000 -9.00000, -34.50000 -9.000...</td>\n",
       "      <td>SC25_V_C</td>\n",
       "    </tr>\n",
       "    <tr>\n",
       "      <th>558</th>\n",
       "      <td>POLYGON ((-36.00000 -10.00000, -34.50000 -10.0...</td>\n",
       "      <td>SC25_Y_A</td>\n",
       "    </tr>\n",
       "    <tr>\n",
       "      <th>559</th>\n",
       "      <td>POLYGON ((-33.00000 -3.00000, -31.50000 -3.000...</td>\n",
       "      <td>SA25_Z_C</td>\n",
       "    </tr>\n",
       "  </tbody>\n",
       "</table>\n",
       "<p>560 rows × 2 columns</p>\n",
       "</div>"
      ],
      "text/plain": [
       "                                              geometry  id_folha\n",
       "0    POLYGON ((-75.00000 -6.00000, -73.50000 -6.000...  SB18_Z_A\n",
       "1    POLYGON ((-75.00000 -7.00000, -73.50000 -7.000...  SB18_Z_C\n",
       "2    POLYGON ((-75.00000 -8.00000, -73.50000 -8.000...  SC18_X_A\n",
       "3    POLYGON ((-73.50000 -4.00000, -72.00000 -4.000...  SB18_X_B\n",
       "4    POLYGON ((-73.50000 -5.00000, -72.00000 -5.000...  SB18_X_D\n",
       "..                                                 ...       ...\n",
       "555  POLYGON ((-36.00000 -7.00000, -34.50000 -7.000...  SB25_Y_C\n",
       "556  POLYGON ((-36.00000 -8.00000, -34.50000 -8.000...  SC25_V_A\n",
       "557  POLYGON ((-36.00000 -9.00000, -34.50000 -9.000...  SC25_V_C\n",
       "558  POLYGON ((-36.00000 -10.00000, -34.50000 -10.0...  SC25_Y_A\n",
       "559  POLYGON ((-33.00000 -3.00000, -31.50000 -3.000...  SA25_Z_C\n",
       "\n",
       "[560 rows x 2 columns]"
      ]
     },
     "metadata": {},
     "execution_count": 10
    }
   ],
   "metadata": {}
  },
  {
   "cell_type": "code",
   "execution_count": 44,
   "source": [
    "def select_area(escala,id):\n",
    "    malha_cartog = f.importar('malha_cartog_'+escala+'_wgs84')\n",
    "    regions(malha_cartog)\n",
    "    area = (malha_cartog[malha_cartog['id_folha'].str.contains(id)])\n",
    "    return(area)"
   ],
   "outputs": [],
   "metadata": {}
  },
  {
   "cell_type": "code",
   "execution_count": 45,
   "source": [
    "def labels(gdf):\n",
    "    gdf['coords'] = gdf['geometry'].apply(lambda x: x.representative_point().coords[:])\n",
    "    gdf['coords'] = [coords[0] for coords in gdf['coords']]\n",
    "\n",
    "    for index, row in gdf.iterrows():\n",
    "        plt.annotate(s=row['id_folha'], xy=row['coords'],horizontalalignment='center')"
   ],
   "outputs": [],
   "metadata": {}
  },
  {
   "cell_type": "code",
   "execution_count": 46,
   "source": [
    "area = select_area('25k','SC23_Z_A_IV')"
   ],
   "outputs": [],
   "metadata": {}
  },
  {
   "cell_type": "code",
   "execution_count": 47,
   "source": [
    "f.plot_base(area.boundary,atributo=None,escala='litologia_100k',nome='Rio Paraim')\n",
    "labels(area)"
   ],
   "outputs": [
    {
     "output_type": "display_data",
     "data": {
      "application/vnd.jupyter.widget-view+json": {
       "version_major": 2,
       "version_minor": 0,
       "model_id": "7e09508801cd409e91f37fb3f96dca4b"
      },
      "text/plain": [
       "Canvas(toolbar=Toolbar(toolitems=[('Home', 'Reset original view', 'home', 'home'), ('Back', 'Back to previous …"
      ]
     },
     "metadata": {}
    },
    {
     "output_type": "stream",
     "name": "stderr",
     "text": [
      "/tmp/ipykernel_24758/3866263954.py:6: MatplotlibDeprecationWarning: The 's' parameter of annotate() has been renamed 'text' since Matplotlib 3.3; support for the old name will be dropped two minor releases later.\n",
      "  plt.annotate(s=row['id_folha'], xy=row['coords'],horizontalalignment='center')\n"
     ]
    }
   ],
   "metadata": {}
  }
 ],
 "metadata": {
  "interpreter": {
   "hash": "044c3e0300da4fa3c2a1f13c93c64a53d39114a9c33e72628e43c9ffd211a0b1"
  },
  "kernelspec": {
   "name": "python3",
   "display_name": "Python 3.8.11 64-bit ('geologist_bot': conda)"
  },
  "language_info": {
   "codemirror_mode": {
    "name": "ipython",
    "version": 3
   },
   "file_extension": ".py",
   "mimetype": "text/x-python",
   "name": "python",
   "nbconvert_exporter": "python",
   "pygments_lexer": "ipython3",
   "version": "3.8.11"
  }
 },
 "nbformat": 4,
 "nbformat_minor": 4
}