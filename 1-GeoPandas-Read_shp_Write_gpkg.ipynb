{
  "cells": [
    {
      "cell_type": "markdown",
      "id": "df32653a",
      "metadata": {
        "id": "df32653a"
      },
      "source": [
        "# [GeoPandas](https://geopandas.org/getting_started/introduction.html): Reading Shapefiles and Writing Geopackages\n",
        "\n",
        "    - The Data Base Creation"
      ]
    },
    {
      "cell_type": "markdown",
      "id": "ae8ba071",
      "metadata": {
        "id": "ae8ba071"
      },
      "source": [
        " Summary:\n",
        "   \n",
        "   - [Basic of python programming](##-Basic-of-python-programming:)\n",
        "   - [Filtrando arquivos do diretorio](#Filtrando-arquivos-do-diret%C3%B3rio)\n",
        "   - [Interacting with the GeoSGB GEological Data Base](#Interacting-with-GeoSGB-Geological-Data-Base.)"
      ]
    },
    {
      "cell_type": "markdown",
      "id": "6e5eeddb",
      "metadata": {
        "id": "6e5eeddb"
      },
      "source": [
        "## Basic of python programming:\n",
        " - define a function;\n",
        " - save this definition inside a text file at a folder;\n",
        " - doing so, we can use this definition anywhere we want throught our projects with < import >\n",
        "\n",
        " Be awere that python programming is much more then defining and calling defined functions. But for the start, this will be usefull. Through this project we are going to learn how to analyse geospatial data powered by the Object Oriented Programming Tehchniques."
      ]
    },
    {
      "cell_type": "markdown",
      "id": "6b190221",
      "metadata": {
        "id": "6b190221"
      },
      "source": [
        "### Definindo um apelido de atalho para nossa base de dados local."
      ]
    },
    {
      "cell_type": "code",
      "execution_count": null,
      "id": "45d688b5",
      "metadata": {
        "scrolled": true,
        "id": "45d688b5"
      },
      "outputs": [],
      "source": [
        "# Definindo caminho\n",
        "def gdb(path=''):\n",
        "    '''\n",
        "    Diretório raíz dos dados : '/home/ggrl/geodatabase/'\n",
        "\n",
        "        path : caminho até o arquivo desejado\n",
        "    '''\n",
        "    gdb = '/home/ggrl/geodatabase/' + path\n",
        "    return gdb"
      ]
    },
    {
      "cell_type": "markdown",
      "id": "3adaa26c",
      "metadata": {
        "id": "3adaa26c"
      },
      "source": [
        "### the above definition can be saved into a .py file inside a /source folder, so we can import it anywhere we want"
      ]
    },
    {
      "cell_type": "code",
      "execution_count": null,
      "id": "f610a2d4",
      "metadata": {
        "id": "f610a2d4"
      },
      "outputs": [],
      "source": [
        "from src.gdb import gdb"
      ]
    },
    {
      "cell_type": "code",
      "execution_count": null,
      "id": "b35573f6",
      "metadata": {
        "id": "b35573f6"
      },
      "outputs": [],
      "source": [
        "gdb()"
      ]
    },
    {
      "cell_type": "markdown",
      "id": "101d3b3b",
      "metadata": {
        "id": "101d3b3b"
      },
      "source": [
        "## Interacting with [GeoSGB](https://geoportal.cprm.gov.br/geosgb/) Geological Data Base."
      ]
    },
    {
      "cell_type": "markdown",
      "id": "f164b7b1",
      "metadata": {
        "id": "f164b7b1"
      },
      "source": [
        "### Com a ferramenta Geoprocessing conseguimos selecionar a area e a camda vetorial desejada, alem do formato do arquivo. No caso foi feito o download dos arquivos shapefiles da area do territorio continental brasileiro."
      ]
    },
    {
      "cell_type": "markdown",
      "id": "87cef7e0",
      "metadata": {
        "id": "87cef7e0"
      },
      "source": [
        "### Criando Banco de Dados Geológicos com [GeoPandas](https://geopandas.org/getting_started.html)\n",
        "\n",
        "- Com a biblioteca GeoPandas, vamos abrir os vetores no formato shapefile e salvalos em um banco de dados formatado como um geopackage."
      ]
    },
    {
      "cell_type": "markdown",
      "id": "06e1df2c",
      "metadata": {
        "id": "06e1df2c"
      },
      "source": [
        "## Para este trabalho foi utilizada a area continental brasileira.\n",
        " - O Download destes arquivos foi feito no dia 18/06/2021 e a base de dados online do SGB pode ter sofrido alteraçoes desde entao."
      ]
    },
    {
      "cell_type": "code",
      "execution_count": null,
      "id": "35d2e63c",
      "metadata": {
        "id": "35d2e63c"
      },
      "outputs": [],
      "source": [
        "import geopandas as gpd"
      ]
    },
    {
      "cell_type": "markdown",
      "id": "e475c931",
      "metadata": {
        "id": "e475c931"
      },
      "source": [
        "#### Gerando lista de arquivos no diretório"
      ]
    },
    {
      "cell_type": "code",
      "execution_count": null,
      "id": "cd8d8ec3",
      "metadata": {
        "id": "cd8d8ec3"
      },
      "outputs": [],
      "source": [
        "# This module can interact with our folders and is useful to extract file and folder names that jupyter have access.\n",
        "import os\n",
        "\n",
        "# The os.listdir() will return a list of files inside the folder shapefiles\n",
        "# We are calling the function we've just created inside this other function: < os.listdir() >\n",
        "\n",
        "shapefiles = os.listdir(gdb('shapefiles/'))"
      ]
    },
    {
      "cell_type": "code",
      "execution_count": null,
      "id": "52c47623",
      "metadata": {
        "scrolled": true,
        "id": "52c47623"
      },
      "outputs": [],
      "source": [
        "shapefiles"
      ]
    },
    {
      "cell_type": "code",
      "source": [
        "from google.colab import drive\n",
        "drive.mount('/content/drive')"
      ],
      "metadata": {
        "id": "ixD27Ezj4eeT",
        "outputId": "2b58dd86-559b-49f3-fa21-a74b29f0a2ae",
        "colab": {
          "base_uri": "https://localhost:8080/"
        }
      },
      "id": "ixD27Ezj4eeT",
      "execution_count": 83,
      "outputs": [
        {
          "output_type": "stream",
          "name": "stdout",
          "text": [
            "Drive already mounted at /content/drive; to attempt to forcibly remount, call drive.mount(\"/content/drive\", force_remount=True).\n"
          ]
        }
      ]
    },
    {
      "cell_type": "markdown",
      "id": "985df5c8",
      "metadata": {
        "id": "985df5c8"
      },
      "source": [
        "#### Filtrando arquivos do diretório"
      ]
    },
    {
      "cell_type": "code",
      "execution_count": null,
      "id": "9af18976",
      "metadata": {
        "id": "9af18976"
      },
      "outputs": [],
      "source": [
        "# Lista vazia de arquivos\n",
        "lito_strat_files = []\n",
        "other_files = []\n",
        "\n",
        "# Iterando entre os shapefiles da pasta\n",
        "for i in shapefiles:\n",
        "\n",
        "    if i[0] == 'U':\n",
        "        lito_strat_files.append(i)\n",
        "\n",
        "    else:\n",
        "        if i[-2] != 'i':\n",
        "            other_files.append(i)"
      ]
    },
    {
      "cell_type": "code",
      "execution_count": null,
      "id": "1632581b",
      "metadata": {
        "id": "1632581b"
      },
      "outputs": [],
      "source": [
        "#other_files\n",
        "#lito_strat_files"
      ]
    },
    {
      "cell_type": "code",
      "execution_count": null,
      "id": "e603cdaf",
      "metadata": {
        "id": "e603cdaf"
      },
      "outputs": [],
      "source": [
        "# Lista de arquivos shapefiles vazia\n",
        "lito_strat_shp = []\n",
        "\n",
        "# Iterando entre os arquivos de unidades litoestratigráficas\n",
        "for j in lito_strat_files:\n",
        "    if j[-1] == 'p':\n",
        "        lito_strat_shp.append(j)"
      ]
    },
    {
      "cell_type": "code",
      "execution_count": null,
      "id": "a4808ac3",
      "metadata": {
        "id": "a4808ac3"
      },
      "outputs": [],
      "source": [
        "lito_strat_shp"
      ]
    },
    {
      "cell_type": "code",
      "execution_count": null,
      "id": "a7ce93ad",
      "metadata": {
        "id": "a7ce93ad"
      },
      "outputs": [],
      "source": [
        "other_shapefiles = []\n",
        "\n",
        "for k in other_files:\n",
        "    if k[-2] == 'i':\n",
        "        pass\n",
        "\n",
        "    elif k[-1] == 'p':\n",
        "        other_shapefiles.append(k)"
      ]
    },
    {
      "cell_type": "code",
      "execution_count": null,
      "id": "e7e0666d",
      "metadata": {
        "id": "e7e0666d"
      },
      "outputs": [],
      "source": [
        "other_shapefiles"
      ]
    },
    {
      "cell_type": "markdown",
      "id": "d576cd2e",
      "metadata": {
        "id": "d576cd2e"
      },
      "source": [
        "####  Lendo as geometrias litoestratigráficas dos arquivos shapefiles fornecidos pelo banco de dados gratuitos da CPRM e definindo a camada com um nome para cada escala."
      ]
    },
    {
      "cell_type": "code",
      "execution_count": null,
      "id": "9dad9371",
      "metadata": {
        "id": "9dad9371"
      },
      "outputs": [],
      "source": [
        "# abrindo unidades litoestratigráficas em escala de 1 : 1.000.000\n",
        "litologia_1kk = gpd.read_file(gdb('shapefiles/Unidades_litoestratigr#U00e1ficas___1_1_000_000__2004_.shp'))"
      ]
    },
    {
      "cell_type": "code",
      "execution_count": null,
      "id": "0331ef6f",
      "metadata": {
        "id": "0331ef6f"
      },
      "outputs": [],
      "source": [
        "litologia_1kk.to_file(gdb('geodatabase.gpkg'),\n",
        "              driver='GPKG',\n",
        "              layer='litologia_1kk')"
      ]
    },
    {
      "cell_type": "code",
      "execution_count": null,
      "id": "00da49f5",
      "metadata": {
        "id": "00da49f5"
      },
      "outputs": [],
      "source": [
        "# Unidades Litoestratigráficas na escala de 1 : 250.000\n",
        "litologia_250k = gpd.read_file(gdb('shapefiles/Unidades_litoestratigr#U00e1ficas___1_250_000.shp'))\n",
        "\n",
        "litologia_250k.to_file(gdb('geodatabase.gpkg'),\n",
        "              driver='GPKG',\n",
        "              layer='litologia_250k')"
      ]
    },
    {
      "cell_type": "code",
      "execution_count": null,
      "id": "dee16715",
      "metadata": {
        "id": "dee16715"
      },
      "outputs": [],
      "source": [
        "# Unidades Litoestratigráficas na escalada de 1 : 150.000\n",
        "'''\n",
        "litologia_150k = gpd.read_file(gdb('shapefiles/Unidades_litoestratigr#U00e1ficas___1_150_000.shp'))\n",
        "\n",
        "litologia_150k.to_file(gdb('geodatadatabase.gpkg'),\n",
        "              driver='GPKG',\n",
        "              layer='litologia_150k')\n",
        "'''\n",
        "# Este shapefile está vazio, podendo ser um erro no download da base de dados do SGB ou\n",
        "# apenas que não há mapas disponibilizados para esta escala."
      ]
    },
    {
      "cell_type": "code",
      "execution_count": null,
      "id": "5506f5bc",
      "metadata": {
        "id": "5506f5bc"
      },
      "outputs": [],
      "source": [
        "# Unidades Litoestratigráficas na escalada de 1 : 100.000\n",
        "litologia_100k = gpd.read_file(gdb('shapefiles/Unidades_litoestratigr#U00e1ficas___1_100_000.shp'))\n",
        "\n",
        "litologia_100k.to_file(gdb('geodatabase.gpkg'),\n",
        "              driver='GPKG',\n",
        "              layer='litologia_100k')"
      ]
    },
    {
      "cell_type": "code",
      "execution_count": null,
      "id": "24e00c1e",
      "metadata": {
        "id": "24e00c1e"
      },
      "outputs": [],
      "source": [
        "# Unidades Litoestratigráficas na escalada de 1 : 50.000\n",
        "litologia_50k = gpd.read_file(gdb('shapefiles/Unidades_litoestratigr#U00e1ficas___1_50_000.shp'))\n",
        "\n",
        "litologia_50k.to_file(gdb('geodatabase.gpkg'),\n",
        "              driver='GPKG',\n",
        "              layer='litologia_50k')"
      ]
    },
    {
      "cell_type": "markdown",
      "id": "2e158cb2",
      "metadata": {
        "id": "2e158cb2"
      },
      "source": [
        "#### Podemos, também, adicionar ao nosso GeoPackage geometrias outros tipos de geometria, como pontos de ocorrência mineral."
      ]
    },
    {
      "cell_type": "code",
      "execution_count": null,
      "id": "b32d697e",
      "metadata": {
        "id": "b32d697e"
      },
      "outputs": [],
      "source": [
        "ocorr_min = gpd.read_file(gdb('shapefiles/Ocorr#U00eancias_minerais.shp'))\n",
        "\n",
        "ocorr_min.to_file(gdb('geodatabase.gpkg'),\n",
        "                  driver='GPKG',\n",
        "                  layer='ocorr_min_cprm')"
      ]
    },
    {
      "cell_type": "markdown",
      "id": "09d42c21",
      "metadata": {
        "id": "09d42c21"
      },
      "source": [
        "#### Afloramentos, Amostras Petrograficas e Projetos de mapeamentos geolgocios e geofisicos"
      ]
    },
    {
      "cell_type": "code",
      "execution_count": null,
      "id": "d096b1ae",
      "metadata": {
        "id": "d096b1ae"
      },
      "outputs": [],
      "source": [
        "aflora = gpd.read_file(gdb('shapefiles/Afloramentos_geol#U00f3gicos.shp'))\n",
        "\n",
        "aflora.to_file(gdb('geodatabase.gpkg'),\n",
        "                  driver='GPKG',\n",
        "                  layer='aflora')"
      ]
    },
    {
      "cell_type": "code",
      "execution_count": null,
      "id": "9a9f3124",
      "metadata": {
        "id": "9a9f3124"
      },
      "outputs": [],
      "source": [
        "am_petro = gpd.read_file(gdb('shapefiles/Amostras_petrogr#U00e1ficas.shp'))\n",
        "\n",
        "am_petro.to_file(gdb('geodatabase.gpkg'),\n",
        "                  driver='GPKG',\n",
        "                  layer='am_petro')"
      ]
    },
    {
      "cell_type": "code",
      "execution_count": null,
      "id": "1f8792b0",
      "metadata": {
        "id": "1f8792b0"
      },
      "outputs": [],
      "source": [
        "proj_cprm = gpd.read_file(gdb('shapefiles/Projetos_da_CPRM.shp'))\n",
        "\n",
        "\n",
        "proj_cprm.to_file(gdb('geodatabase.gpkg'),\n",
        "                  driver='GPKG',\n",
        "                  layer='proj_cprm')"
      ]
    },
    {
      "cell_type": "code",
      "execution_count": null,
      "id": "a013054f",
      "metadata": {
        "id": "a013054f"
      },
      "outputs": [],
      "source": [
        "proj_aerogeof = gpd.read_file(gdb('shapefiles/Projetos_de_aerogeof#U00edsica.shp'))\n",
        "\n",
        "proj_aerogeof.to_file(gdb('geodatabase.gpkg'),\n",
        "                  driver='GPKG',\n",
        "                  layer='proj_aerogeof')"
      ]
    },
    {
      "cell_type": "markdown",
      "id": "1df28255",
      "metadata": {
        "id": "1df28255"
      },
      "source": [
        "#### Mapa geologico da Folha Campinas SF23_Y_A 1:250.000 vetorizado pelo autor: ggrl"
      ]
    },
    {
      "cell_type": "code",
      "execution_count": null,
      "id": "afd2f535",
      "metadata": {
        "id": "afd2f535"
      },
      "outputs": [],
      "source": [
        "socorro_250k = gpd.read_file(gdb('shapefiles/socorro.shp'))\n",
        "\n",
        "socorro_250k.to_file(gdb('geodatabase.gpkg'),\n",
        "                  driver='GPKG',\n",
        "                  layer='socorro_250k')"
      ]
    },
    {
      "cell_type": "markdown",
      "id": "77b25ba7",
      "metadata": {
        "id": "77b25ba7"
      },
      "source": [
        "### This process took 3' 19'' at my local machine, a very slow process indeed. But remember, this is almost 1 Gb of data."
      ]
    },
    {
      "cell_type": "markdown",
      "id": "7ae4c994",
      "metadata": {
        "id": "7ae4c994"
      },
      "source": [
        "### We can observe that this algorithm is repeating itself for each shapefile layer"
      ]
    },
    {
      "cell_type": "markdown",
      "id": "aa85613c",
      "metadata": {
        "id": "aa85613c"
      },
      "source": [
        "### This is known as redundancy and can be overcomed by OOP techniques"
      ]
    },
    {
      "cell_type": "markdown",
      "id": "bf1f30f0",
      "metadata": {
        "id": "bf1f30f0"
      },
      "source": [
        "### But we wont implement this technique for now, a better way of improving this algorithm is by using WMS protocols. With this protocols we can access the data directly from de GeoSGB DataBase, removing the need to download, store localy, read and write to geopackages."
      ]
    },
    {
      "cell_type": "markdown",
      "id": "3a0cb509",
      "metadata": {
        "id": "3a0cb509"
      },
      "source": [
        "# The next [jupyter-notebook](http://localhost:8888/notebooks/1.1-Geapandas%3ASpatial_Data_Analysis.ipynb#Filtering-and-Describing-Geospatial-Data) we'll learn how to filter the itens inside each layer, clean, analyze and visualize our Geo Spatial Data."
      ]
    },
    {
      "cell_type": "markdown",
      "id": "c6472b3a",
      "metadata": {
        "id": "c6472b3a"
      },
      "source": [
        "# At this step, we are going to create a small data base to work at [Google Colab](https://drive.google.com/drive/folders/1ZNYQBscv28Srgu-FAlyCwJoVhrXjIOne?usp=sharing)"
      ]
    },
    {
      "cell_type": "code",
      "execution_count": null,
      "id": "b3f9ce6e",
      "metadata": {
        "id": "b3f9ce6e"
      },
      "outputs": [],
      "source": [
        "#litologia_SB24 = litologia_1kk[litologia_1kk['MAPA'] == 'Carta geológica da folha Natal']"
      ]
    },
    {
      "cell_type": "code",
      "execution_count": null,
      "id": "929f3a72",
      "metadata": {
        "id": "929f3a72"
      },
      "outputs": [],
      "source": [
        "litologia_1kk_SF23 = litologia_1kk[litologia_1kk['MAPA'] == 'Carta geológica da folha Rio de Janeiro']\n",
        "litologia_1kk_SF23.head(5)"
      ]
    },
    {
      "cell_type": "code",
      "execution_count": null,
      "id": "3812618f",
      "metadata": {
        "id": "3812618f"
      },
      "outputs": [],
      "source": [
        "from src.funcs1_importar import importar_geometrias, gdb"
      ]
    },
    {
      "cell_type": "code",
      "execution_count": null,
      "id": "ec20cbc2",
      "metadata": {
        "id": "ec20cbc2",
        "outputId": "1a51bc06-d2fa-4b50-dcfe-18c73c693682"
      },
      "outputs": [
        {
          "ename": "NameError",
          "evalue": "name 'importar_geometrias' is not defined",
          "output_type": "error",
          "traceback": [
            "\u001b[0;31m---------------------------------------------------------------------------\u001b[0m",
            "\u001b[0;31mNameError\u001b[0m                                 Traceback (most recent call last)",
            "\u001b[0;32m/tmp/ipykernel_22831/2723690201.py\u001b[0m in \u001b[0;36m<module>\u001b[0;34m\u001b[0m\n\u001b[0;32m----> 1\u001b[0;31m \u001b[0mproj_geof\u001b[0m \u001b[0;34m=\u001b[0m \u001b[0mimportar_geometrias\u001b[0m\u001b[0;34m(\u001b[0m\u001b[0;34m'proj_aerogeof'\u001b[0m\u001b[0;34m)\u001b[0m\u001b[0;34m\u001b[0m\u001b[0;34m\u001b[0m\u001b[0m\n\u001b[0m",
            "\u001b[0;31mNameError\u001b[0m: name 'importar_geometrias' is not defined"
          ]
        }
      ],
      "source": [
        "proj_geof = importar_geometrias('proj_aerogeof')"
      ]
    },
    {
      "cell_type": "code",
      "execution_count": null,
      "id": "18346018",
      "metadata": {
        "id": "18346018",
        "outputId": "259ecda7-8f56-473d-e2e8-c28249271a63"
      },
      "outputs": [
        {
          "name": "stdout",
          "output_type": "stream",
          "text": [
            "# O mapa escolhido nao está presente na coluna MAPA da camada veotiral. Os mapas disponiveis serao listados a seguir.\n",
            " \n",
            "# Digite apenas o nome do mapa após <Carta geológica da folha>. (SEM ESPAÇO)\n",
            " \n",
            "# -- Lista de mapas: ['Carta geológica da folha Paulo Saldanha', 'Carta geológica da folha Rio Tanaru - SD.20-X-B-IV', 'Carta geológica da folha Roncador', 'Carta geológica da folha Rio Pardo', 'Carta geológica da folha Pimenta Bueno', 'Carta geológica da folha Serra da Providência', 'Carta geológica da folha Ji Paraná', 'Carta geológica da folha Vila Nova', 'Carta geológica da folha Vila de Tepequém', 'Carta geológica da folha Betânia - UFMT', 'Carta geológica da folha Rio Escondido', 'Carta geológica da folha Ilha do Porto', 'Carta geológica da folha Porto Triunfo SD.20-X-B-V', 'Carta geológica da folha NA-20-Z-D-III', 'Carta geológica da folha Novo Paraíso', 'Carta geológica da folha Santa Rita - UFMT', 'Carta geológica da folha Santa Barbara - UFMT', 'Carta geológica da folha Serra da Borda', 'Carta geológica da folha Rio Novo', 'Carta geológica da folha Rio Pindaituba - UFMT', 'Carta geológica da folha Vila Oeste', 'Carta geológica da folha Jauru - UFMT', 'Carta geológica da folha Rio Branco - UFMT', 'Carta geológica da folha Ilha Porto Escondido', 'Carta geológica da folha Colônia São Lourenço', 'Carta geológica da folha Fazenda Santa Otília', 'Carta geológica da folha Aldeia Tomázia', 'Carta geológica da folha Rio Perdido', 'Carta geológica da folha Fazenda Margarida', 'Carta geológica da folha Vila Campão', 'Carta geológica da folha São Domingos', 'Carta geológica da folha Rio Ratão', 'Carta geológica da folha Cuiú-Cuiú', 'Carta geológica da folha Cachoeira Seca', 'Carta geológica da folha Vila Planalto', 'Carta geológica da folha Ilha Mambuai', 'Carta geológica da folha Uruá', 'Carta geológica da folha Barão de Melgaço - UFMT', 'Carta geológica da folha Rio Nhandu', 'Carta geológica da folha Jardim do Ouro', 'Carta geológica da folha Igrejinha - UNISINOS', 'Carta geológica da folha Bagé', 'Carta geológica da folha Aceguá', 'Carta geológica da folha Lagoa da Meia Lua', 'Carta geológica da folha Brasilândia', 'Carta geológica da folha Cacimba', 'Carta geológica da folha Paranatinga', 'Carta geológica da folha Rio Braço Sul', 'Carta geológica da folha Serra do Cachimbo', 'Carta geológica da folha Curral de Pedras', 'Carta geológica da folha Arroio Grande', 'Carta geológica da folha Jaguarão', 'Carta geológica da folha Passo São Diogo', 'Carta geológica da folha Hulha Negra', 'Carta geológica da folha Pinheiro Machado', 'Carta geológica da folha Lavras do Sul', 'Carta geológica da folha Santa Maria - RS', 'Carta geológica da folha Sobradinho', 'Carta geológica da folha Agudo', 'Carta geológica da folha Três Passos', 'Carta geológica da folha Frederico Westphalen', 'Carta geológica da folha Matarazzo', 'Carta geológica da folha Pelotas', 'Carta geológica da folha Pedro Osório', 'Carta geológica da folha Placa Nativa', 'Carta geológica da folha Nova Xavantina', 'Carta geológica da folha Rio Bacajá - UFPR', 'Carta geológica da folha Gravataí - UFRGS', 'Carta geológica da folha Sanclerlândia', 'Carta geológica da folha Rio Inajá', 'Carta geológica da folha São João Batista', 'Carta geológica da folha Marajoara', 'Carta geológica da folha Caldeirão', 'Carta geológica da folha Itararé', 'Carta geológica da folha Cerro Azul', 'Carta geológica da folha Itaberaí', 'Carta geológica da folha Nazário', 'Carta geológica da folha Santa Teresinha de Goiás - UNB', 'Carta geológica da folha Campinorte - UNB', 'Carta geológica da folha Novo Planalto', 'Carta geológica da folha Porangatu - UNB', 'Carta geológica da folha Serra Pelada', 'Carta geológica da folha Apiaí', 'Carta geológica da folha Eldorado Paulista', 'Carta geológica da folha Mata Azul', 'Carta geológica da folha Belém 100.000', 'Carta geológica da folha Iguape', 'Carta geológica da folha Registro', 'Carta geológica da folha Monte Carmelo', 'Carta geológica da folha Coromandel', 'Carta geológica da folha Serra da Tiririca', 'Carta geológica da folha Guarda Mor', 'Carta geológica da folha Paracatu', 'Carta geológica da folha Cabeceira Grande', 'Carta geológica da folha Ribeirão Arrojado', 'Carta geológica da folha Cavalcante - UNB', 'Carta geológica da folha Imperatriz', 'Carta geológica da folha Alpinópolis - UERJ', 'Carta geológica da folha Lagamar', 'Carta geológica da folha Patos de Minas', 'Carta geológica da folha Arrenegado', 'Carta geológica da folha Unaí', 'Carta geológica da folha Serra da Aldeia', 'Carta geológica da folha Monte Alegre de Goiás - UNB', 'Carta geológica da folha Nova Roma - UNB', 'Carta geológica da folha Centro Novo do Maranhão', 'Carta geológica da folha Santa Luzia do Pará', 'Carta geológica da folha Cândido Mendes', 'Carta geológica da folha Campos do Jordão - UFRJ/FUJB', 'Carta geológica da folha Pouso Alegre - UFRJ/FUJB', 'Carta geológica da folha Itajubá - UFRJ', 'Carta geológica da folha Pindamonhangaba - UFRJ/FUJB', 'Carta geológica da folha Campo Belo - UFOP', 'Carta geológica da folha Machado - UFRJ/FUJB', 'Carta geológica da folha Alfenas - UFRJ/FUJB', 'Carta geológica da folha Varginha - UFRJ', 'Carta geológica da folha Nepomuceno - UFRJ', 'Carta geológica da folha Guapé - UERJ', 'Carta geológica da folha Piumhi - UFRJ', 'Carta geológica da folha Divinópolis', 'Carta geológica da folha Bom Despacho', 'Carta geológica da folha Abaeté', 'Carta geológica da folha Cristalândia do Piauí', 'Carta geológica da folha Angra dos Reis - UERJ', 'Carta geológica da folha Santa Rita de Jacutinga - UERJ', 'Carta geológica da folha Volta Redonda - UERJ', 'Carta geológica da folha Oliveira - UFOP', 'Carta geológica da folha Entre Rios de Minas', 'Carta geológica da folha Igarapé', 'Carta geológica da folha Pompéu', 'Carta geológica da folha Pará de Minas - UFMG', 'Carta geológica da folha Sete Lagoas', 'Carta geológica da folha Contagem', 'Carta geológica da folha Andrequice - UFMG', 'Carta geológica da folha Morro da Garça - UFMG', 'Carta geológica da folha Corinto - UFMG', 'Carta geológica da folha Curvelo - UFMG', 'Carta geológica da folha Serra do Cabral - UFMG', 'Carta geológica da folha Jequitaí - UFMG', 'Carta geológica da folha Santa Maria da Vitória', 'Carta geológica da folha Rio Paraim', 'Carta geológica da folha Parnaguá', 'Carta geológica da folha Curimatá', 'Carta geológica da folha Mansidão', 'Carta geológica da folha Baia de Guanabara - UERJ', 'Carta geológica da folha Barra do Piraí - UERJ', 'Carta geológica da folha Três Rios - UERJ', 'Carta geológica da folha Conselheiro Lafaiete', 'Carta geológica da folha Baldim', 'Carta geológica da folha Belo Horizonte', 'Carta geológica da folha Bocaiuva - UFMG', 'Carta geológica da folha Montes Claros - UFMG', 'Carta geológica da folha Ibotirama', 'Carta geológica da folha Barra', 'Carta geológica da folha Morpará', 'Carta geológica da folha Avelino Lopes', 'Carta geológica da folha Cabeças no Tempo', 'Carta geológica da folha Peixe', 'Carta geológica da folha Nova Friburgo - UERJ', 'Carta geológica da folha Cabo Frio - UERJ', 'Carta geológica da folha Casimiro de Abreu - UERJ', 'Carta geológica da folha Santo Antônio de Pádua - UERJ', 'Carta geológica da folha Viçosa - UFMG', 'Carta geológica da folha Carangola - UFMG', 'Carta geológica da folha Manhuaçú - UFMG', 'Carta geológica da folha Monte Azul - UFMG', 'Carta geológica da folha Taiobeiras - UFMG', 'Carta geológica da folha Caetité - UFBA', 'Carta geológica da folha Macaúbas', 'Carta geológica da folha Riacho de Santana', 'Carta geológica da folha Boquira', 'Carta geológica da folha Oliveira dos Brejinhos', 'Carta geológica da folha Ouricuri do Ouro', 'Carta geológica da folha Ipupiara', 'Carta geológica da folha Gentio do Ouro', 'Carta geológica da folha Barra do Mendes', 'Carta geológica da folha Central', 'Carta geológica da folha São Raimundo Nonato', 'Carta geológica da folha Remanso', 'Carta geológica da folha Bom Jardim', 'Carta geológica da folha Barragem', 'Carta geológica da folha Rio das Ostras - UERJ', 'Carta geológica da folha Macaé - UERJ', 'Carta geológica da folha Itaperuna - UERJ', 'Carta geológica da folha São Fidelis - UERJ', 'Carta geológica da folha Espera Feliz - UFMG', 'Carta geológica da folha Manhumirim - UFMG', 'Carta geológica da folha Itaobim', 'Carta geológica da folha Comercinho', 'Carta geológica da folha Jequitinhonha', 'Carta geológica da folha Joaima', 'Carta geológica da folha Condeúba', 'Carta geológica da folha Brumado', 'Carta geológica da folha Tanhaçu', 'Carta geológica da folha Rio de Contas', 'Carta geológica da folha Tombador', 'Carta geológica da folha Lagoa do Alegre', 'Carta geológica da folha Casa Nova', 'Carta geológica da folha Serra dos Brejinhos', 'Carta geológica da folha Riacho Queimadas', 'Carta geológica da folha Parambu', 'Carta geológica da folha Guarapari - UFES', 'Carta geológica da folha Vitória - UFES', 'Carta geológica da folha São Gabriel da Palha', 'Carta geológica da folha Aracruz - UFES', 'Carta geológica da folha Linhares', 'Carta geológica da folha Mantena - UFMG', 'Carta geológica da folha Ecoporanga - UFMG', 'Carta geológica da folha Nova Venécia - UFMG', 'Carta geológica da folha Montanha - UFMG', 'Carta geológica da folha Almenara', 'Carta geológica da folha Rio do Prado', 'Carta geológica da folha Manoel Vitorino', 'Carta geológica da folha Maracás', 'Carta geológica da folha Jequié', 'Carta geológica da folha Ruy Barbosa', 'Carta geológica da folha Itaberaba', 'Carta geológica da folha Piritiba', 'Carta geológica da folha Jacobina', 'Carta geológica da folha Mirangaba', 'Carta geológica da folha Caldeirão Grande', 'Carta geológica da folha Mundo Novo', 'Carta geológica da folha Brejão da Caatinga', 'Carta geológica da folha Campo Formoso', 'Carta geológica da folha Senhor do Bonfim', 'Carta geológica da folha Campo dos Cavalos', 'Carta geológica da folha Petrolina', 'Carta geológica da folha Itamontinga', 'Carta geológica da folha Juremal', 'Carta geológica da folha Cristália', 'Carta geológica da folha Cruz de Malta', 'Carta geológica da folha Fronteiras', 'Carta geológica da folha Ouricuri', 'Carta geológica da folha Pio IX - UFC', 'Carta geológica da folha Novo Oriente', 'Carta geológica da folha Crateus', 'Carta geológica da folha Independência', 'Carta geológica da folha Várzea do Boi', 'Carta geológica da folha Ipu - UFPA', 'Carta geológica da folha Ipueiras', 'Carta geológica da folha Granja -UFC', 'Carta geológica da folha Sobral - UFPA', 'Carta geológica da folha Irauçuba', 'Carta geológica da folha Regência - UFES', 'Carta geológica da folha Ipiau - UFBA', 'Carta geológica da folha Amargosa - UFBA', 'Carta geológica da folha Jaguaquara - UFBA', 'Carta geológica da folha Andorinha', 'Carta geológica da folha Monte Santo', 'Carta geológica da folha Barro Vermelho', 'Carta geológica da folha Pinhões', 'Carta geológica da folha Uauá', 'Carta geológica da folha Macururé', 'Carta geológica da folha Santa Maria da Boa Vista', 'Carta geológica da folha Parnamirim', 'Carta geológica da folha Chorrochó', 'Carta geológica da folha Salgueiro', 'Carta geológica da folha Bodocó', 'Carta geológica da folha Jardim', 'Carta geológica da folha Cedro', 'Carta geológica da folha Mombaça', 'Carta geológica da folha Boa Viagem - UFC', 'Carta geológica da folha Senador Pompeu', 'Carta geológica da folha Quixeramobim - UFC', 'Carta geológica da folha Taperuaba - UFC', 'Carta geológica da folha Itatira - UFC', 'Carta geológica da folha Quixadá 100.000', 'Carta geológica da folha Itapipoca', 'Carta geológica da folha Caimbé', 'Carta geológica da folha Ribeira do Pombal', 'Carta geológica da folha Jeremoabo', 'Carta geológica da folha Cícero Dantas', 'Carta geológica da folha Mirandiba', 'Carta geológica da folha Serra Talhada - UFPE', 'Carta geológica da folha Cajazeiras', 'Carta geológica da folha Pau dos Ferros - UFRN', 'Carta geológica da folha Banabuiú', 'Carta geológica da folha Jaguaretama - UFC', 'Carta geológica da folha Baturité', 'Carta geológica da folha Itapiúna', 'Carta geológica da folha Poço da Cruz - UFPE', 'Carta geológica da folha Sertânia', 'Carta geológica da folha Buíque', 'Carta geológica da folha Apodi - UFRN', 'Carta geológica da folha Mossoró - UFRN', 'Carta geológica da folha Pesqueira', 'Carta geológica da folha Venturosa - UFPE', 'Carta geológica da folha Belo Jardim - UFPE', 'Carta geológica da folha Garanhuns - UFPE', 'Carta geológica da folha Juazeirinho', 'Carta geológica da folha Santa Cruz do Capibaribe', 'Carta geológica da folha Boqueirão', 'Carta geológica da folha Currais Novos', 'Carta geológica da folha Jardim do Seridó - UFRN', 'Carta geológica e de recursos minerais da folha Santa Cruz', 'Carta geológica da folha Macau - UFRN', 'Carta geológica da folha Jandaira - UFRN', 'Carta geológica e de recursos minerais da folha Lajes', 'Carta geológica da folha Surubim - UFPE', 'Carta geológica da folha Campina Grande', 'Carta geológica da folha Sapé - UFPE', 'Carta geológica da folha São José do Campestre-UnB', 'Carta geológica da folha Solânea - UFPE', 'Carta geológica da folha São José do Mipibu', 'Carta geológica da folha Guarabira - UFPE', 'Carta geológica da folha Cabedelo - UFPE', 'Carta geológica da folha João Camara - UnB', 'Carta geológica da folha Natal - UFRN', 'Carta geológica da folha Touros - UFRN', 'Carta geológica da folha Itamaracá - UFPE', 'Carta geológica da folha Caiana']\n"
          ]
        }
      ],
      "source": [
        "Varginha = importar_geometrias('litologia_100k','Varginha')"
      ]
    },
    {
      "cell_type": "code",
      "execution_count": null,
      "id": "6803d0e2",
      "metadata": {
        "id": "6803d0e2"
      },
      "outputs": [],
      "source": [
        "litologia_1kk_SF23.to_file('colab_ex/lito_1kk_sf23.shp')"
      ]
    },
    {
      "cell_type": "code",
      "execution_count": null,
      "id": "17d0a126",
      "metadata": {
        "id": "17d0a126"
      },
      "outputs": [],
      "source": [
        "xmin = litologia_1kk_SF23.bounds['minx'].min()\n",
        "xmax = litologia_1kk_SF23.bounds['maxx'].max()\n",
        "print(xmin,xmax)\n",
        "\n",
        "ymin = litologia_1kk_SF23.bounds['miny'].min()\n",
        "ymax = litologia_1kk_SF23.bounds['maxy'].max()\n",
        "print(ymin,ymax)"
      ]
    },
    {
      "cell_type": "code",
      "execution_count": null,
      "id": "f8f380f8",
      "metadata": {
        "id": "f8f380f8"
      },
      "outputs": [],
      "source": [
        "litologia_100k_SF23 = litologia_100k.cx[-48:-42,-24:-20]\n",
        "litologia_100k_SF23.to_file('colab_ex/lito_100k_sf23.shp')"
      ]
    },
    {
      "cell_type": "code",
      "execution_count": null,
      "id": "00aadcc5",
      "metadata": {
        "id": "00aadcc5"
      },
      "outputs": [],
      "source": [
        "ocorrencias_SF23 = ocorr_min.cx[-48:-42,-24:-20]\n",
        "ocorrencias_SF23.to_file('colab_ex/ocorr_sf23.shp')"
      ]
    },
    {
      "cell_type": "code",
      "execution_count": null,
      "id": "6d42e75b",
      "metadata": {
        "id": "6d42e75b"
      },
      "outputs": [],
      "source": [
        "am_petro_SF23 = am_petro.cx[-48:-42,-24:-20]\n",
        "am_petro_SF23.to_file('colab_ex/am_petro_sf23.shp')"
      ]
    },
    {
      "cell_type": "code",
      "execution_count": null,
      "id": "f719c764",
      "metadata": {
        "id": "f719c764"
      },
      "outputs": [],
      "source": [
        "aflora_SF23 = aflora.cx[-48:-42,-24:-20]\n",
        "aflora_SF23.to_file('colab_ex/aflora_sf23.shp')"
      ]
    }
  ],
  "metadata": {
    "interpreter": {
      "hash": "d412e3d091f5968552f8aa760bc8da416522b5884f97efbbec2149c97127b032"
    },
    "kernelspec": {
      "display_name": "Python [conda env:geologist_environment]",
      "language": "python",
      "name": "conda-env-geologist_environment-py"
    },
    "language_info": {
      "codemirror_mode": {
        "name": "ipython",
        "version": 3
      },
      "file_extension": ".py",
      "mimetype": "text/x-python",
      "name": "python",
      "nbconvert_exporter": "python",
      "pygments_lexer": "ipython3",
      "version": "3.8.12"
    },
    "colab": {
      "provenance": []
    }
  },
  "nbformat": 4,
  "nbformat_minor": 5
}