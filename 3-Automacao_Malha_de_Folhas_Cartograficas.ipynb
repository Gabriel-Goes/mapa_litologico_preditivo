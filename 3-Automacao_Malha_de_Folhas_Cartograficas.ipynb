{
 "cells": [
  {
   "cell_type": "code",
   "execution_count": null,
   "metadata": {},
   "outputs": [],
   "source": [
    "from src.funcs_importar import import_malha_cartog\n",
    "\n",
    "def cartas(escala,ids):\n",
    "    '''\n",
    "    \n",
    "    '''\n",
    "    print('# --- Iniciando seleção de área de estudo')\n",
    "    malha_cartog_gdf_select = import_malha_cartog(escala,ids)\n",
    "    malha_cartog_gdf_select.set_index('id_folha',inplace=True)\n",
    "    print(malha_cartog_gdf_select)\n",
    "\n",
    "    # CRIANDO UM DICIONÁRIO DE CARTAS\n",
    "    #malha_cartog_df_select = malha_cartog_gdf_select.drop(columns=['geometry']) # Transforming GeoDataFrame  to DataFrame by droping 'geometry' column\n",
    "    malha_cartog_gdf_select['raw_data'] = ''\n",
    "\n",
    "    print('# --- Construindo Dicionario de Cartas')\n",
    "    dic_cartas = malha_cartog_gdf_select.to_dict()\n",
    "\n",
    "    # MAIS DE UMA FOLHA DE CARTA SELECIONADA\n",
    "    if len(dic_cartas['raw_data']) > 1:\n",
    "        print(f\"{len(dic_cartas['raw_data'])} folhas cartográfica selecionadas\")\n",
    "        print(\"\")\n",
    "\n",
    "    # APENAS UMA FOLHA DE CARTA SELECIONADA\n",
    "    if len(dic_cartas['raw_data']) == 1:\n",
    "        print(f\"{len(dic_cartas['raw_data'])} folha cartográfica selecionada\")\n",
    "        print(\"\")\n",
    "        \n",
    "    return dic_cartas, malha_cartog_gdf_select\n",
    "# ----------------------------------------------------------------------------------------------------------------------"
   ]
  },
  {
   "cell_type": "markdown",
   "metadata": {},
   "source": [
    "# Automaçao da Malha Cartografica"
   ]
  },
  {
   "cell_type": "code",
   "execution_count": null,
   "metadata": {},
   "outputs": [],
   "source": [
    "from src.funcs_importar import importar # Funçoes descritas no   1 - Geopandas: Creating Geodatabase.ipynb\n",
    "from src.plots import plot_base    # Funçoes definidas no   1.1 - Geapandas: Manipulating GeoDataFrames.ipynb"
   ]
  },
  {
   "cell_type": "code",
   "execution_count": null,
   "metadata": {},
   "outputs": [],
   "source": [
    "import geopandas as gpd\n",
    "import pandas as pd\n",
    "import matplotlib.pyplot as plt"
   ]
  },
  {
   "cell_type": "code",
   "execution_count": null,
   "metadata": {},
   "outputs": [],
   "source": [
    "%matplotlib widget\n",
    "from IPython.display import Image"
   ]
  },
  {
   "cell_type": "markdown",
   "metadata": {},
   "source": [
    "## Com a funçao de produçao de grids da biblioteca GDAL disponibilzada pelo software livre QGIS foi possivel construir uma malha cartografica para as escalas de 1:25.000, 50.000, 100.000, 250.000 e 1.000.000 \n",
    "\n",
    "## E a partir destas malhas cartograficas vamos setorizar o territorio continental brasileiro nomeando cada setor a partir do sistema de automatizaçao de folhas de cartas que utiliza os vertices da geometria retangular para nomear cada setor.  a biblioteca GeoPandas do primeiro grupo de JupyterNotebooks"
   ]
  },
  {
   "cell_type": "code",
   "execution_count": null,
   "metadata": {},
   "outputs": [],
   "source": [
    "Image('imagens/art_folhas_50k.png')"
   ]
  },
  {
   "cell_type": "code",
   "execution_count": null,
   "metadata": {},
   "outputs": [],
   "source": [
    "# Esta funçao foi desenvolvida em conjunto com o aluno Hilo Goes do curso de Ciencias de Tecnologia da Universidade do Rio Grande do Norte\n",
    "# Esta funçao apresenta erros para as folhas cartograficas da ZONAS NORTE, nomeando as folhas do hemisferio norte com ordem invertida.[espelhada]\n",
    "# Para as folhas de 1kk sao descritos 24 zonas porem 24*4 resulta em 92. As coordenadas terminam em 84 Sul e 80 Norte. Sem projeçoes para os polos.\n",
    "\n",
    "import math\n",
    "import pandas as pd\n",
    "\n",
    "# Nomeador de Grids ------------------------------------------------------------------------------------------#\n",
    "def nomeador_grid(left,right,top,bottom,escala=5):\n",
    "    e1kk = ['A','B','C','D','E','F','G','H','I','J','K','L','M','N','O','P','Q','R','S','T','U','V','W','X','Y','Z'] \n",
    "    e500k = [['V','Y'],['X','Z']]\n",
    "    e250k = [['A','C'],['B','D']]\n",
    "    e100k = [['I','IV'],['II','V'],['III','VI']]\n",
    "    e50k = [['1','3'],['2','4']]\n",
    "    e25k = [['NW','SW'],['NE','SE']]\n",
    "\n",
    "    if left > right:\n",
    "        print('Oeste deve ser menor que leste')\n",
    "    if top < bottom:\n",
    "        print('Norte deve ser maior que Sul')\n",
    "        \n",
    "    # Para corrigir o erro de nomeaçao devemos adicionar um criterio caso a folha pertença ao N\n",
    "\n",
    "    # id_folha\n",
    "    # north\n",
    "    # index\n",
    "    # numero\n",
    "    # lat_gap\n",
    "\n",
    "    else:\n",
    "        id_folha = ''\n",
    "        if top <= 0:\n",
    "            id_folha += 'S'                       # soma a letra S `a string 'id_folha'\n",
    "            north = False                         # Indexador de folhas de Latitude Positiva\n",
    "            index = math.floor(-top/4)            # Retorna o maior inteiro menor ou igual a x: {math.floor(x)}\n",
    "        else:\n",
    "            id_folha += 'N'                       \n",
    "            north = True\n",
    "            index = math.floor(bottom/4)\n",
    "        \n",
    "        numero    = math.ceil((180 + right) / 6)\n",
    "        id_folha += e1kk[index] + str(numero)\n",
    "        lat_gap   = abs(top - bottom)\n",
    "\n",
    "        #p500k-----------------------\n",
    "        if (lat_gap <= 2) & (escala >= 1):\n",
    "            LO = math.ceil(right / 3) % 2 == 0\n",
    "            NS = math.ceil(top/2) % 2 != north\n",
    "            id_folha+='_'+e500k[LO][NS]\n",
    "\n",
    "        #p250k-----------------------\n",
    "        if (lat_gap<=1) & (escala>=2):\n",
    "            LO = math.ceil(right/1.5) % 2 == 0\n",
    "            NS = math.ceil(top) % 2 != north\n",
    "            id_folha += e250k[LO][NS]\n",
    "\n",
    "        #p100k-----------------------\n",
    "        if (lat_gap <= 0.5) & (escala >= 3):\n",
    "            LO = (math.ceil(right/0.5) % 3) - 1\n",
    "            NS = math.ceil(top/0.5) % 2 != north\n",
    "            id_folha += '_' + e100k[LO][NS]\n",
    "\n",
    "        #p50k------------------------\n",
    "        if (lat_gap <= 0.25) & (escala >= 4):\n",
    "            LO = math.ceil(right/0.25) % 2 == 0\n",
    "            NS = math.ceil(top/0.25) % 2 != north\n",
    "            id_folha += e50k[LO][NS]\n",
    "\n",
    "        #p25k------------------------\n",
    "        if (lat_gap <= 0.125) & (escala >= 5):\n",
    "            LO = math.ceil(right/0.125) % 2 == 0\n",
    "            NS = math.ceil(top/0.125) % 2 != north\n",
    "            id_folha += '_' + e25k[LO][NS]\n",
    "\n",
    "        return id_folha"
   ]
  },
  {
   "cell_type": "code",
   "execution_count": null,
   "metadata": {},
   "outputs": [],
   "source": [
    "# Lendo cama vertorial gerada no QGIS com poligonos de 6º x 4º [Folhas em escala de 1:1.000.000]\n",
    "malha_cartog_1kk = gpd.read_file(gdb+'cartografia/malha_cartog_1kk_wgs84.shp')\n",
    "malha_cartog_1kk.head(5)"
   ]
  },
  {
   "cell_type": "code",
   "execution_count": null,
   "metadata": {},
   "outputs": [],
   "source": [
    "plots.plot_brazil(malha_cartog_1kk.boundary)\n",
    "#labels(malha_cartog_1kk)"
   ]
  },
  {
   "cell_type": "markdown",
   "metadata": {},
   "source": [
    "#### Definindo as regioes delimitadores para cada unidade da malha consturida no qgis Folha cartografica)."
   ]
  },
  {
   "cell_type": "code",
   "execution_count": null,
   "metadata": {},
   "outputs": [],
   "source": [
    "bounds = malha_cartog_1kk.bounds\n",
    "bounds.head()"
   ]
  },
  {
   "cell_type": "markdown",
   "metadata": {},
   "source": [
    "### Criando uma coluna region com os atributos retirados da funçao acima"
   ]
  },
  {
   "cell_type": "code",
   "execution_count": null,
   "metadata": {},
   "outputs": [],
   "source": [
    "malha_cartog_1kk['region'] = [(left,right,bottom,top) for\\\n",
    "                               left,right,bottom,top in zip(bounds['minx'],bounds['maxx'],\n",
    "                                                            bounds['miny'],bounds['maxy'])]"
   ]
  },
  {
   "cell_type": "code",
   "execution_count": null,
   "metadata": {},
   "outputs": [],
   "source": [
    "# Indexando as folhas 1kk com função 'nomeador_grid()' descrita em './my_funcs.py' importado como 'mf'\n",
    "df = pd.DataFrame(malha_cartog_1kk)\n",
    "lista_grid = []\n",
    "for index, row in df.iterrows():\n",
    "    row['id_folha'] = (nomeador_grid(row.region[0],row.region[1],   \n",
    "                                     row.region[3],row.region[2]))\n",
    "    lista_grid.append(row.id_folha)\n",
    "\n",
    "malha_cartog_1kk['id_folha'] = lista_grid\n",
    "malha_cartog_1kk.drop(['id','left','right','bottom','top','region'],axis=1,inplace=True)"
   ]
  },
  {
   "cell_type": "code",
   "execution_count": null,
   "metadata": {},
   "outputs": [],
   "source": [
    "malha_cartog_1kk.head(5)"
   ]
  },
  {
   "cell_type": "code",
   "execution_count": null,
   "metadata": {},
   "outputs": [],
   "source": [
    "# Adicionando a camada vetorial ao bando de dados geopackage.\n",
    "malha_cartog_1kk.to_file(gdb+'geodatabase.gpkg',driver='GPKG',layer='malha_cartog_1kk_wgs84')"
   ]
  },
  {
   "cell_type": "code",
   "execution_count": null,
   "metadata": {},
   "outputs": [],
   "source": [
    "malha_cartog_1kk.head()"
   ]
  },
  {
   "cell_type": "code",
   "execution_count": null,
   "metadata": {},
   "outputs": [],
   "source": [
    "malha_cartog_1kk['centroid'] = malha_cartog_1kk.centroid"
   ]
  },
  {
   "cell_type": "code",
   "execution_count": null,
   "metadata": {},
   "outputs": [],
   "source": [
    "c = malha_cartog_1kk"
   ]
  },
  {
   "cell_type": "code",
   "execution_count": null,
   "metadata": {},
   "outputs": [],
   "source": [
    "c['coords'] = c['geometry'].apply(lambda x: x.representative_point().coords[:])\n",
    "c['coords'] = [coords[0] for coords in c['coords']]"
   ]
  },
  {
   "cell_type": "code",
   "execution_count": null,
   "metadata": {},
   "outputs": [],
   "source": [
    "malha_cartog_1kk['coords'] = c['coords']"
   ]
  },
  {
   "cell_type": "code",
   "execution_count": null,
   "metadata": {},
   "outputs": [],
   "source": [
    "plots.plot_brazil(malha_cartog_1kk.boundary)\n",
    "\n",
    "for index, row in malha_cartog_1kk.iterrows():\n",
    "    plt.annotate(s=row['id_folha'], xy=row['coords'],\n",
    "                horizontalalignment='center')"
   ]
  },
  {
   "cell_type": "code",
   "execution_count": null,
   "metadata": {},
   "outputs": [],
   "source": [
    "# Definindo Regions (W,E,S,N)\n",
    "def regions(gdf):\n",
    "    bounds = gdf.bounds \n",
    "    gdf['region'] = [(left,right,bottom,top) for left,right,bottom,top in zip(bounds['minx'],bounds['maxx'],\n",
    "                                                                                bounds['miny'],bounds['maxy'])]"
   ]
  },
  {
   "cell_type": "code",
   "execution_count": null,
   "metadata": {},
   "outputs": [],
   "source": [
    "# Definindo nomes a partir da articulação sistematica de folhas de cartas. Construindo uma lista e definindo como uma series.\n",
    "def nomeador_malha(gdf):\n",
    "    df = pd.DataFrame(gdf)\n",
    "    lista_grid = []\n",
    "    for index, row in df.iterrows():\n",
    "        row['id_folha'] = (nomeador_grid(row.region[0],row.region[1],\n",
    "                                              row.region[3],row.region[2],escala=5))\n",
    "        lista_grid.append(row.id_folha)\n",
    "\n",
    "    gdf['id_folha'] = lista_grid"
   ]
  },
  {
   "cell_type": "code",
   "execution_count": null,
   "metadata": {},
   "outputs": [],
   "source": [
    "malha_cartog_25k = gpd.read_file(gdb+'cartografia/malha_cartog_25k_wgs84.shp')   # Escala de 1:25.000\n",
    "malha_cartog_50k = gpd.read_file(gdb+'cartografia/malha_cartog_50k_wgs84.shp')   # Escala de 1:50.000\n",
    "malha_cartog_100k = gpd.read_file(gdb+'cartografia/malha_cartog_100k_wgs84.shp') # Escala de 1:100.000\n",
    "\n",
    "regions(malha_cartog_25k)\n",
    "regions(malha_cartog_50k)\n",
    "regions(malha_cartog_100k)\n",
    "\n",
    "nomeador_malha(malha_cartog_25k)\n",
    "nomeador_malha(malha_cartog_50k)\n",
    "nomeador_malha(malha_cartog_100k)\n",
    "\n",
    "# Percebe-se que há redundância no código, o que leva ao excesso de informação a ser escrita/lida e processada."
   ]
  },
  {
   "cell_type": "code",
   "execution_count": null,
   "metadata": {},
   "outputs": [],
   "source": [
    "malha_cartog_50k.drop(['id','left','right','bottom','top','region'],axis=1,inplace=True)\n",
    "malha_cartog_25k.drop(['id','left','right','bottom','top','region'],axis=1,inplace=True)\n",
    "malha_cartog_100k.drop(['id','left','right','bottom','top','region'],axis=1,inplace=True)"
   ]
  },
  {
   "cell_type": "code",
   "execution_count": null,
   "metadata": {},
   "outputs": [],
   "source": [
    "malha_cartog_50k.to_file(gdb+'geodatabase.gpkg',driver='GPKG',layer='malha_cartog_50k_wgs84')\n",
    "malha_cartog_25k.to_file(gdb+'geodatabase.gpkg',driver='GPKG',layer='malha_cartog_25k_wgs84')\n",
    "malha_cartog_100k.to_file(gdb+'geodatabase.gpkg',driver='GPKG',layer='malha_cartog_100k_wgs84')"
   ]
  },
  {
   "cell_type": "code",
   "execution_count": null,
   "metadata": {},
   "outputs": [],
   "source": [
    "malha_cartog_250k = gpd.read_file(gdb+'cartografia/malha_cartog_250k_wgs84.shp') # Escala de 1:250.000\n",
    "regions(malha_cartog_250k)\n",
    "nomeador_malha(malha_cartog_250k)\n",
    "malha_cartog_250k.drop(['id','left','right','bottom','top','region'],axis=1,inplace=True)\n",
    "malha_cartog_250k.to_file(gdb+'geodatabase.gpkg',driver='GPKG',layer='malha_cartog_250k_wgs84')"
   ]
  },
  {
   "cell_type": "code",
   "execution_count": null,
   "metadata": {},
   "outputs": [],
   "source": [
    "malha_cartog_250k"
   ]
  },
  {
   "cell_type": "markdown",
   "metadata": {},
   "source": [
    "### Construindo um selecionador de area a partir dos id das folhas cartograficas."
   ]
  },
  {
   "cell_type": "code",
   "execution_count": null,
   "metadata": {},
   "outputs": [],
   "source": [
    "def select_area(escala,id):\n",
    "    malha_cartog = geometrias('malha_cartog_'+escala+'_wgs84')\n",
    "    regions(malha_cartog)\n",
    "    area = (malha_cartog[malha_cartog['id_folha'].str.contains(id)])\n",
    "    return(area)"
   ]
  },
  {
   "cell_type": "code",
   "execution_count": null,
   "metadata": {},
   "outputs": [],
   "source": [
    "def labels(gdf):\n",
    "    gdf['coords'] = gdf['geometry'].apply(lambda x: x.representative_point().coords[:])\n",
    "    gdf['coords'] = [coords[0] for coords in gdf['coords']]\n",
    "\n",
    "    for index, row in gdf.iterrows():\n",
    "        plt.annotate(s=row['id_folha'], xy=row['coords'],horizontalalignment='center')"
   ]
  },
  {
   "cell_type": "code",
   "execution_count": null,
   "metadata": {},
   "outputs": [],
   "source": [
    "area = select_area('25k','SC23_Z_A_IV')"
   ]
  },
  {
   "cell_type": "code",
   "execution_count": null,
   "metadata": {},
   "outputs": [],
   "source": [
    "plot_base(area.boundary,atributo=None,camada='litologia_100k',mapa='Rio Paraim')\n",
    "labels(area)"
   ]
  },
  {
   "cell_type": "code",
   "execution_count": null,
   "metadata": {},
   "outputs": [],
   "source": [
    "socorro = select_area('250K','SF23_Y')"
   ]
  },
  {
   "cell_type": "code",
   "execution_count": null,
   "metadata": {},
   "outputs": [],
   "source": [
    "socorro.boundary.plot()\n",
    "labels(socorro)"
   ]
  },
  {
   "cell_type": "code",
   "execution_count": null,
   "metadata": {},
   "outputs": [],
   "source": [
    "plot_base(socorro.boundary,atributo=None)"
   ]
  }
 ],
 "metadata": {
  "interpreter": {
   "hash": "d412e3d091f5968552f8aa760bc8da416522b5884f97efbbec2149c97127b032"
  },
  "kernelspec": {
   "display_name": "Python 3.8.11 64-bit ('geologist_bot': conda)",
   "name": "python3"
  },
  "language_info": {
   "codemirror_mode": {
    "name": "ipython",
    "version": 3
   },
   "file_extension": ".py",
   "mimetype": "text/x-python",
   "name": "python",
   "nbconvert_exporter": "python",
   "pygments_lexer": "ipython3",
   "version": "3.8.11"
  }
 },
 "nbformat": 4,
 "nbformat_minor": 4
}
