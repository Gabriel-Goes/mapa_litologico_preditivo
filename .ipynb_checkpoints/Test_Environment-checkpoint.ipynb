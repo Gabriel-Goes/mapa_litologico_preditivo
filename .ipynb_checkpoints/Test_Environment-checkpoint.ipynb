{
 "cells": [
  {
   "cell_type": "code",
   "execution_count": 3,
   "metadata": {},
   "outputs": [
    {
     "ename": "ModuleNotFoundError",
     "evalue": "No module named 'src.funcs_importar'",
     "output_type": "error",
     "traceback": [
      "\u001b[0;31m---------------------------------------------------------------------------\u001b[0m",
      "\u001b[0;31mModuleNotFoundError\u001b[0m                       Traceback (most recent call last)",
      "\u001b[0;32m/tmp/ipykernel_106040/260949089.py\u001b[0m in \u001b[0;36m<module>\u001b[0;34m\u001b[0m\n\u001b[1;32m      3\u001b[0m \u001b[0mget_ipython\u001b[0m\u001b[0;34m(\u001b[0m\u001b[0;34m)\u001b[0m\u001b[0;34m.\u001b[0m\u001b[0mrun_line_magic\u001b[0m\u001b[0;34m(\u001b[0m\u001b[0;34m'matplotlib'\u001b[0m\u001b[0;34m,\u001b[0m \u001b[0;34m'widget'\u001b[0m\u001b[0;34m)\u001b[0m\u001b[0;34m\u001b[0m\u001b[0;34m\u001b[0m\u001b[0m\n\u001b[1;32m      4\u001b[0m \u001b[0;34m\u001b[0m\u001b[0m\n\u001b[0;32m----> 5\u001b[0;31m \u001b[0;32mfrom\u001b[0m \u001b[0msrc\u001b[0m\u001b[0;34m.\u001b[0m\u001b[0mdata_manipulation\u001b[0m \u001b[0;32mimport\u001b[0m \u001b[0mget_region\u001b[0m\u001b[0;34m\u001b[0m\u001b[0;34m\u001b[0m\u001b[0m\n\u001b[0m\u001b[1;32m      6\u001b[0m \u001b[0;31m#from src.funcs_importar import gdb\u001b[0m\u001b[0;34m\u001b[0m\u001b[0;34m\u001b[0m\u001b[0m\n",
      "\u001b[0;32m~/Projetos/ic_2020/src/data_manipulation.py\u001b[0m in \u001b[0;36m<module>\u001b[0;34m\u001b[0m\n\u001b[1;32m     14\u001b[0m \u001b[0;32mfrom\u001b[0m \u001b[0mverde\u001b[0m \u001b[0;32mimport\u001b[0m \u001b[0minside\u001b[0m\u001b[0;34m\u001b[0m\u001b[0;34m\u001b[0m\u001b[0m\n\u001b[1;32m     15\u001b[0m \u001b[0;34m\u001b[0m\u001b[0m\n\u001b[0;32m---> 16\u001b[0;31m \u001b[0;32mfrom\u001b[0m \u001b[0msrc\u001b[0m\u001b[0;34m.\u001b[0m\u001b[0mfuncs_importar\u001b[0m \u001b[0;32mimport\u001b[0m \u001b[0mdado_bruto\u001b[0m\u001b[0;34m,\u001b[0m \u001b[0mimport_xyz\u001b[0m\u001b[0;34m,\u001b[0m \u001b[0mimportar_geometrias\u001b[0m\u001b[0;34m\u001b[0m\u001b[0;34m\u001b[0m\u001b[0m\n\u001b[0m\u001b[1;32m     17\u001b[0m \u001b[0;32mfrom\u001b[0m \u001b[0msrc\u001b[0m\u001b[0;34m.\u001b[0m\u001b[0mfuncs_cartog_automation\u001b[0m \u001b[0;32mimport\u001b[0m \u001b[0mcartas\u001b[0m\u001b[0;34m\u001b[0m\u001b[0;34m\u001b[0m\u001b[0m\n\u001b[1;32m     18\u001b[0m \u001b[0;32mfrom\u001b[0m \u001b[0msrc\u001b[0m\u001b[0;34m.\u001b[0m\u001b[0mfuncs_descricao\u001b[0m \u001b[0;32mimport\u001b[0m \u001b[0mdescricao\u001b[0m\u001b[0;34m\u001b[0m\u001b[0;34m\u001b[0m\u001b[0m\n",
      "\u001b[0;31mModuleNotFoundError\u001b[0m: No module named 'src.funcs_importar'"
     ]
    }
   ],
   "source": [
    "import matplotlib.pyplot as plt\n",
    "plt.rcParams['figure.dpi'] = 120\n",
    "%matplotlib widget\n",
    "\n",
    "from src.data_manipulation import get_region\n",
    "#from src.funcs_importar import gdb"
   ]
  },
  {
   "cell_type": "markdown",
   "metadata": {},
   "source": [
    "# Dicionário de cartas"
   ]
  },
  {
   "cell_type": "code",
   "execution_count": 3,
   "metadata": {},
   "outputs": [
    {
     "name": "stdout",
     "output_type": "stream",
     "text": [
      "\n",
      "# Importando dados\n",
      " Diretório: /home/ggrl/geodatabase/geodatabase.gpkg\n",
      "# -- Lista de camadas vetoriais disponiveis no Geopackage: ['litologia_1kk', 'litologia_250k', 'litologia_100k', 'litologia_50k', 'aflora', 'am_petro', 'proj_cprm', 'proj_aerogeof', 'socorro_250k', 'ocorr_min_cprm', 'malha_cartog_50k_wgs84', 'malha_cartog_25k_wgs84', 'malha_cartog_100k_wgs84', 'malha_cartog_250k_wgs84', 'malha_cartog_1kk_wgs84']\n",
      " Diretório: /home/ggrl/geodatabase/geodatabase.gpkg\n",
      " Diretório: /home/ggrl/geodatabase/geof/gama_line_1105\n",
      "\n",
      "# - Selecionando Folhas Cartograficas\n",
      "# --- Iniciando seleção de área de estudo\n",
      " Diretório: /home/ggrl/geodatabase/geodatabase.gpkg\n",
      "EPSG:32723\n",
      "# --- Construindo Dicionario de Cartas\n",
      "4 folhas cartográfica selecionadas\n",
      "\n",
      "\n",
      "# -- Contruindo dicionario de metadados\n",
      "Listando atributos dos dados geofisicos\n"
     ]
    },
    {
     "name": "stderr",
     "output_type": "stream",
     "text": [
      "100%|██████████| 12/12 [00:00<00:00, 210592.67it/s]"
     ]
    },
    {
     "name": "stdout",
     "output_type": "stream",
     "text": [
      "# --- # Listagem de dados do aerolevantamento:  \n",
      "Lista de atributos geofísicos = ['KPERC', 'eU', 'eTH', 'UTHRAZAO', 'UKRAZAO', 'MDT', 'THKRAZAO', 'CTCOR']\n",
      "lista de atributos geograficos = ['LATITUDE', 'LONGITUDE']\n",
      "lista de atributos projetados = ['X', 'Y']\n"
     ]
    },
    {
     "name": "stderr",
     "output_type": "stream",
     "text": [
      "\n"
     ]
    },
    {
     "name": "stdout",
     "output_type": "stream",
     "text": [
      "\n",
      "# --- Início da iteração entre as folhas cartográficas #\n"
     ]
    },
    {
     "name": "stderr",
     "output_type": "stream",
     "text": [
      "0it [00:00, ?it/s]"
     ]
    },
    {
     "name": "stdout",
     "output_type": "stream",
     "text": [
      "# Folha de código: SF23_YA\n",
      " Atualizando dados geofísicos em dic_cartas['raw_data']\n",
      " com 39309 pontos de amostragem\n",
      "epsg:32723\n"
     ]
    },
    {
     "name": "stderr",
     "output_type": "stream",
     "text": [
      "4it [00:21,  5.43s/it]"
     ]
    },
    {
     "name": "stdout",
     "output_type": "stream",
     "text": [
      " Atualizando dados litológicos em dic_cartas['litologia']\n",
      " com 0 poligonos descritos por                         27 atributos geologicos \n",
      "A folha SF23_YC possui apenas '402' pontos coletados que devem ser adicionados a folha mais próxima\n",
      " Atualizando dados geofísicos em dic_cartas['raw_data']\n",
      " com 402 pontos de amostragem\n",
      "# Folha de código: SF23_YB\n",
      " Atualizando dados geofísicos em dic_cartas['raw_data']\n",
      " com 439913 pontos de amostragem\n",
      "epsg:32723\n",
      " Atualizando dados litológicos em dic_cartas['litologia']\n",
      " com 0 poligonos descritos por                         27 atributos geologicos \n",
      "# Folha de código: SF23_YD\n",
      " Atualizando dados geofísicos em dic_cartas['raw_data']\n",
      " com 272666 pontos de amostragem\n",
      "epsg:32723\n",
      " Atualizando dados litológicos em dic_cartas['litologia']\n",
      " com 0 poligonos descritos por                         27 atributos geologicos \n"
     ]
    },
    {
     "name": "stderr",
     "output_type": "stream",
     "text": [
      "\n"
     ]
    }
   ],
   "source": [
    "dic_cartas, dic_raw_meta = get_region('250k','SF23_Y','geof/gama_line_1105','litologia_100k')"
   ]
  },
  {
   "cell_type": "code",
   "execution_count": 4,
   "metadata": {},
   "outputs": [
    {
     "name": "stdout",
     "output_type": "stream",
     "text": [
      "['geometry', 'region', 'region_proj', 'raw_data', 'litologia']\n"
     ]
    }
   ],
   "source": [
    "#\n",
    "dimensions = list(dic_cartas.keys())\n",
    "print(dimensions)"
   ]
  },
  {
   "cell_type": "code",
   "execution_count": null,
   "metadata": {},
   "outputs": [],
   "source": [
    "\n",
    "\n",
    "for n in dimensions:\n",
    "    print(f' # - {n}: ')\n",
    "    for \n",
    "\n",
    "    print(f' # -- {list(dic_cartas_1105[n].keys())}')\n",
    "    print('')"
   ]
  },
  {
   "cell_type": "code",
   "execution_count": null,
   "metadata": {},
   "outputs": [],
   "source": [
    "def ids(data):\n",
    "    for i in data:\n",
    "        print(i)\n",
    "\n",
    "def distrib(data):"
   ]
  },
  {
   "cell_type": "code",
   "execution_count": null,
   "metadata": {},
   "outputs": [],
   "source": [
    "ids(data)"
   ]
  },
  {
   "cell_type": "code",
   "execution_count": null,
   "metadata": {},
   "outputs": [],
   "source": [
    "ax = dic_raw_meta_1105['Malha_cartografica'].boundary.plot(color='Black')\n",
    "\n",
    "dic_cartas_1105['litologia']['SF23_VD'].plot('SIGLA',\n",
    "                                        ax=ax,\n",
    "                                        legend=True,\n",
    "                                        legend_kwds={'loc': 'center left', 'bbox_to_anchor':(1,0.5)})"
   ]
  },
  {
   "cell_type": "code",
   "execution_count": null,
   "metadata": {},
   "outputs": [],
   "source": [
    "print(dic_raw_meta['Lista_at_geof'])\n",
    "dic_raw_meta['Metadata']"
   ]
  },
  {
   "cell_type": "code",
   "execution_count": null,
   "metadata": {},
   "outputs": [],
   "source": [
    "dic_raw_meta['Percentiles'].T"
   ]
  },
  {
   "cell_type": "code",
   "execution_count": null,
   "metadata": {},
   "outputs": [],
   "source": [
    "dic_cartas['raw_data']['SF23_Y_A_III_4']"
   ]
  },
  {
   "cell_type": "code",
   "execution_count": null,
   "metadata": {},
   "outputs": [],
   "source": [
    "#Levantamento 1105\n",
    "dic_cartas, dic_raw_meta = interpolar(gama=True,dic_cartas=dic_cartas,dic_raw_meta=dic_raw_meta)"
   ]
  },
  {
   "cell_type": "markdown",
   "metadata": {},
   "source": [
    "## Descriçao estatistica dos dados brutos"
   ]
  },
  {
   "cell_type": "code",
   "execution_count": null,
   "metadata": {},
   "outputs": [],
   "source": [
    "dic_cartas['cubic'].keys()"
   ]
  },
  {
   "cell_type": "code",
   "execution_count": null,
   "metadata": {},
   "outputs": [],
   "source": [
    "dic_cartas.keys()"
   ]
  },
  {
   "cell_type": "markdown",
   "metadata": {},
   "source": [
    "## DESCRIÇÃO DOS DADOS DA FOLHA SF23_Y_A_III_4"
   ]
  },
  {
   "cell_type": "markdown",
   "metadata": {},
   "source": [
    "### DICIONARIO DE DADOS DISPONIVEIS\n",
    "    - Regioes geograficas (W,E, S, N)\n",
    "    - Regioes projetadas (W,E, S, N)\n",
    "    - Dados Brutos\n",
    "    - Dados Interpolados\n",
    "    - Scores da Validacao Crusada para os dados interpolados\n",
    "    - Dataframe com classes alvos (Unidades Litologicas)"
   ]
  },
  {
   "cell_type": "code",
   "execution_count": null,
   "metadata": {},
   "outputs": [],
   "source": [
    "for i in dic_cartas:\n",
    "    print(i)"
   ]
  },
  {
   "cell_type": "code",
   "execution_count": null,
   "metadata": {},
   "outputs": [],
   "source": [
    "print(f\"#  folhas cartograficas: {len(dic_cartas['region'])}\")\n",
    "print(f\"ID folhas cartograficas: {list(dic_cartas['region'].keys())}\")"
   ]
  },
  {
   "cell_type": "code",
   "execution_count": null,
   "metadata": {
    "scrolled": true
   },
   "outputs": [],
   "source": [
    "print(f\"Dados interpolados pleo modelo de cubico: {list(dic_cartas['cubic']['SF23_Y_A_III_4'].keys())}\")"
   ]
  },
  {
   "cell_type": "markdown",
   "metadata": {},
   "source": [
    "### CRIANDO DICIONARIO DE TITULOS PARA OS PLOTS"
   ]
  },
  {
   "cell_type": "code",
   "execution_count": null,
   "metadata": {},
   "outputs": [],
   "source": [
    "list_canal = dic_raw_meta['Lista_at_geof']\n",
    "print(f\"Lista de atributos: {list_canal}\")\n",
    "\n",
    "# LISTA DE TITULOS \n",
    "titles =   [\n",
    "            'K (%)',\n",
    "            'U (ppm)',\n",
    "            'Th (ppm)',\n",
    "            'U (ppm) / Th (ppm)',\n",
    "            'U (ppm) / K (%)',\n",
    "            'MDT (m)',\n",
    "            'Th (ppm) / K (%)',\n",
    "            'Contagem Total (μR/h)'\n",
    "            ]\n",
    "\n",
    "\n",
    "# DICIONARIO DE TITULOS\n",
    "dic_titles = {}\n",
    "for f, t in zip(list_canal, titles):\n",
    "    dic_titles[f] = t\n",
    "\n",
    "dic_titles"
   ]
  },
  {
   "cell_type": "markdown",
   "metadata": {},
   "source": [
    "#### DISTRIBUICAO GEOSTATISTICA DOS DADOS BRUTOS"
   ]
  },
  {
   "cell_type": "code",
   "execution_count": null,
   "metadata": {},
   "outputs": [],
   "source": [
    "dic_raw_meta['Percentiles'].T"
   ]
  },
  {
   "cell_type": "code",
   "execution_count": null,
   "metadata": {},
   "outputs": [],
   "source": [
    "dic_titles"
   ]
  },
  {
   "cell_type": "code",
   "execution_count": null,
   "metadata": {},
   "outputs": [],
   "source": [
    "def plot_raw_data(raw_data):\n",
    "    fig, axs = plt.subplots(nrows = 2, ncols = 4, figsize = (9, 9),sharex='all',sharey='all')\n",
    "    \n",
    "    raw_data_describe = raw_data.describe(percentiles=(0.01,0.1,0.25,0.5,0.75,0.995))\n",
    "\n",
    "    X, Y = raw_data.X, raw_data.Y\n",
    "\n",
    "    for ax, f in zip(axs.flat, dic_titles):\n",
    "        vmin = raw_data_describe[f]['1%']\n",
    "        vmax = raw_data_describe[f]['99.5%']\n",
    "\n",
    "        g = ax.scatter(c=raw_data[f], x = X,\n",
    "                                      y = Y,\n",
    "                                      cmap = 'rainbow',\n",
    "                                      s    = 0.5,\n",
    "                                      vmax =vmax, vmin=vmin)\n",
    "\n",
    "        fig.colorbar(g, ax = ax)\n",
    "        ax.set_title(str(dic_titles[f]), size = 11)\n",
    "        ax.axis('scaled')"
   ]
  },
  {
   "cell_type": "code",
   "execution_count": null,
   "metadata": {},
   "outputs": [],
   "source": [
    "plot_raw_data(dic_cartas['raw_data']['SF23_Y_A_III_2'])"
   ]
  },
  {
   "cell_type": "code",
   "execution_count": null,
   "metadata": {},
   "outputs": [],
   "source": [
    "plot_raw_data(dic_cartas['raw_data']['SF23_Y_A_III_4'])"
   ]
  },
  {
   "cell_type": "code",
   "execution_count": null,
   "metadata": {},
   "outputs": [],
   "source": [
    "dic_cartas.keys()"
   ]
  },
  {
   "cell_type": "code",
   "execution_count": null,
   "metadata": {},
   "outputs": [],
   "source": [
    "data = dic_cartas['cubic']['SF23_Y_A_III_4']\n",
    "plot_raw_data(data)"
   ]
  },
  {
   "cell_type": "code",
   "execution_count": null,
   "metadata": {},
   "outputs": [],
   "source": [
    "dic_cartas['cubic'].keys()"
   ]
  },
  {
   "cell_type": "code",
   "execution_count": null,
   "metadata": {},
   "outputs": [],
   "source": [
    "plot_raw_data(dic_cartas['cubic']['SF23_Y_A_III_2'])"
   ]
  },
  {
   "cell_type": "code",
   "execution_count": null,
   "metadata": {},
   "outputs": [],
   "source": [
    "from shapely import geometry\n",
    "\n",
    "lito_cubic  = dic_cartas['lito_cubic']['SF23_Y_A_III_4']\n",
    "\n",
    "lito_cubic['geometry'] = [geometry.Point(x,y) for x, y in zip(lito_cubic['X'], lito_cubic['Y'])]\n",
    "\n",
    "geodataframe = dic_cartas['lito_cubic']['SF23_Y_A_III_4'].set_geometry('geometry')\n",
    "geodataframe.set_crs(32723,inplace=True)\n",
    "geodataframe.to_crs(32723,inplace=True)\n",
    "\n",
    "print(geodataframe.crs)\n",
    "\n",
    "geodataframe.plot('closest_unid',s= 5,\n",
    "                        legend=True,\n",
    "                        legend_kwds={'loc': 'center left', 'bbox_to_anchor':(1,0.5)}\n",
    "                )\n",
    "                                 \n",
    "plt.title(label=f\"'closest_unid': SF23_Y_A_III_4\")"
   ]
  },
  {
   "cell_type": "code",
   "execution_count": null,
   "metadata": {},
   "outputs": [],
   "source": [
    "def plotBoxplots(df, cols = None):\n",
    "    n = len(cols)\n",
    "    fig, axs = plt.subplots(n, 1, figsize = (9, n * 2))\n",
    "    \n",
    "    for ax, f in zip(axs, cols):\n",
    "        sns.boxplot(y = f, x = 'closest_unid', data = df, ax = ax)\n"
   ]
  },
  {
   "cell_type": "code",
   "execution_count": null,
   "metadata": {},
   "outputs": [],
   "source": [
    "plotBoxplots(dic_cartas['lito_cubic']['SF23_Y_A_III_4'], cols = dic_titles)"
   ]
  },
  {
   "cell_type": "code",
   "execution_count": null,
   "metadata": {},
   "outputs": [],
   "source": [
    "plotBoxplots(dic_cartas['lito_cubic']['SF23_Y_A_III_4'], cols = dic_titles)"
   ]
  },
  {
   "cell_type": "code",
   "execution_count": null,
   "metadata": {},
   "outputs": [],
   "source": [
    "fig, axs = plt.subplots(nrows = 4, ncols = 2, figsize = (7, 6))\n",
    "\n",
    "for ax, gf in zip(axs.flat, dic_titles):\n",
    "    g = ax.hist(dic_cartas['lito_splines']['SC23_Z_A_IV'][gf], color = 'lightblue', edgecolor = 'black')\n",
    "    ax.set_title(str(dic_titles[gf]), size = 9)\n",
    "\n",
    "plt.tight_layout()"
   ]
  },
  {
   "cell_type": "code",
   "execution_count": null,
   "metadata": {},
   "outputs": [],
   "source": [
    "fig, axs = plt.subplots(nrows = 4, ncols = 2, figsize = (7, 6))\n",
    "\n",
    "for ax, gf in zip(axs.flat, dic_titles):\n",
    "    g = ax.hist(dic_cartas['lito_cubic']['SC23_Z_A_IV'][gf], color = 'lightblue', edgecolor = 'black')\n",
    "    ax.set_title(str(dic_titles[gf]), size = 9)\n",
    "\n",
    "plt.tight_layout()"
   ]
  },
  {
   "cell_type": "code",
   "execution_count": null,
   "metadata": {},
   "outputs": [],
   "source": [
    "fig, axs = plt.subplots(nrows = 4, ncols = 2, figsize = (7, 6))\n",
    "\n",
    "for ax, gf in zip(axs.flat, dic_titles):\n",
    "    g = ax.hist(dic_cartas['raw_data']['SC23_Z_A_IV'][gf], color = 'lightblue', edgecolor = 'black')\n",
    "    ax.set_title(str(dic_titles[gf]), size = 9)\n",
    "\n",
    "plt.tight_layout()"
   ]
  },
  {
   "cell_type": "code",
   "execution_count": null,
   "metadata": {
    "tags": []
   },
   "outputs": [],
   "source": [
    "for i in dic_cartas['splines']:\n",
    "    print(i)\n",
    "    dic_cartas['lito_splines'][i].to_csv(f.gdb+'dataframe_input_model/lito_splines_'+i+'.csv',index=False)\n",
    "    dic_cartas['lito_cubic'][i].to_csv(f.gdb+'dataframe_input_model/lito_cubic_'+i+'.csv',index=False)"
   ]
  },
  {
   "cell_type": "code",
   "execution_count": null,
   "metadata": {
    "tags": []
   },
   "outputs": [],
   "source": [
    "dic_cartas['lito_cubic']['SF23_Y_A_III_4']"
   ]
  },
  {
   "cell_type": "code",
   "execution_count": null,
   "metadata": {},
   "outputs": [],
   "source": [
    "dic_cartas['lito_cubic']['SC23_Z_A_IV'].closest_unid.isnull().sum()"
   ]
  },
  {
   "cell_type": "code",
   "execution_count": null,
   "metadata": {},
   "outputs": [],
   "source": [
    "dic_cartas['lito_splines']['SC23_Z_A_IV']"
   ]
  },
  {
   "cell_type": "code",
   "execution_count": null,
   "metadata": {},
   "outputs": [],
   "source": [
    "dic_cartas['lito_splines']['SC23_Z_A_IV'].closest_unid.isnull().sum()"
   ]
  },
  {
   "cell_type": "code",
   "execution_count": null,
   "metadata": {},
   "outputs": [],
   "source": [
    "### DESCRICAO GEOSTATISTICA DOS DADOS INTERPOLADOS\n",
    "\n",
    "def plot_splines_grid(splines_grid):\n",
    "    fig, axs = plt.subplots(nrows = 4, ncols = 2, figsize = (16, 16),sharex='all',sharey='all')\n",
    "\n",
    "    for ax, f in zip(axs.flat, dic_titles):\n",
    "\n",
    "        df_splines = pd.DataFrame(splines_grid[f][f])\n",
    "\n",
    "        p = df_splines.describe(percentiles=(0.01,0.1,0.25,0.5,0.75,0.995))\n",
    "        print(p)\n",
    "        vmin = p['1%']\n",
    "        vmax = p['99.5%']\n",
    "\n",
    "        g = grids[f][f].plot(ax=ax,\n",
    "                             cmap = 'rainbow',\n",
    "                             vmax =vmax, vmin=vmin)\n",
    "\n",
    "        ax.set_title(str(dic_titles[f]), size = 11)\n",
    "        ax.axis('scaled')\n",
    "\n",
    "\n",
    "geodataframe = dic_cartas['lito_splines']['SC23_Z_A_IV'].set_geometry('geometry')\n",
    "print(geodataframe.crs)\n",
    "geodataframe.plot('closest_unid',s= 5,\n",
    "                                 legend=True,\n",
    "                                 legend_kwds={'loc': 'center left', 'bbox_to_anchor':(1,0.5)})\n",
    "                                 \n",
    "plt.title(label=f\"'closest_unid': SC23_Z_A_IV\")\n",
    "plt.axis('scaled')"
   ]
  },
  {
   "cell_type": "code",
   "execution_count": null,
   "metadata": {},
   "outputs": [],
   "source": [
    "dic_cartas, dic_raw_meta = interpolar(gama='gama_line_1105',dic_cartas=dic_cartas,dic_raw_meta=dic_raw_meta)"
   ]
  },
  {
   "cell_type": "code",
   "execution_count": null,
   "metadata": {},
   "outputs": [],
   "source": [
    "dic_cartas['cubic'].keys()"
   ]
  },
  {
   "cell_type": "code",
   "execution_count": null,
   "metadata": {},
   "outputs": [],
   "source": [
    "dic_cartas['cubic']['SF23_Y_A_III_4']"
   ]
  },
  {
   "cell_type": "code",
   "execution_count": null,
   "metadata": {},
   "outputs": [],
   "source": []
  },
  {
   "cell_type": "code",
   "execution_count": null,
   "metadata": {},
   "outputs": [],
   "source": []
  },
  {
   "cell_type": "markdown",
   "metadata": {},
   "source": [
    "# Dicionário de cartas 3022"
   ]
  },
  {
   "cell_type": "code",
   "execution_count": null,
   "metadata": {},
   "outputs": [],
   "source": [
    "dic_cartas_3022, dic_raw_meta_3022 = get_region('250k','SF23','geof/gama_3022','litologia_100k')"
   ]
  },
  {
   "cell_type": "markdown",
   "metadata": {},
   "source": [
    "# Dicionário de Cartas 1039"
   ]
  },
  {
   "cell_type": "code",
   "execution_count": null,
   "metadata": {},
   "outputs": [],
   "source": []
  },
  {
   "cell_type": "code",
   "execution_count": null,
   "metadata": {},
   "outputs": [],
   "source": [
    "dic_cartas_1039, dic_raw_meta_1039 = get_region('250k','SF23_YA_','geof/geof_1039','litologia_1kk')"
   ]
  },
  {
   "cell_type": "code",
   "execution_count": null,
   "metadata": {},
   "outputs": [],
   "source": [
    "dic_cartas_1039.keys()"
   ]
  },
  {
   "cell_type": "code",
   "execution_count": null,
   "metadata": {},
   "outputs": [],
   "source": [
    "dic_cartas_1039['litologia']['SF23_YA_V'].plot('SIGLA')"
   ]
  },
  {
   "cell_type": "code",
   "execution_count": null,
   "metadata": {},
   "outputs": [],
   "source": [
    "dic_cartas_1039, dic_raw_meta_1039 = interpolar(geof=True,dic_cartas=dic_cartas_1039,dic_raw_meta=dic_raw_meta_1039)"
   ]
  },
  {
   "cell_type": "code",
   "execution_count": null,
   "metadata": {},
   "outputs": [],
   "source": [
    "data = dic_cartas_1039['cubic']['SF23_YA_V']"
   ]
  },
  {
   "cell_type": "code",
   "execution_count": null,
   "metadata": {},
   "outputs": [],
   "source": [
    "data_percentiles = dic_raw_meta_1039['Percentiles']"
   ]
  },
  {
   "cell_type": "code",
   "execution_count": null,
   "metadata": {},
   "outputs": [],
   "source": [
    "data_percentiles.T"
   ]
  },
  {
   "cell_type": "code",
   "execution_count": null,
   "metadata": {},
   "outputs": [],
   "source": [
    "plt.figure()\n",
    "plt.scatter(x=data.X,y=data.Y, c=data.MAGIGRF,cmap='hsv',vmin=-400,vmax=400)\n",
    "plt.axis('scaled')"
   ]
  },
  {
   "cell_type": "code",
   "execution_count": null,
   "metadata": {},
   "outputs": [],
   "source": [
    "ax = dic_raw_meta_1039['Malha_cartografica'].boundary.plot(color='Black')"
   ]
  },
  {
   "cell_type": "code",
   "execution_count": null,
   "metadata": {},
   "outputs": [],
   "source": [
    "dic_cartas_1039['cubic'].keys()"
   ]
  },
  {
   "cell_type": "code",
   "execution_count": null,
   "metadata": {},
   "outputs": [],
   "source": [
    "for i in dic_cartas_1039['cubic']:\n",
    "    data = dic_cartas_1039['cubic'][i]\n",
    "    plt.scatter(x=data.X,y=data.Y,c=data.MAGIGRF)"
   ]
  },
  {
   "cell_type": "code",
   "execution_count": null,
   "metadata": {},
   "outputs": [],
   "source": [
    "data = dic_cartas_1039['cubic']['SF23_YA_V']\n",
    "plt.scatter(x=data.X,y=data.Y,c=data.MAGIGRF)"
   ]
  },
  {
   "cell_type": "code",
   "execution_count": null,
   "metadata": {},
   "outputs": [],
   "source": [
    "dic_raw_meta_1039['cubic']['SF23_YA_V']"
   ]
  },
  {
   "cell_type": "code",
   "execution_count": null,
   "metadata": {},
   "outputs": [],
   "source": [
    "dic_raw_meta_1039['cubic']['SF23_YA_V']"
   ]
  },
  {
   "cell_type": "code",
   "execution_count": null,
   "metadata": {},
   "outputs": [],
   "source": []
  }
 ],
 "metadata": {
  "interpreter": {
   "hash": "d412e3d091f5968552f8aa760bc8da416522b5884f97efbbec2149c97127b032"
  },
  "kernelspec": {
   "display_name": "Python 3.9.7 64-bit ('geologist_machine': conda)",
   "language": "python",
   "name": "python397jvsc74a57bd02c529cee6206cc344f774ffef689e0d3b2d7e85239d30226c4dd89992f5684b5"
  },
  "language_info": {
   "codemirror_mode": {
    "name": "ipython",
    "version": 3
   },
   "file_extension": ".py",
   "mimetype": "text/x-python",
   "name": "python",
   "nbconvert_exporter": "python",
   "pygments_lexer": "ipython3",
   "version": "3.9.7"
  }
 },
 "nbformat": 4,
 "nbformat_minor": 4
}
