{
  "cells": [
    {
      "cell_type": "code",
      "execution_count": null,
      "metadata": {
        "collapsed": false
      },
      "outputs": [],
      "source": [
        "%matplotlib widget"
      ]
    },
    {
      "cell_type": "markdown",
      "metadata": {},
      "source": [
        "\n",
        "\n",
        "# Grid Coordinates\n",
        "\n",
        "Creating the coordinates for regular grids in Verde is done using the\n",
        ":func:`verde.grid_coordinates` function. It creates a set of regularly spaced\n",
        "points in both the west-east and south-north directions, i.e. a two-dimensional\n",
        "spatial grid. These points are then used by the Verde gridders to interpolate\n",
        "between data points. As such, all `.grid` methods (like\n",
        ":meth:`verde.Spline.grid`) take as input the configuration parameters for\n",
        ":func:`verde.grid_coordinates`. The grid can be specified either by the number\n",
        "of points in each dimension (the shape) or by the grid node spacing.\n"
      ]
    },
    {
      "cell_type": "code",
      "execution_count": null,
      "metadata": {
        "collapsed": false
      },
      "outputs": [],
      "source": [
        "import matplotlib.pyplot as plt\n",
        "import verde as vd\n",
        "\n",
        "import cartopy.crs as ccrs\n",
        "import numpy as np\n",
        "import pyproj\n",
        "\n",
        "import src\n",
        "from shapely import geometry"
      ]
    },
    {
      "cell_type": "markdown",
      "metadata": {},
      "source": [
        "First let's create a region that is 1000 units west-east and 1000 units\n",
        "south-north, and we will set an initial spacing to 100 units.\n",
        "\n"
      ]
    },
    {
      "cell_type": "code",
      "execution_count": null,
      "metadata": {},
      "outputs": [],
      "source": [
        "quadricula = src.Build_mc('50k',['SF23_YA_III4','SF23_YB_I'])"
      ]
    },
    {
      "cell_type": "code",
      "execution_count": null,
      "metadata": {},
      "outputs": [],
      "source": [
        "src.Upload_geof(quadricula,'gama_line_1105','mag_line_1105',1000)"
      ]
    },
    {
      "cell_type": "code",
      "execution_count": null,
      "metadata": {},
      "outputs": [],
      "source": [
        "quadricula['SF23_YA_III4'].keys()"
      ]
    },
    {
      "cell_type": "code",
      "execution_count": null,
      "metadata": {},
      "outputs": [],
      "source": [
        "print(quadricula['SF23_YB_I4']['region_utm'][0]) \n",
        "print(quadricula['SF23_YB_I2']['region_utm'][0])"
      ]
    },
    {
      "cell_type": "code",
      "execution_count": null,
      "metadata": {},
      "outputs": [],
      "source": [
        "quadricula['SF23_YB_I3']['region_utm'][3] - quadricula['SF23_YB_I1']['region_utm'][2]"
      ]
    },
    {
      "cell_type": "code",
      "execution_count": null,
      "metadata": {},
      "outputs": [],
      "source": [
        "quadricula['SF23_YB_I1']['region_utm'][1] - quadricula['SF23_YB_I2']['region_utm'][0]"
      ]
    },
    {
      "cell_type": "code",
      "execution_count": null,
      "metadata": {},
      "outputs": [],
      "source": [
        "#src.Upload_litologia(quadricula,'litologia_1kk')"
      ]
    },
    {
      "cell_type": "code",
      "execution_count": null,
      "metadata": {},
      "outputs": [],
      "source": [
        "# South America WGS 84\n",
        "p1 = pyproj.Proj(\"+proj=longlat +ellps=WGS84 +datum=WGS84 +no_defs\")\n",
        "# WGS84 UTM\n",
        "zone = quadricula['SF23_YA_III4']['folha']['EPSG'][3:]\n",
        "p2 = pyproj.Proj(f\"+proj=utm +{zone} +south +ellps=WGS84 +datum=WGS84 +units=m +no_defs\")"
      ]
    },
    {
      "cell_type": "code",
      "execution_count": null,
      "metadata": {},
      "outputs": [],
      "source": [
        "region_geog = quadricula['SF23_YB_I4']['folha']['geometry']\n",
        "coords = region_geog[0],region_geog[1]\n",
        "print(coords)\n",
        "\n",
        "#mag_data['E_utm'], mag_data['N_utm'] = pyproj.transform(p1, p2,mag_data.LONGITUDE.values,mag_data.LATITUDE.values)\n",
        "#mag_data['LONGITUDE'], mag_data['LATITUDE'] = pyproj.transform(p1, p2,mag_data.LONGITUDE.values,mag_data.LATITUDE.values)"
      ]
    },
    {
      "cell_type": "code",
      "execution_count": null,
      "metadata": {},
      "outputs": [],
      "source": [
        "def sintetic_grid_vd(quadricula):\n",
        "    list_ids = list(quadricula.keys())\n",
        "    for id in src.tqdm(list_ids):\n",
        "        list_folhas = list(quadricula[id].keys())\n",
        "        zone = quadricula[id]['folha']['EPSG'][3:]\n",
        "        region = quadricula[id]['region_utm']\n",
        "        print(region)\n",
        "        break\n",
        "        #(quadricula[id]['folha']['geometry'].bounds)\n",
        "        for data in (list_folhas[2:-1]):\n",
        "            if 'gama' in data:\n",
        "                gama_data = quadricula[id][data]\n",
        "                coords = gama_data.LONGITUDE.values,gama_data.LATITUDE.values\n",
        "                projection = pyproj.Proj(proj='utm',zone=zone+'south',datum='WGS84')\n",
        "                proj_coords = projection(coords)\n",
        "                \n",
        "                #mag_data['geometry'] = [geometry.Point(x,y) for x,y in zip(mag_data['X'], mag_data['Y'])]\n",
        "            if 'mag' in data:\n",
        "                mag_data = quadricula[id][data]\n",
        "                #mag_data['geometry'] = [geometry.Point(x,y) for x,y in zip(mag_data['X'], mag_data['Y'])]\n",
        "\n",
        "        print('')\n",
        "\n",
        "sintetic_grid_vd(quadricula)"
      ]
    },
    {
      "cell_type": "code",
      "execution_count": null,
      "metadata": {
        "collapsed": false
      },
      "outputs": [],
      "source": [
        "spacing = 0.001\n",
        "\n",
        "west,south,east,north = -45.25, -22.5, -45.0, -22.25\n",
        "\n",
        "#west, east, south, north =0,1000,0,1000\n",
        "region = (west, east, south, north)\n",
        "\n",
        "# create the grid coordinates\n",
        "easting, northing = vd.grid_coordinates(region=region, spacing=spacing)"
      ]
    },
    {
      "cell_type": "markdown",
      "metadata": {},
      "source": [
        "We can check the dimensions of the grid coordinates. The region is 1000 units\n",
        "and the spacing is 100 units, so the shape of the segments is 10x10. However,\n",
        "the number of grid nodes in this case is one more than the number of\n",
        "segments. So our grid coordinates have a shape of 11x11.\n",
        "\n"
      ]
    },
    {
      "cell_type": "code",
      "execution_count": null,
      "metadata": {
        "collapsed": false
      },
      "outputs": [],
      "source": [
        "print(easting.shape, northing.shape)"
      ]
    },
    {
      "cell_type": "markdown",
      "metadata": {},
      "source": [
        "Let's define two functions to visualize the region bounds and grid points\n",
        "\n"
      ]
    },
    {
      "cell_type": "code",
      "execution_count": null,
      "metadata": {
        "collapsed": false
      },
      "outputs": [],
      "source": [
        "def plot_region(ax, region):\n",
        "    \"Plot the region as a solid line.\"\n",
        "    west, east, south, north = region\n",
        "    ax.add_patch(\n",
        "        plt.Rectangle((west, south), east, north, fill=None, label=\"Region Bounds\")\n",
        "    )\n",
        "\n",
        "def plot_grid(ax, coordinates, linestyles=\"dotted\", region=None, pad=50, **kwargs):\n",
        "    \"Plot the grid coordinates as dots and lines.\"\n",
        "    data_region = vd.get_region(coordinates)\n",
        "    ax.vlines(\n",
        "        coordinates[0][0],\n",
        "        ymin=data_region[2],\n",
        "        ymax=data_region[3],\n",
        "        linestyles=linestyles,\n",
        "        zorder=0,\n",
        "    )\n",
        "    ax.hlines(\n",
        "        coordinates[1][:, 1],\n",
        "        xmin=data_region[0],\n",
        "        xmax=data_region[1],\n",
        "        linestyles=linestyles,\n",
        "        zorder=0,\n",
        "    )\n",
        "    ax.scatter(*coordinates, **kwargs)\n",
        "    if pad:\n",
        "        padded = vd.pad_region(region, pad=pad)\n",
        "        plt.xlim(padded[:2])\n",
        "        plt.ylim(padded[2:])"
      ]
    },
    {
      "cell_type": "markdown",
      "metadata": {},
      "source": [
        "Visualize our region and grid coordinates using our functions\n",
        "\n"
      ]
    },
    {
      "cell_type": "code",
      "execution_count": null,
      "metadata": {
        "collapsed": false
      },
      "outputs": [],
      "source": [
        "plt.figure(figsize=(6, 6))\n",
        "ax = plt.subplot(111)\n",
        "plot_region(ax=ax, region=region)\n",
        "plot_grid(\n",
        "    ax=ax,\n",
        "    coordinates=(easting, northing),\n",
        "    region=region,\n",
        "    label=\"Square Region Grid Nodes\",\n",
        "    marker=\".\",\n",
        "    color=\"black\",\n",
        "    s=50,\n",
        ")\n",
        "\n",
        "plt.xlabel(\"Easting\")\n",
        "plt.ylabel(\"Northing\")\n",
        "plt.legend(loc=\"upper center\", bbox_to_anchor=(0.5, 1.15))\n",
        "plt.axis('scaled')\n",
        "plt.show()"
      ]
    },
    {
      "cell_type": "markdown",
      "metadata": {},
      "source": [
        "## Adjusting region boundaries when creating the grid coordinates\n",
        "\n",
        "Now let's change our spacing to 300 units. Because the range of the west-east\n",
        "and south-north boundaries are not multiples of 300, we must choose to change\n",
        "either:\n",
        "\n",
        "- the boundaries of the region in order to fit the spacing, or\n",
        "- the spacing in order to fit the region boundaries.\n",
        "\n",
        "We could tell :func:`verde.grid_coordinates` to adjust the region boundaries\n",
        "by passing ``adjust=\"region\"``.\n",
        "\n"
      ]
    },
    {
      "cell_type": "code",
      "execution_count": null,
      "metadata": {
        "collapsed": false
      },
      "outputs": [],
      "source": [
        "spacing = 300\n",
        "region_easting, region_northing = vd.grid_coordinates(\n",
        "    region=region, spacing=spacing, adjust=\"region\"\n",
        ")\n",
        "print(region_easting.shape, region_northing.shape)"
      ]
    },
    {
      "cell_type": "markdown",
      "metadata": {},
      "source": [
        "With the spacing set at 300 units and a 4 by 4 grid of regular dimensions,\n",
        ":func:`verde.grid_coordinates` calculates the spatial location of each grid\n",
        "point and adjusts the region so that the maximum northing and maximum easting\n",
        "values are divisible by the spacing. In this example, both the  easting and\n",
        "northing have 3 segments (4 nodes) that are each 300 units long, meaning the\n",
        "easting and northing span from 0 to 900. Both dimensions are divisible by\n",
        "300.\n",
        "\n"
      ]
    },
    {
      "cell_type": "code",
      "execution_count": null,
      "metadata": {
        "collapsed": false
      },
      "outputs": [],
      "source": [
        "print(region_easting)\n",
        "print(region_northing)"
      ]
    },
    {
      "cell_type": "markdown",
      "metadata": {},
      "source": [
        "By default, if ``adjust`` is not assigned to ``\"region\"`` or ``\"spacing\"``,\n",
        "then :func:`verde.grid_coordinates` will adjust the spacing. With the adjust\n",
        "parameter set to ``spacing`` :func:`verde.grid_coordinates` creates grid\n",
        "nodes in a similar manner as when it adjusts the region. However, it doesn't\n",
        "readjust the region so that it is divisble by the spacing before creating the\n",
        "grid. This means the grid will have the same number of grid points no matter\n",
        "if the adjust parameter is set to ``region`` or ``spacing``.\n",
        "\n",
        "## Adjusting spacing when creating the grid\n",
        "\n",
        "Now let's adjust the spacing of the grid points by passing\n",
        "``adjust=\"spacing\"`` to :func:`verde.grid_coordinates`.\n",
        "\n"
      ]
    },
    {
      "cell_type": "code",
      "execution_count": null,
      "metadata": {
        "collapsed": false
      },
      "outputs": [],
      "source": [
        "spacing_easting, spacing_northing = vd.grid_coordinates(\n",
        "    region=region, spacing=spacing, adjust=\"spacing\"\n",
        ")\n",
        "print(spacing_easting.shape, spacing_northing.shape)"
      ]
    },
    {
      "cell_type": "markdown",
      "metadata": {},
      "source": [
        "However the regular spacing between the grid points is no longer 300 units.\n",
        "\n"
      ]
    },
    {
      "cell_type": "code",
      "execution_count": null,
      "metadata": {
        "collapsed": false
      },
      "outputs": [],
      "source": [
        "print(spacing_easting)\n",
        "print(spacing_northing)"
      ]
    },
    {
      "cell_type": "markdown",
      "metadata": {},
      "source": [
        "## Visualize the different adjustments\n",
        "\n",
        "Let's visualize the difference between the original region bounds, the\n",
        "adjusted region grid nodes, and the adjusted spacing grid nodes. Note the\n",
        "adjusted spacing grid nodes keep the original region, while the adjusted\n",
        "region grid nodes on the north and east side of the region have moved.\n",
        "\n"
      ]
    },
    {
      "cell_type": "code",
      "execution_count": null,
      "metadata": {
        "collapsed": false
      },
      "outputs": [],
      "source": [
        "plt.figure(figsize=(6, 6))\n",
        "ax = plt.subplot(111)\n",
        "plot_region(ax=ax, region=region)\n",
        "plot_grid(\n",
        "    ax=ax,\n",
        "    coordinates=(region_easting, region_northing),\n",
        "    region=region,\n",
        "    label=\"Adjusted Region Grid Nodes\",\n",
        "    marker=\">\",\n",
        "    color=\"blue\",\n",
        "    alpha=0.75,\n",
        "    s=100,\n",
        ")\n",
        "plot_grid(\n",
        "    ax=ax,\n",
        "    coordinates=(spacing_easting, spacing_northing),\n",
        "    region=region,\n",
        "    label=\"Adjusted Spacing Grid Nodes\",\n",
        "    marker=\">\",\n",
        "    color=\"orange\",\n",
        "    alpha=0.75,\n",
        "    s=100,\n",
        ")\n",
        "plt.xlabel(\"Easting\")\n",
        "plt.ylabel(\"Northing\")\n",
        "plt.legend(loc=\"upper center\", bbox_to_anchor=(0.5, 1.18))\n",
        "plt.axis('scaled')\n",
        "plt.show()"
      ]
    },
    {
      "cell_type": "markdown",
      "metadata": {},
      "source": [
        "## Pixel Registration\n",
        "\n",
        "Pixel registration locates the grid points in the middle of the grid segments\n",
        "rather than in the corner of each grid node.\n",
        "\n",
        "First, let's take our 1000x1000 region and use the 100 unit spacing from the\n",
        "first example and set the ``pixel_register`` parameter to ``True``. Without\n",
        "pixel registration our grid should have dimensions of 11x11. With pixel\n",
        "registration we expect the dimensions of the grid to be the dimensions of the\n",
        "non-registered grid minus one, or equal to the number of segments between the\n",
        "grid points in the non-registered grid (10x10).\n",
        "\n"
      ]
    },
    {
      "cell_type": "code",
      "execution_count": null,
      "metadata": {
        "collapsed": false
      },
      "outputs": [],
      "source": [
        "spacing = 100\n",
        "pixel_easting, pixel_northing = vd.grid_coordinates(\n",
        "    region=region, spacing=spacing, pixel_register=True\n",
        ")\n",
        "print(pixel_easting.shape, pixel_northing.shape)"
      ]
    },
    {
      "cell_type": "markdown",
      "metadata": {},
      "source": [
        "And we can check the coordinates for the grid points with pixel registration.\n",
        "\n"
      ]
    },
    {
      "cell_type": "code",
      "execution_count": null,
      "metadata": {
        "collapsed": false
      },
      "outputs": [],
      "source": [
        "print(pixel_easting)\n",
        "print(pixel_northing)"
      ]
    },
    {
      "cell_type": "markdown",
      "metadata": {},
      "source": [
        "If we set ``pixel_register`` to ``False`` the function will return the grid\n",
        "coordinates of the nodes instead of pixel centers, resulting in an extra\n",
        "point in each direction.\n",
        "\n"
      ]
    },
    {
      "cell_type": "code",
      "execution_count": null,
      "metadata": {
        "collapsed": false
      },
      "outputs": [],
      "source": [
        "easting, northing = vd.grid_coordinates(\n",
        "    region=region, spacing=spacing, pixel_register=False\n",
        ")\n",
        "print(easting.shape, northing.shape)"
      ]
    },
    {
      "cell_type": "markdown",
      "metadata": {},
      "source": [
        "Again we can check the coordinates for grid points with spacing adjustment.\n",
        "\n"
      ]
    },
    {
      "cell_type": "code",
      "execution_count": null,
      "metadata": {
        "collapsed": false
      },
      "outputs": [],
      "source": [
        "print(easting)\n",
        "print(northing)"
      ]
    },
    {
      "cell_type": "markdown",
      "metadata": {},
      "source": [
        "Lastly, we can visualize the pixel-registered grid points to see where they\n",
        "fall within the original region bounds.\n",
        "\n"
      ]
    },
    {
      "cell_type": "code",
      "execution_count": null,
      "metadata": {
        "collapsed": false
      },
      "outputs": [],
      "source": [
        "plt.figure(figsize=(6, 6))\n",
        "ax = plt.subplot(111)\n",
        "plot_region(ax=ax, region=region)\n",
        "plot_grid(\n",
        "    ax=ax,\n",
        "    coordinates=(pixel_easting, pixel_northing),\n",
        "    region=region,\n",
        "    label=\"Pixel Registered Grid Nodes\",\n",
        "    marker=\">\",\n",
        "    color=\"blue\",\n",
        "    alpha=0.75,\n",
        "    s=100,\n",
        ")\n",
        "plot_grid(\n",
        "    ax=ax,\n",
        "    coordinates=(easting, northing),\n",
        "    region=region,\n",
        "    label=\"Regular Registered Grid Nodes\",\n",
        "    marker=\">\",\n",
        "    color=\"orange\",\n",
        "    alpha=0.75,\n",
        "    s=100,\n",
        ")\n",
        "\n",
        "plt.xlabel(\"Easting\")\n",
        "plt.ylabel(\"Northing\")\n",
        "plt.legend(loc=\"upper center\", bbox_to_anchor=(0.5, 1.18))\n",
        "plt.show()"
      ]
    },
    {
      "cell_type": "markdown",
      "metadata": {},
      "source": [
        "## Extra Coordinates\n",
        "\n",
        "In some cases, you might need an additional coordinate such as a height or a\n",
        "time that is associated with your coordinate grid. The ``extra_coords``\n",
        "parameter in :func:`verde.grid_coordinates` creates an extra coordinate array\n",
        "that is the same shape as the coordinate grid, but contains a constant value.\n",
        "For example, let's add a constant height of 1000 units and time of 1 to our\n",
        "coordinate grid.\n",
        "\n"
      ]
    },
    {
      "cell_type": "code",
      "execution_count": null,
      "metadata": {
        "collapsed": false
      },
      "outputs": [],
      "source": [
        "easting, northing, height, time = vd.grid_coordinates(\n",
        "    region=region, spacing=spacing, extra_coords=[1000, 1]\n",
        ")\n",
        "\n",
        "print(easting.shape, northing.shape, height.shape, time.shape)"
      ]
    },
    {
      "cell_type": "markdown",
      "metadata": {},
      "source": [
        "And we can print the height array to verify that it is correct\n",
        "\n"
      ]
    },
    {
      "cell_type": "code",
      "execution_count": null,
      "metadata": {
        "collapsed": false
      },
      "outputs": [],
      "source": [
        "print(height)"
      ]
    },
    {
      "cell_type": "markdown",
      "metadata": {},
      "source": [
        "And we can print the time array as well\n",
        "\n"
      ]
    },
    {
      "cell_type": "code",
      "execution_count": null,
      "metadata": {
        "collapsed": false
      },
      "outputs": [],
      "source": [
        "print(time)"
      ]
    }
  ],
  "metadata": {
    "kernelspec": {
      "display_name": "Python 3.8.13 ('geo_machine')",
      "language": "python",
      "name": "python3"
    },
    "language_info": {
      "codemirror_mode": {
        "name": "ipython",
        "version": 3
      },
      "file_extension": ".py",
      "mimetype": "text/x-python",
      "name": "python",
      "nbconvert_exporter": "python",
      "pygments_lexer": "ipython3",
      "version": "3.8.13"
    },
    "vscode": {
      "interpreter": {
        "hash": "ed32a6a1b508148fc3ce5ac19a3a5a750fe820bd77e8693096b5866236bb4c36"
      }
    }
  },
  "nbformat": 4,
  "nbformat_minor": 0
}
