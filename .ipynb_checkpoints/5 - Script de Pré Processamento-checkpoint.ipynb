{
 "cells": [
  {
   "cell_type": "code",
   "execution_count": 294,
   "metadata": {},
   "outputs": [],
   "source": [
    "import my_funcs    # \"/sources/my_funcs.py\" - arquivo texto com os codigos em python desenvolvidos durante este projeto de pesquisa.\n",
    "                        # As funções definidas no arquivo texto serão utilizadas neste jupyternotebook que funcionará como um script que automatiza o processo de interpolação para\n",
    "                        # folhas cartográficas pré definidas.\n",
    "        \n",
    "import matplotlib.pyplot as plt\n",
    "%matplotlib widget\n",
    "\n",
    "\n",
    "plt.rcParams['figure.dpi'] = 120"
   ]
  },
  {
   "cell_type": "code",
   "execution_count": 2,
   "metadata": {},
   "outputs": [],
   "source": [
    "#geof_3022 = f.pd.read_csv(f.gdb+'geof/g3022.csv')\n",
    "#geof_1039 =f.pd.read_csv(f.gdb+'geof/geof_1039.csv')\n",
    "#geof_1105 = f.pd.read_csv(f.gdb+'geof/g1105')"
   ]
  },
  {
   "cell_type": "code",
   "execution_count": 60,
   "metadata": {},
   "outputs": [],
   "source": [
    "gama_cols = 'KB DATA BARO UB THB COSMICO CTB UUP ALTURA KPERC eU eTH CTEXP UTHRAZAO X Y UKRAZAO MDT THKRAZAO LIVE_TIME CTCOR KCOR THCOR UCOR HORA GPSALT LATITUDE FIDUCIAL TEMP LONGITUDE'.split(\" \")\n",
    "\n",
    "gLine_1105 = f.pd.read_csv(f.gdb+'xyz/1105_XYZ/1105_GamaLine.XYZ',\n",
    "                         names=gama_cols,\n",
    "                         delim_whitespace=True,\n",
    "                         skiprows=11,\n",
    "                         usecols=[\"X\",\"Y\",\"LATITUDE\",\"LONGITUDE\",\n",
    "                                  \"KPERC\",\"eU\",\"eTH\",\"CTCOR\",\"MDT\"])\n",
    "gLine_1105 = gLine_1105.dropna(inplace=False)\n"
   ]
  },
  {
   "cell_type": "markdown",
   "metadata": {},
   "source": [
    "### DESCRIÇÃO DOS DADOS DA FOLHA SF23_Y_A_III_4_SW & SE"
   ]
  },
  {
   "cell_type": "code",
   "execution_count": 61,
   "metadata": {},
   "outputs": [
    {
     "name": "stdout",
     "output_type": "stream",
     "text": [
      "# --- Iniciando seleção de área de estudo\n",
      "Index(['SF23_Y_A_I_1_NW', 'SF23_Y_A_IV_3_SE', 'SF23_Y_A_IV_1_SE',\n",
      "       'SF23_Y_A_IV_3_NE', 'SF23_Y_A_I_4_SW', 'SF23_Y_A_I_1_NE',\n",
      "       'SF23_Y_A_I_2_SW', 'SF23_Y_A_I_2_NW', 'SF23_Y_A_I_2_NE',\n",
      "       'SF23_Y_A_IV_4_SE', 'SF23_Y_A_IV_4_SW', 'SF23_Y_A_I_2_SE',\n",
      "       'SF23_Y_A_IV_4_NE', 'SF23_Y_A_I_4_NE', 'SF23_Y_A_II_1_SE',\n",
      "       'SF23_Y_A_II_1_NE', 'SF23_Y_A_V_3_SE', 'SF23_Y_A_V_3_SW',\n",
      "       'SF23_Y_A_II_4_SW', 'SF23_Y_A_II_3_SE', 'SF23_Y_A_V_4_SE',\n",
      "       'SF23_Y_A_V_4_NE', 'SF23_Y_A_III_1_NW', 'SF23_Y_A_VI_3_SW',\n",
      "       'SF23_Y_A_VI_3_SE', 'SF23_Y_A_VI_1_NE', 'SF23_Y_A_III_1_NE',\n",
      "       'SF23_Y_A_VI_1_SW', 'SF23_Y_A_VI_1_NW', 'SF23_Y_A_III_3_SW',\n",
      "       'SF23_Y_A_VI_1_SE', 'SF23_Y_A_III_3_SE', 'SF23_Y_A_III_3_NE',\n",
      "       'SF23_Y_A_VI_3_NW', 'SF23_Y_A_VI_3_NE', 'SF23_Y_A_VI_4_NW',\n",
      "       'SF23_Y_A_VI_2_SW', 'SF23_Y_A_VI_2_NW', 'SF23_Y_A_III_4_SE',\n",
      "       'SF23_Y_A_VI_2_NE', 'SF23_Y_A_VI_4_SE', 'SF23_Y_A_VI_4_SW',\n",
      "       'SF23_Y_A_III_4_SW', 'SF23_Y_A_III_2_SE', 'SF23_Y_A_III_4_NW',\n",
      "       'SF23_Y_A_III_2_SW', 'SF23_Y_A_III_4_NE', 'SF23_Y_A_I_3_SW',\n",
      "       'SF23_Y_A_I_3_NW', 'SF23_Y_A_I_1_SW', 'SF23_Y_A_I_1_SE',\n",
      "       'SF23_Y_A_IV_1_NW', 'SF23_Y_A_I_3_SE', 'SF23_Y_A_I_3_NE',\n",
      "       'SF23_Y_A_IV_1_NE', 'SF23_Y_A_IV_2_NW', 'SF23_Y_A_IV_3_SW',\n",
      "       'SF23_Y_A_IV_3_NW', 'SF23_Y_A_IV_4_NW', 'SF23_Y_A_IV_2_SW',\n",
      "       'SF23_Y_A_IV_2_SE', 'SF23_Y_A_IV_2_NE', 'SF23_Y_A_II_1_SW',\n",
      "       'SF23_Y_A_II_3_NW', 'SF23_Y_A_II_1_NW', 'SF23_Y_A_V_1_SW',\n",
      "       'SF23_Y_A_V_2_SW', 'SF23_Y_A_V_1_SE', 'SF23_Y_A_V_3_NE',\n",
      "       'SF23_Y_A_II_2_SE', 'SF23_Y_A_II_2_SW', 'SF23_Y_A_II_2_NW',\n",
      "       'SF23_Y_A_III_3_NW', 'SF23_Y_A_IV_1_SW', 'SF23_Y_A_I_4_NW',\n",
      "       'SF23_Y_A_I_4_SE', 'SF23_Y_A_II_3_SW', 'SF23_Y_A_V_3_NW',\n",
      "       'SF23_Y_A_V_1_NW', 'SF23_Y_A_V_2_NW', 'SF23_Y_A_V_1_NE',\n",
      "       'SF23_Y_A_II_2_NE', 'SF23_Y_A_II_4_NE', 'SF23_Y_A_II_4_NW',\n",
      "       'SF23_Y_A_VI_2_SE', 'SF23_Y_A_II_3_NE', 'SF23_Y_A_V_4_NW',\n",
      "       'SF23_Y_A_V_2_SE', 'SF23_Y_A_V_4_SW', 'SF23_Y_A_V_2_NE',\n",
      "       'SF23_Y_A_III_1_SW', 'SF23_Y_A_III_1_SE', 'SF23_Y_A_III_2_NE',\n",
      "       'SF23_Y_A_III_2_NW', 'SF23_Y_A_VI_4_NE', 'SF23_Y_A_II_4_SE'],\n",
      "      dtype='object', name='id_folha')\n",
      "Gerando dicionário com o index\n",
      "dict_keys(['region', 'region_proj', 'raw_data', 'interpolado', 'scores', 'lito_geof'])\n",
      "96 folhas cartográfica selecionadas\n",
      "\n",
      "# --- # Listagem de dados do aerolevantamento:  \n",
      "Lista de atributos geofísicos = ['KPERC', 'eU', 'eTH', 'MDT', 'CTCOR']\n",
      "lista de atributos geograficos = ['LATITUDE', 'LONGITUDE']\n",
      "lista de atributos projetados = ['X', 'Y']\n",
      "\n",
      "# --- Início da iteração entre as folhas cartográficas #\n"
     ]
    },
    {
     "name": "stderr",
     "output_type": "stream",
     "text": [
      "/root/anaconda3/envs/geologist_bot/lib/python3.7/site-packages/geopandas/geodataframe.py:1322: SettingWithCopyWarning: \n",
      "A value is trying to be set on a copy of a slice from a DataFrame.\n",
      "Try using .loc[row_indexer,col_indexer] = value instead\n",
      "\n",
      "See the caveats in the documentation: https://pandas.pydata.org/pandas-docs/stable/user_guide/indexing.html#returning-a-view-versus-a-copy\n",
      "  super(GeoDataFrame, self).__setitem__(key, value)\n"
     ]
    },
    {
     "name": "stdout",
     "output_type": "stream",
     "text": [
      "# Folha de código: SF23_Y_A_III_4_SE\n",
      " Atualizando dados brutos em dic_cartas['raw_data']\n",
      " com 4635 pontos de contagens radiométricas coletados com linhas de voo de 499 metros\n",
      "\n",
      "# --- Inicio da interpolação com verde Splines # \n",
      "Encadeamento: Chain(steps=[('trend', Trend(degree=2)),\n",
      "             ('reduce',\n",
      "              BlockReduce(reduction=<function median at 0x7f120a0e4830>,\n",
      "                          spacing=499)),\n",
      "             ('spline', Spline())])\n",
      "Fitting Model of  'KPERC' variable...\n",
      "Predicting values of 'KPERC' to a regular grid of 100 m\n",
      " Dicionário de dados interpolados da folha SF23_Y_A_III_4_SE atualizados\n",
      "Parâmetros de validação cruzada: BlockKFold(balance=True, n_splits=50, random_state=None, shape=None,\n",
      "      shuffle=True, spacing=499)\n",
      " Dicionário de dados interpolados da folha SF23_Y_A_III_4_SE atualizados\n",
      "Encadeamento: Chain(steps=[('trend', Trend(degree=2)),\n",
      "             ('reduce',\n",
      "              BlockReduce(reduction=<function median at 0x7f120a0e4830>,\n",
      "                          spacing=499)),\n",
      "             ('spline', Spline())])\n",
      "Fitting Model of  'eU' variable...\n",
      "Predicting values of 'eU' to a regular grid of 100 m\n",
      " Dicionário de dados interpolados da folha SF23_Y_A_III_4_SE atualizados\n",
      "Parâmetros de validação cruzada: BlockKFold(balance=True, n_splits=50, random_state=None, shape=None,\n",
      "      shuffle=True, spacing=499)\n",
      " Dicionário de dados interpolados da folha SF23_Y_A_III_4_SE atualizados\n",
      "Encadeamento: Chain(steps=[('trend', Trend(degree=2)),\n",
      "             ('reduce',\n",
      "              BlockReduce(reduction=<function median at 0x7f120a0e4830>,\n",
      "                          spacing=499)),\n",
      "             ('spline', Spline())])\n",
      "Fitting Model of  'eTH' variable...\n",
      "Predicting values of 'eTH' to a regular grid of 100 m\n",
      " Dicionário de dados interpolados da folha SF23_Y_A_III_4_SE atualizados\n",
      "Parâmetros de validação cruzada: BlockKFold(balance=True, n_splits=50, random_state=None, shape=None,\n",
      "      shuffle=True, spacing=499)\n",
      " Dicionário de dados interpolados da folha SF23_Y_A_III_4_SE atualizados\n",
      "Encadeamento: Chain(steps=[('trend', Trend(degree=2)),\n",
      "             ('reduce',\n",
      "              BlockReduce(reduction=<function median at 0x7f120a0e4830>,\n",
      "                          spacing=499)),\n",
      "             ('spline', Spline())])\n",
      "Fitting Model of  'MDT' variable...\n",
      "Predicting values of 'MDT' to a regular grid of 100 m\n",
      " Dicionário de dados interpolados da folha SF23_Y_A_III_4_SE atualizados\n",
      "Parâmetros de validação cruzada: BlockKFold(balance=True, n_splits=50, random_state=None, shape=None,\n",
      "      shuffle=True, spacing=499)\n",
      " Dicionário de dados interpolados da folha SF23_Y_A_III_4_SE atualizados\n",
      "Encadeamento: Chain(steps=[('trend', Trend(degree=2)),\n",
      "             ('reduce',\n",
      "              BlockReduce(reduction=<function median at 0x7f120a0e4830>,\n",
      "                          spacing=499)),\n",
      "             ('spline', Spline())])\n",
      "Fitting Model of  'CTCOR' variable...\n",
      "Predicting values of 'CTCOR' to a regular grid of 100 m\n",
      " Dicionário de dados interpolados da folha SF23_Y_A_III_4_SE atualizados\n",
      "Parâmetros de validação cruzada: BlockKFold(balance=True, n_splits=50, random_state=None, shape=None,\n",
      "      shuffle=True, spacing=499)\n",
      " Dicionário de dados interpolados da folha SF23_Y_A_III_4_SE atualizados\n",
      "\n",
      "# --- Inicio da análise geoestatística\n",
      "Ajustando crs\n",
      " geof: EPSG:4326\n",
      " lito: EPSG:4326\n",
      "# -- Calculando geometria mais próxima para cada um dos 17500 centróides de pixel\n"
     ]
    },
    {
     "name": "stderr",
     "output_type": "stream",
     "text": [
      "/home/ggrl/Projects/ic_2020/sources/tutoriais/my_funcs.py:419: UserWarning: Geometry is in a geographic CRS. Results from 'distance' are likely incorrect. Use 'GeoSeries.to_crs()' to re-project geometries to a projected CRS before this operation.\n",
      "\n",
      "  print(f\"  {list(lito_geof['closest_unid'].unique())}\")\n"
     ]
    },
    {
     "name": "stdout",
     "output_type": "stream",
     "text": [
      "# Listagem de unidades geológicas presentes na folha de id SF23_Y_A_III_4_SE:    \n",
      "  ['47', '40', '44', '42', '37', '1', '38']\n",
      "\n",
      " Adicionando dataframe com valores de litologia e geofíscios ao dicionário de cartas\n",
      "__________________________________________\n",
      " \n",
      "# Folha de código: SF23_Y_A_III_4_SW\n",
      " Atualizando dados brutos em dic_cartas['raw_data']\n",
      " com 4778 pontos de contagens radiométricas coletados com linhas de voo de 499 metros\n",
      "\n",
      "# --- Inicio da interpolação com verde Splines # \n",
      "Encadeamento: Chain(steps=[('trend', Trend(degree=2)),\n",
      "             ('reduce',\n",
      "              BlockReduce(reduction=<function median at 0x7f120a0e4830>,\n",
      "                          spacing=499)),\n",
      "             ('spline', Spline())])\n",
      "Fitting Model of  'KPERC' variable...\n",
      "Predicting values of 'KPERC' to a regular grid of 100 m\n",
      " Dicionário de dados interpolados da folha SF23_Y_A_III_4_SW atualizados\n",
      "Parâmetros de validação cruzada: BlockKFold(balance=True, n_splits=50, random_state=None, shape=None,\n",
      "      shuffle=True, spacing=499)\n",
      " Dicionário de dados interpolados da folha SF23_Y_A_III_4_SW atualizados\n",
      "Encadeamento: Chain(steps=[('trend', Trend(degree=2)),\n",
      "             ('reduce',\n",
      "              BlockReduce(reduction=<function median at 0x7f120a0e4830>,\n",
      "                          spacing=499)),\n",
      "             ('spline', Spline())])\n",
      "Fitting Model of  'eU' variable...\n",
      "Predicting values of 'eU' to a regular grid of 100 m\n",
      " Dicionário de dados interpolados da folha SF23_Y_A_III_4_SW atualizados\n",
      "Parâmetros de validação cruzada: BlockKFold(balance=True, n_splits=50, random_state=None, shape=None,\n",
      "      shuffle=True, spacing=499)\n",
      " Dicionário de dados interpolados da folha SF23_Y_A_III_4_SW atualizados\n",
      "Encadeamento: Chain(steps=[('trend', Trend(degree=2)),\n",
      "             ('reduce',\n",
      "              BlockReduce(reduction=<function median at 0x7f120a0e4830>,\n",
      "                          spacing=499)),\n",
      "             ('spline', Spline())])\n",
      "Fitting Model of  'eTH' variable...\n",
      "Predicting values of 'eTH' to a regular grid of 100 m\n",
      " Dicionário de dados interpolados da folha SF23_Y_A_III_4_SW atualizados\n",
      "Parâmetros de validação cruzada: BlockKFold(balance=True, n_splits=50, random_state=None, shape=None,\n",
      "      shuffle=True, spacing=499)\n",
      " Dicionário de dados interpolados da folha SF23_Y_A_III_4_SW atualizados\n",
      "Encadeamento: Chain(steps=[('trend', Trend(degree=2)),\n",
      "             ('reduce',\n",
      "              BlockReduce(reduction=<function median at 0x7f120a0e4830>,\n",
      "                          spacing=499)),\n",
      "             ('spline', Spline())])\n",
      "Fitting Model of  'MDT' variable...\n",
      "Predicting values of 'MDT' to a regular grid of 100 m\n",
      " Dicionário de dados interpolados da folha SF23_Y_A_III_4_SW atualizados\n",
      "Parâmetros de validação cruzada: BlockKFold(balance=True, n_splits=50, random_state=None, shape=None,\n",
      "      shuffle=True, spacing=499)\n",
      " Dicionário de dados interpolados da folha SF23_Y_A_III_4_SW atualizados\n",
      "Encadeamento: Chain(steps=[('trend', Trend(degree=2)),\n",
      "             ('reduce',\n",
      "              BlockReduce(reduction=<function median at 0x7f120a0e4830>,\n",
      "                          spacing=499)),\n",
      "             ('spline', Spline())])\n",
      "Fitting Model of  'CTCOR' variable...\n",
      "Predicting values of 'CTCOR' to a regular grid of 100 m\n",
      " Dicionário de dados interpolados da folha SF23_Y_A_III_4_SW atualizados\n",
      "Parâmetros de validação cruzada: BlockKFold(balance=True, n_splits=50, random_state=None, shape=None,\n",
      "      shuffle=True, spacing=499)\n",
      " Dicionário de dados interpolados da folha SF23_Y_A_III_4_SW atualizados\n",
      "\n",
      "# --- Inicio da análise geoestatística\n",
      "Ajustando crs\n",
      " geof: EPSG:4326\n",
      " lito: EPSG:4326\n",
      "# -- Calculando geometria mais próxima para cada um dos 17640 centróides de pixel\n"
     ]
    },
    {
     "name": "stderr",
     "output_type": "stream",
     "text": [
      "/home/ggrl/Projects/ic_2020/sources/tutoriais/my_funcs.py:419: UserWarning: Geometry is in a geographic CRS. Results from 'distance' are likely incorrect. Use 'GeoSeries.to_crs()' to re-project geometries to a projected CRS before this operation.\n",
      "\n",
      "  print(f\"  {list(lito_geof['closest_unid'].unique())}\")\n"
     ]
    },
    {
     "name": "stdout",
     "output_type": "stream",
     "text": [
      "# Listagem de unidades geológicas presentes na folha de id SF23_Y_A_III_4_SW:    \n",
      "  ['47', '36', '44', '37', '40', '43', '1', '42', '38']\n",
      "\n",
      " Adicionando dataframe com valores de litologia e geofíscios ao dicionário de cartas\n",
      "__________________________________________\n",
      " \n",
      "# Folha de código: SF23_Y_A_III_2_SE\n",
      " Atualizando dados brutos em dic_cartas['raw_data']\n",
      " com 4621 pontos de contagens radiométricas coletados com linhas de voo de 499 metros\n",
      "\n",
      "# --- Inicio da interpolação com verde Splines # \n",
      "Encadeamento: Chain(steps=[('trend', Trend(degree=2)),\n",
      "             ('reduce',\n",
      "              BlockReduce(reduction=<function median at 0x7f120a0e4830>,\n",
      "                          spacing=499)),\n",
      "             ('spline', Spline())])\n",
      "Fitting Model of  'KPERC' variable...\n",
      "Predicting values of 'KPERC' to a regular grid of 100 m\n",
      " Dicionário de dados interpolados da folha SF23_Y_A_III_2_SE atualizados\n",
      "Parâmetros de validação cruzada: BlockKFold(balance=True, n_splits=50, random_state=None, shape=None,\n",
      "      shuffle=True, spacing=499)\n",
      " Dicionário de dados interpolados da folha SF23_Y_A_III_2_SE atualizados\n",
      "Encadeamento: Chain(steps=[('trend', Trend(degree=2)),\n",
      "             ('reduce',\n",
      "              BlockReduce(reduction=<function median at 0x7f120a0e4830>,\n",
      "                          spacing=499)),\n",
      "             ('spline', Spline())])\n",
      "Fitting Model of  'eU' variable...\n",
      "Predicting values of 'eU' to a regular grid of 100 m\n",
      " Dicionário de dados interpolados da folha SF23_Y_A_III_2_SE atualizados\n",
      "Parâmetros de validação cruzada: BlockKFold(balance=True, n_splits=50, random_state=None, shape=None,\n",
      "      shuffle=True, spacing=499)\n",
      " Dicionário de dados interpolados da folha SF23_Y_A_III_2_SE atualizados\n",
      "Encadeamento: Chain(steps=[('trend', Trend(degree=2)),\n",
      "             ('reduce',\n",
      "              BlockReduce(reduction=<function median at 0x7f120a0e4830>,\n",
      "                          spacing=499)),\n",
      "             ('spline', Spline())])\n",
      "Fitting Model of  'eTH' variable...\n",
      "Predicting values of 'eTH' to a regular grid of 100 m\n",
      " Dicionário de dados interpolados da folha SF23_Y_A_III_2_SE atualizados\n",
      "Parâmetros de validação cruzada: BlockKFold(balance=True, n_splits=50, random_state=None, shape=None,\n",
      "      shuffle=True, spacing=499)\n",
      " Dicionário de dados interpolados da folha SF23_Y_A_III_2_SE atualizados\n",
      "Encadeamento: Chain(steps=[('trend', Trend(degree=2)),\n",
      "             ('reduce',\n",
      "              BlockReduce(reduction=<function median at 0x7f120a0e4830>,\n",
      "                          spacing=499)),\n",
      "             ('spline', Spline())])\n",
      "Fitting Model of  'MDT' variable...\n",
      "Predicting values of 'MDT' to a regular grid of 100 m\n",
      " Dicionário de dados interpolados da folha SF23_Y_A_III_2_SE atualizados\n",
      "Parâmetros de validação cruzada: BlockKFold(balance=True, n_splits=50, random_state=None, shape=None,\n",
      "      shuffle=True, spacing=499)\n",
      " Dicionário de dados interpolados da folha SF23_Y_A_III_2_SE atualizados\n",
      "Encadeamento: Chain(steps=[('trend', Trend(degree=2)),\n",
      "             ('reduce',\n",
      "              BlockReduce(reduction=<function median at 0x7f120a0e4830>,\n",
      "                          spacing=499)),\n",
      "             ('spline', Spline())])\n",
      "Fitting Model of  'CTCOR' variable...\n",
      "Predicting values of 'CTCOR' to a regular grid of 100 m\n",
      " Dicionário de dados interpolados da folha SF23_Y_A_III_2_SE atualizados\n",
      "Parâmetros de validação cruzada: BlockKFold(balance=True, n_splits=50, random_state=None, shape=None,\n",
      "      shuffle=True, spacing=499)\n",
      " Dicionário de dados interpolados da folha SF23_Y_A_III_2_SE atualizados\n",
      "\n",
      "# --- Inicio da análise geoestatística\n",
      "Ajustando crs\n",
      " geof: EPSG:4326\n",
      " lito: EPSG:4326\n",
      "# -- Calculando geometria mais próxima para cada um dos 18200 centróides de pixel\n"
     ]
    },
    {
     "name": "stderr",
     "output_type": "stream",
     "text": [
      "/home/ggrl/Projects/ic_2020/sources/tutoriais/my_funcs.py:419: UserWarning: Geometry is in a geographic CRS. Results from 'distance' are likely incorrect. Use 'GeoSeries.to_crs()' to re-project geometries to a projected CRS before this operation.\n",
      "\n",
      "  print(f\"  {list(lito_geof['closest_unid'].unique())}\")\n"
     ]
    },
    {
     "name": "stdout",
     "output_type": "stream",
     "text": [
      "# Listagem de unidades geológicas presentes na folha de id SF23_Y_A_III_2_SE:    \n",
      "  ['33', '1', '37', '21', '32']\n",
      "\n",
      " Adicionando dataframe com valores de litologia e geofíscios ao dicionário de cartas\n",
      "__________________________________________\n",
      " \n",
      "# Folha de código: SF23_Y_A_III_4_NW\n",
      " Atualizando dados brutos em dic_cartas['raw_data']\n",
      " com 4848 pontos de contagens radiométricas coletados com linhas de voo de 499 metros\n",
      "\n",
      "# --- Inicio da interpolação com verde Splines # \n",
      "Encadeamento: Chain(steps=[('trend', Trend(degree=2)),\n",
      "             ('reduce',\n",
      "              BlockReduce(reduction=<function median at 0x7f120a0e4830>,\n",
      "                          spacing=499)),\n",
      "             ('spline', Spline())])\n",
      "Fitting Model of  'KPERC' variable...\n",
      "Predicting values of 'KPERC' to a regular grid of 100 m\n",
      " Dicionário de dados interpolados da folha SF23_Y_A_III_4_NW atualizados\n",
      "Parâmetros de validação cruzada: BlockKFold(balance=True, n_splits=50, random_state=None, shape=None,\n",
      "      shuffle=True, spacing=499)\n",
      " Dicionário de dados interpolados da folha SF23_Y_A_III_4_NW atualizados\n",
      "Encadeamento: Chain(steps=[('trend', Trend(degree=2)),\n",
      "             ('reduce',\n",
      "              BlockReduce(reduction=<function median at 0x7f120a0e4830>,\n",
      "                          spacing=499)),\n",
      "             ('spline', Spline())])\n",
      "Fitting Model of  'eU' variable...\n",
      "Predicting values of 'eU' to a regular grid of 100 m\n",
      " Dicionário de dados interpolados da folha SF23_Y_A_III_4_NW atualizados\n",
      "Parâmetros de validação cruzada: BlockKFold(balance=True, n_splits=50, random_state=None, shape=None,\n",
      "      shuffle=True, spacing=499)\n",
      " Dicionário de dados interpolados da folha SF23_Y_A_III_4_NW atualizados\n",
      "Encadeamento: Chain(steps=[('trend', Trend(degree=2)),\n",
      "             ('reduce',\n",
      "              BlockReduce(reduction=<function median at 0x7f120a0e4830>,\n",
      "                          spacing=499)),\n",
      "             ('spline', Spline())])\n",
      "Fitting Model of  'eTH' variable...\n",
      "Predicting values of 'eTH' to a regular grid of 100 m\n",
      " Dicionário de dados interpolados da folha SF23_Y_A_III_4_NW atualizados\n",
      "Parâmetros de validação cruzada: BlockKFold(balance=True, n_splits=50, random_state=None, shape=None,\n",
      "      shuffle=True, spacing=499)\n",
      " Dicionário de dados interpolados da folha SF23_Y_A_III_4_NW atualizados\n",
      "Encadeamento: Chain(steps=[('trend', Trend(degree=2)),\n",
      "             ('reduce',\n",
      "              BlockReduce(reduction=<function median at 0x7f120a0e4830>,\n",
      "                          spacing=499)),\n",
      "             ('spline', Spline())])\n",
      "Fitting Model of  'MDT' variable...\n",
      "Predicting values of 'MDT' to a regular grid of 100 m\n",
      " Dicionário de dados interpolados da folha SF23_Y_A_III_4_NW atualizados\n",
      "Parâmetros de validação cruzada: BlockKFold(balance=True, n_splits=50, random_state=None, shape=None,\n",
      "      shuffle=True, spacing=499)\n",
      " Dicionário de dados interpolados da folha SF23_Y_A_III_4_NW atualizados\n",
      "Encadeamento: Chain(steps=[('trend', Trend(degree=2)),\n",
      "             ('reduce',\n",
      "              BlockReduce(reduction=<function median at 0x7f120a0e4830>,\n",
      "                          spacing=499)),\n",
      "             ('spline', Spline())])\n",
      "Fitting Model of  'CTCOR' variable...\n",
      "Predicting values of 'CTCOR' to a regular grid of 100 m\n",
      " Dicionário de dados interpolados da folha SF23_Y_A_III_4_NW atualizados\n",
      "Parâmetros de validação cruzada: BlockKFold(balance=True, n_splits=50, random_state=None, shape=None,\n",
      "      shuffle=True, spacing=499)\n",
      " Dicionário de dados interpolados da folha SF23_Y_A_III_4_NW atualizados\n",
      "\n",
      "# --- Inicio da análise geoestatística\n",
      "Ajustando crs\n",
      " geof: EPSG:4326\n",
      " lito: EPSG:4326\n",
      "# -- Calculando geometria mais próxima para cada um dos 17640 centróides de pixel\n"
     ]
    },
    {
     "name": "stderr",
     "output_type": "stream",
     "text": [
      "/home/ggrl/Projects/ic_2020/sources/tutoriais/my_funcs.py:419: UserWarning: Geometry is in a geographic CRS. Results from 'distance' are likely incorrect. Use 'GeoSeries.to_crs()' to re-project geometries to a projected CRS before this operation.\n",
      "\n",
      "  print(f\"  {list(lito_geof['closest_unid'].unique())}\")\n"
     ]
    },
    {
     "name": "stdout",
     "output_type": "stream",
     "text": [
      "# Listagem de unidades geológicas presentes na folha de id SF23_Y_A_III_4_NW:    \n",
      "  ['38', '47', '42', '40', '37', '17', '33', '21', '1', '32']\n",
      "\n",
      " Adicionando dataframe com valores de litologia e geofíscios ao dicionário de cartas\n",
      "__________________________________________\n",
      " \n",
      "# Folha de código: SF23_Y_A_III_2_SW\n",
      " Atualizando dados brutos em dic_cartas['raw_data']\n",
      " com 4907 pontos de contagens radiométricas coletados com linhas de voo de 499 metros\n",
      "\n",
      "# --- Inicio da interpolação com verde Splines # \n",
      "Encadeamento: Chain(steps=[('trend', Trend(degree=2)),\n",
      "             ('reduce',\n",
      "              BlockReduce(reduction=<function median at 0x7f120a0e4830>,\n",
      "                          spacing=499)),\n",
      "             ('spline', Spline())])\n",
      "Fitting Model of  'KPERC' variable...\n",
      "Predicting values of 'KPERC' to a regular grid of 100 m\n",
      " Dicionário de dados interpolados da folha SF23_Y_A_III_2_SW atualizados\n",
      "Parâmetros de validação cruzada: BlockKFold(balance=True, n_splits=50, random_state=None, shape=None,\n",
      "      shuffle=True, spacing=499)\n",
      " Dicionário de dados interpolados da folha SF23_Y_A_III_2_SW atualizados\n",
      "Encadeamento: Chain(steps=[('trend', Trend(degree=2)),\n",
      "             ('reduce',\n",
      "              BlockReduce(reduction=<function median at 0x7f120a0e4830>,\n",
      "                          spacing=499)),\n",
      "             ('spline', Spline())])\n",
      "Fitting Model of  'eU' variable...\n",
      "Predicting values of 'eU' to a regular grid of 100 m\n",
      " Dicionário de dados interpolados da folha SF23_Y_A_III_2_SW atualizados\n",
      "Parâmetros de validação cruzada: BlockKFold(balance=True, n_splits=50, random_state=None, shape=None,\n",
      "      shuffle=True, spacing=499)\n",
      " Dicionário de dados interpolados da folha SF23_Y_A_III_2_SW atualizados\n",
      "Encadeamento: Chain(steps=[('trend', Trend(degree=2)),\n",
      "             ('reduce',\n",
      "              BlockReduce(reduction=<function median at 0x7f120a0e4830>,\n",
      "                          spacing=499)),\n",
      "             ('spline', Spline())])\n",
      "Fitting Model of  'eTH' variable...\n",
      "Predicting values of 'eTH' to a regular grid of 100 m\n",
      " Dicionário de dados interpolados da folha SF23_Y_A_III_2_SW atualizados\n",
      "Parâmetros de validação cruzada: BlockKFold(balance=True, n_splits=50, random_state=None, shape=None,\n",
      "      shuffle=True, spacing=499)\n",
      " Dicionário de dados interpolados da folha SF23_Y_A_III_2_SW atualizados\n",
      "Encadeamento: Chain(steps=[('trend', Trend(degree=2)),\n",
      "             ('reduce',\n",
      "              BlockReduce(reduction=<function median at 0x7f120a0e4830>,\n",
      "                          spacing=499)),\n",
      "             ('spline', Spline())])\n",
      "Fitting Model of  'MDT' variable...\n",
      "Predicting values of 'MDT' to a regular grid of 100 m\n",
      " Dicionário de dados interpolados da folha SF23_Y_A_III_2_SW atualizados\n",
      "Parâmetros de validação cruzada: BlockKFold(balance=True, n_splits=50, random_state=None, shape=None,\n",
      "      shuffle=True, spacing=499)\n",
      " Dicionário de dados interpolados da folha SF23_Y_A_III_2_SW atualizados\n",
      "Encadeamento: Chain(steps=[('trend', Trend(degree=2)),\n",
      "             ('reduce',\n",
      "              BlockReduce(reduction=<function median at 0x7f120a0e4830>,\n",
      "                          spacing=499)),\n",
      "             ('spline', Spline())])\n",
      "Fitting Model of  'CTCOR' variable...\n",
      "Predicting values of 'CTCOR' to a regular grid of 100 m\n",
      " Dicionário de dados interpolados da folha SF23_Y_A_III_2_SW atualizados\n",
      "Parâmetros de validação cruzada: BlockKFold(balance=True, n_splits=50, random_state=None, shape=None,\n",
      "      shuffle=True, spacing=499)\n",
      " Dicionário de dados interpolados da folha SF23_Y_A_III_2_SW atualizados\n",
      "\n",
      "# --- Inicio da análise geoestatística\n",
      "Ajustando crs\n",
      " geof: EPSG:4326\n",
      " lito: EPSG:4326\n",
      "# -- Calculando geometria mais próxima para cada um dos 17500 centróides de pixel\n"
     ]
    },
    {
     "name": "stderr",
     "output_type": "stream",
     "text": [
      "/home/ggrl/Projects/ic_2020/sources/tutoriais/my_funcs.py:419: UserWarning: Geometry is in a geographic CRS. Results from 'distance' are likely incorrect. Use 'GeoSeries.to_crs()' to re-project geometries to a projected CRS before this operation.\n",
      "\n",
      "  print(f\"# Listagem de unidades geológicas presentes na folha de id {index}:    \")\n"
     ]
    },
    {
     "name": "stdout",
     "output_type": "stream",
     "text": [
      "# Listagem de unidades geológicas presentes na folha de id SF23_Y_A_III_2_SW:    \n",
      "  ['32', '21', '33']\n",
      "\n",
      " Adicionando dataframe com valores de litologia e geofíscios ao dicionário de cartas\n",
      "__________________________________________\n",
      " \n",
      "# Folha de código: SF23_Y_A_III_4_NE\n",
      " Atualizando dados brutos em dic_cartas['raw_data']\n",
      " com 4560 pontos de contagens radiométricas coletados com linhas de voo de 499 metros\n",
      "\n",
      "# --- Inicio da interpolação com verde Splines # \n",
      "Encadeamento: Chain(steps=[('trend', Trend(degree=2)),\n",
      "             ('reduce',\n",
      "              BlockReduce(reduction=<function median at 0x7f120a0e4830>,\n",
      "                          spacing=499)),\n",
      "             ('spline', Spline())])\n",
      "Fitting Model of  'KPERC' variable...\n",
      "Predicting values of 'KPERC' to a regular grid of 100 m\n",
      " Dicionário de dados interpolados da folha SF23_Y_A_III_4_NE atualizados\n",
      "Parâmetros de validação cruzada: BlockKFold(balance=True, n_splits=50, random_state=None, shape=None,\n",
      "      shuffle=True, spacing=499)\n",
      " Dicionário de dados interpolados da folha SF23_Y_A_III_4_NE atualizados\n",
      "Encadeamento: Chain(steps=[('trend', Trend(degree=2)),\n",
      "             ('reduce',\n",
      "              BlockReduce(reduction=<function median at 0x7f120a0e4830>,\n",
      "                          spacing=499)),\n",
      "             ('spline', Spline())])\n",
      "Fitting Model of  'eU' variable...\n",
      "Predicting values of 'eU' to a regular grid of 100 m\n",
      " Dicionário de dados interpolados da folha SF23_Y_A_III_4_NE atualizados\n",
      "Parâmetros de validação cruzada: BlockKFold(balance=True, n_splits=50, random_state=None, shape=None,\n",
      "      shuffle=True, spacing=499)\n",
      " Dicionário de dados interpolados da folha SF23_Y_A_III_4_NE atualizados\n",
      "Encadeamento: Chain(steps=[('trend', Trend(degree=2)),\n",
      "             ('reduce',\n",
      "              BlockReduce(reduction=<function median at 0x7f120a0e4830>,\n",
      "                          spacing=499)),\n",
      "             ('spline', Spline())])\n",
      "Fitting Model of  'eTH' variable...\n",
      "Predicting values of 'eTH' to a regular grid of 100 m\n",
      " Dicionário de dados interpolados da folha SF23_Y_A_III_4_NE atualizados\n",
      "Parâmetros de validação cruzada: BlockKFold(balance=True, n_splits=50, random_state=None, shape=None,\n",
      "      shuffle=True, spacing=499)\n",
      " Dicionário de dados interpolados da folha SF23_Y_A_III_4_NE atualizados\n",
      "Encadeamento: Chain(steps=[('trend', Trend(degree=2)),\n",
      "             ('reduce',\n",
      "              BlockReduce(reduction=<function median at 0x7f120a0e4830>,\n",
      "                          spacing=499)),\n",
      "             ('spline', Spline())])\n",
      "Fitting Model of  'MDT' variable...\n",
      "Predicting values of 'MDT' to a regular grid of 100 m\n",
      " Dicionário de dados interpolados da folha SF23_Y_A_III_4_NE atualizados\n",
      "Parâmetros de validação cruzada: BlockKFold(balance=True, n_splits=50, random_state=None, shape=None,\n",
      "      shuffle=True, spacing=499)\n",
      " Dicionário de dados interpolados da folha SF23_Y_A_III_4_NE atualizados\n",
      "Encadeamento: Chain(steps=[('trend', Trend(degree=2)),\n",
      "             ('reduce',\n",
      "              BlockReduce(reduction=<function median at 0x7f120a0e4830>,\n",
      "                          spacing=499)),\n",
      "             ('spline', Spline())])\n",
      "Fitting Model of  'CTCOR' variable...\n",
      "Predicting values of 'CTCOR' to a regular grid of 100 m\n",
      " Dicionário de dados interpolados da folha SF23_Y_A_III_4_NE atualizados\n",
      "Parâmetros de validação cruzada: BlockKFold(balance=True, n_splits=50, random_state=None, shape=None,\n",
      "      shuffle=True, spacing=499)\n",
      " Dicionário de dados interpolados da folha SF23_Y_A_III_4_NE atualizados\n",
      "\n",
      "# --- Inicio da análise geoestatística\n",
      "Ajustando crs\n",
      " geof: EPSG:4326\n",
      " lito: EPSG:4326\n",
      "# -- Calculando geometria mais próxima para cada um dos 17500 centróides de pixel\n"
     ]
    },
    {
     "name": "stderr",
     "output_type": "stream",
     "text": [
      "/home/ggrl/Projects/ic_2020/sources/tutoriais/my_funcs.py:419: UserWarning: Geometry is in a geographic CRS. Results from 'distance' are likely incorrect. Use 'GeoSeries.to_crs()' to re-project geometries to a projected CRS before this operation.\n",
      "\n",
      "  print(f\"# Listagem de unidades geológicas presentes na folha de id {index}:    \")\n"
     ]
    },
    {
     "name": "stdout",
     "output_type": "stream",
     "text": [
      "# Listagem de unidades geológicas presentes na folha de id SF23_Y_A_III_4_NE:    \n",
      "  ['47', '40', '44', '1', '38', '42', '37', '46', '33']\n",
      "\n",
      " Adicionando dataframe com valores de litologia e geofíscios ao dicionário de cartas\n",
      "__________________________________________\n",
      " \n",
      "# Folha de código: SF23_Y_A_III_2_NE\n",
      " Atualizando dados brutos em dic_cartas['raw_data']\n",
      " com 4031 pontos de contagens radiométricas coletados com linhas de voo de 499 metros\n",
      "\n",
      "# --- Inicio da interpolação com verde Splines # \n",
      "Encadeamento: Chain(steps=[('trend', Trend(degree=2)),\n",
      "             ('reduce',\n",
      "              BlockReduce(reduction=<function median at 0x7f120a0e4830>,\n",
      "                          spacing=499)),\n",
      "             ('spline', Spline())])\n",
      "Fitting Model of  'KPERC' variable...\n",
      "Predicting values of 'KPERC' to a regular grid of 100 m\n",
      " Dicionário de dados interpolados da folha SF23_Y_A_III_2_NE atualizados\n",
      "Parâmetros de validação cruzada: BlockKFold(balance=True, n_splits=50, random_state=None, shape=None,\n",
      "      shuffle=True, spacing=499)\n",
      " Dicionário de dados interpolados da folha SF23_Y_A_III_2_NE atualizados\n",
      "Encadeamento: Chain(steps=[('trend', Trend(degree=2)),\n",
      "             ('reduce',\n",
      "              BlockReduce(reduction=<function median at 0x7f120a0e4830>,\n",
      "                          spacing=499)),\n",
      "             ('spline', Spline())])\n",
      "Fitting Model of  'eU' variable...\n",
      "Predicting values of 'eU' to a regular grid of 100 m\n",
      " Dicionário de dados interpolados da folha SF23_Y_A_III_2_NE atualizados\n",
      "Parâmetros de validação cruzada: BlockKFold(balance=True, n_splits=50, random_state=None, shape=None,\n",
      "      shuffle=True, spacing=499)\n",
      " Dicionário de dados interpolados da folha SF23_Y_A_III_2_NE atualizados\n",
      "Encadeamento: Chain(steps=[('trend', Trend(degree=2)),\n",
      "             ('reduce',\n",
      "              BlockReduce(reduction=<function median at 0x7f120a0e4830>,\n",
      "                          spacing=499)),\n",
      "             ('spline', Spline())])\n",
      "Fitting Model of  'eTH' variable...\n",
      "Predicting values of 'eTH' to a regular grid of 100 m\n",
      " Dicionário de dados interpolados da folha SF23_Y_A_III_2_NE atualizados\n",
      "Parâmetros de validação cruzada: BlockKFold(balance=True, n_splits=50, random_state=None, shape=None,\n",
      "      shuffle=True, spacing=499)\n",
      " Dicionário de dados interpolados da folha SF23_Y_A_III_2_NE atualizados\n",
      "Encadeamento: Chain(steps=[('trend', Trend(degree=2)),\n",
      "             ('reduce',\n",
      "              BlockReduce(reduction=<function median at 0x7f120a0e4830>,\n",
      "                          spacing=499)),\n",
      "             ('spline', Spline())])\n",
      "Fitting Model of  'MDT' variable...\n",
      "Predicting values of 'MDT' to a regular grid of 100 m\n",
      " Dicionário de dados interpolados da folha SF23_Y_A_III_2_NE atualizados\n",
      "Parâmetros de validação cruzada: BlockKFold(balance=True, n_splits=50, random_state=None, shape=None,\n",
      "      shuffle=True, spacing=499)\n",
      " Dicionário de dados interpolados da folha SF23_Y_A_III_2_NE atualizados\n",
      "Encadeamento: Chain(steps=[('trend', Trend(degree=2)),\n",
      "             ('reduce',\n",
      "              BlockReduce(reduction=<function median at 0x7f120a0e4830>,\n",
      "                          spacing=499)),\n",
      "             ('spline', Spline())])\n",
      "Fitting Model of  'CTCOR' variable...\n",
      "Predicting values of 'CTCOR' to a regular grid of 100 m\n",
      " Dicionário de dados interpolados da folha SF23_Y_A_III_2_NE atualizados\n",
      "Parâmetros de validação cruzada: BlockKFold(balance=True, n_splits=50, random_state=None, shape=None,\n",
      "      shuffle=True, spacing=499)\n",
      " Dicionário de dados interpolados da folha SF23_Y_A_III_2_NE atualizados\n",
      "\n",
      "# --- Inicio da análise geoestatística\n",
      "Ajustando crs\n",
      " geof: EPSG:4326\n",
      " lito: EPSG:4326\n",
      "# -- Calculando geometria mais próxima para cada um dos 17375 centróides de pixel\n"
     ]
    },
    {
     "name": "stderr",
     "output_type": "stream",
     "text": [
      "/home/ggrl/Projects/ic_2020/sources/tutoriais/my_funcs.py:419: UserWarning: Geometry is in a geographic CRS. Results from 'distance' are likely incorrect. Use 'GeoSeries.to_crs()' to re-project geometries to a projected CRS before this operation.\n",
      "\n",
      "  print(f\"# Listagem de unidades geológicas presentes na folha de id {index}:    \")\n"
     ]
    },
    {
     "name": "stdout",
     "output_type": "stream",
     "text": [
      "# Listagem de unidades geológicas presentes na folha de id SF23_Y_A_III_2_NE:    \n",
      "  ['21', '33', '35', '34', '5']\n",
      "\n",
      " Adicionando dataframe com valores de litologia e geofíscios ao dicionário de cartas\n",
      "__________________________________________\n",
      " \n",
      "# Folha de código: SF23_Y_A_III_2_NW\n",
      " Atualizando dados brutos em dic_cartas['raw_data']\n",
      " com 5411 pontos de contagens radiométricas coletados com linhas de voo de 499 metros\n",
      "\n",
      "# --- Inicio da interpolação com verde Splines # \n",
      "Encadeamento: Chain(steps=[('trend', Trend(degree=2)),\n",
      "             ('reduce',\n",
      "              BlockReduce(reduction=<function median at 0x7f120a0e4830>,\n",
      "                          spacing=499)),\n",
      "             ('spline', Spline())])\n",
      "Fitting Model of  'KPERC' variable...\n",
      "Predicting values of 'KPERC' to a regular grid of 100 m\n",
      " Dicionário de dados interpolados da folha SF23_Y_A_III_2_NW atualizados\n",
      "Parâmetros de validação cruzada: BlockKFold(balance=True, n_splits=50, random_state=None, shape=None,\n",
      "      shuffle=True, spacing=499)\n",
      " Dicionário de dados interpolados da folha SF23_Y_A_III_2_NW atualizados\n",
      "Encadeamento: Chain(steps=[('trend', Trend(degree=2)),\n",
      "             ('reduce',\n",
      "              BlockReduce(reduction=<function median at 0x7f120a0e4830>,\n",
      "                          spacing=499)),\n",
      "             ('spline', Spline())])\n",
      "Fitting Model of  'eU' variable...\n",
      "Predicting values of 'eU' to a regular grid of 100 m\n",
      " Dicionário de dados interpolados da folha SF23_Y_A_III_2_NW atualizados\n",
      "Parâmetros de validação cruzada: BlockKFold(balance=True, n_splits=50, random_state=None, shape=None,\n",
      "      shuffle=True, spacing=499)\n",
      " Dicionário de dados interpolados da folha SF23_Y_A_III_2_NW atualizados\n",
      "Encadeamento: Chain(steps=[('trend', Trend(degree=2)),\n",
      "             ('reduce',\n",
      "              BlockReduce(reduction=<function median at 0x7f120a0e4830>,\n",
      "                          spacing=499)),\n",
      "             ('spline', Spline())])\n",
      "Fitting Model of  'eTH' variable...\n",
      "Predicting values of 'eTH' to a regular grid of 100 m\n",
      " Dicionário de dados interpolados da folha SF23_Y_A_III_2_NW atualizados\n",
      "Parâmetros de validação cruzada: BlockKFold(balance=True, n_splits=50, random_state=None, shape=None,\n",
      "      shuffle=True, spacing=499)\n",
      " Dicionário de dados interpolados da folha SF23_Y_A_III_2_NW atualizados\n",
      "Encadeamento: Chain(steps=[('trend', Trend(degree=2)),\n",
      "             ('reduce',\n",
      "              BlockReduce(reduction=<function median at 0x7f120a0e4830>,\n",
      "                          spacing=499)),\n",
      "             ('spline', Spline())])\n",
      "Fitting Model of  'MDT' variable...\n",
      "Predicting values of 'MDT' to a regular grid of 100 m\n",
      " Dicionário de dados interpolados da folha SF23_Y_A_III_2_NW atualizados\n",
      "Parâmetros de validação cruzada: BlockKFold(balance=True, n_splits=50, random_state=None, shape=None,\n",
      "      shuffle=True, spacing=499)\n",
      " Dicionário de dados interpolados da folha SF23_Y_A_III_2_NW atualizados\n",
      "Encadeamento: Chain(steps=[('trend', Trend(degree=2)),\n",
      "             ('reduce',\n",
      "              BlockReduce(reduction=<function median at 0x7f120a0e4830>,\n",
      "                          spacing=499)),\n",
      "             ('spline', Spline())])\n",
      "Fitting Model of  'CTCOR' variable...\n",
      "Predicting values of 'CTCOR' to a regular grid of 100 m\n",
      " Dicionário de dados interpolados da folha SF23_Y_A_III_2_NW atualizados\n",
      "Parâmetros de validação cruzada: BlockKFold(balance=True, n_splits=50, random_state=None, shape=None,\n",
      "      shuffle=True, spacing=499)\n",
      " Dicionário de dados interpolados da folha SF23_Y_A_III_2_NW atualizados\n",
      "\n",
      "# --- Inicio da análise geoestatística\n",
      "Ajustando crs\n",
      " geof: EPSG:4326\n",
      " lito: EPSG:4326\n",
      "# -- Calculando geometria mais próxima para cada um dos 18340 centróides de pixel\n"
     ]
    },
    {
     "name": "stderr",
     "output_type": "stream",
     "text": [
      "/home/ggrl/Projects/ic_2020/sources/tutoriais/my_funcs.py:419: UserWarning: Geometry is in a geographic CRS. Results from 'distance' are likely incorrect. Use 'GeoSeries.to_crs()' to re-project geometries to a projected CRS before this operation.\n",
      "\n",
      "  print(f\"# Listagem de unidades geológicas presentes na folha de id {index}:    \")\n"
     ]
    },
    {
     "name": "stdout",
     "output_type": "stream",
     "text": [
      "# Listagem de unidades geológicas presentes na folha de id SF23_Y_A_III_2_NW:    \n",
      "  ['21', '33', '35', '5']\n",
      "\n",
      " Adicionando dataframe com valores de litologia e geofíscios ao dicionário de cartas\n",
      "__________________________________________\n",
      " \n",
      "Dicionário de cartas disponível\n"
     ]
    }
   ],
   "source": [
    "#Levantamento 1105\n",
    "dic_cartas = \\\n",
    "f.interpolar('25k','SF23_Y_A',gLine_1105,\n",
    "             psize=100,spacing=499,degree=2,\n",
    "             n_splits=50,camada='socorro_250k',nome=None,describe=True,crs__='geografica')"
   ]
  },
  {
   "cell_type": "markdown",
   "metadata": {},
   "source": [
    "### DESCRIÇÃO DOS DADOS DA FOLHA SF23_Y_A_III_4"
   ]
  },
  {
   "cell_type": "code",
   "execution_count": 63,
   "metadata": {},
   "outputs": [
    {
     "data": {
      "text/plain": [
       "dict_keys(['region', 'region_proj', 'raw_data', 'interpolado', 'scores', 'lito_geof'])"
      ]
     },
     "execution_count": 63,
     "metadata": {},
     "output_type": "execute_result"
    }
   ],
   "source": [
    "dic_cartas.keys()"
   ]
  },
  {
   "cell_type": "code",
   "execution_count": 67,
   "metadata": {},
   "outputs": [
    {
     "data": {
      "text/plain": [
       "96"
      ]
     },
     "execution_count": 67,
     "metadata": {},
     "output_type": "execute_result"
    }
   ],
   "source": [
    "len(dic_cartas['scores'])"
   ]
  },
  {
   "cell_type": "code",
   "execution_count": 68,
   "metadata": {},
   "outputs": [
    {
     "data": {
      "text/plain": [
       "dict_keys(['SF23_Y_A_I_1_NW', 'SF23_Y_A_IV_3_SE', 'SF23_Y_A_IV_1_SE', 'SF23_Y_A_IV_3_NE', 'SF23_Y_A_I_4_SW', 'SF23_Y_A_I_1_NE', 'SF23_Y_A_I_2_SW', 'SF23_Y_A_I_2_NW', 'SF23_Y_A_I_2_NE', 'SF23_Y_A_IV_4_SE', 'SF23_Y_A_IV_4_SW', 'SF23_Y_A_I_2_SE', 'SF23_Y_A_IV_4_NE', 'SF23_Y_A_I_4_NE', 'SF23_Y_A_II_1_SE', 'SF23_Y_A_II_1_NE', 'SF23_Y_A_V_3_SE', 'SF23_Y_A_V_3_SW', 'SF23_Y_A_II_4_SW', 'SF23_Y_A_II_3_SE', 'SF23_Y_A_V_4_SE', 'SF23_Y_A_V_4_NE', 'SF23_Y_A_III_1_NW', 'SF23_Y_A_VI_3_SW', 'SF23_Y_A_VI_3_SE', 'SF23_Y_A_VI_1_NE', 'SF23_Y_A_III_1_NE', 'SF23_Y_A_VI_1_SW', 'SF23_Y_A_VI_1_NW', 'SF23_Y_A_III_3_SW', 'SF23_Y_A_VI_1_SE', 'SF23_Y_A_III_3_SE', 'SF23_Y_A_III_3_NE', 'SF23_Y_A_VI_3_NW', 'SF23_Y_A_VI_3_NE', 'SF23_Y_A_VI_4_NW', 'SF23_Y_A_VI_2_SW', 'SF23_Y_A_VI_2_NW', 'SF23_Y_A_III_4_SE', 'SF23_Y_A_VI_2_NE', 'SF23_Y_A_VI_4_SE', 'SF23_Y_A_VI_4_SW', 'SF23_Y_A_III_4_SW', 'SF23_Y_A_III_2_SE', 'SF23_Y_A_III_4_NW', 'SF23_Y_A_III_2_SW', 'SF23_Y_A_III_4_NE', 'SF23_Y_A_I_3_SW', 'SF23_Y_A_I_3_NW', 'SF23_Y_A_I_1_SW', 'SF23_Y_A_I_1_SE', 'SF23_Y_A_IV_1_NW', 'SF23_Y_A_I_3_SE', 'SF23_Y_A_I_3_NE', 'SF23_Y_A_IV_1_NE', 'SF23_Y_A_IV_2_NW', 'SF23_Y_A_IV_3_SW', 'SF23_Y_A_IV_3_NW', 'SF23_Y_A_IV_4_NW', 'SF23_Y_A_IV_2_SW', 'SF23_Y_A_IV_2_SE', 'SF23_Y_A_IV_2_NE', 'SF23_Y_A_II_1_SW', 'SF23_Y_A_II_3_NW', 'SF23_Y_A_II_1_NW', 'SF23_Y_A_V_1_SW', 'SF23_Y_A_V_2_SW', 'SF23_Y_A_V_1_SE', 'SF23_Y_A_V_3_NE', 'SF23_Y_A_II_2_SE', 'SF23_Y_A_II_2_SW', 'SF23_Y_A_II_2_NW', 'SF23_Y_A_III_3_NW', 'SF23_Y_A_IV_1_SW', 'SF23_Y_A_I_4_NW', 'SF23_Y_A_I_4_SE', 'SF23_Y_A_II_3_SW', 'SF23_Y_A_V_3_NW', 'SF23_Y_A_V_1_NW', 'SF23_Y_A_V_2_NW', 'SF23_Y_A_V_1_NE', 'SF23_Y_A_II_2_NE', 'SF23_Y_A_II_4_NE', 'SF23_Y_A_II_4_NW', 'SF23_Y_A_VI_2_SE', 'SF23_Y_A_II_3_NE', 'SF23_Y_A_V_4_NW', 'SF23_Y_A_V_2_SE', 'SF23_Y_A_V_4_SW', 'SF23_Y_A_V_2_NE', 'SF23_Y_A_III_1_SW', 'SF23_Y_A_III_1_SE', 'SF23_Y_A_III_2_NE', 'SF23_Y_A_III_2_NW', 'SF23_Y_A_VI_4_NE', 'SF23_Y_A_II_4_SE'])"
      ]
     },
     "execution_count": 68,
     "metadata": {},
     "output_type": "execute_result"
    }
   ],
   "source": [
    "dic_cartas['scores'].keys()"
   ]
  },
  {
   "cell_type": "code",
   "execution_count": 88,
   "metadata": {},
   "outputs": [
    {
     "data": {
      "text/plain": [
       "dict_keys(['KPERC', 'eU', 'eTH', 'MDT', 'CTCOR'])"
      ]
     },
     "execution_count": 88,
     "metadata": {},
     "output_type": "execute_result"
    }
   ],
   "source": [
    "dic_cartas['scores']['SF23_Y_A_III_2_NE'].keys()"
   ]
  },
  {
   "cell_type": "code",
   "execution_count": 72,
   "metadata": {},
   "outputs": [],
   "source": [
    "scores = dic_cartas['scores']['SF23_Y_A_III_4_SW']"
   ]
  },
  {
   "cell_type": "code",
   "execution_count": 73,
   "metadata": {
    "scrolled": true
   },
   "outputs": [
    {
     "data": {
      "text/plain": [
       "{'KPERC': array([ 0.69997776, -0.56587614,  0.5663519 ,  0.50609842,  0.51360535,\n",
       "         0.33780929,  0.68724143,  0.55016465,  0.47616617,  0.61422389,\n",
       "         0.38362946,  0.7997933 ,  0.51860838,  0.69616203,  0.62800085,\n",
       "         0.63361975,  0.59773773,  0.21918897,  0.49385762,  0.44685204,\n",
       "         0.59370129,  0.7064805 , -0.15548312,  0.78393231,  0.62257235,\n",
       "         0.5822656 ,  0.16146013,  0.46844861,  0.66401517,  0.62335996,\n",
       "         0.71251408,  0.6451779 ,  0.76844853,  0.57029701,  0.65401009,\n",
       "         0.43087226,  0.66345019,  0.46646279,  0.82320076,  0.8054239 ,\n",
       "         0.40172149,  0.24330377,  0.58442842,  0.80871745,  0.63625768,\n",
       "         0.27441509,  0.62810899,  0.47399906,  0.24771037,  0.28497199]),\n",
       " 'eU': array([-0.20698497,  0.20685889,  0.24035569,  0.05022224, -0.19869023,\n",
       "        -0.00209766, -0.05476196,  0.09787521,  0.34472515,  0.29032687,\n",
       "        -0.12335081,  0.11714277, -0.03848585, -0.73687221,  0.17983199,\n",
       "         0.20094876,  0.20940189,  0.07578428,  0.39280233, -0.22045527,\n",
       "        -0.00296038,  0.19842244,  0.14320568,  0.11137314,  0.02960613,\n",
       "        -0.18558437,  0.08913354,  0.0048353 ,  0.2560194 ,  0.12541071,\n",
       "         0.1845121 , -0.00575631,  0.11524615,  0.00224418,  0.1150066 ,\n",
       "         0.0568623 ,  0.05324484, -0.67496817,  0.27898969, -0.13701507,\n",
       "         0.3859479 ,  0.16508784,  0.1919665 , -0.15577869, -0.21655662,\n",
       "         0.06582844, -0.60906266,  0.24881709, -0.13716641,  0.20334275]),\n",
       " 'eTH': array([ 0.70907886,  0.31877358,  0.52862275,  0.72330091,  0.7221305 ,\n",
       "         0.76197682,  0.54734109,  0.05950852,  0.52355477,  0.75512193,\n",
       "         0.49069596,  0.54284471,  0.33514789,  0.42910762,  0.51060327,\n",
       "         0.67327374,  0.74591741,  0.46127824,  0.74985661,  0.38240079,\n",
       "         0.66952037,  0.70734181,  0.55381416,  0.76332262,  0.38790044,\n",
       "         0.52779135, -0.06126494,  0.04327908,  0.52292769,  0.32553431,\n",
       "         0.57178977,  0.72786993,  0.5168299 ,  0.45529278,  0.55958958,\n",
       "         0.59911575,  0.14079498,  0.49661233,  0.20486049,  0.74388718,\n",
       "         0.45470047,  0.49105641,  0.59786102,  0.52443174,  0.54163268,\n",
       "         0.39748286,  0.72127916,  0.67359827,  0.71365528,  0.58497404]),\n",
       " 'MDT': array([0.94661533, 0.96664086, 0.89996244, 0.69873781, 0.94665084,\n",
       "        0.8886458 , 0.87171441, 0.8785925 , 0.9488    , 0.94130425,\n",
       "        0.94100411, 0.95876307, 0.93349042, 0.96458111, 0.92850768,\n",
       "        0.94843037, 0.88341731, 0.94380045, 0.97445503, 0.95280251,\n",
       "        0.94708546, 0.96163931, 0.92144484, 0.87227497, 0.90807859,\n",
       "        0.92111134, 0.93801114, 0.9569435 , 0.94221705, 0.89441662,\n",
       "        0.96311883, 0.77777506, 0.89030723, 0.95380662, 0.97189859,\n",
       "        0.92306448, 0.90017674, 0.89176704, 0.96980651, 0.92862336,\n",
       "        0.95532634, 0.92135737, 0.9240975 , 0.96357768, 0.9413012 ,\n",
       "        0.97902931, 0.95687794, 0.96830935, 0.97329696, 0.88987631]),\n",
       " 'CTCOR': array([0.57811906, 0.60799411, 0.71780402, 0.66108305, 0.67274904,\n",
       "        0.68990238, 0.86109861, 0.8145339 , 0.40374973, 0.74507367,\n",
       "        0.11158223, 0.73398953, 0.41052445, 0.67967112, 0.50554907,\n",
       "        0.64560012, 0.75890755, 0.45084223, 0.53345076, 0.60948616,\n",
       "        0.76398385, 0.31542733, 0.39806778, 0.63226429, 0.03254449,\n",
       "        0.68877423, 0.65052257, 0.70578353, 0.70685334, 0.61191677,\n",
       "        0.73732674, 0.48944823, 0.69447097, 0.68423818, 0.36377876,\n",
       "        0.5892407 , 0.49592358, 0.78351999, 0.69579497, 0.81617724,\n",
       "        0.72352407, 0.46456934, 0.47679519, 0.65729611, 0.33401934,\n",
       "        0.38049609, 0.37118989, 0.56200098, 0.64221326, 0.71766448])}"
      ]
     },
     "execution_count": 73,
     "metadata": {},
     "output_type": "execute_result"
    }
   ],
   "source": [
    "scores"
   ]
  },
  {
   "cell_type": "code",
   "execution_count": 280,
   "metadata": {},
   "outputs": [
    {
     "data": {
      "application/vnd.jupyter.widget-view+json": {
       "model_id": "622ff3d07aef4fb589c81cd6289c6bdc",
       "version_major": 2,
       "version_minor": 0
      },
      "text/plain": [
       "Canvas(toolbar=Toolbar(toolitems=[('Home', 'Reset original view', 'home', 'home'), ('Back', 'Back to previous …"
      ]
     },
     "metadata": {},
     "output_type": "display_data"
    },
    {
     "data": {
      "text/plain": [
       "(array([ 2.,  1.,  0.,  0.,  5.,  4., 10., 12., 12.,  4.]),\n",
       " array([-0.73687221, -0.62390476, -0.5109373 , -0.39796985, -0.28500239,\n",
       "        -0.17203494, -0.05906748,  0.05389997,  0.16686742,  0.27983488,\n",
       "         0.39280233]),\n",
       " <BarContainer object of 10 artists>)"
      ]
     },
     "execution_count": 280,
     "metadata": {},
     "output_type": "execute_result"
    }
   ],
   "source": [
    "plt.figure()\n",
    "plt.hist(scores['eU'])"
   ]
  },
  {
   "cell_type": "code",
   "execution_count": 276,
   "metadata": {},
   "outputs": [
    {
     "data": {
      "application/vnd.jupyter.widget-view+json": {
       "model_id": "63e7aaec49a14d2dbfcab22eee1d8369",
       "version_major": 2,
       "version_minor": 0
      },
      "text/plain": [
       "Canvas(toolbar=Toolbar(toolitems=[('Home', 'Reset original view', 'home', 'home'), ('Back', 'Back to previous …"
      ]
     },
     "metadata": {},
     "output_type": "display_data"
    }
   ],
   "source": [
    "fig, i = plt.subplots(2,3,constrained_layout=False)\n",
    "\n",
    "for i in dic_titles:\n",
    "    plt.hist(scores[i])"
   ]
  },
  {
   "cell_type": "code",
   "execution_count": 224,
   "metadata": {},
   "outputs": [
    {
     "name": "stdout",
     "output_type": "stream",
     "text": [
      "['KPERC', 'eU', 'eTH', 'MDT', 'CTCOR', 'closest_unid']\n"
     ]
    },
    {
     "data": {
      "text/plain": [
       "{'KPERC': 'K (%)',\n",
       " 'eU': 'U (ppm)',\n",
       " 'eTH': 'Th (ppm)',\n",
       " 'MDT': 'MDT (m)',\n",
       " 'CTCOR': 'Contagem Total (μR/h)'}"
      ]
     },
     "execution_count": 224,
     "metadata": {},
     "output_type": "execute_result"
    }
   ],
   "source": [
    "# Dicionário de features\n",
    "dic_titles = list(dic_cartas['scores']['SF23_Y_A_III_4_SW'].keys())\n",
    "dic_titles\n",
    "print(lista_canal)\n",
    "\n",
    "titles = [ 'K (%)', 'U (ppm)', 'Th (ppm)', 'MDT (m)',\n",
    "          'Contagem Total (μR/h)']\n",
    "dic_titles = {}\n",
    "for f, t in zip(lista_canal, titles):\n",
    "    dic_titles[f] = t\n",
    "    \n",
    "    \n",
    "dic_titles"
   ]
  },
  {
   "cell_type": "code",
   "execution_count": 266,
   "metadata": {},
   "outputs": [],
   "source": [
    "def plot_Score_Hist():\n",
    "    plt.figure()\n",
    "    for i in dic_titles:\n",
    "        plt.hist(scores[i])"
   ]
  },
  {
   "cell_type": "code",
   "execution_count": 267,
   "metadata": {},
   "outputs": [
    {
     "data": {
      "application/vnd.jupyter.widget-view+json": {
       "model_id": "537e2c010cfa4a1b9ff30ebafc58f1d8",
       "version_major": 2,
       "version_minor": 0
      },
      "text/plain": [
       "Canvas(toolbar=Toolbar(toolitems=[('Home', 'Reset original view', 'home', 'home'), ('Back', 'Back to previous …"
      ]
     },
     "metadata": {},
     "output_type": "display_data"
    }
   ],
   "source": [
    "plot_Score_Hist()"
   ]
  },
  {
   "cell_type": "code",
   "execution_count": 209,
   "metadata": {},
   "outputs": [
    {
     "data": {
      "text/html": [
       "<div>\n",
       "<style scoped>\n",
       "    .dataframe tbody tr th:only-of-type {\n",
       "        vertical-align: middle;\n",
       "    }\n",
       "\n",
       "    .dataframe tbody tr th {\n",
       "        vertical-align: top;\n",
       "    }\n",
       "\n",
       "    .dataframe thead th {\n",
       "        text-align: right;\n",
       "    }\n",
       "</style>\n",
       "<table border=\"1\" class=\"dataframe\">\n",
       "  <thead>\n",
       "    <tr style=\"text-align: right;\">\n",
       "      <th></th>\n",
       "      <th>KPERC</th>\n",
       "      <th>eU</th>\n",
       "      <th>eTH</th>\n",
       "      <th>X</th>\n",
       "      <th>Y</th>\n",
       "      <th>MDT</th>\n",
       "      <th>CTCOR</th>\n",
       "      <th>LATITUDE</th>\n",
       "      <th>LONGITUDE</th>\n",
       "    </tr>\n",
       "  </thead>\n",
       "  <tbody>\n",
       "    <tr>\n",
       "      <th>24884</th>\n",
       "      <td>0.609</td>\n",
       "      <td>0.012</td>\n",
       "      <td>2.221</td>\n",
       "      <td>319889.75</td>\n",
       "      <td>7524730.34</td>\n",
       "      <td>669.99</td>\n",
       "      <td>0.916</td>\n",
       "      <td>-22.373985</td>\n",
       "      <td>-46.749332</td>\n",
       "    </tr>\n",
       "    <tr>\n",
       "      <th>24885</th>\n",
       "      <td>0.736</td>\n",
       "      <td>0.327</td>\n",
       "      <td>4.787</td>\n",
       "      <td>319887.33</td>\n",
       "      <td>7524644.83</td>\n",
       "      <td>674.43</td>\n",
       "      <td>1.376</td>\n",
       "      <td>-22.374757</td>\n",
       "      <td>-46.749365</td>\n",
       "    </tr>\n",
       "    <tr>\n",
       "      <th>24886</th>\n",
       "      <td>0.822</td>\n",
       "      <td>0.334</td>\n",
       "      <td>6.456</td>\n",
       "      <td>319885.85</td>\n",
       "      <td>7524559.28</td>\n",
       "      <td>678.37</td>\n",
       "      <td>1.806</td>\n",
       "      <td>-22.375529</td>\n",
       "      <td>-46.749389</td>\n",
       "    </tr>\n",
       "    <tr>\n",
       "      <th>24887</th>\n",
       "      <td>0.792</td>\n",
       "      <td>0.594</td>\n",
       "      <td>5.054</td>\n",
       "      <td>319885.26</td>\n",
       "      <td>7524473.80</td>\n",
       "      <td>679.32</td>\n",
       "      <td>2.070</td>\n",
       "      <td>-22.376301</td>\n",
       "      <td>-46.749404</td>\n",
       "    </tr>\n",
       "    <tr>\n",
       "      <th>24888</th>\n",
       "      <td>0.559</td>\n",
       "      <td>1.134</td>\n",
       "      <td>4.266</td>\n",
       "      <td>319885.44</td>\n",
       "      <td>7524388.35</td>\n",
       "      <td>680.23</td>\n",
       "      <td>2.337</td>\n",
       "      <td>-22.377073</td>\n",
       "      <td>-46.749412</td>\n",
       "    </tr>\n",
       "    <tr>\n",
       "      <th>...</th>\n",
       "      <td>...</td>\n",
       "      <td>...</td>\n",
       "      <td>...</td>\n",
       "      <td>...</td>\n",
       "      <td>...</td>\n",
       "      <td>...</td>\n",
       "      <td>...</td>\n",
       "      <td>...</td>\n",
       "      <td>...</td>\n",
       "    </tr>\n",
       "    <tr>\n",
       "      <th>65267</th>\n",
       "      <td>1.296</td>\n",
       "      <td>3.051</td>\n",
       "      <td>22.856</td>\n",
       "      <td>332384.31</td>\n",
       "      <td>7524405.08</td>\n",
       "      <td>740.51</td>\n",
       "      <td>13.192</td>\n",
       "      <td>-22.378189</td>\n",
       "      <td>-46.628051</td>\n",
       "    </tr>\n",
       "    <tr>\n",
       "      <th>65268</th>\n",
       "      <td>1.533</td>\n",
       "      <td>2.783</td>\n",
       "      <td>24.027</td>\n",
       "      <td>332391.10</td>\n",
       "      <td>7524480.43</td>\n",
       "      <td>742.54</td>\n",
       "      <td>12.685</td>\n",
       "      <td>-22.377509</td>\n",
       "      <td>-46.627977</td>\n",
       "    </tr>\n",
       "    <tr>\n",
       "      <th>65269</th>\n",
       "      <td>1.286</td>\n",
       "      <td>3.520</td>\n",
       "      <td>21.735</td>\n",
       "      <td>332398.19</td>\n",
       "      <td>7524555.55</td>\n",
       "      <td>739.06</td>\n",
       "      <td>12.203</td>\n",
       "      <td>-22.376831</td>\n",
       "      <td>-46.627900</td>\n",
       "    </tr>\n",
       "    <tr>\n",
       "      <th>65270</th>\n",
       "      <td>0.893</td>\n",
       "      <td>2.742</td>\n",
       "      <td>21.110</td>\n",
       "      <td>332404.87</td>\n",
       "      <td>7524630.40</td>\n",
       "      <td>737.28</td>\n",
       "      <td>11.699</td>\n",
       "      <td>-22.376156</td>\n",
       "      <td>-46.627828</td>\n",
       "    </tr>\n",
       "    <tr>\n",
       "      <th>65271</th>\n",
       "      <td>1.146</td>\n",
       "      <td>2.262</td>\n",
       "      <td>19.929</td>\n",
       "      <td>332409.81</td>\n",
       "      <td>7524705.04</td>\n",
       "      <td>735.79</td>\n",
       "      <td>11.645</td>\n",
       "      <td>-22.375482</td>\n",
       "      <td>-46.627772</td>\n",
       "    </tr>\n",
       "  </tbody>\n",
       "</table>\n",
       "<p>4778 rows × 9 columns</p>\n",
       "</div>"
      ],
      "text/plain": [
       "       KPERC     eU     eTH          X           Y     MDT   CTCOR   LATITUDE  \\\n",
       "24884  0.609  0.012   2.221  319889.75  7524730.34  669.99   0.916 -22.373985   \n",
       "24885  0.736  0.327   4.787  319887.33  7524644.83  674.43   1.376 -22.374757   \n",
       "24886  0.822  0.334   6.456  319885.85  7524559.28  678.37   1.806 -22.375529   \n",
       "24887  0.792  0.594   5.054  319885.26  7524473.80  679.32   2.070 -22.376301   \n",
       "24888  0.559  1.134   4.266  319885.44  7524388.35  680.23   2.337 -22.377073   \n",
       "...      ...    ...     ...        ...         ...     ...     ...        ...   \n",
       "65267  1.296  3.051  22.856  332384.31  7524405.08  740.51  13.192 -22.378189   \n",
       "65268  1.533  2.783  24.027  332391.10  7524480.43  742.54  12.685 -22.377509   \n",
       "65269  1.286  3.520  21.735  332398.19  7524555.55  739.06  12.203 -22.376831   \n",
       "65270  0.893  2.742  21.110  332404.87  7524630.40  737.28  11.699 -22.376156   \n",
       "65271  1.146  2.262  19.929  332409.81  7524705.04  735.79  11.645 -22.375482   \n",
       "\n",
       "       LONGITUDE  \n",
       "24884 -46.749332  \n",
       "24885 -46.749365  \n",
       "24886 -46.749389  \n",
       "24887 -46.749404  \n",
       "24888 -46.749412  \n",
       "...          ...  \n",
       "65267 -46.628051  \n",
       "65268 -46.627977  \n",
       "65269 -46.627900  \n",
       "65270 -46.627828  \n",
       "65271 -46.627772  \n",
       "\n",
       "[4778 rows x 9 columns]"
      ]
     },
     "execution_count": 209,
     "metadata": {},
     "output_type": "execute_result"
    }
   ],
   "source": [
    "raw_data = dic_cartas['raw_data']['SF23_Y_A_III_4_SW']\n",
    "raw_data"
   ]
  },
  {
   "cell_type": "markdown",
   "metadata": {},
   "source": [
    "#### DESCRIÇÃO ESTATÍSTICA DOS DADOS BRUTOS"
   ]
  },
  {
   "cell_type": "code",
   "execution_count": 287,
   "metadata": {},
   "outputs": [
    {
     "data": {
      "text/plain": [
       "count    4778.000000\n",
       "mean        1.683811\n",
       "std         0.783064\n",
       "min        -0.472000\n",
       "1%          0.021850\n",
       "10%         0.718000\n",
       "25%         1.154000\n",
       "50%         1.637000\n",
       "75%         2.168000\n",
       "99.5%       3.949415\n",
       "max         5.705000\n",
       "Name: eU, dtype: float64"
      ]
     },
     "execution_count": 287,
     "metadata": {},
     "output_type": "execute_result"
    }
   ],
   "source": [
    "df_describe = dic_cartas['raw_data']['SF23_Y_A_III_4_SW'].describe(percentiles=[0.01,0.1,0.25,0.5,0.75,0.995])\n",
    "df_describe['eU'].T"
   ]
  },
  {
   "cell_type": "markdown",
   "metadata": {},
   "source": [
    "##### DISTRIBUIÇÃO ESPACIAL DOS DADOS BRUTOS"
   ]
  },
  {
   "cell_type": "code",
   "execution_count": 211,
   "metadata": {
    "scrolled": true
   },
   "outputs": [
    {
     "data": {
      "application/vnd.jupyter.widget-view+json": {
       "model_id": "9704803dda264648a4751e7c2540ea4c",
       "version_major": 2,
       "version_minor": 0
      },
      "text/plain": [
       "Canvas(toolbar=Toolbar(toolitems=[('Home', 'Reset original view', 'home', 'home'), ('Back', 'Back to previous …"
      ]
     },
     "metadata": {},
     "output_type": "display_data"
    },
    {
     "data": {
      "application/vnd.jupyter.widget-view+json": {
       "model_id": "60b5fb1dc3874020a74982007dbecb14",
       "version_major": 2,
       "version_minor": 0
      },
      "text/plain": [
       "Canvas(toolbar=Toolbar(toolitems=[('Home', 'Reset original view', 'home', 'home'), ('Back', 'Back to previous …"
      ]
     },
     "metadata": {},
     "output_type": "display_data"
    },
    {
     "data": {
      "application/vnd.jupyter.widget-view+json": {
       "model_id": "7ad884407df8430286a2a547b47e9df5",
       "version_major": 2,
       "version_minor": 0
      },
      "text/plain": [
       "Canvas(toolbar=Toolbar(toolitems=[('Home', 'Reset original view', 'home', 'home'), ('Back', 'Back to previous …"
      ]
     },
     "metadata": {},
     "output_type": "display_data"
    },
    {
     "data": {
      "application/vnd.jupyter.widget-view+json": {
       "model_id": "0c775aeb2e864f76b37ac2bf2a372902",
       "version_major": 2,
       "version_minor": 0
      },
      "text/plain": [
       "Canvas(toolbar=Toolbar(toolitems=[('Home', 'Reset original view', 'home', 'home'), ('Back', 'Back to previous …"
      ]
     },
     "metadata": {},
     "output_type": "display_data"
    },
    {
     "data": {
      "application/vnd.jupyter.widget-view+json": {
       "model_id": "7daedbc5f0bc45be9df936e1e687a95f",
       "version_major": 2,
       "version_minor": 0
      },
      "text/plain": [
       "Canvas(toolbar=Toolbar(toolitems=[('Home', 'Reset original view', 'home', 'home'), ('Back', 'Back to previous …"
      ]
     },
     "metadata": {},
     "output_type": "display_data"
    },
    {
     "data": {
      "application/vnd.jupyter.widget-view+json": {
       "model_id": "bb51e45d3b2a40dc9e0959d62bde713b",
       "version_major": 2,
       "version_minor": 0
      },
      "text/plain": [
       "Canvas(toolbar=Toolbar(toolitems=[('Home', 'Reset original view', 'home', 'home'), ('Back', 'Back to previous …"
      ]
     },
     "metadata": {},
     "output_type": "display_data"
    },
    {
     "ename": "KeyError",
     "evalue": "'closest_unid'",
     "output_type": "error",
     "traceback": [
      "\u001b[0;31m---------------------------------------------------------------------------\u001b[0m",
      "\u001b[0;31mKeyError\u001b[0m                                  Traceback (most recent call last)",
      "\u001b[0;32m~/anaconda3/envs/geologist_bot/lib/python3.7/site-packages/pandas/core/indexes/base.py\u001b[0m in \u001b[0;36mget_loc\u001b[0;34m(self, key, method, tolerance)\u001b[0m\n\u001b[1;32m   3360\u001b[0m             \u001b[0;32mtry\u001b[0m\u001b[0;34m:\u001b[0m\u001b[0;34m\u001b[0m\u001b[0;34m\u001b[0m\u001b[0m\n\u001b[0;32m-> 3361\u001b[0;31m                 \u001b[0;32mreturn\u001b[0m \u001b[0mself\u001b[0m\u001b[0;34m.\u001b[0m\u001b[0m_engine\u001b[0m\u001b[0;34m.\u001b[0m\u001b[0mget_loc\u001b[0m\u001b[0;34m(\u001b[0m\u001b[0mcasted_key\u001b[0m\u001b[0;34m)\u001b[0m\u001b[0;34m\u001b[0m\u001b[0;34m\u001b[0m\u001b[0m\n\u001b[0m\u001b[1;32m   3362\u001b[0m             \u001b[0;32mexcept\u001b[0m \u001b[0mKeyError\u001b[0m \u001b[0;32mas\u001b[0m \u001b[0merr\u001b[0m\u001b[0;34m:\u001b[0m\u001b[0;34m\u001b[0m\u001b[0;34m\u001b[0m\u001b[0m\n",
      "\u001b[0;32m~/anaconda3/envs/geologist_bot/lib/python3.7/site-packages/pandas/_libs/index.pyx\u001b[0m in \u001b[0;36mpandas._libs.index.IndexEngine.get_loc\u001b[0;34m()\u001b[0m\n",
      "\u001b[0;32m~/anaconda3/envs/geologist_bot/lib/python3.7/site-packages/pandas/_libs/index.pyx\u001b[0m in \u001b[0;36mpandas._libs.index.IndexEngine.get_loc\u001b[0;34m()\u001b[0m\n",
      "\u001b[0;32mpandas/_libs/hashtable_class_helper.pxi\u001b[0m in \u001b[0;36mpandas._libs.hashtable.PyObjectHashTable.get_item\u001b[0;34m()\u001b[0m\n",
      "\u001b[0;32mpandas/_libs/hashtable_class_helper.pxi\u001b[0m in \u001b[0;36mpandas._libs.hashtable.PyObjectHashTable.get_item\u001b[0;34m()\u001b[0m\n",
      "\u001b[0;31mKeyError\u001b[0m: 'closest_unid'",
      "\nThe above exception was the direct cause of the following exception:\n",
      "\u001b[0;31mKeyError\u001b[0m                                  Traceback (most recent call last)",
      "\u001b[0;32m/tmp/ipykernel_22132/121281355.py\u001b[0m in \u001b[0;36m<module>\u001b[0;34m\u001b[0m\n\u001b[1;32m      3\u001b[0m \u001b[0;32mfor\u001b[0m \u001b[0max\u001b[0m\u001b[0;34m,\u001b[0m \u001b[0mf\u001b[0m \u001b[0;32min\u001b[0m \u001b[0mzip\u001b[0m\u001b[0;34m(\u001b[0m\u001b[0mraw_data\u001b[0m\u001b[0;34m,\u001b[0m \u001b[0mdic_titles\u001b[0m\u001b[0;34m)\u001b[0m\u001b[0;34m:\u001b[0m\u001b[0;34m\u001b[0m\u001b[0;34m\u001b[0m\u001b[0m\n\u001b[1;32m      4\u001b[0m     \u001b[0mplt\u001b[0m\u001b[0;34m.\u001b[0m\u001b[0mfigure\u001b[0m\u001b[0;34m(\u001b[0m\u001b[0mf\u001b[0m\u001b[0;34m+\u001b[0m \u001b[0;34m' Dados Brutos'\u001b[0m\u001b[0;34m)\u001b[0m\u001b[0;34m\u001b[0m\u001b[0;34m\u001b[0m\u001b[0m\n\u001b[0;32m----> 5\u001b[0;31m     \u001b[0mvmin\u001b[0m\u001b[0;34m=\u001b[0m\u001b[0mdf_describe\u001b[0m\u001b[0;34m[\u001b[0m\u001b[0mf\u001b[0m\u001b[0;34m]\u001b[0m\u001b[0;34m[\u001b[0m\u001b[0;34m'1%'\u001b[0m\u001b[0;34m]\u001b[0m\u001b[0;34m\u001b[0m\u001b[0;34m\u001b[0m\u001b[0m\n\u001b[0m\u001b[1;32m      6\u001b[0m     \u001b[0mvmax\u001b[0m\u001b[0;34m=\u001b[0m\u001b[0mdf_describe\u001b[0m\u001b[0;34m[\u001b[0m\u001b[0mf\u001b[0m\u001b[0;34m]\u001b[0m\u001b[0;34m[\u001b[0m\u001b[0;34m'99.5%'\u001b[0m\u001b[0;34m]\u001b[0m\u001b[0;34m\u001b[0m\u001b[0;34m\u001b[0m\u001b[0m\n\u001b[1;32m      7\u001b[0m     plt.scatter(X,Y,\n",
      "\u001b[0;32m~/anaconda3/envs/geologist_bot/lib/python3.7/site-packages/pandas/core/frame.py\u001b[0m in \u001b[0;36m__getitem__\u001b[0;34m(self, key)\u001b[0m\n\u001b[1;32m   3453\u001b[0m             \u001b[0;32mif\u001b[0m \u001b[0mself\u001b[0m\u001b[0;34m.\u001b[0m\u001b[0mcolumns\u001b[0m\u001b[0;34m.\u001b[0m\u001b[0mnlevels\u001b[0m \u001b[0;34m>\u001b[0m \u001b[0;36m1\u001b[0m\u001b[0;34m:\u001b[0m\u001b[0;34m\u001b[0m\u001b[0;34m\u001b[0m\u001b[0m\n\u001b[1;32m   3454\u001b[0m                 \u001b[0;32mreturn\u001b[0m \u001b[0mself\u001b[0m\u001b[0;34m.\u001b[0m\u001b[0m_getitem_multilevel\u001b[0m\u001b[0;34m(\u001b[0m\u001b[0mkey\u001b[0m\u001b[0;34m)\u001b[0m\u001b[0;34m\u001b[0m\u001b[0;34m\u001b[0m\u001b[0m\n\u001b[0;32m-> 3455\u001b[0;31m             \u001b[0mindexer\u001b[0m \u001b[0;34m=\u001b[0m \u001b[0mself\u001b[0m\u001b[0;34m.\u001b[0m\u001b[0mcolumns\u001b[0m\u001b[0;34m.\u001b[0m\u001b[0mget_loc\u001b[0m\u001b[0;34m(\u001b[0m\u001b[0mkey\u001b[0m\u001b[0;34m)\u001b[0m\u001b[0;34m\u001b[0m\u001b[0;34m\u001b[0m\u001b[0m\n\u001b[0m\u001b[1;32m   3456\u001b[0m             \u001b[0;32mif\u001b[0m \u001b[0mis_integer\u001b[0m\u001b[0;34m(\u001b[0m\u001b[0mindexer\u001b[0m\u001b[0;34m)\u001b[0m\u001b[0;34m:\u001b[0m\u001b[0;34m\u001b[0m\u001b[0;34m\u001b[0m\u001b[0m\n\u001b[1;32m   3457\u001b[0m                 \u001b[0mindexer\u001b[0m \u001b[0;34m=\u001b[0m \u001b[0;34m[\u001b[0m\u001b[0mindexer\u001b[0m\u001b[0;34m]\u001b[0m\u001b[0;34m\u001b[0m\u001b[0;34m\u001b[0m\u001b[0m\n",
      "\u001b[0;32m~/anaconda3/envs/geologist_bot/lib/python3.7/site-packages/pandas/core/indexes/base.py\u001b[0m in \u001b[0;36mget_loc\u001b[0;34m(self, key, method, tolerance)\u001b[0m\n\u001b[1;32m   3361\u001b[0m                 \u001b[0;32mreturn\u001b[0m \u001b[0mself\u001b[0m\u001b[0;34m.\u001b[0m\u001b[0m_engine\u001b[0m\u001b[0;34m.\u001b[0m\u001b[0mget_loc\u001b[0m\u001b[0;34m(\u001b[0m\u001b[0mcasted_key\u001b[0m\u001b[0;34m)\u001b[0m\u001b[0;34m\u001b[0m\u001b[0;34m\u001b[0m\u001b[0m\n\u001b[1;32m   3362\u001b[0m             \u001b[0;32mexcept\u001b[0m \u001b[0mKeyError\u001b[0m \u001b[0;32mas\u001b[0m \u001b[0merr\u001b[0m\u001b[0;34m:\u001b[0m\u001b[0;34m\u001b[0m\u001b[0;34m\u001b[0m\u001b[0m\n\u001b[0;32m-> 3363\u001b[0;31m                 \u001b[0;32mraise\u001b[0m \u001b[0mKeyError\u001b[0m\u001b[0;34m(\u001b[0m\u001b[0mkey\u001b[0m\u001b[0;34m)\u001b[0m \u001b[0;32mfrom\u001b[0m \u001b[0merr\u001b[0m\u001b[0;34m\u001b[0m\u001b[0;34m\u001b[0m\u001b[0m\n\u001b[0m\u001b[1;32m   3364\u001b[0m \u001b[0;34m\u001b[0m\u001b[0m\n\u001b[1;32m   3365\u001b[0m         \u001b[0;32mif\u001b[0m \u001b[0mis_scalar\u001b[0m\u001b[0;34m(\u001b[0m\u001b[0mkey\u001b[0m\u001b[0;34m)\u001b[0m \u001b[0;32mand\u001b[0m \u001b[0misna\u001b[0m\u001b[0;34m(\u001b[0m\u001b[0mkey\u001b[0m\u001b[0;34m)\u001b[0m \u001b[0;32mand\u001b[0m \u001b[0;32mnot\u001b[0m \u001b[0mself\u001b[0m\u001b[0;34m.\u001b[0m\u001b[0mhasnans\u001b[0m\u001b[0;34m:\u001b[0m\u001b[0;34m\u001b[0m\u001b[0;34m\u001b[0m\u001b[0m\n",
      "\u001b[0;31mKeyError\u001b[0m: 'closest_unid'"
     ]
    }
   ],
   "source": [
    "X, Y = raw_data.X,raw_data.Y\n",
    "\n",
    "for ax, f in zip(raw_data, dic_titles):\n",
    "    plt.figure(f+ ' Dados Brutos')\n",
    "    vmin=df_describe[f]['1%']\n",
    "    vmax=df_describe[f]['99.5%']\n",
    "    plt.scatter(X,Y,\n",
    "        c    = raw_data[f],\n",
    "        cmap = 'rainbow',\n",
    "        s    = 0.5,vmax=vmax,vmin=vmin)\n",
    "    plt.axis('scaled')"
   ]
  },
  {
   "cell_type": "code",
   "execution_count": 35,
   "metadata": {},
   "outputs": [],
   "source": [
    "dataframe = dic_cartas['lito_geof']['SF23_Y_A_III_4_SW']"
   ]
  },
  {
   "cell_type": "code",
   "execution_count": 36,
   "metadata": {},
   "outputs": [
    {
     "data": {
      "text/html": [
       "<div>\n",
       "<style scoped>\n",
       "    .dataframe tbody tr th:only-of-type {\n",
       "        vertical-align: middle;\n",
       "    }\n",
       "\n",
       "    .dataframe tbody tr th {\n",
       "        vertical-align: top;\n",
       "    }\n",
       "\n",
       "    .dataframe thead th {\n",
       "        text-align: right;\n",
       "    }\n",
       "</style>\n",
       "<table border=\"1\" class=\"dataframe\">\n",
       "  <thead>\n",
       "    <tr style=\"text-align: right;\">\n",
       "      <th></th>\n",
       "      <th>northing</th>\n",
       "      <th>easting</th>\n",
       "      <th>KPERC</th>\n",
       "      <th>eU</th>\n",
       "      <th>eTH</th>\n",
       "      <th>MDT</th>\n",
       "      <th>CTCOR</th>\n",
       "      <th>geometry</th>\n",
       "      <th>closest_unid</th>\n",
       "    </tr>\n",
       "  </thead>\n",
       "  <tbody>\n",
       "    <tr>\n",
       "      <th>0</th>\n",
       "      <td>7.510828e+06</td>\n",
       "      <td>319910.867302</td>\n",
       "      <td>1.276138</td>\n",
       "      <td>1.567926</td>\n",
       "      <td>11.947142</td>\n",
       "      <td>689.662003</td>\n",
       "      <td>5.365843</td>\n",
       "      <td>POINT (319910.867 7510827.589)</td>\n",
       "      <td>47</td>\n",
       "    </tr>\n",
       "    <tr>\n",
       "      <th>1</th>\n",
       "      <td>7.510828e+06</td>\n",
       "      <td>320010.521905</td>\n",
       "      <td>1.325461</td>\n",
       "      <td>1.540833</td>\n",
       "      <td>11.848488</td>\n",
       "      <td>696.728138</td>\n",
       "      <td>5.500724</td>\n",
       "      <td>POINT (320010.522 7510827.589)</td>\n",
       "      <td>47</td>\n",
       "    </tr>\n",
       "    <tr>\n",
       "      <th>2</th>\n",
       "      <td>7.510828e+06</td>\n",
       "      <td>320110.176508</td>\n",
       "      <td>1.385272</td>\n",
       "      <td>1.493963</td>\n",
       "      <td>11.691177</td>\n",
       "      <td>704.012817</td>\n",
       "      <td>5.629530</td>\n",
       "      <td>POINT (320110.177 7510827.589)</td>\n",
       "      <td>47</td>\n",
       "    </tr>\n",
       "    <tr>\n",
       "      <th>3</th>\n",
       "      <td>7.510828e+06</td>\n",
       "      <td>320209.831111</td>\n",
       "      <td>1.459376</td>\n",
       "      <td>1.424839</td>\n",
       "      <td>11.460819</td>\n",
       "      <td>711.371424</td>\n",
       "      <td>5.759821</td>\n",
       "      <td>POINT (320209.831 7510827.589)</td>\n",
       "      <td>47</td>\n",
       "    </tr>\n",
       "    <tr>\n",
       "      <th>4</th>\n",
       "      <td>7.510828e+06</td>\n",
       "      <td>320309.485714</td>\n",
       "      <td>1.546637</td>\n",
       "      <td>1.337154</td>\n",
       "      <td>11.169252</td>\n",
       "      <td>718.723467</td>\n",
       "      <td>5.894683</td>\n",
       "      <td>POINT (320309.486 7510827.589)</td>\n",
       "      <td>47</td>\n",
       "    </tr>\n",
       "    <tr>\n",
       "      <th>...</th>\n",
       "      <td>...</td>\n",
       "      <td>...</td>\n",
       "      <td>...</td>\n",
       "      <td>...</td>\n",
       "      <td>...</td>\n",
       "      <td>...</td>\n",
       "      <td>...</td>\n",
       "      <td>...</td>\n",
       "      <td>...</td>\n",
       "    </tr>\n",
       "    <tr>\n",
       "      <th>17635</th>\n",
       "      <td>7.524711e+06</td>\n",
       "      <td>331969.074286</td>\n",
       "      <td>1.289122</td>\n",
       "      <td>2.618662</td>\n",
       "      <td>23.433468</td>\n",
       "      <td>721.853714</td>\n",
       "      <td>11.018442</td>\n",
       "      <td>POINT (331969.074 7524710.601)</td>\n",
       "      <td>47</td>\n",
       "    </tr>\n",
       "    <tr>\n",
       "      <th>17636</th>\n",
       "      <td>7.524711e+06</td>\n",
       "      <td>332068.728889</td>\n",
       "      <td>1.290689</td>\n",
       "      <td>2.654577</td>\n",
       "      <td>23.013405</td>\n",
       "      <td>722.745870</td>\n",
       "      <td>11.353046</td>\n",
       "      <td>POINT (332068.729 7524710.601)</td>\n",
       "      <td>47</td>\n",
       "    </tr>\n",
       "    <tr>\n",
       "      <th>17637</th>\n",
       "      <td>7.524711e+06</td>\n",
       "      <td>332168.383492</td>\n",
       "      <td>1.289815</td>\n",
       "      <td>2.723551</td>\n",
       "      <td>22.745727</td>\n",
       "      <td>724.316957</td>\n",
       "      <td>11.773566</td>\n",
       "      <td>POINT (332168.383 7524710.601)</td>\n",
       "      <td>47</td>\n",
       "    </tr>\n",
       "    <tr>\n",
       "      <th>17638</th>\n",
       "      <td>7.524711e+06</td>\n",
       "      <td>332268.038095</td>\n",
       "      <td>1.292638</td>\n",
       "      <td>2.807918</td>\n",
       "      <td>22.595292</td>\n",
       "      <td>726.149156</td>\n",
       "      <td>12.250079</td>\n",
       "      <td>POINT (332268.038 7524710.601)</td>\n",
       "      <td>47</td>\n",
       "    </tr>\n",
       "    <tr>\n",
       "      <th>17639</th>\n",
       "      <td>7.524711e+06</td>\n",
       "      <td>332367.692698</td>\n",
       "      <td>1.303846</td>\n",
       "      <td>2.894636</td>\n",
       "      <td>22.524103</td>\n",
       "      <td>727.997755</td>\n",
       "      <td>12.749898</td>\n",
       "      <td>POINT (332367.693 7524710.601)</td>\n",
       "      <td>47</td>\n",
       "    </tr>\n",
       "  </tbody>\n",
       "</table>\n",
       "<p>17640 rows × 9 columns</p>\n",
       "</div>"
      ],
      "text/plain": [
       "           northing        easting     KPERC        eU        eTH         MDT  \\\n",
       "0      7.510828e+06  319910.867302  1.276138  1.567926  11.947142  689.662003   \n",
       "1      7.510828e+06  320010.521905  1.325461  1.540833  11.848488  696.728138   \n",
       "2      7.510828e+06  320110.176508  1.385272  1.493963  11.691177  704.012817   \n",
       "3      7.510828e+06  320209.831111  1.459376  1.424839  11.460819  711.371424   \n",
       "4      7.510828e+06  320309.485714  1.546637  1.337154  11.169252  718.723467   \n",
       "...             ...            ...       ...       ...        ...         ...   \n",
       "17635  7.524711e+06  331969.074286  1.289122  2.618662  23.433468  721.853714   \n",
       "17636  7.524711e+06  332068.728889  1.290689  2.654577  23.013405  722.745870   \n",
       "17637  7.524711e+06  332168.383492  1.289815  2.723551  22.745727  724.316957   \n",
       "17638  7.524711e+06  332268.038095  1.292638  2.807918  22.595292  726.149156   \n",
       "17639  7.524711e+06  332367.692698  1.303846  2.894636  22.524103  727.997755   \n",
       "\n",
       "           CTCOR                        geometry closest_unid  \n",
       "0       5.365843  POINT (319910.867 7510827.589)           47  \n",
       "1       5.500724  POINT (320010.522 7510827.589)           47  \n",
       "2       5.629530  POINT (320110.177 7510827.589)           47  \n",
       "3       5.759821  POINT (320209.831 7510827.589)           47  \n",
       "4       5.894683  POINT (320309.486 7510827.589)           47  \n",
       "...          ...                             ...          ...  \n",
       "17635  11.018442  POINT (331969.074 7524710.601)           47  \n",
       "17636  11.353046  POINT (332068.729 7524710.601)           47  \n",
       "17637  11.773566  POINT (332168.383 7524710.601)           47  \n",
       "17638  12.250079  POINT (332268.038 7524710.601)           47  \n",
       "17639  12.749898  POINT (332367.693 7524710.601)           47  \n",
       "\n",
       "[17640 rows x 9 columns]"
      ]
     },
     "execution_count": 36,
     "metadata": {},
     "output_type": "execute_result"
    }
   ],
   "source": [
    "dataframe"
   ]
  },
  {
   "cell_type": "code",
   "execution_count": 195,
   "metadata": {},
   "outputs": [
    {
     "name": "stdout",
     "output_type": "stream",
     "text": [
      "       northing       easting     KPERC        eU        eTH         MDT  \\\n",
      "0  7.510972e+06  332909.21168  0.863893  1.972147  16.241171  757.154419   \n",
      "1  7.510972e+06  333009.39504  0.781649  1.946968  15.280866  757.468726   \n",
      "2  7.510972e+06  333109.57840  0.701485  1.924453  14.372886  759.066700   \n",
      "3  7.510972e+06  333209.76176  0.629692  1.902916  13.628534  760.847259   \n",
      "4  7.510972e+06  333309.94512  0.573223  1.877655  13.158999  761.661457   \n",
      "\n",
      "      CTCOR                        geometry closest_unid  \n",
      "0  8.744969  POINT (332909.212 7510972.231)           47  \n",
      "1  7.859455  POINT (333009.395 7510972.231)           47  \n",
      "2  6.964074  POINT (333109.578 7510972.231)           47  \n",
      "3  6.143127  POINT (333209.762 7510972.231)           47  \n",
      "4  5.480347  POINT (333309.945 7510972.231)           47  \n",
      "epsg:32723\n"
     ]
    },
    {
     "data": {
      "application/vnd.jupyter.widget-view+json": {
       "model_id": "38ded86da70648f1ac1a53ccd9d38087",
       "version_major": 2,
       "version_minor": 0
      },
      "text/plain": [
       "Canvas(toolbar=Toolbar(toolitems=[('Home', 'Reset original view', 'home', 'home'), ('Back', 'Back to previous …"
      ]
     },
     "metadata": {},
     "output_type": "display_data"
    },
    {
     "data": {
      "text/plain": [
       "(319288.02603174595, 332990.533968254, 7510133.438282143, 7525404.751717857)"
      ]
     },
     "execution_count": 195,
     "metadata": {},
     "output_type": "execute_result"
    }
   ],
   "source": [
    "print(dataframe.head(5))\n",
    "\n",
    "geodataframe = dic_cartas['lito_geof']['SF23_Y_A_III_4_SW'].set_geometry('geometry')\n",
    "print(geodataframe.crs)\n",
    "geodataframe.plot('closest_unid')\n",
    "plt.title(label=f\"'closest_unid': SF23_Y_A_III_4_SW\")\n",
    "plt.axis('scaled')"
   ]
  },
  {
   "cell_type": "markdown",
   "metadata": {},
   "source": [
    "#### Descrição dos dados interpolados"
   ]
  },
  {
   "cell_type": "code",
   "execution_count": 288,
   "metadata": {},
   "outputs": [
    {
     "data": {
      "text/plain": [
       "count    17640.000000\n",
       "mean         1.680437\n",
       "std          0.525521\n",
       "min          0.175163\n",
       "1%           0.604992\n",
       "10%          1.020001\n",
       "25%          1.324673\n",
       "50%          1.639932\n",
       "75%          2.016164\n",
       "99.5%        3.213226\n",
       "max          3.665561\n",
       "Name: eU, dtype: float64"
      ]
     },
     "execution_count": 288,
     "metadata": {},
     "output_type": "execute_result"
    }
   ],
   "source": [
    "df_describe = dic_cartas['lito_geof']['SF23_Y_A_III_4_SW'].describe(percentiles=[0.01,0.1,0.25,0.5,0.75,0.995])\n",
    "df_describe['eU'].T"
   ]
  },
  {
   "cell_type": "code",
   "execution_count": 38,
   "metadata": {},
   "outputs": [],
   "source": [
    "grids=dic_cartas['interpolado']['SF23_Y_A_III_4_SW']"
   ]
  },
  {
   "cell_type": "code",
   "execution_count": 40,
   "metadata": {},
   "outputs": [
    {
     "data": {
      "text/html": [
       "<div><svg style=\"position: absolute; width: 0; height: 0; overflow: hidden\">\n",
       "<defs>\n",
       "<symbol id=\"icon-database\" viewBox=\"0 0 32 32\">\n",
       "<path d=\"M16 0c-8.837 0-16 2.239-16 5v4c0 2.761 7.163 5 16 5s16-2.239 16-5v-4c0-2.761-7.163-5-16-5z\"></path>\n",
       "<path d=\"M16 17c-8.837 0-16-2.239-16-5v6c0 2.761 7.163 5 16 5s16-2.239 16-5v-6c0 2.761-7.163 5-16 5z\"></path>\n",
       "<path d=\"M16 26c-8.837 0-16-2.239-16-5v6c0 2.761 7.163 5 16 5s16-2.239 16-5v-6c0 2.761-7.163 5-16 5z\"></path>\n",
       "</symbol>\n",
       "<symbol id=\"icon-file-text2\" viewBox=\"0 0 32 32\">\n",
       "<path d=\"M28.681 7.159c-0.694-0.947-1.662-2.053-2.724-3.116s-2.169-2.030-3.116-2.724c-1.612-1.182-2.393-1.319-2.841-1.319h-15.5c-1.378 0-2.5 1.121-2.5 2.5v27c0 1.378 1.122 2.5 2.5 2.5h23c1.378 0 2.5-1.122 2.5-2.5v-19.5c0-0.448-0.137-1.23-1.319-2.841zM24.543 5.457c0.959 0.959 1.712 1.825 2.268 2.543h-4.811v-4.811c0.718 0.556 1.584 1.309 2.543 2.268zM28 29.5c0 0.271-0.229 0.5-0.5 0.5h-23c-0.271 0-0.5-0.229-0.5-0.5v-27c0-0.271 0.229-0.5 0.5-0.5 0 0 15.499-0 15.5 0v7c0 0.552 0.448 1 1 1h7v19.5z\"></path>\n",
       "<path d=\"M23 26h-14c-0.552 0-1-0.448-1-1s0.448-1 1-1h14c0.552 0 1 0.448 1 1s-0.448 1-1 1z\"></path>\n",
       "<path d=\"M23 22h-14c-0.552 0-1-0.448-1-1s0.448-1 1-1h14c0.552 0 1 0.448 1 1s-0.448 1-1 1z\"></path>\n",
       "<path d=\"M23 18h-14c-0.552 0-1-0.448-1-1s0.448-1 1-1h14c0.552 0 1 0.448 1 1s-0.448 1-1 1z\"></path>\n",
       "</symbol>\n",
       "</defs>\n",
       "</svg>\n",
       "<style>/* CSS stylesheet for displaying xarray objects in jupyterlab.\n",
       " *\n",
       " */\n",
       "\n",
       ":root {\n",
       "  --xr-font-color0: var(--jp-content-font-color0, rgba(0, 0, 0, 1));\n",
       "  --xr-font-color2: var(--jp-content-font-color2, rgba(0, 0, 0, 0.54));\n",
       "  --xr-font-color3: var(--jp-content-font-color3, rgba(0, 0, 0, 0.38));\n",
       "  --xr-border-color: var(--jp-border-color2, #e0e0e0);\n",
       "  --xr-disabled-color: var(--jp-layout-color3, #bdbdbd);\n",
       "  --xr-background-color: var(--jp-layout-color0, white);\n",
       "  --xr-background-color-row-even: var(--jp-layout-color1, white);\n",
       "  --xr-background-color-row-odd: var(--jp-layout-color2, #eeeeee);\n",
       "}\n",
       "\n",
       "html[theme=dark],\n",
       "body.vscode-dark {\n",
       "  --xr-font-color0: rgba(255, 255, 255, 1);\n",
       "  --xr-font-color2: rgba(255, 255, 255, 0.54);\n",
       "  --xr-font-color3: rgba(255, 255, 255, 0.38);\n",
       "  --xr-border-color: #1F1F1F;\n",
       "  --xr-disabled-color: #515151;\n",
       "  --xr-background-color: #111111;\n",
       "  --xr-background-color-row-even: #111111;\n",
       "  --xr-background-color-row-odd: #313131;\n",
       "}\n",
       "\n",
       ".xr-wrap {\n",
       "  display: block;\n",
       "  min-width: 300px;\n",
       "  max-width: 700px;\n",
       "}\n",
       "\n",
       ".xr-text-repr-fallback {\n",
       "  /* fallback to plain text repr when CSS is not injected (untrusted notebook) */\n",
       "  display: none;\n",
       "}\n",
       "\n",
       ".xr-header {\n",
       "  padding-top: 6px;\n",
       "  padding-bottom: 6px;\n",
       "  margin-bottom: 4px;\n",
       "  border-bottom: solid 1px var(--xr-border-color);\n",
       "}\n",
       "\n",
       ".xr-header > div,\n",
       ".xr-header > ul {\n",
       "  display: inline;\n",
       "  margin-top: 0;\n",
       "  margin-bottom: 0;\n",
       "}\n",
       "\n",
       ".xr-obj-type,\n",
       ".xr-array-name {\n",
       "  margin-left: 2px;\n",
       "  margin-right: 10px;\n",
       "}\n",
       "\n",
       ".xr-obj-type {\n",
       "  color: var(--xr-font-color2);\n",
       "}\n",
       "\n",
       ".xr-sections {\n",
       "  padding-left: 0 !important;\n",
       "  display: grid;\n",
       "  grid-template-columns: 150px auto auto 1fr 20px 20px;\n",
       "}\n",
       "\n",
       ".xr-section-item {\n",
       "  display: contents;\n",
       "}\n",
       "\n",
       ".xr-section-item input {\n",
       "  display: none;\n",
       "}\n",
       "\n",
       ".xr-section-item input + label {\n",
       "  color: var(--xr-disabled-color);\n",
       "}\n",
       "\n",
       ".xr-section-item input:enabled + label {\n",
       "  cursor: pointer;\n",
       "  color: var(--xr-font-color2);\n",
       "}\n",
       "\n",
       ".xr-section-item input:enabled + label:hover {\n",
       "  color: var(--xr-font-color0);\n",
       "}\n",
       "\n",
       ".xr-section-summary {\n",
       "  grid-column: 1;\n",
       "  color: var(--xr-font-color2);\n",
       "  font-weight: 500;\n",
       "}\n",
       "\n",
       ".xr-section-summary > span {\n",
       "  display: inline-block;\n",
       "  padding-left: 0.5em;\n",
       "}\n",
       "\n",
       ".xr-section-summary-in:disabled + label {\n",
       "  color: var(--xr-font-color2);\n",
       "}\n",
       "\n",
       ".xr-section-summary-in + label:before {\n",
       "  display: inline-block;\n",
       "  content: '►';\n",
       "  font-size: 11px;\n",
       "  width: 15px;\n",
       "  text-align: center;\n",
       "}\n",
       "\n",
       ".xr-section-summary-in:disabled + label:before {\n",
       "  color: var(--xr-disabled-color);\n",
       "}\n",
       "\n",
       ".xr-section-summary-in:checked + label:before {\n",
       "  content: '▼';\n",
       "}\n",
       "\n",
       ".xr-section-summary-in:checked + label > span {\n",
       "  display: none;\n",
       "}\n",
       "\n",
       ".xr-section-summary,\n",
       ".xr-section-inline-details {\n",
       "  padding-top: 4px;\n",
       "  padding-bottom: 4px;\n",
       "}\n",
       "\n",
       ".xr-section-inline-details {\n",
       "  grid-column: 2 / -1;\n",
       "}\n",
       "\n",
       ".xr-section-details {\n",
       "  display: none;\n",
       "  grid-column: 1 / -1;\n",
       "  margin-bottom: 5px;\n",
       "}\n",
       "\n",
       ".xr-section-summary-in:checked ~ .xr-section-details {\n",
       "  display: contents;\n",
       "}\n",
       "\n",
       ".xr-array-wrap {\n",
       "  grid-column: 1 / -1;\n",
       "  display: grid;\n",
       "  grid-template-columns: 20px auto;\n",
       "}\n",
       "\n",
       ".xr-array-wrap > label {\n",
       "  grid-column: 1;\n",
       "  vertical-align: top;\n",
       "}\n",
       "\n",
       ".xr-preview {\n",
       "  color: var(--xr-font-color3);\n",
       "}\n",
       "\n",
       ".xr-array-preview,\n",
       ".xr-array-data {\n",
       "  padding: 0 5px !important;\n",
       "  grid-column: 2;\n",
       "}\n",
       "\n",
       ".xr-array-data,\n",
       ".xr-array-in:checked ~ .xr-array-preview {\n",
       "  display: none;\n",
       "}\n",
       "\n",
       ".xr-array-in:checked ~ .xr-array-data,\n",
       ".xr-array-preview {\n",
       "  display: inline-block;\n",
       "}\n",
       "\n",
       ".xr-dim-list {\n",
       "  display: inline-block !important;\n",
       "  list-style: none;\n",
       "  padding: 0 !important;\n",
       "  margin: 0;\n",
       "}\n",
       "\n",
       ".xr-dim-list li {\n",
       "  display: inline-block;\n",
       "  padding: 0;\n",
       "  margin: 0;\n",
       "}\n",
       "\n",
       ".xr-dim-list:before {\n",
       "  content: '(';\n",
       "}\n",
       "\n",
       ".xr-dim-list:after {\n",
       "  content: ')';\n",
       "}\n",
       "\n",
       ".xr-dim-list li:not(:last-child):after {\n",
       "  content: ',';\n",
       "  padding-right: 5px;\n",
       "}\n",
       "\n",
       ".xr-has-index {\n",
       "  font-weight: bold;\n",
       "}\n",
       "\n",
       ".xr-var-list,\n",
       ".xr-var-item {\n",
       "  display: contents;\n",
       "}\n",
       "\n",
       ".xr-var-item > div,\n",
       ".xr-var-item label,\n",
       ".xr-var-item > .xr-var-name span {\n",
       "  background-color: var(--xr-background-color-row-even);\n",
       "  margin-bottom: 0;\n",
       "}\n",
       "\n",
       ".xr-var-item > .xr-var-name:hover span {\n",
       "  padding-right: 5px;\n",
       "}\n",
       "\n",
       ".xr-var-list > li:nth-child(odd) > div,\n",
       ".xr-var-list > li:nth-child(odd) > label,\n",
       ".xr-var-list > li:nth-child(odd) > .xr-var-name span {\n",
       "  background-color: var(--xr-background-color-row-odd);\n",
       "}\n",
       "\n",
       ".xr-var-name {\n",
       "  grid-column: 1;\n",
       "}\n",
       "\n",
       ".xr-var-dims {\n",
       "  grid-column: 2;\n",
       "}\n",
       "\n",
       ".xr-var-dtype {\n",
       "  grid-column: 3;\n",
       "  text-align: right;\n",
       "  color: var(--xr-font-color2);\n",
       "}\n",
       "\n",
       ".xr-var-preview {\n",
       "  grid-column: 4;\n",
       "}\n",
       "\n",
       ".xr-var-name,\n",
       ".xr-var-dims,\n",
       ".xr-var-dtype,\n",
       ".xr-preview,\n",
       ".xr-attrs dt {\n",
       "  white-space: nowrap;\n",
       "  overflow: hidden;\n",
       "  text-overflow: ellipsis;\n",
       "  padding-right: 10px;\n",
       "}\n",
       "\n",
       ".xr-var-name:hover,\n",
       ".xr-var-dims:hover,\n",
       ".xr-var-dtype:hover,\n",
       ".xr-attrs dt:hover {\n",
       "  overflow: visible;\n",
       "  width: auto;\n",
       "  z-index: 1;\n",
       "}\n",
       "\n",
       ".xr-var-attrs,\n",
       ".xr-var-data {\n",
       "  display: none;\n",
       "  background-color: var(--xr-background-color) !important;\n",
       "  padding-bottom: 5px !important;\n",
       "}\n",
       "\n",
       ".xr-var-attrs-in:checked ~ .xr-var-attrs,\n",
       ".xr-var-data-in:checked ~ .xr-var-data {\n",
       "  display: block;\n",
       "}\n",
       "\n",
       ".xr-var-data > table {\n",
       "  float: right;\n",
       "}\n",
       "\n",
       ".xr-var-name span,\n",
       ".xr-var-data,\n",
       ".xr-attrs {\n",
       "  padding-left: 25px !important;\n",
       "}\n",
       "\n",
       ".xr-attrs,\n",
       ".xr-var-attrs,\n",
       ".xr-var-data {\n",
       "  grid-column: 1 / -1;\n",
       "}\n",
       "\n",
       "dl.xr-attrs {\n",
       "  padding: 0;\n",
       "  margin: 0;\n",
       "  display: grid;\n",
       "  grid-template-columns: 125px auto;\n",
       "}\n",
       "\n",
       ".xr-attrs dt,\n",
       ".xr-attrs dd {\n",
       "  padding: 0;\n",
       "  margin: 0;\n",
       "  float: left;\n",
       "  padding-right: 10px;\n",
       "  width: auto;\n",
       "}\n",
       "\n",
       ".xr-attrs dt {\n",
       "  font-weight: normal;\n",
       "  grid-column: 1;\n",
       "}\n",
       "\n",
       ".xr-attrs dt:hover span {\n",
       "  display: inline-block;\n",
       "  background: var(--xr-background-color);\n",
       "  padding-right: 10px;\n",
       "}\n",
       "\n",
       ".xr-attrs dd {\n",
       "  grid-column: 2;\n",
       "  white-space: pre-wrap;\n",
       "  word-break: break-all;\n",
       "}\n",
       "\n",
       ".xr-icon-database,\n",
       ".xr-icon-file-text2 {\n",
       "  display: inline-block;\n",
       "  vertical-align: middle;\n",
       "  width: 1em;\n",
       "  height: 1.5em !important;\n",
       "  stroke-width: 0;\n",
       "  stroke: currentColor;\n",
       "  fill: currentColor;\n",
       "}\n",
       "</style><pre class='xr-text-repr-fallback'>&lt;xarray.Dataset&gt;\n",
       "Dimensions:   (northing: 140, easting: 126)\n",
       "Coordinates:\n",
       "  * easting   (easting) float64 3.199e+05 3.2e+05 ... 3.323e+05 3.324e+05\n",
       "  * northing  (northing) float64 7.511e+06 7.511e+06 ... 7.525e+06 7.525e+06\n",
       "Data variables:\n",
       "    KPERC     (northing, easting) float64 1.276 1.325 1.385 ... 1.29 1.293 1.304\n",
       "Attributes:\n",
       "    metadata:  Generated by Chain(steps=[(&#x27;trend&#x27;, Trend(degree=2)),\\n       ...</pre><div class='xr-wrap' hidden><div class='xr-header'><div class='xr-obj-type'>xarray.Dataset</div></div><ul class='xr-sections'><li class='xr-section-item'><input id='section-51dd36f8-bc11-4558-907e-e80e1039c194' class='xr-section-summary-in' type='checkbox' disabled ><label for='section-51dd36f8-bc11-4558-907e-e80e1039c194' class='xr-section-summary'  title='Expand/collapse section'>Dimensions:</label><div class='xr-section-inline-details'><ul class='xr-dim-list'><li><span class='xr-has-index'>northing</span>: 140</li><li><span class='xr-has-index'>easting</span>: 126</li></ul></div><div class='xr-section-details'></div></li><li class='xr-section-item'><input id='section-c970ffff-854e-4be3-9096-e199faa37749' class='xr-section-summary-in' type='checkbox'  checked><label for='section-c970ffff-854e-4be3-9096-e199faa37749' class='xr-section-summary' >Coordinates: <span>(2)</span></label><div class='xr-section-inline-details'></div><div class='xr-section-details'><ul class='xr-var-list'><li class='xr-var-item'><div class='xr-var-name'><span class='xr-has-index'>easting</span></div><div class='xr-var-dims'>(easting)</div><div class='xr-var-dtype'>float64</div><div class='xr-var-preview xr-preview'>3.199e+05 3.2e+05 ... 3.324e+05</div><input id='attrs-15c04b23-8d59-4abd-bb09-1a8fcdc401b3' class='xr-var-attrs-in' type='checkbox' disabled><label for='attrs-15c04b23-8d59-4abd-bb09-1a8fcdc401b3' title='Show/Hide attributes'><svg class='icon xr-icon-file-text2'><use xlink:href='#icon-file-text2'></use></svg></label><input id='data-f2facc6a-11d5-45e6-807c-03146490b931' class='xr-var-data-in' type='checkbox'><label for='data-f2facc6a-11d5-45e6-807c-03146490b931' title='Show/Hide data repr'><svg class='icon xr-icon-database'><use xlink:href='#icon-database'></use></svg></label><div class='xr-var-attrs'><dl class='xr-attrs'></dl></div><div class='xr-var-data'><pre>array([319910.867302, 320010.521905, 320110.176508, 320209.831111,\n",
       "       320309.485714, 320409.140317, 320508.794921, 320608.449524,\n",
       "       320708.104127, 320807.75873 , 320907.413333, 321007.067937,\n",
       "       321106.72254 , 321206.377143, 321306.031746, 321405.686349,\n",
       "       321505.340952, 321604.995556, 321704.650159, 321804.304762,\n",
       "       321903.959365, 322003.613968, 322103.268571, 322202.923175,\n",
       "       322302.577778, 322402.232381, 322501.886984, 322601.541587,\n",
       "       322701.19619 , 322800.850794, 322900.505397, 323000.16    ,\n",
       "       323099.814603, 323199.469206, 323299.12381 , 323398.778413,\n",
       "       323498.433016, 323598.087619, 323697.742222, 323797.396825,\n",
       "       323897.051429, 323996.706032, 324096.360635, 324196.015238,\n",
       "       324295.669841, 324395.324444, 324494.979048, 324594.633651,\n",
       "       324694.288254, 324793.942857, 324893.59746 , 324993.252063,\n",
       "       325092.906667, 325192.56127 , 325292.215873, 325391.870476,\n",
       "       325491.525079, 325591.179683, 325690.834286, 325790.488889,\n",
       "       325890.143492, 325989.798095, 326089.452698, 326189.107302,\n",
       "       326288.761905, 326388.416508, 326488.071111, 326587.725714,\n",
       "       326687.380317, 326787.034921, 326886.689524, 326986.344127,\n",
       "       327085.99873 , 327185.653333, 327285.307937, 327384.96254 ,\n",
       "       327484.617143, 327584.271746, 327683.926349, 327783.580952,\n",
       "       327883.235556, 327982.890159, 328082.544762, 328182.199365,\n",
       "       328281.853968, 328381.508571, 328481.163175, 328580.817778,\n",
       "       328680.472381, 328780.126984, 328879.781587, 328979.43619 ,\n",
       "       329079.090794, 329178.745397, 329278.4     , 329378.054603,\n",
       "       329477.709206, 329577.36381 , 329677.018413, 329776.673016,\n",
       "       329876.327619, 329975.982222, 330075.636825, 330175.291429,\n",
       "       330274.946032, 330374.600635, 330474.255238, 330573.909841,\n",
       "       330673.564444, 330773.219048, 330872.873651, 330972.528254,\n",
       "       331072.182857, 331171.83746 , 331271.492063, 331371.146667,\n",
       "       331470.80127 , 331570.455873, 331670.110476, 331769.765079,\n",
       "       331869.419683, 331969.074286, 332068.728889, 332168.383492,\n",
       "       332268.038095, 332367.692698])</pre></div></li><li class='xr-var-item'><div class='xr-var-name'><span class='xr-has-index'>northing</span></div><div class='xr-var-dims'>(northing)</div><div class='xr-var-dtype'>float64</div><div class='xr-var-preview xr-preview'>7.511e+06 7.511e+06 ... 7.525e+06</div><input id='attrs-8e1a79ae-8987-4f28-936b-e9e72a0ad0b0' class='xr-var-attrs-in' type='checkbox' disabled><label for='attrs-8e1a79ae-8987-4f28-936b-e9e72a0ad0b0' title='Show/Hide attributes'><svg class='icon xr-icon-file-text2'><use xlink:href='#icon-file-text2'></use></svg></label><input id='data-7d84fd75-2c1d-4139-b148-58018e36071b' class='xr-var-data-in' type='checkbox'><label for='data-7d84fd75-2c1d-4139-b148-58018e36071b' title='Show/Hide data repr'><svg class='icon xr-icon-database'><use xlink:href='#icon-database'></use></svg></label><div class='xr-var-attrs'><dl class='xr-attrs'></dl></div><div class='xr-var-data'><pre>array([7510827.588893, 7510927.466679, 7511027.344464, 7511127.22225 ,\n",
       "       7511227.100036, 7511326.977821, 7511426.855607, 7511526.733393,\n",
       "       7511626.611179, 7511726.488964, 7511826.36675 , 7511926.244536,\n",
       "       7512026.122321, 7512126.000107, 7512225.877893, 7512325.755679,\n",
       "       7512425.633464, 7512525.51125 , 7512625.389036, 7512725.266821,\n",
       "       7512825.144607, 7512925.022393, 7513024.900179, 7513124.777964,\n",
       "       7513224.65575 , 7513324.533536, 7513424.411321, 7513524.289107,\n",
       "       7513624.166893, 7513724.044679, 7513823.922464, 7513923.80025 ,\n",
       "       7514023.678036, 7514123.555821, 7514223.433607, 7514323.311393,\n",
       "       7514423.189179, 7514523.066964, 7514622.94475 , 7514722.822536,\n",
       "       7514822.700321, 7514922.578107, 7515022.455893, 7515122.333679,\n",
       "       7515222.211464, 7515322.08925 , 7515421.967036, 7515521.844821,\n",
       "       7515621.722607, 7515721.600393, 7515821.478179, 7515921.355964,\n",
       "       7516021.23375 , 7516121.111536, 7516220.989321, 7516320.867107,\n",
       "       7516420.744893, 7516520.622679, 7516620.500464, 7516720.37825 ,\n",
       "       7516820.256036, 7516920.133821, 7517020.011607, 7517119.889393,\n",
       "       7517219.767179, 7517319.644964, 7517419.52275 , 7517519.400536,\n",
       "       7517619.278321, 7517719.156107, 7517819.033893, 7517918.911679,\n",
       "       7518018.789464, 7518118.66725 , 7518218.545036, 7518318.422821,\n",
       "       7518418.300607, 7518518.178393, 7518618.056179, 7518717.933964,\n",
       "       7518817.81175 , 7518917.689536, 7519017.567321, 7519117.445107,\n",
       "       7519217.322893, 7519317.200679, 7519417.078464, 7519516.95625 ,\n",
       "       7519616.834036, 7519716.711821, 7519816.589607, 7519916.467393,\n",
       "       7520016.345179, 7520116.222964, 7520216.10075 , 7520315.978536,\n",
       "       7520415.856321, 7520515.734107, 7520615.611893, 7520715.489679,\n",
       "       7520815.367464, 7520915.24525 , 7521015.123036, 7521115.000821,\n",
       "       7521214.878607, 7521314.756393, 7521414.634179, 7521514.511964,\n",
       "       7521614.38975 , 7521714.267536, 7521814.145321, 7521914.023107,\n",
       "       7522013.900893, 7522113.778679, 7522213.656464, 7522313.53425 ,\n",
       "       7522413.412036, 7522513.289821, 7522613.167607, 7522713.045393,\n",
       "       7522812.923179, 7522912.800964, 7523012.67875 , 7523112.556536,\n",
       "       7523212.434321, 7523312.312107, 7523412.189893, 7523512.067679,\n",
       "       7523611.945464, 7523711.82325 , 7523811.701036, 7523911.578821,\n",
       "       7524011.456607, 7524111.334393, 7524211.212179, 7524311.089964,\n",
       "       7524410.96775 , 7524510.845536, 7524610.723321, 7524710.601107])</pre></div></li></ul></div></li><li class='xr-section-item'><input id='section-8a558b08-c362-40a3-a171-1171790814e0' class='xr-section-summary-in' type='checkbox'  checked><label for='section-8a558b08-c362-40a3-a171-1171790814e0' class='xr-section-summary' >Data variables: <span>(1)</span></label><div class='xr-section-inline-details'></div><div class='xr-section-details'><ul class='xr-var-list'><li class='xr-var-item'><div class='xr-var-name'><span>KPERC</span></div><div class='xr-var-dims'>(northing, easting)</div><div class='xr-var-dtype'>float64</div><div class='xr-var-preview xr-preview'>1.276 1.325 1.385 ... 1.293 1.304</div><input id='attrs-3dc5b45b-0d25-4d58-96c1-0b998efa914e' class='xr-var-attrs-in' type='checkbox' ><label for='attrs-3dc5b45b-0d25-4d58-96c1-0b998efa914e' title='Show/Hide attributes'><svg class='icon xr-icon-file-text2'><use xlink:href='#icon-file-text2'></use></svg></label><input id='data-c20e2554-984d-4927-bf66-fb9b0eccdd99' class='xr-var-data-in' type='checkbox'><label for='data-c20e2554-984d-4927-bf66-fb9b0eccdd99' title='Show/Hide data repr'><svg class='icon xr-icon-database'><use xlink:href='#icon-database'></use></svg></label><div class='xr-var-attrs'><dl class='xr-attrs'><dt><span>metadata :</span></dt><dd>Generated by Chain(steps=[(&#x27;trend&#x27;, Trend(degree=2)),\n",
       "             (&#x27;reduce&#x27;,\n",
       "              BlockReduce(reduction=&lt;function median at 0x7f120a0e4830&gt;,\n",
       "                          spacing=499)),\n",
       "             (&#x27;spline&#x27;, Spline())])</dd></dl></div><div class='xr-var-data'><pre>array([[1.2761376 , 1.3254614 , 1.38527233, ..., 1.37345114, 1.3923939 ,\n",
       "        1.41064125],\n",
       "       [1.25332302, 1.29699838, 1.35118311, ..., 1.35549588, 1.37762387,\n",
       "        1.39745998],\n",
       "       [1.24131096, 1.28072352, 1.32814553, ..., 1.34305716, 1.37030933,\n",
       "        1.39301174],\n",
       "       ...,\n",
       "       [0.67450219, 0.66802146, 0.65859541, ..., 1.23987187, 1.25728133,\n",
       "        1.28172311],\n",
       "       [0.65545652, 0.6511089 , 0.64298019, ..., 1.26692532, 1.27274832,\n",
       "        1.28802009],\n",
       "       [0.6301568 , 0.62818252, 0.6225314 , ..., 1.28981483, 1.29263838,\n",
       "        1.3038459 ]])</pre></div></li></ul></div></li><li class='xr-section-item'><input id='section-522731f9-9d82-41bb-b9d6-aa46f3240a48' class='xr-section-summary-in' type='checkbox'  checked><label for='section-522731f9-9d82-41bb-b9d6-aa46f3240a48' class='xr-section-summary' >Attributes: <span>(1)</span></label><div class='xr-section-inline-details'></div><div class='xr-section-details'><dl class='xr-attrs'><dt><span>metadata :</span></dt><dd>Generated by Chain(steps=[(&#x27;trend&#x27;, Trend(degree=2)),\n",
       "             (&#x27;reduce&#x27;,\n",
       "              BlockReduce(reduction=&lt;function median at 0x7f120a0e4830&gt;,\n",
       "                          spacing=499)),\n",
       "             (&#x27;spline&#x27;, Spline())])</dd></dl></div></li></ul></div></div>"
      ],
      "text/plain": [
       "<xarray.Dataset>\n",
       "Dimensions:   (northing: 140, easting: 126)\n",
       "Coordinates:\n",
       "  * easting   (easting) float64 3.199e+05 3.2e+05 ... 3.323e+05 3.324e+05\n",
       "  * northing  (northing) float64 7.511e+06 7.511e+06 ... 7.525e+06 7.525e+06\n",
       "Data variables:\n",
       "    KPERC     (northing, easting) float64 1.276 1.325 1.385 ... 1.29 1.293 1.304\n",
       "Attributes:\n",
       "    metadata:  Generated by Chain(steps=[('trend', Trend(degree=2)),\\n       ..."
      ]
     },
     "execution_count": 40,
     "metadata": {},
     "output_type": "execute_result"
    }
   ],
   "source": [
    "grids['KPERC']"
   ]
  },
  {
   "cell_type": "code",
   "execution_count": 41,
   "metadata": {},
   "outputs": [
    {
     "data": {
      "text/html": [
       "<div>\n",
       "<style scoped>\n",
       "    .dataframe tbody tr th:only-of-type {\n",
       "        vertical-align: middle;\n",
       "    }\n",
       "\n",
       "    .dataframe tbody tr th {\n",
       "        vertical-align: top;\n",
       "    }\n",
       "\n",
       "    .dataframe thead th {\n",
       "        text-align: right;\n",
       "    }\n",
       "</style>\n",
       "<table border=\"1\" class=\"dataframe\">\n",
       "  <thead>\n",
       "    <tr style=\"text-align: right;\">\n",
       "      <th></th>\n",
       "      <th>northing</th>\n",
       "      <th>easting</th>\n",
       "      <th>KPERC</th>\n",
       "      <th>eU</th>\n",
       "      <th>eTH</th>\n",
       "      <th>MDT</th>\n",
       "      <th>CTCOR</th>\n",
       "    </tr>\n",
       "  </thead>\n",
       "  <tbody>\n",
       "    <tr>\n",
       "      <th>count</th>\n",
       "      <td>1.764000e+04</td>\n",
       "      <td>17640.000000</td>\n",
       "      <td>17640.000000</td>\n",
       "      <td>17640.000000</td>\n",
       "      <td>17640.000000</td>\n",
       "      <td>17640.000000</td>\n",
       "      <td>17640.000000</td>\n",
       "    </tr>\n",
       "    <tr>\n",
       "      <th>mean</th>\n",
       "      <td>7.517769e+06</td>\n",
       "      <td>326139.280000</td>\n",
       "      <td>1.545367</td>\n",
       "      <td>1.680437</td>\n",
       "      <td>15.120104</td>\n",
       "      <td>795.093201</td>\n",
       "      <td>7.503849</td>\n",
       "    </tr>\n",
       "    <tr>\n",
       "      <th>std</th>\n",
       "      <td>4.036524e+03</td>\n",
       "      <td>3624.732138</td>\n",
       "      <td>0.606718</td>\n",
       "      <td>0.525521</td>\n",
       "      <td>5.467531</td>\n",
       "      <td>119.494334</td>\n",
       "      <td>2.776646</td>\n",
       "    </tr>\n",
       "    <tr>\n",
       "      <th>min</th>\n",
       "      <td>7.510828e+06</td>\n",
       "      <td>319910.867302</td>\n",
       "      <td>0.445528</td>\n",
       "      <td>0.175163</td>\n",
       "      <td>3.704798</td>\n",
       "      <td>616.999870</td>\n",
       "      <td>1.831380</td>\n",
       "    </tr>\n",
       "    <tr>\n",
       "      <th>1%</th>\n",
       "      <td>7.510927e+06</td>\n",
       "      <td>320010.521905</td>\n",
       "      <td>0.565948</td>\n",
       "      <td>0.604992</td>\n",
       "      <td>6.344530</td>\n",
       "      <td>629.447310</td>\n",
       "      <td>2.920585</td>\n",
       "    </tr>\n",
       "    <tr>\n",
       "      <th>10%</th>\n",
       "      <td>7.512216e+06</td>\n",
       "      <td>321106.722540</td>\n",
       "      <td>0.870830</td>\n",
       "      <td>1.020001</td>\n",
       "      <td>8.671698</td>\n",
       "      <td>656.100153</td>\n",
       "      <td>4.186573</td>\n",
       "    </tr>\n",
       "    <tr>\n",
       "      <th>25%</th>\n",
       "      <td>7.514298e+06</td>\n",
       "      <td>323000.160000</td>\n",
       "      <td>1.121252</td>\n",
       "      <td>1.324673</td>\n",
       "      <td>11.190906</td>\n",
       "      <td>693.888593</td>\n",
       "      <td>5.436542</td>\n",
       "    </tr>\n",
       "    <tr>\n",
       "      <th>50%</th>\n",
       "      <td>7.517769e+06</td>\n",
       "      <td>326139.280000</td>\n",
       "      <td>1.415743</td>\n",
       "      <td>1.639932</td>\n",
       "      <td>14.278994</td>\n",
       "      <td>773.570055</td>\n",
       "      <td>7.080515</td>\n",
       "    </tr>\n",
       "    <tr>\n",
       "      <th>75%</th>\n",
       "      <td>7.521240e+06</td>\n",
       "      <td>329278.400000</td>\n",
       "      <td>1.868236</td>\n",
       "      <td>2.016164</td>\n",
       "      <td>18.261295</td>\n",
       "      <td>874.349450</td>\n",
       "      <td>9.207367</td>\n",
       "    </tr>\n",
       "    <tr>\n",
       "      <th>99.5%</th>\n",
       "      <td>7.524711e+06</td>\n",
       "      <td>332367.692698</td>\n",
       "      <td>3.403736</td>\n",
       "      <td>3.213226</td>\n",
       "      <td>34.844815</td>\n",
       "      <td>1141.739583</td>\n",
       "      <td>16.059823</td>\n",
       "    </tr>\n",
       "    <tr>\n",
       "      <th>max</th>\n",
       "      <td>7.524711e+06</td>\n",
       "      <td>332367.692698</td>\n",
       "      <td>3.855270</td>\n",
       "      <td>3.665561</td>\n",
       "      <td>43.745143</td>\n",
       "      <td>1172.953423</td>\n",
       "      <td>19.535884</td>\n",
       "    </tr>\n",
       "  </tbody>\n",
       "</table>\n",
       "</div>"
      ],
      "text/plain": [
       "           northing        easting         KPERC            eU           eTH  \\\n",
       "count  1.764000e+04   17640.000000  17640.000000  17640.000000  17640.000000   \n",
       "mean   7.517769e+06  326139.280000      1.545367      1.680437     15.120104   \n",
       "std    4.036524e+03    3624.732138      0.606718      0.525521      5.467531   \n",
       "min    7.510828e+06  319910.867302      0.445528      0.175163      3.704798   \n",
       "1%     7.510927e+06  320010.521905      0.565948      0.604992      6.344530   \n",
       "10%    7.512216e+06  321106.722540      0.870830      1.020001      8.671698   \n",
       "25%    7.514298e+06  323000.160000      1.121252      1.324673     11.190906   \n",
       "50%    7.517769e+06  326139.280000      1.415743      1.639932     14.278994   \n",
       "75%    7.521240e+06  329278.400000      1.868236      2.016164     18.261295   \n",
       "99.5%  7.524711e+06  332367.692698      3.403736      3.213226     34.844815   \n",
       "max    7.524711e+06  332367.692698      3.855270      3.665561     43.745143   \n",
       "\n",
       "                MDT         CTCOR  \n",
       "count  17640.000000  17640.000000  \n",
       "mean     795.093201      7.503849  \n",
       "std      119.494334      2.776646  \n",
       "min      616.999870      1.831380  \n",
       "1%       629.447310      2.920585  \n",
       "10%      656.100153      4.186573  \n",
       "25%      693.888593      5.436542  \n",
       "50%      773.570055      7.080515  \n",
       "75%      874.349450      9.207367  \n",
       "99.5%   1141.739583     16.059823  \n",
       "max     1172.953423     19.535884  "
      ]
     },
     "execution_count": 41,
     "metadata": {},
     "output_type": "execute_result"
    }
   ],
   "source": [
    "df_describe"
   ]
  },
  {
   "cell_type": "code",
   "execution_count": 42,
   "metadata": {
    "scrolled": false
   },
   "outputs": [
    {
     "data": {
      "application/vnd.jupyter.widget-view+json": {
       "model_id": "7708d25611ec466583de0be717689119",
       "version_major": 2,
       "version_minor": 0
      },
      "text/plain": [
       "Canvas(toolbar=Toolbar(toolitems=[('Home', 'Reset original view', 'home', 'home'), ('Back', 'Back to previous …"
      ]
     },
     "metadata": {},
     "output_type": "display_data"
    },
    {
     "data": {
      "application/vnd.jupyter.widget-view+json": {
       "model_id": "879c3fd88b19437ab7395e2a44fb5cea",
       "version_major": 2,
       "version_minor": 0
      },
      "text/plain": [
       "Canvas(toolbar=Toolbar(toolitems=[('Home', 'Reset original view', 'home', 'home'), ('Back', 'Back to previous …"
      ]
     },
     "metadata": {},
     "output_type": "display_data"
    },
    {
     "name": "stderr",
     "output_type": "stream",
     "text": [
      "/root/anaconda3/envs/geologist_bot/lib/python3.7/site-packages/ipykernel_launcher.py:2: RuntimeWarning: More than 20 figures have been opened. Figures created through the pyplot interface (`matplotlib.pyplot.figure`) are retained until explicitly closed and may consume too much memory. (To control this warning, see the rcParam `figure.max_open_warning`).\n",
      "  \n"
     ]
    },
    {
     "data": {
      "application/vnd.jupyter.widget-view+json": {
       "model_id": "e7e3b1f3290f49e0a2b04fe7801ca36d",
       "version_major": 2,
       "version_minor": 0
      },
      "text/plain": [
       "Canvas(toolbar=Toolbar(toolitems=[('Home', 'Reset original view', 'home', 'home'), ('Back', 'Back to previous …"
      ]
     },
     "metadata": {},
     "output_type": "display_data"
    },
    {
     "data": {
      "application/vnd.jupyter.widget-view+json": {
       "model_id": "510dc8c38f9e4b3d839444191915bb81",
       "version_major": 2,
       "version_minor": 0
      },
      "text/plain": [
       "Canvas(toolbar=Toolbar(toolitems=[('Home', 'Reset original view', 'home', 'home'), ('Back', 'Back to previous …"
      ]
     },
     "metadata": {},
     "output_type": "display_data"
    },
    {
     "data": {
      "application/vnd.jupyter.widget-view+json": {
       "model_id": "3c38d29306bc4f2bb917f96edb96faf3",
       "version_major": 2,
       "version_minor": 0
      },
      "text/plain": [
       "Canvas(toolbar=Toolbar(toolitems=[('Home', 'Reset original view', 'home', 'home'), ('Back', 'Back to previous …"
      ]
     },
     "metadata": {},
     "output_type": "display_data"
    }
   ],
   "source": [
    "for ax, f in zip(grids, dic_titles):\n",
    "    plt.figure()\n",
    "    vmin=df_describe[f]['1%']\n",
    "    vmax=df_describe[f]['99.5%']\n",
    "    grids[f][f].plot(cmap='rainbow',vmin=vmin,vmax=vmax)\n",
    "    plt.axis('scaled')  "
   ]
  },
  {
   "cell_type": "code",
   "execution_count": 43,
   "metadata": {},
   "outputs": [],
   "source": [
    "import Custom_Stats_fabio\n",
    "import seaborn as sns"
   ]
  },
  {
   "cell_type": "code",
   "execution_count": 44,
   "metadata": {},
   "outputs": [],
   "source": [
    "def plotBoxplots(df, cols = None):\n",
    "    n = len(cols)\n",
    "    fig, axs = plt.subplots(n, 1, figsize = (9, n * 2))\n",
    "    \n",
    "    for ax, f in zip(axs, cols):\n",
    "        sns.boxplot(y = f, x = 'closest_unid', data = df, ax = ax)\n",
    "        if f != cols[n - 1]:\n",
    "            ax.axes.get_xaxis().set_visible(False)"
   ]
  },
  {
   "cell_type": "code",
   "execution_count": 296,
   "metadata": {},
   "outputs": [],
   "source": [
    "lista_canal=['KPERC', 'eU', 'eTH', 'MDT', 'CTCOR']"
   ]
  },
  {
   "cell_type": "code",
   "execution_count": 297,
   "metadata": {
    "scrolled": false
   },
   "outputs": [
    {
     "data": {
      "application/vnd.jupyter.widget-view+json": {
       "model_id": "b844000927544d91867644eaf61534e2",
       "version_major": 2,
       "version_minor": 0
      },
      "text/plain": [
       "Canvas(toolbar=Toolbar(toolitems=[('Home', 'Reset original view', 'home', 'home'), ('Back', 'Back to previous …"
      ]
     },
     "metadata": {},
     "output_type": "display_data"
    }
   ],
   "source": [
    "plotBoxplots(dataframe, cols = lista_canal)"
   ]
  },
  {
   "cell_type": "code",
   "execution_count": 47,
   "metadata": {},
   "outputs": [
    {
     "data": {
      "text/plain": [
       "['KPERC', 'eU', 'eTH', 'MDT', 'CTCOR', 'closest_unid']"
      ]
     },
     "execution_count": 47,
     "metadata": {},
     "output_type": "execute_result"
    }
   ],
   "source": [
    "lista_canal.append('closest_unid')"
   ]
  },
  {
   "cell_type": "code",
   "execution_count": 48,
   "metadata": {},
   "outputs": [],
   "source": [
    "data=dataframe"
   ]
  },
  {
   "cell_type": "code",
   "execution_count": 281,
   "metadata": {},
   "outputs": [
    {
     "data": {
      "application/vnd.jupyter.widget-view+json": {
       "model_id": "d89cd5cf2dbf459d9a4d6759b335808a",
       "version_major": 2,
       "version_minor": 0
      },
      "text/plain": [
       "Canvas(toolbar=Toolbar(toolitems=[('Home', 'Reset original view', 'home', 'home'), ('Back', 'Back to previous …"
      ]
     },
     "metadata": {},
     "output_type": "display_data"
    }
   ],
   "source": [
    "# Dicionário de features\n",
    "titles = [ 'K (%)', 'U (ppm)', 'Th (ppm)', 'MDT (m)',\n",
    "          'Contagem Total (μR/h)','closest_unid']\n",
    "dic_titles = {}\n",
    "for f, t in zip(lista_canal, titles):\n",
    "    dic_titles[f] = t\n",
    "    \n",
    "\n",
    "fig, axs = plt.subplots(nrows = 3, ncols = 2, figsize = (7, 6))\n",
    "\n",
    "for ax, gf in zip(axs.flat, lista_canal):\n",
    "    g = ax.hist(data[gf], color = 'lightblue', edgecolor = 'black')\n",
    "    ax.set_title(str(dic_titles[gf]), size = 9)\n",
    "\n",
    "plt.tight_layout()"
   ]
  },
  {
   "cell_type": "markdown",
   "metadata": {},
   "source": [
    "#### SF23_Y_A_III_4_SE"
   ]
  },
  {
   "cell_type": "code",
   "execution_count": 53,
   "metadata": {
    "scrolled": true
   },
   "outputs": [
    {
     "data": {
      "application/vnd.jupyter.widget-view+json": {
       "model_id": "9113353be87c439a9b97aec4d0118cc5",
       "version_major": 2,
       "version_minor": 0
      },
      "text/plain": [
       "Canvas(toolbar=Toolbar(toolitems=[('Home', 'Reset original view', 'home', 'home'), ('Back', 'Back to previous …"
      ]
     },
     "metadata": {},
     "output_type": "display_data"
    },
    {
     "data": {
      "application/vnd.jupyter.widget-view+json": {
       "model_id": "ebd6c2b5012f4af9814f601b26a2f898",
       "version_major": 2,
       "version_minor": 0
      },
      "text/plain": [
       "Canvas(toolbar=Toolbar(toolitems=[('Home', 'Reset original view', 'home', 'home'), ('Back', 'Back to previous …"
      ]
     },
     "metadata": {},
     "output_type": "display_data"
    },
    {
     "data": {
      "application/vnd.jupyter.widget-view+json": {
       "model_id": "cec6d6098b4948d19cc4f9e004582463",
       "version_major": 2,
       "version_minor": 0
      },
      "text/plain": [
       "Canvas(toolbar=Toolbar(toolitems=[('Home', 'Reset original view', 'home', 'home'), ('Back', 'Back to previous …"
      ]
     },
     "metadata": {},
     "output_type": "display_data"
    },
    {
     "data": {
      "application/vnd.jupyter.widget-view+json": {
       "model_id": "e5224646eeb341a7a3e33f3436fc06ef",
       "version_major": 2,
       "version_minor": 0
      },
      "text/plain": [
       "Canvas(toolbar=Toolbar(toolitems=[('Home', 'Reset original view', 'home', 'home'), ('Back', 'Back to previous …"
      ]
     },
     "metadata": {},
     "output_type": "display_data"
    },
    {
     "data": {
      "application/vnd.jupyter.widget-view+json": {
       "model_id": "987a82202d934c17bb3a0bfd6af13ef6",
       "version_major": 2,
       "version_minor": 0
      },
      "text/plain": [
       "Canvas(toolbar=Toolbar(toolitems=[('Home', 'Reset original view', 'home', 'home'), ('Back', 'Back to previous …"
      ]
     },
     "metadata": {},
     "output_type": "display_data"
    }
   ],
   "source": [
    "scores = dic_cartas['scores']['SF23_Y_A_III_4_SE']\n",
    "dic_titles = list(dic_cartas['scores']['SF23_Y_A_III_4_SE'].keys())\n",
    "\n",
    "for ax, f in zip(scores, dic_titles):\n",
    "    plt.figure(f,figsize=(4,4))\n",
    "    plt.hist(scores[f], bins ='auto')"
   ]
  },
  {
   "cell_type": "code",
   "execution_count": 290,
   "metadata": {},
   "outputs": [
    {
     "name": "stdout",
     "output_type": "stream",
     "text": [
      "epsg:32723\n"
     ]
    },
    {
     "data": {
      "application/vnd.jupyter.widget-view+json": {
       "model_id": "ffe292765ced40318ffe70b802fa9ad8",
       "version_major": 2,
       "version_minor": 0
      },
      "text/plain": [
       "Canvas(toolbar=Toolbar(toolitems=[('Home', 'Reset original view', 'home', 'home'), ('Back', 'Back to previous …"
      ]
     },
     "metadata": {},
     "output_type": "display_data"
    },
    {
     "data": {
      "text/plain": [
       "(332288.074848, 345953.08515199996, 7510278.750246429, 7525535.319753571)"
      ]
     },
     "execution_count": 290,
     "metadata": {},
     "output_type": "execute_result"
    }
   ],
   "source": [
    "geodataframe = dic_cartas['lito_geof']['SF23_Y_A_III_4_SE'].set_geometry('geometry')\n",
    "print(geodataframe.crs)\n",
    "geodataframe.plot('closest_unid')\n",
    "plt.title(label='Unidade litológica mais próxima da amostragem')\n",
    "plt.axis('scaled')"
   ]
  },
  {
   "cell_type": "code",
   "execution_count": 291,
   "metadata": {},
   "outputs": [
    {
     "data": {
      "application/vnd.jupyter.widget-view+json": {
       "model_id": "fce23f33eca14a02a2e6cbd7f82c8e2d",
       "version_major": 2,
       "version_minor": 0
      },
      "text/plain": [
       "Canvas(toolbar=Toolbar(toolitems=[('Home', 'Reset original view', 'home', 'home'), ('Back', 'Back to previous …"
      ]
     },
     "metadata": {},
     "output_type": "display_data"
    }
   ],
   "source": [
    "import Custom_Stats_fabio\n",
    "import seaborn as sns\n",
    "\n",
    "dataframe =  dic_cartas['lito_geof']['SF23_Y_A_III_4_SE']\n",
    "lista_canal=['KPERC', 'eU', 'eTH', 'MDT', 'CTCOR']\n",
    "\n",
    "plotBoxplots(dataframe, cols = lista_canal)"
   ]
  },
  {
   "cell_type": "code",
   "execution_count": 293,
   "metadata": {},
   "outputs": [
    {
     "data": {
      "application/vnd.jupyter.widget-view+json": {
       "model_id": "a7fcb9c498cc4f5aabdbe4fcdfb371c3",
       "version_major": 2,
       "version_minor": 0
      },
      "text/plain": [
       "Canvas(toolbar=Toolbar(toolitems=[('Home', 'Reset original view', 'home', 'home'), ('Back', 'Back to previous …"
      ]
     },
     "metadata": {},
     "output_type": "display_data"
    }
   ],
   "source": [
    "lista_canal.append('closest_unid')\n",
    "data=dataframe\n",
    "\n",
    "# Dicionário de features\n",
    "titles = [ 'K (%)', 'U (ppm)', 'Th (ppm)', 'MDT (m)',\n",
    "          'Contagem Total (μR/h)','closest_unid']\n",
    "dic_titles = {}\n",
    "for f, t in zip(lista_canal, titles):\n",
    "    dic_titles[f] = t\n",
    "    \n",
    "\n",
    "fig, axs = plt.subplots(nrows = 3, ncols = 2, figsize = (9, 6))\n",
    "\n",
    "for ax, gf in zip(axs.flat, lista_canal):\n",
    "    g = ax.hist(data[gf], color = 'lightblue', edgecolor = 'black')\n",
    "    ax.set_title(str(dic_titles[gf]), size = 9)\n",
    "\n",
    "plt.tight_layout()"
   ]
  },
  {
   "cell_type": "code",
   "execution_count": null,
   "metadata": {},
   "outputs": [],
   "source": []
  }
 ],
 "metadata": {
  "interpreter": {
   "hash": "2bc076d9378ac5ac660ba4f6a46900d2ea3732140aaa213526ceb6851acbc3f5"
  },
  "kernelspec": {
   "display_name": "Python 3 (ipykernel)",
   "language": "python",
   "name": "python3"
  },
  "language_info": {
   "codemirror_mode": {
    "name": "ipython",
    "version": 3
   },
   "file_extension": ".py",
   "mimetype": "text/x-python",
   "name": "python",
   "nbconvert_exporter": "python",
   "pygments_lexer": "ipython3",
   "version": "3.7.11"
  }
 },
 "nbformat": 4,
 "nbformat_minor": 4
}
