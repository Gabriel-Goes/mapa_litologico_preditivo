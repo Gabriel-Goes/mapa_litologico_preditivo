{
 "cells": [
  {
   "cell_type": "markdown",
   "source": [
    "### Functions for automating model selection through cross-validation."
   ],
   "metadata": {}
  },
  {
   "cell_type": "code",
   "execution_count": 2,
   "source": [
    "import verde as vd\n",
    "import pandas as pd\n",
    "import numpy as np\n",
    "\n",
    "import matplotlib.pyplot as plt\n",
    "\n",
    "import pyproj\n",
    "from shapely import geometry\n",
    "\n",
    "from sources import source_code as f\n",
    "\n",
    "%matplotlib widget"
   ],
   "outputs": [],
   "metadata": {}
  },
  {
   "cell_type": "markdown",
   "source": [
    "# Tutorial"
   ],
   "metadata": {}
  },
  {
   "cell_type": "code",
   "execution_count": 2,
   "source": [
    "dic_cartas,dic_raw_metadata = f.get_region('100k','SC23_Z_A_IV','gama_1089')\n",
    "data = dic_cartas['raw_data']['SC23_Z_A_IV']"
   ],
   "outputs": [
    {
     "output_type": "stream",
     "name": "stdout",
     "text": [
      "importando dados geofisicos\n",
      "# --- Iniciando seleção de área de estudo\n",
      "1 folha cartográfica selecionada\n",
      "\n",
      "Listando atributos dos dados geofisicos\n",
      "# --- # Listagem de dados do aerolevantamento:  \n",
      "Lista de atributos geofísicos = ['MDT', 'KPERC', 'eU', 'eth', 'CTCOR', 'THKRAZAO', 'UKRAZAO', 'UTHRAZAO']\n",
      "lista de atributos geograficos = ['LONGITUDE', 'LATITUDE']\n",
      "lista de atributos projetados = ['X', 'Y']\n"
     ]
    },
    {
     "output_type": "stream",
     "name": "stderr",
     "text": [
      "/home/ggrl/anaconda3/envs/geologist_bot/lib/python3.8/site-packages/geopandas/geodataframe.py:1322: SettingWithCopyWarning: \n",
      "A value is trying to be set on a copy of a slice from a DataFrame.\n",
      "Try using .loc[row_indexer,col_indexer] = value instead\n",
      "\n",
      "See the caveats in the documentation: https://pandas.pydata.org/pandas-docs/stable/user_guide/indexing.html#returning-a-view-versus-a-copy\n",
      "  super(GeoDataFrame, self).__setitem__(key, value)\n"
     ]
    },
    {
     "output_type": "stream",
     "name": "stdout",
     "text": [
      "\n",
      "# --- Início da iteração entre as folhas cartográficas #\n",
      "# Folha de código: SC23_Z_A_IV\n",
      " Atualizando dados brutos em dic_cartas['raw_data']\n",
      " com 81859 pontos\n"
     ]
    }
   ],
   "metadata": {}
  },
  {
   "cell_type": "code",
   "execution_count": 8,
   "source": [
    "print(f'Chaves do dicionario principal: {list(dic_cartas.keys())}')"
   ],
   "outputs": [
    {
     "output_type": "stream",
     "name": "stdout",
     "text": [
      "Chaves do dicionario principal: ['region', 'region_proj', 'raw_data', 'interpolado', 'scores', 'lito_geof', 'mean_score']\n"
     ]
    }
   ],
   "metadata": {}
  },
  {
   "cell_type": "code",
   "execution_count": 10,
   "source": [
    "print(f'Chaves do dicionario de metadados: {dic_raw_metadata.keys()}')"
   ],
   "outputs": [
    {
     "output_type": "stream",
     "name": "stdout",
     "text": [
      "Chaves do dicionario de metadados: dict_keys(['Metadata', 'Lista_id', 'Lista_at_geof', 'Lista_at_geog', 'Lista_at_proj', 'Percentiles', 'Malha_cartografica'])\n"
     ]
    }
   ],
   "metadata": {}
  },
  {
   "cell_type": "code",
   "execution_count": 11,
   "source": [
    "dic_cartas['raw_data']['SC23_Z_A_IV']"
   ],
   "outputs": [
    {
     "output_type": "execute_result",
     "data": {
      "text/html": [
       "<div>\n",
       "<style scoped>\n",
       "    .dataframe tbody tr th:only-of-type {\n",
       "        vertical-align: middle;\n",
       "    }\n",
       "\n",
       "    .dataframe tbody tr th {\n",
       "        vertical-align: top;\n",
       "    }\n",
       "\n",
       "    .dataframe thead th {\n",
       "        text-align: right;\n",
       "    }\n",
       "</style>\n",
       "<table border=\"1\" class=\"dataframe\">\n",
       "  <thead>\n",
       "    <tr style=\"text-align: right;\">\n",
       "      <th></th>\n",
       "      <th>X</th>\n",
       "      <th>Y</th>\n",
       "      <th>MDT</th>\n",
       "      <th>KPERC</th>\n",
       "      <th>eU</th>\n",
       "      <th>eth</th>\n",
       "      <th>CTCOR</th>\n",
       "      <th>THKRAZAO</th>\n",
       "      <th>UKRAZAO</th>\n",
       "      <th>UTHRAZAO</th>\n",
       "      <th>LONGITUDE</th>\n",
       "      <th>LATITUDE</th>\n",
       "    </tr>\n",
       "  </thead>\n",
       "  <tbody>\n",
       "    <tr>\n",
       "      <th>2512</th>\n",
       "      <td>500020.25</td>\n",
       "      <td>8786155.43</td>\n",
       "      <td>477.68</td>\n",
       "      <td>0.35</td>\n",
       "      <td>1.25</td>\n",
       "      <td>16.12</td>\n",
       "      <td>1182.85</td>\n",
       "      <td>45.2580</td>\n",
       "      <td>3.5190</td>\n",
       "      <td>0.0778</td>\n",
       "      <td>-44.999815</td>\n",
       "      <td>-10.980692</td>\n",
       "    </tr>\n",
       "    <tr>\n",
       "      <th>2513</th>\n",
       "      <td>500103.83</td>\n",
       "      <td>8786158.77</td>\n",
       "      <td>476.83</td>\n",
       "      <td>0.63</td>\n",
       "      <td>1.24</td>\n",
       "      <td>14.00</td>\n",
       "      <td>1143.89</td>\n",
       "      <td>22.1205</td>\n",
       "      <td>1.9707</td>\n",
       "      <td>0.0891</td>\n",
       "      <td>-44.999050</td>\n",
       "      <td>-10.980662</td>\n",
       "    </tr>\n",
       "    <tr>\n",
       "      <th>2514</th>\n",
       "      <td>500187.24</td>\n",
       "      <td>8786161.64</td>\n",
       "      <td>476.58</td>\n",
       "      <td>1.02</td>\n",
       "      <td>1.38</td>\n",
       "      <td>12.02</td>\n",
       "      <td>1165.74</td>\n",
       "      <td>11.8674</td>\n",
       "      <td>1.3503</td>\n",
       "      <td>0.1138</td>\n",
       "      <td>-44.998286</td>\n",
       "      <td>-10.980636</td>\n",
       "    </tr>\n",
       "    <tr>\n",
       "      <th>2515</th>\n",
       "      <td>500270.50</td>\n",
       "      <td>8786163.59</td>\n",
       "      <td>470.91</td>\n",
       "      <td>1.41</td>\n",
       "      <td>1.51</td>\n",
       "      <td>11.31</td>\n",
       "      <td>1257.68</td>\n",
       "      <td>7.9624</td>\n",
       "      <td>1.0587</td>\n",
       "      <td>0.1330</td>\n",
       "      <td>-44.997524</td>\n",
       "      <td>-10.980618</td>\n",
       "    </tr>\n",
       "    <tr>\n",
       "      <th>2516</th>\n",
       "      <td>500353.54</td>\n",
       "      <td>8786165.69</td>\n",
       "      <td>464.63</td>\n",
       "      <td>1.71</td>\n",
       "      <td>1.65</td>\n",
       "      <td>11.14</td>\n",
       "      <td>1357.00</td>\n",
       "      <td>6.5584</td>\n",
       "      <td>0.9790</td>\n",
       "      <td>0.1493</td>\n",
       "      <td>-44.996764</td>\n",
       "      <td>-10.980599</td>\n",
       "    </tr>\n",
       "    <tr>\n",
       "      <th>...</th>\n",
       "      <td>...</td>\n",
       "      <td>...</td>\n",
       "      <td>...</td>\n",
       "      <td>...</td>\n",
       "      <td>...</td>\n",
       "      <td>...</td>\n",
       "      <td>...</td>\n",
       "      <td>...</td>\n",
       "      <td>...</td>\n",
       "      <td>...</td>\n",
       "      <td>...</td>\n",
       "      <td>...</td>\n",
       "    </tr>\n",
       "    <tr>\n",
       "      <th>264653</th>\n",
       "      <td>554619.00</td>\n",
       "      <td>8838949.65</td>\n",
       "      <td>471.69</td>\n",
       "      <td>0.95</td>\n",
       "      <td>1.47</td>\n",
       "      <td>15.02</td>\n",
       "      <td>1327.04</td>\n",
       "      <td>15.8524</td>\n",
       "      <td>1.5393</td>\n",
       "      <td>0.0971</td>\n",
       "      <td>-44.500850</td>\n",
       "      <td>-10.502821</td>\n",
       "    </tr>\n",
       "    <tr>\n",
       "      <th>264654</th>\n",
       "      <td>554618.94</td>\n",
       "      <td>8839028.43</td>\n",
       "      <td>463.98</td>\n",
       "      <td>0.80</td>\n",
       "      <td>1.17</td>\n",
       "      <td>12.29</td>\n",
       "      <td>1087.91</td>\n",
       "      <td>15.2830</td>\n",
       "      <td>1.4522</td>\n",
       "      <td>0.0950</td>\n",
       "      <td>-44.500852</td>\n",
       "      <td>-10.502108</td>\n",
       "    </tr>\n",
       "    <tr>\n",
       "      <th>264655</th>\n",
       "      <td>554618.52</td>\n",
       "      <td>8839107.80</td>\n",
       "      <td>454.86</td>\n",
       "      <td>0.63</td>\n",
       "      <td>1.10</td>\n",
       "      <td>9.72</td>\n",
       "      <td>881.47</td>\n",
       "      <td>15.7108</td>\n",
       "      <td>1.7910</td>\n",
       "      <td>0.1140</td>\n",
       "      <td>-44.500857</td>\n",
       "      <td>-10.501391</td>\n",
       "    </tr>\n",
       "    <tr>\n",
       "      <th>264656</th>\n",
       "      <td>554617.97</td>\n",
       "      <td>8839187.24</td>\n",
       "      <td>450.46</td>\n",
       "      <td>0.57</td>\n",
       "      <td>1.19</td>\n",
       "      <td>8.10</td>\n",
       "      <td>784.10</td>\n",
       "      <td>14.0517</td>\n",
       "      <td>2.0510</td>\n",
       "      <td>0.1460</td>\n",
       "      <td>-44.500863</td>\n",
       "      <td>-10.500672</td>\n",
       "    </tr>\n",
       "    <tr>\n",
       "      <th>264657</th>\n",
       "      <td>554617.27</td>\n",
       "      <td>8839266.99</td>\n",
       "      <td>454.70</td>\n",
       "      <td>0.70</td>\n",
       "      <td>1.17</td>\n",
       "      <td>6.82</td>\n",
       "      <td>747.46</td>\n",
       "      <td>9.8548</td>\n",
       "      <td>1.7006</td>\n",
       "      <td>0.1726</td>\n",
       "      <td>-44.500871</td>\n",
       "      <td>-10.499951</td>\n",
       "    </tr>\n",
       "  </tbody>\n",
       "</table>\n",
       "<p>81859 rows × 12 columns</p>\n",
       "</div>"
      ],
      "text/plain": [
       "                X           Y     MDT  KPERC    eU    eth    CTCOR  THKRAZAO  \\\n",
       "2512    500020.25  8786155.43  477.68   0.35  1.25  16.12  1182.85   45.2580   \n",
       "2513    500103.83  8786158.77  476.83   0.63  1.24  14.00  1143.89   22.1205   \n",
       "2514    500187.24  8786161.64  476.58   1.02  1.38  12.02  1165.74   11.8674   \n",
       "2515    500270.50  8786163.59  470.91   1.41  1.51  11.31  1257.68    7.9624   \n",
       "2516    500353.54  8786165.69  464.63   1.71  1.65  11.14  1357.00    6.5584   \n",
       "...           ...         ...     ...    ...   ...    ...      ...       ...   \n",
       "264653  554619.00  8838949.65  471.69   0.95  1.47  15.02  1327.04   15.8524   \n",
       "264654  554618.94  8839028.43  463.98   0.80  1.17  12.29  1087.91   15.2830   \n",
       "264655  554618.52  8839107.80  454.86   0.63  1.10   9.72   881.47   15.7108   \n",
       "264656  554617.97  8839187.24  450.46   0.57  1.19   8.10   784.10   14.0517   \n",
       "264657  554617.27  8839266.99  454.70   0.70  1.17   6.82   747.46    9.8548   \n",
       "\n",
       "        UKRAZAO  UTHRAZAO  LONGITUDE   LATITUDE  \n",
       "2512     3.5190    0.0778 -44.999815 -10.980692  \n",
       "2513     1.9707    0.0891 -44.999050 -10.980662  \n",
       "2514     1.3503    0.1138 -44.998286 -10.980636  \n",
       "2515     1.0587    0.1330 -44.997524 -10.980618  \n",
       "2516     0.9790    0.1493 -44.996764 -10.980599  \n",
       "...         ...       ...        ...        ...  \n",
       "264653   1.5393    0.0971 -44.500850 -10.502821  \n",
       "264654   1.4522    0.0950 -44.500852 -10.502108  \n",
       "264655   1.7910    0.1140 -44.500857 -10.501391  \n",
       "264656   2.0510    0.1460 -44.500863 -10.500672  \n",
       "264657   1.7006    0.1726 -44.500871 -10.499951  \n",
       "\n",
       "[81859 rows x 12 columns]"
      ]
     },
     "metadata": {},
     "execution_count": 11
    }
   ],
   "metadata": {}
  },
  {
   "cell_type": "code",
   "execution_count": 12,
   "source": [
    "data = dic_cartas['raw_data']['SC23_Z_A_IV']"
   ],
   "outputs": [],
   "metadata": {}
  },
  {
   "cell_type": "code",
   "execution_count": 13,
   "source": [
    "coordinates = (data.X.values, data.Y.values)\n",
    "coordinates"
   ],
   "outputs": [
    {
     "output_type": "execute_result",
     "data": {
      "text/plain": [
       "(array([500020.25, 500103.83, 500187.24, ..., 554618.52, 554617.97,\n",
       "        554617.27]),\n",
       " array([8786155.43, 8786158.77, 8786161.64, ..., 8839107.8 , 8839187.24,\n",
       "        8839266.99]))"
      ]
     },
     "metadata": {},
     "execution_count": 13
    }
   ],
   "metadata": {}
  },
  {
   "cell_type": "code",
   "execution_count": 14,
   "source": [
    "data.describe(percentiles=(0.01,0.1,0.25,0.50,0.75,0.995)).T"
   ],
   "outputs": [
    {
     "output_type": "execute_result",
     "data": {
      "text/html": [
       "<div>\n",
       "<style scoped>\n",
       "    .dataframe tbody tr th:only-of-type {\n",
       "        vertical-align: middle;\n",
       "    }\n",
       "\n",
       "    .dataframe tbody tr th {\n",
       "        vertical-align: top;\n",
       "    }\n",
       "\n",
       "    .dataframe thead th {\n",
       "        text-align: right;\n",
       "    }\n",
       "</style>\n",
       "<table border=\"1\" class=\"dataframe\">\n",
       "  <thead>\n",
       "    <tr style=\"text-align: right;\">\n",
       "      <th></th>\n",
       "      <th>count</th>\n",
       "      <th>mean</th>\n",
       "      <th>std</th>\n",
       "      <th>min</th>\n",
       "      <th>1%</th>\n",
       "      <th>10%</th>\n",
       "      <th>25%</th>\n",
       "      <th>50%</th>\n",
       "      <th>75%</th>\n",
       "      <th>99.5%</th>\n",
       "      <th>max</th>\n",
       "    </tr>\n",
       "  </thead>\n",
       "  <tbody>\n",
       "    <tr>\n",
       "      <th>X</th>\n",
       "      <td>81859.0</td>\n",
       "      <td>5.272457e+05</td>\n",
       "      <td>15881.461081</td>\n",
       "      <td>5.000053e+05</td>\n",
       "      <td>5.005883e+05</td>\n",
       "      <td>5.051369e+05</td>\n",
       "      <td>5.135953e+05</td>\n",
       "      <td>5.271237e+05</td>\n",
       "      <td>5.411101e+05</td>\n",
       "      <td>5.546207e+05</td>\n",
       "      <td>5.546952e+05</td>\n",
       "    </tr>\n",
       "    <tr>\n",
       "      <th>Y</th>\n",
       "      <td>81859.0</td>\n",
       "      <td>8.811616e+06</td>\n",
       "      <td>16019.792057</td>\n",
       "      <td>8.783976e+06</td>\n",
       "      <td>8.784576e+06</td>\n",
       "      <td>8.789346e+06</td>\n",
       "      <td>8.797549e+06</td>\n",
       "      <td>8.811636e+06</td>\n",
       "      <td>8.825717e+06</td>\n",
       "      <td>8.839012e+06</td>\n",
       "      <td>8.839305e+06</td>\n",
       "    </tr>\n",
       "    <tr>\n",
       "      <th>MDT</th>\n",
       "      <td>81859.0</td>\n",
       "      <td>5.198798e+02</td>\n",
       "      <td>79.852517</td>\n",
       "      <td>3.493300e+02</td>\n",
       "      <td>3.729400e+02</td>\n",
       "      <td>4.267980e+02</td>\n",
       "      <td>4.636400e+02</td>\n",
       "      <td>5.039200e+02</td>\n",
       "      <td>5.689350e+02</td>\n",
       "      <td>6.969500e+02</td>\n",
       "      <td>7.062200e+02</td>\n",
       "    </tr>\n",
       "    <tr>\n",
       "      <th>KPERC</th>\n",
       "      <td>81859.0</td>\n",
       "      <td>6.134073e-01</td>\n",
       "      <td>0.520534</td>\n",
       "      <td>-2.300000e-01</td>\n",
       "      <td>-1.000000e-02</td>\n",
       "      <td>1.100000e-01</td>\n",
       "      <td>2.200000e-01</td>\n",
       "      <td>4.600000e-01</td>\n",
       "      <td>8.700000e-01</td>\n",
       "      <td>2.470000e+00</td>\n",
       "      <td>3.870000e+00</td>\n",
       "    </tr>\n",
       "    <tr>\n",
       "      <th>eU</th>\n",
       "      <td>81859.0</td>\n",
       "      <td>1.544812e+00</td>\n",
       "      <td>0.756139</td>\n",
       "      <td>-1.030000e+00</td>\n",
       "      <td>2.200000e-01</td>\n",
       "      <td>7.100000e-01</td>\n",
       "      <td>1.030000e+00</td>\n",
       "      <td>1.450000e+00</td>\n",
       "      <td>1.950000e+00</td>\n",
       "      <td>4.460000e+00</td>\n",
       "      <td>1.214000e+01</td>\n",
       "    </tr>\n",
       "    <tr>\n",
       "      <th>eth</th>\n",
       "      <td>81859.0</td>\n",
       "      <td>1.406115e+01</td>\n",
       "      <td>6.582828</td>\n",
       "      <td>9.400000e-01</td>\n",
       "      <td>4.270000e+00</td>\n",
       "      <td>6.930000e+00</td>\n",
       "      <td>9.170000e+00</td>\n",
       "      <td>1.251000e+01</td>\n",
       "      <td>1.759000e+01</td>\n",
       "      <td>3.413420e+01</td>\n",
       "      <td>5.434000e+01</td>\n",
       "    </tr>\n",
       "    <tr>\n",
       "      <th>CTCOR</th>\n",
       "      <td>81859.0</td>\n",
       "      <td>1.181804e+03</td>\n",
       "      <td>456.726630</td>\n",
       "      <td>1.037700e+02</td>\n",
       "      <td>4.346674e+02</td>\n",
       "      <td>6.410660e+02</td>\n",
       "      <td>8.127350e+02</td>\n",
       "      <td>1.130380e+03</td>\n",
       "      <td>1.499520e+03</td>\n",
       "      <td>2.727711e+03</td>\n",
       "      <td>3.924330e+03</td>\n",
       "    </tr>\n",
       "    <tr>\n",
       "      <th>THKRAZAO</th>\n",
       "      <td>81859.0</td>\n",
       "      <td>6.933198e+01</td>\n",
       "      <td>145.286506</td>\n",
       "      <td>1.998000e+00</td>\n",
       "      <td>5.203834e+00</td>\n",
       "      <td>8.162980e+00</td>\n",
       "      <td>1.256500e+01</td>\n",
       "      <td>2.733780e+01</td>\n",
       "      <td>5.894520e+01</td>\n",
       "      <td>1.056563e+03</td>\n",
       "      <td>1.892694e+03</td>\n",
       "    </tr>\n",
       "    <tr>\n",
       "      <th>UKRAZAO</th>\n",
       "      <td>81859.0</td>\n",
       "      <td>7.116611e+00</td>\n",
       "      <td>13.503018</td>\n",
       "      <td>2.230000e-02</td>\n",
       "      <td>2.710320e-01</td>\n",
       "      <td>8.392000e-01</td>\n",
       "      <td>1.476000e+00</td>\n",
       "      <td>3.114800e+00</td>\n",
       "      <td>6.680850e+00</td>\n",
       "      <td>9.520675e+01</td>\n",
       "      <td>2.173391e+02</td>\n",
       "    </tr>\n",
       "    <tr>\n",
       "      <th>UTHRAZAO</th>\n",
       "      <td>81859.0</td>\n",
       "      <td>1.201141e-01</td>\n",
       "      <td>0.057837</td>\n",
       "      <td>2.300000e-03</td>\n",
       "      <td>2.525800e-02</td>\n",
       "      <td>6.080000e-02</td>\n",
       "      <td>8.090000e-02</td>\n",
       "      <td>1.093000e-01</td>\n",
       "      <td>1.482000e-01</td>\n",
       "      <td>3.399710e-01</td>\n",
       "      <td>9.555000e-01</td>\n",
       "    </tr>\n",
       "    <tr>\n",
       "      <th>LONGITUDE</th>\n",
       "      <td>81859.0</td>\n",
       "      <td>-4.475081e+01</td>\n",
       "      <td>0.145254</td>\n",
       "      <td>-4.499995e+01</td>\n",
       "      <td>-4.499462e+01</td>\n",
       "      <td>-4.495301e+01</td>\n",
       "      <td>-4.487560e+01</td>\n",
       "      <td>-4.475191e+01</td>\n",
       "      <td>-4.462413e+01</td>\n",
       "      <td>-4.450045e+01</td>\n",
       "      <td>-4.449937e+01</td>\n",
       "    </tr>\n",
       "    <tr>\n",
       "      <th>LATITUDE</th>\n",
       "      <td>81859.0</td>\n",
       "      <td>-1.075029e+01</td>\n",
       "      <td>0.144884</td>\n",
       "      <td>-1.100037e+01</td>\n",
       "      <td>-1.099484e+01</td>\n",
       "      <td>-1.095174e+01</td>\n",
       "      <td>-1.087744e+01</td>\n",
       "      <td>-1.075013e+01</td>\n",
       "      <td>-1.062271e+01</td>\n",
       "      <td>-1.050252e+01</td>\n",
       "      <td>-1.049969e+01</td>\n",
       "    </tr>\n",
       "  </tbody>\n",
       "</table>\n",
       "</div>"
      ],
      "text/plain": [
       "             count          mean           std           min            1%  \\\n",
       "X          81859.0  5.272457e+05  15881.461081  5.000053e+05  5.005883e+05   \n",
       "Y          81859.0  8.811616e+06  16019.792057  8.783976e+06  8.784576e+06   \n",
       "MDT        81859.0  5.198798e+02     79.852517  3.493300e+02  3.729400e+02   \n",
       "KPERC      81859.0  6.134073e-01      0.520534 -2.300000e-01 -1.000000e-02   \n",
       "eU         81859.0  1.544812e+00      0.756139 -1.030000e+00  2.200000e-01   \n",
       "eth        81859.0  1.406115e+01      6.582828  9.400000e-01  4.270000e+00   \n",
       "CTCOR      81859.0  1.181804e+03    456.726630  1.037700e+02  4.346674e+02   \n",
       "THKRAZAO   81859.0  6.933198e+01    145.286506  1.998000e+00  5.203834e+00   \n",
       "UKRAZAO    81859.0  7.116611e+00     13.503018  2.230000e-02  2.710320e-01   \n",
       "UTHRAZAO   81859.0  1.201141e-01      0.057837  2.300000e-03  2.525800e-02   \n",
       "LONGITUDE  81859.0 -4.475081e+01      0.145254 -4.499995e+01 -4.499462e+01   \n",
       "LATITUDE   81859.0 -1.075029e+01      0.144884 -1.100037e+01 -1.099484e+01   \n",
       "\n",
       "                    10%           25%           50%           75%  \\\n",
       "X          5.051369e+05  5.135953e+05  5.271237e+05  5.411101e+05   \n",
       "Y          8.789346e+06  8.797549e+06  8.811636e+06  8.825717e+06   \n",
       "MDT        4.267980e+02  4.636400e+02  5.039200e+02  5.689350e+02   \n",
       "KPERC      1.100000e-01  2.200000e-01  4.600000e-01  8.700000e-01   \n",
       "eU         7.100000e-01  1.030000e+00  1.450000e+00  1.950000e+00   \n",
       "eth        6.930000e+00  9.170000e+00  1.251000e+01  1.759000e+01   \n",
       "CTCOR      6.410660e+02  8.127350e+02  1.130380e+03  1.499520e+03   \n",
       "THKRAZAO   8.162980e+00  1.256500e+01  2.733780e+01  5.894520e+01   \n",
       "UKRAZAO    8.392000e-01  1.476000e+00  3.114800e+00  6.680850e+00   \n",
       "UTHRAZAO   6.080000e-02  8.090000e-02  1.093000e-01  1.482000e-01   \n",
       "LONGITUDE -4.495301e+01 -4.487560e+01 -4.475191e+01 -4.462413e+01   \n",
       "LATITUDE  -1.095174e+01 -1.087744e+01 -1.075013e+01 -1.062271e+01   \n",
       "\n",
       "                  99.5%           max  \n",
       "X          5.546207e+05  5.546952e+05  \n",
       "Y          8.839012e+06  8.839305e+06  \n",
       "MDT        6.969500e+02  7.062200e+02  \n",
       "KPERC      2.470000e+00  3.870000e+00  \n",
       "eU         4.460000e+00  1.214000e+01  \n",
       "eth        3.413420e+01  5.434000e+01  \n",
       "CTCOR      2.727711e+03  3.924330e+03  \n",
       "THKRAZAO   1.056563e+03  1.892694e+03  \n",
       "UKRAZAO    9.520675e+01  2.173391e+02  \n",
       "UTHRAZAO   3.399710e-01  9.555000e-01  \n",
       "LONGITUDE -4.450045e+01 -4.449937e+01  \n",
       "LATITUDE  -1.050252e+01 -1.049969e+01  "
      ]
     },
     "metadata": {},
     "execution_count": 14
    }
   ],
   "metadata": {}
  },
  {
   "cell_type": "code",
   "execution_count": 15,
   "source": [
    "print(f\"Valores negativos no canal do K: {data.query('KPERC < 0')['KPERC'].count()}\")\n",
    "print(f\"Valores negativos no canal do U: {data.query('eU < 0')['eU'].count()}\")\n",
    "print(f\"Valores negativos no canal do Th: {data.query('eth < 0')['eth'].count()}\")\n",
    "print(f\"Valores negativos no canal das CT: {data.query('CTCOR < 0')['CTCOR'].count()}\")"
   ],
   "outputs": [
    {
     "output_type": "stream",
     "name": "stdout",
     "text": [
      "Valores negativos no canal do K: 961\n",
      "Valores negativos no canal do U: 177\n",
      "Valores negativos no canal do Th: 0\n",
      "Valores negativos no canal das CT: 0\n"
     ]
    }
   ],
   "metadata": {}
  },
  {
   "cell_type": "code",
   "execution_count": 16,
   "source": [
    "data.loc[data.KPERC < 0, 'KPERC'] = 0\n",
    "data.loc[data.eU < 0, 'eU'] = 0"
   ],
   "outputs": [],
   "metadata": {}
  },
  {
   "cell_type": "code",
   "execution_count": 17,
   "source": [
    "print(data.query('KPERC < 0')['KPERC'].count())\n",
    "print(data.query('eU < 0')['eU'].count())"
   ],
   "outputs": [
    {
     "output_type": "stream",
     "name": "stdout",
     "text": [
      "0\n",
      "0\n"
     ]
    }
   ],
   "metadata": {}
  },
  {
   "cell_type": "code",
   "execution_count": 18,
   "source": [
    "data_descrito = data.describe(percentiles= [0.01,0.1,0.25,0.5,0.75,0.995])"
   ],
   "outputs": [],
   "metadata": {}
  },
  {
   "cell_type": "code",
   "execution_count": 19,
   "source": [
    "data_descrito.T"
   ],
   "outputs": [
    {
     "output_type": "execute_result",
     "data": {
      "text/html": [
       "<div>\n",
       "<style scoped>\n",
       "    .dataframe tbody tr th:only-of-type {\n",
       "        vertical-align: middle;\n",
       "    }\n",
       "\n",
       "    .dataframe tbody tr th {\n",
       "        vertical-align: top;\n",
       "    }\n",
       "\n",
       "    .dataframe thead th {\n",
       "        text-align: right;\n",
       "    }\n",
       "</style>\n",
       "<table border=\"1\" class=\"dataframe\">\n",
       "  <thead>\n",
       "    <tr style=\"text-align: right;\">\n",
       "      <th></th>\n",
       "      <th>count</th>\n",
       "      <th>mean</th>\n",
       "      <th>std</th>\n",
       "      <th>min</th>\n",
       "      <th>1%</th>\n",
       "      <th>10%</th>\n",
       "      <th>25%</th>\n",
       "      <th>50%</th>\n",
       "      <th>75%</th>\n",
       "      <th>99.5%</th>\n",
       "      <th>max</th>\n",
       "    </tr>\n",
       "  </thead>\n",
       "  <tbody>\n",
       "    <tr>\n",
       "      <th>X</th>\n",
       "      <td>81859.0</td>\n",
       "      <td>5.272457e+05</td>\n",
       "      <td>15881.461081</td>\n",
       "      <td>5.000053e+05</td>\n",
       "      <td>5.005883e+05</td>\n",
       "      <td>5.051369e+05</td>\n",
       "      <td>5.135953e+05</td>\n",
       "      <td>5.271237e+05</td>\n",
       "      <td>5.411101e+05</td>\n",
       "      <td>5.546207e+05</td>\n",
       "      <td>5.546952e+05</td>\n",
       "    </tr>\n",
       "    <tr>\n",
       "      <th>Y</th>\n",
       "      <td>81859.0</td>\n",
       "      <td>8.811616e+06</td>\n",
       "      <td>16019.792057</td>\n",
       "      <td>8.783976e+06</td>\n",
       "      <td>8.784576e+06</td>\n",
       "      <td>8.789346e+06</td>\n",
       "      <td>8.797549e+06</td>\n",
       "      <td>8.811636e+06</td>\n",
       "      <td>8.825717e+06</td>\n",
       "      <td>8.839012e+06</td>\n",
       "      <td>8.839305e+06</td>\n",
       "    </tr>\n",
       "    <tr>\n",
       "      <th>MDT</th>\n",
       "      <td>81859.0</td>\n",
       "      <td>5.198798e+02</td>\n",
       "      <td>79.852517</td>\n",
       "      <td>3.493300e+02</td>\n",
       "      <td>3.729400e+02</td>\n",
       "      <td>4.267980e+02</td>\n",
       "      <td>4.636400e+02</td>\n",
       "      <td>5.039200e+02</td>\n",
       "      <td>5.689350e+02</td>\n",
       "      <td>6.969500e+02</td>\n",
       "      <td>7.062200e+02</td>\n",
       "    </tr>\n",
       "    <tr>\n",
       "      <th>KPERC</th>\n",
       "      <td>81859.0</td>\n",
       "      <td>6.139342e-01</td>\n",
       "      <td>0.519875</td>\n",
       "      <td>0.000000e+00</td>\n",
       "      <td>0.000000e+00</td>\n",
       "      <td>1.100000e-01</td>\n",
       "      <td>2.200000e-01</td>\n",
       "      <td>4.600000e-01</td>\n",
       "      <td>8.700000e-01</td>\n",
       "      <td>2.470000e+00</td>\n",
       "      <td>3.870000e+00</td>\n",
       "    </tr>\n",
       "    <tr>\n",
       "      <th>eU</th>\n",
       "      <td>81859.0</td>\n",
       "      <td>1.545084e+00</td>\n",
       "      <td>0.755532</td>\n",
       "      <td>0.000000e+00</td>\n",
       "      <td>2.200000e-01</td>\n",
       "      <td>7.100000e-01</td>\n",
       "      <td>1.030000e+00</td>\n",
       "      <td>1.450000e+00</td>\n",
       "      <td>1.950000e+00</td>\n",
       "      <td>4.460000e+00</td>\n",
       "      <td>1.214000e+01</td>\n",
       "    </tr>\n",
       "    <tr>\n",
       "      <th>eth</th>\n",
       "      <td>81859.0</td>\n",
       "      <td>1.406115e+01</td>\n",
       "      <td>6.582828</td>\n",
       "      <td>9.400000e-01</td>\n",
       "      <td>4.270000e+00</td>\n",
       "      <td>6.930000e+00</td>\n",
       "      <td>9.170000e+00</td>\n",
       "      <td>1.251000e+01</td>\n",
       "      <td>1.759000e+01</td>\n",
       "      <td>3.413420e+01</td>\n",
       "      <td>5.434000e+01</td>\n",
       "    </tr>\n",
       "    <tr>\n",
       "      <th>CTCOR</th>\n",
       "      <td>81859.0</td>\n",
       "      <td>1.181804e+03</td>\n",
       "      <td>456.726630</td>\n",
       "      <td>1.037700e+02</td>\n",
       "      <td>4.346674e+02</td>\n",
       "      <td>6.410660e+02</td>\n",
       "      <td>8.127350e+02</td>\n",
       "      <td>1.130380e+03</td>\n",
       "      <td>1.499520e+03</td>\n",
       "      <td>2.727711e+03</td>\n",
       "      <td>3.924330e+03</td>\n",
       "    </tr>\n",
       "    <tr>\n",
       "      <th>THKRAZAO</th>\n",
       "      <td>81859.0</td>\n",
       "      <td>6.933198e+01</td>\n",
       "      <td>145.286506</td>\n",
       "      <td>1.998000e+00</td>\n",
       "      <td>5.203834e+00</td>\n",
       "      <td>8.162980e+00</td>\n",
       "      <td>1.256500e+01</td>\n",
       "      <td>2.733780e+01</td>\n",
       "      <td>5.894520e+01</td>\n",
       "      <td>1.056563e+03</td>\n",
       "      <td>1.892694e+03</td>\n",
       "    </tr>\n",
       "    <tr>\n",
       "      <th>UKRAZAO</th>\n",
       "      <td>81859.0</td>\n",
       "      <td>7.116611e+00</td>\n",
       "      <td>13.503018</td>\n",
       "      <td>2.230000e-02</td>\n",
       "      <td>2.710320e-01</td>\n",
       "      <td>8.392000e-01</td>\n",
       "      <td>1.476000e+00</td>\n",
       "      <td>3.114800e+00</td>\n",
       "      <td>6.680850e+00</td>\n",
       "      <td>9.520675e+01</td>\n",
       "      <td>2.173391e+02</td>\n",
       "    </tr>\n",
       "    <tr>\n",
       "      <th>UTHRAZAO</th>\n",
       "      <td>81859.0</td>\n",
       "      <td>1.201141e-01</td>\n",
       "      <td>0.057837</td>\n",
       "      <td>2.300000e-03</td>\n",
       "      <td>2.525800e-02</td>\n",
       "      <td>6.080000e-02</td>\n",
       "      <td>8.090000e-02</td>\n",
       "      <td>1.093000e-01</td>\n",
       "      <td>1.482000e-01</td>\n",
       "      <td>3.399710e-01</td>\n",
       "      <td>9.555000e-01</td>\n",
       "    </tr>\n",
       "    <tr>\n",
       "      <th>LONGITUDE</th>\n",
       "      <td>81859.0</td>\n",
       "      <td>-4.475081e+01</td>\n",
       "      <td>0.145254</td>\n",
       "      <td>-4.499995e+01</td>\n",
       "      <td>-4.499462e+01</td>\n",
       "      <td>-4.495301e+01</td>\n",
       "      <td>-4.487560e+01</td>\n",
       "      <td>-4.475191e+01</td>\n",
       "      <td>-4.462413e+01</td>\n",
       "      <td>-4.450045e+01</td>\n",
       "      <td>-4.449937e+01</td>\n",
       "    </tr>\n",
       "    <tr>\n",
       "      <th>LATITUDE</th>\n",
       "      <td>81859.0</td>\n",
       "      <td>-1.075029e+01</td>\n",
       "      <td>0.144884</td>\n",
       "      <td>-1.100037e+01</td>\n",
       "      <td>-1.099484e+01</td>\n",
       "      <td>-1.095174e+01</td>\n",
       "      <td>-1.087744e+01</td>\n",
       "      <td>-1.075013e+01</td>\n",
       "      <td>-1.062271e+01</td>\n",
       "      <td>-1.050252e+01</td>\n",
       "      <td>-1.049969e+01</td>\n",
       "    </tr>\n",
       "  </tbody>\n",
       "</table>\n",
       "</div>"
      ],
      "text/plain": [
       "             count          mean           std           min            1%  \\\n",
       "X          81859.0  5.272457e+05  15881.461081  5.000053e+05  5.005883e+05   \n",
       "Y          81859.0  8.811616e+06  16019.792057  8.783976e+06  8.784576e+06   \n",
       "MDT        81859.0  5.198798e+02     79.852517  3.493300e+02  3.729400e+02   \n",
       "KPERC      81859.0  6.139342e-01      0.519875  0.000000e+00  0.000000e+00   \n",
       "eU         81859.0  1.545084e+00      0.755532  0.000000e+00  2.200000e-01   \n",
       "eth        81859.0  1.406115e+01      6.582828  9.400000e-01  4.270000e+00   \n",
       "CTCOR      81859.0  1.181804e+03    456.726630  1.037700e+02  4.346674e+02   \n",
       "THKRAZAO   81859.0  6.933198e+01    145.286506  1.998000e+00  5.203834e+00   \n",
       "UKRAZAO    81859.0  7.116611e+00     13.503018  2.230000e-02  2.710320e-01   \n",
       "UTHRAZAO   81859.0  1.201141e-01      0.057837  2.300000e-03  2.525800e-02   \n",
       "LONGITUDE  81859.0 -4.475081e+01      0.145254 -4.499995e+01 -4.499462e+01   \n",
       "LATITUDE   81859.0 -1.075029e+01      0.144884 -1.100037e+01 -1.099484e+01   \n",
       "\n",
       "                    10%           25%           50%           75%  \\\n",
       "X          5.051369e+05  5.135953e+05  5.271237e+05  5.411101e+05   \n",
       "Y          8.789346e+06  8.797549e+06  8.811636e+06  8.825717e+06   \n",
       "MDT        4.267980e+02  4.636400e+02  5.039200e+02  5.689350e+02   \n",
       "KPERC      1.100000e-01  2.200000e-01  4.600000e-01  8.700000e-01   \n",
       "eU         7.100000e-01  1.030000e+00  1.450000e+00  1.950000e+00   \n",
       "eth        6.930000e+00  9.170000e+00  1.251000e+01  1.759000e+01   \n",
       "CTCOR      6.410660e+02  8.127350e+02  1.130380e+03  1.499520e+03   \n",
       "THKRAZAO   8.162980e+00  1.256500e+01  2.733780e+01  5.894520e+01   \n",
       "UKRAZAO    8.392000e-01  1.476000e+00  3.114800e+00  6.680850e+00   \n",
       "UTHRAZAO   6.080000e-02  8.090000e-02  1.093000e-01  1.482000e-01   \n",
       "LONGITUDE -4.495301e+01 -4.487560e+01 -4.475191e+01 -4.462413e+01   \n",
       "LATITUDE  -1.095174e+01 -1.087744e+01 -1.075013e+01 -1.062271e+01   \n",
       "\n",
       "                  99.5%           max  \n",
       "X          5.546207e+05  5.546952e+05  \n",
       "Y          8.839012e+06  8.839305e+06  \n",
       "MDT        6.969500e+02  7.062200e+02  \n",
       "KPERC      2.470000e+00  3.870000e+00  \n",
       "eU         4.460000e+00  1.214000e+01  \n",
       "eth        3.413420e+01  5.434000e+01  \n",
       "CTCOR      2.727711e+03  3.924330e+03  \n",
       "THKRAZAO   1.056563e+03  1.892694e+03  \n",
       "UKRAZAO    9.520675e+01  2.173391e+02  \n",
       "UTHRAZAO   3.399710e-01  9.555000e-01  \n",
       "LONGITUDE -4.450045e+01 -4.449937e+01  \n",
       "LATITUDE  -1.050252e+01 -1.049969e+01  "
      ]
     },
     "metadata": {},
     "execution_count": 19
    }
   ],
   "metadata": {}
  },
  {
   "cell_type": "code",
   "execution_count": 20,
   "source": [
    "list_canal = dic_raw_metadata['Lista_at_geof']\n",
    "print(f\"Lista de atributos: {list_canal}\")"
   ],
   "outputs": [
    {
     "output_type": "stream",
     "name": "stdout",
     "text": [
      "Lista de atributos: ['MDT', 'KPERC', 'eU', 'eth', 'CTCOR', 'THKRAZAO', 'UKRAZAO', 'UTHRAZAO']\n"
     ]
    }
   ],
   "metadata": {}
  },
  {
   "cell_type": "code",
   "execution_count": 21,
   "source": [
    "# LISTA DE TITULOS \n",
    "titles =   ['MDT (m)',\n",
    "            'K (%)',\n",
    "            'U (ppm)',\n",
    "            'Th (ppm)',\n",
    "            'Contagem Total (μR/h)',\n",
    "            'Th (ppm) / K (%)',\n",
    "            'U (ppm) / K (%)',\n",
    "            'U (ppm) / Th (ppm)']\n",
    "\n",
    "# DICIONARIO DE TITULOS\n",
    "dic_titles = {}\n",
    "for f, t in zip(list_canal, titles):\n",
    "    dic_titles[f] = t\n",
    "\n",
    "dic_titles"
   ],
   "outputs": [
    {
     "output_type": "execute_result",
     "data": {
      "text/plain": [
       "{'MDT': 'MDT (m)',\n",
       " 'KPERC': 'K (%)',\n",
       " 'eU': 'U (ppm)',\n",
       " 'eth': 'Th (ppm)',\n",
       " 'CTCOR': 'Contagem Total (μR/h)',\n",
       " 'THKRAZAO': 'Th (ppm) / K (%)',\n",
       " 'UKRAZAO': 'U (ppm) / K (%)',\n",
       " 'UTHRAZAO': 'U (ppm) / Th (ppm)'}"
      ]
     },
     "metadata": {},
     "execution_count": 21
    }
   ],
   "metadata": {}
  },
  {
   "cell_type": "code",
   "execution_count": 22,
   "source": [
    "def raw_plot(data):\n",
    "    fig, axs = plt.subplots(nrows = 2, ncols = 4, figsize = (9, 9))\n",
    "\n",
    "    X,Y = data.X,data.Y\n",
    "\n",
    "    for ax, f in zip(axs.flat, dic_titles):\n",
    "        vmin=data_descrito[f]['1%']\n",
    "        vmax=data_descrito[f]['99.5%']\n",
    "\n",
    "        g = ax.scatter(c=data[f], x = X,\n",
    "                                y = Y,\n",
    "                                cmap = 'rainbow',\n",
    "                                s    = 0.5,\n",
    "                                vmax =vmax, vmin=vmin)\n",
    "\n",
    "        fig.colorbar(g, ax = ax)\n",
    "        ax.set_title(str(dic_titles[f]), size =9)\n",
    "        ax.axis('scaled')\n",
    "\n",
    "    #fig.delaxes(axs[2][1])\n",
    "\n",
    "    #plt.tight_layout()"
   ],
   "outputs": [],
   "metadata": {}
  },
  {
   "cell_type": "code",
   "execution_count": 23,
   "source": [
    "raw_plot(data)"
   ],
   "outputs": [
    {
     "output_type": "display_data",
     "data": {
      "application/vnd.jupyter.widget-view+json": {
       "version_major": 2,
       "version_minor": 0,
       "model_id": "c30afbe1501344bda66f3cafcfa5d403"
      },
      "text/plain": [
       "Canvas(toolbar=Toolbar(toolitems=[('Home', 'Reset original view', 'home', 'home'), ('Back', 'Back to previous …"
      ]
     },
     "metadata": {}
    }
   ],
   "metadata": {}
  },
  {
   "cell_type": "code",
   "execution_count": 24,
   "source": [
    "# Block Reduction\n",
    "reducer_mean_490 = vd.BlockReduce(np.mean, spacing= 490)\n",
    "reducer_mean_499 = vd.BlockReduce(np.mean, spacing= 499)\n",
    "reducer_mean_500 = vd.BlockReduce(np.mean, spacing= 500)"
   ],
   "outputs": [],
   "metadata": {}
  },
  {
   "cell_type": "code",
   "execution_count": 25,
   "source": [
    "# Block Reduction\n",
    "reducer_median_490 = vd.BlockReduce(np.median, spacing= 490)\n",
    "reducer_median_499 = vd.BlockReduce(np.median, spacing= 499)\n",
    "reducer_median_500 = vd.BlockReduce(np.median, spacing= 500)"
   ],
   "outputs": [],
   "metadata": {}
  },
  {
   "cell_type": "code",
   "execution_count": 26,
   "source": [
    "lista_blocks = [reducer_mean_490,reducer_mean_499,reducer_mean_500,\n",
    "                reducer_median_490,reducer_median_499,reducer_median_500]"
   ],
   "outputs": [],
   "metadata": {}
  },
  {
   "cell_type": "code",
   "execution_count": 29,
   "source": [
    "# Ploting the Reduced data\n",
    "fig, axs = plt.subplots(nrows = 2, ncols = 3, figsize = (16, 16),sharex='all',sharey='all')\n",
    "\n",
    "for ax, f in zip(axs.flat, lista_blocks):\n",
    "    b_coords, b_eU = f.filter(coordinates, data.eU)\n",
    "\n",
    "    g = ax.scatter(c    = b_eU, x = b_coords[0],\n",
    "                                y = b_coords[1],\n",
    "                             cmap = 'rainbow',\n",
    "                             s    = 5)\n",
    "    fig.colorbar(g,ax=ax)\n",
    "    ax.set_title(f,size=4)\n",
    "    ax.axis('scaled')"
   ],
   "outputs": [
    {
     "output_type": "display_data",
     "data": {
      "application/vnd.jupyter.widget-view+json": {
       "version_major": 2,
       "version_minor": 0,
       "model_id": "f72ee8d5ed92476381c8aac171762137"
      },
      "text/plain": [
       "Canvas(toolbar=Toolbar(toolitems=[('Home', 'Reset original view', 'home', 'home'), ('Back', 'Back to previous …"
      ]
     },
     "metadata": {}
    }
   ],
   "metadata": {}
  },
  {
   "cell_type": "code",
   "execution_count": 30,
   "source": [
    "reducer_mean_490 = vd.BlockReduce(np.mean, spacing= 499)\n",
    "b_coords, b_UTHRAZAO = reducer_mean_490.filter(coordinates, data.UTHRAZAO)"
   ],
   "outputs": [],
   "metadata": {}
  },
  {
   "cell_type": "code",
   "execution_count": 31,
   "source": [
    "spline = vd.Spline()"
   ],
   "outputs": [],
   "metadata": {}
  },
  {
   "cell_type": "code",
   "execution_count": 32,
   "source": [
    "spline.fit(b_coords, b_UTHRAZAO)"
   ],
   "outputs": [
    {
     "output_type": "stream",
     "name": "stderr",
     "text": [
      "OMP: Info #276: omp_set_nested routine deprecated, please use omp_set_max_active_levels instead.\n"
     ]
    },
    {
     "output_type": "execute_result",
     "data": {
      "text/plain": [
       "Spline()"
      ]
     },
     "metadata": {},
     "execution_count": 32
    }
   ],
   "metadata": {}
  },
  {
   "cell_type": "code",
   "execution_count": 33,
   "source": [
    "predicted = spline.predict(coordinates)"
   ],
   "outputs": [],
   "metadata": {}
  },
  {
   "cell_type": "code",
   "execution_count": 58,
   "source": [
    "plt.figure(figsize=(8,8))\n",
    "plt.scatter(coordinates[0],coordinates[1],\n",
    "            c=predicted,\n",
    "            cmap='rainbow',\n",
    "            s=1)\n",
    "plt.axis('scaled')\n",
    "plt.title('Valores preditos para os mesmos pontos amostrados')\n",
    "plt.colorbar(label='UTHRAZAO')"
   ],
   "outputs": [
    {
     "output_type": "display_data",
     "data": {
      "application/vnd.jupyter.widget-view+json": {
       "version_major": 2,
       "version_minor": 0,
       "model_id": "68d0b5d5972b441fb6a863aba6c30591"
      },
      "text/plain": [
       "Canvas(toolbar=Toolbar(toolitems=[('Home', 'Reset original view', 'home', 'home'), ('Back', 'Back to previous …"
      ]
     },
     "metadata": {}
    },
    {
     "output_type": "execute_result",
     "data": {
      "text/plain": [
       "<matplotlib.colorbar.Colorbar at 0x7f8f9d55dfa0>"
      ]
     },
     "metadata": {},
     "execution_count": 58
    }
   ],
   "metadata": {}
  },
  {
   "cell_type": "code",
   "execution_count": 59,
   "source": [
    "residuals = data.UTHRAZAO - predicted"
   ],
   "outputs": [],
   "metadata": {}
  },
  {
   "cell_type": "code",
   "execution_count": 60,
   "source": [
    "scale = vd.maxabs(residuals)\n",
    "\n",
    "plt.figure(figsize=(7,7))\n",
    "\n",
    "plt.scatter(coordinates[0],coordinates[1],\n",
    "            c=residuals,\n",
    "            cmap='RdBu_r',\n",
    "            s=2,\n",
    "            vmin=-scale,vmax=scale)\n",
    "plt.axis('scaled')\n",
    "plt.title('Residuals: Dado amostrado - Dado predito')\n",
    "plt.colorbar(label='UTHRAZAO')"
   ],
   "outputs": [
    {
     "output_type": "display_data",
     "data": {
      "application/vnd.jupyter.widget-view+json": {
       "version_major": 2,
       "version_minor": 0,
       "model_id": "199c6a8456af4ad7ba5cabb0df9d4c91"
      },
      "text/plain": [
       "Canvas(toolbar=Toolbar(toolitems=[('Home', 'Reset original view', 'home', 'home'), ('Back', 'Back to previous …"
      ]
     },
     "metadata": {}
    },
    {
     "output_type": "execute_result",
     "data": {
      "text/plain": [
       "<matplotlib.colorbar.Colorbar at 0x7f8f9d6bbe50>"
      ]
     },
     "metadata": {},
     "execution_count": 60
    }
   ],
   "metadata": {}
  },
  {
   "cell_type": "code",
   "execution_count": 44,
   "source": [
    "region = vd.get_region(coordinates)\n",
    "grid_coords = vd.grid_coordinates(region, spacing = 250,pixel_register=True)"
   ],
   "outputs": [],
   "metadata": {}
  },
  {
   "cell_type": "code",
   "execution_count": 61,
   "source": [
    "grid_UTHRAZAO = spline.predict(grid_coords)"
   ],
   "outputs": [],
   "metadata": {}
  },
  {
   "cell_type": "code",
   "execution_count": 62,
   "source": [
    "plt.figure(figsize=(8,8))\n",
    "plt.scatter(grid_coords[0], grid_coords[1],\n",
    "            c=grid_UTHRAZAO,\n",
    "            cmap='rainbow',\n",
    "            s=2)\n",
    "plt.axis('scaled')\n",
    "plt.colorbar()"
   ],
   "outputs": [
    {
     "output_type": "display_data",
     "data": {
      "application/vnd.jupyter.widget-view+json": {
       "version_major": 2,
       "version_minor": 0,
       "model_id": "56457ecb58dd48b3b31eb039d7b9affa"
      },
      "text/plain": [
       "Canvas(toolbar=Toolbar(toolitems=[('Home', 'Reset original view', 'home', 'home'), ('Back', 'Back to previous …"
      ]
     },
     "metadata": {}
    },
    {
     "output_type": "execute_result",
     "data": {
      "text/plain": [
       "<matplotlib.colorbar.Colorbar at 0x7f8f94119bb0>"
      ]
     },
     "metadata": {},
     "execution_count": 62
    }
   ],
   "metadata": {}
  },
  {
   "cell_type": "code",
   "execution_count": 63,
   "source": [
    "grid = spline.grid(spacing=250, data_names=['UTHRAZAO'])\n",
    "grid"
   ],
   "outputs": [
    {
     "output_type": "execute_result",
     "data": {
      "text/html": [
       "<div><svg style=\"position: absolute; width: 0; height: 0; overflow: hidden\">\n",
       "<defs>\n",
       "<symbol id=\"icon-database\" viewBox=\"0 0 32 32\">\n",
       "<path d=\"M16 0c-8.837 0-16 2.239-16 5v4c0 2.761 7.163 5 16 5s16-2.239 16-5v-4c0-2.761-7.163-5-16-5z\"></path>\n",
       "<path d=\"M16 17c-8.837 0-16-2.239-16-5v6c0 2.761 7.163 5 16 5s16-2.239 16-5v-6c0 2.761-7.163 5-16 5z\"></path>\n",
       "<path d=\"M16 26c-8.837 0-16-2.239-16-5v6c0 2.761 7.163 5 16 5s16-2.239 16-5v-6c0 2.761-7.163 5-16 5z\"></path>\n",
       "</symbol>\n",
       "<symbol id=\"icon-file-text2\" viewBox=\"0 0 32 32\">\n",
       "<path d=\"M28.681 7.159c-0.694-0.947-1.662-2.053-2.724-3.116s-2.169-2.030-3.116-2.724c-1.612-1.182-2.393-1.319-2.841-1.319h-15.5c-1.378 0-2.5 1.121-2.5 2.5v27c0 1.378 1.122 2.5 2.5 2.5h23c1.378 0 2.5-1.122 2.5-2.5v-19.5c0-0.448-0.137-1.23-1.319-2.841zM24.543 5.457c0.959 0.959 1.712 1.825 2.268 2.543h-4.811v-4.811c0.718 0.556 1.584 1.309 2.543 2.268zM28 29.5c0 0.271-0.229 0.5-0.5 0.5h-23c-0.271 0-0.5-0.229-0.5-0.5v-27c0-0.271 0.229-0.5 0.5-0.5 0 0 15.499-0 15.5 0v7c0 0.552 0.448 1 1 1h7v19.5z\"></path>\n",
       "<path d=\"M23 26h-14c-0.552 0-1-0.448-1-1s0.448-1 1-1h14c0.552 0 1 0.448 1 1s-0.448 1-1 1z\"></path>\n",
       "<path d=\"M23 22h-14c-0.552 0-1-0.448-1-1s0.448-1 1-1h14c0.552 0 1 0.448 1 1s-0.448 1-1 1z\"></path>\n",
       "<path d=\"M23 18h-14c-0.552 0-1-0.448-1-1s0.448-1 1-1h14c0.552 0 1 0.448 1 1s-0.448 1-1 1z\"></path>\n",
       "</symbol>\n",
       "</defs>\n",
       "</svg>\n",
       "<style>/* CSS stylesheet for displaying xarray objects in jupyterlab.\n",
       " *\n",
       " */\n",
       "\n",
       ":root {\n",
       "  --xr-font-color0: var(--jp-content-font-color0, rgba(0, 0, 0, 1));\n",
       "  --xr-font-color2: var(--jp-content-font-color2, rgba(0, 0, 0, 0.54));\n",
       "  --xr-font-color3: var(--jp-content-font-color3, rgba(0, 0, 0, 0.38));\n",
       "  --xr-border-color: var(--jp-border-color2, #e0e0e0);\n",
       "  --xr-disabled-color: var(--jp-layout-color3, #bdbdbd);\n",
       "  --xr-background-color: var(--jp-layout-color0, white);\n",
       "  --xr-background-color-row-even: var(--jp-layout-color1, white);\n",
       "  --xr-background-color-row-odd: var(--jp-layout-color2, #eeeeee);\n",
       "}\n",
       "\n",
       "html[theme=dark],\n",
       "body.vscode-dark {\n",
       "  --xr-font-color0: rgba(255, 255, 255, 1);\n",
       "  --xr-font-color2: rgba(255, 255, 255, 0.54);\n",
       "  --xr-font-color3: rgba(255, 255, 255, 0.38);\n",
       "  --xr-border-color: #1F1F1F;\n",
       "  --xr-disabled-color: #515151;\n",
       "  --xr-background-color: #111111;\n",
       "  --xr-background-color-row-even: #111111;\n",
       "  --xr-background-color-row-odd: #313131;\n",
       "}\n",
       "\n",
       ".xr-wrap {\n",
       "  display: block;\n",
       "  min-width: 300px;\n",
       "  max-width: 700px;\n",
       "}\n",
       "\n",
       ".xr-text-repr-fallback {\n",
       "  /* fallback to plain text repr when CSS is not injected (untrusted notebook) */\n",
       "  display: none;\n",
       "}\n",
       "\n",
       ".xr-header {\n",
       "  padding-top: 6px;\n",
       "  padding-bottom: 6px;\n",
       "  margin-bottom: 4px;\n",
       "  border-bottom: solid 1px var(--xr-border-color);\n",
       "}\n",
       "\n",
       ".xr-header > div,\n",
       ".xr-header > ul {\n",
       "  display: inline;\n",
       "  margin-top: 0;\n",
       "  margin-bottom: 0;\n",
       "}\n",
       "\n",
       ".xr-obj-type,\n",
       ".xr-array-name {\n",
       "  margin-left: 2px;\n",
       "  margin-right: 10px;\n",
       "}\n",
       "\n",
       ".xr-obj-type {\n",
       "  color: var(--xr-font-color2);\n",
       "}\n",
       "\n",
       ".xr-sections {\n",
       "  padding-left: 0 !important;\n",
       "  display: grid;\n",
       "  grid-template-columns: 150px auto auto 1fr 20px 20px;\n",
       "}\n",
       "\n",
       ".xr-section-item {\n",
       "  display: contents;\n",
       "}\n",
       "\n",
       ".xr-section-item input {\n",
       "  display: none;\n",
       "}\n",
       "\n",
       ".xr-section-item input + label {\n",
       "  color: var(--xr-disabled-color);\n",
       "}\n",
       "\n",
       ".xr-section-item input:enabled + label {\n",
       "  cursor: pointer;\n",
       "  color: var(--xr-font-color2);\n",
       "}\n",
       "\n",
       ".xr-section-item input:enabled + label:hover {\n",
       "  color: var(--xr-font-color0);\n",
       "}\n",
       "\n",
       ".xr-section-summary {\n",
       "  grid-column: 1;\n",
       "  color: var(--xr-font-color2);\n",
       "  font-weight: 500;\n",
       "}\n",
       "\n",
       ".xr-section-summary > span {\n",
       "  display: inline-block;\n",
       "  padding-left: 0.5em;\n",
       "}\n",
       "\n",
       ".xr-section-summary-in:disabled + label {\n",
       "  color: var(--xr-font-color2);\n",
       "}\n",
       "\n",
       ".xr-section-summary-in + label:before {\n",
       "  display: inline-block;\n",
       "  content: '►';\n",
       "  font-size: 11px;\n",
       "  width: 15px;\n",
       "  text-align: center;\n",
       "}\n",
       "\n",
       ".xr-section-summary-in:disabled + label:before {\n",
       "  color: var(--xr-disabled-color);\n",
       "}\n",
       "\n",
       ".xr-section-summary-in:checked + label:before {\n",
       "  content: '▼';\n",
       "}\n",
       "\n",
       ".xr-section-summary-in:checked + label > span {\n",
       "  display: none;\n",
       "}\n",
       "\n",
       ".xr-section-summary,\n",
       ".xr-section-inline-details {\n",
       "  padding-top: 4px;\n",
       "  padding-bottom: 4px;\n",
       "}\n",
       "\n",
       ".xr-section-inline-details {\n",
       "  grid-column: 2 / -1;\n",
       "}\n",
       "\n",
       ".xr-section-details {\n",
       "  display: none;\n",
       "  grid-column: 1 / -1;\n",
       "  margin-bottom: 5px;\n",
       "}\n",
       "\n",
       ".xr-section-summary-in:checked ~ .xr-section-details {\n",
       "  display: contents;\n",
       "}\n",
       "\n",
       ".xr-array-wrap {\n",
       "  grid-column: 1 / -1;\n",
       "  display: grid;\n",
       "  grid-template-columns: 20px auto;\n",
       "}\n",
       "\n",
       ".xr-array-wrap > label {\n",
       "  grid-column: 1;\n",
       "  vertical-align: top;\n",
       "}\n",
       "\n",
       ".xr-preview {\n",
       "  color: var(--xr-font-color3);\n",
       "}\n",
       "\n",
       ".xr-array-preview,\n",
       ".xr-array-data {\n",
       "  padding: 0 5px !important;\n",
       "  grid-column: 2;\n",
       "}\n",
       "\n",
       ".xr-array-data,\n",
       ".xr-array-in:checked ~ .xr-array-preview {\n",
       "  display: none;\n",
       "}\n",
       "\n",
       ".xr-array-in:checked ~ .xr-array-data,\n",
       ".xr-array-preview {\n",
       "  display: inline-block;\n",
       "}\n",
       "\n",
       ".xr-dim-list {\n",
       "  display: inline-block !important;\n",
       "  list-style: none;\n",
       "  padding: 0 !important;\n",
       "  margin: 0;\n",
       "}\n",
       "\n",
       ".xr-dim-list li {\n",
       "  display: inline-block;\n",
       "  padding: 0;\n",
       "  margin: 0;\n",
       "}\n",
       "\n",
       ".xr-dim-list:before {\n",
       "  content: '(';\n",
       "}\n",
       "\n",
       ".xr-dim-list:after {\n",
       "  content: ')';\n",
       "}\n",
       "\n",
       ".xr-dim-list li:not(:last-child):after {\n",
       "  content: ',';\n",
       "  padding-right: 5px;\n",
       "}\n",
       "\n",
       ".xr-has-index {\n",
       "  font-weight: bold;\n",
       "}\n",
       "\n",
       ".xr-var-list,\n",
       ".xr-var-item {\n",
       "  display: contents;\n",
       "}\n",
       "\n",
       ".xr-var-item > div,\n",
       ".xr-var-item label,\n",
       ".xr-var-item > .xr-var-name span {\n",
       "  background-color: var(--xr-background-color-row-even);\n",
       "  margin-bottom: 0;\n",
       "}\n",
       "\n",
       ".xr-var-item > .xr-var-name:hover span {\n",
       "  padding-right: 5px;\n",
       "}\n",
       "\n",
       ".xr-var-list > li:nth-child(odd) > div,\n",
       ".xr-var-list > li:nth-child(odd) > label,\n",
       ".xr-var-list > li:nth-child(odd) > .xr-var-name span {\n",
       "  background-color: var(--xr-background-color-row-odd);\n",
       "}\n",
       "\n",
       ".xr-var-name {\n",
       "  grid-column: 1;\n",
       "}\n",
       "\n",
       ".xr-var-dims {\n",
       "  grid-column: 2;\n",
       "}\n",
       "\n",
       ".xr-var-dtype {\n",
       "  grid-column: 3;\n",
       "  text-align: right;\n",
       "  color: var(--xr-font-color2);\n",
       "}\n",
       "\n",
       ".xr-var-preview {\n",
       "  grid-column: 4;\n",
       "}\n",
       "\n",
       ".xr-var-name,\n",
       ".xr-var-dims,\n",
       ".xr-var-dtype,\n",
       ".xr-preview,\n",
       ".xr-attrs dt {\n",
       "  white-space: nowrap;\n",
       "  overflow: hidden;\n",
       "  text-overflow: ellipsis;\n",
       "  padding-right: 10px;\n",
       "}\n",
       "\n",
       ".xr-var-name:hover,\n",
       ".xr-var-dims:hover,\n",
       ".xr-var-dtype:hover,\n",
       ".xr-attrs dt:hover {\n",
       "  overflow: visible;\n",
       "  width: auto;\n",
       "  z-index: 1;\n",
       "}\n",
       "\n",
       ".xr-var-attrs,\n",
       ".xr-var-data {\n",
       "  display: none;\n",
       "  background-color: var(--xr-background-color) !important;\n",
       "  padding-bottom: 5px !important;\n",
       "}\n",
       "\n",
       ".xr-var-attrs-in:checked ~ .xr-var-attrs,\n",
       ".xr-var-data-in:checked ~ .xr-var-data {\n",
       "  display: block;\n",
       "}\n",
       "\n",
       ".xr-var-data > table {\n",
       "  float: right;\n",
       "}\n",
       "\n",
       ".xr-var-name span,\n",
       ".xr-var-data,\n",
       ".xr-attrs {\n",
       "  padding-left: 25px !important;\n",
       "}\n",
       "\n",
       ".xr-attrs,\n",
       ".xr-var-attrs,\n",
       ".xr-var-data {\n",
       "  grid-column: 1 / -1;\n",
       "}\n",
       "\n",
       "dl.xr-attrs {\n",
       "  padding: 0;\n",
       "  margin: 0;\n",
       "  display: grid;\n",
       "  grid-template-columns: 125px auto;\n",
       "}\n",
       "\n",
       ".xr-attrs dt,\n",
       ".xr-attrs dd {\n",
       "  padding: 0;\n",
       "  margin: 0;\n",
       "  float: left;\n",
       "  padding-right: 10px;\n",
       "  width: auto;\n",
       "}\n",
       "\n",
       ".xr-attrs dt {\n",
       "  font-weight: normal;\n",
       "  grid-column: 1;\n",
       "}\n",
       "\n",
       ".xr-attrs dt:hover span {\n",
       "  display: inline-block;\n",
       "  background: var(--xr-background-color);\n",
       "  padding-right: 10px;\n",
       "}\n",
       "\n",
       ".xr-attrs dd {\n",
       "  grid-column: 2;\n",
       "  white-space: pre-wrap;\n",
       "  word-break: break-all;\n",
       "}\n",
       "\n",
       ".xr-icon-database,\n",
       ".xr-icon-file-text2 {\n",
       "  display: inline-block;\n",
       "  vertical-align: middle;\n",
       "  width: 1em;\n",
       "  height: 1.5em !important;\n",
       "  stroke-width: 0;\n",
       "  stroke: currentColor;\n",
       "  fill: currentColor;\n",
       "}\n",
       "</style><pre class='xr-text-repr-fallback'>&lt;xarray.Dataset&gt;\n",
       "Dimensions:   (northing: 221, easting: 219)\n",
       "Coordinates:\n",
       "  * easting   (easting) float64 5.001e+05 5.003e+05 ... 5.544e+05 5.547e+05\n",
       "  * northing  (northing) float64 8.784e+06 8.784e+06 ... 8.839e+06 8.839e+06\n",
       "Data variables:\n",
       "    UTHRAZAO  (northing, easting) float64 0.1177 0.1284 0.1457 ... 0.0906 0.1254\n",
       "Attributes:\n",
       "    metadata:  Generated by Spline()</pre><div class='xr-wrap' hidden><div class='xr-header'><div class='xr-obj-type'>xarray.Dataset</div></div><ul class='xr-sections'><li class='xr-section-item'><input id='section-9836908a-a154-4cdf-b3ff-2a864612d699' class='xr-section-summary-in' type='checkbox' disabled ><label for='section-9836908a-a154-4cdf-b3ff-2a864612d699' class='xr-section-summary'  title='Expand/collapse section'>Dimensions:</label><div class='xr-section-inline-details'><ul class='xr-dim-list'><li><span class='xr-has-index'>northing</span>: 221</li><li><span class='xr-has-index'>easting</span>: 219</li></ul></div><div class='xr-section-details'></div></li><li class='xr-section-item'><input id='section-787c2d25-00f1-4304-9952-bbea053146c1' class='xr-section-summary-in' type='checkbox'  checked><label for='section-787c2d25-00f1-4304-9952-bbea053146c1' class='xr-section-summary' >Coordinates: <span>(2)</span></label><div class='xr-section-inline-details'></div><div class='xr-section-details'><ul class='xr-var-list'><li class='xr-var-item'><div class='xr-var-name'><span class='xr-has-index'>easting</span></div><div class='xr-var-dims'>(easting)</div><div class='xr-var-dtype'>float64</div><div class='xr-var-preview xr-preview'>5.001e+05 5.003e+05 ... 5.547e+05</div><input id='attrs-b62490b5-e08b-42d0-a556-97e0a442ffce' class='xr-var-attrs-in' type='checkbox' disabled><label for='attrs-b62490b5-e08b-42d0-a556-97e0a442ffce' title='Show/Hide attributes'><svg class='icon xr-icon-file-text2'><use xlink:href='#icon-file-text2'></use></svg></label><input id='data-178fe14a-cf17-49e3-b7ff-f9871d76e933' class='xr-var-data-in' type='checkbox'><label for='data-178fe14a-cf17-49e3-b7ff-f9871d76e933' title='Show/Hide data repr'><svg class='icon xr-icon-database'><use xlink:href='#icon-database'></use></svg></label><div class='xr-var-attrs'><dl class='xr-attrs'></dl></div><div class='xr-var-data'><pre>array([500056.852857, 500307.293637, 500557.734417, ..., 554152.061298,\n",
       "       554402.502077, 554652.942857])</pre></div></li><li class='xr-var-item'><div class='xr-var-name'><span class='xr-has-index'>northing</span></div><div class='xr-var-dims'>(northing)</div><div class='xr-var-dtype'>float64</div><div class='xr-var-preview xr-preview'>8.784e+06 8.784e+06 ... 8.839e+06</div><input id='attrs-9ddeb25f-6dc3-4950-80f5-19554086886b' class='xr-var-attrs-in' type='checkbox' disabled><label for='attrs-9ddeb25f-6dc3-4950-80f5-19554086886b' title='Show/Hide attributes'><svg class='icon xr-icon-file-text2'><use xlink:href='#icon-file-text2'></use></svg></label><input id='data-46cb4ab3-108c-459f-a709-da936366678f' class='xr-var-data-in' type='checkbox'><label for='data-46cb4ab3-108c-459f-a709-da936366678f' title='Show/Hide data repr'><svg class='icon xr-icon-database'><use xlink:href='#icon-database'></use></svg></label><div class='xr-var-attrs'><dl class='xr-attrs'></dl></div><div class='xr-var-data'><pre>array([8784185.803333, 8784435.34274 , 8784684.882147, ..., 8838585.394043,\n",
       "       8838834.93345 , 8839084.472857])</pre></div></li></ul></div></li><li class='xr-section-item'><input id='section-108d06d2-ca17-4d22-af3c-979e5fe4b42a' class='xr-section-summary-in' type='checkbox'  checked><label for='section-108d06d2-ca17-4d22-af3c-979e5fe4b42a' class='xr-section-summary' >Data variables: <span>(1)</span></label><div class='xr-section-inline-details'></div><div class='xr-section-details'><ul class='xr-var-list'><li class='xr-var-item'><div class='xr-var-name'><span>UTHRAZAO</span></div><div class='xr-var-dims'>(northing, easting)</div><div class='xr-var-dtype'>float64</div><div class='xr-var-preview xr-preview'>0.1177 0.1284 ... 0.0906 0.1254</div><input id='attrs-73a90911-2783-4b5d-9e2c-86bc6b20735d' class='xr-var-attrs-in' type='checkbox' ><label for='attrs-73a90911-2783-4b5d-9e2c-86bc6b20735d' title='Show/Hide attributes'><svg class='icon xr-icon-file-text2'><use xlink:href='#icon-file-text2'></use></svg></label><input id='data-c48ccdcb-b81a-495c-a969-1d956e78dc72' class='xr-var-data-in' type='checkbox'><label for='data-c48ccdcb-b81a-495c-a969-1d956e78dc72' title='Show/Hide data repr'><svg class='icon xr-icon-database'><use xlink:href='#icon-database'></use></svg></label><div class='xr-var-attrs'><dl class='xr-attrs'><dt><span>metadata :</span></dt><dd>Generated by Spline()</dd></dl></div><div class='xr-var-data'><pre>array([[0.11771067, 0.1283779 , 0.14565399, ..., 0.37355811, 0.63110083,\n",
       "        0.88551599],\n",
       "       [0.13521379, 0.131981  , 0.12972898, ..., 0.32226512, 0.54689279,\n",
       "        0.77713894],\n",
       "       [0.15454342, 0.13526982, 0.1079668 , ..., 0.27078973, 0.44302734,\n",
       "        0.63618061],\n",
       "       ...,\n",
       "       [0.1222705 , 0.13978981, 0.16408147, ..., 0.17497187, 0.17547328,\n",
       "        0.18303125],\n",
       "       [0.11450984, 0.12244337, 0.12715427, ..., 0.11606468, 0.13328983,\n",
       "        0.15472444],\n",
       "       [0.1084556 , 0.10879384, 0.10303786, ..., 0.05910068, 0.09060242,\n",
       "        0.12539576]])</pre></div></li></ul></div></li><li class='xr-section-item'><input id='section-58ac75da-42f8-4be1-8f6e-56139cde1591' class='xr-section-summary-in' type='checkbox'  checked><label for='section-58ac75da-42f8-4be1-8f6e-56139cde1591' class='xr-section-summary' >Attributes: <span>(1)</span></label><div class='xr-section-inline-details'></div><div class='xr-section-details'><dl class='xr-attrs'><dt><span>metadata :</span></dt><dd>Generated by Spline()</dd></dl></div></li></ul></div></div>"
      ],
      "text/plain": [
       "<xarray.Dataset>\n",
       "Dimensions:   (northing: 221, easting: 219)\n",
       "Coordinates:\n",
       "  * easting   (easting) float64 5.001e+05 5.003e+05 ... 5.544e+05 5.547e+05\n",
       "  * northing  (northing) float64 8.784e+06 8.784e+06 ... 8.839e+06 8.839e+06\n",
       "Data variables:\n",
       "    UTHRAZAO  (northing, easting) float64 0.1177 0.1284 0.1457 ... 0.0906 0.1254\n",
       "Attributes:\n",
       "    metadata:  Generated by Spline()"
      ]
     },
     "metadata": {},
     "execution_count": 63
    }
   ],
   "metadata": {}
  },
  {
   "cell_type": "code",
   "execution_count": 64,
   "source": [
    "plt.figure()\n",
    "grid.UTHRAZAO.plot(cmap='rainbow')\n",
    "plt.axis('scaled')"
   ],
   "outputs": [
    {
     "output_type": "display_data",
     "data": {
      "application/vnd.jupyter.widget-view+json": {
       "version_major": 2,
       "version_minor": 0,
       "model_id": "246853a1a45a47b595988b961d63590d"
      },
      "text/plain": [
       "Canvas(toolbar=Toolbar(toolitems=[('Home', 'Reset original view', 'home', 'home'), ('Back', 'Back to previous …"
      ]
     },
     "metadata": {}
    },
    {
     "output_type": "execute_result",
     "data": {
      "text/plain": [
       "(499931.6324672345, 554778.1632470512, 8784061.033629868, 8839209.242560606)"
      ]
     },
     "metadata": {},
     "execution_count": 64
    }
   ],
   "metadata": {}
  },
  {
   "cell_type": "code",
   "execution_count": 67,
   "source": [
    "grid = vd.distance_mask(coordinates, maxdist=500, grid=grid)\n",
    "grid\n",
    "\n",
    "grid.UTHRAZAO.plot(figsize=(7,7),cmap='rainbow')\n",
    "plt.axis('scaled')"
   ],
   "outputs": [
    {
     "output_type": "stream",
     "name": "stderr",
     "text": [
      "/home/ggrl/anaconda3/envs/geologist_bot/lib/python3.8/site-packages/xarray/plot/utils.py:429: RuntimeWarning: More than 20 figures have been opened. Figures created through the pyplot interface (`matplotlib.pyplot.figure`) are retained until explicitly closed and may consume too much memory. (To control this warning, see the rcParam `figure.max_open_warning`).\n",
      "  _, ax = plt.subplots(figsize=figsize)\n"
     ]
    },
    {
     "output_type": "display_data",
     "data": {
      "application/vnd.jupyter.widget-view+json": {
       "version_major": 2,
       "version_minor": 0,
       "model_id": "d1bab037d56142d28279935a84d38cd4"
      },
      "text/plain": [
       "Canvas(toolbar=Toolbar(toolitems=[('Home', 'Reset original view', 'home', 'home'), ('Back', 'Back to previous …"
      ]
     },
     "metadata": {}
    },
    {
     "output_type": "execute_result",
     "data": {
      "text/plain": [
       "(499931.6324672345, 554778.1632470512, 8784061.033629868, 8839209.242560606)"
      ]
     },
     "metadata": {},
     "execution_count": 67
    }
   ],
   "metadata": {}
  },
  {
   "cell_type": "code",
   "execution_count": 87,
   "source": [
    "chain = vd.Chain([\n",
    "    ('trend',  vd.Trend(degree=1)),\n",
    "    ('reduce', vd.BlockReduce(np.mean, spacing=1000)),\n",
    "    ('spline', vd.Spline())\n",
    "])"
   ],
   "outputs": [],
   "metadata": {}
  },
  {
   "cell_type": "code",
   "execution_count": 88,
   "source": [
    "chain.fit(coordinates, data.UTHRAZAO)"
   ],
   "outputs": [
    {
     "output_type": "execute_result",
     "data": {
      "text/plain": [
       "Chain(steps=[('trend', Trend(degree=1)),\n",
       "             ('reduce',\n",
       "              BlockReduce(reduction=<function mean at 0x7f8ff81cb3a0>,\n",
       "                          spacing=1000)),\n",
       "             ('spline', Spline())])"
      ]
     },
     "metadata": {},
     "execution_count": 88
    }
   ],
   "metadata": {}
  },
  {
   "cell_type": "code",
   "execution_count": 89,
   "source": [
    "grid = chain.grid(spacing=250, data_names=['UTHRAZAO'])\n",
    "grid_mask = vd.distance_mask(coordinates, maxdist=500, grid=grid)\n",
    "grid_mask"
   ],
   "outputs": [
    {
     "output_type": "execute_result",
     "data": {
      "text/html": [
       "<div><svg style=\"position: absolute; width: 0; height: 0; overflow: hidden\">\n",
       "<defs>\n",
       "<symbol id=\"icon-database\" viewBox=\"0 0 32 32\">\n",
       "<path d=\"M16 0c-8.837 0-16 2.239-16 5v4c0 2.761 7.163 5 16 5s16-2.239 16-5v-4c0-2.761-7.163-5-16-5z\"></path>\n",
       "<path d=\"M16 17c-8.837 0-16-2.239-16-5v6c0 2.761 7.163 5 16 5s16-2.239 16-5v-6c0 2.761-7.163 5-16 5z\"></path>\n",
       "<path d=\"M16 26c-8.837 0-16-2.239-16-5v6c0 2.761 7.163 5 16 5s16-2.239 16-5v-6c0 2.761-7.163 5-16 5z\"></path>\n",
       "</symbol>\n",
       "<symbol id=\"icon-file-text2\" viewBox=\"0 0 32 32\">\n",
       "<path d=\"M28.681 7.159c-0.694-0.947-1.662-2.053-2.724-3.116s-2.169-2.030-3.116-2.724c-1.612-1.182-2.393-1.319-2.841-1.319h-15.5c-1.378 0-2.5 1.121-2.5 2.5v27c0 1.378 1.122 2.5 2.5 2.5h23c1.378 0 2.5-1.122 2.5-2.5v-19.5c0-0.448-0.137-1.23-1.319-2.841zM24.543 5.457c0.959 0.959 1.712 1.825 2.268 2.543h-4.811v-4.811c0.718 0.556 1.584 1.309 2.543 2.268zM28 29.5c0 0.271-0.229 0.5-0.5 0.5h-23c-0.271 0-0.5-0.229-0.5-0.5v-27c0-0.271 0.229-0.5 0.5-0.5 0 0 15.499-0 15.5 0v7c0 0.552 0.448 1 1 1h7v19.5z\"></path>\n",
       "<path d=\"M23 26h-14c-0.552 0-1-0.448-1-1s0.448-1 1-1h14c0.552 0 1 0.448 1 1s-0.448 1-1 1z\"></path>\n",
       "<path d=\"M23 22h-14c-0.552 0-1-0.448-1-1s0.448-1 1-1h14c0.552 0 1 0.448 1 1s-0.448 1-1 1z\"></path>\n",
       "<path d=\"M23 18h-14c-0.552 0-1-0.448-1-1s0.448-1 1-1h14c0.552 0 1 0.448 1 1s-0.448 1-1 1z\"></path>\n",
       "</symbol>\n",
       "</defs>\n",
       "</svg>\n",
       "<style>/* CSS stylesheet for displaying xarray objects in jupyterlab.\n",
       " *\n",
       " */\n",
       "\n",
       ":root {\n",
       "  --xr-font-color0: var(--jp-content-font-color0, rgba(0, 0, 0, 1));\n",
       "  --xr-font-color2: var(--jp-content-font-color2, rgba(0, 0, 0, 0.54));\n",
       "  --xr-font-color3: var(--jp-content-font-color3, rgba(0, 0, 0, 0.38));\n",
       "  --xr-border-color: var(--jp-border-color2, #e0e0e0);\n",
       "  --xr-disabled-color: var(--jp-layout-color3, #bdbdbd);\n",
       "  --xr-background-color: var(--jp-layout-color0, white);\n",
       "  --xr-background-color-row-even: var(--jp-layout-color1, white);\n",
       "  --xr-background-color-row-odd: var(--jp-layout-color2, #eeeeee);\n",
       "}\n",
       "\n",
       "html[theme=dark],\n",
       "body.vscode-dark {\n",
       "  --xr-font-color0: rgba(255, 255, 255, 1);\n",
       "  --xr-font-color2: rgba(255, 255, 255, 0.54);\n",
       "  --xr-font-color3: rgba(255, 255, 255, 0.38);\n",
       "  --xr-border-color: #1F1F1F;\n",
       "  --xr-disabled-color: #515151;\n",
       "  --xr-background-color: #111111;\n",
       "  --xr-background-color-row-even: #111111;\n",
       "  --xr-background-color-row-odd: #313131;\n",
       "}\n",
       "\n",
       ".xr-wrap {\n",
       "  display: block;\n",
       "  min-width: 300px;\n",
       "  max-width: 700px;\n",
       "}\n",
       "\n",
       ".xr-text-repr-fallback {\n",
       "  /* fallback to plain text repr when CSS is not injected (untrusted notebook) */\n",
       "  display: none;\n",
       "}\n",
       "\n",
       ".xr-header {\n",
       "  padding-top: 6px;\n",
       "  padding-bottom: 6px;\n",
       "  margin-bottom: 4px;\n",
       "  border-bottom: solid 1px var(--xr-border-color);\n",
       "}\n",
       "\n",
       ".xr-header > div,\n",
       ".xr-header > ul {\n",
       "  display: inline;\n",
       "  margin-top: 0;\n",
       "  margin-bottom: 0;\n",
       "}\n",
       "\n",
       ".xr-obj-type,\n",
       ".xr-array-name {\n",
       "  margin-left: 2px;\n",
       "  margin-right: 10px;\n",
       "}\n",
       "\n",
       ".xr-obj-type {\n",
       "  color: var(--xr-font-color2);\n",
       "}\n",
       "\n",
       ".xr-sections {\n",
       "  padding-left: 0 !important;\n",
       "  display: grid;\n",
       "  grid-template-columns: 150px auto auto 1fr 20px 20px;\n",
       "}\n",
       "\n",
       ".xr-section-item {\n",
       "  display: contents;\n",
       "}\n",
       "\n",
       ".xr-section-item input {\n",
       "  display: none;\n",
       "}\n",
       "\n",
       ".xr-section-item input + label {\n",
       "  color: var(--xr-disabled-color);\n",
       "}\n",
       "\n",
       ".xr-section-item input:enabled + label {\n",
       "  cursor: pointer;\n",
       "  color: var(--xr-font-color2);\n",
       "}\n",
       "\n",
       ".xr-section-item input:enabled + label:hover {\n",
       "  color: var(--xr-font-color0);\n",
       "}\n",
       "\n",
       ".xr-section-summary {\n",
       "  grid-column: 1;\n",
       "  color: var(--xr-font-color2);\n",
       "  font-weight: 500;\n",
       "}\n",
       "\n",
       ".xr-section-summary > span {\n",
       "  display: inline-block;\n",
       "  padding-left: 0.5em;\n",
       "}\n",
       "\n",
       ".xr-section-summary-in:disabled + label {\n",
       "  color: var(--xr-font-color2);\n",
       "}\n",
       "\n",
       ".xr-section-summary-in + label:before {\n",
       "  display: inline-block;\n",
       "  content: '►';\n",
       "  font-size: 11px;\n",
       "  width: 15px;\n",
       "  text-align: center;\n",
       "}\n",
       "\n",
       ".xr-section-summary-in:disabled + label:before {\n",
       "  color: var(--xr-disabled-color);\n",
       "}\n",
       "\n",
       ".xr-section-summary-in:checked + label:before {\n",
       "  content: '▼';\n",
       "}\n",
       "\n",
       ".xr-section-summary-in:checked + label > span {\n",
       "  display: none;\n",
       "}\n",
       "\n",
       ".xr-section-summary,\n",
       ".xr-section-inline-details {\n",
       "  padding-top: 4px;\n",
       "  padding-bottom: 4px;\n",
       "}\n",
       "\n",
       ".xr-section-inline-details {\n",
       "  grid-column: 2 / -1;\n",
       "}\n",
       "\n",
       ".xr-section-details {\n",
       "  display: none;\n",
       "  grid-column: 1 / -1;\n",
       "  margin-bottom: 5px;\n",
       "}\n",
       "\n",
       ".xr-section-summary-in:checked ~ .xr-section-details {\n",
       "  display: contents;\n",
       "}\n",
       "\n",
       ".xr-array-wrap {\n",
       "  grid-column: 1 / -1;\n",
       "  display: grid;\n",
       "  grid-template-columns: 20px auto;\n",
       "}\n",
       "\n",
       ".xr-array-wrap > label {\n",
       "  grid-column: 1;\n",
       "  vertical-align: top;\n",
       "}\n",
       "\n",
       ".xr-preview {\n",
       "  color: var(--xr-font-color3);\n",
       "}\n",
       "\n",
       ".xr-array-preview,\n",
       ".xr-array-data {\n",
       "  padding: 0 5px !important;\n",
       "  grid-column: 2;\n",
       "}\n",
       "\n",
       ".xr-array-data,\n",
       ".xr-array-in:checked ~ .xr-array-preview {\n",
       "  display: none;\n",
       "}\n",
       "\n",
       ".xr-array-in:checked ~ .xr-array-data,\n",
       ".xr-array-preview {\n",
       "  display: inline-block;\n",
       "}\n",
       "\n",
       ".xr-dim-list {\n",
       "  display: inline-block !important;\n",
       "  list-style: none;\n",
       "  padding: 0 !important;\n",
       "  margin: 0;\n",
       "}\n",
       "\n",
       ".xr-dim-list li {\n",
       "  display: inline-block;\n",
       "  padding: 0;\n",
       "  margin: 0;\n",
       "}\n",
       "\n",
       ".xr-dim-list:before {\n",
       "  content: '(';\n",
       "}\n",
       "\n",
       ".xr-dim-list:after {\n",
       "  content: ')';\n",
       "}\n",
       "\n",
       ".xr-dim-list li:not(:last-child):after {\n",
       "  content: ',';\n",
       "  padding-right: 5px;\n",
       "}\n",
       "\n",
       ".xr-has-index {\n",
       "  font-weight: bold;\n",
       "}\n",
       "\n",
       ".xr-var-list,\n",
       ".xr-var-item {\n",
       "  display: contents;\n",
       "}\n",
       "\n",
       ".xr-var-item > div,\n",
       ".xr-var-item label,\n",
       ".xr-var-item > .xr-var-name span {\n",
       "  background-color: var(--xr-background-color-row-even);\n",
       "  margin-bottom: 0;\n",
       "}\n",
       "\n",
       ".xr-var-item > .xr-var-name:hover span {\n",
       "  padding-right: 5px;\n",
       "}\n",
       "\n",
       ".xr-var-list > li:nth-child(odd) > div,\n",
       ".xr-var-list > li:nth-child(odd) > label,\n",
       ".xr-var-list > li:nth-child(odd) > .xr-var-name span {\n",
       "  background-color: var(--xr-background-color-row-odd);\n",
       "}\n",
       "\n",
       ".xr-var-name {\n",
       "  grid-column: 1;\n",
       "}\n",
       "\n",
       ".xr-var-dims {\n",
       "  grid-column: 2;\n",
       "}\n",
       "\n",
       ".xr-var-dtype {\n",
       "  grid-column: 3;\n",
       "  text-align: right;\n",
       "  color: var(--xr-font-color2);\n",
       "}\n",
       "\n",
       ".xr-var-preview {\n",
       "  grid-column: 4;\n",
       "}\n",
       "\n",
       ".xr-var-name,\n",
       ".xr-var-dims,\n",
       ".xr-var-dtype,\n",
       ".xr-preview,\n",
       ".xr-attrs dt {\n",
       "  white-space: nowrap;\n",
       "  overflow: hidden;\n",
       "  text-overflow: ellipsis;\n",
       "  padding-right: 10px;\n",
       "}\n",
       "\n",
       ".xr-var-name:hover,\n",
       ".xr-var-dims:hover,\n",
       ".xr-var-dtype:hover,\n",
       ".xr-attrs dt:hover {\n",
       "  overflow: visible;\n",
       "  width: auto;\n",
       "  z-index: 1;\n",
       "}\n",
       "\n",
       ".xr-var-attrs,\n",
       ".xr-var-data {\n",
       "  display: none;\n",
       "  background-color: var(--xr-background-color) !important;\n",
       "  padding-bottom: 5px !important;\n",
       "}\n",
       "\n",
       ".xr-var-attrs-in:checked ~ .xr-var-attrs,\n",
       ".xr-var-data-in:checked ~ .xr-var-data {\n",
       "  display: block;\n",
       "}\n",
       "\n",
       ".xr-var-data > table {\n",
       "  float: right;\n",
       "}\n",
       "\n",
       ".xr-var-name span,\n",
       ".xr-var-data,\n",
       ".xr-attrs {\n",
       "  padding-left: 25px !important;\n",
       "}\n",
       "\n",
       ".xr-attrs,\n",
       ".xr-var-attrs,\n",
       ".xr-var-data {\n",
       "  grid-column: 1 / -1;\n",
       "}\n",
       "\n",
       "dl.xr-attrs {\n",
       "  padding: 0;\n",
       "  margin: 0;\n",
       "  display: grid;\n",
       "  grid-template-columns: 125px auto;\n",
       "}\n",
       "\n",
       ".xr-attrs dt,\n",
       ".xr-attrs dd {\n",
       "  padding: 0;\n",
       "  margin: 0;\n",
       "  float: left;\n",
       "  padding-right: 10px;\n",
       "  width: auto;\n",
       "}\n",
       "\n",
       ".xr-attrs dt {\n",
       "  font-weight: normal;\n",
       "  grid-column: 1;\n",
       "}\n",
       "\n",
       ".xr-attrs dt:hover span {\n",
       "  display: inline-block;\n",
       "  background: var(--xr-background-color);\n",
       "  padding-right: 10px;\n",
       "}\n",
       "\n",
       ".xr-attrs dd {\n",
       "  grid-column: 2;\n",
       "  white-space: pre-wrap;\n",
       "  word-break: break-all;\n",
       "}\n",
       "\n",
       ".xr-icon-database,\n",
       ".xr-icon-file-text2 {\n",
       "  display: inline-block;\n",
       "  vertical-align: middle;\n",
       "  width: 1em;\n",
       "  height: 1.5em !important;\n",
       "  stroke-width: 0;\n",
       "  stroke: currentColor;\n",
       "  fill: currentColor;\n",
       "}\n",
       "</style><pre class='xr-text-repr-fallback'>&lt;xarray.Dataset&gt;\n",
       "Dimensions:   (northing: 222, easting: 220)\n",
       "Coordinates:\n",
       "  * easting   (easting) float64 5e+05 5.003e+05 ... 5.544e+05 5.547e+05\n",
       "  * northing  (northing) float64 8.784e+06 8.784e+06 ... 8.839e+06 8.839e+06\n",
       "Data variables:\n",
       "    UTHRAZAO  (northing, easting) float64 0.1301 0.1312 0.133 ... 0.1108 0.1121\n",
       "Attributes:\n",
       "    metadata:  Generated by Chain(steps=[(&#x27;trend&#x27;, Trend(degree=1)),\\n       ...</pre><div class='xr-wrap' hidden><div class='xr-header'><div class='xr-obj-type'>xarray.Dataset</div></div><ul class='xr-sections'><li class='xr-section-item'><input id='section-a47e797b-1272-4b99-97e6-3974bac58efc' class='xr-section-summary-in' type='checkbox' disabled ><label for='section-a47e797b-1272-4b99-97e6-3974bac58efc' class='xr-section-summary'  title='Expand/collapse section'>Dimensions:</label><div class='xr-section-inline-details'><ul class='xr-dim-list'><li><span class='xr-has-index'>northing</span>: 222</li><li><span class='xr-has-index'>easting</span>: 220</li></ul></div><div class='xr-section-details'></div></li><li class='xr-section-item'><input id='section-d32d97f8-6963-45a1-9ff7-3d378f57dd79' class='xr-section-summary-in' type='checkbox'  checked><label for='section-d32d97f8-6963-45a1-9ff7-3d378f57dd79' class='xr-section-summary' >Coordinates: <span>(2)</span></label><div class='xr-section-inline-details'></div><div class='xr-section-details'><ul class='xr-var-list'><li class='xr-var-item'><div class='xr-var-name'><span class='xr-has-index'>easting</span></div><div class='xr-var-dims'>(easting)</div><div class='xr-var-dtype'>float64</div><div class='xr-var-preview xr-preview'>5e+05 5.003e+05 ... 5.547e+05</div><input id='attrs-8520cc74-4044-41da-8a1a-d70c9dbb2f9e' class='xr-var-attrs-in' type='checkbox' disabled><label for='attrs-8520cc74-4044-41da-8a1a-d70c9dbb2f9e' title='Show/Hide attributes'><svg class='icon xr-icon-file-text2'><use xlink:href='#icon-file-text2'></use></svg></label><input id='data-b7f96fa8-715e-4c17-8ed1-c99894e71b7d' class='xr-var-data-in' type='checkbox'><label for='data-b7f96fa8-715e-4c17-8ed1-c99894e71b7d' title='Show/Hide data repr'><svg class='icon xr-icon-database'><use xlink:href='#icon-database'></use></svg></label><div class='xr-var-attrs'><dl class='xr-attrs'></dl></div><div class='xr-var-data'><pre>array([500005.3     , 500255.025799, 500504.751598, ..., 554195.798402,\n",
       "       554445.524201, 554695.25    ])</pre></div></li><li class='xr-var-item'><div class='xr-var-name'><span class='xr-has-index'>northing</span></div><div class='xr-var-dims'>(northing)</div><div class='xr-var-dtype'>float64</div><div class='xr-var-preview xr-preview'>8.784e+06 8.784e+06 ... 8.839e+06</div><input id='attrs-f607a168-1ab6-4692-8c78-75760deff0c3' class='xr-var-attrs-in' type='checkbox' disabled><label for='attrs-f607a168-1ab6-4692-8c78-75760deff0c3' title='Show/Hide attributes'><svg class='icon xr-icon-file-text2'><use xlink:href='#icon-file-text2'></use></svg></label><input id='data-e73e6f2d-a276-41ba-81c4-df3deefe08d3' class='xr-var-data-in' type='checkbox'><label for='data-e73e6f2d-a276-41ba-81c4-df3deefe08d3' title='Show/Hide data repr'><svg class='icon xr-icon-database'><use xlink:href='#icon-database'></use></svg></label><div class='xr-var-attrs'><dl class='xr-attrs'></dl></div><div class='xr-var-data'><pre>array([8783975.94    , 8784226.296471, 8784476.652941, ..., 8838804.007059,\n",
       "       8839054.363529, 8839304.72    ])</pre></div></li></ul></div></li><li class='xr-section-item'><input id='section-be5a269f-4ce7-43b6-9c84-22e25672fa6b' class='xr-section-summary-in' type='checkbox'  checked><label for='section-be5a269f-4ce7-43b6-9c84-22e25672fa6b' class='xr-section-summary' >Data variables: <span>(1)</span></label><div class='xr-section-inline-details'></div><div class='xr-section-details'><ul class='xr-var-list'><li class='xr-var-item'><div class='xr-var-name'><span>UTHRAZAO</span></div><div class='xr-var-dims'>(northing, easting)</div><div class='xr-var-dtype'>float64</div><div class='xr-var-preview xr-preview'>0.1301 0.1312 ... 0.1108 0.1121</div><input id='attrs-5be6919d-ffc6-4730-bdc1-b92d885eb1b7' class='xr-var-attrs-in' type='checkbox' ><label for='attrs-5be6919d-ffc6-4730-bdc1-b92d885eb1b7' title='Show/Hide attributes'><svg class='icon xr-icon-file-text2'><use xlink:href='#icon-file-text2'></use></svg></label><input id='data-2107cf6a-37ea-4557-abb6-15b9f844b504' class='xr-var-data-in' type='checkbox'><label for='data-2107cf6a-37ea-4557-abb6-15b9f844b504' title='Show/Hide data repr'><svg class='icon xr-icon-database'><use xlink:href='#icon-database'></use></svg></label><div class='xr-var-attrs'><dl class='xr-attrs'><dt><span>metadata :</span></dt><dd>Generated by Chain(steps=[(&#x27;trend&#x27;, Trend(degree=1)),\n",
       "             (&#x27;reduce&#x27;,\n",
       "              BlockReduce(reduction=&lt;function mean at 0x7f8ff81cb3a0&gt;,\n",
       "                          spacing=1000)),\n",
       "             (&#x27;spline&#x27;, Spline())])</dd></dl></div><div class='xr-var-data'><pre>array([[0.13007234, 0.13115064, 0.13301646, ..., 0.51320608, 0.58126352,\n",
       "        0.62908626],\n",
       "       [0.12927661, 0.13004342, 0.13190917, ..., 0.48742586, 0.55826048,\n",
       "        0.60019882],\n",
       "       [0.12988483, 0.13048546, 0.13227872, ..., 0.44852222, 0.51854434,\n",
       "        0.55322325],\n",
       "       ...,\n",
       "       [0.12019422, 0.12443677, 0.13398416, ..., 0.13828023, 0.13885178,\n",
       "        0.13590571],\n",
       "       [0.11492832, 0.12067562, 0.13132178, ..., 0.12227453, 0.12486651,\n",
       "        0.12449899],\n",
       "       [0.11253542, 0.11968771, 0.13042643, ..., 0.10751465, 0.1108103 ,\n",
       "        0.11213505]])</pre></div></li></ul></div></li><li class='xr-section-item'><input id='section-c9578276-c7de-4d3f-988f-6fde1026eebe' class='xr-section-summary-in' type='checkbox'  checked><label for='section-c9578276-c7de-4d3f-988f-6fde1026eebe' class='xr-section-summary' >Attributes: <span>(1)</span></label><div class='xr-section-inline-details'></div><div class='xr-section-details'><dl class='xr-attrs'><dt><span>metadata :</span></dt><dd>Generated by Chain(steps=[(&#x27;trend&#x27;, Trend(degree=1)),\n",
       "             (&#x27;reduce&#x27;,\n",
       "              BlockReduce(reduction=&lt;function mean at 0x7f8ff81cb3a0&gt;,\n",
       "                          spacing=1000)),\n",
       "             (&#x27;spline&#x27;, Spline())])</dd></dl></div></li></ul></div></div>"
      ],
      "text/plain": [
       "<xarray.Dataset>\n",
       "Dimensions:   (northing: 222, easting: 220)\n",
       "Coordinates:\n",
       "  * easting   (easting) float64 5e+05 5.003e+05 ... 5.544e+05 5.547e+05\n",
       "  * northing  (northing) float64 8.784e+06 8.784e+06 ... 8.839e+06 8.839e+06\n",
       "Data variables:\n",
       "    UTHRAZAO  (northing, easting) float64 0.1301 0.1312 0.133 ... 0.1108 0.1121\n",
       "Attributes:\n",
       "    metadata:  Generated by Chain(steps=[('trend', Trend(degree=1)),\\n       ..."
      ]
     },
     "metadata": {},
     "execution_count": 89
    }
   ],
   "metadata": {}
  },
  {
   "cell_type": "code",
   "execution_count": 114,
   "source": [
    "df_THKRAZAO=grid_mask.to_dataframe()\n",
    "df_THKRAZAO_descrito = df_THKRAZAO.describe(percentiles=(0.01,0.1,0.25,0.5,0.75,0.995))"
   ],
   "outputs": [],
   "metadata": {}
  },
  {
   "cell_type": "code",
   "execution_count": 115,
   "source": [
    "df_THKRAZAO_descrito"
   ],
   "outputs": [
    {
     "output_type": "execute_result",
     "data": {
      "text/html": [
       "<div>\n",
       "<style scoped>\n",
       "    .dataframe tbody tr th:only-of-type {\n",
       "        vertical-align: middle;\n",
       "    }\n",
       "\n",
       "    .dataframe tbody tr th {\n",
       "        vertical-align: top;\n",
       "    }\n",
       "\n",
       "    .dataframe thead th {\n",
       "        text-align: right;\n",
       "    }\n",
       "</style>\n",
       "<table border=\"1\" class=\"dataframe\">\n",
       "  <thead>\n",
       "    <tr style=\"text-align: right;\">\n",
       "      <th></th>\n",
       "      <th>UTHRAZAO</th>\n",
       "    </tr>\n",
       "  </thead>\n",
       "  <tbody>\n",
       "    <tr>\n",
       "      <th>count</th>\n",
       "      <td>48840.000000</td>\n",
       "    </tr>\n",
       "    <tr>\n",
       "      <th>mean</th>\n",
       "      <td>0.120143</td>\n",
       "    </tr>\n",
       "    <tr>\n",
       "      <th>std</th>\n",
       "      <td>0.038541</td>\n",
       "    </tr>\n",
       "    <tr>\n",
       "      <th>min</th>\n",
       "      <td>0.029307</td>\n",
       "    </tr>\n",
       "    <tr>\n",
       "      <th>1%</th>\n",
       "      <td>0.064182</td>\n",
       "    </tr>\n",
       "    <tr>\n",
       "      <th>10%</th>\n",
       "      <td>0.077894</td>\n",
       "    </tr>\n",
       "    <tr>\n",
       "      <th>25%</th>\n",
       "      <td>0.091941</td>\n",
       "    </tr>\n",
       "    <tr>\n",
       "      <th>50%</th>\n",
       "      <td>0.115054</td>\n",
       "    </tr>\n",
       "    <tr>\n",
       "      <th>75%</th>\n",
       "      <td>0.139801</td>\n",
       "    </tr>\n",
       "    <tr>\n",
       "      <th>99.5%</th>\n",
       "      <td>0.267650</td>\n",
       "    </tr>\n",
       "    <tr>\n",
       "      <th>max</th>\n",
       "      <td>0.629086</td>\n",
       "    </tr>\n",
       "  </tbody>\n",
       "</table>\n",
       "</div>"
      ],
      "text/plain": [
       "           UTHRAZAO\n",
       "count  48840.000000\n",
       "mean       0.120143\n",
       "std        0.038541\n",
       "min        0.029307\n",
       "1%         0.064182\n",
       "10%        0.077894\n",
       "25%        0.091941\n",
       "50%        0.115054\n",
       "75%        0.139801\n",
       "99.5%      0.267650\n",
       "max        0.629086"
      ]
     },
     "metadata": {},
     "execution_count": 115
    }
   ],
   "metadata": {}
  },
  {
   "cell_type": "code",
   "execution_count": 91,
   "source": [
    "grid_mask.UTHRAZAO.plot(figsize=(8,8), cmap='rainbow',vmin=df_THKRAZAO_descrito.UTHRAZAO.min(),\n",
    "                                                      vmax=df_THKRAZAO_descrito.UTHRAZAO.max())\n",
    "plt.axis('scaled')"
   ],
   "outputs": [
    {
     "output_type": "display_data",
     "data": {
      "application/vnd.jupyter.widget-view+json": {
       "version_major": 2,
       "version_minor": 0,
       "model_id": "fc53851433e84563ad325325ddcebbcc"
      },
      "text/plain": [
       "Canvas(toolbar=Toolbar(toolitems=[('Home', 'Reset original view', 'home', 'home'), ('Back', 'Back to previous …"
      ]
     },
     "metadata": {}
    },
    {
     "output_type": "execute_result",
     "data": {
      "text/plain": [
       "(499880.4371004566, 554820.1128995434, 8783850.761764705, 8839429.898235295)"
      ]
     },
     "metadata": {},
     "execution_count": 91
    }
   ],
   "metadata": {}
  },
  {
   "cell_type": "markdown",
   "source": [
    "### Model Validation"
   ],
   "metadata": {}
  },
  {
   "cell_type": "markdown",
   "source": [
    "### Escondendo 10% dos dados antes de inserir no chain.fit()"
   ],
   "metadata": {}
  },
  {
   "cell_type": "code",
   "execution_count": 95,
   "source": [
    "train, test = vd.train_test_split(coordinates, data.UTHRAZAO,\n",
    "                                 test_size = 0.1)\n",
    "\n",
    "plt.figure(figsize=(12,12))\n",
    "plt.title(label='Dados Escondidos(Vermelho) Dados inseridos no modelo de Splines(Azul)')\n",
    "plt.plot(train[0][0], train[0][1], '.b', markersize=4)\n",
    "plt.plot(test[0][0], test[0][1], '.r', markersize=4)\n",
    "plt.axis('scaled')"
   ],
   "outputs": [
    {
     "output_type": "display_data",
     "data": {
      "application/vnd.jupyter.widget-view+json": {
       "version_major": 2,
       "version_minor": 0,
       "model_id": "2bc68bfa025e4eea811865073feb3f89"
      },
      "text/plain": [
       "Canvas(toolbar=Toolbar(toolitems=[('Home', 'Reset original view', 'home', 'home'), ('Back', 'Back to previous …"
      ]
     },
     "metadata": {}
    },
    {
     "output_type": "execute_result",
     "data": {
      "text/plain": [
       "(497270.8025, 557429.7475, 8781209.501, 8842071.159)"
      ]
     },
     "metadata": {},
     "execution_count": 95
    }
   ],
   "metadata": {}
  },
  {
   "cell_type": "markdown",
   "source": [],
   "metadata": {}
  },
  {
   "cell_type": "code",
   "execution_count": 73,
   "source": [
    "chain.fit(*train)\n",
    "# *train   ---> chain.fit(train[0], train[1])\n",
    "\n",
    "chain.score(*test)\n"
   ],
   "outputs": [
    {
     "output_type": "execute_result",
     "data": {
      "text/plain": [
       "0.6673176584341012"
      ]
     },
     "metadata": {},
     "execution_count": 73
    }
   ],
   "metadata": {}
  },
  {
   "cell_type": "code",
   "execution_count": 118,
   "source": [
    "chain = vd.Chain([\n",
    "    ('trend',  vd.Trend(degree=4)),\n",
    "    ('reduce', vd.BlockReduce(np.mean, spacing=1500)),\n",
    "    ('spline', vd.Spline())\n",
    "])"
   ],
   "outputs": [],
   "metadata": {}
  },
  {
   "cell_type": "code",
   "execution_count": 119,
   "source": [
    "train, test = vd.train_test_split(coordinates, data.UTHRAZAO, test_size=0.1, spacing=500)\n",
    "\n",
    "plt.figure(figsize=(9,9))\n",
    "plt.plot(train[0][0], train[0][1], '.b', markersize=10)\n",
    "plt.plot(test[0][0], test[0][1], '.r', markersize=10)\n",
    "plt.axis('scaled')\n",
    "\n",
    "chain.fit(*train)\n",
    "\n",
    "chain.score(*test)"
   ],
   "outputs": [
    {
     "output_type": "display_data",
     "data": {
      "application/vnd.jupyter.widget-view+json": {
       "version_major": 2,
       "version_minor": 0,
       "model_id": "bcf29214d8b44736b76fc54444155dd5"
      },
      "text/plain": [
       "Canvas(toolbar=Toolbar(toolitems=[('Home', 'Reset original view', 'home', 'home'), ('Back', 'Back to previous …"
      ]
     },
     "metadata": {}
    },
    {
     "output_type": "execute_result",
     "data": {
      "text/plain": [
       "0.339774914835025"
      ]
     },
     "metadata": {},
     "execution_count": 119
    }
   ],
   "metadata": {}
  },
  {
   "cell_type": "markdown",
   "source": [
    "# Script"
   ],
   "metadata": {}
  },
  {
   "cell_type": "code",
   "execution_count": 1,
   "source": [
    "from sources import source_code as f"
   ],
   "outputs": [],
   "metadata": {}
  },
  {
   "cell_type": "code",
   "execution_count": 8,
   "source": [
    "dic_cartas['region_proj'][i]"
   ],
   "outputs": [
    {
     "output_type": "execute_result",
     "data": {
      "text/plain": [
       "(500000.0, 527356.0359910944, 8811651.835175423, 8839304.90587394)"
      ]
     },
     "metadata": {},
     "execution_count": 8
    }
   ],
   "metadata": {}
  },
  {
   "cell_type": "code",
   "execution_count": 4,
   "source": [
    "dic_cartas,dic_raw_metadata = f.get_region('100k','SC23_Z_A_IV','gama_1089')\n",
    "\n",
    "lista_id = dic_raw_metadata['Lista_id']\n",
    "print(list(lista_id))\n",
    "\n",
    "for i in lista_id:\n",
    "    print(f\"folha {i}\")\n",
    "    data = dic_cartas['raw_data'][i]\n",
    "\n",
    "    coordinates = (data.X.values, data.Y.values)\n",
    "    region = dic_cartas['region_proj'][i]\n",
    "\n",
    "    chain = vd.Chain([('trend',  vd.Trend(degree=1)),\n",
    "                     ('reduce', vd.BlockReduce(np.mean, spacing=1000)),\n",
    "                     ('spline', vd.Spline())\n",
    "                    ])\n",
    "\n",
    "    cv     = vd.BlockKFold(spacing=500,\n",
    "                            n_splits=10,\n",
    "                            shuffle=True)\n",
    "\n",
    "    scores = vd.cross_val_score(chain,\n",
    "                            coordinates,\n",
    "                            data.eU,\n",
    "                            cv=cv,\n",
    "                            delayed=True)\n",
    "\n",
    "    import dask\n",
    "    mean_score = dask.delayed(np.mean)(scores)\n",
    "    print(\"Delayed mean:\", mean_score)\n",
    "\n",
    "    mean_score = mean_score.compute()\n",
    "\n",
    "    print(mean_score)\n",
    "\n",
    "    print(\"\")"
   ],
   "outputs": [
    {
     "output_type": "stream",
     "name": "stdout",
     "text": [
      "importando dados geofisicos\n",
      "# --- Iniciando seleção de área de estudo\n",
      "1 folha cartográfica selecionada\n",
      "\n",
      "Listando atributos dos dados geofisicos\n",
      "# --- # Listagem de dados do aerolevantamento:  \n",
      "Lista de atributos geofísicos = ['MDT', 'KPERC', 'eU', 'eth', 'CTCOR', 'THKRAZAO', 'UKRAZAO', 'UTHRAZAO']\n",
      "lista de atributos geograficos = ['LONGITUDE', 'LATITUDE']\n",
      "lista de atributos projetados = ['X', 'Y']\n"
     ]
    },
    {
     "output_type": "stream",
     "name": "stderr",
     "text": [
      "/home/ggrl/anaconda3/envs/geologist_bot/lib/python3.8/site-packages/geopandas/geodataframe.py:1322: SettingWithCopyWarning: \n",
      "A value is trying to be set on a copy of a slice from a DataFrame.\n",
      "Try using .loc[row_indexer,col_indexer] = value instead\n",
      "\n",
      "See the caveats in the documentation: https://pandas.pydata.org/pandas-docs/stable/user_guide/indexing.html#returning-a-view-versus-a-copy\n",
      "  super(GeoDataFrame, self).__setitem__(key, value)\n"
     ]
    },
    {
     "output_type": "stream",
     "name": "stdout",
     "text": [
      "\n",
      "# --- Início da iteração entre as folhas cartográficas #\n",
      "# Folha de código: SC23_Z_A_IV\n",
      " Atualizando dados brutos em dic_cartas['raw_data']\n",
      " com 81859 pontos\n",
      "['SC23_Z_A_IV']\n",
      "folha SC23_Z_A_IV\n",
      "Delayed mean: Delayed('mean-cdb89650-64c9-4f20-aa81-11a8e104faff')\n",
      "0.511437021127595\n",
      "\n"
     ]
    }
   ],
   "metadata": {}
  },
  {
   "cell_type": "code",
   "execution_count": 18,
   "source": [
    "dic_cartas,dic_raw_metadata = f.get_region('100k','SC23_Z_A_IV','gama_1089')\n",
    "\n",
    "lista_id = dic_raw_metadata['Lista_id']\n",
    "print(list(lista_id))\n",
    "\n",
    "for i in lista_id:\n",
    "    print(f\"folha {i}\")\n",
    "    data = dic_cartas['raw_data'][i]\n",
    "\n",
    "    coordinates = (data.X.values, data.Y.values)\n",
    "    region = dic_cartas['region_proj'][i]\n",
    "\n",
    "    chain = vd.Chain([('trend',  vd.Trend(degree=3)),\n",
    "                     ('reduce', vd.BlockReduce(np.mean, spacing=2000)),\n",
    "                     ('spline', vd.Spline())\n",
    "                    ])\n",
    "\n",
    "    cv     = vd.BlockKFold(spacing=100,\n",
    "                            n_splits=50,\n",
    "                            shuffle=True)\n",
    "\n",
    "    scores = vd.cross_val_score(chain,\n",
    "                            coordinates,\n",
    "                            data.eU,\n",
    "                            cv=cv,\n",
    "                            delayed=True)\n",
    "\n",
    "    import dask\n",
    "    mean_score = dask.delayed(np.mean)(scores)\n",
    "    print(\"Delayed mean:\", mean_score)\n",
    "\n",
    "    mean_score = mean_score.compute()\n",
    "\n",
    "    print(mean_score)\n",
    "\n",
    "    print(\"\")"
   ],
   "outputs": [
    {
     "output_type": "stream",
     "name": "stdout",
     "text": [
      "importando dados geofisicos\n",
      "# --- Iniciando seleção de área de estudo\n",
      "1 folha cartográfica selecionada\n",
      "\n",
      "Listando atributos dos dados geofisicos\n",
      "# --- # Listagem de dados do aerolevantamento:  \n",
      "Lista de atributos geofísicos = ['MDT', 'KPERC', 'eU', 'eth', 'CTCOR', 'THKRAZAO', 'UKRAZAO', 'UTHRAZAO']\n",
      "lista de atributos geograficos = ['LONGITUDE', 'LATITUDE']\n",
      "lista de atributos projetados = ['X', 'Y']\n"
     ]
    },
    {
     "output_type": "stream",
     "name": "stderr",
     "text": [
      "/home/ggrl/anaconda3/envs/geologist_bot/lib/python3.8/site-packages/geopandas/geodataframe.py:1322: SettingWithCopyWarning: \n",
      "A value is trying to be set on a copy of a slice from a DataFrame.\n",
      "Try using .loc[row_indexer,col_indexer] = value instead\n",
      "\n",
      "See the caveats in the documentation: https://pandas.pydata.org/pandas-docs/stable/user_guide/indexing.html#returning-a-view-versus-a-copy\n",
      "  super(GeoDataFrame, self).__setitem__(key, value)\n"
     ]
    },
    {
     "output_type": "stream",
     "name": "stdout",
     "text": [
      "\n",
      "# --- Início da iteração entre as folhas cartográficas #\n",
      "# Folha de código: SC23_Z_A_IV\n",
      " Atualizando dados brutos em dic_cartas['raw_data']\n",
      " com 81859 pontos\n",
      "['SC23_Z_A_IV']\n",
      "folha SC23_Z_A_IV\n",
      "Delayed mean: Delayed('mean-d5ad70cd-a5ef-46f1-83e5-bc018883158a')\n",
      "0.4794616449012649\n",
      "\n"
     ]
    }
   ],
   "metadata": {}
  },
  {
   "cell_type": "code",
   "execution_count": 7,
   "source": [
    "dic_cartas.keys()"
   ],
   "outputs": [
    {
     "output_type": "execute_result",
     "data": {
      "text/plain": [
       "dict_keys(['region', 'region_proj', 'raw_data', 'interpolado', 'scores', 'lito_geof', 'mean_score'])"
      ]
     },
     "metadata": {},
     "execution_count": 7
    }
   ],
   "metadata": {}
  },
  {
   "cell_type": "code",
   "execution_count": 10,
   "source": [
    "dic_cartas['interpolado']['SC23_Z_A_IV']"
   ],
   "outputs": [
    {
     "output_type": "execute_result",
     "data": {
      "text/plain": [
       "''"
      ]
     },
     "metadata": {},
     "execution_count": 10
    }
   ],
   "metadata": {}
  },
  {
   "cell_type": "code",
   "execution_count": 6,
   "source": [
    "lista_id = dic_raw_metadata['Lista_id']\n",
    "print(list(lista_id))\n",
    "lista_geof = dic_raw_metadata['Lista_at_geof']\n",
    "print(list(lista_geof))"
   ],
   "outputs": [
    {
     "output_type": "stream",
     "name": "stdout",
     "text": [
      "['SC23_Z_A_IV']\n",
      "['MDT', 'KPERC', 'eU', 'eth', 'CTCOR', 'THKRAZAO', 'UKRAZAO', 'UTHRAZAO']\n"
     ]
    }
   ],
   "metadata": {}
  },
  {
   "cell_type": "code",
   "execution_count": 14,
   "source": [
    "for index in lista_id:\n",
    "    print(f\"folha {index}\")\n",
    "    data = dic_cartas['raw_data'][index]\n",
    "\n",
    "    coordinates = (data.X.values, data.Y.values)\n",
    "    region = dic_cartas['region_proj'][index]\n",
    "\n",
    "    chain = vd.Chain([('trend',  vd.Trend(degree=1)),\n",
    "                     ('reduce', vd.BlockReduce(np.mean, spacing=2000)),\n",
    "                     ('spline', vd.Spline())\n",
    "                    ])\n",
    "\n",
    "\n",
    "    print(f\"# Folha de código: {index}\")\n",
    "    print(f\" Atualizando dados brutos em dic_cartas['raw_data']\")\n",
    "    x = {index:data}\n",
    "    data_list[0]['raw_data'].update(x) \n",
    "    print(f\" com {len(data)} pontos de contagens radiométricas coletados com linhas de voo de {spacing} metros\")\n",
    "    \n",
    "    # ADICIONANDO ATRIBUTOS GEOFÍSICOS AO DICIONÁRIO INTERPOLADO\n",
    "    interpolado={}\n",
    "    for atributo in lista_geof:\n",
    "        x = {atributo:''}\n",
    "        interpolado.update(x)\n",
    "    #print(f\" Construindo dic_cartas['interpolado'] vazio com os atributos geofísicos\")\n",
    "        \n",
    "    # ADICIONANDO ATRIBUTOS AO DICIONÁRIO SCORES\n",
    "    scores={}\n",
    "    for atributo in lista_geof:\n",
    "        y = {atributo:''}\n",
    "        scores.update(y)\n",
    "\n",
    "    mean_score={}\n",
    "    for atributo in lista_geof:\n",
    "        x = {atributo:''}\n",
    "        mean_score.update(x)    \n",
    "\n",
    "    #print(f\" Construindo dicionário vazio de score do cross validation\")\n",
    "    \n",
    "    for i in lista_geof:\n",
    "        cv     = vd.BlockKFold(spacing=500,\n",
    "                                n_splits=10,\n",
    "                                shuffle=True)\n",
    "\n",
    "        scores[i] = vd.cross_val_score(chain,\n",
    "                                coordinates,\n",
    "                                data[i],\n",
    "                                cv=cv,\n",
    "                                delayed=True)\n",
    "\n",
    "        import dask\n",
    "        \n",
    "        mean_score[i] = dask.delayed(np.mean)(scores[i])\n",
    "        print(\"Delayed mean:\", mean_score)\n",
    "\n",
    "        mean_score[i] = mean_score[i].compute()\n",
    "        print(mean_score)\n",
    "\n",
    "\n",
    "        y = {index:scores}\n",
    "        dic_cartas['scores'].update(y)\n",
    "        x = {index:mean_score}\n",
    "        dic_cartas['mean_score'].update(x)\n",
    "        print(f\"# Folha {index} atualizada ao dicionário\")\n",
    "\n",
    "        print(\"\")"
   ],
   "outputs": [
    {
     "output_type": "stream",
     "name": "stdout",
     "text": [
      "folha SC23_Z_A_IV\n",
      "# Folha de código: SC23_Z_A_IV\n",
      " Atualizando dados brutos em dic_cartas['raw_data']\n"
     ]
    },
    {
     "output_type": "error",
     "ename": "NameError",
     "evalue": "name 'data_list' is not defined",
     "traceback": [
      "\u001b[0;31m---------------------------------------------------------------------------\u001b[0m",
      "\u001b[0;31mNameError\u001b[0m                                 Traceback (most recent call last)",
      "\u001b[0;32m/tmp/ipykernel_36324/3613776674.py\u001b[0m in \u001b[0;36m<module>\u001b[0;34m\u001b[0m\n\u001b[1;32m     15\u001b[0m     \u001b[0mprint\u001b[0m\u001b[0;34m(\u001b[0m\u001b[0;34mf\" Atualizando dados brutos em dic_cartas['raw_data']\"\u001b[0m\u001b[0;34m)\u001b[0m\u001b[0;34m\u001b[0m\u001b[0;34m\u001b[0m\u001b[0m\n\u001b[1;32m     16\u001b[0m     \u001b[0mx\u001b[0m \u001b[0;34m=\u001b[0m \u001b[0;34m{\u001b[0m\u001b[0mindex\u001b[0m\u001b[0;34m:\u001b[0m\u001b[0mdata\u001b[0m\u001b[0;34m}\u001b[0m\u001b[0;34m\u001b[0m\u001b[0;34m\u001b[0m\u001b[0m\n\u001b[0;32m---> 17\u001b[0;31m     \u001b[0mdata_list\u001b[0m\u001b[0;34m[\u001b[0m\u001b[0;36m0\u001b[0m\u001b[0;34m]\u001b[0m\u001b[0;34m[\u001b[0m\u001b[0;34m'raw_data'\u001b[0m\u001b[0;34m]\u001b[0m\u001b[0;34m.\u001b[0m\u001b[0mupdate\u001b[0m\u001b[0;34m(\u001b[0m\u001b[0mx\u001b[0m\u001b[0;34m)\u001b[0m\u001b[0;34m\u001b[0m\u001b[0;34m\u001b[0m\u001b[0m\n\u001b[0m\u001b[1;32m     18\u001b[0m     \u001b[0mprint\u001b[0m\u001b[0;34m(\u001b[0m\u001b[0;34mf\" com {len(data)} pontos de contagens radiométricas coletados com linhas de voo de {spacing} metros\"\u001b[0m\u001b[0;34m)\u001b[0m\u001b[0;34m\u001b[0m\u001b[0;34m\u001b[0m\u001b[0m\n\u001b[1;32m     19\u001b[0m \u001b[0;34m\u001b[0m\u001b[0m\n",
      "\u001b[0;31mNameError\u001b[0m: name 'data_list' is not defined"
     ]
    }
   ],
   "metadata": {}
  },
  {
   "cell_type": "code",
   "execution_count": null,
   "source": [
    "grid_coords = vd.grid_coordinates(region, spacing = 250,pixel_register=True)\n",
    "chain.fit(grid_coords)"
   ],
   "outputs": [],
   "metadata": {}
  }
 ],
 "metadata": {
  "interpreter": {
   "hash": "044c3e0300da4fa3c2a1f13c93c64a53d39114a9c33e72628e43c9ffd211a0b1"
  },
  "kernelspec": {
   "name": "python3",
   "display_name": "Python 3.8.11 64-bit ('geologist_bot': conda)"
  },
  "language_info": {
   "codemirror_mode": {
    "name": "ipython",
    "version": 3
   },
   "file_extension": ".py",
   "mimetype": "text/x-python",
   "name": "python",
   "nbconvert_exporter": "python",
   "pygments_lexer": "ipython3",
   "version": "3.8.11"
  }
 },
 "nbformat": 4,
 "nbformat_minor": 4
}