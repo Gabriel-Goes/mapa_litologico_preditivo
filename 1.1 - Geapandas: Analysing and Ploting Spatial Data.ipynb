{
 "cells": [
  {
   "cell_type": "markdown",
   "source": [
    "# Neste notebook vamos definir as funçoes de filtragem e visualizaçao dos dados a partir das classes definidas na bilbioteca GeoPandas\n",
    "[Mapping and Plotting Tools](https://geopandas.org/docs/user_guide/mapping.html)\n",
    "\n",
    "- Com as funçoes definidas e testadas neste notebook, criaremos um arquivo .py no diretorio .soureces/ para armazena-las, possibilitando assim, que possamos chama-las com a funçao import."
   ],
   "metadata": {}
  },
  {
   "cell_type": "code",
   "execution_count": 1,
   "source": [
    "import geopandas as gpd\n",
    "import fiona\n",
    "\n",
    "import matplotlib.pyplot as plt\n",
    "\n",
    "from mpl_toolkits.axes_grid1 import make_axes_locatable  # Tutorial GeoPandas Mapping and Pltting Tools\n",
    "\n",
    "%matplotlib widget"
   ],
   "outputs": [],
   "metadata": {}
  },
  {
   "cell_type": "code",
   "execution_count": 2,
   "source": [
    "# Origem do banco de dados\n",
    "gdb = '/home/ggrl/geodatabase/'"
   ],
   "outputs": [],
   "metadata": {}
  },
  {
   "cell_type": "markdown",
   "source": [
    "## Importando um vetor do banco de dados criado no notebook passado.\n",
    "- Escolha de camada e mapa\n",
    "    - Caso nao tenha o mapa selecionado retorne lista de mapas disponiveis para aquela escala.\n",
    "    - Caso nao escolha um mapa retorne todos os vetores daquela camada."
   ],
   "metadata": {}
  },
  {
   "cell_type": "code",
   "execution_count": 3,
   "source": [
    "# IMPORTADOR DE LITOLOGIAS POR ESCALA --------------------------------------------------------------------------#\n",
    "def importar_geometrias(camada, mapa=False):\n",
    "    '''\n",
    "    Recebe:\n",
    "        camada      : camada vetorial base onde o objeto gdf sera plotado\n",
    "        mapa        : nome do mapa presenta na camada vetorial base;\n",
    "\n",
    "    Se retornar uma camada vazia recebera a lista das camadas veotoriais diposniveis\n",
    "    Se mapa == False: retorna todos os objetos presente nesta camada vetorial\n",
    "    '''\n",
    "\n",
    "    lito =  gpd.read_file(gdb+'geodatabase.gpkg',\n",
    "                        driver= 'GPKG',\n",
    "                        layer= camada)\n",
    "                        \n",
    "    #print(f\"# -- Lista de camadas vetoriais disponiveis: {list(fiona.listlayers(gdb+'geodatabase.gpkg'))}\")  \n",
    "\n",
    "    if mapa:\n",
    "        folha = lito[lito.MAPA == 'Carta geológica da folha '+mapa]\n",
    "        if folha.empty:\n",
    "            print(f\"O mapa escolhido nao est'a presente na coluna MAPA da camada veotiral.\")\n",
    "            print(f\"# -- Lista de mapas: {list(lito.MAPA.unique())}\")\n",
    "\n",
    "        else:    \n",
    "            return(folha)\n",
    "    else:\n",
    "        return(lito)"
   ],
   "outputs": [],
   "metadata": {}
  },
  {
   "cell_type": "code",
   "execution_count": 11,
   "source": [
    "# Definindo uma funçao que importa as escaladas \n",
    "def plot_base(gdf,atributo=None,camada=None):\n",
    "    '''\n",
    "    Recebe:\n",
    "        gdf         : objeto descrito por uma geometria e seus atributos;\n",
    "        atributo    : str descritiva do atributo;\n",
    "        camada      : camada vetorial base onde o objeto gdf sera plotado\n",
    "    '''\n",
    "    if atributo:\n",
    "        ax = camada.plot('SIGLA')\n",
    "        gdf.plot(column=atributo,ax=ax)\n",
    "    else:\n",
    "        ax = camada.plot()\n",
    "        gdf.plot(ax=ax)"
   ],
   "outputs": [],
   "metadata": {}
  },
  {
   "cell_type": "code",
   "execution_count": 5,
   "source": [
    "def plot_brazil(gdf,atributo=None):\n",
    "    world = gpd.read_file(gpd.datasets.get_path('naturalearth_lowres'))\n",
    "    brazil = world[world.name == 'Brazil']\n",
    "    if atributo:\n",
    "        ax = brazil.boundary.plot(color='black',\n",
    "                                  figsize=(12,12))\n",
    "        gdf.plot(column=atributo,\n",
    "                 ax=ax,\n",
    "                 legend=True)\n",
    "    else:\n",
    "        ax = brazil.boundary.plot(color='black')\n",
    "        gdf.plot(ax=ax)"
   ],
   "outputs": [],
   "metadata": {}
  },
  {
   "cell_type": "markdown",
   "source": [
    "##  Utilizando as funçoes definidas acima para importar e visualizar os dados"
   ],
   "metadata": {}
  },
  {
   "cell_type": "code",
   "execution_count": 6,
   "source": [
    "# Abrindo os vetores descritivos dos projetos aerogeofisicos\n",
    "proj_geof = importar_geometrias('proj_aerogeof')"
   ],
   "outputs": [],
   "metadata": {}
  },
  {
   "cell_type": "code",
   "execution_count": 12,
   "source": [
    "litologia_100k = importar_geometrias('litologia_100k')"
   ],
   "outputs": [],
   "metadata": {}
  },
  {
   "cell_type": "code",
   "execution_count": 7,
   "source": [
    "print(proj_geof.shape)"
   ],
   "outputs": [
    {
     "output_type": "stream",
     "name": "stdout",
     "text": [
      "(296, 17)\n"
     ]
    }
   ],
   "metadata": {}
  },
  {
   "cell_type": "code",
   "execution_count": 8,
   "source": [
    "proj_250m = proj_geof[proj_geof['ESPACAMENT'] == '250'].boundary"
   ],
   "outputs": [],
   "metadata": {}
  },
  {
   "cell_type": "code",
   "execution_count": 9,
   "source": [
    "plot_base(gdf=proj_250m,camada='litologia_100k')\n",
    "plt.axis('scaled')\n",
    "plt.suptitle('250 metros')"
   ],
   "outputs": [
    {
     "output_type": "display_data",
     "data": {
      "application/vnd.jupyter.widget-view+json": {
       "version_major": 2,
       "version_minor": 0,
       "model_id": "62466229f5e24099aad5373a2b870da4"
      },
      "text/plain": [
       "Canvas(toolbar=Toolbar(toolitems=[('Home', 'Reset original view', 'home', 'home'), ('Back', 'Back to previous …"
      ]
     },
     "metadata": {}
    },
    {
     "output_type": "execute_result",
     "data": {
      "text/plain": [
       "Text(0.5, 0.98, '250 metros')"
      ]
     },
     "metadata": {},
     "execution_count": 9
    }
   ],
   "metadata": {}
  },
  {
   "cell_type": "code",
   "execution_count": 10,
   "source": [
    "litologia_100k"
   ],
   "outputs": [
    {
     "output_type": "error",
     "ename": "NameError",
     "evalue": "name 'litologia_100k' is not defined",
     "traceback": [
      "\u001b[0;31m---------------------------------------------------------------------------\u001b[0m",
      "\u001b[0;31mNameError\u001b[0m                                 Traceback (most recent call last)",
      "\u001b[0;32m/tmp/ipykernel_27569/3573764499.py\u001b[0m in \u001b[0;36m<module>\u001b[0;34m\u001b[0m\n\u001b[0;32m----> 1\u001b[0;31m \u001b[0mlitologia_100k\u001b[0m\u001b[0;34m\u001b[0m\u001b[0;34m\u001b[0m\u001b[0m\n\u001b[0m",
      "\u001b[0;31mNameError\u001b[0m: name 'litologia_100k' is not defined"
     ]
    }
   ],
   "metadata": {}
  },
  {
   "cell_type": "code",
   "execution_count": 7,
   "source": [
    "proj_geof_500m = proj_geof[proj_geof['ESPACAMENT'] == '500']"
   ],
   "outputs": [],
   "metadata": {}
  },
  {
   "cell_type": "code",
   "execution_count": 8,
   "source": [
    "print(len(proj_geof_500m))\n",
    "proj_geof_500m['DISPONIBIL'].isnull().sum()"
   ],
   "outputs": [
    {
     "output_type": "stream",
     "name": "stdout",
     "text": [
      "111\n"
     ]
    },
    {
     "output_type": "execute_result",
     "data": {
      "text/plain": [
       "42"
      ]
     },
     "metadata": {},
     "execution_count": 8
    }
   ],
   "metadata": {}
  },
  {
   "cell_type": "code",
   "execution_count": 9,
   "source": [
    "proj_geof_500m.set_geometry(col='geometry',inplace=True)"
   ],
   "outputs": [
    {
     "output_type": "stream",
     "name": "stderr",
     "text": [
      "/home/ggrl/anaconda3/envs/geologist_bot/lib/python3.8/site-packages/geopandas/geodataframe.py:1322: SettingWithCopyWarning: \n",
      "A value is trying to be set on a copy of a slice from a DataFrame.\n",
      "Try using .loc[row_indexer,col_indexer] = value instead\n",
      "\n",
      "See the caveats in the documentation: https://pandas.pydata.org/pandas-docs/stable/user_guide/indexing.html#returning-a-view-versus-a-copy\n",
      "  super(GeoDataFrame, self).__setitem__(key, value)\n"
     ]
    }
   ],
   "metadata": {}
  },
  {
   "cell_type": "code",
   "execution_count": 10,
   "source": [
    "proj_geof_500m.boundary.plot()\n",
    "plt.axis('scaled')"
   ],
   "outputs": [
    {
     "output_type": "display_data",
     "data": {
      "application/vnd.jupyter.widget-view+json": {
       "version_major": 2,
       "version_minor": 0,
       "model_id": "f98e16b6d912432bba20ed4f286bd12f"
      },
      "text/plain": [
       "Canvas(toolbar=Toolbar(toolitems=[('Home', 'Reset original view', 'home', 'home'), ('Back', 'Back to previous …"
      ]
     },
     "metadata": {}
    },
    {
     "output_type": "execute_result",
     "data": {
      "text/plain": [
       "(-71.73283612029995, -33.0241609877, -34.40851261280006, 6.258765858800014)"
      ]
     },
     "metadata": {},
     "execution_count": 10
    }
   ],
   "metadata": {}
  },
  {
   "cell_type": "code",
   "execution_count": 11,
   "source": [
    "# Com este plot, podemos visualizar que a area de cobertura aerogeofisica e altissima, porem,\n",
    "#  precisamos analisar melhor estes dados para que possa ser utilizados nos modelos preditivos.\n",
    "\n",
    "plot_brazil(proj_geof,atributo='ESPACAMENT')"
   ],
   "outputs": [
    {
     "output_type": "display_data",
     "data": {
      "application/vnd.jupyter.widget-view+json": {
       "version_major": 2,
       "version_minor": 0,
       "model_id": "2a7322a3cf444cb19f8fd3b360bb45e3"
      },
      "text/plain": [
       "Canvas(toolbar=Toolbar(toolitems=[('Home', 'Reset original view', 'home', 'home'), ('Back', 'Back to previous …"
      ]
     },
     "metadata": {}
    }
   ],
   "metadata": {}
  },
  {
   "cell_type": "code",
   "execution_count": 12,
   "source": [
    "proj_geof.columns"
   ],
   "outputs": [
    {
     "output_type": "execute_result",
     "data": {
      "text/plain": [
       "Index(['ID_PROJETO', 'TITULO', 'METODOS', 'ALTURA_VOO', 'AREA_LEVAN',\n",
       "       'QUILOMETRA', 'DIRECAO_LV', 'DIRECAO_LC', 'ESPACAMENT', 'ESPACAME_1',\n",
       "       'ID_SERIE', 'SERIE', 'DISPONIBIL', 'IMAGENS', 'SHAPE_AREA', 'SHAPE_LEN',\n",
       "       'geometry'],\n",
       "      dtype='object')"
      ]
     },
     "metadata": {},
     "execution_count": 12
    }
   ],
   "metadata": {}
  },
  {
   "cell_type": "code",
   "execution_count": 13,
   "source": [
    "#proj_geof.geometry.area.sum()"
   ],
   "outputs": [],
   "metadata": {}
  },
  {
   "cell_type": "code",
   "execution_count": 14,
   "source": [
    "print(type(proj_geof['ESPACAMENT'][0]))\n",
    "print(list(proj_geof.ESPACAMENT.unique()))"
   ],
   "outputs": [
    {
     "output_type": "stream",
     "name": "stdout",
     "text": [
      "<class 'str'>\n",
      "['2.5', '500', '1500', '1000', '3000', '2000', '3', '0', '250', '150', '200', '2500', '100', '4000', '2', '125', '400', '300', '1', '5', '4', '2,5', '6000', '8000', '6', '1,5', '7']\n"
     ]
    }
   ],
   "metadata": {}
  },
  {
   "cell_type": "code",
   "execution_count": 15,
   "source": [
    "print(f\"Foram identificados {len(proj_geof[proj_geof['ESPACAMENT'] == '500'])} projetos aerogeofisicos\")\n",
    "print(f\"Lista de Titulos: {proj_geof[proj_geof['ESPACAMENT'] == '500']['TITULO']}\")"
   ],
   "outputs": [
    {
     "output_type": "stream",
     "name": "stdout",
     "text": [
      "Foram identificados 111 projetos aerogeofisicos\n",
      "Lista de Titulos: 1      Projeto Aerogeofísico Escudo do Rio Grande do Sul\n",
      "4           Projeto Aerogeofísico Sudeste do Mato Grosso\n",
      "5              Projeto Aerogeofísico Sudeste de Rondônia\n",
      "6               Projeto Aerogeofísicos Serra dos Apiacás\n",
      "10     Projeto Aerogeofísico Reserva Nacional do Cobr...\n",
      "                             ...                        \n",
      "277                                 Serro (Área-Detalhe)\n",
      "281                  Campo Alegre de Lourdes - Mortugaba\n",
      "288               Projeto Aerogeofísico Pernambuco-Piauí\n",
      "290                         Projeto Aerogeofísico Gurupi\n",
      "295    Área 18 Minas Gerais - Porto Cajueiro - São Fr...\n",
      "Name: TITULO, Length: 111, dtype: object\n"
     ]
    }
   ],
   "metadata": {}
  },
  {
   "cell_type": "code",
   "execution_count": 16,
   "source": [
    "proj_geof_500m = proj_geof[proj_geof['ESPACAMENT'] == '500']"
   ],
   "outputs": [],
   "metadata": {}
  },
  {
   "cell_type": "code",
   "execution_count": 17,
   "source": [
    "# Abrindo os vetores litológicos utilizando a função definida acima\n",
    "litologia_100k = importar_geometrias('litologia_100k')\n",
    "litologia_250k = importar_geometrias('litologia_250k')"
   ],
   "outputs": [],
   "metadata": {}
  },
  {
   "cell_type": "code",
   "execution_count": 18,
   "source": [
    "plot_brazil(proj_geof_500m.boundary)"
   ],
   "outputs": [
    {
     "output_type": "display_data",
     "data": {
      "application/vnd.jupyter.widget-view+json": {
       "version_major": 2,
       "version_minor": 0,
       "model_id": "83b4fe80af0549e38f984dabf8667744"
      },
      "text/plain": [
       "Canvas(toolbar=Toolbar(toolitems=[('Home', 'Reset original view', 'home', 'home'), ('Back', 'Back to previous …"
      ]
     },
     "metadata": {}
    }
   ],
   "metadata": {}
  },
  {
   "cell_type": "code",
   "execution_count": 19,
   "source": [
    "#int(proj_geof['ESPACAMENT'])"
   ],
   "outputs": [],
   "metadata": {}
  },
  {
   "cell_type": "code",
   "execution_count": 20,
   "source": [
    "proj_geof_500m = proj_geof[proj_geof.ESPACAMENT == '500']"
   ],
   "outputs": [],
   "metadata": {}
  },
  {
   "cell_type": "code",
   "execution_count": 21,
   "source": [
    "#ax = litologia_100k.plot('SIGLA')\n",
    "#proj_geof_500m.boundary.plot(ax=ax)\n",
    "\n",
    "plot_base(proj_geof_500m.boundary,camada='litologia_100k')  # esta funçao e lenta pois importa toda a camada vetorial novamente e\n",
    "                                                            # nao deve ser usada caso a litologia ja tenhasido definida"
   ],
   "outputs": [
    {
     "output_type": "display_data",
     "data": {
      "application/vnd.jupyter.widget-view+json": {
       "version_major": 2,
       "version_minor": 0,
       "model_id": "5a06911c1878471391c9e8a1cfbbbc92"
      },
      "text/plain": [
       "Canvas(toolbar=Toolbar(toolitems=[('Home', 'Reset original view', 'home', 'home'), ('Back', 'Back to previous …"
      ]
     },
     "metadata": {}
    }
   ],
   "metadata": {}
  },
  {
   "cell_type": "markdown",
   "source": [
    "## Listando atributos geologicos das geometrias importadas."
   ],
   "metadata": {}
  },
  {
   "cell_type": "code",
   "execution_count": 22,
   "source": [
    "# Abrindo os vetores litológicos utilizando a função definida acima\n",
    "litologia_100k = importar_geologico('litologia_100k')\n",
    "litologia_250k = importar_geologico('litologia_250k')"
   ],
   "outputs": [
    {
     "output_type": "error",
     "ename": "NameError",
     "evalue": "name 'importar_geologico' is not defined",
     "traceback": [
      "\u001b[0;31m---------------------------------------------------------------------------\u001b[0m",
      "\u001b[0;31mNameError\u001b[0m                                 Traceback (most recent call last)",
      "\u001b[0;32m/tmp/ipykernel_22799/2574733994.py\u001b[0m in \u001b[0;36m<module>\u001b[0;34m\u001b[0m\n\u001b[1;32m      1\u001b[0m \u001b[0;31m# Abrindo os vetores litológicos utilizando a função definida acima\u001b[0m\u001b[0;34m\u001b[0m\u001b[0;34m\u001b[0m\u001b[0;34m\u001b[0m\u001b[0m\n\u001b[0;32m----> 2\u001b[0;31m \u001b[0mlitologia_100k\u001b[0m \u001b[0;34m=\u001b[0m \u001b[0mimportar_geologico\u001b[0m\u001b[0;34m(\u001b[0m\u001b[0;34m'litologia_100k'\u001b[0m\u001b[0;34m)\u001b[0m\u001b[0;34m\u001b[0m\u001b[0;34m\u001b[0m\u001b[0m\n\u001b[0m\u001b[1;32m      3\u001b[0m \u001b[0mlitologia_250k\u001b[0m \u001b[0;34m=\u001b[0m \u001b[0mimportar_geologico\u001b[0m\u001b[0;34m(\u001b[0m\u001b[0;34m'litologia_250k'\u001b[0m\u001b[0;34m)\u001b[0m\u001b[0;34m\u001b[0m\u001b[0;34m\u001b[0m\u001b[0m\n",
      "\u001b[0;31mNameError\u001b[0m: name 'importar_geologico' is not defined"
     ]
    }
   ],
   "metadata": {}
  },
  {
   "cell_type": "code",
   "execution_count": null,
   "source": [
    "# Abrindo os vetores litológicos de um unico mapa utilizando a função definida acima\n",
    "varginha_100k = importar_geologico('litologia_100k','Varginha - UFRJ')"
   ],
   "outputs": [],
   "metadata": {}
  },
  {
   "cell_type": "code",
   "execution_count": null,
   "source": [
    "# atributos descritivos de cada uma das camadas litológicas (geometrias)\n",
    "print(\"Lista de atributos descritivos classes litologicas: \")\n",
    "print(list(varginha_100k.columns))"
   ],
   "outputs": [],
   "metadata": {}
  },
  {
   "cell_type": "code",
   "execution_count": null,
   "source": [
    "# Plotando os vetores descritos pelos geólogos da cprm\n",
    "varginha_100k.plot('SIGLA')"
   ],
   "outputs": [],
   "metadata": {}
  },
  {
   "cell_type": "code",
   "execution_count": null,
   "source": [
    "print(varginha_100k.shape)\n",
    "print(f\"{varginha_100k.shape[0]} geometrias litologicas descritas em {varginha_100k.shape[1]} atributos\")"
   ],
   "outputs": [],
   "metadata": {}
  },
  {
   "cell_type": "code",
   "execution_count": null,
   "source": [
    "# Observando o formato da descrição da coluna litotipos\n",
    "varginha_100k_litotipos = varginha_100k.LITOTIPOS.unique()\n",
    "print(f\"{len(list(varginha_100k_litotipos))} litotipos reconhecidos\")\n",
    "list(varginha_100k_litotipos)"
   ],
   "outputs": [],
   "metadata": {}
  },
  {
   "cell_type": "code",
   "execution_count": null,
   "source": [
    "# com estas funçoes utilizadas asssimas, podemos definir uma funçao que descreve o nosso dado vetorial\n",
    "def describe_geologico(gdf):\n",
    "    lista_colunas = list(gdf.columns)\n",
    "    lista_shape = gdf.shape\n",
    "    lista_litotipos = list(gdf.LITOTIPOS.unique())\n",
    "    lista_legenda = list(gdf.LEGENDA.unique())\n",
    "\n",
    "    dic_litologico = {'lista_colunas': lista_colunas,\n",
    "                      'lista_shape': lista_shape,\n",
    "                      'lista_litotipos': lista_litotipos,\n",
    "                      'lista_legenda': lista_legenda}\n",
    "    return dic_litologico   "
   ],
   "outputs": [],
   "metadata": {}
  },
  {
   "cell_type": "code",
   "execution_count": null,
   "source": [
    "dic_litoligico = describe_geologico(varginha_100k)"
   ],
   "outputs": [],
   "metadata": {}
  },
  {
   "cell_type": "code",
   "execution_count": null,
   "source": [
    "print(f\"Numero de geometrias descritas na carta geologica: {len(dic_litoligico['lista_litotipos'])}\")\n",
    "print(\"Lista de valores unicos da coluna Litotipo: \")\n",
    "list(dic_litoligico['lista_litotipos'])"
   ],
   "outputs": [],
   "metadata": {}
  },
  {
   "cell_type": "code",
   "execution_count": null,
   "source": [
    "print(f\"Numero de geometrias descritas na carta geologica: {len(dic_litoligico['lista_legenda'])}\")\n",
    "print(\"Lista de valores unicos da coluna Legenda: \")\n",
    "list(dic_litoligico['lista_legenda'])"
   ],
   "outputs": [],
   "metadata": {}
  },
  {
   "cell_type": "markdown",
   "source": [
    "## Reconhecendo as litologia mapeadas em suas escalas\n",
    "- Faremos um filtro na coluna LEGENDA e LITOTIOPOS para selecionar as classes de interesse e, com estas geometrias, selecionaremos os mapas que as contém.\n",
    "- Assim podemos identificar quais cartas geológicas e suas escalas podemos trabalhar."
   ],
   "metadata": {}
  },
  {
   "cell_type": "code",
   "execution_count": null,
   "source": [
    "def filtro(gdf,mineral):\n",
    "    filtrado = gdf[gdf['LITOTIPOS'].str.contains(mineral)]\n",
    "    if filtrado.empty:\n",
    "        print(f\"{list(gdf['LITOTIPOS'].unique())}\")\n",
    "    else:\n",
    "        return filtrado"
   ],
   "outputs": [],
   "metadata": {}
  },
  {
   "cell_type": "code",
   "execution_count": null,
   "source": [
    "litologia_grafitosa_100k = filtro(litologia_100k,'graf')"
   ],
   "outputs": [],
   "metadata": {}
  },
  {
   "cell_type": "code",
   "execution_count": null,
   "source": [
    "litotipos_vazio = litologia_100k[litologia_100k.LITOTIPOS.isna()]\n",
    "litotipos_vazio.LITOTIPOS"
   ],
   "outputs": [],
   "metadata": {}
  },
  {
   "cell_type": "code",
   "execution_count": null,
   "source": [
    "#Foi necessário inserir a str 'Vazio' em celas que não continham valores para que a função de filtro funcionasse corretamente na coluna LEGENDA.\n",
    "\n",
    "#litologia_1kk.fillna('Vazio',inplace=True)\n",
    "#litologia_250k.fillna('Vazio',inplace=True)\n",
    "litologia_100k.fillna('Vazio',inplace=True)\n",
    "#litologia_50k.fillna('Vazio',inplace=True)"
   ],
   "outputs": [],
   "metadata": {}
  },
  {
   "cell_type": "code",
   "execution_count": null,
   "source": [
    "Grafita_l1kk = filtro(litologia_1kk,'Graf')\n",
    "print(list(Grafita_l1kk['LITOTIPOS'].unique()))"
   ],
   "outputs": [],
   "metadata": {}
  },
  {
   "cell_type": "code",
   "execution_count": null,
   "source": [
    "Grafita_l1kk.plot('SIGLA')"
   ],
   "outputs": [],
   "metadata": {}
  },
  {
   "cell_type": "code",
   "execution_count": null,
   "source": [
    "base = brazil.boundary.plot(color='black',figsize=(12,12))\n",
    "\n",
    "leg_grafitosa_l1kk.plot(ax=base,facecolor='grey')\n",
    "\n",
    "lit_grafitoso_1kk.plot(ax=base,facecolor='black')"
   ],
   "outputs": [],
   "metadata": {}
  },
  {
   "cell_type": "code",
   "execution_count": null,
   "source": [
    "list_gr_100k=mapas_lito_gr_100k\n",
    "indice=0\n",
    "for i in mapas_lito_gr_100k:\n",
    "    print(i)\n",
    "    list_gr_100k[indice] = l_100k[l_100k['MAPA'].str.contains(\"i\")]\n",
    "    indice+=1\n"
   ],
   "outputs": [],
   "metadata": {}
  },
  {
   "cell_type": "code",
   "execution_count": null,
   "source": [
    "len(list_gr_100k)\n"
   ],
   "outputs": [],
   "metadata": {}
  },
  {
   "cell_type": "markdown",
   "source": [
    "### Desafio desnecessário para provar meus conhecimentos com for loops:"
   ],
   "metadata": {}
  },
  {
   "cell_type": "code",
   "execution_count": null,
   "source": [
    "lista_mapa = list(l_1kk.MAPA.unique())\n",
    "print(len(lista_mapa))\n",
    "lista_nome=[]\n",
    "\n",
    "for mapa in lista_mapa:\n",
    "    trash=0\n",
    "    Mapa=[]\n",
    "    for letra in mapa:\n",
    "        if trash<25:\n",
    "            trash+=1\n",
    "        else:\n",
    "            Mapa+=letra\n",
    "    lista_nome += [''.join(Mapa)]"
   ],
   "outputs": [],
   "metadata": {}
  },
  {
   "cell_type": "code",
   "execution_count": null,
   "source": [
    "lista_nome"
   ],
   "outputs": [],
   "metadata": {}
  },
  {
   "cell_type": "code",
   "execution_count": null,
   "source": [
    "folha=lista_nome\n",
    "indice=0\n",
    "for i in lista_nome:\n",
    "    print(i)\n",
    "    folha[indice] = l_1kk[l_1kk['MAPA'].str.contains(i)].dissolve('MAPA')\n",
    "    indice+=1"
   ],
   "outputs": [],
   "metadata": {}
  },
  {
   "cell_type": "code",
   "execution_count": null,
   "source": [
    "folha[31].plot()"
   ],
   "outputs": [],
   "metadata": {}
  },
  {
   "cell_type": "markdown",
   "source": [
    "tired for now"
   ],
   "metadata": {}
  },
  {
   "cell_type": "code",
   "execution_count": null,
   "source": [
    "lista_mapa = list(l_100k.MAPA.unique())\n",
    "lista_mapa"
   ],
   "outputs": [],
   "metadata": {}
  },
  {
   "cell_type": "code",
   "execution_count": null,
   "source": [
    "lista_nome=[]\n",
    "for mapa in lista_mapa:\n",
    "    trash=0\n",
    "    Mapa=[]\n",
    "    for letra in mapa:\n",
    "        if trash<25:\n",
    "            trash+=1\n",
    "        else:\n",
    "            Mapa+=letra\n",
    "    lista_nome += [''.join(Mapa)]"
   ],
   "outputs": [],
   "metadata": {}
  },
  {
   "cell_type": "code",
   "execution_count": null,
   "source": [
    "len(lista_nome)"
   ],
   "outputs": [],
   "metadata": {}
  },
  {
   "cell_type": "code",
   "execution_count": null,
   "source": [
    "folha=lista_nome\n",
    "indice=0\n",
    "for i in lista_nome:\n",
    "    print(i)\n",
    "    folha[indice] = l_100k[l_100k['MAPA'].str.contains(i)].dissolve('MAPA')\n",
    "    indice+=1"
   ],
   "outputs": [],
   "metadata": {}
  },
  {
   "cell_type": "code",
   "execution_count": null,
   "source": [
    "len(folha)"
   ],
   "outputs": [],
   "metadata": {}
  }
 ],
 "metadata": {
  "interpreter": {
   "hash": "044c3e0300da4fa3c2a1f13c93c64a53d39114a9c33e72628e43c9ffd211a0b1"
  },
  "kernelspec": {
   "name": "python3",
   "display_name": "Python 3.8.11 64-bit ('geologist_bot': conda)"
  },
  "language_info": {
   "codemirror_mode": {
    "name": "ipython",
    "version": 3
   },
   "file_extension": ".py",
   "mimetype": "text/x-python",
   "name": "python",
   "nbconvert_exporter": "python",
   "pygments_lexer": "ipython3",
   "version": "3.8.11"
  }
 },
 "nbformat": 4,
 "nbformat_minor": 2
}