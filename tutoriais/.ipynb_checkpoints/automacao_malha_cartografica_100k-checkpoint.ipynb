{
 "cells": [
  {
   "cell_type": "code",
   "execution_count": 1,
   "metadata": {},
   "outputs": [],
   "source": [
    "import my_funcs as mf"
   ]
  },
  {
   "cell_type": "code",
   "execution_count": 2,
   "metadata": {},
   "outputs": [],
   "source": [
    "import pandas as pd\n",
    "import verde as vd\n",
    "import numpy as np\n",
    "import geopandas as gpd\n",
    "import rioxarray as rio\n",
    "import pyproj\n",
    "\n",
    "\n",
    "import matplotlib.pyplot as plt\n",
    "\n",
    "gdb = '/home/ggrl/geodatabase/'\n",
    "\n",
    "%matplotlib widget"
   ]
  },
  {
   "cell_type": "code",
   "execution_count": 3,
   "metadata": {},
   "outputs": [
    {
     "data": {
      "text/html": [
       "<div>\n",
       "<style scoped>\n",
       "    .dataframe tbody tr th:only-of-type {\n",
       "        vertical-align: middle;\n",
       "    }\n",
       "\n",
       "    .dataframe tbody tr th {\n",
       "        vertical-align: top;\n",
       "    }\n",
       "\n",
       "    .dataframe thead th {\n",
       "        text-align: right;\n",
       "    }\n",
       "</style>\n",
       "<table border=\"1\" class=\"dataframe\">\n",
       "  <thead>\n",
       "    <tr style=\"text-align: right;\">\n",
       "      <th></th>\n",
       "      <th>id</th>\n",
       "      <th>left</th>\n",
       "      <th>top</th>\n",
       "      <th>right</th>\n",
       "      <th>bottom</th>\n",
       "      <th>geometry</th>\n",
       "    </tr>\n",
       "  </thead>\n",
       "  <tbody>\n",
       "    <tr>\n",
       "      <th>0</th>\n",
       "      <td>4.0</td>\n",
       "      <td>-78.0</td>\n",
       "      <td>-4.0</td>\n",
       "      <td>-72.0</td>\n",
       "      <td>-8.0</td>\n",
       "      <td>POLYGON ((-78.00000 -4.00000, -72.00000 -4.000...</td>\n",
       "    </tr>\n",
       "    <tr>\n",
       "      <th>1</th>\n",
       "      <td>5.0</td>\n",
       "      <td>-78.0</td>\n",
       "      <td>-8.0</td>\n",
       "      <td>-72.0</td>\n",
       "      <td>-12.0</td>\n",
       "      <td>POLYGON ((-78.00000 -8.00000, -72.00000 -8.000...</td>\n",
       "    </tr>\n",
       "    <tr>\n",
       "      <th>2</th>\n",
       "      <td>13.0</td>\n",
       "      <td>-72.0</td>\n",
       "      <td>4.0</td>\n",
       "      <td>-66.0</td>\n",
       "      <td>0.0</td>\n",
       "      <td>POLYGON ((-72.00000 4.00000, -66.00000 4.00000...</td>\n",
       "    </tr>\n",
       "    <tr>\n",
       "      <th>3</th>\n",
       "      <td>14.0</td>\n",
       "      <td>-72.0</td>\n",
       "      <td>0.0</td>\n",
       "      <td>-66.0</td>\n",
       "      <td>-4.0</td>\n",
       "      <td>POLYGON ((-72.00000 0.00000, -66.00000 0.00000...</td>\n",
       "    </tr>\n",
       "    <tr>\n",
       "      <th>4</th>\n",
       "      <td>15.0</td>\n",
       "      <td>-72.0</td>\n",
       "      <td>-4.0</td>\n",
       "      <td>-66.0</td>\n",
       "      <td>-8.0</td>\n",
       "      <td>POLYGON ((-72.00000 -4.00000, -66.00000 -4.000...</td>\n",
       "    </tr>\n",
       "  </tbody>\n",
       "</table>\n",
       "</div>"
      ],
      "text/plain": [
       "     id  left  top  right  bottom  \\\n",
       "0   4.0 -78.0 -4.0  -72.0    -8.0   \n",
       "1   5.0 -78.0 -8.0  -72.0   -12.0   \n",
       "2  13.0 -72.0  4.0  -66.0     0.0   \n",
       "3  14.0 -72.0  0.0  -66.0    -4.0   \n",
       "4  15.0 -72.0 -4.0  -66.0    -8.0   \n",
       "\n",
       "                                            geometry  \n",
       "0  POLYGON ((-78.00000 -4.00000, -72.00000 -4.000...  \n",
       "1  POLYGON ((-78.00000 -8.00000, -72.00000 -8.000...  \n",
       "2  POLYGON ((-72.00000 4.00000, -66.00000 4.00000...  \n",
       "3  POLYGON ((-72.00000 0.00000, -66.00000 0.00000...  \n",
       "4  POLYGON ((-72.00000 -4.00000, -66.00000 -4.000...  "
      ]
     },
     "execution_count": 3,
     "metadata": {},
     "output_type": "execute_result"
    }
   ],
   "source": [
    "# Lendo cama vertorial gerada no QGIS com poligonos de 6º x 4º [Folhas em escala de 1:1.000.000]\n",
    "malha_cartog_1kk = gpd.read_file(gdb+'cartografia/malha_cartog_1kk_wgs84.shp')\n",
    "malha_cartog_1kk.head(5)"
   ]
  },
  {
   "cell_type": "code",
   "execution_count": 4,
   "metadata": {},
   "outputs": [],
   "source": [
    "# Criando coluna Region [W,E,S,N]\n",
    "\n",
    "bounds = malha_cartog_1kk.bounds\n",
    "malha_cartog_1kk['region'] = [(left,right,bottom,top) for left,right,bottom,top in zip(bounds['minx'],bounds['maxx'],\n",
    "                                                                                       bounds['miny'],bounds['maxy'])]"
   ]
  },
  {
   "cell_type": "code",
   "execution_count": 5,
   "metadata": {},
   "outputs": [],
   "source": [
    "# Indexando as folhas 1kk com função 'nomeador_grid()' descrita em './my_funcs.py' importado como 'mf'\n",
    "\n",
    "df = pd.DataFrame(malha_cartog_1kk)\n",
    "lista_grid = []\n",
    "for index, row in df.iterrows():\n",
    "    row['id_folha'] = (mf.nomeador_grid(row.region[0],row.region[1],   \n",
    "                                        row.region[3],row.region[2]))\n",
    "    lista_grid.append(row.id_folha)\n",
    "\n",
    "malha_cartog_1kk['id_folha'] = lista_grid"
   ]
  },
  {
   "cell_type": "code",
   "execution_count": 6,
   "metadata": {},
   "outputs": [
    {
     "data": {
      "text/html": [
       "<div>\n",
       "<style scoped>\n",
       "    .dataframe tbody tr th:only-of-type {\n",
       "        vertical-align: middle;\n",
       "    }\n",
       "\n",
       "    .dataframe tbody tr th {\n",
       "        vertical-align: top;\n",
       "    }\n",
       "\n",
       "    .dataframe thead th {\n",
       "        text-align: right;\n",
       "    }\n",
       "</style>\n",
       "<table border=\"1\" class=\"dataframe\">\n",
       "  <thead>\n",
       "    <tr style=\"text-align: right;\">\n",
       "      <th></th>\n",
       "      <th>id</th>\n",
       "      <th>left</th>\n",
       "      <th>top</th>\n",
       "      <th>right</th>\n",
       "      <th>bottom</th>\n",
       "      <th>geometry</th>\n",
       "      <th>region</th>\n",
       "      <th>id_folha</th>\n",
       "    </tr>\n",
       "  </thead>\n",
       "  <tbody>\n",
       "    <tr>\n",
       "      <th>0</th>\n",
       "      <td>4.0</td>\n",
       "      <td>-78.0</td>\n",
       "      <td>-4.0</td>\n",
       "      <td>-72.0</td>\n",
       "      <td>-8.0</td>\n",
       "      <td>POLYGON ((-78.00000 -4.00000, -72.00000 -4.000...</td>\n",
       "      <td>(-78.0, -72.0, -8.0, -4.0)</td>\n",
       "      <td>SB18</td>\n",
       "    </tr>\n",
       "    <tr>\n",
       "      <th>1</th>\n",
       "      <td>5.0</td>\n",
       "      <td>-78.0</td>\n",
       "      <td>-8.0</td>\n",
       "      <td>-72.0</td>\n",
       "      <td>-12.0</td>\n",
       "      <td>POLYGON ((-78.00000 -8.00000, -72.00000 -8.000...</td>\n",
       "      <td>(-78.0, -72.0, -12.0, -8.0)</td>\n",
       "      <td>SC18</td>\n",
       "    </tr>\n",
       "    <tr>\n",
       "      <th>2</th>\n",
       "      <td>13.0</td>\n",
       "      <td>-72.0</td>\n",
       "      <td>4.0</td>\n",
       "      <td>-66.0</td>\n",
       "      <td>0.0</td>\n",
       "      <td>POLYGON ((-72.00000 4.00000, -66.00000 4.00000...</td>\n",
       "      <td>(-72.0, -66.0, 0.0, 4.0)</td>\n",
       "      <td>NA19</td>\n",
       "    </tr>\n",
       "    <tr>\n",
       "      <th>3</th>\n",
       "      <td>14.0</td>\n",
       "      <td>-72.0</td>\n",
       "      <td>0.0</td>\n",
       "      <td>-66.0</td>\n",
       "      <td>-4.0</td>\n",
       "      <td>POLYGON ((-72.00000 0.00000, -66.00000 0.00000...</td>\n",
       "      <td>(-72.0, -66.0, -4.0, 0.0)</td>\n",
       "      <td>SA19</td>\n",
       "    </tr>\n",
       "    <tr>\n",
       "      <th>4</th>\n",
       "      <td>15.0</td>\n",
       "      <td>-72.0</td>\n",
       "      <td>-4.0</td>\n",
       "      <td>-66.0</td>\n",
       "      <td>-8.0</td>\n",
       "      <td>POLYGON ((-72.00000 -4.00000, -66.00000 -4.000...</td>\n",
       "      <td>(-72.0, -66.0, -8.0, -4.0)</td>\n",
       "      <td>SB19</td>\n",
       "    </tr>\n",
       "  </tbody>\n",
       "</table>\n",
       "</div>"
      ],
      "text/plain": [
       "     id  left  top  right  bottom  \\\n",
       "0   4.0 -78.0 -4.0  -72.0    -8.0   \n",
       "1   5.0 -78.0 -8.0  -72.0   -12.0   \n",
       "2  13.0 -72.0  4.0  -66.0     0.0   \n",
       "3  14.0 -72.0  0.0  -66.0    -4.0   \n",
       "4  15.0 -72.0 -4.0  -66.0    -8.0   \n",
       "\n",
       "                                            geometry  \\\n",
       "0  POLYGON ((-78.00000 -4.00000, -72.00000 -4.000...   \n",
       "1  POLYGON ((-78.00000 -8.00000, -72.00000 -8.000...   \n",
       "2  POLYGON ((-72.00000 4.00000, -66.00000 4.00000...   \n",
       "3  POLYGON ((-72.00000 0.00000, -66.00000 0.00000...   \n",
       "4  POLYGON ((-72.00000 -4.00000, -66.00000 -4.000...   \n",
       "\n",
       "                        region id_folha  \n",
       "0   (-78.0, -72.0, -8.0, -4.0)     SB18  \n",
       "1  (-78.0, -72.0, -12.0, -8.0)     SC18  \n",
       "2     (-72.0, -66.0, 0.0, 4.0)     NA19  \n",
       "3    (-72.0, -66.0, -4.0, 0.0)     SA19  \n",
       "4   (-72.0, -66.0, -8.0, -4.0)     SB19  "
      ]
     },
     "execution_count": 6,
     "metadata": {},
     "output_type": "execute_result"
    }
   ],
   "source": [
    "malha_cartog_1kk.head(5)"
   ]
  },
  {
   "cell_type": "code",
   "execution_count": 7,
   "metadata": {},
   "outputs": [],
   "source": [
    "malha_cartog_1kk.drop(['id','left','right','bottom','top','region'],axis=1,inplace=True)"
   ]
  },
  {
   "cell_type": "code",
   "execution_count": 8,
   "metadata": {},
   "outputs": [],
   "source": [
    "malha_cartog_1kk.to_file(gdb+'database.gpkg',driver='GPKG',layer='malha_cartog_1kk_wgs84')"
   ]
  },
  {
   "cell_type": "code",
   "execution_count": 9,
   "metadata": {},
   "outputs": [
    {
     "data": {
      "text/html": [
       "<div>\n",
       "<style scoped>\n",
       "    .dataframe tbody tr th:only-of-type {\n",
       "        vertical-align: middle;\n",
       "    }\n",
       "\n",
       "    .dataframe tbody tr th {\n",
       "        vertical-align: top;\n",
       "    }\n",
       "\n",
       "    .dataframe thead th {\n",
       "        text-align: right;\n",
       "    }\n",
       "</style>\n",
       "<table border=\"1\" class=\"dataframe\">\n",
       "  <thead>\n",
       "    <tr style=\"text-align: right;\">\n",
       "      <th></th>\n",
       "      <th>geometry</th>\n",
       "      <th>id_folha</th>\n",
       "    </tr>\n",
       "  </thead>\n",
       "  <tbody>\n",
       "    <tr>\n",
       "      <th>0</th>\n",
       "      <td>POLYGON ((-78.00000 -4.00000, -72.00000 -4.000...</td>\n",
       "      <td>SB18</td>\n",
       "    </tr>\n",
       "    <tr>\n",
       "      <th>1</th>\n",
       "      <td>POLYGON ((-78.00000 -8.00000, -72.00000 -8.000...</td>\n",
       "      <td>SC18</td>\n",
       "    </tr>\n",
       "    <tr>\n",
       "      <th>2</th>\n",
       "      <td>POLYGON ((-72.00000 4.00000, -66.00000 4.00000...</td>\n",
       "      <td>NA19</td>\n",
       "    </tr>\n",
       "    <tr>\n",
       "      <th>3</th>\n",
       "      <td>POLYGON ((-72.00000 0.00000, -66.00000 0.00000...</td>\n",
       "      <td>SA19</td>\n",
       "    </tr>\n",
       "    <tr>\n",
       "      <th>4</th>\n",
       "      <td>POLYGON ((-72.00000 -4.00000, -66.00000 -4.000...</td>\n",
       "      <td>SB19</td>\n",
       "    </tr>\n",
       "  </tbody>\n",
       "</table>\n",
       "</div>"
      ],
      "text/plain": [
       "                                            geometry id_folha\n",
       "0  POLYGON ((-78.00000 -4.00000, -72.00000 -4.000...     SB18\n",
       "1  POLYGON ((-78.00000 -8.00000, -72.00000 -8.000...     SC18\n",
       "2  POLYGON ((-72.00000 4.00000, -66.00000 4.00000...     NA19\n",
       "3  POLYGON ((-72.00000 0.00000, -66.00000 0.00000...     SA19\n",
       "4  POLYGON ((-72.00000 -4.00000, -66.00000 -4.000...     SB19"
      ]
     },
     "execution_count": 9,
     "metadata": {},
     "output_type": "execute_result"
    }
   ],
   "source": [
    "malha_cartog_1kk.head()"
   ]
  },
  {
   "cell_type": "code",
   "execution_count": 10,
   "metadata": {},
   "outputs": [],
   "source": [
    "# Definindo Regions (W,E,S,N)\n",
    "def regions(gdf):\n",
    "    bounds = gdf.bounds \n",
    "    gdf['region'] = [(left,right,bottom,top) for left,right,bottom,top in zip(bounds['minx'],bounds['maxx'],\n",
    "                                                                                bounds['miny'],bounds['maxy'])]\n",
    "\n",
    "# Definindo nomes a partir da articulação sistematica de folhas de cartas. Construindo uma lista e definindo como uma series.\n",
    "def nomeador_malha(gdf):\n",
    "    df = pd.DataFrame(gdf)\n",
    "    lista_grid = []\n",
    "    for index, row in df.iterrows():\n",
    "        row['id_folha'] = (mf.nomeador_grid(row.region[0],row.region[1],\n",
    "                                            row.region[3],row.region[2],escala=5))\n",
    "        lista_grid.append(row.id_folha)\n",
    "\n",
    "    gdf['id_folha'] = lista_grid"
   ]
  },
  {
   "cell_type": "code",
   "execution_count": 11,
   "metadata": {},
   "outputs": [],
   "source": [
    "malha_cartog_25k = gpd.read_file(gdb+'cartografia/malha_cartog_25k_wgs84.shp')   # Escala de 1:25.000\n",
    "malha_cartog_50k = gpd.read_file(gdb+'cartografia/malha_cartog_50k_wgs84.shp')   # Escala de 1:50.000\n",
    "malha_cartog_100k = gpd.read_file(gdb+'cartografia/malha_cartog_100k_wgs84.shp') # Escala de 1:100.000\n",
    "\n",
    "regions(malha_cartog_25k)\n",
    "regions(malha_cartog_50k)\n",
    "regions(malha_cartog_100k)\n",
    "\n",
    "nomeador_malha(malha_cartog_25k)\n",
    "nomeador_malha(malha_cartog_50k)\n",
    "nomeador_malha(malha_cartog_100k)\n",
    "\n",
    "# Percebe-se que há redundância no código, o que leva ao excesso de informação ser salva/lida e processada."
   ]
  },
  {
   "cell_type": "code",
   "execution_count": 12,
   "metadata": {},
   "outputs": [],
   "source": [
    "malha_cartog_50k.drop(['id','left','right','bottom','top','region'],axis=1,inplace=True)\n",
    "malha_cartog_25k.drop(['id','left','right','bottom','top','region'],axis=1,inplace=True)\n",
    "malha_cartog_100k.drop(['id','left','right','bottom','top','region'],axis=1,inplace=True)"
   ]
  },
  {
   "cell_type": "code",
   "execution_count": 13,
   "metadata": {},
   "outputs": [],
   "source": [
    "malha_cartog_50k.to_file(gdb+'database.gpkg',driver='GPKG',layer='malha_cartog_50k_wgs84')\n",
    "malha_cartog_25k.to_file(gdb+'database.gpkg',driver='GPKG',layer='malha_cartog_25k_wgs84')\n",
    "malha_cartog_100k.to_file(gdb+'database.gpkg',driver='GPKG',layer='malha_cartog_100k_wgs84')"
   ]
  },
  {
   "cell_type": "code",
   "execution_count": 14,
   "metadata": {},
   "outputs": [
    {
     "data": {
      "text/html": [
       "<div>\n",
       "<style scoped>\n",
       "    .dataframe tbody tr th:only-of-type {\n",
       "        vertical-align: middle;\n",
       "    }\n",
       "\n",
       "    .dataframe tbody tr th {\n",
       "        vertical-align: top;\n",
       "    }\n",
       "\n",
       "    .dataframe thead th {\n",
       "        text-align: right;\n",
       "    }\n",
       "</style>\n",
       "<table border=\"1\" class=\"dataframe\">\n",
       "  <thead>\n",
       "    <tr style=\"text-align: right;\">\n",
       "      <th></th>\n",
       "      <th>geometry</th>\n",
       "      <th>id_folha</th>\n",
       "    </tr>\n",
       "  </thead>\n",
       "  <tbody>\n",
       "    <tr>\n",
       "      <th>0</th>\n",
       "      <td>POLYGON ((-72.87500 -8.37500, -72.75000 -8.375...</td>\n",
       "      <td>SC18_X_B_II_3_SE</td>\n",
       "    </tr>\n",
       "    <tr>\n",
       "      <th>1</th>\n",
       "      <td>POLYGON ((-72.87500 -8.25000, -72.75000 -8.250...</td>\n",
       "      <td>SC18_X_B_II_3_NE</td>\n",
       "    </tr>\n",
       "    <tr>\n",
       "      <th>2</th>\n",
       "      <td>POLYGON ((-72.75000 -8.37500, -72.62500 -8.375...</td>\n",
       "      <td>SC18_X_B_II_4_SW</td>\n",
       "    </tr>\n",
       "  </tbody>\n",
       "</table>\n",
       "</div>"
      ],
      "text/plain": [
       "                                            geometry          id_folha\n",
       "0  POLYGON ((-72.87500 -8.37500, -72.75000 -8.375...  SC18_X_B_II_3_SE\n",
       "1  POLYGON ((-72.87500 -8.25000, -72.75000 -8.250...  SC18_X_B_II_3_NE\n",
       "2  POLYGON ((-72.75000 -8.37500, -72.62500 -8.375...  SC18_X_B_II_4_SW"
      ]
     },
     "execution_count": 14,
     "metadata": {},
     "output_type": "execute_result"
    }
   ],
   "source": [
    "malha_cartog_25k.head(3)"
   ]
  },
  {
   "cell_type": "code",
   "execution_count": 15,
   "metadata": {},
   "outputs": [],
   "source": [
    "#g_1105 = pd.read_csv(gdb+'geof/g1105')\n",
    "#geof_1039 = pd.read_csv(gdb+'geof/geof_1039')\n",
    "#g_1089 = pd.read_csv(gdb+'geof/g1089')\n",
    "g_3022 = pd.read_csv(gdb+'geof/g3022.csv')"
   ]
  },
  {
   "cell_type": "code",
   "execution_count": 16,
   "metadata": {},
   "outputs": [
    {
     "data": {
      "text/html": [
       "<div>\n",
       "<style scoped>\n",
       "    .dataframe tbody tr th:only-of-type {\n",
       "        vertical-align: middle;\n",
       "    }\n",
       "\n",
       "    .dataframe tbody tr th {\n",
       "        vertical-align: top;\n",
       "    }\n",
       "\n",
       "    .dataframe thead th {\n",
       "        text-align: right;\n",
       "    }\n",
       "</style>\n",
       "<table border=\"1\" class=\"dataframe\">\n",
       "  <thead>\n",
       "    <tr style=\"text-align: right;\">\n",
       "      <th></th>\n",
       "      <th>geometry</th>\n",
       "      <th>id_folha</th>\n",
       "    </tr>\n",
       "  </thead>\n",
       "  <tbody>\n",
       "    <tr>\n",
       "      <th>10117</th>\n",
       "      <td>POLYGON ((-46.50000 -21.50000, -46.37500 -21.5...</td>\n",
       "      <td>SF23_V_D_IV_1_NW</td>\n",
       "    </tr>\n",
       "    <tr>\n",
       "      <th>10120</th>\n",
       "      <td>POLYGON ((-46.50000 -21.00000, -46.37500 -21.0...</td>\n",
       "      <td>SF23_V_D_I_1_NW</td>\n",
       "    </tr>\n",
       "    <tr>\n",
       "      <th>10123</th>\n",
       "      <td>POLYGON ((-46.25000 -21.25000, -46.12500 -21.2...</td>\n",
       "      <td>SF23_V_D_I_4_NW</td>\n",
       "    </tr>\n",
       "    <tr>\n",
       "      <th>10124</th>\n",
       "      <td>POLYGON ((-46.25000 -21.37500, -46.12500 -21.3...</td>\n",
       "      <td>SF23_V_D_I_4_SW</td>\n",
       "    </tr>\n",
       "    <tr>\n",
       "      <th>10125</th>\n",
       "      <td>POLYGON ((-46.12500 -21.37500, -46.00000 -21.3...</td>\n",
       "      <td>SF23_V_D_I_4_SE</td>\n",
       "    </tr>\n",
       "    <tr>\n",
       "      <th>...</th>\n",
       "      <td>...</td>\n",
       "      <td>...</td>\n",
       "    </tr>\n",
       "    <tr>\n",
       "      <th>37148</th>\n",
       "      <td>POLYGON ((-46.25000 -21.87500, -46.12500 -21.8...</td>\n",
       "      <td>SF23_V_D_IV_4_SW</td>\n",
       "    </tr>\n",
       "    <tr>\n",
       "      <th>37151</th>\n",
       "      <td>POLYGON ((-46.37500 -21.87500, -46.25000 -21.8...</td>\n",
       "      <td>SF23_V_D_IV_3_SE</td>\n",
       "    </tr>\n",
       "    <tr>\n",
       "      <th>37631</th>\n",
       "      <td>POLYGON ((-45.12500 -21.00000, -45.00000 -21.0...</td>\n",
       "      <td>SF23_V_D_III_2_NE</td>\n",
       "    </tr>\n",
       "    <tr>\n",
       "      <th>37632</th>\n",
       "      <td>POLYGON ((-45.12500 -21.12500, -45.00000 -21.1...</td>\n",
       "      <td>SF23_V_D_III_2_SE</td>\n",
       "    </tr>\n",
       "    <tr>\n",
       "      <th>40773</th>\n",
       "      <td>POLYGON ((-46.50000 -21.87500, -46.37500 -21.8...</td>\n",
       "      <td>SF23_V_D_IV_3_SW</td>\n",
       "    </tr>\n",
       "  </tbody>\n",
       "</table>\n",
       "<p>96 rows × 2 columns</p>\n",
       "</div>"
      ],
      "text/plain": [
       "                                                geometry           id_folha\n",
       "10117  POLYGON ((-46.50000 -21.50000, -46.37500 -21.5...   SF23_V_D_IV_1_NW\n",
       "10120  POLYGON ((-46.50000 -21.00000, -46.37500 -21.0...    SF23_V_D_I_1_NW\n",
       "10123  POLYGON ((-46.25000 -21.25000, -46.12500 -21.2...    SF23_V_D_I_4_NW\n",
       "10124  POLYGON ((-46.25000 -21.37500, -46.12500 -21.3...    SF23_V_D_I_4_SW\n",
       "10125  POLYGON ((-46.12500 -21.37500, -46.00000 -21.3...    SF23_V_D_I_4_SE\n",
       "...                                                  ...                ...\n",
       "37148  POLYGON ((-46.25000 -21.87500, -46.12500 -21.8...   SF23_V_D_IV_4_SW\n",
       "37151  POLYGON ((-46.37500 -21.87500, -46.25000 -21.8...   SF23_V_D_IV_3_SE\n",
       "37631  POLYGON ((-45.12500 -21.00000, -45.00000 -21.0...  SF23_V_D_III_2_NE\n",
       "37632  POLYGON ((-45.12500 -21.12500, -45.00000 -21.1...  SF23_V_D_III_2_SE\n",
       "40773  POLYGON ((-46.50000 -21.87500, -46.37500 -21.8...   SF23_V_D_IV_3_SW\n",
       "\n",
       "[96 rows x 2 columns]"
      ]
     },
     "execution_count": 16,
     "metadata": {},
     "output_type": "execute_result"
    }
   ],
   "source": [
    "# Filtro a partir do ID da folha cartográfica\n",
    "SF23_V_D_25k = malha_cartog_25k[malha_cartog_25k['id_folha'].str.contains(\"SF23_V_D\")]\n",
    "SF23_V_D_25k"
   ]
  },
  {
   "cell_type": "code",
   "execution_count": 17,
   "metadata": {},
   "outputs": [
    {
     "name": "stderr",
     "output_type": "stream",
     "text": [
      "/home/ggrl/Softwares/anaconda3/envs/mappingBot/lib/python3.8/site-packages/geopandas/geodataframe.py:853: SettingWithCopyWarning: \n",
      "A value is trying to be set on a copy of a slice from a DataFrame.\n",
      "Try using .loc[row_indexer,col_indexer] = value instead\n",
      "\n",
      "See the caveats in the documentation: https://pandas.pydata.org/pandas-docs/stable/user_guide/indexing.html#returning-a-view-versus-a-copy\n",
      "  super(GeoDataFrame, self).__setitem__(key, value)\n"
     ]
    }
   ],
   "source": [
    "regions(SF23_V_D_25k)"
   ]
  },
  {
   "cell_type": "code",
   "execution_count": 20,
   "metadata": {},
   "outputs": [
    {
     "data": {
      "application/vnd.jupyter.widget-view+json": {
       "model_id": "a6ffefb11c2840c18290ce2467f1b2a2",
       "version_major": 2,
       "version_minor": 0
      },
      "text/plain": [
       "Canvas(toolbar=Toolbar(toolitems=[('Home', 'Reset original view', 'home', 'home'), ('Back', 'Back to previous …"
      ]
     },
     "metadata": {},
     "output_type": "display_data"
    },
    {
     "data": {
      "text/plain": [
       "<AxesSubplot:>"
      ]
     },
     "execution_count": 20,
     "metadata": {},
     "output_type": "execute_result"
    }
   ],
   "source": [
    "SF23_V_D_25k.plot('id_folha')"
   ]
  },
  {
   "cell_type": "code",
   "execution_count": 22,
   "metadata": {},
   "outputs": [
    {
     "data": {
      "text/html": [
       "<div>\n",
       "<style scoped>\n",
       "    .dataframe tbody tr th:only-of-type {\n",
       "        vertical-align: middle;\n",
       "    }\n",
       "\n",
       "    .dataframe tbody tr th {\n",
       "        vertical-align: top;\n",
       "    }\n",
       "\n",
       "    .dataframe thead th {\n",
       "        text-align: right;\n",
       "    }\n",
       "</style>\n",
       "<table border=\"1\" class=\"dataframe\">\n",
       "  <thead>\n",
       "    <tr style=\"text-align: right;\">\n",
       "      <th></th>\n",
       "      <th>geometry</th>\n",
       "      <th>id_folha</th>\n",
       "      <th>region</th>\n",
       "    </tr>\n",
       "  </thead>\n",
       "  <tbody>\n",
       "    <tr>\n",
       "      <th>10117</th>\n",
       "      <td>POLYGON ((-46.50000 -21.50000, -46.37500 -21.5...</td>\n",
       "      <td>SF23_V_D_IV_1_NW</td>\n",
       "      <td>(-46.5, -46.375, -21.625, -21.5)</td>\n",
       "    </tr>\n",
       "    <tr>\n",
       "      <th>10120</th>\n",
       "      <td>POLYGON ((-46.50000 -21.00000, -46.37500 -21.0...</td>\n",
       "      <td>SF23_V_D_I_1_NW</td>\n",
       "      <td>(-46.5, -46.375, -21.125, -21.0)</td>\n",
       "    </tr>\n",
       "    <tr>\n",
       "      <th>10123</th>\n",
       "      <td>POLYGON ((-46.25000 -21.25000, -46.12500 -21.2...</td>\n",
       "      <td>SF23_V_D_I_4_NW</td>\n",
       "      <td>(-46.25, -46.125, -21.375, -21.25)</td>\n",
       "    </tr>\n",
       "    <tr>\n",
       "      <th>10124</th>\n",
       "      <td>POLYGON ((-46.25000 -21.37500, -46.12500 -21.3...</td>\n",
       "      <td>SF23_V_D_I_4_SW</td>\n",
       "      <td>(-46.25, -46.125, -21.5, -21.375)</td>\n",
       "    </tr>\n",
       "    <tr>\n",
       "      <th>10125</th>\n",
       "      <td>POLYGON ((-46.12500 -21.37500, -46.00000 -21.3...</td>\n",
       "      <td>SF23_V_D_I_4_SE</td>\n",
       "      <td>(-46.125, -46.0, -21.5, -21.375)</td>\n",
       "    </tr>\n",
       "    <tr>\n",
       "      <th>...</th>\n",
       "      <td>...</td>\n",
       "      <td>...</td>\n",
       "      <td>...</td>\n",
       "    </tr>\n",
       "    <tr>\n",
       "      <th>37148</th>\n",
       "      <td>POLYGON ((-46.25000 -21.87500, -46.12500 -21.8...</td>\n",
       "      <td>SF23_V_D_IV_4_SW</td>\n",
       "      <td>(-46.25, -46.125, -22.0, -21.875)</td>\n",
       "    </tr>\n",
       "    <tr>\n",
       "      <th>37151</th>\n",
       "      <td>POLYGON ((-46.37500 -21.87500, -46.25000 -21.8...</td>\n",
       "      <td>SF23_V_D_IV_3_SE</td>\n",
       "      <td>(-46.375, -46.25, -22.0, -21.875)</td>\n",
       "    </tr>\n",
       "    <tr>\n",
       "      <th>37631</th>\n",
       "      <td>POLYGON ((-45.12500 -21.00000, -45.00000 -21.0...</td>\n",
       "      <td>SF23_V_D_III_2_NE</td>\n",
       "      <td>(-45.125, -45.0, -21.125, -21.0)</td>\n",
       "    </tr>\n",
       "    <tr>\n",
       "      <th>37632</th>\n",
       "      <td>POLYGON ((-45.12500 -21.12500, -45.00000 -21.1...</td>\n",
       "      <td>SF23_V_D_III_2_SE</td>\n",
       "      <td>(-45.125, -45.0, -21.25, -21.125)</td>\n",
       "    </tr>\n",
       "    <tr>\n",
       "      <th>40773</th>\n",
       "      <td>POLYGON ((-46.50000 -21.87500, -46.37500 -21.8...</td>\n",
       "      <td>SF23_V_D_IV_3_SW</td>\n",
       "      <td>(-46.5, -46.375, -22.0, -21.875)</td>\n",
       "    </tr>\n",
       "  </tbody>\n",
       "</table>\n",
       "<p>96 rows × 3 columns</p>\n",
       "</div>"
      ],
      "text/plain": [
       "                                                geometry           id_folha  \\\n",
       "10117  POLYGON ((-46.50000 -21.50000, -46.37500 -21.5...   SF23_V_D_IV_1_NW   \n",
       "10120  POLYGON ((-46.50000 -21.00000, -46.37500 -21.0...    SF23_V_D_I_1_NW   \n",
       "10123  POLYGON ((-46.25000 -21.25000, -46.12500 -21.2...    SF23_V_D_I_4_NW   \n",
       "10124  POLYGON ((-46.25000 -21.37500, -46.12500 -21.3...    SF23_V_D_I_4_SW   \n",
       "10125  POLYGON ((-46.12500 -21.37500, -46.00000 -21.3...    SF23_V_D_I_4_SE   \n",
       "...                                                  ...                ...   \n",
       "37148  POLYGON ((-46.25000 -21.87500, -46.12500 -21.8...   SF23_V_D_IV_4_SW   \n",
       "37151  POLYGON ((-46.37500 -21.87500, -46.25000 -21.8...   SF23_V_D_IV_3_SE   \n",
       "37631  POLYGON ((-45.12500 -21.00000, -45.00000 -21.0...  SF23_V_D_III_2_NE   \n",
       "37632  POLYGON ((-45.12500 -21.12500, -45.00000 -21.1...  SF23_V_D_III_2_SE   \n",
       "40773  POLYGON ((-46.50000 -21.87500, -46.37500 -21.8...   SF23_V_D_IV_3_SW   \n",
       "\n",
       "                                   region  \n",
       "10117    (-46.5, -46.375, -21.625, -21.5)  \n",
       "10120    (-46.5, -46.375, -21.125, -21.0)  \n",
       "10123  (-46.25, -46.125, -21.375, -21.25)  \n",
       "10124   (-46.25, -46.125, -21.5, -21.375)  \n",
       "10125    (-46.125, -46.0, -21.5, -21.375)  \n",
       "...                                   ...  \n",
       "37148   (-46.25, -46.125, -22.0, -21.875)  \n",
       "37151   (-46.375, -46.25, -22.0, -21.875)  \n",
       "37631    (-45.125, -45.0, -21.125, -21.0)  \n",
       "37632   (-45.125, -45.0, -21.25, -21.125)  \n",
       "40773    (-46.5, -46.375, -22.0, -21.875)  \n",
       "\n",
       "[96 rows x 3 columns]"
      ]
     },
     "execution_count": 22,
     "metadata": {},
     "output_type": "execute_result"
    }
   ],
   "source": [
    "df = SF23_V_D_25k\n",
    "df"
   ]
  },
  {
   "cell_type": "code",
   "execution_count": 23,
   "metadata": {},
   "outputs": [],
   "source": [
    "def select_area(escala,id):\n",
    "    malha_cartog = mf.importar('malha_cartog_'+escala+'_wgs84')\n",
    "    regions(malha_cartog)\n",
    "    area = pd.DataFrame(malha_cartog[malha_cartog['id_folha'].str.contains(id)])\n",
    "    return(area)"
   ]
  },
  {
   "cell_type": "code",
   "execution_count": 24,
   "metadata": {},
   "outputs": [],
   "source": [
    "area = select_area('25k','SF23_V_D_VI')"
   ]
  },
  {
   "cell_type": "code",
   "execution_count": 29,
   "metadata": {},
   "outputs": [],
   "source": [
    "# Iterando entre as regions da malha cartográfica\n",
    "def interpolar(area,geof,degree=1,spacing=499,psize=100,n_splits=15,validate=False,chan_list=['CTCOR','eU','eTh','MDT','KPERC']):\n",
    "    grids = {chan_list[0]:(),chan_list[1]:(),chan_list[2]:(),chan_list[3]:(), chan_list[4]:()}    # Dicionário para salvar os dados interpolados (grids)\n",
    "    scores = {chan_list[0]:(),chan_list[1]:(),chan_list[2]:(), chan_list[3]:(), chan_list[4]:()}   # Dicionário para salvar os dados da validação cruzada\n",
    "    chain_list = chain_list       \n",
    "    for index, row in area.iterrows():\n",
    "        print(row.id_folha+' start')\n",
    "        data = geof[vd.inside((geof.LONGITUDE, geof.LATITUDE), region = row.region)]\n",
    "        coordinates = (data.X.values, data.Y.values)\n",
    "        if data.empty == True:  # if data dont have values pass to next step\n",
    "            print('none')\n",
    "        if len(data) < 2000:    # if less then 2000 points pass to next step\n",
    "            print('few data')\n",
    "        else:\n",
    "            # Iterando entre os canais de interpolação\n",
    "            for i in chan_list:\n",
    "                print(i)\n",
    "                chain = vd.Chain([\n",
    "                    ('trend', vd.Trend(degree=degree)),\n",
    "                    ('reduce', vd.BlockReduce(np.median, spacing=spacing)),\n",
    "                    ('spline', vd.Spline())\n",
    "                ])\n",
    "                \n",
    "                chain.fit(coordinates, data[i])\n",
    "                \n",
    "                if validate == True:\n",
    "                    cv     = vd.BlockKFold(spacing=spacing,\n",
    "                                n_splits=n_splits,\n",
    "                                shuffle=True)\n",
    "\n",
    "                    scores[i] = vd.cross_val_score(chain,\n",
    "                                            coordinates,\n",
    "                                            data[i],\n",
    "                                            cv=cv)\n",
    "                    \n",
    "\n",
    "                grid = chain.grid(spacing=psize, data_names=[i],pixel_register=True)\n",
    "                grids[i] = vd.distance_mask(coordinates, maxdist=499, grid= grid)\n",
    "                tif_ = grids[i].rename(easting = 'x',northing='y')\n",
    "                tif_.rio.to_raster('/home/ggrl/Desktop/grids/3022/100m_25k/'+i+'_'+row.id_folha+'.tif')"
   ]
  },
  {
   "cell_type": "code",
   "execution_count": 30,
   "metadata": {},
   "outputs": [
    {
     "name": "stdout",
     "output_type": "stream",
     "text": [
      "SF23_V_D_VI start\n",
      "CTCOR\n"
     ]
    },
    {
     "name": "stderr",
     "output_type": "stream",
     "text": [
      "/home/ggrl/Softwares/anaconda3/envs/mappingBot/lib/python3.8/site-packages/numba/np/ufunc/parallel.py:365: NumbaWarning: The TBB threading layer requires TBB version 2019.5 or later i.e., TBB_INTERFACE_VERSION >= 11005. Found TBB_INTERFACE_VERSION = 10005. The TBB threading layer is disabled.\n",
      "  warnings.warn(problem)\n"
     ]
    },
    {
     "name": "stdout",
     "output_type": "stream",
     "text": [
      "eU\n",
      "eTh\n",
      "MDT\n",
      "KPERC\n"
     ]
    }
   ],
   "source": [
    "SF23_V_D_VI_100m = interpolar(area,g_3022)"
   ]
  },
  {
   "cell_type": "code",
   "execution_count": 35,
   "metadata": {},
   "outputs": [
    {
     "ename": "AttributeError",
     "evalue": "'NoneType' object has no attribute 'grids'",
     "output_type": "error",
     "traceback": [
      "\u001b[0;31m---------------------------------------------------------------------------\u001b[0m",
      "\u001b[0;31mAttributeError\u001b[0m                            Traceback (most recent call last)",
      "\u001b[0;32m<ipython-input-35-ee35b3ef9fc0>\u001b[0m in \u001b[0;36m<module>\u001b[0;34m\u001b[0m\n\u001b[0;32m----> 1\u001b[0;31m \u001b[0mSF23_V_D_VI_100m\u001b[0m\u001b[0;34m.\u001b[0m\u001b[0mgrids\u001b[0m\u001b[0;34m[\u001b[0m\u001b[0;34m'MDT'\u001b[0m\u001b[0;34m]\u001b[0m\u001b[0;34m.\u001b[0m\u001b[0mMDT\u001b[0m\u001b[0;34m.\u001b[0m\u001b[0mplot\u001b[0m\u001b[0;34m(\u001b[0m\u001b[0;34m)\u001b[0m\u001b[0;34m\u001b[0m\u001b[0;34m\u001b[0m\u001b[0m\n\u001b[0m\u001b[1;32m      2\u001b[0m \u001b[0mplt\u001b[0m\u001b[0;34m.\u001b[0m\u001b[0maxis\u001b[0m\u001b[0;34m(\u001b[0m\u001b[0;34m'scaled'\u001b[0m\u001b[0;34m)\u001b[0m\u001b[0;34m\u001b[0m\u001b[0;34m\u001b[0m\u001b[0m\n",
      "\u001b[0;31mAttributeError\u001b[0m: 'NoneType' object has no attribute 'grids'"
     ]
    }
   ],
   "source": [
    "SF23_V_D_VI_100m.grids['MDT'].MDT.plot()\n",
    "plt.axis('scaled')"
   ]
  },
  {
   "cell_type": "code",
   "execution_count": 31,
   "metadata": {},
   "outputs": [
    {
     "data": {
      "application/vnd.jupyter.widget-view+json": {
       "model_id": "31e07df86c124c5c92e0f621c69b055a",
       "version_major": 2,
       "version_minor": 0
      },
      "text/plain": [
       "Canvas(toolbar=Toolbar(toolitems=[('Home', 'Reset original view', 'home', 'home'), ('Back', 'Back to previous …"
      ]
     },
     "metadata": {},
     "output_type": "display_data"
    },
    {
     "ename": "NameError",
     "evalue": "name 'grids' is not defined",
     "output_type": "error",
     "traceback": [
      "\u001b[0;31m---------------------------------------------------------------------------\u001b[0m",
      "\u001b[0;31mNameError\u001b[0m                                 Traceback (most recent call last)",
      "\u001b[0;32m<ipython-input-31-3a79cf96ce70>\u001b[0m in \u001b[0;36m<module>\u001b[0;34m\u001b[0m\n\u001b[1;32m      1\u001b[0m \u001b[0mplt\u001b[0m\u001b[0;34m.\u001b[0m\u001b[0mfigure\u001b[0m\u001b[0;34m(\u001b[0m\u001b[0;34m)\u001b[0m\u001b[0;34m\u001b[0m\u001b[0;34m\u001b[0m\u001b[0m\n\u001b[0;32m----> 2\u001b[0;31m \u001b[0mgrids\u001b[0m\u001b[0;34m[\u001b[0m\u001b[0;34m'MDT'\u001b[0m\u001b[0;34m]\u001b[0m\u001b[0;34m.\u001b[0m\u001b[0mMDT\u001b[0m\u001b[0;34m.\u001b[0m\u001b[0mplot\u001b[0m\u001b[0;34m(\u001b[0m\u001b[0mcmap\u001b[0m\u001b[0;34m=\u001b[0m\u001b[0;34m'terrain'\u001b[0m\u001b[0;34m)\u001b[0m\u001b[0;34m\u001b[0m\u001b[0;34m\u001b[0m\u001b[0m\n\u001b[0m\u001b[1;32m      3\u001b[0m \u001b[0mplt\u001b[0m\u001b[0;34m.\u001b[0m\u001b[0maxis\u001b[0m\u001b[0;34m(\u001b[0m\u001b[0;34m'scaled'\u001b[0m\u001b[0;34m)\u001b[0m\u001b[0;34m\u001b[0m\u001b[0;34m\u001b[0m\u001b[0m\n",
      "\u001b[0;31mNameError\u001b[0m: name 'grids' is not defined"
     ]
    }
   ],
   "source": [
    "plt.figure()\n",
    "grids['MDT'].MDT.plot(cmap='terrain')\n",
    "plt.axis('scaled')"
   ]
  },
  {
   "cell_type": "code",
   "execution_count": null,
   "metadata": {},
   "outputs": [],
   "source": [
    "interpolar(df,gLine_1105,validate=True)"
   ]
  }
 ],
 "metadata": {
  "interpreter": {
   "hash": "2bc076d9378ac5ac660ba4f6a46900d2ea3732140aaa213526ceb6851acbc3f5"
  },
  "kernelspec": {
   "display_name": "Python [conda env:geologist_bot]",
   "language": "python",
   "name": "conda-env-geologist_bot-py"
  },
  "language_info": {
   "codemirror_mode": {
    "name": "ipython",
    "version": 3
   },
   "file_extension": ".py",
   "mimetype": "text/x-python",
   "name": "python",
   "nbconvert_exporter": "python",
   "pygments_lexer": "ipython3",
   "version": "3.7.11"
  }
 },
 "nbformat": 4,
 "nbformat_minor": 2
}
