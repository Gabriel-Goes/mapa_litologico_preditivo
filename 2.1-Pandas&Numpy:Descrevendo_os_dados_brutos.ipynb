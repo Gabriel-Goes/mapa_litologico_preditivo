{
 "cells": [
  {
   "cell_type": "code",
   "execution_count": 25,
   "metadata": {},
   "outputs": [],
   "source": [
    "import pandas as pd\n",
    "from src.funcs_importar import import_xyz, gdb\n",
    "                                                            # ARQUIVO COM DEFINICOES DE FUNCOES ESCRITAS EM\n",
    "                                                            # PYTHON PARA FACILITAR OS PROCESSOS DE PLOTS E LEITURA DOS DADOS...\n",
    "                                                            # E NO FUTURO GERAR UM SCRIPT DE ENCADEAMENTO DESTAS FUNÇOES."
   ]
  },
  {
   "cell_type": "code",
   "execution_count": 26,
   "metadata": {},
   "outputs": [
    {
     "data": {
      "text/plain": [
       "'/home/ggrl/geodatabase/'"
      ]
     },
     "execution_count": 26,
     "metadata": {},
     "output_type": "execute_result"
    }
   ],
   "source": [
    "gdb()"
   ]
  },
  {
   "cell_type": "markdown",
   "metadata": {},
   "source": [
    "# Levantamento 3022"
   ]
  },
  {
   "cell_type": "markdown",
   "metadata": {},
   "source": [
    "## Dados Gamaespectrométricos"
   ]
  },
  {
   "cell_type": "markdown",
   "metadata": {},
   "source": [
    "### Recuperando os dados selecionados do XYZ para serem analizados"
   ]
  },
  {
   "cell_type": "code",
   "execution_count": 59,
   "metadata": {},
   "outputs": [],
   "source": [
    "gama_3022_cols = 'ALTURA BARO COSMICO CTB CTCOR CTEXP DATA eTh eU FIDUCIAL GPSALT HORA KB KCOR KPERC LATITUDE LIVE_TIME LONGITUDE MDT TEMP THB THCOR THKRAZAO UB UCOR UKRAZAO UTHRAZAO UUP X X_WGS Y Y_WGS'.split(\" \")\n",
    "\n",
    "gama_3022 = pd.read_csv(gdb('geof/3022_Gama.XYZ'),\n",
    "                         names=gama_3022_cols,\n",
    "                         delim_whitespace=True,\n",
    "                         skiprows=8,\n",
    "                         usecols=['X',\"Y\",\n",
    "                                  \"MDT\",\n",
    "                                  \"KPERC\", 'eU', 'eTh', 'CTCOR',\n",
    "                                  'UTHRAZAO',\"THKRAZAO\",\"UKRAZAO\"],\n",
    "                         na_values=('*'),                     \n",
    "                         dtype=('float'),\n",
    "                         encoding='latin-1'\n",
    "                         )"
   ]
  },
  {
   "cell_type": "code",
   "execution_count": 60,
   "metadata": {},
   "outputs": [
    {
     "name": "stdout",
     "output_type": "stream",
     "text": [
      "<class 'pandas.core.frame.DataFrame'>\n",
      "RangeIndex: 676766 entries, 0 to 676765\n",
      "Data columns (total 10 columns):\n",
      " #   Column    Non-Null Count   Dtype  \n",
      "---  ------    --------------   -----  \n",
      " 0   CTCOR     676766 non-null  float64\n",
      " 1   eTh       676766 non-null  float64\n",
      " 2   eU        676766 non-null  float64\n",
      " 3   KPERC     676766 non-null  float64\n",
      " 4   MDT       676766 non-null  float64\n",
      " 5   THKRAZAO  676766 non-null  float64\n",
      " 6   UKRAZAO   676766 non-null  float64\n",
      " 7   UTHRAZAO  676766 non-null  float64\n",
      " 8   X         676766 non-null  float64\n",
      " 9   Y         676766 non-null  float64\n",
      "dtypes: float64(10)\n",
      "memory usage: 51.6 MB\n"
     ]
    }
   ],
   "source": [
    "gama_3022.info()"
   ]
  },
  {
   "cell_type": "markdown",
   "metadata": {},
   "source": [
    "### Definindo funçoes que listam os dados brutos e descreve suas distribuiçoes estatisticas"
   ]
  },
  {
   "cell_type": "code",
   "execution_count": 61,
   "metadata": {},
   "outputs": [],
   "source": [
    "def list_columns(geof):\n",
    "    print('Listando atributos dos dados geofisicos')\n",
    "    atributos_geof = list(geof.columns)             # DataFrame.columns\n",
    "    lista_atributo_geof=[]\n",
    "    lista_atributo_geog=[]\n",
    "    lista_atributo_proj=[]\n",
    "\n",
    "    for atributo in atributos_geof:\n",
    "        if atributo == 'LATITUDE':\n",
    "            lista_atributo_geog.append(atributo)\n",
    "        elif atributo == 'LONGITUDE':\n",
    "            lista_atributo_geog.append(atributo)\n",
    "        elif atributo == 'LONG':\n",
    "            lista_atributo_geog.append(atributo)\n",
    "        elif atributo == 'LAT':\n",
    "            lista_atributo_geog.append(atributo) \n",
    "        elif atributo == 'X':\n",
    "            lista_atributo_proj.append(atributo)\n",
    "        elif atributo == 'Y':\n",
    "            lista_atributo_proj.append(atributo)\n",
    "        elif atributo == 'UTME':\n",
    "            lista_atributo_proj.append(atributo)\n",
    "        elif atributo == 'UTMN':\n",
    "            lista_atributo_proj.append(atributo)\n",
    "        elif atributo == 'X_WGS':\n",
    "            lista_atributo_proj.append(atributo)\n",
    "        elif atributo == 'Y_WGS':\n",
    "            lista_atributo_proj.append(atributo)\n",
    "        else:\n",
    "            lista_atributo_geof.append(atributo)\n",
    "    codigo=str(geof)        \n",
    "    print(f\"# --- # Listagem de dados do aerolevantamento:  \")\n",
    "    print(f\"Lista de atributos geofísicos = {lista_atributo_geof}\")\n",
    "    print(f\"lista de atributos geograficos = {lista_atributo_geog}\")\n",
    "    print(f\"lista de atributos projetados = {lista_atributo_proj}\")\n",
    "    return lista_atributo_geof, lista_atributo_geog, lista_atributo_proj\n",
    "\n",
    "# DESCRIÇÃO ESTATISTICA DOS DADOS AEROGEOFÍSICOS\n",
    "def descricao(geof):\n",
    "    lista_atributo_geof,lista_atributo_geog,lista_atributo_proj = list_columns(geof)  # USANDO FUNCAO DEFINIDA ACIMA PARA CATEGORIZAR METADADO\n",
    "    \n",
    "    \n",
    "    metadatadict = pd.DataFrame(geof.dtypes)\n",
    "    metadatadict[\"Valores Faltantes\"] = geof.isnull().sum()\n",
    "    metadatadict[\"Valores Únicos\"] = geof.nunique()\n",
    "    metadatadict[\"Valoes Negativos\"] = sum(n < 0 for n in geof.values)\n",
    "    metadatadict[\"Amostragem\"] = geof.count()\n",
    "    metadatadict = metadatadict.rename(columns = {0 : 'dType'})\n",
    "\n",
    "    geof_df = geof.drop(axis=0,columns=lista_atributo_geog)\n",
    "    geof_df.drop(axis=0,columns=lista_atributo_proj,inplace=True)\n",
    "\n",
    "    #datadict['Valores Negativos'] = lista_negativo\n",
    "\n",
    "    geof_descrito = geof_df.describe(percentiles=[0.001,0.1,0.25,0.5,0.75,0.995])\n",
    "    \n",
    "    return metadatadict,lista_atributo_geof,lista_atributo_geog,lista_atributo_proj,geof_descrito\n"
   ]
  },
  {
   "cell_type": "code",
   "execution_count": 62,
   "metadata": {},
   "outputs": [
    {
     "name": "stdout",
     "output_type": "stream",
     "text": [
      "Listando atributos dos dados geofisicos\n",
      "# --- # Listagem de dados do aerolevantamento:  \n",
      "Lista de atributos geofísicos = ['CTCOR', 'eTh', 'eU', 'KPERC', 'MDT', 'THKRAZAO', 'UKRAZAO', 'UTHRAZAO']\n",
      "lista de atributos geograficos = []\n",
      "lista de atributos projetados = ['X', 'Y']\n"
     ]
    }
   ],
   "source": [
    "gama_3022_descricao = descricao(gama_3022)"
   ]
  },
  {
   "cell_type": "markdown",
   "metadata": {},
   "source": [
    "#### Observamos valores negativos nas contagens radiométricas tratadas, isso nos leva a necessidade de manipular estes valores algebrigamente para que os resultados, tanto da interpolação como das classificações supervisiondas, sejam aprimorados."
   ]
  },
  {
   "cell_type": "code",
   "execution_count": 63,
   "metadata": {},
   "outputs": [
    {
     "data": {
      "text/html": [
       "<div>\n",
       "<style scoped>\n",
       "    .dataframe tbody tr th:only-of-type {\n",
       "        vertical-align: middle;\n",
       "    }\n",
       "\n",
       "    .dataframe tbody tr th {\n",
       "        vertical-align: top;\n",
       "    }\n",
       "\n",
       "    .dataframe thead th {\n",
       "        text-align: right;\n",
       "    }\n",
       "</style>\n",
       "<table border=\"1\" class=\"dataframe\">\n",
       "  <thead>\n",
       "    <tr style=\"text-align: right;\">\n",
       "      <th></th>\n",
       "      <th>dType</th>\n",
       "      <th>Valores Faltantes</th>\n",
       "      <th>Valores Únicos</th>\n",
       "      <th>Valoes Negativos</th>\n",
       "      <th>Amostragem</th>\n",
       "    </tr>\n",
       "  </thead>\n",
       "  <tbody>\n",
       "    <tr>\n",
       "      <th>CTCOR</th>\n",
       "      <td>float64</td>\n",
       "      <td>0</td>\n",
       "      <td>237255</td>\n",
       "      <td>5581</td>\n",
       "      <td>676766</td>\n",
       "    </tr>\n",
       "    <tr>\n",
       "      <th>eTh</th>\n",
       "      <td>float64</td>\n",
       "      <td>0</td>\n",
       "      <td>1991</td>\n",
       "      <td>1693</td>\n",
       "      <td>676766</td>\n",
       "    </tr>\n",
       "    <tr>\n",
       "      <th>eU</th>\n",
       "      <td>float64</td>\n",
       "      <td>0</td>\n",
       "      <td>575</td>\n",
       "      <td>196639</td>\n",
       "      <td>676766</td>\n",
       "    </tr>\n",
       "    <tr>\n",
       "      <th>KPERC</th>\n",
       "      <td>float64</td>\n",
       "      <td>0</td>\n",
       "      <td>6191</td>\n",
       "      <td>48235</td>\n",
       "      <td>676766</td>\n",
       "    </tr>\n",
       "    <tr>\n",
       "      <th>MDT</th>\n",
       "      <td>float64</td>\n",
       "      <td>0</td>\n",
       "      <td>72962</td>\n",
       "      <td>0</td>\n",
       "      <td>676766</td>\n",
       "    </tr>\n",
       "    <tr>\n",
       "      <th>THKRAZAO</th>\n",
       "      <td>float64</td>\n",
       "      <td>0</td>\n",
       "      <td>234249</td>\n",
       "      <td>0</td>\n",
       "      <td>676766</td>\n",
       "    </tr>\n",
       "    <tr>\n",
       "      <th>UKRAZAO</th>\n",
       "      <td>float64</td>\n",
       "      <td>0</td>\n",
       "      <td>34275</td>\n",
       "      <td>0</td>\n",
       "      <td>676766</td>\n",
       "    </tr>\n",
       "    <tr>\n",
       "      <th>UTHRAZAO</th>\n",
       "      <td>float64</td>\n",
       "      <td>0</td>\n",
       "      <td>763</td>\n",
       "      <td>0</td>\n",
       "      <td>676766</td>\n",
       "    </tr>\n",
       "    <tr>\n",
       "      <th>X</th>\n",
       "      <td>float64</td>\n",
       "      <td>0</td>\n",
       "      <td>612143</td>\n",
       "      <td>0</td>\n",
       "      <td>676766</td>\n",
       "    </tr>\n",
       "    <tr>\n",
       "      <th>Y</th>\n",
       "      <td>float64</td>\n",
       "      <td>0</td>\n",
       "      <td>645094</td>\n",
       "      <td>0</td>\n",
       "      <td>676766</td>\n",
       "    </tr>\n",
       "  </tbody>\n",
       "</table>\n",
       "</div>"
      ],
      "text/plain": [
       "            dType  Valores Faltantes  Valores Únicos  Valoes Negativos  \\\n",
       "CTCOR     float64                  0          237255              5581   \n",
       "eTh       float64                  0            1991              1693   \n",
       "eU        float64                  0             575            196639   \n",
       "KPERC     float64                  0            6191             48235   \n",
       "MDT       float64                  0           72962                 0   \n",
       "THKRAZAO  float64                  0          234249                 0   \n",
       "UKRAZAO   float64                  0           34275                 0   \n",
       "UTHRAZAO  float64                  0             763                 0   \n",
       "X         float64                  0          612143                 0   \n",
       "Y         float64                  0          645094                 0   \n",
       "\n",
       "          Amostragem  \n",
       "CTCOR         676766  \n",
       "eTh           676766  \n",
       "eU            676766  \n",
       "KPERC         676766  \n",
       "MDT           676766  \n",
       "THKRAZAO      676766  \n",
       "UKRAZAO       676766  \n",
       "UTHRAZAO      676766  \n",
       "X             676766  \n",
       "Y             676766  "
      ]
     },
     "execution_count": 63,
     "metadata": {},
     "output_type": "execute_result"
    }
   ],
   "source": [
    "gama_3022_descricao[0]"
   ]
  },
  {
   "cell_type": "code",
   "execution_count": 66,
   "metadata": {},
   "outputs": [],
   "source": [
    "df = gama_3022\n",
    "\n",
    "df['K_pos'] = df['KPERC'] - df['KPERC'].min() + 0.01\n",
    "df['eU_pos'] = df['eU'] - df['eU'].min() + 0.01\n",
    "df['eTh_pos'] = df['eTh'] - df['eTh'].min() + 0.01\n",
    "\n",
    "# Fator F\n",
    "df['fF'] = df.K_pos * df.eU_pos / df.eTh_pos\n",
    "\n",
    "# Cálculo de Razões de Bandas ( SEM LOW-PASS )\n",
    "#df['UTH_R']\n",
    "#df['KTH_R']"
   ]
  },
  {
   "cell_type": "code",
   "execution_count": 67,
   "metadata": {},
   "outputs": [
    {
     "name": "stdout",
     "output_type": "stream",
     "text": [
      "Listando atributos dos dados geofisicos\n",
      "# --- # Listagem de dados do aerolevantamento:  \n",
      "Lista de atributos geofísicos = ['CTCOR', 'eTh', 'eU', 'KPERC', 'MDT', 'THKRAZAO', 'UKRAZAO', 'UTHRAZAO', 'K_pos', 'eU_pos', 'eTh_pos', 'fF']\n",
      "lista de atributos geograficos = []\n",
      "lista de atributos projetados = ['X', 'Y']\n"
     ]
    }
   ],
   "source": [
    "df_descricao = descricao(df)"
   ]
  },
  {
   "cell_type": "code",
   "execution_count": 69,
   "metadata": {},
   "outputs": [
    {
     "data": {
      "text/html": [
       "<div>\n",
       "<style scoped>\n",
       "    .dataframe tbody tr th:only-of-type {\n",
       "        vertical-align: middle;\n",
       "    }\n",
       "\n",
       "    .dataframe tbody tr th {\n",
       "        vertical-align: top;\n",
       "    }\n",
       "\n",
       "    .dataframe thead th {\n",
       "        text-align: right;\n",
       "    }\n",
       "</style>\n",
       "<table border=\"1\" class=\"dataframe\">\n",
       "  <thead>\n",
       "    <tr style=\"text-align: right;\">\n",
       "      <th></th>\n",
       "      <th>count</th>\n",
       "      <th>mean</th>\n",
       "      <th>std</th>\n",
       "      <th>min</th>\n",
       "      <th>0.1%</th>\n",
       "      <th>10%</th>\n",
       "      <th>25%</th>\n",
       "      <th>50%</th>\n",
       "      <th>75%</th>\n",
       "      <th>99.5%</th>\n",
       "      <th>max</th>\n",
       "    </tr>\n",
       "  </thead>\n",
       "  <tbody>\n",
       "    <tr>\n",
       "      <th>CTCOR</th>\n",
       "      <td>676766.0</td>\n",
       "      <td>1266.228350</td>\n",
       "      <td>1345.323409</td>\n",
       "      <td>-11834.130000</td>\n",
       "      <td>-140.741150</td>\n",
       "      <td>482.720000</td>\n",
       "      <td>743.430000</td>\n",
       "      <td>1079.810000</td>\n",
       "      <td>1482.31000</td>\n",
       "      <td>7197.698750</td>\n",
       "      <td>450895.020</td>\n",
       "    </tr>\n",
       "    <tr>\n",
       "      <th>eTh</th>\n",
       "      <td>676766.0</td>\n",
       "      <td>16.221399</td>\n",
       "      <td>18.263838</td>\n",
       "      <td>-3.800000</td>\n",
       "      <td>-0.300000</td>\n",
       "      <td>6.000000</td>\n",
       "      <td>9.100000</td>\n",
       "      <td>13.100000</td>\n",
       "      <td>18.70000</td>\n",
       "      <td>97.300000</td>\n",
       "      <td>6371.400</td>\n",
       "    </tr>\n",
       "    <tr>\n",
       "      <th>eU</th>\n",
       "      <td>676766.0</td>\n",
       "      <td>0.436867</td>\n",
       "      <td>2.349440</td>\n",
       "      <td>-129.300000</td>\n",
       "      <td>-2.300000</td>\n",
       "      <td>-0.400000</td>\n",
       "      <td>-0.100000</td>\n",
       "      <td>0.200000</td>\n",
       "      <td>0.70000</td>\n",
       "      <td>7.600000</td>\n",
       "      <td>934.800</td>\n",
       "    </tr>\n",
       "    <tr>\n",
       "      <th>KPERC</th>\n",
       "      <td>676766.0</td>\n",
       "      <td>0.644188</td>\n",
       "      <td>0.815783</td>\n",
       "      <td>-149.323000</td>\n",
       "      <td>-0.210000</td>\n",
       "      <td>0.025000</td>\n",
       "      <td>0.131000</td>\n",
       "      <td>0.367000</td>\n",
       "      <td>0.88000</td>\n",
       "      <td>4.213000</td>\n",
       "      <td>24.286</td>\n",
       "    </tr>\n",
       "    <tr>\n",
       "      <th>MDT</th>\n",
       "      <td>676766.0</td>\n",
       "      <td>977.859156</td>\n",
       "      <td>140.620854</td>\n",
       "      <td>432.770000</td>\n",
       "      <td>585.087650</td>\n",
       "      <td>818.580000</td>\n",
       "      <td>876.030000</td>\n",
       "      <td>960.120000</td>\n",
       "      <td>1056.83000</td>\n",
       "      <td>1416.460000</td>\n",
       "      <td>1782.280</td>\n",
       "    </tr>\n",
       "    <tr>\n",
       "      <th>THKRAZAO</th>\n",
       "      <td>676766.0</td>\n",
       "      <td>115.978529</td>\n",
       "      <td>424.811990</td>\n",
       "      <td>0.155000</td>\n",
       "      <td>0.894000</td>\n",
       "      <td>7.695000</td>\n",
       "      <td>14.066000</td>\n",
       "      <td>32.872000</td>\n",
       "      <td>102.50775</td>\n",
       "      <td>1326.766750</td>\n",
       "      <td>205529.094</td>\n",
       "    </tr>\n",
       "    <tr>\n",
       "      <th>UKRAZAO</th>\n",
       "      <td>676766.0</td>\n",
       "      <td>3.012281</td>\n",
       "      <td>53.502275</td>\n",
       "      <td>0.002000</td>\n",
       "      <td>0.005000</td>\n",
       "      <td>0.028000</td>\n",
       "      <td>0.109000</td>\n",
       "      <td>0.663000</td>\n",
       "      <td>2.18900</td>\n",
       "      <td>46.192225</td>\n",
       "      <td>30156.090</td>\n",
       "    </tr>\n",
       "    <tr>\n",
       "      <th>UTHRAZAO</th>\n",
       "      <td>676766.0</td>\n",
       "      <td>0.034024</td>\n",
       "      <td>0.047602</td>\n",
       "      <td>0.000000</td>\n",
       "      <td>0.000000</td>\n",
       "      <td>0.001000</td>\n",
       "      <td>0.003000</td>\n",
       "      <td>0.019000</td>\n",
       "      <td>0.04900</td>\n",
       "      <td>0.261000</td>\n",
       "      <td>2.807</td>\n",
       "    </tr>\n",
       "    <tr>\n",
       "      <th>K_pos</th>\n",
       "      <td>676766.0</td>\n",
       "      <td>149.977188</td>\n",
       "      <td>0.815783</td>\n",
       "      <td>0.010000</td>\n",
       "      <td>149.123000</td>\n",
       "      <td>149.358000</td>\n",
       "      <td>149.464000</td>\n",
       "      <td>149.700000</td>\n",
       "      <td>150.21300</td>\n",
       "      <td>153.546000</td>\n",
       "      <td>173.619</td>\n",
       "    </tr>\n",
       "    <tr>\n",
       "      <th>eU_pos</th>\n",
       "      <td>676766.0</td>\n",
       "      <td>129.746867</td>\n",
       "      <td>2.349440</td>\n",
       "      <td>0.010000</td>\n",
       "      <td>127.010000</td>\n",
       "      <td>128.910000</td>\n",
       "      <td>129.210000</td>\n",
       "      <td>129.510000</td>\n",
       "      <td>130.01000</td>\n",
       "      <td>136.910000</td>\n",
       "      <td>1064.110</td>\n",
       "    </tr>\n",
       "    <tr>\n",
       "      <th>eTh_pos</th>\n",
       "      <td>676766.0</td>\n",
       "      <td>20.031399</td>\n",
       "      <td>18.263838</td>\n",
       "      <td>0.010000</td>\n",
       "      <td>3.510000</td>\n",
       "      <td>9.810000</td>\n",
       "      <td>12.910000</td>\n",
       "      <td>16.910000</td>\n",
       "      <td>22.51000</td>\n",
       "      <td>101.110000</td>\n",
       "      <td>6375.210</td>\n",
       "    </tr>\n",
       "    <tr>\n",
       "      <th>fF</th>\n",
       "      <td>676766.0</td>\n",
       "      <td>1269.760212</td>\n",
       "      <td>3376.113216</td>\n",
       "      <td>0.001614</td>\n",
       "      <td>129.158349</td>\n",
       "      <td>614.060857</td>\n",
       "      <td>865.077579</td>\n",
       "      <td>1153.457773</td>\n",
       "      <td>1503.49455</td>\n",
       "      <td>4694.284182</td>\n",
       "      <td>1920790.350</td>\n",
       "    </tr>\n",
       "  </tbody>\n",
       "</table>\n",
       "</div>"
      ],
      "text/plain": [
       "             count         mean          std           min        0.1%  \\\n",
       "CTCOR     676766.0  1266.228350  1345.323409 -11834.130000 -140.741150   \n",
       "eTh       676766.0    16.221399    18.263838     -3.800000   -0.300000   \n",
       "eU        676766.0     0.436867     2.349440   -129.300000   -2.300000   \n",
       "KPERC     676766.0     0.644188     0.815783   -149.323000   -0.210000   \n",
       "MDT       676766.0   977.859156   140.620854    432.770000  585.087650   \n",
       "THKRAZAO  676766.0   115.978529   424.811990      0.155000    0.894000   \n",
       "UKRAZAO   676766.0     3.012281    53.502275      0.002000    0.005000   \n",
       "UTHRAZAO  676766.0     0.034024     0.047602      0.000000    0.000000   \n",
       "K_pos     676766.0   149.977188     0.815783      0.010000  149.123000   \n",
       "eU_pos    676766.0   129.746867     2.349440      0.010000  127.010000   \n",
       "eTh_pos   676766.0    20.031399    18.263838      0.010000    3.510000   \n",
       "fF        676766.0  1269.760212  3376.113216      0.001614  129.158349   \n",
       "\n",
       "                 10%         25%          50%         75%        99.5%  \\\n",
       "CTCOR     482.720000  743.430000  1079.810000  1482.31000  7197.698750   \n",
       "eTh         6.000000    9.100000    13.100000    18.70000    97.300000   \n",
       "eU         -0.400000   -0.100000     0.200000     0.70000     7.600000   \n",
       "KPERC       0.025000    0.131000     0.367000     0.88000     4.213000   \n",
       "MDT       818.580000  876.030000   960.120000  1056.83000  1416.460000   \n",
       "THKRAZAO    7.695000   14.066000    32.872000   102.50775  1326.766750   \n",
       "UKRAZAO     0.028000    0.109000     0.663000     2.18900    46.192225   \n",
       "UTHRAZAO    0.001000    0.003000     0.019000     0.04900     0.261000   \n",
       "K_pos     149.358000  149.464000   149.700000   150.21300   153.546000   \n",
       "eU_pos    128.910000  129.210000   129.510000   130.01000   136.910000   \n",
       "eTh_pos     9.810000   12.910000    16.910000    22.51000   101.110000   \n",
       "fF        614.060857  865.077579  1153.457773  1503.49455  4694.284182   \n",
       "\n",
       "                  max  \n",
       "CTCOR      450895.020  \n",
       "eTh          6371.400  \n",
       "eU            934.800  \n",
       "KPERC          24.286  \n",
       "MDT          1782.280  \n",
       "THKRAZAO   205529.094  \n",
       "UKRAZAO     30156.090  \n",
       "UTHRAZAO        2.807  \n",
       "K_pos         173.619  \n",
       "eU_pos       1064.110  \n",
       "eTh_pos      6375.210  \n",
       "fF        1920790.350  "
      ]
     },
     "execution_count": 69,
     "metadata": {},
     "output_type": "execute_result"
    }
   ],
   "source": [
    "df_descricao[4].T"
   ]
  },
  {
   "cell_type": "code",
   "execution_count": 70,
   "metadata": {},
   "outputs": [
    {
     "data": {
      "text/html": [
       "<div>\n",
       "<style scoped>\n",
       "    .dataframe tbody tr th:only-of-type {\n",
       "        vertical-align: middle;\n",
       "    }\n",
       "\n",
       "    .dataframe tbody tr th {\n",
       "        vertical-align: top;\n",
       "    }\n",
       "\n",
       "    .dataframe thead th {\n",
       "        text-align: right;\n",
       "    }\n",
       "</style>\n",
       "<table border=\"1\" class=\"dataframe\">\n",
       "  <thead>\n",
       "    <tr style=\"text-align: right;\">\n",
       "      <th></th>\n",
       "      <th>dType</th>\n",
       "      <th>Valores Faltantes</th>\n",
       "      <th>Valores Únicos</th>\n",
       "      <th>Valoes Negativos</th>\n",
       "      <th>Amostragem</th>\n",
       "    </tr>\n",
       "  </thead>\n",
       "  <tbody>\n",
       "    <tr>\n",
       "      <th>CTCOR</th>\n",
       "      <td>float64</td>\n",
       "      <td>0</td>\n",
       "      <td>237255</td>\n",
       "      <td>5581</td>\n",
       "      <td>676766</td>\n",
       "    </tr>\n",
       "    <tr>\n",
       "      <th>eTh</th>\n",
       "      <td>float64</td>\n",
       "      <td>0</td>\n",
       "      <td>1991</td>\n",
       "      <td>1693</td>\n",
       "      <td>676766</td>\n",
       "    </tr>\n",
       "    <tr>\n",
       "      <th>eU</th>\n",
       "      <td>float64</td>\n",
       "      <td>0</td>\n",
       "      <td>575</td>\n",
       "      <td>196639</td>\n",
       "      <td>676766</td>\n",
       "    </tr>\n",
       "    <tr>\n",
       "      <th>KPERC</th>\n",
       "      <td>float64</td>\n",
       "      <td>0</td>\n",
       "      <td>6191</td>\n",
       "      <td>48235</td>\n",
       "      <td>676766</td>\n",
       "    </tr>\n",
       "    <tr>\n",
       "      <th>MDT</th>\n",
       "      <td>float64</td>\n",
       "      <td>0</td>\n",
       "      <td>72962</td>\n",
       "      <td>0</td>\n",
       "      <td>676766</td>\n",
       "    </tr>\n",
       "    <tr>\n",
       "      <th>THKRAZAO</th>\n",
       "      <td>float64</td>\n",
       "      <td>0</td>\n",
       "      <td>234249</td>\n",
       "      <td>0</td>\n",
       "      <td>676766</td>\n",
       "    </tr>\n",
       "    <tr>\n",
       "      <th>UKRAZAO</th>\n",
       "      <td>float64</td>\n",
       "      <td>0</td>\n",
       "      <td>34275</td>\n",
       "      <td>0</td>\n",
       "      <td>676766</td>\n",
       "    </tr>\n",
       "    <tr>\n",
       "      <th>UTHRAZAO</th>\n",
       "      <td>float64</td>\n",
       "      <td>0</td>\n",
       "      <td>763</td>\n",
       "      <td>0</td>\n",
       "      <td>676766</td>\n",
       "    </tr>\n",
       "    <tr>\n",
       "      <th>X</th>\n",
       "      <td>float64</td>\n",
       "      <td>0</td>\n",
       "      <td>612143</td>\n",
       "      <td>0</td>\n",
       "      <td>676766</td>\n",
       "    </tr>\n",
       "    <tr>\n",
       "      <th>Y</th>\n",
       "      <td>float64</td>\n",
       "      <td>0</td>\n",
       "      <td>645094</td>\n",
       "      <td>0</td>\n",
       "      <td>676766</td>\n",
       "    </tr>\n",
       "    <tr>\n",
       "      <th>K_pos</th>\n",
       "      <td>float64</td>\n",
       "      <td>0</td>\n",
       "      <td>6191</td>\n",
       "      <td>0</td>\n",
       "      <td>676766</td>\n",
       "    </tr>\n",
       "    <tr>\n",
       "      <th>eU_pos</th>\n",
       "      <td>float64</td>\n",
       "      <td>0</td>\n",
       "      <td>575</td>\n",
       "      <td>0</td>\n",
       "      <td>676766</td>\n",
       "    </tr>\n",
       "    <tr>\n",
       "      <th>eTh_pos</th>\n",
       "      <td>float64</td>\n",
       "      <td>0</td>\n",
       "      <td>1991</td>\n",
       "      <td>0</td>\n",
       "      <td>676766</td>\n",
       "    </tr>\n",
       "    <tr>\n",
       "      <th>fF</th>\n",
       "      <td>float64</td>\n",
       "      <td>0</td>\n",
       "      <td>640921</td>\n",
       "      <td>0</td>\n",
       "      <td>676766</td>\n",
       "    </tr>\n",
       "  </tbody>\n",
       "</table>\n",
       "</div>"
      ],
      "text/plain": [
       "            dType  Valores Faltantes  Valores Únicos  Valoes Negativos  \\\n",
       "CTCOR     float64                  0          237255              5581   \n",
       "eTh       float64                  0            1991              1693   \n",
       "eU        float64                  0             575            196639   \n",
       "KPERC     float64                  0            6191             48235   \n",
       "MDT       float64                  0           72962                 0   \n",
       "THKRAZAO  float64                  0          234249                 0   \n",
       "UKRAZAO   float64                  0           34275                 0   \n",
       "UTHRAZAO  float64                  0             763                 0   \n",
       "X         float64                  0          612143                 0   \n",
       "Y         float64                  0          645094                 0   \n",
       "K_pos     float64                  0            6191                 0   \n",
       "eU_pos    float64                  0             575                 0   \n",
       "eTh_pos   float64                  0            1991                 0   \n",
       "fF        float64                  0          640921                 0   \n",
       "\n",
       "          Amostragem  \n",
       "CTCOR         676766  \n",
       "eTh           676766  \n",
       "eU            676766  \n",
       "KPERC         676766  \n",
       "MDT           676766  \n",
       "THKRAZAO      676766  \n",
       "UKRAZAO       676766  \n",
       "UTHRAZAO      676766  \n",
       "X             676766  \n",
       "Y             676766  \n",
       "K_pos         676766  \n",
       "eU_pos        676766  \n",
       "eTh_pos       676766  \n",
       "fF            676766  "
      ]
     },
     "execution_count": 70,
     "metadata": {},
     "output_type": "execute_result"
    }
   ],
   "source": [
    "df_descricao[0]"
   ]
  },
  {
   "cell_type": "code",
   "execution_count": null,
   "metadata": {},
   "outputs": [],
   "source": []
  },
  {
   "cell_type": "markdown",
   "metadata": {},
   "source": [
    "## Magnetometria"
   ]
  },
  {
   "cell_type": "code",
   "execution_count": 29,
   "metadata": {},
   "outputs": [],
   "source": [
    "mag_3022_cols = 'ALTURA BARO DATA FID GPSALT HORA IGRF LAT_WGS LONG_WGS MAGBASE MAGBRU MAGCOM MAGCOR MAGIGRF MAGMIC MAGNIV MDT X X_WGS Y Y_WGS'.split(\" \")\n",
    "\n",
    "\n",
    "mag_3022 = pd.read_csv(gdb('geof/3022_Mag.XYZ'),\n",
    "                         names=mag_3022_cols,\n",
    "                         delim_whitespace=True,\n",
    "                         skiprows=8,\n",
    "                         usecols=[\"X\",\"Y\",\"LAT_WGS\",\"LONG_WGS\",\n",
    "                                  \"ALTURA\",\"MDT\",\n",
    "                                  \"MAGIGRF\",\"MAGCOR\",\"MAGNIV\"],\n",
    "                         na_values=('*'),                     \n",
    "                         dtype=('float'),\n",
    "                         encoding='latin-1')"
   ]
  },
  {
   "cell_type": "code",
   "execution_count": 30,
   "metadata": {},
   "outputs": [
    {
     "name": "stdout",
     "output_type": "stream",
     "text": [
      "<class 'pandas.core.frame.DataFrame'>\n",
      "RangeIndex: 6760982 entries, 0 to 6760981\n",
      "Data columns (total 9 columns):\n",
      " #   Column    Dtype  \n",
      "---  ------    -----  \n",
      " 0   ALTURA    float64\n",
      " 1   LAT_WGS   float64\n",
      " 2   LONG_WGS  float64\n",
      " 3   MAGCOR    float64\n",
      " 4   MAGIGRF   float64\n",
      " 5   MAGNIV    float64\n",
      " 6   MDT       float64\n",
      " 7   X         float64\n",
      " 8   Y         float64\n",
      "dtypes: float64(9)\n",
      "memory usage: 464.2 MB\n"
     ]
    }
   ],
   "source": [
    "mag_3022.info()"
   ]
  },
  {
   "cell_type": "markdown",
   "metadata": {},
   "source": [
    "# Levantamento 1105"
   ]
  },
  {
   "cell_type": "markdown",
   "metadata": {},
   "source": [
    "### Recuperando os dados selecionados do XYZ para serem analizados"
   ]
  },
  {
   "cell_type": "code",
   "execution_count": 23,
   "metadata": {},
   "outputs": [],
   "source": [
    "gama_line_1105_cols = 'KB DATA BARO UB THB COSMICO CTB UUP ALTURA KPERC eU eTH CTEXP UTHRAZAO X Y UKRAZAO MDT THKRAZAO LIVE_TIME CTCOR KCOR THCOR UCOR HORA GPSALT LATITUDE FIDUCIAL TEMP LONGITUDE'.split(\" \")             \n",
    "\n",
    "\n",
    "gama_line_1105 = pd.read_csv(gdb('geof/1105_GamaLine.XYZ'),\n",
    "                         names=gama_line_1105_cols,\n",
    "                         delim_whitespace=True,\n",
    "                         skiprows=10,                                     # Linhas de cabeçalho\n",
    "                         usecols=[\"X\",\"Y\",\"LATITUDE\",\"LONGITUDE\",\n",
    "                                  \"KPERC\",\"eU\",\"eTH\",\"CTCOR\",\n",
    "                                  \"THKRAZAO\",\"UTHRAZAO\",\"UKRAZAO\",\"MDT\"])"
   ]
  },
  {
   "cell_type": "code",
   "execution_count": 12,
   "metadata": {},
   "outputs": [
    {
     "name": "stdout",
     "output_type": "stream",
     "text": [
      "<class 'pandas.core.frame.DataFrame'>\n",
      "Int64Index: 1169659 entries, 0 to 1173983\n",
      "Data columns (total 12 columns):\n",
      " #   Column     Non-Null Count    Dtype  \n",
      "---  ------     --------------    -----  \n",
      " 0   KPERC      1169659 non-null  float64\n",
      " 1   eU         1169659 non-null  float64\n",
      " 2   eTH        1169659 non-null  float64\n",
      " 3   UTHRAZAO   1169659 non-null  float64\n",
      " 4   X          1169659 non-null  float64\n",
      " 5   Y          1169659 non-null  float64\n",
      " 6   UKRAZAO    1169659 non-null  float64\n",
      " 7   MDT        1169659 non-null  float64\n",
      " 8   THKRAZAO   1169659 non-null  float64\n",
      " 9   CTCOR      1169659 non-null  float64\n",
      " 10  LATITUDE   1169659 non-null  float64\n",
      " 11  LONGITUDE  1169659 non-null  float64\n",
      "dtypes: float64(12)\n",
      "memory usage: 116.0 MB\n"
     ]
    }
   ],
   "source": [
    "gama_line_1105.info()\n",
    "#gama_tie_1105.info()"
   ]
  },
  {
   "cell_type": "markdown",
   "metadata": {},
   "source": [
    "## Dados Gamaespectrometricos"
   ]
  },
  {
   "cell_type": "markdown",
   "metadata": {},
   "source": [
    "### Descriçao estatistica dos dados brutos"
   ]
  },
  {
   "cell_type": "code",
   "execution_count": 32,
   "metadata": {},
   "outputs": [
    {
     "name": "stdout",
     "output_type": "stream",
     "text": [
      "Listando atributos dos dados geofisicos\n",
      "# --- # Listagem de dados do aerolevantamento:  \n",
      "Lista de atributos geofísicos = ['KPERC', 'eU', 'eTH', 'UTHRAZAO', 'UKRAZAO', 'MDT', 'THKRAZAO', 'CTCOR']\n",
      "lista de atributos geograficos = ['LATITUDE', 'LONGITUDE']\n",
      "lista de atributos projetados = ['X', 'Y']\n"
     ]
    }
   ],
   "source": [
    "describe_gama_line_1105 = descricao(gama_line_1105)"
   ]
  },
  {
   "cell_type": "code",
   "execution_count": 16,
   "metadata": {},
   "outputs": [
    {
     "data": {
      "text/html": [
       "<div>\n",
       "<style scoped>\n",
       "    .dataframe tbody tr th:only-of-type {\n",
       "        vertical-align: middle;\n",
       "    }\n",
       "\n",
       "    .dataframe tbody tr th {\n",
       "        vertical-align: top;\n",
       "    }\n",
       "\n",
       "    .dataframe thead th {\n",
       "        text-align: right;\n",
       "    }\n",
       "</style>\n",
       "<table border=\"1\" class=\"dataframe\">\n",
       "  <thead>\n",
       "    <tr style=\"text-align: right;\">\n",
       "      <th></th>\n",
       "      <th>dType</th>\n",
       "      <th>Valores Faltantes</th>\n",
       "      <th>Valores Únicos</th>\n",
       "      <th>Valoes Negativos</th>\n",
       "      <th>Amostragem</th>\n",
       "    </tr>\n",
       "  </thead>\n",
       "  <tbody>\n",
       "    <tr>\n",
       "      <th>KPERC</th>\n",
       "      <td>float64</td>\n",
       "      <td>0</td>\n",
       "      <td>6955</td>\n",
       "      <td>47711</td>\n",
       "      <td>1169659</td>\n",
       "    </tr>\n",
       "    <tr>\n",
       "      <th>eU</th>\n",
       "      <td>float64</td>\n",
       "      <td>0</td>\n",
       "      <td>8168</td>\n",
       "      <td>55720</td>\n",
       "      <td>1169659</td>\n",
       "    </tr>\n",
       "    <tr>\n",
       "      <th>eTH</th>\n",
       "      <td>float64</td>\n",
       "      <td>0</td>\n",
       "      <td>61336</td>\n",
       "      <td>35862</td>\n",
       "      <td>1169659</td>\n",
       "    </tr>\n",
       "    <tr>\n",
       "      <th>UTHRAZAO</th>\n",
       "      <td>float64</td>\n",
       "      <td>0</td>\n",
       "      <td>793</td>\n",
       "      <td>0</td>\n",
       "      <td>1169659</td>\n",
       "    </tr>\n",
       "    <tr>\n",
       "      <th>X</th>\n",
       "      <td>float64</td>\n",
       "      <td>0</td>\n",
       "      <td>888292</td>\n",
       "      <td>0</td>\n",
       "      <td>1169659</td>\n",
       "    </tr>\n",
       "    <tr>\n",
       "      <th>Y</th>\n",
       "      <td>float64</td>\n",
       "      <td>0</td>\n",
       "      <td>1134332</td>\n",
       "      <td>0</td>\n",
       "      <td>1169659</td>\n",
       "    </tr>\n",
       "    <tr>\n",
       "      <th>UKRAZAO</th>\n",
       "      <td>float64</td>\n",
       "      <td>0</td>\n",
       "      <td>18813</td>\n",
       "      <td>0</td>\n",
       "      <td>1169659</td>\n",
       "    </tr>\n",
       "    <tr>\n",
       "      <th>MDT</th>\n",
       "      <td>float64</td>\n",
       "      <td>0</td>\n",
       "      <td>165213</td>\n",
       "      <td>72</td>\n",
       "      <td>1169659</td>\n",
       "    </tr>\n",
       "    <tr>\n",
       "      <th>THKRAZAO</th>\n",
       "      <td>float64</td>\n",
       "      <td>0</td>\n",
       "      <td>115015</td>\n",
       "      <td>0</td>\n",
       "      <td>1169659</td>\n",
       "    </tr>\n",
       "    <tr>\n",
       "      <th>CTCOR</th>\n",
       "      <td>float64</td>\n",
       "      <td>0</td>\n",
       "      <td>56613</td>\n",
       "      <td>12033</td>\n",
       "      <td>1169659</td>\n",
       "    </tr>\n",
       "    <tr>\n",
       "      <th>LATITUDE</th>\n",
       "      <td>float64</td>\n",
       "      <td>0</td>\n",
       "      <td>851263</td>\n",
       "      <td>1169659</td>\n",
       "      <td>1169659</td>\n",
       "    </tr>\n",
       "    <tr>\n",
       "      <th>LONGITUDE</th>\n",
       "      <td>float64</td>\n",
       "      <td>0</td>\n",
       "      <td>728161</td>\n",
       "      <td>1169659</td>\n",
       "      <td>1169659</td>\n",
       "    </tr>\n",
       "  </tbody>\n",
       "</table>\n",
       "</div>"
      ],
      "text/plain": [
       "             dType  Valores Faltantes  Valores Únicos  Valoes Negativos  \\\n",
       "KPERC      float64                  0            6955             47711   \n",
       "eU         float64                  0            8168             55720   \n",
       "eTH        float64                  0           61336             35862   \n",
       "UTHRAZAO   float64                  0             793                 0   \n",
       "X          float64                  0          888292                 0   \n",
       "Y          float64                  0         1134332                 0   \n",
       "UKRAZAO    float64                  0           18813                 0   \n",
       "MDT        float64                  0          165213                72   \n",
       "THKRAZAO   float64                  0          115015                 0   \n",
       "CTCOR      float64                  0           56613             12033   \n",
       "LATITUDE   float64                  0          851263           1169659   \n",
       "LONGITUDE  float64                  0          728161           1169659   \n",
       "\n",
       "           Amostragem  \n",
       "KPERC         1169659  \n",
       "eU            1169659  \n",
       "eTH           1169659  \n",
       "UTHRAZAO      1169659  \n",
       "X             1169659  \n",
       "Y             1169659  \n",
       "UKRAZAO       1169659  \n",
       "MDT           1169659  \n",
       "THKRAZAO      1169659  \n",
       "CTCOR         1169659  \n",
       "LATITUDE      1169659  \n",
       "LONGITUDE     1169659  "
      ]
     },
     "execution_count": 16,
     "metadata": {},
     "output_type": "execute_result"
    }
   ],
   "source": [
    "describe_gama_line_1105[0]"
   ]
  },
  {
   "cell_type": "code",
   "execution_count": 17,
   "metadata": {},
   "outputs": [
    {
     "data": {
      "text/html": [
       "<div>\n",
       "<style scoped>\n",
       "    .dataframe tbody tr th:only-of-type {\n",
       "        vertical-align: middle;\n",
       "    }\n",
       "\n",
       "    .dataframe tbody tr th {\n",
       "        vertical-align: top;\n",
       "    }\n",
       "\n",
       "    .dataframe thead th {\n",
       "        text-align: right;\n",
       "    }\n",
       "</style>\n",
       "<table border=\"1\" class=\"dataframe\">\n",
       "  <thead>\n",
       "    <tr style=\"text-align: right;\">\n",
       "      <th></th>\n",
       "      <th>count</th>\n",
       "      <th>mean</th>\n",
       "      <th>std</th>\n",
       "      <th>min</th>\n",
       "      <th>0.1%</th>\n",
       "      <th>10%</th>\n",
       "      <th>25%</th>\n",
       "      <th>50%</th>\n",
       "      <th>75%</th>\n",
       "      <th>99.5%</th>\n",
       "      <th>max</th>\n",
       "    </tr>\n",
       "  </thead>\n",
       "  <tbody>\n",
       "    <tr>\n",
       "      <th>KPERC</th>\n",
       "      <td>1169659.0</td>\n",
       "      <td>0.959790</td>\n",
       "      <td>0.854709</td>\n",
       "      <td>-0.500</td>\n",
       "      <td>-0.355</td>\n",
       "      <td>0.085</td>\n",
       "      <td>0.382</td>\n",
       "      <td>0.757</td>\n",
       "      <td>1.306</td>\n",
       "      <td>4.53000</td>\n",
       "      <td>14.577</td>\n",
       "    </tr>\n",
       "    <tr>\n",
       "      <th>eU</th>\n",
       "      <td>1169659.0</td>\n",
       "      <td>1.736779</td>\n",
       "      <td>1.092923</td>\n",
       "      <td>-0.500</td>\n",
       "      <td>-0.381</td>\n",
       "      <td>0.325</td>\n",
       "      <td>1.008</td>\n",
       "      <td>1.673</td>\n",
       "      <td>2.373</td>\n",
       "      <td>5.38300</td>\n",
       "      <td>23.934</td>\n",
       "    </tr>\n",
       "    <tr>\n",
       "      <th>eTH</th>\n",
       "      <td>1169659.0</td>\n",
       "      <td>19.289047</td>\n",
       "      <td>11.065808</td>\n",
       "      <td>-4.048</td>\n",
       "      <td>-0.722</td>\n",
       "      <td>6.860</td>\n",
       "      <td>12.290</td>\n",
       "      <td>18.382</td>\n",
       "      <td>25.207</td>\n",
       "      <td>59.15600</td>\n",
       "      <td>241.474</td>\n",
       "    </tr>\n",
       "    <tr>\n",
       "      <th>UTHRAZAO</th>\n",
       "      <td>1169659.0</td>\n",
       "      <td>0.097126</td>\n",
       "      <td>0.042352</td>\n",
       "      <td>0.000</td>\n",
       "      <td>0.000</td>\n",
       "      <td>0.056</td>\n",
       "      <td>0.073</td>\n",
       "      <td>0.090</td>\n",
       "      <td>0.111</td>\n",
       "      <td>0.27900</td>\n",
       "      <td>2.669</td>\n",
       "    </tr>\n",
       "    <tr>\n",
       "      <th>UKRAZAO</th>\n",
       "      <td>1169659.0</td>\n",
       "      <td>2.716171</td>\n",
       "      <td>2.416952</td>\n",
       "      <td>0.042</td>\n",
       "      <td>0.181</td>\n",
       "      <td>0.819</td>\n",
       "      <td>1.300</td>\n",
       "      <td>1.911</td>\n",
       "      <td>3.302</td>\n",
       "      <td>14.90200</td>\n",
       "      <td>59.007</td>\n",
       "    </tr>\n",
       "    <tr>\n",
       "      <th>MDT</th>\n",
       "      <td>1169659.0</td>\n",
       "      <td>872.675007</td>\n",
       "      <td>408.562445</td>\n",
       "      <td>-4.100</td>\n",
       "      <td>0.000</td>\n",
       "      <td>395.280</td>\n",
       "      <td>641.520</td>\n",
       "      <td>887.680</td>\n",
       "      <td>1113.550</td>\n",
       "      <td>1933.61130</td>\n",
       "      <td>2751.590</td>\n",
       "    </tr>\n",
       "    <tr>\n",
       "      <th>THKRAZAO</th>\n",
       "      <td>1169659.0</td>\n",
       "      <td>29.505581</td>\n",
       "      <td>25.788561</td>\n",
       "      <td>0.798</td>\n",
       "      <td>3.123</td>\n",
       "      <td>10.004</td>\n",
       "      <td>14.793</td>\n",
       "      <td>20.741</td>\n",
       "      <td>34.791</td>\n",
       "      <td>162.71671</td>\n",
       "      <td>525.859</td>\n",
       "    </tr>\n",
       "    <tr>\n",
       "      <th>CTCOR</th>\n",
       "      <td>1169659.0</td>\n",
       "      <td>14.176621</td>\n",
       "      <td>10.738090</td>\n",
       "      <td>-11.575</td>\n",
       "      <td>-1.641</td>\n",
       "      <td>3.814</td>\n",
       "      <td>6.608</td>\n",
       "      <td>11.263</td>\n",
       "      <td>19.699</td>\n",
       "      <td>56.54200</td>\n",
       "      <td>246.600</td>\n",
       "    </tr>\n",
       "  </tbody>\n",
       "</table>\n",
       "</div>"
      ],
      "text/plain": [
       "              count        mean         std     min   0.1%      10%      25%  \\\n",
       "KPERC     1169659.0    0.959790    0.854709  -0.500 -0.355    0.085    0.382   \n",
       "eU        1169659.0    1.736779    1.092923  -0.500 -0.381    0.325    1.008   \n",
       "eTH       1169659.0   19.289047   11.065808  -4.048 -0.722    6.860   12.290   \n",
       "UTHRAZAO  1169659.0    0.097126    0.042352   0.000  0.000    0.056    0.073   \n",
       "UKRAZAO   1169659.0    2.716171    2.416952   0.042  0.181    0.819    1.300   \n",
       "MDT       1169659.0  872.675007  408.562445  -4.100  0.000  395.280  641.520   \n",
       "THKRAZAO  1169659.0   29.505581   25.788561   0.798  3.123   10.004   14.793   \n",
       "CTCOR     1169659.0   14.176621   10.738090 -11.575 -1.641    3.814    6.608   \n",
       "\n",
       "              50%       75%       99.5%       max  \n",
       "KPERC       0.757     1.306     4.53000    14.577  \n",
       "eU          1.673     2.373     5.38300    23.934  \n",
       "eTH        18.382    25.207    59.15600   241.474  \n",
       "UTHRAZAO    0.090     0.111     0.27900     2.669  \n",
       "UKRAZAO     1.911     3.302    14.90200    59.007  \n",
       "MDT       887.680  1113.550  1933.61130  2751.590  \n",
       "THKRAZAO   20.741    34.791   162.71671   525.859  \n",
       "CTCOR      11.263    19.699    56.54200   246.600  "
      ]
     },
     "execution_count": 17,
     "metadata": {},
     "output_type": "execute_result"
    }
   ],
   "source": [
    "describe_gama_line_1105[4].T"
   ]
  },
  {
   "cell_type": "markdown",
   "metadata": {},
   "source": [
    "### Manipulaçao algebrica dos dados brutos"
   ]
  },
  {
   "cell_type": "code",
   "execution_count": 13,
   "metadata": {},
   "outputs": [],
   "source": [
    "#gama_1105.to_csv(gdb+'geof/gama_1105',index=False)\n",
    "#gama_tie_1105.to_csv(gdb+'geof/gama_tie_1105',index=False)\n",
    "gama_line_1105.to_csv(gdb+'geof/gama_line_1105_corrigido',index=False)"
   ]
  },
  {
   "cell_type": "markdown",
   "metadata": {},
   "source": [
    "## Dados Magnetometricos"
   ]
  },
  {
   "cell_type": "markdown",
   "metadata": {},
   "source": [
    "### Descriçao estatistica dos dados brutos"
   ]
  },
  {
   "cell_type": "markdown",
   "metadata": {},
   "source": [
    "#### Flight Lines"
   ]
  },
  {
   "cell_type": "code",
   "execution_count": null,
   "metadata": {},
   "outputs": [],
   "source": [
    "# PODEMOS OBSERVAR VALORES NEGATIVOS QUE DEVEM SER TRATADOS. OU TRANSFORMANDO-OS EM 0 OU NORMALIZANDO DE 0 `A 1\n",
    "gama_line_1105_describe[4].T"
   ]
  },
  {
   "cell_type": "markdown",
   "metadata": {},
   "source": [
    "#### Tie Lines"
   ]
  },
  {
   "cell_type": "code",
   "execution_count": null,
   "metadata": {},
   "outputs": [],
   "source": [
    "gama_tie_1105_describe = f.descricao(gama_tie_1105)"
   ]
  },
  {
   "cell_type": "code",
   "execution_count": null,
   "metadata": {},
   "outputs": [],
   "source": [
    "gama_tie_1105_describe[0]"
   ]
  },
  {
   "cell_type": "code",
   "execution_count": null,
   "metadata": {},
   "outputs": [],
   "source": [
    "# ha uma deferenca consideravel entre os dados de tie e line para este levantamento\n",
    "gama_tie_1105_describe[4].T"
   ]
  },
  {
   "cell_type": "markdown",
   "metadata": {},
   "source": [
    "#### Tie Flight Lines Concatenados"
   ]
  },
  {
   "cell_type": "code",
   "execution_count": null,
   "metadata": {},
   "outputs": [],
   "source": [
    "gama_1105_describe =f.descricao(gama_1105)"
   ]
  },
  {
   "cell_type": "code",
   "execution_count": null,
   "metadata": {},
   "outputs": [],
   "source": [
    "gama_1105_describe[0]"
   ]
  },
  {
   "cell_type": "code",
   "execution_count": null,
   "metadata": {},
   "outputs": [],
   "source": [
    "gama_1105_describe[4].T"
   ]
  },
  {
   "cell_type": "code",
   "execution_count": null,
   "metadata": {},
   "outputs": [],
   "source": [
    "print(gama_tie_1105.query('KPERC < 0')['KPERC'].count())\n",
    "print(gama_line_1105.query('KPERC < 0')['KPERC'].count())\n",
    "print(gama_1105.query('KPERC < 0')['KPERC'].count())"
   ]
  },
  {
   "cell_type": "markdown",
   "metadata": {},
   "source": [
    "### Exportando os arquivos tratados para um CSV"
   ]
  },
  {
   "cell_type": "code",
   "execution_count": null,
   "metadata": {},
   "outputs": [],
   "source": [
    "gama_1105.to_csv(gdb+'geof/gama_1105',index=False)\n",
    "gama_tie_1105.to_csv(gdb+'geof/gama_tie_1105',index=False)\n",
    "gama_line_1105.to_csv(gdb+'geof/gama_line_1105',index=False)"
   ]
  },
  {
   "cell_type": "code",
   "execution_count": null,
   "metadata": {},
   "outputs": [],
   "source": [
    "mag_line_1105 = pd.read_csv(gdb+'xyz/1105_XYZ/1105_MagLine.XYZ',\n",
    "                         names=mag_cols,\n",
    "                         delim_whitespace=True,\n",
    "                         skiprows=11,\n",
    "                         usecols=[\"X\",\"Y\",\"LATITUDE\",\"LONGITUDE\",\n",
    "                                  \"MAGIGRF\",\"MDT\",\"ALTURA\",\"ALTURA_1\"])\n",
    "\n",
    "mag_tie_1105 = pd.read_csv(gdb+'xyz/1105_XYZ/1105_MagTie.XYZ',\n",
    "                         names=mag_cols,\n",
    "                         delim_whitespace=True,\n",
    "                         skiprows=11,\n",
    "                         usecols=[\"X\",\"Y\",\"LATITUDE\",\"LONGITUDE\",\n",
    "                                  \"MAGIGRF\",\"MDT\",\"ALTURA\",\"ALTURA_1\"])\n",
    "\n",
    "\n",
    "mag_tie_1105.dropna(inplace=True)\n",
    "mag_line_1105.dropna(inplace=True)\n",
    "mag_1105 = pd.concat([mag_line_1105,mag_tie_1105], ignore_index=True)"
   ]
  },
  {
   "cell_type": "code",
   "execution_count": null,
   "metadata": {},
   "outputs": [],
   "source": [
    "f.descricao(mag_1105)"
   ]
  },
  {
   "cell_type": "code",
   "execution_count": null,
   "metadata": {},
   "outputs": [],
   "source": [
    "mag_line_1105.to_csv(gdb+'geof/mag_line_1105', index=False)\n",
    "mag_tie_1105.to_csv(gdb+'geof/mag_tie_1105', index=False)\n",
    "mag_1105.to_csv(gdb+'geof/mag_1105', index=False)"
   ]
  },
  {
   "cell_type": "code",
   "execution_count": null,
   "metadata": {},
   "outputs": [],
   "source": [
    "cols_1039 = 'UTME UTMN LONG LAT MAGR THC UC KC CTC MAGB MAGC MAGD THB UB KB CTB FIDU TEMP ALTE ALTB'.split(\" \")\n",
    "\n",
    "usecols=[\"UTME\",\"UTMN\",\"LAT\",\"LONG\",\"KC\",\"UC\",\"THC\",\"CTC\",\"MAGR\"]\n",
    "\n",
    "\n",
    "geof_1039 = pd.read_csv(gdb+'xyz/1039_XYZ/spaulo_rjaneiro_sp.xyz',\n",
    "                         names=cols_1039,\n",
    "                         delim_whitespace=True,\n",
    "                         skiprows=6,\n",
    "                         usecols=usecols,\n",
    "                         encoding='latin-1') # foi adicionado um novo tipo de econding diferente de UTF-8"
   ]
  },
  {
   "cell_type": "code",
   "execution_count": null,
   "metadata": {},
   "outputs": [],
   "source": [
    "geof_1039.dropna(inplace=True)"
   ]
  },
  {
   "cell_type": "code",
   "execution_count": null,
   "metadata": {},
   "outputs": [],
   "source": [
    "geof_1039.to_csv(gdb+'geof/geof_1039',index=False)"
   ]
  },
  {
   "cell_type": "markdown",
   "metadata": {},
   "source": [
    "### Exportando os arquivos tratados para um CSV"
   ]
  },
  {
   "cell_type": "markdown",
   "metadata": {},
   "source": [
    "# Levantamento 1089"
   ]
  },
  {
   "cell_type": "code",
   "execution_count": null,
   "metadata": {},
   "outputs": [],
   "source": [
    "mLine_1089 = pd.read_csv(gdb+'xyz/1089_XYZ/XYZ/1089_MagLine.XYZ',\n",
    "                         names=mag_cols,\n",
    "                         delim_whitespace=True,\n",
    "                         skiprows=11,\n",
    "                         usecols=[\"X\",\"Y\",\"LATITUDE\",\"LONGITUDE\",\n",
    "                                  \"MAGIGRF\",\"ALTURA\",\"MDT\"],\n",
    "                         na_values=('*'))"
   ]
  },
  {
   "cell_type": "code",
   "execution_count": null,
   "metadata": {},
   "outputs": [],
   "source": [
    "mTie_1089 = pd.read_csv(gdb+'xyz/1089_XYZ/XYZ/1089_MagTie.XYZ',\n",
    "                         names=mag_cols,\n",
    "                         delim_whitespace=True,\n",
    "                         skiprows=11,\n",
    "                         usecols=[\"X\",\"Y\",\"LATITUDE\",\"LONGITUDE\",\n",
    "                                  \"MAGIGRF\",\"ALTURA\",\"MDT\"],\n",
    "                         na_values=('*'))"
   ]
  },
  {
   "cell_type": "code",
   "execution_count": null,
   "metadata": {},
   "outputs": [],
   "source": [
    "m_1089 = pd.concat([mTie_1089,mLine_1089], ignore_index=True)"
   ]
  },
  {
   "cell_type": "code",
   "execution_count": null,
   "metadata": {},
   "outputs": [],
   "source": [
    "mag_1089 = m_1089.dropna()"
   ]
  },
  {
   "cell_type": "code",
   "execution_count": null,
   "metadata": {},
   "outputs": [],
   "source": [
    "mag_1089.to_csv(gdb+'geof/mag_1089',index=False)"
   ]
  },
  {
   "cell_type": "code",
   "execution_count": null,
   "metadata": {},
   "outputs": [],
   "source": [
    "a = f.descricao(mag_1089)"
   ]
  },
  {
   "cell_type": "code",
   "execution_count": null,
   "metadata": {},
   "outputs": [],
   "source": [
    "a[0]"
   ]
  },
  {
   "cell_type": "code",
   "execution_count": null,
   "metadata": {},
   "outputs": [],
   "source": [
    "a[4].T"
   ]
  }
 ],
 "metadata": {
  "interpreter": {
   "hash": "d412e3d091f5968552f8aa760bc8da416522b5884f97efbbec2149c97127b032"
  },
  "kernelspec": {
   "display_name": "Python 3.8.11 64-bit ('geologist_bot': conda)",
   "name": "python3"
  },
  "language_info": {
   "codemirror_mode": {
    "name": "ipython",
    "version": 3
   },
   "file_extension": ".py",
   "mimetype": "text/x-python",
   "name": "python",
   "nbconvert_exporter": "python",
   "pygments_lexer": "ipython3",
   "version": "3.8.11"
  }
 },
 "nbformat": 4,
 "nbformat_minor": 4
}
