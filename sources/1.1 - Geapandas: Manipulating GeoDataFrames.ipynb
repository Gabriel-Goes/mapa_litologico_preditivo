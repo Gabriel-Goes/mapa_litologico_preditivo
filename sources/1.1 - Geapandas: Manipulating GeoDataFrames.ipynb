{
 "cells": [
  {
   "cell_type": "markdown",
   "metadata": {},
   "source": [
    "[Mapping and Plotting Tools](https://geopandas.org/docs/user_guide/mapping.html)"
   ]
  },
  {
   "cell_type": "code",
   "execution_count": 1,
   "metadata": {},
   "outputs": [],
   "source": [
    "import geopandas as gpd\n",
    "%matplotlib widget\n",
    "\n",
    "gdb = '/home/ggrl/geodatabase/'"
   ]
  },
  {
   "cell_type": "code",
   "execution_count": 2,
   "metadata": {},
   "outputs": [],
   "source": [
    "countries = gpd.read_file('/usr/share/qgis/resources/data/world_map.gpkg',\n",
    "                                 driver='GPKG',\n",
    "                                 layer='countries')"
   ]
  },
  {
   "cell_type": "code",
   "execution_count": null,
   "metadata": {},
   "outputs": [],
   "source": [
    "list(countries.NAME)"
   ]
  },
  {
   "cell_type": "code",
   "execution_count": 3,
   "metadata": {},
   "outputs": [],
   "source": [
    "Brazil = countries[countries.NAME == 'Brazil']"
   ]
  },
  {
   "cell_type": "code",
   "execution_count": 5,
   "metadata": {},
   "outputs": [
    {
     "data": {
      "text/plain": [
       "<AxesSubplot:>"
      ]
     },
     "execution_count": 5,
     "metadata": {},
     "output_type": "execute_result"
    },
    {
     "data": {
      "image/png": "[encoded data removed]",
      "text/plain": [
       "<Figure size 432x288 with 1 Axes>"
      ]
     },
     "metadata": {
      "needs_background": "light"
     },
     "output_type": "display_data"
    }
   ],
   "source": [
    "Brazil.boundary.plot(color='black')"
   ]
  },
  {
   "cell_type": "code",
   "execution_count": 6,
   "metadata": {},
   "outputs": [
    {
     "data": {
      "text/plain": [
       "<Geographic 2D CRS: EPSG:4326>\n",
       "Name: WGS 84\n",
       "Axis Info [ellipsoidal]:\n",
       "- Lat[north]: Geodetic latitude (degree)\n",
       "- Lon[east]: Geodetic longitude (degree)\n",
       "Area of Use:\n",
       "- name: World\n",
       "- bounds: (-180.0, -90.0, 180.0, 90.0)\n",
       "Datum: World Geodetic System 1984\n",
       "- Ellipsoid: WGS 84\n",
       "- Prime Meridian: Greenwich"
      ]
     },
     "execution_count": 6,
     "metadata": {},
     "output_type": "execute_result"
    }
   ],
   "source": [
    "Brazil.crs"
   ]
  },
  {
   "cell_type": "code",
   "execution_count": 4,
   "metadata": {},
   "outputs": [
    {
     "data": {
      "text/html": [
       "<div>\n",
       "<style scoped>\n",
       "    .dataframe tbody tr th:only-of-type {\n",
       "        vertical-align: middle;\n",
       "    }\n",
       "\n",
       "    .dataframe tbody tr th {\n",
       "        vertical-align: top;\n",
       "    }\n",
       "\n",
       "    .dataframe thead th {\n",
       "        text-align: right;\n",
       "    }\n",
       "</style>\n",
       "<table border=\"1\" class=\"dataframe\">\n",
       "  <thead>\n",
       "    <tr style=\"text-align: right;\">\n",
       "      <th></th>\n",
       "      <th>iso_a2</th>\n",
       "      <th>NAME</th>\n",
       "      <th>FIPS_10_</th>\n",
       "      <th>ISO_A3</th>\n",
       "      <th>WB_A2</th>\n",
       "      <th>WB_A3</th>\n",
       "      <th>geometry</th>\n",
       "    </tr>\n",
       "  </thead>\n",
       "  <tbody>\n",
       "    <tr>\n",
       "      <th>77</th>\n",
       "      <td>BR</td>\n",
       "      <td>Brazil</td>\n",
       "      <td>BR</td>\n",
       "      <td>BRA</td>\n",
       "      <td>BR</td>\n",
       "      <td>BRA</td>\n",
       "      <td>MULTIPOLYGON (((-48.43456 -27.40472, -48.42658...</td>\n",
       "    </tr>\n",
       "  </tbody>\n",
       "</table>\n",
       "</div>"
      ],
      "text/plain": [
       "   iso_a2    NAME FIPS_10_ ISO_A3 WB_A2 WB_A3  \\\n",
       "77     BR  Brazil       BR    BRA    BR   BRA   \n",
       "\n",
       "                                             geometry  \n",
       "77  MULTIPOLYGON (((-48.43456 -27.40472, -48.42658...  "
      ]
     },
     "execution_count": 4,
     "metadata": {},
     "output_type": "execute_result"
    }
   ],
   "source": [
    "Brazil.set_geometry('geometry')"
   ]
  },
  {
   "cell_type": "markdown",
   "metadata": {},
   "source": [
    "## Abrindo as unidade litoestratigráficas mapeadas na escala 1:1.000.000 para iniciar a etapa de filtragem litológica"
   ]
  },
  {
   "cell_type": "code",
   "execution_count": 5,
   "metadata": {},
   "outputs": [],
   "source": [
    "l_1kk = gpd.read_file(gdb+'geodatabase.gpkg',\n",
    "                      driver='GPKG',\n",
    "                      layer='l_1kk')"
   ]
  },
  {
   "cell_type": "code",
   "execution_count": 9,
   "metadata": {},
   "outputs": [
    {
     "data": {
      "text/plain": [
       "(46715, 27)"
      ]
     },
     "execution_count": 9,
     "metadata": {},
     "output_type": "execute_result"
    }
   ],
   "source": [
    "l_1kk.shape"
   ]
  },
  {
   "cell_type": "markdown",
   "metadata": {},
   "source": [
    "### Reconhecendo as litologia grafitosas mapeadas na escala 1:1.000.000 podemos identificar quais cartas geológicas e suas escalas podemos trabalhar, portanto, faremos um filtro na coluna LEGENDA e LITOTIOPOS para agrupar apenas as geometrias que possuem valores grafitosos e com estas geometrias selecionaremos os mapas que as contém."
   ]
  },
  {
   "cell_type": "code",
   "execution_count": 6,
   "metadata": {},
   "outputs": [],
   "source": [
    "Litotipo_grafitico_l1kk = l_1kk[l_1kk['LITOTIPOS'].str.contains(\"graf\")]"
   ]
  },
  {
   "cell_type": "code",
   "execution_count": 29,
   "metadata": {},
   "outputs": [
    {
     "name": "stdout",
     "output_type": "stream",
     "text": [
      "(29, 27)\n"
     ]
    },
    {
     "data": {
      "text/plain": [
       "['Filito grafítico, Mica xisto, Quartzito, Rocha calcissilicática',\n",
       " 'Filito grafítico, Mica xisto, Quartzito, Rocha calcissilicática',\n",
       " 'Filito grafítico, Mica xisto, Quartzito, Rocha calcissilicática',\n",
       " 'Filito grafítico, Mica xisto, Quartzito, Rocha calcissilicática',\n",
       " 'Filito grafítico, Mica xisto, Quartzito, Rocha calcissilicática',\n",
       " 'Filito grafítico, Mica xisto, Quartzito, Rocha calcissilicática',\n",
       " 'Filito grafítico, Mica xisto, Quartzito, Rocha calcissilicática',\n",
       " 'Filito grafítico, Metabasalto komatiítico, Metachert, Metakomatiíto, Metavulcânica félsica, Rocha metavulcânica intermediária, Serpentinito',\n",
       " 'Filito grafítico, Metabasalto komatiítico, Metachert, Metakomatiíto, Metavulcânica félsica, Rocha metavulcânica intermediária, Serpentinito',\n",
       " 'Filito, Filito grafítico, Metarenito, Metarritmito, Metassiltito, Mica xisto, Quartzito, Quartzito arcoseano, Xisto']"
      ]
     },
     "execution_count": 29,
     "metadata": {},
     "output_type": "execute_result"
    }
   ],
   "source": [
    "print(Litotipo_grafitico_l1kk.shape)\n",
    "list(Litotipo_grafitico_l1kk.LITOTIPOS.head(10))"
   ]
  },
  {
   "cell_type": "code",
   "execution_count": 7,
   "metadata": {},
   "outputs": [],
   "source": [
    "Litotipo_Grafita_xisto_l1kk = l_1kk[l_1kk['LITOTIPOS'].str.contains(\"Graf\")]"
   ]
  },
  {
   "cell_type": "code",
   "execution_count": 28,
   "metadata": {},
   "outputs": [
    {
     "name": "stdout",
     "output_type": "stream",
     "text": [
      "(380, 27)\n"
     ]
    },
    {
     "data": {
      "text/plain": [
       "['Anfibolito, Grafita xisto, Metapelito, Quartzito',\n",
       " 'Anfibolito, Grafita xisto, Metapelito, Quartzito',\n",
       " 'Anfibolito, Grafita xisto, Metapelito, Quartzito',\n",
       " 'Formação ferrífera bandada, Grafita xisto, Metachert, Rocha metassedimentar, Rocha metavulcânica ultramáfica, Serpentinito',\n",
       " 'Formação ferrífera bandada, Grafita xisto, Metachert, Rocha metassedimentar, Rocha metavulcânica ultramáfica, Serpentinito',\n",
       " 'Formação ferrífera bandada, Grafita xisto, Metachert, Rocha metassedimentar, Rocha metavulcânica ultramáfica, Serpentinito',\n",
       " 'Biotita-anfibólio xisto, Biotita-quartzo xisto, Filito, Grafita xisto, Mármore calcítico, Mármore dolomítico, Metatufo, Quartzo-mica xisto, Rocha calcissilicática, Xisto carbonático',\n",
       " 'Clorita xisto, Grafita xisto, Hornblenda gnaisse, Metacalcário, Muscovita quartzito, Muscovita-biotita xisto, Quartzito ferruginoso, Talco xisto',\n",
       " 'Clorita xisto, Grafita xisto, Metachert, Metadacito, Metatufo, Xisto',\n",
       " 'Biotita gnaisse, Gnaisse, Gondito, Grafita xisto, Granada gnaisse, Kinzigito, Mármore, Muscovita quartzito, Quartzito, Rocha calcissilicática, Sericita xisto, Xisto']"
      ]
     },
     "execution_count": 28,
     "metadata": {},
     "output_type": "execute_result"
    }
   ],
   "source": [
    "print(Litotipo_Grafita_xisto_l1kk.shape)\n",
    "list(Litotipo_Grafita_xisto_l1kk.LITOTIPOS.head(10))"
   ]
  },
  {
   "cell_type": "markdown",
   "metadata": {},
   "source": [
    "Foi necessário inserir a str 'Vazio' em celas que não continham valores para que a função de filtro funcionasse corretamente na coluna LEGENDA."
   ]
  },
  {
   "cell_type": "code",
   "execution_count": 8,
   "metadata": {},
   "outputs": [],
   "source": [
    "l_1kk = l_1kk.fillna('Vazio')"
   ]
  },
  {
   "cell_type": "code",
   "execution_count": 9,
   "metadata": {},
   "outputs": [],
   "source": [
    "Legenda_grafitosa_l1kk = l_1kk[l_1kk['LEGENDA'].str.contains(\"graf\")]"
   ]
  },
  {
   "cell_type": "code",
   "execution_count": 30,
   "metadata": {},
   "outputs": [
    {
     "name": "stdout",
     "output_type": "stream",
     "text": [
      "(1093, 27)\n"
     ]
    },
    {
     "data": {
      "text/plain": [
       "['Quartzito e sericita-quartzito, com subordinados sericita-andaluzita quartzito, quartzito ferruginoso, metapelito, pelito grafitoso, filito, itabirito e quartzo-arenito.',\n",
       " 'Quartzito e sericita-quartzito, com subordinados sericita-andaluzita quartzito, quartzito ferruginoso, metapelito, pelito grafitoso, filito, itabirito e quartzo-arenito.',\n",
       " 'Quartzito e sericita-quartzito, com subordinados sericita-andaluzita quartzito, quartzito ferruginoso, metapelito, pelito grafitoso, filito, itabirito e quartzo-arenito.',\n",
       " 'Quartzito e sericita-quartzito, com subordinados sericita-andaluzita quartzito, quartzito ferruginoso, metapelito, pelito grafitoso, filito, itabirito e quartzo-arenito.',\n",
       " 'Metarenito arcoseano, metarcóseo e grafita filito, com intercalações de metarenito e lente de mármore calcífero',\n",
       " 'Sericita filito, com intercalações de filito e metarenito, algo grafitoso.',\n",
       " 'Sericita filito, com intercalações de filito e metarenito, algo grafitoso.',\n",
       " 'Metarenito arcoseano, metarcóseo e grafita filito, com intercalações de metarenito e lente de mármore calcífero',\n",
       " 'Metapelito, metarenito, grafita xisto, quartzito, anfibolito, lentes de mármore',\n",
       " 'Metapelito, metarenito, grafita xisto, quartzito, anfibolito, lentes de mármore']"
      ]
     },
     "execution_count": 30,
     "metadata": {},
     "output_type": "execute_result"
    }
   ],
   "source": [
    "print(Legenda_grafitosa_l1kk.shape)\n",
    "list(Legenda_grafitosa_l1kk.LEGENDA.head(10))"
   ]
  },
  {
   "cell_type": "code",
   "execution_count": 10,
   "metadata": {},
   "outputs": [],
   "source": [
    "Legenda_Grafita_l1kk = l_1kk[l_1kk['LEGENDA'].str.contains(\"Graf\")]"
   ]
  },
  {
   "cell_type": "code",
   "execution_count": 32,
   "metadata": {},
   "outputs": [
    {
     "name": "stdout",
     "output_type": "stream",
     "text": [
      "(5, 27)\n"
     ]
    },
    {
     "data": {
      "text/plain": [
       "['Grafita xisto, clorita-sericita-quartzo xisto, grafita xisto, muscovita quartzo xisto, clorita-biotita xisto, muscovita quartzito, biotita xisto feldspático, clorita-carbonato xisto, xisto magnesiano, anfibólio xisto, formação ferrífera, talco-clori',\n",
       " 'Grafita xisto, clorita-sericita-quartzo xisto, grafita xisto, muscovita quartzo xisto, clorita-biotita xisto, muscovita quartzito, biotita xisto feldspático, clorita-carbonato xisto, xisto magnesiano, anfibólio xisto, formação ferrífera, talco-clori',\n",
       " 'Grafita xisto, grafita filito/filonito, (clorita)-(carbonato)-sericita xisto, formação ferrífera e metamafito',\n",
       " 'Grafita-cianita xisto',\n",
       " 'Grafita filito com níveis de quartzito e filito interstratificados.']"
      ]
     },
     "execution_count": 32,
     "metadata": {},
     "output_type": "execute_result"
    }
   ],
   "source": [
    "print(Legenda_Grafita_l1kk.shape)\n",
    "list(Legenda_Grafita_l1kk.LEGENDA.head())"
   ]
  },
  {
   "cell_type": "code",
   "execution_count": 35,
   "metadata": {},
   "outputs": [
    {
     "data": {
      "application/vnd.jupyter.widget-view+json": {
       "model_id": "b8f4ed774d5941dfb39dffde9e98ebf3",
       "version_major": 2,
       "version_minor": 0
      },
      "text/plain": [
       "Canvas(toolbar=Toolbar(toolitems=[('Home', 'Reset original view', 'home', 'home'), ('Back', 'Back to previous …"
      ]
     },
     "metadata": {},
     "output_type": "display_data"
    },
    {
     "data": {
      "text/plain": [
       "<AxesSubplot:>"
      ]
     },
     "execution_count": 35,
     "metadata": {},
     "output_type": "execute_result"
    }
   ],
   "source": [
    "base = Brazil.boundary.plot(color='black',figsize=(12,12))\n",
    "\n",
    "Legenda_grafitosa_l1kk.plot(ax=base,facecolor='grey')\n",
    "#Legenda_Grafita_l1kk.plot(ax=base,facecolor='blue')\n",
    "\n",
    "#Litotipo_Grafita_xisto_l1kk.plot(ax=base,facecolor='black')\n",
    "#Litotipo_grafitico_l1kk.plot(ax=base,facecolor='red')"
   ]
  },
  {
   "cell_type": "code",
   "execution_count": 16,
   "metadata": {},
   "outputs": [],
   "source": [
    "Legenda_Grafitosa_l1kk = Legenda_Grafita_l1kk.append(Legenda_grafitosa_l1kk)"
   ]
  },
  {
   "cell_type": "code",
   "execution_count": 17,
   "metadata": {},
   "outputs": [
    {
     "data": {
      "text/plain": [
       "['Carta geológica da folha Goiás',\n",
       " 'Carta geológica da folha Brasília',\n",
       " 'Carta geológica da folha Salvador',\n",
       " 'Carta geológica da folha Içá',\n",
       " 'Carta geológica da folha Pico da Neblina',\n",
       " 'Carta geológica da folha Corumbá',\n",
       " 'Carta geológica da folha Cuiabá',\n",
       " 'Carta geológica da folha Uruguaiana',\n",
       " 'Carta geológica da folha Porto Alegre',\n",
       " 'Carta geológica da folha Araguaia',\n",
       " 'Carta geológica da folha Curitiba',\n",
       " 'Carta geológica da folha Goiânia',\n",
       " 'Carta geológica da folha Rio de Janeiro',\n",
       " 'Carta geológica da folha Belo Horizonte',\n",
       " 'Carta geológica da folha Rio São Francisco',\n",
       " 'Carta geológica da folha Rio Doce',\n",
       " 'Carta geológica da folha Aracaju',\n",
       " 'Carta geológica da folha Jaguaribe',\n",
       " 'Carta geológica da folha Macapá']"
      ]
     },
     "execution_count": 17,
     "metadata": {},
     "output_type": "execute_result"
    }
   ],
   "source": [
    "list(Legenda_Grafitosa_l1kk.MAPA.unique())"
   ]
  },
  {
   "cell_type": "code",
   "execution_count": 12,
   "metadata": {},
   "outputs": [],
   "source": [
    "Litotipo_Grafitoso_l1kk = Litotipo_Grafita_xisto_l1kk.append(Litotipo_grafitico_l1kk)"
   ]
  },
  {
   "cell_type": "code",
   "execution_count": 15,
   "metadata": {},
   "outputs": [
    {
     "data": {
      "text/plain": [
       "['Carta geológica da folha Uruguaiana',\n",
       " 'Carta geológica da folha Porto Alegre',\n",
       " 'Carta geológica da folha Goiás',\n",
       " 'Carta geológica da folha Curitiba',\n",
       " 'Carta geológica da folha Goiânia',\n",
       " 'Carta geológica da folha Tocantins',\n",
       " 'Carta geológica da folha Rio de Janeiro',\n",
       " 'Carta geológica da folha Brasília',\n",
       " 'Carta geológica da folha Belo Horizonte',\n",
       " 'Carta geológica da folha Salvador',\n",
       " 'Carta geológica da folha Aracaju',\n",
       " 'Carta geológica da folha Rio Doce',\n",
       " 'Carta geológica da folha Araguaia',\n",
       " 'Carta geológica da folha Juruena']"
      ]
     },
     "execution_count": 15,
     "metadata": {},
     "output_type": "execute_result"
    }
   ],
   "source": [
    "list(Litotipo_Grafitoso_l1kk.MAPA.unique())"
   ]
  },
  {
   "cell_type": "code",
   "execution_count": 14,
   "metadata": {},
   "outputs": [
    {
     "data": {
      "application/vnd.jupyter.widget-view+json": {
       "model_id": "c034449c7ccc4b66983466296aa50fd5",
       "version_major": 2,
       "version_minor": 0
      },
      "text/plain": [
       "Canvas(toolbar=Toolbar(toolitems=[('Home', 'Reset original view', 'home', 'home'), ('Back', 'Back to previous …"
      ]
     },
     "metadata": {},
     "output_type": "display_data"
    },
    {
     "data": {
      "text/plain": [
       "<AxesSubplot:>"
      ]
     },
     "execution_count": 14,
     "metadata": {},
     "output_type": "execute_result"
    }
   ],
   "source": [
    "base = Brazil.boundary.plot(color='black',figsize=(12,12))\n",
    "\n",
    "Legenda_Grafitosa_l1kk.plot(ax=base,facecolor='grey')\n",
    "Litotipo_Grafitoso_l1kk.plot(ax=base,facecolor='black')"
   ]
  },
  {
   "cell_type": "code",
   "execution_count": 23,
   "metadata": {},
   "outputs": [],
   "source": [
    "l_100k = gpd.read_file(gdb+'geodatabase.gpkg',\n",
    "                       driver='GPKG',\n",
    "                       layer='l_100k')"
   ]
  },
  {
   "cell_type": "code",
   "execution_count": 24,
   "metadata": {},
   "outputs": [],
   "source": [
    "l_100k = l_100k.fillna('Vazio')"
   ]
  },
  {
   "cell_type": "code",
   "execution_count": 25,
   "metadata": {},
   "outputs": [
    {
     "name": "stdout",
     "output_type": "stream",
     "text": [
      "(2033, 27)\n",
      "(59268, 27)\n"
     ]
    }
   ],
   "source": [
    "l_vazio_100k = l_100k[l_100k['LITOTIPOS'].str.contains(\"Vazio\")]\n",
    "print(l_vazio_100k.shape)\n",
    "print(l_100k.shape)\n"
   ]
  },
  {
   "cell_type": "code",
   "execution_count": 26,
   "metadata": {},
   "outputs": [],
   "source": [
    "litotipo_grafitico_l100k = l_100k[l_100k['LITOTIPOS'].str.contains(\"graf\")]\n",
    "\n",
    "legenda_grafitico_l100k = l_100k[l_100k['LEGENDA'].str.contains(\"graf\")]"
   ]
  },
  {
   "cell_type": "code",
   "execution_count": 27,
   "metadata": {},
   "outputs": [
    {
     "name": "stdout",
     "output_type": "stream",
     "text": [
      "(383, 27)\n"
     ]
    },
    {
     "data": {
      "text/plain": [
       "['Filito grafítico, Mica xisto, Quartzito, Rocha calcissilicática',\n",
       " 'Filito grafítico, Mica xisto, Quartzito, Rocha calcissilicática',\n",
       " 'Filito grafítico, Mica xisto, Quartzito, Rocha calcissilicática',\n",
       " 'Filito grafítico, Mica xisto, Quartzito, Rocha calcissilicática',\n",
       " 'Filito, Filito grafítico, Quartzito, Quartzito ferruginoso']"
      ]
     },
     "execution_count": 27,
     "metadata": {},
     "output_type": "execute_result"
    }
   ],
   "source": [
    "print(litotipo_grafitico_l100k.shape)\n",
    "list(litotipo_grafitico_l100k.LITOTIPOS.head())"
   ]
  },
  {
   "cell_type": "code",
   "execution_count": 28,
   "metadata": {},
   "outputs": [
    {
     "name": "stdout",
     "output_type": "stream",
     "text": [
      "(2404, 27)\n"
     ]
    },
    {
     "data": {
      "text/plain": [
       "['Depósitos argilo-arenosos avermelhados com horizontes conglomeráticos localizados (cascalhos) e com desenvolvimento local de processos de laterização, representado por horizontes métricos de latossolos avermelhados. Ocorrem em terrenos topograficame',\n",
       " 'Xistos pelíticos dominados por sillimanita-granada-biotita xisto, muscovita xisto, estaurolita-biotita-quartzo xisto e grafita xisto subordinado.',\n",
       " 'Sericita quartzo xistos e xistos grafitosos intercalados com quartzo xistos e quartzitos. Com intercalações subordinadas de mármores.',\n",
       " 'Quartzitos e muscovita quartzitos predominantes, com grafita xistos e metapelitos subordinados; metamorfismo na fácies xisto verde médio a anfibolito médio, localmente superior.',\n",
       " 'Metapelitos, grafita xisto, xistos quartzo-feldspáticos, quartzitos, mármores, ardósias, anfibolitos e metavulcânicas intermediárias com metamorfismo nas fácies xisto-verde superior a anfibolito. Ocorrem lentes estreitas de quartzitos ferruginoso e',\n",
       " 'Predomínio de mica xistos e filitos grafitosos com rochas calciossilicáticas e quartzitos.',\n",
       " 'Muscovita-biotita-quartzo xistos, biotita-quartzo xistos, subodinadamente feldspáticos, granada-muscovita-quartzo xistos, granada-biotita-quartzo xistos, com intercalações de grafita xistos, clorita-sericita xistos, clorita-quartzo-biotita xisto',\n",
       " 'Clorita-sericita xisto, mica-quartzo xistos com lentes de cianitito, biotita xisto, clorita-quartzo xisto, granada-muscovita-quartzo xisto silicificado, granada-biotita-quartzo xisto, muscovita-granada xisto com intercalações de grafita xisto, quartzo-',\n",
       " 'Quartzito micáceo, mármore, quartzo-xisto, xisto aluminoso, por vezes grafitoso, e anfibolito subordinado, foliados e crenulados, apresentando metamorfismo de fácies xisto verde a anfibolito. Ocorre ainda lentes de minério de manganês.',\n",
       " 'Calcarenito fino a médio negro a cinza escuro, calcissiltito com níveis grafitosos,níveis finos de siltito bege; Calcários calcíticos e dolomíticos com oólitos, estromatólitos colunares centimétricos, intraclastos, estratificação cruzada tabul',\n",
       " 'Biotita-muscovita-quartzo xisto, muscovita-clorita-quartzo xisto,com grafita e granada.',\n",
       " 'Paragnaisse com bandas claras ricas em quartzo e feldspato e as bandas máficas ricas em biotita, alterando para clorita e fengita; ilmenita passando para titanita;  minerais opacos e cristais de grafita.',\n",
       " 'Depósitos quatzo-arenosos com granulometria heterogênea, amarelo-acastanhadas, subarredondadas a arredondadas, mal selecionadas, com laminação plano-paralela incipiente. Ocorrem em regiões topograficamente mais elevadas, se associando, muitas vezes,',\n",
       " 'Filito serecítico, grafitoso e localmente pode apresentar clorita e sedimentos carbonáticos e na parte superior finas camadas de chert e hematita.',\n",
       " 'Muscovita-xistos e quartzo-xistos predominantes; xistos ferruginosos e grafitosos subordinados. Textura granoblástica fina, comumente granatíferos com intercalações de níveis quartzíticos.',\n",
       " 'Filito carbonoso/hematítico/manganesífero/grafitoso, metarritmito, metassiltito, metarenito  feldspático e  metaquartzarenito, sericíticos e biotíticos. Níveis de metamicroconglomerados polimítico e oligomítico, de metarenito ferruginoso e de met',\n",
       " 'Cordierita-grafita-sillimanita-granada-biotita gnaisse kinzigítico; cordierita-sillimanita-biotita gnaisse bandado, com intercalações de quartzito, rochas calcissilicáticas e anfibolitos.',\n",
       " 'Associação meta-vulcanossedimentar: biotita xisto, mica xisto, granada-biotita xisto, cianita-grafita-mica-quartzo xisto e grafita-mica xisto intercalados em contato gradacional a mica-quartzo xisto, quartzo xisto e sericita quartzito. Ocorrem ainda in',\n",
       " 'Formação ferrífera, quartzito ferruginoso, mármore, grafita xisto, xisto e rocha calcissilicática; metakomatiítito, metamafito, metaperidotito e metadunito (cúmulos de olivina e magnetita), metapiroxenito, metagabro maciço, serpentina mármore, s',\n",
       " 'Quartzito ferruginoso, formação ferrífera, xisto, grafita xisto, rochas calcissilicáticas e metaultramáficas, metabasalto e metachert.',\n",
       " 'Metavulcânicas básica-intermediária/ácida associadas com metatufos, metapelitos grafitosos, metacarbonatos e metacherts.',\n",
       " 'Gnaisse kinzigítico, rocha calcissilicática , quartzito, formação ferrífera, grafita xisto e anfibolito/metamafito; Paragnaisses granulitizados podendo conter raras sillimanitas, de cor escura, granulação fina a média',\n",
       " 'Granulitos alumino-magnesianos,quartzitos, e bandas metabásicas intercaladas. Os granulitos alumino-magnesianos são constituídos de quartzo, ortopiroxênio, granada, sillimanita e plagioclásio, tendo a microclina pertítica, opacos, rutilo, grafita,',\n",
       " 'Metabasalto tholeíitico, anfibolito fino (metabasalto) foliado, formação ferrífera, metachert, filito grafitoso e metacarbonato.',\n",
       " 'Granada-biotita-quartzo gnaisse cinza, fino a grosso, parcialmente migmatizado, grafita gnaisse, gnaisse kinzingitico, rocha calcissilicática, formação ferrífera, quartzito, metachert e anfibolito.',\n",
       " 'Ortognaisse diorítico, quartzo-diorítico, tonalítico e granodiorítico com biotita e/ou anfibólio, localmente com augen gnaisses, lentes de anfibolitos, metamáficas, granulito, migmatito, magnetita-grunerita xisto, grafita xisto, gondito, mármore e',\n",
       " 'Mármore de granulação média a grossa, coloração cinza, podendo conter grafita e flogopita como minerais acessórios. Níveis de rochas calcissilicáticas ocorrem localmente.',\n",
       " 'Anfibolito, metandesito e metadacito, talco xisto, clorita xisto, estaurolita-biotita xisto, quartzo diorito, granada-clorita xisto, grafita xisto, clorita-actinolita xisto, sericita quartzito ferruginoso, mármore, granada-quartzo-muscovita xisto com bi',\n",
       " 'Filitos e xistos pelíticos, lentes de mármores e calcissilicáticas; com quartzitos subordinados. Quartzitos, com grafita xistos e metapelitos subordinados.',\n",
       " 'Anfibolito, serpentinito, actinolita xisto, quartzito, formação ferrífera bandada, metapelito grafitoso manganesífero e ferruginoso além de xistos ultramáficos subordinadamente máficos e paragnaisses finos. Idade de metamorfismo 2840± 90 Ma (Ar-A',\n",
       " 'Quartzitos, xistos paraderivados, filito grafitoso, metarenito, grauvaca e chert. Xistosidade proeminente, chegando a bandamento localizado. Metamorfismo em fácies xisto-verde.',\n",
       " 'Migmatitos paraderivados,frequentemente de estruturas bandada-dobradas, de mesossoma xistoso, rico em biotita, com ou sem granada e sillimanita. Geralmente com leucossomas brancos quartzo-feldspáticos (± granada). Localmente cristais de grafita (~1 cm)',\n",
       " 'Muscovita-grafita-(pirita)-quartzo-xistos, localmente manganesíferos, e formações manganesíferas bandadas, foliados e crenulados, apresentando metamorfismo de fácies xisto verde médio a alto.',\n",
       " 'Filito e filito grafitoso.',\n",
       " 'Rochas metassedimentares clásticas (metaconglomerado, quatzito, filito carbonoso, filito, xisto, sericita xisto, xisto grafitoso, quartzito, quartzito ferruginoso) e químicas (camadas de dolomito, mármore dolomítico  e finas lentes de formação ferr',\n",
       " 'Rocha ultramáfica, lava komatíitica serpentinizada, talcificada, breha de fluxo, metassedimentares, grafita xisto, formação ferrífera, metachert carbonoso e ferrífero, anfibolito, hidrotermalitos, metavulcânicas básicas e ultramáficas, micaxisto',\n",
       " 'Metavulcânicas máficas e intermediárias, metabasalto, xisto máfico, actinolita-tremolita-quartzo xisto máfico, clorita-quartzo xisto, carbonato-clorita-quartzo xisto, talco xisto, metatufo feldspático, formação ferrífera, metachert, grafita meta',\n",
       " 'Predomínio de metarritmitos e meta-arenitos laminados a bandados, por vezes impuro e arcoseanos associados a xistos, filitos, grafita filitos e metaconglomerados.']"
      ]
     },
     "execution_count": 28,
     "metadata": {},
     "output_type": "execute_result"
    }
   ],
   "source": [
    "print(legenda_grafitico_l100k.shape)\n",
    "list(legenda_grafitico_l100k.LEGENDA.unique())"
   ]
  },
  {
   "cell_type": "code",
   "execution_count": 29,
   "metadata": {},
   "outputs": [
    {
     "data": {
      "application/vnd.jupyter.widget-view+json": {
       "model_id": "48b0bf6c77f9470dba6166ea9a0c9c62",
       "version_major": 2,
       "version_minor": 0
      },
      "text/plain": [
       "Canvas(toolbar=Toolbar(toolitems=[('Home', 'Reset original view', 'home', 'home'), ('Back', 'Back to previous …"
      ]
     },
     "metadata": {},
     "output_type": "display_data"
    },
    {
     "data": {
      "text/plain": [
       "<AxesSubplot:>"
      ]
     },
     "execution_count": 29,
     "metadata": {},
     "output_type": "execute_result"
    }
   ],
   "source": [
    "base = Brazil.boundary.plot(color='black',figsize=(12,12))\n",
    "\n",
    "litotipo_grafitico_l100k.plot(ax=base,facecolor='grey')\n",
    "legenda_grafitico_l100k.plot(ax=base,facecolor='black')"
   ]
  },
  {
   "cell_type": "code",
   "execution_count": 57,
   "metadata": {},
   "outputs": [
    {
     "name": "stdout",
     "output_type": "stream",
     "text": [
      "93\n",
      "22\n"
     ]
    }
   ],
   "source": [
    "mapas_leg_gr_100k = list(legenda_grafitico_l100k.MAPA.unique())\n",
    "print(len(mapas_leg_gr_100k))\n",
    "\n",
    "mapas_lito_gr_100k = list(litotipo_grafitico_l100k.MAPA.unique())\n",
    "print(len(mapas_lito_gr_100k))"
   ]
  },
  {
   "cell_type": "code",
   "execution_count": 58,
   "metadata": {},
   "outputs": [
    {
     "data": {
      "text/plain": [
       "['Carta geológica da folha Cerro Azul',\n",
       " 'Carta geológica da folha Apiaí',\n",
       " 'Carta geológica da folha Coromandel',\n",
       " 'Carta geológica da folha Serra da Tiririca',\n",
       " 'Carta geológica da folha Guarda Mor',\n",
       " 'Carta geológica da folha Cabeceira Grande',\n",
       " 'Carta geológica da folha Ribeirão Arrojado',\n",
       " 'Carta geológica da folha Alpinópolis - UERJ',\n",
       " 'Carta geológica da folha Patos de Minas',\n",
       " 'Carta geológica da folha Paracatu',\n",
       " 'Carta geológica da folha Arrenegado',\n",
       " 'Carta geológica da folha Piumhi - UFRJ',\n",
       " 'Carta geológica da folha Guapé - UERJ',\n",
       " 'Carta geológica da folha Cacimba',\n",
       " 'Carta geológica da folha Itararé',\n",
       " 'Carta geológica da folha Serra da Aldeia',\n",
       " 'Carta geológica da folha Brasilândia',\n",
       " 'Carta geológica da folha Monte Carmelo',\n",
       " 'Carta geológica da folha Lagamar',\n",
       " 'Carta geológica da folha Caiana',\n",
       " 'Carta geológica da folha Paranatinga',\n",
       " 'Carta geológica da folha Monte Azul - UFMG']"
      ]
     },
     "execution_count": 58,
     "metadata": {},
     "output_type": "execute_result"
    }
   ],
   "source": [
    "mapas_lito_gr_100k"
   ]
  },
  {
   "cell_type": "code",
   "execution_count": 59,
   "metadata": {},
   "outputs": [
    {
     "name": "stdout",
     "output_type": "stream",
     "text": [
      "Carta geológica da folha Cerro Azul\n",
      "Carta geológica da folha Apiaí\n",
      "Carta geológica da folha Coromandel\n",
      "Carta geológica da folha Serra da Tiririca\n",
      "Carta geológica da folha Guarda Mor\n",
      "Carta geológica da folha Cabeceira Grande\n",
      "Carta geológica da folha Ribeirão Arrojado\n",
      "Carta geológica da folha Alpinópolis - UERJ\n",
      "Carta geológica da folha Patos de Minas\n",
      "Carta geológica da folha Paracatu\n",
      "Carta geológica da folha Arrenegado\n",
      "Carta geológica da folha Piumhi - UFRJ\n",
      "Carta geológica da folha Guapé - UERJ\n",
      "Carta geológica da folha Cacimba\n",
      "Carta geológica da folha Itararé\n",
      "Carta geológica da folha Serra da Aldeia\n",
      "Carta geológica da folha Brasilândia\n",
      "Carta geológica da folha Monte Carmelo\n",
      "Carta geológica da folha Lagamar\n",
      "Carta geológica da folha Caiana\n",
      "Carta geológica da folha Paranatinga\n",
      "Carta geológica da folha Monte Azul - UFMG\n"
     ]
    }
   ],
   "source": [
    "list_gr_100k=mapas_lito_gr_100k\n",
    "indice=0\n",
    "for i in mapas_lito_gr_100k:\n",
    "    print(i)\n",
    "    list_gr_100k[indice] = l_100k[l_100k['MAPA'].str.contains(\"i\")]\n",
    "    indice+=1\n"
   ]
  },
  {
   "cell_type": "code",
   "execution_count": 60,
   "metadata": {},
   "outputs": [
    {
     "data": {
      "text/plain": [
       "22"
      ]
     },
     "execution_count": 60,
     "metadata": {},
     "output_type": "execute_result"
    }
   ],
   "source": [
    "len(list_gr_100k)\n"
   ]
  },
  {
   "cell_type": "code",
   "execution_count": 61,
   "metadata": {},
   "outputs": [
    {
     "data": {
      "text/html": [
       "<div>\n",
       "<style scoped>\n",
       "    .dataframe tbody tr th:only-of-type {\n",
       "        vertical-align: middle;\n",
       "    }\n",
       "\n",
       "    .dataframe tbody tr th {\n",
       "        vertical-align: top;\n",
       "    }\n",
       "\n",
       "    .dataframe thead th {\n",
       "        text-align: right;\n",
       "    }\n",
       "</style>\n",
       "<table border=\"1\" class=\"dataframe\">\n",
       "  <thead>\n",
       "    <tr style=\"text-align: right;\">\n",
       "      <th></th>\n",
       "      <th>ID_UNIDADE</th>\n",
       "      <th>SIGLA</th>\n",
       "      <th>HIERARQUIA</th>\n",
       "      <th>NOME</th>\n",
       "      <th>AMBIENTE_T</th>\n",
       "      <th>SUB_AMBIEN</th>\n",
       "      <th>SIGLA_PAI</th>\n",
       "      <th>NOME_PAI</th>\n",
       "      <th>LEGENDA</th>\n",
       "      <th>ESCALA</th>\n",
       "      <th>...</th>\n",
       "      <th>ERA_MIN</th>\n",
       "      <th>ERA_MAX</th>\n",
       "      <th>SISTEMA_MI</th>\n",
       "      <th>SISTEMA_MA</th>\n",
       "      <th>EPOCA_MIN</th>\n",
       "      <th>EPOCA_MAX</th>\n",
       "      <th>SIGLAS_HIS</th>\n",
       "      <th>SHAPE_AREA</th>\n",
       "      <th>SHAPE_LEN</th>\n",
       "      <th>geometry</th>\n",
       "    </tr>\n",
       "  </thead>\n",
       "  <tbody>\n",
       "    <tr>\n",
       "      <th>0</th>\n",
       "      <td>3844</td>\n",
       "      <td>MP3rbm</td>\n",
       "      <td>Unidade</td>\n",
       "      <td>Unidade Rio Branco, metamáfica</td>\n",
       "      <td>Vazio</td>\n",
       "      <td>Vazio</td>\n",
       "      <td>MP3rb</td>\n",
       "      <td>MP3rb - Formação Rio Branco</td>\n",
       "      <td>Metagabro, metagabro-norito, metadiabásio, anf...</td>\n",
       "      <td>1:100.000</td>\n",
       "      <td>...</td>\n",
       "      <td>Mesoproterozóico</td>\n",
       "      <td>Mesoproterozóico</td>\n",
       "      <td>Esteniano</td>\n",
       "      <td>Esteniano</td>\n",
       "      <td>Landoveriano</td>\n",
       "      <td>Landoveriano</td>\n",
       "      <td>Vazio</td>\n",
       "      <td>0.001552</td>\n",
       "      <td>0.275637</td>\n",
       "      <td>POLYGON ((-62.00000 -11.97996, -62.00000 -12.0...</td>\n",
       "    </tr>\n",
       "    <tr>\n",
       "      <th>1</th>\n",
       "      <td>577</td>\n",
       "      <td>MP3_gamma_rp</td>\n",
       "      <td>Suíte intrusiva</td>\n",
       "      <td>Suíte intrusiva Rio Pardo</td>\n",
       "      <td>Magmatismo intraplaca</td>\n",
       "      <td>Intrusivas pós-orogênicas</td>\n",
       "      <td>Vazio</td>\n",
       "      <td>Vazio</td>\n",
       "      <td>Monzo a sienogranitos cinza a róseo, equigranu...</td>\n",
       "      <td>1:100.000</td>\n",
       "      <td>...</td>\n",
       "      <td>Mesoproterozóico</td>\n",
       "      <td>Mesoproterozóico</td>\n",
       "      <td>Esteniano</td>\n",
       "      <td>Esteniano</td>\n",
       "      <td>Landoveriano</td>\n",
       "      <td>Landoveriano</td>\n",
       "      <td>Vazio</td>\n",
       "      <td>0.000595</td>\n",
       "      <td>0.140536</td>\n",
       "      <td>POLYGON ((-62.00000 -11.88175, -62.00000 -11.9...</td>\n",
       "    </tr>\n",
       "    <tr>\n",
       "      <th>2</th>\n",
       "      <td>3838</td>\n",
       "      <td>MP3maf</td>\n",
       "      <td>Unidade</td>\n",
       "      <td>Unidade Migrantinópolis, anfibolito</td>\n",
       "      <td>Vazio</td>\n",
       "      <td>Vazio</td>\n",
       "      <td>MP3m</td>\n",
       "      <td>MP3m - Formação Migrantinópolis</td>\n",
       "      <td>Anfibolitos e metagabros cinza esverdeado escu...</td>\n",
       "      <td>1:100.000</td>\n",
       "      <td>...</td>\n",
       "      <td>Mesoproterozóico</td>\n",
       "      <td>Mesoproterozóico</td>\n",
       "      <td>Esteniano</td>\n",
       "      <td>Esteniano</td>\n",
       "      <td>Landoveriano</td>\n",
       "      <td>Landoveriano</td>\n",
       "      <td>Vazio</td>\n",
       "      <td>0.000012</td>\n",
       "      <td>0.013979</td>\n",
       "      <td>POLYGON ((-62.00000 -11.83095, -62.00000 -11.8...</td>\n",
       "    </tr>\n",
       "    <tr>\n",
       "      <th>3</th>\n",
       "      <td>3825</td>\n",
       "      <td>NP3pr</td>\n",
       "      <td>Formação</td>\n",
       "      <td>Formação Pedra Redonda</td>\n",
       "      <td>Vazio</td>\n",
       "      <td>Vazio</td>\n",
       "      <td>NP3pb</td>\n",
       "      <td>NP3pb - Grupo Pimenta Bueno</td>\n",
       "      <td>Paraconglomerado e arenito de granulometria gr...</td>\n",
       "      <td>1:100.000</td>\n",
       "      <td>...</td>\n",
       "      <td>Neoproterozóico</td>\n",
       "      <td>Neoproterozóico</td>\n",
       "      <td>Ediacarano</td>\n",
       "      <td>Ediacarano</td>\n",
       "      <td>Pridoliano</td>\n",
       "      <td>Pridoliano</td>\n",
       "      <td>C1pr</td>\n",
       "      <td>0.001222</td>\n",
       "      <td>0.219415</td>\n",
       "      <td>POLYGON ((-62.05274 -11.69120, -62.05270 -11.6...</td>\n",
       "    </tr>\n",
       "    <tr>\n",
       "      <th>4</th>\n",
       "      <td>3840</td>\n",
       "      <td>MP3mpg</td>\n",
       "      <td>Unidade</td>\n",
       "      <td>Unidade Migrantinópolis, paragnaisse</td>\n",
       "      <td>Vazio</td>\n",
       "      <td>Vazio</td>\n",
       "      <td>MP3m</td>\n",
       "      <td>MP3m - Formação Migrantinópolis</td>\n",
       "      <td>Biotita paragnaisse e localmente metaturbidito...</td>\n",
       "      <td>1:100.000</td>\n",
       "      <td>...</td>\n",
       "      <td>Mesoproterozóico</td>\n",
       "      <td>Mesoproterozóico</td>\n",
       "      <td>Esteniano</td>\n",
       "      <td>Esteniano</td>\n",
       "      <td>Landoveriano</td>\n",
       "      <td>Landoveriano</td>\n",
       "      <td>Vazio</td>\n",
       "      <td>0.025622</td>\n",
       "      <td>3.861185</td>\n",
       "      <td>POLYGON ((-62.26230 -11.61555, -62.26225 -11.6...</td>\n",
       "    </tr>\n",
       "    <tr>\n",
       "      <th>...</th>\n",
       "      <td>...</td>\n",
       "      <td>...</td>\n",
       "      <td>...</td>\n",
       "      <td>...</td>\n",
       "      <td>...</td>\n",
       "      <td>...</td>\n",
       "      <td>...</td>\n",
       "      <td>...</td>\n",
       "      <td>...</td>\n",
       "      <td>...</td>\n",
       "      <td>...</td>\n",
       "      <td>...</td>\n",
       "      <td>...</td>\n",
       "      <td>...</td>\n",
       "      <td>...</td>\n",
       "      <td>...</td>\n",
       "      <td>...</td>\n",
       "      <td>...</td>\n",
       "      <td>...</td>\n",
       "      <td>...</td>\n",
       "      <td>...</td>\n",
       "    </tr>\n",
       "    <tr>\n",
       "      <th>59263</th>\n",
       "      <td>3475</td>\n",
       "      <td>Q2lp</td>\n",
       "      <td>Não definida</td>\n",
       "      <td>Depósitos litorâneos praiais</td>\n",
       "      <td>Vazio</td>\n",
       "      <td>Vazio</td>\n",
       "      <td>Vazio</td>\n",
       "      <td>Vazio</td>\n",
       "      <td>Areias quartzosas, de coloração cinza claro a ...</td>\n",
       "      <td>1:100.000</td>\n",
       "      <td>...</td>\n",
       "      <td>Cenozóico</td>\n",
       "      <td>Cenozóico</td>\n",
       "      <td>Neogeno</td>\n",
       "      <td>Neogeno</td>\n",
       "      <td>Superior</td>\n",
       "      <td>Superior</td>\n",
       "      <td>N4lp</td>\n",
       "      <td>0.000381</td>\n",
       "      <td>0.267003</td>\n",
       "      <td>POLYGON ((-34.93211 -6.72307, -34.93244 -6.722...</td>\n",
       "    </tr>\n",
       "    <tr>\n",
       "      <th>59264</th>\n",
       "      <td>3475</td>\n",
       "      <td>Q2lp</td>\n",
       "      <td>Não definida</td>\n",
       "      <td>Depósitos litorâneos praiais</td>\n",
       "      <td>Vazio</td>\n",
       "      <td>Vazio</td>\n",
       "      <td>Vazio</td>\n",
       "      <td>Vazio</td>\n",
       "      <td>Areias quartzosas, de coloração cinza claro a ...</td>\n",
       "      <td>1:100.000</td>\n",
       "      <td>...</td>\n",
       "      <td>Cenozóico</td>\n",
       "      <td>Cenozóico</td>\n",
       "      <td>Neogeno</td>\n",
       "      <td>Neogeno</td>\n",
       "      <td>Superior</td>\n",
       "      <td>Superior</td>\n",
       "      <td>N4lp</td>\n",
       "      <td>0.000079</td>\n",
       "      <td>0.056966</td>\n",
       "      <td>POLYGON ((-34.92143 -6.87818, -34.91930 -6.878...</td>\n",
       "    </tr>\n",
       "    <tr>\n",
       "      <th>59265</th>\n",
       "      <td>1507</td>\n",
       "      <td>Q2a</td>\n",
       "      <td>Não definida</td>\n",
       "      <td>Depósitos aluvionares</td>\n",
       "      <td>Cobertura superficial</td>\n",
       "      <td>Vazio</td>\n",
       "      <td>Vazio</td>\n",
       "      <td>Vazio</td>\n",
       "      <td>Sedimentos sreno-argilosos aluvionares inconso...</td>\n",
       "      <td>1:100.000</td>\n",
       "      <td>...</td>\n",
       "      <td>Cenozóico</td>\n",
       "      <td>Cenozóico</td>\n",
       "      <td>Neogeno</td>\n",
       "      <td>Neogeno</td>\n",
       "      <td>Superior</td>\n",
       "      <td>Superior</td>\n",
       "      <td>N4a</td>\n",
       "      <td>0.000448</td>\n",
       "      <td>0.129121</td>\n",
       "      <td>POLYGON ((-34.89744 -6.87870, -34.90015 -6.879...</td>\n",
       "    </tr>\n",
       "    <tr>\n",
       "      <th>59266</th>\n",
       "      <td>1507</td>\n",
       "      <td>Q2a</td>\n",
       "      <td>Não definida</td>\n",
       "      <td>Depósitos aluvionares</td>\n",
       "      <td>Cobertura superficial</td>\n",
       "      <td>Vazio</td>\n",
       "      <td>Vazio</td>\n",
       "      <td>Vazio</td>\n",
       "      <td>Sedimentos sreno-argilosos aluvionares inconso...</td>\n",
       "      <td>1:100.000</td>\n",
       "      <td>...</td>\n",
       "      <td>Cenozóico</td>\n",
       "      <td>Cenozóico</td>\n",
       "      <td>Neogeno</td>\n",
       "      <td>Neogeno</td>\n",
       "      <td>Superior</td>\n",
       "      <td>Superior</td>\n",
       "      <td>N4a</td>\n",
       "      <td>0.000140</td>\n",
       "      <td>0.071196</td>\n",
       "      <td>POLYGON ((-34.88181 -6.95547, -34.88241 -6.955...</td>\n",
       "    </tr>\n",
       "    <tr>\n",
       "      <th>59267</th>\n",
       "      <td>3475</td>\n",
       "      <td>Q2lp</td>\n",
       "      <td>Não definida</td>\n",
       "      <td>Depósitos litorâneos praiais</td>\n",
       "      <td>Vazio</td>\n",
       "      <td>Vazio</td>\n",
       "      <td>Vazio</td>\n",
       "      <td>Vazio</td>\n",
       "      <td>Areias quartzosas, de coloração cinza claro a ...</td>\n",
       "      <td>1:100.000</td>\n",
       "      <td>...</td>\n",
       "      <td>Cenozóico</td>\n",
       "      <td>Cenozóico</td>\n",
       "      <td>Neogeno</td>\n",
       "      <td>Neogeno</td>\n",
       "      <td>Superior</td>\n",
       "      <td>Superior</td>\n",
       "      <td>N4lp</td>\n",
       "      <td>0.002106</td>\n",
       "      <td>0.247490</td>\n",
       "      <td>POLYGON ((-34.85879 -6.95387, -34.85843 -6.955...</td>\n",
       "    </tr>\n",
       "  </tbody>\n",
       "</table>\n",
       "<p>59268 rows × 27 columns</p>\n",
       "</div>"
      ],
      "text/plain": [
       "       ID_UNIDADE         SIGLA       HIERARQUIA  \\\n",
       "0            3844        MP3rbm          Unidade   \n",
       "1             577  MP3_gamma_rp  Suíte intrusiva   \n",
       "2            3838        MP3maf          Unidade   \n",
       "3            3825         NP3pr         Formação   \n",
       "4            3840        MP3mpg          Unidade   \n",
       "...           ...           ...              ...   \n",
       "59263        3475          Q2lp     Não definida   \n",
       "59264        3475          Q2lp     Não definida   \n",
       "59265        1507           Q2a     Não definida   \n",
       "59266        1507           Q2a     Não definida   \n",
       "59267        3475          Q2lp     Não definida   \n",
       "\n",
       "                                       NOME             AMBIENTE_T  \\\n",
       "0            Unidade Rio Branco, metamáfica                  Vazio   \n",
       "1                 Suíte intrusiva Rio Pardo  Magmatismo intraplaca   \n",
       "2       Unidade Migrantinópolis, anfibolito                  Vazio   \n",
       "3                    Formação Pedra Redonda                  Vazio   \n",
       "4      Unidade Migrantinópolis, paragnaisse                  Vazio   \n",
       "...                                     ...                    ...   \n",
       "59263          Depósitos litorâneos praiais                  Vazio   \n",
       "59264          Depósitos litorâneos praiais                  Vazio   \n",
       "59265                 Depósitos aluvionares  Cobertura superficial   \n",
       "59266                 Depósitos aluvionares  Cobertura superficial   \n",
       "59267          Depósitos litorâneos praiais                  Vazio   \n",
       "\n",
       "                      SUB_AMBIEN SIGLA_PAI                         NOME_PAI  \\\n",
       "0                          Vazio     MP3rb      MP3rb - Formação Rio Branco   \n",
       "1      Intrusivas pós-orogênicas     Vazio                            Vazio   \n",
       "2                          Vazio      MP3m  MP3m - Formação Migrantinópolis   \n",
       "3                          Vazio     NP3pb      NP3pb - Grupo Pimenta Bueno   \n",
       "4                          Vazio      MP3m  MP3m - Formação Migrantinópolis   \n",
       "...                          ...       ...                              ...   \n",
       "59263                      Vazio     Vazio                            Vazio   \n",
       "59264                      Vazio     Vazio                            Vazio   \n",
       "59265                      Vazio     Vazio                            Vazio   \n",
       "59266                      Vazio     Vazio                            Vazio   \n",
       "59267                      Vazio     Vazio                            Vazio   \n",
       "\n",
       "                                                 LEGENDA     ESCALA  ...  \\\n",
       "0      Metagabro, metagabro-norito, metadiabásio, anf...  1:100.000  ...   \n",
       "1      Monzo a sienogranitos cinza a róseo, equigranu...  1:100.000  ...   \n",
       "2      Anfibolitos e metagabros cinza esverdeado escu...  1:100.000  ...   \n",
       "3      Paraconglomerado e arenito de granulometria gr...  1:100.000  ...   \n",
       "4      Biotita paragnaisse e localmente metaturbidito...  1:100.000  ...   \n",
       "...                                                  ...        ...  ...   \n",
       "59263  Areias quartzosas, de coloração cinza claro a ...  1:100.000  ...   \n",
       "59264  Areias quartzosas, de coloração cinza claro a ...  1:100.000  ...   \n",
       "59265  Sedimentos sreno-argilosos aluvionares inconso...  1:100.000  ...   \n",
       "59266  Sedimentos sreno-argilosos aluvionares inconso...  1:100.000  ...   \n",
       "59267  Areias quartzosas, de coloração cinza claro a ...  1:100.000  ...   \n",
       "\n",
       "                ERA_MIN           ERA_MAX  SISTEMA_MI  SISTEMA_MA  \\\n",
       "0      Mesoproterozóico  Mesoproterozóico   Esteniano   Esteniano   \n",
       "1      Mesoproterozóico  Mesoproterozóico   Esteniano   Esteniano   \n",
       "2      Mesoproterozóico  Mesoproterozóico   Esteniano   Esteniano   \n",
       "3       Neoproterozóico   Neoproterozóico  Ediacarano  Ediacarano   \n",
       "4      Mesoproterozóico  Mesoproterozóico   Esteniano   Esteniano   \n",
       "...                 ...               ...         ...         ...   \n",
       "59263         Cenozóico         Cenozóico     Neogeno     Neogeno   \n",
       "59264         Cenozóico         Cenozóico     Neogeno     Neogeno   \n",
       "59265         Cenozóico         Cenozóico     Neogeno     Neogeno   \n",
       "59266         Cenozóico         Cenozóico     Neogeno     Neogeno   \n",
       "59267         Cenozóico         Cenozóico     Neogeno     Neogeno   \n",
       "\n",
       "          EPOCA_MIN     EPOCA_MAX SIGLAS_HIS SHAPE_AREA SHAPE_LEN  \\\n",
       "0      Landoveriano  Landoveriano      Vazio   0.001552  0.275637   \n",
       "1      Landoveriano  Landoveriano      Vazio   0.000595  0.140536   \n",
       "2      Landoveriano  Landoveriano      Vazio   0.000012  0.013979   \n",
       "3        Pridoliano    Pridoliano       C1pr   0.001222  0.219415   \n",
       "4      Landoveriano  Landoveriano      Vazio   0.025622  3.861185   \n",
       "...             ...           ...        ...        ...       ...   \n",
       "59263      Superior      Superior       N4lp   0.000381  0.267003   \n",
       "59264      Superior      Superior       N4lp   0.000079  0.056966   \n",
       "59265      Superior      Superior        N4a   0.000448  0.129121   \n",
       "59266      Superior      Superior        N4a   0.000140  0.071196   \n",
       "59267      Superior      Superior       N4lp   0.002106  0.247490   \n",
       "\n",
       "                                                geometry  \n",
       "0      POLYGON ((-62.00000 -11.97996, -62.00000 -12.0...  \n",
       "1      POLYGON ((-62.00000 -11.88175, -62.00000 -11.9...  \n",
       "2      POLYGON ((-62.00000 -11.83095, -62.00000 -11.8...  \n",
       "3      POLYGON ((-62.05274 -11.69120, -62.05270 -11.6...  \n",
       "4      POLYGON ((-62.26230 -11.61555, -62.26225 -11.6...  \n",
       "...                                                  ...  \n",
       "59263  POLYGON ((-34.93211 -6.72307, -34.93244 -6.722...  \n",
       "59264  POLYGON ((-34.92143 -6.87818, -34.91930 -6.878...  \n",
       "59265  POLYGON ((-34.89744 -6.87870, -34.90015 -6.879...  \n",
       "59266  POLYGON ((-34.88181 -6.95547, -34.88241 -6.955...  \n",
       "59267  POLYGON ((-34.85879 -6.95387, -34.85843 -6.955...  \n",
       "\n",
       "[59268 rows x 27 columns]"
      ]
     },
     "execution_count": 61,
     "metadata": {},
     "output_type": "execute_result"
    }
   ],
   "source": [
    "list_gr_100k[0]"
   ]
  },
  {
   "cell_type": "markdown",
   "metadata": {},
   "source": [
    "### Desafio desnecessário para provar meus conhecimentos com for loops:"
   ]
  },
  {
   "cell_type": "code",
   "execution_count": 540,
   "metadata": {},
   "outputs": [],
   "source": [
    "lista_mapa = list(l_1kk.MAPA.unique())\n",
    "print(len(lista_mapa))\n",
    "lista_nome=[]\n",
    "\n",
    "for mapa in lista_mapa:\n",
    "    trash=0\n",
    "    Mapa=[]\n",
    "    for letra in mapa:\n",
    "        if trash<25:\n",
    "            trash+=1\n",
    "        else:\n",
    "            Mapa+=letra\n",
    "    lista_nome += [''.join(Mapa)]"
   ]
  },
  {
   "cell_type": "code",
   "execution_count": null,
   "metadata": {},
   "outputs": [],
   "source": [
    "lista_nome"
   ]
  },
  {
   "cell_type": "code",
   "execution_count": 510,
   "metadata": {},
   "outputs": [
    {
     "name": "stdout",
     "output_type": "stream",
     "text": [
      "Contamana\n",
      "Javari\n",
      "Rio Branco\n",
      "Juruá\n",
      "Içá\n",
      "Pico da Neblina\n",
      "Guaporé\n",
      "Porto Velho\n",
      "Purus\n",
      "Manaus\n",
      "Boa Vista\n",
      "Corumbá\n",
      "Cuiabá\n",
      "Juruena\n",
      "Tapajós\n",
      "Santarém\n",
      "Tumucumaque\n",
      "Uruguaiana\n",
      "Campo Grande\n",
      "Asunción\n",
      "Lagoa Mirim\n",
      "Porto Alegre\n",
      "Curitiba\n",
      "Paranapanema\n",
      "Goiânia\n",
      "Goiás\n",
      "Tocantins\n",
      "Araguaia\n",
      "Belém\n",
      "Macapá\n",
      "Iguape\n",
      "Rio de Janeiro\n",
      "Belo Horizonte\n",
      "Brasília\n",
      "Rio São Francisco\n",
      "Teresina\n",
      "São Luis\n",
      "Vitória\n",
      "Rio Doce\n",
      "Salvador\n",
      "Aracaju\n",
      "Jaguaribe\n",
      "Fortaleza\n",
      "Recife\n",
      "Natal\n"
     ]
    }
   ],
   "source": [
    "folha=lista_nome\n",
    "indice=0\n",
    "for i in lista_nome:\n",
    "    print(i)\n",
    "    folha[indice] = l_1kk[l_1kk['MAPA'].str.contains(i)].dissolve('MAPA')\n",
    "    indice+=1"
   ]
  },
  {
   "cell_type": "code",
   "execution_count": 517,
   "metadata": {},
   "outputs": [
    {
     "data": {
      "application/vnd.jupyter.widget-view+json": {
       "model_id": "6b1a8e2e6bd64bc784fc7ffc80add64d",
       "version_major": 2,
       "version_minor": 0
      },
      "text/plain": [
       "Canvas(toolbar=Toolbar(toolitems=[('Home', 'Reset original view', 'home', 'home'), ('Back', 'Back to previous …"
      ]
     },
     "metadata": {},
     "output_type": "display_data"
    },
    {
     "data": {
      "text/plain": [
       "<AxesSubplot:>"
      ]
     },
     "execution_count": 517,
     "metadata": {},
     "output_type": "execute_result"
    }
   ],
   "source": [
    "folha[31].plot()"
   ]
  },
  {
   "cell_type": "markdown",
   "metadata": {},
   "source": [
    "tired for now"
   ]
  },
  {
   "cell_type": "code",
   "execution_count": 544,
   "metadata": {},
   "outputs": [
    {
     "data": {
      "text/plain": [
       "['Carta geológica da folha Paulo Saldanha',\n",
       " 'Carta geológica da folha Rio Tanaru - SD.20-X-B-IV',\n",
       " 'Carta geológica da folha Roncador',\n",
       " 'Carta geológica da folha Rio Pardo',\n",
       " 'Carta geológica da folha Pimenta Bueno',\n",
       " 'Carta geológica da folha Serra da Providência',\n",
       " 'Carta geológica da folha Ji Paraná',\n",
       " 'Carta geológica da folha Vila Nova',\n",
       " 'Carta geológica da folha Vila de Tepequém',\n",
       " 'Carta geológica da folha Betânia - UFMT',\n",
       " 'Carta geológica da folha Rio Escondido',\n",
       " 'Carta geológica da folha Ilha do Porto',\n",
       " 'Carta geológica da folha Porto Triunfo SD.20-X-B-V',\n",
       " 'Carta geológica da folha NA-20-Z-D-III',\n",
       " 'Carta geológica da folha Novo Paraíso',\n",
       " 'Carta geológica da folha Santa Rita - UFMT',\n",
       " 'Carta geológica da folha Santa Barbara - UFMT',\n",
       " 'Carta geológica da folha Serra da Borda',\n",
       " 'Carta geológica da folha Rio Novo',\n",
       " 'Carta geológica da folha Rio Pindaituba - UFMT',\n",
       " 'Carta geológica da folha Vila Oeste',\n",
       " 'Carta geológica da folha Jauru - UFMT',\n",
       " 'Carta geológica da folha Rio Branco - UFMT',\n",
       " 'Carta geológica da folha Ilha Porto Escondido',\n",
       " 'Carta geológica da folha Colônia São Lourenço',\n",
       " 'Carta geológica da folha Fazenda Santa Otília',\n",
       " 'Carta geológica da folha Aldeia Tomázia',\n",
       " 'Carta geológica da folha Rio Perdido',\n",
       " 'Carta geológica da folha Fazenda Margarida',\n",
       " 'Carta geológica da folha Vila Campão',\n",
       " 'Carta geológica da folha São Domingos',\n",
       " 'Carta geológica da folha Rio Ratão',\n",
       " 'Carta geológica da folha Cuiú-Cuiú',\n",
       " 'Carta geológica da folha Cachoeira Seca',\n",
       " 'Carta geológica da folha Vila Planalto',\n",
       " 'Carta geológica da folha Ilha Mambuai',\n",
       " 'Carta geológica da folha Uruá',\n",
       " 'Carta geológica da folha Barão de Melgaço - UFMT',\n",
       " 'Carta geológica da folha Rio Nhandu',\n",
       " 'Carta geológica da folha Jardim do Ouro',\n",
       " 'Carta geológica da folha Igrejinha - UNISINOS',\n",
       " 'Carta geológica da folha Bagé',\n",
       " 'Carta geológica da folha Aceguá',\n",
       " 'Carta geológica da folha Lagoa da Meia Lua',\n",
       " 'Carta geológica da folha Brasilândia',\n",
       " 'Carta geológica da folha Cacimba',\n",
       " 'Carta geológica da folha Paranatinga',\n",
       " 'Carta geológica da folha Rio Braço Sul',\n",
       " 'Carta geológica da folha Serra do Cachimbo',\n",
       " 'Carta geológica da folha Curral de Pedras',\n",
       " 'Carta geológica da folha Arroio Grande',\n",
       " 'Carta geológica da folha Jaguarão',\n",
       " 'Carta geológica da folha Passo São Diogo',\n",
       " 'Carta geológica da folha Hulha Negra',\n",
       " 'Carta geológica da folha Pinheiro Machado',\n",
       " 'Carta geológica da folha Lavras do Sul',\n",
       " 'Carta geológica da folha Santa Maria - RS',\n",
       " 'Carta geológica da folha Sobradinho',\n",
       " 'Carta geológica da folha Agudo',\n",
       " 'Carta geológica da folha Três Passos',\n",
       " 'Carta geológica da folha Frederico Westphalen',\n",
       " 'Carta geológica da folha Matarazzo',\n",
       " 'Carta geológica da folha Pelotas',\n",
       " 'Carta geológica da folha Pedro Osório',\n",
       " 'Carta geológica da folha Placa Nativa',\n",
       " 'Carta geológica da folha Nova Xavantina',\n",
       " 'Carta geológica da folha Rio Bacajá - UFPR',\n",
       " 'Carta geológica da folha Gravataí - UFRGS',\n",
       " 'Carta geológica da folha Sanclerlândia',\n",
       " 'Carta geológica da folha Rio Inajá',\n",
       " 'Carta geológica da folha São João Batista',\n",
       " 'Carta geológica da folha Marajoara',\n",
       " 'Carta geológica da folha Caldeirão',\n",
       " 'Carta geológica da folha Itararé',\n",
       " 'Carta geológica da folha Cerro Azul',\n",
       " 'Carta geológica da folha Itaberaí',\n",
       " 'Carta geológica da folha Nazário',\n",
       " 'Carta geológica da folha Santa Teresinha de Goiás - UNB',\n",
       " 'Carta geológica da folha Campinorte - UNB',\n",
       " 'Carta geológica da folha Novo Planalto',\n",
       " 'Carta geológica da folha Porangatu - UNB',\n",
       " 'Carta geológica da folha Serra Pelada',\n",
       " 'Carta geológica da folha Apiaí',\n",
       " 'Carta geológica da folha Eldorado Paulista',\n",
       " 'Carta geológica da folha Mata Azul',\n",
       " 'Carta geológica da folha Belém 100.000',\n",
       " 'Carta geológica da folha Iguape',\n",
       " 'Carta geológica da folha Registro',\n",
       " 'Carta geológica da folha Monte Carmelo',\n",
       " 'Carta geológica da folha Coromandel',\n",
       " 'Carta geológica da folha Serra da Tiririca',\n",
       " 'Carta geológica da folha Guarda Mor',\n",
       " 'Carta geológica da folha Paracatu',\n",
       " 'Carta geológica da folha Cabeceira Grande',\n",
       " 'Carta geológica da folha Ribeirão Arrojado',\n",
       " 'Carta geológica da folha Cavalcante - UNB',\n",
       " 'Carta geológica da folha Imperatriz',\n",
       " 'Carta geológica da folha Alpinópolis - UERJ',\n",
       " 'Carta geológica da folha Lagamar',\n",
       " 'Carta geológica da folha Patos de Minas',\n",
       " 'Carta geológica da folha Arrenegado',\n",
       " 'Carta geológica da folha Unaí',\n",
       " 'Carta geológica da folha Serra da Aldeia',\n",
       " 'Carta geológica da folha Monte Alegre de Goiás - UNB',\n",
       " 'Carta geológica da folha Nova Roma - UNB',\n",
       " 'Carta geológica da folha Centro Novo do Maranhão',\n",
       " 'Carta geológica da folha Santa Luzia do Pará',\n",
       " 'Carta geológica da folha Cândido Mendes',\n",
       " 'Carta geológica da folha Campos do Jordão - UFRJ/FUJB',\n",
       " 'Carta geológica da folha Pouso Alegre - UFRJ/FUJB',\n",
       " 'Carta geológica da folha Itajubá - UFRJ',\n",
       " 'Carta geológica da folha Pindamonhangaba - UFRJ/FUJB',\n",
       " 'Carta geológica da folha Campo Belo - UFOP',\n",
       " 'Carta geológica da folha Machado - UFRJ/FUJB',\n",
       " 'Carta geológica da folha Alfenas - UFRJ/FUJB',\n",
       " 'Carta geológica da folha Varginha - UFRJ',\n",
       " 'Carta geológica da folha Nepomuceno - UFRJ',\n",
       " 'Carta geológica da folha Guapé - UERJ',\n",
       " 'Carta geológica da folha Piumhi - UFRJ',\n",
       " 'Carta geológica da folha Divinópolis',\n",
       " 'Carta geológica da folha Bom Despacho',\n",
       " 'Carta geológica da folha Abaeté',\n",
       " 'Carta geológica da folha Cristalândia do Piauí',\n",
       " 'Carta geológica da folha Angra dos Reis - UERJ',\n",
       " 'Carta geológica da folha Santa Rita de Jacutinga - UERJ',\n",
       " 'Carta geológica da folha Volta Redonda - UERJ',\n",
       " 'Carta geológica da folha Oliveira - UFOP',\n",
       " 'Carta geológica da folha Entre Rios de Minas',\n",
       " 'Carta geológica da folha Igarapé',\n",
       " 'Carta geológica da folha Pompéu',\n",
       " 'Carta geológica da folha Pará de Minas - UFMG',\n",
       " 'Carta geológica da folha Sete Lagoas',\n",
       " 'Carta geológica da folha Contagem',\n",
       " 'Carta geológica da folha Andrequice - UFMG',\n",
       " 'Carta geológica da folha Morro da Garça - UFMG',\n",
       " 'Carta geológica da folha Corinto - UFMG',\n",
       " 'Carta geológica da folha Curvelo - UFMG',\n",
       " 'Carta geológica da folha Serra do Cabral - UFMG',\n",
       " 'Carta geológica da folha Jequitaí - UFMG',\n",
       " 'Carta geológica da folha Santa Maria da Vitória',\n",
       " 'Carta geológica da folha Rio Paraim',\n",
       " 'Carta geológica da folha Parnaguá',\n",
       " 'Carta geológica da folha Curimatá',\n",
       " 'Carta geológica da folha Mansidão',\n",
       " 'Carta geológica da folha Baia de Guanabara - UERJ',\n",
       " 'Carta geológica da folha Barra do Piraí - UERJ',\n",
       " 'Carta geológica da folha Três Rios - UERJ',\n",
       " 'Carta geológica da folha Conselheiro Lafaiete',\n",
       " 'Carta geológica da folha Baldim',\n",
       " 'Carta geológica da folha Belo Horizonte',\n",
       " 'Carta geológica da folha Bocaiuva - UFMG',\n",
       " 'Carta geológica da folha Montes Claros - UFMG',\n",
       " 'Carta geológica da folha Ibotirama',\n",
       " 'Carta geológica da folha Barra',\n",
       " 'Carta geológica da folha Morpará',\n",
       " 'Carta geológica da folha Avelino Lopes',\n",
       " 'Carta geológica da folha Cabeças no Tempo',\n",
       " 'Carta geológica da folha Peixe',\n",
       " 'Carta geológica da folha Nova Friburgo - UERJ',\n",
       " 'Carta geológica da folha Cabo Frio - UERJ',\n",
       " 'Carta geológica da folha Casimiro de Abreu - UERJ',\n",
       " 'Carta geológica da folha Santo Antônio de Pádua - UERJ',\n",
       " 'Carta geológica da folha Viçosa - UFMG',\n",
       " 'Carta geológica da folha Carangola - UFMG',\n",
       " 'Carta geológica da folha Manhuaçú - UFMG',\n",
       " 'Carta geológica da folha Monte Azul - UFMG',\n",
       " 'Carta geológica da folha Taiobeiras - UFMG',\n",
       " 'Carta geológica da folha Caetité - UFBA',\n",
       " 'Carta geológica da folha Macaúbas',\n",
       " 'Carta geológica da folha Riacho de Santana',\n",
       " 'Carta geológica da folha Boquira',\n",
       " 'Carta geológica da folha Oliveira dos Brejinhos',\n",
       " 'Carta geológica da folha Ouricuri do Ouro',\n",
       " 'Carta geológica da folha Ipupiara',\n",
       " 'Carta geológica da folha Gentio do Ouro',\n",
       " 'Carta geológica da folha Barra do Mendes',\n",
       " 'Carta geológica da folha Central',\n",
       " 'Carta geológica da folha São Raimundo Nonato',\n",
       " 'Carta geológica da folha Remanso',\n",
       " 'Carta geológica da folha Bom Jardim',\n",
       " 'Carta geológica da folha Barragem',\n",
       " 'Carta geológica da folha Rio das Ostras - UERJ',\n",
       " 'Carta geológica da folha Macaé - UERJ',\n",
       " 'Carta geológica da folha Itaperuna - UERJ',\n",
       " 'Carta geológica da folha São Fidelis - UERJ',\n",
       " 'Carta geológica da folha Espera Feliz - UFMG',\n",
       " 'Carta geológica da folha Manhumirim - UFMG',\n",
       " 'Carta geológica da folha Itaobim',\n",
       " 'Carta geológica da folha Comercinho',\n",
       " 'Carta geológica da folha Jequitinhonha',\n",
       " 'Carta geológica da folha Joaima',\n",
       " 'Carta geológica da folha Condeúba',\n",
       " 'Carta geológica da folha Brumado',\n",
       " 'Carta geológica da folha Tanhaçu',\n",
       " 'Carta geológica da folha Rio de Contas',\n",
       " 'Carta geológica da folha Tombador',\n",
       " 'Carta geológica da folha Lagoa do Alegre',\n",
       " 'Carta geológica da folha Casa Nova',\n",
       " 'Carta geológica da folha Serra dos Brejinhos',\n",
       " 'Carta geológica da folha Riacho Queimadas',\n",
       " 'Carta geológica da folha Parambu',\n",
       " 'Carta geológica da folha Guarapari - UFES',\n",
       " 'Carta geológica da folha Vitória - UFES',\n",
       " 'Carta geológica da folha São Gabriel da Palha',\n",
       " 'Carta geológica da folha Aracruz - UFES',\n",
       " 'Carta geológica da folha Linhares',\n",
       " 'Carta geológica da folha Mantena - UFMG',\n",
       " 'Carta geológica da folha Ecoporanga - UFMG',\n",
       " 'Carta geológica da folha Nova Venécia - UFMG',\n",
       " 'Carta geológica da folha Montanha - UFMG',\n",
       " 'Carta geológica da folha Almenara',\n",
       " 'Carta geológica da folha Rio do Prado',\n",
       " 'Carta geológica da folha Manoel Vitorino',\n",
       " 'Carta geológica da folha Maracás',\n",
       " 'Carta geológica da folha Jequié',\n",
       " 'Carta geológica da folha Ruy Barbosa',\n",
       " 'Carta geológica da folha Itaberaba',\n",
       " 'Carta geológica da folha Piritiba',\n",
       " 'Carta geológica da folha Jacobina',\n",
       " 'Carta geológica da folha Mirangaba',\n",
       " 'Carta geológica da folha Caldeirão Grande',\n",
       " 'Carta geológica da folha Mundo Novo',\n",
       " 'Carta geológica da folha Brejão da Caatinga',\n",
       " 'Carta geológica da folha Campo Formoso',\n",
       " 'Carta geológica da folha Senhor do Bonfim',\n",
       " 'Carta geológica da folha Campo dos Cavalos',\n",
       " 'Carta geológica da folha Petrolina',\n",
       " 'Carta geológica da folha Itamontinga',\n",
       " 'Carta geológica da folha Juremal',\n",
       " 'Carta geológica da folha Cristália',\n",
       " 'Carta geológica da folha Cruz de Malta',\n",
       " 'Carta geológica da folha Fronteiras',\n",
       " 'Carta geológica da folha Ouricuri',\n",
       " 'Carta geológica da folha Pio IX - UFC',\n",
       " 'Carta geológica da folha Novo Oriente',\n",
       " 'Carta geológica da folha Crateus',\n",
       " 'Carta geológica da folha Independência',\n",
       " 'Carta geológica da folha Várzea do Boi',\n",
       " 'Carta geológica da folha Ipu - UFPA',\n",
       " 'Carta geológica da folha Ipueiras',\n",
       " 'Carta geológica da folha Granja -UFC',\n",
       " 'Carta geológica da folha Sobral - UFPA',\n",
       " 'Carta geológica da folha Irauçuba',\n",
       " 'Carta geológica da folha Regência - UFES',\n",
       " 'Carta geológica da folha Ipiau - UFBA',\n",
       " 'Carta geológica da folha Amargosa - UFBA',\n",
       " 'Carta geológica da folha Jaguaquara - UFBA',\n",
       " 'Carta geológica da folha Andorinha',\n",
       " 'Carta geológica da folha Monte Santo',\n",
       " 'Carta geológica da folha Barro Vermelho',\n",
       " 'Carta geológica da folha Pinhões',\n",
       " 'Carta geológica da folha Uauá',\n",
       " 'Carta geológica da folha Macururé',\n",
       " 'Carta geológica da folha Santa Maria da Boa Vista',\n",
       " 'Carta geológica da folha Parnamirim',\n",
       " 'Carta geológica da folha Chorrochó',\n",
       " 'Carta geológica da folha Salgueiro',\n",
       " 'Carta geológica da folha Bodocó',\n",
       " 'Carta geológica da folha Jardim',\n",
       " 'Carta geológica da folha Cedro',\n",
       " 'Carta geológica da folha Mombaça',\n",
       " 'Carta geológica da folha Boa Viagem - UFC',\n",
       " 'Carta geológica da folha Senador Pompeu',\n",
       " 'Carta geológica da folha Quixeramobim - UFC',\n",
       " 'Carta geológica da folha Taperuaba - UFC',\n",
       " 'Carta geológica da folha Itatira - UFC',\n",
       " 'Carta geológica da folha Quixadá 100.000',\n",
       " 'Carta geológica da folha Itapipoca',\n",
       " 'Carta geológica da folha Caimbé',\n",
       " 'Carta geológica da folha Ribeira do Pombal',\n",
       " 'Carta geológica da folha Jeremoabo',\n",
       " 'Carta geológica da folha Cícero Dantas',\n",
       " 'Carta geológica da folha Mirandiba',\n",
       " 'Carta geológica da folha Serra Talhada - UFPE',\n",
       " 'Carta geológica da folha Cajazeiras',\n",
       " 'Carta geológica da folha Pau dos Ferros - UFRN',\n",
       " 'Carta geológica da folha Banabuiú',\n",
       " 'Carta geológica da folha Jaguaretama - UFC',\n",
       " 'Carta geológica da folha Baturité',\n",
       " 'Carta geológica da folha Itapiúna',\n",
       " 'Carta geológica da folha Poço da Cruz - UFPE',\n",
       " 'Carta geológica da folha Sertânia',\n",
       " 'Carta geológica da folha Buíque',\n",
       " 'Carta geológica da folha Apodi - UFRN',\n",
       " 'Carta geológica da folha Mossoró - UFRN',\n",
       " 'Carta geológica da folha Pesqueira',\n",
       " 'Carta geológica da folha Venturosa - UFPE',\n",
       " 'Carta geológica da folha Belo Jardim - UFPE',\n",
       " 'Carta geológica da folha Garanhuns - UFPE',\n",
       " 'Carta geológica da folha Juazeirinho',\n",
       " 'Carta geológica da folha Santa Cruz do Capibaribe',\n",
       " 'Carta geológica da folha Boqueirão',\n",
       " 'Carta geológica da folha Currais Novos',\n",
       " 'Carta geológica da folha Jardim do Seridó - UFRN',\n",
       " 'Carta geológica e de recursos minerais da folha Santa Cruz',\n",
       " 'Carta geológica da folha Macau - UFRN',\n",
       " 'Carta geológica da folha Jandaira - UFRN',\n",
       " 'Carta geológica e de recursos minerais da folha Lajes',\n",
       " 'Carta geológica da folha Surubim - UFPE',\n",
       " 'Carta geológica da folha Campina Grande',\n",
       " 'Carta geológica da folha Sapé - UFPE',\n",
       " 'Carta geológica da folha São José do Campestre-UnB',\n",
       " 'Carta geológica da folha Solânea - UFPE',\n",
       " 'Carta geológica da folha São José do Mipibu',\n",
       " 'Carta geológica da folha Guarabira - UFPE',\n",
       " 'Carta geológica da folha Cabedelo - UFPE',\n",
       " 'Carta geológica da folha João Camara - UnB',\n",
       " 'Carta geológica da folha Natal - UFRN',\n",
       " 'Carta geológica da folha Touros - UFRN',\n",
       " 'Carta geológica da folha Itamaracá - UFPE',\n",
       " 'Carta geológica da folha Caiana']"
      ]
     },
     "execution_count": 544,
     "metadata": {},
     "output_type": "execute_result"
    }
   ],
   "source": [
    "lista_mapa = list(l_100k.MAPA.unique())\n",
    "lista_mapa"
   ]
  },
  {
   "cell_type": "code",
   "execution_count": 546,
   "metadata": {},
   "outputs": [],
   "source": [
    "lista_nome=[]\n",
    "for mapa in lista_mapa:\n",
    "    trash=0\n",
    "    Mapa=[]\n",
    "    for letra in mapa:\n",
    "        if trash<25:\n",
    "            trash+=1\n",
    "        else:\n",
    "            Mapa+=letra\n",
    "    lista_nome += [''.join(Mapa)]"
   ]
  },
  {
   "cell_type": "code",
   "execution_count": 547,
   "metadata": {},
   "outputs": [
    {
     "data": {
      "text/plain": [
       "311"
      ]
     },
     "execution_count": 547,
     "metadata": {},
     "output_type": "execute_result"
    }
   ],
   "source": [
    "len(lista_nome)"
   ]
  },
  {
   "cell_type": "code",
   "execution_count": 549,
   "metadata": {},
   "outputs": [
    {
     "name": "stdout",
     "output_type": "stream",
     "text": [
      "Paulo Saldanha\n",
      "Rio Tanaru - SD.20-X-B-IV\n",
      "Roncador\n",
      "Rio Pardo\n",
      "Pimenta Bueno\n",
      "Serra da Providência\n",
      "Ji Paraná\n",
      "Vila Nova\n",
      "Vila de Tepequém\n",
      "Betânia - UFMT\n",
      "Rio Escondido\n",
      "Ilha do Porto\n",
      "Porto Triunfo SD.20-X-B-V\n",
      "NA-20-Z-D-III\n",
      "Novo Paraíso\n",
      "Santa Rita - UFMT\n",
      "Santa Barbara - UFMT\n",
      "Serra da Borda\n",
      "Rio Novo\n",
      "Rio Pindaituba - UFMT\n",
      "Vila Oeste\n",
      "Jauru - UFMT\n",
      "Rio Branco - UFMT\n",
      "Ilha Porto Escondido\n",
      "Colônia São Lourenço\n",
      "Fazenda Santa Otília\n",
      "Aldeia Tomázia\n",
      "Rio Perdido\n",
      "Fazenda Margarida\n",
      "Vila Campão\n",
      "São Domingos\n",
      "Rio Ratão\n",
      "Cuiú-Cuiú\n",
      "Cachoeira Seca\n",
      "Vila Planalto\n",
      "Ilha Mambuai\n",
      "Uruá\n",
      "Barão de Melgaço - UFMT\n",
      "Rio Nhandu\n",
      "Jardim do Ouro\n",
      "Igrejinha - UNISINOS\n",
      "Bagé\n",
      "Aceguá\n",
      "Lagoa da Meia Lua\n",
      "Brasilândia\n",
      "Cacimba\n",
      "Paranatinga\n",
      "Rio Braço Sul\n",
      "Serra do Cachimbo\n",
      "Curral de Pedras\n",
      "Arroio Grande\n",
      "Jaguarão\n",
      "Passo São Diogo\n",
      "Hulha Negra\n",
      "Pinheiro Machado\n",
      "Lavras do Sul\n",
      "Santa Maria - RS\n",
      "Sobradinho\n",
      "Agudo\n",
      "Três Passos\n",
      "Frederico Westphalen\n",
      "Matarazzo\n",
      "Pelotas\n",
      "Pedro Osório\n",
      "Placa Nativa\n",
      "Nova Xavantina\n",
      "Rio Bacajá - UFPR\n",
      "Gravataí - UFRGS\n",
      "Sanclerlândia\n",
      "Rio Inajá\n",
      "São João Batista\n",
      "Marajoara\n",
      "Caldeirão\n",
      "Itararé\n",
      "Cerro Azul\n",
      "Itaberaí\n",
      "Nazário\n",
      "Santa Teresinha de Goiás - UNB\n",
      "Campinorte - UNB\n",
      "Novo Planalto\n",
      "Porangatu - UNB\n",
      "Serra Pelada\n",
      "Apiaí\n",
      "Eldorado Paulista\n",
      "Mata Azul\n",
      "Belém 100.000\n",
      "Iguape\n",
      "Registro\n",
      "Monte Carmelo\n",
      "Coromandel\n",
      "Serra da Tiririca\n",
      "Guarda Mor\n",
      "Paracatu\n",
      "Cabeceira Grande\n",
      "Ribeirão Arrojado\n",
      "Cavalcante - UNB\n",
      "Imperatriz\n",
      "Alpinópolis - UERJ\n",
      "Lagamar\n",
      "Patos de Minas\n",
      "Arrenegado\n",
      "Unaí\n",
      "Serra da Aldeia\n",
      "Monte Alegre de Goiás - UNB\n",
      "Nova Roma - UNB\n",
      "Centro Novo do Maranhão\n",
      "Santa Luzia do Pará\n",
      "Cândido Mendes\n",
      "Campos do Jordão - UFRJ/FUJB\n",
      "Pouso Alegre - UFRJ/FUJB\n",
      "Itajubá - UFRJ\n",
      "Pindamonhangaba - UFRJ/FUJB\n",
      "Campo Belo - UFOP\n",
      "Machado - UFRJ/FUJB\n",
      "Alfenas - UFRJ/FUJB\n",
      "Varginha - UFRJ\n",
      "Nepomuceno - UFRJ\n",
      "Guapé - UERJ\n",
      "Piumhi - UFRJ\n",
      "Divinópolis\n",
      "Bom Despacho\n",
      "Abaeté\n",
      "Cristalândia do Piauí\n",
      "Angra dos Reis - UERJ\n",
      "Santa Rita de Jacutinga - UERJ\n",
      "Volta Redonda - UERJ\n",
      "Oliveira - UFOP\n",
      "Entre Rios de Minas\n",
      "Igarapé\n",
      "Pompéu\n",
      "Pará de Minas - UFMG\n",
      "Sete Lagoas\n",
      "Contagem\n",
      "Andrequice - UFMG\n",
      "Morro da Garça - UFMG\n",
      "Corinto - UFMG\n",
      "Curvelo - UFMG\n",
      "Serra do Cabral - UFMG\n",
      "Jequitaí - UFMG\n",
      "Santa Maria da Vitória\n",
      "Rio Paraim\n",
      "Parnaguá\n",
      "Curimatá\n",
      "Mansidão\n",
      "Baia de Guanabara - UERJ\n",
      "Barra do Piraí - UERJ\n",
      "Três Rios - UERJ\n",
      "Conselheiro Lafaiete\n",
      "Baldim\n",
      "Belo Horizonte\n",
      "Bocaiuva - UFMG\n",
      "Montes Claros - UFMG\n",
      "Ibotirama\n",
      "Barra\n",
      "Morpará\n",
      "Avelino Lopes\n",
      "Cabeças no Tempo\n",
      "Peixe\n",
      "Nova Friburgo - UERJ\n",
      "Cabo Frio - UERJ\n",
      "Casimiro de Abreu - UERJ\n",
      "Santo Antônio de Pádua - UERJ\n",
      "Viçosa - UFMG\n",
      "Carangola - UFMG\n",
      "Manhuaçú - UFMG\n",
      "Monte Azul - UFMG\n",
      "Taiobeiras - UFMG\n",
      "Caetité - UFBA\n",
      "Macaúbas\n",
      "Riacho de Santana\n",
      "Boquira\n",
      "Oliveira dos Brejinhos\n",
      "Ouricuri do Ouro\n",
      "Ipupiara\n",
      "Gentio do Ouro\n",
      "Barra do Mendes\n",
      "Central\n",
      "São Raimundo Nonato\n",
      "Remanso\n",
      "Bom Jardim\n",
      "Barragem\n",
      "Rio das Ostras - UERJ\n",
      "Macaé - UERJ\n",
      "Itaperuna - UERJ\n",
      "São Fidelis - UERJ\n",
      "Espera Feliz - UFMG\n",
      "Manhumirim - UFMG\n",
      "Itaobim\n",
      "Comercinho\n",
      "Jequitinhonha\n",
      "Joaima\n",
      "Condeúba\n",
      "Brumado\n",
      "Tanhaçu\n",
      "Rio de Contas\n",
      "Tombador\n",
      "Lagoa do Alegre\n",
      "Casa Nova\n",
      "Serra dos Brejinhos\n",
      "Riacho Queimadas\n",
      "Parambu\n",
      "Guarapari - UFES\n",
      "Vitória - UFES\n",
      "São Gabriel da Palha\n",
      "Aracruz - UFES\n",
      "Linhares\n",
      "Mantena - UFMG\n",
      "Ecoporanga - UFMG\n",
      "Nova Venécia - UFMG\n",
      "Montanha - UFMG\n",
      "Almenara\n",
      "Rio do Prado\n",
      "Manoel Vitorino\n",
      "Maracás\n",
      "Jequié\n",
      "Ruy Barbosa\n",
      "Itaberaba\n",
      "Piritiba\n",
      "Jacobina\n",
      "Mirangaba\n",
      "Caldeirão Grande\n",
      "Mundo Novo\n",
      "Brejão da Caatinga\n",
      "Campo Formoso\n",
      "Senhor do Bonfim\n",
      "Campo dos Cavalos\n",
      "Petrolina\n",
      "Itamontinga\n",
      "Juremal\n",
      "Cristália\n",
      "Cruz de Malta\n",
      "Fronteiras\n",
      "Ouricuri\n",
      "Pio IX - UFC\n",
      "Novo Oriente\n",
      "Crateus\n",
      "Independência\n",
      "Várzea do Boi\n",
      "Ipu - UFPA\n",
      "Ipueiras\n",
      "Granja -UFC\n",
      "Sobral - UFPA\n",
      "Irauçuba\n",
      "Regência - UFES\n",
      "Ipiau - UFBA\n",
      "Amargosa - UFBA\n",
      "Jaguaquara - UFBA\n",
      "Andorinha\n",
      "Monte Santo\n",
      "Barro Vermelho\n",
      "Pinhões\n",
      "Uauá\n",
      "Macururé\n",
      "Santa Maria da Boa Vista\n",
      "Parnamirim\n",
      "Chorrochó\n",
      "Salgueiro\n",
      "Bodocó\n",
      "Jardim\n",
      "Cedro\n",
      "Mombaça\n",
      "Boa Viagem - UFC\n",
      "Senador Pompeu\n",
      "Quixeramobim - UFC\n",
      "Taperuaba - UFC\n",
      "Itatira - UFC\n",
      "Quixadá 100.000\n",
      "Itapipoca\n",
      "Caimbé\n",
      "Ribeira do Pombal\n",
      "Jeremoabo\n",
      "Cícero Dantas\n",
      "Mirandiba\n",
      "Serra Talhada - UFPE\n",
      "Cajazeiras\n",
      "Pau dos Ferros - UFRN\n",
      "Banabuiú\n",
      "Jaguaretama - UFC\n",
      "Baturité\n",
      "Itapiúna\n",
      "Poço da Cruz - UFPE\n",
      "Sertânia\n",
      "Buíque\n",
      "Apodi - UFRN\n",
      "Mossoró - UFRN\n",
      "Pesqueira\n",
      "Venturosa - UFPE\n",
      "Belo Jardim - UFPE\n",
      "Garanhuns - UFPE\n",
      "Juazeirinho\n",
      "Santa Cruz do Capibaribe\n",
      "Boqueirão\n",
      "Currais Novos\n",
      "Jardim do Seridó - UFRN\n",
      "rsos minerais da folha Santa Cruz\n",
      "Macau - UFRN\n",
      "Jandaira - UFRN\n",
      "rsos minerais da folha Lajes\n",
      "Surubim - UFPE\n",
      "Campina Grande\n",
      "Sapé - UFPE\n",
      "São José do Campestre-UnB\n",
      "Solânea - UFPE\n",
      "São José do Mipibu\n",
      "Guarabira - UFPE\n",
      "Cabedelo - UFPE\n",
      "João Camara - UnB\n",
      "Natal - UFRN\n",
      "Touros - UFRN\n",
      "Itamaracá - UFPE\n",
      "Caiana\n"
     ]
    }
   ],
   "source": [
    "folha=lista_nome\n",
    "indice=0\n",
    "for i in lista_nome:\n",
    "    print(i)\n",
    "    folha[indice] = l_100k[l_100k['MAPA'].str.contains(i)].dissolve('MAPA')\n",
    "    indice+=1"
   ]
  },
  {
   "cell_type": "code",
   "execution_count": 550,
   "metadata": {},
   "outputs": [
    {
     "data": {
      "text/plain": [
       "311"
      ]
     },
     "execution_count": 550,
     "metadata": {},
     "output_type": "execute_result"
    }
   ],
   "source": [
    "len(folha)"
   ]
  },
  {
   "cell_type": "code",
   "execution_count": null,
   "metadata": {},
   "outputs": [],
   "source": []
  }
 ],
 "metadata": {
  "interpreter": {
   "hash": "2bc076d9378ac5ac660ba4f6a46900d2ea3732140aaa213526ceb6851acbc3f5"
  },
  "kernelspec": {
   "display_name": "Python 3.8.2 64-bit ('mappingBot': conda)",
   "name": "python3"
  },
  "language_info": {
   "name": "python",
   "version": ""
  },
  "orig_nbformat": 4
 },
 "nbformat": 4,
 "nbformat_minor": 2
}