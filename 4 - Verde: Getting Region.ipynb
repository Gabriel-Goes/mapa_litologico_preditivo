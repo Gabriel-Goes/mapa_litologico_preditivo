{
 "cells": [
  {
   "cell_type": "code",
   "execution_count": 11,
   "metadata": {},
   "outputs": [],
   "source": [
    "import verde as vd\n",
    "import pandas as pd\n",
    "import geopandas as gpd\n",
    "import matplotlib.pyplot as plt\n",
    "#import pyproj\n",
    "\n",
    "from shapely import geometry\n",
    "\n",
    "\n",
    "%matplotlib widget\n",
    "\n",
    "gdb = '/home/ggrl/geodatabase/'"
   ]
  },
  {
   "cell_type": "code",
   "execution_count": 19,
   "metadata": {},
   "outputs": [],
   "source": [
    "from sources.importar import geometrias\n",
    "from sources.dicionario_cartas import select_area\n",
    "from sources.dicionario_cartas import cartas\n",
    "\n",
    "from sources.descricao import descricao"
   ]
  },
  {
   "cell_type": "code",
   "execution_count": 13,
   "metadata": {},
   "outputs": [],
   "source": [
    "gama_line_1105 = geometrias(geofisico='gama_line_1105')"
   ]
  },
  {
   "cell_type": "code",
   "execution_count": 14,
   "metadata": {},
   "outputs": [
    {
     "data": {
      "text/html": [
       "<div>\n",
       "<style scoped>\n",
       "    .dataframe tbody tr th:only-of-type {\n",
       "        vertical-align: middle;\n",
       "    }\n",
       "\n",
       "    .dataframe tbody tr th {\n",
       "        vertical-align: top;\n",
       "    }\n",
       "\n",
       "    .dataframe thead th {\n",
       "        text-align: right;\n",
       "    }\n",
       "</style>\n",
       "<table border=\"1\" class=\"dataframe\">\n",
       "  <thead>\n",
       "    <tr style=\"text-align: right;\">\n",
       "      <th></th>\n",
       "      <th>KPERC</th>\n",
       "      <th>eU</th>\n",
       "      <th>eTH</th>\n",
       "      <th>UTHRAZAO</th>\n",
       "      <th>X</th>\n",
       "      <th>Y</th>\n",
       "      <th>UKRAZAO</th>\n",
       "      <th>MDT</th>\n",
       "      <th>THKRAZAO</th>\n",
       "      <th>CTCOR</th>\n",
       "      <th>LATITUDE</th>\n",
       "      <th>LONGITUDE</th>\n",
       "    </tr>\n",
       "  </thead>\n",
       "  <tbody>\n",
       "    <tr>\n",
       "      <th>0</th>\n",
       "      <td>1.02</td>\n",
       "      <td>1.11</td>\n",
       "      <td>13.00</td>\n",
       "      <td>0.1</td>\n",
       "      <td>292878.15</td>\n",
       "      <td>7624109.00</td>\n",
       "      <td>0.9</td>\n",
       "      <td>600.12</td>\n",
       "      <td>9.86</td>\n",
       "      <td>23.0</td>\n",
       "      <td>-21.473638</td>\n",
       "      <td>-46.998997</td>\n",
       "    </tr>\n",
       "    <tr>\n",
       "      <th>1</th>\n",
       "      <td>1.47</td>\n",
       "      <td>1.09</td>\n",
       "      <td>13.53</td>\n",
       "      <td>0.1</td>\n",
       "      <td>292876.59</td>\n",
       "      <td>7624190.38</td>\n",
       "      <td>0.8</td>\n",
       "      <td>599.47</td>\n",
       "      <td>9.77</td>\n",
       "      <td>24.2</td>\n",
       "      <td>-21.472903</td>\n",
       "      <td>-46.999002</td>\n",
       "    </tr>\n",
       "    <tr>\n",
       "      <th>2</th>\n",
       "      <td>1.82</td>\n",
       "      <td>1.15</td>\n",
       "      <td>14.97</td>\n",
       "      <td>0.1</td>\n",
       "      <td>292875.03</td>\n",
       "      <td>7624271.94</td>\n",
       "      <td>0.8</td>\n",
       "      <td>600.63</td>\n",
       "      <td>9.81</td>\n",
       "      <td>25.3</td>\n",
       "      <td>-21.472167</td>\n",
       "      <td>-46.999007</td>\n",
       "    </tr>\n",
       "    <tr>\n",
       "      <th>3</th>\n",
       "      <td>1.52</td>\n",
       "      <td>1.22</td>\n",
       "      <td>14.94</td>\n",
       "      <td>0.1</td>\n",
       "      <td>292874.16</td>\n",
       "      <td>7624353.33</td>\n",
       "      <td>0.7</td>\n",
       "      <td>602.72</td>\n",
       "      <td>9.96</td>\n",
       "      <td>25.5</td>\n",
       "      <td>-21.471432</td>\n",
       "      <td>-46.999005</td>\n",
       "    </tr>\n",
       "    <tr>\n",
       "      <th>4</th>\n",
       "      <td>1.34</td>\n",
       "      <td>1.15</td>\n",
       "      <td>13.11</td>\n",
       "      <td>0.1</td>\n",
       "      <td>292873.81</td>\n",
       "      <td>7624434.72</td>\n",
       "      <td>0.7</td>\n",
       "      <td>602.21</td>\n",
       "      <td>10.18</td>\n",
       "      <td>24.5</td>\n",
       "      <td>-21.470697</td>\n",
       "      <td>-46.998998</td>\n",
       "    </tr>\n",
       "  </tbody>\n",
       "</table>\n",
       "</div>"
      ],
      "text/plain": [
       "   KPERC    eU    eTH  UTHRAZAO          X           Y  UKRAZAO     MDT  \\\n",
       "0   1.02  1.11  13.00       0.1  292878.15  7624109.00      0.9  600.12   \n",
       "1   1.47  1.09  13.53       0.1  292876.59  7624190.38      0.8  599.47   \n",
       "2   1.82  1.15  14.97       0.1  292875.03  7624271.94      0.8  600.63   \n",
       "3   1.52  1.22  14.94       0.1  292874.16  7624353.33      0.7  602.72   \n",
       "4   1.34  1.15  13.11       0.1  292873.81  7624434.72      0.7  602.21   \n",
       "\n",
       "   THKRAZAO  CTCOR   LATITUDE  LONGITUDE  \n",
       "0      9.86   23.0 -21.473638 -46.998997  \n",
       "1      9.77   24.2 -21.472903 -46.999002  \n",
       "2      9.81   25.3 -21.472167 -46.999007  \n",
       "3      9.96   25.5 -21.471432 -46.999005  \n",
       "4     10.18   24.5 -21.470697 -46.998998  "
      ]
     },
     "execution_count": 14,
     "metadata": {},
     "output_type": "execute_result"
    }
   ],
   "source": [
    "gama_line_1105.head()"
   ]
  },
  {
   "cell_type": "code",
   "execution_count": null,
   "metadata": {},
   "outputs": [],
   "source": [
    "region = "
   ]
  },
  {
   "cell_type": "code",
   "execution_count": 15,
   "metadata": {},
   "outputs": [],
   "source": [
    "gama_SC23_Z_A_IV = gama_line_1105[vd.inside((gama_line_1105.X, gama_line_1105.Y), region = region)]"
   ]
  },
  {
   "cell_type": "code",
   "execution_count": null,
   "metadata": {},
   "outputs": [
    {
     "data": {
      "application/vnd.jupyter.widget-view+json": {
       "model_id": "04278ed58a0343e4b1d8a7f16ee8e835",
       "version_major": 2,
       "version_minor": 0
      },
      "text/plain": [
       "Canvas(toolbar=Toolbar(toolitems=[('Home', 'Reset original view', 'home', 'home'), ('Back', 'Back to previous …"
      ]
     },
     "metadata": {},
     "output_type": "display_data"
    },
    {
     "data": {
      "text/plain": [
       "(497270.8025, 557429.7475, 8781209.501, 8842071.159)"
      ]
     },
     "execution_count": 10,
     "metadata": {},
     "output_type": "execute_result"
    }
   ],
   "source": [
    "plt.figure(figsize=(8,8))\n",
    "plt.scatter(gama_SC23_Z_A_IV.X,gama_SC23_Z_A_IV.Y,\n",
    "            c=gama_SC23_Z_A_IV.eth,\n",
    "            s=5)\n",
    "plt.colorbar()\n",
    "plt.axis('scaled')"
   ]
  },
  {
   "cell_type": "code",
   "execution_count": null,
   "metadata": {},
   "outputs": [],
   "source": [
    "# CRIANDO DICIONARIO DE FOLHAS CARTOGRAFICAS PARA CARA TIPO DE DADO\n",
    "def get_region(escala,id,geof):\n",
    "    geof_dataframe = geometrias(geof)                                          # importa dado bruto\n",
    "    \n",
    "    # LISTANDO REGIOES DAS FOLHAS DE CARTAS\n",
    "    lista_cartas, dic_cartas,malha_cartog_gdf_select = cartas(escala,id)       # importa malha cartografica\n",
    "        \n",
    "    # DESCREVENDO ATRIBUTOS ESTATISTICOS DOS DADOS    \n",
    "    metadatadict,        \\\n",
    "    lista_atributo_geof, \\\n",
    "    lista_atributo_geog, \\\n",
    "    lista_atributo_proj, \\\n",
    "    geof_df_describe     = descricao(geof_dataframe)                           # lista atributos e descreve metadados e estatisticas do dado\n",
    "\n",
    "    # ITERANDO ENTRE AS FOLHAS DE CARTAS\n",
    "    print(\"\")\n",
    "    print(f\"# --- Início da iteração entre as folhas cartográficas #\")\n",
    "\n",
    "    for index, row in malha_cartog_gdf_select.iterrows():\n",
    "        # RECORTANDO DATA PARA CADA FOLHA COM ['region.proj']\n",
    "        data = geof_dataframe[vd.inside((geof_dataframe.X, geof_dataframe.Y), region = row.region_proj)]\n",
    "        #del geof_dataframe\n",
    "        # GERANDO TUPLA DE COORDENADAS\n",
    "        if data.empty:\n",
    "            None\n",
    "            \n",
    "        elif len(data) < 1000:\n",
    "            None\n",
    "            print(f\"A folha {index} possui apenas '{len(data)}' pontos coletados que devem ser adicionados a folha mais próxima\")\n",
    "            \n",
    "        else:\n",
    "            print(f\"# Folha de código: {index}\")\n",
    "            print(f\" Atualizando dados brutos em dic_cartas['raw_data']\")\n",
    "            x = {index:data}\n",
    "            dic_cartas['raw_data'].update(x) \n",
    "            print(f\" com {len(data)} pontos\")\n",
    "\n",
    "    dic_meta={'Lista_id':lista_cartas,\n",
    "              'Lista_at_geof':lista_atributo_geof,\n",
    "              'Lista_at_geog':lista_atributo_geog,\n",
    "              'Lista_at_proj':lista_atributo_proj}\n",
    "\n",
    "    return dic_cartas,dic_meta,malha_cartog_gdf_select,geof_df_describe\n",
    "\n",
    "\n",
    "# data_list[Dicionario de Cartas['region',                 #0  DICIONARIO COM DADOS PRINCIPAIS\n",
    "#                                'region_proj',\n",
    "#                                'raw_data',\n",
    "#                                'interpolado',\n",
    "#                                'scores',\n",
    "#                                'lito_geof',\n",
    "#                                'mean_score'],\n",
    "\n",
    "\n",
    "\n",
    "#           Malha Cartografica Selecionada['geometry',     #2 GEODATAFRAME DA MALHA CARTOGRAFICA\n",
    "#                                          'region',\n",
    "#                                          'region_proj']\n",
    "\n",
    "#           Descricao Dados Brutos['KPERC',                #3 DATAFRAME DESCRICAO ESTATISTICA DADOS BRUTOS\n",
    "#                                  'eU',\n",
    "#                                  'eTH',\n",
    "#                                  'UTHRAZAO',\n",
    "#                                  'UKRAZAO',\n",
    "#                                  'MDT',\n",
    "#                                  'THKRAZAO',\n",
    "#                                  'CTCOR']           \n",
    "#           ]\n",
    "\n",
    "######################################################################################################################################"
   ]
  },
  {
   "cell_type": "code",
   "execution_count": null,
   "metadata": {},
   "outputs": [
    {
     "name": "stdout",
     "output_type": "stream",
     "text": [
      "importando dados geofisicos\n",
      "# --- Iniciando seleção de área de estudo\n",
      "1 folha cartográfica selecionada\n",
      "\n",
      "Listando atributos dos dados geofisicos\n",
      "# --- # Listagem de dados do aerolevantamento:  \n",
      "Lista de atributos geofísicos = ['MDT', 'KPERC', 'eU', 'eth', 'CTCOR', 'THKRAZAO', 'UKRAZAO', 'UTHRAZAO']\n",
      "lista de atributos geograficos = ['LONGITUDE', 'LATITUDE']\n",
      "lista de atributos projetados = ['X', 'Y']\n"
     ]
    },
    {
     "name": "stderr",
     "output_type": "stream",
     "text": [
      "/home/ggrl/anaconda3/envs/geologist_bot/lib/python3.8/site-packages/geopandas/geodataframe.py:1322: SettingWithCopyWarning: \n",
      "A value is trying to be set on a copy of a slice from a DataFrame.\n",
      "Try using .loc[row_indexer,col_indexer] = value instead\n",
      "\n",
      "See the caveats in the documentation: https://pandas.pydata.org/pandas-docs/stable/user_guide/indexing.html#returning-a-view-versus-a-copy\n",
      "  super(GeoDataFrame, self).__setitem__(key, value)\n"
     ]
    },
    {
     "name": "stdout",
     "output_type": "stream",
     "text": [
      "\n",
      "# --- Início da iteração entre as folhas cartográficas #\n",
      "# Folha de código: SC23_Z_A_IV\n",
      " Atualizando dados brutos em dic_cartas['raw_data']\n",
      " com 81859 pontos\n"
     ]
    }
   ],
   "source": [
    "a = get_region('100k','SC23_Z_A_IV','gama_1089')"
   ]
  }
 ],
 "metadata": {
  "interpreter": {
   "hash": "d412e3d091f5968552f8aa760bc8da416522b5884f97efbbec2149c97127b032"
  },
  "kernelspec": {
   "display_name": "Python 3.8.11 64-bit ('geologist_bot': conda)",
   "name": "python3"
  },
  "language_info": {
   "codemirror_mode": {
    "name": "ipython",
    "version": 3
   },
   "file_extension": ".py",
   "mimetype": "text/x-python",
   "name": "python",
   "nbconvert_exporter": "python",
   "pygments_lexer": "ipython3",
   "version": "3.8.11"
  }
 },
 "nbformat": 4,
 "nbformat_minor": 4
}
