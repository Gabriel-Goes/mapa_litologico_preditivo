{
 "cells": [
  {
   "cell_type": "code",
   "execution_count": 5,
   "source": [
    "import pandas as pd\n",
    "import matplotlib.pyplot as plt\n",
    "%matplotlib widget"
   ],
   "outputs": [],
   "metadata": {}
  },
  {
   "cell_type": "markdown",
   "source": [
    "### Definimos a raiz do banco de dados, local onde estão armazenados os arquivos com os dados aerogefísico e . 'C:/geodatabase' ; '/home/ggrl/geadatabase/' ; "
   ],
   "metadata": {}
  },
  {
   "cell_type": "code",
   "execution_count": 4,
   "source": [
    "gdb = '/home/ggrl/geodatabase/'"
   ],
   "outputs": [],
   "metadata": {}
  },
  {
   "cell_type": "code",
   "execution_count": 3,
   "source": [
    "import my_funcs as f                            # \"/sources/my_funcs.py\" - arquivo texto com os codigos em python desenvolvidos durante este projeto de pesquisa.\n",
    "                                                # Algumas funções definidas neste arquivo texto serão utilizadas e descritas neste arquivo '5 - preprocessamento.ipynb'"
   ],
   "outputs": [],
   "metadata": {}
  },
  {
   "cell_type": "markdown",
   "source": [
    "####  select_area(escala, id_folha)\n",
    "#####       - seleção da área de estudo a partir da malha cartográfica em escalas pré-definidas:\n",
    "                                                - '1:1.000.000' = '1kk'\n",
    "                                                -   '1:100.000' = '100k'\n",
    "                                                -    '1:50.000' = '50k'\n",
    "                                                -    '1:25.000' = '25k'\n",
    "\n",
    "#####       - e a identificação da folha a partid da articulção sistemática das folhas de cartas. f.nomeador_malha()\n",
    "                                                - fid: 25162\n",
    "                                                - id_folha: SB24_Z_B_II_3_SW"
   ],
   "metadata": {}
  },
  {
   "cell_type": "code",
   "execution_count": 10,
   "source": [
    "SF23_Y_B_I_50k = f.select_area('50k','SF23_Y_B_I_')   "
   ],
   "outputs": [],
   "metadata": {}
  },
  {
   "cell_type": "code",
   "execution_count": 11,
   "source": [
    "SF23_Y_B_I_50k"
   ],
   "outputs": [
    {
     "output_type": "execute_result",
     "data": {
      "text/plain": [
       "          id_folha                                           geometry  \\\n",
       "8987  SF23_Y_B_I_1  POLYGON ((-46.50000 -22.00000, -46.25000 -22.0...   \n",
       "8988  SF23_Y_B_I_3  POLYGON ((-46.50000 -22.25000, -46.25000 -22.2...   \n",
       "9081  SF23_Y_B_I_2  POLYGON ((-46.25000 -22.00000, -46.00000 -22.0...   \n",
       "9082  SF23_Y_B_I_4  POLYGON ((-46.25000 -22.25000, -46.00000 -22.2...   \n",
       "\n",
       "                              region  \n",
       "8987  (-46.5, -46.25, -22.25, -22.0)  \n",
       "8988  (-46.5, -46.25, -22.5, -22.25)  \n",
       "9081  (-46.25, -46.0, -22.25, -22.0)  \n",
       "9082  (-46.25, -46.0, -22.5, -22.25)  "
      ],
      "text/html": [
       "<div>\n",
       "<style scoped>\n",
       "    .dataframe tbody tr th:only-of-type {\n",
       "        vertical-align: middle;\n",
       "    }\n",
       "\n",
       "    .dataframe tbody tr th {\n",
       "        vertical-align: top;\n",
       "    }\n",
       "\n",
       "    .dataframe thead th {\n",
       "        text-align: right;\n",
       "    }\n",
       "</style>\n",
       "<table border=\"1\" class=\"dataframe\">\n",
       "  <thead>\n",
       "    <tr style=\"text-align: right;\">\n",
       "      <th></th>\n",
       "      <th>id_folha</th>\n",
       "      <th>geometry</th>\n",
       "      <th>region</th>\n",
       "    </tr>\n",
       "  </thead>\n",
       "  <tbody>\n",
       "    <tr>\n",
       "      <th>8987</th>\n",
       "      <td>SF23_Y_B_I_1</td>\n",
       "      <td>POLYGON ((-46.50000 -22.00000, -46.25000 -22.0...</td>\n",
       "      <td>(-46.5, -46.25, -22.25, -22.0)</td>\n",
       "    </tr>\n",
       "    <tr>\n",
       "      <th>8988</th>\n",
       "      <td>SF23_Y_B_I_3</td>\n",
       "      <td>POLYGON ((-46.50000 -22.25000, -46.25000 -22.2...</td>\n",
       "      <td>(-46.5, -46.25, -22.5, -22.25)</td>\n",
       "    </tr>\n",
       "    <tr>\n",
       "      <th>9081</th>\n",
       "      <td>SF23_Y_B_I_2</td>\n",
       "      <td>POLYGON ((-46.25000 -22.00000, -46.00000 -22.0...</td>\n",
       "      <td>(-46.25, -46.0, -22.25, -22.0)</td>\n",
       "    </tr>\n",
       "    <tr>\n",
       "      <th>9082</th>\n",
       "      <td>SF23_Y_B_I_4</td>\n",
       "      <td>POLYGON ((-46.25000 -22.25000, -46.00000 -22.2...</td>\n",
       "      <td>(-46.25, -46.0, -22.5, -22.25)</td>\n",
       "    </tr>\n",
       "  </tbody>\n",
       "</table>\n",
       "</div>"
      ]
     },
     "metadata": {},
     "execution_count": 11
    }
   ],
   "metadata": {}
  },
  {
   "cell_type": "code",
   "execution_count": 12,
   "source": [
    "l_1kk = f.importar('l_1kk')"
   ],
   "outputs": [],
   "metadata": {}
  },
  {
   "cell_type": "code",
   "execution_count": 13,
   "source": [
    "base = l_1kk.plot('SIGLA')"
   ],
   "outputs": [
    {
     "output_type": "display_data",
     "data": {
      "text/plain": [
       "Canvas(toolbar=Toolbar(toolitems=[('Home', 'Reset original view', 'home', 'home'), ('Back', 'Back to previous …"
      ],
      "application/vnd.jupyter.widget-view+json": {
       "version_major": 2,
       "version_minor": 0,
       "model_id": "f675868018c341959d9014a0b1e43fa7"
      }
     },
     "metadata": {}
    }
   ],
   "metadata": {}
  },
  {
   "cell_type": "code",
   "execution_count": 14,
   "source": [
    "SF23_Y_B_I_50k.boundary.plot(ax=base,color='black')"
   ],
   "outputs": [
    {
     "output_type": "execute_result",
     "data": {
      "text/plain": [
       "<AxesSubplot:>"
      ]
     },
     "metadata": {},
     "execution_count": 14
    }
   ],
   "metadata": {}
  },
  {
   "cell_type": "code",
   "execution_count": 9,
   "source": [
    "gama_cols = 'KB DATA BARO UB THB COSMICO CTB UUP ALTURA KPERC eU eTH CTEXP UTHRAZAO X Y UKRAZAO MDT THKRAZAO LIVE_TIME CTCOR KCOR THCOR UCOR HORA GPSALT LATITUDE FIDUCIAL TEMP LONGITUDE'.split(\" \")\n",
    "\n",
    "\n",
    "gLine_1105 = pd.read_csv(gdb+'xyz/1105_XYZ/1105_GamaLine.XYZ',\n",
    "                         names=gama_cols,\n",
    "                         delim_whitespace=True,\n",
    "                         skiprows=11,\n",
    "                         usecols=[\"X\",\"Y\",\"LATITUDE\",\"LONGITUDE\",\n",
    "                                  \"KPERC\",\"eU\",\"eTH\",\"CTCOR\",\"MDT\"])"
   ],
   "outputs": [],
   "metadata": {}
  },
  {
   "cell_type": "code",
   "execution_count": 10,
   "source": [
    "gLine_1105"
   ],
   "outputs": [
    {
     "output_type": "execute_result",
     "data": {
      "text/plain": [
       "         KPERC     eU     eTH          X           Y     MDT   CTCOR  \\\n",
       "0        1.020  1.110  13.000  292878.15  7624109.00  600.12  23.000   \n",
       "1        1.470  1.090  13.530  292876.59  7624190.38  599.47  24.200   \n",
       "2        1.820  1.150  14.970  292875.03  7624271.94  600.63  25.300   \n",
       "3        1.520  1.220  14.940  292874.16  7624353.33  602.72  25.500   \n",
       "4        1.340  1.150  13.110  292873.81  7624434.72  602.21  24.500   \n",
       "...        ...    ...     ...        ...         ...     ...     ...   \n",
       "1173979  0.509  0.373  15.020  602874.51  7526876.45  571.23   5.532   \n",
       "1173980  0.315  0.549  14.462  602872.51  7526806.94  578.02   5.043   \n",
       "1173981  0.282  1.005  17.569  602871.22  7526737.54  581.39   6.422   \n",
       "1173982  0.399  1.347  20.376  602870.35  7526668.02  577.24   8.287   \n",
       "1173983  0.297  1.603  20.764  602870.30  7526598.50  566.03   9.324   \n",
       "\n",
       "          LATITUDE  LONGITUDE  \n",
       "0       -21.473638 -46.998997  \n",
       "1       -21.472903 -46.999002  \n",
       "2       -21.472167 -46.999007  \n",
       "3       -21.471432 -46.999005  \n",
       "4       -21.470697 -46.998998  \n",
       "...            ...        ...  \n",
       "1173979 -22.360971 -44.000843  \n",
       "1173980 -22.361599 -44.000858  \n",
       "1173981 -22.362226 -44.000866  \n",
       "1173982 -22.362854 -44.000870  \n",
       "1173983 -22.363482 -44.000866  \n",
       "\n",
       "[1173984 rows x 9 columns]"
      ],
      "text/html": [
       "<div>\n",
       "<style scoped>\n",
       "    .dataframe tbody tr th:only-of-type {\n",
       "        vertical-align: middle;\n",
       "    }\n",
       "\n",
       "    .dataframe tbody tr th {\n",
       "        vertical-align: top;\n",
       "    }\n",
       "\n",
       "    .dataframe thead th {\n",
       "        text-align: right;\n",
       "    }\n",
       "</style>\n",
       "<table border=\"1\" class=\"dataframe\">\n",
       "  <thead>\n",
       "    <tr style=\"text-align: right;\">\n",
       "      <th></th>\n",
       "      <th>KPERC</th>\n",
       "      <th>eU</th>\n",
       "      <th>eTH</th>\n",
       "      <th>X</th>\n",
       "      <th>Y</th>\n",
       "      <th>MDT</th>\n",
       "      <th>CTCOR</th>\n",
       "      <th>LATITUDE</th>\n",
       "      <th>LONGITUDE</th>\n",
       "    </tr>\n",
       "  </thead>\n",
       "  <tbody>\n",
       "    <tr>\n",
       "      <th>0</th>\n",
       "      <td>1.020</td>\n",
       "      <td>1.110</td>\n",
       "      <td>13.000</td>\n",
       "      <td>292878.15</td>\n",
       "      <td>7624109.00</td>\n",
       "      <td>600.12</td>\n",
       "      <td>23.000</td>\n",
       "      <td>-21.473638</td>\n",
       "      <td>-46.998997</td>\n",
       "    </tr>\n",
       "    <tr>\n",
       "      <th>1</th>\n",
       "      <td>1.470</td>\n",
       "      <td>1.090</td>\n",
       "      <td>13.530</td>\n",
       "      <td>292876.59</td>\n",
       "      <td>7624190.38</td>\n",
       "      <td>599.47</td>\n",
       "      <td>24.200</td>\n",
       "      <td>-21.472903</td>\n",
       "      <td>-46.999002</td>\n",
       "    </tr>\n",
       "    <tr>\n",
       "      <th>2</th>\n",
       "      <td>1.820</td>\n",
       "      <td>1.150</td>\n",
       "      <td>14.970</td>\n",
       "      <td>292875.03</td>\n",
       "      <td>7624271.94</td>\n",
       "      <td>600.63</td>\n",
       "      <td>25.300</td>\n",
       "      <td>-21.472167</td>\n",
       "      <td>-46.999007</td>\n",
       "    </tr>\n",
       "    <tr>\n",
       "      <th>3</th>\n",
       "      <td>1.520</td>\n",
       "      <td>1.220</td>\n",
       "      <td>14.940</td>\n",
       "      <td>292874.16</td>\n",
       "      <td>7624353.33</td>\n",
       "      <td>602.72</td>\n",
       "      <td>25.500</td>\n",
       "      <td>-21.471432</td>\n",
       "      <td>-46.999005</td>\n",
       "    </tr>\n",
       "    <tr>\n",
       "      <th>4</th>\n",
       "      <td>1.340</td>\n",
       "      <td>1.150</td>\n",
       "      <td>13.110</td>\n",
       "      <td>292873.81</td>\n",
       "      <td>7624434.72</td>\n",
       "      <td>602.21</td>\n",
       "      <td>24.500</td>\n",
       "      <td>-21.470697</td>\n",
       "      <td>-46.998998</td>\n",
       "    </tr>\n",
       "    <tr>\n",
       "      <th>...</th>\n",
       "      <td>...</td>\n",
       "      <td>...</td>\n",
       "      <td>...</td>\n",
       "      <td>...</td>\n",
       "      <td>...</td>\n",
       "      <td>...</td>\n",
       "      <td>...</td>\n",
       "      <td>...</td>\n",
       "      <td>...</td>\n",
       "    </tr>\n",
       "    <tr>\n",
       "      <th>1173979</th>\n",
       "      <td>0.509</td>\n",
       "      <td>0.373</td>\n",
       "      <td>15.020</td>\n",
       "      <td>602874.51</td>\n",
       "      <td>7526876.45</td>\n",
       "      <td>571.23</td>\n",
       "      <td>5.532</td>\n",
       "      <td>-22.360971</td>\n",
       "      <td>-44.000843</td>\n",
       "    </tr>\n",
       "    <tr>\n",
       "      <th>1173980</th>\n",
       "      <td>0.315</td>\n",
       "      <td>0.549</td>\n",
       "      <td>14.462</td>\n",
       "      <td>602872.51</td>\n",
       "      <td>7526806.94</td>\n",
       "      <td>578.02</td>\n",
       "      <td>5.043</td>\n",
       "      <td>-22.361599</td>\n",
       "      <td>-44.000858</td>\n",
       "    </tr>\n",
       "    <tr>\n",
       "      <th>1173981</th>\n",
       "      <td>0.282</td>\n",
       "      <td>1.005</td>\n",
       "      <td>17.569</td>\n",
       "      <td>602871.22</td>\n",
       "      <td>7526737.54</td>\n",
       "      <td>581.39</td>\n",
       "      <td>6.422</td>\n",
       "      <td>-22.362226</td>\n",
       "      <td>-44.000866</td>\n",
       "    </tr>\n",
       "    <tr>\n",
       "      <th>1173982</th>\n",
       "      <td>0.399</td>\n",
       "      <td>1.347</td>\n",
       "      <td>20.376</td>\n",
       "      <td>602870.35</td>\n",
       "      <td>7526668.02</td>\n",
       "      <td>577.24</td>\n",
       "      <td>8.287</td>\n",
       "      <td>-22.362854</td>\n",
       "      <td>-44.000870</td>\n",
       "    </tr>\n",
       "    <tr>\n",
       "      <th>1173983</th>\n",
       "      <td>0.297</td>\n",
       "      <td>1.603</td>\n",
       "      <td>20.764</td>\n",
       "      <td>602870.30</td>\n",
       "      <td>7526598.50</td>\n",
       "      <td>566.03</td>\n",
       "      <td>9.324</td>\n",
       "      <td>-22.363482</td>\n",
       "      <td>-44.000866</td>\n",
       "    </tr>\n",
       "  </tbody>\n",
       "</table>\n",
       "<p>1173984 rows × 9 columns</p>\n",
       "</div>"
      ]
     },
     "metadata": {},
     "execution_count": 10
    }
   ],
   "metadata": {}
  },
  {
   "cell_type": "code",
   "execution_count": 25,
   "source": [
    "#geof_1039 = pd.read_csv(gdb+'geof/geof_1039')\n",
    "g_3022 =pd.read_csv(gdb+'geof/g3022.csv')"
   ],
   "outputs": [],
   "metadata": {}
  },
  {
   "cell_type": "code",
   "execution_count": 44,
   "source": [
    "import rasterio as rio"
   ],
   "outputs": [],
   "metadata": {}
  },
  {
   "cell_type": "code",
   "execution_count": 26,
   "source": [
    "import math\n",
    "import numpy as np\n",
    "import verde as vd\n",
    "\n",
    "import geopandas as gpd\n",
    "import pandas as pd\n",
    "\n",
    "import rasterio as rio\n",
    "\n",
    "gdb = '/home/ggrl/geodatabase/'\n",
    "\n",
    "\n",
    "\n",
    "# Importador de Litologias por escala\n",
    "def importar(camada):\n",
    "    lito =  gpd.read_file(gdb+'database.gpkg',\n",
    "                        driver= 'GPKG',\n",
    "                        layer= camada)\n",
    "    return(lito)\n",
    "\n",
    "\n",
    "\n",
    "# Selecionador de Mapas a partir do nome\n",
    "def mapa(escala,nome):\n",
    "    folha = escala[escala.MAPA == 'Carta geológica da folha '+nome]\n",
    "    return(folha)\n",
    "\n",
    "'''\n",
    "# Selecionador de ocorrências\n",
    "def ocrr(substancia):\n",
    "    ocorrencias= gpd.read_file(gdb+'database.gpkg',\n",
    "                              driver= 'GPKG',\n",
    "                              layer= 'ocorr_min')\n",
    "    \n",
    "    subs= ocorrencias\n",
    "'''\n",
    "\n",
    "# Nomeador de Grids\n",
    "p1kk=['A','B','C','D','E','F','G','H','I','J','K','L','M','N','O','P','Q','R','S','T','U','V','W','X','Y','Z']\n",
    "p500k=[['V','Y'],['X','Z']]\n",
    "p250k=[['A','C'],['B','D']]\n",
    "p100k=[['I','IV'],['II','V'],['III','VI']]\n",
    "p50k=[['1','3'],['2','4']]\n",
    "p25k=[['NW','SW'],['NE','SE']]\n",
    "\n",
    "def nomeador_grid(left,right,top,bottom,escala=5):\n",
    "    if left>right:\n",
    "        print('Oeste deve ser menor que leste')\n",
    "    if top<bottom:\n",
    "        print('Norte deve ser maior que Sul')\n",
    "    \n",
    "    else:\n",
    "        folha=''\n",
    "        if top<=0:\n",
    "            folha+='S'\n",
    "            north=False\n",
    "            index=math.floor(-top/4)\n",
    "        else:\n",
    "            folha+='N'\n",
    "            north=True\n",
    "            index=math.floor(bottom/4)\n",
    "        \n",
    "        numero=math.ceil((180+right)/6)\n",
    "        folha+=p1kk[index]+str(numero)\n",
    "\n",
    "        \n",
    "        lat_gap=abs(top-bottom)\n",
    "        #p500k-----------------------\n",
    "        if (lat_gap<=2) & (escala>=1):\n",
    "            LO=math.ceil(right/3)%2==0\n",
    "            NS=math.ceil(top/2)%2!=north\n",
    "            folha+='_'+p500k[LO][NS]\n",
    "        #p250k-----------------------\n",
    "        if (lat_gap<=1) & (escala>=2):\n",
    "            LO=math.ceil(right/1.5)%2==0\n",
    "            NS=math.ceil(top)%2!=north\n",
    "            folha+='_'+p250k[LO][NS]\n",
    "        #p100k-----------------------\n",
    "        if (lat_gap<=0.5) & (escala>=3):\n",
    "            LO=(math.ceil(right/0.5)%3)-1\n",
    "            NS=math.ceil(top/0.5)%2!=north\n",
    "            folha+='_'+p100k[LO][NS]\n",
    "        #p50k------------------------\n",
    "        if (lat_gap<=0.25) & (escala>=4):\n",
    "            LO=math.ceil(right/0.25)%2==0\n",
    "            NS=math.ceil(top/0.25)%2!=north\n",
    "            folha+='_'+p50k[LO][NS]\n",
    "        #p25k------------------------\n",
    "        if (lat_gap<=0.125) & (escala>=5):\n",
    "            LO=math.ceil(right/0.125)%2==0\n",
    "            NS=math.ceil(top/0.125)%2!=north\n",
    "            folha+='_'+p25k[LO][NS]\n",
    "        return folha\n",
    "\n",
    "# Definindo Regions (W,E,S,N)\n",
    "\n",
    "def regions(gdf):\n",
    "    bounds = gdf.bounds \n",
    "    gdf['region'] = [(left,right,bottom,top) for left,right,bottom,top in zip(bounds['minx'],bounds['maxx'],\n",
    "                                                                                bounds['miny'],bounds['maxy'])]\n",
    "\n",
    "# Definindo nomes da malha a partir da articulação sistematica de folhas de cartas. Construindo uma lista e definindo como uma series.\n",
    "def nomeador_malha(gdf):\n",
    "    df = pd.DataFrame(gdf)\n",
    "    lista_grid = []\n",
    "    for index, row in df.iterrows():\n",
    "        row['id_folha'] = (nomeador_grid(row.region[0],row.region[1],\n",
    "                                         row.region[3],row.region[2],escala=5))\n",
    "        lista_grid.append(row.id_folha)\n",
    "\n",
    "    gdf['id_folha'] = lista_grid\n",
    "\n",
    "# Selecionador de Região\n",
    "\n",
    "def select_area(escala,id):\n",
    "    malha_cartog = importar('malha_cartog_'+escala+'_wgs84')\n",
    "    regions(malha_cartog)\n",
    "    area = malha_cartog[malha_cartog['id_folha'].str.contains(id)]      # '.contains' não é ideal, atributo 'id_folha' deve ser == select_area('id').\n",
    "    return(area)\n",
    "\n",
    "# Selecionar Intersecção do aerolevantamento 1039\n",
    "\n",
    "# Iterando entre as regions da malha cartográfica\n",
    "def interpolar(escala,id,geof,degree=1,spacing=499,psize=100,validate=False,n_splits=15):\n",
    "    lista_canal=['CTCOR','eU','eTH','MDT','KPERC']\n",
    "    grids = {lista_canal[0]:(),lista_canal[1]:(),lista_canal[2]:(),lista_canal[3]:(), lista_canal[4]:()}    # Dicionário para salvar os dados interpolados (grids)\n",
    "    scores = {lista_canal[0]:(),lista_canal[1]:(),lista_canal[2]:(), lista_canal[3]:(), lista_canal[4]:()}   # Dicionário para salvar os dados da validação cruzada\n",
    "                                                      \n",
    "    malha_cartografica = select_area(escala,id)\n",
    "       \n",
    "    for index, row in malha_cartografica.iterrows():\n",
    "        print(row.id_folha+' start')\n",
    "\n",
    "        data = geof[vd.inside((geof.LONGITUDE, geof.LATITUDE), region = row.region)]        # Recortando o dado bruto a partir das coordenadas da malha cartografica\n",
    "        coordinates = (data.X.values, data.Y.values)                                        # Coletando coordenadas UTM para interpolação.\n",
    "\n",
    "        if data.empty == True:                                                              # if data dont have values pass to next step\n",
    "            print('none')\n",
    "        if len(data) < 100:                                                                 # if less then 2000 points pass to next step\n",
    "            print('few data')                \n",
    "\n",
    "\n",
    "        # Tratamento dos dados\n",
    "        # \n",
    "\n",
    "\n",
    "\n",
    "\n",
    "        else:\n",
    "            for i in lista_canal:                                                           # Iterando entre a lista de canais radiométricos.\n",
    "                print(i)\n",
    "                chain = vd.Chain([\n",
    "                    ('trend', vd.Trend(degree=degree)),\n",
    "                    ('reduce', vd.BlockReduce(np.median, spacing=spacing)),\n",
    "                    ('spline', vd.Spline())\n",
    "                ])\n",
    "                \n",
    "                chain.fit(coordinates, data[i])\n",
    "                \n",
    "                if validate == True:\n",
    "                    cv     = vd.BlockKFold(spacing=spacing,\n",
    "                                n_splits=n_splits,\n",
    "                                shuffle=True)\n",
    "\n",
    "                    scores[i] = vd.cross_val_score(chain,\n",
    "                                            coordinates,\n",
    "                                            data[i],\n",
    "                                            cv=cv)\n",
    "\n",
    "                print('gridding')\n",
    "\n",
    "                grid = chain.grid(spacing=psize, data_names=[i],pixel_register=True)\n",
    "                grids[i] = vd.distance_mask(coordinates, maxdist=spacing, grid= grid)\n",
    "                \n",
    "                '''\n",
    "                tif_ = grids[i].rename(easting = 'x',northing='y')\n",
    "                tif_.rio.to_raster('/home/ggrl/Desktop/grids/test/'+i+'_'+row.id_folha+'.tif')\n",
    "                '''\n",
    "\n",
    "            return grids,data"
   ],
   "outputs": [],
   "metadata": {}
  },
  {
   "cell_type": "code",
   "execution_count": 27,
   "source": [
    "interpolado_SF23_Y_B_I, aerogeof_SF23_Y_B_I = interpolar('50k','SF23_Y_B_I',gLine_1105)"
   ],
   "outputs": [
    {
     "output_type": "stream",
     "name": "stdout",
     "text": [
      "SF23_Y_B_I_1 start\n",
      "CTCOR\n",
      "gridding\n",
      "eU\n",
      "gridding\n",
      "eTH\n",
      "gridding\n",
      "MDT\n",
      "gridding\n",
      "KPERC\n",
      "gridding\n"
     ]
    }
   ],
   "metadata": {}
  },
  {
   "cell_type": "code",
   "execution_count": 47,
   "source": [
    "df=aerogeof_SF23_Y_B_I\n",
    "datadict = pd.DataFrame(df.dtypes)\n",
    "datadict[\"Valores Faltantes\"] = df.isnull().sum()\n",
    "datadict[\"Valores Únicos\"] = df.nunique()\n",
    "datadict[\"Contagem\"] = df.count()\n",
    "datadict = datadict.rename(columns = {0 : 'dType'})\n",
    "datadict"
   ],
   "outputs": [
    {
     "output_type": "execute_result",
     "data": {
      "text/plain": [
       "             dType  Valores Faltantes  Valores Únicos  Contagem\n",
       "KPERC      float64                  0            3867     18044\n",
       "eU         float64                  0            4385     18044\n",
       "eTH        float64                  0           14179     18044\n",
       "X          float64                  0           17263     18044\n",
       "Y          float64                  0           17994     18044\n",
       "MDT        float64                  0           15384     18044\n",
       "CTCOR      float64                  0           10221     18044\n",
       "LATITUDE   float64                  0           17450     18044\n",
       "LONGITUDE  float64                  0           16154     18044"
      ],
      "text/html": [
       "<div>\n",
       "<style scoped>\n",
       "    .dataframe tbody tr th:only-of-type {\n",
       "        vertical-align: middle;\n",
       "    }\n",
       "\n",
       "    .dataframe tbody tr th {\n",
       "        vertical-align: top;\n",
       "    }\n",
       "\n",
       "    .dataframe thead th {\n",
       "        text-align: right;\n",
       "    }\n",
       "</style>\n",
       "<table border=\"1\" class=\"dataframe\">\n",
       "  <thead>\n",
       "    <tr style=\"text-align: right;\">\n",
       "      <th></th>\n",
       "      <th>dType</th>\n",
       "      <th>Valores Faltantes</th>\n",
       "      <th>Valores Únicos</th>\n",
       "      <th>Contagem</th>\n",
       "    </tr>\n",
       "  </thead>\n",
       "  <tbody>\n",
       "    <tr>\n",
       "      <th>KPERC</th>\n",
       "      <td>float64</td>\n",
       "      <td>0</td>\n",
       "      <td>3867</td>\n",
       "      <td>18044</td>\n",
       "    </tr>\n",
       "    <tr>\n",
       "      <th>eU</th>\n",
       "      <td>float64</td>\n",
       "      <td>0</td>\n",
       "      <td>4385</td>\n",
       "      <td>18044</td>\n",
       "    </tr>\n",
       "    <tr>\n",
       "      <th>eTH</th>\n",
       "      <td>float64</td>\n",
       "      <td>0</td>\n",
       "      <td>14179</td>\n",
       "      <td>18044</td>\n",
       "    </tr>\n",
       "    <tr>\n",
       "      <th>X</th>\n",
       "      <td>float64</td>\n",
       "      <td>0</td>\n",
       "      <td>17263</td>\n",
       "      <td>18044</td>\n",
       "    </tr>\n",
       "    <tr>\n",
       "      <th>Y</th>\n",
       "      <td>float64</td>\n",
       "      <td>0</td>\n",
       "      <td>17994</td>\n",
       "      <td>18044</td>\n",
       "    </tr>\n",
       "    <tr>\n",
       "      <th>MDT</th>\n",
       "      <td>float64</td>\n",
       "      <td>0</td>\n",
       "      <td>15384</td>\n",
       "      <td>18044</td>\n",
       "    </tr>\n",
       "    <tr>\n",
       "      <th>CTCOR</th>\n",
       "      <td>float64</td>\n",
       "      <td>0</td>\n",
       "      <td>10221</td>\n",
       "      <td>18044</td>\n",
       "    </tr>\n",
       "    <tr>\n",
       "      <th>LATITUDE</th>\n",
       "      <td>float64</td>\n",
       "      <td>0</td>\n",
       "      <td>17450</td>\n",
       "      <td>18044</td>\n",
       "    </tr>\n",
       "    <tr>\n",
       "      <th>LONGITUDE</th>\n",
       "      <td>float64</td>\n",
       "      <td>0</td>\n",
       "      <td>16154</td>\n",
       "      <td>18044</td>\n",
       "    </tr>\n",
       "  </tbody>\n",
       "</table>\n",
       "</div>"
      ]
     },
     "metadata": {},
     "execution_count": 47
    }
   ],
   "metadata": {}
  },
  {
   "cell_type": "code",
   "execution_count": 111,
   "source": [
    "# features\n",
    "FEAT = ['KPERC','eTH','eU','CTCOR','MDT']\n",
    "\n",
    "# 'U_K','TH_K','U_TH'\n",
    "\n",
    "# dados geofísicos\n",
    "GF = ['KPERC', 'eTH', 'eU', 'CTCOR']\n",
    "\n",
    "# canais radiométricos\n",
    "RADIO = ['KPERC', 'eTH', 'eU']\n",
    "\n",
    "# sensores remotos\n",
    "SR = ['MDT']\n",
    "\n",
    "# coordenadas em sirgas\n",
    "COORD = ['LONGITUDE', 'LATITUDE']\n",
    "\n",
    "\n",
    "# Dicionário de features\n",
    "titles = ['K (%)', 'Th (ppm)', 'U (ppm)',\n",
    "          'Contagem Total (μR/h)', 'MDT (m)']\n",
    "dic_titles = {}\n",
    "for f, t in zip(FEAT, titles):\n",
    "    dic_titles[f] = t\n",
    "    \n",
    "# salva figuras no disco em formato .png\n",
    "save_plots = False"
   ],
   "outputs": [],
   "metadata": {}
  },
  {
   "cell_type": "code",
   "execution_count": 112,
   "source": [
    "df[GF].describe(percentiles = [0.01,0.02,0.10, 0.25, 0.50, 0.75, 0.995]).T"
   ],
   "outputs": [
    {
     "output_type": "execute_result",
     "data": {
      "text/plain": [
       "         count       mean        std    min       1%       2%     10%  \\\n",
       "KPERC  18044.0   1.213053   0.998049 -0.499 -0.07600  0.00600  0.2190   \n",
       "eTH    18044.0  22.008218  11.976516 -0.310  5.11043  5.92260  9.2396   \n",
       "eU     18044.0   1.823964   1.114266 -0.484 -0.05814  0.12386  0.6590   \n",
       "CTCOR  18044.0   8.755916   4.243388  0.687  1.82472  2.16486  3.7863   \n",
       "\n",
       "            25%      50%      75%      99.5%      max  \n",
       "KPERC   0.45800   0.9735   1.7180   5.175785    6.531  \n",
       "eTH    14.30975  20.0820  27.7095  72.923340  223.136  \n",
       "eU      1.11300   1.6675   2.3210   6.748925   20.878  \n",
       "CTCOR   5.91250   8.4045  10.9590  25.765375   63.648  "
      ],
      "text/html": [
       "<div>\n",
       "<style scoped>\n",
       "    .dataframe tbody tr th:only-of-type {\n",
       "        vertical-align: middle;\n",
       "    }\n",
       "\n",
       "    .dataframe tbody tr th {\n",
       "        vertical-align: top;\n",
       "    }\n",
       "\n",
       "    .dataframe thead th {\n",
       "        text-align: right;\n",
       "    }\n",
       "</style>\n",
       "<table border=\"1\" class=\"dataframe\">\n",
       "  <thead>\n",
       "    <tr style=\"text-align: right;\">\n",
       "      <th></th>\n",
       "      <th>count</th>\n",
       "      <th>mean</th>\n",
       "      <th>std</th>\n",
       "      <th>min</th>\n",
       "      <th>1%</th>\n",
       "      <th>2%</th>\n",
       "      <th>10%</th>\n",
       "      <th>25%</th>\n",
       "      <th>50%</th>\n",
       "      <th>75%</th>\n",
       "      <th>99.5%</th>\n",
       "      <th>max</th>\n",
       "    </tr>\n",
       "  </thead>\n",
       "  <tbody>\n",
       "    <tr>\n",
       "      <th>KPERC</th>\n",
       "      <td>18044.0</td>\n",
       "      <td>1.213053</td>\n",
       "      <td>0.998049</td>\n",
       "      <td>-0.499</td>\n",
       "      <td>-0.07600</td>\n",
       "      <td>0.00600</td>\n",
       "      <td>0.2190</td>\n",
       "      <td>0.45800</td>\n",
       "      <td>0.9735</td>\n",
       "      <td>1.7180</td>\n",
       "      <td>5.175785</td>\n",
       "      <td>6.531</td>\n",
       "    </tr>\n",
       "    <tr>\n",
       "      <th>eTH</th>\n",
       "      <td>18044.0</td>\n",
       "      <td>22.008218</td>\n",
       "      <td>11.976516</td>\n",
       "      <td>-0.310</td>\n",
       "      <td>5.11043</td>\n",
       "      <td>5.92260</td>\n",
       "      <td>9.2396</td>\n",
       "      <td>14.30975</td>\n",
       "      <td>20.0820</td>\n",
       "      <td>27.7095</td>\n",
       "      <td>72.923340</td>\n",
       "      <td>223.136</td>\n",
       "    </tr>\n",
       "    <tr>\n",
       "      <th>eU</th>\n",
       "      <td>18044.0</td>\n",
       "      <td>1.823964</td>\n",
       "      <td>1.114266</td>\n",
       "      <td>-0.484</td>\n",
       "      <td>-0.05814</td>\n",
       "      <td>0.12386</td>\n",
       "      <td>0.6590</td>\n",
       "      <td>1.11300</td>\n",
       "      <td>1.6675</td>\n",
       "      <td>2.3210</td>\n",
       "      <td>6.748925</td>\n",
       "      <td>20.878</td>\n",
       "    </tr>\n",
       "    <tr>\n",
       "      <th>CTCOR</th>\n",
       "      <td>18044.0</td>\n",
       "      <td>8.755916</td>\n",
       "      <td>4.243388</td>\n",
       "      <td>0.687</td>\n",
       "      <td>1.82472</td>\n",
       "      <td>2.16486</td>\n",
       "      <td>3.7863</td>\n",
       "      <td>5.91250</td>\n",
       "      <td>8.4045</td>\n",
       "      <td>10.9590</td>\n",
       "      <td>25.765375</td>\n",
       "      <td>63.648</td>\n",
       "    </tr>\n",
       "  </tbody>\n",
       "</table>\n",
       "</div>"
      ]
     },
     "metadata": {},
     "execution_count": 112
    }
   ],
   "metadata": {}
  },
  {
   "cell_type": "code",
   "execution_count": 113,
   "source": [
    "# número de valores negativos de K\n",
    "print('# pontos K% < 0: ', df.query('KPERC < 0')['KPERC'].count())\n",
    "print('# pontos eU < 0: ', df.query('eU < 0')['eU'].count())\n",
    "print('# pontos eTh < 0: ', df.query('eTH < 0')['eTH'].count())"
   ],
   "outputs": [
    {
     "output_type": "stream",
     "name": "stdout",
     "text": [
      "# pontos K% < 0:  343\n",
      "# pontos eU < 0:  239\n",
      "# pontos eTh < 0:  1\n"
     ]
    }
   ],
   "metadata": {}
  },
  {
   "cell_type": "code",
   "execution_count": 116,
   "source": [
    "df_plt = df.copy(deep = True)"
   ],
   "outputs": [],
   "metadata": {}
  },
  {
   "cell_type": "code",
   "execution_count": 123,
   "source": [
    "# fonte: Times New Roman, tamanho: 12\n",
    "plt.rcParams.update({'font.family':'Times New Roman', 'font.size' : 12})\n",
    "\n",
    "# estilo dos gráficos\n",
    "plt.style.use('seaborn-white')\n",
    "\n",
    "fs_title = 16           # tamanho da fonte dos títulos\n",
    "cm       = 'hsv'        # mapa de cores\n",
    "mk       = 's'          # estilo do marcador (quadrado)\n",
    "sz       = 1            # tamanho do marcador    \n",
    "col      = 'lightblue'  # cor dos histogramas\n",
    "ec       = 'black'      # cor das bordas dos histogramas\n",
    "\n",
    "fig, axs = plt.subplots(nrows = 2, ncols = 3, figsize = (12, 12))\n",
    "\n",
    "X, Y = COORD[0], COORD[1]\n",
    "\n",
    "for ax, f in zip(axs.flat, dic_titles):\n",
    "    g = ax.scatter(data = df_plt, x = X, y = Y, c = f, cmap = cm, s = sz, marker = mk)\n",
    "    fig.colorbar(g, ax = ax)\n",
    "    ax.set_title(str(dic_titles[f]), size = fs_title)\n",
    "\n",
    "fig.delaxes(axs[1][2])\n",
    "plt.tight_layout()\n",
    "\n",
    "# salva mapas\n",
    "if save_plots:\n",
    "    plt.savefig(\"figures/notebook1/Figura_01.png\", dpi = 300);"
   ],
   "outputs": [
    {
     "output_type": "display_data",
     "data": {
      "text/plain": [
       "Canvas(toolbar=Toolbar(toolitems=[('Home', 'Reset original view', 'home', 'home'), ('Back', 'Back to previous …"
      ],
      "application/vnd.jupyter.widget-view+json": {
       "version_major": 2,
       "version_minor": 0,
       "model_id": "76889f61efb84c368ff5af8e8c3ce8b3"
      }
     },
     "metadata": {}
    }
   ],
   "metadata": {}
  },
  {
   "cell_type": "code",
   "execution_count": 18,
   "source": [
    "plt.figure()\n",
    "aerogeof_SF23_Y_B_I['MDT'].MDT.plot(cmap='terrain')\n",
    "plt.axis('scaled')"
   ],
   "outputs": [
    {
     "output_type": "display_data",
     "data": {
      "text/plain": [
       "Canvas(toolbar=Toolbar(toolitems=[('Home', 'Reset original view', 'home', 'home'), ('Back', 'Back to previous …"
      ],
      "application/vnd.jupyter.widget-view+json": {
       "version_major": 2,
       "version_minor": 0,
       "model_id": "cbcaf0cdf7b745f192bcd3cd0cf3599e"
      }
     },
     "metadata": {}
    },
    {
     "output_type": "execute_result",
     "data": {
      "text/plain": [
       "(345352.29999999993, 370915.77999999997, 7538748.82, 7566616.53)"
      ]
     },
     "metadata": {},
     "execution_count": 18
    }
   ],
   "metadata": {}
  },
  {
   "cell_type": "code",
   "execution_count": 19,
   "source": [
    "plt.figure()\n",
    "aerogeof_SF23_Y_B_I['CTCOR'].CTCOR.plot(cmap='hsv')\n",
    "plt.axis('scaled')"
   ],
   "outputs": [
    {
     "output_type": "display_data",
     "data": {
      "text/plain": [
       "Canvas(toolbar=Toolbar(toolitems=[('Home', 'Reset original view', 'home', 'home'), ('Back', 'Back to previous …"
      ],
      "application/vnd.jupyter.widget-view+json": {
       "version_major": 2,
       "version_minor": 0,
       "model_id": "e35a42b84fcd402fb78e915083b857b4"
      }
     },
     "metadata": {}
    },
    {
     "output_type": "execute_result",
     "data": {
      "text/plain": [
       "(345352.29999999993, 370915.77999999997, 7538748.82, 7566616.53)"
      ]
     },
     "metadata": {},
     "execution_count": 19
    }
   ],
   "metadata": {}
  },
  {
   "cell_type": "code",
   "execution_count": 20,
   "source": [
    "plt.figure()\n",
    "aerogeof_SF23_Y_B_I['KPERC'].KPERC.plot(cmap='hsv',vmin=0)\n",
    "plt.axis('scaled')"
   ],
   "outputs": [
    {
     "output_type": "display_data",
     "data": {
      "text/plain": [
       "Canvas(toolbar=Toolbar(toolitems=[('Home', 'Reset original view', 'home', 'home'), ('Back', 'Back to previous …"
      ],
      "application/vnd.jupyter.widget-view+json": {
       "version_major": 2,
       "version_minor": 0,
       "model_id": "697a3ef5ba8944e4822ed5a01b1978a5"
      }
     },
     "metadata": {}
    },
    {
     "output_type": "execute_result",
     "data": {
      "text/plain": [
       "(345352.29999999993, 370915.77999999997, 7538748.82, 7566616.53)"
      ]
     },
     "metadata": {},
     "execution_count": 20
    }
   ],
   "metadata": {}
  },
  {
   "cell_type": "code",
   "execution_count": 21,
   "source": [
    "plt.figure()\n",
    "aerogeof_SF23_Y_B_I['eU'].eU.plot(cmap='hsv')\n",
    "plt.axis('scaled')"
   ],
   "outputs": [
    {
     "output_type": "display_data",
     "data": {
      "text/plain": [
       "Canvas(toolbar=Toolbar(toolitems=[('Home', 'Reset original view', 'home', 'home'), ('Back', 'Back to previous …"
      ],
      "application/vnd.jupyter.widget-view+json": {
       "version_major": 2,
       "version_minor": 0,
       "model_id": "5289bba3678244d086ffbdc8c6989e79"
      }
     },
     "metadata": {}
    },
    {
     "output_type": "execute_result",
     "data": {
      "text/plain": [
       "(345352.29999999993, 370915.77999999997, 7538748.82, 7566616.53)"
      ]
     },
     "metadata": {},
     "execution_count": 21
    }
   ],
   "metadata": {}
  },
  {
   "cell_type": "code",
   "execution_count": null,
   "source": [],
   "outputs": [],
   "metadata": {}
  }
 ],
 "metadata": {
  "orig_nbformat": 4,
  "language_info": {
   "name": "python",
   "version": "3.8.2",
   "mimetype": "text/x-python",
   "codemirror_mode": {
    "name": "ipython",
    "version": 3
   },
   "pygments_lexer": "ipython3",
   "nbconvert_exporter": "python",
   "file_extension": ".py"
  },
  "kernelspec": {
   "name": "python3",
   "display_name": "Python 3.8.2 64-bit ('mappingBot': conda)"
  },
  "interpreter": {
   "hash": "2bc076d9378ac5ac660ba4f6a46900d2ea3732140aaa213526ceb6851acbc3f5"
  }
 },
 "nbformat": 4,
 "nbformat_minor": 2
}