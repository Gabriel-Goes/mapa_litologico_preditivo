{
 "cells": [
  {
   "cell_type": "code",
   "execution_count": 16,
   "metadata": {},
   "outputs": [],
   "source": [
    "import verde as vd\n",
    "import pandas as pd\n",
    "import geopandas as gpd\n",
    "import matplotlib.pyplot as plt\n",
    "#import pyproj\n",
    "\n",
    "from shapely import geometry\n",
    "\n",
    "\n",
    "%matplotlib widget\n",
    "\n",
    "gdb = '/home/ggrl/geodatabase/'"
   ]
  },
  {
   "cell_type": "code",
   "execution_count": 17,
   "metadata": {},
   "outputs": [
    {
     "ename": "ModuleNotFoundError",
     "evalue": "No module named 'src.importar'",
     "output_type": "error",
     "traceback": [
      "\u001b[0;31m---------------------------------------------------------------------------\u001b[0m",
      "\u001b[0;31mModuleNotFoundError\u001b[0m                       Traceback (most recent call last)",
      "\u001b[0;32m/tmp/ipykernel_4776/3123550821.py\u001b[0m in \u001b[0;36m<module>\u001b[0;34m\u001b[0m\n\u001b[0;32m----> 1\u001b[0;31m \u001b[0;32mfrom\u001b[0m \u001b[0msrc\u001b[0m\u001b[0;34m.\u001b[0m\u001b[0mimportar\u001b[0m \u001b[0;32mimport\u001b[0m \u001b[0mgeometrias\u001b[0m\u001b[0;34m\u001b[0m\u001b[0;34m\u001b[0m\u001b[0m\n\u001b[0m\u001b[1;32m      2\u001b[0m \u001b[0;32mfrom\u001b[0m \u001b[0msrc\u001b[0m\u001b[0;34m.\u001b[0m\u001b[0mfuncs_cartog_automation\u001b[0m \u001b[0;32mimport\u001b[0m \u001b[0mselect_area\u001b[0m\u001b[0;34m\u001b[0m\u001b[0;34m\u001b[0m\u001b[0m\n\u001b[1;32m      3\u001b[0m \u001b[0;32mfrom\u001b[0m \u001b[0msrc\u001b[0m\u001b[0;34m.\u001b[0m\u001b[0mdicionario_cartas\u001b[0m \u001b[0;32mimport\u001b[0m \u001b[0mcartas\u001b[0m\u001b[0;34m\u001b[0m\u001b[0;34m\u001b[0m\u001b[0m\n\u001b[1;32m      4\u001b[0m \u001b[0;34m\u001b[0m\u001b[0m\n\u001b[1;32m      5\u001b[0m \u001b[0;32mfrom\u001b[0m \u001b[0msrc\u001b[0m\u001b[0;34m.\u001b[0m\u001b[0mdescricao\u001b[0m \u001b[0;32mimport\u001b[0m \u001b[0mdescricao\u001b[0m\u001b[0;34m\u001b[0m\u001b[0;34m\u001b[0m\u001b[0m\n",
      "\u001b[0;31mModuleNotFoundError\u001b[0m: No module named 'src.importar'"
     ]
    }
   ],
   "source": [
    "from src.importar import geometrias\n",
    "from src.funcs_cartog_automation import select_area\n",
    "from src.dicionario_cartas import cartas\n",
    "\n",
    "from src.descricao import descricao"
   ]
  },
  {
   "cell_type": "code",
   "execution_count": 13,
   "metadata": {},
   "outputs": [],
   "source": [
    "gama_line_1105 = geometrias(geofisico='gama_line_1105')"
   ]
  },
  {
   "cell_type": "code",
   "execution_count": 14,
   "metadata": {},
   "outputs": [
    {
     "data": {
      "text/html": [
       "<div>\n",
       "<style scoped>\n",
       "    .dataframe tbody tr th:only-of-type {\n",
       "        vertical-align: middle;\n",
       "    }\n",
       "\n",
       "    .dataframe tbody tr th {\n",
       "        vertical-align: top;\n",
       "    }\n",
       "\n",
       "    .dataframe thead th {\n",
       "        text-align: right;\n",
       "    }\n",
       "</style>\n",
       "<table border=\"1\" class=\"dataframe\">\n",
       "  <thead>\n",
       "    <tr style=\"text-align: right;\">\n",
       "      <th></th>\n",
       "      <th>KPERC</th>\n",
       "      <th>eU</th>\n",
       "      <th>eTH</th>\n",
       "      <th>UTHRAZAO</th>\n",
       "      <th>X</th>\n",
       "      <th>Y</th>\n",
       "      <th>UKRAZAO</th>\n",
       "      <th>MDT</th>\n",
       "      <th>THKRAZAO</th>\n",
       "      <th>CTCOR</th>\n",
       "      <th>LATITUDE</th>\n",
       "      <th>LONGITUDE</th>\n",
       "    </tr>\n",
       "  </thead>\n",
       "  <tbody>\n",
       "    <tr>\n",
       "      <th>0</th>\n",
       "      <td>1.02</td>\n",
       "      <td>1.11</td>\n",
       "      <td>13.00</td>\n",
       "      <td>0.1</td>\n",
       "      <td>292878.15</td>\n",
       "      <td>7624109.00</td>\n",
       "      <td>0.9</td>\n",
       "      <td>600.12</td>\n",
       "      <td>9.86</td>\n",
       "      <td>23.0</td>\n",
       "      <td>-21.473638</td>\n",
       "      <td>-46.998997</td>\n",
       "    </tr>\n",
       "    <tr>\n",
       "      <th>1</th>\n",
       "      <td>1.47</td>\n",
       "      <td>1.09</td>\n",
       "      <td>13.53</td>\n",
       "      <td>0.1</td>\n",
       "      <td>292876.59</td>\n",
       "      <td>7624190.38</td>\n",
       "      <td>0.8</td>\n",
       "      <td>599.47</td>\n",
       "      <td>9.77</td>\n",
       "      <td>24.2</td>\n",
       "      <td>-21.472903</td>\n",
       "      <td>-46.999002</td>\n",
       "    </tr>\n",
       "    <tr>\n",
       "      <th>2</th>\n",
       "      <td>1.82</td>\n",
       "      <td>1.15</td>\n",
       "      <td>14.97</td>\n",
       "      <td>0.1</td>\n",
       "      <td>292875.03</td>\n",
       "      <td>7624271.94</td>\n",
       "      <td>0.8</td>\n",
       "      <td>600.63</td>\n",
       "      <td>9.81</td>\n",
       "      <td>25.3</td>\n",
       "      <td>-21.472167</td>\n",
       "      <td>-46.999007</td>\n",
       "    </tr>\n",
       "    <tr>\n",
       "      <th>3</th>\n",
       "      <td>1.52</td>\n",
       "      <td>1.22</td>\n",
       "      <td>14.94</td>\n",
       "      <td>0.1</td>\n",
       "      <td>292874.16</td>\n",
       "      <td>7624353.33</td>\n",
       "      <td>0.7</td>\n",
       "      <td>602.72</td>\n",
       "      <td>9.96</td>\n",
       "      <td>25.5</td>\n",
       "      <td>-21.471432</td>\n",
       "      <td>-46.999005</td>\n",
       "    </tr>\n",
       "    <tr>\n",
       "      <th>4</th>\n",
       "      <td>1.34</td>\n",
       "      <td>1.15</td>\n",
       "      <td>13.11</td>\n",
       "      <td>0.1</td>\n",
       "      <td>292873.81</td>\n",
       "      <td>7624434.72</td>\n",
       "      <td>0.7</td>\n",
       "      <td>602.21</td>\n",
       "      <td>10.18</td>\n",
       "      <td>24.5</td>\n",
       "      <td>-21.470697</td>\n",
       "      <td>-46.998998</td>\n",
       "    </tr>\n",
       "  </tbody>\n",
       "</table>\n",
       "</div>"
      ],
      "text/plain": [
       "   KPERC    eU    eTH  UTHRAZAO          X           Y  UKRAZAO     MDT  \\\n",
       "0   1.02  1.11  13.00       0.1  292878.15  7624109.00      0.9  600.12   \n",
       "1   1.47  1.09  13.53       0.1  292876.59  7624190.38      0.8  599.47   \n",
       "2   1.82  1.15  14.97       0.1  292875.03  7624271.94      0.8  600.63   \n",
       "3   1.52  1.22  14.94       0.1  292874.16  7624353.33      0.7  602.72   \n",
       "4   1.34  1.15  13.11       0.1  292873.81  7624434.72      0.7  602.21   \n",
       "\n",
       "   THKRAZAO  CTCOR   LATITUDE  LONGITUDE  \n",
       "0      9.86   23.0 -21.473638 -46.998997  \n",
       "1      9.77   24.2 -21.472903 -46.999002  \n",
       "2      9.81   25.3 -21.472167 -46.999007  \n",
       "3      9.96   25.5 -21.471432 -46.999005  \n",
       "4     10.18   24.5 -21.470697 -46.998998  "
      ]
     },
     "execution_count": 14,
     "metadata": {},
     "output_type": "execute_result"
    }
   ],
   "source": [
    "gama_line_1105.head()"
   ]
  },
  {
   "cell_type": "code",
   "execution_count": null,
   "metadata": {},
   "outputs": [],
   "source": [
    "region = "
   ]
  },
  {
   "cell_type": "code",
   "execution_count": 15,
   "metadata": {},
   "outputs": [],
   "source": [
    "gama_SC23_Z_A_IV = gama_line_1105[vd.inside((gama_line_1105.X, gama_line_1105.Y), region = region)]"
   ]
  },
  {
   "cell_type": "code",
   "execution_count": null,
   "metadata": {},
   "outputs": [
    {
     "data": {
      "application/vnd.jupyter.widget-view+json": {
       "model_id": "04278ed58a0343e4b1d8a7f16ee8e835",
       "version_major": 2,
       "version_minor": 0
      },
      "text/plain": [
       "Canvas(toolbar=Toolbar(toolitems=[('Home', 'Reset original view', 'home', 'home'), ('Back', 'Back to previous …"
      ]
     },
     "metadata": {},
     "output_type": "display_data"
    },
    {
     "data": {
      "text/plain": [
       "(497270.8025, 557429.7475, 8781209.501, 8842071.159)"
      ]
     },
     "execution_count": 10,
     "metadata": {},
     "output_type": "execute_result"
    }
   ],
   "source": [
    "plt.figure(figsize=(8,8))\n",
    "plt.scatter(gama_SC23_Z_A_IV.X,gama_SC23_Z_A_IV.Y,\n",
    "            c=gama_SC23_Z_A_IV.eth,\n",
    "            s=5)\n",
    "plt.colorbar()\n",
    "plt.axis('scaled')"
   ]
  },
  {
   "cell_type": "code",
   "execution_count": null,
   "metadata": {},
   "outputs": [],
   "source": [
    "# CRIANDO DICIONARIO DE FOLHAS CARTOGRAFICAS PARA CARA TIPO DE DADO\n",
    "def get_region(escala,id,geof):\n",
    "    geof_dataframe = geometrias(geof)                                          # importa dado bruto\n",
    "    \n",
    "    # LISTANDO REGIOES DAS FOLHAS DE CARTAS\n",
    "    lista_cartas, dic_cartas,malha_cartog_gdf_select = cartas(escala,id)       # importa malha cartografica\n",
    "        \n",
    "    # DESCREVENDO ATRIBUTOS ESTATISTICOS DOS DADOS    \n",
    "    metadatadict,        \\\n",
    "    lista_atributo_geof, \\\n",
    "    lista_atributo_geog, \\\n",
    "    lista_atributo_proj, \\\n",
    "    geof_df_describe     = descricao(geof_dataframe)                           # lista atributos e descreve metadados e estatisticas do dado\n",
    "\n",
    "    # ITERANDO ENTRE AS FOLHAS DE CARTAS\n",
    "    print(\"\")\n",
    "    print(f\"# --- Início da iteração entre as folhas cartográficas #\")\n",
    "\n",
    "    for index, row in malha_cartog_gdf_select.iterrows():\n",
    "        # RECORTANDO DATA PARA CADA FOLHA COM ['region.proj']\n",
    "        data = geof_dataframe[vd.inside((geof_dataframe.X, geof_dataframe.Y), region = row.region_proj)]\n",
    "        #del geof_dataframe\n",
    "        # GERANDO TUPLA DE COORDENADAS\n",
    "        if data.empty:\n",
    "            None\n",
    "            \n",
    "        elif len(data) < 1000:\n",
    "            None\n",
    "            print(f\"A folha {index} possui apenas '{len(data)}' pontos coletados que devem ser adicionados a folha mais próxima\")\n",
    "            \n",
    "        else:\n",
    "            print(f\"# Folha de código: {index}\")\n",
    "            print(f\" Atualizando dados brutos em dic_cartas['raw_data']\")\n",
    "            x = {index:data}\n",
    "            dic_cartas['raw_data'].update(x) \n",
    "            print(f\" com {len(data)} pontos\")\n",
    "\n",
    "    dic_meta={'Lista_id':lista_cartas,\n",
    "              'Lista_at_geof':lista_atributo_geof,\n",
    "              'Lista_at_geog':lista_atributo_geog,\n",
    "              'Lista_at_proj':lista_atributo_proj}\n",
    "\n",
    "    return dic_cartas,dic_meta,malha_cartog_gdf_select,geof_df_describe\n",
    "\n",
    "\n",
    "# data_list[Dicionario de Cartas['region',                 #0  DICIONARIO COM DADOS PRINCIPAIS\n",
    "#                                'region_proj',\n",
    "#                                'raw_data',\n",
    "#                                'interpolado',\n",
    "#                                'scores',\n",
    "#                                'lito_geof',\n",
    "#                                'mean_score'],\n",
    "\n",
    "\n",
    "\n",
    "#           Malha Cartografica Selecionada['geometry',     #2 GEODATAFRAME DA MALHA CARTOGRAFICA\n",
    "#                                          'region',\n",
    "#                                          'region_proj']\n",
    "\n",
    "#           Descricao Dados Brutos['KPERC',                #3 DATAFRAME DESCRICAO ESTATISTICA DADOS BRUTOS\n",
    "#                                  'eU',\n",
    "#                                  'eTH',\n",
    "#                                  'UTHRAZAO',\n",
    "#                                  'UKRAZAO',\n",
    "#                                  'MDT',\n",
    "#                                  'THKRAZAO',\n",
    "#                                  'CTCOR']           \n",
    "#           ]\n",
    "\n",
    "######################################################################################################################################"
   ]
  },
  {
   "cell_type": "code",
   "execution_count": null,
   "metadata": {},
   "outputs": [
    {
     "name": "stdout",
     "output_type": "stream",
     "text": [
      "importando dados geofisicos\n",
      "# --- Iniciando seleção de área de estudo\n",
      "1 folha cartográfica selecionada\n",
      "\n",
      "Listando atributos dos dados geofisicos\n",
      "# --- # Listagem de dados do aerolevantamento:  \n",
      "Lista de atributos geofísicos = ['MDT', 'KPERC', 'eU', 'eth', 'CTCOR', 'THKRAZAO', 'UKRAZAO', 'UTHRAZAO']\n",
      "lista de atributos geograficos = ['LONGITUDE', 'LATITUDE']\n",
      "lista de atributos projetados = ['X', 'Y']\n"
     ]
    },
    {
     "name": "stderr",
     "output_type": "stream",
     "text": [
      "/home/ggrl/anaconda3/envs/geologist_bot/lib/python3.8/site-packages/geopandas/geodataframe.py:1322: SettingWithCopyWarning: \n",
      "A value is trying to be set on a copy of a slice from a DataFrame.\n",
      "Try using .loc[row_indexer,col_indexer] = value instead\n",
      "\n",
      "See the caveats in the documentation: https://pandas.pydata.org/pandas-docs/stable/user_guide/indexing.html#returning-a-view-versus-a-copy\n",
      "  super(GeoDataFrame, self).__setitem__(key, value)\n"
     ]
    },
    {
     "name": "stdout",
     "output_type": "stream",
     "text": [
      "\n",
      "# --- Início da iteração entre as folhas cartográficas #\n",
      "# Folha de código: SC23_Z_A_IV\n",
      " Atualizando dados brutos em dic_cartas['raw_data']\n",
      " com 81859 pontos\n"
     ]
    }
   ],
   "source": [
    "a = get_region('100k','SC23_Z_A_IV','gama_1089')"
   ]
  },
  {
   "cell_type": "markdown",
   "metadata": {},
   "source": [
    "# Teste"
   ]
  },
  {
   "cell_type": "code",
   "execution_count": 11,
   "metadata": {},
   "outputs": [],
   "source": [
    "from src.funcs_importar import dado_bruto\n",
    "from src.funcs_cartog_automation import cartas\n",
    "from src.funcs_descricao import descricao\n",
    "\n",
    "from tqdm import tqdm\n",
    "from verde import inside\n",
    "\n",
    "\n",
    "# CRIANDO DICIONARIO DE FOLHAS CARTOGRAFICAS PARA CARA TIPO DE DADO\n",
    "def get_region(escala,id,geof,camada,mapa=None):\n",
    "    '''\n",
    "    Recebe:\n",
    "        escala : Escalas disponíveis para recorte: '50k', '100k', '250k', '1kk'.\n",
    "            id : ID da folha cartográfica (Articulação Sistemática de Folhas Cartográficas)\n",
    "          geof : Dado aerogeofísico disponível na base de dados (/home/ggrl/geodatabase/geof/)\n",
    "        camada : Litologias disponíveis na base de dados (/home/ggrl/geodatabase/geodatabase.gpkg)\n",
    "    '''\n",
    "    print('# Importando dados')\n",
    "    litologia, geof_dataframe = dado_bruto(camada,mapa,geof)\n",
    "\n",
    "    # LISTANDO REGIOES DAS FOLHAS DE CARTAS\n",
    "    print('')\n",
    "    print('# -- Selecionando Folhas Cartograficas')\n",
    "    \n",
    "    dict_cartas,\\\n",
    "    malha_cartog_gdf_select = cartas(escala,id)\n",
    "\n",
    "    metadatadict,        \\\n",
    "    lista_atributo_geof, \\\n",
    "    lista_atributo_geog, \\\n",
    "    lista_atributo_proj, \\\n",
    "          geof_descrito  = descricao(geof_dataframe)\n",
    "\n",
    "    print('# -- Contruindo dicionario de metadados')\n",
    "    dic_raw_meta={'Metadata'          :metadatadict,\n",
    "                  'Lista_at_geof'     :lista_atributo_geof,\n",
    "                  'Lista_at_geog'     :lista_atributo_geog,\n",
    "                  'Lista_at_proj'     :lista_atributo_proj,\n",
    "                  'Percentiles'       :geof_descrito,\n",
    "                  'Malha_cartografica':malha_cartog_gdf_select}\n",
    "    # ITERANDO ENTRE AS FOLHAS DE CARTAS\n",
    "    print(\"\")\n",
    "    print(f\"# --- Início da iteração entre as folhas cartográficas #\")\n",
    "\n",
    "    ## Dicionario de cartas[key: 'litologia']\n",
    "    dict_cartas['litologia'] ={}\n",
    "    \n",
    "    for index, row in tqdm(malha_cartog_gdf_select.iterrows()):\n",
    "\n",
    "        # RECORTANDO DATA PARA CADA FOLHA COM verde.inside() ['region.proj']\n",
    "        data = geof_dataframe[inside((geof_dataframe.X, geof_dataframe.Y), region = row.region_proj)]\n",
    "\n",
    "        # GERANDO TUPLA DE COORDENADAS          \n",
    "        if len(data) < 1000:\n",
    "            y = {index:litologia}\n",
    "            dict_cartas['litologia'].update(y)\n",
    "            print(f\"A folha {index} possui apenas '{len(data)}' pontos coletados que devem ser adicionados a folha mais próxima\")\n",
    "            \n",
    "        else:\n",
    "            print(f\"# Folha de código: {index}\")\n",
    "            print(f\" Atualizando dados brutos em dic_cartas['raw_data']\")\n",
    "            x = {index:data}\n",
    "            dict_cartas['raw_data'].update(x) \n",
    "            print(f\" com {len(data)} pontos de amostragem\")\n",
    "\n",
    "            litologia.to_crs(32723,inplace=True)\n",
    "            print(litologia.crs)\n",
    "\n",
    "            litologia=litologia.cx[row.region_proj[0]:row.region_proj[1],row.region_proj[2]:row.region_proj[3]]\n",
    "            print(f\" Atualizando dados geologicos em dic_cartas['litologia']\")\n",
    "            print(f\" com {litologia.shape[0]} poligonos descritos por\\\n",
    "                         {litologia.shape[1]} atributos geologicos \")\n",
    "\n",
    "            y = {index:litologia}\n",
    "            dict_cartas['litologia'].update(y)\n",
    "        \n",
    "        if data.empty:\n",
    "            None\n",
    "            print('Folha cartografica sem dados Aerogeofisicos')\n",
    "\n",
    "    return dict_cartas,dic_raw_meta"
   ]
  },
  {
   "cell_type": "code",
   "execution_count": 14,
   "metadata": {},
   "outputs": [
    {
     "name": "stdout",
     "output_type": "stream",
     "text": [
      "# Importando dados\n",
      "Diretório de dados aerogeofisicos brutos: /home/ggrl/geodatabase/geof/gama_line_3022\n"
     ]
    },
    {
     "ename": "FileNotFoundError",
     "evalue": "[Errno 2] No such file or directory: '/home/ggrl/geodatabase/geof/gama_line_3022'",
     "output_type": "error",
     "traceback": [
      "\u001b[0;31m---------------------------------------------------------------------------\u001b[0m",
      "\u001b[0;31mFileNotFoundError\u001b[0m                         Traceback (most recent call last)",
      "\u001b[0;32m/tmp/ipykernel_4776/2812194037.py\u001b[0m in \u001b[0;36m<module>\u001b[0;34m\u001b[0m\n\u001b[0;32m----> 1\u001b[0;31m \u001b[0ma\u001b[0m\u001b[0;34m,\u001b[0m \u001b[0mb\u001b[0m \u001b[0;34m=\u001b[0m \u001b[0mget_region\u001b[0m\u001b[0;34m(\u001b[0m\u001b[0;34m'250k'\u001b[0m\u001b[0;34m,\u001b[0m\u001b[0;34m'SF_'\u001b[0m\u001b[0;34m,\u001b[0m\u001b[0;34m'gama_line_3022'\u001b[0m\u001b[0;34m,\u001b[0m\u001b[0;34m'litologia_100k'\u001b[0m\u001b[0;34m)\u001b[0m\u001b[0;34m\u001b[0m\u001b[0;34m\u001b[0m\u001b[0m\n\u001b[0m",
      "\u001b[0;32m/tmp/ipykernel_4776/1330633314.py\u001b[0m in \u001b[0;36mget_region\u001b[0;34m(escala, id, geof, camada, mapa)\u001b[0m\n\u001b[1;32m     17\u001b[0m     '''\n\u001b[1;32m     18\u001b[0m     \u001b[0mprint\u001b[0m\u001b[0;34m(\u001b[0m\u001b[0;34m'# Importando dados'\u001b[0m\u001b[0;34m)\u001b[0m\u001b[0;34m\u001b[0m\u001b[0;34m\u001b[0m\u001b[0m\n\u001b[0;32m---> 19\u001b[0;31m     \u001b[0mlitologia\u001b[0m\u001b[0;34m,\u001b[0m \u001b[0mgeof_dataframe\u001b[0m \u001b[0;34m=\u001b[0m \u001b[0mdado_bruto\u001b[0m\u001b[0;34m(\u001b[0m\u001b[0mcamada\u001b[0m\u001b[0;34m,\u001b[0m\u001b[0mmapa\u001b[0m\u001b[0;34m,\u001b[0m\u001b[0mgeof\u001b[0m\u001b[0;34m)\u001b[0m\u001b[0;34m\u001b[0m\u001b[0;34m\u001b[0m\u001b[0m\n\u001b[0m\u001b[1;32m     20\u001b[0m \u001b[0;34m\u001b[0m\u001b[0m\n\u001b[1;32m     21\u001b[0m     \u001b[0;31m# LISTANDO REGIOES DAS FOLHAS DE CARTAS\u001b[0m\u001b[0;34m\u001b[0m\u001b[0;34m\u001b[0m\u001b[0;34m\u001b[0m\u001b[0m\n",
      "\u001b[0;32m~/Projetos/ic_2020/src/funcs_importar.py\u001b[0m in \u001b[0;36mdado_bruto\u001b[0;34m(camada, mapa, geof)\u001b[0m\n\u001b[1;32m     42\u001b[0m     \u001b[0mprint\u001b[0m\u001b[0;34m(\u001b[0m\u001b[0;34mf'Diretório de dados aerogeofisicos brutos: {path_geof}'\u001b[0m\u001b[0;34m)\u001b[0m\u001b[0;34m\u001b[0m\u001b[0;34m\u001b[0m\u001b[0m\n\u001b[1;32m     43\u001b[0m \u001b[0;34m\u001b[0m\u001b[0m\n\u001b[0;32m---> 44\u001b[0;31m     \u001b[0mgeof_dataframe\u001b[0m \u001b[0;34m=\u001b[0m \u001b[0mpd\u001b[0m\u001b[0;34m.\u001b[0m\u001b[0mread_csv\u001b[0m\u001b[0;34m(\u001b[0m\u001b[0mpath_geof\u001b[0m\u001b[0;34m)\u001b[0m\u001b[0;34m\u001b[0m\u001b[0;34m\u001b[0m\u001b[0m\n\u001b[0m\u001b[1;32m     45\u001b[0m \u001b[0;34m\u001b[0m\u001b[0m\n\u001b[1;32m     46\u001b[0m     \u001b[0mpath_lito\u001b[0m \u001b[0;34m=\u001b[0m \u001b[0mgdb\u001b[0m\u001b[0;34m(\u001b[0m\u001b[0;34m)\u001b[0m\u001b[0;34m\u001b[0m\u001b[0;34m\u001b[0m\u001b[0m\n",
      "\u001b[0;32m~/anaconda3/envs/geologist_bot/lib/python3.8/site-packages/pandas/util/_decorators.py\u001b[0m in \u001b[0;36mwrapper\u001b[0;34m(*args, **kwargs)\u001b[0m\n\u001b[1;32m    309\u001b[0m                     \u001b[0mstacklevel\u001b[0m\u001b[0;34m=\u001b[0m\u001b[0mstacklevel\u001b[0m\u001b[0;34m,\u001b[0m\u001b[0;34m\u001b[0m\u001b[0;34m\u001b[0m\u001b[0m\n\u001b[1;32m    310\u001b[0m                 )\n\u001b[0;32m--> 311\u001b[0;31m             \u001b[0;32mreturn\u001b[0m \u001b[0mfunc\u001b[0m\u001b[0;34m(\u001b[0m\u001b[0;34m*\u001b[0m\u001b[0margs\u001b[0m\u001b[0;34m,\u001b[0m \u001b[0;34m**\u001b[0m\u001b[0mkwargs\u001b[0m\u001b[0;34m)\u001b[0m\u001b[0;34m\u001b[0m\u001b[0;34m\u001b[0m\u001b[0m\n\u001b[0m\u001b[1;32m    312\u001b[0m \u001b[0;34m\u001b[0m\u001b[0m\n\u001b[1;32m    313\u001b[0m         \u001b[0;32mreturn\u001b[0m \u001b[0mwrapper\u001b[0m\u001b[0;34m\u001b[0m\u001b[0;34m\u001b[0m\u001b[0m\n",
      "\u001b[0;32m~/anaconda3/envs/geologist_bot/lib/python3.8/site-packages/pandas/io/parsers/readers.py\u001b[0m in \u001b[0;36mread_csv\u001b[0;34m(filepath_or_buffer, sep, delimiter, header, names, index_col, usecols, squeeze, prefix, mangle_dupe_cols, dtype, engine, converters, true_values, false_values, skipinitialspace, skiprows, skipfooter, nrows, na_values, keep_default_na, na_filter, verbose, skip_blank_lines, parse_dates, infer_datetime_format, keep_date_col, date_parser, dayfirst, cache_dates, iterator, chunksize, compression, thousands, decimal, lineterminator, quotechar, quoting, doublequote, escapechar, comment, encoding, encoding_errors, dialect, error_bad_lines, warn_bad_lines, on_bad_lines, delim_whitespace, low_memory, memory_map, float_precision, storage_options)\u001b[0m\n\u001b[1;32m    584\u001b[0m     \u001b[0mkwds\u001b[0m\u001b[0;34m.\u001b[0m\u001b[0mupdate\u001b[0m\u001b[0;34m(\u001b[0m\u001b[0mkwds_defaults\u001b[0m\u001b[0;34m)\u001b[0m\u001b[0;34m\u001b[0m\u001b[0;34m\u001b[0m\u001b[0m\n\u001b[1;32m    585\u001b[0m \u001b[0;34m\u001b[0m\u001b[0m\n\u001b[0;32m--> 586\u001b[0;31m     \u001b[0;32mreturn\u001b[0m \u001b[0m_read\u001b[0m\u001b[0;34m(\u001b[0m\u001b[0mfilepath_or_buffer\u001b[0m\u001b[0;34m,\u001b[0m \u001b[0mkwds\u001b[0m\u001b[0;34m)\u001b[0m\u001b[0;34m\u001b[0m\u001b[0;34m\u001b[0m\u001b[0m\n\u001b[0m\u001b[1;32m    587\u001b[0m \u001b[0;34m\u001b[0m\u001b[0m\n\u001b[1;32m    588\u001b[0m \u001b[0;34m\u001b[0m\u001b[0m\n",
      "\u001b[0;32m~/anaconda3/envs/geologist_bot/lib/python3.8/site-packages/pandas/io/parsers/readers.py\u001b[0m in \u001b[0;36m_read\u001b[0;34m(filepath_or_buffer, kwds)\u001b[0m\n\u001b[1;32m    480\u001b[0m \u001b[0;34m\u001b[0m\u001b[0m\n\u001b[1;32m    481\u001b[0m     \u001b[0;31m# Create the parser.\u001b[0m\u001b[0;34m\u001b[0m\u001b[0;34m\u001b[0m\u001b[0;34m\u001b[0m\u001b[0m\n\u001b[0;32m--> 482\u001b[0;31m     \u001b[0mparser\u001b[0m \u001b[0;34m=\u001b[0m \u001b[0mTextFileReader\u001b[0m\u001b[0;34m(\u001b[0m\u001b[0mfilepath_or_buffer\u001b[0m\u001b[0;34m,\u001b[0m \u001b[0;34m**\u001b[0m\u001b[0mkwds\u001b[0m\u001b[0;34m)\u001b[0m\u001b[0;34m\u001b[0m\u001b[0;34m\u001b[0m\u001b[0m\n\u001b[0m\u001b[1;32m    483\u001b[0m \u001b[0;34m\u001b[0m\u001b[0m\n\u001b[1;32m    484\u001b[0m     \u001b[0;32mif\u001b[0m \u001b[0mchunksize\u001b[0m \u001b[0;32mor\u001b[0m \u001b[0miterator\u001b[0m\u001b[0;34m:\u001b[0m\u001b[0;34m\u001b[0m\u001b[0;34m\u001b[0m\u001b[0m\n",
      "\u001b[0;32m~/anaconda3/envs/geologist_bot/lib/python3.8/site-packages/pandas/io/parsers/readers.py\u001b[0m in \u001b[0;36m__init__\u001b[0;34m(self, f, engine, **kwds)\u001b[0m\n\u001b[1;32m    809\u001b[0m             \u001b[0mself\u001b[0m\u001b[0;34m.\u001b[0m\u001b[0moptions\u001b[0m\u001b[0;34m[\u001b[0m\u001b[0;34m\"has_index_names\"\u001b[0m\u001b[0;34m]\u001b[0m \u001b[0;34m=\u001b[0m \u001b[0mkwds\u001b[0m\u001b[0;34m[\u001b[0m\u001b[0;34m\"has_index_names\"\u001b[0m\u001b[0;34m]\u001b[0m\u001b[0;34m\u001b[0m\u001b[0;34m\u001b[0m\u001b[0m\n\u001b[1;32m    810\u001b[0m \u001b[0;34m\u001b[0m\u001b[0m\n\u001b[0;32m--> 811\u001b[0;31m         \u001b[0mself\u001b[0m\u001b[0;34m.\u001b[0m\u001b[0m_engine\u001b[0m \u001b[0;34m=\u001b[0m \u001b[0mself\u001b[0m\u001b[0;34m.\u001b[0m\u001b[0m_make_engine\u001b[0m\u001b[0;34m(\u001b[0m\u001b[0mself\u001b[0m\u001b[0;34m.\u001b[0m\u001b[0mengine\u001b[0m\u001b[0;34m)\u001b[0m\u001b[0;34m\u001b[0m\u001b[0;34m\u001b[0m\u001b[0m\n\u001b[0m\u001b[1;32m    812\u001b[0m \u001b[0;34m\u001b[0m\u001b[0m\n\u001b[1;32m    813\u001b[0m     \u001b[0;32mdef\u001b[0m \u001b[0mclose\u001b[0m\u001b[0;34m(\u001b[0m\u001b[0mself\u001b[0m\u001b[0;34m)\u001b[0m\u001b[0;34m:\u001b[0m\u001b[0;34m\u001b[0m\u001b[0;34m\u001b[0m\u001b[0m\n",
      "\u001b[0;32m~/anaconda3/envs/geologist_bot/lib/python3.8/site-packages/pandas/io/parsers/readers.py\u001b[0m in \u001b[0;36m_make_engine\u001b[0;34m(self, engine)\u001b[0m\n\u001b[1;32m   1038\u001b[0m             )\n\u001b[1;32m   1039\u001b[0m         \u001b[0;31m# error: Too many arguments for \"ParserBase\"\u001b[0m\u001b[0;34m\u001b[0m\u001b[0;34m\u001b[0m\u001b[0;34m\u001b[0m\u001b[0m\n\u001b[0;32m-> 1040\u001b[0;31m         \u001b[0;32mreturn\u001b[0m \u001b[0mmapping\u001b[0m\u001b[0;34m[\u001b[0m\u001b[0mengine\u001b[0m\u001b[0;34m]\u001b[0m\u001b[0;34m(\u001b[0m\u001b[0mself\u001b[0m\u001b[0;34m.\u001b[0m\u001b[0mf\u001b[0m\u001b[0;34m,\u001b[0m \u001b[0;34m**\u001b[0m\u001b[0mself\u001b[0m\u001b[0;34m.\u001b[0m\u001b[0moptions\u001b[0m\u001b[0;34m)\u001b[0m  \u001b[0;31m# type: ignore[call-arg]\u001b[0m\u001b[0;34m\u001b[0m\u001b[0;34m\u001b[0m\u001b[0m\n\u001b[0m\u001b[1;32m   1041\u001b[0m \u001b[0;34m\u001b[0m\u001b[0m\n\u001b[1;32m   1042\u001b[0m     \u001b[0;32mdef\u001b[0m \u001b[0m_failover_to_python\u001b[0m\u001b[0;34m(\u001b[0m\u001b[0mself\u001b[0m\u001b[0;34m)\u001b[0m\u001b[0;34m:\u001b[0m\u001b[0;34m\u001b[0m\u001b[0;34m\u001b[0m\u001b[0m\n",
      "\u001b[0;32m~/anaconda3/envs/geologist_bot/lib/python3.8/site-packages/pandas/io/parsers/c_parser_wrapper.py\u001b[0m in \u001b[0;36m__init__\u001b[0;34m(self, src, **kwds)\u001b[0m\n\u001b[1;32m     49\u001b[0m \u001b[0;34m\u001b[0m\u001b[0m\n\u001b[1;32m     50\u001b[0m         \u001b[0;31m# open handles\u001b[0m\u001b[0;34m\u001b[0m\u001b[0;34m\u001b[0m\u001b[0;34m\u001b[0m\u001b[0m\n\u001b[0;32m---> 51\u001b[0;31m         \u001b[0mself\u001b[0m\u001b[0;34m.\u001b[0m\u001b[0m_open_handles\u001b[0m\u001b[0;34m(\u001b[0m\u001b[0msrc\u001b[0m\u001b[0;34m,\u001b[0m \u001b[0mkwds\u001b[0m\u001b[0;34m)\u001b[0m\u001b[0;34m\u001b[0m\u001b[0;34m\u001b[0m\u001b[0m\n\u001b[0m\u001b[1;32m     52\u001b[0m         \u001b[0;32massert\u001b[0m \u001b[0mself\u001b[0m\u001b[0;34m.\u001b[0m\u001b[0mhandles\u001b[0m \u001b[0;32mis\u001b[0m \u001b[0;32mnot\u001b[0m \u001b[0;32mNone\u001b[0m\u001b[0;34m\u001b[0m\u001b[0;34m\u001b[0m\u001b[0m\n\u001b[1;32m     53\u001b[0m \u001b[0;34m\u001b[0m\u001b[0m\n",
      "\u001b[0;32m~/anaconda3/envs/geologist_bot/lib/python3.8/site-packages/pandas/io/parsers/base_parser.py\u001b[0m in \u001b[0;36m_open_handles\u001b[0;34m(self, src, kwds)\u001b[0m\n\u001b[1;32m    220\u001b[0m         \u001b[0mLet\u001b[0m \u001b[0mthe\u001b[0m \u001b[0mreaders\u001b[0m \u001b[0mopen\u001b[0m \u001b[0mIOHandles\u001b[0m \u001b[0mafter\u001b[0m \u001b[0mthey\u001b[0m \u001b[0mare\u001b[0m \u001b[0mdone\u001b[0m \u001b[0;32mwith\u001b[0m \u001b[0mtheir\u001b[0m \u001b[0mpotential\u001b[0m \u001b[0mraises\u001b[0m\u001b[0;34m.\u001b[0m\u001b[0;34m\u001b[0m\u001b[0;34m\u001b[0m\u001b[0m\n\u001b[1;32m    221\u001b[0m         \"\"\"\n\u001b[0;32m--> 222\u001b[0;31m         self.handles = get_handle(\n\u001b[0m\u001b[1;32m    223\u001b[0m             \u001b[0msrc\u001b[0m\u001b[0;34m,\u001b[0m\u001b[0;34m\u001b[0m\u001b[0;34m\u001b[0m\u001b[0m\n\u001b[1;32m    224\u001b[0m             \u001b[0;34m\"r\"\u001b[0m\u001b[0;34m,\u001b[0m\u001b[0;34m\u001b[0m\u001b[0;34m\u001b[0m\u001b[0m\n",
      "\u001b[0;32m~/anaconda3/envs/geologist_bot/lib/python3.8/site-packages/pandas/io/common.py\u001b[0m in \u001b[0;36mget_handle\u001b[0;34m(path_or_buf, mode, encoding, compression, memory_map, is_text, errors, storage_options)\u001b[0m\n\u001b[1;32m    699\u001b[0m         \u001b[0;32mif\u001b[0m \u001b[0mioargs\u001b[0m\u001b[0;34m.\u001b[0m\u001b[0mencoding\u001b[0m \u001b[0;32mand\u001b[0m \u001b[0;34m\"b\"\u001b[0m \u001b[0;32mnot\u001b[0m \u001b[0;32min\u001b[0m \u001b[0mioargs\u001b[0m\u001b[0;34m.\u001b[0m\u001b[0mmode\u001b[0m\u001b[0;34m:\u001b[0m\u001b[0;34m\u001b[0m\u001b[0;34m\u001b[0m\u001b[0m\n\u001b[1;32m    700\u001b[0m             \u001b[0;31m# Encoding\u001b[0m\u001b[0;34m\u001b[0m\u001b[0;34m\u001b[0m\u001b[0;34m\u001b[0m\u001b[0m\n\u001b[0;32m--> 701\u001b[0;31m             handle = open(\n\u001b[0m\u001b[1;32m    702\u001b[0m                 \u001b[0mhandle\u001b[0m\u001b[0;34m,\u001b[0m\u001b[0;34m\u001b[0m\u001b[0;34m\u001b[0m\u001b[0m\n\u001b[1;32m    703\u001b[0m                 \u001b[0mioargs\u001b[0m\u001b[0;34m.\u001b[0m\u001b[0mmode\u001b[0m\u001b[0;34m,\u001b[0m\u001b[0;34m\u001b[0m\u001b[0;34m\u001b[0m\u001b[0m\n",
      "\u001b[0;31mFileNotFoundError\u001b[0m: [Errno 2] No such file or directory: '/home/ggrl/geodatabase/geof/gama_line_3022'"
     ]
    }
   ],
   "source": [
    "a, b = get_region('250k','SF_','gama_line_3022','litologia_100k')"
   ]
  },
  {
   "cell_type": "code",
   "execution_count": null,
   "metadata": {},
   "outputs": [],
   "source": []
  }
 ],
 "metadata": {
  "interpreter": {
   "hash": "d412e3d091f5968552f8aa760bc8da416522b5884f97efbbec2149c97127b032"
  },
  "kernelspec": {
   "display_name": "Python 3.8.11 64-bit ('geologist_bot': conda)",
   "name": "python3"
  },
  "language_info": {
   "codemirror_mode": {
    "name": "ipython",
    "version": 3
   },
   "file_extension": ".py",
   "mimetype": "text/x-python",
   "name": "python",
   "nbconvert_exporter": "python",
   "pygments_lexer": "ipython3",
   "version": "3.8.11"
  }
 },
 "nbformat": 4,
 "nbformat_minor": 4
}
