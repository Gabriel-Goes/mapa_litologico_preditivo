{
 "cells": [
  {
   "cell_type": "code",
   "execution_count": 1,
   "metadata": {},
   "outputs": [],
   "source": [
    "import pandas as pd\n",
    "from sources.importar import geometrias                         # ARQUIVO COM DEFINICOES DE FUNCOES ESCRITAS EM\n",
    "                                                             # PYTHON PARA FACILITAR OS PROCESSOS DE PLOTS E LEITURA DOS DADOS...\n",
    "                                                             # E NO FUTURO GERAR UM SCRIPT DE ENCADEAMENTO DESTAS FUNÇOES.\n",
    "\n",
    "from sources.descricao import descricao\n",
    "\n",
    "gdb = '/home/ggrl/geodatabase/'"
   ]
  },
  {
   "cell_type": "markdown",
   "metadata": {},
   "source": [
    "# Levantamento 1105"
   ]
  },
  {
   "cell_type": "markdown",
   "metadata": {},
   "source": [
    "### Recuperando os dados selecionados do XYZ para serem analizados"
   ]
  },
  {
   "cell_type": "code",
   "execution_count": 2,
   "metadata": {},
   "outputs": [],
   "source": [
    "gama_line_1105 = geometrias(geofisico='gama_line_1105')\n",
    "#gama_tie_1105 = geometrias(geofisico='gama_tie_1105')\n",
    "gama_1105 = geometrias(geofisico='gama_1105')"
   ]
  },
  {
   "cell_type": "code",
   "execution_count": 3,
   "metadata": {},
   "outputs": [
    {
     "name": "stdout",
     "output_type": "stream",
     "text": [
      "<class 'pandas.core.frame.DataFrame'>\n",
      "RangeIndex: 1169659 entries, 0 to 1169658\n",
      "Data columns (total 12 columns):\n",
      " #   Column     Non-Null Count    Dtype  \n",
      "---  ------     --------------    -----  \n",
      " 0   KPERC      1169659 non-null  float64\n",
      " 1   eU         1169659 non-null  float64\n",
      " 2   eTH        1169659 non-null  float64\n",
      " 3   UTHRAZAO   1169659 non-null  float64\n",
      " 4   X          1169659 non-null  float64\n",
      " 5   Y          1169659 non-null  float64\n",
      " 6   UKRAZAO    1169659 non-null  float64\n",
      " 7   MDT        1169659 non-null  float64\n",
      " 8   THKRAZAO   1169659 non-null  float64\n",
      " 9   CTCOR      1169659 non-null  float64\n",
      " 10  LATITUDE   1169659 non-null  float64\n",
      " 11  LONGITUDE  1169659 non-null  float64\n",
      "dtypes: float64(12)\n",
      "memory usage: 107.1 MB\n"
     ]
    }
   ],
   "source": [
    "gama_line_1105.info()\n",
    "#gama_tie_1105.info()"
   ]
  },
  {
   "cell_type": "markdown",
   "metadata": {},
   "source": [
    "## Dados Gamaespectrometricos"
   ]
  },
  {
   "cell_type": "markdown",
   "metadata": {},
   "source": [
    "### Definindo funçoes que listam os dados brutos e descreve suas distribuiçoes estatisticas"
   ]
  },
  {
   "cell_type": "code",
   "execution_count": 4,
   "metadata": {},
   "outputs": [],
   "source": [
    "def list_columns(geof):\n",
    "    print('Listando atributos dos dados geofisicos')\n",
    "    atributos_geof = list(geof.columns)             # DataFrame.columns\n",
    "    lista_atributo_geof=[]\n",
    "    lista_atributo_geog=[]\n",
    "    lista_atributo_proj=[]\n",
    "\n",
    "    for atributo in atributos_geof:\n",
    "        if atributo == 'LATITUDE':\n",
    "            lista_atributo_geog.append(atributo)\n",
    "        elif atributo == 'LONGITUDE':\n",
    "            lista_atributo_geog.append(atributo)\n",
    "        elif atributo == 'LONG':\n",
    "            lista_atributo_geog.append(atributo)\n",
    "        elif atributo == 'LAT':\n",
    "            lista_atributo_geog.append(atributo) \n",
    "        elif atributo == 'X':\n",
    "            lista_atributo_proj.append(atributo)\n",
    "        elif atributo == 'Y':\n",
    "            lista_atributo_proj.append(atributo)\n",
    "        elif atributo == 'UTME':\n",
    "            lista_atributo_proj.append(atributo)\n",
    "        elif atributo == 'UTMN':\n",
    "            lista_atributo_proj.append(atributo)\n",
    "        else:\n",
    "            lista_atributo_geof.append(atributo)\n",
    "    codigo=str(geof)        \n",
    "    print(f\"# --- # Listagem de dados do aerolevantamento:  \")\n",
    "    print(f\"Lista de atributos geofísicos = {lista_atributo_geof}\")\n",
    "    print(f\"lista de atributos geograficos = {lista_atributo_geog}\")\n",
    "    print(f\"lista de atributos projetados = {lista_atributo_proj}\")\n",
    "    return lista_atributo_geof, lista_atributo_geog, lista_atributo_proj"
   ]
  },
  {
   "cell_type": "code",
   "execution_count": 5,
   "metadata": {},
   "outputs": [],
   "source": [
    "# DESCRIÇÃO ESTATISTICA DOS DADOS AEROGEOFÍSICOS\n",
    "def descricao(geof):\n",
    "    lista_atributo_geof,lista_atributo_geog,lista_atributo_proj = list_columns(geof)  # USANDO FUNCAO DEFINIDA ACIMA PARA CATEGORIZAR METADADO\n",
    "    \n",
    "    \n",
    "    metadatadict = pd.DataFrame(geof.dtypes)\n",
    "    metadatadict[\"Valores Faltantes\"] = geof.isnull().sum()\n",
    "    metadatadict[\"Valores Únicos\"] = geof.nunique()\n",
    "    metadatadict[\"Valoes Negativos\"] = sum(n < 0 for n in geof.values)\n",
    "    metadatadict[\"Amostragem\"] = geof.count()\n",
    "    metadatadict = metadatadict.rename(columns = {0 : 'dType'})\n",
    "\n",
    "    geof_df = geof.drop(axis=0,columns=lista_atributo_geog)\n",
    "    geof_df.drop(axis=0,columns=lista_atributo_proj,inplace=True)\n",
    "\n",
    "    #datadict['Valores Negativos'] = lista_negativo\n",
    "\n",
    "    geof_descrito = geof_df.describe(percentiles=[0.001,0.1,0.25,0.5,0.75,0.995])\n",
    "    \n",
    "    return metadatadict,lista_atributo_geof,lista_atributo_geog,lista_atributo_proj,geof_descrito\n"
   ]
  },
  {
   "cell_type": "markdown",
   "metadata": {},
   "source": [
    "### Descriçao estatistica dos dados brutos"
   ]
  },
  {
   "cell_type": "code",
   "execution_count": 6,
   "metadata": {},
   "outputs": [
    {
     "name": "stdout",
     "output_type": "stream",
     "text": [
      "Listando atributos dos dados geofisicos\n",
      "# --- # Listagem de dados do aerolevantamento:  \n",
      "Lista de atributos geofísicos = ['KPERC', 'eU', 'eTH', 'UTHRAZAO', 'UKRAZAO', 'MDT', 'THKRAZAO', 'CTCOR']\n",
      "lista de atributos geograficos = ['LATITUDE', 'LONGITUDE']\n",
      "lista de atributos projetados = ['X', 'Y']\n"
     ]
    }
   ],
   "source": [
    "describe_gama_line_1105 = descricao(gama_line_1105)"
   ]
  },
  {
   "cell_type": "code",
   "execution_count": 7,
   "metadata": {},
   "outputs": [
    {
     "name": "stdout",
     "output_type": "stream",
     "text": [
      "Listando atributos dos dados geofisicos\n",
      "# --- # Listagem de dados do aerolevantamento:  \n",
      "Lista de atributos geofísicos = ['KPERC', 'eU', 'eTH', 'UTHRAZAO', 'UKRAZAO', 'MDT', 'THKRAZAO', 'CTCOR']\n",
      "lista de atributos geograficos = ['LATITUDE', 'LONGITUDE']\n",
      "lista de atributos projetados = ['X', 'Y']\n"
     ]
    }
   ],
   "source": [
    "describe_gama_1105 = descricao(gama_1105)"
   ]
  },
  {
   "cell_type": "code",
   "execution_count": 8,
   "metadata": {},
   "outputs": [
    {
     "data": {
      "text/html": [
       "<div>\n",
       "<style scoped>\n",
       "    .dataframe tbody tr th:only-of-type {\n",
       "        vertical-align: middle;\n",
       "    }\n",
       "\n",
       "    .dataframe tbody tr th {\n",
       "        vertical-align: top;\n",
       "    }\n",
       "\n",
       "    .dataframe thead th {\n",
       "        text-align: right;\n",
       "    }\n",
       "</style>\n",
       "<table border=\"1\" class=\"dataframe\">\n",
       "  <thead>\n",
       "    <tr style=\"text-align: right;\">\n",
       "      <th></th>\n",
       "      <th>dType</th>\n",
       "      <th>Valores Faltantes</th>\n",
       "      <th>Valores Únicos</th>\n",
       "      <th>Valoes Negativos</th>\n",
       "      <th>Amostragem</th>\n",
       "    </tr>\n",
       "  </thead>\n",
       "  <tbody>\n",
       "    <tr>\n",
       "      <th>KPERC</th>\n",
       "      <td>float64</td>\n",
       "      <td>0</td>\n",
       "      <td>6955</td>\n",
       "      <td>47711</td>\n",
       "      <td>1169659</td>\n",
       "    </tr>\n",
       "    <tr>\n",
       "      <th>eU</th>\n",
       "      <td>float64</td>\n",
       "      <td>0</td>\n",
       "      <td>8168</td>\n",
       "      <td>55720</td>\n",
       "      <td>1169659</td>\n",
       "    </tr>\n",
       "    <tr>\n",
       "      <th>eTH</th>\n",
       "      <td>float64</td>\n",
       "      <td>0</td>\n",
       "      <td>61336</td>\n",
       "      <td>35862</td>\n",
       "      <td>1169659</td>\n",
       "    </tr>\n",
       "    <tr>\n",
       "      <th>UTHRAZAO</th>\n",
       "      <td>float64</td>\n",
       "      <td>0</td>\n",
       "      <td>793</td>\n",
       "      <td>0</td>\n",
       "      <td>1169659</td>\n",
       "    </tr>\n",
       "    <tr>\n",
       "      <th>X</th>\n",
       "      <td>float64</td>\n",
       "      <td>0</td>\n",
       "      <td>888292</td>\n",
       "      <td>0</td>\n",
       "      <td>1169659</td>\n",
       "    </tr>\n",
       "    <tr>\n",
       "      <th>Y</th>\n",
       "      <td>float64</td>\n",
       "      <td>0</td>\n",
       "      <td>1134332</td>\n",
       "      <td>0</td>\n",
       "      <td>1169659</td>\n",
       "    </tr>\n",
       "    <tr>\n",
       "      <th>UKRAZAO</th>\n",
       "      <td>float64</td>\n",
       "      <td>0</td>\n",
       "      <td>18813</td>\n",
       "      <td>0</td>\n",
       "      <td>1169659</td>\n",
       "    </tr>\n",
       "    <tr>\n",
       "      <th>MDT</th>\n",
       "      <td>float64</td>\n",
       "      <td>0</td>\n",
       "      <td>165213</td>\n",
       "      <td>72</td>\n",
       "      <td>1169659</td>\n",
       "    </tr>\n",
       "    <tr>\n",
       "      <th>THKRAZAO</th>\n",
       "      <td>float64</td>\n",
       "      <td>0</td>\n",
       "      <td>115015</td>\n",
       "      <td>0</td>\n",
       "      <td>1169659</td>\n",
       "    </tr>\n",
       "    <tr>\n",
       "      <th>CTCOR</th>\n",
       "      <td>float64</td>\n",
       "      <td>0</td>\n",
       "      <td>56613</td>\n",
       "      <td>12033</td>\n",
       "      <td>1169659</td>\n",
       "    </tr>\n",
       "    <tr>\n",
       "      <th>LATITUDE</th>\n",
       "      <td>float64</td>\n",
       "      <td>0</td>\n",
       "      <td>851263</td>\n",
       "      <td>1169659</td>\n",
       "      <td>1169659</td>\n",
       "    </tr>\n",
       "    <tr>\n",
       "      <th>LONGITUDE</th>\n",
       "      <td>float64</td>\n",
       "      <td>0</td>\n",
       "      <td>728161</td>\n",
       "      <td>1169659</td>\n",
       "      <td>1169659</td>\n",
       "    </tr>\n",
       "  </tbody>\n",
       "</table>\n",
       "</div>"
      ],
      "text/plain": [
       "             dType  Valores Faltantes  Valores Únicos  Valoes Negativos  \\\n",
       "KPERC      float64                  0            6955             47711   \n",
       "eU         float64                  0            8168             55720   \n",
       "eTH        float64                  0           61336             35862   \n",
       "UTHRAZAO   float64                  0             793                 0   \n",
       "X          float64                  0          888292                 0   \n",
       "Y          float64                  0         1134332                 0   \n",
       "UKRAZAO    float64                  0           18813                 0   \n",
       "MDT        float64                  0          165213                72   \n",
       "THKRAZAO   float64                  0          115015                 0   \n",
       "CTCOR      float64                  0           56613             12033   \n",
       "LATITUDE   float64                  0          851263           1169659   \n",
       "LONGITUDE  float64                  0          728161           1169659   \n",
       "\n",
       "           Amostragem  \n",
       "KPERC         1169659  \n",
       "eU            1169659  \n",
       "eTH           1169659  \n",
       "UTHRAZAO      1169659  \n",
       "X             1169659  \n",
       "Y             1169659  \n",
       "UKRAZAO       1169659  \n",
       "MDT           1169659  \n",
       "THKRAZAO      1169659  \n",
       "CTCOR         1169659  \n",
       "LATITUDE      1169659  \n",
       "LONGITUDE     1169659  "
      ]
     },
     "execution_count": 8,
     "metadata": {},
     "output_type": "execute_result"
    }
   ],
   "source": [
    "describe_gama_line_1105[0]"
   ]
  },
  {
   "cell_type": "code",
   "execution_count": 9,
   "metadata": {},
   "outputs": [
    {
     "data": {
      "text/html": [
       "<div>\n",
       "<style scoped>\n",
       "    .dataframe tbody tr th:only-of-type {\n",
       "        vertical-align: middle;\n",
       "    }\n",
       "\n",
       "    .dataframe tbody tr th {\n",
       "        vertical-align: top;\n",
       "    }\n",
       "\n",
       "    .dataframe thead th {\n",
       "        text-align: right;\n",
       "    }\n",
       "</style>\n",
       "<table border=\"1\" class=\"dataframe\">\n",
       "  <thead>\n",
       "    <tr style=\"text-align: right;\">\n",
       "      <th></th>\n",
       "      <th>dType</th>\n",
       "      <th>Valores Faltantes</th>\n",
       "      <th>Valores Únicos</th>\n",
       "      <th>Valoes Negativos</th>\n",
       "      <th>Amostragem</th>\n",
       "    </tr>\n",
       "  </thead>\n",
       "  <tbody>\n",
       "    <tr>\n",
       "      <th>KPERC</th>\n",
       "      <td>float64</td>\n",
       "      <td>0</td>\n",
       "      <td>7305</td>\n",
       "      <td>49199</td>\n",
       "      <td>1242654</td>\n",
       "    </tr>\n",
       "    <tr>\n",
       "      <th>eU</th>\n",
       "      <td>float64</td>\n",
       "      <td>0</td>\n",
       "      <td>8616</td>\n",
       "      <td>56179</td>\n",
       "      <td>1242654</td>\n",
       "    </tr>\n",
       "    <tr>\n",
       "      <th>eTH</th>\n",
       "      <td>float64</td>\n",
       "      <td>0</td>\n",
       "      <td>62948</td>\n",
       "      <td>35876</td>\n",
       "      <td>1242654</td>\n",
       "    </tr>\n",
       "    <tr>\n",
       "      <th>UTHRAZAO</th>\n",
       "      <td>float64</td>\n",
       "      <td>0</td>\n",
       "      <td>1690</td>\n",
       "      <td>0</td>\n",
       "      <td>1242654</td>\n",
       "    </tr>\n",
       "    <tr>\n",
       "      <th>X</th>\n",
       "      <td>float64</td>\n",
       "      <td>0</td>\n",
       "      <td>958978</td>\n",
       "      <td>0</td>\n",
       "      <td>1242654</td>\n",
       "    </tr>\n",
       "    <tr>\n",
       "      <th>Y</th>\n",
       "      <td>float64</td>\n",
       "      <td>0</td>\n",
       "      <td>1185116</td>\n",
       "      <td>0</td>\n",
       "      <td>1242654</td>\n",
       "    </tr>\n",
       "    <tr>\n",
       "      <th>UKRAZAO</th>\n",
       "      <td>float64</td>\n",
       "      <td>0</td>\n",
       "      <td>26204</td>\n",
       "      <td>0</td>\n",
       "      <td>1242654</td>\n",
       "    </tr>\n",
       "    <tr>\n",
       "      <th>MDT</th>\n",
       "      <td>float64</td>\n",
       "      <td>0</td>\n",
       "      <td>167518</td>\n",
       "      <td>72</td>\n",
       "      <td>1242654</td>\n",
       "    </tr>\n",
       "    <tr>\n",
       "      <th>THKRAZAO</th>\n",
       "      <td>float64</td>\n",
       "      <td>0</td>\n",
       "      <td>118446</td>\n",
       "      <td>0</td>\n",
       "      <td>1242654</td>\n",
       "    </tr>\n",
       "    <tr>\n",
       "      <th>CTCOR</th>\n",
       "      <td>float64</td>\n",
       "      <td>0</td>\n",
       "      <td>57163</td>\n",
       "      <td>12036</td>\n",
       "      <td>1242654</td>\n",
       "    </tr>\n",
       "    <tr>\n",
       "      <th>LATITUDE</th>\n",
       "      <td>float64</td>\n",
       "      <td>0</td>\n",
       "      <td>872260</td>\n",
       "      <td>1242654</td>\n",
       "      <td>1242654</td>\n",
       "    </tr>\n",
       "    <tr>\n",
       "      <th>LONGITUDE</th>\n",
       "      <td>float64</td>\n",
       "      <td>0</td>\n",
       "      <td>775641</td>\n",
       "      <td>1242654</td>\n",
       "      <td>1242654</td>\n",
       "    </tr>\n",
       "  </tbody>\n",
       "</table>\n",
       "</div>"
      ],
      "text/plain": [
       "             dType  Valores Faltantes  Valores Únicos  Valoes Negativos  \\\n",
       "KPERC      float64                  0            7305             49199   \n",
       "eU         float64                  0            8616             56179   \n",
       "eTH        float64                  0           62948             35876   \n",
       "UTHRAZAO   float64                  0            1690                 0   \n",
       "X          float64                  0          958978                 0   \n",
       "Y          float64                  0         1185116                 0   \n",
       "UKRAZAO    float64                  0           26204                 0   \n",
       "MDT        float64                  0          167518                72   \n",
       "THKRAZAO   float64                  0          118446                 0   \n",
       "CTCOR      float64                  0           57163             12036   \n",
       "LATITUDE   float64                  0          872260           1242654   \n",
       "LONGITUDE  float64                  0          775641           1242654   \n",
       "\n",
       "           Amostragem  \n",
       "KPERC         1242654  \n",
       "eU            1242654  \n",
       "eTH           1242654  \n",
       "UTHRAZAO      1242654  \n",
       "X             1242654  \n",
       "Y             1242654  \n",
       "UKRAZAO       1242654  \n",
       "MDT           1242654  \n",
       "THKRAZAO      1242654  \n",
       "CTCOR         1242654  \n",
       "LATITUDE      1242654  \n",
       "LONGITUDE     1242654  "
      ]
     },
     "execution_count": 9,
     "metadata": {},
     "output_type": "execute_result"
    }
   ],
   "source": [
    "describe_gama_1105[0]"
   ]
  },
  {
   "cell_type": "code",
   "execution_count": 10,
   "metadata": {},
   "outputs": [
    {
     "data": {
      "text/html": [
       "<div>\n",
       "<style scoped>\n",
       "    .dataframe tbody tr th:only-of-type {\n",
       "        vertical-align: middle;\n",
       "    }\n",
       "\n",
       "    .dataframe tbody tr th {\n",
       "        vertical-align: top;\n",
       "    }\n",
       "\n",
       "    .dataframe thead th {\n",
       "        text-align: right;\n",
       "    }\n",
       "</style>\n",
       "<table border=\"1\" class=\"dataframe\">\n",
       "  <thead>\n",
       "    <tr style=\"text-align: right;\">\n",
       "      <th></th>\n",
       "      <th>count</th>\n",
       "      <th>mean</th>\n",
       "      <th>std</th>\n",
       "      <th>min</th>\n",
       "      <th>0.1%</th>\n",
       "      <th>10%</th>\n",
       "      <th>25%</th>\n",
       "      <th>50%</th>\n",
       "      <th>75%</th>\n",
       "      <th>99.5%</th>\n",
       "      <th>max</th>\n",
       "    </tr>\n",
       "  </thead>\n",
       "  <tbody>\n",
       "    <tr>\n",
       "      <th>KPERC</th>\n",
       "      <td>1169659.0</td>\n",
       "      <td>0.959790</td>\n",
       "      <td>0.854709</td>\n",
       "      <td>-0.500</td>\n",
       "      <td>-0.355</td>\n",
       "      <td>0.085</td>\n",
       "      <td>0.382</td>\n",
       "      <td>0.757</td>\n",
       "      <td>1.306</td>\n",
       "      <td>4.53000</td>\n",
       "      <td>14.577</td>\n",
       "    </tr>\n",
       "    <tr>\n",
       "      <th>eU</th>\n",
       "      <td>1169659.0</td>\n",
       "      <td>1.736779</td>\n",
       "      <td>1.092923</td>\n",
       "      <td>-0.500</td>\n",
       "      <td>-0.381</td>\n",
       "      <td>0.325</td>\n",
       "      <td>1.008</td>\n",
       "      <td>1.673</td>\n",
       "      <td>2.373</td>\n",
       "      <td>5.38300</td>\n",
       "      <td>23.934</td>\n",
       "    </tr>\n",
       "    <tr>\n",
       "      <th>eTH</th>\n",
       "      <td>1169659.0</td>\n",
       "      <td>19.289047</td>\n",
       "      <td>11.065808</td>\n",
       "      <td>-4.048</td>\n",
       "      <td>-0.722</td>\n",
       "      <td>6.860</td>\n",
       "      <td>12.290</td>\n",
       "      <td>18.382</td>\n",
       "      <td>25.207</td>\n",
       "      <td>59.15600</td>\n",
       "      <td>241.474</td>\n",
       "    </tr>\n",
       "    <tr>\n",
       "      <th>UTHRAZAO</th>\n",
       "      <td>1169659.0</td>\n",
       "      <td>0.097126</td>\n",
       "      <td>0.042352</td>\n",
       "      <td>0.000</td>\n",
       "      <td>0.000</td>\n",
       "      <td>0.056</td>\n",
       "      <td>0.073</td>\n",
       "      <td>0.090</td>\n",
       "      <td>0.111</td>\n",
       "      <td>0.27900</td>\n",
       "      <td>2.669</td>\n",
       "    </tr>\n",
       "    <tr>\n",
       "      <th>UKRAZAO</th>\n",
       "      <td>1169659.0</td>\n",
       "      <td>2.716171</td>\n",
       "      <td>2.416952</td>\n",
       "      <td>0.042</td>\n",
       "      <td>0.181</td>\n",
       "      <td>0.819</td>\n",
       "      <td>1.300</td>\n",
       "      <td>1.911</td>\n",
       "      <td>3.302</td>\n",
       "      <td>14.90200</td>\n",
       "      <td>59.007</td>\n",
       "    </tr>\n",
       "    <tr>\n",
       "      <th>MDT</th>\n",
       "      <td>1169659.0</td>\n",
       "      <td>872.675007</td>\n",
       "      <td>408.562445</td>\n",
       "      <td>-4.100</td>\n",
       "      <td>0.000</td>\n",
       "      <td>395.280</td>\n",
       "      <td>641.520</td>\n",
       "      <td>887.680</td>\n",
       "      <td>1113.550</td>\n",
       "      <td>1933.61130</td>\n",
       "      <td>2751.590</td>\n",
       "    </tr>\n",
       "    <tr>\n",
       "      <th>THKRAZAO</th>\n",
       "      <td>1169659.0</td>\n",
       "      <td>29.505581</td>\n",
       "      <td>25.788561</td>\n",
       "      <td>0.798</td>\n",
       "      <td>3.123</td>\n",
       "      <td>10.004</td>\n",
       "      <td>14.793</td>\n",
       "      <td>20.741</td>\n",
       "      <td>34.791</td>\n",
       "      <td>162.71671</td>\n",
       "      <td>525.859</td>\n",
       "    </tr>\n",
       "    <tr>\n",
       "      <th>CTCOR</th>\n",
       "      <td>1169659.0</td>\n",
       "      <td>14.176621</td>\n",
       "      <td>10.738090</td>\n",
       "      <td>-11.575</td>\n",
       "      <td>-1.641</td>\n",
       "      <td>3.814</td>\n",
       "      <td>6.608</td>\n",
       "      <td>11.263</td>\n",
       "      <td>19.699</td>\n",
       "      <td>56.54200</td>\n",
       "      <td>246.600</td>\n",
       "    </tr>\n",
       "  </tbody>\n",
       "</table>\n",
       "</div>"
      ],
      "text/plain": [
       "              count        mean         std     min   0.1%      10%      25%  \\\n",
       "KPERC     1169659.0    0.959790    0.854709  -0.500 -0.355    0.085    0.382   \n",
       "eU        1169659.0    1.736779    1.092923  -0.500 -0.381    0.325    1.008   \n",
       "eTH       1169659.0   19.289047   11.065808  -4.048 -0.722    6.860   12.290   \n",
       "UTHRAZAO  1169659.0    0.097126    0.042352   0.000  0.000    0.056    0.073   \n",
       "UKRAZAO   1169659.0    2.716171    2.416952   0.042  0.181    0.819    1.300   \n",
       "MDT       1169659.0  872.675007  408.562445  -4.100  0.000  395.280  641.520   \n",
       "THKRAZAO  1169659.0   29.505581   25.788561   0.798  3.123   10.004   14.793   \n",
       "CTCOR     1169659.0   14.176621   10.738090 -11.575 -1.641    3.814    6.608   \n",
       "\n",
       "              50%       75%       99.5%       max  \n",
       "KPERC       0.757     1.306     4.53000    14.577  \n",
       "eU          1.673     2.373     5.38300    23.934  \n",
       "eTH        18.382    25.207    59.15600   241.474  \n",
       "UTHRAZAO    0.090     0.111     0.27900     2.669  \n",
       "UKRAZAO     1.911     3.302    14.90200    59.007  \n",
       "MDT       887.680  1113.550  1933.61130  2751.590  \n",
       "THKRAZAO   20.741    34.791   162.71671   525.859  \n",
       "CTCOR      11.263    19.699    56.54200   246.600  "
      ]
     },
     "execution_count": 10,
     "metadata": {},
     "output_type": "execute_result"
    }
   ],
   "source": [
    "describe_gama_line_1105[4].T"
   ]
  },
  {
   "cell_type": "code",
   "execution_count": 11,
   "metadata": {},
   "outputs": [
    {
     "data": {
      "text/html": [
       "<div>\n",
       "<style scoped>\n",
       "    .dataframe tbody tr th:only-of-type {\n",
       "        vertical-align: middle;\n",
       "    }\n",
       "\n",
       "    .dataframe tbody tr th {\n",
       "        vertical-align: top;\n",
       "    }\n",
       "\n",
       "    .dataframe thead th {\n",
       "        text-align: right;\n",
       "    }\n",
       "</style>\n",
       "<table border=\"1\" class=\"dataframe\">\n",
       "  <thead>\n",
       "    <tr style=\"text-align: right;\">\n",
       "      <th></th>\n",
       "      <th>count</th>\n",
       "      <th>mean</th>\n",
       "      <th>std</th>\n",
       "      <th>min</th>\n",
       "      <th>0.1%</th>\n",
       "      <th>10%</th>\n",
       "      <th>25%</th>\n",
       "      <th>50%</th>\n",
       "      <th>75%</th>\n",
       "      <th>99.5%</th>\n",
       "      <th>max</th>\n",
       "    </tr>\n",
       "  </thead>\n",
       "  <tbody>\n",
       "    <tr>\n",
       "      <th>KPERC</th>\n",
       "      <td>1242654.0</td>\n",
       "      <td>0.987719</td>\n",
       "      <td>0.886003</td>\n",
       "      <td>-0.500</td>\n",
       "      <td>-0.360347</td>\n",
       "      <td>0.098</td>\n",
       "      <td>0.391</td>\n",
       "      <td>0.772</td>\n",
       "      <td>1.340</td>\n",
       "      <td>4.683735</td>\n",
       "      <td>14.577</td>\n",
       "    </tr>\n",
       "    <tr>\n",
       "      <th>eU</th>\n",
       "      <td>1242654.0</td>\n",
       "      <td>1.767042</td>\n",
       "      <td>1.110133</td>\n",
       "      <td>-4.185</td>\n",
       "      <td>-0.385000</td>\n",
       "      <td>0.361</td>\n",
       "      <td>1.030</td>\n",
       "      <td>1.695</td>\n",
       "      <td>2.403</td>\n",
       "      <td>5.554000</td>\n",
       "      <td>23.934</td>\n",
       "    </tr>\n",
       "    <tr>\n",
       "      <th>eTH</th>\n",
       "      <td>1242654.0</td>\n",
       "      <td>19.572149</td>\n",
       "      <td>11.233453</td>\n",
       "      <td>-4.048</td>\n",
       "      <td>-0.708000</td>\n",
       "      <td>7.124</td>\n",
       "      <td>12.434</td>\n",
       "      <td>18.563</td>\n",
       "      <td>25.511</td>\n",
       "      <td>60.437470</td>\n",
       "      <td>263.870</td>\n",
       "    </tr>\n",
       "    <tr>\n",
       "      <th>UTHRAZAO</th>\n",
       "      <td>1242654.0</td>\n",
       "      <td>0.112080</td>\n",
       "      <td>0.091533</td>\n",
       "      <td>0.000</td>\n",
       "      <td>0.000000</td>\n",
       "      <td>0.057</td>\n",
       "      <td>0.074</td>\n",
       "      <td>0.092</td>\n",
       "      <td>0.117</td>\n",
       "      <td>0.617000</td>\n",
       "      <td>11.320</td>\n",
       "    </tr>\n",
       "    <tr>\n",
       "      <th>UKRAZAO</th>\n",
       "      <td>1242654.0</td>\n",
       "      <td>3.098546</td>\n",
       "      <td>3.907767</td>\n",
       "      <td>0.042</td>\n",
       "      <td>0.184000</td>\n",
       "      <td>0.841</td>\n",
       "      <td>1.339</td>\n",
       "      <td>2.009</td>\n",
       "      <td>3.560</td>\n",
       "      <td>23.369205</td>\n",
       "      <td>258.218</td>\n",
       "    </tr>\n",
       "    <tr>\n",
       "      <th>MDT</th>\n",
       "      <td>1242654.0</td>\n",
       "      <td>878.317748</td>\n",
       "      <td>406.063617</td>\n",
       "      <td>-4.100</td>\n",
       "      <td>0.000000</td>\n",
       "      <td>411.233</td>\n",
       "      <td>648.780</td>\n",
       "      <td>889.940</td>\n",
       "      <td>1118.090</td>\n",
       "      <td>1936.722050</td>\n",
       "      <td>2751.590</td>\n",
       "    </tr>\n",
       "    <tr>\n",
       "      <th>THKRAZAO</th>\n",
       "      <td>1242654.0</td>\n",
       "      <td>29.528213</td>\n",
       "      <td>26.370086</td>\n",
       "      <td>0.734</td>\n",
       "      <td>2.813653</td>\n",
       "      <td>9.766</td>\n",
       "      <td>14.540</td>\n",
       "      <td>20.622</td>\n",
       "      <td>34.781</td>\n",
       "      <td>166.151735</td>\n",
       "      <td>566.393</td>\n",
       "    </tr>\n",
       "    <tr>\n",
       "      <th>CTCOR</th>\n",
       "      <td>1242654.0</td>\n",
       "      <td>14.466779</td>\n",
       "      <td>10.728161</td>\n",
       "      <td>-11.575</td>\n",
       "      <td>-1.606000</td>\n",
       "      <td>3.949</td>\n",
       "      <td>6.793</td>\n",
       "      <td>11.730</td>\n",
       "      <td>20.080</td>\n",
       "      <td>56.357735</td>\n",
       "      <td>246.600</td>\n",
       "    </tr>\n",
       "  </tbody>\n",
       "</table>\n",
       "</div>"
      ],
      "text/plain": [
       "              count        mean         std     min      0.1%      10%  \\\n",
       "KPERC     1242654.0    0.987719    0.886003  -0.500 -0.360347    0.098   \n",
       "eU        1242654.0    1.767042    1.110133  -4.185 -0.385000    0.361   \n",
       "eTH       1242654.0   19.572149   11.233453  -4.048 -0.708000    7.124   \n",
       "UTHRAZAO  1242654.0    0.112080    0.091533   0.000  0.000000    0.057   \n",
       "UKRAZAO   1242654.0    3.098546    3.907767   0.042  0.184000    0.841   \n",
       "MDT       1242654.0  878.317748  406.063617  -4.100  0.000000  411.233   \n",
       "THKRAZAO  1242654.0   29.528213   26.370086   0.734  2.813653    9.766   \n",
       "CTCOR     1242654.0   14.466779   10.728161 -11.575 -1.606000    3.949   \n",
       "\n",
       "              25%      50%       75%        99.5%       max  \n",
       "KPERC       0.391    0.772     1.340     4.683735    14.577  \n",
       "eU          1.030    1.695     2.403     5.554000    23.934  \n",
       "eTH        12.434   18.563    25.511    60.437470   263.870  \n",
       "UTHRAZAO    0.074    0.092     0.117     0.617000    11.320  \n",
       "UKRAZAO     1.339    2.009     3.560    23.369205   258.218  \n",
       "MDT       648.780  889.940  1118.090  1936.722050  2751.590  \n",
       "THKRAZAO   14.540   20.622    34.781   166.151735   566.393  \n",
       "CTCOR       6.793   11.730    20.080    56.357735   246.600  "
      ]
     },
     "execution_count": 11,
     "metadata": {},
     "output_type": "execute_result"
    }
   ],
   "source": [
    "describe_gama_1105[4].T"
   ]
  },
  {
   "cell_type": "markdown",
   "metadata": {},
   "source": [
    "### Manipulaçao algebrica dos dados brutos"
   ]
  },
  {
   "cell_type": "code",
   "execution_count": 12,
   "metadata": {},
   "outputs": [
    {
     "name": "stdout",
     "output_type": "stream",
     "text": [
      "47711\n",
      "49199\n"
     ]
    }
   ],
   "source": [
    "# Estes valores negativos serao retirados durante o script de interpolacao\n",
    "#print(gama_tie_1105.query('KPERC < 0')['KPERC'].count())\n",
    "print(gama_line_1105.query('KPERC < 0')['KPERC'].count())\n",
    "print(gama_1105.query('KPERC < 0')['KPERC'].count())"
   ]
  },
  {
   "cell_type": "code",
   "execution_count": 13,
   "metadata": {},
   "outputs": [],
   "source": [
    "#gama_1105.to_csv(gdb+'geof/gama_1105',index=False)\n",
    "#gama_tie_1105.to_csv(gdb+'geof/gama_tie_1105',index=False)\n",
    "gama_line_1105.to_csv(gdb+'geof/gama_line_1105_corrigido',index=False)"
   ]
  },
  {
   "cell_type": "markdown",
   "metadata": {},
   "source": [
    "## Dados Magnetometricos"
   ]
  },
  {
   "cell_type": "markdown",
   "metadata": {},
   "source": [
    "### Descriçao estatistica dos dados brutos"
   ]
  },
  {
   "cell_type": "markdown",
   "metadata": {},
   "source": [
    "#### Flight Lines"
   ]
  },
  {
   "cell_type": "code",
   "execution_count": null,
   "metadata": {},
   "outputs": [],
   "source": [
    "# PODEMOS OBSERVAR VALORES NEGATIVOS QUE DEVEM SER TRATADOS. OU TRANSFORMANDO-OS EM 0 OU NORMALIZANDO DE 0 `A 1\n",
    "gama_line_1105_describe[4].T"
   ]
  },
  {
   "cell_type": "markdown",
   "metadata": {},
   "source": [
    "#### Tie Lines"
   ]
  },
  {
   "cell_type": "code",
   "execution_count": null,
   "metadata": {},
   "outputs": [],
   "source": [
    "gama_tie_1105_describe = f.descricao(gama_tie_1105)"
   ]
  },
  {
   "cell_type": "code",
   "execution_count": null,
   "metadata": {},
   "outputs": [],
   "source": [
    "gama_tie_1105_describe[0]"
   ]
  },
  {
   "cell_type": "code",
   "execution_count": null,
   "metadata": {},
   "outputs": [],
   "source": [
    "# ha uma deferenca consideravel entre os dados de tie e line para este levantamento\n",
    "gama_tie_1105_describe[4].T"
   ]
  },
  {
   "cell_type": "markdown",
   "metadata": {},
   "source": [
    "#### Tie Flight Lines Concatenados"
   ]
  },
  {
   "cell_type": "code",
   "execution_count": null,
   "metadata": {},
   "outputs": [],
   "source": [
    "gama_1105_describe =f.descricao(gama_1105)"
   ]
  },
  {
   "cell_type": "code",
   "execution_count": null,
   "metadata": {},
   "outputs": [],
   "source": [
    "gama_1105_describe[0]"
   ]
  },
  {
   "cell_type": "code",
   "execution_count": null,
   "metadata": {},
   "outputs": [],
   "source": [
    "gama_1105_describe[4].T"
   ]
  },
  {
   "cell_type": "code",
   "execution_count": null,
   "metadata": {},
   "outputs": [],
   "source": [
    "print(gama_tie_1105.query('KPERC < 0')['KPERC'].count())\n",
    "print(gama_line_1105.query('KPERC < 0')['KPERC'].count())\n",
    "print(gama_1105.query('KPERC < 0')['KPERC'].count())"
   ]
  },
  {
   "cell_type": "markdown",
   "metadata": {},
   "source": [
    "### Exportando os arquivos tratados para um CSV"
   ]
  },
  {
   "cell_type": "code",
   "execution_count": null,
   "metadata": {},
   "outputs": [],
   "source": [
    "gama_1105.to_csv(gdb+'geof/gama_1105',index=False)\n",
    "gama_tie_1105.to_csv(gdb+'geof/gama_tie_1105',index=False)\n",
    "gama_line_1105.to_csv(gdb+'geof/gama_line_1105',index=False)"
   ]
  },
  {
   "cell_type": "code",
   "execution_count": null,
   "metadata": {},
   "outputs": [],
   "source": [
    "mag_line_1105 = pd.read_csv(gdb+'xyz/1105_XYZ/1105_MagLine.XYZ',\n",
    "                         names=mag_cols,\n",
    "                         delim_whitespace=True,\n",
    "                         skiprows=11,\n",
    "                         usecols=[\"X\",\"Y\",\"LATITUDE\",\"LONGITUDE\",\n",
    "                                  \"MAGIGRF\",\"MDT\",\"ALTURA\",\"ALTURA_1\"])\n",
    "\n",
    "mag_tie_1105 = pd.read_csv(gdb+'xyz/1105_XYZ/1105_MagTie.XYZ',\n",
    "                         names=mag_cols,\n",
    "                         delim_whitespace=True,\n",
    "                         skiprows=11,\n",
    "                         usecols=[\"X\",\"Y\",\"LATITUDE\",\"LONGITUDE\",\n",
    "                                  \"MAGIGRF\",\"MDT\",\"ALTURA\",\"ALTURA_1\"])\n",
    "\n",
    "\n",
    "mag_tie_1105.dropna(inplace=True)\n",
    "mag_line_1105.dropna(inplace=True)\n",
    "mag_1105 = pd.concat([mag_line_1105,mag_tie_1105], ignore_index=True)"
   ]
  },
  {
   "cell_type": "code",
   "execution_count": null,
   "metadata": {},
   "outputs": [],
   "source": [
    "f.descricao(mag_1105)"
   ]
  },
  {
   "cell_type": "code",
   "execution_count": null,
   "metadata": {},
   "outputs": [],
   "source": [
    "mag_line_1105.to_csv(gdb+'geof/mag_line_1105', index=False)\n",
    "mag_tie_1105.to_csv(gdb+'geof/mag_tie_1105', index=False)\n",
    "mag_1105.to_csv(gdb+'geof/mag_1105', index=False)"
   ]
  },
  {
   "cell_type": "code",
   "execution_count": null,
   "metadata": {},
   "outputs": [],
   "source": [
    "cols_1039 = 'UTME UTMN LONG LAT MAGR THC UC KC CTC MAGB MAGC MAGD THB UB KB CTB FIDU TEMP ALTE ALTB'.split(\" \")\n",
    "\n",
    "usecols=[\"UTME\",\"UTMN\",\"LAT\",\"LONG\",\"KC\",\"UC\",\"THC\",\"CTC\",\"MAGR\"]\n",
    "\n",
    "\n",
    "geof_1039 = pd.read_csv(gdb+'xyz/1039_XYZ/spaulo_rjaneiro_sp.xyz',\n",
    "                         names=cols_1039,\n",
    "                         delim_whitespace=True,\n",
    "                         skiprows=6,\n",
    "                         usecols=usecols,\n",
    "                         encoding='latin-1') # foi adicionado um novo tipo de econding diferente de UTF-8"
   ]
  },
  {
   "cell_type": "code",
   "execution_count": null,
   "metadata": {},
   "outputs": [],
   "source": [
    "geof_1039.dropna(inplace=True)"
   ]
  },
  {
   "cell_type": "code",
   "execution_count": null,
   "metadata": {},
   "outputs": [],
   "source": [
    "geof_1039.to_csv(gdb+'geof/geof_1039',index=False)"
   ]
  },
  {
   "cell_type": "markdown",
   "metadata": {},
   "source": [
    "### Exportando os arquivos tratados para um CSV"
   ]
  },
  {
   "cell_type": "markdown",
   "metadata": {},
   "source": [
    "# Levantamento 1089"
   ]
  },
  {
   "cell_type": "code",
   "execution_count": null,
   "metadata": {},
   "outputs": [],
   "source": [
    "gama_line_1089\n",
    "gama_tie_1089 \n",
    "gama_1089"
   ]
  },
  {
   "cell_type": "code",
   "execution_count": null,
   "metadata": {},
   "outputs": [],
   "source": [
    "gama_1089.dropna(inplace=True)"
   ]
  },
  {
   "cell_type": "code",
   "execution_count": null,
   "metadata": {},
   "outputs": [],
   "source": [
    "gama_1089"
   ]
  },
  {
   "cell_type": "code",
   "execution_count": null,
   "metadata": {},
   "outputs": [],
   "source": [
    "gama_line_1089.dropna(inplace=True)"
   ]
  },
  {
   "cell_type": "code",
   "execution_count": null,
   "metadata": {},
   "outputs": [],
   "source": [
    "f.descricao(gama_line_1089)"
   ]
  },
  {
   "cell_type": "code",
   "execution_count": null,
   "metadata": {},
   "outputs": [],
   "source": [
    "gama_1089.head()"
   ]
  },
  {
   "cell_type": "code",
   "execution_count": null,
   "metadata": {},
   "outputs": [],
   "source": [
    "#gama_1089.to_csv(gdb+'geof/gama_1089',index=False)\n",
    "gama_line_1089.to_csv(gdb+'geof/gama_line_1089',index=False)"
   ]
  },
  {
   "cell_type": "code",
   "execution_count": null,
   "metadata": {},
   "outputs": [],
   "source": [
    "mLine_1089 = pd.read_csv(gdb+'xyz/1089_XYZ/XYZ/1089_MagLine.XYZ',\n",
    "                         names=mag_cols,\n",
    "                         delim_whitespace=True,\n",
    "                         skiprows=11,\n",
    "                         usecols=[\"X\",\"Y\",\"LATITUDE\",\"LONGITUDE\",\n",
    "                                  \"MAGIGRF\",\"ALTURA\",\"MDT\"],\n",
    "                         na_values=('*'))"
   ]
  },
  {
   "cell_type": "code",
   "execution_count": null,
   "metadata": {},
   "outputs": [],
   "source": [
    "mTie_1089 = pd.read_csv(gdb+'xyz/1089_XYZ/XYZ/1089_MagTie.XYZ',\n",
    "                         names=mag_cols,\n",
    "                         delim_whitespace=True,\n",
    "                         skiprows=11,\n",
    "                         usecols=[\"X\",\"Y\",\"LATITUDE\",\"LONGITUDE\",\n",
    "                                  \"MAGIGRF\",\"ALTURA\",\"MDT\"],\n",
    "                         na_values=('*'))"
   ]
  },
  {
   "cell_type": "code",
   "execution_count": null,
   "metadata": {},
   "outputs": [],
   "source": [
    "m_1089 = pd.concat([mTie_1089,mLine_1089], ignore_index=True)"
   ]
  },
  {
   "cell_type": "code",
   "execution_count": null,
   "metadata": {},
   "outputs": [],
   "source": [
    "mag_1089 = m_1089.dropna()"
   ]
  },
  {
   "cell_type": "code",
   "execution_count": null,
   "metadata": {},
   "outputs": [],
   "source": [
    "mag_1089.to_csv(gdb+'geof/mag_1089',index=False)"
   ]
  },
  {
   "cell_type": "code",
   "execution_count": null,
   "metadata": {},
   "outputs": [],
   "source": [
    "a = f.descricao(mag_1089)"
   ]
  },
  {
   "cell_type": "code",
   "execution_count": null,
   "metadata": {},
   "outputs": [],
   "source": [
    "a[0]"
   ]
  },
  {
   "cell_type": "code",
   "execution_count": null,
   "metadata": {},
   "outputs": [],
   "source": [
    "a[4].T"
   ]
  }
 ],
 "metadata": {
  "interpreter": {
   "hash": "d412e3d091f5968552f8aa760bc8da416522b5884f97efbbec2149c97127b032"
  },
  "kernelspec": {
   "display_name": "Python [conda env:geologist_bot]",
   "language": "python",
   "name": "conda-env-geologist_bot-py"
  },
  "language_info": {
   "codemirror_mode": {
    "name": "ipython",
    "version": 3
   },
   "file_extension": ".py",
   "mimetype": "text/x-python",
   "name": "python",
   "nbconvert_exporter": "python",
   "pygments_lexer": "ipython3",
   "version": "3.8.11"
  }
 },
 "nbformat": 4,
 "nbformat_minor": 4
}
