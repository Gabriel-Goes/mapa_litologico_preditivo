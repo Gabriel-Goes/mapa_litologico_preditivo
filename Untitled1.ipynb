{
 "cells": [
  {
   "cell_type": "code",
   "execution_count": 1,
   "id": "6630af56-24e6-469c-b449-fbfdf205e688",
   "metadata": {},
   "outputs": [],
   "source": [
    "import pandas as pd\n",
    "import geopandas as gpd\n",
    "import matplotlib.pyplot as plt\n",
    "import numpy as np\n",
    "import os\n",
    "\n",
    "%matplotlib widget"
   ]
  },
  {
   "cell_type": "code",
   "execution_count": 26,
   "id": "c73592cc-a707-44b4-b86b-9850b1a3a47b",
   "metadata": {},
   "outputs": [],
   "source": [
    "class Build_db():\n",
    "    '''\n",
    "    Esta classe construirá nosso banco de dados.\n",
    "    '''\n",
    "    self = ''\n",
    "    dest__ = os.getcwd()\n",
    "    \n",
    "    def mc_1kk(self):\n",
    "        mc_1kk = gpd.read_file(dest__ + '/geodatabase/')\n",
    "    \n",
    "    \n",
    "    "
   ]
  },
  {
   "cell_type": "code",
   "execution_count": 8,
   "id": "2843cef6-24f8-4c63-b500-6d06f9b2e051",
   "metadata": {},
   "outputs": [
    {
     "data": {
      "text/plain": [
       "__main__.Build_db"
      ]
     },
     "execution_count": 8,
     "metadata": {},
     "output_type": "execute_result"
    }
   ],
   "source": [
    "Build_db"
   ]
  }
 ],
 "metadata": {
  "kernelspec": {
   "display_name": "Python 3 (ipykernel)",
   "language": "python",
   "name": "python3"
  },
  "language_info": {
   "codemirror_mode": {
    "name": "ipython",
    "version": 3
   },
   "file_extension": ".py",
   "mimetype": "text/x-python",
   "name": "python",
   "nbconvert_exporter": "python",
   "pygments_lexer": "ipython3",
   "version": "3.8.12"
  }
 },
 "nbformat": 4,
 "nbformat_minor": 5
}
