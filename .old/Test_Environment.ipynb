{
 "cells": [
  {
   "cell_type": "code",
   "execution_count": 1,
   "metadata": {},
   "outputs": [],
   "source": [
    "import matplotlib.pyplot as plt\n",
    "plt.rcParams['figure.dpi'] = 120\n",
    "%matplotlib widget"
   ]
  },
  {
   "cell_type": "code",
   "execution_count": 2,
   "metadata": {},
   "outputs": [],
   "source": [
    "from src.data_manipulation import get_region, interpolar\n",
    "from src.funcs_importar import gdb"
   ]
  },
  {
   "cell_type": "markdown",
   "metadata": {},
   "source": [
    "# Dicionário de cartas 1105"
   ]
  },
  {
   "cell_type": "code",
   "execution_count": 2,
   "metadata": {},
   "outputs": [
    {
     "ename": "NameError",
     "evalue": "name 'get_region' is not defined",
     "output_type": "error",
     "traceback": [
      "\u001b[0;31m---------------------------------------------------------------------------\u001b[0m",
      "\u001b[0;31mNameError\u001b[0m                                 Traceback (most recent call last)",
      "\u001b[0;32m/tmp/ipykernel_18117/390503241.py\u001b[0m in \u001b[0;36m<module>\u001b[0;34m\u001b[0m\n\u001b[0;32m----> 1\u001b[0;31m \u001b[0mdic_cartas_1105\u001b[0m\u001b[0;34m,\u001b[0m \u001b[0mdic_raw_meta_1105\u001b[0m \u001b[0;34m=\u001b[0m \u001b[0mget_region\u001b[0m\u001b[0;34m(\u001b[0m\u001b[0;34m'250k'\u001b[0m\u001b[0;34m,\u001b[0m\u001b[0;34m'SF23'\u001b[0m\u001b[0;34m,\u001b[0m\u001b[0;34m'geof/gama_line_1105'\u001b[0m\u001b[0;34m,\u001b[0m\u001b[0;34m'litologia_100k'\u001b[0m\u001b[0;34m)\u001b[0m\u001b[0;34m\u001b[0m\u001b[0;34m\u001b[0m\u001b[0m\n\u001b[0m",
      "\u001b[0;31mNameError\u001b[0m: name 'get_region' is not defined"
     ]
    }
   ],
   "source": [
    "dic_cartas_1105, dic_raw_meta_1105 = get_region('250k','SF23','geof/gama_line_1105','litologia_100k')"
   ]
  },
  {
   "cell_type": "code",
   "execution_count": 8,
   "metadata": {},
   "outputs": [],
   "source": [
    "data = dic_cartas_1105['litologia']"
   ]
  },
  {
   "cell_type": "code",
   "execution_count": 9,
   "metadata": {},
   "outputs": [
    {
     "name": "stdout",
     "output_type": "stream",
     "text": [
      "SF23_VA\n",
      "SF23_VC\n",
      "SF23_YA\n",
      "SF23_YC\n",
      "SF23_VB\n",
      "SF23_VD\n",
      "SF23_YB\n",
      "SF23_YD\n",
      "SF23_XA\n",
      "SF23_XC\n",
      "SF23_ZA\n",
      "SF23_ZC\n",
      "SF23_XB\n",
      "SF23_XD\n",
      "SF23_ZB\n",
      "SF23_ZD\n"
     ]
    }
   ],
   "source": [
    "for i in data:\n",
    "    print(i)"
   ]
  },
  {
   "cell_type": "code",
   "execution_count": 14,
   "metadata": {},
   "outputs": [
    {
     "name": "stderr",
     "output_type": "stream",
     "text": [
      "/home/ggrl/anaconda3/envs/geologist_bot/lib/python3.8/site-packages/geopandas/plotting.py:678: UserWarning: The GeoDataFrame you are attempting to plot is empty. Nothing has been displayed.\n",
      "  warnings.warn(\n"
     ]
    },
    {
     "data": {
      "text/plain": [
       "<AxesSubplot:>"
      ]
     },
     "execution_count": 14,
     "metadata": {},
     "output_type": "execute_result"
    }
   ],
   "source": [
    "ax = dic_raw_meta_1105['Malha_cartografica'].boundary.plot(color='Black')\n",
    "\n",
    "dic_cartas_1105['litologia']['SF23_VD'].plot('SIGLA',\n",
    "                                        ax=ax,\n",
    "                                        legend=True,\n",
    "                                        legend_kwds={'loc': 'center left', 'bbox_to_anchor':(1,0.5)})"
   ]
  },
  {
   "cell_type": "code",
   "execution_count": 36,
   "metadata": {},
   "outputs": [
    {
     "name": "stdout",
     "output_type": "stream",
     "text": [
      "['KPERC', 'eU', 'eTH', 'UTHRAZAO', 'UKRAZAO', 'MDT', 'THKRAZAO', 'CTCOR']\n"
     ]
    },
    {
     "data": {
      "text/html": [
       "<div>\n",
       "<style scoped>\n",
       "    .dataframe tbody tr th:only-of-type {\n",
       "        vertical-align: middle;\n",
       "    }\n",
       "\n",
       "    .dataframe tbody tr th {\n",
       "        vertical-align: top;\n",
       "    }\n",
       "\n",
       "    .dataframe thead th {\n",
       "        text-align: right;\n",
       "    }\n",
       "</style>\n",
       "<table border=\"1\" class=\"dataframe\">\n",
       "  <thead>\n",
       "    <tr style=\"text-align: right;\">\n",
       "      <th></th>\n",
       "      <th>dType</th>\n",
       "      <th>Valores Faltantes</th>\n",
       "      <th>Valores Únicos</th>\n",
       "      <th>Valoes Negativos</th>\n",
       "      <th>Amostragem</th>\n",
       "    </tr>\n",
       "  </thead>\n",
       "  <tbody>\n",
       "    <tr>\n",
       "      <th>KPERC</th>\n",
       "      <td>float64</td>\n",
       "      <td>0</td>\n",
       "      <td>6955</td>\n",
       "      <td>47711</td>\n",
       "      <td>1169659</td>\n",
       "    </tr>\n",
       "    <tr>\n",
       "      <th>eU</th>\n",
       "      <td>float64</td>\n",
       "      <td>0</td>\n",
       "      <td>8168</td>\n",
       "      <td>55720</td>\n",
       "      <td>1169659</td>\n",
       "    </tr>\n",
       "    <tr>\n",
       "      <th>eTH</th>\n",
       "      <td>float64</td>\n",
       "      <td>0</td>\n",
       "      <td>61336</td>\n",
       "      <td>35862</td>\n",
       "      <td>1169659</td>\n",
       "    </tr>\n",
       "    <tr>\n",
       "      <th>UTHRAZAO</th>\n",
       "      <td>float64</td>\n",
       "      <td>0</td>\n",
       "      <td>793</td>\n",
       "      <td>0</td>\n",
       "      <td>1169659</td>\n",
       "    </tr>\n",
       "    <tr>\n",
       "      <th>X</th>\n",
       "      <td>float64</td>\n",
       "      <td>0</td>\n",
       "      <td>888292</td>\n",
       "      <td>0</td>\n",
       "      <td>1169659</td>\n",
       "    </tr>\n",
       "    <tr>\n",
       "      <th>Y</th>\n",
       "      <td>float64</td>\n",
       "      <td>0</td>\n",
       "      <td>1134332</td>\n",
       "      <td>0</td>\n",
       "      <td>1169659</td>\n",
       "    </tr>\n",
       "    <tr>\n",
       "      <th>UKRAZAO</th>\n",
       "      <td>float64</td>\n",
       "      <td>0</td>\n",
       "      <td>18813</td>\n",
       "      <td>0</td>\n",
       "      <td>1169659</td>\n",
       "    </tr>\n",
       "    <tr>\n",
       "      <th>MDT</th>\n",
       "      <td>float64</td>\n",
       "      <td>0</td>\n",
       "      <td>165213</td>\n",
       "      <td>72</td>\n",
       "      <td>1169659</td>\n",
       "    </tr>\n",
       "    <tr>\n",
       "      <th>THKRAZAO</th>\n",
       "      <td>float64</td>\n",
       "      <td>0</td>\n",
       "      <td>115015</td>\n",
       "      <td>0</td>\n",
       "      <td>1169659</td>\n",
       "    </tr>\n",
       "    <tr>\n",
       "      <th>CTCOR</th>\n",
       "      <td>float64</td>\n",
       "      <td>0</td>\n",
       "      <td>56613</td>\n",
       "      <td>12033</td>\n",
       "      <td>1169659</td>\n",
       "    </tr>\n",
       "    <tr>\n",
       "      <th>LATITUDE</th>\n",
       "      <td>float64</td>\n",
       "      <td>0</td>\n",
       "      <td>851263</td>\n",
       "      <td>1169659</td>\n",
       "      <td>1169659</td>\n",
       "    </tr>\n",
       "    <tr>\n",
       "      <th>LONGITUDE</th>\n",
       "      <td>float64</td>\n",
       "      <td>0</td>\n",
       "      <td>728161</td>\n",
       "      <td>1169659</td>\n",
       "      <td>1169659</td>\n",
       "    </tr>\n",
       "  </tbody>\n",
       "</table>\n",
       "</div>"
      ],
      "text/plain": [
       "             dType  Valores Faltantes  Valores Únicos  Valoes Negativos  \\\n",
       "KPERC      float64                  0            6955             47711   \n",
       "eU         float64                  0            8168             55720   \n",
       "eTH        float64                  0           61336             35862   \n",
       "UTHRAZAO   float64                  0             793                 0   \n",
       "X          float64                  0          888292                 0   \n",
       "Y          float64                  0         1134332                 0   \n",
       "UKRAZAO    float64                  0           18813                 0   \n",
       "MDT        float64                  0          165213                72   \n",
       "THKRAZAO   float64                  0          115015                 0   \n",
       "CTCOR      float64                  0           56613             12033   \n",
       "LATITUDE   float64                  0          851263           1169659   \n",
       "LONGITUDE  float64                  0          728161           1169659   \n",
       "\n",
       "           Amostragem  \n",
       "KPERC         1169659  \n",
       "eU            1169659  \n",
       "eTH           1169659  \n",
       "UTHRAZAO      1169659  \n",
       "X             1169659  \n",
       "Y             1169659  \n",
       "UKRAZAO       1169659  \n",
       "MDT           1169659  \n",
       "THKRAZAO      1169659  \n",
       "CTCOR         1169659  \n",
       "LATITUDE      1169659  \n",
       "LONGITUDE     1169659  "
      ]
     },
     "execution_count": 36,
     "metadata": {},
     "output_type": "execute_result"
    }
   ],
   "source": [
    "print(dic_raw_meta['Lista_at_geof'])\n",
    "dic_raw_meta['Metadata']"
   ]
  },
  {
   "cell_type": "code",
   "execution_count": 37,
   "metadata": {},
   "outputs": [
    {
     "data": {
      "text/html": [
       "<div>\n",
       "<style scoped>\n",
       "    .dataframe tbody tr th:only-of-type {\n",
       "        vertical-align: middle;\n",
       "    }\n",
       "\n",
       "    .dataframe tbody tr th {\n",
       "        vertical-align: top;\n",
       "    }\n",
       "\n",
       "    .dataframe thead th {\n",
       "        text-align: right;\n",
       "    }\n",
       "</style>\n",
       "<table border=\"1\" class=\"dataframe\">\n",
       "  <thead>\n",
       "    <tr style=\"text-align: right;\">\n",
       "      <th></th>\n",
       "      <th>count</th>\n",
       "      <th>mean</th>\n",
       "      <th>std</th>\n",
       "      <th>min</th>\n",
       "      <th>0.1%</th>\n",
       "      <th>10%</th>\n",
       "      <th>25%</th>\n",
       "      <th>50%</th>\n",
       "      <th>75%</th>\n",
       "      <th>99.5%</th>\n",
       "      <th>max</th>\n",
       "    </tr>\n",
       "  </thead>\n",
       "  <tbody>\n",
       "    <tr>\n",
       "      <th>KPERC</th>\n",
       "      <td>1169659.0</td>\n",
       "      <td>0.959790</td>\n",
       "      <td>0.854709</td>\n",
       "      <td>-0.500</td>\n",
       "      <td>-0.355</td>\n",
       "      <td>0.085</td>\n",
       "      <td>0.382</td>\n",
       "      <td>0.757</td>\n",
       "      <td>1.306</td>\n",
       "      <td>4.53000</td>\n",
       "      <td>14.577</td>\n",
       "    </tr>\n",
       "    <tr>\n",
       "      <th>eU</th>\n",
       "      <td>1169659.0</td>\n",
       "      <td>1.736779</td>\n",
       "      <td>1.092923</td>\n",
       "      <td>-0.500</td>\n",
       "      <td>-0.381</td>\n",
       "      <td>0.325</td>\n",
       "      <td>1.008</td>\n",
       "      <td>1.673</td>\n",
       "      <td>2.373</td>\n",
       "      <td>5.38300</td>\n",
       "      <td>23.934</td>\n",
       "    </tr>\n",
       "    <tr>\n",
       "      <th>eTH</th>\n",
       "      <td>1169659.0</td>\n",
       "      <td>19.289047</td>\n",
       "      <td>11.065808</td>\n",
       "      <td>-4.048</td>\n",
       "      <td>-0.722</td>\n",
       "      <td>6.860</td>\n",
       "      <td>12.290</td>\n",
       "      <td>18.382</td>\n",
       "      <td>25.207</td>\n",
       "      <td>59.15600</td>\n",
       "      <td>241.474</td>\n",
       "    </tr>\n",
       "    <tr>\n",
       "      <th>UTHRAZAO</th>\n",
       "      <td>1169659.0</td>\n",
       "      <td>0.097126</td>\n",
       "      <td>0.042352</td>\n",
       "      <td>0.000</td>\n",
       "      <td>0.000</td>\n",
       "      <td>0.056</td>\n",
       "      <td>0.073</td>\n",
       "      <td>0.090</td>\n",
       "      <td>0.111</td>\n",
       "      <td>0.27900</td>\n",
       "      <td>2.669</td>\n",
       "    </tr>\n",
       "    <tr>\n",
       "      <th>UKRAZAO</th>\n",
       "      <td>1169659.0</td>\n",
       "      <td>2.716171</td>\n",
       "      <td>2.416952</td>\n",
       "      <td>0.042</td>\n",
       "      <td>0.181</td>\n",
       "      <td>0.819</td>\n",
       "      <td>1.300</td>\n",
       "      <td>1.911</td>\n",
       "      <td>3.302</td>\n",
       "      <td>14.90200</td>\n",
       "      <td>59.007</td>\n",
       "    </tr>\n",
       "    <tr>\n",
       "      <th>MDT</th>\n",
       "      <td>1169659.0</td>\n",
       "      <td>872.675007</td>\n",
       "      <td>408.562445</td>\n",
       "      <td>-4.100</td>\n",
       "      <td>0.000</td>\n",
       "      <td>395.280</td>\n",
       "      <td>641.520</td>\n",
       "      <td>887.680</td>\n",
       "      <td>1113.550</td>\n",
       "      <td>1933.61130</td>\n",
       "      <td>2751.590</td>\n",
       "    </tr>\n",
       "    <tr>\n",
       "      <th>THKRAZAO</th>\n",
       "      <td>1169659.0</td>\n",
       "      <td>29.505581</td>\n",
       "      <td>25.788561</td>\n",
       "      <td>0.798</td>\n",
       "      <td>3.123</td>\n",
       "      <td>10.004</td>\n",
       "      <td>14.793</td>\n",
       "      <td>20.741</td>\n",
       "      <td>34.791</td>\n",
       "      <td>162.71671</td>\n",
       "      <td>525.859</td>\n",
       "    </tr>\n",
       "    <tr>\n",
       "      <th>CTCOR</th>\n",
       "      <td>1169659.0</td>\n",
       "      <td>14.176621</td>\n",
       "      <td>10.738090</td>\n",
       "      <td>-11.575</td>\n",
       "      <td>-1.641</td>\n",
       "      <td>3.814</td>\n",
       "      <td>6.608</td>\n",
       "      <td>11.263</td>\n",
       "      <td>19.699</td>\n",
       "      <td>56.54200</td>\n",
       "      <td>246.600</td>\n",
       "    </tr>\n",
       "  </tbody>\n",
       "</table>\n",
       "</div>"
      ],
      "text/plain": [
       "              count        mean         std     min   0.1%      10%      25%  \\\n",
       "KPERC     1169659.0    0.959790    0.854709  -0.500 -0.355    0.085    0.382   \n",
       "eU        1169659.0    1.736779    1.092923  -0.500 -0.381    0.325    1.008   \n",
       "eTH       1169659.0   19.289047   11.065808  -4.048 -0.722    6.860   12.290   \n",
       "UTHRAZAO  1169659.0    0.097126    0.042352   0.000  0.000    0.056    0.073   \n",
       "UKRAZAO   1169659.0    2.716171    2.416952   0.042  0.181    0.819    1.300   \n",
       "MDT       1169659.0  872.675007  408.562445  -4.100  0.000  395.280  641.520   \n",
       "THKRAZAO  1169659.0   29.505581   25.788561   0.798  3.123   10.004   14.793   \n",
       "CTCOR     1169659.0   14.176621   10.738090 -11.575 -1.641    3.814    6.608   \n",
       "\n",
       "              50%       75%       99.5%       max  \n",
       "KPERC       0.757     1.306     4.53000    14.577  \n",
       "eU          1.673     2.373     5.38300    23.934  \n",
       "eTH        18.382    25.207    59.15600   241.474  \n",
       "UTHRAZAO    0.090     0.111     0.27900     2.669  \n",
       "UKRAZAO     1.911     3.302    14.90200    59.007  \n",
       "MDT       887.680  1113.550  1933.61130  2751.590  \n",
       "THKRAZAO   20.741    34.791   162.71671   525.859  \n",
       "CTCOR      11.263    19.699    56.54200   246.600  "
      ]
     },
     "execution_count": 37,
     "metadata": {},
     "output_type": "execute_result"
    }
   ],
   "source": [
    "dic_raw_meta['Percentiles'].T"
   ]
  },
  {
   "cell_type": "code",
   "execution_count": null,
   "metadata": {},
   "outputs": [],
   "source": [
    "dic_cartas['raw_data']['SF23_Y_A_III_4']"
   ]
  },
  {
   "cell_type": "code",
   "execution_count": null,
   "metadata": {},
   "outputs": [],
   "source": [
    "#Levantamento 1105\n",
    "dic_cartas, dic_raw_meta = interpolar(gama=True,dic_cartas=dic_cartas,dic_raw_meta=dic_raw_meta)"
   ]
  },
  {
   "cell_type": "markdown",
   "metadata": {},
   "source": [
    "## Descriçao estatistica dos dados brutos"
   ]
  },
  {
   "cell_type": "code",
   "execution_count": null,
   "metadata": {},
   "outputs": [],
   "source": [
    "dic_cartas['cubic'].keys()"
   ]
  },
  {
   "cell_type": "code",
   "execution_count": null,
   "metadata": {},
   "outputs": [],
   "source": [
    "dic_cartas.keys()"
   ]
  },
  {
   "cell_type": "markdown",
   "metadata": {},
   "source": [
    "## DESCRIÇÃO DOS DADOS DA FOLHA SF23_Y_A_III_4"
   ]
  },
  {
   "cell_type": "markdown",
   "metadata": {},
   "source": [
    "### DICIONARIO DE DADOS DISPONIVEIS\n",
    "    - Regioes geograficas (W,E, S, N)\n",
    "    - Regioes projetadas (W,E, S, N)\n",
    "    - Dados Brutos\n",
    "    - Dados Interpolados\n",
    "    - Scores da Validacao Crusada para os dados interpolados\n",
    "    - Dataframe com classes alvos (Unidades Litologicas)"
   ]
  },
  {
   "cell_type": "code",
   "execution_count": null,
   "metadata": {},
   "outputs": [],
   "source": [
    "for i in dic_cartas:\n",
    "    print(i)"
   ]
  },
  {
   "cell_type": "code",
   "execution_count": null,
   "metadata": {},
   "outputs": [],
   "source": [
    "print(f\"#  folhas cartograficas: {len(dic_cartas['region'])}\")\n",
    "print(f\"ID folhas cartograficas: {list(dic_cartas['region'].keys())}\")"
   ]
  },
  {
   "cell_type": "code",
   "execution_count": null,
   "metadata": {
    "scrolled": true
   },
   "outputs": [],
   "source": [
    "print(f\"Dados interpolados pleo modelo de cubico: {list(dic_cartas['cubic']['SF23_Y_A_III_4'].keys())}\")"
   ]
  },
  {
   "cell_type": "markdown",
   "metadata": {},
   "source": [
    "### CRIANDO DICIONARIO DE TITULOS PARA OS PLOTS"
   ]
  },
  {
   "cell_type": "code",
   "execution_count": null,
   "metadata": {},
   "outputs": [],
   "source": [
    "list_canal = dic_raw_meta['Lista_at_geof']\n",
    "print(f\"Lista de atributos: {list_canal}\")\n",
    "\n",
    "# LISTA DE TITULOS \n",
    "titles =   [\n",
    "            'K (%)',\n",
    "            'U (ppm)',\n",
    "            'Th (ppm)',\n",
    "            'U (ppm) / Th (ppm)',\n",
    "            'U (ppm) / K (%)',\n",
    "            'MDT (m)',\n",
    "            'Th (ppm) / K (%)',\n",
    "            'Contagem Total (μR/h)'\n",
    "            ]\n",
    "\n",
    "\n",
    "# DICIONARIO DE TITULOS\n",
    "dic_titles = {}\n",
    "for f, t in zip(list_canal, titles):\n",
    "    dic_titles[f] = t\n",
    "\n",
    "dic_titles"
   ]
  },
  {
   "cell_type": "markdown",
   "metadata": {},
   "source": [
    "#### DISTRIBUICAO GEOSTATISTICA DOS DADOS BRUTOS"
   ]
  },
  {
   "cell_type": "code",
   "execution_count": null,
   "metadata": {},
   "outputs": [],
   "source": [
    "dic_raw_meta['Percentiles'].T"
   ]
  },
  {
   "cell_type": "code",
   "execution_count": null,
   "metadata": {},
   "outputs": [],
   "source": [
    "dic_titles"
   ]
  },
  {
   "cell_type": "code",
   "execution_count": null,
   "metadata": {},
   "outputs": [],
   "source": [
    "def plot_raw_data(raw_data):\n",
    "    fig, axs = plt.subplots(nrows = 2, ncols = 4, figsize = (9, 9),sharex='all',sharey='all')\n",
    "    \n",
    "    raw_data_describe = raw_data.describe(percentiles=(0.01,0.1,0.25,0.5,0.75,0.995))\n",
    "\n",
    "    X, Y = raw_data.X, raw_data.Y\n",
    "\n",
    "    for ax, f in zip(axs.flat, dic_titles):\n",
    "        vmin = raw_data_describe[f]['1%']\n",
    "        vmax = raw_data_describe[f]['99.5%']\n",
    "\n",
    "        g = ax.scatter(c=raw_data[f], x = X,\n",
    "                                      y = Y,\n",
    "                                      cmap = 'rainbow',\n",
    "                                      s    = 0.5,\n",
    "                                      vmax =vmax, vmin=vmin)\n",
    "\n",
    "        fig.colorbar(g, ax = ax)\n",
    "        ax.set_title(str(dic_titles[f]), size = 11)\n",
    "        ax.axis('scaled')"
   ]
  },
  {
   "cell_type": "code",
   "execution_count": null,
   "metadata": {},
   "outputs": [],
   "source": [
    "plot_raw_data(dic_cartas['raw_data']['SF23_Y_A_III_2'])"
   ]
  },
  {
   "cell_type": "code",
   "execution_count": null,
   "metadata": {},
   "outputs": [],
   "source": [
    "plot_raw_data(dic_cartas['raw_data']['SF23_Y_A_III_4'])"
   ]
  },
  {
   "cell_type": "code",
   "execution_count": null,
   "metadata": {},
   "outputs": [],
   "source": [
    "dic_cartas.keys()"
   ]
  },
  {
   "cell_type": "code",
   "execution_count": null,
   "metadata": {},
   "outputs": [],
   "source": [
    "data = dic_cartas['cubic']['SF23_Y_A_III_4']\n",
    "plot_raw_data(data)"
   ]
  },
  {
   "cell_type": "code",
   "execution_count": null,
   "metadata": {},
   "outputs": [],
   "source": [
    "dic_cartas['cubic'].keys()"
   ]
  },
  {
   "cell_type": "code",
   "execution_count": null,
   "metadata": {},
   "outputs": [],
   "source": [
    "plot_raw_data(dic_cartas['cubic']['SF23_Y_A_III_2'])"
   ]
  },
  {
   "cell_type": "code",
   "execution_count": null,
   "metadata": {},
   "outputs": [],
   "source": [
    "from shapely import geometry\n",
    "\n",
    "lito_cubic  = dic_cartas['lito_cubic']['SF23_Y_A_III_4']\n",
    "\n",
    "lito_cubic['geometry'] = [geometry.Point(x,y) for x, y in zip(lito_cubic['X'], lito_cubic['Y'])]\n",
    "\n",
    "geodataframe = dic_cartas['lito_cubic']['SF23_Y_A_III_4'].set_geometry('geometry')\n",
    "geodataframe.set_crs(32723,inplace=True)\n",
    "geodataframe.to_crs(32723,inplace=True)\n",
    "\n",
    "print(geodataframe.crs)\n",
    "\n",
    "geodataframe.plot('closest_unid',s= 5,\n",
    "                        legend=True,\n",
    "                        legend_kwds={'loc': 'center left', 'bbox_to_anchor':(1,0.5)}\n",
    "                )\n",
    "                                 \n",
    "plt.title(label=f\"'closest_unid': SF23_Y_A_III_4\")"
   ]
  },
  {
   "cell_type": "code",
   "execution_count": null,
   "metadata": {},
   "outputs": [],
   "source": [
    "def plotBoxplots(df, cols = None):\n",
    "    n = len(cols)\n",
    "    fig, axs = plt.subplots(n, 1, figsize = (9, n * 2))\n",
    "    \n",
    "    for ax, f in zip(axs, cols):\n",
    "        sns.boxplot(y = f, x = 'closest_unid', data = df, ax = ax)\n"
   ]
  },
  {
   "cell_type": "code",
   "execution_count": null,
   "metadata": {},
   "outputs": [],
   "source": [
    "plotBoxplots(dic_cartas['lito_cubic']['SF23_Y_A_III_4'], cols = dic_titles)"
   ]
  },
  {
   "cell_type": "code",
   "execution_count": null,
   "metadata": {},
   "outputs": [],
   "source": [
    "plotBoxplots(dic_cartas['lito_cubic']['SF23_Y_A_III_4'], cols = dic_titles)"
   ]
  },
  {
   "cell_type": "code",
   "execution_count": null,
   "metadata": {},
   "outputs": [],
   "source": [
    "fig, axs = plt.subplots(nrows = 4, ncols = 2, figsize = (7, 6))\n",
    "\n",
    "for ax, gf in zip(axs.flat, dic_titles):\n",
    "    g = ax.hist(dic_cartas['lito_splines']['SC23_Z_A_IV'][gf], color = 'lightblue', edgecolor = 'black')\n",
    "    ax.set_title(str(dic_titles[gf]), size = 9)\n",
    "\n",
    "plt.tight_layout()"
   ]
  },
  {
   "cell_type": "code",
   "execution_count": null,
   "metadata": {},
   "outputs": [],
   "source": [
    "fig, axs = plt.subplots(nrows = 4, ncols = 2, figsize = (7, 6))\n",
    "\n",
    "for ax, gf in zip(axs.flat, dic_titles):\n",
    "    g = ax.hist(dic_cartas['lito_cubic']['SC23_Z_A_IV'][gf], color = 'lightblue', edgecolor = 'black')\n",
    "    ax.set_title(str(dic_titles[gf]), size = 9)\n",
    "\n",
    "plt.tight_layout()"
   ]
  },
  {
   "cell_type": "code",
   "execution_count": null,
   "metadata": {},
   "outputs": [],
   "source": [
    "fig, axs = plt.subplots(nrows = 4, ncols = 2, figsize = (7, 6))\n",
    "\n",
    "for ax, gf in zip(axs.flat, dic_titles):\n",
    "    g = ax.hist(dic_cartas['raw_data']['SC23_Z_A_IV'][gf], color = 'lightblue', edgecolor = 'black')\n",
    "    ax.set_title(str(dic_titles[gf]), size = 9)\n",
    "\n",
    "plt.tight_layout()"
   ]
  },
  {
   "cell_type": "code",
   "execution_count": null,
   "metadata": {
    "tags": []
   },
   "outputs": [],
   "source": [
    "for i in dic_cartas['splines']:\n",
    "    print(i)\n",
    "    dic_cartas['lito_splines'][i].to_csv(f.gdb+'dataframe_input_model/lito_splines_'+i+'.csv',index=False)\n",
    "    dic_cartas['lito_cubic'][i].to_csv(f.gdb+'dataframe_input_model/lito_cubic_'+i+'.csv',index=False)"
   ]
  },
  {
   "cell_type": "code",
   "execution_count": null,
   "metadata": {
    "tags": []
   },
   "outputs": [],
   "source": [
    "dic_cartas['lito_cubic']['SF23_Y_A_III_4']"
   ]
  },
  {
   "cell_type": "code",
   "execution_count": null,
   "metadata": {},
   "outputs": [],
   "source": [
    "dic_cartas['lito_cubic']['SC23_Z_A_IV'].closest_unid.isnull().sum()"
   ]
  },
  {
   "cell_type": "code",
   "execution_count": null,
   "metadata": {},
   "outputs": [],
   "source": [
    "dic_cartas['lito_splines']['SC23_Z_A_IV']"
   ]
  },
  {
   "cell_type": "code",
   "execution_count": null,
   "metadata": {},
   "outputs": [],
   "source": [
    "dic_cartas['lito_splines']['SC23_Z_A_IV'].closest_unid.isnull().sum()"
   ]
  },
  {
   "cell_type": "code",
   "execution_count": null,
   "metadata": {},
   "outputs": [],
   "source": [
    "### DESCRICAO GEOSTATISTICA DOS DADOS INTERPOLADOS\n",
    "\n",
    "def plot_splines_grid(splines_grid):\n",
    "    fig, axs = plt.subplots(nrows = 4, ncols = 2, figsize = (16, 16),sharex='all',sharey='all')\n",
    "\n",
    "    for ax, f in zip(axs.flat, dic_titles):\n",
    "\n",
    "        df_splines = pd.DataFrame(splines_grid[f][f])\n",
    "\n",
    "        p = df_splines.describe(percentiles=(0.01,0.1,0.25,0.5,0.75,0.995))\n",
    "        print(p)\n",
    "        vmin = p['1%']\n",
    "        vmax = p['99.5%']\n",
    "\n",
    "        g = grids[f][f].plot(ax=ax,\n",
    "                             cmap = 'rainbow',\n",
    "                             vmax =vmax, vmin=vmin)\n",
    "\n",
    "        ax.set_title(str(dic_titles[f]), size = 11)\n",
    "        ax.axis('scaled')\n",
    "\n",
    "\n",
    "geodataframe = dic_cartas['lito_splines']['SC23_Z_A_IV'].set_geometry('geometry')\n",
    "print(geodataframe.crs)\n",
    "geodataframe.plot('closest_unid',s= 5,\n",
    "                                 legend=True,\n",
    "                                 legend_kwds={'loc': 'center left', 'bbox_to_anchor':(1,0.5)})\n",
    "                                 \n",
    "plt.title(label=f\"'closest_unid': SC23_Z_A_IV\")\n",
    "plt.axis('scaled')"
   ]
  },
  {
   "cell_type": "code",
   "execution_count": null,
   "metadata": {},
   "outputs": [],
   "source": [
    "dic_cartas, dic_raw_meta = interpolar(gama='gama_line_1105',dic_cartas=dic_cartas,dic_raw_meta=dic_raw_meta)"
   ]
  },
  {
   "cell_type": "code",
   "execution_count": null,
   "metadata": {},
   "outputs": [],
   "source": [
    "dic_cartas['cubic'].keys()"
   ]
  },
  {
   "cell_type": "code",
   "execution_count": null,
   "metadata": {},
   "outputs": [],
   "source": [
    "dic_cartas['cubic']['SF23_Y_A_III_4']"
   ]
  },
  {
   "cell_type": "code",
   "execution_count": null,
   "metadata": {},
   "outputs": [],
   "source": []
  },
  {
   "cell_type": "code",
   "execution_count": null,
   "metadata": {},
   "outputs": [],
   "source": []
  },
  {
   "cell_type": "markdown",
   "metadata": {},
   "source": [
    "# Dicionário de cartas 3022"
   ]
  },
  {
   "cell_type": "code",
   "execution_count": 67,
   "metadata": {},
   "outputs": [
    {
     "name": "stdout",
     "output_type": "stream",
     "text": [
      "# Importando dados\n",
      "# -- Lista de camadas vetoriais disponiveis no Geopackage: ['litologia_1kk', 'litologia_250k', 'litologia_100k', 'litologia_50k', 'aflora', 'am_petro', 'proj_cprm', 'proj_aerogeof', 'socorro_250k', 'ocorr_min_cprm', 'malha_cartog_1kk_wgs84', 'malha_cartog_50k_wgs84', 'malha_cartog_25k_wgs84', 'malha_cartog_100k_wgs84', 'malha_cartog_250k_wgs84']\n",
      "\n",
      "# -- Selecionando Folhas Cartograficas\n",
      "# --- Iniciando seleção de área de estudo\n",
      "EPSG:32723\n",
      "# --- Construindo Dicionario de Cartas\n",
      "16 folhas cartográfica selecionadas\n",
      "\n",
      "Listando atributos dos dados geofisicos\n"
     ]
    },
    {
     "name": "stderr",
     "output_type": "stream",
     "text": [
      "100%|██████████| 19/19 [00:00<00:00, 388740.37it/s]"
     ]
    },
    {
     "name": "stdout",
     "output_type": "stream",
     "text": [
      "# --- # Listagem de dados do aerolevantamento:  \n",
      "Lista de atributos geofísicos = ['BARO', 'CTB', 'CTCOR', 'eTh', 'eU', 'KB', 'KPERC', 'MDT', 'THB', 'THKRAZAO', 'UB', 'UKRAZAO', 'UTHRAZAO', 'X_WGS', 'Y_WGS']\n",
      "lista de atributos geograficos = ['LATITUDE', 'LONGITUDE']\n",
      "lista de atributos projetados = ['X', 'Y']\n"
     ]
    },
    {
     "name": "stderr",
     "output_type": "stream",
     "text": [
      "\n"
     ]
    },
    {
     "name": "stdout",
     "output_type": "stream",
     "text": [
      "# -- Contruindo dicionario de metadados\n",
      "\n",
      "# --- Início da iteração entre as folhas cartográficas #\n"
     ]
    },
    {
     "name": "stderr",
     "output_type": "stream",
     "text": [
      "0it [00:00, ?it/s]"
     ]
    },
    {
     "name": "stdout",
     "output_type": "stream",
     "text": [
      "A folha SF23_VA possui apenas '0' pontos coletados que devem ser adicionados a folha mais próxima\n",
      "Folha cartografica sem dados Aerogeofisicos\n",
      "# Folha de código: SF23_VC\n",
      " Atualizando dados brutos em dic_cartas['raw_data']\n",
      " com 60312 pontos de amostragem\n",
      "epsg:32723\n"
     ]
    },
    {
     "name": "stderr",
     "output_type": "stream",
     "text": [
      "2it [00:21, 10.86s/it]/home/ggrl/anaconda3/envs/geologist_bot/lib/python3.8/site-packages/geopandas/geodataframe.py:1322: SettingWithCopyWarning: \n",
      "A value is trying to be set on a copy of a slice from a DataFrame.\n",
      "Try using .loc[row_indexer,col_indexer] = value instead\n",
      "\n",
      "See the caveats in the documentation: https://pandas.pydata.org/pandas-docs/stable/user_guide/indexing.html#returning-a-view-versus-a-copy\n",
      "  super(GeoDataFrame, self).__setitem__(key, value)\n",
      "16it [00:21,  1.36s/it]"
     ]
    },
    {
     "name": "stdout",
     "output_type": "stream",
     "text": [
      " Atualizando dados geologicos em dic_cartas['litologia']\n",
      " com 1 poligonos descritos por                         27 atributos geologicos \n",
      "A folha SF23_YA possui apenas '0' pontos coletados que devem ser adicionados a folha mais próxima\n",
      "Folha cartografica sem dados Aerogeofisicos\n",
      "A folha SF23_YC possui apenas '0' pontos coletados que devem ser adicionados a folha mais próxima\n",
      "Folha cartografica sem dados Aerogeofisicos\n",
      "A folha SF23_VB possui apenas '0' pontos coletados que devem ser adicionados a folha mais próxima\n",
      "Folha cartografica sem dados Aerogeofisicos\n",
      "# Folha de código: SF23_VD\n",
      " Atualizando dados brutos em dic_cartas['raw_data']\n",
      " com 385964 pontos de amostragem\n",
      "epsg:32723\n",
      " Atualizando dados geologicos em dic_cartas['litologia']\n",
      " com 1 poligonos descritos por                         27 atributos geologicos \n",
      "A folha SF23_YB possui apenas '0' pontos coletados que devem ser adicionados a folha mais próxima\n",
      "Folha cartografica sem dados Aerogeofisicos\n",
      "A folha SF23_YD possui apenas '0' pontos coletados que devem ser adicionados a folha mais próxima\n",
      "Folha cartografica sem dados Aerogeofisicos\n",
      "A folha SF23_XA possui apenas '52' pontos coletados que devem ser adicionados a folha mais próxima\n",
      "# Folha de código: SF23_XC\n",
      " Atualizando dados brutos em dic_cartas['raw_data']\n",
      " com 232125 pontos de amostragem\n",
      "epsg:32723\n",
      " Atualizando dados geologicos em dic_cartas['litologia']\n",
      " com 0 poligonos descritos por                         27 atributos geologicos \n",
      "A folha SF23_ZA possui apenas '713' pontos coletados que devem ser adicionados a folha mais próxima\n",
      "A folha SF23_ZC possui apenas '0' pontos coletados que devem ser adicionados a folha mais próxima\n",
      "Folha cartografica sem dados Aerogeofisicos\n",
      "A folha SF23_XB possui apenas '0' pontos coletados que devem ser adicionados a folha mais próxima\n",
      "Folha cartografica sem dados Aerogeofisicos\n",
      "A folha SF23_XD possui apenas '0' pontos coletados que devem ser adicionados a folha mais próxima\n",
      "Folha cartografica sem dados Aerogeofisicos\n",
      "A folha SF23_ZB possui apenas '0' pontos coletados que devem ser adicionados a folha mais próxima\n",
      "Folha cartografica sem dados Aerogeofisicos\n",
      "A folha SF23_ZD possui apenas '0' pontos coletados que devem ser adicionados a folha mais próxima\n",
      "Folha cartografica sem dados Aerogeofisicos\n"
     ]
    },
    {
     "name": "stderr",
     "output_type": "stream",
     "text": [
      "\n"
     ]
    }
   ],
   "source": [
    "dic_cartas_3022, dic_raw_meta_3022 = get_region('250k','SF23','geof/gama_3022','litologia_100k')"
   ]
  },
  {
   "cell_type": "markdown",
   "metadata": {},
   "source": [
    "# Dicionário de Cartas 1039"
   ]
  },
  {
   "cell_type": "code",
   "execution_count": null,
   "metadata": {},
   "outputs": [],
   "source": []
  },
  {
   "cell_type": "code",
   "execution_count": 3,
   "metadata": {},
   "outputs": [
    {
     "name": "stdout",
     "output_type": "stream",
     "text": [
      "# Importando dados\n",
      "# -- Lista de camadas vetoriais disponiveis no Geopackage: ['litologia_1kk', 'litologia_250k', 'litologia_100k', 'litologia_50k', 'aflora', 'am_petro', 'proj_cprm', 'proj_aerogeof', 'socorro_250k', 'ocorr_min_cprm', 'malha_cartog_50k_wgs84', 'malha_cartog_25k_wgs84', 'malha_cartog_100k_wgs84', 'malha_cartog_250k_wgs84', 'malha_cartog_1kk_wgs84']\n",
      "\n",
      "# -- Selecionando Folhas Cartograficas\n",
      "# --- Iniciando seleção de área de estudo\n",
      "EPSG:32723\n",
      "# --- Construindo Dicionario de Cartas\n",
      "6 folhas cartográfica selecionadas\n",
      "\n",
      "Listando atributos dos dados geofisicos\n"
     ]
    },
    {
     "name": "stderr",
     "output_type": "stream",
     "text": [
      "100%|██████████| 10/10 [00:00<00:00, 40136.88it/s]"
     ]
    },
    {
     "name": "stdout",
     "output_type": "stream",
     "text": [
      "# --- # Listagem de dados do aerolevantamento:  \n",
      "Lista de atributos geofísicos = ['MAGR', 'THC', 'UC', 'KC', 'CTC', 'ALTE']\n",
      "lista de atributos geograficos = ['LONGITUDE', 'LATITUDE']\n",
      "lista de atributos projetados = ['X', 'Y']\n"
     ]
    },
    {
     "name": "stderr",
     "output_type": "stream",
     "text": [
      "\n"
     ]
    },
    {
     "name": "stdout",
     "output_type": "stream",
     "text": [
      "# -- Contruindo dicionario de metadados\n",
      "\n",
      "# --- Início da iteração entre as folhas cartográficas #\n"
     ]
    },
    {
     "name": "stderr",
     "output_type": "stream",
     "text": [
      "0it [00:00, ?it/s]"
     ]
    },
    {
     "name": "stdout",
     "output_type": "stream",
     "text": [
      "A folha SF23_YA_I possui apenas '129' pontos coletados que devem ser adicionados a folha mais próxima\n",
      "A folha SF23_YA_IV possui apenas '212' pontos coletados que devem ser adicionados a folha mais próxima\n",
      "# Folha de código: SF23_YA_II\n",
      " Atualizando dados brutos em dic_cartas['raw_data']\n",
      " com 32922 pontos de amostragem\n",
      "epsg:32723\n"
     ]
    },
    {
     "name": "stderr",
     "output_type": "stream",
     "text": [
      "3it [00:12,  4.06s/it]/home/ggrl/anaconda3/envs/geologist_bot/lib/python3.8/site-packages/geopandas/geodataframe.py:1322: SettingWithCopyWarning: \n",
      "A value is trying to be set on a copy of a slice from a DataFrame.\n",
      "Try using .loc[row_indexer,col_indexer] = value instead\n",
      "\n",
      "See the caveats in the documentation: https://pandas.pydata.org/pandas-docs/stable/user_guide/indexing.html#returning-a-view-versus-a-copy\n",
      "  super(GeoDataFrame, self).__setitem__(key, value)\n",
      "6it [00:12,  2.03s/it]"
     ]
    },
    {
     "name": "stdout",
     "output_type": "stream",
     "text": [
      " Atualizando dados geologicos em dic_cartas['litologia']\n",
      " com 61 poligonos descritos por                         27 atributos geologicos \n",
      "# Folha de código: SF23_YA_V\n",
      " Atualizando dados brutos em dic_cartas['raw_data']\n",
      " com 31951 pontos de amostragem\n",
      "epsg:32723\n",
      " Atualizando dados geologicos em dic_cartas['litologia']\n",
      " com 12 poligonos descritos por                         27 atributos geologicos \n",
      "# Folha de código: SF23_YA_III\n",
      " Atualizando dados brutos em dic_cartas['raw_data']\n",
      " com 25731 pontos de amostragem\n",
      "epsg:32723\n",
      " Atualizando dados geologicos em dic_cartas['litologia']\n",
      " com 2 poligonos descritos por                         27 atributos geologicos \n",
      "# Folha de código: SF23_YA_VI\n",
      " Atualizando dados brutos em dic_cartas['raw_data']\n",
      " com 31469 pontos de amostragem\n",
      "epsg:32723\n",
      " Atualizando dados geologicos em dic_cartas['litologia']\n",
      " com 2 poligonos descritos por                         27 atributos geologicos \n"
     ]
    },
    {
     "name": "stderr",
     "output_type": "stream",
     "text": [
      "\n"
     ]
    }
   ],
   "source": [
    "dic_cartas_1039, dic_raw_meta_1039 = get_region('250k','SF23_YA_','geof/geof_1039','litologia_1kk')"
   ]
  },
  {
   "cell_type": "code",
   "execution_count": 4,
   "metadata": {},
   "outputs": [
    {
     "data": {
      "text/plain": [
       "dict_keys(['geometry', 'region', 'region_proj', 'raw_data', 'litologia'])"
      ]
     },
     "execution_count": 4,
     "metadata": {},
     "output_type": "execute_result"
    }
   ],
   "source": [
    "dic_cartas_1039.keys()"
   ]
  },
  {
   "cell_type": "code",
   "execution_count": 5,
   "metadata": {},
   "outputs": [
    {
     "data": {
      "application/vnd.jupyter.widget-view+json": {
       "model_id": "85f7407ea6384e5cb63d0daa237b09e6",
       "version_major": 2,
       "version_minor": 0
      },
      "text/plain": [
       "Canvas(toolbar=Toolbar(toolitems=[('Home', 'Reset original view', 'home', 'home'), ('Back', 'Back to previous …"
      ]
     },
     "metadata": {},
     "output_type": "display_data"
    },
    {
     "data": {
      "text/plain": [
       "<AxesSubplot:>"
      ]
     },
     "execution_count": 5,
     "metadata": {},
     "output_type": "execute_result"
    }
   ],
   "source": [
    "dic_cartas_1039['litologia']['SF23_YA_V'].plot('SIGLA')"
   ]
  },
  {
   "cell_type": "code",
   "execution_count": 6,
   "metadata": {},
   "outputs": [
    {
     "name": "stdout",
     "output_type": "stream",
     "text": [
      "# Inicio dos processos de interpolação pelo método cúbico\n"
     ]
    },
    {
     "name": "stderr",
     "output_type": "stream",
     "text": [
      "0it [00:00, ?it/s]"
     ]
    },
    {
     "name": "stdout",
     "output_type": "stream",
     "text": [
      "SF23_YA_I geometry       POLYGON ((190234.9499311665 7564133.20832909, ...\n",
      "region                              (-48.0, -47.5, -22.5, -22.0)\n",
      "region_proj    (190234.94993116654, 242804.16592322386, 75087...\n",
      "raw_data                                                        \n",
      "Name: SF23_YA_I, dtype: object\n",
      " \n",
      "SF23_YA_IV geometry       POLYGON ((191334.3105767927 7508734.010298273,...\n",
      "region                              (-48.0, -47.5, -23.0, -22.5)\n",
      "region_proj    (191334.31057679275, 243739.30658870516, 74533...\n",
      "raw_data                                                        \n",
      "Name: SF23_YA_IV, dtype: object\n",
      " \n",
      "SF23_YA_II geometry       POLYGON ((241888.5673743733 7565062.666183462,...\n",
      "region                              (-47.5, -47.0, -22.5, -22.0)\n",
      "region_proj    (241888.56737437332, 294260.0693787823, 750968...\n",
      "raw_data                                                        \n",
      "Name: SF23_YA_II, dtype: object\n",
      "# Folha de código: SF23_YA_II\n",
      " Retirando dados brutos em dic_cartas['raw_data']\n",
      " com 32922 pontos de contagens radiométricas coletados com linhas de voo de 500 metros\n"
     ]
    },
    {
     "name": "stderr",
     "output_type": "stream",
     "text": [
      "3it [00:05,  1.68s/it]"
     ]
    },
    {
     "name": "stdout",
     "output_type": "stream",
     "text": [
      "__________________________________________\n",
      " \n",
      "SF23_YA_V geometry       POLYGON ((242804.1659232239 7509680.129911005,...\n",
      "region                              (-47.5, -47.0, -23.0, -22.5)\n",
      "region_proj    (242804.16592322386, 295007.82751339185, 74542...\n",
      "raw_data                                                        \n",
      "Name: SF23_YA_V, dtype: object\n",
      "# Folha de código: SF23_YA_V\n",
      " Retirando dados brutos em dic_cartas['raw_data']\n",
      " com 31951 pontos de contagens radiométricas coletados com linhas de voo de 500 metros\n"
     ]
    },
    {
     "name": "stderr",
     "output_type": "stream",
     "text": [
      "4it [00:09,  2.72s/it]"
     ]
    },
    {
     "name": "stdout",
     "output_type": "stream",
     "text": [
      "__________________________________________\n",
      " \n",
      "SF23_YA_III geometry       POLYGON ((293527.9406866278 7565822.725949138,...\n",
      "region                              (-47.0, -46.5, -22.5, -22.0)\n",
      "region_proj    (293527.94068662776, 345704.81387977325, 75104...\n",
      "raw_data                                                        \n",
      "Name: SF23_YA_III, dtype: object\n",
      "# Folha de código: SF23_YA_III\n",
      " Retirando dados brutos em dic_cartas['raw_data']\n",
      " com 25731 pontos de contagens radiométricas coletados com linhas de voo de 500 metros\n"
     ]
    },
    {
     "name": "stderr",
     "output_type": "stream",
     "text": [
      "5it [00:16,  4.05s/it]"
     ]
    },
    {
     "name": "stdout",
     "output_type": "stream",
     "text": [
      "__________________________________________\n",
      " \n",
      "SF23_YA_VI geometry       POLYGON ((294260.0693787823 7510453.818425057,...\n",
      "region                              (-47.0, -46.5, -23.0, -22.5)\n",
      "region_proj    (294260.0693787823, 346265.42586304026, 745508...\n",
      "raw_data                                                        \n",
      "Name: SF23_YA_VI, dtype: object\n",
      "# Folha de código: SF23_YA_VI\n",
      " Retirando dados brutos em dic_cartas['raw_data']\n",
      " com 31469 pontos de contagens radiométricas coletados com linhas de voo de 500 metros\n"
     ]
    },
    {
     "name": "stderr",
     "output_type": "stream",
     "text": [
      "6it [00:21,  3.61s/it]"
     ]
    },
    {
     "name": "stdout",
     "output_type": "stream",
     "text": [
      "__________________________________________\n",
      " \n",
      "Dicionário de cartas disponível\n"
     ]
    },
    {
     "name": "stderr",
     "output_type": "stream",
     "text": [
      "\n"
     ]
    }
   ],
   "source": [
    "dic_cartas_1039, dic_raw_meta_1039 = interpolar(geof=True,dic_cartas=dic_cartas_1039,dic_raw_meta=dic_raw_meta_1039)"
   ]
  },
  {
   "cell_type": "code",
   "execution_count": 7,
   "metadata": {},
   "outputs": [],
   "source": [
    "data = dic_cartas_1039['cubic']['SF23_YA_V']"
   ]
  },
  {
   "cell_type": "code",
   "execution_count": 8,
   "metadata": {},
   "outputs": [],
   "source": [
    "data_percentiles = dic_raw_meta_1039['Percentiles']"
   ]
  },
  {
   "cell_type": "code",
   "execution_count": 9,
   "metadata": {},
   "outputs": [
    {
     "data": {
      "text/html": [
       "<div>\n",
       "<style scoped>\n",
       "    .dataframe tbody tr th:only-of-type {\n",
       "        vertical-align: middle;\n",
       "    }\n",
       "\n",
       "    .dataframe tbody tr th {\n",
       "        vertical-align: top;\n",
       "    }\n",
       "\n",
       "    .dataframe thead th {\n",
       "        text-align: right;\n",
       "    }\n",
       "</style>\n",
       "<table border=\"1\" class=\"dataframe\">\n",
       "  <thead>\n",
       "    <tr style=\"text-align: right;\">\n",
       "      <th></th>\n",
       "      <th>count</th>\n",
       "      <th>mean</th>\n",
       "      <th>std</th>\n",
       "      <th>min</th>\n",
       "      <th>0.1%</th>\n",
       "      <th>10%</th>\n",
       "      <th>25%</th>\n",
       "      <th>50%</th>\n",
       "      <th>75%</th>\n",
       "      <th>99.5%</th>\n",
       "      <th>max</th>\n",
       "    </tr>\n",
       "  </thead>\n",
       "  <tbody>\n",
       "    <tr>\n",
       "      <th>MAGR</th>\n",
       "      <td>539049.0</td>\n",
       "      <td>122.236022</td>\n",
       "      <td>108.894902</td>\n",
       "      <td>-3021.33</td>\n",
       "      <td>-406.63472</td>\n",
       "      <td>-5.92</td>\n",
       "      <td>71.64</td>\n",
       "      <td>130.18</td>\n",
       "      <td>180.18</td>\n",
       "      <td>477.6656</td>\n",
       "      <td>2208.39</td>\n",
       "    </tr>\n",
       "    <tr>\n",
       "      <th>THC</th>\n",
       "      <td>539049.0</td>\n",
       "      <td>44.724456</td>\n",
       "      <td>38.912747</td>\n",
       "      <td>0.00</td>\n",
       "      <td>0.00000</td>\n",
       "      <td>5.83</td>\n",
       "      <td>17.48</td>\n",
       "      <td>36.44</td>\n",
       "      <td>60.58</td>\n",
       "      <td>216.6052</td>\n",
       "      <td>509.05</td>\n",
       "    </tr>\n",
       "    <tr>\n",
       "      <th>UC</th>\n",
       "      <td>539049.0</td>\n",
       "      <td>13.957452</td>\n",
       "      <td>11.318831</td>\n",
       "      <td>0.00</td>\n",
       "      <td>0.00000</td>\n",
       "      <td>0.13</td>\n",
       "      <td>5.52</td>\n",
       "      <td>12.16</td>\n",
       "      <td>19.95</td>\n",
       "      <td>56.7000</td>\n",
       "      <td>179.14</td>\n",
       "    </tr>\n",
       "    <tr>\n",
       "      <th>KC</th>\n",
       "      <td>539049.0</td>\n",
       "      <td>53.842536</td>\n",
       "      <td>57.677638</td>\n",
       "      <td>0.00</td>\n",
       "      <td>0.00000</td>\n",
       "      <td>0.00</td>\n",
       "      <td>10.25</td>\n",
       "      <td>34.99</td>\n",
       "      <td>81.39</td>\n",
       "      <td>291.5128</td>\n",
       "      <td>625.28</td>\n",
       "    </tr>\n",
       "    <tr>\n",
       "      <th>CTC</th>\n",
       "      <td>539049.0</td>\n",
       "      <td>898.907053</td>\n",
       "      <td>710.849896</td>\n",
       "      <td>0.00</td>\n",
       "      <td>0.00000</td>\n",
       "      <td>122.83</td>\n",
       "      <td>288.63</td>\n",
       "      <td>821.87</td>\n",
       "      <td>1283.32</td>\n",
       "      <td>3631.8148</td>\n",
       "      <td>7474.42</td>\n",
       "    </tr>\n",
       "    <tr>\n",
       "      <th>ALTE</th>\n",
       "      <td>539049.0</td>\n",
       "      <td>153.437738</td>\n",
       "      <td>33.046108</td>\n",
       "      <td>42.06</td>\n",
       "      <td>69.49000</td>\n",
       "      <td>119.48</td>\n",
       "      <td>135.03</td>\n",
       "      <td>149.66</td>\n",
       "      <td>165.81</td>\n",
       "      <td>300.0000</td>\n",
       "      <td>300.00</td>\n",
       "    </tr>\n",
       "  </tbody>\n",
       "</table>\n",
       "</div>"
      ],
      "text/plain": [
       "         count        mean         std      min       0.1%     10%     25%  \\\n",
       "MAGR  539049.0  122.236022  108.894902 -3021.33 -406.63472   -5.92   71.64   \n",
       "THC   539049.0   44.724456   38.912747     0.00    0.00000    5.83   17.48   \n",
       "UC    539049.0   13.957452   11.318831     0.00    0.00000    0.13    5.52   \n",
       "KC    539049.0   53.842536   57.677638     0.00    0.00000    0.00   10.25   \n",
       "CTC   539049.0  898.907053  710.849896     0.00    0.00000  122.83  288.63   \n",
       "ALTE  539049.0  153.437738   33.046108    42.06   69.49000  119.48  135.03   \n",
       "\n",
       "         50%      75%      99.5%      max  \n",
       "MAGR  130.18   180.18   477.6656  2208.39  \n",
       "THC    36.44    60.58   216.6052   509.05  \n",
       "UC     12.16    19.95    56.7000   179.14  \n",
       "KC     34.99    81.39   291.5128   625.28  \n",
       "CTC   821.87  1283.32  3631.8148  7474.42  \n",
       "ALTE  149.66   165.81   300.0000   300.00  "
      ]
     },
     "execution_count": 9,
     "metadata": {},
     "output_type": "execute_result"
    }
   ],
   "source": [
    "data_percentiles.T"
   ]
  },
  {
   "cell_type": "code",
   "execution_count": 10,
   "metadata": {},
   "outputs": [
    {
     "data": {
      "application/vnd.jupyter.widget-view+json": {
       "model_id": "269a5f2690c74400943c26d6e3922743",
       "version_major": 2,
       "version_minor": 0
      },
      "text/plain": [
       "Canvas(toolbar=Toolbar(toolitems=[('Home', 'Reset original view', 'home', 'home'), ('Back', 'Back to previous …"
      ]
     },
     "metadata": {},
     "output_type": "display_data"
    },
    {
     "data": {
      "text/plain": [
       "(240193.98284371546, 297618.0105929003, 7451486.863392068, 7513261.768664723)"
      ]
     },
     "execution_count": 10,
     "metadata": {},
     "output_type": "execute_result"
    }
   ],
   "source": [
    "plt.figure()\n",
    "plt.scatter(x=data.X,y=data.Y, c=data.MAGIGRF,cmap='hsv',vmin=-400,vmax=400)\n",
    "plt.axis('scaled')"
   ]
  },
  {
   "cell_type": "code",
   "execution_count": 22,
   "metadata": {},
   "outputs": [
    {
     "data": {
      "application/vnd.jupyter.widget-view+json": {
       "model_id": "ad1a5731e7ff41c8a32b03c27d4cd72e",
       "version_major": 2,
       "version_minor": 0
      },
      "text/plain": [
       "Canvas(toolbar=Toolbar(toolitems=[('Home', 'Reset original view', 'home', 'home'), ('Back', 'Back to previous …"
      ]
     },
     "metadata": {},
     "output_type": "display_data"
    }
   ],
   "source": [
    "ax = dic_raw_meta_1039['Malha_cartografica'].boundary.plot(color='Black')"
   ]
  },
  {
   "cell_type": "code",
   "execution_count": 16,
   "metadata": {},
   "outputs": [
    {
     "data": {
      "text/plain": [
       "dict_keys(['SF23_YA_II', 'SF23_YA_V', 'SF23_YA_III', 'SF23_YA_VI'])"
      ]
     },
     "execution_count": 16,
     "metadata": {},
     "output_type": "execute_result"
    }
   ],
   "source": [
    "dic_cartas_1039['cubic'].keys()"
   ]
  },
  {
   "cell_type": "code",
   "execution_count": 20,
   "metadata": {},
   "outputs": [],
   "source": [
    "for i in dic_cartas_1039['cubic']:\n",
    "    data = dic_cartas_1039['cubic'][i]\n",
    "    plt.scatter(x=data.X,y=data.Y,c=data.MAGIGRF)"
   ]
  },
  {
   "cell_type": "code",
   "execution_count": 24,
   "metadata": {},
   "outputs": [
    {
     "data": {
      "text/plain": [
       "<matplotlib.collections.PathCollection at 0x7f5fd1453790>"
      ]
     },
     "execution_count": 24,
     "metadata": {},
     "output_type": "execute_result"
    }
   ],
   "source": [
    "data = dic_cartas_1039['cubic']['SF23_YA_V']\n",
    "plt.scatter(x=data.X,y=data.Y,c=data.MAGIGRF)"
   ]
  },
  {
   "cell_type": "code",
   "execution_count": 1,
   "metadata": {},
   "outputs": [
    {
     "ename": "NameError",
     "evalue": "name 'dic_raw_meta_1039' is not defined",
     "output_type": "error",
     "traceback": [
      "\u001b[0;31m---------------------------------------------------------------------------\u001b[0m",
      "\u001b[0;31mNameError\u001b[0m                                 Traceback (most recent call last)",
      "\u001b[0;32m/tmp/ipykernel_18117/4009708357.py\u001b[0m in \u001b[0;36m<module>\u001b[0;34m\u001b[0m\n\u001b[0;32m----> 1\u001b[0;31m \u001b[0mdic_raw_meta_1039\u001b[0m\u001b[0;34m[\u001b[0m\u001b[0;34m'cubic'\u001b[0m\u001b[0;34m]\u001b[0m\u001b[0;34m[\u001b[0m\u001b[0;34m'SF23_YA_V'\u001b[0m\u001b[0;34m]\u001b[0m\u001b[0;34m\u001b[0m\u001b[0;34m\u001b[0m\u001b[0m\n\u001b[0m",
      "\u001b[0;31mNameError\u001b[0m: name 'dic_raw_meta_1039' is not defined"
     ]
    }
   ],
   "source": [
    "dic_raw_meta_1039['cubic']['SF23_YA_V']"
   ]
  },
  {
   "cell_type": "code",
   "execution_count": null,
   "metadata": {},
   "outputs": [],
   "source": [
    "dic_raw_meta_1039['cubic']['SF23_YA_V']"
   ]
  },
  {
   "cell_type": "code",
   "execution_count": null,
   "metadata": {},
   "outputs": [],
   "source": []
  }
 ],
 "metadata": {
  "interpreter": {
   "hash": "d412e3d091f5968552f8aa760bc8da416522b5884f97efbbec2149c97127b032"
  },
  "kernelspec": {
   "display_name": "Python 3.8.11 64-bit ('geologist_bot': conda)",
   "name": "python3"
  },
  "language_info": {
   "codemirror_mode": {
    "name": "ipython",
    "version": 3
   },
   "file_extension": ".py",
   "mimetype": "text/x-python",
   "name": "python",
   "nbconvert_exporter": "python",
   "pygments_lexer": "ipython3",
   "version": "3.8.11"
  }
 },
 "nbformat": 4,
 "nbformat_minor": 4
}
