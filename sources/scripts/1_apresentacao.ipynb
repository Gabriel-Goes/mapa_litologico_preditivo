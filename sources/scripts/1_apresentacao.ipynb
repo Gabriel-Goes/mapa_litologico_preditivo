{
 "cells": [
  {
   "cell_type": "code",
   "execution_count": 1,
   "source": [
    "import geopandas as gpd\n",
    "import pandas as pd\n",
    "import verde as vd\n",
    "import numpy as np\n",
    "from shapely import geometry\n",
    "\n",
    "import pyproj\n",
    "\n",
    "\n",
    "import my_funcs as mf\n",
    "\n",
    "import matplotlib.pyplot as plt\n",
    "%matplotlib widget\n",
    "\n",
    "gdb='/home/ggrl/geodatabase/'"
   ],
   "outputs": [],
   "metadata": {}
  },
  {
   "cell_type": "code",
   "execution_count": 2,
   "source": [
    "gama_SC23_Z_C_I = pd.read_csv(gdb+'geof/recortado/gama_SC23_Z_C_I')"
   ],
   "outputs": [],
   "metadata": {}
  },
  {
   "cell_type": "code",
   "execution_count": 3,
   "source": [
    "gama_SC23_Z_C_I"
   ],
   "outputs": [
    {
     "output_type": "execute_result",
     "data": {
      "text/plain": [
       "               X           Y     MDT  KPERC    eU    eth    CTCOR  LONGITUDE  \\\n",
       "0      500020.25  8786155.43  477.68   0.35  1.25  16.12  1182.85 -44.999815   \n",
       "1      500103.83  8786158.77  476.83   0.63  1.24  14.00  1143.89 -44.999050   \n",
       "2      500187.24  8786161.64  476.58   1.02  1.38  12.02  1165.74 -44.998286   \n",
       "3      500270.50  8786163.59  470.91   1.41  1.51  11.31  1257.68 -44.997524   \n",
       "4      500353.54  8786165.69  464.63   1.71  1.65  11.14  1357.00 -44.996764   \n",
       "...          ...         ...     ...    ...   ...    ...      ...        ...   \n",
       "81720  554618.93  8838871.32  477.57   0.96  1.98  17.01  1507.21 -44.500850   \n",
       "81721  554619.00  8838949.65  471.69   0.95  1.47  15.02  1327.04 -44.500850   \n",
       "81722  554618.94  8839028.43  463.98   0.80  1.17  12.29  1087.91 -44.500852   \n",
       "81723  554618.52  8839107.80  454.86   0.63  1.10   9.72   881.47 -44.500857   \n",
       "81724  554617.97  8839187.24  450.46   0.57  1.19   8.10   784.10 -44.500863   \n",
       "\n",
       "        LATITUDE  \n",
       "0     -10.980692  \n",
       "1     -10.980662  \n",
       "2     -10.980636  \n",
       "3     -10.980618  \n",
       "4     -10.980599  \n",
       "...          ...  \n",
       "81720 -10.503529  \n",
       "81721 -10.502821  \n",
       "81722 -10.502108  \n",
       "81723 -10.501391  \n",
       "81724 -10.500672  \n",
       "\n",
       "[81725 rows x 9 columns]"
      ],
      "text/html": [
       "<div>\n",
       "<style scoped>\n",
       "    .dataframe tbody tr th:only-of-type {\n",
       "        vertical-align: middle;\n",
       "    }\n",
       "\n",
       "    .dataframe tbody tr th {\n",
       "        vertical-align: top;\n",
       "    }\n",
       "\n",
       "    .dataframe thead th {\n",
       "        text-align: right;\n",
       "    }\n",
       "</style>\n",
       "<table border=\"1\" class=\"dataframe\">\n",
       "  <thead>\n",
       "    <tr style=\"text-align: right;\">\n",
       "      <th></th>\n",
       "      <th>X</th>\n",
       "      <th>Y</th>\n",
       "      <th>MDT</th>\n",
       "      <th>KPERC</th>\n",
       "      <th>eU</th>\n",
       "      <th>eth</th>\n",
       "      <th>CTCOR</th>\n",
       "      <th>LONGITUDE</th>\n",
       "      <th>LATITUDE</th>\n",
       "    </tr>\n",
       "  </thead>\n",
       "  <tbody>\n",
       "    <tr>\n",
       "      <th>0</th>\n",
       "      <td>500020.25</td>\n",
       "      <td>8786155.43</td>\n",
       "      <td>477.68</td>\n",
       "      <td>0.35</td>\n",
       "      <td>1.25</td>\n",
       "      <td>16.12</td>\n",
       "      <td>1182.85</td>\n",
       "      <td>-44.999815</td>\n",
       "      <td>-10.980692</td>\n",
       "    </tr>\n",
       "    <tr>\n",
       "      <th>1</th>\n",
       "      <td>500103.83</td>\n",
       "      <td>8786158.77</td>\n",
       "      <td>476.83</td>\n",
       "      <td>0.63</td>\n",
       "      <td>1.24</td>\n",
       "      <td>14.00</td>\n",
       "      <td>1143.89</td>\n",
       "      <td>-44.999050</td>\n",
       "      <td>-10.980662</td>\n",
       "    </tr>\n",
       "    <tr>\n",
       "      <th>2</th>\n",
       "      <td>500187.24</td>\n",
       "      <td>8786161.64</td>\n",
       "      <td>476.58</td>\n",
       "      <td>1.02</td>\n",
       "      <td>1.38</td>\n",
       "      <td>12.02</td>\n",
       "      <td>1165.74</td>\n",
       "      <td>-44.998286</td>\n",
       "      <td>-10.980636</td>\n",
       "    </tr>\n",
       "    <tr>\n",
       "      <th>3</th>\n",
       "      <td>500270.50</td>\n",
       "      <td>8786163.59</td>\n",
       "      <td>470.91</td>\n",
       "      <td>1.41</td>\n",
       "      <td>1.51</td>\n",
       "      <td>11.31</td>\n",
       "      <td>1257.68</td>\n",
       "      <td>-44.997524</td>\n",
       "      <td>-10.980618</td>\n",
       "    </tr>\n",
       "    <tr>\n",
       "      <th>4</th>\n",
       "      <td>500353.54</td>\n",
       "      <td>8786165.69</td>\n",
       "      <td>464.63</td>\n",
       "      <td>1.71</td>\n",
       "      <td>1.65</td>\n",
       "      <td>11.14</td>\n",
       "      <td>1357.00</td>\n",
       "      <td>-44.996764</td>\n",
       "      <td>-10.980599</td>\n",
       "    </tr>\n",
       "    <tr>\n",
       "      <th>...</th>\n",
       "      <td>...</td>\n",
       "      <td>...</td>\n",
       "      <td>...</td>\n",
       "      <td>...</td>\n",
       "      <td>...</td>\n",
       "      <td>...</td>\n",
       "      <td>...</td>\n",
       "      <td>...</td>\n",
       "      <td>...</td>\n",
       "    </tr>\n",
       "    <tr>\n",
       "      <th>81720</th>\n",
       "      <td>554618.93</td>\n",
       "      <td>8838871.32</td>\n",
       "      <td>477.57</td>\n",
       "      <td>0.96</td>\n",
       "      <td>1.98</td>\n",
       "      <td>17.01</td>\n",
       "      <td>1507.21</td>\n",
       "      <td>-44.500850</td>\n",
       "      <td>-10.503529</td>\n",
       "    </tr>\n",
       "    <tr>\n",
       "      <th>81721</th>\n",
       "      <td>554619.00</td>\n",
       "      <td>8838949.65</td>\n",
       "      <td>471.69</td>\n",
       "      <td>0.95</td>\n",
       "      <td>1.47</td>\n",
       "      <td>15.02</td>\n",
       "      <td>1327.04</td>\n",
       "      <td>-44.500850</td>\n",
       "      <td>-10.502821</td>\n",
       "    </tr>\n",
       "    <tr>\n",
       "      <th>81722</th>\n",
       "      <td>554618.94</td>\n",
       "      <td>8839028.43</td>\n",
       "      <td>463.98</td>\n",
       "      <td>0.80</td>\n",
       "      <td>1.17</td>\n",
       "      <td>12.29</td>\n",
       "      <td>1087.91</td>\n",
       "      <td>-44.500852</td>\n",
       "      <td>-10.502108</td>\n",
       "    </tr>\n",
       "    <tr>\n",
       "      <th>81723</th>\n",
       "      <td>554618.52</td>\n",
       "      <td>8839107.80</td>\n",
       "      <td>454.86</td>\n",
       "      <td>0.63</td>\n",
       "      <td>1.10</td>\n",
       "      <td>9.72</td>\n",
       "      <td>881.47</td>\n",
       "      <td>-44.500857</td>\n",
       "      <td>-10.501391</td>\n",
       "    </tr>\n",
       "    <tr>\n",
       "      <th>81724</th>\n",
       "      <td>554617.97</td>\n",
       "      <td>8839187.24</td>\n",
       "      <td>450.46</td>\n",
       "      <td>0.57</td>\n",
       "      <td>1.19</td>\n",
       "      <td>8.10</td>\n",
       "      <td>784.10</td>\n",
       "      <td>-44.500863</td>\n",
       "      <td>-10.500672</td>\n",
       "    </tr>\n",
       "  </tbody>\n",
       "</table>\n",
       "<p>81725 rows × 9 columns</p>\n",
       "</div>"
      ]
     },
     "metadata": {},
     "execution_count": 3
    }
   ],
   "metadata": {}
  },
  {
   "cell_type": "code",
   "execution_count": 4,
   "source": [
    "mag_SC23_Z_C_I = pd.read_csv(gdb+'geof/recortado/mag_SC23_Z_C_I')"
   ],
   "outputs": [],
   "metadata": {}
  },
  {
   "cell_type": "code",
   "execution_count": 5,
   "source": [
    "mag_SC23_Z_C_I"
   ],
   "outputs": [
    {
     "output_type": "execute_result",
     "data": {
      "text/plain": [
       "                X           Y     MDT  MAGIGRF  LONGITUDE   LATITUDE\n",
       "0       500003.48  8786154.65  477.86   49.356 -44.999968 -10.980699\n",
       "1       500011.87  8786155.04  477.53   47.711 -44.999891 -10.980696\n",
       "2       500020.25  8786155.43  477.68   45.933 -44.999815 -10.980692\n",
       "3       500028.61  8786155.76  477.25   44.023 -44.999738 -10.980689\n",
       "4       500036.97  8786156.10  477.11   41.991 -44.999662 -10.980686\n",
       "...           ...         ...     ...      ...        ...        ...\n",
       "817218  554617.62  8839227.11  452.58   19.672 -44.500867 -10.500311\n",
       "817219  554617.55  8839235.09  453.00   18.881 -44.500868 -10.500239\n",
       "817220  554617.48  8839243.06  453.43   18.084 -44.500869 -10.500167\n",
       "817221  554617.41  8839251.04  453.85   17.284 -44.500869 -10.500095\n",
       "817222  554617.34  8839259.01  454.28   16.472 -44.500870 -10.500023\n",
       "\n",
       "[817223 rows x 6 columns]"
      ],
      "text/html": [
       "<div>\n",
       "<style scoped>\n",
       "    .dataframe tbody tr th:only-of-type {\n",
       "        vertical-align: middle;\n",
       "    }\n",
       "\n",
       "    .dataframe tbody tr th {\n",
       "        vertical-align: top;\n",
       "    }\n",
       "\n",
       "    .dataframe thead th {\n",
       "        text-align: right;\n",
       "    }\n",
       "</style>\n",
       "<table border=\"1\" class=\"dataframe\">\n",
       "  <thead>\n",
       "    <tr style=\"text-align: right;\">\n",
       "      <th></th>\n",
       "      <th>X</th>\n",
       "      <th>Y</th>\n",
       "      <th>MDT</th>\n",
       "      <th>MAGIGRF</th>\n",
       "      <th>LONGITUDE</th>\n",
       "      <th>LATITUDE</th>\n",
       "    </tr>\n",
       "  </thead>\n",
       "  <tbody>\n",
       "    <tr>\n",
       "      <th>0</th>\n",
       "      <td>500003.48</td>\n",
       "      <td>8786154.65</td>\n",
       "      <td>477.86</td>\n",
       "      <td>49.356</td>\n",
       "      <td>-44.999968</td>\n",
       "      <td>-10.980699</td>\n",
       "    </tr>\n",
       "    <tr>\n",
       "      <th>1</th>\n",
       "      <td>500011.87</td>\n",
       "      <td>8786155.04</td>\n",
       "      <td>477.53</td>\n",
       "      <td>47.711</td>\n",
       "      <td>-44.999891</td>\n",
       "      <td>-10.980696</td>\n",
       "    </tr>\n",
       "    <tr>\n",
       "      <th>2</th>\n",
       "      <td>500020.25</td>\n",
       "      <td>8786155.43</td>\n",
       "      <td>477.68</td>\n",
       "      <td>45.933</td>\n",
       "      <td>-44.999815</td>\n",
       "      <td>-10.980692</td>\n",
       "    </tr>\n",
       "    <tr>\n",
       "      <th>3</th>\n",
       "      <td>500028.61</td>\n",
       "      <td>8786155.76</td>\n",
       "      <td>477.25</td>\n",
       "      <td>44.023</td>\n",
       "      <td>-44.999738</td>\n",
       "      <td>-10.980689</td>\n",
       "    </tr>\n",
       "    <tr>\n",
       "      <th>4</th>\n",
       "      <td>500036.97</td>\n",
       "      <td>8786156.10</td>\n",
       "      <td>477.11</td>\n",
       "      <td>41.991</td>\n",
       "      <td>-44.999662</td>\n",
       "      <td>-10.980686</td>\n",
       "    </tr>\n",
       "    <tr>\n",
       "      <th>...</th>\n",
       "      <td>...</td>\n",
       "      <td>...</td>\n",
       "      <td>...</td>\n",
       "      <td>...</td>\n",
       "      <td>...</td>\n",
       "      <td>...</td>\n",
       "    </tr>\n",
       "    <tr>\n",
       "      <th>817218</th>\n",
       "      <td>554617.62</td>\n",
       "      <td>8839227.11</td>\n",
       "      <td>452.58</td>\n",
       "      <td>19.672</td>\n",
       "      <td>-44.500867</td>\n",
       "      <td>-10.500311</td>\n",
       "    </tr>\n",
       "    <tr>\n",
       "      <th>817219</th>\n",
       "      <td>554617.55</td>\n",
       "      <td>8839235.09</td>\n",
       "      <td>453.00</td>\n",
       "      <td>18.881</td>\n",
       "      <td>-44.500868</td>\n",
       "      <td>-10.500239</td>\n",
       "    </tr>\n",
       "    <tr>\n",
       "      <th>817220</th>\n",
       "      <td>554617.48</td>\n",
       "      <td>8839243.06</td>\n",
       "      <td>453.43</td>\n",
       "      <td>18.084</td>\n",
       "      <td>-44.500869</td>\n",
       "      <td>-10.500167</td>\n",
       "    </tr>\n",
       "    <tr>\n",
       "      <th>817221</th>\n",
       "      <td>554617.41</td>\n",
       "      <td>8839251.04</td>\n",
       "      <td>453.85</td>\n",
       "      <td>17.284</td>\n",
       "      <td>-44.500869</td>\n",
       "      <td>-10.500095</td>\n",
       "    </tr>\n",
       "    <tr>\n",
       "      <th>817222</th>\n",
       "      <td>554617.34</td>\n",
       "      <td>8839259.01</td>\n",
       "      <td>454.28</td>\n",
       "      <td>16.472</td>\n",
       "      <td>-44.500870</td>\n",
       "      <td>-10.500023</td>\n",
       "    </tr>\n",
       "  </tbody>\n",
       "</table>\n",
       "<p>817223 rows × 6 columns</p>\n",
       "</div>"
      ]
     },
     "metadata": {},
     "execution_count": 5
    }
   ],
   "metadata": {}
  },
  {
   "cell_type": "code",
   "execution_count": 6,
   "source": [
    "plt.figure(figsize=(8,8))\n",
    "plt.scatter(mag_SC23_Z_C_I.X,mag_SC23_Z_C_I.Y,\n",
    "            c=mag_SC23_Z_C_I.MAGIGRF,\n",
    "            cmap='hsv',\n",
    "            s=1)\n",
    "plt.axis('scaled')\n",
    "plt.colorbar()"
   ],
   "outputs": [
    {
     "output_type": "display_data",
     "data": {
      "text/plain": [
       "Canvas(toolbar=Toolbar(toolitems=[('Home', 'Reset original view', 'home', 'home'), ('Back', 'Back to previous …"
      ],
      "application/vnd.jupyter.widget-view+json": {
       "version_major": 2,
       "version_minor": 0,
       "model_id": "01008972630e4ee8a6a9abc522ddb271"
      }
     },
     "metadata": {}
    },
    {
     "output_type": "execute_result",
     "data": {
      "text/plain": [
       "<matplotlib.colorbar.Colorbar at 0x7fb58ac61970>"
      ]
     },
     "metadata": {},
     "execution_count": 6
    }
   ],
   "metadata": {}
  },
  {
   "cell_type": "code",
   "execution_count": 12,
   "source": [
    "coordinates = (mag_SC23_Z_C_I.X.values, mag_SC23_Z_C_I.Y.values)\n",
    "\n",
    "\n",
    "chain = vd.Chain([\n",
    "        ('trend', vd.Trend(degree=1)),\n",
    "        ('reduce', vd.BlockReduce(np.median, spacing=500)),\n",
    "        ('spline', vd.Spline())\n",
    "    ])\n",
    "    \n",
    "chain.fit(coordinates, mag_SC23_Z_C_I.MAGIGRF)\n",
    "\n",
    "\n",
    "grid_mag = chain.grid(spacing=100, data_names='MAGIGRF',pixel_register=True)\n",
    "grids_mag= vd.distance_mask(coordinates, maxdist=1000, grid= grid_mag)"
   ],
   "outputs": [],
   "metadata": {}
  },
  {
   "cell_type": "code",
   "execution_count": 15,
   "source": [
    "plt.figure()\n",
    "grids_mag.MAGIGRF.plot(cmap='hsv',vmin=-400,vmax=400)\n",
    "plt.axis('scaled')"
   ],
   "outputs": [
    {
     "output_type": "display_data",
     "data": {
      "text/plain": [
       "Canvas(toolbar=Toolbar(toolitems=[('Home', 'Reset original view', 'home', 'home'), ('Back', 'Back to previous …"
      ],
      "application/vnd.jupyter.widget-view+json": {
       "version_major": 2,
       "version_minor": 0,
       "model_id": "e5c5affb06754fb298f2c0e9cf5be8a3"
      }
     },
     "metadata": {}
    },
    {
     "output_type": "execute_result",
     "data": {
      "text/plain": [
       "(500001.8, 554701.8100000002, 8783977.48, 8839304.829999998)"
      ]
     },
     "metadata": {},
     "execution_count": 15
    }
   ],
   "metadata": {}
  },
  {
   "cell_type": "code",
   "execution_count": null,
   "source": [
    "cv     = vd.BlockKFold(spacing=500,\n",
    "                       n_splits=2,\n",
    "                       shuffle=True)\n",
    "\n",
    "scores = vd.cross_val_score(chain,\n",
    "                            coordinates,\n",
    "                            mag_SC23_Z_C_I.MAGIGRF,\n",
    "                            cv=cv)"
   ],
   "outputs": [],
   "metadata": {}
  },
  {
   "cell_type": "code",
   "execution_count": 31,
   "source": [
    "chain_list = ['CTCOR', 'KPERC', 'MDT', 'eU', 'eth']\n",
    "\n",
    "grids = {'CTCOR':(),'KPERC':(), 'MDT':(), 'eU':(), 'eth':()}\n",
    "\n",
    "scores = {'CTCOR':(),'KPERC':(), 'MDT':(), 'eU':(), 'eth':()}\n",
    "\n",
    "\n",
    "coordinates = (gama_SC23_Z_C_I.X.values, gama_SC23_Z_C_I.Y.values)\n",
    "\n",
    "for i in chain_list:\n",
    "    print(i)\n",
    "    \n",
    "    chain = vd.Chain([\n",
    "        ('trend', vd.Trend(degree=1)),\n",
    "        ('reduce', vd.BlockReduce(np.median, spacing=500)),\n",
    "        ('spline', vd.Spline())\n",
    "    ])\n",
    "    \n",
    "    chain.fit(coordinates, gama_SC23_Z_C_I[i])\n",
    "    '''\n",
    "    cv     = vd.BlockKFold(spacing=1000,\n",
    "                  n_splits=1,\n",
    "                  shuffle=True)\n",
    "\n",
    "    scores[i] = vd.cross_val_score(chain,\n",
    "                             coordinates,\n",
    "                             geof_SF23_Y_A_VI_3_DEM[i],\n",
    "                             cv=cv)\n",
    "    '''\n",
    "    grid = chain.grid(spacing=100, data_names=[i],pixel_register=True)\n",
    "    grids[i] = vd.distance_mask(coordinates, maxdist=500, grid= grid)\n"
   ],
   "outputs": [
    {
     "output_type": "stream",
     "name": "stdout",
     "text": [
      "CTCOR\n",
      "KPERC\n",
      "MDT\n",
      "eU\n",
      "eth\n"
     ]
    }
   ],
   "metadata": {}
  },
  {
   "cell_type": "code",
   "execution_count": 37,
   "source": [
    "plt.figure(figsize=(9,9))\n",
    "grids['eU'].eU.plot(cmap='hsv',vmin=0)\n",
    "plt.axis('scaled')"
   ],
   "outputs": [
    {
     "output_type": "display_data",
     "data": {
      "text/plain": [
       "Canvas(toolbar=Toolbar(toolitems=[('Home', 'Reset original view', 'home', 'home'), ('Back', 'Back to previous …"
      ],
      "application/vnd.jupyter.widget-view+json": {
       "version_major": 2,
       "version_minor": 0,
       "model_id": "a5393350b1b041a28d681920a1670771"
      }
     },
     "metadata": {}
    },
    {
     "output_type": "execute_result",
     "data": {
      "text/plain": [
       "(500005.30000000005, 554693.8600000001, 8783985.229999999, 8839303.77)"
      ]
     },
     "metadata": {},
     "execution_count": 37
    }
   ],
   "metadata": {}
  },
  {
   "cell_type": "code",
   "execution_count": 169,
   "source": [
    "plt.figure(figsize=(9,9))\n",
    "grids['MAGR'].MAGR.plot(cmap='hsv')\n",
    "plt.axis('scaled')"
   ],
   "outputs": [
    {
     "output_type": "display_data",
     "data": {
      "text/plain": [
       "Canvas(toolbar=Toolbar(toolitems=[('Home', 'Reset original view', 'home', 'home'), ('Back', 'Back to previous …"
      ],
      "application/vnd.jupyter.widget-view+json": {
       "version_major": 2,
       "version_minor": 0,
       "model_id": "a3000312f0d748f082b45ba34b829c6e"
      }
     },
     "metadata": {}
    },
    {
     "output_type": "execute_result",
     "data": {
      "text/plain": [
       "(294395.0, 320223.0, 7482805.000000001, 7510694.999999999)"
      ]
     },
     "metadata": {},
     "execution_count": 169
    }
   ],
   "metadata": {}
  },
  {
   "cell_type": "code",
   "execution_count": 170,
   "source": [
    "plt.figure()\n",
    "plt.hist(scores['MDT'],bins='auto')"
   ],
   "outputs": [
    {
     "output_type": "display_data",
     "data": {
      "text/plain": [
       "Canvas(toolbar=Toolbar(toolitems=[('Home', 'Reset original view', 'home', 'home'), ('Back', 'Back to previous …"
      ],
      "application/vnd.jupyter.widget-view+json": {
       "version_major": 2,
       "version_minor": 0,
       "model_id": "5dc4c2cc89074f90abdc98bfed63bb55"
      }
     },
     "metadata": {}
    },
    {
     "output_type": "execute_result",
     "data": {
      "text/plain": [
       "(array([ 1.,  0.,  0.,  0.,  0.,  0.,  0.,  0.,  0.,  3.,  0.,  0.,  3.,\n",
       "         2.,  4.,  6., 12., 22., 23., 24.]),\n",
       " array([-0.63206263, -0.55239542, -0.47272822, -0.39306101, -0.31339381,\n",
       "        -0.23372661, -0.1540594 , -0.0743922 ,  0.005275  ,  0.08494221,\n",
       "         0.16460941,  0.24427661,  0.32394382,  0.40361102,  0.48327823,\n",
       "         0.56294543,  0.64261263,  0.72227984,  0.80194704,  0.88161424,\n",
       "         0.96128145]),\n",
       " <BarContainer object of 20 artists>)"
      ]
     },
     "metadata": {},
     "execution_count": 170
    }
   ],
   "metadata": {}
  },
  {
   "cell_type": "code",
   "execution_count": 119,
   "source": [
    "plt.figure()\n",
    "plt.hist(scores['MAGR'],bins='auto')"
   ],
   "outputs": [
    {
     "output_type": "display_data",
     "data": {
      "text/plain": [
       "Canvas(toolbar=Toolbar(toolitems=[('Home', 'Reset original view', 'home', 'home'), ('Back', 'Back to previous …"
      ],
      "application/vnd.jupyter.widget-view+json": {
       "version_major": 2,
       "version_minor": 0,
       "model_id": "af13a06cef604b60bff589943ea030d1"
      }
     },
     "metadata": {}
    },
    {
     "output_type": "execute_result",
     "data": {
      "text/plain": [
       "(array([ 1.,  0.,  1.,  5.,  4.,  2.,  3.,  6., 13., 14., 51.]),\n",
       " array([-1.49912766, -1.27312413, -1.0471206 , -0.82111707, -0.59511354,\n",
       "        -0.36911001, -0.14310648,  0.08289705,  0.30890058,  0.53490411,\n",
       "         0.76090764,  0.98691117]),\n",
       " <BarContainer object of 11 artists>)"
      ]
     },
     "metadata": {},
     "execution_count": 119
    }
   ],
   "metadata": {}
  },
  {
   "cell_type": "code",
   "execution_count": 120,
   "source": [
    "plt.figure(figsize=(9,9))\n",
    "grids['CTC'].CTC.plot(cmap='hsv')\n",
    "plt.axis('scaled')"
   ],
   "outputs": [
    {
     "output_type": "display_data",
     "data": {
      "text/plain": [
       "Canvas(toolbar=Toolbar(toolitems=[('Home', 'Reset original view', 'home', 'home'), ('Back', 'Back to previous …"
      ],
      "application/vnd.jupyter.widget-view+json": {
       "version_major": 2,
       "version_minor": 0,
       "model_id": "f9f9f1101bd0429588188f32c229fbb6"
      }
     },
     "metadata": {}
    },
    {
     "output_type": "execute_result",
     "data": {
      "text/plain": [
       "(294395.0, 320223.0, 7482805.000000001, 7510694.999999999)"
      ]
     },
     "metadata": {},
     "execution_count": 120
    }
   ],
   "metadata": {}
  },
  {
   "cell_type": "code",
   "execution_count": 108,
   "source": [
    "plt.figure()\n",
    "plt.hist(scores['CTC'],bins='auto')"
   ],
   "outputs": [
    {
     "output_type": "display_data",
     "data": {
      "text/plain": [
       "Canvas(toolbar=Toolbar(toolitems=[('Home', 'Reset original view', 'home', 'home'), ('Back', 'Back to previous …"
      ],
      "application/vnd.jupyter.widget-view+json": {
       "version_major": 2,
       "version_minor": 0,
       "model_id": "0e23848176754d0ea072403e33fbff95"
      }
     },
     "metadata": {}
    },
    {
     "output_type": "execute_result",
     "data": {
      "text/plain": [
       "(array([ 1.,  0.,  1.,  0.,  0.,  1.,  6.,  8.,  6., 13., 22., 22., 20.]),\n",
       " array([-2.03184542, -1.80324847, -1.57465151, -1.34605456, -1.11745761,\n",
       "        -0.88886065, -0.6602637 , -0.43166674, -0.20306979,  0.02552717,\n",
       "         0.25412412,  0.48272108,  0.71131803,  0.93991499]),\n",
       " <BarContainer object of 13 artists>)"
      ]
     },
     "metadata": {},
     "execution_count": 108
    }
   ],
   "metadata": {}
  },
  {
   "cell_type": "code",
   "execution_count": 161,
   "source": [
    "plt.figure(figsize=(9,9))\n",
    "grids['UC'].UC.plot(cmap='hsv')\n",
    "plt.axis('scaled')"
   ],
   "outputs": [
    {
     "output_type": "display_data",
     "data": {
      "text/plain": [
       "Canvas(toolbar=Toolbar(toolitems=[('Home', 'Reset original view', 'home', 'home'), ('Back', 'Back to previous …"
      ],
      "application/vnd.jupyter.widget-view+json": {
       "version_major": 2,
       "version_minor": 0,
       "model_id": "b17349012ab74b4ea1046363567ca4c0"
      }
     },
     "metadata": {}
    },
    {
     "output_type": "execute_result",
     "data": {
      "text/plain": [
       "(294395.0, 320223.0, 7482805.000000001, 7510694.999999999)"
      ]
     },
     "metadata": {},
     "execution_count": 161
    }
   ],
   "metadata": {}
  },
  {
   "cell_type": "code",
   "execution_count": 162,
   "source": [
    "plt.figure()\n",
    "plt.hist(scores['UC'],bins='auto')"
   ],
   "outputs": [
    {
     "output_type": "display_data",
     "data": {
      "text/plain": [
       "Canvas(toolbar=Toolbar(toolitems=[('Home', 'Reset original view', 'home', 'home'), ('Back', 'Back to previous …"
      ],
      "application/vnd.jupyter.widget-view+json": {
       "version_major": 2,
       "version_minor": 0,
       "model_id": "97658b9a033b4111a35dca62409da589"
      }
     },
     "metadata": {}
    },
    {
     "output_type": "execute_result",
     "data": {
      "text/plain": [
       "(array([ 1.,  1.,  5., 10., 13., 24., 16., 17.,  8.,  4.,  1.]),\n",
       " array([-0.47906598, -0.39240964, -0.3057533 , -0.21909697, -0.13244063,\n",
       "        -0.04578429,  0.04087205,  0.12752839,  0.21418473,  0.30084106,\n",
       "         0.3874974 ,  0.47415374]),\n",
       " <BarContainer object of 11 artists>)"
      ]
     },
     "metadata": {},
     "execution_count": 162
    }
   ],
   "metadata": {}
  },
  {
   "cell_type": "code",
   "execution_count": 128,
   "source": [
    "plt.figure(figsize=(9,9))\n",
    "grids['THC'].THC.plot(cmap='hsv')\n",
    "plt.axis('scaled')"
   ],
   "outputs": [
    {
     "output_type": "display_data",
     "data": {
      "text/plain": [
       "Canvas(toolbar=Toolbar(toolitems=[('Home', 'Reset original view', 'home', 'home'), ('Back', 'Back to previous …"
      ],
      "application/vnd.jupyter.widget-view+json": {
       "version_major": 2,
       "version_minor": 0,
       "model_id": "751b171203c6459b9c63f9ada78b9448"
      }
     },
     "metadata": {}
    },
    {
     "output_type": "execute_result",
     "data": {
      "text/plain": [
       "(294395.0, 320223.0, 7482805.000000001, 7510694.999999999)"
      ]
     },
     "metadata": {},
     "execution_count": 128
    }
   ],
   "metadata": {}
  },
  {
   "cell_type": "code",
   "execution_count": 101,
   "source": [
    "plt.figure()\n",
    "plt.hist(scores['THC'])"
   ],
   "outputs": [
    {
     "output_type": "display_data",
     "data": {
      "text/plain": [
       "Canvas(toolbar=Toolbar(toolitems=[('Home', 'Reset original view', 'home', 'home'), ('Back', 'Back to previous …"
      ],
      "application/vnd.jupyter.widget-view+json": {
       "version_major": 2,
       "version_minor": 0,
       "model_id": "1eb30d0117184abca23b84ad6b9ab774"
      }
     },
     "metadata": {}
    },
    {
     "output_type": "execute_result",
     "data": {
      "text/plain": [
       "(array([ 2.,  0.,  0.,  0.,  0.,  0., 15., 27., 35., 21.]),\n",
       " array([-2.2078012 , -1.89833042, -1.58885963, -1.27938885, -0.96991806,\n",
       "        -0.66044728, -0.35097649, -0.04150571,  0.26796507,  0.57743586,\n",
       "         0.88690664]),\n",
       " <BarContainer object of 10 artists>)"
      ]
     },
     "metadata": {},
     "execution_count": 101
    }
   ],
   "metadata": {}
  },
  {
   "cell_type": "code",
   "execution_count": 130,
   "source": [
    "plt.figure(figsize=(9,9))\n",
    "grids['KC'].KC.plot(cmap='hsv',vmin=0)\n",
    "plt.axis('scaled')"
   ],
   "outputs": [
    {
     "output_type": "display_data",
     "data": {
      "text/plain": [
       "Canvas(toolbar=Toolbar(toolitems=[('Home', 'Reset original view', 'home', 'home'), ('Back', 'Back to previous …"
      ],
      "application/vnd.jupyter.widget-view+json": {
       "version_major": 2,
       "version_minor": 0,
       "model_id": "8c71afc29ebc4fbd9ed2b7dc82ce03a2"
      }
     },
     "metadata": {}
    },
    {
     "output_type": "execute_result",
     "data": {
      "text/plain": [
       "(294395.0, 320223.0, 7482805.000000001, 7510694.999999999)"
      ]
     },
     "metadata": {},
     "execution_count": 130
    }
   ],
   "metadata": {}
  },
  {
   "cell_type": "code",
   "execution_count": 107,
   "source": [
    "plt.figure()\n",
    "plt.hist(scores['KC'])"
   ],
   "outputs": [
    {
     "output_type": "display_data",
     "data": {
      "text/plain": [
       "Canvas(toolbar=Toolbar(toolitems=[('Home', 'Reset original view', 'home', 'home'), ('Back', 'Back to previous …"
      ],
      "application/vnd.jupyter.widget-view+json": {
       "version_major": 2,
       "version_minor": 0,
       "model_id": "33b8f057be0b49108d5b345342e15077"
      }
     },
     "metadata": {}
    },
    {
     "output_type": "execute_result",
     "data": {
      "text/plain": [
       "(array([ 3.,  1.,  4.,  1., 10.,  9., 16., 19., 25., 12.]),\n",
       " array([-0.50901309, -0.36927396, -0.22953483, -0.08979571,  0.04994342,\n",
       "         0.18968254,  0.32942167,  0.46916079,  0.60889992,  0.74863905,\n",
       "         0.88837817]),\n",
       " <BarContainer object of 10 artists>)"
      ]
     },
     "metadata": {},
     "execution_count": 107
    }
   ],
   "metadata": {}
  },
  {
   "cell_type": "code",
   "execution_count": 96,
   "source": [
    "chain = vd.Chain([\n",
    "        ('trend', vd.Trend(degree=3)),\n",
    "        ('reduce', vd.BlockReduce(np.median, spacing=1000)),\n",
    "        ('spline', vd.Spline())\n",
    "    ])\n",
    "    \n",
    "chain.fit(coordinates, geof_SF23_Y_A_VI_3_DEM.UC)\n",
    "\n",
    "cv     = vd.BlockKFold(spacing=1000,\n",
    "                  n_splits=100,\n",
    "                  shuffle=True)\n",
    "\n",
    "scores_uc = vd.cross_val_score(chain,\n",
    "                            coordinates,\n",
    "                            geof_SF23_Y_A_VI_3_DEM.UC,\n",
    "                            cv=cv)\n",
    "    \n",
    "grid_1 = chain.grid(spacing=200, data_names='UC',pixel_register=True)\n",
    "grid_uc = vd.distance_mask(coordinates, maxdist=1000, grid= grid_1)"
   ],
   "outputs": [],
   "metadata": {}
  },
  {
   "cell_type": "code",
   "execution_count": 163,
   "source": [
    "plt.figure()\n",
    "grid_uc.UC.plot(cmap='hsv')\n",
    "plt.axis('scaled')"
   ],
   "outputs": [
    {
     "output_type": "display_data",
     "data": {
      "text/plain": [
       "Canvas(toolbar=Toolbar(toolitems=[('Home', 'Reset original view', 'home', 'home'), ('Back', 'Back to previous …"
      ],
      "application/vnd.jupyter.widget-view+json": {
       "version_major": 2,
       "version_minor": 0,
       "model_id": "7d2d52c1580549e4b4e85e0e4e580eb3"
      }
     },
     "metadata": {}
    },
    {
     "output_type": "execute_result",
     "data": {
      "text/plain": [
       "(294395.0, 320223.0, 7482805.000000001, 7510694.999999999)"
      ]
     },
     "metadata": {},
     "execution_count": 163
    }
   ],
   "metadata": {}
  },
  {
   "cell_type": "code",
   "execution_count": 164,
   "source": [
    "plt.figure()\n",
    "plt.hist(scores_uc,bins='auto')"
   ],
   "outputs": [
    {
     "output_type": "display_data",
     "data": {
      "text/plain": [
       "Canvas(toolbar=Toolbar(toolitems=[('Home', 'Reset original view', 'home', 'home'), ('Back', 'Back to previous …"
      ],
      "application/vnd.jupyter.widget-view+json": {
       "version_major": 2,
       "version_minor": 0,
       "model_id": "145e24c5e7e94936acf1cdf0ff9e006f"
      }
     },
     "metadata": {}
    },
    {
     "output_type": "execute_result",
     "data": {
      "text/plain": [
       "(array([ 4.,  5.,  5., 13., 20., 22., 16.,  7.,  5.,  3.]),\n",
       " array([-0.42350206, -0.33660169, -0.24970132, -0.16280095, -0.07590058,\n",
       "         0.01099979,  0.09790016,  0.18480053,  0.2717009 ,  0.35860127,\n",
       "         0.44550164]),\n",
       " <BarContainer object of 10 artists>)"
      ]
     },
     "metadata": {},
     "execution_count": 164
    }
   ],
   "metadata": {}
  },
  {
   "cell_type": "code",
   "execution_count": 33,
   "source": [
    "data = list()\n",
    "for i in chain_list:\n",
    "    df = grids[i].to_dataframe()\n",
    "    data.append(df[i])"
   ],
   "outputs": [],
   "metadata": {}
  },
  {
   "cell_type": "code",
   "execution_count": 34,
   "source": [
    "geof = pd.concat(data,axis=1, join='inner')\n",
    "\n",
    "geof.reset_index(inplace=True)\n",
    "geof"
   ],
   "outputs": [
    {
     "output_type": "execute_result",
     "data": {
      "text/plain": [
       "              easting      northing        CTCOR     KPERC         MDT  \\\n",
       "0       500055.289543  8.784035e+06  1708.875338  1.685567  508.936948   \n",
       "1       500055.289543  8.784135e+06  1712.006845  1.627513  508.831103   \n",
       "2       500055.289543  8.784235e+06  1693.736960  1.561761  509.035380   \n",
       "3       500055.289543  8.784335e+06  1639.938707  1.493374  510.118943   \n",
       "4       500055.289543  8.784435e+06  1561.172489  1.426346  511.533855   \n",
       "...               ...           ...          ...       ...         ...   \n",
       "302486  554643.870457  8.838854e+06  1138.891026  0.760344  471.539519   \n",
       "302487  554643.870457  8.838954e+06  1114.599345  0.783834  466.898206   \n",
       "302488  554643.870457  8.839054e+06  1088.677543  0.806869  462.777227   \n",
       "302489  554643.870457  8.839154e+06  1059.884453  0.828355  459.411416   \n",
       "302490  554643.870457  8.839254e+06  1034.680781  0.847966  456.562335   \n",
       "\n",
       "              eU        eth  \n",
       "0       1.907549  17.543268  \n",
       "1       1.922783  17.808410  \n",
       "2       1.935492  17.728627  \n",
       "3       1.950659  17.013406  \n",
       "4       1.962516  15.848140  \n",
       "...          ...        ...  \n",
       "302486  1.726946  12.759650  \n",
       "302487  1.429977  12.531083  \n",
       "302488  1.143662  12.318743  \n",
       "302489  0.881483  12.125568  \n",
       "302490  0.646376  11.994416  \n",
       "\n",
       "[302491 rows x 7 columns]"
      ],
      "text/html": [
       "<div>\n",
       "<style scoped>\n",
       "    .dataframe tbody tr th:only-of-type {\n",
       "        vertical-align: middle;\n",
       "    }\n",
       "\n",
       "    .dataframe tbody tr th {\n",
       "        vertical-align: top;\n",
       "    }\n",
       "\n",
       "    .dataframe thead th {\n",
       "        text-align: right;\n",
       "    }\n",
       "</style>\n",
       "<table border=\"1\" class=\"dataframe\">\n",
       "  <thead>\n",
       "    <tr style=\"text-align: right;\">\n",
       "      <th></th>\n",
       "      <th>easting</th>\n",
       "      <th>northing</th>\n",
       "      <th>CTCOR</th>\n",
       "      <th>KPERC</th>\n",
       "      <th>MDT</th>\n",
       "      <th>eU</th>\n",
       "      <th>eth</th>\n",
       "    </tr>\n",
       "  </thead>\n",
       "  <tbody>\n",
       "    <tr>\n",
       "      <th>0</th>\n",
       "      <td>500055.289543</td>\n",
       "      <td>8.784035e+06</td>\n",
       "      <td>1708.875338</td>\n",
       "      <td>1.685567</td>\n",
       "      <td>508.936948</td>\n",
       "      <td>1.907549</td>\n",
       "      <td>17.543268</td>\n",
       "    </tr>\n",
       "    <tr>\n",
       "      <th>1</th>\n",
       "      <td>500055.289543</td>\n",
       "      <td>8.784135e+06</td>\n",
       "      <td>1712.006845</td>\n",
       "      <td>1.627513</td>\n",
       "      <td>508.831103</td>\n",
       "      <td>1.922783</td>\n",
       "      <td>17.808410</td>\n",
       "    </tr>\n",
       "    <tr>\n",
       "      <th>2</th>\n",
       "      <td>500055.289543</td>\n",
       "      <td>8.784235e+06</td>\n",
       "      <td>1693.736960</td>\n",
       "      <td>1.561761</td>\n",
       "      <td>509.035380</td>\n",
       "      <td>1.935492</td>\n",
       "      <td>17.728627</td>\n",
       "    </tr>\n",
       "    <tr>\n",
       "      <th>3</th>\n",
       "      <td>500055.289543</td>\n",
       "      <td>8.784335e+06</td>\n",
       "      <td>1639.938707</td>\n",
       "      <td>1.493374</td>\n",
       "      <td>510.118943</td>\n",
       "      <td>1.950659</td>\n",
       "      <td>17.013406</td>\n",
       "    </tr>\n",
       "    <tr>\n",
       "      <th>4</th>\n",
       "      <td>500055.289543</td>\n",
       "      <td>8.784435e+06</td>\n",
       "      <td>1561.172489</td>\n",
       "      <td>1.426346</td>\n",
       "      <td>511.533855</td>\n",
       "      <td>1.962516</td>\n",
       "      <td>15.848140</td>\n",
       "    </tr>\n",
       "    <tr>\n",
       "      <th>...</th>\n",
       "      <td>...</td>\n",
       "      <td>...</td>\n",
       "      <td>...</td>\n",
       "      <td>...</td>\n",
       "      <td>...</td>\n",
       "      <td>...</td>\n",
       "      <td>...</td>\n",
       "    </tr>\n",
       "    <tr>\n",
       "      <th>302486</th>\n",
       "      <td>554643.870457</td>\n",
       "      <td>8.838854e+06</td>\n",
       "      <td>1138.891026</td>\n",
       "      <td>0.760344</td>\n",
       "      <td>471.539519</td>\n",
       "      <td>1.726946</td>\n",
       "      <td>12.759650</td>\n",
       "    </tr>\n",
       "    <tr>\n",
       "      <th>302487</th>\n",
       "      <td>554643.870457</td>\n",
       "      <td>8.838954e+06</td>\n",
       "      <td>1114.599345</td>\n",
       "      <td>0.783834</td>\n",
       "      <td>466.898206</td>\n",
       "      <td>1.429977</td>\n",
       "      <td>12.531083</td>\n",
       "    </tr>\n",
       "    <tr>\n",
       "      <th>302488</th>\n",
       "      <td>554643.870457</td>\n",
       "      <td>8.839054e+06</td>\n",
       "      <td>1088.677543</td>\n",
       "      <td>0.806869</td>\n",
       "      <td>462.777227</td>\n",
       "      <td>1.143662</td>\n",
       "      <td>12.318743</td>\n",
       "    </tr>\n",
       "    <tr>\n",
       "      <th>302489</th>\n",
       "      <td>554643.870457</td>\n",
       "      <td>8.839154e+06</td>\n",
       "      <td>1059.884453</td>\n",
       "      <td>0.828355</td>\n",
       "      <td>459.411416</td>\n",
       "      <td>0.881483</td>\n",
       "      <td>12.125568</td>\n",
       "    </tr>\n",
       "    <tr>\n",
       "      <th>302490</th>\n",
       "      <td>554643.870457</td>\n",
       "      <td>8.839254e+06</td>\n",
       "      <td>1034.680781</td>\n",
       "      <td>0.847966</td>\n",
       "      <td>456.562335</td>\n",
       "      <td>0.646376</td>\n",
       "      <td>11.994416</td>\n",
       "    </tr>\n",
       "  </tbody>\n",
       "</table>\n",
       "<p>302491 rows × 7 columns</p>\n",
       "</div>"
      ]
     },
     "metadata": {},
     "execution_count": 34
    }
   ],
   "metadata": {}
  },
  {
   "cell_type": "code",
   "execution_count": 40,
   "source": [
    "geof['geometry'] = [geometry.Point(x,y) for x, y in zip(geof['easting'], geof['northing'])]"
   ],
   "outputs": [],
   "metadata": {}
  },
  {
   "cell_type": "code",
   "execution_count": 41,
   "source": [
    "gdf = gpd.GeoDataFrame(geof,crs=32723)\n",
    "gdf = gdf.set_crs(32723, allow_override=True)\n",
    "\n",
    "gdf"
   ],
   "outputs": [
    {
     "output_type": "execute_result",
     "data": {
      "text/plain": [
       "              easting      northing        CTCOR     KPERC         MDT  \\\n",
       "0       500055.289543  8.784035e+06  1708.875338  1.685567  508.936948   \n",
       "1       500055.289543  8.784135e+06  1712.006845  1.627513  508.831103   \n",
       "2       500055.289543  8.784235e+06  1693.736960  1.561761  509.035380   \n",
       "3       500055.289543  8.784335e+06  1639.938707  1.493374  510.118943   \n",
       "4       500055.289543  8.784435e+06  1561.172489  1.426346  511.533855   \n",
       "...               ...           ...          ...       ...         ...   \n",
       "302486  554643.870457  8.838854e+06  1138.891026  0.760344  471.539519   \n",
       "302487  554643.870457  8.838954e+06  1114.599345  0.783834  466.898206   \n",
       "302488  554643.870457  8.839054e+06  1088.677543  0.806869  462.777227   \n",
       "302489  554643.870457  8.839154e+06  1059.884453  0.828355  459.411416   \n",
       "302490  554643.870457  8.839254e+06  1034.680781  0.847966  456.562335   \n",
       "\n",
       "              eU        eth                        geometry    MAGIGRF  \n",
       "0       1.907549  17.543268  POINT (500055.290 8784035.247)  50.464271  \n",
       "1       1.922783  17.808410  POINT (500055.290 8784135.280)  50.678373  \n",
       "2       1.935492  17.728627  POINT (500055.290 8784235.314)  50.935766  \n",
       "3       1.950659  17.013406  POINT (500055.290 8784335.347)  51.153968  \n",
       "4       1.962516  15.848140  POINT (500055.290 8784435.381)  51.291826  \n",
       "...          ...        ...                             ...        ...  \n",
       "302486  1.726946  12.759650  POINT (554643.870 8838853.619)  37.771953  \n",
       "302487  1.429977  12.531083  POINT (554643.870 8838953.653)  30.463146  \n",
       "302488  1.143662  12.318743  POINT (554643.870 8839053.686)  24.237343  \n",
       "302489  0.881483  12.125568  POINT (554643.870 8839153.720)  20.059724  \n",
       "302490  0.646376  11.994416  POINT (554643.870 8839253.753)  16.984011  \n",
       "\n",
       "[302491 rows x 9 columns]"
      ],
      "text/html": [
       "<div>\n",
       "<style scoped>\n",
       "    .dataframe tbody tr th:only-of-type {\n",
       "        vertical-align: middle;\n",
       "    }\n",
       "\n",
       "    .dataframe tbody tr th {\n",
       "        vertical-align: top;\n",
       "    }\n",
       "\n",
       "    .dataframe thead th {\n",
       "        text-align: right;\n",
       "    }\n",
       "</style>\n",
       "<table border=\"1\" class=\"dataframe\">\n",
       "  <thead>\n",
       "    <tr style=\"text-align: right;\">\n",
       "      <th></th>\n",
       "      <th>easting</th>\n",
       "      <th>northing</th>\n",
       "      <th>CTCOR</th>\n",
       "      <th>KPERC</th>\n",
       "      <th>MDT</th>\n",
       "      <th>eU</th>\n",
       "      <th>eth</th>\n",
       "      <th>geometry</th>\n",
       "      <th>MAGIGRF</th>\n",
       "    </tr>\n",
       "  </thead>\n",
       "  <tbody>\n",
       "    <tr>\n",
       "      <th>0</th>\n",
       "      <td>500055.289543</td>\n",
       "      <td>8.784035e+06</td>\n",
       "      <td>1708.875338</td>\n",
       "      <td>1.685567</td>\n",
       "      <td>508.936948</td>\n",
       "      <td>1.907549</td>\n",
       "      <td>17.543268</td>\n",
       "      <td>POINT (500055.290 8784035.247)</td>\n",
       "      <td>50.464271</td>\n",
       "    </tr>\n",
       "    <tr>\n",
       "      <th>1</th>\n",
       "      <td>500055.289543</td>\n",
       "      <td>8.784135e+06</td>\n",
       "      <td>1712.006845</td>\n",
       "      <td>1.627513</td>\n",
       "      <td>508.831103</td>\n",
       "      <td>1.922783</td>\n",
       "      <td>17.808410</td>\n",
       "      <td>POINT (500055.290 8784135.280)</td>\n",
       "      <td>50.678373</td>\n",
       "    </tr>\n",
       "    <tr>\n",
       "      <th>2</th>\n",
       "      <td>500055.289543</td>\n",
       "      <td>8.784235e+06</td>\n",
       "      <td>1693.736960</td>\n",
       "      <td>1.561761</td>\n",
       "      <td>509.035380</td>\n",
       "      <td>1.935492</td>\n",
       "      <td>17.728627</td>\n",
       "      <td>POINT (500055.290 8784235.314)</td>\n",
       "      <td>50.935766</td>\n",
       "    </tr>\n",
       "    <tr>\n",
       "      <th>3</th>\n",
       "      <td>500055.289543</td>\n",
       "      <td>8.784335e+06</td>\n",
       "      <td>1639.938707</td>\n",
       "      <td>1.493374</td>\n",
       "      <td>510.118943</td>\n",
       "      <td>1.950659</td>\n",
       "      <td>17.013406</td>\n",
       "      <td>POINT (500055.290 8784335.347)</td>\n",
       "      <td>51.153968</td>\n",
       "    </tr>\n",
       "    <tr>\n",
       "      <th>4</th>\n",
       "      <td>500055.289543</td>\n",
       "      <td>8.784435e+06</td>\n",
       "      <td>1561.172489</td>\n",
       "      <td>1.426346</td>\n",
       "      <td>511.533855</td>\n",
       "      <td>1.962516</td>\n",
       "      <td>15.848140</td>\n",
       "      <td>POINT (500055.290 8784435.381)</td>\n",
       "      <td>51.291826</td>\n",
       "    </tr>\n",
       "    <tr>\n",
       "      <th>...</th>\n",
       "      <td>...</td>\n",
       "      <td>...</td>\n",
       "      <td>...</td>\n",
       "      <td>...</td>\n",
       "      <td>...</td>\n",
       "      <td>...</td>\n",
       "      <td>...</td>\n",
       "      <td>...</td>\n",
       "      <td>...</td>\n",
       "    </tr>\n",
       "    <tr>\n",
       "      <th>302486</th>\n",
       "      <td>554643.870457</td>\n",
       "      <td>8.838854e+06</td>\n",
       "      <td>1138.891026</td>\n",
       "      <td>0.760344</td>\n",
       "      <td>471.539519</td>\n",
       "      <td>1.726946</td>\n",
       "      <td>12.759650</td>\n",
       "      <td>POINT (554643.870 8838853.619)</td>\n",
       "      <td>37.771953</td>\n",
       "    </tr>\n",
       "    <tr>\n",
       "      <th>302487</th>\n",
       "      <td>554643.870457</td>\n",
       "      <td>8.838954e+06</td>\n",
       "      <td>1114.599345</td>\n",
       "      <td>0.783834</td>\n",
       "      <td>466.898206</td>\n",
       "      <td>1.429977</td>\n",
       "      <td>12.531083</td>\n",
       "      <td>POINT (554643.870 8838953.653)</td>\n",
       "      <td>30.463146</td>\n",
       "    </tr>\n",
       "    <tr>\n",
       "      <th>302488</th>\n",
       "      <td>554643.870457</td>\n",
       "      <td>8.839054e+06</td>\n",
       "      <td>1088.677543</td>\n",
       "      <td>0.806869</td>\n",
       "      <td>462.777227</td>\n",
       "      <td>1.143662</td>\n",
       "      <td>12.318743</td>\n",
       "      <td>POINT (554643.870 8839053.686)</td>\n",
       "      <td>24.237343</td>\n",
       "    </tr>\n",
       "    <tr>\n",
       "      <th>302489</th>\n",
       "      <td>554643.870457</td>\n",
       "      <td>8.839154e+06</td>\n",
       "      <td>1059.884453</td>\n",
       "      <td>0.828355</td>\n",
       "      <td>459.411416</td>\n",
       "      <td>0.881483</td>\n",
       "      <td>12.125568</td>\n",
       "      <td>POINT (554643.870 8839153.720)</td>\n",
       "      <td>20.059724</td>\n",
       "    </tr>\n",
       "    <tr>\n",
       "      <th>302490</th>\n",
       "      <td>554643.870457</td>\n",
       "      <td>8.839254e+06</td>\n",
       "      <td>1034.680781</td>\n",
       "      <td>0.847966</td>\n",
       "      <td>456.562335</td>\n",
       "      <td>0.646376</td>\n",
       "      <td>11.994416</td>\n",
       "      <td>POINT (554643.870 8839253.753)</td>\n",
       "      <td>16.984011</td>\n",
       "    </tr>\n",
       "  </tbody>\n",
       "</table>\n",
       "<p>302491 rows × 9 columns</p>\n",
       "</div>"
      ]
     },
     "metadata": {},
     "execution_count": 41
    }
   ],
   "metadata": {}
  },
  {
   "cell_type": "code",
   "execution_count": 26,
   "source": [
    "df_mag = grids_mag.to_dataframe()"
   ],
   "outputs": [],
   "metadata": {}
  },
  {
   "cell_type": "code",
   "execution_count": 29,
   "source": [
    "df_mag.reset_index(inplace=True)"
   ],
   "outputs": [],
   "metadata": {}
  },
  {
   "cell_type": "code",
   "execution_count": 30,
   "source": [
    "df_mag"
   ],
   "outputs": [
    {
     "output_type": "execute_result",
     "data": {
      "text/plain": [
       "              easting      northing    MAGIGRF\n",
       "0       500051.800009  8.784028e+06  50.464271\n",
       "1       500051.800009  8.784128e+06  50.678373\n",
       "2       500051.800009  8.784228e+06  50.935766\n",
       "3       500051.800009  8.784328e+06  51.153968\n",
       "4       500051.800009  8.784428e+06  51.291826\n",
       "...               ...           ...        ...\n",
       "302486  554651.809991  8.838855e+06  37.771953\n",
       "302487  554651.809991  8.838955e+06  30.463146\n",
       "302488  554651.809991  8.839055e+06  24.237343\n",
       "302489  554651.809991  8.839155e+06  20.059724\n",
       "302490  554651.809991  8.839255e+06  16.984011\n",
       "\n",
       "[302491 rows x 3 columns]"
      ],
      "text/html": [
       "<div>\n",
       "<style scoped>\n",
       "    .dataframe tbody tr th:only-of-type {\n",
       "        vertical-align: middle;\n",
       "    }\n",
       "\n",
       "    .dataframe tbody tr th {\n",
       "        vertical-align: top;\n",
       "    }\n",
       "\n",
       "    .dataframe thead th {\n",
       "        text-align: right;\n",
       "    }\n",
       "</style>\n",
       "<table border=\"1\" class=\"dataframe\">\n",
       "  <thead>\n",
       "    <tr style=\"text-align: right;\">\n",
       "      <th></th>\n",
       "      <th>easting</th>\n",
       "      <th>northing</th>\n",
       "      <th>MAGIGRF</th>\n",
       "    </tr>\n",
       "  </thead>\n",
       "  <tbody>\n",
       "    <tr>\n",
       "      <th>0</th>\n",
       "      <td>500051.800009</td>\n",
       "      <td>8.784028e+06</td>\n",
       "      <td>50.464271</td>\n",
       "    </tr>\n",
       "    <tr>\n",
       "      <th>1</th>\n",
       "      <td>500051.800009</td>\n",
       "      <td>8.784128e+06</td>\n",
       "      <td>50.678373</td>\n",
       "    </tr>\n",
       "    <tr>\n",
       "      <th>2</th>\n",
       "      <td>500051.800009</td>\n",
       "      <td>8.784228e+06</td>\n",
       "      <td>50.935766</td>\n",
       "    </tr>\n",
       "    <tr>\n",
       "      <th>3</th>\n",
       "      <td>500051.800009</td>\n",
       "      <td>8.784328e+06</td>\n",
       "      <td>51.153968</td>\n",
       "    </tr>\n",
       "    <tr>\n",
       "      <th>4</th>\n",
       "      <td>500051.800009</td>\n",
       "      <td>8.784428e+06</td>\n",
       "      <td>51.291826</td>\n",
       "    </tr>\n",
       "    <tr>\n",
       "      <th>...</th>\n",
       "      <td>...</td>\n",
       "      <td>...</td>\n",
       "      <td>...</td>\n",
       "    </tr>\n",
       "    <tr>\n",
       "      <th>302486</th>\n",
       "      <td>554651.809991</td>\n",
       "      <td>8.838855e+06</td>\n",
       "      <td>37.771953</td>\n",
       "    </tr>\n",
       "    <tr>\n",
       "      <th>302487</th>\n",
       "      <td>554651.809991</td>\n",
       "      <td>8.838955e+06</td>\n",
       "      <td>30.463146</td>\n",
       "    </tr>\n",
       "    <tr>\n",
       "      <th>302488</th>\n",
       "      <td>554651.809991</td>\n",
       "      <td>8.839055e+06</td>\n",
       "      <td>24.237343</td>\n",
       "    </tr>\n",
       "    <tr>\n",
       "      <th>302489</th>\n",
       "      <td>554651.809991</td>\n",
       "      <td>8.839155e+06</td>\n",
       "      <td>20.059724</td>\n",
       "    </tr>\n",
       "    <tr>\n",
       "      <th>302490</th>\n",
       "      <td>554651.809991</td>\n",
       "      <td>8.839255e+06</td>\n",
       "      <td>16.984011</td>\n",
       "    </tr>\n",
       "  </tbody>\n",
       "</table>\n",
       "<p>302491 rows × 3 columns</p>\n",
       "</div>"
      ]
     },
     "metadata": {},
     "execution_count": 30
    }
   ],
   "metadata": {}
  },
  {
   "cell_type": "code",
   "execution_count": 38,
   "source": [
    "geof['MAGIGRF'] = df_mag.MAGIGRF"
   ],
   "outputs": [],
   "metadata": {}
  },
  {
   "cell_type": "code",
   "execution_count": 39,
   "source": [
    "geof"
   ],
   "outputs": [
    {
     "output_type": "execute_result",
     "data": {
      "text/plain": [
       "              easting      northing        CTCOR     KPERC         MDT  \\\n",
       "0       500055.289543  8.784035e+06  1708.875338  1.685567  508.936948   \n",
       "1       500055.289543  8.784135e+06  1712.006845  1.627513  508.831103   \n",
       "2       500055.289543  8.784235e+06  1693.736960  1.561761  509.035380   \n",
       "3       500055.289543  8.784335e+06  1639.938707  1.493374  510.118943   \n",
       "4       500055.289543  8.784435e+06  1561.172489  1.426346  511.533855   \n",
       "...               ...           ...          ...       ...         ...   \n",
       "302486  554643.870457  8.838854e+06  1138.891026  0.760344  471.539519   \n",
       "302487  554643.870457  8.838954e+06  1114.599345  0.783834  466.898206   \n",
       "302488  554643.870457  8.839054e+06  1088.677543  0.806869  462.777227   \n",
       "302489  554643.870457  8.839154e+06  1059.884453  0.828355  459.411416   \n",
       "302490  554643.870457  8.839254e+06  1034.680781  0.847966  456.562335   \n",
       "\n",
       "              eU        eth                        geometry    MAGIGRF  \n",
       "0       1.907549  17.543268  POINT (500055.290 8784035.247)  50.464271  \n",
       "1       1.922783  17.808410  POINT (500055.290 8784135.280)  50.678373  \n",
       "2       1.935492  17.728627  POINT (500055.290 8784235.314)  50.935766  \n",
       "3       1.950659  17.013406  POINT (500055.290 8784335.347)  51.153968  \n",
       "4       1.962516  15.848140  POINT (500055.290 8784435.381)  51.291826  \n",
       "...          ...        ...                             ...        ...  \n",
       "302486  1.726946  12.759650  POINT (554643.870 8838853.619)  37.771953  \n",
       "302487  1.429977  12.531083  POINT (554643.870 8838953.653)  30.463146  \n",
       "302488  1.143662  12.318743  POINT (554643.870 8839053.686)  24.237343  \n",
       "302489  0.881483  12.125568  POINT (554643.870 8839153.720)  20.059724  \n",
       "302490  0.646376  11.994416  POINT (554643.870 8839253.753)  16.984011  \n",
       "\n",
       "[302491 rows x 9 columns]"
      ],
      "text/html": [
       "<div>\n",
       "<style scoped>\n",
       "    .dataframe tbody tr th:only-of-type {\n",
       "        vertical-align: middle;\n",
       "    }\n",
       "\n",
       "    .dataframe tbody tr th {\n",
       "        vertical-align: top;\n",
       "    }\n",
       "\n",
       "    .dataframe thead th {\n",
       "        text-align: right;\n",
       "    }\n",
       "</style>\n",
       "<table border=\"1\" class=\"dataframe\">\n",
       "  <thead>\n",
       "    <tr style=\"text-align: right;\">\n",
       "      <th></th>\n",
       "      <th>easting</th>\n",
       "      <th>northing</th>\n",
       "      <th>CTCOR</th>\n",
       "      <th>KPERC</th>\n",
       "      <th>MDT</th>\n",
       "      <th>eU</th>\n",
       "      <th>eth</th>\n",
       "      <th>geometry</th>\n",
       "      <th>MAGIGRF</th>\n",
       "    </tr>\n",
       "  </thead>\n",
       "  <tbody>\n",
       "    <tr>\n",
       "      <th>0</th>\n",
       "      <td>500055.289543</td>\n",
       "      <td>8.784035e+06</td>\n",
       "      <td>1708.875338</td>\n",
       "      <td>1.685567</td>\n",
       "      <td>508.936948</td>\n",
       "      <td>1.907549</td>\n",
       "      <td>17.543268</td>\n",
       "      <td>POINT (500055.290 8784035.247)</td>\n",
       "      <td>50.464271</td>\n",
       "    </tr>\n",
       "    <tr>\n",
       "      <th>1</th>\n",
       "      <td>500055.289543</td>\n",
       "      <td>8.784135e+06</td>\n",
       "      <td>1712.006845</td>\n",
       "      <td>1.627513</td>\n",
       "      <td>508.831103</td>\n",
       "      <td>1.922783</td>\n",
       "      <td>17.808410</td>\n",
       "      <td>POINT (500055.290 8784135.280)</td>\n",
       "      <td>50.678373</td>\n",
       "    </tr>\n",
       "    <tr>\n",
       "      <th>2</th>\n",
       "      <td>500055.289543</td>\n",
       "      <td>8.784235e+06</td>\n",
       "      <td>1693.736960</td>\n",
       "      <td>1.561761</td>\n",
       "      <td>509.035380</td>\n",
       "      <td>1.935492</td>\n",
       "      <td>17.728627</td>\n",
       "      <td>POINT (500055.290 8784235.314)</td>\n",
       "      <td>50.935766</td>\n",
       "    </tr>\n",
       "    <tr>\n",
       "      <th>3</th>\n",
       "      <td>500055.289543</td>\n",
       "      <td>8.784335e+06</td>\n",
       "      <td>1639.938707</td>\n",
       "      <td>1.493374</td>\n",
       "      <td>510.118943</td>\n",
       "      <td>1.950659</td>\n",
       "      <td>17.013406</td>\n",
       "      <td>POINT (500055.290 8784335.347)</td>\n",
       "      <td>51.153968</td>\n",
       "    </tr>\n",
       "    <tr>\n",
       "      <th>4</th>\n",
       "      <td>500055.289543</td>\n",
       "      <td>8.784435e+06</td>\n",
       "      <td>1561.172489</td>\n",
       "      <td>1.426346</td>\n",
       "      <td>511.533855</td>\n",
       "      <td>1.962516</td>\n",
       "      <td>15.848140</td>\n",
       "      <td>POINT (500055.290 8784435.381)</td>\n",
       "      <td>51.291826</td>\n",
       "    </tr>\n",
       "    <tr>\n",
       "      <th>...</th>\n",
       "      <td>...</td>\n",
       "      <td>...</td>\n",
       "      <td>...</td>\n",
       "      <td>...</td>\n",
       "      <td>...</td>\n",
       "      <td>...</td>\n",
       "      <td>...</td>\n",
       "      <td>...</td>\n",
       "      <td>...</td>\n",
       "    </tr>\n",
       "    <tr>\n",
       "      <th>302486</th>\n",
       "      <td>554643.870457</td>\n",
       "      <td>8.838854e+06</td>\n",
       "      <td>1138.891026</td>\n",
       "      <td>0.760344</td>\n",
       "      <td>471.539519</td>\n",
       "      <td>1.726946</td>\n",
       "      <td>12.759650</td>\n",
       "      <td>POINT (554643.870 8838853.619)</td>\n",
       "      <td>37.771953</td>\n",
       "    </tr>\n",
       "    <tr>\n",
       "      <th>302487</th>\n",
       "      <td>554643.870457</td>\n",
       "      <td>8.838954e+06</td>\n",
       "      <td>1114.599345</td>\n",
       "      <td>0.783834</td>\n",
       "      <td>466.898206</td>\n",
       "      <td>1.429977</td>\n",
       "      <td>12.531083</td>\n",
       "      <td>POINT (554643.870 8838953.653)</td>\n",
       "      <td>30.463146</td>\n",
       "    </tr>\n",
       "    <tr>\n",
       "      <th>302488</th>\n",
       "      <td>554643.870457</td>\n",
       "      <td>8.839054e+06</td>\n",
       "      <td>1088.677543</td>\n",
       "      <td>0.806869</td>\n",
       "      <td>462.777227</td>\n",
       "      <td>1.143662</td>\n",
       "      <td>12.318743</td>\n",
       "      <td>POINT (554643.870 8839053.686)</td>\n",
       "      <td>24.237343</td>\n",
       "    </tr>\n",
       "    <tr>\n",
       "      <th>302489</th>\n",
       "      <td>554643.870457</td>\n",
       "      <td>8.839154e+06</td>\n",
       "      <td>1059.884453</td>\n",
       "      <td>0.828355</td>\n",
       "      <td>459.411416</td>\n",
       "      <td>0.881483</td>\n",
       "      <td>12.125568</td>\n",
       "      <td>POINT (554643.870 8839153.720)</td>\n",
       "      <td>20.059724</td>\n",
       "    </tr>\n",
       "    <tr>\n",
       "      <th>302490</th>\n",
       "      <td>554643.870457</td>\n",
       "      <td>8.839254e+06</td>\n",
       "      <td>1034.680781</td>\n",
       "      <td>0.847966</td>\n",
       "      <td>456.562335</td>\n",
       "      <td>0.646376</td>\n",
       "      <td>11.994416</td>\n",
       "      <td>POINT (554643.870 8839253.753)</td>\n",
       "      <td>16.984011</td>\n",
       "    </tr>\n",
       "  </tbody>\n",
       "</table>\n",
       "<p>302491 rows × 9 columns</p>\n",
       "</div>"
      ]
     },
     "metadata": {},
     "execution_count": 39
    }
   ],
   "metadata": {}
  },
  {
   "cell_type": "code",
   "execution_count": 137,
   "source": [
    "gdf.crs"
   ],
   "outputs": [
    {
     "output_type": "execute_result",
     "data": {
      "text/plain": [
       "<Projected CRS: EPSG:32723>\n",
       "Name: WGS 84 / UTM zone 23S\n",
       "Axis Info [cartesian]:\n",
       "- E[east]: Easting (metre)\n",
       "- N[north]: Northing (metre)\n",
       "Area of Use:\n",
       "- name: World - S hemisphere - 48°W to 42°W - by country\n",
       "- bounds: (-48.0, -80.0, -42.0, 0.0)\n",
       "Coordinate Operation:\n",
       "- name: UTM zone 23S\n",
       "- method: Transverse Mercator\n",
       "Datum: World Geodetic System 1984\n",
       "- Ellipsoid: WGS 84\n",
       "- Prime Meridian: Greenwich"
      ]
     },
     "metadata": {},
     "execution_count": 137
    }
   ],
   "metadata": {}
  },
  {
   "cell_type": "code",
   "execution_count": 42,
   "source": [
    "l_100k = mf.litologia('l_100k')"
   ],
   "outputs": [],
   "metadata": {}
  },
  {
   "cell_type": "code",
   "execution_count": 43,
   "source": [
    "rparaim = mf.mapa(l_100k,'Rio Paraim')"
   ],
   "outputs": [],
   "metadata": {}
  },
  {
   "cell_type": "code",
   "execution_count": 44,
   "source": [
    "rparaim.crs"
   ],
   "outputs": [
    {
     "output_type": "execute_result",
     "data": {
      "text/plain": [
       "<Geographic 2D CRS: EPSG:4326>\n",
       "Name: WGS 84\n",
       "Axis Info [ellipsoidal]:\n",
       "- Lat[north]: Geodetic latitude (degree)\n",
       "- Lon[east]: Geodetic longitude (degree)\n",
       "Area of Use:\n",
       "- name: World\n",
       "- bounds: (-180.0, -90.0, 180.0, 90.0)\n",
       "Datum: World Geodetic System 1984\n",
       "- Ellipsoid: WGS 84\n",
       "- Prime Meridian: Greenwich"
      ]
     },
     "metadata": {},
     "execution_count": 44
    }
   ],
   "metadata": {}
  },
  {
   "cell_type": "code",
   "execution_count": 45,
   "source": [
    "rparaim = rparaim.to_crs(32723)\n",
    "rparaim.crs"
   ],
   "outputs": [
    {
     "output_type": "execute_result",
     "data": {
      "text/plain": [
       "<Projected CRS: EPSG:32723>\n",
       "Name: WGS 84 / UTM zone 23S\n",
       "Axis Info [cartesian]:\n",
       "- E[east]: Easting (metre)\n",
       "- N[north]: Northing (metre)\n",
       "Area of Use:\n",
       "- name: World - S hemisphere - 48°W to 42°W - by country\n",
       "- bounds: (-48.0, -80.0, -42.0, 0.0)\n",
       "Coordinate Operation:\n",
       "- name: UTM zone 23S\n",
       "- method: Transverse Mercator\n",
       "Datum: World Geodetic System 1984\n",
       "- Ellipsoid: WGS 84\n",
       "- Prime Meridian: Greenwich"
      ]
     },
     "metadata": {},
     "execution_count": 45
    }
   ],
   "metadata": {}
  },
  {
   "cell_type": "code",
   "execution_count": 49,
   "source": [
    "rparaim.reset_index(inplace=True)"
   ],
   "outputs": [],
   "metadata": {}
  },
  {
   "cell_type": "code",
   "execution_count": 50,
   "source": [
    "rparaim"
   ],
   "outputs": [
    {
     "output_type": "execute_result",
     "data": {
      "text/plain": [
       "     index  ID_UNIDADE    SIGLA    HIERARQUIA  \\\n",
       "0     2816        1006     N1dl  Não definida   \n",
       "1     2820        1006     N1dl  Não definida   \n",
       "2     2821        4873   NP1rp3       Unidade   \n",
       "3     2823        4876  NP1rp2q    Litofácies   \n",
       "4     2825        5773   PP2cmv       Unidade   \n",
       "..     ...         ...      ...           ...   \n",
       "136  54750        4876  NP1rp2q    Litofácies   \n",
       "137  54752        1006     N1dl  Não definida   \n",
       "138  54754        1006     N1dl  Não definida   \n",
       "139  54755        4873   NP1rp3       Unidade   \n",
       "140  54756        1006     N1dl  Não definida   \n",
       "\n",
       "                                                  NOME             AMBIENTE_T  \\\n",
       "0          Coberturas detrito-lateríticas ferruginosas  Cobertura superficial   \n",
       "1          Coberturas detrito-lateríticas ferruginosas  Cobertura superficial   \n",
       "2                             Unidade Rio Preto, xisto                   None   \n",
       "3    Litofácies Rio Preto, metassedimentos quartzos...                   None   \n",
       "4            Unidade Cristalândia do Piauí, metamáfica                   None   \n",
       "..                                                 ...                    ...   \n",
       "136  Litofácies Rio Preto, metassedimentos quartzos...                   None   \n",
       "137        Coberturas detrito-lateríticas ferruginosas  Cobertura superficial   \n",
       "138        Coberturas detrito-lateríticas ferruginosas  Cobertura superficial   \n",
       "139                           Unidade Rio Preto, xisto                   None   \n",
       "140        Coberturas detrito-lateríticas ferruginosas  Cobertura superficial   \n",
       "\n",
       "                      SUB_AMBIEN  SIGLA_PAI  \\\n",
       "0    Cobertura clasto-lateritica       None   \n",
       "1    Cobertura clasto-lateritica       None   \n",
       "2                           None      NP1rp   \n",
       "3                           None  MP3NP1rp2   \n",
       "4                           None      A4PPc   \n",
       "..                           ...        ...   \n",
       "136                         None  MP3NP1rp2   \n",
       "137  Cobertura clasto-lateritica       None   \n",
       "138  Cobertura clasto-lateritica       None   \n",
       "139                         None      NP1rp   \n",
       "140  Cobertura clasto-lateritica       None   \n",
       "\n",
       "                                              NOME_PAI  \\\n",
       "0                                                 None   \n",
       "1                                                 None   \n",
       "2                              NP1rp - Grupo Rio Preto   \n",
       "3    MP3NP1rp2 - Unidade Rio Preto, metassedimentos...   \n",
       "4               A4PPc - Complexo Cristalândia do Piauí   \n",
       "..                                                 ...   \n",
       "136  MP3NP1rp2 - Unidade Rio Preto, metassedimentos...   \n",
       "137                                               None   \n",
       "138                                               None   \n",
       "139                            NP1rp - Grupo Rio Preto   \n",
       "140                                               None   \n",
       "\n",
       "                                               LEGENDA  ...  \\\n",
       "0    Coberturas de solos residuais argilo-arenosos ...  ...   \n",
       "1    Coberturas de solos residuais argilo-arenosos ...  ...   \n",
       "2    Muscovita-xistos e quartzo-xistos predominante...  ...   \n",
       "3    Quartzitos a muscovita-quartzitos puros a impu...  ...   \n",
       "4    Corpos gabróicos a metagabros, compostos por a...  ...   \n",
       "..                                                 ...  ...   \n",
       "136  Quartzitos a muscovita-quartzitos puros a impu...  ...   \n",
       "137  Coberturas de solos residuais argilo-arenosos ...  ...   \n",
       "138  Coberturas de solos residuais argilo-arenosos ...  ...   \n",
       "139  Muscovita-xistos e quartzo-xistos predominante...  ...   \n",
       "140  Coberturas de solos residuais argilo-arenosos ...  ...   \n",
       "\n",
       "               ERA_MIN            ERA_MAX SISTEMA_MI SISTEMA_MA    EPOCA_MIN  \\\n",
       "0            Cenozóico          Cenozóico    Neogeno    Neogeno     Superior   \n",
       "1            Cenozóico          Cenozóico    Neogeno    Neogeno     Superior   \n",
       "2      Neoproterozóico    Neoproterozóico    Toniano    Toniano  Wenloquiano   \n",
       "3      Neoproterozóico    Neoproterozóico    Toniano    Toniano  Wenloquiano   \n",
       "4    Paleoproterozóico  Paleoproterozóico   Riaciano   Riaciano      Série 3   \n",
       "..                 ...                ...        ...        ...          ...   \n",
       "136    Neoproterozóico    Neoproterozóico    Toniano    Toniano  Wenloquiano   \n",
       "137          Cenozóico          Cenozóico    Neogeno    Neogeno     Superior   \n",
       "138          Cenozóico          Cenozóico    Neogeno    Neogeno     Superior   \n",
       "139    Neoproterozóico    Neoproterozóico    Toniano    Toniano  Wenloquiano   \n",
       "140          Cenozóico          Cenozóico    Neogeno    Neogeno     Superior   \n",
       "\n",
       "       EPOCA_MAX                       SIGLAS_HIS SHAPE_AREA SHAPE_LEN  \\\n",
       "0       Superior                             NQdl   0.000041  0.037400   \n",
       "1       Superior                             NQdl   0.001087  0.257896   \n",
       "2    Wenloquiano  MP3NP1rp3, M3N1rp1x, MP3NP1rp1x   0.000170  0.094417   \n",
       "3    Wenloquiano             M3N1rp2q, MP3NP1rp2q   0.000015  0.020423   \n",
       "4        Série 3                             None   0.000323  0.077072   \n",
       "..           ...                              ...        ...       ...   \n",
       "136  Wenloquiano             M3N1rp2q, MP3NP1rp2q   0.000045  0.063783   \n",
       "137     Superior                             NQdl   0.012576  0.986684   \n",
       "138     Superior                             NQdl   0.043917  1.961410   \n",
       "139  Wenloquiano  MP3NP1rp3, M3N1rp1x, MP3NP1rp1x   0.023544  3.651426   \n",
       "140     Superior                             NQdl   0.001673  0.238141   \n",
       "\n",
       "                                              geometry  \n",
       "0    POLYGON ((500176.894 8821390.751, 500170.654 8...  \n",
       "1    POLYGON ((505306.762 8803062.104, 505258.182 8...  \n",
       "2    POLYGON ((505145.795 8801235.292, 506323.529 8...  \n",
       "3    POLYGON ((509741.424 8784951.753, 509758.753 8...  \n",
       "4    POLYGON ((510857.857 8811448.300, 510816.261 8...  \n",
       "..                                                 ...  \n",
       "136  POLYGON ((548787.138 8829535.408, 548759.773 8...  \n",
       "137  POLYGON ((543318.427 8837536.690, 543374.133 8...  \n",
       "138  POLYGON ((554660.641 8807055.364, 554656.953 8...  \n",
       "139  POLYGON ((554702.380 8832876.999, 554702.379 8...  \n",
       "140  POLYGON ((554710.777 8838140.124, 554709.914 8...  \n",
       "\n",
       "[141 rows x 28 columns]"
      ],
      "text/html": [
       "<div>\n",
       "<style scoped>\n",
       "    .dataframe tbody tr th:only-of-type {\n",
       "        vertical-align: middle;\n",
       "    }\n",
       "\n",
       "    .dataframe tbody tr th {\n",
       "        vertical-align: top;\n",
       "    }\n",
       "\n",
       "    .dataframe thead th {\n",
       "        text-align: right;\n",
       "    }\n",
       "</style>\n",
       "<table border=\"1\" class=\"dataframe\">\n",
       "  <thead>\n",
       "    <tr style=\"text-align: right;\">\n",
       "      <th></th>\n",
       "      <th>index</th>\n",
       "      <th>ID_UNIDADE</th>\n",
       "      <th>SIGLA</th>\n",
       "      <th>HIERARQUIA</th>\n",
       "      <th>NOME</th>\n",
       "      <th>AMBIENTE_T</th>\n",
       "      <th>SUB_AMBIEN</th>\n",
       "      <th>SIGLA_PAI</th>\n",
       "      <th>NOME_PAI</th>\n",
       "      <th>LEGENDA</th>\n",
       "      <th>...</th>\n",
       "      <th>ERA_MIN</th>\n",
       "      <th>ERA_MAX</th>\n",
       "      <th>SISTEMA_MI</th>\n",
       "      <th>SISTEMA_MA</th>\n",
       "      <th>EPOCA_MIN</th>\n",
       "      <th>EPOCA_MAX</th>\n",
       "      <th>SIGLAS_HIS</th>\n",
       "      <th>SHAPE_AREA</th>\n",
       "      <th>SHAPE_LEN</th>\n",
       "      <th>geometry</th>\n",
       "    </tr>\n",
       "  </thead>\n",
       "  <tbody>\n",
       "    <tr>\n",
       "      <th>0</th>\n",
       "      <td>2816</td>\n",
       "      <td>1006</td>\n",
       "      <td>N1dl</td>\n",
       "      <td>Não definida</td>\n",
       "      <td>Coberturas detrito-lateríticas ferruginosas</td>\n",
       "      <td>Cobertura superficial</td>\n",
       "      <td>Cobertura clasto-lateritica</td>\n",
       "      <td>None</td>\n",
       "      <td>None</td>\n",
       "      <td>Coberturas de solos residuais argilo-arenosos ...</td>\n",
       "      <td>...</td>\n",
       "      <td>Cenozóico</td>\n",
       "      <td>Cenozóico</td>\n",
       "      <td>Neogeno</td>\n",
       "      <td>Neogeno</td>\n",
       "      <td>Superior</td>\n",
       "      <td>Superior</td>\n",
       "      <td>NQdl</td>\n",
       "      <td>0.000041</td>\n",
       "      <td>0.037400</td>\n",
       "      <td>POLYGON ((500176.894 8821390.751, 500170.654 8...</td>\n",
       "    </tr>\n",
       "    <tr>\n",
       "      <th>1</th>\n",
       "      <td>2820</td>\n",
       "      <td>1006</td>\n",
       "      <td>N1dl</td>\n",
       "      <td>Não definida</td>\n",
       "      <td>Coberturas detrito-lateríticas ferruginosas</td>\n",
       "      <td>Cobertura superficial</td>\n",
       "      <td>Cobertura clasto-lateritica</td>\n",
       "      <td>None</td>\n",
       "      <td>None</td>\n",
       "      <td>Coberturas de solos residuais argilo-arenosos ...</td>\n",
       "      <td>...</td>\n",
       "      <td>Cenozóico</td>\n",
       "      <td>Cenozóico</td>\n",
       "      <td>Neogeno</td>\n",
       "      <td>Neogeno</td>\n",
       "      <td>Superior</td>\n",
       "      <td>Superior</td>\n",
       "      <td>NQdl</td>\n",
       "      <td>0.001087</td>\n",
       "      <td>0.257896</td>\n",
       "      <td>POLYGON ((505306.762 8803062.104, 505258.182 8...</td>\n",
       "    </tr>\n",
       "    <tr>\n",
       "      <th>2</th>\n",
       "      <td>2821</td>\n",
       "      <td>4873</td>\n",
       "      <td>NP1rp3</td>\n",
       "      <td>Unidade</td>\n",
       "      <td>Unidade Rio Preto, xisto</td>\n",
       "      <td>None</td>\n",
       "      <td>None</td>\n",
       "      <td>NP1rp</td>\n",
       "      <td>NP1rp - Grupo Rio Preto</td>\n",
       "      <td>Muscovita-xistos e quartzo-xistos predominante...</td>\n",
       "      <td>...</td>\n",
       "      <td>Neoproterozóico</td>\n",
       "      <td>Neoproterozóico</td>\n",
       "      <td>Toniano</td>\n",
       "      <td>Toniano</td>\n",
       "      <td>Wenloquiano</td>\n",
       "      <td>Wenloquiano</td>\n",
       "      <td>MP3NP1rp3, M3N1rp1x, MP3NP1rp1x</td>\n",
       "      <td>0.000170</td>\n",
       "      <td>0.094417</td>\n",
       "      <td>POLYGON ((505145.795 8801235.292, 506323.529 8...</td>\n",
       "    </tr>\n",
       "    <tr>\n",
       "      <th>3</th>\n",
       "      <td>2823</td>\n",
       "      <td>4876</td>\n",
       "      <td>NP1rp2q</td>\n",
       "      <td>Litofácies</td>\n",
       "      <td>Litofácies Rio Preto, metassedimentos quartzos...</td>\n",
       "      <td>None</td>\n",
       "      <td>None</td>\n",
       "      <td>MP3NP1rp2</td>\n",
       "      <td>MP3NP1rp2 - Unidade Rio Preto, metassedimentos...</td>\n",
       "      <td>Quartzitos a muscovita-quartzitos puros a impu...</td>\n",
       "      <td>...</td>\n",
       "      <td>Neoproterozóico</td>\n",
       "      <td>Neoproterozóico</td>\n",
       "      <td>Toniano</td>\n",
       "      <td>Toniano</td>\n",
       "      <td>Wenloquiano</td>\n",
       "      <td>Wenloquiano</td>\n",
       "      <td>M3N1rp2q, MP3NP1rp2q</td>\n",
       "      <td>0.000015</td>\n",
       "      <td>0.020423</td>\n",
       "      <td>POLYGON ((509741.424 8784951.753, 509758.753 8...</td>\n",
       "    </tr>\n",
       "    <tr>\n",
       "      <th>4</th>\n",
       "      <td>2825</td>\n",
       "      <td>5773</td>\n",
       "      <td>PP2cmv</td>\n",
       "      <td>Unidade</td>\n",
       "      <td>Unidade Cristalândia do Piauí, metamáfica</td>\n",
       "      <td>None</td>\n",
       "      <td>None</td>\n",
       "      <td>A4PPc</td>\n",
       "      <td>A4PPc - Complexo Cristalândia do Piauí</td>\n",
       "      <td>Corpos gabróicos a metagabros, compostos por a...</td>\n",
       "      <td>...</td>\n",
       "      <td>Paleoproterozóico</td>\n",
       "      <td>Paleoproterozóico</td>\n",
       "      <td>Riaciano</td>\n",
       "      <td>Riaciano</td>\n",
       "      <td>Série 3</td>\n",
       "      <td>Série 3</td>\n",
       "      <td>None</td>\n",
       "      <td>0.000323</td>\n",
       "      <td>0.077072</td>\n",
       "      <td>POLYGON ((510857.857 8811448.300, 510816.261 8...</td>\n",
       "    </tr>\n",
       "    <tr>\n",
       "      <th>...</th>\n",
       "      <td>...</td>\n",
       "      <td>...</td>\n",
       "      <td>...</td>\n",
       "      <td>...</td>\n",
       "      <td>...</td>\n",
       "      <td>...</td>\n",
       "      <td>...</td>\n",
       "      <td>...</td>\n",
       "      <td>...</td>\n",
       "      <td>...</td>\n",
       "      <td>...</td>\n",
       "      <td>...</td>\n",
       "      <td>...</td>\n",
       "      <td>...</td>\n",
       "      <td>...</td>\n",
       "      <td>...</td>\n",
       "      <td>...</td>\n",
       "      <td>...</td>\n",
       "      <td>...</td>\n",
       "      <td>...</td>\n",
       "      <td>...</td>\n",
       "    </tr>\n",
       "    <tr>\n",
       "      <th>136</th>\n",
       "      <td>54750</td>\n",
       "      <td>4876</td>\n",
       "      <td>NP1rp2q</td>\n",
       "      <td>Litofácies</td>\n",
       "      <td>Litofácies Rio Preto, metassedimentos quartzos...</td>\n",
       "      <td>None</td>\n",
       "      <td>None</td>\n",
       "      <td>MP3NP1rp2</td>\n",
       "      <td>MP3NP1rp2 - Unidade Rio Preto, metassedimentos...</td>\n",
       "      <td>Quartzitos a muscovita-quartzitos puros a impu...</td>\n",
       "      <td>...</td>\n",
       "      <td>Neoproterozóico</td>\n",
       "      <td>Neoproterozóico</td>\n",
       "      <td>Toniano</td>\n",
       "      <td>Toniano</td>\n",
       "      <td>Wenloquiano</td>\n",
       "      <td>Wenloquiano</td>\n",
       "      <td>M3N1rp2q, MP3NP1rp2q</td>\n",
       "      <td>0.000045</td>\n",
       "      <td>0.063783</td>\n",
       "      <td>POLYGON ((548787.138 8829535.408, 548759.773 8...</td>\n",
       "    </tr>\n",
       "    <tr>\n",
       "      <th>137</th>\n",
       "      <td>54752</td>\n",
       "      <td>1006</td>\n",
       "      <td>N1dl</td>\n",
       "      <td>Não definida</td>\n",
       "      <td>Coberturas detrito-lateríticas ferruginosas</td>\n",
       "      <td>Cobertura superficial</td>\n",
       "      <td>Cobertura clasto-lateritica</td>\n",
       "      <td>None</td>\n",
       "      <td>None</td>\n",
       "      <td>Coberturas de solos residuais argilo-arenosos ...</td>\n",
       "      <td>...</td>\n",
       "      <td>Cenozóico</td>\n",
       "      <td>Cenozóico</td>\n",
       "      <td>Neogeno</td>\n",
       "      <td>Neogeno</td>\n",
       "      <td>Superior</td>\n",
       "      <td>Superior</td>\n",
       "      <td>NQdl</td>\n",
       "      <td>0.012576</td>\n",
       "      <td>0.986684</td>\n",
       "      <td>POLYGON ((543318.427 8837536.690, 543374.133 8...</td>\n",
       "    </tr>\n",
       "    <tr>\n",
       "      <th>138</th>\n",
       "      <td>54754</td>\n",
       "      <td>1006</td>\n",
       "      <td>N1dl</td>\n",
       "      <td>Não definida</td>\n",
       "      <td>Coberturas detrito-lateríticas ferruginosas</td>\n",
       "      <td>Cobertura superficial</td>\n",
       "      <td>Cobertura clasto-lateritica</td>\n",
       "      <td>None</td>\n",
       "      <td>None</td>\n",
       "      <td>Coberturas de solos residuais argilo-arenosos ...</td>\n",
       "      <td>...</td>\n",
       "      <td>Cenozóico</td>\n",
       "      <td>Cenozóico</td>\n",
       "      <td>Neogeno</td>\n",
       "      <td>Neogeno</td>\n",
       "      <td>Superior</td>\n",
       "      <td>Superior</td>\n",
       "      <td>NQdl</td>\n",
       "      <td>0.043917</td>\n",
       "      <td>1.961410</td>\n",
       "      <td>POLYGON ((554660.641 8807055.364, 554656.953 8...</td>\n",
       "    </tr>\n",
       "    <tr>\n",
       "      <th>139</th>\n",
       "      <td>54755</td>\n",
       "      <td>4873</td>\n",
       "      <td>NP1rp3</td>\n",
       "      <td>Unidade</td>\n",
       "      <td>Unidade Rio Preto, xisto</td>\n",
       "      <td>None</td>\n",
       "      <td>None</td>\n",
       "      <td>NP1rp</td>\n",
       "      <td>NP1rp - Grupo Rio Preto</td>\n",
       "      <td>Muscovita-xistos e quartzo-xistos predominante...</td>\n",
       "      <td>...</td>\n",
       "      <td>Neoproterozóico</td>\n",
       "      <td>Neoproterozóico</td>\n",
       "      <td>Toniano</td>\n",
       "      <td>Toniano</td>\n",
       "      <td>Wenloquiano</td>\n",
       "      <td>Wenloquiano</td>\n",
       "      <td>MP3NP1rp3, M3N1rp1x, MP3NP1rp1x</td>\n",
       "      <td>0.023544</td>\n",
       "      <td>3.651426</td>\n",
       "      <td>POLYGON ((554702.380 8832876.999, 554702.379 8...</td>\n",
       "    </tr>\n",
       "    <tr>\n",
       "      <th>140</th>\n",
       "      <td>54756</td>\n",
       "      <td>1006</td>\n",
       "      <td>N1dl</td>\n",
       "      <td>Não definida</td>\n",
       "      <td>Coberturas detrito-lateríticas ferruginosas</td>\n",
       "      <td>Cobertura superficial</td>\n",
       "      <td>Cobertura clasto-lateritica</td>\n",
       "      <td>None</td>\n",
       "      <td>None</td>\n",
       "      <td>Coberturas de solos residuais argilo-arenosos ...</td>\n",
       "      <td>...</td>\n",
       "      <td>Cenozóico</td>\n",
       "      <td>Cenozóico</td>\n",
       "      <td>Neogeno</td>\n",
       "      <td>Neogeno</td>\n",
       "      <td>Superior</td>\n",
       "      <td>Superior</td>\n",
       "      <td>NQdl</td>\n",
       "      <td>0.001673</td>\n",
       "      <td>0.238141</td>\n",
       "      <td>POLYGON ((554710.777 8838140.124, 554709.914 8...</td>\n",
       "    </tr>\n",
       "  </tbody>\n",
       "</table>\n",
       "<p>141 rows × 28 columns</p>\n",
       "</div>"
      ]
     },
     "metadata": {},
     "execution_count": 50
    }
   ],
   "metadata": {}
  },
  {
   "cell_type": "code",
   "execution_count": 46,
   "source": [
    "rparaim.plot('SIGLA')"
   ],
   "outputs": [
    {
     "output_type": "display_data",
     "data": {
      "text/plain": [
       "Canvas(toolbar=Toolbar(toolitems=[('Home', 'Reset original view', 'home', 'home'), ('Back', 'Back to previous …"
      ],
      "application/vnd.jupyter.widget-view+json": {
       "version_major": 2,
       "version_minor": 0,
       "model_id": "5355da46badc46d390f9652b117ec562"
      }
     },
     "metadata": {}
    },
    {
     "output_type": "execute_result",
     "data": {
      "text/plain": [
       "<AxesSubplot:>"
      ]
     },
     "metadata": {},
     "execution_count": 46
    }
   ],
   "metadata": {}
  },
  {
   "cell_type": "code",
   "execution_count": 51,
   "source": [
    "geof['closest_unid'] = gdf['geometry'].apply(lambda x: rparaim['SIGLA'].iloc[rparaim.distance(x).idxmin()]) # .idxmin() Retorna o indice do menor valor "
   ],
   "outputs": [],
   "metadata": {}
  },
  {
   "cell_type": "code",
   "execution_count": 52,
   "source": [
    "geof.head()"
   ],
   "outputs": [
    {
     "output_type": "execute_result",
     "data": {
      "text/plain": [
       "         easting      northing        CTCOR     KPERC         MDT        eU  \\\n",
       "0  500055.289543  8.784035e+06  1708.875338  1.685567  508.936948  1.907549   \n",
       "1  500055.289543  8.784135e+06  1712.006845  1.627513  508.831103  1.922783   \n",
       "2  500055.289543  8.784235e+06  1693.736960  1.561761  509.035380  1.935492   \n",
       "3  500055.289543  8.784335e+06  1639.938707  1.493374  510.118943  1.950659   \n",
       "4  500055.289543  8.784435e+06  1561.172489  1.426346  511.533855  1.962516   \n",
       "\n",
       "         eth                        geometry    MAGIGRF closest_unid  \n",
       "0  17.543268  POINT (500055.290 8784035.247)  50.464271       NP1rp3  \n",
       "1  17.808410  POINT (500055.290 8784135.280)  50.678373       NP1rp3  \n",
       "2  17.728627  POINT (500055.290 8784235.314)  50.935766       NP1rp3  \n",
       "3  17.013406  POINT (500055.290 8784335.347)  51.153968       NP1rp3  \n",
       "4  15.848140  POINT (500055.290 8784435.381)  51.291826       NP1rp3  "
      ],
      "text/html": [
       "<div>\n",
       "<style scoped>\n",
       "    .dataframe tbody tr th:only-of-type {\n",
       "        vertical-align: middle;\n",
       "    }\n",
       "\n",
       "    .dataframe tbody tr th {\n",
       "        vertical-align: top;\n",
       "    }\n",
       "\n",
       "    .dataframe thead th {\n",
       "        text-align: right;\n",
       "    }\n",
       "</style>\n",
       "<table border=\"1\" class=\"dataframe\">\n",
       "  <thead>\n",
       "    <tr style=\"text-align: right;\">\n",
       "      <th></th>\n",
       "      <th>easting</th>\n",
       "      <th>northing</th>\n",
       "      <th>CTCOR</th>\n",
       "      <th>KPERC</th>\n",
       "      <th>MDT</th>\n",
       "      <th>eU</th>\n",
       "      <th>eth</th>\n",
       "      <th>geometry</th>\n",
       "      <th>MAGIGRF</th>\n",
       "      <th>closest_unid</th>\n",
       "    </tr>\n",
       "  </thead>\n",
       "  <tbody>\n",
       "    <tr>\n",
       "      <th>0</th>\n",
       "      <td>500055.289543</td>\n",
       "      <td>8.784035e+06</td>\n",
       "      <td>1708.875338</td>\n",
       "      <td>1.685567</td>\n",
       "      <td>508.936948</td>\n",
       "      <td>1.907549</td>\n",
       "      <td>17.543268</td>\n",
       "      <td>POINT (500055.290 8784035.247)</td>\n",
       "      <td>50.464271</td>\n",
       "      <td>NP1rp3</td>\n",
       "    </tr>\n",
       "    <tr>\n",
       "      <th>1</th>\n",
       "      <td>500055.289543</td>\n",
       "      <td>8.784135e+06</td>\n",
       "      <td>1712.006845</td>\n",
       "      <td>1.627513</td>\n",
       "      <td>508.831103</td>\n",
       "      <td>1.922783</td>\n",
       "      <td>17.808410</td>\n",
       "      <td>POINT (500055.290 8784135.280)</td>\n",
       "      <td>50.678373</td>\n",
       "      <td>NP1rp3</td>\n",
       "    </tr>\n",
       "    <tr>\n",
       "      <th>2</th>\n",
       "      <td>500055.289543</td>\n",
       "      <td>8.784235e+06</td>\n",
       "      <td>1693.736960</td>\n",
       "      <td>1.561761</td>\n",
       "      <td>509.035380</td>\n",
       "      <td>1.935492</td>\n",
       "      <td>17.728627</td>\n",
       "      <td>POINT (500055.290 8784235.314)</td>\n",
       "      <td>50.935766</td>\n",
       "      <td>NP1rp3</td>\n",
       "    </tr>\n",
       "    <tr>\n",
       "      <th>3</th>\n",
       "      <td>500055.289543</td>\n",
       "      <td>8.784335e+06</td>\n",
       "      <td>1639.938707</td>\n",
       "      <td>1.493374</td>\n",
       "      <td>510.118943</td>\n",
       "      <td>1.950659</td>\n",
       "      <td>17.013406</td>\n",
       "      <td>POINT (500055.290 8784335.347)</td>\n",
       "      <td>51.153968</td>\n",
       "      <td>NP1rp3</td>\n",
       "    </tr>\n",
       "    <tr>\n",
       "      <th>4</th>\n",
       "      <td>500055.289543</td>\n",
       "      <td>8.784435e+06</td>\n",
       "      <td>1561.172489</td>\n",
       "      <td>1.426346</td>\n",
       "      <td>511.533855</td>\n",
       "      <td>1.962516</td>\n",
       "      <td>15.848140</td>\n",
       "      <td>POINT (500055.290 8784435.381)</td>\n",
       "      <td>51.291826</td>\n",
       "      <td>NP1rp3</td>\n",
       "    </tr>\n",
       "  </tbody>\n",
       "</table>\n",
       "</div>"
      ]
     },
     "metadata": {},
     "execution_count": 52
    }
   ],
   "metadata": {}
  },
  {
   "cell_type": "code",
   "execution_count": 53,
   "source": [
    "# Setting projections\n",
    "\n",
    "# South America WGS 84 Geográfica\n",
    "p1 = pyproj.Proj(\"+proj=longlat +ellps=WGS84 +datum=WGS84 +no_defs\")\n",
    "\n",
    "# WGS84 UTM \n",
    "p2 = pyproj.Proj(\"+proj=utm +zone=23 +south +ellps=WGS84 +datum=WGS84 +units=m +no_defs\")\n",
    "\n",
    "# 1105\n",
    "geof['LONGITUDE'], geof['LATITUDE'] = pyproj.transform(p2, p1,\n",
    "                                                geof.easting.values,\n",
    "                                                geof.northing.values)"
   ],
   "outputs": [
    {
     "output_type": "stream",
     "name": "stderr",
     "text": [
      "<ipython-input-53-229dbd804a89>:10: DeprecationWarning: This function is deprecated. See: https://pyproj4.github.io/pyproj/stable/gotchas.html#upgrading-to-pyproj-2-from-pyproj-1\n",
      "  geof['LONGITUDE'], geof['LATITUDE'] = pyproj.transform(p2, p1,\n"
     ]
    }
   ],
   "metadata": {}
  },
  {
   "cell_type": "code",
   "execution_count": 54,
   "source": [
    "geof.head()"
   ],
   "outputs": [
    {
     "output_type": "execute_result",
     "data": {
      "text/plain": [
       "         easting      northing        CTCOR     KPERC         MDT        eU  \\\n",
       "0  500055.289543  8.784035e+06  1708.875338  1.685567  508.936948  1.907549   \n",
       "1  500055.289543  8.784135e+06  1712.006845  1.627513  508.831103  1.922783   \n",
       "2  500055.289543  8.784235e+06  1693.736960  1.561761  509.035380  1.935492   \n",
       "3  500055.289543  8.784335e+06  1639.938707  1.493374  510.118943  1.950659   \n",
       "4  500055.289543  8.784435e+06  1561.172489  1.426346  511.533855  1.962516   \n",
       "\n",
       "         eth                        geometry    MAGIGRF closest_unid  \\\n",
       "0  17.543268  POINT (500055.290 8784035.247)  50.464271       NP1rp3   \n",
       "1  17.808410  POINT (500055.290 8784135.280)  50.678373       NP1rp3   \n",
       "2  17.728627  POINT (500055.290 8784235.314)  50.935766       NP1rp3   \n",
       "3  17.013406  POINT (500055.290 8784335.347)  51.153968       NP1rp3   \n",
       "4  15.848140  POINT (500055.290 8784435.381)  51.291826       NP1rp3   \n",
       "\n",
       "   LONGITUDE   LATITUDE  \n",
       "0 -44.999494 -10.999867  \n",
       "1 -44.999494 -10.998963  \n",
       "2 -44.999494 -10.998058  \n",
       "3 -44.999494 -10.997153  \n",
       "4 -44.999494 -10.996248  "
      ],
      "text/html": [
       "<div>\n",
       "<style scoped>\n",
       "    .dataframe tbody tr th:only-of-type {\n",
       "        vertical-align: middle;\n",
       "    }\n",
       "\n",
       "    .dataframe tbody tr th {\n",
       "        vertical-align: top;\n",
       "    }\n",
       "\n",
       "    .dataframe thead th {\n",
       "        text-align: right;\n",
       "    }\n",
       "</style>\n",
       "<table border=\"1\" class=\"dataframe\">\n",
       "  <thead>\n",
       "    <tr style=\"text-align: right;\">\n",
       "      <th></th>\n",
       "      <th>easting</th>\n",
       "      <th>northing</th>\n",
       "      <th>CTCOR</th>\n",
       "      <th>KPERC</th>\n",
       "      <th>MDT</th>\n",
       "      <th>eU</th>\n",
       "      <th>eth</th>\n",
       "      <th>geometry</th>\n",
       "      <th>MAGIGRF</th>\n",
       "      <th>closest_unid</th>\n",
       "      <th>LONGITUDE</th>\n",
       "      <th>LATITUDE</th>\n",
       "    </tr>\n",
       "  </thead>\n",
       "  <tbody>\n",
       "    <tr>\n",
       "      <th>0</th>\n",
       "      <td>500055.289543</td>\n",
       "      <td>8.784035e+06</td>\n",
       "      <td>1708.875338</td>\n",
       "      <td>1.685567</td>\n",
       "      <td>508.936948</td>\n",
       "      <td>1.907549</td>\n",
       "      <td>17.543268</td>\n",
       "      <td>POINT (500055.290 8784035.247)</td>\n",
       "      <td>50.464271</td>\n",
       "      <td>NP1rp3</td>\n",
       "      <td>-44.999494</td>\n",
       "      <td>-10.999867</td>\n",
       "    </tr>\n",
       "    <tr>\n",
       "      <th>1</th>\n",
       "      <td>500055.289543</td>\n",
       "      <td>8.784135e+06</td>\n",
       "      <td>1712.006845</td>\n",
       "      <td>1.627513</td>\n",
       "      <td>508.831103</td>\n",
       "      <td>1.922783</td>\n",
       "      <td>17.808410</td>\n",
       "      <td>POINT (500055.290 8784135.280)</td>\n",
       "      <td>50.678373</td>\n",
       "      <td>NP1rp3</td>\n",
       "      <td>-44.999494</td>\n",
       "      <td>-10.998963</td>\n",
       "    </tr>\n",
       "    <tr>\n",
       "      <th>2</th>\n",
       "      <td>500055.289543</td>\n",
       "      <td>8.784235e+06</td>\n",
       "      <td>1693.736960</td>\n",
       "      <td>1.561761</td>\n",
       "      <td>509.035380</td>\n",
       "      <td>1.935492</td>\n",
       "      <td>17.728627</td>\n",
       "      <td>POINT (500055.290 8784235.314)</td>\n",
       "      <td>50.935766</td>\n",
       "      <td>NP1rp3</td>\n",
       "      <td>-44.999494</td>\n",
       "      <td>-10.998058</td>\n",
       "    </tr>\n",
       "    <tr>\n",
       "      <th>3</th>\n",
       "      <td>500055.289543</td>\n",
       "      <td>8.784335e+06</td>\n",
       "      <td>1639.938707</td>\n",
       "      <td>1.493374</td>\n",
       "      <td>510.118943</td>\n",
       "      <td>1.950659</td>\n",
       "      <td>17.013406</td>\n",
       "      <td>POINT (500055.290 8784335.347)</td>\n",
       "      <td>51.153968</td>\n",
       "      <td>NP1rp3</td>\n",
       "      <td>-44.999494</td>\n",
       "      <td>-10.997153</td>\n",
       "    </tr>\n",
       "    <tr>\n",
       "      <th>4</th>\n",
       "      <td>500055.289543</td>\n",
       "      <td>8.784435e+06</td>\n",
       "      <td>1561.172489</td>\n",
       "      <td>1.426346</td>\n",
       "      <td>511.533855</td>\n",
       "      <td>1.962516</td>\n",
       "      <td>15.848140</td>\n",
       "      <td>POINT (500055.290 8784435.381)</td>\n",
       "      <td>51.291826</td>\n",
       "      <td>NP1rp3</td>\n",
       "      <td>-44.999494</td>\n",
       "      <td>-10.996248</td>\n",
       "    </tr>\n",
       "  </tbody>\n",
       "</table>\n",
       "</div>"
      ]
     },
     "metadata": {},
     "execution_count": 54
    }
   ],
   "metadata": {}
  },
  {
   "cell_type": "code",
   "execution_count": 55,
   "source": [
    "geof.to_csv(gdb+'OI_SC23_Z_C_I.csv',index=False)"
   ],
   "outputs": [],
   "metadata": {}
  },
  {
   "cell_type": "code",
   "execution_count": null,
   "source": [],
   "outputs": [],
   "metadata": {}
  }
 ],
 "metadata": {
  "orig_nbformat": 4,
  "language_info": {
   "name": "python",
   "version": "3.8.2",
   "mimetype": "text/x-python",
   "codemirror_mode": {
    "name": "ipython",
    "version": 3
   },
   "pygments_lexer": "ipython3",
   "nbconvert_exporter": "python",
   "file_extension": ".py"
  },
  "kernelspec": {
   "name": "python3",
   "display_name": "Python 3.8.2 64-bit ('mappingBot': conda)"
  },
  "interpreter": {
   "hash": "2bc076d9378ac5ac660ba4f6a46900d2ea3732140aaa213526ceb6851acbc3f5"
  }
 },
 "nbformat": 4,
 "nbformat_minor": 2
}