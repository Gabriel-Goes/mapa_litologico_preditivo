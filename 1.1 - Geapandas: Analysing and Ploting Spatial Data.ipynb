{
 "cells": [
  {
   "cell_type": "markdown",
   "source": [
    "# Neste notebook vamos definir as funçoes de filtragem e visualizaçao dos dados a partir das classes definidas na bilbioteca GeoPandas\n",
    "[Mapping and Plotting Tools](https://geopandas.org/docs/user_guide/mapping.html)\n",
    "\n",
    "- Com as funçoes definidas e testadas neste notebook, criaremos um arquivo .py no diretorio .soureces/ para armazena-las, possibilitando assim, que possamos chama-las com a funçao import."
   ],
   "metadata": {}
  },
  {
   "cell_type": "code",
   "execution_count": 69,
   "source": [
    "import geopandas as gpd\n",
    "\n",
    "import matplotlib.pyplot as plt\n",
    "from mpl_toolkits.axes_grid1 import make_axes_locatable  # Tutorial GeoPandas Mapping and Pltting Tools\n",
    "\n",
    "%matplotlib widget"
   ],
   "outputs": [],
   "metadata": {}
  },
  {
   "cell_type": "code",
   "execution_count": 2,
   "source": [
    "# Origem do banco de dados\n",
    "gdb = '/home/ggrl/geodatabase/'"
   ],
   "outputs": [],
   "metadata": {}
  },
  {
   "cell_type": "markdown",
   "source": [
    "## Importando um vetor do banco de dados criado no notebook passado.\n",
    "- Escolha de camada e mapa\n",
    "    - Caso nao tenha o mapa selecionado retorne lista de mapas disponiveis para aquela escala.\n",
    "    - Caso nao escolha um mapa retorne todos os vetores daquela camada."
   ],
   "metadata": {}
  },
  {
   "cell_type": "code",
   "execution_count": 3,
   "source": [
    "# IMPORTADOR DE LITOLOGIAS POR ESCALA --------------------------------------------------------------------------#\n",
    "def importar_geologico(camada, mapa=False):\n",
    "    lito =  gpd.read_file(gdb+'geodatabase.gpkg',\n",
    "                        driver= 'GPKG',\n",
    "                        layer= camada)\n",
    "    if mapa:\n",
    "        folha = lito[lito.MAPA == 'Carta geológica da folha '+mapa]\n",
    "        if folha.empty:\n",
    "            print(f\"O mapa escolhido nao est'a presente na coluna MAPA da camada veotiral.\")\n",
    "            print(f\"# -- Lista de mapas: {list(lito.MAPA.unique())}\")\n",
    "\n",
    "            return(lito)\n",
    "\n",
    "        else:    \n",
    "            return(folha)\n",
    "    else:\n",
    "        return(lito)"
   ],
   "outputs": [],
   "metadata": {}
  },
  {
   "cell_type": "code",
   "execution_count": 4,
   "source": [
    "# Definindo uma funçao que importa as escaladas \n",
    "def plot_base(gdf,atributo=None,camada=None,mapa=None):\n",
    "    litologia = importar_geologico(camada,mapa)\n",
    "\n",
    "    if atributo:\n",
    "        ax = litologia.plot('SIGLA')\n",
    "        gdf.plot(atributo,ax=ax)\n",
    "    else:\n",
    "        ax = litologia.plot('SIGLA')\n",
    "        gdf.plot(ax=ax)"
   ],
   "outputs": [],
   "metadata": {}
  },
  {
   "cell_type": "code",
   "execution_count": 131,
   "source": [
    "def plot_brazil(gdf,atributo=None):\n",
    "    world = gpd.read_file(gpd.datasets.get_path('naturalearth_lowres'))\n",
    "    brazil = world[world.name == 'Brazil']\n",
    "    if atributo:\n",
    "        ax = brazil.boundary.plot(color='black',\n",
    "                                  figsize=(12,12))\n",
    "        gdf.plot(column=atributo,\n",
    "                 ax=ax,\n",
    "                 legend=True)\n",
    "    else:\n",
    "        ax = brazil.boundary.plot(color='black')\n",
    "        gdf.plot(ax=ax)"
   ],
   "outputs": [],
   "metadata": {}
  },
  {
   "cell_type": "code",
   "execution_count": 8,
   "source": [
    "# Abrindo os vetores descritivos dos projetos aerogeofisicos\n",
    "proj_geof = importar_geologico('proj_aerogeof')"
   ],
   "outputs": [],
   "metadata": {}
  },
  {
   "cell_type": "code",
   "execution_count": 143,
   "source": [
    "proj_geof_500m = proj_geof[proj_geof['ESPACAMENT'] == '500']"
   ],
   "outputs": [],
   "metadata": {}
  },
  {
   "cell_type": "code",
   "execution_count": 146,
   "source": [
    "proj_geof_500m\n",
    "proj_geof_500m['DISPONIBIL'].isnull().sum()"
   ],
   "outputs": [
    {
     "output_type": "execute_result",
     "data": {
      "text/plain": [
       "42"
      ]
     },
     "metadata": {},
     "execution_count": 146
    }
   ],
   "metadata": {}
  },
  {
   "cell_type": "code",
   "execution_count": 141,
   "source": [
    "plt.plot(proj_geof_1000m)"
   ],
   "outputs": [
    {
     "output_type": "error",
     "ename": "ConversionError",
     "evalue": "Failed to convert value(s) to axis units: array(['Rondonópolis', 'Xingu-Araguaia', 'Rio Meia Ponte',\n       'Franca (Área I)',\n       'Rochas Básicas e Ultrabásicas de Vitória da Conqui',\n       'Projeto Aerogeofísico Serra de Itiúba',\n       'Projeto Aerogeofísico São Paulo - Rio de Janeiro (Área Rio de Janeiro)',\n       'Projeto Aerogeofísico Extremo - Sudeste do Brasil',\n       'Projeto Aerogeofísico Província Aurífera do Tapajós (Bloco I)',\n       'Projeto Aerogeofísico Província Aurífera do Tapajós (Bloco II)',\n       'Projeto Aerogeofísico São Paulo - Rio de Janeiro (Área São Paulo)',\n       'Tocantínia', 'Esperança', 'Alto Garças', 'Surumu',\n       'Projeto Aerogeofísico Serra do Mar Sul',\n       'Ponta Grossa-Criciúma(Área I)', 'Araçuaí', 'Camaquã (Área II)',\n       'Projeto Aerogeofísico Camaquã (Área I)', 'Barreiro',\n       'Franca (Área II)',\n       'Projeto Aerogeofísico Borda Leste da Bacia do Maranhão',\n       'Projeto Aerogeofísico Rio Acaraú', 'Serra da Mesa',\n       'Projeto Aerogeofísico Paru do Oeste', 'Iguatu',\n       'Projeto Aerogeofísico Iporá',\n       'Área 20 - Uberaba - Uberlandia - Frutal',\n       'Projeto Aerogeofísico Trombetas', 'Poços de Caldas-CNEN',\n       'Projeto Aerogeofísico Seridó', 'Ponta Grossa-Criciúma(Área II)',\n       'Área 21 - Ituiutaba - Iturama - Fronteira',\n       'Projeto Aerogeofísico Itaberaba Belmonte', 'Mururé', 'Itacajá'],\n      dtype=object)",
     "traceback": [
      "\u001b[0;31m---------------------------------------------------------------------------\u001b[0m",
      "\u001b[0;31mValueError\u001b[0m                                Traceback (most recent call last)",
      "\u001b[0;32m~/anaconda3/envs/geologist_bot/lib/python3.8/site-packages/matplotlib/axis.py\u001b[0m in \u001b[0;36mconvert_units\u001b[0;34m(self, x)\u001b[0m\n\u001b[1;32m   1499\u001b[0m         \u001b[0;32mtry\u001b[0m\u001b[0;34m:\u001b[0m\u001b[0;34m\u001b[0m\u001b[0;34m\u001b[0m\u001b[0m\n\u001b[0;32m-> 1500\u001b[0;31m             \u001b[0mret\u001b[0m \u001b[0;34m=\u001b[0m \u001b[0mself\u001b[0m\u001b[0;34m.\u001b[0m\u001b[0mconverter\u001b[0m\u001b[0;34m.\u001b[0m\u001b[0mconvert\u001b[0m\u001b[0;34m(\u001b[0m\u001b[0mx\u001b[0m\u001b[0;34m,\u001b[0m \u001b[0mself\u001b[0m\u001b[0;34m.\u001b[0m\u001b[0munits\u001b[0m\u001b[0;34m,\u001b[0m \u001b[0mself\u001b[0m\u001b[0;34m)\u001b[0m\u001b[0;34m\u001b[0m\u001b[0;34m\u001b[0m\u001b[0m\n\u001b[0m\u001b[1;32m   1501\u001b[0m         \u001b[0;32mexcept\u001b[0m \u001b[0mException\u001b[0m \u001b[0;32mas\u001b[0m \u001b[0me\u001b[0m\u001b[0;34m:\u001b[0m\u001b[0;34m\u001b[0m\u001b[0;34m\u001b[0m\u001b[0m\n",
      "\u001b[0;32m~/anaconda3/envs/geologist_bot/lib/python3.8/site-packages/matplotlib/category.py\u001b[0m in \u001b[0;36mconvert\u001b[0;34m(value, unit, axis)\u001b[0m\n\u001b[1;32m     48\u001b[0m         \u001b[0;32mif\u001b[0m \u001b[0munit\u001b[0m \u001b[0;32mis\u001b[0m \u001b[0;32mNone\u001b[0m\u001b[0;34m:\u001b[0m\u001b[0;34m\u001b[0m\u001b[0;34m\u001b[0m\u001b[0m\n\u001b[0;32m---> 49\u001b[0;31m             raise ValueError(\n\u001b[0m\u001b[1;32m     50\u001b[0m                 \u001b[0;34m'Missing category information for StrCategoryConverter; '\u001b[0m\u001b[0;34m\u001b[0m\u001b[0;34m\u001b[0m\u001b[0m\n",
      "\u001b[0;31mValueError\u001b[0m: Missing category information for StrCategoryConverter; this might be caused by unintendedly mixing categorical and numeric data",
      "\nThe above exception was the direct cause of the following exception:\n",
      "\u001b[0;31mConversionError\u001b[0m                           Traceback (most recent call last)",
      "\u001b[0;32m/tmp/ipykernel_8421/3710037108.py\u001b[0m in \u001b[0;36m<module>\u001b[0;34m\u001b[0m\n\u001b[0;32m----> 1\u001b[0;31m \u001b[0mplt\u001b[0m\u001b[0;34m.\u001b[0m\u001b[0mplot\u001b[0m\u001b[0;34m(\u001b[0m\u001b[0mproj_geof_1000m\u001b[0m\u001b[0;34m)\u001b[0m\u001b[0;34m\u001b[0m\u001b[0;34m\u001b[0m\u001b[0m\n\u001b[0m",
      "\u001b[0;32m~/anaconda3/envs/geologist_bot/lib/python3.8/site-packages/matplotlib/pyplot.py\u001b[0m in \u001b[0;36mplot\u001b[0;34m(scalex, scaley, data, *args, **kwargs)\u001b[0m\n\u001b[1;32m   3017\u001b[0m \u001b[0;34m@\u001b[0m\u001b[0m_copy_docstring_and_deprecators\u001b[0m\u001b[0;34m(\u001b[0m\u001b[0mAxes\u001b[0m\u001b[0;34m.\u001b[0m\u001b[0mplot\u001b[0m\u001b[0;34m)\u001b[0m\u001b[0;34m\u001b[0m\u001b[0;34m\u001b[0m\u001b[0m\n\u001b[1;32m   3018\u001b[0m \u001b[0;32mdef\u001b[0m \u001b[0mplot\u001b[0m\u001b[0;34m(\u001b[0m\u001b[0;34m*\u001b[0m\u001b[0margs\u001b[0m\u001b[0;34m,\u001b[0m \u001b[0mscalex\u001b[0m\u001b[0;34m=\u001b[0m\u001b[0;32mTrue\u001b[0m\u001b[0;34m,\u001b[0m \u001b[0mscaley\u001b[0m\u001b[0;34m=\u001b[0m\u001b[0;32mTrue\u001b[0m\u001b[0;34m,\u001b[0m \u001b[0mdata\u001b[0m\u001b[0;34m=\u001b[0m\u001b[0;32mNone\u001b[0m\u001b[0;34m,\u001b[0m \u001b[0;34m**\u001b[0m\u001b[0mkwargs\u001b[0m\u001b[0;34m)\u001b[0m\u001b[0;34m:\u001b[0m\u001b[0;34m\u001b[0m\u001b[0;34m\u001b[0m\u001b[0m\n\u001b[0;32m-> 3019\u001b[0;31m     return gca().plot(\n\u001b[0m\u001b[1;32m   3020\u001b[0m         \u001b[0;34m*\u001b[0m\u001b[0margs\u001b[0m\u001b[0;34m,\u001b[0m \u001b[0mscalex\u001b[0m\u001b[0;34m=\u001b[0m\u001b[0mscalex\u001b[0m\u001b[0;34m,\u001b[0m \u001b[0mscaley\u001b[0m\u001b[0;34m=\u001b[0m\u001b[0mscaley\u001b[0m\u001b[0;34m,\u001b[0m\u001b[0;34m\u001b[0m\u001b[0;34m\u001b[0m\u001b[0m\n\u001b[1;32m   3021\u001b[0m         **({\"data\": data} if data is not None else {}), **kwargs)\n",
      "\u001b[0;32m~/anaconda3/envs/geologist_bot/lib/python3.8/site-packages/matplotlib/axes/_axes.py\u001b[0m in \u001b[0;36mplot\u001b[0;34m(self, scalex, scaley, data, *args, **kwargs)\u001b[0m\n\u001b[1;32m   1605\u001b[0m         \u001b[0mlines\u001b[0m \u001b[0;34m=\u001b[0m \u001b[0;34m[\u001b[0m\u001b[0;34m*\u001b[0m\u001b[0mself\u001b[0m\u001b[0;34m.\u001b[0m\u001b[0m_get_lines\u001b[0m\u001b[0;34m(\u001b[0m\u001b[0;34m*\u001b[0m\u001b[0margs\u001b[0m\u001b[0;34m,\u001b[0m \u001b[0mdata\u001b[0m\u001b[0;34m=\u001b[0m\u001b[0mdata\u001b[0m\u001b[0;34m,\u001b[0m \u001b[0;34m**\u001b[0m\u001b[0mkwargs\u001b[0m\u001b[0;34m)\u001b[0m\u001b[0;34m]\u001b[0m\u001b[0;34m\u001b[0m\u001b[0;34m\u001b[0m\u001b[0m\n\u001b[1;32m   1606\u001b[0m         \u001b[0;32mfor\u001b[0m \u001b[0mline\u001b[0m \u001b[0;32min\u001b[0m \u001b[0mlines\u001b[0m\u001b[0;34m:\u001b[0m\u001b[0;34m\u001b[0m\u001b[0;34m\u001b[0m\u001b[0m\n\u001b[0;32m-> 1607\u001b[0;31m             \u001b[0mself\u001b[0m\u001b[0;34m.\u001b[0m\u001b[0madd_line\u001b[0m\u001b[0;34m(\u001b[0m\u001b[0mline\u001b[0m\u001b[0;34m)\u001b[0m\u001b[0;34m\u001b[0m\u001b[0;34m\u001b[0m\u001b[0m\n\u001b[0m\u001b[1;32m   1608\u001b[0m         \u001b[0mself\u001b[0m\u001b[0;34m.\u001b[0m\u001b[0m_request_autoscale_view\u001b[0m\u001b[0;34m(\u001b[0m\u001b[0mscalex\u001b[0m\u001b[0;34m=\u001b[0m\u001b[0mscalex\u001b[0m\u001b[0;34m,\u001b[0m \u001b[0mscaley\u001b[0m\u001b[0;34m=\u001b[0m\u001b[0mscaley\u001b[0m\u001b[0;34m)\u001b[0m\u001b[0;34m\u001b[0m\u001b[0;34m\u001b[0m\u001b[0m\n\u001b[1;32m   1609\u001b[0m         \u001b[0;32mreturn\u001b[0m \u001b[0mlines\u001b[0m\u001b[0;34m\u001b[0m\u001b[0;34m\u001b[0m\u001b[0m\n",
      "\u001b[0;32m~/anaconda3/envs/geologist_bot/lib/python3.8/site-packages/matplotlib/axes/_base.py\u001b[0m in \u001b[0;36madd_line\u001b[0;34m(self, line)\u001b[0m\n\u001b[1;32m   2099\u001b[0m             \u001b[0mline\u001b[0m\u001b[0;34m.\u001b[0m\u001b[0mset_clip_path\u001b[0m\u001b[0;34m(\u001b[0m\u001b[0mself\u001b[0m\u001b[0;34m.\u001b[0m\u001b[0mpatch\u001b[0m\u001b[0;34m)\u001b[0m\u001b[0;34m\u001b[0m\u001b[0;34m\u001b[0m\u001b[0m\n\u001b[1;32m   2100\u001b[0m \u001b[0;34m\u001b[0m\u001b[0m\n\u001b[0;32m-> 2101\u001b[0;31m         \u001b[0mself\u001b[0m\u001b[0;34m.\u001b[0m\u001b[0m_update_line_limits\u001b[0m\u001b[0;34m(\u001b[0m\u001b[0mline\u001b[0m\u001b[0;34m)\u001b[0m\u001b[0;34m\u001b[0m\u001b[0;34m\u001b[0m\u001b[0m\n\u001b[0m\u001b[1;32m   2102\u001b[0m         \u001b[0;32mif\u001b[0m \u001b[0;32mnot\u001b[0m \u001b[0mline\u001b[0m\u001b[0;34m.\u001b[0m\u001b[0mget_label\u001b[0m\u001b[0;34m(\u001b[0m\u001b[0;34m)\u001b[0m\u001b[0;34m:\u001b[0m\u001b[0;34m\u001b[0m\u001b[0;34m\u001b[0m\u001b[0m\n\u001b[1;32m   2103\u001b[0m             \u001b[0mline\u001b[0m\u001b[0;34m.\u001b[0m\u001b[0mset_label\u001b[0m\u001b[0;34m(\u001b[0m\u001b[0;34m'_line%d'\u001b[0m \u001b[0;34m%\u001b[0m \u001b[0mlen\u001b[0m\u001b[0;34m(\u001b[0m\u001b[0mself\u001b[0m\u001b[0;34m.\u001b[0m\u001b[0mlines\u001b[0m\u001b[0;34m)\u001b[0m\u001b[0;34m)\u001b[0m\u001b[0;34m\u001b[0m\u001b[0;34m\u001b[0m\u001b[0m\n",
      "\u001b[0;32m~/anaconda3/envs/geologist_bot/lib/python3.8/site-packages/matplotlib/axes/_base.py\u001b[0m in \u001b[0;36m_update_line_limits\u001b[0;34m(self, line)\u001b[0m\n\u001b[1;32m   2121\u001b[0m         \u001b[0mFigures\u001b[0m \u001b[0mout\u001b[0m \u001b[0mthe\u001b[0m \u001b[0mdata\u001b[0m \u001b[0mlimit\u001b[0m \u001b[0mof\u001b[0m \u001b[0mthe\u001b[0m \u001b[0mgiven\u001b[0m \u001b[0mline\u001b[0m\u001b[0;34m,\u001b[0m \u001b[0mupdating\u001b[0m \u001b[0mself\u001b[0m\u001b[0;34m.\u001b[0m\u001b[0mdataLim\u001b[0m\u001b[0;34m.\u001b[0m\u001b[0;34m\u001b[0m\u001b[0;34m\u001b[0m\u001b[0m\n\u001b[1;32m   2122\u001b[0m         \"\"\"\n\u001b[0;32m-> 2123\u001b[0;31m         \u001b[0mpath\u001b[0m \u001b[0;34m=\u001b[0m \u001b[0mline\u001b[0m\u001b[0;34m.\u001b[0m\u001b[0mget_path\u001b[0m\u001b[0;34m(\u001b[0m\u001b[0;34m)\u001b[0m\u001b[0;34m\u001b[0m\u001b[0;34m\u001b[0m\u001b[0m\n\u001b[0m\u001b[1;32m   2124\u001b[0m         \u001b[0;32mif\u001b[0m \u001b[0mpath\u001b[0m\u001b[0;34m.\u001b[0m\u001b[0mvertices\u001b[0m\u001b[0;34m.\u001b[0m\u001b[0msize\u001b[0m \u001b[0;34m==\u001b[0m \u001b[0;36m0\u001b[0m\u001b[0;34m:\u001b[0m\u001b[0;34m\u001b[0m\u001b[0;34m\u001b[0m\u001b[0m\n\u001b[1;32m   2125\u001b[0m             \u001b[0;32mreturn\u001b[0m\u001b[0;34m\u001b[0m\u001b[0;34m\u001b[0m\u001b[0m\n",
      "\u001b[0;32m~/anaconda3/envs/geologist_bot/lib/python3.8/site-packages/matplotlib/lines.py\u001b[0m in \u001b[0;36mget_path\u001b[0;34m(self)\u001b[0m\n\u001b[1;32m   1020\u001b[0m         \"\"\"\n\u001b[1;32m   1021\u001b[0m         \u001b[0;32mif\u001b[0m \u001b[0mself\u001b[0m\u001b[0;34m.\u001b[0m\u001b[0m_invalidy\u001b[0m \u001b[0;32mor\u001b[0m \u001b[0mself\u001b[0m\u001b[0;34m.\u001b[0m\u001b[0m_invalidx\u001b[0m\u001b[0;34m:\u001b[0m\u001b[0;34m\u001b[0m\u001b[0;34m\u001b[0m\u001b[0m\n\u001b[0;32m-> 1022\u001b[0;31m             \u001b[0mself\u001b[0m\u001b[0;34m.\u001b[0m\u001b[0mrecache\u001b[0m\u001b[0;34m(\u001b[0m\u001b[0;34m)\u001b[0m\u001b[0;34m\u001b[0m\u001b[0;34m\u001b[0m\u001b[0m\n\u001b[0m\u001b[1;32m   1023\u001b[0m         \u001b[0;32mreturn\u001b[0m \u001b[0mself\u001b[0m\u001b[0;34m.\u001b[0m\u001b[0m_path\u001b[0m\u001b[0;34m\u001b[0m\u001b[0;34m\u001b[0m\u001b[0m\n\u001b[1;32m   1024\u001b[0m \u001b[0;34m\u001b[0m\u001b[0m\n",
      "\u001b[0;32m~/anaconda3/envs/geologist_bot/lib/python3.8/site-packages/matplotlib/lines.py\u001b[0m in \u001b[0;36mrecache\u001b[0;34m(self, always)\u001b[0m\n\u001b[1;32m    665\u001b[0m             \u001b[0mx\u001b[0m \u001b[0;34m=\u001b[0m \u001b[0mself\u001b[0m\u001b[0;34m.\u001b[0m\u001b[0m_x\u001b[0m\u001b[0;34m\u001b[0m\u001b[0;34m\u001b[0m\u001b[0m\n\u001b[1;32m    666\u001b[0m         \u001b[0;32mif\u001b[0m \u001b[0malways\u001b[0m \u001b[0;32mor\u001b[0m \u001b[0mself\u001b[0m\u001b[0;34m.\u001b[0m\u001b[0m_invalidy\u001b[0m\u001b[0;34m:\u001b[0m\u001b[0;34m\u001b[0m\u001b[0;34m\u001b[0m\u001b[0m\n\u001b[0;32m--> 667\u001b[0;31m             \u001b[0myconv\u001b[0m \u001b[0;34m=\u001b[0m \u001b[0mself\u001b[0m\u001b[0;34m.\u001b[0m\u001b[0mconvert_yunits\u001b[0m\u001b[0;34m(\u001b[0m\u001b[0mself\u001b[0m\u001b[0;34m.\u001b[0m\u001b[0m_yorig\u001b[0m\u001b[0;34m)\u001b[0m\u001b[0;34m\u001b[0m\u001b[0;34m\u001b[0m\u001b[0m\n\u001b[0m\u001b[1;32m    668\u001b[0m             \u001b[0my\u001b[0m \u001b[0;34m=\u001b[0m \u001b[0m_to_unmasked_float_array\u001b[0m\u001b[0;34m(\u001b[0m\u001b[0myconv\u001b[0m\u001b[0;34m)\u001b[0m\u001b[0;34m.\u001b[0m\u001b[0mravel\u001b[0m\u001b[0;34m(\u001b[0m\u001b[0;34m)\u001b[0m\u001b[0;34m\u001b[0m\u001b[0;34m\u001b[0m\u001b[0m\n\u001b[1;32m    669\u001b[0m         \u001b[0;32melse\u001b[0m\u001b[0;34m:\u001b[0m\u001b[0;34m\u001b[0m\u001b[0;34m\u001b[0m\u001b[0m\n",
      "\u001b[0;32m~/anaconda3/envs/geologist_bot/lib/python3.8/site-packages/matplotlib/artist.py\u001b[0m in \u001b[0;36mconvert_yunits\u001b[0;34m(self, y)\u001b[0m\n\u001b[1;32m    213\u001b[0m         \u001b[0;32mif\u001b[0m \u001b[0max\u001b[0m \u001b[0;32mis\u001b[0m \u001b[0;32mNone\u001b[0m \u001b[0;32mor\u001b[0m \u001b[0max\u001b[0m\u001b[0;34m.\u001b[0m\u001b[0myaxis\u001b[0m \u001b[0;32mis\u001b[0m \u001b[0;32mNone\u001b[0m\u001b[0;34m:\u001b[0m\u001b[0;34m\u001b[0m\u001b[0;34m\u001b[0m\u001b[0m\n\u001b[1;32m    214\u001b[0m             \u001b[0;32mreturn\u001b[0m \u001b[0my\u001b[0m\u001b[0;34m\u001b[0m\u001b[0;34m\u001b[0m\u001b[0m\n\u001b[0;32m--> 215\u001b[0;31m         \u001b[0;32mreturn\u001b[0m \u001b[0max\u001b[0m\u001b[0;34m.\u001b[0m\u001b[0myaxis\u001b[0m\u001b[0;34m.\u001b[0m\u001b[0mconvert_units\u001b[0m\u001b[0;34m(\u001b[0m\u001b[0my\u001b[0m\u001b[0;34m)\u001b[0m\u001b[0;34m\u001b[0m\u001b[0;34m\u001b[0m\u001b[0m\n\u001b[0m\u001b[1;32m    216\u001b[0m \u001b[0;34m\u001b[0m\u001b[0m\n\u001b[1;32m    217\u001b[0m     \u001b[0;34m@\u001b[0m\u001b[0mproperty\u001b[0m\u001b[0;34m\u001b[0m\u001b[0;34m\u001b[0m\u001b[0m\n",
      "\u001b[0;32m~/anaconda3/envs/geologist_bot/lib/python3.8/site-packages/matplotlib/axis.py\u001b[0m in \u001b[0;36mconvert_units\u001b[0;34m(self, x)\u001b[0m\n\u001b[1;32m   1500\u001b[0m             \u001b[0mret\u001b[0m \u001b[0;34m=\u001b[0m \u001b[0mself\u001b[0m\u001b[0;34m.\u001b[0m\u001b[0mconverter\u001b[0m\u001b[0;34m.\u001b[0m\u001b[0mconvert\u001b[0m\u001b[0;34m(\u001b[0m\u001b[0mx\u001b[0m\u001b[0;34m,\u001b[0m \u001b[0mself\u001b[0m\u001b[0;34m.\u001b[0m\u001b[0munits\u001b[0m\u001b[0;34m,\u001b[0m \u001b[0mself\u001b[0m\u001b[0;34m)\u001b[0m\u001b[0;34m\u001b[0m\u001b[0;34m\u001b[0m\u001b[0m\n\u001b[1;32m   1501\u001b[0m         \u001b[0;32mexcept\u001b[0m \u001b[0mException\u001b[0m \u001b[0;32mas\u001b[0m \u001b[0me\u001b[0m\u001b[0;34m:\u001b[0m\u001b[0;34m\u001b[0m\u001b[0;34m\u001b[0m\u001b[0m\n\u001b[0;32m-> 1502\u001b[0;31m             raise munits.ConversionError('Failed to convert value(s) to axis '\n\u001b[0m\u001b[1;32m   1503\u001b[0m                                          f'units: {x!r}') from e\n\u001b[1;32m   1504\u001b[0m         \u001b[0;32mreturn\u001b[0m \u001b[0mret\u001b[0m\u001b[0;34m\u001b[0m\u001b[0;34m\u001b[0m\u001b[0m\n",
      "\u001b[0;31mConversionError\u001b[0m: Failed to convert value(s) to axis units: array(['Rondonópolis', 'Xingu-Araguaia', 'Rio Meia Ponte',\n       'Franca (Área I)',\n       'Rochas Básicas e Ultrabásicas de Vitória da Conqui',\n       'Projeto Aerogeofísico Serra de Itiúba',\n       'Projeto Aerogeofísico São Paulo - Rio de Janeiro (Área Rio de Janeiro)',\n       'Projeto Aerogeofísico Extremo - Sudeste do Brasil',\n       'Projeto Aerogeofísico Província Aurífera do Tapajós (Bloco I)',\n       'Projeto Aerogeofísico Província Aurífera do Tapajós (Bloco II)',\n       'Projeto Aerogeofísico São Paulo - Rio de Janeiro (Área São Paulo)',\n       'Tocantínia', 'Esperança', 'Alto Garças', 'Surumu',\n       'Projeto Aerogeofísico Serra do Mar Sul',\n       'Ponta Grossa-Criciúma(Área I)', 'Araçuaí', 'Camaquã (Área II)',\n       'Projeto Aerogeofísico Camaquã (Área I)', 'Barreiro',\n       'Franca (Área II)',\n       'Projeto Aerogeofísico Borda Leste da Bacia do Maranhão',\n       'Projeto Aerogeofísico Rio Acaraú', 'Serra da Mesa',\n       'Projeto Aerogeofísico Paru do Oeste', 'Iguatu',\n       'Projeto Aerogeofísico Iporá',\n       'Área 20 - Uberaba - Uberlandia - Frutal',\n       'Projeto Aerogeofísico Trombetas', 'Poços de Caldas-CNEN',\n       'Projeto Aerogeofísico Seridó', 'Ponta Grossa-Criciúma(Área II)',\n       'Área 21 - Ituiutaba - Iturama - Fronteira',\n       'Projeto Aerogeofísico Itaberaba Belmonte', 'Mururé', 'Itacajá'],\n      dtype=object)"
     ]
    }
   ],
   "metadata": {}
  },
  {
   "cell_type": "code",
   "execution_count": 91,
   "source": [
    "# Com este plot, podemos visualizar que a area de cobertura aerogeofisica e altissima, porem,\n",
    "#  precisamos analisar melhor estes dados para que possa ser utilizados nos modelos preditivos.\n",
    "\n",
    "plot_brazil(proj_geof,atributo='ESPACAMENT')\n"
   ],
   "outputs": [
    {
     "output_type": "display_data",
     "data": {
      "application/vnd.jupyter.widget-view+json": {
       "version_major": 2,
       "version_minor": 0,
       "model_id": "195a829beb4b4d53ad74c8ebb3175cee"
      },
      "text/plain": [
       "Canvas(toolbar=Toolbar(toolitems=[('Home', 'Reset original view', 'home', 'home'), ('Back', 'Back to previous …"
      ]
     },
     "metadata": {}
    }
   ],
   "metadata": {}
  },
  {
   "cell_type": "code",
   "execution_count": 85,
   "source": [
    "proj_geof.columns"
   ],
   "outputs": [
    {
     "output_type": "execute_result",
     "data": {
      "text/plain": [
       "Index(['ID_PROJETO', 'TITULO', 'METODOS', 'ALTURA_VOO', 'AREA_LEVAN',\n",
       "       'QUILOMETRA', 'DIRECAO_LV', 'DIRECAO_LC', 'ESPACAMENT', 'ESPACAME_1',\n",
       "       'ID_SERIE', 'SERIE', 'DISPONIBIL', 'IMAGENS', 'SHAPE_AREA', 'SHAPE_LEN',\n",
       "       'geometry'],\n",
       "      dtype='object')"
      ]
     },
     "metadata": {},
     "execution_count": 85
    }
   ],
   "metadata": {}
  },
  {
   "cell_type": "code",
   "execution_count": 35,
   "source": [
    "#proj_geof.geometry.area.sum()"
   ],
   "outputs": [],
   "metadata": {}
  },
  {
   "cell_type": "code",
   "execution_count": 27,
   "source": [
    "print(type(proj_geof['ESPACAMENT'][0]))\n",
    "print(list(proj_geof.ESPACAMENT.unique()))"
   ],
   "outputs": [
    {
     "output_type": "stream",
     "name": "stdout",
     "text": [
      "<class 'str'>\n",
      "['2.5', '500', '1500', '1000', '3000', '2000', '3', '0', '250', '150', '200', '2500', '100', '4000', '2', '125', '400', '300', '1', '5', '4', '2,5', '6000', '8000', '6', '1,5', '7']\n"
     ]
    }
   ],
   "metadata": {}
  },
  {
   "cell_type": "code",
   "execution_count": 124,
   "source": [
    "print(f\"Foram identificados {len(proj_geof[proj_geof['ESPACAMENT'] == '500'])} projetos aerogeofisicos\")\n",
    "print(f\"Lista de Titulos: {proj_geof[proj_geof['ESPACAMENT'] == '500']['TITULO']}\")"
   ],
   "outputs": [
    {
     "output_type": "stream",
     "name": "stdout",
     "text": [
      "Foram identificados 111 projetos aerogeofisicos\n",
      "Lista de Titulos: 1      Projeto Aerogeofísico Escudo do Rio Grande do Sul\n",
      "4           Projeto Aerogeofísico Sudeste do Mato Grosso\n",
      "5              Projeto Aerogeofísico Sudeste de Rondônia\n",
      "6               Projeto Aerogeofísicos Serra dos Apiacás\n",
      "10     Projeto Aerogeofísico Reserva Nacional do Cobr...\n",
      "                             ...                        \n",
      "277                                 Serro (Área-Detalhe)\n",
      "281                  Campo Alegre de Lourdes - Mortugaba\n",
      "288               Projeto Aerogeofísico Pernambuco-Piauí\n",
      "290                         Projeto Aerogeofísico Gurupi\n",
      "295    Área 18 Minas Gerais - Porto Cajueiro - São Fr...\n",
      "Name: TITULO, Length: 111, dtype: object\n"
     ]
    }
   ],
   "metadata": {}
  },
  {
   "cell_type": "code",
   "execution_count": 125,
   "source": [
    "proj_geof_500m = proj_geof[proj_geof['ESPACAMENT'] == '500']"
   ],
   "outputs": [],
   "metadata": {}
  },
  {
   "cell_type": "code",
   "execution_count": null,
   "source": [
    "# Abrindo os vetores litológicos utilizando a função definida acima\n",
    "litologia_100k = importar_geologico('litologia_100k')\n",
    "litologia_250k = importar_geologico('litologia_250k')"
   ],
   "outputs": [],
   "metadata": {}
  },
  {
   "cell_type": "code",
   "execution_count": null,
   "source": [],
   "outputs": [],
   "metadata": {}
  },
  {
   "cell_type": "code",
   "execution_count": 139,
   "source": [
    "plot_brazil(proj_geof_500m.boundary)\n",
    "plt.annotate(s='code',)"
   ],
   "outputs": [
    {
     "output_type": "display_data",
     "data": {
      "application/vnd.jupyter.widget-view+json": {
       "version_major": 2,
       "version_minor": 0,
       "model_id": "9bfa149991714bf8bdf1eb4e646c9b05"
      },
      "text/plain": [
       "Canvas(toolbar=Toolbar(toolitems=[('Home', 'Reset original view', 'home', 'home'), ('Back', 'Back to previous …"
      ]
     },
     "metadata": {}
    },
    {
     "output_type": "stream",
     "name": "stderr",
     "text": [
      "/tmp/ipykernel_8421/3947026308.py:2: MatplotlibDeprecationWarning: The 's' parameter of annotate() has been renamed 'text' since Matplotlib 3.3; support for the old name will be dropped two minor releases later.\n",
      "  plt.annotate(s='code')\n"
     ]
    },
    {
     "output_type": "error",
     "ename": "TypeError",
     "evalue": "annotate() missing 1 required positional argument: 'xy'",
     "traceback": [
      "\u001b[0;31m---------------------------------------------------------------------------\u001b[0m",
      "\u001b[0;31mTypeError\u001b[0m                                 Traceback (most recent call last)",
      "\u001b[0;32m/tmp/ipykernel_8421/3947026308.py\u001b[0m in \u001b[0;36m<module>\u001b[0;34m\u001b[0m\n\u001b[1;32m      1\u001b[0m \u001b[0mplot_brazil\u001b[0m\u001b[0;34m(\u001b[0m\u001b[0mproj_geof_500m\u001b[0m\u001b[0;34m.\u001b[0m\u001b[0mboundary\u001b[0m\u001b[0;34m)\u001b[0m\u001b[0;34m\u001b[0m\u001b[0;34m\u001b[0m\u001b[0m\n\u001b[0;32m----> 2\u001b[0;31m \u001b[0mplt\u001b[0m\u001b[0;34m.\u001b[0m\u001b[0mannotate\u001b[0m\u001b[0;34m(\u001b[0m\u001b[0ms\u001b[0m\u001b[0;34m=\u001b[0m\u001b[0;34m'code'\u001b[0m\u001b[0;34m)\u001b[0m\u001b[0;34m\u001b[0m\u001b[0;34m\u001b[0m\u001b[0m\n\u001b[0m",
      "\u001b[0;32m~/anaconda3/envs/geologist_bot/lib/python3.8/site-packages/matplotlib/_api/deprecation.py\u001b[0m in \u001b[0;36mwrapper\u001b[0;34m(*args, **kwargs)\u001b[0m\n\u001b[1;32m    333\u001b[0m                 f\"for the old name will be dropped %(removal)s.\")\n\u001b[1;32m    334\u001b[0m             \u001b[0mkwargs\u001b[0m\u001b[0;34m[\u001b[0m\u001b[0mnew\u001b[0m\u001b[0;34m]\u001b[0m \u001b[0;34m=\u001b[0m \u001b[0mkwargs\u001b[0m\u001b[0;34m.\u001b[0m\u001b[0mpop\u001b[0m\u001b[0;34m(\u001b[0m\u001b[0mold\u001b[0m\u001b[0;34m)\u001b[0m\u001b[0;34m\u001b[0m\u001b[0;34m\u001b[0m\u001b[0m\n\u001b[0;32m--> 335\u001b[0;31m         \u001b[0;32mreturn\u001b[0m \u001b[0mfunc\u001b[0m\u001b[0;34m(\u001b[0m\u001b[0;34m*\u001b[0m\u001b[0margs\u001b[0m\u001b[0;34m,\u001b[0m \u001b[0;34m**\u001b[0m\u001b[0mkwargs\u001b[0m\u001b[0;34m)\u001b[0m\u001b[0;34m\u001b[0m\u001b[0;34m\u001b[0m\u001b[0m\n\u001b[0m\u001b[1;32m    336\u001b[0m \u001b[0;34m\u001b[0m\u001b[0m\n\u001b[1;32m    337\u001b[0m     \u001b[0;31m# wrapper() must keep the same documented signature as func(): if we\u001b[0m\u001b[0;34m\u001b[0m\u001b[0;34m\u001b[0m\u001b[0;34m\u001b[0m\u001b[0m\n",
      "\u001b[0;31mTypeError\u001b[0m: annotate() missing 1 required positional argument: 'xy'"
     ]
    }
   ],
   "metadata": {}
  },
  {
   "cell_type": "code",
   "execution_count": 137,
   "source": [
    "#int(proj_geof['ESPACAMENT'])"
   ],
   "outputs": [],
   "metadata": {}
  },
  {
   "cell_type": "code",
   "execution_count": 87,
   "source": [
    "proj_geof_500m = proj_geof[proj_geof.ESPACAMENT == '500']"
   ],
   "outputs": [],
   "metadata": {}
  },
  {
   "cell_type": "code",
   "execution_count": 128,
   "source": [
    "#ax = litologia_100k.plot('SIGLA')\n",
    "#proj_geof_500m.boundary.plot(ax=ax)\n",
    "\n",
    "plot_base(proj_geof_500m.boundary,camada='litologia_100k')  # esta funçao e lenta pois importa toda a camada vetorial novamente e\n",
    "                                                            # nao deve ser usada caso a litologia ja tenhasido definida"
   ],
   "outputs": [
    {
     "output_type": "stream",
     "name": "stderr",
     "text": [
      "/home/ggrl/anaconda3/envs/geologist_bot/lib/python3.8/site-packages/geopandas/plotting.py:658: RuntimeWarning: More than 20 figures have been opened. Figures created through the pyplot interface (`matplotlib.pyplot.figure`) are retained until explicitly closed and may consume too much memory. (To control this warning, see the rcParam `figure.max_open_warning`).\n",
      "  fig, ax = plt.subplots(figsize=figsize)\n"
     ]
    },
    {
     "output_type": "display_data",
     "data": {
      "application/vnd.jupyter.widget-view+json": {
       "version_major": 2,
       "version_minor": 0,
       "model_id": "3a0ccbdc00674e7489e054fea4fc0bc1"
      },
      "text/plain": [
       "Canvas(toolbar=Toolbar(toolitems=[('Home', 'Reset original view', 'home', 'home'), ('Back', 'Back to previous …"
      ]
     },
     "metadata": {}
    }
   ],
   "metadata": {}
  },
  {
   "cell_type": "markdown",
   "source": [
    "## Listando atributos geologicos das geometrias importadas."
   ],
   "metadata": {}
  },
  {
   "cell_type": "code",
   "execution_count": null,
   "source": [
    "# Abrindo os vetores litológicos utilizando a função definida acima\n",
    "litologia_100k = importar_geologico('litologia_100k')\n",
    "litologia_250k = importar_geologico('litologia_250k')"
   ],
   "outputs": [],
   "metadata": {}
  },
  {
   "cell_type": "code",
   "execution_count": 40,
   "source": [
    "# Abrindo os vetores litológicos de um unico mapa utilizando a função definida acima\n",
    "varginha_100k = importar_geologico('litologia_100k','Varginha - UFRJ')"
   ],
   "outputs": [],
   "metadata": {}
  },
  {
   "cell_type": "code",
   "execution_count": 45,
   "source": [
    "# atributos descritivos de cada uma das camadas litológicas (geometrias)\n",
    "print(\"Lista de atributos descritivos classes litologicas: \")\n",
    "print(list(varginha_100k.columns))"
   ],
   "outputs": [
    {
     "output_type": "stream",
     "name": "stdout",
     "text": [
      "Lista de atributos descritivos classes litologicas: \n",
      "['ID_UNIDADE', 'SIGLA', 'HIERARQUIA', 'NOME', 'AMBIENTE_T', 'SUB_AMBIEN', 'SIGLA_PAI', 'NOME_PAI', 'LEGENDA', 'ESCALA', 'MAPA', 'LITOTIPOS', 'RANGE', 'IDADE_MIN', 'IDADE_MAX', 'EON_MIN', 'EON_MAX', 'ERA_MIN', 'ERA_MAX', 'SISTEMA_MI', 'SISTEMA_MA', 'EPOCA_MIN', 'EPOCA_MAX', 'SIGLAS_HIS', 'SHAPE_AREA', 'SHAPE_LEN', 'geometry']\n"
     ]
    }
   ],
   "metadata": {}
  },
  {
   "cell_type": "code",
   "execution_count": 46,
   "source": [
    "# Plotando os vetores descritos pelos geólogos da cprm\n",
    "varginha_100k.plot('SIGLA')"
   ],
   "outputs": [
    {
     "output_type": "display_data",
     "data": {
      "application/vnd.jupyter.widget-view+json": {
       "version_major": 2,
       "version_minor": 0,
       "model_id": "39442c72b53640a09186370893fefa07"
      },
      "text/plain": [
       "Canvas(toolbar=Toolbar(toolitems=[('Home', 'Reset original view', 'home', 'home'), ('Back', 'Back to previous …"
      ]
     },
     "metadata": {}
    },
    {
     "output_type": "execute_result",
     "data": {
      "text/plain": [
       "<AxesSubplot:>"
      ]
     },
     "metadata": {},
     "execution_count": 46
    }
   ],
   "metadata": {}
  },
  {
   "cell_type": "code",
   "execution_count": 47,
   "source": [
    "print(varginha_100k.shape)\n",
    "print(f\"{varginha_100k.shape[0]} geometrias litologicas descritas em {varginha_100k.shape[1]} atributos\")"
   ],
   "outputs": [
    {
     "output_type": "stream",
     "name": "stdout",
     "text": [
      "(224, 27)\n",
      "224 geometrias litologicas descritas em 27 atributos\n"
     ]
    }
   ],
   "metadata": {}
  },
  {
   "cell_type": "code",
   "execution_count": 48,
   "source": [
    "# Observando o formato da descrição da coluna litotipos\n",
    "varginha_100k_litotipos = varginha_100k.LITOTIPOS.unique()\n",
    "print(f\"{len(list(varginha_100k_litotipos))} litotipos reconhecidos\")\n",
    "list(varginha_100k_litotipos)"
   ],
   "outputs": [
    {
     "output_type": "stream",
     "name": "stdout",
     "text": [
      "8 litotipos reconhecidos\n"
     ]
    },
    {
     "output_type": "execute_result",
     "data": {
      "text/plain": [
       "['Diorito, Enderbito, Gabronorito, Gnaisse, Gnaisse granulitizado, Granulito, Granulito máfico, Mangerito, Olivina websterito, Ortognaisse tonalítico',\n",
       " 'Biotita xisto, Gnaisse',\n",
       " None,\n",
       " 'Albita anatexito, Biotita xisto, Gnaisse granulitizado, Gondito, Granulito máfico, Metamáfica, Rocha calcissilicática',\n",
       " 'Anfibolito, Mármore, Metagrauvaca, Metaultramafito, Muscovita xisto, Paragnaisse, Quartzito, Quartzo xisto',\n",
       " 'Muscovita-quartzo xisto, Quartzito',\n",
       " 'Anfibolito, Biotita xisto, Gnaisse, Rocha calcissilicática',\n",
       " 'Filito, Quartzito, Xisto']"
      ]
     },
     "metadata": {},
     "execution_count": 48
    }
   ],
   "metadata": {}
  },
  {
   "cell_type": "code",
   "execution_count": 49,
   "source": [
    "# com estas funçoes utilizadas asssimas, podemos definir uma funçao que descreve o nosso dado vetorial\n",
    "def describe_geologico(gdf):\n",
    "    lista_colunas = list(gdf.columns)\n",
    "    lista_shape = gdf.shape\n",
    "    lista_litotipos = list(gdf.LITOTIPOS.unique())\n",
    "    lista_legenda = list(gdf.LEGENDA.unique())\n",
    "\n",
    "    dic_litologico = {'lista_colunas': lista_colunas,\n",
    "                      'lista_shape': lista_shape,\n",
    "                      'lista_litotipos': lista_litotipos,\n",
    "                      'lista_legenda': lista_legenda}\n",
    "    return dic_litologico   "
   ],
   "outputs": [],
   "metadata": {}
  },
  {
   "cell_type": "code",
   "execution_count": 50,
   "source": [
    "dic_litoligico = describe_geologico(varginha_100k)"
   ],
   "outputs": [],
   "metadata": {}
  },
  {
   "cell_type": "code",
   "execution_count": 58,
   "source": [
    "print(f\"Numero de geometrias descritas na carta geologica: {len(dic_litoligico['lista_litotipos'])}\")\n",
    "print(\"Lista de valores unicos da coluna Litotipo: \")\n",
    "list(dic_litoligico['lista_litotipos'])"
   ],
   "outputs": [
    {
     "output_type": "stream",
     "name": "stdout",
     "text": [
      "Numero de geometrias descritas na carta geologica: 8\n",
      "Lista de valores unicos da coluna Litotipo: \n"
     ]
    },
    {
     "output_type": "execute_result",
     "data": {
      "text/plain": [
       "['Diorito, Enderbito, Gabronorito, Gnaisse, Gnaisse granulitizado, Granulito, Granulito máfico, Mangerito, Olivina websterito, Ortognaisse tonalítico',\n",
       " 'Biotita xisto, Gnaisse',\n",
       " None,\n",
       " 'Albita anatexito, Biotita xisto, Gnaisse granulitizado, Gondito, Granulito máfico, Metamáfica, Rocha calcissilicática',\n",
       " 'Anfibolito, Mármore, Metagrauvaca, Metaultramafito, Muscovita xisto, Paragnaisse, Quartzito, Quartzo xisto',\n",
       " 'Muscovita-quartzo xisto, Quartzito',\n",
       " 'Anfibolito, Biotita xisto, Gnaisse, Rocha calcissilicática',\n",
       " 'Filito, Quartzito, Xisto']"
      ]
     },
     "metadata": {},
     "execution_count": 58
    }
   ],
   "metadata": {}
  },
  {
   "cell_type": "code",
   "execution_count": 57,
   "source": [
    "print(f\"Numero de geometrias descritas na carta geologica: {len(dic_litoligico['lista_legenda'])}\")\n",
    "print(\"Lista de valores unicos da coluna Legenda: \")\n",
    "list(dic_litoligico['lista_legenda'])"
   ],
   "outputs": [
    {
     "output_type": "stream",
     "name": "stdout",
     "text": [
      "Numero de geometrias descritas na carta geologica: 11\n",
      "Lista de valores unicos da coluna Legenda: \n"
     ]
    },
    {
     "output_type": "execute_result",
     "data": {
      "text/plain": [
       "['Unidade granulítica basal',\n",
       " 'Biotita xisto/gnaisse rico em plagioclássio, com granada, cianita e/ou silimanita, estaurolita, rutilo e muscovita.  Plagioclásio biotita xisto com muscovita, granada, estaurolita, cianita e sillimanita\\n',\n",
       " 'Depósitos aluvionares: Cascalho, areia e lama inconsolidada.',\n",
       " 'Ortognaisse migmatíticos de composição monzo-graníticas a tonalítica com intercalções de anfibolitos de rochas ultramáficas.',\n",
       " 'Cianita-granada granulitos a biotita, rutilo e ilmenita, Cianita K-feldspato gnaisse, intercalações de granulito máfico (plagioclásio-piroxênio-granada). \\n intercalações de cianita-granada quartzito, gnaisses calcissilicáticos, anfibolito com ort',\n",
       " 'Metagrauvaca, (muscovita)-biotita paragnaisse bandado, com intercalações de quartzito, muscovita-quartzo xisto, quartzitos, anfibolito e mármores, localmente migmatítico.',\n",
       " 'Quartzitos com intercalações de muscovita-quartzo xistos.',\n",
       " 'Biotita xisto-gnaisse grosso com intercalações de quartzito, cianita granada muscovita biotita xisto, anfibolito, rocha calssilicática e metaprecipitados químicos, em fácies anfibolito.',\n",
       " 'Intercalações de rocha ultramáfica com quartzito, anfibolito e metaprecipitados químicos.',\n",
       " 'Xistos e filitos acinzentados, quartzitos e cloritóide (estaurolita) xistos.',\n",
       " 'Mármore']"
      ]
     },
     "metadata": {},
     "execution_count": 57
    }
   ],
   "metadata": {}
  },
  {
   "cell_type": "markdown",
   "source": [
    "## Reconhecendo as litologia mapeadas em suas escalas\n",
    "- Faremos um filtro na coluna LEGENDA e LITOTIOPOS para selecionar as classes de interesse e, com estas geometrias, selecionaremos os mapas que as contém.\n",
    "- Assim podemos identificar quais cartas geológicas e suas escalas podemos trabalhar."
   ],
   "metadata": {}
  },
  {
   "cell_type": "code",
   "execution_count": 113,
   "source": [
    "def filtro(gdf,mineral):\n",
    "    filtrado = gdf[gdf['LITOTIPOS'].str.contains(mineral)]\n",
    "    if filtrado.empty:\n",
    "        print(f\"{list(gdf['LITOTIPOS'].unique())}\")\n",
    "    else:\n",
    "        return filtrado"
   ],
   "outputs": [],
   "metadata": {}
  },
  {
   "cell_type": "code",
   "execution_count": 114,
   "source": [
    "litologia_grafitosa_100k = filtro(litologia_100k,'graf')"
   ],
   "outputs": [
    {
     "output_type": "error",
     "ename": "ValueError",
     "evalue": "Cannot mask with non-boolean array containing NA / NaN values",
     "traceback": [
      "\u001b[0;31m---------------------------------------------------------------------------\u001b[0m",
      "\u001b[0;31mValueError\u001b[0m                                Traceback (most recent call last)",
      "\u001b[0;32m/tmp/ipykernel_41818/878671902.py\u001b[0m in \u001b[0;36m<module>\u001b[0;34m\u001b[0m\n\u001b[0;32m----> 1\u001b[0;31m \u001b[0mlitologia_grafitosa_100k\u001b[0m \u001b[0;34m=\u001b[0m \u001b[0mfiltro\u001b[0m\u001b[0;34m(\u001b[0m\u001b[0mlitologia_100k\u001b[0m\u001b[0;34m,\u001b[0m\u001b[0;34m'graf'\u001b[0m\u001b[0;34m)\u001b[0m\u001b[0;34m\u001b[0m\u001b[0;34m\u001b[0m\u001b[0m\n\u001b[0m",
      "\u001b[0;32m/tmp/ipykernel_41818/2023548358.py\u001b[0m in \u001b[0;36mfiltro\u001b[0;34m(gdf, mineral)\u001b[0m\n\u001b[1;32m      1\u001b[0m \u001b[0;32mdef\u001b[0m \u001b[0mfiltro\u001b[0m\u001b[0;34m(\u001b[0m\u001b[0mgdf\u001b[0m\u001b[0;34m,\u001b[0m\u001b[0mmineral\u001b[0m\u001b[0;34m)\u001b[0m\u001b[0;34m:\u001b[0m\u001b[0;34m\u001b[0m\u001b[0;34m\u001b[0m\u001b[0m\n\u001b[0;32m----> 2\u001b[0;31m     \u001b[0mfiltrado\u001b[0m \u001b[0;34m=\u001b[0m \u001b[0mgdf\u001b[0m\u001b[0;34m[\u001b[0m\u001b[0mgdf\u001b[0m\u001b[0;34m[\u001b[0m\u001b[0;34m'LITOTIPOS'\u001b[0m\u001b[0;34m]\u001b[0m\u001b[0;34m.\u001b[0m\u001b[0mstr\u001b[0m\u001b[0;34m.\u001b[0m\u001b[0mcontains\u001b[0m\u001b[0;34m(\u001b[0m\u001b[0mmineral\u001b[0m\u001b[0;34m)\u001b[0m\u001b[0;34m]\u001b[0m\u001b[0;34m\u001b[0m\u001b[0;34m\u001b[0m\u001b[0m\n\u001b[0m\u001b[1;32m      3\u001b[0m     \u001b[0;32mif\u001b[0m \u001b[0mfiltrado\u001b[0m\u001b[0;34m.\u001b[0m\u001b[0mempty\u001b[0m\u001b[0;34m:\u001b[0m\u001b[0;34m\u001b[0m\u001b[0;34m\u001b[0m\u001b[0m\n\u001b[1;32m      4\u001b[0m         \u001b[0mprint\u001b[0m\u001b[0;34m(\u001b[0m\u001b[0;34mf\"{list(gdf['LITOTIPOS'].unique())}\"\u001b[0m\u001b[0;34m)\u001b[0m\u001b[0;34m\u001b[0m\u001b[0;34m\u001b[0m\u001b[0m\n\u001b[1;32m      5\u001b[0m     \u001b[0;32melse\u001b[0m\u001b[0;34m:\u001b[0m\u001b[0;34m\u001b[0m\u001b[0;34m\u001b[0m\u001b[0m\n",
      "\u001b[0;32m~/anaconda3/envs/geologist_bot/lib/python3.8/site-packages/geopandas/geodataframe.py\u001b[0m in \u001b[0;36m__getitem__\u001b[0;34m(self, key)\u001b[0m\n\u001b[1;32m   1297\u001b[0m         \u001b[0mGeoDataFrame\u001b[0m\u001b[0;34m.\u001b[0m\u001b[0;34m\u001b[0m\u001b[0;34m\u001b[0m\u001b[0m\n\u001b[1;32m   1298\u001b[0m         \"\"\"\n\u001b[0;32m-> 1299\u001b[0;31m         \u001b[0mresult\u001b[0m \u001b[0;34m=\u001b[0m \u001b[0msuper\u001b[0m\u001b[0;34m(\u001b[0m\u001b[0mGeoDataFrame\u001b[0m\u001b[0;34m,\u001b[0m \u001b[0mself\u001b[0m\u001b[0;34m)\u001b[0m\u001b[0;34m.\u001b[0m\u001b[0m__getitem__\u001b[0m\u001b[0;34m(\u001b[0m\u001b[0mkey\u001b[0m\u001b[0;34m)\u001b[0m\u001b[0;34m\u001b[0m\u001b[0;34m\u001b[0m\u001b[0m\n\u001b[0m\u001b[1;32m   1300\u001b[0m         \u001b[0mgeo_col\u001b[0m \u001b[0;34m=\u001b[0m \u001b[0mself\u001b[0m\u001b[0;34m.\u001b[0m\u001b[0m_geometry_column_name\u001b[0m\u001b[0;34m\u001b[0m\u001b[0;34m\u001b[0m\u001b[0m\n\u001b[1;32m   1301\u001b[0m         \u001b[0;32mif\u001b[0m \u001b[0misinstance\u001b[0m\u001b[0;34m(\u001b[0m\u001b[0mresult\u001b[0m\u001b[0;34m,\u001b[0m \u001b[0mSeries\u001b[0m\u001b[0;34m)\u001b[0m \u001b[0;32mand\u001b[0m \u001b[0misinstance\u001b[0m\u001b[0;34m(\u001b[0m\u001b[0mresult\u001b[0m\u001b[0;34m.\u001b[0m\u001b[0mdtype\u001b[0m\u001b[0;34m,\u001b[0m \u001b[0mGeometryDtype\u001b[0m\u001b[0;34m)\u001b[0m\u001b[0;34m:\u001b[0m\u001b[0;34m\u001b[0m\u001b[0;34m\u001b[0m\u001b[0m\n",
      "\u001b[0;32m~/anaconda3/envs/geologist_bot/lib/python3.8/site-packages/pandas/core/frame.py\u001b[0m in \u001b[0;36m__getitem__\u001b[0;34m(self, key)\u001b[0m\n\u001b[1;32m   3443\u001b[0m \u001b[0;34m\u001b[0m\u001b[0m\n\u001b[1;32m   3444\u001b[0m         \u001b[0;31m# Do we have a (boolean) 1d indexer?\u001b[0m\u001b[0;34m\u001b[0m\u001b[0;34m\u001b[0m\u001b[0;34m\u001b[0m\u001b[0m\n\u001b[0;32m-> 3445\u001b[0;31m         \u001b[0;32mif\u001b[0m \u001b[0mcom\u001b[0m\u001b[0;34m.\u001b[0m\u001b[0mis_bool_indexer\u001b[0m\u001b[0;34m(\u001b[0m\u001b[0mkey\u001b[0m\u001b[0;34m)\u001b[0m\u001b[0;34m:\u001b[0m\u001b[0;34m\u001b[0m\u001b[0;34m\u001b[0m\u001b[0m\n\u001b[0m\u001b[1;32m   3446\u001b[0m             \u001b[0;32mreturn\u001b[0m \u001b[0mself\u001b[0m\u001b[0;34m.\u001b[0m\u001b[0m_getitem_bool_array\u001b[0m\u001b[0;34m(\u001b[0m\u001b[0mkey\u001b[0m\u001b[0;34m)\u001b[0m\u001b[0;34m\u001b[0m\u001b[0;34m\u001b[0m\u001b[0m\n\u001b[1;32m   3447\u001b[0m \u001b[0;34m\u001b[0m\u001b[0m\n",
      "\u001b[0;32m~/anaconda3/envs/geologist_bot/lib/python3.8/site-packages/pandas/core/common.py\u001b[0m in \u001b[0;36mis_bool_indexer\u001b[0;34m(key)\u001b[0m\n\u001b[1;32m    137\u001b[0m                     \u001b[0;31m# Don't raise on e.g. [\"A\", \"B\", np.nan], see\u001b[0m\u001b[0;34m\u001b[0m\u001b[0;34m\u001b[0m\u001b[0;34m\u001b[0m\u001b[0m\n\u001b[1;32m    138\u001b[0m                     \u001b[0;31m#  test_loc_getitem_list_of_labels_categoricalindex_with_na\u001b[0m\u001b[0;34m\u001b[0m\u001b[0;34m\u001b[0m\u001b[0;34m\u001b[0m\u001b[0m\n\u001b[0;32m--> 139\u001b[0;31m                     \u001b[0;32mraise\u001b[0m \u001b[0mValueError\u001b[0m\u001b[0;34m(\u001b[0m\u001b[0mna_msg\u001b[0m\u001b[0;34m)\u001b[0m\u001b[0;34m\u001b[0m\u001b[0;34m\u001b[0m\u001b[0m\n\u001b[0m\u001b[1;32m    140\u001b[0m                 \u001b[0;32mreturn\u001b[0m \u001b[0;32mFalse\u001b[0m\u001b[0;34m\u001b[0m\u001b[0;34m\u001b[0m\u001b[0m\n\u001b[1;32m    141\u001b[0m             \u001b[0;32mreturn\u001b[0m \u001b[0;32mTrue\u001b[0m\u001b[0;34m\u001b[0m\u001b[0;34m\u001b[0m\u001b[0m\n",
      "\u001b[0;31mValueError\u001b[0m: Cannot mask with non-boolean array containing NA / NaN values"
     ]
    }
   ],
   "metadata": {}
  },
  {
   "cell_type": "code",
   "execution_count": null,
   "source": [
    "litotipos_vazio = litologia_100k[litologia_100k.LITOTIPOS.isna()]\n",
    "litotipos_vazio.LITOTIPOS"
   ],
   "outputs": [],
   "metadata": {}
  },
  {
   "cell_type": "code",
   "execution_count": 126,
   "source": [
    "#Foi necessário inserir a str 'Vazio' em celas que não continham valores para que a função de filtro funcionasse corretamente na coluna LEGENDA.\n",
    "\n",
    "#litologia_1kk.fillna('Vazio',inplace=True)\n",
    "#litologia_250k.fillna('Vazio',inplace=True)\n",
    "litologia_100k.fillna('Vazio',inplace=True)\n",
    "#litologia_50k.fillna('Vazio',inplace=True)"
   ],
   "outputs": [],
   "metadata": {}
  },
  {
   "cell_type": "code",
   "execution_count": 110,
   "source": [
    "Grafita_l1kk = filtro(litologia_1kk,'Graf')\n",
    "print(list(Grafita_l1kk['LITOTIPOS'].unique()))"
   ],
   "outputs": [
    {
     "output_type": "stream",
     "name": "stdout",
     "text": [
      "['Anfibolito, Grafita xisto, Metapelito, Quartzito', 'Formação ferrífera bandada, Grafita xisto, Metachert, Rocha metassedimentar, Rocha metavulcânica ultramáfica, Serpentinito', 'Biotita-anfibólio xisto, Biotita-quartzo xisto, Filito, Grafita xisto, Mármore calcítico, Mármore dolomítico, Metatufo, Quartzo-mica xisto, Rocha calcissilicática, Xisto carbonático', 'Clorita xisto, Grafita xisto, Hornblenda gnaisse, Metacalcário, Muscovita quartzito, Muscovita-biotita xisto, Quartzito ferruginoso, Talco xisto', 'Clorita xisto, Grafita xisto, Metachert, Metadacito, Metatufo, Xisto', 'Biotita gnaisse, Gnaisse, Gondito, Grafita xisto, Granada gnaisse, Kinzigito, Mármore, Muscovita quartzito, Quartzito, Rocha calcissilicática, Sericita xisto, Xisto', 'Grafita xisto, Metachert, Muscovita quartzito, Quartzito ferruginoso, Xisto, Xisto aluminoso', 'Clorita xisto, Cloritito, Formação ferrífera bandada, Grafita xisto, Muscovita-biotita xisto, Piroxenito, Serpentinito, Talco xisto, Xisto magnesiano', 'Biotita xisto, Biotita-muscovita-quartzo xisto, Grafita xisto, Granada-biotita-muscovita-quartzo xisto, Granada-clorita xisto, Mármore, Metaconglomerado suportado por clastos, Metapsamito, Metarcóseo, Quartzito ferruginoso', 'Filito, Grafita xisto, Quartzo-mica xisto', 'Ardósia, Filito, Grafita xisto, Metarenito, Metargilito, Metassiltito, Mica xisto, Sericita xisto, Xisto', 'Biotita gnaisse, Clorita xisto, Grafita xisto, Metaconglomerado, Metapelito, Metarritmito, Mica xisto, Paragnaisse, Turmalinito', 'Biotita gnaisse, Biotita xisto, Grafita xisto, Mármore, Muscovita-biotita xisto, Rocha calcissilicática, Talco xisto', 'Grafita xisto, Metadiamictito, Metapelito, Quartzito ferruginoso', 'Formação ferrífera bandada, Grafita xisto, Mármore, Metakomatiíto, Metamáfica, Quartzito ferruginoso, Rocha calcissilicática, Xisto', 'Formação ferrífera bandada, Grafita xisto, Kinzigito, Metamáfica, Paragnaisse, Rocha calcissilicática, Rocha metaultramáfica', 'Grafita xisto, Metabasito, Metachert', 'Formação ferrífera bandada, Grafita xisto, Mármore, Metabasalto, Metachert, Metagabro, Metakomatiíto, Mica xisto, Rocha calcissilicática', 'Formação ferrífera bandada, Grafita xisto, Metabasalto, Metachert', 'Grafita xisto, Metabasalto, Metachert, Metamáfica, Metatufo, Muscovita quartzito, Muscovita-biotita xisto, Rocha metaultramáfica, Sericita xisto, Turmalinito', 'Grafita xisto, Metadiamictito, Quartzo xisto, Rocha calcissilicática', 'Biotita xisto, Formação ferrífera bandada, Gnaisse, Grafita xisto, Mármore, Metagrauvaca, Metamáfica, Metamarga, Metavulcanoclástica, Mica xisto, Ortoanfibolito, Paragnaisse, Rocha calcissilicática, Rocha metaultramáfica', 'Anfibolito, Clorita xisto, Grafita xisto, Granada-biotita xisto, Paragnaisse, Quartzito micáceo, Talco xisto, Turmalinito', 'Grafita xisto, Xisto aluminoso, Xisto carbonático', 'Biotita gnaisse, Grafita xisto, Metachert, Metarriolito, Metatufo, Xisto, Xisto aluminoso, Xisto carbonático', 'Grafita xisto', 'Chert, Clorita xisto, Grafita xisto, Metaconglomerado, Metatufo, Xisto', 'Dolomito, Filito, Formação ferrífera bandada, Grafita xisto, Metachert, Quartzo xisto, Xisto', 'Formação ferrífera bandada, Grafita xisto, Metachert, Sericita xisto']\n"
     ]
    }
   ],
   "metadata": {}
  },
  {
   "cell_type": "code",
   "execution_count": 28,
   "source": [
    "Grafita_l1kk.plot('SIGLA')"
   ],
   "outputs": [
    {
     "output_type": "display_data",
     "data": {
      "application/vnd.jupyter.widget-view+json": {
       "version_major": 2,
       "version_minor": 0,
       "model_id": "56e68f34a416435a844d32e167723360"
      },
      "text/plain": [
       "Canvas(toolbar=Toolbar(toolitems=[('Home', 'Reset original view', 'home', 'home'), ('Back', 'Back to previous …"
      ]
     },
     "metadata": {}
    },
    {
     "output_type": "execute_result",
     "data": {
      "text/plain": [
       "<AxesSubplot:>"
      ]
     },
     "metadata": {},
     "execution_count": 28
    }
   ],
   "metadata": {}
  },
  {
   "cell_type": "code",
   "execution_count": 40,
   "source": [
    "base = brazil.boundary.plot(color='black',figsize=(12,12))\n",
    "\n",
    "leg_grafitosa_l1kk.plot(ax=base,facecolor='grey')\n",
    "\n",
    "lit_grafitoso_1kk.plot(ax=base,facecolor='black')"
   ],
   "outputs": [
    {
     "output_type": "display_data",
     "data": {
      "application/vnd.jupyter.widget-view+json": {
       "model_id": "bcf565c1a44140f2b3e4a3034e12eec2",
       "version_major": 2,
       "version_minor": 0
      },
      "text/plain": [
       "Canvas(toolbar=Toolbar(toolitems=[('Home', 'Reset original view', 'home', 'home'), ('Back', 'Back to previous …"
      ]
     },
     "metadata": {}
    },
    {
     "output_type": "execute_result",
     "data": {
      "text/plain": [
       "<AxesSubplot:>"
      ]
     },
     "metadata": {},
     "execution_count": 40
    }
   ],
   "metadata": {}
  },
  {
   "cell_type": "code",
   "execution_count": 59,
   "source": [
    "list_gr_100k=mapas_lito_gr_100k\n",
    "indice=0\n",
    "for i in mapas_lito_gr_100k:\n",
    "    print(i)\n",
    "    list_gr_100k[indice] = l_100k[l_100k['MAPA'].str.contains(\"i\")]\n",
    "    indice+=1\n"
   ],
   "outputs": [
    {
     "output_type": "stream",
     "name": "stdout",
     "text": [
      "Carta geológica da folha Cerro Azul\n",
      "Carta geológica da folha Apiaí\n",
      "Carta geológica da folha Coromandel\n",
      "Carta geológica da folha Serra da Tiririca\n",
      "Carta geológica da folha Guarda Mor\n",
      "Carta geológica da folha Cabeceira Grande\n",
      "Carta geológica da folha Ribeirão Arrojado\n",
      "Carta geológica da folha Alpinópolis - UERJ\n",
      "Carta geológica da folha Patos de Minas\n",
      "Carta geológica da folha Paracatu\n",
      "Carta geológica da folha Arrenegado\n",
      "Carta geológica da folha Piumhi - UFRJ\n",
      "Carta geológica da folha Guapé - UERJ\n",
      "Carta geológica da folha Cacimba\n",
      "Carta geológica da folha Itararé\n",
      "Carta geológica da folha Serra da Aldeia\n",
      "Carta geológica da folha Brasilândia\n",
      "Carta geológica da folha Monte Carmelo\n",
      "Carta geológica da folha Lagamar\n",
      "Carta geológica da folha Caiana\n",
      "Carta geológica da folha Paranatinga\n",
      "Carta geológica da folha Monte Azul - UFMG\n"
     ]
    }
   ],
   "metadata": {}
  },
  {
   "cell_type": "code",
   "execution_count": 3,
   "source": [
    "len(list_gr_100k)\n"
   ],
   "outputs": [
    {
     "output_type": "error",
     "ename": "NameError",
     "evalue": "name 'list_gr_100k' is not defined",
     "traceback": [
      "\u001b[0;31m---------------------------------------------------------------------------\u001b[0m",
      "\u001b[0;31mNameError\u001b[0m                                 Traceback (most recent call last)",
      "\u001b[0;32m<ipython-input-3-a4bb31fe68b0>\u001b[0m in \u001b[0;36m<module>\u001b[0;34m\u001b[0m\n\u001b[0;32m----> 1\u001b[0;31m \u001b[0mlen\u001b[0m\u001b[0;34m(\u001b[0m\u001b[0mlist_gr_100k\u001b[0m\u001b[0;34m)\u001b[0m\u001b[0;34m\u001b[0m\u001b[0;34m\u001b[0m\u001b[0m\n\u001b[0m",
      "\u001b[0;31mNameError\u001b[0m: name 'list_gr_100k' is not defined"
     ]
    }
   ],
   "metadata": {}
  },
  {
   "cell_type": "markdown",
   "source": [
    "### Desafio desnecessário para provar meus conhecimentos com for loops:"
   ],
   "metadata": {}
  },
  {
   "cell_type": "code",
   "execution_count": 540,
   "source": [
    "lista_mapa = list(l_1kk.MAPA.unique())\n",
    "print(len(lista_mapa))\n",
    "lista_nome=[]\n",
    "\n",
    "for mapa in lista_mapa:\n",
    "    trash=0\n",
    "    Mapa=[]\n",
    "    for letra in mapa:\n",
    "        if trash<25:\n",
    "            trash+=1\n",
    "        else:\n",
    "            Mapa+=letra\n",
    "    lista_nome += [''.join(Mapa)]"
   ],
   "outputs": [],
   "metadata": {}
  },
  {
   "cell_type": "code",
   "execution_count": null,
   "source": [
    "lista_nome"
   ],
   "outputs": [],
   "metadata": {}
  },
  {
   "cell_type": "code",
   "execution_count": 510,
   "source": [
    "folha=lista_nome\n",
    "indice=0\n",
    "for i in lista_nome:\n",
    "    print(i)\n",
    "    folha[indice] = l_1kk[l_1kk['MAPA'].str.contains(i)].dissolve('MAPA')\n",
    "    indice+=1"
   ],
   "outputs": [
    {
     "output_type": "stream",
     "name": "stdout",
     "text": [
      "Contamana\n",
      "Javari\n",
      "Rio Branco\n",
      "Juruá\n",
      "Içá\n",
      "Pico da Neblina\n",
      "Guaporé\n",
      "Porto Velho\n",
      "Purus\n",
      "Manaus\n",
      "Boa Vista\n",
      "Corumbá\n",
      "Cuiabá\n",
      "Juruena\n",
      "Tapajós\n",
      "Santarém\n",
      "Tumucumaque\n",
      "Uruguaiana\n",
      "Campo Grande\n",
      "Asunción\n",
      "Lagoa Mirim\n",
      "Porto Alegre\n",
      "Curitiba\n",
      "Paranapanema\n",
      "Goiânia\n",
      "Goiás\n",
      "Tocantins\n",
      "Araguaia\n",
      "Belém\n",
      "Macapá\n",
      "Iguape\n",
      "Rio de Janeiro\n",
      "Belo Horizonte\n",
      "Brasília\n",
      "Rio São Francisco\n",
      "Teresina\n",
      "São Luis\n",
      "Vitória\n",
      "Rio Doce\n",
      "Salvador\n",
      "Aracaju\n",
      "Jaguaribe\n",
      "Fortaleza\n",
      "Recife\n",
      "Natal\n"
     ]
    }
   ],
   "metadata": {}
  },
  {
   "cell_type": "code",
   "execution_count": 517,
   "source": [
    "folha[31].plot()"
   ],
   "outputs": [
    {
     "output_type": "display_data",
     "data": {
      "application/vnd.jupyter.widget-view+json": {
       "model_id": "6b1a8e2e6bd64bc784fc7ffc80add64d",
       "version_major": 2,
       "version_minor": 0
      },
      "text/plain": [
       "Canvas(toolbar=Toolbar(toolitems=[('Home', 'Reset original view', 'home', 'home'), ('Back', 'Back to previous …"
      ]
     },
     "metadata": {}
    },
    {
     "output_type": "execute_result",
     "data": {
      "text/plain": [
       "<AxesSubplot:>"
      ]
     },
     "metadata": {},
     "execution_count": 517
    }
   ],
   "metadata": {}
  },
  {
   "cell_type": "markdown",
   "source": [
    "tired for now"
   ],
   "metadata": {}
  },
  {
   "cell_type": "code",
   "execution_count": 544,
   "source": [
    "lista_mapa = list(l_100k.MAPA.unique())\n",
    "lista_mapa"
   ],
   "outputs": [
    {
     "output_type": "execute_result",
     "data": {
      "text/plain": [
       "['Carta geológica da folha Paulo Saldanha',\n",
       " 'Carta geológica da folha Rio Tanaru - SD.20-X-B-IV',\n",
       " 'Carta geológica da folha Roncador',\n",
       " 'Carta geológica da folha Rio Pardo',\n",
       " 'Carta geológica da folha Pimenta Bueno',\n",
       " 'Carta geológica da folha Serra da Providência',\n",
       " 'Carta geológica da folha Ji Paraná',\n",
       " 'Carta geológica da folha Vila Nova',\n",
       " 'Carta geológica da folha Vila de Tepequém',\n",
       " 'Carta geológica da folha Betânia - UFMT',\n",
       " 'Carta geológica da folha Rio Escondido',\n",
       " 'Carta geológica da folha Ilha do Porto',\n",
       " 'Carta geológica da folha Porto Triunfo SD.20-X-B-V',\n",
       " 'Carta geológica da folha NA-20-Z-D-III',\n",
       " 'Carta geológica da folha Novo Paraíso',\n",
       " 'Carta geológica da folha Santa Rita - UFMT',\n",
       " 'Carta geológica da folha Santa Barbara - UFMT',\n",
       " 'Carta geológica da folha Serra da Borda',\n",
       " 'Carta geológica da folha Rio Novo',\n",
       " 'Carta geológica da folha Rio Pindaituba - UFMT',\n",
       " 'Carta geológica da folha Vila Oeste',\n",
       " 'Carta geológica da folha Jauru - UFMT',\n",
       " 'Carta geológica da folha Rio Branco - UFMT',\n",
       " 'Carta geológica da folha Ilha Porto Escondido',\n",
       " 'Carta geológica da folha Colônia São Lourenço',\n",
       " 'Carta geológica da folha Fazenda Santa Otília',\n",
       " 'Carta geológica da folha Aldeia Tomázia',\n",
       " 'Carta geológica da folha Rio Perdido',\n",
       " 'Carta geológica da folha Fazenda Margarida',\n",
       " 'Carta geológica da folha Vila Campão',\n",
       " 'Carta geológica da folha São Domingos',\n",
       " 'Carta geológica da folha Rio Ratão',\n",
       " 'Carta geológica da folha Cuiú-Cuiú',\n",
       " 'Carta geológica da folha Cachoeira Seca',\n",
       " 'Carta geológica da folha Vila Planalto',\n",
       " 'Carta geológica da folha Ilha Mambuai',\n",
       " 'Carta geológica da folha Uruá',\n",
       " 'Carta geológica da folha Barão de Melgaço - UFMT',\n",
       " 'Carta geológica da folha Rio Nhandu',\n",
       " 'Carta geológica da folha Jardim do Ouro',\n",
       " 'Carta geológica da folha Igrejinha - UNISINOS',\n",
       " 'Carta geológica da folha Bagé',\n",
       " 'Carta geológica da folha Aceguá',\n",
       " 'Carta geológica da folha Lagoa da Meia Lua',\n",
       " 'Carta geológica da folha Brasilândia',\n",
       " 'Carta geológica da folha Cacimba',\n",
       " 'Carta geológica da folha Paranatinga',\n",
       " 'Carta geológica da folha Rio Braço Sul',\n",
       " 'Carta geológica da folha Serra do Cachimbo',\n",
       " 'Carta geológica da folha Curral de Pedras',\n",
       " 'Carta geológica da folha Arroio Grande',\n",
       " 'Carta geológica da folha Jaguarão',\n",
       " 'Carta geológica da folha Passo São Diogo',\n",
       " 'Carta geológica da folha Hulha Negra',\n",
       " 'Carta geológica da folha Pinheiro Machado',\n",
       " 'Carta geológica da folha Lavras do Sul',\n",
       " 'Carta geológica da folha Santa Maria - RS',\n",
       " 'Carta geológica da folha Sobradinho',\n",
       " 'Carta geológica da folha Agudo',\n",
       " 'Carta geológica da folha Três Passos',\n",
       " 'Carta geológica da folha Frederico Westphalen',\n",
       " 'Carta geológica da folha Matarazzo',\n",
       " 'Carta geológica da folha Pelotas',\n",
       " 'Carta geológica da folha Pedro Osório',\n",
       " 'Carta geológica da folha Placa Nativa',\n",
       " 'Carta geológica da folha Nova Xavantina',\n",
       " 'Carta geológica da folha Rio Bacajá - UFPR',\n",
       " 'Carta geológica da folha Gravataí - UFRGS',\n",
       " 'Carta geológica da folha Sanclerlândia',\n",
       " 'Carta geológica da folha Rio Inajá',\n",
       " 'Carta geológica da folha São João Batista',\n",
       " 'Carta geológica da folha Marajoara',\n",
       " 'Carta geológica da folha Caldeirão',\n",
       " 'Carta geológica da folha Itararé',\n",
       " 'Carta geológica da folha Cerro Azul',\n",
       " 'Carta geológica da folha Itaberaí',\n",
       " 'Carta geológica da folha Nazário',\n",
       " 'Carta geológica da folha Santa Teresinha de Goiás - UNB',\n",
       " 'Carta geológica da folha Campinorte - UNB',\n",
       " 'Carta geológica da folha Novo Planalto',\n",
       " 'Carta geológica da folha Porangatu - UNB',\n",
       " 'Carta geológica da folha Serra Pelada',\n",
       " 'Carta geológica da folha Apiaí',\n",
       " 'Carta geológica da folha Eldorado Paulista',\n",
       " 'Carta geológica da folha Mata Azul',\n",
       " 'Carta geológica da folha Belém 100.000',\n",
       " 'Carta geológica da folha Iguape',\n",
       " 'Carta geológica da folha Registro',\n",
       " 'Carta geológica da folha Monte Carmelo',\n",
       " 'Carta geológica da folha Coromandel',\n",
       " 'Carta geológica da folha Serra da Tiririca',\n",
       " 'Carta geológica da folha Guarda Mor',\n",
       " 'Carta geológica da folha Paracatu',\n",
       " 'Carta geológica da folha Cabeceira Grande',\n",
       " 'Carta geológica da folha Ribeirão Arrojado',\n",
       " 'Carta geológica da folha Cavalcante - UNB',\n",
       " 'Carta geológica da folha Imperatriz',\n",
       " 'Carta geológica da folha Alpinópolis - UERJ',\n",
       " 'Carta geológica da folha Lagamar',\n",
       " 'Carta geológica da folha Patos de Minas',\n",
       " 'Carta geológica da folha Arrenegado',\n",
       " 'Carta geológica da folha Unaí',\n",
       " 'Carta geológica da folha Serra da Aldeia',\n",
       " 'Carta geológica da folha Monte Alegre de Goiás - UNB',\n",
       " 'Carta geológica da folha Nova Roma - UNB',\n",
       " 'Carta geológica da folha Centro Novo do Maranhão',\n",
       " 'Carta geológica da folha Santa Luzia do Pará',\n",
       " 'Carta geológica da folha Cândido Mendes',\n",
       " 'Carta geológica da folha Campos do Jordão - UFRJ/FUJB',\n",
       " 'Carta geológica da folha Pouso Alegre - UFRJ/FUJB',\n",
       " 'Carta geológica da folha Itajubá - UFRJ',\n",
       " 'Carta geológica da folha Pindamonhangaba - UFRJ/FUJB',\n",
       " 'Carta geológica da folha Campo Belo - UFOP',\n",
       " 'Carta geológica da folha Machado - UFRJ/FUJB',\n",
       " 'Carta geológica da folha Alfenas - UFRJ/FUJB',\n",
       " 'Carta geológica da folha Varginha - UFRJ',\n",
       " 'Carta geológica da folha Nepomuceno - UFRJ',\n",
       " 'Carta geológica da folha Guapé - UERJ',\n",
       " 'Carta geológica da folha Piumhi - UFRJ',\n",
       " 'Carta geológica da folha Divinópolis',\n",
       " 'Carta geológica da folha Bom Despacho',\n",
       " 'Carta geológica da folha Abaeté',\n",
       " 'Carta geológica da folha Cristalândia do Piauí',\n",
       " 'Carta geológica da folha Angra dos Reis - UERJ',\n",
       " 'Carta geológica da folha Santa Rita de Jacutinga - UERJ',\n",
       " 'Carta geológica da folha Volta Redonda - UERJ',\n",
       " 'Carta geológica da folha Oliveira - UFOP',\n",
       " 'Carta geológica da folha Entre Rios de Minas',\n",
       " 'Carta geológica da folha Igarapé',\n",
       " 'Carta geológica da folha Pompéu',\n",
       " 'Carta geológica da folha Pará de Minas - UFMG',\n",
       " 'Carta geológica da folha Sete Lagoas',\n",
       " 'Carta geológica da folha Contagem',\n",
       " 'Carta geológica da folha Andrequice - UFMG',\n",
       " 'Carta geológica da folha Morro da Garça - UFMG',\n",
       " 'Carta geológica da folha Corinto - UFMG',\n",
       " 'Carta geológica da folha Curvelo - UFMG',\n",
       " 'Carta geológica da folha Serra do Cabral - UFMG',\n",
       " 'Carta geológica da folha Jequitaí - UFMG',\n",
       " 'Carta geológica da folha Santa Maria da Vitória',\n",
       " 'Carta geológica da folha Rio Paraim',\n",
       " 'Carta geológica da folha Parnaguá',\n",
       " 'Carta geológica da folha Curimatá',\n",
       " 'Carta geológica da folha Mansidão',\n",
       " 'Carta geológica da folha Baia de Guanabara - UERJ',\n",
       " 'Carta geológica da folha Barra do Piraí - UERJ',\n",
       " 'Carta geológica da folha Três Rios - UERJ',\n",
       " 'Carta geológica da folha Conselheiro Lafaiete',\n",
       " 'Carta geológica da folha Baldim',\n",
       " 'Carta geológica da folha Belo Horizonte',\n",
       " 'Carta geológica da folha Bocaiuva - UFMG',\n",
       " 'Carta geológica da folha Montes Claros - UFMG',\n",
       " 'Carta geológica da folha Ibotirama',\n",
       " 'Carta geológica da folha Barra',\n",
       " 'Carta geológica da folha Morpará',\n",
       " 'Carta geológica da folha Avelino Lopes',\n",
       " 'Carta geológica da folha Cabeças no Tempo',\n",
       " 'Carta geológica da folha Peixe',\n",
       " 'Carta geológica da folha Nova Friburgo - UERJ',\n",
       " 'Carta geológica da folha Cabo Frio - UERJ',\n",
       " 'Carta geológica da folha Casimiro de Abreu - UERJ',\n",
       " 'Carta geológica da folha Santo Antônio de Pádua - UERJ',\n",
       " 'Carta geológica da folha Viçosa - UFMG',\n",
       " 'Carta geológica da folha Carangola - UFMG',\n",
       " 'Carta geológica da folha Manhuaçú - UFMG',\n",
       " 'Carta geológica da folha Monte Azul - UFMG',\n",
       " 'Carta geológica da folha Taiobeiras - UFMG',\n",
       " 'Carta geológica da folha Caetité - UFBA',\n",
       " 'Carta geológica da folha Macaúbas',\n",
       " 'Carta geológica da folha Riacho de Santana',\n",
       " 'Carta geológica da folha Boquira',\n",
       " 'Carta geológica da folha Oliveira dos Brejinhos',\n",
       " 'Carta geológica da folha Ouricuri do Ouro',\n",
       " 'Carta geológica da folha Ipupiara',\n",
       " 'Carta geológica da folha Gentio do Ouro',\n",
       " 'Carta geológica da folha Barra do Mendes',\n",
       " 'Carta geológica da folha Central',\n",
       " 'Carta geológica da folha São Raimundo Nonato',\n",
       " 'Carta geológica da folha Remanso',\n",
       " 'Carta geológica da folha Bom Jardim',\n",
       " 'Carta geológica da folha Barragem',\n",
       " 'Carta geológica da folha Rio das Ostras - UERJ',\n",
       " 'Carta geológica da folha Macaé - UERJ',\n",
       " 'Carta geológica da folha Itaperuna - UERJ',\n",
       " 'Carta geológica da folha São Fidelis - UERJ',\n",
       " 'Carta geológica da folha Espera Feliz - UFMG',\n",
       " 'Carta geológica da folha Manhumirim - UFMG',\n",
       " 'Carta geológica da folha Itaobim',\n",
       " 'Carta geológica da folha Comercinho',\n",
       " 'Carta geológica da folha Jequitinhonha',\n",
       " 'Carta geológica da folha Joaima',\n",
       " 'Carta geológica da folha Condeúba',\n",
       " 'Carta geológica da folha Brumado',\n",
       " 'Carta geológica da folha Tanhaçu',\n",
       " 'Carta geológica da folha Rio de Contas',\n",
       " 'Carta geológica da folha Tombador',\n",
       " 'Carta geológica da folha Lagoa do Alegre',\n",
       " 'Carta geológica da folha Casa Nova',\n",
       " 'Carta geológica da folha Serra dos Brejinhos',\n",
       " 'Carta geológica da folha Riacho Queimadas',\n",
       " 'Carta geológica da folha Parambu',\n",
       " 'Carta geológica da folha Guarapari - UFES',\n",
       " 'Carta geológica da folha Vitória - UFES',\n",
       " 'Carta geológica da folha São Gabriel da Palha',\n",
       " 'Carta geológica da folha Aracruz - UFES',\n",
       " 'Carta geológica da folha Linhares',\n",
       " 'Carta geológica da folha Mantena - UFMG',\n",
       " 'Carta geológica da folha Ecoporanga - UFMG',\n",
       " 'Carta geológica da folha Nova Venécia - UFMG',\n",
       " 'Carta geológica da folha Montanha - UFMG',\n",
       " 'Carta geológica da folha Almenara',\n",
       " 'Carta geológica da folha Rio do Prado',\n",
       " 'Carta geológica da folha Manoel Vitorino',\n",
       " 'Carta geológica da folha Maracás',\n",
       " 'Carta geológica da folha Jequié',\n",
       " 'Carta geológica da folha Ruy Barbosa',\n",
       " 'Carta geológica da folha Itaberaba',\n",
       " 'Carta geológica da folha Piritiba',\n",
       " 'Carta geológica da folha Jacobina',\n",
       " 'Carta geológica da folha Mirangaba',\n",
       " 'Carta geológica da folha Caldeirão Grande',\n",
       " 'Carta geológica da folha Mundo Novo',\n",
       " 'Carta geológica da folha Brejão da Caatinga',\n",
       " 'Carta geológica da folha Campo Formoso',\n",
       " 'Carta geológica da folha Senhor do Bonfim',\n",
       " 'Carta geológica da folha Campo dos Cavalos',\n",
       " 'Carta geológica da folha Petrolina',\n",
       " 'Carta geológica da folha Itamontinga',\n",
       " 'Carta geológica da folha Juremal',\n",
       " 'Carta geológica da folha Cristália',\n",
       " 'Carta geológica da folha Cruz de Malta',\n",
       " 'Carta geológica da folha Fronteiras',\n",
       " 'Carta geológica da folha Ouricuri',\n",
       " 'Carta geológica da folha Pio IX - UFC',\n",
       " 'Carta geológica da folha Novo Oriente',\n",
       " 'Carta geológica da folha Crateus',\n",
       " 'Carta geológica da folha Independência',\n",
       " 'Carta geológica da folha Várzea do Boi',\n",
       " 'Carta geológica da folha Ipu - UFPA',\n",
       " 'Carta geológica da folha Ipueiras',\n",
       " 'Carta geológica da folha Granja -UFC',\n",
       " 'Carta geológica da folha Sobral - UFPA',\n",
       " 'Carta geológica da folha Irauçuba',\n",
       " 'Carta geológica da folha Regência - UFES',\n",
       " 'Carta geológica da folha Ipiau - UFBA',\n",
       " 'Carta geológica da folha Amargosa - UFBA',\n",
       " 'Carta geológica da folha Jaguaquara - UFBA',\n",
       " 'Carta geológica da folha Andorinha',\n",
       " 'Carta geológica da folha Monte Santo',\n",
       " 'Carta geológica da folha Barro Vermelho',\n",
       " 'Carta geológica da folha Pinhões',\n",
       " 'Carta geológica da folha Uauá',\n",
       " 'Carta geológica da folha Macururé',\n",
       " 'Carta geológica da folha Santa Maria da Boa Vista',\n",
       " 'Carta geológica da folha Parnamirim',\n",
       " 'Carta geológica da folha Chorrochó',\n",
       " 'Carta geológica da folha Salgueiro',\n",
       " 'Carta geológica da folha Bodocó',\n",
       " 'Carta geológica da folha Jardim',\n",
       " 'Carta geológica da folha Cedro',\n",
       " 'Carta geológica da folha Mombaça',\n",
       " 'Carta geológica da folha Boa Viagem - UFC',\n",
       " 'Carta geológica da folha Senador Pompeu',\n",
       " 'Carta geológica da folha Quixeramobim - UFC',\n",
       " 'Carta geológica da folha Taperuaba - UFC',\n",
       " 'Carta geológica da folha Itatira - UFC',\n",
       " 'Carta geológica da folha Quixadá 100.000',\n",
       " 'Carta geológica da folha Itapipoca',\n",
       " 'Carta geológica da folha Caimbé',\n",
       " 'Carta geológica da folha Ribeira do Pombal',\n",
       " 'Carta geológica da folha Jeremoabo',\n",
       " 'Carta geológica da folha Cícero Dantas',\n",
       " 'Carta geológica da folha Mirandiba',\n",
       " 'Carta geológica da folha Serra Talhada - UFPE',\n",
       " 'Carta geológica da folha Cajazeiras',\n",
       " 'Carta geológica da folha Pau dos Ferros - UFRN',\n",
       " 'Carta geológica da folha Banabuiú',\n",
       " 'Carta geológica da folha Jaguaretama - UFC',\n",
       " 'Carta geológica da folha Baturité',\n",
       " 'Carta geológica da folha Itapiúna',\n",
       " 'Carta geológica da folha Poço da Cruz - UFPE',\n",
       " 'Carta geológica da folha Sertânia',\n",
       " 'Carta geológica da folha Buíque',\n",
       " 'Carta geológica da folha Apodi - UFRN',\n",
       " 'Carta geológica da folha Mossoró - UFRN',\n",
       " 'Carta geológica da folha Pesqueira',\n",
       " 'Carta geológica da folha Venturosa - UFPE',\n",
       " 'Carta geológica da folha Belo Jardim - UFPE',\n",
       " 'Carta geológica da folha Garanhuns - UFPE',\n",
       " 'Carta geológica da folha Juazeirinho',\n",
       " 'Carta geológica da folha Santa Cruz do Capibaribe',\n",
       " 'Carta geológica da folha Boqueirão',\n",
       " 'Carta geológica da folha Currais Novos',\n",
       " 'Carta geológica da folha Jardim do Seridó - UFRN',\n",
       " 'Carta geológica e de recursos minerais da folha Santa Cruz',\n",
       " 'Carta geológica da folha Macau - UFRN',\n",
       " 'Carta geológica da folha Jandaira - UFRN',\n",
       " 'Carta geológica e de recursos minerais da folha Lajes',\n",
       " 'Carta geológica da folha Surubim - UFPE',\n",
       " 'Carta geológica da folha Campina Grande',\n",
       " 'Carta geológica da folha Sapé - UFPE',\n",
       " 'Carta geológica da folha São José do Campestre-UnB',\n",
       " 'Carta geológica da folha Solânea - UFPE',\n",
       " 'Carta geológica da folha São José do Mipibu',\n",
       " 'Carta geológica da folha Guarabira - UFPE',\n",
       " 'Carta geológica da folha Cabedelo - UFPE',\n",
       " 'Carta geológica da folha João Camara - UnB',\n",
       " 'Carta geológica da folha Natal - UFRN',\n",
       " 'Carta geológica da folha Touros - UFRN',\n",
       " 'Carta geológica da folha Itamaracá - UFPE',\n",
       " 'Carta geológica da folha Caiana']"
      ]
     },
     "metadata": {},
     "execution_count": 544
    }
   ],
   "metadata": {}
  },
  {
   "cell_type": "code",
   "execution_count": 546,
   "source": [
    "lista_nome=[]\n",
    "for mapa in lista_mapa:\n",
    "    trash=0\n",
    "    Mapa=[]\n",
    "    for letra in mapa:\n",
    "        if trash<25:\n",
    "            trash+=1\n",
    "        else:\n",
    "            Mapa+=letra\n",
    "    lista_nome += [''.join(Mapa)]"
   ],
   "outputs": [],
   "metadata": {}
  },
  {
   "cell_type": "code",
   "execution_count": 547,
   "source": [
    "len(lista_nome)"
   ],
   "outputs": [
    {
     "output_type": "execute_result",
     "data": {
      "text/plain": [
       "311"
      ]
     },
     "metadata": {},
     "execution_count": 547
    }
   ],
   "metadata": {}
  },
  {
   "cell_type": "code",
   "execution_count": 549,
   "source": [
    "folha=lista_nome\n",
    "indice=0\n",
    "for i in lista_nome:\n",
    "    print(i)\n",
    "    folha[indice] = l_100k[l_100k['MAPA'].str.contains(i)].dissolve('MAPA')\n",
    "    indice+=1"
   ],
   "outputs": [
    {
     "output_type": "stream",
     "name": "stdout",
     "text": [
      "Paulo Saldanha\n",
      "Rio Tanaru - SD.20-X-B-IV\n",
      "Roncador\n",
      "Rio Pardo\n",
      "Pimenta Bueno\n",
      "Serra da Providência\n",
      "Ji Paraná\n",
      "Vila Nova\n",
      "Vila de Tepequém\n",
      "Betânia - UFMT\n",
      "Rio Escondido\n",
      "Ilha do Porto\n",
      "Porto Triunfo SD.20-X-B-V\n",
      "NA-20-Z-D-III\n",
      "Novo Paraíso\n",
      "Santa Rita - UFMT\n",
      "Santa Barbara - UFMT\n",
      "Serra da Borda\n",
      "Rio Novo\n",
      "Rio Pindaituba - UFMT\n",
      "Vila Oeste\n",
      "Jauru - UFMT\n",
      "Rio Branco - UFMT\n",
      "Ilha Porto Escondido\n",
      "Colônia São Lourenço\n",
      "Fazenda Santa Otília\n",
      "Aldeia Tomázia\n",
      "Rio Perdido\n",
      "Fazenda Margarida\n",
      "Vila Campão\n",
      "São Domingos\n",
      "Rio Ratão\n",
      "Cuiú-Cuiú\n",
      "Cachoeira Seca\n",
      "Vila Planalto\n",
      "Ilha Mambuai\n",
      "Uruá\n",
      "Barão de Melgaço - UFMT\n",
      "Rio Nhandu\n",
      "Jardim do Ouro\n",
      "Igrejinha - UNISINOS\n",
      "Bagé\n",
      "Aceguá\n",
      "Lagoa da Meia Lua\n",
      "Brasilândia\n",
      "Cacimba\n",
      "Paranatinga\n",
      "Rio Braço Sul\n",
      "Serra do Cachimbo\n",
      "Curral de Pedras\n",
      "Arroio Grande\n",
      "Jaguarão\n",
      "Passo São Diogo\n",
      "Hulha Negra\n",
      "Pinheiro Machado\n",
      "Lavras do Sul\n",
      "Santa Maria - RS\n",
      "Sobradinho\n",
      "Agudo\n",
      "Três Passos\n",
      "Frederico Westphalen\n",
      "Matarazzo\n",
      "Pelotas\n",
      "Pedro Osório\n",
      "Placa Nativa\n",
      "Nova Xavantina\n",
      "Rio Bacajá - UFPR\n",
      "Gravataí - UFRGS\n",
      "Sanclerlândia\n",
      "Rio Inajá\n",
      "São João Batista\n",
      "Marajoara\n",
      "Caldeirão\n",
      "Itararé\n",
      "Cerro Azul\n",
      "Itaberaí\n",
      "Nazário\n",
      "Santa Teresinha de Goiás - UNB\n",
      "Campinorte - UNB\n",
      "Novo Planalto\n",
      "Porangatu - UNB\n",
      "Serra Pelada\n",
      "Apiaí\n",
      "Eldorado Paulista\n",
      "Mata Azul\n",
      "Belém 100.000\n",
      "Iguape\n",
      "Registro\n",
      "Monte Carmelo\n",
      "Coromandel\n",
      "Serra da Tiririca\n",
      "Guarda Mor\n",
      "Paracatu\n",
      "Cabeceira Grande\n",
      "Ribeirão Arrojado\n",
      "Cavalcante - UNB\n",
      "Imperatriz\n",
      "Alpinópolis - UERJ\n",
      "Lagamar\n",
      "Patos de Minas\n",
      "Arrenegado\n",
      "Unaí\n",
      "Serra da Aldeia\n",
      "Monte Alegre de Goiás - UNB\n",
      "Nova Roma - UNB\n",
      "Centro Novo do Maranhão\n",
      "Santa Luzia do Pará\n",
      "Cândido Mendes\n",
      "Campos do Jordão - UFRJ/FUJB\n",
      "Pouso Alegre - UFRJ/FUJB\n",
      "Itajubá - UFRJ\n",
      "Pindamonhangaba - UFRJ/FUJB\n",
      "Campo Belo - UFOP\n",
      "Machado - UFRJ/FUJB\n",
      "Alfenas - UFRJ/FUJB\n",
      "Varginha - UFRJ\n",
      "Nepomuceno - UFRJ\n",
      "Guapé - UERJ\n",
      "Piumhi - UFRJ\n",
      "Divinópolis\n",
      "Bom Despacho\n",
      "Abaeté\n",
      "Cristalândia do Piauí\n",
      "Angra dos Reis - UERJ\n",
      "Santa Rita de Jacutinga - UERJ\n",
      "Volta Redonda - UERJ\n",
      "Oliveira - UFOP\n",
      "Entre Rios de Minas\n",
      "Igarapé\n",
      "Pompéu\n",
      "Pará de Minas - UFMG\n",
      "Sete Lagoas\n",
      "Contagem\n",
      "Andrequice - UFMG\n",
      "Morro da Garça - UFMG\n",
      "Corinto - UFMG\n",
      "Curvelo - UFMG\n",
      "Serra do Cabral - UFMG\n",
      "Jequitaí - UFMG\n",
      "Santa Maria da Vitória\n",
      "Rio Paraim\n",
      "Parnaguá\n",
      "Curimatá\n",
      "Mansidão\n",
      "Baia de Guanabara - UERJ\n",
      "Barra do Piraí - UERJ\n",
      "Três Rios - UERJ\n",
      "Conselheiro Lafaiete\n",
      "Baldim\n",
      "Belo Horizonte\n",
      "Bocaiuva - UFMG\n",
      "Montes Claros - UFMG\n",
      "Ibotirama\n",
      "Barra\n",
      "Morpará\n",
      "Avelino Lopes\n",
      "Cabeças no Tempo\n",
      "Peixe\n",
      "Nova Friburgo - UERJ\n",
      "Cabo Frio - UERJ\n",
      "Casimiro de Abreu - UERJ\n",
      "Santo Antônio de Pádua - UERJ\n",
      "Viçosa - UFMG\n",
      "Carangola - UFMG\n",
      "Manhuaçú - UFMG\n",
      "Monte Azul - UFMG\n",
      "Taiobeiras - UFMG\n",
      "Caetité - UFBA\n",
      "Macaúbas\n",
      "Riacho de Santana\n",
      "Boquira\n",
      "Oliveira dos Brejinhos\n",
      "Ouricuri do Ouro\n",
      "Ipupiara\n",
      "Gentio do Ouro\n",
      "Barra do Mendes\n",
      "Central\n",
      "São Raimundo Nonato\n",
      "Remanso\n",
      "Bom Jardim\n",
      "Barragem\n",
      "Rio das Ostras - UERJ\n",
      "Macaé - UERJ\n",
      "Itaperuna - UERJ\n",
      "São Fidelis - UERJ\n",
      "Espera Feliz - UFMG\n",
      "Manhumirim - UFMG\n",
      "Itaobim\n",
      "Comercinho\n",
      "Jequitinhonha\n",
      "Joaima\n",
      "Condeúba\n",
      "Brumado\n",
      "Tanhaçu\n",
      "Rio de Contas\n",
      "Tombador\n",
      "Lagoa do Alegre\n",
      "Casa Nova\n",
      "Serra dos Brejinhos\n",
      "Riacho Queimadas\n",
      "Parambu\n",
      "Guarapari - UFES\n",
      "Vitória - UFES\n",
      "São Gabriel da Palha\n",
      "Aracruz - UFES\n",
      "Linhares\n",
      "Mantena - UFMG\n",
      "Ecoporanga - UFMG\n",
      "Nova Venécia - UFMG\n",
      "Montanha - UFMG\n",
      "Almenara\n",
      "Rio do Prado\n",
      "Manoel Vitorino\n",
      "Maracás\n",
      "Jequié\n",
      "Ruy Barbosa\n",
      "Itaberaba\n",
      "Piritiba\n",
      "Jacobina\n",
      "Mirangaba\n",
      "Caldeirão Grande\n",
      "Mundo Novo\n",
      "Brejão da Caatinga\n",
      "Campo Formoso\n",
      "Senhor do Bonfim\n",
      "Campo dos Cavalos\n",
      "Petrolina\n",
      "Itamontinga\n",
      "Juremal\n",
      "Cristália\n",
      "Cruz de Malta\n",
      "Fronteiras\n",
      "Ouricuri\n",
      "Pio IX - UFC\n",
      "Novo Oriente\n",
      "Crateus\n",
      "Independência\n",
      "Várzea do Boi\n",
      "Ipu - UFPA\n",
      "Ipueiras\n",
      "Granja -UFC\n",
      "Sobral - UFPA\n",
      "Irauçuba\n",
      "Regência - UFES\n",
      "Ipiau - UFBA\n",
      "Amargosa - UFBA\n",
      "Jaguaquara - UFBA\n",
      "Andorinha\n",
      "Monte Santo\n",
      "Barro Vermelho\n",
      "Pinhões\n",
      "Uauá\n",
      "Macururé\n",
      "Santa Maria da Boa Vista\n",
      "Parnamirim\n",
      "Chorrochó\n",
      "Salgueiro\n",
      "Bodocó\n",
      "Jardim\n",
      "Cedro\n",
      "Mombaça\n",
      "Boa Viagem - UFC\n",
      "Senador Pompeu\n",
      "Quixeramobim - UFC\n",
      "Taperuaba - UFC\n",
      "Itatira - UFC\n",
      "Quixadá 100.000\n",
      "Itapipoca\n",
      "Caimbé\n",
      "Ribeira do Pombal\n",
      "Jeremoabo\n",
      "Cícero Dantas\n",
      "Mirandiba\n",
      "Serra Talhada - UFPE\n",
      "Cajazeiras\n",
      "Pau dos Ferros - UFRN\n",
      "Banabuiú\n",
      "Jaguaretama - UFC\n",
      "Baturité\n",
      "Itapiúna\n",
      "Poço da Cruz - UFPE\n",
      "Sertânia\n",
      "Buíque\n",
      "Apodi - UFRN\n",
      "Mossoró - UFRN\n",
      "Pesqueira\n",
      "Venturosa - UFPE\n",
      "Belo Jardim - UFPE\n",
      "Garanhuns - UFPE\n",
      "Juazeirinho\n",
      "Santa Cruz do Capibaribe\n",
      "Boqueirão\n",
      "Currais Novos\n",
      "Jardim do Seridó - UFRN\n",
      "rsos minerais da folha Santa Cruz\n",
      "Macau - UFRN\n",
      "Jandaira - UFRN\n",
      "rsos minerais da folha Lajes\n",
      "Surubim - UFPE\n",
      "Campina Grande\n",
      "Sapé - UFPE\n",
      "São José do Campestre-UnB\n",
      "Solânea - UFPE\n",
      "São José do Mipibu\n",
      "Guarabira - UFPE\n",
      "Cabedelo - UFPE\n",
      "João Camara - UnB\n",
      "Natal - UFRN\n",
      "Touros - UFRN\n",
      "Itamaracá - UFPE\n",
      "Caiana\n"
     ]
    }
   ],
   "metadata": {}
  },
  {
   "cell_type": "code",
   "execution_count": 550,
   "source": [
    "len(folha)"
   ],
   "outputs": [
    {
     "output_type": "execute_result",
     "data": {
      "text/plain": [
       "311"
      ]
     },
     "metadata": {},
     "execution_count": 550
    }
   ],
   "metadata": {}
  }
 ],
 "metadata": {
  "interpreter": {
   "hash": "044c3e0300da4fa3c2a1f13c93c64a53d39114a9c33e72628e43c9ffd211a0b1"
  },
  "kernelspec": {
   "name": "python3",
   "display_name": "Python 3.8.11 64-bit ('geologist_bot': conda)"
  },
  "language_info": {
   "codemirror_mode": {
    "name": "ipython",
    "version": 3
   },
   "file_extension": ".py",
   "mimetype": "text/x-python",
   "name": "python",
   "nbconvert_exporter": "python",
   "pygments_lexer": "ipython3",
   "version": "3.8.11"
  }
 },
 "nbformat": 4,
 "nbformat_minor": 2
}