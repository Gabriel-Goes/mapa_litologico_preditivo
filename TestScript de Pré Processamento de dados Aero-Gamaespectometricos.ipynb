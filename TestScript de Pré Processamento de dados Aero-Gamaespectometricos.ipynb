{
 "cells": [
  {
   "cell_type": "code",
   "execution_count": 2,
   "metadata": {},
   "outputs": [],
   "source": [
    "from scripts.get_region import get_region"
   ]
  },
  {
   "cell_type": "code",
   "execution_count": 3,
   "metadata": {},
   "outputs": [],
   "source": [
    "import matplotlib.pyplot as plt\n",
    "plt.rcParams['figure.dpi'] = 120\n",
    "%matplotlib widget     "
   ]
  },
  {
   "cell_type": "code",
   "execution_count": 4,
   "metadata": {},
   "outputs": [
    {
     "name": "stdout",
     "output_type": "stream",
     "text": [
      "\n",
      "# Importando dados\n",
      "Diretório de dados aerogeofisicos brutos: /home/ggrl/geodatabase/geof/mag_tie_1105\n",
      "Diretório de dados litologicos brutos: /home/ggrl/geodatabase/geodatabase.gpkg\n",
      "\n",
      "# -- Lista de camadas vetoriais disponiveis: ['aflora', 'am_petro', 'proj_cprm', 'socorro_250k', 'proj_aerogeof', 'malha_cartog_50k_wgs84', 'malha_cartog_25k_wgs84', 'malha_cartog_100k_wgs84', 'malha_cartog_250k_wgs84', 'malha_cartog_1kk_wgs84', 'litologia_1kk', 'litologia_250k', 'litologia_100k', 'litologia_50k']\n",
      "# -- Selecionando Folhas Cartograficas\n",
      "# --- Iniciando seleção de área de estudo\n",
      "EPSG:32723\n",
      "# --- Construindo Dicionario de Cartas\n",
      "1 folha cartográfica selecionada\n",
      "\n",
      "Listando atributos dos dados geofisicos\n"
     ]
    },
    {
     "name": "stderr",
     "output_type": "stream",
     "text": [
      "100%|██████████| 8/8 [00:00<00:00, 115704.94it/s]"
     ]
    },
    {
     "name": "stdout",
     "output_type": "stream",
     "text": [
      "# --- # Listagem de dados do aerolevantamento:  \n",
      "Lista de atributos geofísicos = ['ALTURA', 'MDT', 'ALTURA_1', 'MAGIGRF']\n",
      "lista de atributos geograficos = ['LATITUDE', 'LONGITUDE']\n",
      "lista de atributos projetados = ['X', 'Y']\n"
     ]
    },
    {
     "name": "stderr",
     "output_type": "stream",
     "text": [
      "\n"
     ]
    },
    {
     "name": "stdout",
     "output_type": "stream",
     "text": [
      "# -- Contruindo dicionario de metadados\n",
      "\n",
      "# --- Início da iteração entre as folhas cartográficas #\n"
     ]
    },
    {
     "name": "stderr",
     "output_type": "stream",
     "text": [
      "0it [00:00, ?it/s]"
     ]
    },
    {
     "name": "stdout",
     "output_type": "stream",
     "text": [
      "# Folha de código: SF23\n",
      " Atualizando dados brutos em dic_cartas['raw_data']\n",
      " com 705018 pontos de amostragem\n",
      "epsg:32723\n"
     ]
    },
    {
     "name": "stderr",
     "output_type": "stream",
     "text": [
      "1it [00:11, 11.83s/it]"
     ]
    },
    {
     "name": "stdout",
     "output_type": "stream",
     "text": [
      " Atualizando dados geologicos em dic_cartas['litologia']\n",
      " com 2912 poligonos descritos por                         27 atributos geologicos \n"
     ]
    },
    {
     "name": "stderr",
     "output_type": "stream",
     "text": [
      "\n"
     ]
    }
   ],
   "source": [
    "mag_t_sf23, b = get_region('250k','SF23','mag_tie_1105','litologia_1kk')"
   ]
  },
  {
   "cell_type": "code",
   "execution_count": 5,
   "metadata": {},
   "outputs": [
    {
     "name": "stdout",
     "output_type": "stream",
     "text": [
      "\n",
      "# Importando dados\n",
      "Diretório de dados aerogeofisicos brutos: /home/ggrl/geodatabase/geof/mag_tie_1105\n",
      "Diretório de dados litologicos brutos: /home/ggrl/geodatabase/geodatabase.gpkg\n",
      "\n",
      "# -- Lista de camadas vetoriais disponiveis: ['aflora', 'am_petro', 'proj_cprm', 'socorro_250k', 'proj_aerogeof', 'malha_cartog_50k_wgs84', 'malha_cartog_25k_wgs84', 'malha_cartog_100k_wgs84', 'malha_cartog_250k_wgs84', 'malha_cartog_1kk_wgs84', 'litologia_1kk', 'litologia_250k', 'litologia_100k', 'litologia_50k']\n",
      "# -- Selecionando Folhas Cartograficas\n",
      "# --- Iniciando seleção de área de estudo\n",
      "EPSG:32723\n",
      "# --- Construindo Dicionario de Cartas\n",
      "16 folhas cartográfica selecionadas\n",
      "\n",
      "Listando atributos dos dados geofisicos\n"
     ]
    },
    {
     "name": "stderr",
     "output_type": "stream",
     "text": [
      "100%|██████████| 8/8 [00:00<00:00, 167772.16it/s]"
     ]
    },
    {
     "name": "stdout",
     "output_type": "stream",
     "text": [
      "# --- # Listagem de dados do aerolevantamento:  \n",
      "Lista de atributos geofísicos = ['ALTURA', 'MDT', 'ALTURA_1', 'MAGIGRF']\n",
      "lista de atributos geograficos = ['LATITUDE', 'LONGITUDE']\n",
      "lista de atributos projetados = ['X', 'Y']\n"
     ]
    },
    {
     "name": "stderr",
     "output_type": "stream",
     "text": [
      "\n"
     ]
    },
    {
     "name": "stdout",
     "output_type": "stream",
     "text": [
      "# -- Contruindo dicionario de metadados\n",
      "\n",
      "# --- Início da iteração entre as folhas cartográficas #\n"
     ]
    },
    {
     "name": "stderr",
     "output_type": "stream",
     "text": [
      "0it [00:00, ?it/s]"
     ]
    },
    {
     "name": "stdout",
     "output_type": "stream",
     "text": [
      "Folha cartografica sem dados Aerogeofisicos\n",
      "# Folha de código: SF23_V_C\n",
      " Atualizando dados brutos em dic_cartas['raw_data']\n",
      " com 36594 pontos de amostragem\n",
      "epsg:32723\n"
     ]
    },
    {
     "name": "stderr",
     "output_type": "stream",
     "text": [
      "16it [00:11,  1.34it/s]"
     ]
    },
    {
     "name": "stdout",
     "output_type": "stream",
     "text": [
      " Atualizando dados geologicos em dic_cartas['litologia']\n",
      " com 279 poligonos descritos por                         27 atributos geologicos \n",
      "# Folha de código: SF23_Y_A\n",
      " Atualizando dados brutos em dic_cartas['raw_data']\n",
      " com 25491 pontos de amostragem\n",
      "epsg:32723\n",
      " Atualizando dados geologicos em dic_cartas['litologia']\n",
      " com 22 poligonos descritos por                         27 atributos geologicos \n",
      "# Folha de código: SF23_Y_C\n",
      " Atualizando dados brutos em dic_cartas['raw_data']\n",
      " com 2571 pontos de amostragem\n",
      "epsg:32723\n",
      " Atualizando dados geologicos em dic_cartas['litologia']\n",
      " com 0 poligonos descritos por                         27 atributos geologicos \n",
      "Folha cartografica sem dados Aerogeofisicos\n",
      "A folha SF23_V_D possui apenas '401' pontos coletados que devem ser adicionados a folha mais próxima\n",
      "# Folha de código: SF23_Y_B\n",
      " Atualizando dados brutos em dic_cartas['raw_data']\n",
      " com 243562 pontos de amostragem\n",
      "epsg:32723\n",
      " Atualizando dados geologicos em dic_cartas['litologia']\n",
      " com 0 poligonos descritos por                         27 atributos geologicos \n",
      "# Folha de código: SF23_Y_D\n",
      " Atualizando dados brutos em dic_cartas['raw_data']\n",
      " com 198724 pontos de amostragem\n",
      "epsg:32723\n",
      " Atualizando dados geologicos em dic_cartas['litologia']\n",
      " com 0 poligonos descritos por                         27 atributos geologicos \n",
      "Folha cartografica sem dados Aerogeofisicos\n",
      "Folha cartografica sem dados Aerogeofisicos\n",
      "# Folha de código: SF23_Z_A\n",
      " Atualizando dados brutos em dic_cartas['raw_data']\n",
      " com 143812 pontos de amostragem\n",
      "epsg:32723\n",
      " Atualizando dados geologicos em dic_cartas['litologia']\n",
      " com 0 poligonos descritos por                         27 atributos geologicos \n",
      "# Folha de código: SF23_Z_C\n",
      " Atualizando dados brutos em dic_cartas['raw_data']\n",
      " com 63194 pontos de amostragem\n",
      "epsg:32723\n",
      " Atualizando dados geologicos em dic_cartas['litologia']\n",
      " com 0 poligonos descritos por                         27 atributos geologicos \n",
      "Folha cartografica sem dados Aerogeofisicos\n",
      "Folha cartografica sem dados Aerogeofisicos\n",
      "Folha cartografica sem dados Aerogeofisicos\n",
      "Folha cartografica sem dados Aerogeofisicos\n"
     ]
    },
    {
     "name": "stderr",
     "output_type": "stream",
     "text": [
      "\n"
     ]
    }
   ],
   "source": [
    "mag_t_sf23_, b = get_region('250k','SF23','mag_tie_1105','litologia_1kk')"
   ]
  },
  {
   "cell_type": "code",
   "execution_count": 11,
   "metadata": {},
   "outputs": [
    {
     "data": {
      "text/plain": [
       "dict_keys(['geometry', 'region', 'region_proj', 'raw_data', 'litologia'])"
      ]
     },
     "execution_count": 11,
     "metadata": {},
     "output_type": "execute_result"
    }
   ],
   "source": [
    "a.keys()"
   ]
  },
  {
   "cell_type": "code",
   "execution_count": 16,
   "metadata": {},
   "outputs": [
    {
     "data": {
      "text/plain": [
       "dict_keys(['SF23_Y_A_III_1', 'SF23_Y_A_III_3', 'SF23_Y_A_III_2', 'SF23_Y_A_III_4'])"
      ]
     },
     "execution_count": 16,
     "metadata": {},
     "output_type": "execute_result"
    }
   ],
   "source": [
    "a['raw_data'].keys()"
   ]
  },
  {
   "cell_type": "code",
   "execution_count": null,
   "metadata": {},
   "outputs": [],
   "source": [
    "print(dic_raw_meta['Malha_cartografica'].crs)\n",
    "ax = dic_raw_meta['Malha_cartografica'].boundary.plot(color='Black')\n",
    "dic_cartas['litologia']['SF23_Y_A_III_4'].plot('SIGLA',ax=ax,\n",
    "                legend=True,\n",
    "                legend_kwds={'loc': 'center left', 'bbox_to_anchor':(1,0.5)})"
   ]
  },
  {
   "cell_type": "code",
   "execution_count": null,
   "metadata": {},
   "outputs": [],
   "source": [
    "print(dic_raw_meta['Lista_at_geof'])\n",
    "dic_raw_meta['Metadata']"
   ]
  },
  {
   "cell_type": "code",
   "execution_count": null,
   "metadata": {},
   "outputs": [],
   "source": [
    "dic_raw_meta['Percentiles'].T"
   ]
  },
  {
   "cell_type": "code",
   "execution_count": null,
   "metadata": {},
   "outputs": [],
   "source": [
    "dic_cartas['raw_data']['SF23_Y_A_III_4']"
   ]
  },
  {
   "cell_type": "code",
   "execution_count": null,
   "metadata": {},
   "outputs": [],
   "source": [
    "#Levantamento 1105\n",
    "dic_cartas, dic_raw_meta = interpolar(gama=True,dic_cartas=dic_cartas,dic_raw_meta=dic_raw_meta)"
   ]
  },
  {
   "cell_type": "markdown",
   "metadata": {},
   "source": [
    "## Descriçao estatistica dos dados brutos"
   ]
  },
  {
   "cell_type": "code",
   "execution_count": null,
   "metadata": {},
   "outputs": [],
   "source": [
    "dic_cartas['cubic'].keys()"
   ]
  },
  {
   "cell_type": "code",
   "execution_count": null,
   "metadata": {},
   "outputs": [],
   "source": [
    "dic_cartas.keys()"
   ]
  },
  {
   "cell_type": "markdown",
   "metadata": {},
   "source": [
    "## DESCRIÇÃO DOS DADOS DA FOLHA SF23_Y_A_III_4"
   ]
  },
  {
   "cell_type": "markdown",
   "metadata": {},
   "source": [
    "### DICIONARIO DE DADOS DISPONIVEIS\n",
    "    - Regioes geograficas (W,E, S, N)\n",
    "    - Regioes projetadas (W,E, S, N)\n",
    "    - Dados Brutos\n",
    "    - Dados Interpolados\n",
    "    - Scores da Validacao Crusada para os dados interpolados\n",
    "    - Dataframe com classes alvos (Unidades Litologicas)"
   ]
  },
  {
   "cell_type": "code",
   "execution_count": null,
   "metadata": {},
   "outputs": [],
   "source": [
    "for i in dic_cartas:\n",
    "    print(i)"
   ]
  },
  {
   "cell_type": "code",
   "execution_count": null,
   "metadata": {},
   "outputs": [],
   "source": [
    "print(f\"#  folhas cartograficas: {len(dic_cartas['region'])}\")\n",
    "print(f\"ID folhas cartograficas: {list(dic_cartas['region'].keys())}\")"
   ]
  },
  {
   "cell_type": "code",
   "execution_count": null,
   "metadata": {
    "scrolled": true
   },
   "outputs": [],
   "source": [
    "print(f\"Dados interpolados pleo modelo de cubico: {list(dic_cartas['cubic']['SF23_Y_A_III_4'].keys())}\")"
   ]
  },
  {
   "cell_type": "markdown",
   "metadata": {},
   "source": [
    "### CRIANDO DICIONARIO DE TITULOS PARA OS PLOTS"
   ]
  },
  {
   "cell_type": "code",
   "execution_count": null,
   "metadata": {},
   "outputs": [],
   "source": [
    "list_canal = dic_raw_meta['Lista_at_geof']\n",
    "print(f\"Lista de atributos: {list_canal}\")\n",
    "\n",
    "# LISTA DE TITULOS \n",
    "titles =   [\n",
    "            'K (%)',\n",
    "            'U (ppm)',\n",
    "            'Th (ppm)',\n",
    "            'U (ppm) / Th (ppm)',\n",
    "            'U (ppm) / K (%)',\n",
    "            'MDT (m)',\n",
    "            'Th (ppm) / K (%)',\n",
    "            'Contagem Total (μR/h)'\n",
    "            ]\n",
    "\n",
    "\n",
    "# DICIONARIO DE TITULOS\n",
    "dic_titles = {}\n",
    "for f, t in zip(list_canal, titles):\n",
    "    dic_titles[f] = t\n",
    "\n",
    "dic_titles"
   ]
  },
  {
   "cell_type": "markdown",
   "metadata": {},
   "source": [
    "#### DISTRIBUICAO GEOSTATISTICA DOS DADOS BRUTOS"
   ]
  },
  {
   "cell_type": "code",
   "execution_count": null,
   "metadata": {},
   "outputs": [],
   "source": [
    "dic_raw_meta['Percentiles'].T"
   ]
  },
  {
   "cell_type": "code",
   "execution_count": null,
   "metadata": {},
   "outputs": [],
   "source": [
    "dic_titles"
   ]
  },
  {
   "cell_type": "code",
   "execution_count": null,
   "metadata": {},
   "outputs": [],
   "source": [
    "def plot_raw_data(raw_data):\n",
    "    fig, axs = plt.subplots(nrows = 2, ncols = 4, figsize = (9, 9),sharex='all',sharey='all')\n",
    "    \n",
    "    raw_data_describe = raw_data.describe(percentiles=(0.01,0.1,0.25,0.5,0.75,0.995))\n",
    "\n",
    "    X, Y = raw_data.X, raw_data.Y\n",
    "\n",
    "    for ax, f in zip(axs.flat, dic_titles):\n",
    "        vmin = raw_data_describe[f]['1%']\n",
    "        vmax = raw_data_describe[f]['99.5%']\n",
    "\n",
    "        g = ax.scatter(c=raw_data[f], x = X,\n",
    "                                      y = Y,\n",
    "                                      cmap = 'rainbow',\n",
    "                                      s    = 0.5,\n",
    "                                      vmax =vmax, vmin=vmin)\n",
    "\n",
    "        fig.colorbar(g, ax = ax)\n",
    "        ax.set_title(str(dic_titles[f]), size = 11)\n",
    "        ax.axis('scaled')"
   ]
  },
  {
   "cell_type": "code",
   "execution_count": null,
   "metadata": {},
   "outputs": [],
   "source": [
    "plot_raw_data(dic_cartas['raw_data']['SF23_Y_A_III_2'])"
   ]
  },
  {
   "cell_type": "code",
   "execution_count": null,
   "metadata": {},
   "outputs": [],
   "source": [
    "plot_raw_data(dic_cartas['raw_data']['SF23_Y_A_III_4'])"
   ]
  },
  {
   "cell_type": "code",
   "execution_count": null,
   "metadata": {},
   "outputs": [],
   "source": [
    "dic_cartas.keys()"
   ]
  },
  {
   "cell_type": "code",
   "execution_count": null,
   "metadata": {},
   "outputs": [],
   "source": [
    "data = dic_cartas['cubic']['SF23_Y_A_III_4']\n",
    "plot_raw_data(data)"
   ]
  },
  {
   "cell_type": "code",
   "execution_count": null,
   "metadata": {},
   "outputs": [],
   "source": [
    "dic_cartas['cubic'].keys()"
   ]
  },
  {
   "cell_type": "code",
   "execution_count": null,
   "metadata": {},
   "outputs": [],
   "source": [
    "plot_raw_data(dic_cartas['cubic']['SF23_Y_A_III_2'])"
   ]
  },
  {
   "cell_type": "code",
   "execution_count": null,
   "metadata": {},
   "outputs": [],
   "source": [
    "from shapely import geometry\n",
    "\n",
    "lito_cubic  = dic_cartas['lito_cubic']['SF23_Y_A_III_4']\n",
    "\n",
    "lito_cubic['geometry'] = [geometry.Point(x,y) for x, y in zip(lito_cubic['X'], lito_cubic['Y'])]\n",
    "\n",
    "geodataframe = dic_cartas['lito_cubic']['SF23_Y_A_III_4'].set_geometry('geometry')\n",
    "geodataframe.set_crs(32723,inplace=True)\n",
    "geodataframe.to_crs(32723,inplace=True)\n",
    "\n",
    "print(geodataframe.crs)\n",
    "\n",
    "geodataframe.plot('closest_unid',s= 5,\n",
    "                        legend=True,\n",
    "                        legend_kwds={'loc': 'center left', 'bbox_to_anchor':(1,0.5)}\n",
    "                )\n",
    "                                 \n",
    "plt.title(label=f\"'closest_unid': SF23_Y_A_III_4\")"
   ]
  },
  {
   "cell_type": "code",
   "execution_count": null,
   "metadata": {},
   "outputs": [],
   "source": [
    "def plotBoxplots(df, cols = None):\n",
    "    n = len(cols)\n",
    "    fig, axs = plt.subplots(n, 1, figsize = (9, n * 2))\n",
    "    \n",
    "    for ax, f in zip(axs, cols):\n",
    "        sns.boxplot(y = f, x = 'closest_unid', data = df, ax = ax)\n"
   ]
  },
  {
   "cell_type": "code",
   "execution_count": null,
   "metadata": {},
   "outputs": [],
   "source": [
    "plotBoxplots(dic_cartas['lito_cubic']['SF23_Y_A_III_4'], cols = dic_titles)"
   ]
  },
  {
   "cell_type": "code",
   "execution_count": null,
   "metadata": {},
   "outputs": [],
   "source": [
    "plotBoxplots(dic_cartas['lito_cubic']['SF23_Y_A_III_4'], cols = dic_titles)"
   ]
  },
  {
   "cell_type": "code",
   "execution_count": null,
   "metadata": {},
   "outputs": [],
   "source": [
    "fig, axs = plt.subplots(nrows = 4, ncols = 2, figsize = (7, 6))\n",
    "\n",
    "for ax, gf in zip(axs.flat, dic_titles):\n",
    "    g = ax.hist(dic_cartas['lito_splines']['SC23_Z_A_IV'][gf], color = 'lightblue', edgecolor = 'black')\n",
    "    ax.set_title(str(dic_titles[gf]), size = 9)\n",
    "\n",
    "plt.tight_layout()"
   ]
  },
  {
   "cell_type": "code",
   "execution_count": null,
   "metadata": {},
   "outputs": [],
   "source": [
    "fig, axs = plt.subplots(nrows = 4, ncols = 2, figsize = (7, 6))\n",
    "\n",
    "for ax, gf in zip(axs.flat, dic_titles):\n",
    "    g = ax.hist(dic_cartas['lito_cubic']['SC23_Z_A_IV'][gf], color = 'lightblue', edgecolor = 'black')\n",
    "    ax.set_title(str(dic_titles[gf]), size = 9)\n",
    "\n",
    "plt.tight_layout()"
   ]
  },
  {
   "cell_type": "code",
   "execution_count": null,
   "metadata": {},
   "outputs": [],
   "source": [
    "fig, axs = plt.subplots(nrows = 4, ncols = 2, figsize = (7, 6))\n",
    "\n",
    "for ax, gf in zip(axs.flat, dic_titles):\n",
    "    g = ax.hist(dic_cartas['raw_data']['SC23_Z_A_IV'][gf], color = 'lightblue', edgecolor = 'black')\n",
    "    ax.set_title(str(dic_titles[gf]), size = 9)\n",
    "\n",
    "plt.tight_layout()"
   ]
  },
  {
   "cell_type": "code",
   "execution_count": null,
   "metadata": {
    "tags": []
   },
   "outputs": [],
   "source": [
    "for i in dic_cartas['splines']:\n",
    "    print(i)\n",
    "    dic_cartas['lito_splines'][i].to_csv(f.gdb+'dataframe_input_model/lito_splines_'+i+'.csv',index=False)\n",
    "    dic_cartas['lito_cubic'][i].to_csv(f.gdb+'dataframe_input_model/lito_cubic_'+i+'.csv',index=False)"
   ]
  },
  {
   "cell_type": "code",
   "execution_count": null,
   "metadata": {
    "tags": []
   },
   "outputs": [],
   "source": [
    "dic_cartas['lito_cubic']['SF23_Y_A_III_4']"
   ]
  },
  {
   "cell_type": "code",
   "execution_count": null,
   "metadata": {},
   "outputs": [],
   "source": [
    "dic_cartas['lito_cubic']['SC23_Z_A_IV'].closest_unid.isnull().sum()"
   ]
  },
  {
   "cell_type": "code",
   "execution_count": null,
   "metadata": {},
   "outputs": [],
   "source": [
    "dic_cartas['lito_splines']['SC23_Z_A_IV']"
   ]
  },
  {
   "cell_type": "code",
   "execution_count": null,
   "metadata": {},
   "outputs": [],
   "source": [
    "dic_cartas['lito_splines']['SC23_Z_A_IV'].closest_unid.isnull().sum()"
   ]
  },
  {
   "cell_type": "code",
   "execution_count": null,
   "metadata": {},
   "outputs": [],
   "source": [
    "### DESCRICAO GEOSTATISTICA DOS DADOS INTERPOLADOS\n",
    "\n",
    "def plot_splines_grid(splines_grid):\n",
    "    fig, axs = plt.subplots(nrows = 4, ncols = 2, figsize = (16, 16),sharex='all',sharey='all')\n",
    "\n",
    "    for ax, f in zip(axs.flat, dic_titles):\n",
    "\n",
    "        df_splines = pd.DataFrame(splines_grid[f][f])\n",
    "\n",
    "        p = df_splines.describe(percentiles=(0.01,0.1,0.25,0.5,0.75,0.995))\n",
    "        print(p)\n",
    "        vmin = p['1%']\n",
    "        vmax = p['99.5%']\n",
    "\n",
    "        g = grids[f][f].plot(ax=ax,\n",
    "                             cmap = 'rainbow',\n",
    "                             vmax =vmax, vmin=vmin)\n",
    "\n",
    "        #fig.colorbar(g, ax = ax)\n",
    "        ax.set_title(str(dic_titles[f]), size = 11)\n",
    "        ax.axis('scaled')\n",
    "\n",
    "    #plt.tight_layout()\n",
    "\n",
    "\n",
    "geodataframe = dic_cartas['lito_splines']['SC23_Z_A_IV'].set_geometry('geometry')\n",
    "print(geodataframe.crs)\n",
    "geodataframe.plot('closest_unid',s= 5,\n",
    "                                 legend=True,\n",
    "                                 legend_kwds={'loc': 'center left', 'bbox_to_anchor':(1,0.5)})\n",
    "                                 \n",
    "plt.title(label=f\"'closest_unid': SC23_Z_A_IV\")\n",
    "plt.axis('scaled')"
   ]
  },
  {
   "cell_type": "code",
   "execution_count": null,
   "metadata": {},
   "outputs": [],
   "source": [
    "# OUTPUT DO SCRPIT/GET_REGION SERA O INPUT DESTE SCRIPT\n",
    "from scripts.get_region import get_region\n",
    "from sources import descricao as d\n",
    "from sources.importar import geometrias\n",
    "\n",
    "from contribuicoes.victsnet_emails import source_code_verde as td\n",
    "\n",
    "import verde as vd\n",
    "import numpy as np\n",
    "import pandas as pd\n",
    "import geopandas as gpd\n",
    "\n",
    "from shapely import geometry\n",
    "from tqdm import tqdm\n",
    "\n",
    "gdb = '/home/ggrl/geodatabase/'\n",
    "\n",
    "\n",
    "# # --------------------- DEFININDO FUNÇÃO DE QUE CHAMARÁ AS FUNÇÕES ANTERIORES PROVOCANDO UM ENCADEAMENTO DE OPERAÇÕES -------------- \n",
    "def interpolar(mag=None,gama=None,\n",
    "               dic_cartas=None,dic_raw_meta=None):\n",
    "\n",
    "    dic_cartas['cubic'] = {}\n",
    "    \n",
    "    print('# Inicio dos processos de interpolação pelo método cúbico')\n",
    "    for index, row in tqdm(dic_raw_meta['Malha_cartografica'].iterrows()):\n",
    "        #print(index,row)\n",
    "        # lista_atributo_geof = dic_raw_meta['Lista_at_geof']\n",
    "        data = dic_cartas['raw_data'][index]              \n",
    "\n",
    "        # GERANDO TUPLA DE COORDENADAS\n",
    "        if len(data) == 0:\n",
    "            None\n",
    "            \n",
    "        elif len(data) < 1000:\n",
    "            None\n",
    "            print(f\"A folha {index} possui apenas '{len(data)}' pontos coletados que devem ser adicionados a folha mais próxima\")\n",
    "            \n",
    "        else:\n",
    "            print(f\"# Folha de código: {index}\")\n",
    "            print(f\" Retirando dados brutos em dic_cartas['raw_data']\")\n",
    "            print(f\" com {len(data)} pontos de contagens radiométricas coletados com linhas de voo de 500 metros\")\n",
    "\n",
    "            data['geometry'] = [geometry.Point(x, y) for x, y in zip(data['X'], data['Y'])]\n",
    "            crs = \"+proj=utm +zone=23 +south +ellps=WGS84 +datum=WGS84 +units=m +no_defs\"\n",
    "\n",
    "            gdf_geof = gpd.GeoDataFrame(data, geometry='geometry', crs=crs)\n",
    "\n",
    "            area = dic_cartas['region_proj'][index]\n",
    "\n",
    "            # creating a grid with cells\n",
    "            xu, yu = td.regular(shape = (636, 444),\n",
    "                                area  = area)\n",
    "\n",
    "            if mag:\n",
    "                ALTURA = np.array(gdf_geof.ALTURA)\n",
    "                MAGIGRF = np.array(gdf_geof.MAGIGRF)\n",
    "                MDT = np.array(gdf_geof.MDT)\n",
    "\n",
    "                x2, y2 = np.array(gdf_geof.X), np.array(gdf_geof.Y)\n",
    "\n",
    "                altura_ = td.interp_at(x2, y2, ALTURA, xu, yu, algorithm = 'cubic', extrapolate = True)\n",
    "                mdt_ = td.interp_at(x2, y2, MDT, xu, yu, algorithm = 'cubic', extrapolate = True)\n",
    "                magigrf_ = td.interp_at(x2, y2, MAGIGRF, xu, yu, algorithm = 'cubic', extrapolate = True)\n",
    "\n",
    "                # intialise data of lists. \n",
    "                data_interpolado = {'X':xu, 'Y':yu, 'MDT': mdt_,\n",
    "                        'KPERC': altura_, 'eU':magigrf_} \n",
    "                \n",
    "                # Create DataFrame \n",
    "                interpolado_cubico = pd.DataFrame(data_interpolado)\n",
    "                \n",
    "                # Print the output. \n",
    "                y={index:interpolado_cubico}\n",
    "                dic_cartas['cubic'].update(y)  \n",
    "\n",
    "            if gama:\n",
    "                CTCOR = np.array(gdf_geof.CTCOR)\n",
    "                MDT = np.array(gdf_geof.MDT)\n",
    "                eTH = np.array(gdf_geof.eTH)\n",
    "                eU = np.array(gdf_geof.eU)\n",
    "                KPERC = np.array(gdf_geof.KPERC)\n",
    "                THKRAZAO = np.array(gdf_geof.THKRAZAO)\n",
    "                UKRAZAO = np.array(gdf_geof.UKRAZAO)\n",
    "                UTHRAZAO = np.array(gdf_geof.UTHRAZAO)\n",
    "\n",
    "                x2, y2 = np.array(gdf_geof.X), np.array(gdf_geof.Y)\n",
    "\n",
    "                eTH_ = td.interp_at(x2, y2, eTH, xu, yu, algorithm = 'cubic', extrapolate = True)\n",
    "                eu_ = td.interp_at(x2, y2, eU, xu, yu, algorithm = 'cubic', extrapolate = True)\n",
    "                kperc_ = td.interp_at(x2, y2, KPERC, xu, yu, algorithm = 'cubic', extrapolate = True)\n",
    "                ctcor_ = td.interp_at(x2, y2, CTCOR, xu, yu, algorithm = 'cubic', extrapolate = True)\n",
    "                mdt_ = td.interp_at(x2, y2, MDT, xu, yu, algorithm = 'cubic', extrapolate = True)\n",
    "                uthrazao_ = td.interp_at(x2, y2, UTHRAZAO, xu, yu, algorithm = 'cubic', extrapolate = True)\n",
    "                ukrazao_ = td.interp_at(x2, y2, UKRAZAO, xu, yu, algorithm = 'cubic', extrapolate = True)\n",
    "                thkrazao_ = td.interp_at(x2, y2, THKRAZAO, xu, yu, algorithm = 'cubic', extrapolate = True)\n",
    "\n",
    "                # intialise data of lists. \n",
    "                data = {'X':xu, 'Y':yu, 'MDT': mdt_,  'CTCOR': ctcor_,\n",
    "                        'KPERC': kperc_, 'eU':eu_, 'eTH': eTH_,\n",
    "                        'UTHRAZAO':uthrazao_,'UKRAZAO':ukrazao_,'THKRAZAO':thkrazao_} \n",
    "                \n",
    "                # Create DataFrame \n",
    "                interpolado_cubico = pd.DataFrame(data)\n",
    "\n",
    "                                \n",
    "                y={index:interpolado_cubico}\n",
    "                dic_cartas['cubic'].update(y)\n",
    "\n",
    "                print('__________________________________________')\n",
    "        print(\" \")\n",
    "    print(\"Dicionário de cartas disponível\")\n",
    "    return dic_cartas, dic_raw_meta"
   ]
  },
  {
   "cell_type": "code",
   "execution_count": null,
   "metadata": {},
   "outputs": [],
   "source": [
    "dic_cartas, dic_raw_meta = interpolar(gama='gama_line_1105',dic_cartas=dic_cartas,dic_raw_meta=dic_raw_meta)"
   ]
  },
  {
   "cell_type": "code",
   "execution_count": null,
   "metadata": {},
   "outputs": [],
   "source": [
    "dic_cartas['cubic'].keys()"
   ]
  },
  {
   "cell_type": "code",
   "execution_count": null,
   "metadata": {},
   "outputs": [],
   "source": [
    "dic_cartas['cubic']['SF23_Y_A_III_4']"
   ]
  },
  {
   "cell_type": "code",
   "execution_count": null,
   "metadata": {},
   "outputs": [],
   "source": []
  }
 ],
 "metadata": {
  "interpreter": {
   "hash": "d412e3d091f5968552f8aa760bc8da416522b5884f97efbbec2149c97127b032"
  },
  "kernelspec": {
   "display_name": "Python 3.8.11 64-bit ('geologist_bot': conda)",
   "name": "python3"
  },
  "language_info": {
   "codemirror_mode": {
    "name": "ipython",
    "version": 3
   },
   "file_extension": ".py",
   "mimetype": "text/x-python",
   "name": "python",
   "nbconvert_exporter": "python",
   "pygments_lexer": "ipython3",
   "version": "3.8.11"
  }
 },
 "nbformat": 4,
 "nbformat_minor": 4
}
