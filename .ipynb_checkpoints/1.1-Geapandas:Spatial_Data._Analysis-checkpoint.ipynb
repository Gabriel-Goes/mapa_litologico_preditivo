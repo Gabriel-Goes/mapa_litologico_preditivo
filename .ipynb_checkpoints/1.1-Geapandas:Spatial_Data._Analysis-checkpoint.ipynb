{
 "cells": [
  {
   "cell_type": "markdown",
   "metadata": {},
   "source": [
    "# Filtering and Describing Geospatial Data"
   ]
  },
  {
   "cell_type": "markdown",
   "metadata": {},
   "source": [
    "Neste notebook vamos definir as funçoes de descriçao e filtragem dos dados a partir das classes definidas na bilbioteca GeoPandas e Matplotlib\n",
    "\n",
    "[Mapping and Plotting Tools](https://geopandas.org/docs/user_guide/mapping.html)\n",
    "\n",
    "[Matplotlib](https://matplotlib.org/stable/tutorials/introductory/usage.html#sphx-glr-tutorials-introductory-usage-py)\n",
    "\n",
    "\n",
    " *IMPORTANTE*\n",
    "- Com as funçoes definidas e testadas neste notebook, criaremos um arquivo .py no diretorio .soureces/ para armazena-las, possibilitando assim, sua utilizaçao com a funçao import."
   ]
  },
  {
   "cell_type": "code",
   "execution_count": 1,
   "metadata": {},
   "outputs": [],
   "source": [
    "import geopandas as gpd \n",
    "import pandas as pd\n",
    "import fiona"
   ]
  },
  {
   "cell_type": "code",
   "execution_count": 3,
   "metadata": {},
   "outputs": [
    {
     "ename": "SyntaxError",
     "evalue": "invalid decimal literal (3226631112.py, line 2)",
     "output_type": "error",
     "traceback": [
      "\u001b[0;36m  File \u001b[0;32m\"/tmp/ipykernel_108163/3226631112.py\"\u001b[0;36m, line \u001b[0;32m2\u001b[0m\n\u001b[0;31m    from src.1_import gdb\u001b[0m\n\u001b[0m              ^\u001b[0m\n\u001b[0;31mSyntaxError\u001b[0m\u001b[0;31m:\u001b[0m invalid decimal literal\n"
     ]
    }
   ],
   "source": [
    "# Origem do banco de dados\n",
    "from src.funcs1_import gdb\n",
    "\n",
    "gdb()"
   ]
  },
  {
   "cell_type": "code",
   "execution_count": null,
   "metadata": {},
   "outputs": [],
   "source": [
    "gdb('geodatabase.gpkg')"
   ]
  },
  {
   "cell_type": "code",
   "execution_count": null,
   "metadata": {},
   "outputs": [],
   "source": [
    "# Parametro para plot interativo\n",
    "%matplotlib widget"
   ]
  },
  {
   "cell_type": "markdown",
   "metadata": {},
   "source": [
    "## Importando os vetores do banco de dados criado no notebook passado.\n",
    "- Escolha de camada e mapa\n",
    "    - Caso nao tenha o mapa selecionado retorne lista de mapas disponiveis para aquela escala.\n",
    "    - Caso nao escolha um mapa retorne todos os vetores daquela camada."
   ]
  },
  {
   "cell_type": "code",
   "execution_count": null,
   "metadata": {},
   "outputs": [],
   "source": [
    "# IMPORTADOR DE LITOLOGIAS POR ESCALA --------------------------------------------------------------------------#\n",
    "def importar_geometrias(camada, mapa=False):\n",
    "    '''\n",
    "    Recebe:\n",
    "        camada      : camada vetorial a ser lida do geopackage.\n",
    "        mapa        : nome do mapa presente na camada vetorial;\n",
    "\n",
    "    Retorna:\n",
    "        Objeto GeoDataFrame.\n",
    "        \n",
    "    Se houver seleçao de mapa retornara apenas as geometrias que possuem o nome escolhido na coluna ['MAPA']\n",
    "    Se Retornar camada vazia recebera a lista das camadas veotoriais diposniveis\n",
    "    Se mapa == False: retorna todos os objetos presente nesta camada vetorial\n",
    "    '''\n",
    "    \n",
    "    print(f\"# -- Lista de camadas vetoriais disponiveis no Geopackage: {list(fiona.listlayers(gdb('geodatabase.gpkg')))}\")\n",
    "\n",
    "    lito =  gpd.read_file(gdb('geodatabase.gpkg'),\n",
    "                        driver= 'GPKG',\n",
    "                        layer= camada)\n",
    "                        \n",
    "\n",
    "    if mapa:\n",
    "        folha = lito[lito.MAPA == 'Carta geológica da folha ' + mapa]\n",
    "        \n",
    "        if folha.empty:\n",
    "\n",
    "            print(\"O mapa escolhido nao est'a presente na coluna MAPA da camada veotiral. Os mapas disponiveis serao listados a seguir.\")\n",
    "            print('# Selecionando apenas os caracteres apos ''folha'' (SEM ESPAÇO)')\n",
    "            print(f\"# -- Lista de mapas: {list(lito.MAPA.unique())}\")\n",
    "\n",
    "            lista_mapas = list(lito.MAPA.unique())\n",
    "            return lista_mapas\n",
    "\n",
    "        else:    \n",
    "            return(folha)\n",
    "\n",
    "    else:\n",
    "        return(lito)"
   ]
  },
  {
   "cell_type": "markdown",
   "metadata": {},
   "source": [
    "###  Utilizando as funçoes definidas acima para importar os dados"
   ]
  },
  {
   "cell_type": "code",
   "execution_count": null,
   "metadata": {},
   "outputs": [],
   "source": [
    "importar_geometrias()"
   ]
  },
  {
   "cell_type": "code",
   "execution_count": null,
   "metadata": {},
   "outputs": [],
   "source": [
    "# Abrindo os vetores descritivos dos projetos aerogeofisicos\n",
    "proj_geof = importar_geometrias('proj_aerogeof')"
   ]
  },
  {
   "cell_type": "code",
   "execution_count": null,
   "metadata": {},
   "outputs": [],
   "source": [
    "proj_geof.columns"
   ]
  },
  {
   "cell_type": "code",
   "execution_count": null,
   "metadata": {},
   "outputs": [],
   "source": [
    "print(f'Lista de espaçamentos disponíveis: {list(proj_geof.ESPACAMENT.unique())}')"
   ]
  },
  {
   "cell_type": "code",
   "execution_count": null,
   "metadata": {},
   "outputs": [],
   "source": [
    "litologia_1kk = importar_geometrias('litologia_1kk')\n",
    "#litologia_250k = importar_geometrias('litologia_250k')\n",
    "litologia_100k = importar_geometrias('litologia_100k')\n",
    "#litologia_50k = importar_geometrias('litologia_50k')"
   ]
  },
  {
   "cell_type": "markdown",
   "metadata": {},
   "source": [
    "## Descrevendo as caracteristicas dos dados"
   ]
  },
  {
   "cell_type": "code",
   "execution_count": null,
   "metadata": {},
   "outputs": [],
   "source": [
    "litologia_1kk.head(5)"
   ]
  },
  {
   "cell_type": "code",
   "execution_count": null,
   "metadata": {},
   "outputs": [],
   "source": [
    "print(litologia_1kk.columns)"
   ]
  },
  {
   "cell_type": "code",
   "execution_count": null,
   "metadata": {},
   "outputs": [],
   "source": [
    "meta_lito_1kk = pd.DataFrame(litologia_1kk.dtypes)\n",
    "meta_lito_1kk['Valores null'] = litologia_1kk.isnull().sum()\n",
    "meta_lito_1kk['Valores unicos'] = litologia_1kk.nunique()\n",
    "meta_lito_1kk                                                                   # NEED TO CREATE A SYSTEM TO GENERATE A DATAFRAME FOR EACH LITOSTRATIGRAPHIC LAYER\n",
    "                                                                                # TO DO SO, WE COULD CREATE AN UPPER INDEX FOR EACH LAYER CONTAINING ALL THIS INDECES."
   ]
  },
  {
   "cell_type": "markdown",
   "metadata": {},
   "source": [
    "### Here we can define a function to execute this operation for any layer"
   ]
  },
  {
   "cell_type": "code",
   "execution_count": null,
   "metadata": {},
   "outputs": [],
   "source": [
    "def metadataframe(GeoDataFrame):\n",
    "    meta_lito = pd.DataFrame(GeoDataFrame.dtypes)               # Describe the dtype of each column from the DataFrame or, better saying, GeoDataFrame;\n",
    "    meta_lito['Valores null'] = GeoDataFrame.isnull().sum()     # Describe the sum of each null value from our object\n",
    "    meta_lito['Valores unicos'] = GeoDataFrame.nunique()        # Describe the number of unique values from our object, that is a GeoDataFrame\n",
    "    meta_lito = meta_lito.rename(columns = {0 : 'dType'})       # Rename the first column to 'dtype', the name of the function we used.\n",
    "    return meta_lito"
   ]
  },
  {
   "cell_type": "code",
   "execution_count": null,
   "metadata": {},
   "outputs": [],
   "source": [
    "from src.funcs_descricao import metadataframe   # The above function was inserted inside the /sources/descricao.py file;\n",
    "                                              # So we can import the funcion with this command wennerver we need it"
   ]
  },
  {
   "cell_type": "code",
   "execution_count": null,
   "metadata": {},
   "outputs": [],
   "source": [
    "#metadataframe(litologia_250k)\n",
    "metadataframe(litologia_100k)\n",
    "#metadataframe(litologia_50k)\n"
   ]
  },
  {
   "cell_type": "markdown",
   "metadata": {},
   "source": [
    "### We can observe and analyse by the same means our aerogeophysical metadata."
   ]
  },
  {
   "cell_type": "code",
   "execution_count": null,
   "metadata": {},
   "outputs": [],
   "source": [
    "metadataframe(proj_geof)       # WE CONCLUDE BY OBSERVING THIS DATAFRAME THAT THE 'TITULO' COLUMN EATHER HAS AN DUPLICATED VALUE\n",
    "                               # BECAUSE WE HAVE 296 GEOMETRIES AND 295 DIFERENT TITLES"
   ]
  },
  {
   "cell_type": "markdown",
   "metadata": {},
   "source": [
    "## Com os dados disponiveis na RAM podemos utilizar funçoes do built-in do Python ou funçoes disponibilizadas atravez das bibliotecas podemos produzir informaçoes importantes sobre o nosso dado."
   ]
  },
  {
   "cell_type": "markdown",
   "metadata": {},
   "source": [
    "#### Como por exemplo, calcular area de cobertura do dado."
   ]
  },
  {
   "cell_type": "code",
   "execution_count": null,
   "metadata": {},
   "outputs": [],
   "source": [
    "area_lito_1kk = litologia_1kk[:].area.sum()\n",
    "print(area_lito_1kk)\n",
    "\n",
    "# We can observe that the calculation of the area should be done with a cartesian coordinate reference system instead of geographic for more accurate results\n",
    "# Although, our coverage area is not inside only one UTM Zone, so we need to create a system to convert each geometry to it's correspodent Zone."
   ]
  },
  {
   "cell_type": "code",
   "execution_count": null,
   "metadata": {},
   "outputs": [],
   "source": [
    "litologia_1kk['SHAPE_AREA'].sum() # We can observe that the area of the polygons have already been calculated and is stored at 'SHAPE_AREA' column"
   ]
  },
  {
   "cell_type": "code",
   "execution_count": null,
   "metadata": {},
   "outputs": [],
   "source": [
    "print(litologia_1kk['SHAPE_AREA'].sum() - area_lito_1kk) # The result is the difference between the Area calculated by the CRPM and the area calculated by the GeoPandas Function"
   ]
  },
  {
   "cell_type": "code",
   "execution_count": null,
   "metadata": {},
   "outputs": [],
   "source": [
    "# SELECTING AEROGEOPHYSICAL PROJECTS BY ITS FLIGHT LINE SPACEMENT [RESOLUTION]\n",
    "proj_geof_500m = proj_geof[proj_geof['ESPACAMENT'] == '500']\n",
    "proj_geof_1000m = proj_geof[proj_geof['ESPACAMENT'] == '1000']"
   ]
  },
  {
   "cell_type": "code",
   "execution_count": null,
   "metadata": {},
   "outputs": [],
   "source": [
    "print(f\" The total coverage area of projects with 500 m resolution: {proj_geof_500m['SHAPE_AREA'].sum()}\")\n",
    "print(f\" The total coverage area of projects with 1000 m resolution: {proj_geof_1000m['SHAPE_AREA'].sum()}\")"
   ]
  },
  {
   "cell_type": "code",
   "execution_count": null,
   "metadata": {},
   "outputs": [],
   "source": [
    "print(f\" The total coverage area of projects with 500 m resolution: {proj_geof_500m[:].area.sum()}\")\n",
    "\n",
    "print(f\" The total coverage area of projects with 1000 m resolution: {proj_geof_1000m[:].area.sum()}\")"
   ]
  },
  {
   "cell_type": "code",
   "execution_count": null,
   "metadata": {},
   "outputs": [],
   "source": [
    "print(f\"Percentage of aerogeophysical data coverage of the continental area with 500m resolution: {(proj_geof_500m['SHAPE_AREA'].sum()  / litologia_1kk['SHAPE_AREA'].sum()) * 100} %\")\n",
    "print(f\"Percentage of aerogeophysical data coverage of the continental area with 1000m resolution: {(proj_geof_1000m['SHAPE_AREA'].sum() / litologia_1kk['SHAPE_AREA'].sum()) * 100} %\")"
   ]
  },
  {
   "cell_type": "markdown",
   "metadata": {},
   "source": [
    "### Listando atributos geologicos das geometrias importadas."
   ]
  },
  {
   "cell_type": "code",
   "execution_count": null,
   "metadata": {},
   "outputs": [],
   "source": [
    "# Abrindo os vetores litológicos de um unico mapa utilizando a função definida acima\n",
    "#varginha_100k = importar_geometrias('litologia_100k','Varginha - UFRJ')\n",
    "#varginha_100k.head(5)"
   ]
  },
  {
   "cell_type": "code",
   "execution_count": null,
   "metadata": {},
   "outputs": [],
   "source": [
    "# com estas funçoes utilizadas asssimas, podemos definir uma funçao que descreve o nosso dado vetorial\n",
    "def describe_geologico(gdf):\n",
    "    lista_colunas = list(gdf.columns)\n",
    "    lista_litotipos = list(gdf.LITOTIPOS.unique())\n",
    "    lista_legenda = list(gdf.LEGENDA.unique())\n",
    "\n",
    "    dic_litologico = {'lista_colunas': lista_colunas,\n",
    "                      'lista_litotipos': lista_litotipos,\n",
    "                      'lista_legenda': lista_legenda}\n",
    "    return dic_litologico   "
   ]
  },
  {
   "cell_type": "code",
   "execution_count": null,
   "metadata": {},
   "outputs": [],
   "source": [
    "dic_litoligico = describe_geologico(litologia_1kk)"
   ]
  },
  {
   "cell_type": "markdown",
   "metadata": {},
   "source": [
    "### Reconhecendo as litologia mapeadas em suas escalas\n",
    "- Faremos um filtro na coluna LEGENDA e LITOTIOPOS para selecionar as classes de interesse e, com estas geometrias, selecionaremos os mapas que as contém.\n",
    "- Assim podemos identificar quais cartas geológicas e suas escalas podemos trabalhar."
   ]
  },
  {
   "cell_type": "code",
   "execution_count": null,
   "metadata": {},
   "outputs": [],
   "source": [
    "def filtro(gdf,mineral):\n",
    "    filtrado = gdf[gdf['LITOTIPOS'].str.contains(mineral)]\n",
    "    if filtrado.empty:\n",
    "        print(f\"{list(gdf['LITOTIPOS'].unique())}\")\n",
    "    else:\n",
    "        return filtrado"
   ]
  },
  {
   "cell_type": "code",
   "execution_count": null,
   "metadata": {},
   "outputs": [],
   "source": [
    "litologia_grafitosa_1kk = filtro(litologia_1kk,'graf')"
   ]
  },
  {
   "cell_type": "code",
   "execution_count": null,
   "metadata": {},
   "outputs": [],
   "source": [
    "litotipos_vazio = litologia_1kk[litologia_1kk.LITOTIPOS.isna()]\n",
    "litotipos_vazio.LITOTIPOS"
   ]
  },
  {
   "cell_type": "code",
   "execution_count": null,
   "metadata": {},
   "outputs": [],
   "source": [
    "#Foi necessário inserir a str 'Vazio' em celas que não continham valores para que a função de filtro funcionasse corretamente na coluna LEGENDA.\n",
    "\n",
    "litologia_1kk.fillna('Vazio',inplace=True)\n",
    "litologia_250k.fillna('Vazio',inplace=True)\n",
    "litologia_100k.fillna('Vazio',inplace=True)\n",
    "litologia_50k.fillna('Vazio',inplace=True)"
   ]
  },
  {
   "cell_type": "code",
   "execution_count": null,
   "metadata": {},
   "outputs": [],
   "source": [
    "litologia_1kk.to_file(gdb+'geodatabase.gpkg',\n",
    "              driver='GPKG',\n",
    "              layer='litologia_1kk')\n",
    "\n",
    "litologia_250k.to_file(gdb+'geodatabase.gpkg',\n",
    "              driver='GPKG',\n",
    "              layer='litologia_250k')\n",
    "\n",
    "litologia_100k.to_file(gdb+'geodatabase.gpkg',\n",
    "              driver='GPKG',\n",
    "              layer='litologia_100k')\n",
    "\n",
    "litologia_50k.to_file(gdb+'geodatabase.gpkg',\n",
    "              driver='GPKG',\n",
    "              layer='litologia_50k')"
   ]
  },
  {
   "cell_type": "code",
   "execution_count": null,
   "metadata": {
    "tags": []
   },
   "outputs": [],
   "source": [
    "Grafita_xistos_1kk = filtro(litologia_1kk,'Graf')\n",
    "list(Grafita_xistos_1kk['LITOTIPOS'].unique())"
   ]
  },
  {
   "cell_type": "markdown",
   "metadata": {},
   "source": [
    "#### Desafio desnecessário para provar meus conhecimentos com for loops:"
   ]
  },
  {
   "cell_type": "code",
   "execution_count": null,
   "metadata": {},
   "outputs": [],
   "source": [
    "#list_gr_100k = mapas_lito_gr_100k\n",
    "\n",
    "indice=0\n",
    "for i in mapas_lito_gr_100k:\n",
    "    print(i)\n",
    "    list_gr_100k[indice] = l_100k[l_100k['MAPA'].str.contains(\"i\")]\n",
    "    indice+=1\n"
   ]
  },
  {
   "cell_type": "code",
   "execution_count": null,
   "metadata": {},
   "outputs": [],
   "source": [
    "len(list_gr_100k)"
   ]
  },
  {
   "cell_type": "code",
   "execution_count": null,
   "metadata": {},
   "outputs": [],
   "source": [
    "lista_mapa = list(litologia_1kk.MAPA.unique())\n",
    "print(len(lista_mapa))\n",
    "lista_nome=[]\n",
    "\n",
    "for mapa in lista_mapa:\n",
    "    trash=0\n",
    "    Mapa=[]\n",
    "    for letra in mapa:\n",
    "        if trash<25:\n",
    "            trash+=1\n",
    "        else:\n",
    "            Mapa+=letra\n",
    "    lista_nome += [''.join(Mapa)]"
   ]
  },
  {
   "cell_type": "code",
   "execution_count": null,
   "metadata": {},
   "outputs": [],
   "source": [
    "lista_nome"
   ]
  },
  {
   "cell_type": "code",
   "execution_count": null,
   "metadata": {},
   "outputs": [],
   "source": [
    "folha=lista_nome\n",
    "indice=0\n",
    "for i in lista_nome:\n",
    "    print(i)\n",
    "    folha[indice] = litologia_1kk[litologia_1kk['MAPA'].str.contains(i)].dissolve('MAPA')\n",
    "    indice+=1"
   ]
  },
  {
   "cell_type": "code",
   "execution_count": null,
   "metadata": {},
   "outputs": [],
   "source": [
    "folha[31].plot()"
   ]
  },
  {
   "cell_type": "code",
   "execution_count": null,
   "metadata": {},
   "outputs": [],
   "source": [
    "lista_mapa = list(litologia_100k.MAPA.unique())\n",
    "lista_mapa"
   ]
  },
  {
   "cell_type": "code",
   "execution_count": null,
   "metadata": {},
   "outputs": [],
   "source": [
    "lista_nome=[]\n",
    "for mapa in lista_mapa:\n",
    "    trash=0\n",
    "    Mapa=[]\n",
    "    for letra in mapa:\n",
    "        if trash<25:\n",
    "            trash+=1\n",
    "        else:\n",
    "            Mapa+=letra\n",
    "    lista_nome += [''.join(Mapa)]"
   ]
  },
  {
   "cell_type": "code",
   "execution_count": null,
   "metadata": {},
   "outputs": [],
   "source": [
    "len(lista_nome)"
   ]
  },
  {
   "cell_type": "code",
   "execution_count": null,
   "metadata": {},
   "outputs": [],
   "source": [
    "folha=lista_nome\n",
    "indice=0\n",
    "for i in lista_nome:\n",
    "    print(i)\n",
    "    folha[indice] = l_100k[l_100k['MAPA'].str.contains(i)].dissolve('MAPA')\n",
    "    indice+=1"
   ]
  },
  {
   "cell_type": "code",
   "execution_count": null,
   "metadata": {},
   "outputs": [],
   "source": [
    "len(folha)"
   ]
  }
 ],
 "metadata": {
  "interpreter": {
   "hash": "d412e3d091f5968552f8aa760bc8da416522b5884f97efbbec2149c97127b032"
  },
  "kernelspec": {
   "display_name": "Python 3.9.7 64-bit ('geologist_machine': conda)",
   "language": "python",
   "name": "python397jvsc74a57bd02c529cee6206cc344f774ffef689e0d3b2d7e85239d30226c4dd89992f5684b5"
  },
  "language_info": {
   "codemirror_mode": {
    "name": "ipython",
    "version": 3
   },
   "file_extension": ".py",
   "mimetype": "text/x-python",
   "name": "python",
   "nbconvert_exporter": "python",
   "pygments_lexer": "ipython3",
   "version": "3.9.7"
  }
 },
 "nbformat": 4,
 "nbformat_minor": 4
}
