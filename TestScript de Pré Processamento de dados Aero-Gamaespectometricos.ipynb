{
 "cells": [
  {
   "cell_type": "code",
   "execution_count": 1,
   "source": [
    "#from sources.filtros import filtro"
   ],
   "outputs": [],
   "metadata": {}
  },
  {
   "cell_type": "code",
   "execution_count": 2,
   "source": [
    "import matplotlib.pyplot as plt \n",
    "\n",
    "%matplotlib widget              \n",
    "\n",
    "plt.rcParams['figure.dpi'] = 120\n",
    "\n",
    "import seaborn as sns\n"
   ],
   "outputs": [],
   "metadata": {}
  },
  {
   "cell_type": "code",
   "execution_count": 3,
   "source": [
    "from scripts.interpolaçao import interpolar"
   ],
   "outputs": [],
   "metadata": {}
  },
  {
   "cell_type": "code",
   "execution_count": 4,
   "source": [
    "from scripts.get_region import get_region"
   ],
   "outputs": [],
   "metadata": {}
  },
  {
   "cell_type": "code",
   "execution_count": 28,
   "source": [
    "dic_cartas, dic_raw_meta = get_region('100k','SF23_Y_B_I','gama_line_1105','litologia_1kk')"
   ],
   "outputs": [
    {
     "output_type": "stream",
     "name": "stdout",
     "text": [
      "importando dados geofisicos\n"
     ]
    },
    {
     "output_type": "stream",
     "name": "stderr",
     "text": [
      "/home/ggrl/anaconda3/envs/geologist_bot/lib/python3.8/site-packages/geopandas/geodataframe.py:1322: SettingWithCopyWarning: \n",
      "A value is trying to be set on a copy of a slice from a DataFrame.\n",
      "Try using .loc[row_indexer,col_indexer] = value instead\n",
      "\n",
      "See the caveats in the documentation: https://pandas.pydata.org/pandas-docs/stable/user_guide/indexing.html#returning-a-view-versus-a-copy\n",
      "  super(GeoDataFrame, self).__setitem__(key, value)\n"
     ]
    },
    {
     "output_type": "stream",
     "name": "stdout",
     "text": [
      "# --- Iniciando seleção de área de estudo\n",
      "EPSG:32723\n",
      "1 folha cartográfica selecionada\n",
      "\n",
      "Lista de chaves do dicionario de cartas: ['region', 'region_proj', 'raw_data', 'splines', 'scores', 'lito_splines', 'mean_score', 'litologia', 'cubic', 'lito_cubic']\n",
      "Listando atributos dos dados geofisicos\n"
     ]
    },
    {
     "output_type": "stream",
     "name": "stderr",
     "text": [
      "100%|██████████| 12/12 [00:00<00:00, 364722.09it/s]"
     ]
    },
    {
     "output_type": "stream",
     "name": "stdout",
     "text": [
      "# --- # Listagem de dados do aerolevantamento:  \n",
      "Lista de atributos geofísicos = ['KPERC', 'eU', 'eTH', 'UTHRAZAO', 'UKRAZAO', 'MDT', 'THKRAZAO', 'CTCOR']\n",
      "lista de atributos geograficos = ['LATITUDE', 'LONGITUDE']\n",
      "lista de atributos projetados = ['X', 'Y']\n"
     ]
    },
    {
     "output_type": "stream",
     "name": "stderr",
     "text": [
      "\n"
     ]
    },
    {
     "output_type": "stream",
     "name": "stdout",
     "text": [
      "Lista de chaves do dicionario de metadata bruto: ['Metadata', 'Lista_id', 'Lista_at_geof', 'Lista_at_geog', 'Lista_at_proj', 'Percentiles', 'Malha_cartografica']\n",
      "\n",
      "# --- Início da iteração entre as folhas cartográficas #\n"
     ]
    },
    {
     "output_type": "stream",
     "name": "stderr",
     "text": [
      "0it [00:00, ?it/s]"
     ]
    },
    {
     "output_type": "stream",
     "name": "stdout",
     "text": [
      "SF23_Y_B_I geometry       POLYGON ((345155.9214983206 7566413.631237755,...\n",
      "region                              (-46.5, -46.0, -22.5, -22.0)\n",
      "region_proj    (345155.92149832065, 397141.19065775815, 75110...\n",
      "Name: SF23_Y_B_I, dtype: object\n",
      "# Folha de código: SF23_Y_B_I\n",
      " Atualizando dados brutos em dic_cartas['raw_data']\n",
      " com 72603 pontos de amostragem\n",
      "epsg:32723\n"
     ]
    },
    {
     "output_type": "stream",
     "name": "stderr",
     "text": [
      "1it [00:17, 17.47s/it]"
     ]
    },
    {
     "output_type": "stream",
     "name": "stdout",
     "text": [
      " Atualizando dados geologicos em dic_cartas['litologia']\n",
      " com 60 poligonos descritos por                         27 atributos geologicos \n"
     ]
    },
    {
     "output_type": "stream",
     "name": "stderr",
     "text": [
      "\n"
     ]
    }
   ],
   "metadata": {}
  },
  {
   "cell_type": "code",
   "execution_count": 30,
   "source": [
    "dic_raw_meta.keys()"
   ],
   "outputs": [
    {
     "output_type": "execute_result",
     "data": {
      "text/plain": [
       "dict_keys(['Metadata', 'Lista_id', 'Lista_at_geof', 'Lista_at_geog', 'Lista_at_proj', 'Percentiles', 'Malha_cartografica'])"
      ]
     },
     "metadata": {},
     "execution_count": 30
    }
   ],
   "metadata": {}
  },
  {
   "cell_type": "code",
   "execution_count": 31,
   "source": [
    "dic_raw_meta['Metadata']"
   ],
   "outputs": [
    {
     "output_type": "execute_result",
     "data": {
      "text/html": [
       "<div>\n",
       "<style scoped>\n",
       "    .dataframe tbody tr th:only-of-type {\n",
       "        vertical-align: middle;\n",
       "    }\n",
       "\n",
       "    .dataframe tbody tr th {\n",
       "        vertical-align: top;\n",
       "    }\n",
       "\n",
       "    .dataframe thead th {\n",
       "        text-align: right;\n",
       "    }\n",
       "</style>\n",
       "<table border=\"1\" class=\"dataframe\">\n",
       "  <thead>\n",
       "    <tr style=\"text-align: right;\">\n",
       "      <th></th>\n",
       "      <th>dType</th>\n",
       "      <th>Valores Faltantes</th>\n",
       "      <th>Valores Únicos</th>\n",
       "      <th>Amostragem</th>\n",
       "    </tr>\n",
       "  </thead>\n",
       "  <tbody>\n",
       "    <tr>\n",
       "      <th>KPERC</th>\n",
       "      <td>float64</td>\n",
       "      <td>0</td>\n",
       "      <td>6955</td>\n",
       "      <td>1169659</td>\n",
       "    </tr>\n",
       "    <tr>\n",
       "      <th>eU</th>\n",
       "      <td>float64</td>\n",
       "      <td>0</td>\n",
       "      <td>8168</td>\n",
       "      <td>1169659</td>\n",
       "    </tr>\n",
       "    <tr>\n",
       "      <th>eTH</th>\n",
       "      <td>float64</td>\n",
       "      <td>0</td>\n",
       "      <td>61336</td>\n",
       "      <td>1169659</td>\n",
       "    </tr>\n",
       "    <tr>\n",
       "      <th>UTHRAZAO</th>\n",
       "      <td>float64</td>\n",
       "      <td>0</td>\n",
       "      <td>793</td>\n",
       "      <td>1169659</td>\n",
       "    </tr>\n",
       "    <tr>\n",
       "      <th>X</th>\n",
       "      <td>float64</td>\n",
       "      <td>0</td>\n",
       "      <td>888292</td>\n",
       "      <td>1169659</td>\n",
       "    </tr>\n",
       "    <tr>\n",
       "      <th>Y</th>\n",
       "      <td>float64</td>\n",
       "      <td>0</td>\n",
       "      <td>1134332</td>\n",
       "      <td>1169659</td>\n",
       "    </tr>\n",
       "    <tr>\n",
       "      <th>UKRAZAO</th>\n",
       "      <td>float64</td>\n",
       "      <td>0</td>\n",
       "      <td>18813</td>\n",
       "      <td>1169659</td>\n",
       "    </tr>\n",
       "    <tr>\n",
       "      <th>MDT</th>\n",
       "      <td>float64</td>\n",
       "      <td>0</td>\n",
       "      <td>165213</td>\n",
       "      <td>1169659</td>\n",
       "    </tr>\n",
       "    <tr>\n",
       "      <th>THKRAZAO</th>\n",
       "      <td>float64</td>\n",
       "      <td>0</td>\n",
       "      <td>115015</td>\n",
       "      <td>1169659</td>\n",
       "    </tr>\n",
       "    <tr>\n",
       "      <th>CTCOR</th>\n",
       "      <td>float64</td>\n",
       "      <td>0</td>\n",
       "      <td>56613</td>\n",
       "      <td>1169659</td>\n",
       "    </tr>\n",
       "    <tr>\n",
       "      <th>LATITUDE</th>\n",
       "      <td>float64</td>\n",
       "      <td>0</td>\n",
       "      <td>851263</td>\n",
       "      <td>1169659</td>\n",
       "    </tr>\n",
       "    <tr>\n",
       "      <th>LONGITUDE</th>\n",
       "      <td>float64</td>\n",
       "      <td>0</td>\n",
       "      <td>728161</td>\n",
       "      <td>1169659</td>\n",
       "    </tr>\n",
       "  </tbody>\n",
       "</table>\n",
       "</div>"
      ],
      "text/plain": [
       "             dType  Valores Faltantes  Valores Únicos  Amostragem\n",
       "KPERC      float64                  0            6955     1169659\n",
       "eU         float64                  0            8168     1169659\n",
       "eTH        float64                  0           61336     1169659\n",
       "UTHRAZAO   float64                  0             793     1169659\n",
       "X          float64                  0          888292     1169659\n",
       "Y          float64                  0         1134332     1169659\n",
       "UKRAZAO    float64                  0           18813     1169659\n",
       "MDT        float64                  0          165213     1169659\n",
       "THKRAZAO   float64                  0          115015     1169659\n",
       "CTCOR      float64                  0           56613     1169659\n",
       "LATITUDE   float64                  0          851263     1169659\n",
       "LONGITUDE  float64                  0          728161     1169659"
      ]
     },
     "metadata": {},
     "execution_count": 31
    }
   ],
   "metadata": {}
  },
  {
   "cell_type": "code",
   "execution_count": null,
   "source": [],
   "outputs": [],
   "metadata": {}
  },
  {
   "cell_type": "code",
   "execution_count": 5,
   "source": [
    "#Levantamento 1089 \n",
    "dic_cartas,dic_raw_meta = \\\n",
    "interpolar('100k','SF23_Y_B_I',\n",
    "            'gama_line_1105',camada='litologia_1kk',\n",
    "            describe=False,\n",
    "            crs__='proj',\n",
    "            tdm='cubico',gama=True,selecionar=True)"
   ],
   "outputs": [
    {
     "output_type": "stream",
     "name": "stdout",
     "text": [
      "importando dados geofisicos\n"
     ]
    },
    {
     "output_type": "stream",
     "name": "stderr",
     "text": [
      "/home/ggrl/anaconda3/envs/geologist_bot/lib/python3.8/site-packages/geopandas/geodataframe.py:1322: SettingWithCopyWarning: \n",
      "A value is trying to be set on a copy of a slice from a DataFrame.\n",
      "Try using .loc[row_indexer,col_indexer] = value instead\n",
      "\n",
      "See the caveats in the documentation: https://pandas.pydata.org/pandas-docs/stable/user_guide/indexing.html#returning-a-view-versus-a-copy\n",
      "  super(GeoDataFrame, self).__setitem__(key, value)\n"
     ]
    },
    {
     "output_type": "stream",
     "name": "stdout",
     "text": [
      "# --- Iniciando seleção de área de estudo\n",
      "EPSG:32723\n",
      "1 folha cartográfica selecionada\n",
      "\n",
      "Lista de chaves do dicionario de cartas: ['region', 'region_proj', 'raw_data', 'splines', 'scores', 'lito_splines', 'mean_score', 'litologia', 'cubic', 'lito_cubic']\n",
      "Listando atributos dos dados geofisicos\n"
     ]
    },
    {
     "output_type": "stream",
     "name": "stderr",
     "text": [
      "100%|██████████| 12/12 [00:00<00:00, 202135.13it/s]"
     ]
    },
    {
     "output_type": "stream",
     "name": "stdout",
     "text": [
      "# --- # Listagem de dados do aerolevantamento:  \n",
      "Lista de atributos geofísicos = ['KPERC', 'eU', 'eTH', 'UTHRAZAO', 'UKRAZAO', 'MDT', 'THKRAZAO', 'CTCOR']\n",
      "lista de atributos geograficos = ['LATITUDE', 'LONGITUDE']\n",
      "lista de atributos projetados = ['X', 'Y']\n"
     ]
    },
    {
     "output_type": "stream",
     "name": "stderr",
     "text": [
      "\n"
     ]
    },
    {
     "output_type": "stream",
     "name": "stdout",
     "text": [
      "Lista de chaves do dicionario de metadata bruto: ['Metadata', 'Lista_id', 'Lista_at_geof', 'Lista_at_geog', 'Lista_at_proj', 'Percentiles', 'Malha_cartografica']\n",
      "\n",
      "# --- Início da iteração entre as folhas cartográficas #\n"
     ]
    },
    {
     "output_type": "stream",
     "name": "stderr",
     "text": [
      "0it [00:00, ?it/s]"
     ]
    },
    {
     "output_type": "stream",
     "name": "stdout",
     "text": [
      "SF23_Y_B_I geometry       POLYGON ((345155.9214983206 7566413.631237755,...\n",
      "region                              (-46.5, -46.0, -22.5, -22.0)\n",
      "region_proj    (345155.92149832065, 397141.19065775815, 75110...\n",
      "Name: SF23_Y_B_I, dtype: object\n",
      "# Folha de código: SF23_Y_B_I\n",
      " Atualizando dados brutos em dic_cartas['raw_data']\n",
      " com 72603 pontos de amostragem\n",
      "epsg:32723\n"
     ]
    },
    {
     "output_type": "stream",
     "name": "stderr",
     "text": [
      "1it [00:17, 17.42s/it]\n"
     ]
    },
    {
     "output_type": "stream",
     "name": "stdout",
     "text": [
      " Atualizando dados geologicos em dic_cartas['litologia']\n",
      " com 60 poligonos descritos por                         27 atributos geologicos \n"
     ]
    },
    {
     "output_type": "stream",
     "name": "stderr",
     "text": [
      "0it [00:00, ?it/s]"
     ]
    },
    {
     "output_type": "stream",
     "name": "stdout",
     "text": [
      "# Folha de código: SF23_Y_B_I\n",
      " Atualizando dados brutos em dic_cartas['raw_data']\n",
      " com 72603 pontos de contagens radiométricas coletados com linhas de voo de None metros\n"
     ]
    },
    {
     "output_type": "stream",
     "name": "stderr",
     "text": [
      "100%|██████████| 8/8 [04:41<00:00, 35.20s/it]\n",
      "1it [04:41, 281.58s/it]\n"
     ]
    },
    {
     "output_type": "stream",
     "name": "stdout",
     "text": [
      " \n",
      "Dicionário de cartas disponível\n"
     ]
    }
   ],
   "metadata": {}
  },
  {
   "cell_type": "markdown",
   "source": [
    "## Descriçao estatistica dos dados brutos"
   ],
   "metadata": {}
  },
  {
   "cell_type": "code",
   "execution_count": 11,
   "source": [
    "dic_cartas.keys()"
   ],
   "outputs": [
    {
     "output_type": "execute_result",
     "data": {
      "text/plain": [
       "dict_keys(['region', 'region_proj', 'raw_data', 'splines', 'scores', 'lito_splines', 'mean_score', 'litologia', 'cubic', 'lito_cubic'])"
      ]
     },
     "metadata": {},
     "execution_count": 11
    }
   ],
   "metadata": {}
  },
  {
   "cell_type": "code",
   "execution_count": 13,
   "source": [
    "dic_raw_meta.keys()"
   ],
   "outputs": [
    {
     "output_type": "execute_result",
     "data": {
      "text/plain": [
       "dict_keys(['Metadata', 'Lista_id', 'Lista_at_geof', 'Lista_at_geog', 'Lista_at_proj', 'Percentiles', 'Malha_cartografica'])"
      ]
     },
     "metadata": {},
     "execution_count": 13
    }
   ],
   "metadata": {}
  },
  {
   "cell_type": "code",
   "execution_count": 6,
   "source": [
    "dic_raw_meta['Percentiles'].T"
   ],
   "outputs": [
    {
     "output_type": "execute_result",
     "data": {
      "text/html": [
       "<div>\n",
       "<style scoped>\n",
       "    .dataframe tbody tr th:only-of-type {\n",
       "        vertical-align: middle;\n",
       "    }\n",
       "\n",
       "    .dataframe tbody tr th {\n",
       "        vertical-align: top;\n",
       "    }\n",
       "\n",
       "    .dataframe thead th {\n",
       "        text-align: right;\n",
       "    }\n",
       "</style>\n",
       "<table border=\"1\" class=\"dataframe\">\n",
       "  <thead>\n",
       "    <tr style=\"text-align: right;\">\n",
       "      <th></th>\n",
       "      <th>count</th>\n",
       "      <th>mean</th>\n",
       "      <th>std</th>\n",
       "      <th>min</th>\n",
       "      <th>0.1%</th>\n",
       "      <th>10%</th>\n",
       "      <th>25%</th>\n",
       "      <th>50%</th>\n",
       "      <th>75%</th>\n",
       "      <th>99.5%</th>\n",
       "      <th>max</th>\n",
       "    </tr>\n",
       "  </thead>\n",
       "  <tbody>\n",
       "    <tr>\n",
       "      <th>KPERC</th>\n",
       "      <td>1169659.0</td>\n",
       "      <td>0.959790</td>\n",
       "      <td>0.854709</td>\n",
       "      <td>-0.500</td>\n",
       "      <td>-0.355</td>\n",
       "      <td>0.085</td>\n",
       "      <td>0.382</td>\n",
       "      <td>0.757</td>\n",
       "      <td>1.306</td>\n",
       "      <td>4.53000</td>\n",
       "      <td>14.577</td>\n",
       "    </tr>\n",
       "    <tr>\n",
       "      <th>eU</th>\n",
       "      <td>1169659.0</td>\n",
       "      <td>1.736779</td>\n",
       "      <td>1.092923</td>\n",
       "      <td>-0.500</td>\n",
       "      <td>-0.381</td>\n",
       "      <td>0.325</td>\n",
       "      <td>1.008</td>\n",
       "      <td>1.673</td>\n",
       "      <td>2.373</td>\n",
       "      <td>5.38300</td>\n",
       "      <td>23.934</td>\n",
       "    </tr>\n",
       "    <tr>\n",
       "      <th>eTH</th>\n",
       "      <td>1169659.0</td>\n",
       "      <td>19.289047</td>\n",
       "      <td>11.065808</td>\n",
       "      <td>-4.048</td>\n",
       "      <td>-0.722</td>\n",
       "      <td>6.860</td>\n",
       "      <td>12.290</td>\n",
       "      <td>18.382</td>\n",
       "      <td>25.207</td>\n",
       "      <td>59.15600</td>\n",
       "      <td>241.474</td>\n",
       "    </tr>\n",
       "    <tr>\n",
       "      <th>UTHRAZAO</th>\n",
       "      <td>1169659.0</td>\n",
       "      <td>0.097126</td>\n",
       "      <td>0.042352</td>\n",
       "      <td>0.000</td>\n",
       "      <td>0.000</td>\n",
       "      <td>0.056</td>\n",
       "      <td>0.073</td>\n",
       "      <td>0.090</td>\n",
       "      <td>0.111</td>\n",
       "      <td>0.27900</td>\n",
       "      <td>2.669</td>\n",
       "    </tr>\n",
       "    <tr>\n",
       "      <th>UKRAZAO</th>\n",
       "      <td>1169659.0</td>\n",
       "      <td>2.716171</td>\n",
       "      <td>2.416952</td>\n",
       "      <td>0.042</td>\n",
       "      <td>0.181</td>\n",
       "      <td>0.819</td>\n",
       "      <td>1.300</td>\n",
       "      <td>1.911</td>\n",
       "      <td>3.302</td>\n",
       "      <td>14.90200</td>\n",
       "      <td>59.007</td>\n",
       "    </tr>\n",
       "    <tr>\n",
       "      <th>MDT</th>\n",
       "      <td>1169659.0</td>\n",
       "      <td>872.675007</td>\n",
       "      <td>408.562445</td>\n",
       "      <td>-4.100</td>\n",
       "      <td>0.000</td>\n",
       "      <td>395.280</td>\n",
       "      <td>641.520</td>\n",
       "      <td>887.680</td>\n",
       "      <td>1113.550</td>\n",
       "      <td>1933.61130</td>\n",
       "      <td>2751.590</td>\n",
       "    </tr>\n",
       "    <tr>\n",
       "      <th>THKRAZAO</th>\n",
       "      <td>1169659.0</td>\n",
       "      <td>29.505581</td>\n",
       "      <td>25.788561</td>\n",
       "      <td>0.798</td>\n",
       "      <td>3.123</td>\n",
       "      <td>10.004</td>\n",
       "      <td>14.793</td>\n",
       "      <td>20.741</td>\n",
       "      <td>34.791</td>\n",
       "      <td>162.71671</td>\n",
       "      <td>525.859</td>\n",
       "    </tr>\n",
       "    <tr>\n",
       "      <th>CTCOR</th>\n",
       "      <td>1169659.0</td>\n",
       "      <td>14.176621</td>\n",
       "      <td>10.738090</td>\n",
       "      <td>-11.575</td>\n",
       "      <td>-1.641</td>\n",
       "      <td>3.814</td>\n",
       "      <td>6.608</td>\n",
       "      <td>11.263</td>\n",
       "      <td>19.699</td>\n",
       "      <td>56.54200</td>\n",
       "      <td>246.600</td>\n",
       "    </tr>\n",
       "  </tbody>\n",
       "</table>\n",
       "</div>"
      ],
      "text/plain": [
       "              count        mean         std     min   0.1%      10%      25%  \\\n",
       "KPERC     1169659.0    0.959790    0.854709  -0.500 -0.355    0.085    0.382   \n",
       "eU        1169659.0    1.736779    1.092923  -0.500 -0.381    0.325    1.008   \n",
       "eTH       1169659.0   19.289047   11.065808  -4.048 -0.722    6.860   12.290   \n",
       "UTHRAZAO  1169659.0    0.097126    0.042352   0.000  0.000    0.056    0.073   \n",
       "UKRAZAO   1169659.0    2.716171    2.416952   0.042  0.181    0.819    1.300   \n",
       "MDT       1169659.0  872.675007  408.562445  -4.100  0.000  395.280  641.520   \n",
       "THKRAZAO  1169659.0   29.505581   25.788561   0.798  3.123   10.004   14.793   \n",
       "CTCOR     1169659.0   14.176621   10.738090 -11.575 -1.641    3.814    6.608   \n",
       "\n",
       "              50%       75%       99.5%       max  \n",
       "KPERC       0.757     1.306     4.53000    14.577  \n",
       "eU          1.673     2.373     5.38300    23.934  \n",
       "eTH        18.382    25.207    59.15600   241.474  \n",
       "UTHRAZAO    0.090     0.111     0.27900     2.669  \n",
       "UKRAZAO     1.911     3.302    14.90200    59.007  \n",
       "MDT       887.680  1113.550  1933.61130  2751.590  \n",
       "THKRAZAO   20.741    34.791   162.71671   525.859  \n",
       "CTCOR      11.263    19.699    56.54200   246.600  "
      ]
     },
     "metadata": {},
     "execution_count": 6
    }
   ],
   "metadata": {}
  },
  {
   "cell_type": "code",
   "execution_count": 7,
   "source": [
    "dic_cartas['mean_score']"
   ],
   "outputs": [
    {
     "output_type": "execute_result",
     "data": {
      "text/plain": [
       "{'SF23_Y_B_I': ''}"
      ]
     },
     "metadata": {},
     "execution_count": 7
    }
   ],
   "metadata": {}
  },
  {
   "cell_type": "markdown",
   "source": [
    "{'SC23_Z_A_IV': {'MDT': 0.8334158339524731,\n",
    "  'KPERC': 0.18091328322392417,\n",
    "  'eU': 0.19612079468324217,\n",
    "  'eth': 0.41133174470341644,\n",
    "  'CTCOR': 0.41790058475767133,\n",
    "  'THKRAZAO': 0.008707459671240092,\n",
    "  'UKRAZAO': 0.04778105652944411,\n",
    "  'UTHRAZAO': 0.11266206587505746}}"
   ],
   "metadata": {}
  },
  {
   "cell_type": "markdown",
   "source": [
    "## DESCRIÇÃO DOS DADOS DA FOLHA SC23_Z_A_IV_1"
   ],
   "metadata": {}
  },
  {
   "cell_type": "markdown",
   "source": [
    "### DICIONARIO DE DADOS DISPONIVEIS\n",
    "    - Regioes geograficas (W,E, S, N)\n",
    "    - Regioes projetadas (W,E, S, N)\n",
    "    - Dados Brutos\n",
    "    - Dados Interpolados\n",
    "    - Scores da Validacao Crusada para os dados interpolados\n",
    "    - Dataframe com classes alvos (Unidades Litologicas)"
   ],
   "metadata": {}
  },
  {
   "cell_type": "code",
   "execution_count": 8,
   "source": [
    "for i in dic_cartas:\n",
    "    print(i)"
   ],
   "outputs": [
    {
     "output_type": "stream",
     "name": "stdout",
     "text": [
      "region\n",
      "region_proj\n",
      "raw_data\n",
      "splines\n",
      "scores\n",
      "lito_splines\n",
      "mean_score\n",
      "litologia\n",
      "cubic\n",
      "lito_cubic\n"
     ]
    }
   ],
   "metadata": {}
  },
  {
   "cell_type": "code",
   "execution_count": 9,
   "source": [
    "print(f\"#  folhas cartograficas: {len(dic_cartas['region'])}\")\n",
    "print(f\"ID folhas cartograficas: {list(dic_cartas['region'].keys())}\")"
   ],
   "outputs": [
    {
     "output_type": "stream",
     "name": "stdout",
     "text": [
      "#  folhas cartograficas: 1\n",
      "ID folhas cartograficas: ['SF23_Y_B_I']\n"
     ]
    }
   ],
   "metadata": {}
  },
  {
   "cell_type": "code",
   "execution_count": 21,
   "source": [
    "#print(f\"Dados interpolados pleo modelo de splines: {list(dic_cartas['splines']['SF23_Y_B_I'].keys())}\")\n",
    "print(f\"Dados interpolados pleo modelo de cubico: {list(dic_cartas['cubic']['SF23_Y_B_I'].keys())}\")"
   ],
   "outputs": [
    {
     "output_type": "stream",
     "name": "stdout",
     "text": [
      "Dados interpolados pleo modelo de cubico: ['X', 'Y', 'MDT', 'CTCOR', 'KPERC', 'eU', 'eTH', 'UTHRAZAO', 'UKRAZAO', 'THKRAZAO']\n"
     ]
    }
   ],
   "metadata": {
    "scrolled": true
   }
  },
  {
   "cell_type": "code",
   "execution_count": 22,
   "source": [
    "#print(f\"Dataframe de classes litologicas disponiveis: {list(dic_cartas['lito_splines']['SF23_Y_B_I'].keys())}\")\n",
    "#print(f\"Dataframe de classes litologicas disponiveis: {list(dic_cartas['lito_cubic']['SF23_Y_B_I'].keys())}\")"
   ],
   "outputs": [],
   "metadata": {}
  },
  {
   "cell_type": "markdown",
   "source": [
    "### CRIANDO DICIONARIO DE TITULOS PARA OS PLOTS"
   ],
   "metadata": {}
  },
  {
   "cell_type": "code",
   "execution_count": 24,
   "source": [
    "list_canal = dic_raw_meta['Lista_at_geof']\n",
    "print(f\"Lista de atributos: {list_canal}\")\n",
    "\n",
    "# LISTA DE TITULOS \n",
    "titles =   [\n",
    "            'K (%)',\n",
    "            'U (ppm)',\n",
    "            'Th (ppm)',\n",
    "            'U (ppm) / Th (ppm)',\n",
    "            'U (ppm) / K (%)',\n",
    "            'MDT (m)',\n",
    "            'Th (ppm) / K (%)',\n",
    "            'Contagem Total (μR/h)'\n",
    "            ]\n",
    "\n",
    "\n",
    "# DICIONARIO DE TITULOS\n",
    "dic_titles = {}\n",
    "for f, t in zip(list_canal, titles):\n",
    "    dic_titles[f] = t\n",
    "\n",
    "dic_titles"
   ],
   "outputs": [
    {
     "output_type": "stream",
     "name": "stdout",
     "text": [
      "Lista de atributos: ['KPERC', 'eU', 'eTH', 'UTHRAZAO', 'UKRAZAO', 'MDT', 'THKRAZAO', 'CTCOR']\n"
     ]
    },
    {
     "output_type": "execute_result",
     "data": {
      "text/plain": [
       "{'KPERC': 'K (%)',\n",
       " 'eU': 'U (ppm)',\n",
       " 'eTH': 'Th (ppm)',\n",
       " 'UTHRAZAO': 'U (ppm) / Th (ppm)',\n",
       " 'UKRAZAO': 'U (ppm) / K (%)',\n",
       " 'MDT': 'MDT (m)',\n",
       " 'THKRAZAO': 'Th (ppm) / K (%)',\n",
       " 'CTCOR': 'Contagem Total (μR/h)'}"
      ]
     },
     "metadata": {},
     "execution_count": 24
    }
   ],
   "metadata": {}
  },
  {
   "cell_type": "markdown",
   "source": [
    "#### DISTRIBUICAO GEOSTATISTICA DOS DADOS BRUTOS"
   ],
   "metadata": {}
  },
  {
   "cell_type": "code",
   "execution_count": null,
   "source": [
    "dic_cartas['raw_data']['SF23_Y_B_I']"
   ],
   "outputs": [],
   "metadata": {}
  },
  {
   "cell_type": "code",
   "execution_count": null,
   "source": [
    "SF23_Y_B_I_raw_data = dic_cartas['raw_data']['SF23_Y_B_I']\n",
    "SF23_Y_B_I_raw_data_describe = SF23_Y_B_I_raw_data.describe(percentiles=(0.01,0.1,0.25,0.5,0.75,0.995))"
   ],
   "outputs": [],
   "metadata": {}
  },
  {
   "cell_type": "code",
   "execution_count": 26,
   "source": [
    "litologia = dic_cartas['litologia']['SF23_Y_B_I']\n",
    "litologia.to_crs(32723,inplace=True)\n",
    "litologia.plot('SIGLA',\n",
    "                legend=True,\n",
    "                legend_kwds={'loc': 'center left', 'bbox_to_anchor':(1,0.5)})"
   ],
   "outputs": [
    {
     "output_type": "display_data",
     "data": {
      "application/vnd.jupyter.widget-view+json": {
       "version_major": 2,
       "version_minor": 0,
       "model_id": "7ff6e734e32f4264ae2488d10aa67c2a"
      },
      "text/plain": [
       "Canvas(toolbar=Toolbar(toolitems=[('Home', 'Reset original view', 'home', 'home'), ('Back', 'Back to previous …"
      ]
     },
     "metadata": {}
    },
    {
     "output_type": "execute_result",
     "data": {
      "text/plain": [
       "<AxesSubplot:>"
      ]
     },
     "metadata": {},
     "execution_count": 26
    }
   ],
   "metadata": {}
  },
  {
   "cell_type": "code",
   "execution_count": null,
   "source": [
    "dic_titles"
   ],
   "outputs": [],
   "metadata": {}
  },
  {
   "cell_type": "code",
   "execution_count": null,
   "source": [
    "def plot_raw_data(raw_data):\n",
    "    fig, axs = plt.subplots(nrows = 8, ncols = 1, figsize = (9, 9),sharex='all',sharey='all')\n",
    "    \n",
    "    raw_data_describe = raw_data.describe(percentiles=(0.01,0.1,0.25,0.5,0.75,0.995))\n",
    "\n",
    "    X, Y = raw_data.X, raw_data.Y\n",
    "\n",
    "    for ax, f in zip(axs.flat, dic_titles):\n",
    "        vmin = raw_data_describe[f]['1%']\n",
    "        vmax = raw_data_describe[f]['99.5%']\n",
    "\n",
    "        g = ax.scatter(c=raw_data[f], x = X,\n",
    "                                      y = Y,\n",
    "                                      cmap = 'rainbow',\n",
    "                                      s    = 0.5,\n",
    "                                      vmax =vmax, vmin=vmin)\n",
    "\n",
    "        fig.colorbar(g, ax = ax)\n",
    "        ax.set_title(str(dic_titles[f]), size = 11)\n",
    "        ax.axis('scaled')\n",
    "\n",
    "    #plt.tight_layout()"
   ],
   "outputs": [],
   "metadata": {}
  },
  {
   "cell_type": "code",
   "execution_count": null,
   "source": [
    "plot_raw_data(dic_cartas['raw_data']['SC23_Z_A'])"
   ],
   "outputs": [],
   "metadata": {}
  },
  {
   "cell_type": "code",
   "execution_count": null,
   "source": [
    "data = dic_cartas['cubic']['SC23_Z_A']"
   ],
   "outputs": [],
   "metadata": {}
  },
  {
   "cell_type": "code",
   "execution_count": null,
   "source": [
    "plot_raw_data(data)"
   ],
   "outputs": [],
   "metadata": {}
  },
  {
   "cell_type": "code",
   "execution_count": null,
   "source": [
    "lista_splines = list(dic_cartas['splines']['SC23_Z_A_IV'].keys())"
   ],
   "outputs": [],
   "metadata": {}
  },
  {
   "cell_type": "code",
   "execution_count": null,
   "source": [
    "import pandas as pd"
   ],
   "outputs": [],
   "metadata": {}
  },
  {
   "cell_type": "code",
   "execution_count": null,
   "source": [
    "def plot_splines_grid(splines_grid):\n",
    "    fig, axs = plt.subplots(nrows = 4, ncols = 2, figsize = (16, 16),sharex='all',sharey='all')\n",
    "\n",
    "    for ax, f in zip(axs.flat, dic_titles):\n",
    "\n",
    "        df_splines = pd.DataFrame(splines_grid[f][f])\n",
    "\n",
    "        p = df_splines.describe(percentiles=(0.01,0.1,0.25,0.5,0.75,0.995))\n",
    "        print(p)\n",
    "        vmin = p['1%']\n",
    "        vmax = p['99.5%']\n",
    "\n",
    "        g = grids[f][f].plot(ax=ax,\n",
    "                             cmap = 'rainbow',\n",
    "                             vmax =vmax, vmin=vmin)\n",
    "\n",
    "        #fig.colorbar(g, ax = ax)\n",
    "        ax.set_title(str(dic_titles[f]), size = 11)\n",
    "        ax.axis('scaled')\n",
    "\n",
    "    #plt.tight_layout()"
   ],
   "outputs": [],
   "metadata": {}
  },
  {
   "cell_type": "code",
   "execution_count": null,
   "source": [
    "splines_grid[f][f]"
   ],
   "outputs": [],
   "metadata": {}
  },
  {
   "cell_type": "code",
   "execution_count": null,
   "source": [
    "grids = dic_cartas['splines']['SC23_Z_A']\n",
    "\n",
    "plot_splines_grid(grids)"
   ],
   "outputs": [],
   "metadata": {}
  },
  {
   "cell_type": "code",
   "execution_count": null,
   "source": [
    "print(dic_cartas['splines']['SC23_Z_A_IV'].keys())"
   ],
   "outputs": [],
   "metadata": {}
  },
  {
   "cell_type": "code",
   "execution_count": null,
   "source": [
    "dic_cartas['splines']['SC23_Z_A_IV']['MDT']"
   ],
   "outputs": [],
   "metadata": {}
  },
  {
   "cell_type": "code",
   "execution_count": null,
   "source": [
    "dic_cartas['splines']['SC23_Z_A_IV']['MDT'].MDT"
   ],
   "outputs": [],
   "metadata": {}
  },
  {
   "cell_type": "markdown",
   "source": [
    "### DESCRICAO GEOSTATISTICA DOS DADOS INTERPOLADOS"
   ],
   "metadata": {}
  },
  {
   "cell_type": "code",
   "execution_count": null,
   "source": [
    "geodataframe = dic_cartas['lito_splines']['SC23_Z_A_IV'].set_geometry('geometry')\n",
    "print(geodataframe.crs)\n",
    "geodataframe.plot('closest_unid',s= 5,\n",
    "                                 legend=True,\n",
    "                                 legend_kwds={'loc': 'center left', 'bbox_to_anchor':(1,0.5)})\n",
    "                                 \n",
    "plt.title(label=f\"'closest_unid': SC23_Z_A_IV\")\n",
    "plt.axis('scaled')"
   ],
   "outputs": [],
   "metadata": {}
  },
  {
   "cell_type": "code",
   "execution_count": null,
   "source": [
    "from shapely import geometry\n",
    "\n",
    "dic_cartas['lito_cubic']['SC23_Z_A_IV']['geometry'] = [geometry.Point(x,y) for x, y in zip(dic_cartas['lito_cubic']['SC23_Z_A_IV']['X'], dic_cartas['lito_cubic']['SC23_Z_A_IV']['Y'])]\n",
    "\n",
    "geodataframe = dic_cartas['lito_cubic']['SC23_Z_A_IV'].set_geometry('geometry')\n",
    "geodataframe.set_crs(32723,inplace=True)\n",
    "geodataframe.to_crs(32723,inplace=True)\n",
    "\n",
    "print(geodataframe.crs)"
   ],
   "outputs": [],
   "metadata": {}
  },
  {
   "cell_type": "code",
   "execution_count": null,
   "source": [
    "geodataframe"
   ],
   "outputs": [],
   "metadata": {}
  },
  {
   "cell_type": "code",
   "execution_count": null,
   "source": [
    "geodataframe.plot('closest_unid',s= 5,\n",
    "                        legend=True,\n",
    "                        legend_kwds={'loc': 'center left', 'bbox_to_anchor':(1,0.5)}\n",
    "                )\n",
    "                                 \n",
    "plt.title(label=f\"'closest_unid': SC23_Z_A_IV\")"
   ],
   "outputs": [],
   "metadata": {}
  },
  {
   "cell_type": "code",
   "execution_count": null,
   "source": [
    "def plotBoxplots(df, cols = None):\n",
    "    n = len(cols)\n",
    "    fig, axs = plt.subplots(n, 1, figsize = (9, n * 2))\n",
    "    \n",
    "    for ax, f in zip(axs, cols):\n",
    "        sns.boxplot(y = f, x = 'closest_unid', data = df, ax = ax)\n"
   ],
   "outputs": [],
   "metadata": {}
  },
  {
   "cell_type": "code",
   "execution_count": null,
   "source": [
    "plotBoxplots(dic_cartas['lito_splines']['SC23_Z_A_IV'], cols = dic_titles)"
   ],
   "outputs": [],
   "metadata": {}
  },
  {
   "cell_type": "code",
   "execution_count": null,
   "source": [
    "plotBoxplots(dic_cartas['lito_cubic']['SC23_Z_A_IV'], cols = dic_titles)"
   ],
   "outputs": [],
   "metadata": {}
  },
  {
   "cell_type": "code",
   "execution_count": null,
   "source": [
    "fig, axs = plt.subplots(nrows = 4, ncols = 2, figsize = (7, 6))\n",
    "\n",
    "for ax, gf in zip(axs.flat, dic_titles):\n",
    "    g = ax.hist(dic_cartas['lito_splines']['SC23_Z_A_IV'][gf], color = 'lightblue', edgecolor = 'black')\n",
    "    ax.set_title(str(dic_titles[gf]), size = 9)\n",
    "\n",
    "plt.tight_layout()"
   ],
   "outputs": [],
   "metadata": {}
  },
  {
   "cell_type": "code",
   "execution_count": null,
   "source": [
    "fig, axs = plt.subplots(nrows = 4, ncols = 2, figsize = (7, 6))\n",
    "\n",
    "for ax, gf in zip(axs.flat, dic_titles):\n",
    "    g = ax.hist(dic_cartas['lito_cubic']['SC23_Z_A_IV'][gf], color = 'lightblue', edgecolor = 'black')\n",
    "    ax.set_title(str(dic_titles[gf]), size = 9)\n",
    "\n",
    "plt.tight_layout()"
   ],
   "outputs": [],
   "metadata": {}
  },
  {
   "cell_type": "code",
   "execution_count": null,
   "source": [
    "fig, axs = plt.subplots(nrows = 4, ncols = 2, figsize = (7, 6))\n",
    "\n",
    "for ax, gf in zip(axs.flat, dic_titles):\n",
    "    g = ax.hist(dic_cartas['raw_data']['SC23_Z_A_IV'][gf], color = 'lightblue', edgecolor = 'black')\n",
    "    ax.set_title(str(dic_titles[gf]), size = 9)\n",
    "\n",
    "plt.tight_layout()"
   ],
   "outputs": [],
   "metadata": {}
  },
  {
   "cell_type": "code",
   "execution_count": null,
   "source": [
    "for i in dic_cartas['splines']:\n",
    "    print(i)\n",
    "    dic_cartas['lito_splines'][i].to_csv(f.gdb+'dataframe_input_model/lito_splines_'+i+'.csv',index=False)\n",
    "    dic_cartas['lito_cubic'][i].to_csv(f.gdb+'dataframe_input_model/lito_cubic_'+i+'.csv',index=False)"
   ],
   "outputs": [],
   "metadata": {}
  },
  {
   "cell_type": "code",
   "execution_count": null,
   "source": [
    "dic_cartas['lito_cubic']['SC23_Z_A_IV']"
   ],
   "outputs": [],
   "metadata": {}
  },
  {
   "cell_type": "code",
   "execution_count": null,
   "source": [
    "dic_cartas['lito_cubic']['SC23_Z_A_IV'].closest_unid.isnull().sum()"
   ],
   "outputs": [],
   "metadata": {}
  },
  {
   "cell_type": "code",
   "execution_count": null,
   "source": [
    "dic_cartas['lito_splines']['SC23_Z_A_IV']"
   ],
   "outputs": [],
   "metadata": {}
  },
  {
   "cell_type": "code",
   "execution_count": null,
   "source": [
    "dic_cartas['lito_splines']['SC23_Z_A_IV'].closest_unid.isnull().sum()"
   ],
   "outputs": [],
   "metadata": {}
  },
  {
   "cell_type": "code",
   "execution_count": null,
   "source": [],
   "outputs": [],
   "metadata": {}
  }
 ],
 "metadata": {
  "interpreter": {
   "hash": "044c3e0300da4fa3c2a1f13c93c64a53d39114a9c33e72628e43c9ffd211a0b1"
  },
  "kernelspec": {
   "name": "python3",
   "display_name": "Python 3.8.11 64-bit ('geologist_bot': conda)"
  },
  "language_info": {
   "codemirror_mode": {
    "name": "ipython",
    "version": 3
   },
   "file_extension": ".py",
   "mimetype": "text/x-python",
   "name": "python",
   "nbconvert_exporter": "python",
   "pygments_lexer": "ipython3",
   "version": "3.8.11"
  }
 },
 "nbformat": 4,
 "nbformat_minor": 4
}