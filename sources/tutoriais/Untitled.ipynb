{
 "cells": [
  {
   "cell_type": "code",
   "execution_count": 4,
   "id": "076fd24a",
   "metadata": {},
   "outputs": [],
   "source": [
    "import my_funcs as f"
   ]
  },
  {
   "cell_type": "code",
   "execution_count": 1,
   "id": "a900bb95",
   "metadata": {},
   "outputs": [],
   "source": [
    "import tqdm \n",
    "from tqdm.notebook import trange"
   ]
  },
  {
   "cell_type": "code",
   "execution_count": 10,
   "id": "0e450ff1",
   "metadata": {},
   "outputs": [
    {
     "data": {
      "application/vnd.jupyter.widget-view+json": {
       "model_id": "4c682fa78b29496ab8e9d2a2bd3948b8",
       "version_major": 2,
       "version_minor": 0
      },
      "text/plain": [
       "  0%|          | 0/1 [00:00<?, ?it/s]"
      ]
     },
     "metadata": {},
     "output_type": "display_data"
    },
    {
     "name": "stdout",
     "output_type": "stream",
     "text": [
      "# --- Iniciando seleção de área de estudo\n",
      "Index(['SF23_Y_A_III_1', 'SF23_Y_A_III_3', 'SF23_Y_A_III_2', 'SF23_Y_A_III_4'], dtype='object', name='id_folha')\n",
      "Gerando dicionário com o index\n",
      "dict_keys(['region', 'region_proj', 'raw_data', 'interpolado', 'scores', 'lito_geof'])\n",
      "4 folhas cartográfica selecionadas\n",
      "\n",
      "ok\n"
     ]
    }
   ],
   "source": [
    "for n in trange(1):\n",
    "    f.cartas('50k','SF23_Y_A_III')\n",
    "    print('ok')"
   ]
  },
  {
   "cell_type": "code",
   "execution_count": null,
   "id": "f840a6ca",
   "metadata": {},
   "outputs": [],
   "source": []
  }
 ],
 "metadata": {
  "kernelspec": {
   "display_name": "Python 3 (ipykernel)",
   "language": "python",
   "name": "python3"
  },
  "language_info": {
   "codemirror_mode": {
    "name": "ipython",
    "version": 3
   },
   "file_extension": ".py",
   "mimetype": "text/x-python",
   "name": "python",
   "nbconvert_exporter": "python",
   "pygments_lexer": "ipython3",
   "version": "3.7.11"
  }
 },
 "nbformat": 4,
 "nbformat_minor": 5
}
