{
 "cells": [
  {
   "cell_type": "markdown",
   "source": [
    "# Neste notebook vamos definir as funçoes de filtragem e visualizaçao dos dados a partir das classes definidas na bilbioteca GeoPandas e Matplotlib\n",
    "\n",
    "[Mapping and Plotting Tools](https://geopandas.org/docs/user_guide/mapping.html)\n",
    "\n",
    "[Matplotlib](https://matplotlib.org/stable/tutorials/introductory/usage.html#sphx-glr-tutorials-introductory-usage-py)\n",
    "\n",
    "- Com as funçoes definidas e testadas neste notebook, criaremos um arquivo .py no diretorio .soureces/ para armazena-las, possibilitando assim, que possamos chama-las com a funçao import."
   ],
   "metadata": {}
  },
  {
   "cell_type": "code",
   "execution_count": 1,
   "source": [
    "import geopandas as gpd\n",
    "import pandas as pd\n",
    "#import fiona"
   ],
   "outputs": [],
   "metadata": {}
  },
  {
   "cell_type": "code",
   "execution_count": 2,
   "source": [
    "import matplotlib.pyplot as plt"
   ],
   "outputs": [],
   "metadata": {}
  },
  {
   "cell_type": "code",
   "execution_count": 3,
   "source": [
    "# Origem do banco de dados\n",
    "gdb = '/home/ggrl/geodatabase/'"
   ],
   "outputs": [],
   "metadata": {}
  },
  {
   "cell_type": "code",
   "execution_count": 4,
   "source": [
    "# Parametro para plot interativo\n",
    "%matplotlib widget"
   ],
   "outputs": [],
   "metadata": {}
  },
  {
   "cell_type": "markdown",
   "source": [
    "## Importando um vetor do banco de dados criado no notebook passado.\n",
    "- Escolha de camada e mapa\n",
    "    - Caso nao tenha o mapa selecionado retorne lista de mapas disponiveis para aquela escala.\n",
    "    - Caso nao escolha um mapa retorne todos os vetores daquela camada."
   ],
   "metadata": {}
  },
  {
   "cell_type": "code",
   "execution_count": 5,
   "source": [
    "# IMPORTADOR DE LITOLOGIAS POR ESCALA --------------------------------------------------------------------------#\n",
    "def importar_geometrias(camada, mapa=False):\n",
    "    '''\n",
    "    Recebe:\n",
    "        camada      : camada vetorial a ser lida do geopackage.\n",
    "        mapa        : nome do mapa presente na camada vetorial;\n",
    "\n",
    "    Retorna:\n",
    "        Objeto GeoDataFrame.\n",
    "        \n",
    "    Se houver seleçao de mapa retornara apenas as geometrias que possuem o nome escolhido na coluna ['MAPA']\n",
    "    Se Retornar camada vazia recebera a lista das camadas veotoriais diposniveis\n",
    "    Se mapa == False: retorna todos os objetos presente nesta camada vetorial\n",
    "    '''\n",
    "    lito =  gpd.read_file(gdb+'geodatabase.gpkg',\n",
    "                        driver= 'GPKG',\n",
    "                        layer= camada)\n",
    "                        \n",
    "    #print(f\"# -- Lista de camadas vetoriais disponiveis: {list(fiona.listlayers(gdb+'geodatabase.gpkg'))}\")  \n",
    "\n",
    "    if mapa:\n",
    "        folha = lito[lito.MAPA == 'Carta geológica da folha '+mapa]\n",
    "        if folha.empty:\n",
    "            print(f\"O mapa escolhido nao est'a presente na coluna MAPA da camada veotiral.\")\n",
    "            print(f\"# -- Lista de mapas: {list(lito.MAPA.unique())}\")\n",
    "\n",
    "        else:    \n",
    "            return(folha)\n",
    "    else:\n",
    "        return(lito)"
   ],
   "outputs": [],
   "metadata": {}
  },
  {
   "cell_type": "markdown",
   "source": [
    "###  Utilizando as funçoes definidas acima para importar os dados"
   ],
   "metadata": {}
  },
  {
   "cell_type": "code",
   "execution_count": 6,
   "source": [
    "# Abrindo os vetores descritivos dos projetos aerogeofisicos\n",
    "proj_geof = importar_geometrias('proj_aerogeof')"
   ],
   "outputs": [],
   "metadata": {}
  },
  {
   "cell_type": "code",
   "execution_count": 7,
   "source": [
    "litologia_1kk = importar_geometrias('litologia_1kk')"
   ],
   "outputs": [],
   "metadata": {}
  },
  {
   "cell_type": "code",
   "execution_count": 8,
   "source": [
    "litologia_250k = importar_geometrias('litologia_250k')"
   ],
   "outputs": [],
   "metadata": {}
  },
  {
   "cell_type": "code",
   "execution_count": 32,
   "source": [
    "litologia_100k = importar_geometrias('litologia_100k')"
   ],
   "outputs": [],
   "metadata": {}
  },
  {
   "cell_type": "code",
   "execution_count": 33,
   "source": [
    "litologia_50k = importar_geometrias('litologia_50k')"
   ],
   "outputs": [],
   "metadata": {}
  },
  {
   "cell_type": "markdown",
   "source": [
    "## Descrevendo as caracteristicas dos dados"
   ],
   "metadata": {}
  },
  {
   "cell_type": "code",
   "execution_count": 9,
   "source": [
    "#from shapely.ops import cascaded_union\n",
    "#area_250k = gpd.GeoSeries(cascaded_union(litologia_250k['geometry']))"
   ],
   "outputs": [],
   "metadata": {}
  },
  {
   "cell_type": "code",
   "execution_count": 82,
   "source": [
    "litologia_50k.head(5)"
   ],
   "outputs": [
    {
     "output_type": "execute_result",
     "data": {
      "text/html": [
       "<div>\n",
       "<style scoped>\n",
       "    .dataframe tbody tr th:only-of-type {\n",
       "        vertical-align: middle;\n",
       "    }\n",
       "\n",
       "    .dataframe tbody tr th {\n",
       "        vertical-align: top;\n",
       "    }\n",
       "\n",
       "    .dataframe thead th {\n",
       "        text-align: right;\n",
       "    }\n",
       "</style>\n",
       "<table border=\"1\" class=\"dataframe\">\n",
       "  <thead>\n",
       "    <tr style=\"text-align: right;\">\n",
       "      <th></th>\n",
       "      <th>ID_UNIDADE</th>\n",
       "      <th>SIGLA</th>\n",
       "      <th>HIERARQUIA</th>\n",
       "      <th>NOME</th>\n",
       "      <th>AMBIENTE_T</th>\n",
       "      <th>SUB_AMBIEN</th>\n",
       "      <th>SIGLA_PAI</th>\n",
       "      <th>NOME_PAI</th>\n",
       "      <th>LEGENDA</th>\n",
       "      <th>ESCALA</th>\n",
       "      <th>...</th>\n",
       "      <th>ERA_MIN</th>\n",
       "      <th>ERA_MAX</th>\n",
       "      <th>SISTEMA_MI</th>\n",
       "      <th>SISTEMA_MA</th>\n",
       "      <th>EPOCA_MIN</th>\n",
       "      <th>EPOCA_MAX</th>\n",
       "      <th>SIGLAS_HIS</th>\n",
       "      <th>SHAPE_AREA</th>\n",
       "      <th>SHAPE_LEN</th>\n",
       "      <th>geometry</th>\n",
       "    </tr>\n",
       "  </thead>\n",
       "  <tbody>\n",
       "    <tr>\n",
       "      <th>0</th>\n",
       "      <td>5309</td>\n",
       "      <td>K_lambda_bam</td>\n",
       "      <td>Litofácies</td>\n",
       "      <td>Litofácies Banhadão, flogopita melteigito</td>\n",
       "      <td>Magmatismo intraplaca</td>\n",
       "      <td>Intrusivas alcalinas</td>\n",
       "      <td>K_lambda_ba</td>\n",
       "      <td>K_lambda_ba - Suíte Alcalina Banhadão</td>\n",
       "      <td>Flogopita melteigito</td>\n",
       "      <td>1:50.000</td>\n",
       "      <td>...</td>\n",
       "      <td>Mesozóico</td>\n",
       "      <td>Mesozóico</td>\n",
       "      <td>Cretáceo</td>\n",
       "      <td>Cretáceo</td>\n",
       "      <td>Inferior</td>\n",
       "      <td>Inferior</td>\n",
       "      <td>None</td>\n",
       "      <td>0.000005</td>\n",
       "      <td>0.013937</td>\n",
       "      <td>POLYGON ((-49.38349 -24.65607, -49.38344 -24.6...</td>\n",
       "    </tr>\n",
       "    <tr>\n",
       "      <th>1</th>\n",
       "      <td>5324</td>\n",
       "      <td>MP1aca</td>\n",
       "      <td>Litofácies</td>\n",
       "      <td>Litofácies Água Clara, anfibolito</td>\n",
       "      <td>Orógeno</td>\n",
       "      <td>Terreno de arco de ilhas</td>\n",
       "      <td>MP1ac</td>\n",
       "      <td>MP1ac - Formação Água Clara</td>\n",
       "      <td>Lentes de anfibolito cinza escuro-esverdeado e...</td>\n",
       "      <td>1:50.000</td>\n",
       "      <td>...</td>\n",
       "      <td>Mesoproterozóico</td>\n",
       "      <td>Mesoproterozóico</td>\n",
       "      <td>Calimiano</td>\n",
       "      <td>Calimiano</td>\n",
       "      <td>Médio</td>\n",
       "      <td>Médio</td>\n",
       "      <td>None</td>\n",
       "      <td>0.000038</td>\n",
       "      <td>0.036405</td>\n",
       "      <td>POLYGON ((-49.22189 -24.72646, -49.22225 -24.7...</td>\n",
       "    </tr>\n",
       "    <tr>\n",
       "      <th>2</th>\n",
       "      <td>5324</td>\n",
       "      <td>MP1aca</td>\n",
       "      <td>Litofácies</td>\n",
       "      <td>Litofácies Água Clara, anfibolito</td>\n",
       "      <td>Orógeno</td>\n",
       "      <td>Terreno de arco de ilhas</td>\n",
       "      <td>MP1ac</td>\n",
       "      <td>MP1ac - Formação Água Clara</td>\n",
       "      <td>Lentes de anfibolito cinza escuro-esverdeado e...</td>\n",
       "      <td>1:50.000</td>\n",
       "      <td>...</td>\n",
       "      <td>Mesoproterozóico</td>\n",
       "      <td>Mesoproterozóico</td>\n",
       "      <td>Calimiano</td>\n",
       "      <td>Calimiano</td>\n",
       "      <td>Médio</td>\n",
       "      <td>Médio</td>\n",
       "      <td>None</td>\n",
       "      <td>0.000006</td>\n",
       "      <td>0.011015</td>\n",
       "      <td>POLYGON ((-49.16267 -24.56268, -49.16273 -24.5...</td>\n",
       "    </tr>\n",
       "    <tr>\n",
       "      <th>3</th>\n",
       "      <td>1696</td>\n",
       "      <td>MP1acx</td>\n",
       "      <td>Litofácies</td>\n",
       "      <td>Litofácies Água Clara, xisto</td>\n",
       "      <td>None</td>\n",
       "      <td>None</td>\n",
       "      <td>MP1ac</td>\n",
       "      <td>MP1ac - Formação Água Clara</td>\n",
       "      <td>Predomínio de mica xistos e filitos grafitosos...</td>\n",
       "      <td>1:50.000</td>\n",
       "      <td>...</td>\n",
       "      <td>Mesoproterozóico</td>\n",
       "      <td>Mesoproterozóico</td>\n",
       "      <td>Calimiano</td>\n",
       "      <td>Calimiano</td>\n",
       "      <td>Médio</td>\n",
       "      <td>Médio</td>\n",
       "      <td>None</td>\n",
       "      <td>0.000156</td>\n",
       "      <td>0.102974</td>\n",
       "      <td>POLYGON ((-49.16267 -24.56268, -49.16266 -24.5...</td>\n",
       "    </tr>\n",
       "    <tr>\n",
       "      <th>4</th>\n",
       "      <td>1696</td>\n",
       "      <td>MP1acx</td>\n",
       "      <td>Litofácies</td>\n",
       "      <td>Litofácies Água Clara, xisto</td>\n",
       "      <td>None</td>\n",
       "      <td>None</td>\n",
       "      <td>MP1ac</td>\n",
       "      <td>MP1ac - Formação Água Clara</td>\n",
       "      <td>Predomínio de mica xistos e filitos grafitosos...</td>\n",
       "      <td>1:50.000</td>\n",
       "      <td>...</td>\n",
       "      <td>Mesoproterozóico</td>\n",
       "      <td>Mesoproterozóico</td>\n",
       "      <td>Calimiano</td>\n",
       "      <td>Calimiano</td>\n",
       "      <td>Médio</td>\n",
       "      <td>Médio</td>\n",
       "      <td>None</td>\n",
       "      <td>0.000008</td>\n",
       "      <td>0.026624</td>\n",
       "      <td>POLYGON ((-49.15930 -24.59079, -49.15945 -24.5...</td>\n",
       "    </tr>\n",
       "  </tbody>\n",
       "</table>\n",
       "<p>5 rows × 27 columns</p>\n",
       "</div>"
      ],
      "text/plain": [
       "   ID_UNIDADE         SIGLA  HIERARQUIA  \\\n",
       "0        5309  K_lambda_bam  Litofácies   \n",
       "1        5324        MP1aca  Litofácies   \n",
       "2        5324        MP1aca  Litofácies   \n",
       "3        1696        MP1acx  Litofácies   \n",
       "4        1696        MP1acx  Litofácies   \n",
       "\n",
       "                                        NOME             AMBIENTE_T  \\\n",
       "0  Litofácies Banhadão, flogopita melteigito  Magmatismo intraplaca   \n",
       "1          Litofácies Água Clara, anfibolito                Orógeno   \n",
       "2          Litofácies Água Clara, anfibolito                Orógeno   \n",
       "3               Litofácies Água Clara, xisto                   None   \n",
       "4               Litofácies Água Clara, xisto                   None   \n",
       "\n",
       "                 SUB_AMBIEN    SIGLA_PAI  \\\n",
       "0      Intrusivas alcalinas  K_lambda_ba   \n",
       "1  Terreno de arco de ilhas        MP1ac   \n",
       "2  Terreno de arco de ilhas        MP1ac   \n",
       "3                      None        MP1ac   \n",
       "4                      None        MP1ac   \n",
       "\n",
       "                                NOME_PAI  \\\n",
       "0  K_lambda_ba - Suíte Alcalina Banhadão   \n",
       "1            MP1ac - Formação Água Clara   \n",
       "2            MP1ac - Formação Água Clara   \n",
       "3            MP1ac - Formação Água Clara   \n",
       "4            MP1ac - Formação Água Clara   \n",
       "\n",
       "                                             LEGENDA    ESCALA  ...  \\\n",
       "0                               Flogopita melteigito  1:50.000  ...   \n",
       "1  Lentes de anfibolito cinza escuro-esverdeado e...  1:50.000  ...   \n",
       "2  Lentes de anfibolito cinza escuro-esverdeado e...  1:50.000  ...   \n",
       "3  Predomínio de mica xistos e filitos grafitosos...  1:50.000  ...   \n",
       "4  Predomínio de mica xistos e filitos grafitosos...  1:50.000  ...   \n",
       "\n",
       "            ERA_MIN           ERA_MAX SISTEMA_MI  SISTEMA_MA  EPOCA_MIN  \\\n",
       "0         Mesozóico         Mesozóico   Cretáceo    Cretáceo   Inferior   \n",
       "1  Mesoproterozóico  Mesoproterozóico  Calimiano   Calimiano      Médio   \n",
       "2  Mesoproterozóico  Mesoproterozóico  Calimiano   Calimiano      Médio   \n",
       "3  Mesoproterozóico  Mesoproterozóico  Calimiano   Calimiano      Médio   \n",
       "4  Mesoproterozóico  Mesoproterozóico  Calimiano   Calimiano      Médio   \n",
       "\n",
       "  EPOCA_MAX SIGLAS_HIS SHAPE_AREA SHAPE_LEN  \\\n",
       "0  Inferior       None   0.000005  0.013937   \n",
       "1     Médio       None   0.000038  0.036405   \n",
       "2     Médio       None   0.000006  0.011015   \n",
       "3     Médio       None   0.000156  0.102974   \n",
       "4     Médio       None   0.000008  0.026624   \n",
       "\n",
       "                                            geometry  \n",
       "0  POLYGON ((-49.38349 -24.65607, -49.38344 -24.6...  \n",
       "1  POLYGON ((-49.22189 -24.72646, -49.22225 -24.7...  \n",
       "2  POLYGON ((-49.16267 -24.56268, -49.16273 -24.5...  \n",
       "3  POLYGON ((-49.16267 -24.56268, -49.16266 -24.5...  \n",
       "4  POLYGON ((-49.15930 -24.59079, -49.15945 -24.5...  \n",
       "\n",
       "[5 rows x 27 columns]"
      ]
     },
     "metadata": {},
     "execution_count": 82
    }
   ],
   "metadata": {}
  },
  {
   "cell_type": "code",
   "execution_count": 98,
   "source": [
    "area_lito_1kk = litologia_1kk[:].area.sum()"
   ],
   "outputs": [
    {
     "output_type": "stream",
     "name": "stderr",
     "text": [
      "/tmp/ipykernel_13466/4150503765.py:1: UserWarning: Geometry is in a geographic CRS. Results from 'area' are likely incorrect. Use 'GeoSeries.to_crs()' to re-project geometries to a projected CRS before this operation.\n",
      "\n",
      "  area_lito_1kk = litologia_1kk[:].area.sum()\n"
     ]
    }
   ],
   "metadata": {}
  },
  {
   "cell_type": "code",
   "execution_count": 103,
   "source": [
    "area_geof_500m = proj_geof_500m[:].area.sum()\n",
    "area_geof_1000m = proj_geof_1000m[:].area.sum()"
   ],
   "outputs": [
    {
     "output_type": "stream",
     "name": "stderr",
     "text": [
      "/tmp/ipykernel_13466/3075464236.py:1: UserWarning: Geometry is in a geographic CRS. Results from 'area' are likely incorrect. Use 'GeoSeries.to_crs()' to re-project geometries to a projected CRS before this operation.\n",
      "\n",
      "  area_geof_500m = proj_geof_500m[:].area.sum()\n",
      "/tmp/ipykernel_13466/3075464236.py:2: UserWarning: Geometry is in a geographic CRS. Results from 'area' are likely incorrect. Use 'GeoSeries.to_crs()' to re-project geometries to a projected CRS before this operation.\n",
      "\n",
      "  area_geof_1000m = proj_geof_1000m[:].area.sum()\n"
     ]
    }
   ],
   "metadata": {}
  },
  {
   "cell_type": "code",
   "execution_count": 105,
   "source": [
    "(area_geof_500m/area_lito_1kk) * 100"
   ],
   "outputs": [
    {
     "output_type": "execute_result",
     "data": {
      "text/plain": [
       "46.597996653597654"
      ]
     },
     "metadata": {},
     "execution_count": 105
    }
   ],
   "metadata": {}
  },
  {
   "cell_type": "code",
   "execution_count": 104,
   "source": [
    "(area_geof_1000m/area_lito_1kk) * 100"
   ],
   "outputs": [
    {
     "output_type": "execute_result",
     "data": {
      "text/plain": [
       "14.41795076030269"
      ]
     },
     "metadata": {},
     "execution_count": 104
    }
   ],
   "metadata": {}
  },
  {
   "cell_type": "code",
   "execution_count": 35,
   "source": [
    "len(litologia_100k['MAPA'].unique())"
   ],
   "outputs": [
    {
     "output_type": "execute_result",
     "data": {
      "text/plain": [
       "311"
      ]
     },
     "metadata": {},
     "execution_count": 35
    }
   ],
   "metadata": {}
  },
  {
   "cell_type": "code",
   "execution_count": 72,
   "source": [
    "meta_lito_100k = pd.DataFrame(litologia_100k.dtypes)\n",
    "meta_lito_100k.rename(columns={0:\"dtype\"},inplace=True)\n",
    "\n",
    "meta_lito_100k['Null'] = litologia_100k.isnull().sum()\n",
    "\n",
    "meta_lito_100k['Unique Values'] = litologia_100k.nunique()"
   ],
   "outputs": [],
   "metadata": {}
  },
  {
   "cell_type": "code",
   "execution_count": 73,
   "source": [
    "#meta_lito_1kk\n",
    "meta_lito_100k"
   ],
   "outputs": [
    {
     "output_type": "execute_result",
     "data": {
      "text/html": [
       "<div>\n",
       "<style scoped>\n",
       "    .dataframe tbody tr th:only-of-type {\n",
       "        vertical-align: middle;\n",
       "    }\n",
       "\n",
       "    .dataframe tbody tr th {\n",
       "        vertical-align: top;\n",
       "    }\n",
       "\n",
       "    .dataframe thead th {\n",
       "        text-align: right;\n",
       "    }\n",
       "</style>\n",
       "<table border=\"1\" class=\"dataframe\">\n",
       "  <thead>\n",
       "    <tr style=\"text-align: right;\">\n",
       "      <th></th>\n",
       "      <th>dtype</th>\n",
       "      <th>Null</th>\n",
       "      <th>Unique Values</th>\n",
       "    </tr>\n",
       "  </thead>\n",
       "  <tbody>\n",
       "    <tr>\n",
       "      <th>ID_UNIDADE</th>\n",
       "      <td>int64</td>\n",
       "      <td>0</td>\n",
       "      <td>2837</td>\n",
       "    </tr>\n",
       "    <tr>\n",
       "      <th>SIGLA</th>\n",
       "      <td>object</td>\n",
       "      <td>0</td>\n",
       "      <td>2837</td>\n",
       "    </tr>\n",
       "    <tr>\n",
       "      <th>HIERARQUIA</th>\n",
       "      <td>object</td>\n",
       "      <td>0</td>\n",
       "      <td>31</td>\n",
       "    </tr>\n",
       "    <tr>\n",
       "      <th>NOME</th>\n",
       "      <td>object</td>\n",
       "      <td>0</td>\n",
       "      <td>2829</td>\n",
       "    </tr>\n",
       "    <tr>\n",
       "      <th>AMBIENTE_T</th>\n",
       "      <td>object</td>\n",
       "      <td>47225</td>\n",
       "      <td>10</td>\n",
       "    </tr>\n",
       "    <tr>\n",
       "      <th>SUB_AMBIEN</th>\n",
       "      <td>object</td>\n",
       "      <td>53942</td>\n",
       "      <td>33</td>\n",
       "    </tr>\n",
       "    <tr>\n",
       "      <th>SIGLA_PAI</th>\n",
       "      <td>object</td>\n",
       "      <td>31377</td>\n",
       "      <td>599</td>\n",
       "    </tr>\n",
       "    <tr>\n",
       "      <th>NOME_PAI</th>\n",
       "      <td>object</td>\n",
       "      <td>31377</td>\n",
       "      <td>599</td>\n",
       "    </tr>\n",
       "    <tr>\n",
       "      <th>LEGENDA</th>\n",
       "      <td>object</td>\n",
       "      <td>378</td>\n",
       "      <td>2724</td>\n",
       "    </tr>\n",
       "    <tr>\n",
       "      <th>ESCALA</th>\n",
       "      <td>object</td>\n",
       "      <td>0</td>\n",
       "      <td>1</td>\n",
       "    </tr>\n",
       "    <tr>\n",
       "      <th>MAPA</th>\n",
       "      <td>object</td>\n",
       "      <td>0</td>\n",
       "      <td>311</td>\n",
       "    </tr>\n",
       "    <tr>\n",
       "      <th>LITOTIPOS</th>\n",
       "      <td>object</td>\n",
       "      <td>2033</td>\n",
       "      <td>1712</td>\n",
       "    </tr>\n",
       "    <tr>\n",
       "      <th>RANGE</th>\n",
       "      <td>object</td>\n",
       "      <td>0</td>\n",
       "      <td>104</td>\n",
       "    </tr>\n",
       "    <tr>\n",
       "      <th>IDADE_MIN</th>\n",
       "      <td>int64</td>\n",
       "      <td>0</td>\n",
       "      <td>42</td>\n",
       "    </tr>\n",
       "    <tr>\n",
       "      <th>IDADE_MAX</th>\n",
       "      <td>int64</td>\n",
       "      <td>0</td>\n",
       "      <td>44</td>\n",
       "    </tr>\n",
       "    <tr>\n",
       "      <th>EON_MIN</th>\n",
       "      <td>object</td>\n",
       "      <td>0</td>\n",
       "      <td>3</td>\n",
       "    </tr>\n",
       "    <tr>\n",
       "      <th>EON_MAX</th>\n",
       "      <td>object</td>\n",
       "      <td>0</td>\n",
       "      <td>3</td>\n",
       "    </tr>\n",
       "    <tr>\n",
       "      <th>ERA_MIN</th>\n",
       "      <td>object</td>\n",
       "      <td>0</td>\n",
       "      <td>9</td>\n",
       "    </tr>\n",
       "    <tr>\n",
       "      <th>ERA_MAX</th>\n",
       "      <td>object</td>\n",
       "      <td>0</td>\n",
       "      <td>10</td>\n",
       "    </tr>\n",
       "    <tr>\n",
       "      <th>SISTEMA_MI</th>\n",
       "      <td>object</td>\n",
       "      <td>6275</td>\n",
       "      <td>21</td>\n",
       "    </tr>\n",
       "    <tr>\n",
       "      <th>SISTEMA_MA</th>\n",
       "      <td>object</td>\n",
       "      <td>6747</td>\n",
       "      <td>21</td>\n",
       "    </tr>\n",
       "    <tr>\n",
       "      <th>EPOCA_MIN</th>\n",
       "      <td>object</td>\n",
       "      <td>6275</td>\n",
       "      <td>15</td>\n",
       "    </tr>\n",
       "    <tr>\n",
       "      <th>EPOCA_MAX</th>\n",
       "      <td>object</td>\n",
       "      <td>6747</td>\n",
       "      <td>15</td>\n",
       "    </tr>\n",
       "    <tr>\n",
       "      <th>SIGLAS_HIS</th>\n",
       "      <td>object</td>\n",
       "      <td>30698</td>\n",
       "      <td>938</td>\n",
       "    </tr>\n",
       "    <tr>\n",
       "      <th>SHAPE_AREA</th>\n",
       "      <td>float64</td>\n",
       "      <td>0</td>\n",
       "      <td>59268</td>\n",
       "    </tr>\n",
       "    <tr>\n",
       "      <th>SHAPE_LEN</th>\n",
       "      <td>float64</td>\n",
       "      <td>0</td>\n",
       "      <td>59268</td>\n",
       "    </tr>\n",
       "    <tr>\n",
       "      <th>geometry</th>\n",
       "      <td>geometry</td>\n",
       "      <td>0</td>\n",
       "      <td>59268</td>\n",
       "    </tr>\n",
       "  </tbody>\n",
       "</table>\n",
       "</div>"
      ],
      "text/plain": [
       "               dtype   Null  Unique Values\n",
       "ID_UNIDADE     int64      0           2837\n",
       "SIGLA         object      0           2837\n",
       "HIERARQUIA    object      0             31\n",
       "NOME          object      0           2829\n",
       "AMBIENTE_T    object  47225             10\n",
       "SUB_AMBIEN    object  53942             33\n",
       "SIGLA_PAI     object  31377            599\n",
       "NOME_PAI      object  31377            599\n",
       "LEGENDA       object    378           2724\n",
       "ESCALA        object      0              1\n",
       "MAPA          object      0            311\n",
       "LITOTIPOS     object   2033           1712\n",
       "RANGE         object      0            104\n",
       "IDADE_MIN      int64      0             42\n",
       "IDADE_MAX      int64      0             44\n",
       "EON_MIN       object      0              3\n",
       "EON_MAX       object      0              3\n",
       "ERA_MIN       object      0              9\n",
       "ERA_MAX       object      0             10\n",
       "SISTEMA_MI    object   6275             21\n",
       "SISTEMA_MA    object   6747             21\n",
       "EPOCA_MIN     object   6275             15\n",
       "EPOCA_MAX     object   6747             15\n",
       "SIGLAS_HIS    object  30698            938\n",
       "SHAPE_AREA   float64      0          59268\n",
       "SHAPE_LEN    float64      0          59268\n",
       "geometry    geometry      0          59268"
      ]
     },
     "metadata": {},
     "execution_count": 73
    }
   ],
   "metadata": {}
  },
  {
   "cell_type": "code",
   "execution_count": 17,
   "source": [
    "proj_geof_1000m = proj_geof[proj_geof['ESPACAMENT'] == '1000']\n",
    "proj_geof_500m = proj_geof[proj_geof['ESPACAMENT'] == '500']"
   ],
   "outputs": [],
   "metadata": {}
  },
  {
   "cell_type": "code",
   "execution_count": 18,
   "source": [
    "proj_geof_500m.columns"
   ],
   "outputs": [
    {
     "output_type": "execute_result",
     "data": {
      "text/plain": [
       "Index(['ID_PROJETO', 'TITULO', 'METODOS', 'ALTURA_VOO', 'AREA_LEVAN',\n",
       "       'QUILOMETRA', 'DIRECAO_LV', 'DIRECAO_LC', 'ESPACAMENT', 'ESPACAME_1',\n",
       "       'ID_SERIE', 'SERIE', 'DISPONIBIL', 'IMAGENS', 'SHAPE_AREA', 'SHAPE_LEN',\n",
       "       'geometry'],\n",
       "      dtype='object')"
      ]
     },
     "metadata": {},
     "execution_count": 18
    }
   ],
   "metadata": {}
  },
  {
   "cell_type": "code",
   "execution_count": 19,
   "source": [
    "proj_geof_500m = proj_geof_500m.loc[:, ('ID_PROJETO', 'TITULO', 'METODOS', 'ALTURA_VOO', 'AREA_LEVAN','QUILOMETRA', 'DIRECAO_LV', 'DIRECAO_LC',\n",
    "                                        'ESPACAMENT', 'ESPACAME_1','ID_SERIE', 'SERIE', 'DISPONIBIL', 'IMAGENS', 'SHAPE_AREA', 'SHAPE_LEN','geometry')]"
   ],
   "outputs": [],
   "metadata": {}
  },
  {
   "cell_type": "code",
   "execution_count": 20,
   "source": [
    "print(proj_geof_1000m['SHAPE_AREA'].sum())\n",
    "print(proj_geof_500m['SHAPE_AREA'].sum())"
   ],
   "outputs": [
    {
     "output_type": "stream",
     "name": "stdout",
     "text": [
      "100.8120406558254\n",
      "325.81878046663854\n"
     ]
    }
   ],
   "metadata": {}
  },
  {
   "cell_type": "code",
   "execution_count": 74,
   "source": [
    "ax_1kk = litologia_1kk.plot('SIGLA')"
   ],
   "outputs": [
    {
     "output_type": "display_data",
     "data": {
      "application/vnd.jupyter.widget-view+json": {
       "version_major": 2,
       "version_minor": 0,
       "model_id": "b850e34acd0143e3874f4628e95812ca"
      },
      "text/plain": [
       "Canvas(toolbar=Toolbar(toolitems=[('Home', 'Reset original view', 'home', 'home'), ('Back', 'Back to previous …"
      ]
     },
     "metadata": {}
    }
   ],
   "metadata": {}
  },
  {
   "cell_type": "code",
   "execution_count": 78,
   "source": [
    "proj_geof_1000m.boundary.plot(ax=ax_1kk,color='blue')\n",
    "proj_geof_500m.boundary.plot(ax=ax_1kk,color='red')\n",
    "\n",
    "plt.title('Area de Cobertura dos Dados')"
   ],
   "outputs": [
    {
     "output_type": "execute_result",
     "data": {
      "text/plain": [
       "Text(0.5, 1.0, 'Area de Cobertura dos Dados')"
      ]
     },
     "metadata": {},
     "execution_count": 78
    }
   ],
   "metadata": {}
  },
  {
   "cell_type": "code",
   "execution_count": 75,
   "source": [
    "ax_250k = litologia_250k.plot('SIGLA')"
   ],
   "outputs": [
    {
     "output_type": "display_data",
     "data": {
      "application/vnd.jupyter.widget-view+json": {
       "version_major": 2,
       "version_minor": 0,
       "model_id": "7e16c6f3d90542238b33312e37a1ae24"
      },
      "text/plain": [
       "Canvas(toolbar=Toolbar(toolitems=[('Home', 'Reset original view', 'home', 'home'), ('Back', 'Back to previous …"
      ]
     },
     "metadata": {}
    }
   ],
   "metadata": {}
  },
  {
   "cell_type": "code",
   "execution_count": 76,
   "source": [
    "ax_100k = litologia_100k.plot('SIGLA')"
   ],
   "outputs": [
    {
     "output_type": "display_data",
     "data": {
      "application/vnd.jupyter.widget-view+json": {
       "version_major": 2,
       "version_minor": 0,
       "model_id": "438915ad697a45b6bd4610de3c993ec8"
      },
      "text/plain": [
       "Canvas(toolbar=Toolbar(toolitems=[('Home', 'Reset original view', 'home', 'home'), ('Back', 'Back to previous …"
      ]
     },
     "metadata": {}
    }
   ],
   "metadata": {}
  },
  {
   "cell_type": "code",
   "execution_count": null,
   "source": [
    "proj_geof[proj_geof['ESPACAMENT'].astype(int)]"
   ],
   "outputs": [],
   "metadata": {}
  },
  {
   "cell_type": "code",
   "execution_count": null,
   "source": [
    "proj_geof_500m['ESPACAMENT'] = proj_geof_500m['ESPACAMENT']"
   ],
   "outputs": [],
   "metadata": {}
  },
  {
   "cell_type": "code",
   "execution_count": null,
   "source": [
    "proj_geof_500m.reset_index(drop=True,inplace=True)"
   ],
   "outputs": [],
   "metadata": {}
  },
  {
   "cell_type": "code",
   "execution_count": null,
   "source": [
    "proj_geof_500m['ESPACAMENT']"
   ],
   "outputs": [],
   "metadata": {}
  },
  {
   "cell_type": "code",
   "execution_count": null,
   "source": [
    "fig, axs = plt.subplots()\n",
    "ax.plot(proj_geof['geometry'],label='proj')"
   ],
   "outputs": [],
   "metadata": {}
  },
  {
   "cell_type": "markdown",
   "source": [
    "## Calculando area de cobertura dos projetos aerogeofisicos"
   ],
   "metadata": {}
  },
  {
   "cell_type": "code",
   "execution_count": null,
   "source": [
    "a = litologia_100k.bounds"
   ],
   "outputs": [],
   "metadata": {}
  },
  {
   "cell_type": "code",
   "execution_count": null,
   "source": [
    "a"
   ],
   "outputs": [],
   "metadata": {}
  },
  {
   "cell_type": "code",
   "execution_count": null,
   "source": [
    "a['minx']"
   ],
   "outputs": [],
   "metadata": {}
  },
  {
   "cell_type": "code",
   "execution_count": null,
   "source": [
    "a.plot()"
   ],
   "outputs": [],
   "metadata": {}
  },
  {
   "cell_type": "code",
   "execution_count": null,
   "source": [
    "#b = a.unary_union"
   ],
   "outputs": [],
   "metadata": {}
  },
  {
   "cell_type": "code",
   "execution_count": null,
   "source": [
    "proj_250m = proj_geof[proj_geof['ESPACAMENT'] == '250']"
   ],
   "outputs": [],
   "metadata": {}
  },
  {
   "cell_type": "code",
   "execution_count": null,
   "source": [
    "print(proj_250m['geometry'][16])"
   ],
   "outputs": [],
   "metadata": {}
  },
  {
   "cell_type": "code",
   "execution_count": null,
   "source": [
    "litologia_100k"
   ],
   "outputs": [],
   "metadata": {}
  },
  {
   "cell_type": "code",
   "execution_count": null,
   "source": [
    "proj_geof_500m = proj_geof[proj_geof['ESPACAMENT'] == '500']"
   ],
   "outputs": [],
   "metadata": {}
  },
  {
   "cell_type": "code",
   "execution_count": null,
   "source": [
    "print(len(proj_geof_500m))\n",
    "proj_geof_500m['DISPONIBIL'].isnull().sum()"
   ],
   "outputs": [],
   "metadata": {}
  },
  {
   "cell_type": "code",
   "execution_count": null,
   "source": [
    "proj_geof_500m.columns"
   ],
   "outputs": [],
   "metadata": {}
  },
  {
   "cell_type": "code",
   "execution_count": null,
   "source": [
    "dic_meta_litologico = {'lista_colunas' : '',}\n",
    "dic_meta_geofisico = {'lista_colunas' : '',}"
   ],
   "outputs": [],
   "metadata": {}
  },
  {
   "cell_type": "code",
   "execution_count": null,
   "source": [
    "print(dic_meta_litologico.keys())"
   ],
   "outputs": [],
   "metadata": {}
  },
  {
   "cell_type": "code",
   "execution_count": null,
   "source": [
    "x = list(proj_geof_500m.columns)\n",
    "dic_meta_litologico.update({'lista_colunas':x})"
   ],
   "outputs": [],
   "metadata": {}
  },
  {
   "cell_type": "code",
   "execution_count": null,
   "source": [
    "print(dic_meta_litologico['lista_colunas'])"
   ],
   "outputs": [],
   "metadata": {}
  },
  {
   "cell_type": "code",
   "execution_count": null,
   "source": [
    "dic_meta_litologico['lista_colunas']"
   ],
   "outputs": [],
   "metadata": {}
  },
  {
   "cell_type": "code",
   "execution_count": null,
   "source": [
    "#proj_geof_500m['SHAPE_AREA'].sum() / "
   ],
   "outputs": [],
   "metadata": {}
  },
  {
   "cell_type": "code",
   "execution_count": null,
   "source": [
    "proj_geof.columns"
   ],
   "outputs": [],
   "metadata": {}
  },
  {
   "cell_type": "code",
   "execution_count": null,
   "source": [
    "#proj_geof.geometry.area.sum()"
   ],
   "outputs": [],
   "metadata": {}
  },
  {
   "cell_type": "code",
   "execution_count": null,
   "source": [
    "print(type(proj_geof['ESPACAMENT'][0]))\n",
    "print(list(proj_geof.ESPACAMENT.unique()))\n",
    "print(list(proj_geof.ESPACAMENT.unique()))"
   ],
   "outputs": [],
   "metadata": {}
  },
  {
   "cell_type": "code",
   "execution_count": null,
   "source": [
    "lista_espacament = list(proj_geof.ESPACAMENT.unique())"
   ],
   "outputs": [],
   "metadata": {}
  },
  {
   "cell_type": "code",
   "execution_count": null,
   "source": [
    "print(f\"Foram identificados {len(proj_geof[proj_geof['ESPACAMENT'] == '500'])} projetos aerogeofisicos\")\n",
    "print(f\"Lista de Titulos: {proj_geof[proj_geof['ESPACAMENT'] == '500']['TITULO']}\")"
   ],
   "outputs": [],
   "metadata": {}
  },
  {
   "cell_type": "code",
   "execution_count": null,
   "source": [
    "proj_geof_500m = proj_geof[proj_geof['ESPACAMENT'] == '500']"
   ],
   "outputs": [],
   "metadata": {}
  },
  {
   "cell_type": "code",
   "execution_count": null,
   "source": [
    "# Abrindo os vetores litológicos utilizando a função definida acima\n",
    "litologia_100k = importar_geometrias('litologia_100k')\n",
    "litologia_250k = importar_geometrias('litologia_250k')"
   ],
   "outputs": [],
   "metadata": {}
  },
  {
   "cell_type": "code",
   "execution_count": null,
   "source": [
    "plot_brazil(proj_geof_500m.boundary)\n",
    "plt.suptitle('500 metros')\n",
    "plt.annotate('ID_PROJETO',)\n",
    "plt.axis('scaled')"
   ],
   "outputs": [],
   "metadata": {}
  },
  {
   "cell_type": "code",
   "execution_count": null,
   "source": [
    "#int(proj_geof['ESPACAMENT'])"
   ],
   "outputs": [],
   "metadata": {}
  },
  {
   "cell_type": "code",
   "execution_count": null,
   "source": [
    "proj_geof_500m = proj_geof[proj_geof.ESPACAMENT == '500']"
   ],
   "outputs": [],
   "metadata": {}
  },
  {
   "cell_type": "code",
   "execution_count": null,
   "source": [
    "#ax = litologia_100k.plot('SIGLA')\n",
    "#proj_geof_500m.boundary.plot(ax=ax)\n",
    "\n",
    "plot_base(proj_geof_500m.boundary,camada='litologia_100k')  # esta funçao e lenta pois importa toda a camada vetorial novamente e\n",
    "                                                            # nao deve ser usada caso a litologia ja tenhasido definida"
   ],
   "outputs": [],
   "metadata": {}
  },
  {
   "cell_type": "markdown",
   "source": [
    "## Listando atributos geologicos das geometrias importadas."
   ],
   "metadata": {}
  },
  {
   "cell_type": "code",
   "execution_count": null,
   "source": [
    "# Abrindo os vetores litológicos utilizando a função definida acima\n",
    "litologia_100k = importar_geologico('litologia_100k')\n",
    "litologia_250k = importar_geologico('litologia_250k')"
   ],
   "outputs": [],
   "metadata": {}
  },
  {
   "cell_type": "code",
   "execution_count": null,
   "source": [
    "# Abrindo os vetores litológicos de um unico mapa utilizando a função definida acima\n",
    "varginha_100k = importar_geologico('litologia_100k','Varginha - UFRJ')"
   ],
   "outputs": [],
   "metadata": {}
  },
  {
   "cell_type": "code",
   "execution_count": null,
   "source": [
    "# atributos descritivos de cada uma das camadas litológicas (geometrias)\n",
    "print(\"Lista de atributos descritivos classes litologicas: \")\n",
    "print(list(varginha_100k.columns))"
   ],
   "outputs": [],
   "metadata": {}
  },
  {
   "cell_type": "code",
   "execution_count": null,
   "source": [
    "# Plotando os vetores descritos pelos geólogos da cprm\n",
    "varginha_100k.plot('SIGLA')"
   ],
   "outputs": [],
   "metadata": {}
  },
  {
   "cell_type": "code",
   "execution_count": null,
   "source": [
    "print(varginha_100k.shape)\n",
    "print(f\"{varginha_100k.shape[0]} geometrias litologicas descritas em {varginha_100k.shape[1]} atributos\")"
   ],
   "outputs": [],
   "metadata": {}
  },
  {
   "cell_type": "code",
   "execution_count": null,
   "source": [
    "# Observando o formato da descrição da coluna litotipos\n",
    "varginha_100k_litotipos = varginha_100k.LITOTIPOS.unique()\n",
    "print(f\"{len(list(varginha_100k_litotipos))} litotipos reconhecidos\")\n",
    "list(varginha_100k_litotipos)"
   ],
   "outputs": [],
   "metadata": {}
  },
  {
   "cell_type": "code",
   "execution_count": null,
   "source": [
    "# com estas funçoes utilizadas asssimas, podemos definir uma funçao que descreve o nosso dado vetorial\n",
    "def describe_geologico(gdf):\n",
    "    lista_colunas = list(gdf.columns)\n",
    "    lista_shape = gdf.shape\n",
    "    lista_litotipos = list(gdf.LITOTIPOS.unique())\n",
    "    lista_legenda = list(gdf.LEGENDA.unique())\n",
    "\n",
    "    dic_litologico = {'lista_colunas': lista_colunas,\n",
    "                      'lista_shape': lista_shape,\n",
    "                      'lista_litotipos': lista_litotipos,\n",
    "                      'lista_legenda': lista_legenda}\n",
    "    return dic_litologico   "
   ],
   "outputs": [],
   "metadata": {}
  },
  {
   "cell_type": "code",
   "execution_count": null,
   "source": [
    "dic_litoligico = describe_geologico(varginha_100k)"
   ],
   "outputs": [],
   "metadata": {}
  },
  {
   "cell_type": "code",
   "execution_count": null,
   "source": [
    "print(f\"Numero de geometrias descritas na carta geologica: {len(dic_litoligico['lista_litotipos'])}\")\n",
    "print(\"Lista de valores unicos da coluna Litotipo: \")\n",
    "list(dic_litoligico['lista_litotipos'])"
   ],
   "outputs": [],
   "metadata": {}
  },
  {
   "cell_type": "code",
   "execution_count": null,
   "source": [
    "print(f\"Numero de geometrias descritas na carta geologica: {len(dic_litoligico['lista_legenda'])}\")\n",
    "print(\"Lista de valores unicos da coluna Legenda: \")\n",
    "list(dic_litoligico['lista_legenda'])"
   ],
   "outputs": [],
   "metadata": {}
  },
  {
   "cell_type": "markdown",
   "source": [
    "## Reconhecendo as litologia mapeadas em suas escalas\n",
    "- Faremos um filtro na coluna LEGENDA e LITOTIOPOS para selecionar as classes de interesse e, com estas geometrias, selecionaremos os mapas que as contém.\n",
    "- Assim podemos identificar quais cartas geológicas e suas escalas podemos trabalhar."
   ],
   "metadata": {}
  },
  {
   "cell_type": "code",
   "execution_count": null,
   "source": [
    "def filtro(gdf,mineral):\n",
    "    filtrado = gdf[gdf['LITOTIPOS'].str.contains(mineral)]\n",
    "    if filtrado.empty:\n",
    "        print(f\"{list(gdf['LITOTIPOS'].unique())}\")\n",
    "    else:\n",
    "        return filtrado"
   ],
   "outputs": [],
   "metadata": {}
  },
  {
   "cell_type": "code",
   "execution_count": null,
   "source": [
    "litologia_grafitosa_100k = filtro(litologia_100k,'graf')"
   ],
   "outputs": [],
   "metadata": {}
  },
  {
   "cell_type": "code",
   "execution_count": null,
   "source": [
    "litotipos_vazio = litologia_100k[litologia_100k.LITOTIPOS.isna()]\n",
    "litotipos_vazio.LITOTIPOS"
   ],
   "outputs": [],
   "metadata": {}
  },
  {
   "cell_type": "code",
   "execution_count": null,
   "source": [
    "#Foi necessário inserir a str 'Vazio' em celas que não continham valores para que a função de filtro funcionasse corretamente na coluna LEGENDA.\n",
    "\n",
    "#litologia_1kk.fillna('Vazio',inplace=True)\n",
    "#litologia_250k.fillna('Vazio',inplace=True)\n",
    "litologia_100k.fillna('Vazio',inplace=True)\n",
    "#litologia_50k.fillna('Vazio',inplace=True)"
   ],
   "outputs": [],
   "metadata": {}
  },
  {
   "cell_type": "code",
   "execution_count": null,
   "source": [
    "Grafita_l1kk = filtro(litologia_1kk,'Graf')\n",
    "print(list(Grafita_l1kk['LITOTIPOS'].unique()))"
   ],
   "outputs": [],
   "metadata": {}
  },
  {
   "cell_type": "code",
   "execution_count": null,
   "source": [
    "Grafita_l1kk.plot('SIGLA')"
   ],
   "outputs": [],
   "metadata": {}
  },
  {
   "cell_type": "code",
   "execution_count": null,
   "source": [
    "base = brazil.boundary.plot(color='black',figsize=(12,12))\n",
    "\n",
    "leg_grafitosa_l1kk.plot(ax=base,facecolor='grey')\n",
    "\n",
    "lit_grafitoso_1kk.plot(ax=base,facecolor='black')"
   ],
   "outputs": [],
   "metadata": {}
  },
  {
   "cell_type": "code",
   "execution_count": null,
   "source": [
    "list_gr_100k=mapas_lito_gr_100k\n",
    "indice=0\n",
    "for i in mapas_lito_gr_100k:\n",
    "    print(i)\n",
    "    list_gr_100k[indice] = l_100k[l_100k['MAPA'].str.contains(\"i\")]\n",
    "    indice+=1\n"
   ],
   "outputs": [],
   "metadata": {}
  },
  {
   "cell_type": "code",
   "execution_count": null,
   "source": [
    "len(list_gr_100k)\n"
   ],
   "outputs": [],
   "metadata": {}
  },
  {
   "cell_type": "markdown",
   "source": [
    "### Desafio desnecessário para provar meus conhecimentos com for loops:"
   ],
   "metadata": {}
  },
  {
   "cell_type": "code",
   "execution_count": null,
   "source": [
    "lista_mapa = list(litologia_1kk.MAPA.unique())\n",
    "print(len(lista_mapa))\n",
    "lista_nome=[]\n",
    "\n",
    "for mapa in lista_mapa:\n",
    "    trash=0\n",
    "    Mapa=[]\n",
    "    for letra in mapa:\n",
    "        if trash<25:\n",
    "            trash+=1\n",
    "        else:\n",
    "            Mapa+=letra\n",
    "    lista_nome += [''.join(Mapa)]"
   ],
   "outputs": [],
   "metadata": {}
  },
  {
   "cell_type": "code",
   "execution_count": null,
   "source": [
    "lista_nome"
   ],
   "outputs": [],
   "metadata": {}
  },
  {
   "cell_type": "code",
   "execution_count": null,
   "source": [
    "folha=lista_nome\n",
    "indice=0\n",
    "for i in lista_nome:\n",
    "    print(i)\n",
    "    folha[indice] = litologia_1kk[l_1kk['MAPA'].str.contains(i)].dissolve('MAPA')\n",
    "    indice+=1"
   ],
   "outputs": [],
   "metadata": {}
  },
  {
   "cell_type": "code",
   "execution_count": null,
   "source": [
    "folha[31].plot()"
   ],
   "outputs": [],
   "metadata": {}
  },
  {
   "cell_type": "code",
   "execution_count": null,
   "source": [
    "lista_mapa = list(litolo_100k.MAPA.unique())\n",
    "lista_mapa"
   ],
   "outputs": [],
   "metadata": {}
  },
  {
   "cell_type": "code",
   "execution_count": null,
   "source": [
    "lista_nome=[]\n",
    "for mapa in lista_mapa:\n",
    "    trash=0\n",
    "    Mapa=[]\n",
    "    for letra in mapa:\n",
    "        if trash<25:\n",
    "            trash+=1\n",
    "        else:\n",
    "            Mapa+=letra\n",
    "    lista_nome += [''.join(Mapa)]"
   ],
   "outputs": [],
   "metadata": {}
  },
  {
   "cell_type": "code",
   "execution_count": null,
   "source": [
    "len(lista_nome)"
   ],
   "outputs": [],
   "metadata": {}
  },
  {
   "cell_type": "code",
   "execution_count": null,
   "source": [
    "folha=lista_nome\n",
    "indice=0\n",
    "for i in lista_nome:\n",
    "    print(i)\n",
    "    folha[indice] = l_100k[l_100k['MAPA'].str.contains(i)].dissolve('MAPA')\n",
    "    indice+=1"
   ],
   "outputs": [],
   "metadata": {}
  },
  {
   "cell_type": "code",
   "execution_count": null,
   "source": [
    "len(folha)"
   ],
   "outputs": [],
   "metadata": {}
  }
 ],
 "metadata": {
  "interpreter": {
   "hash": "044c3e0300da4fa3c2a1f13c93c64a53d39114a9c33e72628e43c9ffd211a0b1"
  },
  "kernelspec": {
   "name": "python3",
   "display_name": "Python 3.8.11 64-bit ('geologist_bot': conda)"
  },
  "language_info": {
   "codemirror_mode": {
    "name": "ipython",
    "version": 3
   },
   "file_extension": ".py",
   "mimetype": "text/x-python",
   "name": "python",
   "nbconvert_exporter": "python",
   "pygments_lexer": "ipython3",
   "version": "3.8.11"
  }
 },
 "nbformat": 4,
 "nbformat_minor": 2
}