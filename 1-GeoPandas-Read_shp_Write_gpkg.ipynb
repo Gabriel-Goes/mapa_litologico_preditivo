{
 "cells": [
  {
   "cell_type": "markdown",
   "id": "df32653a",
   "metadata": {},
   "source": [
    "# [GeoPandas](https://geopandas.org/getting_started/introduction.html): Reading Shapefiles and Writing Geopackages\n",
    "\n",
    "    - The Data Base Creation"
   ]
  },
  {
   "cell_type": "markdown",
   "id": "ae8ba071",
   "metadata": {},
   "source": [
    " Summary: \n",
    "   \n",
    "   - [Basic of python programming](##-Basic-of-python-programming:)\n",
    "   - [Filtrando arquivos do diretorio](#Filtrando-arquivos-do-diret%C3%B3rio)\n",
    "   - [Interacting with the GeoSGB GEological Data Base](#Interacting-with-GeoSGB-Geological-Data-Base.)"
   ]
  },
  {
   "cell_type": "markdown",
   "id": "6e5eeddb",
   "metadata": {},
   "source": [
    "## Basic of python programming:\n",
    " - define a function;\n",
    " - save this definition inside a text file at a folder;\n",
    " - doing so, we can use this definition anywhere we want throught our projects with < import >\n",
    " \n",
    " Be awere that python programming is much more then defining and calling defined functions. But for the start, this will be usefull. Through this project we are going to learn how to analyse geospatial data powered by the Object Oriented Programming Tehchniques."
   ]
  },
  {
   "cell_type": "markdown",
   "id": "6b190221",
   "metadata": {},
   "source": [
    "### Definindo um apelido de atalho para nossa base de dados local."
   ]
  },
  {
   "cell_type": "code",
   "execution_count": null,
   "id": "45d688b5",
   "metadata": {
    "scrolled": true
   },
   "outputs": [],
   "source": [
    "# Definindo caminho\n",
    "def gdb(path=''):\n",
    "    '''\n",
    "    Diretório raíz dos dados : '/home/ggrl/geodatabase/'\n",
    "\n",
    "        path : caminho até o arquivo desejado\n",
    "    '''\n",
    "    gdb = '/home/ggrl/geodatabase/' + path\n",
    "    return gdb"
   ]
  },
  {
   "cell_type": "markdown",
   "id": "3adaa26c",
   "metadata": {},
   "source": [
    "### the above definition can be saved into a .py file inside a /source folder, so we can import it anywhere we want"
   ]
  },
  {
   "cell_type": "code",
   "execution_count": null,
   "id": "f610a2d4",
   "metadata": {},
   "outputs": [],
   "source": [
    "from src.gdb import gdb"
   ]
  },
  {
   "cell_type": "code",
   "execution_count": null,
   "id": "b35573f6",
   "metadata": {},
   "outputs": [],
   "source": [
    "gdb()"
   ]
  },
  {
   "cell_type": "markdown",
   "id": "101d3b3b",
   "metadata": {},
   "source": [
    "## Interacting with [GeoSGB](https://geoportal.cprm.gov.br/geosgb/) Geological Data Base."
   ]
  },
  {
   "cell_type": "markdown",
   "id": "f164b7b1",
   "metadata": {},
   "source": [
    "### Com a ferramenta Geoprocessing conseguimos selecionar a area e a camda vetorial desejada, alem do formato do arquivo. No caso foi feito o download dos arquivos shapefiles da area do territorio continental brasileiro."
   ]
  },
  {
   "cell_type": "code",
   "execution_count": null,
   "id": "3f63e10e",
   "metadata": {},
   "outputs": [],
   "source": [
    "from IPython.display import Image"
   ]
  },
  {
   "cell_type": "code",
   "execution_count": null,
   "id": "70c87d65",
   "metadata": {},
   "outputs": [],
   "source": [
    "Image('imgs/geoprocessing_icon.png')"
   ]
  },
  {
   "cell_type": "code",
   "execution_count": null,
   "id": "eae70ad1",
   "metadata": {
    "scrolled": true
   },
   "outputs": [],
   "source": [
    "Image('imgs/sgb_online_database.png')"
   ]
  },
  {
   "cell_type": "markdown",
   "id": "87cef7e0",
   "metadata": {},
   "source": [
    "### Criando Banco de Dados Geológicos com [GeoPandas](https://geopandas.org/getting_started.html)\n",
    "\n",
    "- Com a biblioteca GeoPandas, vamos abrir os vetores no formato shapefile e salvalos em um banco de dados formatado como um geopackage."
   ]
  },
  {
   "cell_type": "markdown",
   "id": "06e1df2c",
   "metadata": {},
   "source": [
    "## Para este trabalho foi utilizada a area continental brasileira. \n",
    " - O Download destes arquivos foi feito no dia 18/06/2021 e a base de dados online do SGB pode ter sofrido alteraçoes desde entao."
   ]
  },
  {
   "cell_type": "code",
   "execution_count": null,
   "id": "35d2e63c",
   "metadata": {},
   "outputs": [],
   "source": [
    "import geopandas as gpd"
   ]
  },
  {
   "cell_type": "markdown",
   "id": "e475c931",
   "metadata": {},
   "source": [
    "#### Gerando lista de arquivos no diretório"
   ]
  },
  {
   "cell_type": "code",
   "execution_count": null,
   "id": "cd8d8ec3",
   "metadata": {},
   "outputs": [],
   "source": [
    "# This module can interact with our folders and is useful to extract file and folder names that jupyter have access.\n",
    "import os\n",
    "\n",
    "# The os.listdir() will return a list of files inside the folder shapefiles\n",
    "# We are calling the function we've just created inside this other function: < os.listdir() >\n",
    "\n",
    "shapefiles = os.listdir(gdb('shapefiles/'))"
   ]
  },
  {
   "cell_type": "code",
   "execution_count": null,
   "id": "52c47623",
   "metadata": {
    "scrolled": true
   },
   "outputs": [],
   "source": [
    "shapefiles"
   ]
  },
  {
   "cell_type": "markdown",
   "id": "985df5c8",
   "metadata": {},
   "source": [
    "#### Filtrando arquivos do diretório"
   ]
  },
  {
   "cell_type": "code",
   "execution_count": null,
   "id": "9af18976",
   "metadata": {},
   "outputs": [],
   "source": [
    "# Lista vazia de arquivos\n",
    "lito_strat_files = []\n",
    "other_files = []\n",
    "\n",
    "# Iterando entre os shapefiles da pasta\n",
    "for i in shapefiles:\n",
    "    \n",
    "    if i[0] == 'U':\n",
    "        lito_strat_files.append(i)    \n",
    "    \n",
    "    else:\n",
    "        if i[-2] != 'i':\n",
    "            other_files.append(i)"
   ]
  },
  {
   "cell_type": "code",
   "execution_count": null,
   "id": "1632581b",
   "metadata": {},
   "outputs": [],
   "source": [
    "#other_files\n",
    "#lito_strat_files"
   ]
  },
  {
   "cell_type": "code",
   "execution_count": null,
   "id": "e603cdaf",
   "metadata": {},
   "outputs": [],
   "source": [
    "# Lista de arquivos shapefiles vazia\n",
    "lito_strat_shp = []\n",
    "\n",
    "# Iterando entre os arquivos de unidades litoestratigráficas\n",
    "for j in lito_strat_files:\n",
    "    if j[-1] == 'p':\n",
    "        lito_strat_shp.append(j)"
   ]
  },
  {
   "cell_type": "code",
   "execution_count": null,
   "id": "a4808ac3",
   "metadata": {},
   "outputs": [],
   "source": [
    "lito_strat_shp"
   ]
  },
  {
   "cell_type": "code",
   "execution_count": null,
   "id": "a7ce93ad",
   "metadata": {},
   "outputs": [],
   "source": [
    "other_shapefiles = []\n",
    "\n",
    "for k in other_files:\n",
    "    if k[-2] == 'i':\n",
    "        pass\n",
    "    \n",
    "    elif k[-1] == 'p':\n",
    "        other_shapefiles.append(k)"
   ]
  },
  {
   "cell_type": "code",
   "execution_count": null,
   "id": "e7e0666d",
   "metadata": {},
   "outputs": [],
   "source": [
    "other_shapefiles"
   ]
  },
  {
   "cell_type": "markdown",
   "id": "d576cd2e",
   "metadata": {},
   "source": [
    "####  Lendo as geometrias litoestratigráficas dos arquivos shapefiles fornecidos pelo banco de dados gratuitos da CPRM e definindo a camada com um nome para cada escala."
   ]
  },
  {
   "cell_type": "code",
   "execution_count": null,
   "id": "9dad9371",
   "metadata": {},
   "outputs": [],
   "source": [
    "# abrindo unidades litoestratigráficas em escala de 1 : 1.000.000 \n",
    "litologia_1kk = gpd.read_file(gdb('shapefiles/Unidades_litoestratigr#U00e1ficas___1_1_000_000__2004_.shp'))"
   ]
  },
  {
   "cell_type": "code",
   "execution_count": null,
   "id": "0331ef6f",
   "metadata": {},
   "outputs": [],
   "source": [
    "litologia_1kk.to_file(gdb('geodatabase.gpkg'),\n",
    "              driver='GPKG',\n",
    "              layer='litologia_1kk')"
   ]
  },
  {
   "cell_type": "code",
   "execution_count": null,
   "id": "00da49f5",
   "metadata": {},
   "outputs": [],
   "source": [
    "# Unidades Litoestratigráficas na escala de 1 : 250.000\n",
    "litologia_250k = gpd.read_file(gdb('shapefiles/Unidades_litoestratigr#U00e1ficas___1_250_000.shp'))\n",
    "\n",
    "litologia_250k.to_file(gdb('geodatabase.gpkg'),\n",
    "              driver='GPKG',\n",
    "              layer='litologia_250k')"
   ]
  },
  {
   "cell_type": "code",
   "execution_count": null,
   "id": "dee16715",
   "metadata": {},
   "outputs": [],
   "source": [
    "# Unidades Litoestratigráficas na escalada de 1 : 150.000\n",
    "'''\n",
    "litologia_150k = gpd.read_file(gdb('shapefiles/Unidades_litoestratigr#U00e1ficas___1_150_000.shp'))\n",
    "\n",
    "litologia_150k.to_file(gdb('geodatadatabase.gpkg'),\n",
    "              driver='GPKG',\n",
    "              layer='litologia_150k')\n",
    "'''\n",
    "# Este shapefile está vazio, podendo ser um erro no download da base de dados do SGB ou\n",
    "# apenas que não há mapas disponibilizados para esta escala."
   ]
  },
  {
   "cell_type": "code",
   "execution_count": null,
   "id": "5506f5bc",
   "metadata": {},
   "outputs": [],
   "source": [
    "# Unidades Litoestratigráficas na escalada de 1 : 100.000\n",
    "litologia_100k = gpd.read_file(gdb('shapefiles/Unidades_litoestratigr#U00e1ficas___1_100_000.shp'))\n",
    "\n",
    "litologia_100k.to_file(gdb('geodatabase.gpkg'),\n",
    "              driver='GPKG',\n",
    "              layer='litologia_100k')"
   ]
  },
  {
   "cell_type": "code",
   "execution_count": null,
   "id": "24e00c1e",
   "metadata": {},
   "outputs": [],
   "source": [
    "# Unidades Litoestratigráficas na escalada de 1 : 50.000\n",
    "litologia_50k = gpd.read_file(gdb('shapefiles/Unidades_litoestratigr#U00e1ficas___1_50_000.shp'))\n",
    "\n",
    "litologia_50k.to_file(gdb('geodatabase.gpkg'),\n",
    "              driver='GPKG',\n",
    "              layer='litologia_50k')"
   ]
  },
  {
   "cell_type": "markdown",
   "id": "2e158cb2",
   "metadata": {},
   "source": [
    "#### Podemos, também, adicionar ao nosso GeoPackage geometrias outros tipos de geometria, como pontos de ocorrência mineral."
   ]
  },
  {
   "cell_type": "code",
   "execution_count": null,
   "id": "b32d697e",
   "metadata": {},
   "outputs": [],
   "source": [
    "ocorr_min = gpd.read_file(gdb('shapefiles/Ocorr#U00eancias_minerais.shp'))\n",
    "\n",
    "ocorr_min.to_file(gdb('geodatabase.gpkg'),\n",
    "                  driver='GPKG',\n",
    "                  layer='ocorr_min_cprm')"
   ]
  },
  {
   "cell_type": "markdown",
   "id": "09d42c21",
   "metadata": {},
   "source": [
    "#### Afloramentos, Amostras Petrograficas e Projetos de mapeamentos geolgocios e geofisicos"
   ]
  },
  {
   "cell_type": "code",
   "execution_count": null,
   "id": "d096b1ae",
   "metadata": {},
   "outputs": [],
   "source": [
    "aflora = gpd.read_file(gdb('shapefiles/Afloramentos_geol#U00f3gicos.shp'))\n",
    "\n",
    "aflora.to_file(gdb('geodatabase.gpkg'),\n",
    "                  driver='GPKG',\n",
    "                  layer='aflora')"
   ]
  },
  {
   "cell_type": "code",
   "execution_count": null,
   "id": "9a9f3124",
   "metadata": {},
   "outputs": [],
   "source": [
    "am_petro = gpd.read_file(gdb('shapefiles/Amostras_petrogr#U00e1ficas.shp'))\n",
    "\n",
    "am_petro.to_file(gdb('geodatabase.gpkg'),\n",
    "                  driver='GPKG',\n",
    "                  layer='am_petro')"
   ]
  },
  {
   "cell_type": "code",
   "execution_count": null,
   "id": "1f8792b0",
   "metadata": {},
   "outputs": [],
   "source": [
    "proj_cprm = gpd.read_file(gdb('shapefiles/Projetos_da_CPRM.shp'))\n",
    "\n",
    "\n",
    "proj_cprm.to_file(gdb('geodatabase.gpkg'),\n",
    "                  driver='GPKG',\n",
    "                  layer='proj_cprm')"
   ]
  },
  {
   "cell_type": "code",
   "execution_count": null,
   "id": "a013054f",
   "metadata": {},
   "outputs": [],
   "source": [
    "proj_aerogeof = gpd.read_file(gdb('shapefiles/Projetos_de_aerogeof#U00edsica.shp'))\n",
    "\n",
    "proj_aerogeof.to_file(gdb('geodatabase.gpkg'),\n",
    "                  driver='GPKG',\n",
    "                  layer='proj_aerogeof')"
   ]
  },
  {
   "cell_type": "markdown",
   "id": "1df28255",
   "metadata": {},
   "source": [
    "#### Mapa geologico da Folha Campinas SF23_Y_A 1:250.000 vetorizado pelo autor: ggrl"
   ]
  },
  {
   "cell_type": "code",
   "execution_count": null,
   "id": "afd2f535",
   "metadata": {},
   "outputs": [],
   "source": [
    "socorro_250k = gpd.read_file(gdb('shapefiles/socorro.shp'))\n",
    "\n",
    "socorro_250k.to_file(gdb('geodatabase.gpkg'),\n",
    "                  driver='GPKG',\n",
    "                  layer='socorro_250k')                  "
   ]
  },
  {
   "cell_type": "markdown",
   "id": "77b25ba7",
   "metadata": {},
   "source": [
    "### This process took 3' 19'' at my local machine, a very slow process indeed. But remember, this is almost 1 Gb of data."
   ]
  },
  {
   "cell_type": "markdown",
   "id": "7ae4c994",
   "metadata": {},
   "source": [
    "### We can observe that this algorithm is repeating itself for each shapefile layer"
   ]
  },
  {
   "cell_type": "markdown",
   "id": "aa85613c",
   "metadata": {},
   "source": [
    "### This is known as redundancy and can be overcomed by OOP techniques"
   ]
  },
  {
   "cell_type": "markdown",
   "id": "bf1f30f0",
   "metadata": {},
   "source": [
    "### But we wont implement this technique for now, a better way of improving this algorithm is by using WMS protocols. With this protocols we can access the data directly from de GeoSGB DataBase, removing the need to download, store localy, read and write to geopackages."
   ]
  },
  {
   "cell_type": "markdown",
   "id": "3a0cb509",
   "metadata": {},
   "source": [
    "# The next [jupyter-notebook](http://localhost:8888/notebooks/1.1-Geapandas%3ASpatial_Data_Analysis.ipynb#Filtering-and-Describing-Geospatial-Data) we'll learn how to filter the itens inside each layer, clean, analyze and visualize our Geo Spatial Data."
   ]
  },
  {
   "cell_type": "markdown",
   "id": "c6472b3a",
   "metadata": {},
   "source": [
    "# At this step, we are going to create a small data base to work at [Google Colab](https://drive.google.com/drive/folders/1ZNYQBscv28Srgu-FAlyCwJoVhrXjIOne?usp=sharing)"
   ]
  },
  {
   "cell_type": "code",
   "execution_count": null,
   "id": "b3f9ce6e",
   "metadata": {},
   "outputs": [],
   "source": [
    "#litologia_SB24 = litologia_1kk[litologia_1kk['MAPA'] == 'Carta geológica da folha Natal']"
   ]
  },
  {
   "cell_type": "code",
   "execution_count": null,
   "id": "929f3a72",
   "metadata": {},
   "outputs": [],
   "source": [
    "litologia_1kk_SF23 = litologia_1kk[litologia_1kk['MAPA'] == 'Carta geológica da folha Rio de Janeiro']\n",
    "litologia_1kk_SF23.head(5)"
   ]
  },
  {
   "cell_type": "code",
   "execution_count": 1,
   "id": "5a1f1488",
   "metadata": {},
   "outputs": [
    {
     "ename": "ValueError",
     "evalue": "Null layer: 'proj_geof'",
     "output_type": "error",
     "traceback": [
      "\u001b[0;31m---------------------------------------------------------------------------\u001b[0m",
      "\u001b[0;31mValueError\u001b[0m                                Traceback (most recent call last)",
      "\u001b[0;32m/tmp/ipykernel_15122/3618878008.py\u001b[0m in \u001b[0;36m<module>\u001b[0;34m\u001b[0m\n\u001b[1;32m      1\u001b[0m \u001b[0;32mfrom\u001b[0m \u001b[0msrc\u001b[0m\u001b[0;34m.\u001b[0m\u001b[0mgeopandas_custom\u001b[0m \u001b[0;32mimport\u001b[0m \u001b[0mimportar_geometrias\u001b[0m\u001b[0;34m\u001b[0m\u001b[0;34m\u001b[0m\u001b[0m\n\u001b[1;32m      2\u001b[0m \u001b[0;34m\u001b[0m\u001b[0m\n\u001b[0;32m----> 3\u001b[0;31m \u001b[0mproj_geof\u001b[0m \u001b[0;34m=\u001b[0m \u001b[0mimportar_geometrias\u001b[0m\u001b[0;34m(\u001b[0m\u001b[0;34m'proj_geof'\u001b[0m\u001b[0;34m)\u001b[0m\u001b[0;34m\u001b[0m\u001b[0;34m\u001b[0m\u001b[0m\n\u001b[0m",
      "\u001b[0;32m~/mapeamento_litologico_preditivo/src/geopandas_custom.py\u001b[0m in \u001b[0;36mimportar_geometrias\u001b[0;34m(camada, mapa)\u001b[0m\n\u001b[1;32m     28\u001b[0m     '''\n\u001b[1;32m     29\u001b[0m \u001b[0;34m\u001b[0m\u001b[0m\n\u001b[0;32m---> 30\u001b[0;31m     lito =  gpd.read_file(gdb('geodatabase.gpkg'),\n\u001b[0m\u001b[1;32m     31\u001b[0m                         \u001b[0mdriver\u001b[0m\u001b[0;34m=\u001b[0m \u001b[0;34m'GPKG'\u001b[0m\u001b[0;34m,\u001b[0m\u001b[0;34m\u001b[0m\u001b[0;34m\u001b[0m\u001b[0m\n\u001b[1;32m     32\u001b[0m                         layer= camada)\n",
      "\u001b[0;32m~/anaconda3/envs/geologist_environment/lib/python3.8/site-packages/geopandas/io/file.py\u001b[0m in \u001b[0;36m_read_file\u001b[0;34m(filename, bbox, mask, rows, **kwargs)\u001b[0m\n\u001b[1;32m    158\u001b[0m \u001b[0;34m\u001b[0m\u001b[0m\n\u001b[1;32m    159\u001b[0m     \u001b[0;32mwith\u001b[0m \u001b[0mfiona_env\u001b[0m\u001b[0;34m(\u001b[0m\u001b[0;34m)\u001b[0m\u001b[0;34m:\u001b[0m\u001b[0;34m\u001b[0m\u001b[0;34m\u001b[0m\u001b[0m\n\u001b[0;32m--> 160\u001b[0;31m         \u001b[0;32mwith\u001b[0m \u001b[0mreader\u001b[0m\u001b[0;34m(\u001b[0m\u001b[0mpath_or_bytes\u001b[0m\u001b[0;34m,\u001b[0m \u001b[0;34m**\u001b[0m\u001b[0mkwargs\u001b[0m\u001b[0;34m)\u001b[0m \u001b[0;32mas\u001b[0m \u001b[0mfeatures\u001b[0m\u001b[0;34m:\u001b[0m\u001b[0;34m\u001b[0m\u001b[0;34m\u001b[0m\u001b[0m\n\u001b[0m\u001b[1;32m    161\u001b[0m \u001b[0;34m\u001b[0m\u001b[0m\n\u001b[1;32m    162\u001b[0m             \u001b[0;31m# In a future Fiona release the crs attribute of features will\u001b[0m\u001b[0;34m\u001b[0m\u001b[0;34m\u001b[0m\u001b[0;34m\u001b[0m\u001b[0m\n",
      "\u001b[0;32m~/anaconda3/envs/geologist_environment/lib/python3.8/site-packages/fiona/env.py\u001b[0m in \u001b[0;36mwrapper\u001b[0;34m(*args, **kwargs)\u001b[0m\n\u001b[1;32m    396\u001b[0m     \u001b[0;32mdef\u001b[0m \u001b[0mwrapper\u001b[0m\u001b[0;34m(\u001b[0m\u001b[0;34m*\u001b[0m\u001b[0margs\u001b[0m\u001b[0;34m,\u001b[0m \u001b[0;34m**\u001b[0m\u001b[0mkwargs\u001b[0m\u001b[0;34m)\u001b[0m\u001b[0;34m:\u001b[0m\u001b[0;34m\u001b[0m\u001b[0;34m\u001b[0m\u001b[0m\n\u001b[1;32m    397\u001b[0m         \u001b[0;32mif\u001b[0m \u001b[0mlocal\u001b[0m\u001b[0;34m.\u001b[0m\u001b[0m_env\u001b[0m\u001b[0;34m:\u001b[0m\u001b[0;34m\u001b[0m\u001b[0;34m\u001b[0m\u001b[0m\n\u001b[0;32m--> 398\u001b[0;31m             \u001b[0;32mreturn\u001b[0m \u001b[0mf\u001b[0m\u001b[0;34m(\u001b[0m\u001b[0;34m*\u001b[0m\u001b[0margs\u001b[0m\u001b[0;34m,\u001b[0m \u001b[0;34m**\u001b[0m\u001b[0mkwargs\u001b[0m\u001b[0;34m)\u001b[0m\u001b[0;34m\u001b[0m\u001b[0;34m\u001b[0m\u001b[0m\n\u001b[0m\u001b[1;32m    399\u001b[0m         \u001b[0;32melse\u001b[0m\u001b[0;34m:\u001b[0m\u001b[0;34m\u001b[0m\u001b[0;34m\u001b[0m\u001b[0m\n\u001b[1;32m    400\u001b[0m             \u001b[0;32mif\u001b[0m \u001b[0misinstance\u001b[0m\u001b[0;34m(\u001b[0m\u001b[0margs\u001b[0m\u001b[0;34m[\u001b[0m\u001b[0;36m0\u001b[0m\u001b[0;34m]\u001b[0m\u001b[0;34m,\u001b[0m \u001b[0mstr\u001b[0m\u001b[0;34m)\u001b[0m\u001b[0;34m:\u001b[0m\u001b[0;34m\u001b[0m\u001b[0;34m\u001b[0m\u001b[0m\n",
      "\u001b[0;32m~/anaconda3/envs/geologist_environment/lib/python3.8/site-packages/fiona/__init__.py\u001b[0m in \u001b[0;36mopen\u001b[0;34m(fp, mode, driver, schema, crs, encoding, layer, vfs, enabled_drivers, crs_wkt, **kwargs)\u001b[0m\n\u001b[1;32m    251\u001b[0m \u001b[0;34m\u001b[0m\u001b[0m\n\u001b[1;32m    252\u001b[0m         \u001b[0;32mif\u001b[0m \u001b[0mmode\u001b[0m \u001b[0;32min\u001b[0m \u001b[0;34m(\u001b[0m\u001b[0;34m'a'\u001b[0m\u001b[0;34m,\u001b[0m \u001b[0;34m'r'\u001b[0m\u001b[0;34m)\u001b[0m\u001b[0;34m:\u001b[0m\u001b[0;34m\u001b[0m\u001b[0;34m\u001b[0m\u001b[0m\n\u001b[0;32m--> 253\u001b[0;31m             c = Collection(path, mode, driver=driver, encoding=encoding,\n\u001b[0m\u001b[1;32m    254\u001b[0m                            layer=layer, enabled_drivers=enabled_drivers, **kwargs)\n\u001b[1;32m    255\u001b[0m         \u001b[0;32melif\u001b[0m \u001b[0mmode\u001b[0m \u001b[0;34m==\u001b[0m \u001b[0;34m'w'\u001b[0m\u001b[0;34m:\u001b[0m\u001b[0;34m\u001b[0m\u001b[0;34m\u001b[0m\u001b[0m\n",
      "\u001b[0;32m~/anaconda3/envs/geologist_environment/lib/python3.8/site-packages/fiona/collection.py\u001b[0m in \u001b[0;36m__init__\u001b[0;34m(self, path, mode, driver, schema, crs, encoding, layer, vsi, archive, enabled_drivers, crs_wkt, ignore_fields, ignore_geometry, **kwargs)\u001b[0m\n\u001b[1;32m    152\u001b[0m             \u001b[0;32mif\u001b[0m \u001b[0mself\u001b[0m\u001b[0;34m.\u001b[0m\u001b[0mmode\u001b[0m \u001b[0;34m==\u001b[0m \u001b[0;34m'r'\u001b[0m\u001b[0;34m:\u001b[0m\u001b[0;34m\u001b[0m\u001b[0;34m\u001b[0m\u001b[0m\n\u001b[1;32m    153\u001b[0m                 \u001b[0mself\u001b[0m\u001b[0;34m.\u001b[0m\u001b[0msession\u001b[0m \u001b[0;34m=\u001b[0m \u001b[0mSession\u001b[0m\u001b[0;34m(\u001b[0m\u001b[0;34m)\u001b[0m\u001b[0;34m\u001b[0m\u001b[0;34m\u001b[0m\u001b[0m\n\u001b[0;32m--> 154\u001b[0;31m                 \u001b[0mself\u001b[0m\u001b[0;34m.\u001b[0m\u001b[0msession\u001b[0m\u001b[0;34m.\u001b[0m\u001b[0mstart\u001b[0m\u001b[0;34m(\u001b[0m\u001b[0mself\u001b[0m\u001b[0;34m,\u001b[0m \u001b[0;34m**\u001b[0m\u001b[0mkwargs\u001b[0m\u001b[0;34m)\u001b[0m\u001b[0;34m\u001b[0m\u001b[0;34m\u001b[0m\u001b[0m\n\u001b[0m\u001b[1;32m    155\u001b[0m             \u001b[0;32melif\u001b[0m \u001b[0mself\u001b[0m\u001b[0;34m.\u001b[0m\u001b[0mmode\u001b[0m \u001b[0;32min\u001b[0m \u001b[0;34m(\u001b[0m\u001b[0;34m'a'\u001b[0m\u001b[0;34m,\u001b[0m \u001b[0;34m'w'\u001b[0m\u001b[0;34m)\u001b[0m\u001b[0;34m:\u001b[0m\u001b[0;34m\u001b[0m\u001b[0;34m\u001b[0m\u001b[0m\n\u001b[1;32m    156\u001b[0m                 \u001b[0mself\u001b[0m\u001b[0;34m.\u001b[0m\u001b[0msession\u001b[0m \u001b[0;34m=\u001b[0m \u001b[0mWritingSession\u001b[0m\u001b[0;34m(\u001b[0m\u001b[0;34m)\u001b[0m\u001b[0;34m\u001b[0m\u001b[0;34m\u001b[0m\u001b[0m\n",
      "\u001b[0;32mfiona/ogrext.pyx\u001b[0m in \u001b[0;36mfiona.ogrext.Session.start\u001b[0;34m()\u001b[0m\n",
      "\u001b[0;31mValueError\u001b[0m: Null layer: 'proj_geof'"
     ]
    }
   ],
   "source": [
    "from src.geopandas_custom import importar_geometrias\n",
    "\n",
    "proj_geof = importar_geometrias('proj_geof')"
   ]
  },
  {
   "cell_type": "code",
   "execution_count": null,
   "id": "6803d0e2",
   "metadata": {},
   "outputs": [],
   "source": [
    "litologia_1kk_SF23.to_file('colab_ex/lito_1kk_sf23.shp')"
   ]
  },
  {
   "cell_type": "code",
   "execution_count": null,
   "id": "17d0a126",
   "metadata": {},
   "outputs": [],
   "source": [
    "xmin = litologia_1kk_SF23.bounds['minx'].min()\n",
    "xmax = litologia_1kk_SF23.bounds['maxx'].max()\n",
    "print(xmin,xmax)\n",
    "\n",
    "ymin = litologia_1kk_SF23.bounds['miny'].min()\n",
    "ymax = litologia_1kk_SF23.bounds['maxy'].max()\n",
    "print(ymin,ymax)"
   ]
  },
  {
   "cell_type": "code",
   "execution_count": null,
   "id": "f8f380f8",
   "metadata": {},
   "outputs": [],
   "source": [
    "litologia_100k_SF23 = litologia_100k.cx[-48:-42,-24:-20]\n",
    "litologia_100k_SF23.to_file('colab_ex/lito_100k_sf23.shp')"
   ]
  },
  {
   "cell_type": "code",
   "execution_count": null,
   "id": "00aadcc5",
   "metadata": {},
   "outputs": [],
   "source": [
    "ocorrencias_SF23 = ocorr_min.cx[-48:-42,-24:-20]\n",
    "ocorrencias_SF23.to_file('colab_ex/ocorr_sf23.shp')"
   ]
  },
  {
   "cell_type": "code",
   "execution_count": null,
   "id": "6d42e75b",
   "metadata": {},
   "outputs": [],
   "source": [
    "am_petro_SF23 = am_petro.cx[-48:-42,-24:-20]\n",
    "am_petro_SF23.to_file('colab_ex/am_petro_sf23.shp')"
   ]
  },
  {
   "cell_type": "code",
   "execution_count": null,
   "id": "f719c764",
   "metadata": {},
   "outputs": [],
   "source": [
    "aflora_SF23 = aflora.cx[-48:-42,-24:-20]\n",
    "aflora_SF23.to_file('colab_ex/aflora_sf23.shp')"
   ]
  }
 ],
 "metadata": {
  "interpreter": {
   "hash": "d412e3d091f5968552f8aa760bc8da416522b5884f97efbbec2149c97127b032"
  },
  "kernelspec": {
   "display_name": "Python [conda env:geologist_environment]",
   "language": "python",
   "name": "conda-env-geologist_environment-py"
  },
  "language_info": {
   "codemirror_mode": {
    "name": "ipython",
    "version": 3
   },
   "file_extension": ".py",
   "mimetype": "text/x-python",
   "name": "python",
   "nbconvert_exporter": "python",
   "pygments_lexer": "ipython3",
   "version": "3.8.12"
  }
 },
 "nbformat": 4,
 "nbformat_minor": 5
}
