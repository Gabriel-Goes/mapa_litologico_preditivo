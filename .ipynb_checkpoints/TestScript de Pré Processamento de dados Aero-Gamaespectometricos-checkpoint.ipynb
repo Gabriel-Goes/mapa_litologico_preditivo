{
 "cells": [
  {
   "cell_type": "code",
   "execution_count": 1,
   "metadata": {},
   "outputs": [],
   "source": [
    "#from sources.filtros import filtro"
   ]
  },
  {
   "cell_type": "code",
   "execution_count": 21,
   "metadata": {},
   "outputs": [],
   "source": [
    "import matplotlib.pyplot as plt \n",
    "\n",
    "%matplotlib widget              \n",
    "\n",
    "plt.rcParams['figure.dpi'] = 120\n",
    "\n",
    "import seaborn as sns\n"
   ]
  },
  {
   "cell_type": "code",
   "execution_count": 22,
   "metadata": {},
   "outputs": [],
   "source": [
    "from scripts.interpolaçao import interpolar"
   ]
  },
  {
   "cell_type": "code",
   "execution_count": 23,
   "metadata": {},
   "outputs": [],
   "source": [
    "from scripts.get_region import get_region"
   ]
  },
  {
   "cell_type": "code",
   "execution_count": 24,
   "metadata": {
    "jupyter": {
     "source_hidden": true
    },
    "tags": []
   },
   "outputs": [],
   "source": [
    "# OUTPUT DO SCRPIT/GET_REGION SERA O INPUT DESTE SCRIPT\n",
    "from scripts.get_region import get_region\n",
    "from sources import descricao as d\n",
    "from sources.importar import geometrias\n",
    "\n",
    "from contribuicoes.victsnet_emails import source_code_verde as td\n",
    "\n",
    "import verde as vd\n",
    "import numpy as np\n",
    "import pandas as pd\n",
    "import geopandas as gpd\n",
    "\n",
    "from shapely import geometry\n",
    "from tqdm import tqdm\n",
    "\n",
    "gdb = '/home/ggrl/geodatabase/'\n",
    "\n",
    "\n",
    "# # --------------------- DEFININDO FUNÇÃO DE QUE CHAMARÁ AS FUNÇÕES ANTERIORES PROVOCANDO UM ENCADEAMENTO DE OPERAÇÕES -------------- \n",
    "def interpolar(escala, id, geof,\n",
    "               psize=None, spacing=None, degree=None, n_splits=None,\n",
    "               camada=None, mapa=None,\n",
    "               crs__ = 'geografica', describe=False,\n",
    "               save=None,\n",
    "               tdm=None,\n",
    "               mag=None,gama=None,\n",
    "               dic_cartas=None,dic_raw_meta=None):\n",
    "\n",
    "    for index, row in tqdm(dic_raw_meta['Malha_cartografica'].iterrows()):\n",
    "\n",
    "        lista_atributo_geof = dic_raw_meta['Lista_at_geof']\n",
    "        data = dic_cartas['raw_data'][index]              \n",
    "\n",
    "        # REMOVENDO VALORES NEGATIVOS DOS DADOS AEROGAMAESPECTOMETRICOS\n",
    "        for atr in dic_raw_meta['Lista_at_geof']:                   # LEMBRAR DE MELHOR ISSO\n",
    "            if atr == 'KPERC':\n",
    "                data.loc[data.KPERC < 0, 'KPERC'] = 0\n",
    "                data.loc[data.eU < 0, 'eU'] = 0\n",
    "                data.loc[data.eTH < 0, 'eTH'] = 0\n",
    "                data.loc[data.CTCOR < 0, 'CTCOR'] = 0\n",
    "\n",
    "\n",
    "        # ----------------------------------------------------------------------------------------------------------------------\n",
    "        # CALCULANDO RAZOES DE BANDAS PARA OS DADOS\n",
    "        '''\n",
    "        a,b,c,d,e = descricao(data)\n",
    "        # Calculo de normalizaçao dos dados para seguir com a razao de bandas min = 10% da media dos dados\n",
    "        data_razoes = data   # criando uma nova variavel para ser alterada\n",
    "\n",
    "        data_razoes.loc[data_razoes.eU < (e['eU']['mean']) / 10, 'eU'] = (e['eU']['mean']) / 10\n",
    "        data_razoes.loc[data_razoes.KPERC < (e['KPERC']['mean']) / 10, 'KPERC'] = (e['KPERC']['mean']) / 10\n",
    "        data_razoes.loc[data_razoes.eth   < (e['eth']['mean'])   / 10, 'eTH'] = (e['eTH']['mean']) / 10\n",
    "        # Razao de bandas\n",
    "        data['U_TH'] = data_razoes.eU / data_razoes.eth\n",
    "        data['U_K']  = data_razoes.eU  / data_razoes.KPERC\n",
    "        data['TH_K']  = data_razoes.eth / data_razoes.KPERC\n",
    "        '''\n",
    "        # ----------------------------------------------------------------------------------------------------------------------\n",
    "\n",
    "        # GERANDO TUPLA DE COORDENADAS\n",
    "        if data.empty:\n",
    "            None\n",
    "            \n",
    "        elif len(data) < 1000:\n",
    "            None\n",
    "            #print(f\"A folha {index} possui apenas '{len(data)}' pontos coletados que devem ser adicionados a folha mais próxima\")\n",
    "            \n",
    "        else:\n",
    "            print(f\"# Folha de código: {index}\")\n",
    "            print(f\" Atualizando dados brutos em dic_cartas['raw_data']\")\n",
    "            x = {index:data}\n",
    "            dic_cartas['raw_data'].update(x) \n",
    "            print(f\" com {len(data)} pontos de contagens radiométricas coletados com linhas de voo de {spacing} metros\")\n",
    "            \n",
    "            # ADICIONANDO ATRIBUTOS GEOFÍSICOS AO DICIONÁRIO splines\n",
    "            splines={}\n",
    "            for atributo in lista_atributo_geof:\n",
    "                x = {atributo:''}\n",
    "                splines.update(x)\n",
    "            #print(f\" Construindo dic_cartas['splines'] vazio com os atributos geofísicos\")\n",
    "                \n",
    "            # ADICIONANDO ATRIBUTOS AO DICIONÁRIO SCORES\n",
    "            scores={}\n",
    "            for atributo in lista_atributo_geof:\n",
    "                y = {atributo:''}\n",
    "                scores.update(y)\n",
    "\n",
    "            mean_score={}\n",
    "            for atributo in lista_atributo_geof:\n",
    "                x = {atributo:''}\n",
    "                mean_score.update(x)    \n",
    "\n",
    "            #print(f\" Construindo dicionário vazio de score do cross validation\")\n",
    "            if degree:\n",
    "            # Iterando entre os canais de interpolação\n",
    "                print(\"\")\n",
    "                print(f\"# --- Inicio da interpolação com verde Splines # \")\n",
    "                for i in tqdm(lista_atributo_geof):\n",
    "                    # Definindo encadeamento de processsos para interpolação\n",
    "                    chain = vd.Chain([\n",
    "                                    ('trend', vd.Trend(degree=degree)),\n",
    "                                    ('reduce', vd.BlockReduce(np.mean, spacing=spacing)),\n",
    "                                    ('spline', vd.Spline())\n",
    "                                ])\n",
    "                    \n",
    "                    #print(f\"Encadeamento: {chain}\") \n",
    "                    coordinates = (data.X.values, data.Y.values)\n",
    "                    \n",
    "                    # ESCOLHER MELHOR TRAIN TEST SPLIT\n",
    "\n",
    "\n",
    "                    print(f\"Fitting Model of  '{i}' variable...\")\n",
    "                    chain.fit(coordinates,data[i])\n",
    "\n",
    "                    # Griding the predicted data.\n",
    "                    #print(f\"Predicting values of '{i}' to a regular grid of {psize} m\")\n",
    "                    grid = chain.grid(spacing=psize, data_names=[i],pixel_register=True)\n",
    "                    splines[i] = vd.distance_mask(coordinates, maxdist=1000, grid= grid)\n",
    "                    \n",
    "                    # ATUALIZAÇÃO DE DICIONÁRIO DE splines\n",
    "                    x = {index:splines}\n",
    "                    dic_cartas['splines'].update(x)\n",
    "                    #print(f\" Dicionário de dados splines da folha {index} atualizados\")\n",
    "\n",
    "                    # Processo de validação cruzada da biblioteca verde\n",
    "                    if n_splits:\n",
    "                        cv     = vd.BlockKFold(spacing=spacing,\n",
    "                                    n_splits=n_splits,\n",
    "                                    shuffle=True)\n",
    "                        #print(f\"Parâmetros de validação cruzada: {cv}\")\n",
    "                        scores[i] = vd.cross_val_score(chain,\n",
    "                                                coordinates,\n",
    "                                                data[i],\n",
    "                                                cv=cv,\n",
    "                                                delayed=True)\n",
    "\n",
    "                        import dask\n",
    "                        mean_score[i] = dask.delayed(np.mean)(scores[i])\n",
    "                        print(\"Delayed mean:\", mean_score)\n",
    "                \n",
    "                        print(f\"Computing mean scores of  '{i}' variable...\")\n",
    "                        mean_score[i] = mean_score[i].compute()\n",
    "                        #print(f\"Mean score: {mean_score}\")\n",
    "                        \n",
    "\n",
    "                    # ATUALIZAÇÃO DE DICIONÁRIO DE SCORES\n",
    "                    y = {index:scores}\n",
    "                    dic_cartas['scores'].update(y)\n",
    "\n",
    "                    x = {index:mean_score}\n",
    "                    dic_cartas['mean_score'].update(x)\n",
    "                    print(f\"# Folha {index} atualizada ao dicionário{list(dic_cartas.keys())}\")\n",
    "\n",
    "                    \n",
    "                    # SALVANDO DADOS INTERPOLADOS NO FORMATO .TIF\n",
    "                    if save:\n",
    "                        local='grids/geof_'+str(save)+'_'+str(psize)+'m_'+i+'_'+row.id_folha+'.tif'\n",
    "                        print('salvando grids/geof_'+str(save)+'_'+str(psize)+'m_'+i+'_'+row.id_folha+'.tif')\n",
    "                        #grids[i].to_netcdf(gdb+'/grids/geof_3022_'+str(psize)+'m_'+i+'_'+row.id_folha+'.nc')\n",
    "                        tif_ = splines[i].rename(easting = 'x',northing='y')\n",
    "                        tif_.rio.to_raster(gdb+local)\n",
    "\n",
    "            if tdm == 'cubico':\n",
    "                for i in tqdm(lista_atributo_geof):\n",
    "                    \n",
    "                    geof = data\n",
    "\n",
    "                    geof['geometry'] = [geometry.Point(x, y) for x, y in zip(geof['X'], geof['Y'])]\n",
    "                    crs = \"+proj=utm +zone=23 +south +ellps=WGS84 +datum=WGS84 +units=m +no_defs\"\n",
    "\n",
    "                    gdf_geof = gpd.GeoDataFrame(geof, geometry='geometry', crs=crs)\n",
    "\n",
    "                    area = dic_cartas['region_proj'][index]\n",
    "\n",
    "                    # creating a grid with cells\n",
    "                    xu, yu = td.regular(shape = (636, 444),\n",
    "                                        area  = area)\n",
    "\n",
    "                    #lista_atributos_geof = ['MDT', 'KPERC', 'eU', 'eth', 'CTCOR', 'THKRAZAO', 'UKRAZAO', 'UTHRAZAO']\n",
    "                    #lista_atributos_geof = ['ALTURA', 'MDT', 'MAGIGRF']\n",
    "                    if mag:\n",
    "                        ALTURA = np.array(gdf_geof.ALTURA)\n",
    "                        MAGIGRF = np.array(gdf_geof.MAGIGRF)\n",
    "                        MDT = np.array(gdf_geof.MDT)\n",
    "\n",
    "                        x2, y2 = np.array(gdf_geof.X), np.array(gdf_geof.Y)\n",
    "\n",
    "                        altura_ = td.interp_at(x2, y2, ALTURA, xu, yu, algorithm = 'cubic', extrapolate = True)\n",
    "                        mdt_ = td.interp_at(x2, y2, MDT, xu, yu, algorithm = 'cubic', extrapolate = True)\n",
    "                        magigrf_ = td.interp_at(x2, y2, MAGIGRF, xu, yu, algorithm = 'cubic', extrapolate = True)\n",
    "\n",
    "                        # intialise data of lists. \n",
    "                        data = {'X':xu, 'Y':yu, 'MDT': mdt_,\n",
    "                                'KPERC': altura_, 'eU':magigrf_} \n",
    "                        \n",
    "                        # Create DataFrame \n",
    "                        interpolado_cubico = pd.DataFrame(data)\n",
    "                        \n",
    "                        # Print the output. \n",
    "                        y={index:interpolado_cubico}\n",
    "                        dic_cartas['cubic'].update(y)  \n",
    "\n",
    "                    if gama:\n",
    "                        CTCOR = np.array(gdf_geof.CTCOR)\n",
    "\n",
    "                        MDT = np.array(gdf_geof.MDT)\n",
    "\n",
    "                        eTH = np.array(gdf_geof.eTH)\n",
    "\n",
    "                        eU = np.array(gdf_geof.eU)\n",
    "\n",
    "                        KPERC = np.array(gdf_geof.KPERC)\n",
    "\n",
    "                        THKRAZAO = np.array(gdf_geof.THKRAZAO)\n",
    "\n",
    "                        UKRAZAO = np.array(gdf_geof.UKRAZAO)\n",
    "\n",
    "                        UTHRAZAO = np.array(gdf_geof.UTHRAZAO)\n",
    "\n",
    "\n",
    "                        x2, y2 = np.array(gdf_geof.X), np.array(gdf_geof.Y)\n",
    "\n",
    "\n",
    "                        eTH_ = td.interp_at(x2, y2, eTH, xu, yu, algorithm = 'cubic', extrapolate = True)\n",
    "                        eu_ = td.interp_at(x2, y2, eU, xu, yu, algorithm = 'cubic', extrapolate = True)\n",
    "                        kperc_ = td.interp_at(x2, y2, KPERC, xu, yu, algorithm = 'cubic', extrapolate = True)\n",
    "                        ctcor_ = td.interp_at(x2, y2, CTCOR, xu, yu, algorithm = 'cubic', extrapolate = True)\n",
    "                        mdt_ = td.interp_at(x2, y2, MDT, xu, yu, algorithm = 'cubic', extrapolate = True)\n",
    "                        uthrazao_ = td.interp_at(x2, y2, UTHRAZAO, xu, yu, algorithm = 'cubic', extrapolate = True)\n",
    "                        ukrazao_ = td.interp_at(x2, y2, UKRAZAO, xu, yu, algorithm = 'cubic', extrapolate = True)\n",
    "                        thkrazao_ = td.interp_at(x2, y2, THKRAZAO, xu, yu, algorithm = 'cubic', extrapolate = True)\n",
    "                        # intialise data of lists. \n",
    "                        data = {'X':xu, 'Y':yu, 'MDT': mdt_,  'CTCOR': ctcor_,\n",
    "                                'KPERC': kperc_, 'eU':eu_, 'eTH': eTH_,\n",
    "                                'UTHRAZAO':uthrazao_,'UKRAZAO':ukrazao_,'THKRAZAO':thkrazao_} \n",
    "                        \n",
    "                        # Create DataFrame \n",
    "                        interpolado_cubico = pd.DataFrame(data)\n",
    "                        \n",
    "                        # Print the output. \n",
    "                        y={index:interpolado_cubico}\n",
    "                        dic_cartas['cubic'].update(y)                \n",
    "        \n",
    "            # RETIRANDO VALORES DE LITOLOGIA DE CADA PIXEL\n",
    "            if describe:\n",
    "                print(\"\")\n",
    "                print(f\"# --- Inicio da análise geoestatística\")\n",
    "                lista_interpolado = list()\n",
    "        \n",
    "                # IMPORTANDO VETORES LITOLÓGICOS ------------\n",
    "                litologia = dic_cartas['litologia'][index]\n",
    "                litologia.reset_index(inplace=True)\n",
    "                \n",
    "                if crs__=='proj':\n",
    "                    litologia.to_crs(32723,inplace=True)\n",
    "                    print(f\" lito: {litologia.crs}\")\n",
    "                else:\n",
    "                    litologia.to_crs(4326,inplace=True)\n",
    "                    print(f\" lito: {litologia.crs}\")\n",
    "                # -------------------------------------------\n",
    "                \n",
    "                # GRID POR SPLINES\n",
    "                if degree:\n",
    "                    for i in tqdm(lista_atributo_geof):\n",
    "                        df = splines[i].to_dataframe()\n",
    "                        lista_interpolado.append(df[i])\n",
    "\n",
    "                    geof_splines = pd.concat(lista_interpolado,axis=1, join='inner')\n",
    "                    geof_splines.reset_index(inplace=True)\n",
    "                    geof_splines['geometry'] =\\\n",
    "                    [geometry.Point(x,y) for x, y in zip(geof_splines['easting'], geof_splines['northing'])]\n",
    "                        \n",
    "\n",
    "                    # AJUSTANDO CRS\n",
    "                    #print(\"Ajustando crs\")\n",
    "                    if crs__=='proj':\n",
    "                        gdf = gpd.GeoDataFrame(geof_splines,crs=32723)\n",
    "                        gdf = gdf.set_crs(32723, allow_override=True)\n",
    "                        gdf = gdf.to_crs(\"EPSG:32723\")\n",
    "                        print(f\" geof: {gdf.crs}\")\n",
    "                    else:\n",
    "                        gdf = gpd.GeoDataFrame(geof_splines,crs=32723)\n",
    "                        gdf = gdf.set_crs(32723, allow_override=True)\n",
    "                        gdf = gdf.to_crs(\"EPSG:4326\")\n",
    "                        print(f\" geof: {gdf.crs}\")\n",
    "\n",
    "                    # CALCULO DE GEOMETRIA MAIS PROXIMA\n",
    "                    print(f\"# -- Calculando geometria mais próxima para cada um dos {len(geof_splines)} centróides de pixel\")\n",
    "                    lito_splines = geof_splines\n",
    "                    lito_splines['closest_unid'] = gdf['geometry'].apply(lambda x: litologia['SIGLA'].iloc[litologia.distance(x).idxmin()])\n",
    "                    print(f\"# Listagem de unidades geológicas presentes na folha de id {index}:    \")\n",
    "                    print(f\"  {list(lito_splines['closest_unid'].unique())}\")\n",
    "\n",
    "                    # Adicionando lito_geof ao dicionario\n",
    "                    print('')\n",
    "                    print(f\" Adicionando dataframe com valores de litologia e geofíscios ao dicionário de cartas\")\n",
    "                    x = {index:lito_splines}\n",
    "                    dic_cartas['lito_splines'].update(x)\n",
    "                    print(dic_cartas['lito_splines'][index].keys())\n",
    "\n",
    "\n",
    "                # GRID POR CUBICO\n",
    "                if tdm:\n",
    "                    for i in tqdm(lista_atributo_geof):\n",
    "                        df = interpolado_cubico[i].to_dataframe()\n",
    "                        lista_interpolado.append(df[i])\n",
    "\n",
    "                    geof_cubic = pd.concat(lista_interpolado,axis=1, join='inner')\n",
    "                    geof_cubic.reset_index(inplace=True)\n",
    "\n",
    "                    # AJUSTANDO CRS\n",
    "                    #print(\"Ajustando crs\")\n",
    "                    if crs__=='proj':\n",
    "                        gdf = gpd.GeoDataFrame(geof_splines,crs=32723)\n",
    "                        gdf = gdf.set_crs(32723, allow_override=True)\n",
    "                        gdf = gdf.to_crs(\"EPSG:32723\")\n",
    "                        print(f\" geof: {gdf.crs}\")\n",
    "                    else:\n",
    "                        gdf = gpd.GeoDataFrame(geof_splines,crs=32723)\n",
    "                        gdf = gdf.set_crs(32723, allow_override=True)\n",
    "                        gdf = gdf.to_crs(\"EPSG:4326\")\n",
    "                        print(f\" geof: {gdf.crs}\")\n",
    "\n",
    "\n",
    "                    # CALCULO DE GEOMETRIA MAIS PROXIMA\n",
    "                    print(f\"# -- Calculando geometria mais próxima para cada um dos {len(geof_cubic)} centróides de pixel\")\n",
    "                    lito_cubic = dic_cartas['cubic'][index]\n",
    "                    lito_cubic['closest_unid'] = gdf['geometry'].apply(lambda x: litologia['SIGLA'].iloc[litologia.distance(x).idxmin()])\n",
    "                    print(f\"# Listagem de unidades geológicas presentes na folha de id {index}:    \")\n",
    "                    print(f\"  {list(lito_cubic['closest_unid'].unique())}\")\n",
    "\n",
    "                    # Adicionando lito_geof ao dicionario\n",
    "                    print('')\n",
    "                    print(f\" Adicionando dataframe com valores de litologia e geofíscios ao dicionário de cartas\")\n",
    "                    x = {index:lito_cubic}\n",
    "                    dic_cartas['lito_cubic'].update(x)\n",
    "                    print(dic_cartas['lito_cubic'][index].keys())\n",
    "\n",
    "\n",
    "                print('__________________________________________')\n",
    "            print(\" \")\n",
    "    print(\"Dicionário de cartas disponível\")\n",
    "    return dic_cartas, dic_raw_meta"
   ]
  },
  {
   "cell_type": "code",
   "execution_count": 25,
   "metadata": {},
   "outputs": [
    {
     "name": "stdout",
     "output_type": "stream",
     "text": [
      "importando dados geofisicos\n"
     ]
    },
    {
     "name": "stderr",
     "output_type": "stream",
     "text": [
      "/home/ggrl/anaconda3/envs/geologist_bot/lib/python3.8/site-packages/geopandas/geodataframe.py:1322: SettingWithCopyWarning: \n",
      "A value is trying to be set on a copy of a slice from a DataFrame.\n",
      "Try using .loc[row_indexer,col_indexer] = value instead\n",
      "\n",
      "See the caveats in the documentation: https://pandas.pydata.org/pandas-docs/stable/user_guide/indexing.html#returning-a-view-versus-a-copy\n",
      "  super(GeoDataFrame, self).__setitem__(key, value)\n"
     ]
    },
    {
     "name": "stdout",
     "output_type": "stream",
     "text": [
      "# --- Iniciando seleção de área de estudo\n",
      "EPSG:32723\n",
      "1 folha cartográfica selecionada\n",
      "\n",
      "Lista de chaves do dicionario de cartas: ['region', 'region_proj', 'raw_data', 'splines', 'scores', 'lito_splines', 'mean_score', 'litologia', 'cubic', 'lito_cubic']\n",
      "Listando atributos dos dados geofisicos\n"
     ]
    },
    {
     "name": "stderr",
     "output_type": "stream",
     "text": [
      "100%|███████████████████████████████████████| 12/12 [00:00<00:00, 147600.14it/s]"
     ]
    },
    {
     "name": "stdout",
     "output_type": "stream",
     "text": [
      "# --- # Listagem de dados do aerolevantamento:  \n",
      "Lista de atributos geofísicos = ['KPERC', 'eU', 'eTH', 'UTHRAZAO', 'UKRAZAO', 'MDT', 'THKRAZAO', 'CTCOR']\n",
      "lista de atributos geograficos = ['LATITUDE', 'LONGITUDE']\n",
      "lista de atributos projetados = ['X', 'Y']\n"
     ]
    },
    {
     "name": "stderr",
     "output_type": "stream",
     "text": [
      "\n"
     ]
    },
    {
     "name": "stdout",
     "output_type": "stream",
     "text": [
      "Lista de chaves do dicionario de metadata bruto: ['Metadata', 'Lista_id', 'Lista_at_geof', 'Lista_at_geog', 'Lista_at_proj', 'Percentiles', 'Malha_cartografica']\n",
      "\n",
      "# --- Início da iteração entre as folhas cartográficas #\n"
     ]
    },
    {
     "name": "stderr",
     "output_type": "stream",
     "text": [
      "0it [00:00, ?it/s]"
     ]
    },
    {
     "name": "stdout",
     "output_type": "stream",
     "text": [
      "SF23_Y_A_III geometry       POLYGON ((293527.9406866278 7565822.725949138,...\n",
      "region                              (-47.0, -46.5, -22.5, -22.0)\n",
      "region_proj    (293527.94068662776, 345704.81387977325, 75104...\n",
      "Name: SF23_Y_A_III, dtype: object\n",
      "# Folha de código: SF23_Y_A_III\n",
      " Atualizando dados brutos em dic_cartas['raw_data']\n",
      " com 38016 pontos de amostragem\n",
      "epsg:32723\n"
     ]
    },
    {
     "name": "stderr",
     "output_type": "stream",
     "text": [
      "1it [00:14, 14.96s/it]"
     ]
    },
    {
     "name": "stdout",
     "output_type": "stream",
     "text": [
      " Atualizando dados geologicos em dic_cartas['litologia']\n",
      " com 65 poligonos descritos por                         27 atributos geologicos \n"
     ]
    },
    {
     "name": "stderr",
     "output_type": "stream",
     "text": [
      "\n"
     ]
    }
   ],
   "source": [
    "dic_cartas, dic_raw_meta = get_region('100k','SF23_Y_A_III','gama_line_1105','litologia_1kk')"
   ]
  },
  {
   "cell_type": "code",
   "execution_count": 26,
   "metadata": {},
   "outputs": [
    {
     "data": {
      "text/plain": [
       "dict_keys(['Metadata', 'Lista_id', 'Lista_at_geof', 'Lista_at_geog', 'Lista_at_proj', 'Percentiles', 'Malha_cartografica'])"
      ]
     },
     "execution_count": 26,
     "metadata": {},
     "output_type": "execute_result"
    }
   ],
   "source": [
    "dic_raw_meta.keys()"
   ]
  },
  {
   "cell_type": "code",
   "execution_count": 27,
   "metadata": {},
   "outputs": [
    {
     "name": "stdout",
     "output_type": "stream",
     "text": [
      "['SF23_Y_A_III']\n",
      "['KPERC', 'eU', 'eTH', 'UTHRAZAO', 'UKRAZAO', 'MDT', 'THKRAZAO', 'CTCOR']\n"
     ]
    },
    {
     "data": {
      "text/html": [
       "<div>\n",
       "<style scoped>\n",
       "    .dataframe tbody tr th:only-of-type {\n",
       "        vertical-align: middle;\n",
       "    }\n",
       "\n",
       "    .dataframe tbody tr th {\n",
       "        vertical-align: top;\n",
       "    }\n",
       "\n",
       "    .dataframe thead th {\n",
       "        text-align: right;\n",
       "    }\n",
       "</style>\n",
       "<table border=\"1\" class=\"dataframe\">\n",
       "  <thead>\n",
       "    <tr style=\"text-align: right;\">\n",
       "      <th></th>\n",
       "      <th>dType</th>\n",
       "      <th>Valores Faltantes</th>\n",
       "      <th>Valores Únicos</th>\n",
       "      <th>Amostragem</th>\n",
       "    </tr>\n",
       "  </thead>\n",
       "  <tbody>\n",
       "    <tr>\n",
       "      <th>KPERC</th>\n",
       "      <td>float64</td>\n",
       "      <td>0</td>\n",
       "      <td>6955</td>\n",
       "      <td>1169659</td>\n",
       "    </tr>\n",
       "    <tr>\n",
       "      <th>eU</th>\n",
       "      <td>float64</td>\n",
       "      <td>0</td>\n",
       "      <td>8168</td>\n",
       "      <td>1169659</td>\n",
       "    </tr>\n",
       "    <tr>\n",
       "      <th>eTH</th>\n",
       "      <td>float64</td>\n",
       "      <td>0</td>\n",
       "      <td>61336</td>\n",
       "      <td>1169659</td>\n",
       "    </tr>\n",
       "    <tr>\n",
       "      <th>UTHRAZAO</th>\n",
       "      <td>float64</td>\n",
       "      <td>0</td>\n",
       "      <td>793</td>\n",
       "      <td>1169659</td>\n",
       "    </tr>\n",
       "    <tr>\n",
       "      <th>X</th>\n",
       "      <td>float64</td>\n",
       "      <td>0</td>\n",
       "      <td>888292</td>\n",
       "      <td>1169659</td>\n",
       "    </tr>\n",
       "    <tr>\n",
       "      <th>Y</th>\n",
       "      <td>float64</td>\n",
       "      <td>0</td>\n",
       "      <td>1134332</td>\n",
       "      <td>1169659</td>\n",
       "    </tr>\n",
       "    <tr>\n",
       "      <th>UKRAZAO</th>\n",
       "      <td>float64</td>\n",
       "      <td>0</td>\n",
       "      <td>18813</td>\n",
       "      <td>1169659</td>\n",
       "    </tr>\n",
       "    <tr>\n",
       "      <th>MDT</th>\n",
       "      <td>float64</td>\n",
       "      <td>0</td>\n",
       "      <td>165213</td>\n",
       "      <td>1169659</td>\n",
       "    </tr>\n",
       "    <tr>\n",
       "      <th>THKRAZAO</th>\n",
       "      <td>float64</td>\n",
       "      <td>0</td>\n",
       "      <td>115015</td>\n",
       "      <td>1169659</td>\n",
       "    </tr>\n",
       "    <tr>\n",
       "      <th>CTCOR</th>\n",
       "      <td>float64</td>\n",
       "      <td>0</td>\n",
       "      <td>56613</td>\n",
       "      <td>1169659</td>\n",
       "    </tr>\n",
       "    <tr>\n",
       "      <th>LATITUDE</th>\n",
       "      <td>float64</td>\n",
       "      <td>0</td>\n",
       "      <td>851263</td>\n",
       "      <td>1169659</td>\n",
       "    </tr>\n",
       "    <tr>\n",
       "      <th>LONGITUDE</th>\n",
       "      <td>float64</td>\n",
       "      <td>0</td>\n",
       "      <td>728161</td>\n",
       "      <td>1169659</td>\n",
       "    </tr>\n",
       "  </tbody>\n",
       "</table>\n",
       "</div>"
      ],
      "text/plain": [
       "             dType  Valores Faltantes  Valores Únicos  Amostragem\n",
       "KPERC      float64                  0            6955     1169659\n",
       "eU         float64                  0            8168     1169659\n",
       "eTH        float64                  0           61336     1169659\n",
       "UTHRAZAO   float64                  0             793     1169659\n",
       "X          float64                  0          888292     1169659\n",
       "Y          float64                  0         1134332     1169659\n",
       "UKRAZAO    float64                  0           18813     1169659\n",
       "MDT        float64                  0          165213     1169659\n",
       "THKRAZAO   float64                  0          115015     1169659\n",
       "CTCOR      float64                  0           56613     1169659\n",
       "LATITUDE   float64                  0          851263     1169659\n",
       "LONGITUDE  float64                  0          728161     1169659"
      ]
     },
     "execution_count": 27,
     "metadata": {},
     "output_type": "execute_result"
    }
   ],
   "source": [
    "print(dic_raw_meta['Lista_id'])\n",
    "print(dic_raw_meta['Lista_at_geof'])\n",
    "dic_raw_meta['Metadata']"
   ]
  },
  {
   "cell_type": "code",
   "execution_count": 28,
   "metadata": {},
   "outputs": [
    {
     "data": {
      "text/html": [
       "<div>\n",
       "<style scoped>\n",
       "    .dataframe tbody tr th:only-of-type {\n",
       "        vertical-align: middle;\n",
       "    }\n",
       "\n",
       "    .dataframe tbody tr th {\n",
       "        vertical-align: top;\n",
       "    }\n",
       "\n",
       "    .dataframe thead th {\n",
       "        text-align: right;\n",
       "    }\n",
       "</style>\n",
       "<table border=\"1\" class=\"dataframe\">\n",
       "  <thead>\n",
       "    <tr style=\"text-align: right;\">\n",
       "      <th></th>\n",
       "      <th>count</th>\n",
       "      <th>mean</th>\n",
       "      <th>std</th>\n",
       "      <th>min</th>\n",
       "      <th>0.1%</th>\n",
       "      <th>10%</th>\n",
       "      <th>25%</th>\n",
       "      <th>50%</th>\n",
       "      <th>75%</th>\n",
       "      <th>99.5%</th>\n",
       "      <th>max</th>\n",
       "    </tr>\n",
       "  </thead>\n",
       "  <tbody>\n",
       "    <tr>\n",
       "      <th>KPERC</th>\n",
       "      <td>1169659.0</td>\n",
       "      <td>0.959790</td>\n",
       "      <td>0.854709</td>\n",
       "      <td>-0.500</td>\n",
       "      <td>-0.355</td>\n",
       "      <td>0.085</td>\n",
       "      <td>0.382</td>\n",
       "      <td>0.757</td>\n",
       "      <td>1.306</td>\n",
       "      <td>4.53000</td>\n",
       "      <td>14.577</td>\n",
       "    </tr>\n",
       "    <tr>\n",
       "      <th>eU</th>\n",
       "      <td>1169659.0</td>\n",
       "      <td>1.736779</td>\n",
       "      <td>1.092923</td>\n",
       "      <td>-0.500</td>\n",
       "      <td>-0.381</td>\n",
       "      <td>0.325</td>\n",
       "      <td>1.008</td>\n",
       "      <td>1.673</td>\n",
       "      <td>2.373</td>\n",
       "      <td>5.38300</td>\n",
       "      <td>23.934</td>\n",
       "    </tr>\n",
       "    <tr>\n",
       "      <th>eTH</th>\n",
       "      <td>1169659.0</td>\n",
       "      <td>19.289047</td>\n",
       "      <td>11.065808</td>\n",
       "      <td>-4.048</td>\n",
       "      <td>-0.722</td>\n",
       "      <td>6.860</td>\n",
       "      <td>12.290</td>\n",
       "      <td>18.382</td>\n",
       "      <td>25.207</td>\n",
       "      <td>59.15600</td>\n",
       "      <td>241.474</td>\n",
       "    </tr>\n",
       "    <tr>\n",
       "      <th>UTHRAZAO</th>\n",
       "      <td>1169659.0</td>\n",
       "      <td>0.097126</td>\n",
       "      <td>0.042352</td>\n",
       "      <td>0.000</td>\n",
       "      <td>0.000</td>\n",
       "      <td>0.056</td>\n",
       "      <td>0.073</td>\n",
       "      <td>0.090</td>\n",
       "      <td>0.111</td>\n",
       "      <td>0.27900</td>\n",
       "      <td>2.669</td>\n",
       "    </tr>\n",
       "    <tr>\n",
       "      <th>UKRAZAO</th>\n",
       "      <td>1169659.0</td>\n",
       "      <td>2.716171</td>\n",
       "      <td>2.416952</td>\n",
       "      <td>0.042</td>\n",
       "      <td>0.181</td>\n",
       "      <td>0.819</td>\n",
       "      <td>1.300</td>\n",
       "      <td>1.911</td>\n",
       "      <td>3.302</td>\n",
       "      <td>14.90200</td>\n",
       "      <td>59.007</td>\n",
       "    </tr>\n",
       "    <tr>\n",
       "      <th>MDT</th>\n",
       "      <td>1169659.0</td>\n",
       "      <td>872.675007</td>\n",
       "      <td>408.562445</td>\n",
       "      <td>-4.100</td>\n",
       "      <td>0.000</td>\n",
       "      <td>395.280</td>\n",
       "      <td>641.520</td>\n",
       "      <td>887.680</td>\n",
       "      <td>1113.550</td>\n",
       "      <td>1933.61130</td>\n",
       "      <td>2751.590</td>\n",
       "    </tr>\n",
       "    <tr>\n",
       "      <th>THKRAZAO</th>\n",
       "      <td>1169659.0</td>\n",
       "      <td>29.505581</td>\n",
       "      <td>25.788561</td>\n",
       "      <td>0.798</td>\n",
       "      <td>3.123</td>\n",
       "      <td>10.004</td>\n",
       "      <td>14.793</td>\n",
       "      <td>20.741</td>\n",
       "      <td>34.791</td>\n",
       "      <td>162.71671</td>\n",
       "      <td>525.859</td>\n",
       "    </tr>\n",
       "    <tr>\n",
       "      <th>CTCOR</th>\n",
       "      <td>1169659.0</td>\n",
       "      <td>14.176621</td>\n",
       "      <td>10.738090</td>\n",
       "      <td>-11.575</td>\n",
       "      <td>-1.641</td>\n",
       "      <td>3.814</td>\n",
       "      <td>6.608</td>\n",
       "      <td>11.263</td>\n",
       "      <td>19.699</td>\n",
       "      <td>56.54200</td>\n",
       "      <td>246.600</td>\n",
       "    </tr>\n",
       "  </tbody>\n",
       "</table>\n",
       "</div>"
      ],
      "text/plain": [
       "              count        mean         std     min   0.1%      10%      25%  \\\n",
       "KPERC     1169659.0    0.959790    0.854709  -0.500 -0.355    0.085    0.382   \n",
       "eU        1169659.0    1.736779    1.092923  -0.500 -0.381    0.325    1.008   \n",
       "eTH       1169659.0   19.289047   11.065808  -4.048 -0.722    6.860   12.290   \n",
       "UTHRAZAO  1169659.0    0.097126    0.042352   0.000  0.000    0.056    0.073   \n",
       "UKRAZAO   1169659.0    2.716171    2.416952   0.042  0.181    0.819    1.300   \n",
       "MDT       1169659.0  872.675007  408.562445  -4.100  0.000  395.280  641.520   \n",
       "THKRAZAO  1169659.0   29.505581   25.788561   0.798  3.123   10.004   14.793   \n",
       "CTCOR     1169659.0   14.176621   10.738090 -11.575 -1.641    3.814    6.608   \n",
       "\n",
       "              50%       75%       99.5%       max  \n",
       "KPERC       0.757     1.306     4.53000    14.577  \n",
       "eU          1.673     2.373     5.38300    23.934  \n",
       "eTH        18.382    25.207    59.15600   241.474  \n",
       "UTHRAZAO    0.090     0.111     0.27900     2.669  \n",
       "UKRAZAO     1.911     3.302    14.90200    59.007  \n",
       "MDT       887.680  1113.550  1933.61130  2751.590  \n",
       "THKRAZAO   20.741    34.791   162.71671   525.859  \n",
       "CTCOR      11.263    19.699    56.54200   246.600  "
      ]
     },
     "execution_count": 28,
     "metadata": {},
     "output_type": "execute_result"
    }
   ],
   "source": [
    "dic_raw_meta['Percentiles'].T"
   ]
  },
  {
   "cell_type": "code",
   "execution_count": null,
   "metadata": {},
   "outputs": [],
   "source": [
    "#Levantamento 1089 \n",
    "dic_cartas,dic_raw_meta = \\\n",
    "interpolar('100k','SF23_Y_B_I',\n",
    "            'gama_line_1105',camada='litologia_1kk',\n",
    "            describe=False,\n",
    "            crs__='proj',\n",
    "            tdm='cubico',gama=True,selecionar=True)"
   ]
  },
  {
   "cell_type": "markdown",
   "metadata": {},
   "source": [
    "## Descriçao estatistica dos dados brutos"
   ]
  },
  {
   "cell_type": "code",
   "execution_count": 16,
   "metadata": {},
   "outputs": [
    {
     "data": {
      "text/plain": [
       "dict_keys(['region', 'region_proj', 'raw_data', 'splines', 'scores', 'lito_splines', 'mean_score', 'litologia', 'cubic', 'lito_cubic'])"
      ]
     },
     "execution_count": 16,
     "metadata": {},
     "output_type": "execute_result"
    }
   ],
   "source": [
    "dic_cartas.keys()"
   ]
  },
  {
   "cell_type": "code",
   "execution_count": null,
   "metadata": {},
   "outputs": [],
   "source": [
    "dic_raw_meta.keys()"
   ]
  },
  {
   "cell_type": "code",
   "execution_count": null,
   "metadata": {},
   "outputs": [],
   "source": [
    "dic_raw_meta['Percentiles'].T"
   ]
  },
  {
   "cell_type": "code",
   "execution_count": null,
   "metadata": {},
   "outputs": [],
   "source": [
    "dic_cartas['mean_score']"
   ]
  },
  {
   "cell_type": "markdown",
   "metadata": {},
   "source": [
    "{'SC23_Z_A_IV': {'MDT': 0.8334158339524731,\n",
    "  'KPERC': 0.18091328322392417,\n",
    "  'eU': 0.19612079468324217,\n",
    "  'eth': 0.41133174470341644,\n",
    "  'CTCOR': 0.41790058475767133,\n",
    "  'THKRAZAO': 0.008707459671240092,\n",
    "  'UKRAZAO': 0.04778105652944411,\n",
    "  'UTHRAZAO': 0.11266206587505746}}"
   ]
  },
  {
   "cell_type": "markdown",
   "metadata": {},
   "source": [
    "## DESCRIÇÃO DOS DADOS DA FOLHA SC23_Z_A_IV_1"
   ]
  },
  {
   "cell_type": "markdown",
   "metadata": {},
   "source": [
    "### DICIONARIO DE DADOS DISPONIVEIS\n",
    "    - Regioes geograficas (W,E, S, N)\n",
    "    - Regioes projetadas (W,E, S, N)\n",
    "    - Dados Brutos\n",
    "    - Dados Interpolados\n",
    "    - Scores da Validacao Crusada para os dados interpolados\n",
    "    - Dataframe com classes alvos (Unidades Litologicas)"
   ]
  },
  {
   "cell_type": "code",
   "execution_count": null,
   "metadata": {},
   "outputs": [],
   "source": [
    "for i in dic_cartas:\n",
    "    print(i)"
   ]
  },
  {
   "cell_type": "code",
   "execution_count": null,
   "metadata": {},
   "outputs": [],
   "source": [
    "print(f\"#  folhas cartograficas: {len(dic_cartas['region'])}\")\n",
    "print(f\"ID folhas cartograficas: {list(dic_cartas['region'].keys())}\")"
   ]
  },
  {
   "cell_type": "code",
   "execution_count": null,
   "metadata": {
    "scrolled": true
   },
   "outputs": [],
   "source": [
    "#print(f\"Dados interpolados pleo modelo de splines: {list(dic_cartas['splines']['SF23_Y_B_I'].keys())}\")\n",
    "print(f\"Dados interpolados pleo modelo de cubico: {list(dic_cartas['cubic']['SF23_Y_B_I'].keys())}\")"
   ]
  },
  {
   "cell_type": "code",
   "execution_count": null,
   "metadata": {},
   "outputs": [],
   "source": [
    "#print(f\"Dataframe de classes litologicas disponiveis: {list(dic_cartas['lito_splines']['SF23_Y_B_I'].keys())}\")\n",
    "#print(f\"Dataframe de classes litologicas disponiveis: {list(dic_cartas['lito_cubic']['SF23_Y_B_I'].keys())}\")"
   ]
  },
  {
   "cell_type": "markdown",
   "metadata": {},
   "source": [
    "### CRIANDO DICIONARIO DE TITULOS PARA OS PLOTS"
   ]
  },
  {
   "cell_type": "code",
   "execution_count": null,
   "metadata": {},
   "outputs": [],
   "source": [
    "list_canal = dic_raw_meta['Lista_at_geof']\n",
    "print(f\"Lista de atributos: {list_canal}\")\n",
    "\n",
    "# LISTA DE TITULOS \n",
    "titles =   [\n",
    "            'K (%)',\n",
    "            'U (ppm)',\n",
    "            'Th (ppm)',\n",
    "            'U (ppm) / Th (ppm)',\n",
    "            'U (ppm) / K (%)',\n",
    "            'MDT (m)',\n",
    "            'Th (ppm) / K (%)',\n",
    "            'Contagem Total (μR/h)'\n",
    "            ]\n",
    "\n",
    "\n",
    "# DICIONARIO DE TITULOS\n",
    "dic_titles = {}\n",
    "for f, t in zip(list_canal, titles):\n",
    "    dic_titles[f] = t\n",
    "\n",
    "dic_titles"
   ]
  },
  {
   "cell_type": "markdown",
   "metadata": {},
   "source": [
    "#### DISTRIBUICAO GEOSTATISTICA DOS DADOS BRUTOS"
   ]
  },
  {
   "cell_type": "code",
   "execution_count": null,
   "metadata": {},
   "outputs": [],
   "source": [
    "dic_cartas['raw_data']['SF23_Y_B_I']"
   ]
  },
  {
   "cell_type": "code",
   "execution_count": null,
   "metadata": {},
   "outputs": [],
   "source": [
    "SF23_Y_B_I_raw_data = dic_cartas['raw_data']['SF23_Y_B_I']\n",
    "SF23_Y_B_I_raw_data_describe = SF23_Y_B_I_raw_data.describe(percentiles=(0.01,0.1,0.25,0.5,0.75,0.995))"
   ]
  },
  {
   "cell_type": "code",
   "execution_count": null,
   "metadata": {},
   "outputs": [],
   "source": [
    "litologia = dic_cartas['litologia']['SF23_Y_B_I']\n",
    "litologia.to_crs(32723,inplace=True)\n",
    "litologia.plot('SIGLA',\n",
    "                legend=True,\n",
    "                legend_kwds={'loc': 'center left', 'bbox_to_anchor':(1,0.5)})"
   ]
  },
  {
   "cell_type": "code",
   "execution_count": null,
   "metadata": {},
   "outputs": [],
   "source": [
    "dic_titles"
   ]
  },
  {
   "cell_type": "code",
   "execution_count": null,
   "metadata": {},
   "outputs": [],
   "source": [
    "def plot_raw_data(raw_data):\n",
    "    fig, axs = plt.subplots(nrows = 8, ncols = 1, figsize = (9, 9),sharex='all',sharey='all')\n",
    "    \n",
    "    raw_data_describe = raw_data.describe(percentiles=(0.01,0.1,0.25,0.5,0.75,0.995))\n",
    "\n",
    "    X, Y = raw_data.X, raw_data.Y\n",
    "\n",
    "    for ax, f in zip(axs.flat, dic_titles):\n",
    "        vmin = raw_data_describe[f]['1%']\n",
    "        vmax = raw_data_describe[f]['99.5%']\n",
    "\n",
    "        g = ax.scatter(c=raw_data[f], x = X,\n",
    "                                      y = Y,\n",
    "                                      cmap = 'rainbow',\n",
    "                                      s    = 0.5,\n",
    "                                      vmax =vmax, vmin=vmin)\n",
    "\n",
    "        fig.colorbar(g, ax = ax)\n",
    "        ax.set_title(str(dic_titles[f]), size = 11)\n",
    "        ax.axis('scaled')\n",
    "\n",
    "    #plt.tight_layout()"
   ]
  },
  {
   "cell_type": "code",
   "execution_count": null,
   "metadata": {},
   "outputs": [],
   "source": [
    "plot_raw_data(dic_cartas['raw_data']['SC23_Z_A'])"
   ]
  },
  {
   "cell_type": "code",
   "execution_count": null,
   "metadata": {},
   "outputs": [],
   "source": [
    "data = dic_cartas['cubic']['SC23_Z_A']"
   ]
  },
  {
   "cell_type": "code",
   "execution_count": null,
   "metadata": {},
   "outputs": [],
   "source": [
    "plot_raw_data(data)"
   ]
  },
  {
   "cell_type": "code",
   "execution_count": null,
   "metadata": {},
   "outputs": [],
   "source": [
    "lista_splines = list(dic_cartas['splines']['SC23_Z_A_IV'].keys())"
   ]
  },
  {
   "cell_type": "code",
   "execution_count": null,
   "metadata": {},
   "outputs": [],
   "source": [
    "import pandas as pd"
   ]
  },
  {
   "cell_type": "code",
   "execution_count": null,
   "metadata": {},
   "outputs": [],
   "source": [
    "def plot_splines_grid(splines_grid):\n",
    "    fig, axs = plt.subplots(nrows = 4, ncols = 2, figsize = (16, 16),sharex='all',sharey='all')\n",
    "\n",
    "    for ax, f in zip(axs.flat, dic_titles):\n",
    "\n",
    "        df_splines = pd.DataFrame(splines_grid[f][f])\n",
    "\n",
    "        p = df_splines.describe(percentiles=(0.01,0.1,0.25,0.5,0.75,0.995))\n",
    "        print(p)\n",
    "        vmin = p['1%']\n",
    "        vmax = p['99.5%']\n",
    "\n",
    "        g = grids[f][f].plot(ax=ax,\n",
    "                             cmap = 'rainbow',\n",
    "                             vmax =vmax, vmin=vmin)\n",
    "\n",
    "        #fig.colorbar(g, ax = ax)\n",
    "        ax.set_title(str(dic_titles[f]), size = 11)\n",
    "        ax.axis('scaled')\n",
    "\n",
    "    #plt.tight_layout()"
   ]
  },
  {
   "cell_type": "code",
   "execution_count": null,
   "metadata": {},
   "outputs": [],
   "source": [
    "splines_grid[f][f]"
   ]
  },
  {
   "cell_type": "code",
   "execution_count": null,
   "metadata": {},
   "outputs": [],
   "source": [
    "grids = dic_cartas['splines']['SC23_Z_A']\n",
    "\n",
    "plot_splines_grid(grids)"
   ]
  },
  {
   "cell_type": "code",
   "execution_count": null,
   "metadata": {},
   "outputs": [],
   "source": [
    "print(dic_cartas['splines']['SC23_Z_A_IV'].keys())"
   ]
  },
  {
   "cell_type": "code",
   "execution_count": null,
   "metadata": {},
   "outputs": [],
   "source": [
    "dic_cartas['splines']['SC23_Z_A_IV']['MDT']"
   ]
  },
  {
   "cell_type": "code",
   "execution_count": null,
   "metadata": {},
   "outputs": [],
   "source": [
    "dic_cartas['splines']['SC23_Z_A_IV']['MDT'].MDT"
   ]
  },
  {
   "cell_type": "markdown",
   "metadata": {},
   "source": [
    "### DESCRICAO GEOSTATISTICA DOS DADOS INTERPOLADOS"
   ]
  },
  {
   "cell_type": "code",
   "execution_count": null,
   "metadata": {},
   "outputs": [],
   "source": [
    "geodataframe = dic_cartas['lito_splines']['SC23_Z_A_IV'].set_geometry('geometry')\n",
    "print(geodataframe.crs)\n",
    "geodataframe.plot('closest_unid',s= 5,\n",
    "                                 legend=True,\n",
    "                                 legend_kwds={'loc': 'center left', 'bbox_to_anchor':(1,0.5)})\n",
    "                                 \n",
    "plt.title(label=f\"'closest_unid': SC23_Z_A_IV\")\n",
    "plt.axis('scaled')"
   ]
  },
  {
   "cell_type": "code",
   "execution_count": null,
   "metadata": {},
   "outputs": [],
   "source": [
    "from shapely import geometry\n",
    "\n",
    "dic_cartas['lito_cubic']['SC23_Z_A_IV']['geometry'] = [geometry.Point(x,y) for x, y in zip(dic_cartas['lito_cubic']['SC23_Z_A_IV']['X'], dic_cartas['lito_cubic']['SC23_Z_A_IV']['Y'])]\n",
    "\n",
    "geodataframe = dic_cartas['lito_cubic']['SC23_Z_A_IV'].set_geometry('geometry')\n",
    "geodataframe.set_crs(32723,inplace=True)\n",
    "geodataframe.to_crs(32723,inplace=True)\n",
    "\n",
    "print(geodataframe.crs)"
   ]
  },
  {
   "cell_type": "code",
   "execution_count": null,
   "metadata": {},
   "outputs": [],
   "source": [
    "geodataframe"
   ]
  },
  {
   "cell_type": "code",
   "execution_count": null,
   "metadata": {},
   "outputs": [],
   "source": [
    "geodataframe.plot('closest_unid',s= 5,\n",
    "                        legend=True,\n",
    "                        legend_kwds={'loc': 'center left', 'bbox_to_anchor':(1,0.5)}\n",
    "                )\n",
    "                                 \n",
    "plt.title(label=f\"'closest_unid': SC23_Z_A_IV\")"
   ]
  },
  {
   "cell_type": "code",
   "execution_count": null,
   "metadata": {},
   "outputs": [],
   "source": [
    "def plotBoxplots(df, cols = None):\n",
    "    n = len(cols)\n",
    "    fig, axs = plt.subplots(n, 1, figsize = (9, n * 2))\n",
    "    \n",
    "    for ax, f in zip(axs, cols):\n",
    "        sns.boxplot(y = f, x = 'closest_unid', data = df, ax = ax)\n"
   ]
  },
  {
   "cell_type": "code",
   "execution_count": null,
   "metadata": {},
   "outputs": [],
   "source": [
    "plotBoxplots(dic_cartas['lito_splines']['SC23_Z_A_IV'], cols = dic_titles)"
   ]
  },
  {
   "cell_type": "code",
   "execution_count": null,
   "metadata": {},
   "outputs": [],
   "source": [
    "plotBoxplots(dic_cartas['lito_cubic']['SC23_Z_A_IV'], cols = dic_titles)"
   ]
  },
  {
   "cell_type": "code",
   "execution_count": null,
   "metadata": {},
   "outputs": [],
   "source": [
    "fig, axs = plt.subplots(nrows = 4, ncols = 2, figsize = (7, 6))\n",
    "\n",
    "for ax, gf in zip(axs.flat, dic_titles):\n",
    "    g = ax.hist(dic_cartas['lito_splines']['SC23_Z_A_IV'][gf], color = 'lightblue', edgecolor = 'black')\n",
    "    ax.set_title(str(dic_titles[gf]), size = 9)\n",
    "\n",
    "plt.tight_layout()"
   ]
  },
  {
   "cell_type": "code",
   "execution_count": null,
   "metadata": {},
   "outputs": [],
   "source": [
    "fig, axs = plt.subplots(nrows = 4, ncols = 2, figsize = (7, 6))\n",
    "\n",
    "for ax, gf in zip(axs.flat, dic_titles):\n",
    "    g = ax.hist(dic_cartas['lito_cubic']['SC23_Z_A_IV'][gf], color = 'lightblue', edgecolor = 'black')\n",
    "    ax.set_title(str(dic_titles[gf]), size = 9)\n",
    "\n",
    "plt.tight_layout()"
   ]
  },
  {
   "cell_type": "code",
   "execution_count": null,
   "metadata": {},
   "outputs": [],
   "source": [
    "fig, axs = plt.subplots(nrows = 4, ncols = 2, figsize = (7, 6))\n",
    "\n",
    "for ax, gf in zip(axs.flat, dic_titles):\n",
    "    g = ax.hist(dic_cartas['raw_data']['SC23_Z_A_IV'][gf], color = 'lightblue', edgecolor = 'black')\n",
    "    ax.set_title(str(dic_titles[gf]), size = 9)\n",
    "\n",
    "plt.tight_layout()"
   ]
  },
  {
   "cell_type": "code",
   "execution_count": null,
   "metadata": {
    "tags": []
   },
   "outputs": [],
   "source": [
    "for i in dic_cartas['splines']:\n",
    "    print(i)\n",
    "    dic_cartas['lito_splines'][i].to_csv(f.gdb+'dataframe_input_model/lito_splines_'+i+'.csv',index=False)\n",
    "    dic_cartas['lito_cubic'][i].to_csv(f.gdb+'dataframe_input_model/lito_cubic_'+i+'.csv',index=False)"
   ]
  },
  {
   "cell_type": "code",
   "execution_count": null,
   "metadata": {
    "tags": []
   },
   "outputs": [],
   "source": [
    "dic_cartas['lito_cubic']['SC23_Z_A_IV']"
   ]
  },
  {
   "cell_type": "code",
   "execution_count": null,
   "metadata": {},
   "outputs": [],
   "source": [
    "dic_cartas['lito_cubic']['SC23_Z_A_IV'].closest_unid.isnull().sum()"
   ]
  },
  {
   "cell_type": "code",
   "execution_count": null,
   "metadata": {},
   "outputs": [],
   "source": [
    "dic_cartas['lito_splines']['SC23_Z_A_IV']"
   ]
  },
  {
   "cell_type": "code",
   "execution_count": null,
   "metadata": {},
   "outputs": [],
   "source": [
    "dic_cartas['lito_splines']['SC23_Z_A_IV'].closest_unid.isnull().sum()"
   ]
  },
  {
   "cell_type": "code",
   "execution_count": null,
   "metadata": {},
   "outputs": [],
   "source": []
  }
 ],
 "metadata": {
  "interpreter": {
   "hash": "d412e3d091f5968552f8aa760bc8da416522b5884f97efbbec2149c97127b032"
  },
  "kernelspec": {
   "display_name": "Python [conda env:geologist_bot]",
   "language": "python",
   "name": "conda-env-geologist_bot-py"
  },
  "language_info": {
   "codemirror_mode": {
    "name": "ipython",
    "version": 3
   },
   "file_extension": ".py",
   "mimetype": "text/x-python",
   "name": "python",
   "nbconvert_exporter": "python",
   "pygments_lexer": "ipython3",
   "version": "3.8.11"
  }
 },
 "nbformat": 4,
 "nbformat_minor": 4
}
