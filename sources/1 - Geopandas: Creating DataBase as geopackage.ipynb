{
 "cells": [
  {
   "cell_type": "markdown",
   "id": "41d575cc",
   "metadata": {},
   "source": [
    "### Criando Banco de Dados Geológicos com [GeoPandas](https://geopandas.org/getting_started.html)"
   ]
  },
  {
   "cell_type": "markdown",
   "id": "6e8b40e2",
   "metadata": {},
   "source": [
    "#### Importanto a biblioteca GeoPandas."
   ]
  },
  {
   "cell_type": "code",
   "execution_count": 1,
   "id": "387a7cfd",
   "metadata": {},
   "outputs": [],
   "source": [
    "import geopandas as gpd"
   ]
  },
  {
   "cell_type": "markdown",
   "id": "d19038c3",
   "metadata": {},
   "source": [
    "####  Definindo um apelido de atalho para nossa base de dados local."
   ]
  },
  {
   "cell_type": "code",
   "execution_count": 2,
   "id": "3bb976a7",
   "metadata": {
    "scrolled": true
   },
   "outputs": [],
   "source": [
    "gdb = '/home/ggrl/geodatabase/'"
   ]
  },
  {
   "cell_type": "markdown",
   "id": "fb1e041f",
   "metadata": {},
   "source": [
    "####  Lendo as geometrias litoestratigráficas  '.shp' e definindo a cama com um nome para cada escala."
   ]
  },
  {
   "cell_type": "code",
   "execution_count": null,
   "id": "a8bc9222",
   "metadata": {},
   "outputs": [],
   "source": [
    "# abrindo unidades litoestratigráficas em escala de 1 : 1.000.000 \n",
    "l_1kk = gpd.read_file(gdb+'litostrat/1kk/Unidades_litoestratigráficas___1_1_000_000__2004_.shp')\n",
    "\n",
    "l_1kk.to_file(gdb+'geodatabase.gpkg',\n",
    "              driver='GPKG',\n",
    "              layer='l_1kk')"
   ]
  },
  {
   "cell_type": "code",
   "execution_count": null,
   "id": "385a8a48-51b0-4b02-945c-6fd2a3161045",
   "metadata": {},
   "outputs": [],
   "source": [
    "# Unidades Litoestratigráficas na escala de 1 : 250.000\n",
    "l_250k = gpd.read_file(gdb+'litostrat/250k/Unidades_litoestratigráficas___1_250_000.shp')\n",
    "\n",
    "l_250k.to_file(gdb+'geodatabase.gpkg',\n",
    "              driver='GPKG',\n",
    "              layer='l_250k')"
   ]
  },
  {
   "cell_type": "code",
   "execution_count": null,
   "id": "cd028537-6097-4dca-991d-692c780c3faf",
   "metadata": {},
   "outputs": [],
   "source": [
    "# Unidades Litoestratigráficas na escalada de 1 : 150.000\n",
    "l_150k = gpd.read_file(gdb+'litostrat/150k/Unidades_litoestratigráficas___1_150_000.shp')\n",
    "\n",
    "l_150k.to_file(gdb+'geodatabase.gpkg',\n",
    "              driver='GPKG',\n",
    "              layer='l_150k')\n",
    "# Este shapefile está vazio, podendo ser um erro no download da base de dados do SGB ou apenas que não há mapas disponibilizado para esta escala."
   ]
  },
  {
   "cell_type": "code",
   "execution_count": null,
   "id": "def31346-0e8e-4120-9510-cda9c1f92d07",
   "metadata": {},
   "outputs": [],
   "source": [
    "# Unidades Litoestratigráficas na escalada de 1 : 100.000\n",
    "l_100k = gpd.read_file(gdb+'litostrat/100k/Unidades_litoestratigráficas___1_100_000.shp')\n",
    "\n",
    "l_100k.to_file(gdb+'geodatabase.gpkg',\n",
    "              driver='GPKG',\n",
    "              layer='l_100k')"
   ]
  },
  {
   "cell_type": "code",
   "execution_count": null,
   "id": "12617f07-b31d-4e8e-bc40-a938b677b4a2",
   "metadata": {},
   "outputs": [],
   "source": [
    "# Unidades Litoestratigráficas na escalada de 1 : 50.000\n",
    "l_50k = gpd.read_file(gdb+'litostrat/50k/Unidades_litoestratigráficas___1_50_000.shp')\n",
    "\n",
    "l_50k.to_file(gdb+'geodatabase.gpkg',\n",
    "              driver='GPKG',\n",
    "              layer='l_50k')"
   ]
  },
  {
   "cell_type": "markdown",
   "id": "c3d46af4-c8d7-42b9-92de-c47d85b3765a",
   "metadata": {},
   "source": [
    "#### Podemos, também, adicionar ao nosso GeoPackage geometrias outros tipos de geometria, como pontos de ocorrência mineral."
   ]
  },
  {
   "cell_type": "code",
   "execution_count": 8,
   "metadata": {},
   "outputs": [],
   "source": [
    "ocorr_min = gpd.read_file(gdb+'ocorr_min/Ocorrências_minerais.shp')\n",
    "\n",
    "ocorr_min.to_file(gdb+'geodatabase.gpkg',\n",
    "                  driver='GPKG',\n",
    "                  layer='ocorr_min')"
   ]
  },
  {
   "cell_type": "code",
   "execution_count": 5,
   "metadata": {},
   "outputs": [
    {
     "output_type": "execute_result",
     "data": {
      "text/plain": [
       "(34599, 33)"
      ]
     },
     "metadata": {},
     "execution_count": 5
    }
   ],
   "source": [
    "ocorr_min.shape"
   ]
  },
  {
   "cell_type": "code",
   "execution_count": 6,
   "metadata": {},
   "outputs": [
    {
     "output_type": "execute_result",
     "data": {
      "text/plain": [
       "Index(['ID_AFLORAM', 'ORIGEM', 'METODO_GEO', 'TOPONIMIA', 'MUNICIPIO', 'UF',\n",
       "       'GEOLOGO', 'DATA_CADAS', 'TIPO_AFLOR', 'DESCRICAO', 'NUMERO_CAM',\n",
       "       'ROCHAS', 'SUREG', 'PROJETO', 'CODIGO_FOL', 'FOLHA', 'ID_OCORREN',\n",
       "       'PROVINCIA', 'STATUS_ECO', 'IMPORTANCI', 'LOCALIZACA', 'SITUACAO_M',\n",
       "       'MOTIVO_INA', 'SITUACAO_G', 'MOTIVO_I_1', 'SUBSTANCIA', 'ROCHAS_HOS',\n",
       "       'ROCHAS_ENC', 'CLASSES_UT', 'MORFOLOGIA', 'TEXTURAS', 'TIPOS_ALTE',\n",
       "       'geometry'],\n",
       "      dtype='object')"
      ]
     },
     "metadata": {},
     "execution_count": 6
    }
   ],
   "source": [
    "ocorr_min.columns"
   ]
  },
  {
   "cell_type": "code",
   "execution_count": 7,
   "metadata": {},
   "outputs": [
    {
     "output_type": "execute_result",
     "data": {
      "text/plain": [
       "       ID_AFLORAM  ORIGEM                        METODO_GEO  \\\n",
       "0          197401  Oracle  Levantamento em mapa 1:2.500.000   \n",
       "1          192389  Oracle   Levantamento em carta 1:100.000   \n",
       "2          192375  Oracle   Levantamento em carta 1:100.000   \n",
       "3          192430  Oracle   Levantamento em carta 1:100.000   \n",
       "4          200652  Oracle   Levantamento em carta 1:100.000   \n",
       "...           ...     ...                               ...   \n",
       "34594      181780  Oracle   Levantamento em carta 1:250.000   \n",
       "34595      188582  Oracle   Levantamento em carta 1:250.000   \n",
       "34596      191887  Oracle   Levantamento em carta 1:250.000   \n",
       "34597      188405  Oracle   Levantamento em carta 1:250.000   \n",
       "34598      190320  Oracle   Levantamento em carta 1:250.000   \n",
       "\n",
       "                TOPONIMIA          MUNICIPIO  UF    GEOLOGO  DATA_CADAS  \\\n",
       "0       Benjamin Constant  Benjamin Constant  AM  A Definir  2006-11-24   \n",
       "1              Rio Traíra             Japurá  AM  A Definir  2006-11-24   \n",
       "2         Serra Esperança             Japurá  AM  A Definir  2006-11-24   \n",
       "3            Ig. Primeiro             Japurá  AM  A Definir  2006-11-24   \n",
       "4               Ig. Tatai             Japurá  AM  A Definir  2006-11-24   \n",
       "...                   ...                ...  ..        ...         ...   \n",
       "34594  Cumbe E Santa Cruz           Igarassu  PE  A Definir  2001-11-14   \n",
       "34595     Ilha do Bispo I        João Pessoa  PB  A Definir  2003-04-17   \n",
       "34596  Lagoa do Boqueirão            Caaporã  PB  A Definir  2001-11-14   \n",
       "34597   Fazenda Canabrava             Goiana  PE  A Definir  2006-11-24   \n",
       "34598          Rio Miriri          Rio Tinto  PB  A Definir  2006-11-24   \n",
       "\n",
       "      TIPO_AFLOR DESCRICAO  ...  SITUACAO_G   MOTIVO_I_1 SUBSTANCIA  \\\n",
       "0           None      None  ...        None         None    Linhito   \n",
       "1           None      None  ...        None         None       Ouro   \n",
       "2           None      None  ...        None         None       Ouro   \n",
       "3           None      None  ...        None         None       Ouro   \n",
       "4           None      None  ...        None         None       Ouro   \n",
       "...          ...       ...  ...         ...          ...        ...   \n",
       "34594       None      None  ...  Inativo(a)  Exaurido(a)    Fósforo   \n",
       "34595       None      None  ...        None         None   Calcário   \n",
       "34596       None      None  ...        None         None  Diatomita   \n",
       "34597       None      None  ...        None         None   Calcário   \n",
       "34598       None      None  ...        None         None      Turfa   \n",
       "\n",
       "      ROCHAS_HOS ROCHAS_ENC                           CLASSES_UT  \\\n",
       "0           None       None        Recursos minerais energéticos   \n",
       "1           None       None                        Metais nobres   \n",
       "2           None       None                        Metais nobres   \n",
       "3           None       None                        Metais nobres   \n",
       "4           None       None                        Metais nobres   \n",
       "...          ...        ...                                  ...   \n",
       "34594       None    Arenito             Insumos para agricultura   \n",
       "34595      Marga    Arenito        Rochas e minerais industriais   \n",
       "34596       None       None        Rochas e minerais industriais   \n",
       "34597       None   Andesito  Material de uso na construção civil   \n",
       "34598       None       None        Recursos minerais energéticos   \n",
       "\n",
       "          MORFOLOGIA  TEXTURAS TIPOS_ALTE                    geometry  \n",
       "0               None      None       None  POINT (-70.10048 -4.38371)  \n",
       "1               None      None       None  POINT (-69.64242 -0.46648)  \n",
       "2               None      None       None  POINT (-69.55464 -0.66843)  \n",
       "3               None      None       None  POINT (-69.53437 -0.59037)  \n",
       "4               None      None       None  POINT (-69.52742 -0.86982)  \n",
       "...              ...       ...        ...                         ...  \n",
       "34594  Estratificada  Compacta       None  POINT (-34.89029 -7.86598)  \n",
       "34595  Estratificada  Compacta       None  POINT (-34.88807 -7.13681)  \n",
       "34596         Maciça  Granular       None  POINT (-34.87612 -7.48709)  \n",
       "34597  Estratificada    Maciça       None  POINT (-34.86529 -7.61820)  \n",
       "34598           None      None       None  POINT (-34.98362 -6.88375)  \n",
       "\n",
       "[34599 rows x 33 columns]"
      ],
      "text/html": "<div>\n<style scoped>\n    .dataframe tbody tr th:only-of-type {\n        vertical-align: middle;\n    }\n\n    .dataframe tbody tr th {\n        vertical-align: top;\n    }\n\n    .dataframe thead th {\n        text-align: right;\n    }\n</style>\n<table border=\"1\" class=\"dataframe\">\n  <thead>\n    <tr style=\"text-align: right;\">\n      <th></th>\n      <th>ID_AFLORAM</th>\n      <th>ORIGEM</th>\n      <th>METODO_GEO</th>\n      <th>TOPONIMIA</th>\n      <th>MUNICIPIO</th>\n      <th>UF</th>\n      <th>GEOLOGO</th>\n      <th>DATA_CADAS</th>\n      <th>TIPO_AFLOR</th>\n      <th>DESCRICAO</th>\n      <th>...</th>\n      <th>SITUACAO_G</th>\n      <th>MOTIVO_I_1</th>\n      <th>SUBSTANCIA</th>\n      <th>ROCHAS_HOS</th>\n      <th>ROCHAS_ENC</th>\n      <th>CLASSES_UT</th>\n      <th>MORFOLOGIA</th>\n      <th>TEXTURAS</th>\n      <th>TIPOS_ALTE</th>\n      <th>geometry</th>\n    </tr>\n  </thead>\n  <tbody>\n    <tr>\n      <th>0</th>\n      <td>197401</td>\n      <td>Oracle</td>\n      <td>Levantamento em mapa 1:2.500.000</td>\n      <td>Benjamin Constant</td>\n      <td>Benjamin Constant</td>\n      <td>AM</td>\n      <td>A Definir</td>\n      <td>2006-11-24</td>\n      <td>None</td>\n      <td>None</td>\n      <td>...</td>\n      <td>None</td>\n      <td>None</td>\n      <td>Linhito</td>\n      <td>None</td>\n      <td>None</td>\n      <td>Recursos minerais energéticos</td>\n      <td>None</td>\n      <td>None</td>\n      <td>None</td>\n      <td>POINT (-70.10048 -4.38371)</td>\n    </tr>\n    <tr>\n      <th>1</th>\n      <td>192389</td>\n      <td>Oracle</td>\n      <td>Levantamento em carta 1:100.000</td>\n      <td>Rio Traíra</td>\n      <td>Japurá</td>\n      <td>AM</td>\n      <td>A Definir</td>\n      <td>2006-11-24</td>\n      <td>None</td>\n      <td>None</td>\n      <td>...</td>\n      <td>None</td>\n      <td>None</td>\n      <td>Ouro</td>\n      <td>None</td>\n      <td>None</td>\n      <td>Metais nobres</td>\n      <td>None</td>\n      <td>None</td>\n      <td>None</td>\n      <td>POINT (-69.64242 -0.46648)</td>\n    </tr>\n    <tr>\n      <th>2</th>\n      <td>192375</td>\n      <td>Oracle</td>\n      <td>Levantamento em carta 1:100.000</td>\n      <td>Serra Esperança</td>\n      <td>Japurá</td>\n      <td>AM</td>\n      <td>A Definir</td>\n      <td>2006-11-24</td>\n      <td>None</td>\n      <td>None</td>\n      <td>...</td>\n      <td>None</td>\n      <td>None</td>\n      <td>Ouro</td>\n      <td>None</td>\n      <td>None</td>\n      <td>Metais nobres</td>\n      <td>None</td>\n      <td>None</td>\n      <td>None</td>\n      <td>POINT (-69.55464 -0.66843)</td>\n    </tr>\n    <tr>\n      <th>3</th>\n      <td>192430</td>\n      <td>Oracle</td>\n      <td>Levantamento em carta 1:100.000</td>\n      <td>Ig. Primeiro</td>\n      <td>Japurá</td>\n      <td>AM</td>\n      <td>A Definir</td>\n      <td>2006-11-24</td>\n      <td>None</td>\n      <td>None</td>\n      <td>...</td>\n      <td>None</td>\n      <td>None</td>\n      <td>Ouro</td>\n      <td>None</td>\n      <td>None</td>\n      <td>Metais nobres</td>\n      <td>None</td>\n      <td>None</td>\n      <td>None</td>\n      <td>POINT (-69.53437 -0.59037)</td>\n    </tr>\n    <tr>\n      <th>4</th>\n      <td>200652</td>\n      <td>Oracle</td>\n      <td>Levantamento em carta 1:100.000</td>\n      <td>Ig. Tatai</td>\n      <td>Japurá</td>\n      <td>AM</td>\n      <td>A Definir</td>\n      <td>2006-11-24</td>\n      <td>None</td>\n      <td>None</td>\n      <td>...</td>\n      <td>None</td>\n      <td>None</td>\n      <td>Ouro</td>\n      <td>None</td>\n      <td>None</td>\n      <td>Metais nobres</td>\n      <td>None</td>\n      <td>None</td>\n      <td>None</td>\n      <td>POINT (-69.52742 -0.86982)</td>\n    </tr>\n    <tr>\n      <th>...</th>\n      <td>...</td>\n      <td>...</td>\n      <td>...</td>\n      <td>...</td>\n      <td>...</td>\n      <td>...</td>\n      <td>...</td>\n      <td>...</td>\n      <td>...</td>\n      <td>...</td>\n      <td>...</td>\n      <td>...</td>\n      <td>...</td>\n      <td>...</td>\n      <td>...</td>\n      <td>...</td>\n      <td>...</td>\n      <td>...</td>\n      <td>...</td>\n      <td>...</td>\n      <td>...</td>\n    </tr>\n    <tr>\n      <th>34594</th>\n      <td>181780</td>\n      <td>Oracle</td>\n      <td>Levantamento em carta 1:250.000</td>\n      <td>Cumbe E Santa Cruz</td>\n      <td>Igarassu</td>\n      <td>PE</td>\n      <td>A Definir</td>\n      <td>2001-11-14</td>\n      <td>None</td>\n      <td>None</td>\n      <td>...</td>\n      <td>Inativo(a)</td>\n      <td>Exaurido(a)</td>\n      <td>Fósforo</td>\n      <td>None</td>\n      <td>Arenito</td>\n      <td>Insumos para agricultura</td>\n      <td>Estratificada</td>\n      <td>Compacta</td>\n      <td>None</td>\n      <td>POINT (-34.89029 -7.86598)</td>\n    </tr>\n    <tr>\n      <th>34595</th>\n      <td>188582</td>\n      <td>Oracle</td>\n      <td>Levantamento em carta 1:250.000</td>\n      <td>Ilha do Bispo I</td>\n      <td>João Pessoa</td>\n      <td>PB</td>\n      <td>A Definir</td>\n      <td>2003-04-17</td>\n      <td>None</td>\n      <td>None</td>\n      <td>...</td>\n      <td>None</td>\n      <td>None</td>\n      <td>Calcário</td>\n      <td>Marga</td>\n      <td>Arenito</td>\n      <td>Rochas e minerais industriais</td>\n      <td>Estratificada</td>\n      <td>Compacta</td>\n      <td>None</td>\n      <td>POINT (-34.88807 -7.13681)</td>\n    </tr>\n    <tr>\n      <th>34596</th>\n      <td>191887</td>\n      <td>Oracle</td>\n      <td>Levantamento em carta 1:250.000</td>\n      <td>Lagoa do Boqueirão</td>\n      <td>Caaporã</td>\n      <td>PB</td>\n      <td>A Definir</td>\n      <td>2001-11-14</td>\n      <td>None</td>\n      <td>None</td>\n      <td>...</td>\n      <td>None</td>\n      <td>None</td>\n      <td>Diatomita</td>\n      <td>None</td>\n      <td>None</td>\n      <td>Rochas e minerais industriais</td>\n      <td>Maciça</td>\n      <td>Granular</td>\n      <td>None</td>\n      <td>POINT (-34.87612 -7.48709)</td>\n    </tr>\n    <tr>\n      <th>34597</th>\n      <td>188405</td>\n      <td>Oracle</td>\n      <td>Levantamento em carta 1:250.000</td>\n      <td>Fazenda Canabrava</td>\n      <td>Goiana</td>\n      <td>PE</td>\n      <td>A Definir</td>\n      <td>2006-11-24</td>\n      <td>None</td>\n      <td>None</td>\n      <td>...</td>\n      <td>None</td>\n      <td>None</td>\n      <td>Calcário</td>\n      <td>None</td>\n      <td>Andesito</td>\n      <td>Material de uso na construção civil</td>\n      <td>Estratificada</td>\n      <td>Maciça</td>\n      <td>None</td>\n      <td>POINT (-34.86529 -7.61820)</td>\n    </tr>\n    <tr>\n      <th>34598</th>\n      <td>190320</td>\n      <td>Oracle</td>\n      <td>Levantamento em carta 1:250.000</td>\n      <td>Rio Miriri</td>\n      <td>Rio Tinto</td>\n      <td>PB</td>\n      <td>A Definir</td>\n      <td>2006-11-24</td>\n      <td>None</td>\n      <td>None</td>\n      <td>...</td>\n      <td>None</td>\n      <td>None</td>\n      <td>Turfa</td>\n      <td>None</td>\n      <td>None</td>\n      <td>Recursos minerais energéticos</td>\n      <td>None</td>\n      <td>None</td>\n      <td>None</td>\n      <td>POINT (-34.98362 -6.88375)</td>\n    </tr>\n  </tbody>\n</table>\n<p>34599 rows × 33 columns</p>\n</div>"
     },
     "metadata": {},
     "execution_count": 7
    }
   ],
   "source": [
    "ocorr_min.set_geometry('geometry')"
   ]
  },
  {
   "cell_type": "code",
   "execution_count": 9,
   "metadata": {},
   "outputs": [
    {
     "output_type": "execute_result",
     "data": {
      "text/plain": [
       "<Geographic 2D CRS: EPSG:4326>\n",
       "Name: WGS 84\n",
       "Axis Info [ellipsoidal]:\n",
       "- Lat[north]: Geodetic latitude (degree)\n",
       "- Lon[east]: Geodetic longitude (degree)\n",
       "Area of Use:\n",
       "- name: World\n",
       "- bounds: (-180.0, -90.0, 180.0, 90.0)\n",
       "Datum: World Geodetic System 1984\n",
       "- Ellipsoid: WGS 84\n",
       "- Prime Meridian: Greenwich"
      ]
     },
     "metadata": {},
     "execution_count": 9
    }
   ],
   "source": [
    "ocorr_min.crs"
   ]
  },
  {
   "cell_type": "code",
   "execution_count": 3,
   "metadata": {},
   "outputs": [],
   "source": [
    "an_geoq_pre = gpd.read_file(gdb+'an_geoq/pre_2012/data.gdb')\n",
    "\n",
    "an_geoq_pre.to_file(gdb+'geodatabase.gpkg',\n",
    "                  driver='GPKG',\n",
    "                  layer='an_geoq_pre')"
   ]
  },
  {
   "cell_type": "code",
   "execution_count": 4,
   "metadata": {},
   "outputs": [],
   "source": [
    "an_geoq_pos = gpd.read_file(gdb+'an_geoq/pos_2012/data.gdb')\n",
    "\n",
    "an_geoq_pos.to_file(gdb+'geodatabase.gpkg',\n",
    "                  driver='GPKG',\n",
    "                  layer='an_geoq_pos')"
   ]
  },
  {
   "cell_type": "code",
   "execution_count": 4,
   "metadata": {},
   "outputs": [],
   "source": [
    "an_min_pos = gpd.read_file(gdb+'an_min/pos_2012/data.gdb')\n",
    "\n",
    "an_min_pos.to_file(gdb+'geodatabase.gpkg',\n",
    "                  driver='GPKG',\n",
    "                  layer='an_min_pos')"
   ]
  },
  {
   "cell_type": "code",
   "execution_count": 5,
   "metadata": {},
   "outputs": [],
   "source": [
    "an_min_pre = gpd.read_file(gdb+'an_min/pre_2012/data.gdb')\n",
    "\n",
    "an_min_pre.to_file(gdb+'geodatabase.gpkg',\n",
    "                  driver='GPKG',\n",
    "                  layer='an_min_pre')"
   ]
  },
  {
   "cell_type": "code",
   "execution_count": 28,
   "metadata": {},
   "outputs": [],
   "source": [
    "aflora = gpd.read_file(gdb+'aflora/Afloramentos_geológicos.shp')\n",
    "\n",
    "aflora.to_file(gdb+'geodatabase.gpkg',\n",
    "                  driver='GPKG',\n",
    "                  layer='aflora')"
   ]
  },
  {
   "cell_type": "code",
   "execution_count": 19,
   "metadata": {},
   "outputs": [],
   "source": [
    "am_petro = gpd.read_file(gdb+'am_petro/Amostras_petrográficas.shp')\n",
    "\n",
    "am_petro.to_file(gdb+'geodatabase.gpkg',\n",
    "                  driver='GPKG',\n",
    "                  layer='am_petro')"
   ]
  },
  {
   "cell_type": "code",
   "execution_count": 30,
   "metadata": {},
   "outputs": [],
   "source": [
    "proj_cprm = gpd.read_file(gdb+'projetos/aerogeof/Projetos_da_CPRM.shp')\n",
    "\n",
    "\n",
    "proj_cprm.to_file(gdb+'geodatabase.gpkg',\n",
    "                  driver='GPKG',\n",
    "                  layer='proj_cprm')"
   ]
  },
  {
   "cell_type": "code",
   "execution_count": 31,
   "metadata": {},
   "outputs": [],
   "source": [
    "proj_aerogeof = gpd.read_file(gdb+'projetos/aerogeof/Projetos_de_aerogeofísica.shp')\n",
    "\n",
    "proj_aerogeof.to_file(gdb+'geodatabase.gpkg',\n",
    "                  driver='GPKG',\n",
    "                  layer='proj_aerogeof')"
   ]
  }
 ],
 "metadata": {
  "kernelspec": {
   "name": "python3",
   "display_name": "Python 3.8.2 64-bit ('mappingBot': conda)"
  },
  "language_info": {
   "codemirror_mode": {
    "name": "ipython",
    "version": 3
   },
   "file_extension": ".py",
   "mimetype": "text/x-python",
   "name": "python",
   "nbconvert_exporter": "python",
   "pygments_lexer": "ipython3",
   "version": "3.8.2"
  },
  "interpreter": {
   "hash": "2bc076d9378ac5ac660ba4f6a46900d2ea3732140aaa213526ceb6851acbc3f5"
  }
 },
 "nbformat": 4,
 "nbformat_minor": 5
}