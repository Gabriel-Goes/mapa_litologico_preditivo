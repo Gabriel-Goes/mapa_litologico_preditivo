{
 "cells": [
  {
   "cell_type": "code",
   "execution_count": 1,
   "source": [
    "import geopandas as gpd\n",
    "import pandas as pd\n",
    "import verde as vd\n",
    "import numpy as np\n",
    "from shapely import geometry\n",
    "\n",
    "import pyproj\n",
    "\n",
    "\n",
    "import my_funcs as mf\n",
    "\n",
    "import matplotlib.pyplot as plt\n",
    "%matplotlib widget\n",
    "\n",
    "gdb='/home/ggrl/geodatabase/'"
   ],
   "outputs": [],
   "metadata": {}
  },
  {
   "cell_type": "code",
   "execution_count": null,
   "source": [
    "aerogeof_1039 = "
   ],
   "outputs": [],
   "metadata": {}
  },
  {
   "cell_type": "code",
   "execution_count": 4,
   "source": [
    "gama_SC23_Z_C_I = pd.read_csv(gdb+'geof/recortado/gama_SC23_Z_C_I')\n",
    "mag_SC23_Z_C_I = pd.read_csv(gdb+'geof/recortado/mag_SC23_Z_C_I')"
   ],
   "outputs": [],
   "metadata": {}
  },
  {
   "cell_type": "code",
   "execution_count": 3,
   "source": [
    "l_1kk = mf.litologia('l_1kk')\n",
    "SF23 = mf.mapa(l_1kk,'Rio de Janeiro')"
   ],
   "outputs": [],
   "metadata": {}
  },
  {
   "cell_type": "code",
   "execution_count": 8,
   "source": [
    "l_1kk.unary_union.bounds"
   ],
   "outputs": [],
   "metadata": {}
  },
  {
   "cell_type": "code",
   "execution_count": 2,
   "source": [
    "import my_funcs as mf\n",
    "\n",
    "mf.nomeador_grid(-47.50,-47.00,\n",
    "                 -22.50,-23.00,\n",
    "                 4)"
   ],
   "outputs": [
    {
     "output_type": "execute_result",
     "data": {
      "text/plain": [
       "'SF23-Y-A-V'"
      ]
     },
     "metadata": {},
     "execution_count": 2
    }
   ],
   "metadata": {}
  },
  {
   "cell_type": "code",
   "execution_count": 5,
   "source": [
    "print(SF23)\n",
    "SF23.plot()"
   ],
   "outputs": [
    {
     "output_type": "stream",
     "name": "stdout",
     "text": [
      "       ID_UNIDADE            SIGLA       HIERARQUIA  \\\n",
      "2781         1059               Jp         Formação   \n",
      "2782         1053             Ppdi         Formação   \n",
      "2783         1057             Ppdt         Formação   \n",
      "2784         1053             Ppdi         Formação   \n",
      "2785          270           J3K1sg            Grupo   \n",
      "...           ...              ...              ...   \n",
      "44791        2965  NP3a_gamma_2Smu  Suíte intrusiva   \n",
      "44792        1672             PRps         Complexo   \n",
      "44793         743  NP3a_gamma_3Ivs            Suíte   \n",
      "44794         840  NP3a_gamma_1Ibg            Corpo   \n",
      "44795         753    NP3_gamma_2bj            Suíte   \n",
      "\n",
      "                                    NOME AMBIENTE_T SUB_AMBIEN SIGLA_PAI  \\\n",
      "2781                  Formação Pirambóia       None       None      None   \n",
      "2782                      Formação Irati       None       None       Ppd   \n",
      "2783                   Formação Teresina       None       None       Ppd   \n",
      "2784                      Formação Irati       None       None       Ppd   \n",
      "2785                   Grupo Serra Geral       None       None    J3K1sb   \n",
      "...                                  ...        ...        ...       ...   \n",
      "44791       Suíte intrusiva Suíte Muriaé       None       None      None   \n",
      "44792            Complexo Paraíba do Sul       None       None      None   \n",
      "44793                    Suíte Varre-Sai       None       None      None   \n",
      "44794  Corpo Tonalito Bom Jesus do Galho       None       None      None   \n",
      "44795                   Suíte Bela Joana       None       None      None   \n",
      "\n",
      "                            NOME_PAI  \\\n",
      "2781                            None   \n",
      "2782          Ppd - Grupo Passa Dois   \n",
      "2783          Ppd - Grupo Passa Dois   \n",
      "2784          Ppd - Grupo Passa Dois   \n",
      "2785   J3K1sb - Supergrupo São Bento   \n",
      "...                              ...   \n",
      "44791                           None   \n",
      "44792                           None   \n",
      "44793                           None   \n",
      "44794                           None   \n",
      "44795                           None   \n",
      "\n",
      "                                                 LEGENDA       ESCALA  ...  \\\n",
      "2781   Arenitos finos a médios eólicos intercalados p...  1:1.000.000  ...   \n",
      "2782   Na base argilito e siltito cinza escuro, maciç...  1:1.000.000  ...   \n",
      "2783   Na base dominam siltitos cinza escuros  a clar...  1:1.000.000  ...   \n",
      "2784   Na base argilito e siltito cinza escuro, maciç...  1:1.000.000  ...   \n",
      "2785   Sequência vulcanossedimentar com espessura máx...  1:1.000.000  ...   \n",
      "...                                                  ...          ...  ...   \n",
      "44791           Granitóide foliado, peraluminoso, tipo S  1:1.000.000  ...   \n",
      "44792  Paragnaisse, biotita-gnaisse bandado com inter...  1:1.000.000  ...   \n",
      "44793                    Granitóide peraluminoso, tipo S  1:1.000.000  ...   \n",
      "44794                                           Tonalito  1:1.000.000  ...   \n",
      "44795  Granitoides (Charnockito, enderbito e granito ...  1:1.000.000  ...   \n",
      "\n",
      "               ERA_MIN            ERA_MAX  SISTEMA_MI  SISTEMA_MA  \\\n",
      "2781         Mesozóico          Mesozóico   Jurássico   Jurássico   \n",
      "2782        Paleozóico         Paleozóico    Permiano    Permiano   \n",
      "2783        Paleozóico         Paleozóico    Permiano    Permiano   \n",
      "2784        Paleozóico         Paleozóico    Permiano    Permiano   \n",
      "2785         Mesozóico          Mesozóico    Cretáceo   Jurássico   \n",
      "...                ...                ...         ...         ...   \n",
      "44791  Neoproterozóico    Neoproterozóico  Ediacarano  Ediacarano   \n",
      "44792  Neoproterozóico  Paleoproterozóico  Ediacarano   Sideriano   \n",
      "44793  Neoproterozóico    Neoproterozóico  Ediacarano  Ediacarano   \n",
      "44794  Neoproterozóico    Neoproterozóico  Ediacarano  Ediacarano   \n",
      "44795  Neoproterozóico    Neoproterozóico  Ediacarano  Ediacarano   \n",
      "\n",
      "         EPOCA_MIN      EPOCA_MAX               SIGLAS_HIS SHAPE_AREA  \\\n",
      "2781   Lonpingiano    Lonpingiano                    P3T1p   0.000095   \n",
      "2782   Cisuraliano    Cisuraliano                      P2i   0.000588   \n",
      "2783   Cisuraliano    Cisuraliano                      P3t   0.000673   \n",
      "2784   Cisuraliano    Cisuraliano                      P2i   0.000334   \n",
      "2785      Inferior    Lonpingiano  K1_delta_sg, K1_beta_sg   0.002668   \n",
      "...            ...            ...                      ...        ...   \n",
      "44791   Pridoliano     Pridoliano                     None   0.001228   \n",
      "44792   Pridoliano  Terreneuviano                     NPps   0.001411   \n",
      "44793   Pridoliano     Pridoliano                     None   0.002715   \n",
      "44794   Pridoliano     Pridoliano                     None   0.001126   \n",
      "44795   Pridoliano     Pridoliano          NP3a_gamma_2Cbj   0.001697   \n",
      "\n",
      "      SHAPE_LEN                                           geometry  \n",
      "2781   0.048202  POLYGON ((-47.98289 -22.02131, -47.98514 -22.0...  \n",
      "2782   0.134785  POLYGON ((-47.95087 -23.14356, -47.93660 -23.1...  \n",
      "2783   0.166364  POLYGON ((-47.93660 -23.15350, -47.95087 -23.1...  \n",
      "2784   0.201331  POLYGON ((-47.90913 -23.42180, -47.90664 -23.4...  \n",
      "2785   0.625683  MULTIPOLYGON (((-47.97148 -21.99846, -47.97091...  \n",
      "...         ...                                                ...  \n",
      "44791  0.162876  POLYGON ((-42.25656 -20.66120, -42.27223 -20.6...  \n",
      "44792  0.573547  POLYGON ((-42.20462 -20.03140, -42.20497 -20.0...  \n",
      "44793  0.369448  POLYGON ((-42.11887 -21.27914, -42.12174 -21.2...  \n",
      "44794  0.141501  POLYGON ((-42.08727 -20.00282, -42.09069 -20.0...  \n",
      "44795  0.259852  POLYGON ((-42.00000 -21.62233, -42.00029 -21.6...  \n",
      "\n",
      "[2809 rows x 27 columns]\n"
     ]
    },
    {
     "output_type": "display_data",
     "data": {
      "text/plain": [
       "Canvas(toolbar=Toolbar(toolitems=[('Home', 'Reset original view', 'home', 'home'), ('Back', 'Back to previous …"
      ],
      "application/vnd.jupyter.widget-view+json": {
       "version_major": 2,
       "version_minor": 0,
       "model_id": "c432a38eee374247b72af55f4c96d471"
      }
     },
     "metadata": {}
    },
    {
     "output_type": "execute_result",
     "data": {
      "text/plain": [
       "<AxesSubplot:>"
      ]
     },
     "metadata": {},
     "execution_count": 5
    }
   ],
   "metadata": {}
  },
  {
   "cell_type": "code",
   "execution_count": 3,
   "source": [
    "l_100k = mf.litologia('l_100k')\n",
    "lito_rparaim = mf.mapa(l_100k,'Rio Paraim')"
   ],
   "outputs": [],
   "metadata": {}
  },
  {
   "cell_type": "code",
   "execution_count": 4,
   "source": [
    "lito_rparaim.plot('SIGLA')"
   ],
   "outputs": [
    {
     "output_type": "display_data",
     "data": {
      "text/plain": [
       "Canvas(toolbar=Toolbar(toolitems=[('Home', 'Reset original view', 'home', 'home'), ('Back', 'Back to previous …"
      ],
      "application/vnd.jupyter.widget-view+json": {
       "version_major": 2,
       "version_minor": 0,
       "model_id": "a9ecba34be7e49888f5271133ad84c9d"
      }
     },
     "metadata": {}
    },
    {
     "output_type": "execute_result",
     "data": {
      "text/plain": [
       "<AxesSubplot:>"
      ]
     },
     "metadata": {},
     "execution_count": 4
    }
   ],
   "metadata": {}
  },
  {
   "cell_type": "code",
   "execution_count": 8,
   "source": [
    "lito_rparaim."
   ],
   "outputs": [
    {
     "output_type": "execute_result",
     "data": {
      "text/plain": [
       "      ID_UNIDADE    SIGLA    HIERARQUIA  \\\n",
       "2816        1006     N1dl  Não definida   \n",
       "2820        1006     N1dl  Não definida   \n",
       "2821        4873   NP1rp3       Unidade   \n",
       "2823        4876  NP1rp2q    Litofácies   \n",
       "2825        5773   PP2cmv       Unidade   \n",
       "\n",
       "                                                   NOME  \\\n",
       "2816        Coberturas detrito-lateríticas ferruginosas   \n",
       "2820        Coberturas detrito-lateríticas ferruginosas   \n",
       "2821                           Unidade Rio Preto, xisto   \n",
       "2823  Litofácies Rio Preto, metassedimentos quartzos...   \n",
       "2825          Unidade Cristalândia do Piauí, metamáfica   \n",
       "\n",
       "                 AMBIENTE_T                   SUB_AMBIEN  SIGLA_PAI  \\\n",
       "2816  Cobertura superficial  Cobertura clasto-lateritica       None   \n",
       "2820  Cobertura superficial  Cobertura clasto-lateritica       None   \n",
       "2821                   None                         None      NP1rp   \n",
       "2823                   None                         None  MP3NP1rp2   \n",
       "2825                   None                         None      A4PPc   \n",
       "\n",
       "                                               NOME_PAI  \\\n",
       "2816                                               None   \n",
       "2820                                               None   \n",
       "2821                            NP1rp - Grupo Rio Preto   \n",
       "2823  MP3NP1rp2 - Unidade Rio Preto, metassedimentos...   \n",
       "2825             A4PPc - Complexo Cristalândia do Piauí   \n",
       "\n",
       "                                                LEGENDA     ESCALA  ...  \\\n",
       "2816  Coberturas de solos residuais argilo-arenosos ...  1:100.000  ...   \n",
       "2820  Coberturas de solos residuais argilo-arenosos ...  1:100.000  ...   \n",
       "2821  Muscovita-xistos e quartzo-xistos predominante...  1:100.000  ...   \n",
       "2823  Quartzitos a muscovita-quartzitos puros a impu...  1:100.000  ...   \n",
       "2825  Corpos gabróicos a metagabros, compostos por a...  1:100.000  ...   \n",
       "\n",
       "                ERA_MIN            ERA_MAX SISTEMA_MI  SISTEMA_MA  \\\n",
       "2816          Cenozóico          Cenozóico    Neogeno     Neogeno   \n",
       "2820          Cenozóico          Cenozóico    Neogeno     Neogeno   \n",
       "2821    Neoproterozóico    Neoproterozóico    Toniano     Toniano   \n",
       "2823    Neoproterozóico    Neoproterozóico    Toniano     Toniano   \n",
       "2825  Paleoproterozóico  Paleoproterozóico   Riaciano    Riaciano   \n",
       "\n",
       "        EPOCA_MIN    EPOCA_MAX                       SIGLAS_HIS SHAPE_AREA  \\\n",
       "2816     Superior     Superior                             NQdl   0.000041   \n",
       "2820     Superior     Superior                             NQdl   0.001087   \n",
       "2821  Wenloquiano  Wenloquiano  MP3NP1rp3, M3N1rp1x, MP3NP1rp1x   0.000170   \n",
       "2823  Wenloquiano  Wenloquiano             M3N1rp2q, MP3NP1rp2q   0.000015   \n",
       "2825      Série 3      Série 3                             None   0.000323   \n",
       "\n",
       "     SHAPE_LEN                                           geometry  \n",
       "2816  0.037400  POLYGON ((-44.99838 -10.66202, -44.99844 -10.6...  \n",
       "2820  0.257896  POLYGON ((-44.95145 -10.82778, -44.95190 -10.8...  \n",
       "2821  0.094417  POLYGON ((-44.95292 -10.84431, -44.94215 -10.8...  \n",
       "2823  0.020423  POLYGON ((-44.91083 -10.99157, -44.91067 -10.9...  \n",
       "2825  0.077072  POLYGON ((-44.90069 -10.75193, -44.90107 -10.7...  \n",
       "\n",
       "[5 rows x 27 columns]"
      ],
      "text/html": [
       "<div>\n",
       "<style scoped>\n",
       "    .dataframe tbody tr th:only-of-type {\n",
       "        vertical-align: middle;\n",
       "    }\n",
       "\n",
       "    .dataframe tbody tr th {\n",
       "        vertical-align: top;\n",
       "    }\n",
       "\n",
       "    .dataframe thead th {\n",
       "        text-align: right;\n",
       "    }\n",
       "</style>\n",
       "<table border=\"1\" class=\"dataframe\">\n",
       "  <thead>\n",
       "    <tr style=\"text-align: right;\">\n",
       "      <th></th>\n",
       "      <th>ID_UNIDADE</th>\n",
       "      <th>SIGLA</th>\n",
       "      <th>HIERARQUIA</th>\n",
       "      <th>NOME</th>\n",
       "      <th>AMBIENTE_T</th>\n",
       "      <th>SUB_AMBIEN</th>\n",
       "      <th>SIGLA_PAI</th>\n",
       "      <th>NOME_PAI</th>\n",
       "      <th>LEGENDA</th>\n",
       "      <th>ESCALA</th>\n",
       "      <th>...</th>\n",
       "      <th>ERA_MIN</th>\n",
       "      <th>ERA_MAX</th>\n",
       "      <th>SISTEMA_MI</th>\n",
       "      <th>SISTEMA_MA</th>\n",
       "      <th>EPOCA_MIN</th>\n",
       "      <th>EPOCA_MAX</th>\n",
       "      <th>SIGLAS_HIS</th>\n",
       "      <th>SHAPE_AREA</th>\n",
       "      <th>SHAPE_LEN</th>\n",
       "      <th>geometry</th>\n",
       "    </tr>\n",
       "  </thead>\n",
       "  <tbody>\n",
       "    <tr>\n",
       "      <th>2816</th>\n",
       "      <td>1006</td>\n",
       "      <td>N1dl</td>\n",
       "      <td>Não definida</td>\n",
       "      <td>Coberturas detrito-lateríticas ferruginosas</td>\n",
       "      <td>Cobertura superficial</td>\n",
       "      <td>Cobertura clasto-lateritica</td>\n",
       "      <td>None</td>\n",
       "      <td>None</td>\n",
       "      <td>Coberturas de solos residuais argilo-arenosos ...</td>\n",
       "      <td>1:100.000</td>\n",
       "      <td>...</td>\n",
       "      <td>Cenozóico</td>\n",
       "      <td>Cenozóico</td>\n",
       "      <td>Neogeno</td>\n",
       "      <td>Neogeno</td>\n",
       "      <td>Superior</td>\n",
       "      <td>Superior</td>\n",
       "      <td>NQdl</td>\n",
       "      <td>0.000041</td>\n",
       "      <td>0.037400</td>\n",
       "      <td>POLYGON ((-44.99838 -10.66202, -44.99844 -10.6...</td>\n",
       "    </tr>\n",
       "    <tr>\n",
       "      <th>2820</th>\n",
       "      <td>1006</td>\n",
       "      <td>N1dl</td>\n",
       "      <td>Não definida</td>\n",
       "      <td>Coberturas detrito-lateríticas ferruginosas</td>\n",
       "      <td>Cobertura superficial</td>\n",
       "      <td>Cobertura clasto-lateritica</td>\n",
       "      <td>None</td>\n",
       "      <td>None</td>\n",
       "      <td>Coberturas de solos residuais argilo-arenosos ...</td>\n",
       "      <td>1:100.000</td>\n",
       "      <td>...</td>\n",
       "      <td>Cenozóico</td>\n",
       "      <td>Cenozóico</td>\n",
       "      <td>Neogeno</td>\n",
       "      <td>Neogeno</td>\n",
       "      <td>Superior</td>\n",
       "      <td>Superior</td>\n",
       "      <td>NQdl</td>\n",
       "      <td>0.001087</td>\n",
       "      <td>0.257896</td>\n",
       "      <td>POLYGON ((-44.95145 -10.82778, -44.95190 -10.8...</td>\n",
       "    </tr>\n",
       "    <tr>\n",
       "      <th>2821</th>\n",
       "      <td>4873</td>\n",
       "      <td>NP1rp3</td>\n",
       "      <td>Unidade</td>\n",
       "      <td>Unidade Rio Preto, xisto</td>\n",
       "      <td>None</td>\n",
       "      <td>None</td>\n",
       "      <td>NP1rp</td>\n",
       "      <td>NP1rp - Grupo Rio Preto</td>\n",
       "      <td>Muscovita-xistos e quartzo-xistos predominante...</td>\n",
       "      <td>1:100.000</td>\n",
       "      <td>...</td>\n",
       "      <td>Neoproterozóico</td>\n",
       "      <td>Neoproterozóico</td>\n",
       "      <td>Toniano</td>\n",
       "      <td>Toniano</td>\n",
       "      <td>Wenloquiano</td>\n",
       "      <td>Wenloquiano</td>\n",
       "      <td>MP3NP1rp3, M3N1rp1x, MP3NP1rp1x</td>\n",
       "      <td>0.000170</td>\n",
       "      <td>0.094417</td>\n",
       "      <td>POLYGON ((-44.95292 -10.84431, -44.94215 -10.8...</td>\n",
       "    </tr>\n",
       "    <tr>\n",
       "      <th>2823</th>\n",
       "      <td>4876</td>\n",
       "      <td>NP1rp2q</td>\n",
       "      <td>Litofácies</td>\n",
       "      <td>Litofácies Rio Preto, metassedimentos quartzos...</td>\n",
       "      <td>None</td>\n",
       "      <td>None</td>\n",
       "      <td>MP3NP1rp2</td>\n",
       "      <td>MP3NP1rp2 - Unidade Rio Preto, metassedimentos...</td>\n",
       "      <td>Quartzitos a muscovita-quartzitos puros a impu...</td>\n",
       "      <td>1:100.000</td>\n",
       "      <td>...</td>\n",
       "      <td>Neoproterozóico</td>\n",
       "      <td>Neoproterozóico</td>\n",
       "      <td>Toniano</td>\n",
       "      <td>Toniano</td>\n",
       "      <td>Wenloquiano</td>\n",
       "      <td>Wenloquiano</td>\n",
       "      <td>M3N1rp2q, MP3NP1rp2q</td>\n",
       "      <td>0.000015</td>\n",
       "      <td>0.020423</td>\n",
       "      <td>POLYGON ((-44.91083 -10.99157, -44.91067 -10.9...</td>\n",
       "    </tr>\n",
       "    <tr>\n",
       "      <th>2825</th>\n",
       "      <td>5773</td>\n",
       "      <td>PP2cmv</td>\n",
       "      <td>Unidade</td>\n",
       "      <td>Unidade Cristalândia do Piauí, metamáfica</td>\n",
       "      <td>None</td>\n",
       "      <td>None</td>\n",
       "      <td>A4PPc</td>\n",
       "      <td>A4PPc - Complexo Cristalândia do Piauí</td>\n",
       "      <td>Corpos gabróicos a metagabros, compostos por a...</td>\n",
       "      <td>1:100.000</td>\n",
       "      <td>...</td>\n",
       "      <td>Paleoproterozóico</td>\n",
       "      <td>Paleoproterozóico</td>\n",
       "      <td>Riaciano</td>\n",
       "      <td>Riaciano</td>\n",
       "      <td>Série 3</td>\n",
       "      <td>Série 3</td>\n",
       "      <td>None</td>\n",
       "      <td>0.000323</td>\n",
       "      <td>0.077072</td>\n",
       "      <td>POLYGON ((-44.90069 -10.75193, -44.90107 -10.7...</td>\n",
       "    </tr>\n",
       "  </tbody>\n",
       "</table>\n",
       "<p>5 rows × 27 columns</p>\n",
       "</div>"
      ]
     },
     "metadata": {},
     "execution_count": 8
    }
   ],
   "metadata": {}
  },
  {
   "cell_type": "code",
   "execution_count": 5,
   "source": [
    "lito_rparaim.SIGLA.unique()"
   ],
   "outputs": [
    {
     "output_type": "execute_result",
     "data": {
      "text/plain": [
       "array(['N1dl', 'NP1rp3', 'NP1rp2q', 'PP2cmv', 'PP2com', 'PP2cpg', 'Q2a',\n",
       "       'PP3jc', 'A4_gamma_v', 'NP2bm'], dtype=object)"
      ]
     },
     "metadata": {},
     "execution_count": 5
    }
   ],
   "metadata": {}
  },
  {
   "cell_type": "code",
   "execution_count": 1,
   "source": [
    "lito_rparaim.LITOTIPOS.unique()"
   ],
   "outputs": [
    {
     "output_type": "error",
     "ename": "NameError",
     "evalue": "name 'lito_rparaim' is not defined",
     "traceback": [
      "\u001b[0;31m---------------------------------------------------------------------------\u001b[0m",
      "\u001b[0;31mNameError\u001b[0m                                 Traceback (most recent call last)",
      "\u001b[0;32m<ipython-input-1-b93f0d39e80c>\u001b[0m in \u001b[0;36m<module>\u001b[0;34m\u001b[0m\n\u001b[0;32m----> 1\u001b[0;31m \u001b[0mlito_rparaim\u001b[0m\u001b[0;34m.\u001b[0m\u001b[0mLITOTIPOS\u001b[0m\u001b[0;34m.\u001b[0m\u001b[0munique\u001b[0m\u001b[0;34m(\u001b[0m\u001b[0;34m)\u001b[0m\u001b[0;34m\u001b[0m\u001b[0;34m\u001b[0m\u001b[0m\n\u001b[0m",
      "\u001b[0;31mNameError\u001b[0m: name 'lito_rparaim' is not defined"
     ]
    }
   ],
   "metadata": {}
  },
  {
   "cell_type": "code",
   "execution_count": 2,
   "source": [
    "gama_SC23_Z_C_I "
   ],
   "outputs": [
    {
     "output_type": "error",
     "ename": "NameError",
     "evalue": "name 'gama_SC23_Z_C_I' is not defined",
     "traceback": [
      "\u001b[0;31m---------------------------------------------------------------------------\u001b[0m",
      "\u001b[0;31mNameError\u001b[0m                                 Traceback (most recent call last)",
      "\u001b[0;32m<ipython-input-2-a06a3322fad5>\u001b[0m in \u001b[0;36m<module>\u001b[0;34m\u001b[0m\n\u001b[0;32m----> 1\u001b[0;31m \u001b[0mgama_SC23_Z_C_I\u001b[0m\u001b[0;34m\u001b[0m\u001b[0;34m\u001b[0m\u001b[0m\n\u001b[0m",
      "\u001b[0;31mNameError\u001b[0m: name 'gama_SC23_Z_C_I' is not defined"
     ]
    }
   ],
   "metadata": {}
  },
  {
   "cell_type": "code",
   "execution_count": 5,
   "source": [
    "mag_SC23_Z_C_I"
   ],
   "outputs": [
    {
     "output_type": "execute_result",
     "data": {
      "text/plain": [
       "                X           Y     MDT  MAGIGRF  LONGITUDE   LATITUDE\n",
       "0       500003.48  8786154.65  477.86   49.356 -44.999968 -10.980699\n",
       "1       500011.87  8786155.04  477.53   47.711 -44.999891 -10.980696\n",
       "2       500020.25  8786155.43  477.68   45.933 -44.999815 -10.980692\n",
       "3       500028.61  8786155.76  477.25   44.023 -44.999738 -10.980689\n",
       "4       500036.97  8786156.10  477.11   41.991 -44.999662 -10.980686\n",
       "...           ...         ...     ...      ...        ...        ...\n",
       "817218  554617.62  8839227.11  452.58   19.672 -44.500867 -10.500311\n",
       "817219  554617.55  8839235.09  453.00   18.881 -44.500868 -10.500239\n",
       "817220  554617.48  8839243.06  453.43   18.084 -44.500869 -10.500167\n",
       "817221  554617.41  8839251.04  453.85   17.284 -44.500869 -10.500095\n",
       "817222  554617.34  8839259.01  454.28   16.472 -44.500870 -10.500023\n",
       "\n",
       "[817223 rows x 6 columns]"
      ],
      "text/html": [
       "<div>\n",
       "<style scoped>\n",
       "    .dataframe tbody tr th:only-of-type {\n",
       "        vertical-align: middle;\n",
       "    }\n",
       "\n",
       "    .dataframe tbody tr th {\n",
       "        vertical-align: top;\n",
       "    }\n",
       "\n",
       "    .dataframe thead th {\n",
       "        text-align: right;\n",
       "    }\n",
       "</style>\n",
       "<table border=\"1\" class=\"dataframe\">\n",
       "  <thead>\n",
       "    <tr style=\"text-align: right;\">\n",
       "      <th></th>\n",
       "      <th>X</th>\n",
       "      <th>Y</th>\n",
       "      <th>MDT</th>\n",
       "      <th>MAGIGRF</th>\n",
       "      <th>LONGITUDE</th>\n",
       "      <th>LATITUDE</th>\n",
       "    </tr>\n",
       "  </thead>\n",
       "  <tbody>\n",
       "    <tr>\n",
       "      <th>0</th>\n",
       "      <td>500003.48</td>\n",
       "      <td>8786154.65</td>\n",
       "      <td>477.86</td>\n",
       "      <td>49.356</td>\n",
       "      <td>-44.999968</td>\n",
       "      <td>-10.980699</td>\n",
       "    </tr>\n",
       "    <tr>\n",
       "      <th>1</th>\n",
       "      <td>500011.87</td>\n",
       "      <td>8786155.04</td>\n",
       "      <td>477.53</td>\n",
       "      <td>47.711</td>\n",
       "      <td>-44.999891</td>\n",
       "      <td>-10.980696</td>\n",
       "    </tr>\n",
       "    <tr>\n",
       "      <th>2</th>\n",
       "      <td>500020.25</td>\n",
       "      <td>8786155.43</td>\n",
       "      <td>477.68</td>\n",
       "      <td>45.933</td>\n",
       "      <td>-44.999815</td>\n",
       "      <td>-10.980692</td>\n",
       "    </tr>\n",
       "    <tr>\n",
       "      <th>3</th>\n",
       "      <td>500028.61</td>\n",
       "      <td>8786155.76</td>\n",
       "      <td>477.25</td>\n",
       "      <td>44.023</td>\n",
       "      <td>-44.999738</td>\n",
       "      <td>-10.980689</td>\n",
       "    </tr>\n",
       "    <tr>\n",
       "      <th>4</th>\n",
       "      <td>500036.97</td>\n",
       "      <td>8786156.10</td>\n",
       "      <td>477.11</td>\n",
       "      <td>41.991</td>\n",
       "      <td>-44.999662</td>\n",
       "      <td>-10.980686</td>\n",
       "    </tr>\n",
       "    <tr>\n",
       "      <th>...</th>\n",
       "      <td>...</td>\n",
       "      <td>...</td>\n",
       "      <td>...</td>\n",
       "      <td>...</td>\n",
       "      <td>...</td>\n",
       "      <td>...</td>\n",
       "    </tr>\n",
       "    <tr>\n",
       "      <th>817218</th>\n",
       "      <td>554617.62</td>\n",
       "      <td>8839227.11</td>\n",
       "      <td>452.58</td>\n",
       "      <td>19.672</td>\n",
       "      <td>-44.500867</td>\n",
       "      <td>-10.500311</td>\n",
       "    </tr>\n",
       "    <tr>\n",
       "      <th>817219</th>\n",
       "      <td>554617.55</td>\n",
       "      <td>8839235.09</td>\n",
       "      <td>453.00</td>\n",
       "      <td>18.881</td>\n",
       "      <td>-44.500868</td>\n",
       "      <td>-10.500239</td>\n",
       "    </tr>\n",
       "    <tr>\n",
       "      <th>817220</th>\n",
       "      <td>554617.48</td>\n",
       "      <td>8839243.06</td>\n",
       "      <td>453.43</td>\n",
       "      <td>18.084</td>\n",
       "      <td>-44.500869</td>\n",
       "      <td>-10.500167</td>\n",
       "    </tr>\n",
       "    <tr>\n",
       "      <th>817221</th>\n",
       "      <td>554617.41</td>\n",
       "      <td>8839251.04</td>\n",
       "      <td>453.85</td>\n",
       "      <td>17.284</td>\n",
       "      <td>-44.500869</td>\n",
       "      <td>-10.500095</td>\n",
       "    </tr>\n",
       "    <tr>\n",
       "      <th>817222</th>\n",
       "      <td>554617.34</td>\n",
       "      <td>8839259.01</td>\n",
       "      <td>454.28</td>\n",
       "      <td>16.472</td>\n",
       "      <td>-44.500870</td>\n",
       "      <td>-10.500023</td>\n",
       "    </tr>\n",
       "  </tbody>\n",
       "</table>\n",
       "<p>817223 rows × 6 columns</p>\n",
       "</div>"
      ]
     },
     "metadata": {},
     "execution_count": 5
    }
   ],
   "metadata": {}
  },
  {
   "cell_type": "code",
   "execution_count": 6,
   "source": [
    "plt.figure(figsize=(8,8))\n",
    "plt.scatter(mag_SC23_Z_C_I.X,mag_SC23_Z_C_I.Y,\n",
    "            c=mag_SC23_Z_C_I.MAGIGRF,\n",
    "            cmap='hsv',\n",
    "            s=1)\n",
    "plt.axis('scaled')\n",
    "plt.colorbar()"
   ],
   "outputs": [
    {
     "output_type": "display_data",
     "data": {
      "text/plain": [
       "Canvas(toolbar=Toolbar(toolitems=[('Home', 'Reset original view', 'home', 'home'), ('Back', 'Back to previous …"
      ],
      "application/vnd.jupyter.widget-view+json": {
       "version_major": 2,
       "version_minor": 0,
       "model_id": "4cde45e1e43f42d3910cec108a2edd57"
      }
     },
     "metadata": {}
    },
    {
     "output_type": "execute_result",
     "data": {
      "text/plain": [
       "<matplotlib.colorbar.Colorbar at 0x7fc2a967b9d0>"
      ]
     },
     "metadata": {},
     "execution_count": 6
    }
   ],
   "metadata": {}
  },
  {
   "cell_type": "code",
   "execution_count": 12,
   "source": [
    "coordinates = (mag_SC23_Z_C_I.X.values, mag_SC23_Z_C_I.Y.values)\n",
    "\n",
    "\n",
    "chain = vd.Chain([\n",
    "        ('trend', vd.Trend(degree=1)),\n",
    "        ('reduce', vd.BlockReduce(np.median, spacing=500)),\n",
    "        ('spline', vd.Spline())\n",
    "    ])\n",
    "    \n",
    "chain.fit(coordinates, mag_SC23_Z_C_I.MAGIGRF)\n",
    "\n",
    "cv     = vd.BlockKFold(spacing=499,\n",
    "                       n_splits=1,\n",
    "                       shuffle=True)\n",
    "\n",
    "scores = vd.cross_val_score(chain,\n",
    "                            coordinates,\n",
    "                            mag_SC23_Z_C_I.MAGIGRF,\n",
    "                            cv=cv)\n",
    "\n",
    "\n",
    "grid_mag = chain.grid(spacing=100, data_names='MAGIGRF',pixel_register=True)\n",
    "grids_mag= vd.distance_mask(coordinates, maxdist=499, grid= grid_mag)"
   ],
   "outputs": [],
   "metadata": {}
  },
  {
   "cell_type": "code",
   "execution_count": 15,
   "source": [
    "plt.figure()\n",
    "grids_mag.MAGIGRF.plot(cmap='hsv',vmin=-400,vmax=400)\n",
    "plt.axis('scaled')"
   ],
   "outputs": [
    {
     "output_type": "display_data",
     "data": {
      "text/plain": [
       "Canvas(toolbar=Toolbar(toolitems=[('Home', 'Reset original view', 'home', 'home'), ('Back', 'Back to previous …"
      ],
      "application/vnd.jupyter.widget-view+json": {
       "version_major": 2,
       "version_minor": 0,
       "model_id": "e5c5affb06754fb298f2c0e9cf5be8a3"
      }
     },
     "metadata": {}
    },
    {
     "output_type": "execute_result",
     "data": {
      "text/plain": [
       "(500001.8, 554701.8100000002, 8783977.48, 8839304.829999998)"
      ]
     },
     "metadata": {},
     "execution_count": 15
    }
   ],
   "metadata": {}
  },
  {
   "cell_type": "code",
   "execution_count": 31,
   "source": [
    "chain_list = ['CTCOR', 'KPERC', 'MDT', 'eU', 'eth']\n",
    "\n",
    "grids = {'CTCOR':(),'KPERC':(), 'MDT':(), 'eU':(), 'eth':()}\n",
    "\n",
    "scores = {'CTCOR':(),'KPERC':(), 'MDT':(), 'eU':(), 'eth':()}\n",
    "\n",
    "\n",
    "coordinates = (gama_SC23_Z_C_I.X.values, gama_SC23_Z_C_I.Y.values)\n",
    "\n",
    "for i in chain_list:\n",
    "    print(i)\n",
    "    \n",
    "    chain = vd.Chain([\n",
    "        ('trend', vd.Trend(degree=1)),\n",
    "        ('reduce', vd.BlockReduce(np.median, spacing=500)),\n",
    "        ('spline', vd.Spline())\n",
    "    ])\n",
    "    \n",
    "    chain.fit(coordinates, gama_SC23_Z_C_I[i])\n",
    "    '''\n",
    "    cv     = vd.BlockKFold(spacing=1000,\n",
    "                  n_splits=1,\n",
    "                  shuffle=True)\n",
    "\n",
    "    scores[i] = vd.cross_val_score(chain,\n",
    "                             coordinates,\n",
    "                             geof_SF23_Y_A_VI_3_DEM[i],\n",
    "                             cv=cv)\n",
    "    '''\n",
    "    grid = chain.grid(spacing=100, data_names=[i],pixel_register=True)\n",
    "    grids[i] = vd.distance_mask(coordinates, maxdist=500, grid= grid)\n"
   ],
   "outputs": [
    {
     "output_type": "stream",
     "name": "stdout",
     "text": [
      "CTCOR\n",
      "KPERC\n",
      "MDT\n",
      "eU\n",
      "eth\n"
     ]
    }
   ],
   "metadata": {}
  },
  {
   "cell_type": "code",
   "execution_count": 37,
   "source": [
    "plt.figure(figsize=(9,9))\n",
    "grids['eU'].eU.plot(cmap='hsv',vmin=0)\n",
    "plt.axis('scaled')"
   ],
   "outputs": [
    {
     "output_type": "display_data",
     "data": {
      "text/plain": [
       "Canvas(toolbar=Toolbar(toolitems=[('Home', 'Reset original view', 'home', 'home'), ('Back', 'Back to previous …"
      ],
      "application/vnd.jupyter.widget-view+json": {
       "version_major": 2,
       "version_minor": 0,
       "model_id": "a5393350b1b041a28d681920a1670771"
      }
     },
     "metadata": {}
    },
    {
     "output_type": "execute_result",
     "data": {
      "text/plain": [
       "(500005.30000000005, 554693.8600000001, 8783985.229999999, 8839303.77)"
      ]
     },
     "metadata": {},
     "execution_count": 37
    }
   ],
   "metadata": {}
  },
  {
   "cell_type": "code",
   "execution_count": 169,
   "source": [
    "plt.figure(figsize=(9,9))\n",
    "grids['MAGR'].MAGR.plot(cmap='hsv')\n",
    "plt.axis('scaled')"
   ],
   "outputs": [
    {
     "output_type": "display_data",
     "data": {
      "text/plain": [
       "Canvas(toolbar=Toolbar(toolitems=[('Home', 'Reset original view', 'home', 'home'), ('Back', 'Back to previous …"
      ],
      "application/vnd.jupyter.widget-view+json": {
       "version_major": 2,
       "version_minor": 0,
       "model_id": "a3000312f0d748f082b45ba34b829c6e"
      }
     },
     "metadata": {}
    },
    {
     "output_type": "execute_result",
     "data": {
      "text/plain": [
       "(294395.0, 320223.0, 7482805.000000001, 7510694.999999999)"
      ]
     },
     "metadata": {},
     "execution_count": 169
    }
   ],
   "metadata": {}
  },
  {
   "cell_type": "code",
   "execution_count": 170,
   "source": [
    "plt.figure()\n",
    "plt.hist(scores['MDT'],bins='auto')"
   ],
   "outputs": [
    {
     "output_type": "display_data",
     "data": {
      "text/plain": [
       "Canvas(toolbar=Toolbar(toolitems=[('Home', 'Reset original view', 'home', 'home'), ('Back', 'Back to previous …"
      ],
      "application/vnd.jupyter.widget-view+json": {
       "version_major": 2,
       "version_minor": 0,
       "model_id": "5dc4c2cc89074f90abdc98bfed63bb55"
      }
     },
     "metadata": {}
    },
    {
     "output_type": "execute_result",
     "data": {
      "text/plain": [
       "(array([ 1.,  0.,  0.,  0.,  0.,  0.,  0.,  0.,  0.,  3.,  0.,  0.,  3.,\n",
       "         2.,  4.,  6., 12., 22., 23., 24.]),\n",
       " array([-0.63206263, -0.55239542, -0.47272822, -0.39306101, -0.31339381,\n",
       "        -0.23372661, -0.1540594 , -0.0743922 ,  0.005275  ,  0.08494221,\n",
       "         0.16460941,  0.24427661,  0.32394382,  0.40361102,  0.48327823,\n",
       "         0.56294543,  0.64261263,  0.72227984,  0.80194704,  0.88161424,\n",
       "         0.96128145]),\n",
       " <BarContainer object of 20 artists>)"
      ]
     },
     "metadata": {},
     "execution_count": 170
    }
   ],
   "metadata": {}
  },
  {
   "cell_type": "code",
   "execution_count": 119,
   "source": [
    "plt.figure()\n",
    "plt.hist(scores['MAGR'],bins='auto')"
   ],
   "outputs": [
    {
     "output_type": "display_data",
     "data": {
      "text/plain": [
       "Canvas(toolbar=Toolbar(toolitems=[('Home', 'Reset original view', 'home', 'home'), ('Back', 'Back to previous …"
      ],
      "application/vnd.jupyter.widget-view+json": {
       "version_major": 2,
       "version_minor": 0,
       "model_id": "af13a06cef604b60bff589943ea030d1"
      }
     },
     "metadata": {}
    },
    {
     "output_type": "execute_result",
     "data": {
      "text/plain": [
       "(array([ 1.,  0.,  1.,  5.,  4.,  2.,  3.,  6., 13., 14., 51.]),\n",
       " array([-1.49912766, -1.27312413, -1.0471206 , -0.82111707, -0.59511354,\n",
       "        -0.36911001, -0.14310648,  0.08289705,  0.30890058,  0.53490411,\n",
       "         0.76090764,  0.98691117]),\n",
       " <BarContainer object of 11 artists>)"
      ]
     },
     "metadata": {},
     "execution_count": 119
    }
   ],
   "metadata": {}
  },
  {
   "cell_type": "code",
   "execution_count": 120,
   "source": [
    "plt.figure(figsize=(9,9))\n",
    "grids['CTC'].CTC.plot(cmap='hsv')\n",
    "plt.axis('scaled')"
   ],
   "outputs": [
    {
     "output_type": "display_data",
     "data": {
      "text/plain": [
       "Canvas(toolbar=Toolbar(toolitems=[('Home', 'Reset original view', 'home', 'home'), ('Back', 'Back to previous …"
      ],
      "application/vnd.jupyter.widget-view+json": {
       "version_major": 2,
       "version_minor": 0,
       "model_id": "f9f9f1101bd0429588188f32c229fbb6"
      }
     },
     "metadata": {}
    },
    {
     "output_type": "execute_result",
     "data": {
      "text/plain": [
       "(294395.0, 320223.0, 7482805.000000001, 7510694.999999999)"
      ]
     },
     "metadata": {},
     "execution_count": 120
    }
   ],
   "metadata": {}
  },
  {
   "cell_type": "code",
   "execution_count": 108,
   "source": [
    "plt.figure()\n",
    "plt.hist(scores['CTC'],bins='auto')"
   ],
   "outputs": [
    {
     "output_type": "display_data",
     "data": {
      "text/plain": [
       "Canvas(toolbar=Toolbar(toolitems=[('Home', 'Reset original view', 'home', 'home'), ('Back', 'Back to previous …"
      ],
      "application/vnd.jupyter.widget-view+json": {
       "version_major": 2,
       "version_minor": 0,
       "model_id": "0e23848176754d0ea072403e33fbff95"
      }
     },
     "metadata": {}
    },
    {
     "output_type": "execute_result",
     "data": {
      "text/plain": [
       "(array([ 1.,  0.,  1.,  0.,  0.,  1.,  6.,  8.,  6., 13., 22., 22., 20.]),\n",
       " array([-2.03184542, -1.80324847, -1.57465151, -1.34605456, -1.11745761,\n",
       "        -0.88886065, -0.6602637 , -0.43166674, -0.20306979,  0.02552717,\n",
       "         0.25412412,  0.48272108,  0.71131803,  0.93991499]),\n",
       " <BarContainer object of 13 artists>)"
      ]
     },
     "metadata": {},
     "execution_count": 108
    }
   ],
   "metadata": {}
  },
  {
   "cell_type": "code",
   "execution_count": 161,
   "source": [
    "plt.figure(figsize=(9,9))\n",
    "grids['UC'].UC.plot(cmap='hsv')\n",
    "plt.axis('scaled')"
   ],
   "outputs": [
    {
     "output_type": "display_data",
     "data": {
      "text/plain": [
       "Canvas(toolbar=Toolbar(toolitems=[('Home', 'Reset original view', 'home', 'home'), ('Back', 'Back to previous …"
      ],
      "application/vnd.jupyter.widget-view+json": {
       "version_major": 2,
       "version_minor": 0,
       "model_id": "b17349012ab74b4ea1046363567ca4c0"
      }
     },
     "metadata": {}
    },
    {
     "output_type": "execute_result",
     "data": {
      "text/plain": [
       "(294395.0, 320223.0, 7482805.000000001, 7510694.999999999)"
      ]
     },
     "metadata": {},
     "execution_count": 161
    }
   ],
   "metadata": {}
  },
  {
   "cell_type": "code",
   "execution_count": 162,
   "source": [
    "plt.figure()\n",
    "plt.hist(scores['UC'],bins='auto')"
   ],
   "outputs": [
    {
     "output_type": "display_data",
     "data": {
      "text/plain": [
       "Canvas(toolbar=Toolbar(toolitems=[('Home', 'Reset original view', 'home', 'home'), ('Back', 'Back to previous …"
      ],
      "application/vnd.jupyter.widget-view+json": {
       "version_major": 2,
       "version_minor": 0,
       "model_id": "97658b9a033b4111a35dca62409da589"
      }
     },
     "metadata": {}
    },
    {
     "output_type": "execute_result",
     "data": {
      "text/plain": [
       "(array([ 1.,  1.,  5., 10., 13., 24., 16., 17.,  8.,  4.,  1.]),\n",
       " array([-0.47906598, -0.39240964, -0.3057533 , -0.21909697, -0.13244063,\n",
       "        -0.04578429,  0.04087205,  0.12752839,  0.21418473,  0.30084106,\n",
       "         0.3874974 ,  0.47415374]),\n",
       " <BarContainer object of 11 artists>)"
      ]
     },
     "metadata": {},
     "execution_count": 162
    }
   ],
   "metadata": {}
  },
  {
   "cell_type": "code",
   "execution_count": 128,
   "source": [
    "plt.figure(figsize=(9,9))\n",
    "grids['THC'].THC.plot(cmap='hsv')\n",
    "plt.axis('scaled')"
   ],
   "outputs": [
    {
     "output_type": "display_data",
     "data": {
      "text/plain": [
       "Canvas(toolbar=Toolbar(toolitems=[('Home', 'Reset original view', 'home', 'home'), ('Back', 'Back to previous …"
      ],
      "application/vnd.jupyter.widget-view+json": {
       "version_major": 2,
       "version_minor": 0,
       "model_id": "751b171203c6459b9c63f9ada78b9448"
      }
     },
     "metadata": {}
    },
    {
     "output_type": "execute_result",
     "data": {
      "text/plain": [
       "(294395.0, 320223.0, 7482805.000000001, 7510694.999999999)"
      ]
     },
     "metadata": {},
     "execution_count": 128
    }
   ],
   "metadata": {}
  },
  {
   "cell_type": "code",
   "execution_count": 101,
   "source": [
    "plt.figure()\n",
    "plt.hist(scores['THC'])"
   ],
   "outputs": [
    {
     "output_type": "display_data",
     "data": {
      "text/plain": [
       "Canvas(toolbar=Toolbar(toolitems=[('Home', 'Reset original view', 'home', 'home'), ('Back', 'Back to previous …"
      ],
      "application/vnd.jupyter.widget-view+json": {
       "version_major": 2,
       "version_minor": 0,
       "model_id": "1eb30d0117184abca23b84ad6b9ab774"
      }
     },
     "metadata": {}
    },
    {
     "output_type": "execute_result",
     "data": {
      "text/plain": [
       "(array([ 2.,  0.,  0.,  0.,  0.,  0., 15., 27., 35., 21.]),\n",
       " array([-2.2078012 , -1.89833042, -1.58885963, -1.27938885, -0.96991806,\n",
       "        -0.66044728, -0.35097649, -0.04150571,  0.26796507,  0.57743586,\n",
       "         0.88690664]),\n",
       " <BarContainer object of 10 artists>)"
      ]
     },
     "metadata": {},
     "execution_count": 101
    }
   ],
   "metadata": {}
  },
  {
   "cell_type": "code",
   "execution_count": 130,
   "source": [
    "plt.figure(figsize=(9,9))\n",
    "grids['KC'].KC.plot(cmap='hsv',vmin=0)\n",
    "plt.axis('scaled')"
   ],
   "outputs": [
    {
     "output_type": "display_data",
     "data": {
      "text/plain": [
       "Canvas(toolbar=Toolbar(toolitems=[('Home', 'Reset original view', 'home', 'home'), ('Back', 'Back to previous …"
      ],
      "application/vnd.jupyter.widget-view+json": {
       "version_major": 2,
       "version_minor": 0,
       "model_id": "8c71afc29ebc4fbd9ed2b7dc82ce03a2"
      }
     },
     "metadata": {}
    },
    {
     "output_type": "execute_result",
     "data": {
      "text/plain": [
       "(294395.0, 320223.0, 7482805.000000001, 7510694.999999999)"
      ]
     },
     "metadata": {},
     "execution_count": 130
    }
   ],
   "metadata": {}
  },
  {
   "cell_type": "code",
   "execution_count": 107,
   "source": [
    "plt.figure()\n",
    "plt.hist(scores['KC'])"
   ],
   "outputs": [
    {
     "output_type": "display_data",
     "data": {
      "text/plain": [
       "Canvas(toolbar=Toolbar(toolitems=[('Home', 'Reset original view', 'home', 'home'), ('Back', 'Back to previous …"
      ],
      "application/vnd.jupyter.widget-view+json": {
       "version_major": 2,
       "version_minor": 0,
       "model_id": "33b8f057be0b49108d5b345342e15077"
      }
     },
     "metadata": {}
    },
    {
     "output_type": "execute_result",
     "data": {
      "text/plain": [
       "(array([ 3.,  1.,  4.,  1., 10.,  9., 16., 19., 25., 12.]),\n",
       " array([-0.50901309, -0.36927396, -0.22953483, -0.08979571,  0.04994342,\n",
       "         0.18968254,  0.32942167,  0.46916079,  0.60889992,  0.74863905,\n",
       "         0.88837817]),\n",
       " <BarContainer object of 10 artists>)"
      ]
     },
     "metadata": {},
     "execution_count": 107
    }
   ],
   "metadata": {}
  },
  {
   "cell_type": "code",
   "execution_count": 96,
   "source": [
    "chain = vd.Chain([\n",
    "        ('trend', vd.Trend(degree=3)),\n",
    "        ('reduce', vd.BlockReduce(np.median, spacing=1000)),\n",
    "        ('spline', vd.Spline())\n",
    "    ])\n",
    "    \n",
    "chain.fit(coordinates, geof_SF23_Y_A_VI_3_DEM.UC)\n",
    "\n",
    "cv     = vd.BlockKFold(spacing=1000,\n",
    "                  n_splits=100,\n",
    "                  shuffle=True)\n",
    "\n",
    "scores_uc = vd.cross_val_score(chain,\n",
    "                            coordinates,\n",
    "                            geof_SF23_Y_A_VI_3_DEM.UC,\n",
    "                            cv=cv)\n",
    "    \n",
    "grid_1 = chain.grid(spacing=200, data_names='UC',pixel_register=True)\n",
    "grid_uc = vd.distance_mask(coordinates, maxdist=1000, grid= grid_1)"
   ],
   "outputs": [],
   "metadata": {}
  },
  {
   "cell_type": "code",
   "execution_count": 163,
   "source": [
    "plt.figure()\n",
    "grid_uc.UC.plot(cmap='hsv')\n",
    "plt.axis('scaled')"
   ],
   "outputs": [
    {
     "output_type": "display_data",
     "data": {
      "text/plain": [
       "Canvas(toolbar=Toolbar(toolitems=[('Home', 'Reset original view', 'home', 'home'), ('Back', 'Back to previous …"
      ],
      "application/vnd.jupyter.widget-view+json": {
       "version_major": 2,
       "version_minor": 0,
       "model_id": "7d2d52c1580549e4b4e85e0e4e580eb3"
      }
     },
     "metadata": {}
    },
    {
     "output_type": "execute_result",
     "data": {
      "text/plain": [
       "(294395.0, 320223.0, 7482805.000000001, 7510694.999999999)"
      ]
     },
     "metadata": {},
     "execution_count": 163
    }
   ],
   "metadata": {}
  },
  {
   "cell_type": "code",
   "execution_count": 164,
   "source": [
    "plt.figure()\n",
    "plt.hist(scores_uc,bins='auto')"
   ],
   "outputs": [
    {
     "output_type": "display_data",
     "data": {
      "text/plain": [
       "Canvas(toolbar=Toolbar(toolitems=[('Home', 'Reset original view', 'home', 'home'), ('Back', 'Back to previous …"
      ],
      "application/vnd.jupyter.widget-view+json": {
       "version_major": 2,
       "version_minor": 0,
       "model_id": "145e24c5e7e94936acf1cdf0ff9e006f"
      }
     },
     "metadata": {}
    },
    {
     "output_type": "execute_result",
     "data": {
      "text/plain": [
       "(array([ 4.,  5.,  5., 13., 20., 22., 16.,  7.,  5.,  3.]),\n",
       " array([-0.42350206, -0.33660169, -0.24970132, -0.16280095, -0.07590058,\n",
       "         0.01099979,  0.09790016,  0.18480053,  0.2717009 ,  0.35860127,\n",
       "         0.44550164]),\n",
       " <BarContainer object of 10 artists>)"
      ]
     },
     "metadata": {},
     "execution_count": 164
    }
   ],
   "metadata": {}
  },
  {
   "cell_type": "code",
   "execution_count": 33,
   "source": [
    "data = list()\n",
    "for i in chain_list:\n",
    "    df = grids[i].to_dataframe()\n",
    "    data.append(df[i])"
   ],
   "outputs": [],
   "metadata": {}
  },
  {
   "cell_type": "code",
   "execution_count": 34,
   "source": [
    "geof = pd.concat(data,axis=1, join='inner')\n",
    "\n",
    "geof.reset_index(inplace=True)\n",
    "geof"
   ],
   "outputs": [
    {
     "output_type": "execute_result",
     "data": {
      "text/plain": [
       "              easting      northing        CTCOR     KPERC         MDT  \\\n",
       "0       500055.289543  8.784035e+06  1708.875338  1.685567  508.936948   \n",
       "1       500055.289543  8.784135e+06  1712.006845  1.627513  508.831103   \n",
       "2       500055.289543  8.784235e+06  1693.736960  1.561761  509.035380   \n",
       "3       500055.289543  8.784335e+06  1639.938707  1.493374  510.118943   \n",
       "4       500055.289543  8.784435e+06  1561.172489  1.426346  511.533855   \n",
       "...               ...           ...          ...       ...         ...   \n",
       "302486  554643.870457  8.838854e+06  1138.891026  0.760344  471.539519   \n",
       "302487  554643.870457  8.838954e+06  1114.599345  0.783834  466.898206   \n",
       "302488  554643.870457  8.839054e+06  1088.677543  0.806869  462.777227   \n",
       "302489  554643.870457  8.839154e+06  1059.884453  0.828355  459.411416   \n",
       "302490  554643.870457  8.839254e+06  1034.680781  0.847966  456.562335   \n",
       "\n",
       "              eU        eth  \n",
       "0       1.907549  17.543268  \n",
       "1       1.922783  17.808410  \n",
       "2       1.935492  17.728627  \n",
       "3       1.950659  17.013406  \n",
       "4       1.962516  15.848140  \n",
       "...          ...        ...  \n",
       "302486  1.726946  12.759650  \n",
       "302487  1.429977  12.531083  \n",
       "302488  1.143662  12.318743  \n",
       "302489  0.881483  12.125568  \n",
       "302490  0.646376  11.994416  \n",
       "\n",
       "[302491 rows x 7 columns]"
      ],
      "text/html": [
       "<div>\n",
       "<style scoped>\n",
       "    .dataframe tbody tr th:only-of-type {\n",
       "        vertical-align: middle;\n",
       "    }\n",
       "\n",
       "    .dataframe tbody tr th {\n",
       "        vertical-align: top;\n",
       "    }\n",
       "\n",
       "    .dataframe thead th {\n",
       "        text-align: right;\n",
       "    }\n",
       "</style>\n",
       "<table border=\"1\" class=\"dataframe\">\n",
       "  <thead>\n",
       "    <tr style=\"text-align: right;\">\n",
       "      <th></th>\n",
       "      <th>easting</th>\n",
       "      <th>northing</th>\n",
       "      <th>CTCOR</th>\n",
       "      <th>KPERC</th>\n",
       "      <th>MDT</th>\n",
       "      <th>eU</th>\n",
       "      <th>eth</th>\n",
       "    </tr>\n",
       "  </thead>\n",
       "  <tbody>\n",
       "    <tr>\n",
       "      <th>0</th>\n",
       "      <td>500055.289543</td>\n",
       "      <td>8.784035e+06</td>\n",
       "      <td>1708.875338</td>\n",
       "      <td>1.685567</td>\n",
       "      <td>508.936948</td>\n",
       "      <td>1.907549</td>\n",
       "      <td>17.543268</td>\n",
       "    </tr>\n",
       "    <tr>\n",
       "      <th>1</th>\n",
       "      <td>500055.289543</td>\n",
       "      <td>8.784135e+06</td>\n",
       "      <td>1712.006845</td>\n",
       "      <td>1.627513</td>\n",
       "      <td>508.831103</td>\n",
       "      <td>1.922783</td>\n",
       "      <td>17.808410</td>\n",
       "    </tr>\n",
       "    <tr>\n",
       "      <th>2</th>\n",
       "      <td>500055.289543</td>\n",
       "      <td>8.784235e+06</td>\n",
       "      <td>1693.736960</td>\n",
       "      <td>1.561761</td>\n",
       "      <td>509.035380</td>\n",
       "      <td>1.935492</td>\n",
       "      <td>17.728627</td>\n",
       "    </tr>\n",
       "    <tr>\n",
       "      <th>3</th>\n",
       "      <td>500055.289543</td>\n",
       "      <td>8.784335e+06</td>\n",
       "      <td>1639.938707</td>\n",
       "      <td>1.493374</td>\n",
       "      <td>510.118943</td>\n",
       "      <td>1.950659</td>\n",
       "      <td>17.013406</td>\n",
       "    </tr>\n",
       "    <tr>\n",
       "      <th>4</th>\n",
       "      <td>500055.289543</td>\n",
       "      <td>8.784435e+06</td>\n",
       "      <td>1561.172489</td>\n",
       "      <td>1.426346</td>\n",
       "      <td>511.533855</td>\n",
       "      <td>1.962516</td>\n",
       "      <td>15.848140</td>\n",
       "    </tr>\n",
       "    <tr>\n",
       "      <th>...</th>\n",
       "      <td>...</td>\n",
       "      <td>...</td>\n",
       "      <td>...</td>\n",
       "      <td>...</td>\n",
       "      <td>...</td>\n",
       "      <td>...</td>\n",
       "      <td>...</td>\n",
       "    </tr>\n",
       "    <tr>\n",
       "      <th>302486</th>\n",
       "      <td>554643.870457</td>\n",
       "      <td>8.838854e+06</td>\n",
       "      <td>1138.891026</td>\n",
       "      <td>0.760344</td>\n",
       "      <td>471.539519</td>\n",
       "      <td>1.726946</td>\n",
       "      <td>12.759650</td>\n",
       "    </tr>\n",
       "    <tr>\n",
       "      <th>302487</th>\n",
       "      <td>554643.870457</td>\n",
       "      <td>8.838954e+06</td>\n",
       "      <td>1114.599345</td>\n",
       "      <td>0.783834</td>\n",
       "      <td>466.898206</td>\n",
       "      <td>1.429977</td>\n",
       "      <td>12.531083</td>\n",
       "    </tr>\n",
       "    <tr>\n",
       "      <th>302488</th>\n",
       "      <td>554643.870457</td>\n",
       "      <td>8.839054e+06</td>\n",
       "      <td>1088.677543</td>\n",
       "      <td>0.806869</td>\n",
       "      <td>462.777227</td>\n",
       "      <td>1.143662</td>\n",
       "      <td>12.318743</td>\n",
       "    </tr>\n",
       "    <tr>\n",
       "      <th>302489</th>\n",
       "      <td>554643.870457</td>\n",
       "      <td>8.839154e+06</td>\n",
       "      <td>1059.884453</td>\n",
       "      <td>0.828355</td>\n",
       "      <td>459.411416</td>\n",
       "      <td>0.881483</td>\n",
       "      <td>12.125568</td>\n",
       "    </tr>\n",
       "    <tr>\n",
       "      <th>302490</th>\n",
       "      <td>554643.870457</td>\n",
       "      <td>8.839254e+06</td>\n",
       "      <td>1034.680781</td>\n",
       "      <td>0.847966</td>\n",
       "      <td>456.562335</td>\n",
       "      <td>0.646376</td>\n",
       "      <td>11.994416</td>\n",
       "    </tr>\n",
       "  </tbody>\n",
       "</table>\n",
       "<p>302491 rows × 7 columns</p>\n",
       "</div>"
      ]
     },
     "metadata": {},
     "execution_count": 34
    }
   ],
   "metadata": {}
  },
  {
   "cell_type": "code",
   "execution_count": 40,
   "source": [
    "geof['geometry'] = [geometry.Point(x,y) for x, y in zip(geof['easting'], geof['northing'])]"
   ],
   "outputs": [],
   "metadata": {}
  },
  {
   "cell_type": "code",
   "execution_count": 41,
   "source": [
    "gdf = gpd.GeoDataFrame(geof,crs=32723)\n",
    "gdf = gdf.set_crs(32723, allow_override=True)\n",
    "\n",
    "gdf"
   ],
   "outputs": [
    {
     "output_type": "execute_result",
     "data": {
      "text/plain": [
       "              easting      northing        CTCOR     KPERC         MDT  \\\n",
       "0       500055.289543  8.784035e+06  1708.875338  1.685567  508.936948   \n",
       "1       500055.289543  8.784135e+06  1712.006845  1.627513  508.831103   \n",
       "2       500055.289543  8.784235e+06  1693.736960  1.561761  509.035380   \n",
       "3       500055.289543  8.784335e+06  1639.938707  1.493374  510.118943   \n",
       "4       500055.289543  8.784435e+06  1561.172489  1.426346  511.533855   \n",
       "...               ...           ...          ...       ...         ...   \n",
       "302486  554643.870457  8.838854e+06  1138.891026  0.760344  471.539519   \n",
       "302487  554643.870457  8.838954e+06  1114.599345  0.783834  466.898206   \n",
       "302488  554643.870457  8.839054e+06  1088.677543  0.806869  462.777227   \n",
       "302489  554643.870457  8.839154e+06  1059.884453  0.828355  459.411416   \n",
       "302490  554643.870457  8.839254e+06  1034.680781  0.847966  456.562335   \n",
       "\n",
       "              eU        eth                        geometry    MAGIGRF  \n",
       "0       1.907549  17.543268  POINT (500055.290 8784035.247)  50.464271  \n",
       "1       1.922783  17.808410  POINT (500055.290 8784135.280)  50.678373  \n",
       "2       1.935492  17.728627  POINT (500055.290 8784235.314)  50.935766  \n",
       "3       1.950659  17.013406  POINT (500055.290 8784335.347)  51.153968  \n",
       "4       1.962516  15.848140  POINT (500055.290 8784435.381)  51.291826  \n",
       "...          ...        ...                             ...        ...  \n",
       "302486  1.726946  12.759650  POINT (554643.870 8838853.619)  37.771953  \n",
       "302487  1.429977  12.531083  POINT (554643.870 8838953.653)  30.463146  \n",
       "302488  1.143662  12.318743  POINT (554643.870 8839053.686)  24.237343  \n",
       "302489  0.881483  12.125568  POINT (554643.870 8839153.720)  20.059724  \n",
       "302490  0.646376  11.994416  POINT (554643.870 8839253.753)  16.984011  \n",
       "\n",
       "[302491 rows x 9 columns]"
      ],
      "text/html": [
       "<div>\n",
       "<style scoped>\n",
       "    .dataframe tbody tr th:only-of-type {\n",
       "        vertical-align: middle;\n",
       "    }\n",
       "\n",
       "    .dataframe tbody tr th {\n",
       "        vertical-align: top;\n",
       "    }\n",
       "\n",
       "    .dataframe thead th {\n",
       "        text-align: right;\n",
       "    }\n",
       "</style>\n",
       "<table border=\"1\" class=\"dataframe\">\n",
       "  <thead>\n",
       "    <tr style=\"text-align: right;\">\n",
       "      <th></th>\n",
       "      <th>easting</th>\n",
       "      <th>northing</th>\n",
       "      <th>CTCOR</th>\n",
       "      <th>KPERC</th>\n",
       "      <th>MDT</th>\n",
       "      <th>eU</th>\n",
       "      <th>eth</th>\n",
       "      <th>geometry</th>\n",
       "      <th>MAGIGRF</th>\n",
       "    </tr>\n",
       "  </thead>\n",
       "  <tbody>\n",
       "    <tr>\n",
       "      <th>0</th>\n",
       "      <td>500055.289543</td>\n",
       "      <td>8.784035e+06</td>\n",
       "      <td>1708.875338</td>\n",
       "      <td>1.685567</td>\n",
       "      <td>508.936948</td>\n",
       "      <td>1.907549</td>\n",
       "      <td>17.543268</td>\n",
       "      <td>POINT (500055.290 8784035.247)</td>\n",
       "      <td>50.464271</td>\n",
       "    </tr>\n",
       "    <tr>\n",
       "      <th>1</th>\n",
       "      <td>500055.289543</td>\n",
       "      <td>8.784135e+06</td>\n",
       "      <td>1712.006845</td>\n",
       "      <td>1.627513</td>\n",
       "      <td>508.831103</td>\n",
       "      <td>1.922783</td>\n",
       "      <td>17.808410</td>\n",
       "      <td>POINT (500055.290 8784135.280)</td>\n",
       "      <td>50.678373</td>\n",
       "    </tr>\n",
       "    <tr>\n",
       "      <th>2</th>\n",
       "      <td>500055.289543</td>\n",
       "      <td>8.784235e+06</td>\n",
       "      <td>1693.736960</td>\n",
       "      <td>1.561761</td>\n",
       "      <td>509.035380</td>\n",
       "      <td>1.935492</td>\n",
       "      <td>17.728627</td>\n",
       "      <td>POINT (500055.290 8784235.314)</td>\n",
       "      <td>50.935766</td>\n",
       "    </tr>\n",
       "    <tr>\n",
       "      <th>3</th>\n",
       "      <td>500055.289543</td>\n",
       "      <td>8.784335e+06</td>\n",
       "      <td>1639.938707</td>\n",
       "      <td>1.493374</td>\n",
       "      <td>510.118943</td>\n",
       "      <td>1.950659</td>\n",
       "      <td>17.013406</td>\n",
       "      <td>POINT (500055.290 8784335.347)</td>\n",
       "      <td>51.153968</td>\n",
       "    </tr>\n",
       "    <tr>\n",
       "      <th>4</th>\n",
       "      <td>500055.289543</td>\n",
       "      <td>8.784435e+06</td>\n",
       "      <td>1561.172489</td>\n",
       "      <td>1.426346</td>\n",
       "      <td>511.533855</td>\n",
       "      <td>1.962516</td>\n",
       "      <td>15.848140</td>\n",
       "      <td>POINT (500055.290 8784435.381)</td>\n",
       "      <td>51.291826</td>\n",
       "    </tr>\n",
       "    <tr>\n",
       "      <th>...</th>\n",
       "      <td>...</td>\n",
       "      <td>...</td>\n",
       "      <td>...</td>\n",
       "      <td>...</td>\n",
       "      <td>...</td>\n",
       "      <td>...</td>\n",
       "      <td>...</td>\n",
       "      <td>...</td>\n",
       "      <td>...</td>\n",
       "    </tr>\n",
       "    <tr>\n",
       "      <th>302486</th>\n",
       "      <td>554643.870457</td>\n",
       "      <td>8.838854e+06</td>\n",
       "      <td>1138.891026</td>\n",
       "      <td>0.760344</td>\n",
       "      <td>471.539519</td>\n",
       "      <td>1.726946</td>\n",
       "      <td>12.759650</td>\n",
       "      <td>POINT (554643.870 8838853.619)</td>\n",
       "      <td>37.771953</td>\n",
       "    </tr>\n",
       "    <tr>\n",
       "      <th>302487</th>\n",
       "      <td>554643.870457</td>\n",
       "      <td>8.838954e+06</td>\n",
       "      <td>1114.599345</td>\n",
       "      <td>0.783834</td>\n",
       "      <td>466.898206</td>\n",
       "      <td>1.429977</td>\n",
       "      <td>12.531083</td>\n",
       "      <td>POINT (554643.870 8838953.653)</td>\n",
       "      <td>30.463146</td>\n",
       "    </tr>\n",
       "    <tr>\n",
       "      <th>302488</th>\n",
       "      <td>554643.870457</td>\n",
       "      <td>8.839054e+06</td>\n",
       "      <td>1088.677543</td>\n",
       "      <td>0.806869</td>\n",
       "      <td>462.777227</td>\n",
       "      <td>1.143662</td>\n",
       "      <td>12.318743</td>\n",
       "      <td>POINT (554643.870 8839053.686)</td>\n",
       "      <td>24.237343</td>\n",
       "    </tr>\n",
       "    <tr>\n",
       "      <th>302489</th>\n",
       "      <td>554643.870457</td>\n",
       "      <td>8.839154e+06</td>\n",
       "      <td>1059.884453</td>\n",
       "      <td>0.828355</td>\n",
       "      <td>459.411416</td>\n",
       "      <td>0.881483</td>\n",
       "      <td>12.125568</td>\n",
       "      <td>POINT (554643.870 8839153.720)</td>\n",
       "      <td>20.059724</td>\n",
       "    </tr>\n",
       "    <tr>\n",
       "      <th>302490</th>\n",
       "      <td>554643.870457</td>\n",
       "      <td>8.839254e+06</td>\n",
       "      <td>1034.680781</td>\n",
       "      <td>0.847966</td>\n",
       "      <td>456.562335</td>\n",
       "      <td>0.646376</td>\n",
       "      <td>11.994416</td>\n",
       "      <td>POINT (554643.870 8839253.753)</td>\n",
       "      <td>16.984011</td>\n",
       "    </tr>\n",
       "  </tbody>\n",
       "</table>\n",
       "<p>302491 rows × 9 columns</p>\n",
       "</div>"
      ]
     },
     "metadata": {},
     "execution_count": 41
    }
   ],
   "metadata": {}
  },
  {
   "cell_type": "code",
   "execution_count": 26,
   "source": [
    "df_mag = grids_mag.to_dataframe()"
   ],
   "outputs": [],
   "metadata": {}
  },
  {
   "cell_type": "code",
   "execution_count": 29,
   "source": [
    "df_mag.reset_index(inplace=True)"
   ],
   "outputs": [],
   "metadata": {}
  },
  {
   "cell_type": "code",
   "execution_count": 30,
   "source": [
    "df_mag"
   ],
   "outputs": [
    {
     "output_type": "execute_result",
     "data": {
      "text/plain": [
       "              easting      northing    MAGIGRF\n",
       "0       500051.800009  8.784028e+06  50.464271\n",
       "1       500051.800009  8.784128e+06  50.678373\n",
       "2       500051.800009  8.784228e+06  50.935766\n",
       "3       500051.800009  8.784328e+06  51.153968\n",
       "4       500051.800009  8.784428e+06  51.291826\n",
       "...               ...           ...        ...\n",
       "302486  554651.809991  8.838855e+06  37.771953\n",
       "302487  554651.809991  8.838955e+06  30.463146\n",
       "302488  554651.809991  8.839055e+06  24.237343\n",
       "302489  554651.809991  8.839155e+06  20.059724\n",
       "302490  554651.809991  8.839255e+06  16.984011\n",
       "\n",
       "[302491 rows x 3 columns]"
      ],
      "text/html": [
       "<div>\n",
       "<style scoped>\n",
       "    .dataframe tbody tr th:only-of-type {\n",
       "        vertical-align: middle;\n",
       "    }\n",
       "\n",
       "    .dataframe tbody tr th {\n",
       "        vertical-align: top;\n",
       "    }\n",
       "\n",
       "    .dataframe thead th {\n",
       "        text-align: right;\n",
       "    }\n",
       "</style>\n",
       "<table border=\"1\" class=\"dataframe\">\n",
       "  <thead>\n",
       "    <tr style=\"text-align: right;\">\n",
       "      <th></th>\n",
       "      <th>easting</th>\n",
       "      <th>northing</th>\n",
       "      <th>MAGIGRF</th>\n",
       "    </tr>\n",
       "  </thead>\n",
       "  <tbody>\n",
       "    <tr>\n",
       "      <th>0</th>\n",
       "      <td>500051.800009</td>\n",
       "      <td>8.784028e+06</td>\n",
       "      <td>50.464271</td>\n",
       "    </tr>\n",
       "    <tr>\n",
       "      <th>1</th>\n",
       "      <td>500051.800009</td>\n",
       "      <td>8.784128e+06</td>\n",
       "      <td>50.678373</td>\n",
       "    </tr>\n",
       "    <tr>\n",
       "      <th>2</th>\n",
       "      <td>500051.800009</td>\n",
       "      <td>8.784228e+06</td>\n",
       "      <td>50.935766</td>\n",
       "    </tr>\n",
       "    <tr>\n",
       "      <th>3</th>\n",
       "      <td>500051.800009</td>\n",
       "      <td>8.784328e+06</td>\n",
       "      <td>51.153968</td>\n",
       "    </tr>\n",
       "    <tr>\n",
       "      <th>4</th>\n",
       "      <td>500051.800009</td>\n",
       "      <td>8.784428e+06</td>\n",
       "      <td>51.291826</td>\n",
       "    </tr>\n",
       "    <tr>\n",
       "      <th>...</th>\n",
       "      <td>...</td>\n",
       "      <td>...</td>\n",
       "      <td>...</td>\n",
       "    </tr>\n",
       "    <tr>\n",
       "      <th>302486</th>\n",
       "      <td>554651.809991</td>\n",
       "      <td>8.838855e+06</td>\n",
       "      <td>37.771953</td>\n",
       "    </tr>\n",
       "    <tr>\n",
       "      <th>302487</th>\n",
       "      <td>554651.809991</td>\n",
       "      <td>8.838955e+06</td>\n",
       "      <td>30.463146</td>\n",
       "    </tr>\n",
       "    <tr>\n",
       "      <th>302488</th>\n",
       "      <td>554651.809991</td>\n",
       "      <td>8.839055e+06</td>\n",
       "      <td>24.237343</td>\n",
       "    </tr>\n",
       "    <tr>\n",
       "      <th>302489</th>\n",
       "      <td>554651.809991</td>\n",
       "      <td>8.839155e+06</td>\n",
       "      <td>20.059724</td>\n",
       "    </tr>\n",
       "    <tr>\n",
       "      <th>302490</th>\n",
       "      <td>554651.809991</td>\n",
       "      <td>8.839255e+06</td>\n",
       "      <td>16.984011</td>\n",
       "    </tr>\n",
       "  </tbody>\n",
       "</table>\n",
       "<p>302491 rows × 3 columns</p>\n",
       "</div>"
      ]
     },
     "metadata": {},
     "execution_count": 30
    }
   ],
   "metadata": {}
  },
  {
   "cell_type": "code",
   "execution_count": 38,
   "source": [
    "geof['MAGIGRF'] = df_mag.MAGIGRF"
   ],
   "outputs": [],
   "metadata": {}
  },
  {
   "cell_type": "code",
   "execution_count": 39,
   "source": [
    "geof"
   ],
   "outputs": [
    {
     "output_type": "execute_result",
     "data": {
      "text/plain": [
       "              easting      northing        CTCOR     KPERC         MDT  \\\n",
       "0       500055.289543  8.784035e+06  1708.875338  1.685567  508.936948   \n",
       "1       500055.289543  8.784135e+06  1712.006845  1.627513  508.831103   \n",
       "2       500055.289543  8.784235e+06  1693.736960  1.561761  509.035380   \n",
       "3       500055.289543  8.784335e+06  1639.938707  1.493374  510.118943   \n",
       "4       500055.289543  8.784435e+06  1561.172489  1.426346  511.533855   \n",
       "...               ...           ...          ...       ...         ...   \n",
       "302486  554643.870457  8.838854e+06  1138.891026  0.760344  471.539519   \n",
       "302487  554643.870457  8.838954e+06  1114.599345  0.783834  466.898206   \n",
       "302488  554643.870457  8.839054e+06  1088.677543  0.806869  462.777227   \n",
       "302489  554643.870457  8.839154e+06  1059.884453  0.828355  459.411416   \n",
       "302490  554643.870457  8.839254e+06  1034.680781  0.847966  456.562335   \n",
       "\n",
       "              eU        eth                        geometry    MAGIGRF  \n",
       "0       1.907549  17.543268  POINT (500055.290 8784035.247)  50.464271  \n",
       "1       1.922783  17.808410  POINT (500055.290 8784135.280)  50.678373  \n",
       "2       1.935492  17.728627  POINT (500055.290 8784235.314)  50.935766  \n",
       "3       1.950659  17.013406  POINT (500055.290 8784335.347)  51.153968  \n",
       "4       1.962516  15.848140  POINT (500055.290 8784435.381)  51.291826  \n",
       "...          ...        ...                             ...        ...  \n",
       "302486  1.726946  12.759650  POINT (554643.870 8838853.619)  37.771953  \n",
       "302487  1.429977  12.531083  POINT (554643.870 8838953.653)  30.463146  \n",
       "302488  1.143662  12.318743  POINT (554643.870 8839053.686)  24.237343  \n",
       "302489  0.881483  12.125568  POINT (554643.870 8839153.720)  20.059724  \n",
       "302490  0.646376  11.994416  POINT (554643.870 8839253.753)  16.984011  \n",
       "\n",
       "[302491 rows x 9 columns]"
      ],
      "text/html": [
       "<div>\n",
       "<style scoped>\n",
       "    .dataframe tbody tr th:only-of-type {\n",
       "        vertical-align: middle;\n",
       "    }\n",
       "\n",
       "    .dataframe tbody tr th {\n",
       "        vertical-align: top;\n",
       "    }\n",
       "\n",
       "    .dataframe thead th {\n",
       "        text-align: right;\n",
       "    }\n",
       "</style>\n",
       "<table border=\"1\" class=\"dataframe\">\n",
       "  <thead>\n",
       "    <tr style=\"text-align: right;\">\n",
       "      <th></th>\n",
       "      <th>easting</th>\n",
       "      <th>northing</th>\n",
       "      <th>CTCOR</th>\n",
       "      <th>KPERC</th>\n",
       "      <th>MDT</th>\n",
       "      <th>eU</th>\n",
       "      <th>eth</th>\n",
       "      <th>geometry</th>\n",
       "      <th>MAGIGRF</th>\n",
       "    </tr>\n",
       "  </thead>\n",
       "  <tbody>\n",
       "    <tr>\n",
       "      <th>0</th>\n",
       "      <td>500055.289543</td>\n",
       "      <td>8.784035e+06</td>\n",
       "      <td>1708.875338</td>\n",
       "      <td>1.685567</td>\n",
       "      <td>508.936948</td>\n",
       "      <td>1.907549</td>\n",
       "      <td>17.543268</td>\n",
       "      <td>POINT (500055.290 8784035.247)</td>\n",
       "      <td>50.464271</td>\n",
       "    </tr>\n",
       "    <tr>\n",
       "      <th>1</th>\n",
       "      <td>500055.289543</td>\n",
       "      <td>8.784135e+06</td>\n",
       "      <td>1712.006845</td>\n",
       "      <td>1.627513</td>\n",
       "      <td>508.831103</td>\n",
       "      <td>1.922783</td>\n",
       "      <td>17.808410</td>\n",
       "      <td>POINT (500055.290 8784135.280)</td>\n",
       "      <td>50.678373</td>\n",
       "    </tr>\n",
       "    <tr>\n",
       "      <th>2</th>\n",
       "      <td>500055.289543</td>\n",
       "      <td>8.784235e+06</td>\n",
       "      <td>1693.736960</td>\n",
       "      <td>1.561761</td>\n",
       "      <td>509.035380</td>\n",
       "      <td>1.935492</td>\n",
       "      <td>17.728627</td>\n",
       "      <td>POINT (500055.290 8784235.314)</td>\n",
       "      <td>50.935766</td>\n",
       "    </tr>\n",
       "    <tr>\n",
       "      <th>3</th>\n",
       "      <td>500055.289543</td>\n",
       "      <td>8.784335e+06</td>\n",
       "      <td>1639.938707</td>\n",
       "      <td>1.493374</td>\n",
       "      <td>510.118943</td>\n",
       "      <td>1.950659</td>\n",
       "      <td>17.013406</td>\n",
       "      <td>POINT (500055.290 8784335.347)</td>\n",
       "      <td>51.153968</td>\n",
       "    </tr>\n",
       "    <tr>\n",
       "      <th>4</th>\n",
       "      <td>500055.289543</td>\n",
       "      <td>8.784435e+06</td>\n",
       "      <td>1561.172489</td>\n",
       "      <td>1.426346</td>\n",
       "      <td>511.533855</td>\n",
       "      <td>1.962516</td>\n",
       "      <td>15.848140</td>\n",
       "      <td>POINT (500055.290 8784435.381)</td>\n",
       "      <td>51.291826</td>\n",
       "    </tr>\n",
       "    <tr>\n",
       "      <th>...</th>\n",
       "      <td>...</td>\n",
       "      <td>...</td>\n",
       "      <td>...</td>\n",
       "      <td>...</td>\n",
       "      <td>...</td>\n",
       "      <td>...</td>\n",
       "      <td>...</td>\n",
       "      <td>...</td>\n",
       "      <td>...</td>\n",
       "    </tr>\n",
       "    <tr>\n",
       "      <th>302486</th>\n",
       "      <td>554643.870457</td>\n",
       "      <td>8.838854e+06</td>\n",
       "      <td>1138.891026</td>\n",
       "      <td>0.760344</td>\n",
       "      <td>471.539519</td>\n",
       "      <td>1.726946</td>\n",
       "      <td>12.759650</td>\n",
       "      <td>POINT (554643.870 8838853.619)</td>\n",
       "      <td>37.771953</td>\n",
       "    </tr>\n",
       "    <tr>\n",
       "      <th>302487</th>\n",
       "      <td>554643.870457</td>\n",
       "      <td>8.838954e+06</td>\n",
       "      <td>1114.599345</td>\n",
       "      <td>0.783834</td>\n",
       "      <td>466.898206</td>\n",
       "      <td>1.429977</td>\n",
       "      <td>12.531083</td>\n",
       "      <td>POINT (554643.870 8838953.653)</td>\n",
       "      <td>30.463146</td>\n",
       "    </tr>\n",
       "    <tr>\n",
       "      <th>302488</th>\n",
       "      <td>554643.870457</td>\n",
       "      <td>8.839054e+06</td>\n",
       "      <td>1088.677543</td>\n",
       "      <td>0.806869</td>\n",
       "      <td>462.777227</td>\n",
       "      <td>1.143662</td>\n",
       "      <td>12.318743</td>\n",
       "      <td>POINT (554643.870 8839053.686)</td>\n",
       "      <td>24.237343</td>\n",
       "    </tr>\n",
       "    <tr>\n",
       "      <th>302489</th>\n",
       "      <td>554643.870457</td>\n",
       "      <td>8.839154e+06</td>\n",
       "      <td>1059.884453</td>\n",
       "      <td>0.828355</td>\n",
       "      <td>459.411416</td>\n",
       "      <td>0.881483</td>\n",
       "      <td>12.125568</td>\n",
       "      <td>POINT (554643.870 8839153.720)</td>\n",
       "      <td>20.059724</td>\n",
       "    </tr>\n",
       "    <tr>\n",
       "      <th>302490</th>\n",
       "      <td>554643.870457</td>\n",
       "      <td>8.839254e+06</td>\n",
       "      <td>1034.680781</td>\n",
       "      <td>0.847966</td>\n",
       "      <td>456.562335</td>\n",
       "      <td>0.646376</td>\n",
       "      <td>11.994416</td>\n",
       "      <td>POINT (554643.870 8839253.753)</td>\n",
       "      <td>16.984011</td>\n",
       "    </tr>\n",
       "  </tbody>\n",
       "</table>\n",
       "<p>302491 rows × 9 columns</p>\n",
       "</div>"
      ]
     },
     "metadata": {},
     "execution_count": 39
    }
   ],
   "metadata": {}
  },
  {
   "cell_type": "code",
   "execution_count": 137,
   "source": [
    "gdf.crs"
   ],
   "outputs": [
    {
     "output_type": "execute_result",
     "data": {
      "text/plain": [
       "<Projected CRS: EPSG:32723>\n",
       "Name: WGS 84 / UTM zone 23S\n",
       "Axis Info [cartesian]:\n",
       "- E[east]: Easting (metre)\n",
       "- N[north]: Northing (metre)\n",
       "Area of Use:\n",
       "- name: World - S hemisphere - 48°W to 42°W - by country\n",
       "- bounds: (-48.0, -80.0, -42.0, 0.0)\n",
       "Coordinate Operation:\n",
       "- name: UTM zone 23S\n",
       "- method: Transverse Mercator\n",
       "Datum: World Geodetic System 1984\n",
       "- Ellipsoid: WGS 84\n",
       "- Prime Meridian: Greenwich"
      ]
     },
     "metadata": {},
     "execution_count": 137
    }
   ],
   "metadata": {}
  },
  {
   "cell_type": "code",
   "execution_count": 42,
   "source": [
    "l_100k = mf.litologia('l_100k')"
   ],
   "outputs": [],
   "metadata": {}
  },
  {
   "cell_type": "code",
   "execution_count": 43,
   "source": [
    "rparaim = mf.mapa(l_100k,'Rio Paraim')"
   ],
   "outputs": [],
   "metadata": {}
  },
  {
   "cell_type": "code",
   "execution_count": 44,
   "source": [
    "rparaim.crs"
   ],
   "outputs": [
    {
     "output_type": "execute_result",
     "data": {
      "text/plain": [
       "<Geographic 2D CRS: EPSG:4326>\n",
       "Name: WGS 84\n",
       "Axis Info [ellipsoidal]:\n",
       "- Lat[north]: Geodetic latitude (degree)\n",
       "- Lon[east]: Geodetic longitude (degree)\n",
       "Area of Use:\n",
       "- name: World\n",
       "- bounds: (-180.0, -90.0, 180.0, 90.0)\n",
       "Datum: World Geodetic System 1984\n",
       "- Ellipsoid: WGS 84\n",
       "- Prime Meridian: Greenwich"
      ]
     },
     "metadata": {},
     "execution_count": 44
    }
   ],
   "metadata": {}
  },
  {
   "cell_type": "code",
   "execution_count": 45,
   "source": [
    "rparaim = rparaim.to_crs(32723)\n",
    "rparaim.crs"
   ],
   "outputs": [
    {
     "output_type": "execute_result",
     "data": {
      "text/plain": [
       "<Projected CRS: EPSG:32723>\n",
       "Name: WGS 84 / UTM zone 23S\n",
       "Axis Info [cartesian]:\n",
       "- E[east]: Easting (metre)\n",
       "- N[north]: Northing (metre)\n",
       "Area of Use:\n",
       "- name: World - S hemisphere - 48°W to 42°W - by country\n",
       "- bounds: (-48.0, -80.0, -42.0, 0.0)\n",
       "Coordinate Operation:\n",
       "- name: UTM zone 23S\n",
       "- method: Transverse Mercator\n",
       "Datum: World Geodetic System 1984\n",
       "- Ellipsoid: WGS 84\n",
       "- Prime Meridian: Greenwich"
      ]
     },
     "metadata": {},
     "execution_count": 45
    }
   ],
   "metadata": {}
  },
  {
   "cell_type": "code",
   "execution_count": 49,
   "source": [
    "rparaim.reset_index(inplace=True)"
   ],
   "outputs": [],
   "metadata": {}
  },
  {
   "cell_type": "code",
   "execution_count": 50,
   "source": [
    "rparaim"
   ],
   "outputs": [
    {
     "output_type": "execute_result",
     "data": {
      "text/plain": [
       "     index  ID_UNIDADE    SIGLA    HIERARQUIA  \\\n",
       "0     2816        1006     N1dl  Não definida   \n",
       "1     2820        1006     N1dl  Não definida   \n",
       "2     2821        4873   NP1rp3       Unidade   \n",
       "3     2823        4876  NP1rp2q    Litofácies   \n",
       "4     2825        5773   PP2cmv       Unidade   \n",
       "..     ...         ...      ...           ...   \n",
       "136  54750        4876  NP1rp2q    Litofácies   \n",
       "137  54752        1006     N1dl  Não definida   \n",
       "138  54754        1006     N1dl  Não definida   \n",
       "139  54755        4873   NP1rp3       Unidade   \n",
       "140  54756        1006     N1dl  Não definida   \n",
       "\n",
       "                                                  NOME             AMBIENTE_T  \\\n",
       "0          Coberturas detrito-lateríticas ferruginosas  Cobertura superficial   \n",
       "1          Coberturas detrito-lateríticas ferruginosas  Cobertura superficial   \n",
       "2                             Unidade Rio Preto, xisto                   None   \n",
       "3    Litofácies Rio Preto, metassedimentos quartzos...                   None   \n",
       "4            Unidade Cristalândia do Piauí, metamáfica                   None   \n",
       "..                                                 ...                    ...   \n",
       "136  Litofácies Rio Preto, metassedimentos quartzos...                   None   \n",
       "137        Coberturas detrito-lateríticas ferruginosas  Cobertura superficial   \n",
       "138        Coberturas detrito-lateríticas ferruginosas  Cobertura superficial   \n",
       "139                           Unidade Rio Preto, xisto                   None   \n",
       "140        Coberturas detrito-lateríticas ferruginosas  Cobertura superficial   \n",
       "\n",
       "                      SUB_AMBIEN  SIGLA_PAI  \\\n",
       "0    Cobertura clasto-lateritica       None   \n",
       "1    Cobertura clasto-lateritica       None   \n",
       "2                           None      NP1rp   \n",
       "3                           None  MP3NP1rp2   \n",
       "4                           None      A4PPc   \n",
       "..                           ...        ...   \n",
       "136                         None  MP3NP1rp2   \n",
       "137  Cobertura clasto-lateritica       None   \n",
       "138  Cobertura clasto-lateritica       None   \n",
       "139                         None      NP1rp   \n",
       "140  Cobertura clasto-lateritica       None   \n",
       "\n",
       "                                              NOME_PAI  \\\n",
       "0                                                 None   \n",
       "1                                                 None   \n",
       "2                              NP1rp - Grupo Rio Preto   \n",
       "3    MP3NP1rp2 - Unidade Rio Preto, metassedimentos...   \n",
       "4               A4PPc - Complexo Cristalândia do Piauí   \n",
       "..                                                 ...   \n",
       "136  MP3NP1rp2 - Unidade Rio Preto, metassedimentos...   \n",
       "137                                               None   \n",
       "138                                               None   \n",
       "139                            NP1rp - Grupo Rio Preto   \n",
       "140                                               None   \n",
       "\n",
       "                                               LEGENDA  ...  \\\n",
       "0    Coberturas de solos residuais argilo-arenosos ...  ...   \n",
       "1    Coberturas de solos residuais argilo-arenosos ...  ...   \n",
       "2    Muscovita-xistos e quartzo-xistos predominante...  ...   \n",
       "3    Quartzitos a muscovita-quartzitos puros a impu...  ...   \n",
       "4    Corpos gabróicos a metagabros, compostos por a...  ...   \n",
       "..                                                 ...  ...   \n",
       "136  Quartzitos a muscovita-quartzitos puros a impu...  ...   \n",
       "137  Coberturas de solos residuais argilo-arenosos ...  ...   \n",
       "138  Coberturas de solos residuais argilo-arenosos ...  ...   \n",
       "139  Muscovita-xistos e quartzo-xistos predominante...  ...   \n",
       "140  Coberturas de solos residuais argilo-arenosos ...  ...   \n",
       "\n",
       "               ERA_MIN            ERA_MAX SISTEMA_MI SISTEMA_MA    EPOCA_MIN  \\\n",
       "0            Cenozóico          Cenozóico    Neogeno    Neogeno     Superior   \n",
       "1            Cenozóico          Cenozóico    Neogeno    Neogeno     Superior   \n",
       "2      Neoproterozóico    Neoproterozóico    Toniano    Toniano  Wenloquiano   \n",
       "3      Neoproterozóico    Neoproterozóico    Toniano    Toniano  Wenloquiano   \n",
       "4    Paleoproterozóico  Paleoproterozóico   Riaciano   Riaciano      Série 3   \n",
       "..                 ...                ...        ...        ...          ...   \n",
       "136    Neoproterozóico    Neoproterozóico    Toniano    Toniano  Wenloquiano   \n",
       "137          Cenozóico          Cenozóico    Neogeno    Neogeno     Superior   \n",
       "138          Cenozóico          Cenozóico    Neogeno    Neogeno     Superior   \n",
       "139    Neoproterozóico    Neoproterozóico    Toniano    Toniano  Wenloquiano   \n",
       "140          Cenozóico          Cenozóico    Neogeno    Neogeno     Superior   \n",
       "\n",
       "       EPOCA_MAX                       SIGLAS_HIS SHAPE_AREA SHAPE_LEN  \\\n",
       "0       Superior                             NQdl   0.000041  0.037400   \n",
       "1       Superior                             NQdl   0.001087  0.257896   \n",
       "2    Wenloquiano  MP3NP1rp3, M3N1rp1x, MP3NP1rp1x   0.000170  0.094417   \n",
       "3    Wenloquiano             M3N1rp2q, MP3NP1rp2q   0.000015  0.020423   \n",
       "4        Série 3                             None   0.000323  0.077072   \n",
       "..           ...                              ...        ...       ...   \n",
       "136  Wenloquiano             M3N1rp2q, MP3NP1rp2q   0.000045  0.063783   \n",
       "137     Superior                             NQdl   0.012576  0.986684   \n",
       "138     Superior                             NQdl   0.043917  1.961410   \n",
       "139  Wenloquiano  MP3NP1rp3, M3N1rp1x, MP3NP1rp1x   0.023544  3.651426   \n",
       "140     Superior                             NQdl   0.001673  0.238141   \n",
       "\n",
       "                                              geometry  \n",
       "0    POLYGON ((500176.894 8821390.751, 500170.654 8...  \n",
       "1    POLYGON ((505306.762 8803062.104, 505258.182 8...  \n",
       "2    POLYGON ((505145.795 8801235.292, 506323.529 8...  \n",
       "3    POLYGON ((509741.424 8784951.753, 509758.753 8...  \n",
       "4    POLYGON ((510857.857 8811448.300, 510816.261 8...  \n",
       "..                                                 ...  \n",
       "136  POLYGON ((548787.138 8829535.408, 548759.773 8...  \n",
       "137  POLYGON ((543318.427 8837536.690, 543374.133 8...  \n",
       "138  POLYGON ((554660.641 8807055.364, 554656.953 8...  \n",
       "139  POLYGON ((554702.380 8832876.999, 554702.379 8...  \n",
       "140  POLYGON ((554710.777 8838140.124, 554709.914 8...  \n",
       "\n",
       "[141 rows x 28 columns]"
      ],
      "text/html": [
       "<div>\n",
       "<style scoped>\n",
       "    .dataframe tbody tr th:only-of-type {\n",
       "        vertical-align: middle;\n",
       "    }\n",
       "\n",
       "    .dataframe tbody tr th {\n",
       "        vertical-align: top;\n",
       "    }\n",
       "\n",
       "    .dataframe thead th {\n",
       "        text-align: right;\n",
       "    }\n",
       "</style>\n",
       "<table border=\"1\" class=\"dataframe\">\n",
       "  <thead>\n",
       "    <tr style=\"text-align: right;\">\n",
       "      <th></th>\n",
       "      <th>index</th>\n",
       "      <th>ID_UNIDADE</th>\n",
       "      <th>SIGLA</th>\n",
       "      <th>HIERARQUIA</th>\n",
       "      <th>NOME</th>\n",
       "      <th>AMBIENTE_T</th>\n",
       "      <th>SUB_AMBIEN</th>\n",
       "      <th>SIGLA_PAI</th>\n",
       "      <th>NOME_PAI</th>\n",
       "      <th>LEGENDA</th>\n",
       "      <th>...</th>\n",
       "      <th>ERA_MIN</th>\n",
       "      <th>ERA_MAX</th>\n",
       "      <th>SISTEMA_MI</th>\n",
       "      <th>SISTEMA_MA</th>\n",
       "      <th>EPOCA_MIN</th>\n",
       "      <th>EPOCA_MAX</th>\n",
       "      <th>SIGLAS_HIS</th>\n",
       "      <th>SHAPE_AREA</th>\n",
       "      <th>SHAPE_LEN</th>\n",
       "      <th>geometry</th>\n",
       "    </tr>\n",
       "  </thead>\n",
       "  <tbody>\n",
       "    <tr>\n",
       "      <th>0</th>\n",
       "      <td>2816</td>\n",
       "      <td>1006</td>\n",
       "      <td>N1dl</td>\n",
       "      <td>Não definida</td>\n",
       "      <td>Coberturas detrito-lateríticas ferruginosas</td>\n",
       "      <td>Cobertura superficial</td>\n",
       "      <td>Cobertura clasto-lateritica</td>\n",
       "      <td>None</td>\n",
       "      <td>None</td>\n",
       "      <td>Coberturas de solos residuais argilo-arenosos ...</td>\n",
       "      <td>...</td>\n",
       "      <td>Cenozóico</td>\n",
       "      <td>Cenozóico</td>\n",
       "      <td>Neogeno</td>\n",
       "      <td>Neogeno</td>\n",
       "      <td>Superior</td>\n",
       "      <td>Superior</td>\n",
       "      <td>NQdl</td>\n",
       "      <td>0.000041</td>\n",
       "      <td>0.037400</td>\n",
       "      <td>POLYGON ((500176.894 8821390.751, 500170.654 8...</td>\n",
       "    </tr>\n",
       "    <tr>\n",
       "      <th>1</th>\n",
       "      <td>2820</td>\n",
       "      <td>1006</td>\n",
       "      <td>N1dl</td>\n",
       "      <td>Não definida</td>\n",
       "      <td>Coberturas detrito-lateríticas ferruginosas</td>\n",
       "      <td>Cobertura superficial</td>\n",
       "      <td>Cobertura clasto-lateritica</td>\n",
       "      <td>None</td>\n",
       "      <td>None</td>\n",
       "      <td>Coberturas de solos residuais argilo-arenosos ...</td>\n",
       "      <td>...</td>\n",
       "      <td>Cenozóico</td>\n",
       "      <td>Cenozóico</td>\n",
       "      <td>Neogeno</td>\n",
       "      <td>Neogeno</td>\n",
       "      <td>Superior</td>\n",
       "      <td>Superior</td>\n",
       "      <td>NQdl</td>\n",
       "      <td>0.001087</td>\n",
       "      <td>0.257896</td>\n",
       "      <td>POLYGON ((505306.762 8803062.104, 505258.182 8...</td>\n",
       "    </tr>\n",
       "    <tr>\n",
       "      <th>2</th>\n",
       "      <td>2821</td>\n",
       "      <td>4873</td>\n",
       "      <td>NP1rp3</td>\n",
       "      <td>Unidade</td>\n",
       "      <td>Unidade Rio Preto, xisto</td>\n",
       "      <td>None</td>\n",
       "      <td>None</td>\n",
       "      <td>NP1rp</td>\n",
       "      <td>NP1rp - Grupo Rio Preto</td>\n",
       "      <td>Muscovita-xistos e quartzo-xistos predominante...</td>\n",
       "      <td>...</td>\n",
       "      <td>Neoproterozóico</td>\n",
       "      <td>Neoproterozóico</td>\n",
       "      <td>Toniano</td>\n",
       "      <td>Toniano</td>\n",
       "      <td>Wenloquiano</td>\n",
       "      <td>Wenloquiano</td>\n",
       "      <td>MP3NP1rp3, M3N1rp1x, MP3NP1rp1x</td>\n",
       "      <td>0.000170</td>\n",
       "      <td>0.094417</td>\n",
       "      <td>POLYGON ((505145.795 8801235.292, 506323.529 8...</td>\n",
       "    </tr>\n",
       "    <tr>\n",
       "      <th>3</th>\n",
       "      <td>2823</td>\n",
       "      <td>4876</td>\n",
       "      <td>NP1rp2q</td>\n",
       "      <td>Litofácies</td>\n",
       "      <td>Litofácies Rio Preto, metassedimentos quartzos...</td>\n",
       "      <td>None</td>\n",
       "      <td>None</td>\n",
       "      <td>MP3NP1rp2</td>\n",
       "      <td>MP3NP1rp2 - Unidade Rio Preto, metassedimentos...</td>\n",
       "      <td>Quartzitos a muscovita-quartzitos puros a impu...</td>\n",
       "      <td>...</td>\n",
       "      <td>Neoproterozóico</td>\n",
       "      <td>Neoproterozóico</td>\n",
       "      <td>Toniano</td>\n",
       "      <td>Toniano</td>\n",
       "      <td>Wenloquiano</td>\n",
       "      <td>Wenloquiano</td>\n",
       "      <td>M3N1rp2q, MP3NP1rp2q</td>\n",
       "      <td>0.000015</td>\n",
       "      <td>0.020423</td>\n",
       "      <td>POLYGON ((509741.424 8784951.753, 509758.753 8...</td>\n",
       "    </tr>\n",
       "    <tr>\n",
       "      <th>4</th>\n",
       "      <td>2825</td>\n",
       "      <td>5773</td>\n",
       "      <td>PP2cmv</td>\n",
       "      <td>Unidade</td>\n",
       "      <td>Unidade Cristalândia do Piauí, metamáfica</td>\n",
       "      <td>None</td>\n",
       "      <td>None</td>\n",
       "      <td>A4PPc</td>\n",
       "      <td>A4PPc - Complexo Cristalândia do Piauí</td>\n",
       "      <td>Corpos gabróicos a metagabros, compostos por a...</td>\n",
       "      <td>...</td>\n",
       "      <td>Paleoproterozóico</td>\n",
       "      <td>Paleoproterozóico</td>\n",
       "      <td>Riaciano</td>\n",
       "      <td>Riaciano</td>\n",
       "      <td>Série 3</td>\n",
       "      <td>Série 3</td>\n",
       "      <td>None</td>\n",
       "      <td>0.000323</td>\n",
       "      <td>0.077072</td>\n",
       "      <td>POLYGON ((510857.857 8811448.300, 510816.261 8...</td>\n",
       "    </tr>\n",
       "    <tr>\n",
       "      <th>...</th>\n",
       "      <td>...</td>\n",
       "      <td>...</td>\n",
       "      <td>...</td>\n",
       "      <td>...</td>\n",
       "      <td>...</td>\n",
       "      <td>...</td>\n",
       "      <td>...</td>\n",
       "      <td>...</td>\n",
       "      <td>...</td>\n",
       "      <td>...</td>\n",
       "      <td>...</td>\n",
       "      <td>...</td>\n",
       "      <td>...</td>\n",
       "      <td>...</td>\n",
       "      <td>...</td>\n",
       "      <td>...</td>\n",
       "      <td>...</td>\n",
       "      <td>...</td>\n",
       "      <td>...</td>\n",
       "      <td>...</td>\n",
       "      <td>...</td>\n",
       "    </tr>\n",
       "    <tr>\n",
       "      <th>136</th>\n",
       "      <td>54750</td>\n",
       "      <td>4876</td>\n",
       "      <td>NP1rp2q</td>\n",
       "      <td>Litofácies</td>\n",
       "      <td>Litofácies Rio Preto, metassedimentos quartzos...</td>\n",
       "      <td>None</td>\n",
       "      <td>None</td>\n",
       "      <td>MP3NP1rp2</td>\n",
       "      <td>MP3NP1rp2 - Unidade Rio Preto, metassedimentos...</td>\n",
       "      <td>Quartzitos a muscovita-quartzitos puros a impu...</td>\n",
       "      <td>...</td>\n",
       "      <td>Neoproterozóico</td>\n",
       "      <td>Neoproterozóico</td>\n",
       "      <td>Toniano</td>\n",
       "      <td>Toniano</td>\n",
       "      <td>Wenloquiano</td>\n",
       "      <td>Wenloquiano</td>\n",
       "      <td>M3N1rp2q, MP3NP1rp2q</td>\n",
       "      <td>0.000045</td>\n",
       "      <td>0.063783</td>\n",
       "      <td>POLYGON ((548787.138 8829535.408, 548759.773 8...</td>\n",
       "    </tr>\n",
       "    <tr>\n",
       "      <th>137</th>\n",
       "      <td>54752</td>\n",
       "      <td>1006</td>\n",
       "      <td>N1dl</td>\n",
       "      <td>Não definida</td>\n",
       "      <td>Coberturas detrito-lateríticas ferruginosas</td>\n",
       "      <td>Cobertura superficial</td>\n",
       "      <td>Cobertura clasto-lateritica</td>\n",
       "      <td>None</td>\n",
       "      <td>None</td>\n",
       "      <td>Coberturas de solos residuais argilo-arenosos ...</td>\n",
       "      <td>...</td>\n",
       "      <td>Cenozóico</td>\n",
       "      <td>Cenozóico</td>\n",
       "      <td>Neogeno</td>\n",
       "      <td>Neogeno</td>\n",
       "      <td>Superior</td>\n",
       "      <td>Superior</td>\n",
       "      <td>NQdl</td>\n",
       "      <td>0.012576</td>\n",
       "      <td>0.986684</td>\n",
       "      <td>POLYGON ((543318.427 8837536.690, 543374.133 8...</td>\n",
       "    </tr>\n",
       "    <tr>\n",
       "      <th>138</th>\n",
       "      <td>54754</td>\n",
       "      <td>1006</td>\n",
       "      <td>N1dl</td>\n",
       "      <td>Não definida</td>\n",
       "      <td>Coberturas detrito-lateríticas ferruginosas</td>\n",
       "      <td>Cobertura superficial</td>\n",
       "      <td>Cobertura clasto-lateritica</td>\n",
       "      <td>None</td>\n",
       "      <td>None</td>\n",
       "      <td>Coberturas de solos residuais argilo-arenosos ...</td>\n",
       "      <td>...</td>\n",
       "      <td>Cenozóico</td>\n",
       "      <td>Cenozóico</td>\n",
       "      <td>Neogeno</td>\n",
       "      <td>Neogeno</td>\n",
       "      <td>Superior</td>\n",
       "      <td>Superior</td>\n",
       "      <td>NQdl</td>\n",
       "      <td>0.043917</td>\n",
       "      <td>1.961410</td>\n",
       "      <td>POLYGON ((554660.641 8807055.364, 554656.953 8...</td>\n",
       "    </tr>\n",
       "    <tr>\n",
       "      <th>139</th>\n",
       "      <td>54755</td>\n",
       "      <td>4873</td>\n",
       "      <td>NP1rp3</td>\n",
       "      <td>Unidade</td>\n",
       "      <td>Unidade Rio Preto, xisto</td>\n",
       "      <td>None</td>\n",
       "      <td>None</td>\n",
       "      <td>NP1rp</td>\n",
       "      <td>NP1rp - Grupo Rio Preto</td>\n",
       "      <td>Muscovita-xistos e quartzo-xistos predominante...</td>\n",
       "      <td>...</td>\n",
       "      <td>Neoproterozóico</td>\n",
       "      <td>Neoproterozóico</td>\n",
       "      <td>Toniano</td>\n",
       "      <td>Toniano</td>\n",
       "      <td>Wenloquiano</td>\n",
       "      <td>Wenloquiano</td>\n",
       "      <td>MP3NP1rp3, M3N1rp1x, MP3NP1rp1x</td>\n",
       "      <td>0.023544</td>\n",
       "      <td>3.651426</td>\n",
       "      <td>POLYGON ((554702.380 8832876.999, 554702.379 8...</td>\n",
       "    </tr>\n",
       "    <tr>\n",
       "      <th>140</th>\n",
       "      <td>54756</td>\n",
       "      <td>1006</td>\n",
       "      <td>N1dl</td>\n",
       "      <td>Não definida</td>\n",
       "      <td>Coberturas detrito-lateríticas ferruginosas</td>\n",
       "      <td>Cobertura superficial</td>\n",
       "      <td>Cobertura clasto-lateritica</td>\n",
       "      <td>None</td>\n",
       "      <td>None</td>\n",
       "      <td>Coberturas de solos residuais argilo-arenosos ...</td>\n",
       "      <td>...</td>\n",
       "      <td>Cenozóico</td>\n",
       "      <td>Cenozóico</td>\n",
       "      <td>Neogeno</td>\n",
       "      <td>Neogeno</td>\n",
       "      <td>Superior</td>\n",
       "      <td>Superior</td>\n",
       "      <td>NQdl</td>\n",
       "      <td>0.001673</td>\n",
       "      <td>0.238141</td>\n",
       "      <td>POLYGON ((554710.777 8838140.124, 554709.914 8...</td>\n",
       "    </tr>\n",
       "  </tbody>\n",
       "</table>\n",
       "<p>141 rows × 28 columns</p>\n",
       "</div>"
      ]
     },
     "metadata": {},
     "execution_count": 50
    }
   ],
   "metadata": {}
  },
  {
   "cell_type": "code",
   "execution_count": 46,
   "source": [
    "rparaim.plot('SIGLA')"
   ],
   "outputs": [
    {
     "output_type": "display_data",
     "data": {
      "text/plain": [
       "Canvas(toolbar=Toolbar(toolitems=[('Home', 'Reset original view', 'home', 'home'), ('Back', 'Back to previous …"
      ],
      "application/vnd.jupyter.widget-view+json": {
       "version_major": 2,
       "version_minor": 0,
       "model_id": "5355da46badc46d390f9652b117ec562"
      }
     },
     "metadata": {}
    },
    {
     "output_type": "execute_result",
     "data": {
      "text/plain": [
       "<AxesSubplot:>"
      ]
     },
     "metadata": {},
     "execution_count": 46
    }
   ],
   "metadata": {}
  },
  {
   "cell_type": "code",
   "execution_count": 51,
   "source": [
    "geof['closest_unid'] = gdf['geometry'].apply(lambda x: rparaim['SIGLA'].iloc[rparaim.distance(x).idxmin()]) # .idxmin() Retorna o indice do menor valor "
   ],
   "outputs": [],
   "metadata": {}
  },
  {
   "cell_type": "code",
   "execution_count": 52,
   "source": [
    "geof.head()"
   ],
   "outputs": [
    {
     "output_type": "execute_result",
     "data": {
      "text/plain": [
       "         easting      northing        CTCOR     KPERC         MDT        eU  \\\n",
       "0  500055.289543  8.784035e+06  1708.875338  1.685567  508.936948  1.907549   \n",
       "1  500055.289543  8.784135e+06  1712.006845  1.627513  508.831103  1.922783   \n",
       "2  500055.289543  8.784235e+06  1693.736960  1.561761  509.035380  1.935492   \n",
       "3  500055.289543  8.784335e+06  1639.938707  1.493374  510.118943  1.950659   \n",
       "4  500055.289543  8.784435e+06  1561.172489  1.426346  511.533855  1.962516   \n",
       "\n",
       "         eth                        geometry    MAGIGRF closest_unid  \n",
       "0  17.543268  POINT (500055.290 8784035.247)  50.464271       NP1rp3  \n",
       "1  17.808410  POINT (500055.290 8784135.280)  50.678373       NP1rp3  \n",
       "2  17.728627  POINT (500055.290 8784235.314)  50.935766       NP1rp3  \n",
       "3  17.013406  POINT (500055.290 8784335.347)  51.153968       NP1rp3  \n",
       "4  15.848140  POINT (500055.290 8784435.381)  51.291826       NP1rp3  "
      ],
      "text/html": [
       "<div>\n",
       "<style scoped>\n",
       "    .dataframe tbody tr th:only-of-type {\n",
       "        vertical-align: middle;\n",
       "    }\n",
       "\n",
       "    .dataframe tbody tr th {\n",
       "        vertical-align: top;\n",
       "    }\n",
       "\n",
       "    .dataframe thead th {\n",
       "        text-align: right;\n",
       "    }\n",
       "</style>\n",
       "<table border=\"1\" class=\"dataframe\">\n",
       "  <thead>\n",
       "    <tr style=\"text-align: right;\">\n",
       "      <th></th>\n",
       "      <th>easting</th>\n",
       "      <th>northing</th>\n",
       "      <th>CTCOR</th>\n",
       "      <th>KPERC</th>\n",
       "      <th>MDT</th>\n",
       "      <th>eU</th>\n",
       "      <th>eth</th>\n",
       "      <th>geometry</th>\n",
       "      <th>MAGIGRF</th>\n",
       "      <th>closest_unid</th>\n",
       "    </tr>\n",
       "  </thead>\n",
       "  <tbody>\n",
       "    <tr>\n",
       "      <th>0</th>\n",
       "      <td>500055.289543</td>\n",
       "      <td>8.784035e+06</td>\n",
       "      <td>1708.875338</td>\n",
       "      <td>1.685567</td>\n",
       "      <td>508.936948</td>\n",
       "      <td>1.907549</td>\n",
       "      <td>17.543268</td>\n",
       "      <td>POINT (500055.290 8784035.247)</td>\n",
       "      <td>50.464271</td>\n",
       "      <td>NP1rp3</td>\n",
       "    </tr>\n",
       "    <tr>\n",
       "      <th>1</th>\n",
       "      <td>500055.289543</td>\n",
       "      <td>8.784135e+06</td>\n",
       "      <td>1712.006845</td>\n",
       "      <td>1.627513</td>\n",
       "      <td>508.831103</td>\n",
       "      <td>1.922783</td>\n",
       "      <td>17.808410</td>\n",
       "      <td>POINT (500055.290 8784135.280)</td>\n",
       "      <td>50.678373</td>\n",
       "      <td>NP1rp3</td>\n",
       "    </tr>\n",
       "    <tr>\n",
       "      <th>2</th>\n",
       "      <td>500055.289543</td>\n",
       "      <td>8.784235e+06</td>\n",
       "      <td>1693.736960</td>\n",
       "      <td>1.561761</td>\n",
       "      <td>509.035380</td>\n",
       "      <td>1.935492</td>\n",
       "      <td>17.728627</td>\n",
       "      <td>POINT (500055.290 8784235.314)</td>\n",
       "      <td>50.935766</td>\n",
       "      <td>NP1rp3</td>\n",
       "    </tr>\n",
       "    <tr>\n",
       "      <th>3</th>\n",
       "      <td>500055.289543</td>\n",
       "      <td>8.784335e+06</td>\n",
       "      <td>1639.938707</td>\n",
       "      <td>1.493374</td>\n",
       "      <td>510.118943</td>\n",
       "      <td>1.950659</td>\n",
       "      <td>17.013406</td>\n",
       "      <td>POINT (500055.290 8784335.347)</td>\n",
       "      <td>51.153968</td>\n",
       "      <td>NP1rp3</td>\n",
       "    </tr>\n",
       "    <tr>\n",
       "      <th>4</th>\n",
       "      <td>500055.289543</td>\n",
       "      <td>8.784435e+06</td>\n",
       "      <td>1561.172489</td>\n",
       "      <td>1.426346</td>\n",
       "      <td>511.533855</td>\n",
       "      <td>1.962516</td>\n",
       "      <td>15.848140</td>\n",
       "      <td>POINT (500055.290 8784435.381)</td>\n",
       "      <td>51.291826</td>\n",
       "      <td>NP1rp3</td>\n",
       "    </tr>\n",
       "  </tbody>\n",
       "</table>\n",
       "</div>"
      ]
     },
     "metadata": {},
     "execution_count": 52
    }
   ],
   "metadata": {}
  },
  {
   "cell_type": "code",
   "execution_count": 53,
   "source": [
    "# Setting projections\n",
    "\n",
    "# South America WGS 84 Geográfica\n",
    "p1 = pyproj.Proj(\"+proj=longlat +ellps=WGS84 +datum=WGS84 +no_defs\")\n",
    "\n",
    "# WGS84 UTM \n",
    "p2 = pyproj.Proj(\"+proj=utm +zone=23 +south +ellps=WGS84 +datum=WGS84 +units=m +no_defs\")\n",
    "\n",
    "# 1105\n",
    "geof['LONGITUDE'], geof['LATITUDE'] = pyproj.transform(p2, p1,\n",
    "                                                geof.easting.values,\n",
    "                                                geof.northing.values)"
   ],
   "outputs": [
    {
     "output_type": "stream",
     "name": "stderr",
     "text": [
      "<ipython-input-53-229dbd804a89>:10: DeprecationWarning: This function is deprecated. See: https://pyproj4.github.io/pyproj/stable/gotchas.html#upgrading-to-pyproj-2-from-pyproj-1\n",
      "  geof['LONGITUDE'], geof['LATITUDE'] = pyproj.transform(p2, p1,\n"
     ]
    }
   ],
   "metadata": {}
  },
  {
   "cell_type": "code",
   "execution_count": 54,
   "source": [
    "geof.head()"
   ],
   "outputs": [
    {
     "output_type": "execute_result",
     "data": {
      "text/plain": [
       "         easting      northing        CTCOR     KPERC         MDT        eU  \\\n",
       "0  500055.289543  8.784035e+06  1708.875338  1.685567  508.936948  1.907549   \n",
       "1  500055.289543  8.784135e+06  1712.006845  1.627513  508.831103  1.922783   \n",
       "2  500055.289543  8.784235e+06  1693.736960  1.561761  509.035380  1.935492   \n",
       "3  500055.289543  8.784335e+06  1639.938707  1.493374  510.118943  1.950659   \n",
       "4  500055.289543  8.784435e+06  1561.172489  1.426346  511.533855  1.962516   \n",
       "\n",
       "         eth                        geometry    MAGIGRF closest_unid  \\\n",
       "0  17.543268  POINT (500055.290 8784035.247)  50.464271       NP1rp3   \n",
       "1  17.808410  POINT (500055.290 8784135.280)  50.678373       NP1rp3   \n",
       "2  17.728627  POINT (500055.290 8784235.314)  50.935766       NP1rp3   \n",
       "3  17.013406  POINT (500055.290 8784335.347)  51.153968       NP1rp3   \n",
       "4  15.848140  POINT (500055.290 8784435.381)  51.291826       NP1rp3   \n",
       "\n",
       "   LONGITUDE   LATITUDE  \n",
       "0 -44.999494 -10.999867  \n",
       "1 -44.999494 -10.998963  \n",
       "2 -44.999494 -10.998058  \n",
       "3 -44.999494 -10.997153  \n",
       "4 -44.999494 -10.996248  "
      ],
      "text/html": [
       "<div>\n",
       "<style scoped>\n",
       "    .dataframe tbody tr th:only-of-type {\n",
       "        vertical-align: middle;\n",
       "    }\n",
       "\n",
       "    .dataframe tbody tr th {\n",
       "        vertical-align: top;\n",
       "    }\n",
       "\n",
       "    .dataframe thead th {\n",
       "        text-align: right;\n",
       "    }\n",
       "</style>\n",
       "<table border=\"1\" class=\"dataframe\">\n",
       "  <thead>\n",
       "    <tr style=\"text-align: right;\">\n",
       "      <th></th>\n",
       "      <th>easting</th>\n",
       "      <th>northing</th>\n",
       "      <th>CTCOR</th>\n",
       "      <th>KPERC</th>\n",
       "      <th>MDT</th>\n",
       "      <th>eU</th>\n",
       "      <th>eth</th>\n",
       "      <th>geometry</th>\n",
       "      <th>MAGIGRF</th>\n",
       "      <th>closest_unid</th>\n",
       "      <th>LONGITUDE</th>\n",
       "      <th>LATITUDE</th>\n",
       "    </tr>\n",
       "  </thead>\n",
       "  <tbody>\n",
       "    <tr>\n",
       "      <th>0</th>\n",
       "      <td>500055.289543</td>\n",
       "      <td>8.784035e+06</td>\n",
       "      <td>1708.875338</td>\n",
       "      <td>1.685567</td>\n",
       "      <td>508.936948</td>\n",
       "      <td>1.907549</td>\n",
       "      <td>17.543268</td>\n",
       "      <td>POINT (500055.290 8784035.247)</td>\n",
       "      <td>50.464271</td>\n",
       "      <td>NP1rp3</td>\n",
       "      <td>-44.999494</td>\n",
       "      <td>-10.999867</td>\n",
       "    </tr>\n",
       "    <tr>\n",
       "      <th>1</th>\n",
       "      <td>500055.289543</td>\n",
       "      <td>8.784135e+06</td>\n",
       "      <td>1712.006845</td>\n",
       "      <td>1.627513</td>\n",
       "      <td>508.831103</td>\n",
       "      <td>1.922783</td>\n",
       "      <td>17.808410</td>\n",
       "      <td>POINT (500055.290 8784135.280)</td>\n",
       "      <td>50.678373</td>\n",
       "      <td>NP1rp3</td>\n",
       "      <td>-44.999494</td>\n",
       "      <td>-10.998963</td>\n",
       "    </tr>\n",
       "    <tr>\n",
       "      <th>2</th>\n",
       "      <td>500055.289543</td>\n",
       "      <td>8.784235e+06</td>\n",
       "      <td>1693.736960</td>\n",
       "      <td>1.561761</td>\n",
       "      <td>509.035380</td>\n",
       "      <td>1.935492</td>\n",
       "      <td>17.728627</td>\n",
       "      <td>POINT (500055.290 8784235.314)</td>\n",
       "      <td>50.935766</td>\n",
       "      <td>NP1rp3</td>\n",
       "      <td>-44.999494</td>\n",
       "      <td>-10.998058</td>\n",
       "    </tr>\n",
       "    <tr>\n",
       "      <th>3</th>\n",
       "      <td>500055.289543</td>\n",
       "      <td>8.784335e+06</td>\n",
       "      <td>1639.938707</td>\n",
       "      <td>1.493374</td>\n",
       "      <td>510.118943</td>\n",
       "      <td>1.950659</td>\n",
       "      <td>17.013406</td>\n",
       "      <td>POINT (500055.290 8784335.347)</td>\n",
       "      <td>51.153968</td>\n",
       "      <td>NP1rp3</td>\n",
       "      <td>-44.999494</td>\n",
       "      <td>-10.997153</td>\n",
       "    </tr>\n",
       "    <tr>\n",
       "      <th>4</th>\n",
       "      <td>500055.289543</td>\n",
       "      <td>8.784435e+06</td>\n",
       "      <td>1561.172489</td>\n",
       "      <td>1.426346</td>\n",
       "      <td>511.533855</td>\n",
       "      <td>1.962516</td>\n",
       "      <td>15.848140</td>\n",
       "      <td>POINT (500055.290 8784435.381)</td>\n",
       "      <td>51.291826</td>\n",
       "      <td>NP1rp3</td>\n",
       "      <td>-44.999494</td>\n",
       "      <td>-10.996248</td>\n",
       "    </tr>\n",
       "  </tbody>\n",
       "</table>\n",
       "</div>"
      ]
     },
     "metadata": {},
     "execution_count": 54
    }
   ],
   "metadata": {}
  },
  {
   "cell_type": "code",
   "execution_count": 55,
   "source": [
    "geof.to_csv(gdb+'OI_SC23_Z_C_I.csv',index=False)"
   ],
   "outputs": [],
   "metadata": {}
  }
 ],
 "metadata": {
  "orig_nbformat": 4,
  "language_info": {
   "name": "python",
   "version": "3.8.2",
   "mimetype": "text/x-python",
   "codemirror_mode": {
    "name": "ipython",
    "version": 3
   },
   "pygments_lexer": "ipython3",
   "nbconvert_exporter": "python",
   "file_extension": ".py"
  },
  "kernelspec": {
   "name": "python3",
   "display_name": "Python 3.8.2 64-bit ('mappingBot': conda)"
  },
  "interpreter": {
   "hash": "2bc076d9378ac5ac660ba4f6a46900d2ea3732140aaa213526ceb6851acbc3f5"
  }
 },
 "nbformat": 4,
 "nbformat_minor": 2
}