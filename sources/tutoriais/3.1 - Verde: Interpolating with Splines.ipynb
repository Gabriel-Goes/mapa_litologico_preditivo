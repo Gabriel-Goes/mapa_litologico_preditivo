{
 "cells": [
  {
   "cell_type": "code",
   "execution_count": 2,
   "source": [
    "import verde as vd\n",
    "import pandas as pd\n",
    "import matplotlib.pyplot as plt\n",
    "import numpy as np\n",
    "\n",
    "import pyproj\n",
    "from shapely import geometry\n",
    "\n",
    "\n",
    "%matplotlib widget\n",
    "\n",
    "gdb = '/home/ggrl/geodatabase/'"
   ],
   "outputs": [],
   "metadata": {}
  },
  {
   "cell_type": "code",
   "execution_count": 3,
   "source": [
    "g_rparaim = pd.read_csv(gdb+'geof/recortado/g_rparaim')"
   ],
   "outputs": [],
   "metadata": {}
  },
  {
   "cell_type": "code",
   "execution_count": 4,
   "source": [
    "g_rparaim.sort_values('eU')"
   ],
   "outputs": [
    {
     "output_type": "execute_result",
     "data": {
      "text/plain": [
       "               X           Y     MDT  KPERC     eU    eth    CTCOR  LONGITUDE  \\\n",
       "25821  515104.87  8822663.16  418.16   1.38  -1.03   9.88   840.58 -44.861893   \n",
       "25822  515105.91  8822588.77  420.68   1.32  -0.91  10.84   890.72 -44.861883   \n",
       "38738  524144.66  8807667.88  667.58   1.55  -0.55  10.84  1007.38 -44.779142   \n",
       "25820  515104.28  8822737.52  411.11   1.35  -0.54   8.96   841.25 -44.861898   \n",
       "38739  524145.62  8807593.84  643.39   1.64  -0.47  11.64  1090.95 -44.779133   \n",
       "...          ...         ...     ...    ...    ...    ...      ...        ...   \n",
       "39539  524637.47  8822983.58  468.96   0.07   9.18  16.16  2127.09 -44.774737   \n",
       "18909  510108.47  8805304.95  507.73   0.10   9.27  28.41  2843.09 -44.907528   \n",
       "39542  524635.40  8823218.59  465.78   0.25  10.27  12.74  2126.63 -44.774757   \n",
       "39540  524636.75  8823061.86  468.12   0.10  11.45  15.87  2411.26 -44.774744   \n",
       "39541  524636.03  8823140.21  468.33   0.18  12.14  14.41  2441.96 -44.774751   \n",
       "\n",
       "        LATITUDE  \n",
       "25821 -10.650482  \n",
       "25822 -10.651155  \n",
       "38738 -10.786053  \n",
       "25820 -10.649809  \n",
       "38739 -10.786723  \n",
       "...          ...  \n",
       "39539 -10.647533  \n",
       "18909 -10.807489  \n",
       "39542 -10.645408  \n",
       "39540 -10.646825  \n",
       "39541 -10.646117  \n",
       "\n",
       "[81725 rows x 9 columns]"
      ],
      "text/html": [
       "<div>\n",
       "<style scoped>\n",
       "    .dataframe tbody tr th:only-of-type {\n",
       "        vertical-align: middle;\n",
       "    }\n",
       "\n",
       "    .dataframe tbody tr th {\n",
       "        vertical-align: top;\n",
       "    }\n",
       "\n",
       "    .dataframe thead th {\n",
       "        text-align: right;\n",
       "    }\n",
       "</style>\n",
       "<table border=\"1\" class=\"dataframe\">\n",
       "  <thead>\n",
       "    <tr style=\"text-align: right;\">\n",
       "      <th></th>\n",
       "      <th>X</th>\n",
       "      <th>Y</th>\n",
       "      <th>MDT</th>\n",
       "      <th>KPERC</th>\n",
       "      <th>eU</th>\n",
       "      <th>eth</th>\n",
       "      <th>CTCOR</th>\n",
       "      <th>LONGITUDE</th>\n",
       "      <th>LATITUDE</th>\n",
       "    </tr>\n",
       "  </thead>\n",
       "  <tbody>\n",
       "    <tr>\n",
       "      <th>25821</th>\n",
       "      <td>515104.87</td>\n",
       "      <td>8822663.16</td>\n",
       "      <td>418.16</td>\n",
       "      <td>1.38</td>\n",
       "      <td>-1.03</td>\n",
       "      <td>9.88</td>\n",
       "      <td>840.58</td>\n",
       "      <td>-44.861893</td>\n",
       "      <td>-10.650482</td>\n",
       "    </tr>\n",
       "    <tr>\n",
       "      <th>25822</th>\n",
       "      <td>515105.91</td>\n",
       "      <td>8822588.77</td>\n",
       "      <td>420.68</td>\n",
       "      <td>1.32</td>\n",
       "      <td>-0.91</td>\n",
       "      <td>10.84</td>\n",
       "      <td>890.72</td>\n",
       "      <td>-44.861883</td>\n",
       "      <td>-10.651155</td>\n",
       "    </tr>\n",
       "    <tr>\n",
       "      <th>38738</th>\n",
       "      <td>524144.66</td>\n",
       "      <td>8807667.88</td>\n",
       "      <td>667.58</td>\n",
       "      <td>1.55</td>\n",
       "      <td>-0.55</td>\n",
       "      <td>10.84</td>\n",
       "      <td>1007.38</td>\n",
       "      <td>-44.779142</td>\n",
       "      <td>-10.786053</td>\n",
       "    </tr>\n",
       "    <tr>\n",
       "      <th>25820</th>\n",
       "      <td>515104.28</td>\n",
       "      <td>8822737.52</td>\n",
       "      <td>411.11</td>\n",
       "      <td>1.35</td>\n",
       "      <td>-0.54</td>\n",
       "      <td>8.96</td>\n",
       "      <td>841.25</td>\n",
       "      <td>-44.861898</td>\n",
       "      <td>-10.649809</td>\n",
       "    </tr>\n",
       "    <tr>\n",
       "      <th>38739</th>\n",
       "      <td>524145.62</td>\n",
       "      <td>8807593.84</td>\n",
       "      <td>643.39</td>\n",
       "      <td>1.64</td>\n",
       "      <td>-0.47</td>\n",
       "      <td>11.64</td>\n",
       "      <td>1090.95</td>\n",
       "      <td>-44.779133</td>\n",
       "      <td>-10.786723</td>\n",
       "    </tr>\n",
       "    <tr>\n",
       "      <th>...</th>\n",
       "      <td>...</td>\n",
       "      <td>...</td>\n",
       "      <td>...</td>\n",
       "      <td>...</td>\n",
       "      <td>...</td>\n",
       "      <td>...</td>\n",
       "      <td>...</td>\n",
       "      <td>...</td>\n",
       "      <td>...</td>\n",
       "    </tr>\n",
       "    <tr>\n",
       "      <th>39539</th>\n",
       "      <td>524637.47</td>\n",
       "      <td>8822983.58</td>\n",
       "      <td>468.96</td>\n",
       "      <td>0.07</td>\n",
       "      <td>9.18</td>\n",
       "      <td>16.16</td>\n",
       "      <td>2127.09</td>\n",
       "      <td>-44.774737</td>\n",
       "      <td>-10.647533</td>\n",
       "    </tr>\n",
       "    <tr>\n",
       "      <th>18909</th>\n",
       "      <td>510108.47</td>\n",
       "      <td>8805304.95</td>\n",
       "      <td>507.73</td>\n",
       "      <td>0.10</td>\n",
       "      <td>9.27</td>\n",
       "      <td>28.41</td>\n",
       "      <td>2843.09</td>\n",
       "      <td>-44.907528</td>\n",
       "      <td>-10.807489</td>\n",
       "    </tr>\n",
       "    <tr>\n",
       "      <th>39542</th>\n",
       "      <td>524635.40</td>\n",
       "      <td>8823218.59</td>\n",
       "      <td>465.78</td>\n",
       "      <td>0.25</td>\n",
       "      <td>10.27</td>\n",
       "      <td>12.74</td>\n",
       "      <td>2126.63</td>\n",
       "      <td>-44.774757</td>\n",
       "      <td>-10.645408</td>\n",
       "    </tr>\n",
       "    <tr>\n",
       "      <th>39540</th>\n",
       "      <td>524636.75</td>\n",
       "      <td>8823061.86</td>\n",
       "      <td>468.12</td>\n",
       "      <td>0.10</td>\n",
       "      <td>11.45</td>\n",
       "      <td>15.87</td>\n",
       "      <td>2411.26</td>\n",
       "      <td>-44.774744</td>\n",
       "      <td>-10.646825</td>\n",
       "    </tr>\n",
       "    <tr>\n",
       "      <th>39541</th>\n",
       "      <td>524636.03</td>\n",
       "      <td>8823140.21</td>\n",
       "      <td>468.33</td>\n",
       "      <td>0.18</td>\n",
       "      <td>12.14</td>\n",
       "      <td>14.41</td>\n",
       "      <td>2441.96</td>\n",
       "      <td>-44.774751</td>\n",
       "      <td>-10.646117</td>\n",
       "    </tr>\n",
       "  </tbody>\n",
       "</table>\n",
       "<p>81725 rows × 9 columns</p>\n",
       "</div>"
      ]
     },
     "metadata": {},
     "execution_count": 4
    }
   ],
   "metadata": {}
  },
  {
   "cell_type": "code",
   "execution_count": 29,
   "source": [
    "data = g_rparaim\n",
    "\n",
    "coordinates = (g_rparaim.X.values, g_rparaim.Y.values)\n",
    "coordinates"
   ],
   "outputs": [
    {
     "output_type": "execute_result",
     "data": {
      "text/plain": [
       "(array([500020.25, 500103.83, 500187.24, ..., 554618.94, 554618.52,\n",
       "        554617.97]),\n",
       " array([8786155.43, 8786158.77, 8786161.64, ..., 8839028.43, 8839107.8 ,\n",
       "        8839187.24]))"
      ]
     },
     "metadata": {},
     "execution_count": 29
    }
   ],
   "metadata": {}
  },
  {
   "cell_type": "code",
   "execution_count": 47,
   "source": [
    "plt.figure(figsize=(8,8))\n",
    "plt.scatter(data.LONGITUDE,data.LATITUDE,\n",
    "            c    = data.CTCOR,\n",
    "            cmap = 'hsv',\n",
    "            s    = 2)\n",
    "plt.axis('scaled')\n",
    "plt.colorbar()"
   ],
   "outputs": [
    {
     "output_type": "display_data",
     "data": {
      "text/plain": [
       "Canvas(toolbar=Toolbar(toolitems=[('Home', 'Reset original view', 'home', 'home'), ('Back', 'Back to previous …"
      ],
      "application/vnd.jupyter.widget-view+json": {
       "version_major": 2,
       "version_minor": 0,
       "model_id": "eeea0954e3e341b196a44f6f9c782bb9"
      }
     },
     "metadata": {}
    },
    {
     "output_type": "execute_result",
     "data": {
      "text/plain": [
       "<matplotlib.colorbar.Colorbar at 0x7f1467214040>"
      ]
     },
     "metadata": {},
     "execution_count": 47
    }
   ],
   "metadata": {}
  },
  {
   "cell_type": "code",
   "execution_count": 48,
   "source": [
    "plt.figure(figsize=(8,8))\n",
    "plt.scatter(data.LONGITUDE,data.LATITUDE,\n",
    "            c    = data.eU,\n",
    "            cmap = 'hsv',\n",
    "            s    = 2)\n",
    "plt.axis('scaled')\n",
    "plt.colorbar()"
   ],
   "outputs": [
    {
     "output_type": "display_data",
     "data": {
      "text/plain": [
       "Canvas(toolbar=Toolbar(toolitems=[('Home', 'Reset original view', 'home', 'home'), ('Back', 'Back to previous …"
      ],
      "application/vnd.jupyter.widget-view+json": {
       "version_major": 2,
       "version_minor": 0,
       "model_id": "19761eaa80434486a1fdcedde601c264"
      }
     },
     "metadata": {}
    },
    {
     "output_type": "execute_result",
     "data": {
      "text/plain": [
       "<matplotlib.colorbar.Colorbar at 0x7f146714d370>"
      ]
     },
     "metadata": {},
     "execution_count": 48
    }
   ],
   "metadata": {}
  },
  {
   "cell_type": "code",
   "execution_count": 49,
   "source": [
    "plt.figure(figsize=(8,8))\n",
    "plt.scatter(data.LONGITUDE,data.LATITUDE,\n",
    "            c    = data.eth,\n",
    "            cmap = 'hsv',\n",
    "            s    = 2)\n",
    "plt.axis('scaled')\n",
    "plt.colorbar()"
   ],
   "outputs": [
    {
     "output_type": "display_data",
     "data": {
      "text/plain": [
       "Canvas(toolbar=Toolbar(toolitems=[('Home', 'Reset original view', 'home', 'home'), ('Back', 'Back to previous …"
      ],
      "application/vnd.jupyter.widget-view+json": {
       "version_major": 2,
       "version_minor": 0,
       "model_id": "28809bf9ed7c4c7abdeb0a02ee5de2a6"
      }
     },
     "metadata": {}
    },
    {
     "output_type": "execute_result",
     "data": {
      "text/plain": [
       "<matplotlib.colorbar.Colorbar at 0x7f14670418e0>"
      ]
     },
     "metadata": {},
     "execution_count": 49
    }
   ],
   "metadata": {}
  },
  {
   "cell_type": "code",
   "execution_count": 50,
   "source": [
    "g_rparaim['geometry'] = [geometry.Point(x,y) for x, y in zip(g_rparaim['X'], g_rparaim['Y'])]"
   ],
   "outputs": [],
   "metadata": {}
  },
  {
   "cell_type": "code",
   "execution_count": null,
   "source": [
    "# Block Reduction\n",
    "reducer_median = vd.BlockReduce(np.mean, spacing= 500)\n",
    "b_coords, b_CTCOR = reducer_median.filter(coordinates, g_rparaim.CTCOR)\n",
    "\n",
    "\n",
    "# Ploting the Reduced data\n",
    "plt.figure(figsize=(9,9))\n",
    "plt.scatter(b_coords[0],b_coords[1],\n",
    "            c    = b_CTCOR,\n",
    "            cmap = 'hsv',\n",
    "            s    = 2)\n",
    "plt.axis('scaled')\n",
    "plt.colorbar()"
   ],
   "outputs": [],
   "metadata": {}
  },
  {
   "cell_type": "code",
   "execution_count": 52,
   "source": [
    "reducer_mean = vd.BlockReduce(np.mean, spacing= 499)\n",
    "b_coords, b_CTCOR = reducer_mean.filter(coordinates, g_rparaim.CTCOR)\n",
    "\n",
    "plt.figure('Spacing 499',figsize=(9,9))\n",
    "plt.scatter(b_coords[0],b_coords[1],\n",
    "            c    = b_CTCOR,\n",
    "            cmap = 'hsv',\n",
    "            s    = 2)\n",
    "plt.axis('scaled')\n",
    "plt.colorbar()"
   ],
   "outputs": [
    {
     "output_type": "display_data",
     "data": {
      "text/plain": [
       "Canvas(toolbar=Toolbar(toolitems=[('Home', 'Reset original view', 'home', 'home'), ('Back', 'Back to previous …"
      ],
      "application/vnd.jupyter.widget-view+json": {
       "version_major": 2,
       "version_minor": 0,
       "model_id": "d694866148fd4cf5a3ddd243cbd3d146"
      }
     },
     "metadata": {}
    },
    {
     "output_type": "execute_result",
     "data": {
      "text/plain": [
       "<matplotlib.colorbar.Colorbar at 0x7f143ea15ac0>"
      ]
     },
     "metadata": {},
     "execution_count": 52
    }
   ],
   "metadata": {}
  },
  {
   "cell_type": "code",
   "execution_count": 25,
   "source": [
    "spline = vd.Spline()"
   ],
   "outputs": [],
   "metadata": {}
  },
  {
   "cell_type": "code",
   "execution_count": 26,
   "source": [
    "spline.fit(b_coords, b_CTCOR)"
   ],
   "outputs": [],
   "metadata": {}
  },
  {
   "cell_type": "code",
   "execution_count": null,
   "source": [
    "predicted = spline.predict(coordinates)"
   ],
   "outputs": [],
   "metadata": {}
  },
  {
   "cell_type": "code",
   "execution_count": null,
   "source": [
    "plt.figure(figsize=(8,8))\n",
    "plt.scatter(coordinates[0],coordinates[1],\n",
    "            c=predicted,\n",
    "            cmap='magma',\n",
    "            s=1)\n",
    "plt.axis('scaled')\n",
    "plt.colorbar()"
   ],
   "outputs": [],
   "metadata": {}
  },
  {
   "cell_type": "code",
   "execution_count": null,
   "source": [
    "residuals = g_rparaim.CTCOR - predicted"
   ],
   "outputs": [],
   "metadata": {}
  },
  {
   "cell_type": "code",
   "execution_count": null,
   "source": [
    "scale = vd.maxabs(residuals)\n",
    "\n",
    "plt.figure(figsize=(8,8))\n",
    "plt.scatter(coordinates[0],coordinates[1],\n",
    "            c=residuals,\n",
    "            cmap='RdBu_r',\n",
    "            s=2,\n",
    "            vmin=-scale,vmax=scale)\n",
    "plt.axis('scaled')\n",
    "plt.colorbar()"
   ],
   "outputs": [],
   "metadata": {}
  },
  {
   "cell_type": "code",
   "execution_count": null,
   "source": [
    "region = vd.get_region(coordinates)\n",
    "grid_coords = vd.grid_coordinates(region, spacing = 200,pixel_register=True)"
   ],
   "outputs": [],
   "metadata": {}
  },
  {
   "cell_type": "code",
   "execution_count": null,
   "source": [
    "region"
   ],
   "outputs": [],
   "metadata": {}
  },
  {
   "cell_type": "code",
   "execution_count": null,
   "source": [
    "grid_CTCOR = spline.predict(grid_coords)"
   ],
   "outputs": [],
   "metadata": {}
  },
  {
   "cell_type": "code",
   "execution_count": null,
   "source": [
    "plt.figure(figsize=(8,8))\n",
    "plt.scatter(grid_coords[0], grid_coords[1],\n",
    "            c=grid_CTCOR,\n",
    "            cmap='magma',\n",
    "            s=2)\n",
    "plt.axis('scaled')\n",
    "plt.colorbar()"
   ],
   "outputs": [],
   "metadata": {}
  },
  {
   "cell_type": "code",
   "execution_count": null,
   "source": [
    "grid = spline.grid(spacing=200, data_names=['CTCOR'])\n",
    "grid"
   ],
   "outputs": [],
   "metadata": {}
  },
  {
   "cell_type": "code",
   "execution_count": null,
   "source": [
    "'''\n",
    "vmin= grid.CTCOR.quantile([0.25,0.5,0.75])\n",
    "print(vmin)\n",
    "'''\n",
    "grid.CTCOR.plot(figsize=(12,12),\n",
    "               cmap='hsv',vmin=600, vmax=2000)\n",
    "plt.axis('scaled')"
   ],
   "outputs": [],
   "metadata": {}
  },
  {
   "cell_type": "code",
   "execution_count": null,
   "source": [
    "grid = vd.distance_mask(coordinates, maxdist=1000, grid=grid)\n",
    "grid\n",
    "\n",
    "grid.CTCOR.plot(figsize=(12,12),cmap='hsv')\n",
    "plt.axis('scaled')"
   ],
   "outputs": [],
   "metadata": {}
  },
  {
   "cell_type": "code",
   "execution_count": null,
   "source": [
    "chain = vd.Chain([\n",
    "    ('trend',  vd.Trend(degree=1)),\n",
    "    ('reduce', vd.BlockReduce(np.median, spacing=2000)),\n",
    "    ('spline', vd.Spline())\n",
    "])"
   ],
   "outputs": [],
   "metadata": {}
  },
  {
   "cell_type": "code",
   "execution_count": null,
   "source": [
    "g_rparaim.head()"
   ],
   "outputs": [],
   "metadata": {}
  },
  {
   "cell_type": "code",
   "execution_count": null,
   "source": [
    "chain.fit(coordinates, g_rparaim.KPERC)\n",
    "\n",
    "grid = chain.grid(spacing=400, data_names=['KPERC'])\n",
    "grid_mask = vd.distance_mask(coordinates, maxdist=2000, grid=grid)"
   ],
   "outputs": [],
   "metadata": {}
  },
  {
   "cell_type": "code",
   "execution_count": null,
   "source": [
    "grid_mask"
   ],
   "outputs": [],
   "metadata": {}
  },
  {
   "cell_type": "code",
   "execution_count": null,
   "source": [
    "grid_mask.KPERC.plot(figsize=(8,8), cmap='hsv',vmin=0)\n",
    "plt.axis('scaled')"
   ],
   "outputs": [],
   "metadata": {}
  },
  {
   "cell_type": "markdown",
   "source": [
    "Model Validation"
   ],
   "metadata": {}
  },
  {
   "cell_type": "code",
   "execution_count": null,
   "source": [
    "train, test = vd.train_test_split(coordinates, g_rparaim.CTCOR,\n",
    "                                 test_size = 0.1)"
   ],
   "outputs": [],
   "metadata": {}
  },
  {
   "cell_type": "code",
   "execution_count": null,
   "source": [
    "train"
   ],
   "outputs": [],
   "metadata": {}
  },
  {
   "cell_type": "code",
   "execution_count": null,
   "source": [
    "plt.figure(figsize=(7,7))\n",
    "plt.plot(train[0][0], train[0][1], '.b', markersize=4)\n",
    "plt.plot(test[0][0], test[0][1], '.r', markersize=4)\n",
    "plt.axis('scaled')"
   ],
   "outputs": [],
   "metadata": {}
  },
  {
   "cell_type": "code",
   "execution_count": null,
   "source": [
    "chain_CTCOR.fit(*train)\n",
    "# *train   ---> chain.fit(train[0], train[1])"
   ],
   "outputs": [],
   "metadata": {}
  },
  {
   "cell_type": "code",
   "execution_count": null,
   "source": [
    "chain_CTCOR.score(*test)"
   ],
   "outputs": [],
   "metadata": {}
  },
  {
   "cell_type": "code",
   "execution_count": null,
   "source": [
    "train, test = vd.train_test_split(coordinates, g_rparaim.CTCOR, test_size=0.1, spacing=1000)"
   ],
   "outputs": [],
   "metadata": {}
  },
  {
   "cell_type": "code",
   "execution_count": null,
   "source": [
    "plt.figure(figsize=(7,7))\n",
    "plt.plot(train[0][0], train[0][1], '.b', markersize=3)\n",
    "plt.plot(test[0][0], test[0][1], '.r', markersize=3)\n",
    "plt.axis('scaled')"
   ],
   "outputs": [],
   "metadata": {}
  },
  {
   "cell_type": "code",
   "execution_count": null,
   "source": [
    "chain_CTCOR.fit(*train)"
   ],
   "outputs": [],
   "metadata": {}
  },
  {
   "cell_type": "code",
   "execution_count": null,
   "source": [
    "chain_CTCOR.score(*test)"
   ],
   "outputs": [],
   "metadata": {}
  },
  {
   "cell_type": "code",
   "execution_count": null,
   "source": [
    "cv     = vd.BlockKFold(spacing=1000,\n",
    "                  n_splits=50,\n",
    "                  shuffle=True)"
   ],
   "outputs": [],
   "metadata": {}
  },
  {
   "cell_type": "code",
   "execution_count": null,
   "source": [
    "scores = vd.cross_val_score(chain_CTCOR,\n",
    "                            coordinates,\n",
    "                            g_rparaim.CTCOR,\n",
    "                            cv=cv)"
   ],
   "outputs": [],
   "metadata": {}
  },
  {
   "cell_type": "code",
   "execution_count": null,
   "source": [
    "scores"
   ],
   "outputs": [],
   "metadata": {}
  },
  {
   "cell_type": "code",
   "execution_count": null,
   "source": [
    "plt.figure()\n",
    "plt.hist(scores, bins ='auto')"
   ],
   "outputs": [],
   "metadata": {}
  },
  {
   "cell_type": "code",
   "execution_count": null,
   "source": [
    "geof = CTCOR_grid.to_dataframe()\n",
    "geof.reset_index(inplace=True)"
   ],
   "outputs": [],
   "metadata": {}
  },
  {
   "cell_type": "code",
   "execution_count": null,
   "source": [
    "geof"
   ],
   "outputs": [],
   "metadata": {}
  }
 ],
 "metadata": {
  "interpreter": {
   "hash": "2bc076d9378ac5ac660ba4f6a46900d2ea3732140aaa213526ceb6851acbc3f5"
  },
  "kernelspec": {
   "name": "python3",
   "display_name": "Python 3.8.2 64-bit ('mappingBot': conda)"
  },
  "language_info": {
   "name": "python",
   "version": "3.8.2",
   "mimetype": "text/x-python",
   "codemirror_mode": {
    "name": "ipython",
    "version": 3
   },
   "pygments_lexer": "ipython3",
   "nbconvert_exporter": "python",
   "file_extension": ".py"
  },
  "orig_nbformat": 4
 },
 "nbformat": 4,
 "nbformat_minor": 2
}