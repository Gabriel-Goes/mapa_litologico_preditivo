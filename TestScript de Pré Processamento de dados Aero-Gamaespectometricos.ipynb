{
 "cells": [
  {
   "cell_type": "code",
   "execution_count": 1,
   "metadata": {},
   "outputs": [],
   "source": [
    "import matplotlib.pyplot as plt \n",
    "import seaborn as sns\n",
    "\n",
    "from scripts.interpolaçao import interpolar\n",
    "from scripts.get_region import get_region\n",
    "#from sources.filtros import filtro\n",
    "\n",
    "plt.rcParams['figure.dpi'] = 120\n",
    "%matplotlib widget              "
   ]
  },
  {
   "cell_type": "code",
   "execution_count": 3,
   "metadata": {},
   "outputs": [
    {
     "name": "stdout",
     "output_type": "stream",
     "text": [
      "# -- Lendo dados aerogeofisicos\n",
      "\n",
      "TRACK ERROR !\n"
     ]
    },
    {
     "name": "stderr",
     "output_type": "stream",
     "text": [
      "/home/ggrl/anaconda3/envs/geologist_bot/lib/python3.8/site-packages/geopandas/geodataframe.py:1322: SettingWithCopyWarning: \n",
      "A value is trying to be set on a copy of a slice from a DataFrame.\n",
      "Try using .loc[row_indexer,col_indexer] = value instead\n",
      "\n",
      "See the caveats in the documentation: https://pandas.pydata.org/pandas-docs/stable/user_guide/indexing.html#returning-a-view-versus-a-copy\n",
      "  super(GeoDataFrame, self).__setitem__(key, value)\n"
     ]
    },
    {
     "name": "stdout",
     "output_type": "stream",
     "text": [
      "TRACK ERROR !!\n",
      "\n",
      "# -- Selecionando Folhas Cartograficas\n",
      "# --- Iniciando seleção de área de estudo\n",
      "EPSG:32723\n",
      "\n",
      "1 folha cartográfica selecionada\n",
      "Listando atributos dos dados geofisicos\n"
     ]
    },
    {
     "name": "stderr",
     "output_type": "stream",
     "text": [
      "100%|██████████| 12/12 [00:00<00:00, 364722.09it/s]"
     ]
    },
    {
     "name": "stdout",
     "output_type": "stream",
     "text": [
      "# --- # Listagem de dados do aerolevantamento:  \n",
      "Lista de atributos geofísicos = ['KPERC', 'eU', 'eTH', 'UTHRAZAO', 'UKRAZAO', 'MDT', 'THKRAZAO', 'CTCOR']\n",
      "lista de atributos geograficos = ['LATITUDE', 'LONGITUDE']\n",
      "lista de atributos projetados = ['X', 'Y']\n"
     ]
    },
    {
     "name": "stderr",
     "output_type": "stream",
     "text": [
      "\n"
     ]
    },
    {
     "name": "stdout",
     "output_type": "stream",
     "text": [
      "# -- Contruindo dicionario de metadados\n",
      "\n",
      "# --- Início da iteração entre as folhas cartográficas #\n"
     ]
    },
    {
     "name": "stderr",
     "output_type": "stream",
     "text": [
      "0it [00:00, ?it/s]"
     ]
    },
    {
     "name": "stdout",
     "output_type": "stream",
     "text": [
      "SF23_Y_A_III_4 geometry       POLYGON ((319661.7072951732 7538458.080604897,...\n",
      "region                            (-46.75, -46.5, -22.5, -22.25)\n",
      "region_proj    (319661.7072951732, 345704.81387977325, 751077...\n",
      "Name: SF23_Y_A_III_4, dtype: object\n",
      "# Folha de código: SF23_Y_A_III_4\n",
      " Atualizando dados brutos em dic_cartas['raw_data']\n",
      " com 18824 pontos de amostragem\n",
      "epsg:32723\n"
     ]
    },
    {
     "name": "stderr",
     "output_type": "stream",
     "text": [
      "1it [00:16, 16.16s/it]"
     ]
    },
    {
     "name": "stdout",
     "output_type": "stream",
     "text": [
      " Atualizando dados geologicos em dic_cartas['litologia']\n",
      " com 31 poligonos descritos por                         27 atributos geologicos \n"
     ]
    },
    {
     "name": "stderr",
     "output_type": "stream",
     "text": [
      "\n"
     ]
    }
   ],
   "source": [
    "dic_cartas, dic_raw_meta = get_region('50k','SF23_Y_A_III_4','gama_line_1105','litologia_1kk')"
   ]
  },
  {
   "cell_type": "code",
   "execution_count": 4,
   "metadata": {},
   "outputs": [
    {
     "data": {
      "text/plain": [
       "dict_keys(['Metadata', 'Lista_at_geof', 'Lista_at_geog', 'Lista_at_proj', 'Percentiles', 'Malha_cartografica'])"
      ]
     },
     "execution_count": 4,
     "metadata": {},
     "output_type": "execute_result"
    }
   ],
   "source": [
    "dic_raw_meta.keys()"
   ]
  },
  {
   "cell_type": "code",
   "execution_count": 5,
   "metadata": {},
   "outputs": [
    {
     "data": {
      "text/html": [
       "<div>\n",
       "<style scoped>\n",
       "    .dataframe tbody tr th:only-of-type {\n",
       "        vertical-align: middle;\n",
       "    }\n",
       "\n",
       "    .dataframe tbody tr th {\n",
       "        vertical-align: top;\n",
       "    }\n",
       "\n",
       "    .dataframe thead th {\n",
       "        text-align: right;\n",
       "    }\n",
       "</style>\n",
       "<table border=\"1\" class=\"dataframe\">\n",
       "  <thead>\n",
       "    <tr style=\"text-align: right;\">\n",
       "      <th></th>\n",
       "      <th>geometry</th>\n",
       "      <th>region</th>\n",
       "      <th>region_proj</th>\n",
       "    </tr>\n",
       "    <tr>\n",
       "      <th>id_folha</th>\n",
       "      <th></th>\n",
       "      <th></th>\n",
       "      <th></th>\n",
       "    </tr>\n",
       "  </thead>\n",
       "  <tbody>\n",
       "    <tr>\n",
       "      <th>SF23_Y_A_III_4</th>\n",
       "      <td>POLYGON ((319661.707 7538458.081, 345428.900 7...</td>\n",
       "      <td>(-46.75, -46.5, -22.5, -22.25)</td>\n",
       "      <td>(319661.7072951732, 345704.81387977325, 751077...</td>\n",
       "    </tr>\n",
       "  </tbody>\n",
       "</table>\n",
       "</div>"
      ],
      "text/plain": [
       "                                                         geometry  \\\n",
       "id_folha                                                            \n",
       "SF23_Y_A_III_4  POLYGON ((319661.707 7538458.081, 345428.900 7...   \n",
       "\n",
       "                                        region  \\\n",
       "id_folha                                         \n",
       "SF23_Y_A_III_4  (-46.75, -46.5, -22.5, -22.25)   \n",
       "\n",
       "                                                      region_proj  \n",
       "id_folha                                                           \n",
       "SF23_Y_A_III_4  (319661.7072951732, 345704.81387977325, 751077...  "
      ]
     },
     "execution_count": 5,
     "metadata": {},
     "output_type": "execute_result"
    }
   ],
   "source": [
    "dic_raw_meta['Malha_cartografica']"
   ]
  },
  {
   "cell_type": "code",
   "execution_count": 6,
   "metadata": {},
   "outputs": [
    {
     "data": {
      "text/plain": [
       "'SF23_Y_A_III_4'"
      ]
     },
     "execution_count": 6,
     "metadata": {},
     "output_type": "execute_result"
    }
   ],
   "source": [
    "dic_raw_meta['Malha_cartografica'].index[0]"
   ]
  },
  {
   "cell_type": "code",
   "execution_count": 21,
   "metadata": {},
   "outputs": [
    {
     "name": "stdout",
     "output_type": "stream",
     "text": [
      "EPSG:32723\n"
     ]
    },
    {
     "data": {
      "application/vnd.jupyter.widget-view+json": {
       "model_id": "50881a2a997c4a4791c2495f8e62768b",
       "version_major": 2,
       "version_minor": 0
      },
      "text/plain": [
       "Canvas(toolbar=Toolbar(toolitems=[('Home', 'Reset original view', 'home', 'home'), ('Back', 'Back to previous …"
      ]
     },
     "metadata": {},
     "output_type": "display_data"
    },
    {
     "data": {
      "text/plain": [
       "<AxesSubplot:>"
      ]
     },
     "execution_count": 21,
     "metadata": {},
     "output_type": "execute_result"
    }
   ],
   "source": [
    "print(dic_raw_meta['Malha_cartografica'].crs)\n",
    "ax = dic_raw_meta['Malha_cartografica'].boundary.plot(color='Black')\n",
    "dic_cartas['litologia']['SF23_Y_A_III_4'].plot('SIGLA',ax=ax,\n",
    "                legend=True,\n",
    "                legend_kwds={'loc': 'center left', 'bbox_to_anchor':(1,0.5)})"
   ]
  },
  {
   "cell_type": "code",
   "execution_count": 22,
   "metadata": {},
   "outputs": [
    {
     "name": "stdout",
     "output_type": "stream",
     "text": [
      "['KPERC', 'eU', 'eTH', 'UTHRAZAO', 'UKRAZAO', 'MDT', 'THKRAZAO', 'CTCOR']\n"
     ]
    },
    {
     "data": {
      "text/html": [
       "<div>\n",
       "<style scoped>\n",
       "    .dataframe tbody tr th:only-of-type {\n",
       "        vertical-align: middle;\n",
       "    }\n",
       "\n",
       "    .dataframe tbody tr th {\n",
       "        vertical-align: top;\n",
       "    }\n",
       "\n",
       "    .dataframe thead th {\n",
       "        text-align: right;\n",
       "    }\n",
       "</style>\n",
       "<table border=\"1\" class=\"dataframe\">\n",
       "  <thead>\n",
       "    <tr style=\"text-align: right;\">\n",
       "      <th></th>\n",
       "      <th>dType</th>\n",
       "      <th>Valores Faltantes</th>\n",
       "      <th>Valores Únicos</th>\n",
       "      <th>Valoes Negativos</th>\n",
       "      <th>Amostragem</th>\n",
       "    </tr>\n",
       "  </thead>\n",
       "  <tbody>\n",
       "    <tr>\n",
       "      <th>KPERC</th>\n",
       "      <td>float64</td>\n",
       "      <td>0</td>\n",
       "      <td>6955</td>\n",
       "      <td>47711</td>\n",
       "      <td>1169659</td>\n",
       "    </tr>\n",
       "    <tr>\n",
       "      <th>eU</th>\n",
       "      <td>float64</td>\n",
       "      <td>0</td>\n",
       "      <td>8168</td>\n",
       "      <td>55720</td>\n",
       "      <td>1169659</td>\n",
       "    </tr>\n",
       "    <tr>\n",
       "      <th>eTH</th>\n",
       "      <td>float64</td>\n",
       "      <td>0</td>\n",
       "      <td>61336</td>\n",
       "      <td>35862</td>\n",
       "      <td>1169659</td>\n",
       "    </tr>\n",
       "    <tr>\n",
       "      <th>UTHRAZAO</th>\n",
       "      <td>float64</td>\n",
       "      <td>0</td>\n",
       "      <td>793</td>\n",
       "      <td>0</td>\n",
       "      <td>1169659</td>\n",
       "    </tr>\n",
       "    <tr>\n",
       "      <th>X</th>\n",
       "      <td>float64</td>\n",
       "      <td>0</td>\n",
       "      <td>888292</td>\n",
       "      <td>0</td>\n",
       "      <td>1169659</td>\n",
       "    </tr>\n",
       "    <tr>\n",
       "      <th>Y</th>\n",
       "      <td>float64</td>\n",
       "      <td>0</td>\n",
       "      <td>1134332</td>\n",
       "      <td>0</td>\n",
       "      <td>1169659</td>\n",
       "    </tr>\n",
       "    <tr>\n",
       "      <th>UKRAZAO</th>\n",
       "      <td>float64</td>\n",
       "      <td>0</td>\n",
       "      <td>18813</td>\n",
       "      <td>0</td>\n",
       "      <td>1169659</td>\n",
       "    </tr>\n",
       "    <tr>\n",
       "      <th>MDT</th>\n",
       "      <td>float64</td>\n",
       "      <td>0</td>\n",
       "      <td>165213</td>\n",
       "      <td>72</td>\n",
       "      <td>1169659</td>\n",
       "    </tr>\n",
       "    <tr>\n",
       "      <th>THKRAZAO</th>\n",
       "      <td>float64</td>\n",
       "      <td>0</td>\n",
       "      <td>115015</td>\n",
       "      <td>0</td>\n",
       "      <td>1169659</td>\n",
       "    </tr>\n",
       "    <tr>\n",
       "      <th>CTCOR</th>\n",
       "      <td>float64</td>\n",
       "      <td>0</td>\n",
       "      <td>56613</td>\n",
       "      <td>12033</td>\n",
       "      <td>1169659</td>\n",
       "    </tr>\n",
       "    <tr>\n",
       "      <th>LATITUDE</th>\n",
       "      <td>float64</td>\n",
       "      <td>0</td>\n",
       "      <td>851263</td>\n",
       "      <td>1169659</td>\n",
       "      <td>1169659</td>\n",
       "    </tr>\n",
       "    <tr>\n",
       "      <th>LONGITUDE</th>\n",
       "      <td>float64</td>\n",
       "      <td>0</td>\n",
       "      <td>728161</td>\n",
       "      <td>1169659</td>\n",
       "      <td>1169659</td>\n",
       "    </tr>\n",
       "  </tbody>\n",
       "</table>\n",
       "</div>"
      ],
      "text/plain": [
       "             dType  Valores Faltantes  Valores Únicos  Valoes Negativos  \\\n",
       "KPERC      float64                  0            6955             47711   \n",
       "eU         float64                  0            8168             55720   \n",
       "eTH        float64                  0           61336             35862   \n",
       "UTHRAZAO   float64                  0             793                 0   \n",
       "X          float64                  0          888292                 0   \n",
       "Y          float64                  0         1134332                 0   \n",
       "UKRAZAO    float64                  0           18813                 0   \n",
       "MDT        float64                  0          165213                72   \n",
       "THKRAZAO   float64                  0          115015                 0   \n",
       "CTCOR      float64                  0           56613             12033   \n",
       "LATITUDE   float64                  0          851263           1169659   \n",
       "LONGITUDE  float64                  0          728161           1169659   \n",
       "\n",
       "           Amostragem  \n",
       "KPERC         1169659  \n",
       "eU            1169659  \n",
       "eTH           1169659  \n",
       "UTHRAZAO      1169659  \n",
       "X             1169659  \n",
       "Y             1169659  \n",
       "UKRAZAO       1169659  \n",
       "MDT           1169659  \n",
       "THKRAZAO      1169659  \n",
       "CTCOR         1169659  \n",
       "LATITUDE      1169659  \n",
       "LONGITUDE     1169659  "
      ]
     },
     "execution_count": 22,
     "metadata": {},
     "output_type": "execute_result"
    }
   ],
   "source": [
    "print(dic_raw_meta['Lista_at_geof'])\n",
    "dic_raw_meta['Metadata']"
   ]
  },
  {
   "cell_type": "code",
   "execution_count": 23,
   "metadata": {},
   "outputs": [
    {
     "data": {
      "text/html": [
       "<div>\n",
       "<style scoped>\n",
       "    .dataframe tbody tr th:only-of-type {\n",
       "        vertical-align: middle;\n",
       "    }\n",
       "\n",
       "    .dataframe tbody tr th {\n",
       "        vertical-align: top;\n",
       "    }\n",
       "\n",
       "    .dataframe thead th {\n",
       "        text-align: right;\n",
       "    }\n",
       "</style>\n",
       "<table border=\"1\" class=\"dataframe\">\n",
       "  <thead>\n",
       "    <tr style=\"text-align: right;\">\n",
       "      <th></th>\n",
       "      <th>count</th>\n",
       "      <th>mean</th>\n",
       "      <th>std</th>\n",
       "      <th>min</th>\n",
       "      <th>0.1%</th>\n",
       "      <th>10%</th>\n",
       "      <th>25%</th>\n",
       "      <th>50%</th>\n",
       "      <th>75%</th>\n",
       "      <th>99.5%</th>\n",
       "      <th>max</th>\n",
       "    </tr>\n",
       "  </thead>\n",
       "  <tbody>\n",
       "    <tr>\n",
       "      <th>KPERC</th>\n",
       "      <td>1169659.0</td>\n",
       "      <td>0.959790</td>\n",
       "      <td>0.854709</td>\n",
       "      <td>-0.500</td>\n",
       "      <td>-0.355</td>\n",
       "      <td>0.085</td>\n",
       "      <td>0.382</td>\n",
       "      <td>0.757</td>\n",
       "      <td>1.306</td>\n",
       "      <td>4.53000</td>\n",
       "      <td>14.577</td>\n",
       "    </tr>\n",
       "    <tr>\n",
       "      <th>eU</th>\n",
       "      <td>1169659.0</td>\n",
       "      <td>1.736779</td>\n",
       "      <td>1.092923</td>\n",
       "      <td>-0.500</td>\n",
       "      <td>-0.381</td>\n",
       "      <td>0.325</td>\n",
       "      <td>1.008</td>\n",
       "      <td>1.673</td>\n",
       "      <td>2.373</td>\n",
       "      <td>5.38300</td>\n",
       "      <td>23.934</td>\n",
       "    </tr>\n",
       "    <tr>\n",
       "      <th>eTH</th>\n",
       "      <td>1169659.0</td>\n",
       "      <td>19.289047</td>\n",
       "      <td>11.065808</td>\n",
       "      <td>-4.048</td>\n",
       "      <td>-0.722</td>\n",
       "      <td>6.860</td>\n",
       "      <td>12.290</td>\n",
       "      <td>18.382</td>\n",
       "      <td>25.207</td>\n",
       "      <td>59.15600</td>\n",
       "      <td>241.474</td>\n",
       "    </tr>\n",
       "    <tr>\n",
       "      <th>UTHRAZAO</th>\n",
       "      <td>1169659.0</td>\n",
       "      <td>0.097126</td>\n",
       "      <td>0.042352</td>\n",
       "      <td>0.000</td>\n",
       "      <td>0.000</td>\n",
       "      <td>0.056</td>\n",
       "      <td>0.073</td>\n",
       "      <td>0.090</td>\n",
       "      <td>0.111</td>\n",
       "      <td>0.27900</td>\n",
       "      <td>2.669</td>\n",
       "    </tr>\n",
       "    <tr>\n",
       "      <th>UKRAZAO</th>\n",
       "      <td>1169659.0</td>\n",
       "      <td>2.716171</td>\n",
       "      <td>2.416952</td>\n",
       "      <td>0.042</td>\n",
       "      <td>0.181</td>\n",
       "      <td>0.819</td>\n",
       "      <td>1.300</td>\n",
       "      <td>1.911</td>\n",
       "      <td>3.302</td>\n",
       "      <td>14.90200</td>\n",
       "      <td>59.007</td>\n",
       "    </tr>\n",
       "    <tr>\n",
       "      <th>MDT</th>\n",
       "      <td>1169659.0</td>\n",
       "      <td>872.675007</td>\n",
       "      <td>408.562445</td>\n",
       "      <td>-4.100</td>\n",
       "      <td>0.000</td>\n",
       "      <td>395.280</td>\n",
       "      <td>641.520</td>\n",
       "      <td>887.680</td>\n",
       "      <td>1113.550</td>\n",
       "      <td>1933.61130</td>\n",
       "      <td>2751.590</td>\n",
       "    </tr>\n",
       "    <tr>\n",
       "      <th>THKRAZAO</th>\n",
       "      <td>1169659.0</td>\n",
       "      <td>29.505581</td>\n",
       "      <td>25.788561</td>\n",
       "      <td>0.798</td>\n",
       "      <td>3.123</td>\n",
       "      <td>10.004</td>\n",
       "      <td>14.793</td>\n",
       "      <td>20.741</td>\n",
       "      <td>34.791</td>\n",
       "      <td>162.71671</td>\n",
       "      <td>525.859</td>\n",
       "    </tr>\n",
       "    <tr>\n",
       "      <th>CTCOR</th>\n",
       "      <td>1169659.0</td>\n",
       "      <td>14.176621</td>\n",
       "      <td>10.738090</td>\n",
       "      <td>-11.575</td>\n",
       "      <td>-1.641</td>\n",
       "      <td>3.814</td>\n",
       "      <td>6.608</td>\n",
       "      <td>11.263</td>\n",
       "      <td>19.699</td>\n",
       "      <td>56.54200</td>\n",
       "      <td>246.600</td>\n",
       "    </tr>\n",
       "  </tbody>\n",
       "</table>\n",
       "</div>"
      ],
      "text/plain": [
       "              count        mean         std     min   0.1%      10%      25%  \\\n",
       "KPERC     1169659.0    0.959790    0.854709  -0.500 -0.355    0.085    0.382   \n",
       "eU        1169659.0    1.736779    1.092923  -0.500 -0.381    0.325    1.008   \n",
       "eTH       1169659.0   19.289047   11.065808  -4.048 -0.722    6.860   12.290   \n",
       "UTHRAZAO  1169659.0    0.097126    0.042352   0.000  0.000    0.056    0.073   \n",
       "UKRAZAO   1169659.0    2.716171    2.416952   0.042  0.181    0.819    1.300   \n",
       "MDT       1169659.0  872.675007  408.562445  -4.100  0.000  395.280  641.520   \n",
       "THKRAZAO  1169659.0   29.505581   25.788561   0.798  3.123   10.004   14.793   \n",
       "CTCOR     1169659.0   14.176621   10.738090 -11.575 -1.641    3.814    6.608   \n",
       "\n",
       "              50%       75%       99.5%       max  \n",
       "KPERC       0.757     1.306     4.53000    14.577  \n",
       "eU          1.673     2.373     5.38300    23.934  \n",
       "eTH        18.382    25.207    59.15600   241.474  \n",
       "UTHRAZAO    0.090     0.111     0.27900     2.669  \n",
       "UKRAZAO     1.911     3.302    14.90200    59.007  \n",
       "MDT       887.680  1113.550  1933.61130  2751.590  \n",
       "THKRAZAO   20.741    34.791   162.71671   525.859  \n",
       "CTCOR      11.263    19.699    56.54200   246.600  "
      ]
     },
     "execution_count": 23,
     "metadata": {},
     "output_type": "execute_result"
    }
   ],
   "source": [
    "dic_raw_meta['Percentiles'].T"
   ]
  },
  {
   "cell_type": "code",
   "execution_count": 24,
   "metadata": {},
   "outputs": [
    {
     "name": "stdout",
     "output_type": "stream",
     "text": [
      "# Inicio dos processos de interpolação pelo método cúbico\n"
     ]
    },
    {
     "name": "stderr",
     "output_type": "stream",
     "text": [
      "0it [00:00, ?it/s]"
     ]
    },
    {
     "name": "stdout",
     "output_type": "stream",
     "text": [
      "# Folha de código: SF23_Y_A_III_4\n",
      " Retirando dados brutos em dic_cartas['raw_data']\n",
      " com 18824 pontos de contagens radiométricas coletados com linhas de voo de 500 metros\n"
     ]
    },
    {
     "name": "stderr",
     "output_type": "stream",
     "text": [
      "1it [00:02,  2.23s/it]"
     ]
    },
    {
     "name": "stdout",
     "output_type": "stream",
     "text": [
      "__________________________________________\n",
      " \n",
      "Dicionário de cartas disponível\n"
     ]
    },
    {
     "name": "stderr",
     "output_type": "stream",
     "text": [
      "\n"
     ]
    }
   ],
   "source": [
    "#Levantamento 1105\n",
    "dic_cartas,dic_raw_meta = interpolar(gama=True,dic_cartas=dic_cartas,dic_raw_meta=dic_raw_meta)"
   ]
  },
  {
   "cell_type": "markdown",
   "metadata": {},
   "source": [
    "## Descriçao estatistica dos dados brutos"
   ]
  },
  {
   "cell_type": "code",
   "execution_count": 25,
   "metadata": {},
   "outputs": [
    {
     "data": {
      "text/plain": [
       "dict_keys(['region', 'region_proj', 'raw_data', 'litologia', 'cubic'])"
      ]
     },
     "execution_count": 25,
     "metadata": {},
     "output_type": "execute_result"
    }
   ],
   "source": [
    "dic_cartas.keys()"
   ]
  },
  {
   "cell_type": "markdown",
   "metadata": {},
   "source": [
    "## DESCRIÇÃO DOS DADOS DA FOLHA SF23_Y_A_III_4"
   ]
  },
  {
   "cell_type": "markdown",
   "metadata": {},
   "source": [
    "### DICIONARIO DE DADOS DISPONIVEIS\n",
    "    - Regioes geograficas (W,E, S, N)\n",
    "    - Regioes projetadas (W,E, S, N)\n",
    "    - Dados Brutos\n",
    "    - Dados Interpolados\n",
    "    - Scores da Validacao Crusada para os dados interpolados\n",
    "    - Dataframe com classes alvos (Unidades Litologicas)"
   ]
  },
  {
   "cell_type": "code",
   "execution_count": 26,
   "metadata": {},
   "outputs": [
    {
     "name": "stdout",
     "output_type": "stream",
     "text": [
      "region\n",
      "region_proj\n",
      "raw_data\n",
      "litologia\n",
      "cubic\n"
     ]
    }
   ],
   "source": [
    "for i in dic_cartas:\n",
    "    print(i)"
   ]
  },
  {
   "cell_type": "code",
   "execution_count": 27,
   "metadata": {},
   "outputs": [
    {
     "name": "stdout",
     "output_type": "stream",
     "text": [
      "#  folhas cartograficas: 1\n",
      "ID folhas cartograficas: ['SF23_Y_A_III_4']\n"
     ]
    }
   ],
   "source": [
    "print(f\"#  folhas cartograficas: {len(dic_cartas['region'])}\")\n",
    "print(f\"ID folhas cartograficas: {list(dic_cartas['region'].keys())}\")"
   ]
  },
  {
   "cell_type": "code",
   "execution_count": 28,
   "metadata": {
    "scrolled": true
   },
   "outputs": [
    {
     "name": "stdout",
     "output_type": "stream",
     "text": [
      "Dados interpolados pleo modelo de cubico: ['X', 'Y', 'MDT', 'CTCOR', 'KPERC', 'eU', 'eTH', 'UTHRAZAO', 'UKRAZAO', 'THKRAZAO']\n"
     ]
    }
   ],
   "source": [
    "print(f\"Dados interpolados pleo modelo de cubico: {list(dic_cartas['cubic']['SF23_Y_A_III_4'].keys())}\")"
   ]
  },
  {
   "cell_type": "markdown",
   "metadata": {},
   "source": [
    "### CRIANDO DICIONARIO DE TITULOS PARA OS PLOTS"
   ]
  },
  {
   "cell_type": "code",
   "execution_count": 29,
   "metadata": {},
   "outputs": [
    {
     "name": "stdout",
     "output_type": "stream",
     "text": [
      "Lista de atributos: ['KPERC', 'eU', 'eTH', 'UTHRAZAO', 'UKRAZAO', 'MDT', 'THKRAZAO', 'CTCOR']\n"
     ]
    },
    {
     "data": {
      "text/plain": [
       "{'KPERC': 'K (%)',\n",
       " 'eU': 'U (ppm)',\n",
       " 'eTH': 'Th (ppm)',\n",
       " 'UTHRAZAO': 'U (ppm) / Th (ppm)',\n",
       " 'UKRAZAO': 'U (ppm) / K (%)',\n",
       " 'MDT': 'MDT (m)',\n",
       " 'THKRAZAO': 'Th (ppm) / K (%)',\n",
       " 'CTCOR': 'Contagem Total (μR/h)'}"
      ]
     },
     "execution_count": 29,
     "metadata": {},
     "output_type": "execute_result"
    }
   ],
   "source": [
    "list_canal = dic_raw_meta['Lista_at_geof']\n",
    "print(f\"Lista de atributos: {list_canal}\")\n",
    "\n",
    "# LISTA DE TITULOS \n",
    "titles =   [\n",
    "            'K (%)',\n",
    "            'U (ppm)',\n",
    "            'Th (ppm)',\n",
    "            'U (ppm) / Th (ppm)',\n",
    "            'U (ppm) / K (%)',\n",
    "            'MDT (m)',\n",
    "            'Th (ppm) / K (%)',\n",
    "            'Contagem Total (μR/h)'\n",
    "            ]\n",
    "\n",
    "\n",
    "# DICIONARIO DE TITULOS\n",
    "dic_titles = {}\n",
    "for f, t in zip(list_canal, titles):\n",
    "    dic_titles[f] = t\n",
    "\n",
    "dic_titles"
   ]
  },
  {
   "cell_type": "markdown",
   "metadata": {},
   "source": [
    "#### DISTRIBUICAO GEOSTATISTICA DOS DADOS BRUTOS"
   ]
  },
  {
   "cell_type": "code",
   "execution_count": 30,
   "metadata": {},
   "outputs": [
    {
     "data": {
      "text/html": [
       "<div>\n",
       "<style scoped>\n",
       "    .dataframe tbody tr th:only-of-type {\n",
       "        vertical-align: middle;\n",
       "    }\n",
       "\n",
       "    .dataframe tbody tr th {\n",
       "        vertical-align: top;\n",
       "    }\n",
       "\n",
       "    .dataframe thead th {\n",
       "        text-align: right;\n",
       "    }\n",
       "</style>\n",
       "<table border=\"1\" class=\"dataframe\">\n",
       "  <thead>\n",
       "    <tr style=\"text-align: right;\">\n",
       "      <th></th>\n",
       "      <th>count</th>\n",
       "      <th>mean</th>\n",
       "      <th>std</th>\n",
       "      <th>min</th>\n",
       "      <th>0.1%</th>\n",
       "      <th>10%</th>\n",
       "      <th>25%</th>\n",
       "      <th>50%</th>\n",
       "      <th>75%</th>\n",
       "      <th>99.5%</th>\n",
       "      <th>max</th>\n",
       "    </tr>\n",
       "  </thead>\n",
       "  <tbody>\n",
       "    <tr>\n",
       "      <th>KPERC</th>\n",
       "      <td>1169659.0</td>\n",
       "      <td>0.959790</td>\n",
       "      <td>0.854709</td>\n",
       "      <td>-0.500</td>\n",
       "      <td>-0.355</td>\n",
       "      <td>0.085</td>\n",
       "      <td>0.382</td>\n",
       "      <td>0.757</td>\n",
       "      <td>1.306</td>\n",
       "      <td>4.53000</td>\n",
       "      <td>14.577</td>\n",
       "    </tr>\n",
       "    <tr>\n",
       "      <th>eU</th>\n",
       "      <td>1169659.0</td>\n",
       "      <td>1.736779</td>\n",
       "      <td>1.092923</td>\n",
       "      <td>-0.500</td>\n",
       "      <td>-0.381</td>\n",
       "      <td>0.325</td>\n",
       "      <td>1.008</td>\n",
       "      <td>1.673</td>\n",
       "      <td>2.373</td>\n",
       "      <td>5.38300</td>\n",
       "      <td>23.934</td>\n",
       "    </tr>\n",
       "    <tr>\n",
       "      <th>eTH</th>\n",
       "      <td>1169659.0</td>\n",
       "      <td>19.289047</td>\n",
       "      <td>11.065808</td>\n",
       "      <td>-4.048</td>\n",
       "      <td>-0.722</td>\n",
       "      <td>6.860</td>\n",
       "      <td>12.290</td>\n",
       "      <td>18.382</td>\n",
       "      <td>25.207</td>\n",
       "      <td>59.15600</td>\n",
       "      <td>241.474</td>\n",
       "    </tr>\n",
       "    <tr>\n",
       "      <th>UTHRAZAO</th>\n",
       "      <td>1169659.0</td>\n",
       "      <td>0.097126</td>\n",
       "      <td>0.042352</td>\n",
       "      <td>0.000</td>\n",
       "      <td>0.000</td>\n",
       "      <td>0.056</td>\n",
       "      <td>0.073</td>\n",
       "      <td>0.090</td>\n",
       "      <td>0.111</td>\n",
       "      <td>0.27900</td>\n",
       "      <td>2.669</td>\n",
       "    </tr>\n",
       "    <tr>\n",
       "      <th>UKRAZAO</th>\n",
       "      <td>1169659.0</td>\n",
       "      <td>2.716171</td>\n",
       "      <td>2.416952</td>\n",
       "      <td>0.042</td>\n",
       "      <td>0.181</td>\n",
       "      <td>0.819</td>\n",
       "      <td>1.300</td>\n",
       "      <td>1.911</td>\n",
       "      <td>3.302</td>\n",
       "      <td>14.90200</td>\n",
       "      <td>59.007</td>\n",
       "    </tr>\n",
       "    <tr>\n",
       "      <th>MDT</th>\n",
       "      <td>1169659.0</td>\n",
       "      <td>872.675007</td>\n",
       "      <td>408.562445</td>\n",
       "      <td>-4.100</td>\n",
       "      <td>0.000</td>\n",
       "      <td>395.280</td>\n",
       "      <td>641.520</td>\n",
       "      <td>887.680</td>\n",
       "      <td>1113.550</td>\n",
       "      <td>1933.61130</td>\n",
       "      <td>2751.590</td>\n",
       "    </tr>\n",
       "    <tr>\n",
       "      <th>THKRAZAO</th>\n",
       "      <td>1169659.0</td>\n",
       "      <td>29.505581</td>\n",
       "      <td>25.788561</td>\n",
       "      <td>0.798</td>\n",
       "      <td>3.123</td>\n",
       "      <td>10.004</td>\n",
       "      <td>14.793</td>\n",
       "      <td>20.741</td>\n",
       "      <td>34.791</td>\n",
       "      <td>162.71671</td>\n",
       "      <td>525.859</td>\n",
       "    </tr>\n",
       "    <tr>\n",
       "      <th>CTCOR</th>\n",
       "      <td>1169659.0</td>\n",
       "      <td>14.176621</td>\n",
       "      <td>10.738090</td>\n",
       "      <td>-11.575</td>\n",
       "      <td>-1.641</td>\n",
       "      <td>3.814</td>\n",
       "      <td>6.608</td>\n",
       "      <td>11.263</td>\n",
       "      <td>19.699</td>\n",
       "      <td>56.54200</td>\n",
       "      <td>246.600</td>\n",
       "    </tr>\n",
       "  </tbody>\n",
       "</table>\n",
       "</div>"
      ],
      "text/plain": [
       "              count        mean         std     min   0.1%      10%      25%  \\\n",
       "KPERC     1169659.0    0.959790    0.854709  -0.500 -0.355    0.085    0.382   \n",
       "eU        1169659.0    1.736779    1.092923  -0.500 -0.381    0.325    1.008   \n",
       "eTH       1169659.0   19.289047   11.065808  -4.048 -0.722    6.860   12.290   \n",
       "UTHRAZAO  1169659.0    0.097126    0.042352   0.000  0.000    0.056    0.073   \n",
       "UKRAZAO   1169659.0    2.716171    2.416952   0.042  0.181    0.819    1.300   \n",
       "MDT       1169659.0  872.675007  408.562445  -4.100  0.000  395.280  641.520   \n",
       "THKRAZAO  1169659.0   29.505581   25.788561   0.798  3.123   10.004   14.793   \n",
       "CTCOR     1169659.0   14.176621   10.738090 -11.575 -1.641    3.814    6.608   \n",
       "\n",
       "              50%       75%       99.5%       max  \n",
       "KPERC       0.757     1.306     4.53000    14.577  \n",
       "eU          1.673     2.373     5.38300    23.934  \n",
       "eTH        18.382    25.207    59.15600   241.474  \n",
       "UTHRAZAO    0.090     0.111     0.27900     2.669  \n",
       "UKRAZAO     1.911     3.302    14.90200    59.007  \n",
       "MDT       887.680  1113.550  1933.61130  2751.590  \n",
       "THKRAZAO   20.741    34.791   162.71671   525.859  \n",
       "CTCOR      11.263    19.699    56.54200   246.600  "
      ]
     },
     "execution_count": 30,
     "metadata": {},
     "output_type": "execute_result"
    }
   ],
   "source": [
    "dic_raw_meta['Percentiles'].T"
   ]
  },
  {
   "cell_type": "code",
   "execution_count": 31,
   "metadata": {},
   "outputs": [
    {
     "data": {
      "text/plain": [
       "{'KPERC': 'K (%)',\n",
       " 'eU': 'U (ppm)',\n",
       " 'eTH': 'Th (ppm)',\n",
       " 'UTHRAZAO': 'U (ppm) / Th (ppm)',\n",
       " 'UKRAZAO': 'U (ppm) / K (%)',\n",
       " 'MDT': 'MDT (m)',\n",
       " 'THKRAZAO': 'Th (ppm) / K (%)',\n",
       " 'CTCOR': 'Contagem Total (μR/h)'}"
      ]
     },
     "execution_count": 31,
     "metadata": {},
     "output_type": "execute_result"
    }
   ],
   "source": [
    "dic_titles"
   ]
  },
  {
   "cell_type": "code",
   "execution_count": 32,
   "metadata": {},
   "outputs": [],
   "source": [
    "def plot_raw_data(raw_data):\n",
    "    fig, axs = plt.subplots(nrows = 2, ncols = 4, figsize = (9, 9),sharex='all',sharey='all')\n",
    "    \n",
    "    raw_data_describe = raw_data.describe(percentiles=(0.01,0.1,0.25,0.5,0.75,0.995))\n",
    "\n",
    "    X, Y = raw_data.X, raw_data.Y\n",
    "\n",
    "    for ax, f in zip(axs.flat, dic_titles):\n",
    "        vmin = raw_data_describe[f]['1%']\n",
    "        vmax = raw_data_describe[f]['99.5%']\n",
    "\n",
    "        g = ax.scatter(c=raw_data[f], x = X,\n",
    "                                      y = Y,\n",
    "                                      cmap = 'rainbow',\n",
    "                                      s    = 0.5,\n",
    "                                      vmax =vmax, vmin=vmin)\n",
    "\n",
    "        fig.colorbar(g, ax = ax)\n",
    "        ax.set_title(str(dic_titles[f]), size = 11)\n",
    "        ax.axis('scaled')"
   ]
  },
  {
   "cell_type": "code",
   "execution_count": 34,
   "metadata": {},
   "outputs": [
    {
     "data": {
      "application/vnd.jupyter.widget-view+json": {
       "model_id": "28b601fb62f544eabc9b3acb4f163672",
       "version_major": 2,
       "version_minor": 0
      },
      "text/plain": [
       "Canvas(toolbar=Toolbar(toolitems=[('Home', 'Reset original view', 'home', 'home'), ('Back', 'Back to previous …"
      ]
     },
     "metadata": {},
     "output_type": "display_data"
    }
   ],
   "source": [
    "plot_raw_data(dic_cartas['raw_data']['SF23_Y_A_III_4'])"
   ]
  },
  {
   "cell_type": "code",
   "execution_count": 37,
   "metadata": {},
   "outputs": [
    {
     "data": {
      "application/vnd.jupyter.widget-view+json": {
       "model_id": "c02d7d4644bd4e3ca4487fccb6152d87",
       "version_major": 2,
       "version_minor": 0
      },
      "text/plain": [
       "Canvas(toolbar=Toolbar(toolitems=[('Home', 'Reset original view', 'home', 'home'), ('Back', 'Back to previous …"
      ]
     },
     "metadata": {},
     "output_type": "display_data"
    }
   ],
   "source": [
    "data = dic_cartas['cubic']['SF23_Y_A_III_4']\n",
    "plot_raw_data(data)"
   ]
  },
  {
   "cell_type": "code",
   "execution_count": null,
   "metadata": {},
   "outputs": [],
   "source": [
    "from shapely import geometry\n",
    "\n",
    "lito_cubic  = dic_cartas['lito_cubic']['SF23_Y_A_III_4']\n",
    "\n",
    "lito_cubic['geometry'] = [geometry.Point(x,y) for x, y in zip(lito_cubic['X'], lito_cubic['Y'])]\n",
    "\n",
    "geodataframe = dic_cartas['lito_cubic']['SF23_Y_A_III_4'].set_geometry('geometry')\n",
    "geodataframe.set_crs(32723,inplace=True)\n",
    "geodataframe.to_crs(32723,inplace=True)\n",
    "\n",
    "print(geodataframe.crs)\n",
    "\n",
    "geodataframe.plot('closest_unid',s= 5,\n",
    "                        legend=True,\n",
    "                        legend_kwds={'loc': 'center left', 'bbox_to_anchor':(1,0.5)}\n",
    "                )\n",
    "                                 \n",
    "plt.title(label=f\"'closest_unid': SF23_Y_A_III_4\")"
   ]
  },
  {
   "cell_type": "code",
   "execution_count": 39,
   "metadata": {},
   "outputs": [],
   "source": [
    "def plotBoxplots(df, cols = None):\n",
    "    n = len(cols)\n",
    "    fig, axs = plt.subplots(n, 1, figsize = (9, n * 2))\n",
    "    \n",
    "    for ax, f in zip(axs, cols):\n",
    "        sns.boxplot(y = f, x = 'closest_unid', data = df, ax = ax)\n"
   ]
  },
  {
   "cell_type": "code",
   "execution_count": 42,
   "metadata": {},
   "outputs": [
    {
     "ename": "KeyError",
     "evalue": "'lito_cubic'",
     "output_type": "error",
     "traceback": [
      "\u001b[0;31m---------------------------------------------------------------------------\u001b[0m",
      "\u001b[0;31mKeyError\u001b[0m                                  Traceback (most recent call last)",
      "\u001b[0;32m/tmp/ipykernel_195373/1160101968.py\u001b[0m in \u001b[0;36m<module>\u001b[0;34m\u001b[0m\n\u001b[0;32m----> 1\u001b[0;31m \u001b[0mplotBoxplots\u001b[0m\u001b[0;34m(\u001b[0m\u001b[0mdic_cartas\u001b[0m\u001b[0;34m[\u001b[0m\u001b[0;34m'lito_cubic'\u001b[0m\u001b[0;34m]\u001b[0m\u001b[0;34m[\u001b[0m\u001b[0;34m'SF23_Y_A_III_4'\u001b[0m\u001b[0;34m]\u001b[0m\u001b[0;34m,\u001b[0m \u001b[0mcols\u001b[0m \u001b[0;34m=\u001b[0m \u001b[0mdic_titles\u001b[0m\u001b[0;34m)\u001b[0m\u001b[0;34m\u001b[0m\u001b[0;34m\u001b[0m\u001b[0m\n\u001b[0m",
      "\u001b[0;31mKeyError\u001b[0m: 'lito_cubic'"
     ]
    }
   ],
   "source": [
    "plotBoxplots(dic_cartas['lito_cubic']['SF23_Y_A_III_4'], cols = dic_titles)"
   ]
  },
  {
   "cell_type": "code",
   "execution_count": null,
   "metadata": {},
   "outputs": [],
   "source": [
    "plotBoxplots(dic_cartas['lito_cubic']['SF23_Y_A_III_4'], cols = dic_titles)"
   ]
  },
  {
   "cell_type": "code",
   "execution_count": null,
   "metadata": {},
   "outputs": [],
   "source": [
    "fig, axs = plt.subplots(nrows = 4, ncols = 2, figsize = (7, 6))\n",
    "\n",
    "for ax, gf in zip(axs.flat, dic_titles):\n",
    "    g = ax.hist(dic_cartas['lito_splines']['SC23_Z_A_IV'][gf], color = 'lightblue', edgecolor = 'black')\n",
    "    ax.set_title(str(dic_titles[gf]), size = 9)\n",
    "\n",
    "plt.tight_layout()"
   ]
  },
  {
   "cell_type": "code",
   "execution_count": null,
   "metadata": {},
   "outputs": [],
   "source": [
    "fig, axs = plt.subplots(nrows = 4, ncols = 2, figsize = (7, 6))\n",
    "\n",
    "for ax, gf in zip(axs.flat, dic_titles):\n",
    "    g = ax.hist(dic_cartas['lito_cubic']['SC23_Z_A_IV'][gf], color = 'lightblue', edgecolor = 'black')\n",
    "    ax.set_title(str(dic_titles[gf]), size = 9)\n",
    "\n",
    "plt.tight_layout()"
   ]
  },
  {
   "cell_type": "code",
   "execution_count": null,
   "metadata": {},
   "outputs": [],
   "source": [
    "fig, axs = plt.subplots(nrows = 4, ncols = 2, figsize = (7, 6))\n",
    "\n",
    "for ax, gf in zip(axs.flat, dic_titles):\n",
    "    g = ax.hist(dic_cartas['raw_data']['SC23_Z_A_IV'][gf], color = 'lightblue', edgecolor = 'black')\n",
    "    ax.set_title(str(dic_titles[gf]), size = 9)\n",
    "\n",
    "plt.tight_layout()"
   ]
  },
  {
   "cell_type": "code",
   "execution_count": null,
   "metadata": {
    "tags": []
   },
   "outputs": [],
   "source": [
    "for i in dic_cartas['splines']:\n",
    "    print(i)\n",
    "    dic_cartas['lito_splines'][i].to_csv(f.gdb+'dataframe_input_model/lito_splines_'+i+'.csv',index=False)\n",
    "    dic_cartas['lito_cubic'][i].to_csv(f.gdb+'dataframe_input_model/lito_cubic_'+i+'.csv',index=False)"
   ]
  },
  {
   "cell_type": "code",
   "execution_count": null,
   "metadata": {
    "tags": []
   },
   "outputs": [
    {
     "ename": "KeyError",
     "evalue": "'lito_cubic'",
     "output_type": "error",
     "traceback": [
      "\u001b[0;31m---------------------------------------------------------------------------\u001b[0m",
      "\u001b[0;31mKeyError\u001b[0m                                  Traceback (most recent call last)",
      "\u001b[0;32m/tmp/ipykernel_192252/1898948988.py\u001b[0m in \u001b[0;36m<module>\u001b[0;34m\u001b[0m\n\u001b[0;32m----> 1\u001b[0;31m \u001b[0mdic_cartas\u001b[0m\u001b[0;34m[\u001b[0m\u001b[0;34m'lito_cubic'\u001b[0m\u001b[0;34m]\u001b[0m\u001b[0;34m[\u001b[0m\u001b[0;34m'SF23_Y_A_III_4'\u001b[0m\u001b[0;34m]\u001b[0m\u001b[0;34m\u001b[0m\u001b[0;34m\u001b[0m\u001b[0m\n\u001b[0m",
      "\u001b[0;31mKeyError\u001b[0m: 'lito_cubic'"
     ]
    }
   ],
   "source": [
    "dic_cartas['lito_cubic']['SF23_Y_A_III_4']"
   ]
  },
  {
   "cell_type": "code",
   "execution_count": null,
   "metadata": {},
   "outputs": [],
   "source": [
    "dic_cartas['lito_cubic']['SC23_Z_A_IV'].closest_unid.isnull().sum()"
   ]
  },
  {
   "cell_type": "code",
   "execution_count": null,
   "metadata": {},
   "outputs": [],
   "source": [
    "dic_cartas['lito_splines']['SC23_Z_A_IV']"
   ]
  },
  {
   "cell_type": "code",
   "execution_count": null,
   "metadata": {},
   "outputs": [],
   "source": [
    "dic_cartas['lito_splines']['SC23_Z_A_IV'].closest_unid.isnull().sum()"
   ]
  },
  {
   "cell_type": "code",
   "execution_count": null,
   "metadata": {},
   "outputs": [
    {
     "ename": "KeyError",
     "evalue": "'lito_splines'",
     "output_type": "error",
     "traceback": [
      "\u001b[0;31m---------------------------------------------------------------------------\u001b[0m",
      "\u001b[0;31mKeyError\u001b[0m                                  Traceback (most recent call last)",
      "\u001b[0;32m/tmp/ipykernel_192252/2136169401.py\u001b[0m in \u001b[0;36m<module>\u001b[0;34m\u001b[0m\n\u001b[1;32m     24\u001b[0m \u001b[0;34m\u001b[0m\u001b[0m\n\u001b[1;32m     25\u001b[0m \u001b[0;34m\u001b[0m\u001b[0m\n\u001b[0;32m---> 26\u001b[0;31m \u001b[0mgeodataframe\u001b[0m \u001b[0;34m=\u001b[0m \u001b[0mdic_cartas\u001b[0m\u001b[0;34m[\u001b[0m\u001b[0;34m'lito_splines'\u001b[0m\u001b[0;34m]\u001b[0m\u001b[0;34m[\u001b[0m\u001b[0;34m'SC23_Z_A_IV'\u001b[0m\u001b[0;34m]\u001b[0m\u001b[0;34m.\u001b[0m\u001b[0mset_geometry\u001b[0m\u001b[0;34m(\u001b[0m\u001b[0;34m'geometry'\u001b[0m\u001b[0;34m)\u001b[0m\u001b[0;34m\u001b[0m\u001b[0;34m\u001b[0m\u001b[0m\n\u001b[0m\u001b[1;32m     27\u001b[0m \u001b[0mprint\u001b[0m\u001b[0;34m(\u001b[0m\u001b[0mgeodataframe\u001b[0m\u001b[0;34m.\u001b[0m\u001b[0mcrs\u001b[0m\u001b[0;34m)\u001b[0m\u001b[0;34m\u001b[0m\u001b[0;34m\u001b[0m\u001b[0m\n\u001b[1;32m     28\u001b[0m geodataframe.plot('closest_unid',s= 5,\n",
      "\u001b[0;31mKeyError\u001b[0m: 'lito_splines'"
     ]
    }
   ],
   "source": [
    "### DESCRICAO GEOSTATISTICA DOS DADOS INTERPOLADOS\n",
    "\n",
    "def plot_splines_grid(splines_grid):\n",
    "    fig, axs = plt.subplots(nrows = 4, ncols = 2, figsize = (16, 16),sharex='all',sharey='all')\n",
    "\n",
    "    for ax, f in zip(axs.flat, dic_titles):\n",
    "\n",
    "        df_splines = pd.DataFrame(splines_grid[f][f])\n",
    "\n",
    "        p = df_splines.describe(percentiles=(0.01,0.1,0.25,0.5,0.75,0.995))\n",
    "        print(p)\n",
    "        vmin = p['1%']\n",
    "        vmax = p['99.5%']\n",
    "\n",
    "        g = grids[f][f].plot(ax=ax,\n",
    "                             cmap = 'rainbow',\n",
    "                             vmax =vmax, vmin=vmin)\n",
    "\n",
    "        #fig.colorbar(g, ax = ax)\n",
    "        ax.set_title(str(dic_titles[f]), size = 11)\n",
    "        ax.axis('scaled')\n",
    "\n",
    "    #plt.tight_layout()\n",
    "\n",
    "\n",
    "geodataframe = dic_cartas['lito_splines']['SC23_Z_A_IV'].set_geometry('geometry')\n",
    "print(geodataframe.crs)\n",
    "geodataframe.plot('closest_unid',s= 5,\n",
    "                                 legend=True,\n",
    "                                 legend_kwds={'loc': 'center left', 'bbox_to_anchor':(1,0.5)})\n",
    "                                 \n",
    "plt.title(label=f\"'closest_unid': SC23_Z_A_IV\")\n",
    "plt.axis('scaled')"
   ]
  }
 ],
 "metadata": {
  "interpreter": {
   "hash": "d412e3d091f5968552f8aa760bc8da416522b5884f97efbbec2149c97127b032"
  },
  "kernelspec": {
   "display_name": "Python 3.8.11 64-bit ('geologist_bot': conda)",
   "name": "python3"
  },
  "language_info": {
   "codemirror_mode": {
    "name": "ipython",
    "version": 3
   },
   "file_extension": ".py",
   "mimetype": "text/x-python",
   "name": "python",
   "nbconvert_exporter": "python",
   "pygments_lexer": "ipython3",
   "version": "3.8.11"
  }
 },
 "nbformat": 4,
 "nbformat_minor": 4
}
