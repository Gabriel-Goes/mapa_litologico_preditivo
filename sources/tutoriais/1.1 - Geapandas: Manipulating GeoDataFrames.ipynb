{
 "cells": [
  {
   "cell_type": "markdown",
   "source": [
    "[Mapping and Plotting Tools](https://geopandas.org/docs/user_guide/mapping.html)"
   ],
   "metadata": {}
  },
  {
   "cell_type": "code",
   "execution_count": 1,
   "source": [
    "import geopandas as gpd\n",
    "%matplotlib widget\n",
    "\n",
    "import my_funcs as mf\n",
    "\n",
    "\n",
    "gdb = '/home/ggrl/geodatabase/'\n",
    "\n",
    "# Mapa Base\n",
    "world = gpd.read_file(gpd.datasets.get_path('naturalearth_lowres'))\n",
    "brazil = world[world.name == 'Brazil']"
   ],
   "outputs": [],
   "metadata": {}
  },
  {
   "cell_type": "markdown",
   "source": [
    "## Abrindo as unidade litoestratigráficas mapeadas na escala 1:1.000.000 para iniciar a etapa de filtragem litológica"
   ],
   "metadata": {}
  },
  {
   "cell_type": "code",
   "execution_count": null,
   "source": [
    "# Função que importa camada salvas no banco de dados nos passos anteriores.\n",
    "gdb = '/home/ggrl/geodatabase/'\n",
    "\n",
    "def litologia(escala):\n",
    "    lito =  gpd.read_file(gdb+'database.gpkg',\n",
    "                        driver= 'GPKG',\n",
    "                        layer= escala)\n",
    "    return(lito)\n",
    "\n",
    "l_1kk = litologia('l_1kk')\n",
    "\n",
    "l_1kk.plot('MAPA')"
   ],
   "outputs": [],
   "metadata": {}
  },
  {
   "cell_type": "code",
   "execution_count": null,
   "source": [
    "l_1kk.MAPA.unique()"
   ],
   "outputs": [],
   "metadata": {}
  },
  {
   "cell_type": "code",
   "execution_count": null,
   "source": [
    "# Função que filtra mapas litoestratigráficos a partir do nome definido na coluna MAPA da camada litoestratigráfica.\n",
    "\n",
    "def mapa(escala,nome):\n",
    "    folha = escala[escala.MAPA == 'Carta geológica da folha '+nome]\n",
    "    return(folha)\n",
    "\n",
    "natal_1kk = mapa(l_1kk, 'Natal')\n",
    "natal_1kk.head(5)"
   ],
   "outputs": [],
   "metadata": {}
  },
  {
   "cell_type": "code",
   "execution_count": 2,
   "source": [
    "l_1kk = mf.importar('l_1kk')"
   ],
   "outputs": [],
   "metadata": {}
  },
  {
   "cell_type": "markdown",
   "source": [
    "### 46.715 geometrias descritras geologicamente em uma mapeamento em escala de 1:1.000.000"
   ],
   "metadata": {}
  },
  {
   "cell_type": "code",
   "execution_count": 3,
   "source": [
    "l_1kk.shape"
   ],
   "outputs": [
    {
     "output_type": "execute_result",
     "data": {
      "text/plain": [
       "(46715, 27)"
      ]
     },
     "metadata": {},
     "execution_count": 3
    }
   ],
   "metadata": {}
  },
  {
   "cell_type": "markdown",
   "source": [
    "### Reconhecendo as litologia grafitosas mapeadas na escala 1:1.000.000 podemos identificar quais cartas geológicas e suas escalas podemos trabalhar, portanto, faremos um filtro na coluna LEGENDA e LITOTIOPOS para agrupar apenas as geometrias que possuem valores grafitosos e com estas geometrias selecionaremos os mapas que as contém."
   ],
   "metadata": {}
  },
  {
   "cell_type": "code",
   "execution_count": 8,
   "source": [
    "grafitico_1kk = l_1kk[l_1kk['LITOTIPOS'].str.contains(\"graf\")]"
   ],
   "outputs": [],
   "metadata": {}
  },
  {
   "cell_type": "code",
   "execution_count": 14,
   "source": [
    "print(grafitico_1kk.shape)\n",
    "list(grafitico_1kk.LITOTIPOS.unique())"
   ],
   "outputs": [
    {
     "output_type": "stream",
     "name": "stdout",
     "text": [
      "(29, 27)\n"
     ]
    },
    {
     "output_type": "execute_result",
     "data": {
      "text/plain": [
       "['Filito grafítico, Mica xisto, Quartzito, Rocha calcissilicática',\n",
       " 'Filito grafítico, Metabasalto komatiítico, Metachert, Metakomatiíto, Metavulcânica félsica, Rocha metavulcânica intermediária, Serpentinito',\n",
       " 'Filito, Filito grafítico, Metarenito, Metarritmito, Metassiltito, Mica xisto, Quartzito, Quartzito arcoseano, Xisto',\n",
       " 'Anfibolito, Filito grafítico, Formação ferrífera bandada, Metachert, Quartzito ferruginoso, Quartzo-mica xisto, Rocha calcissilicática, Xisto',\n",
       " 'Actinolita clorita xisto, Brecha hidrotermal, Filito, Filito grafítico, Formação ferrífera bandada, Metabasito, Metamáfica, Metarenito, Sericita xisto, Xisto, Xisto magnesiano']"
      ]
     },
     "metadata": {},
     "execution_count": 14
    }
   ],
   "metadata": {}
  },
  {
   "cell_type": "code",
   "execution_count": 10,
   "source": [
    "Grafita_xisto_l1kk = l_1kk[l_1kk['LITOTIPOS'].str.contains(\"Graf\")]"
   ],
   "outputs": [],
   "metadata": {}
  },
  {
   "cell_type": "code",
   "execution_count": 15,
   "source": [
    "print(Grafita_xisto_l1kk.shape)\n",
    "list(Grafita_xisto_l1kk.LITOTIPOS.unique())"
   ],
   "outputs": [
    {
     "output_type": "stream",
     "name": "stdout",
     "text": [
      "(380, 27)\n"
     ]
    },
    {
     "output_type": "execute_result",
     "data": {
      "text/plain": [
       "['Anfibolito, Grafita xisto, Metapelito, Quartzito',\n",
       " 'Formação ferrífera bandada, Grafita xisto, Metachert, Rocha metassedimentar, Rocha metavulcânica ultramáfica, Serpentinito',\n",
       " 'Biotita-anfibólio xisto, Biotita-quartzo xisto, Filito, Grafita xisto, Mármore calcítico, Mármore dolomítico, Metatufo, Quartzo-mica xisto, Rocha calcissilicática, Xisto carbonático',\n",
       " 'Clorita xisto, Grafita xisto, Hornblenda gnaisse, Metacalcário, Muscovita quartzito, Muscovita-biotita xisto, Quartzito ferruginoso, Talco xisto',\n",
       " 'Clorita xisto, Grafita xisto, Metachert, Metadacito, Metatufo, Xisto',\n",
       " 'Biotita gnaisse, Gnaisse, Gondito, Grafita xisto, Granada gnaisse, Kinzigito, Mármore, Muscovita quartzito, Quartzito, Rocha calcissilicática, Sericita xisto, Xisto',\n",
       " 'Grafita xisto, Metachert, Muscovita quartzito, Quartzito ferruginoso, Xisto, Xisto aluminoso',\n",
       " 'Clorita xisto, Cloritito, Formação ferrífera bandada, Grafita xisto, Muscovita-biotita xisto, Piroxenito, Serpentinito, Talco xisto, Xisto magnesiano',\n",
       " 'Biotita xisto, Biotita-muscovita-quartzo xisto, Grafita xisto, Granada-biotita-muscovita-quartzo xisto, Granada-clorita xisto, Mármore, Metaconglomerado suportado por clastos, Metapsamito, Metarcóseo, Quartzito ferruginoso',\n",
       " 'Filito, Grafita xisto, Quartzo-mica xisto',\n",
       " 'Ardósia, Filito, Grafita xisto, Metarenito, Metargilito, Metassiltito, Mica xisto, Sericita xisto, Xisto',\n",
       " 'Biotita gnaisse, Clorita xisto, Grafita xisto, Metaconglomerado, Metapelito, Metarritmito, Mica xisto, Paragnaisse, Turmalinito',\n",
       " 'Biotita gnaisse, Biotita xisto, Grafita xisto, Mármore, Muscovita-biotita xisto, Rocha calcissilicática, Talco xisto',\n",
       " 'Grafita xisto, Metadiamictito, Metapelito, Quartzito ferruginoso',\n",
       " 'Formação ferrífera bandada, Grafita xisto, Mármore, Metakomatiíto, Metamáfica, Quartzito ferruginoso, Rocha calcissilicática, Xisto',\n",
       " 'Formação ferrífera bandada, Grafita xisto, Kinzigito, Metamáfica, Paragnaisse, Rocha calcissilicática, Rocha metaultramáfica',\n",
       " 'Grafita xisto, Metabasito, Metachert',\n",
       " 'Formação ferrífera bandada, Grafita xisto, Mármore, Metabasalto, Metachert, Metagabro, Metakomatiíto, Mica xisto, Rocha calcissilicática',\n",
       " 'Formação ferrífera bandada, Grafita xisto, Metabasalto, Metachert',\n",
       " 'Grafita xisto, Metabasalto, Metachert, Metamáfica, Metatufo, Muscovita quartzito, Muscovita-biotita xisto, Rocha metaultramáfica, Sericita xisto, Turmalinito',\n",
       " 'Grafita xisto, Metadiamictito, Quartzo xisto, Rocha calcissilicática',\n",
       " 'Biotita xisto, Formação ferrífera bandada, Gnaisse, Grafita xisto, Mármore, Metagrauvaca, Metamáfica, Metamarga, Metavulcanoclástica, Mica xisto, Ortoanfibolito, Paragnaisse, Rocha calcissilicática, Rocha metaultramáfica',\n",
       " 'Anfibolito, Clorita xisto, Grafita xisto, Granada-biotita xisto, Paragnaisse, Quartzito micáceo, Talco xisto, Turmalinito',\n",
       " 'Grafita xisto, Xisto aluminoso, Xisto carbonático',\n",
       " 'Biotita gnaisse, Grafita xisto, Metachert, Metarriolito, Metatufo, Xisto, Xisto aluminoso, Xisto carbonático',\n",
       " 'Grafita xisto',\n",
       " 'Chert, Clorita xisto, Grafita xisto, Metaconglomerado, Metatufo, Xisto',\n",
       " 'Dolomito, Filito, Formação ferrífera bandada, Grafita xisto, Metachert, Quartzo xisto, Xisto',\n",
       " 'Formação ferrífera bandada, Grafita xisto, Metachert, Sericita xisto']"
      ]
     },
     "metadata": {},
     "execution_count": 15
    }
   ],
   "metadata": {}
  },
  {
   "cell_type": "markdown",
   "source": [
    "Foi necessário inserir a str 'Vazio' em celas que não continham valores para que a função de filtro funcionasse corretamente na coluna LEGENDA."
   ],
   "metadata": {}
  },
  {
   "cell_type": "code",
   "execution_count": 17,
   "source": [
    "l_1kk = l_1kk.fillna('Vazio')"
   ],
   "outputs": [],
   "metadata": {}
  },
  {
   "cell_type": "code",
   "execution_count": 18,
   "source": [
    "grafitosa_l1kk = l_1kk[l_1kk['LEGENDA'].str.contains(\"graf\")]"
   ],
   "outputs": [],
   "metadata": {}
  },
  {
   "cell_type": "code",
   "execution_count": 19,
   "source": [
    "print(grafitosa_l1kk.shape)\n",
    "list(grafitosa_l1kk.LEGENDA.unique())"
   ],
   "outputs": [
    {
     "output_type": "stream",
     "name": "stdout",
     "text": [
      "(1093, 27)\n"
     ]
    },
    {
     "output_type": "execute_result",
     "data": {
      "text/plain": [
       "['Quartzito e sericita-quartzito, com subordinados sericita-andaluzita quartzito, quartzito ferruginoso, metapelito, pelito grafitoso, filito, itabirito e quartzo-arenito.',\n",
       " 'Metarenito arcoseano, metarcóseo e grafita filito, com intercalações de metarenito e lente de mármore calcífero',\n",
       " 'Sericita filito, com intercalações de filito e metarenito, algo grafitoso.',\n",
       " 'Metapelito, metarenito, grafita xisto, quartzito, anfibolito, lentes de mármore',\n",
       " 'Depósitos quatzo-arenosos com granulometria heterogênea, amarelo-acastanhadas, subarredondadas a arredondadas, mal selecionadas, com laminação plano-paralela incipiente. Ocorrem em regiões topograficamente mais elevadas, se associando, muitas vezes,',\n",
       " 'Metakomatiíto serpentinizado, carbonato-talco serpentinito, talco serpentinito, carbonato-talco xisto, clorita-talco xisto, tremolitito, tremolita-actinolita xisto, clorita-quartzo xisto, metachert ferrífero, grafita metachert, filito e grafita filito.',\n",
       " 'Rocha ultramáfica, lava komatíitica serpentinizada, talcificada, breha de fluxo, metassedimentares, grafita xisto, formação ferrífera, metachert carbonoso e ferrífero, anfibolito, hidrotermalitos, metavulcânicas básicas e ultramáficas, micaxisto',\n",
       " 'Metabasalto tholeítico, anfibolito, anfibólio xisto, metavulcânica intermediária, grafita xisto, granada xisto, formação ferrífera, e hidrotermalito (clorita xisto, rocha carbonática, mica-quartzo xisto, anfibólio, grafita-granada xisto grafitos',\n",
       " 'Quartzito micáceo, mármore, quartzo-xisto, xisto aluminoso, por vezes grafitoso, e anfibolito subordinado, foliados e crenulados, apresentando metamorfismo de fácies xisto verde a anfibolito. Ocorre ainda lentes de minério de manganês.',\n",
       " 'Predomínio de mica xistos e filitos grafitosos com rochas calciossilicáticas e quartzitos.',\n",
       " 'Metavulcânica, metadiabásio, metagabro, metavulcanoclástica, metarritmito com termos carbonosos , filito, quatzito. Ocorrem metachert e grafita filito.',\n",
       " 'Muscovita clorita xisto, às vêzes com cloritóide, biotita-muscovita-quartzo xisto, granada-muscovita-clorita xisto, clorita quartzo xisto, grafita xisto, sericita quartzito (qt)',\n",
       " 'Anfibolito, metandesito e metadacito, talco xisto, clorita xisto, estaurolita-biotita xisto, quartzo diorito, granada-clorita xisto, grafita xisto, clorita-actinolita xisto, sericita quartzito ferruginoso, mármore, granada-quartzo-muscovita xisto com bi',\n",
       " 'Clorita-sericita xisto, mica-quartzo xistos com lentes de cianitito, biotita xisto, clorita-quartzo xisto, granada-muscovita-quartzo xisto silicificado, granada-biotita-quartzo xisto, muscovita-granada xisto com intercalações de grafita xisto, quartzo-',\n",
       " 'Depósitos argilo-arenosos avermelhados com horizontes conglomeráticos localizados (cascalhos) e com desenvolvimento local de processos de laterização, representado por horizontes métricos de latossolos avermelhados. Ocorrem em terrenos topograficame',\n",
       " 'Rochas komatiíticas, serpentinito, xisto magnesiano, formação ferrífera a magnetita, grafita filito.',\n",
       " 'Muscovita-quartzo xisto, cianita-muscovita xisto, estaurolita-granada-muscovita xisto, sericita-clorita-grafita xisto, hematita-magnetita quartzito, muscovita quartzito granadífero (gondito) e metachert.',\n",
       " 'Komatiíto serpentinizado, xisto magnesiano, metachert, formação ferrífera a magnetita e anfibólio, tremolita filito, grafita filito, talco xisto, hidrotermalito',\n",
       " 'Cordierita-sillimanita gnaisse, granulito, biotita gnaisse granítico, granada-clorita xisto com intercalações de grafita xisto, anfibolito e metaultramáfica',\n",
       " 'Xistos de várias composições, quartzitos, rocha calcissilicática, metapelito, metabasito, anfibolito, metandesito, metatufo básico, metamáfica e formações ferríferas, cartografados em quatro formações distintintas: Pirucaia (quartzitos), Nhang',\n",
       " '(hornblenda)-biotita ortognaisse, granodiorito-tonalito e seqüência bandada pela alternância de gnaisse diorítico-tonalítico com intercalação de quartzito, turmalinito e xisto grafitoso',\n",
       " 'Unidade metapelítica grafitosa, com alternância de quartzitos',\n",
       " 'Metarenito, quartzito puro e micáceo, grafita xisto, sericita xisto, quartzo muscovita xisto, filito, grafita filito, clorita filito, metasiltito, metargilito siltico, marga, calcário e ardósia',\n",
       " 'Muscovita xisto, clorita xisto, grafita filito, quartzo xisto e lentes de anfibolito.',\n",
       " 'Metaparaconglomerado polimítico, com intercalação de quartzito calcífero e grafita filito, metarritmitos com metamarga calcária a dolomítica, metargilito, metassiltito, quartzito feldspático e quartzito microconglomerático. Apresentam estratifica',\n",
       " 'Paragnaisse; biotita gnaisse de granulação fina a média, às vezes granadífero; estaurolita-cianita biotita xisto,  muscovita-sericita-biotita-quartzo xisto, clorita-quatzo xisto, grafita xisto xisto e tremolita xisto.',\n",
       " 'Filito, quartzito, metachert, metabasalto, metavulcanito félsico, sericita filito com camadas ricas em grafita e intercalações de formação ferrífera e metaconglomerado.',\n",
       " 'Calcarenito fino a médio negro a cinza escuro, calcissiltito com níveis grafitosos,níveis finos de siltito bege; Calcários calcíticos e dolomíticos com oólitos, estromatólitos colunares centimétricos, intraclastos, estratificação cruzada tabul',\n",
       " 'Xisto e filito grafitosos, sericíticos e granadíferos com intercalações de quartzito, metaconglomerado e raro anfibolito.',\n",
       " 'Rochas metassedimentares clásticas (metaconglomerado, quatzito, filito carbonoso, filito, xisto, sericita xisto, xisto grafitoso, quartzito, quartzito ferruginoso) e químicas (camadas de dolomito, mármore dolomítico  e finas lentes de formação ferr',\n",
       " 'Muscovita-biotita xisto, estaurolita xisto, xisto ultramáfico, biotita xisto, biotita paragnaisse, quartzito, grafita xisto, rocha calcissilicática, anfibolito, mármore e turmalinito.',\n",
       " '(cordierita)-(granada)-(sillimanita)-mica xisto, metagrauvaca/metarcóseo, cianita-mica xisto, grafita xisto, rocha calcissilicática, metamafito/metaultramafito tholeítico (816 Ma Sm-Nd), metaconglomerado e raros anfibolito e formação ferrífera',\n",
       " 'Formação ferrífera, quartzito ferruginoso, mármore, grafita xisto, xisto e rocha calcissilicática; metakomatiítito, metamafito, metaperidotito e metadunito (cúmulos de olivina e magnetita), metapiroxenito, metagabro maciço, serpentina mármore, s',\n",
       " 'Biotita paragnaisses kinzigítico, sillimanítico, granadífero e grafitoso, rochas calcissilicática, metamáfica e metaultramáfica',\n",
       " 'Gnaisse kinzigítico, rocha calcissilicática , quartzito, formação ferrífera, grafita xisto e anfibolito/metamafito; Paragnaisses granulitizados podendo conter raras sillimanitas, de cor escura, granulação fina a média',\n",
       " 'Granulitos alumino-magnesianos,quartzitos, e bandas metabásicas intercaladas. Os granulitos alumino-magnesianos são constituídos de quartzo, ortopiroxênio, granada, sillimanita e plagioclásio, tendo a microclina pertítica, opacos, rutilo, grafita,',\n",
       " 'Granada-biotita-quartzo gnaisse cinza, fino a grosso, parcialmente migmatizado, grafita gnaisse, gnaisse kinzingitico, rocha calcissilicática, formação ferrífera, quartzito, metachert e anfibolito.',\n",
       " 'Metabasalto tholeíitico, anfibolito fino (metabasalto) foliado, formação ferrífera, metachert, filito grafitoso e metacarbonato.',\n",
       " 'Ortognaisse diorítico, quartzo-diorítico, tonalítico e granodiorítico com biotita e/ou anfibólio, localmente com augen gnaisses, lentes de anfibolitos, metamáficas, granulito, migmatito, magnetita-grunerita xisto, grafita xisto, gondito, mármore e',\n",
       " 'Metavulcânicas máficas e intermediárias, metabasalto, xisto máfico, actinolita-tremolita-quartzo xisto máfico, clorita-quartzo xisto, carbonato-clorita-quartzo xisto, talco xisto, metatufo feldspático, formação ferrífera, metachert, grafita meta',\n",
       " 'Metavulcânica exalativa, metagrauvaca, xisto, biotita-clorita xisto, clorita-quartzo clorita-quartzo xisto, grafita xisto e metadolomito e metacalcário, cacixisto, metavulcanoclástica aluminosa e intermediária, metachert ferruginoso e manganesífero,',\n",
       " 'Quartzo-sericita xisto, clorita xisto, grafita filito, granada quartzito, magnetita-quartzo-anfibólio xisto, anfibólio xisto feldspático, biotita xisto, anfibolito.',\n",
       " 'Grafita xisto, clorita-sericita-quartzo xisto, grafita xisto, muscovita quartzo xisto, clorita-biotita xisto, muscovita quartzito, biotita xisto feldspático, clorita-carbonato xisto, xisto magnesiano, anfibólio xisto, formação ferrífera, talco-clori',\n",
       " 'Anfibolito fino e grafita metachert',\n",
       " 'Filito sericítico e muscovita-clorita-quartzo xisto predominantes, com grafita filito com níveis e lentes de quartzito',\n",
       " 'Anfibolitos finos, metabasaltos verde escuros, metachert  ferruginosos (BIFs), xistos grafitosos, granada-biotita-quartzo xistos e diques básicos a ultrabásicos. Ocorrem lentes de quartzitos e filitos intercalados.',\n",
       " 'Filito carbonoso/hematítico/manganesífero/grafitoso, metarritmito, metassiltito, metarenito  feldspático e  metaquartzarenito, sericíticos e biotíticos. Níveis de metamicroconglomerados polimítico e oligomítico, de metarenito ferruginoso e de met',\n",
       " 'Metakomatiíto, metabasalto e metagabro tholeíticos, xisto aluminoso, mica xisto, rocha calcissilicática, formação ferrífera, quartzito, metachert, mármore e grafita xisto',\n",
       " 'Metabasalto, grafita xisto, formação ferrífera, metachert e quartzito.',\n",
       " 'Metadiamictito, magnetita quartzito, hematita-anfibólio quartzito, rocha calcissilicática, sericita-muscovita-quartzo xisto e grafita xisto.',\n",
       " 'Ortoanfibolitos, com intercalações de mármores, gnaisses granatíferos, mica-xistos, quartzitos, metacherts, rochas calcissilicáticas, filitos grafitosos, metarritmitos finos, metavulcânicas félsicas, localmente porfiríticas, metatufos, metaultram',\n",
       " 'Paragnaisses, granatíferos ou não, às vezes com muscovita e/ou sillimanita, algo migmatizados e, localmente, biotita xistos e metagrauvacas granatíferas. Possuem intercalações de metamáficas, mármores, xisto-grafitoso, metamarga, calcissilicátic',\n",
       " 'Granada-estaurolita-clorita-quartzo xisto, biotita-muscovita-quartzo xisto feldspático, anfibolito, quartzito micáceo, clorita-sericita-quartzo xisto, grafita filito e mármore',\n",
       " 'Metagrauvaca rica em magnetita, formação ferrífera bandeada, grafita filito, metabasalto, muscovita-clorita-quartzo magnetita cloritóide xisto, anfibólio-biotita-feldspático biotita-clorita-muscovita xisto, granada-mica xisto com niveis grafitosos,',\n",
       " 'Filito carbonático, laminado a bandado, com intercalações de filito sericítico, grafitoso e manganesífero, leitos de rocha carbonática, metachert e quartzito ferruginoso, além de lentes de calcário calcítico e dolomítico, exibindo estruturas es',\n",
       " 'Anfibolito associado a clorita xisto, granada-biotita xisto, grafita xisto, talco-xisto, quartzito micáceo, quartzito ferruginoso, paragnaisse,  turmalinito',\n",
       " 'Predomínio de metarritmitos e meta-arenitos laminados a bandados, por vezes impuro e arcoseanos associados a xistos, filitos, grafita filitos e metaconglomerados.',\n",
       " 'Metavulcânicas intermediárias a máficas, anfibolito, mica xisto, sericita filito, grafita filito, metarenito, metassiltito, metarcóseo, metatufo, metaconglomerado, chert, metachert, formações ferríferas bandada, metacalcissiltito e metacalcarenito',\n",
       " 'Filito e xisto alternados com calcixisto, calcifilito, mármore arenoso e dolomítico; intercalações de grafita filito, metarenito feldspático e silto-argiloso; lentes de diabásio e gabro',\n",
       " 'Anfibolito, anfibólio xisto feldspático, xisto magnesiano, talco xisto, grafita filito, formação ferrífera bandada.',\n",
       " 'Associação meta-vulcanossedimentar: biotita xisto, mica xisto, granada-biotita xisto, cianita-grafita-mica-quartzo xisto e grafita-mica xisto intercalados em contato gradacional a mica-quartzo xisto, quartzo xisto e sericita quartzito. Ocorrem ainda in',\n",
       " 'Feldspato quartzito, metariolito, metatufo riolítico e anfibolito; quartzo muscovita xisto, grafita xisto, clorita-quartzo xisto, quartzito e metachert.',\n",
       " 'Grafita xisto, grafita filito/filonito, (clorita)-(carbonato)-sericita xisto, formação ferrífera e metamafito',\n",
       " 'Filito, grafita filito, clorita-quartzo xisto, carbonato-quartzo xisto, cianitito, metachert, formação ferrífera.',\n",
       " 'Metariolito, leptinito e grafita metachert',\n",
       " 'Biotita monzogranito, biotita sienogranito cinza a róseo, inequigranular, grosso a médio, porfirítico com enclaves e microenclaves de xistos grafitosos e de grafita pura, milonitizado nas bordas.',\n",
       " 'Anfibolito, serpentinito, actinolita xisto, quartzito, formação ferrífera bandada, metapelito grafitoso manganesífero e ferruginoso além de xistos ultramáficos subordinadamente máficos e paragnaisses finos. Idade de metamorfismo 2840± 90 Ma (Ar-A',\n",
       " 'Filito, metachert ferruginoso e manganesífero, clorita-quartzo xisto, grafita xisto, sericita quartzito, metadolomito e formação ferrífera.',\n",
       " 'Anfibolito, formação ferrífera, hidrotermalito, metachert, clorita-sericita xisto, grafita xisto',\n",
       " 'Inclui dominantemente rochas metassedimentares, quartzito puro e aluminoso  (com muscovita, sillimanita, granada, fucsita), quartzo xisto , xisto pelítico, xisto manganesífero e grafitoso, além formação ferrífera bandada(fácies óxido e aluminoso)']"
      ]
     },
     "metadata": {},
     "execution_count": 19
    }
   ],
   "metadata": {}
  },
  {
   "cell_type": "code",
   "execution_count": 23,
   "source": [
    "Grafita_l1kk = l_1kk[l_1kk['LEGENDA'].str.contains(\"Graf\")]"
   ],
   "outputs": [],
   "metadata": {}
  },
  {
   "cell_type": "code",
   "execution_count": 24,
   "source": [
    "print(Grafita_l1kk.shape)\n",
    "list(Grafita_l1kk.LEGENDA.unique())"
   ],
   "outputs": [
    {
     "output_type": "stream",
     "name": "stdout",
     "text": [
      "(5, 27)\n"
     ]
    },
    {
     "output_type": "execute_result",
     "data": {
      "text/plain": [
       "['Grafita xisto, clorita-sericita-quartzo xisto, grafita xisto, muscovita quartzo xisto, clorita-biotita xisto, muscovita quartzito, biotita xisto feldspático, clorita-carbonato xisto, xisto magnesiano, anfibólio xisto, formação ferrífera, talco-clori',\n",
       " 'Grafita xisto, grafita filito/filonito, (clorita)-(carbonato)-sericita xisto, formação ferrífera e metamafito',\n",
       " 'Grafita-cianita xisto',\n",
       " 'Grafita filito com níveis de quartzito e filito interstratificados.']"
      ]
     },
     "metadata": {},
     "execution_count": 24
    }
   ],
   "metadata": {}
  },
  {
   "cell_type": "code",
   "execution_count": 39,
   "source": [
    "leg_grafitosa_1kk = Grafita_l1kk.append(grafitosa_l1kk)\n",
    "\n",
    "lit_grafitoso_1kk = grafitico_1kk.append(Grafita_xisto_l1kk)"
   ],
   "outputs": [],
   "metadata": {}
  },
  {
   "cell_type": "code",
   "execution_count": 40,
   "source": [
    "base = brazil.boundary.plot(color='black',figsize=(12,12))\n",
    "\n",
    "leg_grafitosa_l1kk.plot(ax=base,facecolor='grey')\n",
    "\n",
    "lit_grafitoso_1kk.plot(ax=base,facecolor='black')"
   ],
   "outputs": [
    {
     "output_type": "display_data",
     "data": {
      "text/plain": [
       "Canvas(toolbar=Toolbar(toolitems=[('Home', 'Reset original view', 'home', 'home'), ('Back', 'Back to previous …"
      ],
      "application/vnd.jupyter.widget-view+json": {
       "version_major": 2,
       "version_minor": 0,
       "model_id": "bcf565c1a44140f2b3e4a3034e12eec2"
      }
     },
     "metadata": {}
    },
    {
     "output_type": "execute_result",
     "data": {
      "text/plain": [
       "<AxesSubplot:>"
      ]
     },
     "metadata": {},
     "execution_count": 40
    }
   ],
   "metadata": {}
  },
  {
   "cell_type": "code",
   "execution_count": 41,
   "source": [
    "list(leg_grafitosa_1kk.MAPA.unique())"
   ],
   "outputs": [
    {
     "output_type": "execute_result",
     "data": {
      "text/plain": [
       "['Carta geológica da folha Goiás',\n",
       " 'Carta geológica da folha Brasília',\n",
       " 'Carta geológica da folha Salvador',\n",
       " 'Carta geológica da folha Içá',\n",
       " 'Carta geológica da folha Pico da Neblina',\n",
       " 'Carta geológica da folha Corumbá',\n",
       " 'Carta geológica da folha Cuiabá',\n",
       " 'Carta geológica da folha Uruguaiana',\n",
       " 'Carta geológica da folha Porto Alegre',\n",
       " 'Carta geológica da folha Araguaia',\n",
       " 'Carta geológica da folha Curitiba',\n",
       " 'Carta geológica da folha Goiânia',\n",
       " 'Carta geológica da folha Rio de Janeiro',\n",
       " 'Carta geológica da folha Belo Horizonte',\n",
       " 'Carta geológica da folha Rio São Francisco',\n",
       " 'Carta geológica da folha Rio Doce',\n",
       " 'Carta geológica da folha Aracaju',\n",
       " 'Carta geológica da folha Jaguaribe',\n",
       " 'Carta geológica da folha Macapá']"
      ]
     },
     "metadata": {},
     "execution_count": 41
    }
   ],
   "metadata": {}
  },
  {
   "cell_type": "code",
   "execution_count": 42,
   "source": [
    "list(lit_grafitoso_1kk.MAPA.unique())"
   ],
   "outputs": [
    {
     "output_type": "execute_result",
     "data": {
      "text/plain": [
       "['Carta geológica da folha Curitiba',\n",
       " 'Carta geológica da folha Rio de Janeiro',\n",
       " 'Carta geológica da folha Belo Horizonte',\n",
       " 'Carta geológica da folha Brasília',\n",
       " 'Carta geológica da folha Goiás',\n",
       " 'Carta geológica da folha Uruguaiana',\n",
       " 'Carta geológica da folha Porto Alegre',\n",
       " 'Carta geológica da folha Goiânia',\n",
       " 'Carta geológica da folha Tocantins',\n",
       " 'Carta geológica da folha Salvador',\n",
       " 'Carta geológica da folha Aracaju',\n",
       " 'Carta geológica da folha Rio Doce',\n",
       " 'Carta geológica da folha Araguaia',\n",
       " 'Carta geológica da folha Juruena']"
      ]
     },
     "metadata": {},
     "execution_count": 42
    }
   ],
   "metadata": {}
  },
  {
   "cell_type": "code",
   "execution_count": 23,
   "source": [
    "l_100k = mf.mapa"
   ],
   "outputs": [],
   "metadata": {}
  },
  {
   "cell_type": "code",
   "execution_count": 24,
   "source": [
    "l_100k = l_100k.fillna('Vazio')"
   ],
   "outputs": [],
   "metadata": {}
  },
  {
   "cell_type": "code",
   "execution_count": 25,
   "source": [
    "l_vazio_100k = l_100k[l_100k['LITOTIPOS'].str.contains(\"Vazio\")]\n",
    "print(l_vazio_100k.shape)\n",
    "print(l_100k.shape)\n"
   ],
   "outputs": [
    {
     "output_type": "stream",
     "name": "stdout",
     "text": [
      "(2033, 27)\n",
      "(59268, 27)\n"
     ]
    }
   ],
   "metadata": {}
  },
  {
   "cell_type": "code",
   "execution_count": 26,
   "source": [
    "litotipo_grafitico_l100k = l_100k[l_100k['LITOTIPOS'].str.contains(\"graf\")]\n",
    "\n",
    "legenda_grafitico_l100k = l_100k[l_100k['LEGENDA'].str.contains(\"graf\")]"
   ],
   "outputs": [],
   "metadata": {}
  },
  {
   "cell_type": "code",
   "execution_count": 27,
   "source": [
    "print(litotipo_grafitico_l100k.shape)\n",
    "list(litotipo_grafitico_l100k.LITOTIPOS.head())"
   ],
   "outputs": [
    {
     "output_type": "stream",
     "name": "stdout",
     "text": [
      "(383, 27)\n"
     ]
    },
    {
     "output_type": "execute_result",
     "data": {
      "text/plain": [
       "['Filito grafítico, Mica xisto, Quartzito, Rocha calcissilicática',\n",
       " 'Filito grafítico, Mica xisto, Quartzito, Rocha calcissilicática',\n",
       " 'Filito grafítico, Mica xisto, Quartzito, Rocha calcissilicática',\n",
       " 'Filito grafítico, Mica xisto, Quartzito, Rocha calcissilicática',\n",
       " 'Filito, Filito grafítico, Quartzito, Quartzito ferruginoso']"
      ]
     },
     "metadata": {},
     "execution_count": 27
    }
   ],
   "metadata": {}
  },
  {
   "cell_type": "code",
   "execution_count": 28,
   "source": [
    "print(legenda_grafitico_l100k.shape)\n",
    "list(legenda_grafitico_l100k.LEGENDA.unique())"
   ],
   "outputs": [
    {
     "output_type": "stream",
     "name": "stdout",
     "text": [
      "(2404, 27)\n"
     ]
    },
    {
     "output_type": "execute_result",
     "data": {
      "text/plain": [
       "['Depósitos argilo-arenosos avermelhados com horizontes conglomeráticos localizados (cascalhos) e com desenvolvimento local de processos de laterização, representado por horizontes métricos de latossolos avermelhados. Ocorrem em terrenos topograficame',\n",
       " 'Xistos pelíticos dominados por sillimanita-granada-biotita xisto, muscovita xisto, estaurolita-biotita-quartzo xisto e grafita xisto subordinado.',\n",
       " 'Sericita quartzo xistos e xistos grafitosos intercalados com quartzo xistos e quartzitos. Com intercalações subordinadas de mármores.',\n",
       " 'Quartzitos e muscovita quartzitos predominantes, com grafita xistos e metapelitos subordinados; metamorfismo na fácies xisto verde médio a anfibolito médio, localmente superior.',\n",
       " 'Metapelitos, grafita xisto, xistos quartzo-feldspáticos, quartzitos, mármores, ardósias, anfibolitos e metavulcânicas intermediárias com metamorfismo nas fácies xisto-verde superior a anfibolito. Ocorrem lentes estreitas de quartzitos ferruginoso e',\n",
       " 'Predomínio de mica xistos e filitos grafitosos com rochas calciossilicáticas e quartzitos.',\n",
       " 'Muscovita-biotita-quartzo xistos, biotita-quartzo xistos, subodinadamente feldspáticos, granada-muscovita-quartzo xistos, granada-biotita-quartzo xistos, com intercalações de grafita xistos, clorita-sericita xistos, clorita-quartzo-biotita xisto',\n",
       " 'Clorita-sericita xisto, mica-quartzo xistos com lentes de cianitito, biotita xisto, clorita-quartzo xisto, granada-muscovita-quartzo xisto silicificado, granada-biotita-quartzo xisto, muscovita-granada xisto com intercalações de grafita xisto, quartzo-',\n",
       " 'Quartzito micáceo, mármore, quartzo-xisto, xisto aluminoso, por vezes grafitoso, e anfibolito subordinado, foliados e crenulados, apresentando metamorfismo de fácies xisto verde a anfibolito. Ocorre ainda lentes de minério de manganês.',\n",
       " 'Calcarenito fino a médio negro a cinza escuro, calcissiltito com níveis grafitosos,níveis finos de siltito bege; Calcários calcíticos e dolomíticos com oólitos, estromatólitos colunares centimétricos, intraclastos, estratificação cruzada tabul',\n",
       " 'Biotita-muscovita-quartzo xisto, muscovita-clorita-quartzo xisto,com grafita e granada.',\n",
       " 'Paragnaisse com bandas claras ricas em quartzo e feldspato e as bandas máficas ricas em biotita, alterando para clorita e fengita; ilmenita passando para titanita;  minerais opacos e cristais de grafita.',\n",
       " 'Depósitos quatzo-arenosos com granulometria heterogênea, amarelo-acastanhadas, subarredondadas a arredondadas, mal selecionadas, com laminação plano-paralela incipiente. Ocorrem em regiões topograficamente mais elevadas, se associando, muitas vezes,',\n",
       " 'Filito serecítico, grafitoso e localmente pode apresentar clorita e sedimentos carbonáticos e na parte superior finas camadas de chert e hematita.',\n",
       " 'Muscovita-xistos e quartzo-xistos predominantes; xistos ferruginosos e grafitosos subordinados. Textura granoblástica fina, comumente granatíferos com intercalações de níveis quartzíticos.',\n",
       " 'Filito carbonoso/hematítico/manganesífero/grafitoso, metarritmito, metassiltito, metarenito  feldspático e  metaquartzarenito, sericíticos e biotíticos. Níveis de metamicroconglomerados polimítico e oligomítico, de metarenito ferruginoso e de met',\n",
       " 'Cordierita-grafita-sillimanita-granada-biotita gnaisse kinzigítico; cordierita-sillimanita-biotita gnaisse bandado, com intercalações de quartzito, rochas calcissilicáticas e anfibolitos.',\n",
       " 'Associação meta-vulcanossedimentar: biotita xisto, mica xisto, granada-biotita xisto, cianita-grafita-mica-quartzo xisto e grafita-mica xisto intercalados em contato gradacional a mica-quartzo xisto, quartzo xisto e sericita quartzito. Ocorrem ainda in',\n",
       " 'Formação ferrífera, quartzito ferruginoso, mármore, grafita xisto, xisto e rocha calcissilicática; metakomatiítito, metamafito, metaperidotito e metadunito (cúmulos de olivina e magnetita), metapiroxenito, metagabro maciço, serpentina mármore, s',\n",
       " 'Quartzito ferruginoso, formação ferrífera, xisto, grafita xisto, rochas calcissilicáticas e metaultramáficas, metabasalto e metachert.',\n",
       " 'Metavulcânicas básica-intermediária/ácida associadas com metatufos, metapelitos grafitosos, metacarbonatos e metacherts.',\n",
       " 'Gnaisse kinzigítico, rocha calcissilicática , quartzito, formação ferrífera, grafita xisto e anfibolito/metamafito; Paragnaisses granulitizados podendo conter raras sillimanitas, de cor escura, granulação fina a média',\n",
       " 'Granulitos alumino-magnesianos,quartzitos, e bandas metabásicas intercaladas. Os granulitos alumino-magnesianos são constituídos de quartzo, ortopiroxênio, granada, sillimanita e plagioclásio, tendo a microclina pertítica, opacos, rutilo, grafita,',\n",
       " 'Metabasalto tholeíitico, anfibolito fino (metabasalto) foliado, formação ferrífera, metachert, filito grafitoso e metacarbonato.',\n",
       " 'Granada-biotita-quartzo gnaisse cinza, fino a grosso, parcialmente migmatizado, grafita gnaisse, gnaisse kinzingitico, rocha calcissilicática, formação ferrífera, quartzito, metachert e anfibolito.',\n",
       " 'Ortognaisse diorítico, quartzo-diorítico, tonalítico e granodiorítico com biotita e/ou anfibólio, localmente com augen gnaisses, lentes de anfibolitos, metamáficas, granulito, migmatito, magnetita-grunerita xisto, grafita xisto, gondito, mármore e',\n",
       " 'Mármore de granulação média a grossa, coloração cinza, podendo conter grafita e flogopita como minerais acessórios. Níveis de rochas calcissilicáticas ocorrem localmente.',\n",
       " 'Anfibolito, metandesito e metadacito, talco xisto, clorita xisto, estaurolita-biotita xisto, quartzo diorito, granada-clorita xisto, grafita xisto, clorita-actinolita xisto, sericita quartzito ferruginoso, mármore, granada-quartzo-muscovita xisto com bi',\n",
       " 'Filitos e xistos pelíticos, lentes de mármores e calcissilicáticas; com quartzitos subordinados. Quartzitos, com grafita xistos e metapelitos subordinados.',\n",
       " 'Anfibolito, serpentinito, actinolita xisto, quartzito, formação ferrífera bandada, metapelito grafitoso manganesífero e ferruginoso além de xistos ultramáficos subordinadamente máficos e paragnaisses finos. Idade de metamorfismo 2840± 90 Ma (Ar-A',\n",
       " 'Quartzitos, xistos paraderivados, filito grafitoso, metarenito, grauvaca e chert. Xistosidade proeminente, chegando a bandamento localizado. Metamorfismo em fácies xisto-verde.',\n",
       " 'Migmatitos paraderivados,frequentemente de estruturas bandada-dobradas, de mesossoma xistoso, rico em biotita, com ou sem granada e sillimanita. Geralmente com leucossomas brancos quartzo-feldspáticos (± granada). Localmente cristais de grafita (~1 cm)',\n",
       " 'Muscovita-grafita-(pirita)-quartzo-xistos, localmente manganesíferos, e formações manganesíferas bandadas, foliados e crenulados, apresentando metamorfismo de fácies xisto verde médio a alto.',\n",
       " 'Filito e filito grafitoso.',\n",
       " 'Rochas metassedimentares clásticas (metaconglomerado, quatzito, filito carbonoso, filito, xisto, sericita xisto, xisto grafitoso, quartzito, quartzito ferruginoso) e químicas (camadas de dolomito, mármore dolomítico  e finas lentes de formação ferr',\n",
       " 'Rocha ultramáfica, lava komatíitica serpentinizada, talcificada, breha de fluxo, metassedimentares, grafita xisto, formação ferrífera, metachert carbonoso e ferrífero, anfibolito, hidrotermalitos, metavulcânicas básicas e ultramáficas, micaxisto',\n",
       " 'Metavulcânicas máficas e intermediárias, metabasalto, xisto máfico, actinolita-tremolita-quartzo xisto máfico, clorita-quartzo xisto, carbonato-clorita-quartzo xisto, talco xisto, metatufo feldspático, formação ferrífera, metachert, grafita meta',\n",
       " 'Predomínio de metarritmitos e meta-arenitos laminados a bandados, por vezes impuro e arcoseanos associados a xistos, filitos, grafita filitos e metaconglomerados.']"
      ]
     },
     "metadata": {},
     "execution_count": 28
    }
   ],
   "metadata": {}
  },
  {
   "cell_type": "code",
   "execution_count": 1,
   "source": [
    "mapas_leg_gr_100k = list(legenda_grafitico_l100k.MAPA.unique())\n",
    "print(len(mapas_leg_gr_100k))\n",
    "\n",
    "mapas_lito_gr_100k = list(litotipo_grafitico_l100k.MAPA.unique())\n",
    "print(len(mapas_lito_gr_100k))"
   ],
   "outputs": [
    {
     "output_type": "error",
     "ename": "NameError",
     "evalue": "name 'legenda_grafitico_l100k' is not defined",
     "traceback": [
      "\u001b[0;31m---------------------------------------------------------------------------\u001b[0m",
      "\u001b[0;31mNameError\u001b[0m                                 Traceback (most recent call last)",
      "\u001b[0;32m<ipython-input-1-54d34455e350>\u001b[0m in \u001b[0;36m<module>\u001b[0;34m\u001b[0m\n\u001b[0;32m----> 1\u001b[0;31m \u001b[0mmapas_leg_gr_100k\u001b[0m \u001b[0;34m=\u001b[0m \u001b[0mlist\u001b[0m\u001b[0;34m(\u001b[0m\u001b[0mlegenda_grafitico_l100k\u001b[0m\u001b[0;34m.\u001b[0m\u001b[0mMAPA\u001b[0m\u001b[0;34m.\u001b[0m\u001b[0munique\u001b[0m\u001b[0;34m(\u001b[0m\u001b[0;34m)\u001b[0m\u001b[0;34m)\u001b[0m\u001b[0;34m\u001b[0m\u001b[0;34m\u001b[0m\u001b[0m\n\u001b[0m\u001b[1;32m      2\u001b[0m \u001b[0mprint\u001b[0m\u001b[0;34m(\u001b[0m\u001b[0mlen\u001b[0m\u001b[0;34m(\u001b[0m\u001b[0mmapas_leg_gr_100k\u001b[0m\u001b[0;34m)\u001b[0m\u001b[0;34m)\u001b[0m\u001b[0;34m\u001b[0m\u001b[0;34m\u001b[0m\u001b[0m\n\u001b[1;32m      3\u001b[0m \u001b[0;34m\u001b[0m\u001b[0m\n\u001b[1;32m      4\u001b[0m \u001b[0mmapas_lito_gr_100k\u001b[0m \u001b[0;34m=\u001b[0m \u001b[0mlist\u001b[0m\u001b[0;34m(\u001b[0m\u001b[0mlitotipo_grafitico_l100k\u001b[0m\u001b[0;34m.\u001b[0m\u001b[0mMAPA\u001b[0m\u001b[0;34m.\u001b[0m\u001b[0munique\u001b[0m\u001b[0;34m(\u001b[0m\u001b[0;34m)\u001b[0m\u001b[0;34m)\u001b[0m\u001b[0;34m\u001b[0m\u001b[0;34m\u001b[0m\u001b[0m\n\u001b[1;32m      5\u001b[0m \u001b[0mprint\u001b[0m\u001b[0;34m(\u001b[0m\u001b[0mlen\u001b[0m\u001b[0;34m(\u001b[0m\u001b[0mmapas_lito_gr_100k\u001b[0m\u001b[0;34m)\u001b[0m\u001b[0;34m)\u001b[0m\u001b[0;34m\u001b[0m\u001b[0;34m\u001b[0m\u001b[0m\n",
      "\u001b[0;31mNameError\u001b[0m: name 'legenda_grafitico_l100k' is not defined"
     ]
    }
   ],
   "metadata": {}
  },
  {
   "cell_type": "code",
   "execution_count": 58,
   "source": [
    "mapas_lito_gr_100k"
   ],
   "outputs": [
    {
     "output_type": "execute_result",
     "data": {
      "text/plain": [
       "['Carta geológica da folha Cerro Azul',\n",
       " 'Carta geológica da folha Apiaí',\n",
       " 'Carta geológica da folha Coromandel',\n",
       " 'Carta geológica da folha Serra da Tiririca',\n",
       " 'Carta geológica da folha Guarda Mor',\n",
       " 'Carta geológica da folha Cabeceira Grande',\n",
       " 'Carta geológica da folha Ribeirão Arrojado',\n",
       " 'Carta geológica da folha Alpinópolis - UERJ',\n",
       " 'Carta geológica da folha Patos de Minas',\n",
       " 'Carta geológica da folha Paracatu',\n",
       " 'Carta geológica da folha Arrenegado',\n",
       " 'Carta geológica da folha Piumhi - UFRJ',\n",
       " 'Carta geológica da folha Guapé - UERJ',\n",
       " 'Carta geológica da folha Cacimba',\n",
       " 'Carta geológica da folha Itararé',\n",
       " 'Carta geológica da folha Serra da Aldeia',\n",
       " 'Carta geológica da folha Brasilândia',\n",
       " 'Carta geológica da folha Monte Carmelo',\n",
       " 'Carta geológica da folha Lagamar',\n",
       " 'Carta geológica da folha Caiana',\n",
       " 'Carta geológica da folha Paranatinga',\n",
       " 'Carta geológica da folha Monte Azul - UFMG']"
      ]
     },
     "metadata": {},
     "execution_count": 58
    }
   ],
   "metadata": {}
  },
  {
   "cell_type": "code",
   "execution_count": 59,
   "source": [
    "list_gr_100k=mapas_lito_gr_100k\n",
    "indice=0\n",
    "for i in mapas_lito_gr_100k:\n",
    "    print(i)\n",
    "    list_gr_100k[indice] = l_100k[l_100k['MAPA'].str.contains(\"i\")]\n",
    "    indice+=1\n"
   ],
   "outputs": [
    {
     "output_type": "stream",
     "name": "stdout",
     "text": [
      "Carta geológica da folha Cerro Azul\n",
      "Carta geológica da folha Apiaí\n",
      "Carta geológica da folha Coromandel\n",
      "Carta geológica da folha Serra da Tiririca\n",
      "Carta geológica da folha Guarda Mor\n",
      "Carta geológica da folha Cabeceira Grande\n",
      "Carta geológica da folha Ribeirão Arrojado\n",
      "Carta geológica da folha Alpinópolis - UERJ\n",
      "Carta geológica da folha Patos de Minas\n",
      "Carta geológica da folha Paracatu\n",
      "Carta geológica da folha Arrenegado\n",
      "Carta geológica da folha Piumhi - UFRJ\n",
      "Carta geológica da folha Guapé - UERJ\n",
      "Carta geológica da folha Cacimba\n",
      "Carta geológica da folha Itararé\n",
      "Carta geológica da folha Serra da Aldeia\n",
      "Carta geológica da folha Brasilândia\n",
      "Carta geológica da folha Monte Carmelo\n",
      "Carta geológica da folha Lagamar\n",
      "Carta geológica da folha Caiana\n",
      "Carta geológica da folha Paranatinga\n",
      "Carta geológica da folha Monte Azul - UFMG\n"
     ]
    }
   ],
   "metadata": {}
  },
  {
   "cell_type": "code",
   "execution_count": 3,
   "source": [
    "len(list_gr_100k)\n"
   ],
   "outputs": [
    {
     "output_type": "error",
     "ename": "NameError",
     "evalue": "name 'list_gr_100k' is not defined",
     "traceback": [
      "\u001b[0;31m---------------------------------------------------------------------------\u001b[0m",
      "\u001b[0;31mNameError\u001b[0m                                 Traceback (most recent call last)",
      "\u001b[0;32m<ipython-input-3-a4bb31fe68b0>\u001b[0m in \u001b[0;36m<module>\u001b[0;34m\u001b[0m\n\u001b[0;32m----> 1\u001b[0;31m \u001b[0mlen\u001b[0m\u001b[0;34m(\u001b[0m\u001b[0mlist_gr_100k\u001b[0m\u001b[0;34m)\u001b[0m\u001b[0;34m\u001b[0m\u001b[0;34m\u001b[0m\u001b[0m\n\u001b[0m",
      "\u001b[0;31mNameError\u001b[0m: name 'list_gr_100k' is not defined"
     ]
    }
   ],
   "metadata": {}
  },
  {
   "cell_type": "markdown",
   "source": [
    "### Desafio desnecessário para provar meus conhecimentos com for loops:"
   ],
   "metadata": {}
  },
  {
   "cell_type": "code",
   "execution_count": 540,
   "source": [
    "lista_mapa = list(l_1kk.MAPA.unique())\n",
    "print(len(lista_mapa))\n",
    "lista_nome=[]\n",
    "\n",
    "for mapa in lista_mapa:\n",
    "    trash=0\n",
    "    Mapa=[]\n",
    "    for letra in mapa:\n",
    "        if trash<25:\n",
    "            trash+=1\n",
    "        else:\n",
    "            Mapa+=letra\n",
    "    lista_nome += [''.join(Mapa)]"
   ],
   "outputs": [],
   "metadata": {}
  },
  {
   "cell_type": "code",
   "execution_count": null,
   "source": [
    "lista_nome"
   ],
   "outputs": [],
   "metadata": {}
  },
  {
   "cell_type": "code",
   "execution_count": 510,
   "source": [
    "folha=lista_nome\n",
    "indice=0\n",
    "for i in lista_nome:\n",
    "    print(i)\n",
    "    folha[indice] = l_1kk[l_1kk['MAPA'].str.contains(i)].dissolve('MAPA')\n",
    "    indice+=1"
   ],
   "outputs": [
    {
     "output_type": "stream",
     "name": "stdout",
     "text": [
      "Contamana\n",
      "Javari\n",
      "Rio Branco\n",
      "Juruá\n",
      "Içá\n",
      "Pico da Neblina\n",
      "Guaporé\n",
      "Porto Velho\n",
      "Purus\n",
      "Manaus\n",
      "Boa Vista\n",
      "Corumbá\n",
      "Cuiabá\n",
      "Juruena\n",
      "Tapajós\n",
      "Santarém\n",
      "Tumucumaque\n",
      "Uruguaiana\n",
      "Campo Grande\n",
      "Asunción\n",
      "Lagoa Mirim\n",
      "Porto Alegre\n",
      "Curitiba\n",
      "Paranapanema\n",
      "Goiânia\n",
      "Goiás\n",
      "Tocantins\n",
      "Araguaia\n",
      "Belém\n",
      "Macapá\n",
      "Iguape\n",
      "Rio de Janeiro\n",
      "Belo Horizonte\n",
      "Brasília\n",
      "Rio São Francisco\n",
      "Teresina\n",
      "São Luis\n",
      "Vitória\n",
      "Rio Doce\n",
      "Salvador\n",
      "Aracaju\n",
      "Jaguaribe\n",
      "Fortaleza\n",
      "Recife\n",
      "Natal\n"
     ]
    }
   ],
   "metadata": {}
  },
  {
   "cell_type": "code",
   "execution_count": 517,
   "source": [
    "folha[31].plot()"
   ],
   "outputs": [
    {
     "output_type": "display_data",
     "data": {
      "text/plain": [
       "Canvas(toolbar=Toolbar(toolitems=[('Home', 'Reset original view', 'home', 'home'), ('Back', 'Back to previous …"
      ],
      "application/vnd.jupyter.widget-view+json": {
       "model_id": "6b1a8e2e6bd64bc784fc7ffc80add64d",
       "version_major": 2,
       "version_minor": 0
      }
     },
     "metadata": {}
    },
    {
     "output_type": "execute_result",
     "data": {
      "text/plain": [
       "<AxesSubplot:>"
      ]
     },
     "metadata": {},
     "execution_count": 517
    }
   ],
   "metadata": {}
  },
  {
   "cell_type": "markdown",
   "source": [
    "tired for now"
   ],
   "metadata": {}
  },
  {
   "cell_type": "code",
   "execution_count": 544,
   "source": [
    "lista_mapa = list(l_100k.MAPA.unique())\n",
    "lista_mapa"
   ],
   "outputs": [
    {
     "output_type": "execute_result",
     "data": {
      "text/plain": [
       "['Carta geológica da folha Paulo Saldanha',\n",
       " 'Carta geológica da folha Rio Tanaru - SD.20-X-B-IV',\n",
       " 'Carta geológica da folha Roncador',\n",
       " 'Carta geológica da folha Rio Pardo',\n",
       " 'Carta geológica da folha Pimenta Bueno',\n",
       " 'Carta geológica da folha Serra da Providência',\n",
       " 'Carta geológica da folha Ji Paraná',\n",
       " 'Carta geológica da folha Vila Nova',\n",
       " 'Carta geológica da folha Vila de Tepequém',\n",
       " 'Carta geológica da folha Betânia - UFMT',\n",
       " 'Carta geológica da folha Rio Escondido',\n",
       " 'Carta geológica da folha Ilha do Porto',\n",
       " 'Carta geológica da folha Porto Triunfo SD.20-X-B-V',\n",
       " 'Carta geológica da folha NA-20-Z-D-III',\n",
       " 'Carta geológica da folha Novo Paraíso',\n",
       " 'Carta geológica da folha Santa Rita - UFMT',\n",
       " 'Carta geológica da folha Santa Barbara - UFMT',\n",
       " 'Carta geológica da folha Serra da Borda',\n",
       " 'Carta geológica da folha Rio Novo',\n",
       " 'Carta geológica da folha Rio Pindaituba - UFMT',\n",
       " 'Carta geológica da folha Vila Oeste',\n",
       " 'Carta geológica da folha Jauru - UFMT',\n",
       " 'Carta geológica da folha Rio Branco - UFMT',\n",
       " 'Carta geológica da folha Ilha Porto Escondido',\n",
       " 'Carta geológica da folha Colônia São Lourenço',\n",
       " 'Carta geológica da folha Fazenda Santa Otília',\n",
       " 'Carta geológica da folha Aldeia Tomázia',\n",
       " 'Carta geológica da folha Rio Perdido',\n",
       " 'Carta geológica da folha Fazenda Margarida',\n",
       " 'Carta geológica da folha Vila Campão',\n",
       " 'Carta geológica da folha São Domingos',\n",
       " 'Carta geológica da folha Rio Ratão',\n",
       " 'Carta geológica da folha Cuiú-Cuiú',\n",
       " 'Carta geológica da folha Cachoeira Seca',\n",
       " 'Carta geológica da folha Vila Planalto',\n",
       " 'Carta geológica da folha Ilha Mambuai',\n",
       " 'Carta geológica da folha Uruá',\n",
       " 'Carta geológica da folha Barão de Melgaço - UFMT',\n",
       " 'Carta geológica da folha Rio Nhandu',\n",
       " 'Carta geológica da folha Jardim do Ouro',\n",
       " 'Carta geológica da folha Igrejinha - UNISINOS',\n",
       " 'Carta geológica da folha Bagé',\n",
       " 'Carta geológica da folha Aceguá',\n",
       " 'Carta geológica da folha Lagoa da Meia Lua',\n",
       " 'Carta geológica da folha Brasilândia',\n",
       " 'Carta geológica da folha Cacimba',\n",
       " 'Carta geológica da folha Paranatinga',\n",
       " 'Carta geológica da folha Rio Braço Sul',\n",
       " 'Carta geológica da folha Serra do Cachimbo',\n",
       " 'Carta geológica da folha Curral de Pedras',\n",
       " 'Carta geológica da folha Arroio Grande',\n",
       " 'Carta geológica da folha Jaguarão',\n",
       " 'Carta geológica da folha Passo São Diogo',\n",
       " 'Carta geológica da folha Hulha Negra',\n",
       " 'Carta geológica da folha Pinheiro Machado',\n",
       " 'Carta geológica da folha Lavras do Sul',\n",
       " 'Carta geológica da folha Santa Maria - RS',\n",
       " 'Carta geológica da folha Sobradinho',\n",
       " 'Carta geológica da folha Agudo',\n",
       " 'Carta geológica da folha Três Passos',\n",
       " 'Carta geológica da folha Frederico Westphalen',\n",
       " 'Carta geológica da folha Matarazzo',\n",
       " 'Carta geológica da folha Pelotas',\n",
       " 'Carta geológica da folha Pedro Osório',\n",
       " 'Carta geológica da folha Placa Nativa',\n",
       " 'Carta geológica da folha Nova Xavantina',\n",
       " 'Carta geológica da folha Rio Bacajá - UFPR',\n",
       " 'Carta geológica da folha Gravataí - UFRGS',\n",
       " 'Carta geológica da folha Sanclerlândia',\n",
       " 'Carta geológica da folha Rio Inajá',\n",
       " 'Carta geológica da folha São João Batista',\n",
       " 'Carta geológica da folha Marajoara',\n",
       " 'Carta geológica da folha Caldeirão',\n",
       " 'Carta geológica da folha Itararé',\n",
       " 'Carta geológica da folha Cerro Azul',\n",
       " 'Carta geológica da folha Itaberaí',\n",
       " 'Carta geológica da folha Nazário',\n",
       " 'Carta geológica da folha Santa Teresinha de Goiás - UNB',\n",
       " 'Carta geológica da folha Campinorte - UNB',\n",
       " 'Carta geológica da folha Novo Planalto',\n",
       " 'Carta geológica da folha Porangatu - UNB',\n",
       " 'Carta geológica da folha Serra Pelada',\n",
       " 'Carta geológica da folha Apiaí',\n",
       " 'Carta geológica da folha Eldorado Paulista',\n",
       " 'Carta geológica da folha Mata Azul',\n",
       " 'Carta geológica da folha Belém 100.000',\n",
       " 'Carta geológica da folha Iguape',\n",
       " 'Carta geológica da folha Registro',\n",
       " 'Carta geológica da folha Monte Carmelo',\n",
       " 'Carta geológica da folha Coromandel',\n",
       " 'Carta geológica da folha Serra da Tiririca',\n",
       " 'Carta geológica da folha Guarda Mor',\n",
       " 'Carta geológica da folha Paracatu',\n",
       " 'Carta geológica da folha Cabeceira Grande',\n",
       " 'Carta geológica da folha Ribeirão Arrojado',\n",
       " 'Carta geológica da folha Cavalcante - UNB',\n",
       " 'Carta geológica da folha Imperatriz',\n",
       " 'Carta geológica da folha Alpinópolis - UERJ',\n",
       " 'Carta geológica da folha Lagamar',\n",
       " 'Carta geológica da folha Patos de Minas',\n",
       " 'Carta geológica da folha Arrenegado',\n",
       " 'Carta geológica da folha Unaí',\n",
       " 'Carta geológica da folha Serra da Aldeia',\n",
       " 'Carta geológica da folha Monte Alegre de Goiás - UNB',\n",
       " 'Carta geológica da folha Nova Roma - UNB',\n",
       " 'Carta geológica da folha Centro Novo do Maranhão',\n",
       " 'Carta geológica da folha Santa Luzia do Pará',\n",
       " 'Carta geológica da folha Cândido Mendes',\n",
       " 'Carta geológica da folha Campos do Jordão - UFRJ/FUJB',\n",
       " 'Carta geológica da folha Pouso Alegre - UFRJ/FUJB',\n",
       " 'Carta geológica da folha Itajubá - UFRJ',\n",
       " 'Carta geológica da folha Pindamonhangaba - UFRJ/FUJB',\n",
       " 'Carta geológica da folha Campo Belo - UFOP',\n",
       " 'Carta geológica da folha Machado - UFRJ/FUJB',\n",
       " 'Carta geológica da folha Alfenas - UFRJ/FUJB',\n",
       " 'Carta geológica da folha Varginha - UFRJ',\n",
       " 'Carta geológica da folha Nepomuceno - UFRJ',\n",
       " 'Carta geológica da folha Guapé - UERJ',\n",
       " 'Carta geológica da folha Piumhi - UFRJ',\n",
       " 'Carta geológica da folha Divinópolis',\n",
       " 'Carta geológica da folha Bom Despacho',\n",
       " 'Carta geológica da folha Abaeté',\n",
       " 'Carta geológica da folha Cristalândia do Piauí',\n",
       " 'Carta geológica da folha Angra dos Reis - UERJ',\n",
       " 'Carta geológica da folha Santa Rita de Jacutinga - UERJ',\n",
       " 'Carta geológica da folha Volta Redonda - UERJ',\n",
       " 'Carta geológica da folha Oliveira - UFOP',\n",
       " 'Carta geológica da folha Entre Rios de Minas',\n",
       " 'Carta geológica da folha Igarapé',\n",
       " 'Carta geológica da folha Pompéu',\n",
       " 'Carta geológica da folha Pará de Minas - UFMG',\n",
       " 'Carta geológica da folha Sete Lagoas',\n",
       " 'Carta geológica da folha Contagem',\n",
       " 'Carta geológica da folha Andrequice - UFMG',\n",
       " 'Carta geológica da folha Morro da Garça - UFMG',\n",
       " 'Carta geológica da folha Corinto - UFMG',\n",
       " 'Carta geológica da folha Curvelo - UFMG',\n",
       " 'Carta geológica da folha Serra do Cabral - UFMG',\n",
       " 'Carta geológica da folha Jequitaí - UFMG',\n",
       " 'Carta geológica da folha Santa Maria da Vitória',\n",
       " 'Carta geológica da folha Rio Paraim',\n",
       " 'Carta geológica da folha Parnaguá',\n",
       " 'Carta geológica da folha Curimatá',\n",
       " 'Carta geológica da folha Mansidão',\n",
       " 'Carta geológica da folha Baia de Guanabara - UERJ',\n",
       " 'Carta geológica da folha Barra do Piraí - UERJ',\n",
       " 'Carta geológica da folha Três Rios - UERJ',\n",
       " 'Carta geológica da folha Conselheiro Lafaiete',\n",
       " 'Carta geológica da folha Baldim',\n",
       " 'Carta geológica da folha Belo Horizonte',\n",
       " 'Carta geológica da folha Bocaiuva - UFMG',\n",
       " 'Carta geológica da folha Montes Claros - UFMG',\n",
       " 'Carta geológica da folha Ibotirama',\n",
       " 'Carta geológica da folha Barra',\n",
       " 'Carta geológica da folha Morpará',\n",
       " 'Carta geológica da folha Avelino Lopes',\n",
       " 'Carta geológica da folha Cabeças no Tempo',\n",
       " 'Carta geológica da folha Peixe',\n",
       " 'Carta geológica da folha Nova Friburgo - UERJ',\n",
       " 'Carta geológica da folha Cabo Frio - UERJ',\n",
       " 'Carta geológica da folha Casimiro de Abreu - UERJ',\n",
       " 'Carta geológica da folha Santo Antônio de Pádua - UERJ',\n",
       " 'Carta geológica da folha Viçosa - UFMG',\n",
       " 'Carta geológica da folha Carangola - UFMG',\n",
       " 'Carta geológica da folha Manhuaçú - UFMG',\n",
       " 'Carta geológica da folha Monte Azul - UFMG',\n",
       " 'Carta geológica da folha Taiobeiras - UFMG',\n",
       " 'Carta geológica da folha Caetité - UFBA',\n",
       " 'Carta geológica da folha Macaúbas',\n",
       " 'Carta geológica da folha Riacho de Santana',\n",
       " 'Carta geológica da folha Boquira',\n",
       " 'Carta geológica da folha Oliveira dos Brejinhos',\n",
       " 'Carta geológica da folha Ouricuri do Ouro',\n",
       " 'Carta geológica da folha Ipupiara',\n",
       " 'Carta geológica da folha Gentio do Ouro',\n",
       " 'Carta geológica da folha Barra do Mendes',\n",
       " 'Carta geológica da folha Central',\n",
       " 'Carta geológica da folha São Raimundo Nonato',\n",
       " 'Carta geológica da folha Remanso',\n",
       " 'Carta geológica da folha Bom Jardim',\n",
       " 'Carta geológica da folha Barragem',\n",
       " 'Carta geológica da folha Rio das Ostras - UERJ',\n",
       " 'Carta geológica da folha Macaé - UERJ',\n",
       " 'Carta geológica da folha Itaperuna - UERJ',\n",
       " 'Carta geológica da folha São Fidelis - UERJ',\n",
       " 'Carta geológica da folha Espera Feliz - UFMG',\n",
       " 'Carta geológica da folha Manhumirim - UFMG',\n",
       " 'Carta geológica da folha Itaobim',\n",
       " 'Carta geológica da folha Comercinho',\n",
       " 'Carta geológica da folha Jequitinhonha',\n",
       " 'Carta geológica da folha Joaima',\n",
       " 'Carta geológica da folha Condeúba',\n",
       " 'Carta geológica da folha Brumado',\n",
       " 'Carta geológica da folha Tanhaçu',\n",
       " 'Carta geológica da folha Rio de Contas',\n",
       " 'Carta geológica da folha Tombador',\n",
       " 'Carta geológica da folha Lagoa do Alegre',\n",
       " 'Carta geológica da folha Casa Nova',\n",
       " 'Carta geológica da folha Serra dos Brejinhos',\n",
       " 'Carta geológica da folha Riacho Queimadas',\n",
       " 'Carta geológica da folha Parambu',\n",
       " 'Carta geológica da folha Guarapari - UFES',\n",
       " 'Carta geológica da folha Vitória - UFES',\n",
       " 'Carta geológica da folha São Gabriel da Palha',\n",
       " 'Carta geológica da folha Aracruz - UFES',\n",
       " 'Carta geológica da folha Linhares',\n",
       " 'Carta geológica da folha Mantena - UFMG',\n",
       " 'Carta geológica da folha Ecoporanga - UFMG',\n",
       " 'Carta geológica da folha Nova Venécia - UFMG',\n",
       " 'Carta geológica da folha Montanha - UFMG',\n",
       " 'Carta geológica da folha Almenara',\n",
       " 'Carta geológica da folha Rio do Prado',\n",
       " 'Carta geológica da folha Manoel Vitorino',\n",
       " 'Carta geológica da folha Maracás',\n",
       " 'Carta geológica da folha Jequié',\n",
       " 'Carta geológica da folha Ruy Barbosa',\n",
       " 'Carta geológica da folha Itaberaba',\n",
       " 'Carta geológica da folha Piritiba',\n",
       " 'Carta geológica da folha Jacobina',\n",
       " 'Carta geológica da folha Mirangaba',\n",
       " 'Carta geológica da folha Caldeirão Grande',\n",
       " 'Carta geológica da folha Mundo Novo',\n",
       " 'Carta geológica da folha Brejão da Caatinga',\n",
       " 'Carta geológica da folha Campo Formoso',\n",
       " 'Carta geológica da folha Senhor do Bonfim',\n",
       " 'Carta geológica da folha Campo dos Cavalos',\n",
       " 'Carta geológica da folha Petrolina',\n",
       " 'Carta geológica da folha Itamontinga',\n",
       " 'Carta geológica da folha Juremal',\n",
       " 'Carta geológica da folha Cristália',\n",
       " 'Carta geológica da folha Cruz de Malta',\n",
       " 'Carta geológica da folha Fronteiras',\n",
       " 'Carta geológica da folha Ouricuri',\n",
       " 'Carta geológica da folha Pio IX - UFC',\n",
       " 'Carta geológica da folha Novo Oriente',\n",
       " 'Carta geológica da folha Crateus',\n",
       " 'Carta geológica da folha Independência',\n",
       " 'Carta geológica da folha Várzea do Boi',\n",
       " 'Carta geológica da folha Ipu - UFPA',\n",
       " 'Carta geológica da folha Ipueiras',\n",
       " 'Carta geológica da folha Granja -UFC',\n",
       " 'Carta geológica da folha Sobral - UFPA',\n",
       " 'Carta geológica da folha Irauçuba',\n",
       " 'Carta geológica da folha Regência - UFES',\n",
       " 'Carta geológica da folha Ipiau - UFBA',\n",
       " 'Carta geológica da folha Amargosa - UFBA',\n",
       " 'Carta geológica da folha Jaguaquara - UFBA',\n",
       " 'Carta geológica da folha Andorinha',\n",
       " 'Carta geológica da folha Monte Santo',\n",
       " 'Carta geológica da folha Barro Vermelho',\n",
       " 'Carta geológica da folha Pinhões',\n",
       " 'Carta geológica da folha Uauá',\n",
       " 'Carta geológica da folha Macururé',\n",
       " 'Carta geológica da folha Santa Maria da Boa Vista',\n",
       " 'Carta geológica da folha Parnamirim',\n",
       " 'Carta geológica da folha Chorrochó',\n",
       " 'Carta geológica da folha Salgueiro',\n",
       " 'Carta geológica da folha Bodocó',\n",
       " 'Carta geológica da folha Jardim',\n",
       " 'Carta geológica da folha Cedro',\n",
       " 'Carta geológica da folha Mombaça',\n",
       " 'Carta geológica da folha Boa Viagem - UFC',\n",
       " 'Carta geológica da folha Senador Pompeu',\n",
       " 'Carta geológica da folha Quixeramobim - UFC',\n",
       " 'Carta geológica da folha Taperuaba - UFC',\n",
       " 'Carta geológica da folha Itatira - UFC',\n",
       " 'Carta geológica da folha Quixadá 100.000',\n",
       " 'Carta geológica da folha Itapipoca',\n",
       " 'Carta geológica da folha Caimbé',\n",
       " 'Carta geológica da folha Ribeira do Pombal',\n",
       " 'Carta geológica da folha Jeremoabo',\n",
       " 'Carta geológica da folha Cícero Dantas',\n",
       " 'Carta geológica da folha Mirandiba',\n",
       " 'Carta geológica da folha Serra Talhada - UFPE',\n",
       " 'Carta geológica da folha Cajazeiras',\n",
       " 'Carta geológica da folha Pau dos Ferros - UFRN',\n",
       " 'Carta geológica da folha Banabuiú',\n",
       " 'Carta geológica da folha Jaguaretama - UFC',\n",
       " 'Carta geológica da folha Baturité',\n",
       " 'Carta geológica da folha Itapiúna',\n",
       " 'Carta geológica da folha Poço da Cruz - UFPE',\n",
       " 'Carta geológica da folha Sertânia',\n",
       " 'Carta geológica da folha Buíque',\n",
       " 'Carta geológica da folha Apodi - UFRN',\n",
       " 'Carta geológica da folha Mossoró - UFRN',\n",
       " 'Carta geológica da folha Pesqueira',\n",
       " 'Carta geológica da folha Venturosa - UFPE',\n",
       " 'Carta geológica da folha Belo Jardim - UFPE',\n",
       " 'Carta geológica da folha Garanhuns - UFPE',\n",
       " 'Carta geológica da folha Juazeirinho',\n",
       " 'Carta geológica da folha Santa Cruz do Capibaribe',\n",
       " 'Carta geológica da folha Boqueirão',\n",
       " 'Carta geológica da folha Currais Novos',\n",
       " 'Carta geológica da folha Jardim do Seridó - UFRN',\n",
       " 'Carta geológica e de recursos minerais da folha Santa Cruz',\n",
       " 'Carta geológica da folha Macau - UFRN',\n",
       " 'Carta geológica da folha Jandaira - UFRN',\n",
       " 'Carta geológica e de recursos minerais da folha Lajes',\n",
       " 'Carta geológica da folha Surubim - UFPE',\n",
       " 'Carta geológica da folha Campina Grande',\n",
       " 'Carta geológica da folha Sapé - UFPE',\n",
       " 'Carta geológica da folha São José do Campestre-UnB',\n",
       " 'Carta geológica da folha Solânea - UFPE',\n",
       " 'Carta geológica da folha São José do Mipibu',\n",
       " 'Carta geológica da folha Guarabira - UFPE',\n",
       " 'Carta geológica da folha Cabedelo - UFPE',\n",
       " 'Carta geológica da folha João Camara - UnB',\n",
       " 'Carta geológica da folha Natal - UFRN',\n",
       " 'Carta geológica da folha Touros - UFRN',\n",
       " 'Carta geológica da folha Itamaracá - UFPE',\n",
       " 'Carta geológica da folha Caiana']"
      ]
     },
     "metadata": {},
     "execution_count": 544
    }
   ],
   "metadata": {}
  },
  {
   "cell_type": "code",
   "execution_count": 546,
   "source": [
    "lista_nome=[]\n",
    "for mapa in lista_mapa:\n",
    "    trash=0\n",
    "    Mapa=[]\n",
    "    for letra in mapa:\n",
    "        if trash<25:\n",
    "            trash+=1\n",
    "        else:\n",
    "            Mapa+=letra\n",
    "    lista_nome += [''.join(Mapa)]"
   ],
   "outputs": [],
   "metadata": {}
  },
  {
   "cell_type": "code",
   "execution_count": 547,
   "source": [
    "len(lista_nome)"
   ],
   "outputs": [
    {
     "output_type": "execute_result",
     "data": {
      "text/plain": [
       "311"
      ]
     },
     "metadata": {},
     "execution_count": 547
    }
   ],
   "metadata": {}
  },
  {
   "cell_type": "code",
   "execution_count": 549,
   "source": [
    "folha=lista_nome\n",
    "indice=0\n",
    "for i in lista_nome:\n",
    "    print(i)\n",
    "    folha[indice] = l_100k[l_100k['MAPA'].str.contains(i)].dissolve('MAPA')\n",
    "    indice+=1"
   ],
   "outputs": [
    {
     "output_type": "stream",
     "name": "stdout",
     "text": [
      "Paulo Saldanha\n",
      "Rio Tanaru - SD.20-X-B-IV\n",
      "Roncador\n",
      "Rio Pardo\n",
      "Pimenta Bueno\n",
      "Serra da Providência\n",
      "Ji Paraná\n",
      "Vila Nova\n",
      "Vila de Tepequém\n",
      "Betânia - UFMT\n",
      "Rio Escondido\n",
      "Ilha do Porto\n",
      "Porto Triunfo SD.20-X-B-V\n",
      "NA-20-Z-D-III\n",
      "Novo Paraíso\n",
      "Santa Rita - UFMT\n",
      "Santa Barbara - UFMT\n",
      "Serra da Borda\n",
      "Rio Novo\n",
      "Rio Pindaituba - UFMT\n",
      "Vila Oeste\n",
      "Jauru - UFMT\n",
      "Rio Branco - UFMT\n",
      "Ilha Porto Escondido\n",
      "Colônia São Lourenço\n",
      "Fazenda Santa Otília\n",
      "Aldeia Tomázia\n",
      "Rio Perdido\n",
      "Fazenda Margarida\n",
      "Vila Campão\n",
      "São Domingos\n",
      "Rio Ratão\n",
      "Cuiú-Cuiú\n",
      "Cachoeira Seca\n",
      "Vila Planalto\n",
      "Ilha Mambuai\n",
      "Uruá\n",
      "Barão de Melgaço - UFMT\n",
      "Rio Nhandu\n",
      "Jardim do Ouro\n",
      "Igrejinha - UNISINOS\n",
      "Bagé\n",
      "Aceguá\n",
      "Lagoa da Meia Lua\n",
      "Brasilândia\n",
      "Cacimba\n",
      "Paranatinga\n",
      "Rio Braço Sul\n",
      "Serra do Cachimbo\n",
      "Curral de Pedras\n",
      "Arroio Grande\n",
      "Jaguarão\n",
      "Passo São Diogo\n",
      "Hulha Negra\n",
      "Pinheiro Machado\n",
      "Lavras do Sul\n",
      "Santa Maria - RS\n",
      "Sobradinho\n",
      "Agudo\n",
      "Três Passos\n",
      "Frederico Westphalen\n",
      "Matarazzo\n",
      "Pelotas\n",
      "Pedro Osório\n",
      "Placa Nativa\n",
      "Nova Xavantina\n",
      "Rio Bacajá - UFPR\n",
      "Gravataí - UFRGS\n",
      "Sanclerlândia\n",
      "Rio Inajá\n",
      "São João Batista\n",
      "Marajoara\n",
      "Caldeirão\n",
      "Itararé\n",
      "Cerro Azul\n",
      "Itaberaí\n",
      "Nazário\n",
      "Santa Teresinha de Goiás - UNB\n",
      "Campinorte - UNB\n",
      "Novo Planalto\n",
      "Porangatu - UNB\n",
      "Serra Pelada\n",
      "Apiaí\n",
      "Eldorado Paulista\n",
      "Mata Azul\n",
      "Belém 100.000\n",
      "Iguape\n",
      "Registro\n",
      "Monte Carmelo\n",
      "Coromandel\n",
      "Serra da Tiririca\n",
      "Guarda Mor\n",
      "Paracatu\n",
      "Cabeceira Grande\n",
      "Ribeirão Arrojado\n",
      "Cavalcante - UNB\n",
      "Imperatriz\n",
      "Alpinópolis - UERJ\n",
      "Lagamar\n",
      "Patos de Minas\n",
      "Arrenegado\n",
      "Unaí\n",
      "Serra da Aldeia\n",
      "Monte Alegre de Goiás - UNB\n",
      "Nova Roma - UNB\n",
      "Centro Novo do Maranhão\n",
      "Santa Luzia do Pará\n",
      "Cândido Mendes\n",
      "Campos do Jordão - UFRJ/FUJB\n",
      "Pouso Alegre - UFRJ/FUJB\n",
      "Itajubá - UFRJ\n",
      "Pindamonhangaba - UFRJ/FUJB\n",
      "Campo Belo - UFOP\n",
      "Machado - UFRJ/FUJB\n",
      "Alfenas - UFRJ/FUJB\n",
      "Varginha - UFRJ\n",
      "Nepomuceno - UFRJ\n",
      "Guapé - UERJ\n",
      "Piumhi - UFRJ\n",
      "Divinópolis\n",
      "Bom Despacho\n",
      "Abaeté\n",
      "Cristalândia do Piauí\n",
      "Angra dos Reis - UERJ\n",
      "Santa Rita de Jacutinga - UERJ\n",
      "Volta Redonda - UERJ\n",
      "Oliveira - UFOP\n",
      "Entre Rios de Minas\n",
      "Igarapé\n",
      "Pompéu\n",
      "Pará de Minas - UFMG\n",
      "Sete Lagoas\n",
      "Contagem\n",
      "Andrequice - UFMG\n",
      "Morro da Garça - UFMG\n",
      "Corinto - UFMG\n",
      "Curvelo - UFMG\n",
      "Serra do Cabral - UFMG\n",
      "Jequitaí - UFMG\n",
      "Santa Maria da Vitória\n",
      "Rio Paraim\n",
      "Parnaguá\n",
      "Curimatá\n",
      "Mansidão\n",
      "Baia de Guanabara - UERJ\n",
      "Barra do Piraí - UERJ\n",
      "Três Rios - UERJ\n",
      "Conselheiro Lafaiete\n",
      "Baldim\n",
      "Belo Horizonte\n",
      "Bocaiuva - UFMG\n",
      "Montes Claros - UFMG\n",
      "Ibotirama\n",
      "Barra\n",
      "Morpará\n",
      "Avelino Lopes\n",
      "Cabeças no Tempo\n",
      "Peixe\n",
      "Nova Friburgo - UERJ\n",
      "Cabo Frio - UERJ\n",
      "Casimiro de Abreu - UERJ\n",
      "Santo Antônio de Pádua - UERJ\n",
      "Viçosa - UFMG\n",
      "Carangola - UFMG\n",
      "Manhuaçú - UFMG\n",
      "Monte Azul - UFMG\n",
      "Taiobeiras - UFMG\n",
      "Caetité - UFBA\n",
      "Macaúbas\n",
      "Riacho de Santana\n",
      "Boquira\n",
      "Oliveira dos Brejinhos\n",
      "Ouricuri do Ouro\n",
      "Ipupiara\n",
      "Gentio do Ouro\n",
      "Barra do Mendes\n",
      "Central\n",
      "São Raimundo Nonato\n",
      "Remanso\n",
      "Bom Jardim\n",
      "Barragem\n",
      "Rio das Ostras - UERJ\n",
      "Macaé - UERJ\n",
      "Itaperuna - UERJ\n",
      "São Fidelis - UERJ\n",
      "Espera Feliz - UFMG\n",
      "Manhumirim - UFMG\n",
      "Itaobim\n",
      "Comercinho\n",
      "Jequitinhonha\n",
      "Joaima\n",
      "Condeúba\n",
      "Brumado\n",
      "Tanhaçu\n",
      "Rio de Contas\n",
      "Tombador\n",
      "Lagoa do Alegre\n",
      "Casa Nova\n",
      "Serra dos Brejinhos\n",
      "Riacho Queimadas\n",
      "Parambu\n",
      "Guarapari - UFES\n",
      "Vitória - UFES\n",
      "São Gabriel da Palha\n",
      "Aracruz - UFES\n",
      "Linhares\n",
      "Mantena - UFMG\n",
      "Ecoporanga - UFMG\n",
      "Nova Venécia - UFMG\n",
      "Montanha - UFMG\n",
      "Almenara\n",
      "Rio do Prado\n",
      "Manoel Vitorino\n",
      "Maracás\n",
      "Jequié\n",
      "Ruy Barbosa\n",
      "Itaberaba\n",
      "Piritiba\n",
      "Jacobina\n",
      "Mirangaba\n",
      "Caldeirão Grande\n",
      "Mundo Novo\n",
      "Brejão da Caatinga\n",
      "Campo Formoso\n",
      "Senhor do Bonfim\n",
      "Campo dos Cavalos\n",
      "Petrolina\n",
      "Itamontinga\n",
      "Juremal\n",
      "Cristália\n",
      "Cruz de Malta\n",
      "Fronteiras\n",
      "Ouricuri\n",
      "Pio IX - UFC\n",
      "Novo Oriente\n",
      "Crateus\n",
      "Independência\n",
      "Várzea do Boi\n",
      "Ipu - UFPA\n",
      "Ipueiras\n",
      "Granja -UFC\n",
      "Sobral - UFPA\n",
      "Irauçuba\n",
      "Regência - UFES\n",
      "Ipiau - UFBA\n",
      "Amargosa - UFBA\n",
      "Jaguaquara - UFBA\n",
      "Andorinha\n",
      "Monte Santo\n",
      "Barro Vermelho\n",
      "Pinhões\n",
      "Uauá\n",
      "Macururé\n",
      "Santa Maria da Boa Vista\n",
      "Parnamirim\n",
      "Chorrochó\n",
      "Salgueiro\n",
      "Bodocó\n",
      "Jardim\n",
      "Cedro\n",
      "Mombaça\n",
      "Boa Viagem - UFC\n",
      "Senador Pompeu\n",
      "Quixeramobim - UFC\n",
      "Taperuaba - UFC\n",
      "Itatira - UFC\n",
      "Quixadá 100.000\n",
      "Itapipoca\n",
      "Caimbé\n",
      "Ribeira do Pombal\n",
      "Jeremoabo\n",
      "Cícero Dantas\n",
      "Mirandiba\n",
      "Serra Talhada - UFPE\n",
      "Cajazeiras\n",
      "Pau dos Ferros - UFRN\n",
      "Banabuiú\n",
      "Jaguaretama - UFC\n",
      "Baturité\n",
      "Itapiúna\n",
      "Poço da Cruz - UFPE\n",
      "Sertânia\n",
      "Buíque\n",
      "Apodi - UFRN\n",
      "Mossoró - UFRN\n",
      "Pesqueira\n",
      "Venturosa - UFPE\n",
      "Belo Jardim - UFPE\n",
      "Garanhuns - UFPE\n",
      "Juazeirinho\n",
      "Santa Cruz do Capibaribe\n",
      "Boqueirão\n",
      "Currais Novos\n",
      "Jardim do Seridó - UFRN\n",
      "rsos minerais da folha Santa Cruz\n",
      "Macau - UFRN\n",
      "Jandaira - UFRN\n",
      "rsos minerais da folha Lajes\n",
      "Surubim - UFPE\n",
      "Campina Grande\n",
      "Sapé - UFPE\n",
      "São José do Campestre-UnB\n",
      "Solânea - UFPE\n",
      "São José do Mipibu\n",
      "Guarabira - UFPE\n",
      "Cabedelo - UFPE\n",
      "João Camara - UnB\n",
      "Natal - UFRN\n",
      "Touros - UFRN\n",
      "Itamaracá - UFPE\n",
      "Caiana\n"
     ]
    }
   ],
   "metadata": {}
  },
  {
   "cell_type": "code",
   "execution_count": 550,
   "source": [
    "len(folha)"
   ],
   "outputs": [
    {
     "output_type": "execute_result",
     "data": {
      "text/plain": [
       "311"
      ]
     },
     "metadata": {},
     "execution_count": 550
    }
   ],
   "metadata": {}
  }
 ],
 "metadata": {
  "interpreter": {
   "hash": "2bc076d9378ac5ac660ba4f6a46900d2ea3732140aaa213526ceb6851acbc3f5"
  },
  "kernelspec": {
   "name": "python3",
   "display_name": "Python 3.8.2 64-bit ('mappingBot': conda)"
  },
  "language_info": {
   "name": "python",
   "version": "3.8.2",
   "mimetype": "text/x-python",
   "codemirror_mode": {
    "name": "ipython",
    "version": 3
   },
   "pygments_lexer": "ipython3",
   "nbconvert_exporter": "python",
   "file_extension": ".py"
  },
  "orig_nbformat": 4
 },
 "nbformat": 4,
 "nbformat_minor": 2
}