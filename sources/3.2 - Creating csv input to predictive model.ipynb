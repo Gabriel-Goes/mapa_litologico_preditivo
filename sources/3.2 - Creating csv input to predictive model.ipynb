{
 "cells": [
  {
   "cell_type": "code",
   "execution_count": null,
   "metadata": {},
   "outputs": [],
   "source": []
  },
  {
   "cell_type": "code",
   "execution_count": null,
   "metadata": {},
   "outputs": [],
   "source": []
  },
  {
   "cell_type": "code",
   "execution_count": null,
   "metadata": {},
   "outputs": [],
   "source": []
  },
  {
   "cell_type": "code",
   "execution_count": null,
   "metadata": {},
   "outputs": [],
   "source": []
  },
  {
   "cell_type": "code",
   "execution_count": 18,
   "metadata": {},
   "outputs": [],
   "source": [
    "import geopandas as gpd\n",
    "import pandas as pd\n",
    "import verde as vd\n",
    "import numpy as np\n",
    "from shapely import geometry\n",
    "\n",
    "\n",
    "import matplotlib.pyplot as plt\n",
    "%matplotlib widget\n",
    "\n",
    "gdb='/home/ggrl/geodatabase/'"
   ]
  },
  {
   "cell_type": "code",
   "execution_count": 10,
   "metadata": {},
   "outputs": [],
   "source": [
    "g_rparaim = pd.read_csv(gdb+'geof/recortado/g_rparaim')"
   ]
  },
  {
   "cell_type": "code",
   "execution_count": 7,
   "metadata": {},
   "outputs": [],
   "source": [
    "rparaim = gpd.read_file(gdb+'geodatabase.gpkg',\n",
    "                        driver='GPKG',\n",
    "                        layer='l_100k')[gpd.read_file(gdb+'geodatabase.gpkg',\n",
    "                            driver='GPKG',\n",
    "                            layer='l_100k').MAPA == 'Carta geológica da folha Rio Paraim']"
   ]
  },
  {
   "cell_type": "code",
   "execution_count": 55,
   "metadata": {},
   "outputs": [
    {
     "data": {
      "application/vnd.jupyter.widget-view+json": {
       "model_id": "e35867138a6a4c829d50bef07c037f34",
       "version_major": 2,
       "version_minor": 0
      },
      "text/plain": [
       "Canvas(toolbar=Toolbar(toolitems=[('Home', 'Reset original view', 'home', 'home'), ('Back', 'Back to previous …"
      ]
     },
     "metadata": {},
     "output_type": "display_data"
    },
    {
     "data": {
      "text/plain": [
       "<AxesSubplot:>"
      ]
     },
     "execution_count": 55,
     "metadata": {},
     "output_type": "execute_result"
    }
   ],
   "source": [
    "rparaim.plot()"
   ]
  },
  {
   "cell_type": "code",
   "execution_count": 23,
   "metadata": {},
   "outputs": [
    {
     "data": {
      "text/plain": [
       "<Geographic 2D CRS: EPSG:4326>\n",
       "Name: WGS 84\n",
       "Axis Info [ellipsoidal]:\n",
       "- Lat[north]: Geodetic latitude (degree)\n",
       "- Lon[east]: Geodetic longitude (degree)\n",
       "Area of Use:\n",
       "- name: World\n",
       "- bounds: (-180.0, -90.0, 180.0, 90.0)\n",
       "Datum: World Geodetic System 1984\n",
       "- Ellipsoid: WGS 84\n",
       "- Prime Meridian: Greenwich"
      ]
     },
     "execution_count": 23,
     "metadata": {},
     "output_type": "execute_result"
    }
   ],
   "source": [
    "rparaim.crs"
   ]
  },
  {
   "cell_type": "code",
   "execution_count": 43,
   "metadata": {},
   "outputs": [],
   "source": [
    "rparaim = rparaim.to_crs('EPSG:32723')"
   ]
  },
  {
   "cell_type": "code",
   "execution_count": 69,
   "metadata": {},
   "outputs": [
    {
     "data": {
      "application/vnd.jupyter.widget-view+json": {
       "model_id": "c11f58dd78494a1293a83b75bafe75f9",
       "version_major": 2,
       "version_minor": 0
      },
      "text/plain": [
       "Canvas(toolbar=Toolbar(toolitems=[('Home', 'Reset original view', 'home', 'home'), ('Back', 'Back to previous …"
      ]
     },
     "metadata": {},
     "output_type": "display_data"
    },
    {
     "data": {
      "text/plain": [
       "<AxesSubplot:>"
      ]
     },
     "execution_count": 69,
     "metadata": {},
     "output_type": "execute_result"
    }
   ],
   "source": [
    "rparaim.plot()"
   ]
  },
  {
   "cell_type": "code",
   "execution_count": 59,
   "metadata": {},
   "outputs": [],
   "source": [
    "coordinates = (g_rparaim.X.values, g_rparaim.Y.values)\n",
    "\n",
    "chain_CTCOR = vd.Chain([\n",
    "    ('trend',  vd.Trend(degree=1)),\n",
    "    ('reduce', vd.BlockReduce(np.median, spacing=1000)),\n",
    "    ('spline', vd.Spline()),\n",
    "])\n",
    "\n",
    "chain_CTCOR.fit(coordinates, g_rparaim.CTCOR)\n",
    "\n",
    "grid_CTCOR = chain_CTCOR.grid(spacing=200, data_names=['CTCOR'])\n",
    "CTCOR_grid = vd.distance_mask(coordinates, maxdist=1000, grid=grid_CTCOR)\n",
    "\n",
    "geof = CTCOR_grid.to_dataframe()\n",
    "geof.reset_index(inplace=True)"
   ]
  },
  {
   "cell_type": "code",
   "execution_count": 72,
   "metadata": {},
   "outputs": [],
   "source": [
    "'''\n",
    "bounds =  rparaim.unary_union.bounds\n",
    "\n",
    "reg = (bounds[0],bounds[2],\n",
    "          bounds[1],bounds[3])\n",
    "'''\n",
    "region = vd.get_region(coordinates)\n",
    "grid_coords = vd.grid_coordinates(region, spacing = 200,pixel_register=True)"
   ]
  },
  {
   "cell_type": "code",
   "execution_count": 60,
   "metadata": {},
   "outputs": [],
   "source": [
    "geof['geometry'] = [geometry.Point(x,y) for x, y in zip(geof['easting'], geof['northing'])]"
   ]
  },
  {
   "cell_type": "code",
   "execution_count": 61,
   "metadata": {},
   "outputs": [],
   "source": [
    "gdf = gpd.GeoDataFrame(geof)"
   ]
  },
  {
   "cell_type": "code",
   "execution_count": 62,
   "metadata": {},
   "outputs": [],
   "source": [
    "gdf = gdf.set_crs('EPSG:32723')"
   ]
  },
  {
   "cell_type": "code",
   "execution_count": 63,
   "metadata": {},
   "outputs": [
    {
     "data": {
      "text/plain": [
       "<Projected CRS: EPSG:32723>\n",
       "Name: WGS 84 / UTM zone 23S\n",
       "Axis Info [cartesian]:\n",
       "- E[east]: Easting (metre)\n",
       "- N[north]: Northing (metre)\n",
       "Area of Use:\n",
       "- name: World - S hemisphere - 48°W to 42°W - by country\n",
       "- bounds: (-48.0, -80.0, -42.0, 0.0)\n",
       "Coordinate Operation:\n",
       "- name: UTM zone 23S\n",
       "- method: Transverse Mercator\n",
       "Datum: World Geodetic System 1984\n",
       "- Ellipsoid: WGS 84\n",
       "- Prime Meridian: Greenwich"
      ]
     },
     "execution_count": 63,
     "metadata": {},
     "output_type": "execute_result"
    }
   ],
   "source": [
    "gdf.crs"
   ]
  },
  {
   "cell_type": "code",
   "execution_count": 64,
   "metadata": {},
   "outputs": [
    {
     "data": {
      "text/plain": [
       "<Projected CRS: EPSG:32723>\n",
       "Name: WGS 84 / UTM zone 23S\n",
       "Axis Info [cartesian]:\n",
       "- E[east]: Easting (metre)\n",
       "- N[north]: Northing (metre)\n",
       "Area of Use:\n",
       "- name: World - S hemisphere - 48°W to 42°W - by country\n",
       "- bounds: (-48.0, -80.0, -42.0, 0.0)\n",
       "Coordinate Operation:\n",
       "- name: UTM zone 23S\n",
       "- method: Transverse Mercator\n",
       "Datum: World Geodetic System 1984\n",
       "- Ellipsoid: WGS 84\n",
       "- Prime Meridian: Greenwich"
      ]
     },
     "execution_count": 64,
     "metadata": {},
     "output_type": "execute_result"
    }
   ],
   "source": [
    "rparaim.crs"
   ]
  },
  {
   "cell_type": "code",
   "execution_count": 65,
   "metadata": {},
   "outputs": [
    {
     "data": {
      "application/vnd.jupyter.widget-view+json": {
       "model_id": "e9d30aed87db4f259b7b52b79beaa6e7",
       "version_major": 2,
       "version_minor": 0
      },
      "text/plain": [
       "Canvas(toolbar=Toolbar(toolitems=[('Home', 'Reset original view', 'home', 'home'), ('Back', 'Back to previous …"
      ]
     },
     "metadata": {},
     "output_type": "display_data"
    },
    {
     "data": {
      "text/plain": [
       "<AxesSubplot:>"
      ]
     },
     "execution_count": 65,
     "metadata": {},
     "output_type": "execute_result"
    }
   ],
   "source": [
    "base = rparaim.plot('SIGLA')\n",
    "gdf.plot(ax=base,markersize=0.5)"
   ]
  },
  {
   "cell_type": "code",
   "execution_count": 78,
   "metadata": {},
   "outputs": [
    {
     "data": {
      "application/vnd.jupyter.widget-view+json": {
       "model_id": "e6325ba66e2e4b00b9221a9950ab7577",
       "version_major": 2,
       "version_minor": 0
      },
      "text/plain": [
       "Canvas(toolbar=Toolbar(toolitems=[('Home', 'Reset original view', 'home', 'home'), ('Back', 'Back to previous …"
      ]
     },
     "metadata": {},
     "output_type": "display_data"
    },
    {
     "data": {
      "text/plain": [
       "<matplotlib.collections.PathCollection at 0x7ff3ab5ff3a0>"
      ]
     },
     "execution_count": 78,
     "metadata": {},
     "output_type": "execute_result"
    }
   ],
   "source": [
    "rparaim.plot('SIGLA')\n",
    "plt.scatter(grid_coords[0],grid_coords[1],cmap='black',s=2)\n"
   ]
  },
  {
   "cell_type": "code",
   "execution_count": 87,
   "metadata": {},
   "outputs": [
    {
     "data": {
      "text/plain": [
       "277"
      ]
     },
     "execution_count": 87,
     "metadata": {},
     "output_type": "execute_result"
    }
   ],
   "source": [
    "len(grid_coords[0])"
   ]
  },
  {
   "cell_type": "code",
   "execution_count": 92,
   "metadata": {},
   "outputs": [
    {
     "data": {
      "text/html": [
       "<div>\n",
       "<style scoped>\n",
       "    .dataframe tbody tr th:only-of-type {\n",
       "        vertical-align: middle;\n",
       "    }\n",
       "\n",
       "    .dataframe tbody tr th {\n",
       "        vertical-align: top;\n",
       "    }\n",
       "\n",
       "    .dataframe thead th {\n",
       "        text-align: right;\n",
       "    }\n",
       "</style>\n",
       "<table border=\"1\" class=\"dataframe\">\n",
       "  <thead>\n",
       "    <tr style=\"text-align: right;\">\n",
       "      <th></th>\n",
       "      <th>0</th>\n",
       "      <th>1</th>\n",
       "      <th>2</th>\n",
       "      <th>3</th>\n",
       "      <th>4</th>\n",
       "      <th>5</th>\n",
       "      <th>6</th>\n",
       "      <th>7</th>\n",
       "      <th>8</th>\n",
       "      <th>9</th>\n",
       "      <th>...</th>\n",
       "      <th>267</th>\n",
       "      <th>268</th>\n",
       "      <th>269</th>\n",
       "      <th>270</th>\n",
       "      <th>271</th>\n",
       "      <th>272</th>\n",
       "      <th>273</th>\n",
       "      <th>274</th>\n",
       "      <th>275</th>\n",
       "      <th>276</th>\n",
       "    </tr>\n",
       "  </thead>\n",
       "  <tbody>\n",
       "    <tr>\n",
       "      <th>0</th>\n",
       "      <td>500105.462198</td>\n",
       "      <td>500105.462198</td>\n",
       "      <td>500105.462198</td>\n",
       "      <td>500105.462198</td>\n",
       "      <td>500105.462198</td>\n",
       "      <td>500105.462198</td>\n",
       "      <td>500105.462198</td>\n",
       "      <td>500105.462198</td>\n",
       "      <td>500105.462198</td>\n",
       "      <td>500105.462198</td>\n",
       "      <td>...</td>\n",
       "      <td>500105.462198</td>\n",
       "      <td>500105.462198</td>\n",
       "      <td>500105.462198</td>\n",
       "      <td>500105.462198</td>\n",
       "      <td>500105.462198</td>\n",
       "      <td>500105.462198</td>\n",
       "      <td>500105.462198</td>\n",
       "      <td>500105.462198</td>\n",
       "      <td>500105.462198</td>\n",
       "      <td>500105.462198</td>\n",
       "    </tr>\n",
       "    <tr>\n",
       "      <th>1</th>\n",
       "      <td>500305.786593</td>\n",
       "      <td>500305.786593</td>\n",
       "      <td>500305.786593</td>\n",
       "      <td>500305.786593</td>\n",
       "      <td>500305.786593</td>\n",
       "      <td>500305.786593</td>\n",
       "      <td>500305.786593</td>\n",
       "      <td>500305.786593</td>\n",
       "      <td>500305.786593</td>\n",
       "      <td>500305.786593</td>\n",
       "      <td>...</td>\n",
       "      <td>500305.786593</td>\n",
       "      <td>500305.786593</td>\n",
       "      <td>500305.786593</td>\n",
       "      <td>500305.786593</td>\n",
       "      <td>500305.786593</td>\n",
       "      <td>500305.786593</td>\n",
       "      <td>500305.786593</td>\n",
       "      <td>500305.786593</td>\n",
       "      <td>500305.786593</td>\n",
       "      <td>500305.786593</td>\n",
       "    </tr>\n",
       "    <tr>\n",
       "      <th>2</th>\n",
       "      <td>500506.110989</td>\n",
       "      <td>500506.110989</td>\n",
       "      <td>500506.110989</td>\n",
       "      <td>500506.110989</td>\n",
       "      <td>500506.110989</td>\n",
       "      <td>500506.110989</td>\n",
       "      <td>500506.110989</td>\n",
       "      <td>500506.110989</td>\n",
       "      <td>500506.110989</td>\n",
       "      <td>500506.110989</td>\n",
       "      <td>...</td>\n",
       "      <td>500506.110989</td>\n",
       "      <td>500506.110989</td>\n",
       "      <td>500506.110989</td>\n",
       "      <td>500506.110989</td>\n",
       "      <td>500506.110989</td>\n",
       "      <td>500506.110989</td>\n",
       "      <td>500506.110989</td>\n",
       "      <td>500506.110989</td>\n",
       "      <td>500506.110989</td>\n",
       "      <td>500506.110989</td>\n",
       "    </tr>\n",
       "    <tr>\n",
       "      <th>3</th>\n",
       "      <td>500706.435385</td>\n",
       "      <td>500706.435385</td>\n",
       "      <td>500706.435385</td>\n",
       "      <td>500706.435385</td>\n",
       "      <td>500706.435385</td>\n",
       "      <td>500706.435385</td>\n",
       "      <td>500706.435385</td>\n",
       "      <td>500706.435385</td>\n",
       "      <td>500706.435385</td>\n",
       "      <td>500706.435385</td>\n",
       "      <td>...</td>\n",
       "      <td>500706.435385</td>\n",
       "      <td>500706.435385</td>\n",
       "      <td>500706.435385</td>\n",
       "      <td>500706.435385</td>\n",
       "      <td>500706.435385</td>\n",
       "      <td>500706.435385</td>\n",
       "      <td>500706.435385</td>\n",
       "      <td>500706.435385</td>\n",
       "      <td>500706.435385</td>\n",
       "      <td>500706.435385</td>\n",
       "    </tr>\n",
       "    <tr>\n",
       "      <th>4</th>\n",
       "      <td>500906.759780</td>\n",
       "      <td>500906.759780</td>\n",
       "      <td>500906.759780</td>\n",
       "      <td>500906.759780</td>\n",
       "      <td>500906.759780</td>\n",
       "      <td>500906.759780</td>\n",
       "      <td>500906.759780</td>\n",
       "      <td>500906.759780</td>\n",
       "      <td>500906.759780</td>\n",
       "      <td>500906.759780</td>\n",
       "      <td>...</td>\n",
       "      <td>500906.759780</td>\n",
       "      <td>500906.759780</td>\n",
       "      <td>500906.759780</td>\n",
       "      <td>500906.759780</td>\n",
       "      <td>500906.759780</td>\n",
       "      <td>500906.759780</td>\n",
       "      <td>500906.759780</td>\n",
       "      <td>500906.759780</td>\n",
       "      <td>500906.759780</td>\n",
       "      <td>500906.759780</td>\n",
       "    </tr>\n",
       "    <tr>\n",
       "      <th>...</th>\n",
       "      <td>...</td>\n",
       "      <td>...</td>\n",
       "      <td>...</td>\n",
       "      <td>...</td>\n",
       "      <td>...</td>\n",
       "      <td>...</td>\n",
       "      <td>...</td>\n",
       "      <td>...</td>\n",
       "      <td>...</td>\n",
       "      <td>...</td>\n",
       "      <td>...</td>\n",
       "      <td>...</td>\n",
       "      <td>...</td>\n",
       "      <td>...</td>\n",
       "      <td>...</td>\n",
       "      <td>...</td>\n",
       "      <td>...</td>\n",
       "      <td>...</td>\n",
       "      <td>...</td>\n",
       "      <td>...</td>\n",
       "      <td>...</td>\n",
       "    </tr>\n",
       "    <tr>\n",
       "      <th>268</th>\n",
       "      <td>553792.400220</td>\n",
       "      <td>553792.400220</td>\n",
       "      <td>553792.400220</td>\n",
       "      <td>553792.400220</td>\n",
       "      <td>553792.400220</td>\n",
       "      <td>553792.400220</td>\n",
       "      <td>553792.400220</td>\n",
       "      <td>553792.400220</td>\n",
       "      <td>553792.400220</td>\n",
       "      <td>553792.400220</td>\n",
       "      <td>...</td>\n",
       "      <td>553792.400220</td>\n",
       "      <td>553792.400220</td>\n",
       "      <td>553792.400220</td>\n",
       "      <td>553792.400220</td>\n",
       "      <td>553792.400220</td>\n",
       "      <td>553792.400220</td>\n",
       "      <td>553792.400220</td>\n",
       "      <td>553792.400220</td>\n",
       "      <td>553792.400220</td>\n",
       "      <td>553792.400220</td>\n",
       "    </tr>\n",
       "    <tr>\n",
       "      <th>269</th>\n",
       "      <td>553992.724615</td>\n",
       "      <td>553992.724615</td>\n",
       "      <td>553992.724615</td>\n",
       "      <td>553992.724615</td>\n",
       "      <td>553992.724615</td>\n",
       "      <td>553992.724615</td>\n",
       "      <td>553992.724615</td>\n",
       "      <td>553992.724615</td>\n",
       "      <td>553992.724615</td>\n",
       "      <td>553992.724615</td>\n",
       "      <td>...</td>\n",
       "      <td>553992.724615</td>\n",
       "      <td>553992.724615</td>\n",
       "      <td>553992.724615</td>\n",
       "      <td>553992.724615</td>\n",
       "      <td>553992.724615</td>\n",
       "      <td>553992.724615</td>\n",
       "      <td>553992.724615</td>\n",
       "      <td>553992.724615</td>\n",
       "      <td>553992.724615</td>\n",
       "      <td>553992.724615</td>\n",
       "    </tr>\n",
       "    <tr>\n",
       "      <th>270</th>\n",
       "      <td>554193.049011</td>\n",
       "      <td>554193.049011</td>\n",
       "      <td>554193.049011</td>\n",
       "      <td>554193.049011</td>\n",
       "      <td>554193.049011</td>\n",
       "      <td>554193.049011</td>\n",
       "      <td>554193.049011</td>\n",
       "      <td>554193.049011</td>\n",
       "      <td>554193.049011</td>\n",
       "      <td>554193.049011</td>\n",
       "      <td>...</td>\n",
       "      <td>554193.049011</td>\n",
       "      <td>554193.049011</td>\n",
       "      <td>554193.049011</td>\n",
       "      <td>554193.049011</td>\n",
       "      <td>554193.049011</td>\n",
       "      <td>554193.049011</td>\n",
       "      <td>554193.049011</td>\n",
       "      <td>554193.049011</td>\n",
       "      <td>554193.049011</td>\n",
       "      <td>554193.049011</td>\n",
       "    </tr>\n",
       "    <tr>\n",
       "      <th>271</th>\n",
       "      <td>554393.373407</td>\n",
       "      <td>554393.373407</td>\n",
       "      <td>554393.373407</td>\n",
       "      <td>554393.373407</td>\n",
       "      <td>554393.373407</td>\n",
       "      <td>554393.373407</td>\n",
       "      <td>554393.373407</td>\n",
       "      <td>554393.373407</td>\n",
       "      <td>554393.373407</td>\n",
       "      <td>554393.373407</td>\n",
       "      <td>...</td>\n",
       "      <td>554393.373407</td>\n",
       "      <td>554393.373407</td>\n",
       "      <td>554393.373407</td>\n",
       "      <td>554393.373407</td>\n",
       "      <td>554393.373407</td>\n",
       "      <td>554393.373407</td>\n",
       "      <td>554393.373407</td>\n",
       "      <td>554393.373407</td>\n",
       "      <td>554393.373407</td>\n",
       "      <td>554393.373407</td>\n",
       "    </tr>\n",
       "    <tr>\n",
       "      <th>272</th>\n",
       "      <td>554593.697802</td>\n",
       "      <td>554593.697802</td>\n",
       "      <td>554593.697802</td>\n",
       "      <td>554593.697802</td>\n",
       "      <td>554593.697802</td>\n",
       "      <td>554593.697802</td>\n",
       "      <td>554593.697802</td>\n",
       "      <td>554593.697802</td>\n",
       "      <td>554593.697802</td>\n",
       "      <td>554593.697802</td>\n",
       "      <td>...</td>\n",
       "      <td>554593.697802</td>\n",
       "      <td>554593.697802</td>\n",
       "      <td>554593.697802</td>\n",
       "      <td>554593.697802</td>\n",
       "      <td>554593.697802</td>\n",
       "      <td>554593.697802</td>\n",
       "      <td>554593.697802</td>\n",
       "      <td>554593.697802</td>\n",
       "      <td>554593.697802</td>\n",
       "      <td>554593.697802</td>\n",
       "    </tr>\n",
       "  </tbody>\n",
       "</table>\n",
       "<p>273 rows × 277 columns</p>\n",
       "</div>"
      ],
      "text/plain": [
       "               0              1              2              3    \\\n",
       "0    500105.462198  500105.462198  500105.462198  500105.462198   \n",
       "1    500305.786593  500305.786593  500305.786593  500305.786593   \n",
       "2    500506.110989  500506.110989  500506.110989  500506.110989   \n",
       "3    500706.435385  500706.435385  500706.435385  500706.435385   \n",
       "4    500906.759780  500906.759780  500906.759780  500906.759780   \n",
       "..             ...            ...            ...            ...   \n",
       "268  553792.400220  553792.400220  553792.400220  553792.400220   \n",
       "269  553992.724615  553992.724615  553992.724615  553992.724615   \n",
       "270  554193.049011  554193.049011  554193.049011  554193.049011   \n",
       "271  554393.373407  554393.373407  554393.373407  554393.373407   \n",
       "272  554593.697802  554593.697802  554593.697802  554593.697802   \n",
       "\n",
       "               4              5              6              7    \\\n",
       "0    500105.462198  500105.462198  500105.462198  500105.462198   \n",
       "1    500305.786593  500305.786593  500305.786593  500305.786593   \n",
       "2    500506.110989  500506.110989  500506.110989  500506.110989   \n",
       "3    500706.435385  500706.435385  500706.435385  500706.435385   \n",
       "4    500906.759780  500906.759780  500906.759780  500906.759780   \n",
       "..             ...            ...            ...            ...   \n",
       "268  553792.400220  553792.400220  553792.400220  553792.400220   \n",
       "269  553992.724615  553992.724615  553992.724615  553992.724615   \n",
       "270  554193.049011  554193.049011  554193.049011  554193.049011   \n",
       "271  554393.373407  554393.373407  554393.373407  554393.373407   \n",
       "272  554593.697802  554593.697802  554593.697802  554593.697802   \n",
       "\n",
       "               8              9    ...            267            268  \\\n",
       "0    500105.462198  500105.462198  ...  500105.462198  500105.462198   \n",
       "1    500305.786593  500305.786593  ...  500305.786593  500305.786593   \n",
       "2    500506.110989  500506.110989  ...  500506.110989  500506.110989   \n",
       "3    500706.435385  500706.435385  ...  500706.435385  500706.435385   \n",
       "4    500906.759780  500906.759780  ...  500906.759780  500906.759780   \n",
       "..             ...            ...  ...            ...            ...   \n",
       "268  553792.400220  553792.400220  ...  553792.400220  553792.400220   \n",
       "269  553992.724615  553992.724615  ...  553992.724615  553992.724615   \n",
       "270  554193.049011  554193.049011  ...  554193.049011  554193.049011   \n",
       "271  554393.373407  554393.373407  ...  554393.373407  554393.373407   \n",
       "272  554593.697802  554593.697802  ...  554593.697802  554593.697802   \n",
       "\n",
       "               269            270            271            272  \\\n",
       "0    500105.462198  500105.462198  500105.462198  500105.462198   \n",
       "1    500305.786593  500305.786593  500305.786593  500305.786593   \n",
       "2    500506.110989  500506.110989  500506.110989  500506.110989   \n",
       "3    500706.435385  500706.435385  500706.435385  500706.435385   \n",
       "4    500906.759780  500906.759780  500906.759780  500906.759780   \n",
       "..             ...            ...            ...            ...   \n",
       "268  553792.400220  553792.400220  553792.400220  553792.400220   \n",
       "269  553992.724615  553992.724615  553992.724615  553992.724615   \n",
       "270  554193.049011  554193.049011  554193.049011  554193.049011   \n",
       "271  554393.373407  554393.373407  554393.373407  554393.373407   \n",
       "272  554593.697802  554593.697802  554593.697802  554593.697802   \n",
       "\n",
       "               273            274            275            276  \n",
       "0    500105.462198  500105.462198  500105.462198  500105.462198  \n",
       "1    500305.786593  500305.786593  500305.786593  500305.786593  \n",
       "2    500506.110989  500506.110989  500506.110989  500506.110989  \n",
       "3    500706.435385  500706.435385  500706.435385  500706.435385  \n",
       "4    500906.759780  500906.759780  500906.759780  500906.759780  \n",
       "..             ...            ...            ...            ...  \n",
       "268  553792.400220  553792.400220  553792.400220  553792.400220  \n",
       "269  553992.724615  553992.724615  553992.724615  553992.724615  \n",
       "270  554193.049011  554193.049011  554193.049011  554193.049011  \n",
       "271  554393.373407  554393.373407  554393.373407  554393.373407  \n",
       "272  554593.697802  554593.697802  554593.697802  554593.697802  \n",
       "\n",
       "[273 rows x 277 columns]"
      ]
     },
     "execution_count": 92,
     "metadata": {},
     "output_type": "execute_result"
    }
   ],
   "source": [
    "pd.DataFrame(np.column_stack(grid_coords[0]))"
   ]
  },
  {
   "cell_type": "code",
   "execution_count": 47,
   "metadata": {},
   "outputs": [
    {
     "ename": "IndexError",
     "evalue": "single positional indexer is out-of-bounds",
     "output_type": "error",
     "traceback": [
      "\u001b[0;31m---------------------------------------------------------------------------\u001b[0m",
      "\u001b[0;31mIndexError\u001b[0m                                Traceback (most recent call last)",
      "\u001b[0;32m<ipython-input-47-4bad2f1f0082>\u001b[0m in \u001b[0;36m<module>\u001b[0;34m\u001b[0m\n\u001b[1;32m      1\u001b[0m \u001b[0mgdf\u001b[0m\u001b[0;34m[\u001b[0m\u001b[0;34m'closest_unid'\u001b[0m\u001b[0;34m]\u001b[0m \u001b[0;34m=\u001b[0m\u001b[0;31m \u001b[0m\u001b[0;31m\\\u001b[0m\u001b[0;34m\u001b[0m\u001b[0;34m\u001b[0m\u001b[0m\n\u001b[0;32m----> 2\u001b[0;31m     \u001b[0mrparaim\u001b[0m\u001b[0;34m[\u001b[0m\u001b[0;34m'geometry'\u001b[0m\u001b[0;34m]\u001b[0m\u001b[0;34m.\u001b[0m\u001b[0mapply\u001b[0m\u001b[0;34m(\u001b[0m\u001b[0;32mlambda\u001b[0m \u001b[0mx\u001b[0m\u001b[0;34m:\u001b[0m \u001b[0mrparaim\u001b[0m\u001b[0;34m[\u001b[0m\u001b[0;34m'SIGLA'\u001b[0m\u001b[0;34m]\u001b[0m\u001b[0;34m.\u001b[0m\u001b[0miloc\u001b[0m\u001b[0;34m[\u001b[0m\u001b[0mrparaim\u001b[0m\u001b[0;34m.\u001b[0m\u001b[0mdistance\u001b[0m\u001b[0;34m(\u001b[0m\u001b[0mx\u001b[0m\u001b[0;34m)\u001b[0m\u001b[0;34m.\u001b[0m\u001b[0midxmin\u001b[0m\u001b[0;34m(\u001b[0m\u001b[0;34m)\u001b[0m\u001b[0;34m]\u001b[0m\u001b[0;34m)\u001b[0m\u001b[0;34m\u001b[0m\u001b[0;34m\u001b[0m\u001b[0m\n\u001b[0m",
      "\u001b[0;32m~/Softwares/anaconda3/envs/mappingBot/lib/python3.8/site-packages/geopandas/geoseries.py\u001b[0m in \u001b[0;36mapply\u001b[0;34m(self, func, args, **kwargs)\u001b[0m\n\u001b[1;32m    317\u001b[0m     \u001b[0;34m@\u001b[0m\u001b[0minherit_doc\u001b[0m\u001b[0;34m(\u001b[0m\u001b[0mpd\u001b[0m\u001b[0;34m.\u001b[0m\u001b[0mSeries\u001b[0m\u001b[0;34m)\u001b[0m\u001b[0;34m\u001b[0m\u001b[0;34m\u001b[0m\u001b[0m\n\u001b[1;32m    318\u001b[0m     \u001b[0;32mdef\u001b[0m \u001b[0mapply\u001b[0m\u001b[0;34m(\u001b[0m\u001b[0mself\u001b[0m\u001b[0;34m,\u001b[0m \u001b[0mfunc\u001b[0m\u001b[0;34m,\u001b[0m \u001b[0margs\u001b[0m\u001b[0;34m=\u001b[0m\u001b[0;34m(\u001b[0m\u001b[0;34m)\u001b[0m\u001b[0;34m,\u001b[0m \u001b[0;34m**\u001b[0m\u001b[0mkwargs\u001b[0m\u001b[0;34m)\u001b[0m\u001b[0;34m:\u001b[0m\u001b[0;34m\u001b[0m\u001b[0;34m\u001b[0m\u001b[0m\n\u001b[0;32m--> 319\u001b[0;31m         \u001b[0mresult\u001b[0m \u001b[0;34m=\u001b[0m \u001b[0msuper\u001b[0m\u001b[0;34m(\u001b[0m\u001b[0;34m)\u001b[0m\u001b[0;34m.\u001b[0m\u001b[0mapply\u001b[0m\u001b[0;34m(\u001b[0m\u001b[0mfunc\u001b[0m\u001b[0;34m,\u001b[0m \u001b[0margs\u001b[0m\u001b[0;34m=\u001b[0m\u001b[0margs\u001b[0m\u001b[0;34m,\u001b[0m \u001b[0;34m**\u001b[0m\u001b[0mkwargs\u001b[0m\u001b[0;34m)\u001b[0m\u001b[0;34m\u001b[0m\u001b[0;34m\u001b[0m\u001b[0m\n\u001b[0m\u001b[1;32m    320\u001b[0m         \u001b[0;32mif\u001b[0m \u001b[0misinstance\u001b[0m\u001b[0;34m(\u001b[0m\u001b[0mresult\u001b[0m\u001b[0;34m,\u001b[0m \u001b[0mGeoSeries\u001b[0m\u001b[0;34m)\u001b[0m\u001b[0;34m:\u001b[0m\u001b[0;34m\u001b[0m\u001b[0;34m\u001b[0m\u001b[0m\n\u001b[1;32m    321\u001b[0m             \u001b[0;32mif\u001b[0m \u001b[0mself\u001b[0m\u001b[0;34m.\u001b[0m\u001b[0mcrs\u001b[0m \u001b[0;32mis\u001b[0m \u001b[0;32mnot\u001b[0m \u001b[0;32mNone\u001b[0m\u001b[0;34m:\u001b[0m\u001b[0;34m\u001b[0m\u001b[0;34m\u001b[0m\u001b[0m\n",
      "\u001b[0;32m~/Softwares/anaconda3/envs/mappingBot/lib/python3.8/site-packages/pandas/core/series.py\u001b[0m in \u001b[0;36mapply\u001b[0;34m(self, func, convert_dtype, args, **kwds)\u001b[0m\n\u001b[1;32m   4136\u001b[0m             \u001b[0;32melse\u001b[0m\u001b[0;34m:\u001b[0m\u001b[0;34m\u001b[0m\u001b[0;34m\u001b[0m\u001b[0m\n\u001b[1;32m   4137\u001b[0m                 \u001b[0mvalues\u001b[0m \u001b[0;34m=\u001b[0m \u001b[0mself\u001b[0m\u001b[0;34m.\u001b[0m\u001b[0mastype\u001b[0m\u001b[0;34m(\u001b[0m\u001b[0mobject\u001b[0m\u001b[0;34m)\u001b[0m\u001b[0;34m.\u001b[0m\u001b[0m_values\u001b[0m\u001b[0;34m\u001b[0m\u001b[0;34m\u001b[0m\u001b[0m\n\u001b[0;32m-> 4138\u001b[0;31m                 \u001b[0mmapped\u001b[0m \u001b[0;34m=\u001b[0m \u001b[0mlib\u001b[0m\u001b[0;34m.\u001b[0m\u001b[0mmap_infer\u001b[0m\u001b[0;34m(\u001b[0m\u001b[0mvalues\u001b[0m\u001b[0;34m,\u001b[0m \u001b[0mf\u001b[0m\u001b[0;34m,\u001b[0m \u001b[0mconvert\u001b[0m\u001b[0;34m=\u001b[0m\u001b[0mconvert_dtype\u001b[0m\u001b[0;34m)\u001b[0m\u001b[0;34m\u001b[0m\u001b[0;34m\u001b[0m\u001b[0m\n\u001b[0m\u001b[1;32m   4139\u001b[0m \u001b[0;34m\u001b[0m\u001b[0m\n\u001b[1;32m   4140\u001b[0m         \u001b[0;32mif\u001b[0m \u001b[0mlen\u001b[0m\u001b[0;34m(\u001b[0m\u001b[0mmapped\u001b[0m\u001b[0;34m)\u001b[0m \u001b[0;32mand\u001b[0m \u001b[0misinstance\u001b[0m\u001b[0;34m(\u001b[0m\u001b[0mmapped\u001b[0m\u001b[0;34m[\u001b[0m\u001b[0;36m0\u001b[0m\u001b[0;34m]\u001b[0m\u001b[0;34m,\u001b[0m \u001b[0mSeries\u001b[0m\u001b[0;34m)\u001b[0m\u001b[0;34m:\u001b[0m\u001b[0;34m\u001b[0m\u001b[0;34m\u001b[0m\u001b[0m\n",
      "\u001b[0;32mpandas/_libs/lib.pyx\u001b[0m in \u001b[0;36mpandas._libs.lib.map_infer\u001b[0;34m()\u001b[0m\n",
      "\u001b[0;32m<ipython-input-47-4bad2f1f0082>\u001b[0m in \u001b[0;36m<lambda>\u001b[0;34m(x)\u001b[0m\n\u001b[1;32m      1\u001b[0m \u001b[0mgdf\u001b[0m\u001b[0;34m[\u001b[0m\u001b[0;34m'closest_unid'\u001b[0m\u001b[0;34m]\u001b[0m \u001b[0;34m=\u001b[0m\u001b[0;31m \u001b[0m\u001b[0;31m\\\u001b[0m\u001b[0;34m\u001b[0m\u001b[0;34m\u001b[0m\u001b[0m\n\u001b[0;32m----> 2\u001b[0;31m     \u001b[0mrparaim\u001b[0m\u001b[0;34m[\u001b[0m\u001b[0;34m'geometry'\u001b[0m\u001b[0;34m]\u001b[0m\u001b[0;34m.\u001b[0m\u001b[0mapply\u001b[0m\u001b[0;34m(\u001b[0m\u001b[0;32mlambda\u001b[0m \u001b[0mx\u001b[0m\u001b[0;34m:\u001b[0m \u001b[0mrparaim\u001b[0m\u001b[0;34m[\u001b[0m\u001b[0;34m'SIGLA'\u001b[0m\u001b[0;34m]\u001b[0m\u001b[0;34m.\u001b[0m\u001b[0miloc\u001b[0m\u001b[0;34m[\u001b[0m\u001b[0mrparaim\u001b[0m\u001b[0;34m.\u001b[0m\u001b[0mdistance\u001b[0m\u001b[0;34m(\u001b[0m\u001b[0mx\u001b[0m\u001b[0;34m)\u001b[0m\u001b[0;34m.\u001b[0m\u001b[0midxmin\u001b[0m\u001b[0;34m(\u001b[0m\u001b[0;34m)\u001b[0m\u001b[0;34m]\u001b[0m\u001b[0;34m)\u001b[0m\u001b[0;34m\u001b[0m\u001b[0;34m\u001b[0m\u001b[0m\n\u001b[0m",
      "\u001b[0;32m~/Softwares/anaconda3/envs/mappingBot/lib/python3.8/site-packages/pandas/core/indexing.py\u001b[0m in \u001b[0;36m__getitem__\u001b[0;34m(self, key)\u001b[0m\n\u001b[1;32m    893\u001b[0m \u001b[0;34m\u001b[0m\u001b[0m\n\u001b[1;32m    894\u001b[0m             \u001b[0mmaybe_callable\u001b[0m \u001b[0;34m=\u001b[0m \u001b[0mcom\u001b[0m\u001b[0;34m.\u001b[0m\u001b[0mapply_if_callable\u001b[0m\u001b[0;34m(\u001b[0m\u001b[0mkey\u001b[0m\u001b[0;34m,\u001b[0m \u001b[0mself\u001b[0m\u001b[0;34m.\u001b[0m\u001b[0mobj\u001b[0m\u001b[0;34m)\u001b[0m\u001b[0;34m\u001b[0m\u001b[0;34m\u001b[0m\u001b[0m\n\u001b[0;32m--> 895\u001b[0;31m             \u001b[0;32mreturn\u001b[0m \u001b[0mself\u001b[0m\u001b[0;34m.\u001b[0m\u001b[0m_getitem_axis\u001b[0m\u001b[0;34m(\u001b[0m\u001b[0mmaybe_callable\u001b[0m\u001b[0;34m,\u001b[0m \u001b[0maxis\u001b[0m\u001b[0;34m=\u001b[0m\u001b[0maxis\u001b[0m\u001b[0;34m)\u001b[0m\u001b[0;34m\u001b[0m\u001b[0;34m\u001b[0m\u001b[0m\n\u001b[0m\u001b[1;32m    896\u001b[0m \u001b[0;34m\u001b[0m\u001b[0m\n\u001b[1;32m    897\u001b[0m     \u001b[0;32mdef\u001b[0m \u001b[0m_is_scalar_access\u001b[0m\u001b[0;34m(\u001b[0m\u001b[0mself\u001b[0m\u001b[0;34m,\u001b[0m \u001b[0mkey\u001b[0m\u001b[0;34m:\u001b[0m \u001b[0mTuple\u001b[0m\u001b[0;34m)\u001b[0m\u001b[0;34m:\u001b[0m\u001b[0;34m\u001b[0m\u001b[0;34m\u001b[0m\u001b[0m\n",
      "\u001b[0;32m~/Softwares/anaconda3/envs/mappingBot/lib/python3.8/site-packages/pandas/core/indexing.py\u001b[0m in \u001b[0;36m_getitem_axis\u001b[0;34m(self, key, axis)\u001b[0m\n\u001b[1;32m   1499\u001b[0m \u001b[0;34m\u001b[0m\u001b[0m\n\u001b[1;32m   1500\u001b[0m             \u001b[0;31m# validate the location\u001b[0m\u001b[0;34m\u001b[0m\u001b[0;34m\u001b[0m\u001b[0;34m\u001b[0m\u001b[0m\n\u001b[0;32m-> 1501\u001b[0;31m             \u001b[0mself\u001b[0m\u001b[0;34m.\u001b[0m\u001b[0m_validate_integer\u001b[0m\u001b[0;34m(\u001b[0m\u001b[0mkey\u001b[0m\u001b[0;34m,\u001b[0m \u001b[0maxis\u001b[0m\u001b[0;34m)\u001b[0m\u001b[0;34m\u001b[0m\u001b[0;34m\u001b[0m\u001b[0m\n\u001b[0m\u001b[1;32m   1502\u001b[0m \u001b[0;34m\u001b[0m\u001b[0m\n\u001b[1;32m   1503\u001b[0m             \u001b[0;32mreturn\u001b[0m \u001b[0mself\u001b[0m\u001b[0;34m.\u001b[0m\u001b[0mobj\u001b[0m\u001b[0;34m.\u001b[0m\u001b[0m_ixs\u001b[0m\u001b[0;34m(\u001b[0m\u001b[0mkey\u001b[0m\u001b[0;34m,\u001b[0m \u001b[0maxis\u001b[0m\u001b[0;34m=\u001b[0m\u001b[0maxis\u001b[0m\u001b[0;34m)\u001b[0m\u001b[0;34m\u001b[0m\u001b[0;34m\u001b[0m\u001b[0m\n",
      "\u001b[0;32m~/Softwares/anaconda3/envs/mappingBot/lib/python3.8/site-packages/pandas/core/indexing.py\u001b[0m in \u001b[0;36m_validate_integer\u001b[0;34m(self, key, axis)\u001b[0m\n\u001b[1;32m   1442\u001b[0m         \u001b[0mlen_axis\u001b[0m \u001b[0;34m=\u001b[0m \u001b[0mlen\u001b[0m\u001b[0;34m(\u001b[0m\u001b[0mself\u001b[0m\u001b[0;34m.\u001b[0m\u001b[0mobj\u001b[0m\u001b[0;34m.\u001b[0m\u001b[0m_get_axis\u001b[0m\u001b[0;34m(\u001b[0m\u001b[0maxis\u001b[0m\u001b[0;34m)\u001b[0m\u001b[0;34m)\u001b[0m\u001b[0;34m\u001b[0m\u001b[0;34m\u001b[0m\u001b[0m\n\u001b[1;32m   1443\u001b[0m         \u001b[0;32mif\u001b[0m \u001b[0mkey\u001b[0m \u001b[0;34m>=\u001b[0m \u001b[0mlen_axis\u001b[0m \u001b[0;32mor\u001b[0m \u001b[0mkey\u001b[0m \u001b[0;34m<\u001b[0m \u001b[0;34m-\u001b[0m\u001b[0mlen_axis\u001b[0m\u001b[0;34m:\u001b[0m\u001b[0;34m\u001b[0m\u001b[0;34m\u001b[0m\u001b[0m\n\u001b[0;32m-> 1444\u001b[0;31m             \u001b[0;32mraise\u001b[0m \u001b[0mIndexError\u001b[0m\u001b[0;34m(\u001b[0m\u001b[0;34m\"single positional indexer is out-of-bounds\"\u001b[0m\u001b[0;34m)\u001b[0m\u001b[0;34m\u001b[0m\u001b[0;34m\u001b[0m\u001b[0m\n\u001b[0m\u001b[1;32m   1445\u001b[0m \u001b[0;34m\u001b[0m\u001b[0m\n\u001b[1;32m   1446\u001b[0m     \u001b[0;31m# -------------------------------------------------------------------\u001b[0m\u001b[0;34m\u001b[0m\u001b[0;34m\u001b[0m\u001b[0;34m\u001b[0m\u001b[0m\n",
      "\u001b[0;31mIndexError\u001b[0m: single positional indexer is out-of-bounds"
     ]
    }
   ],
   "source": [
    "gdf['closest_unid'] = \\\n",
    "    rparaim['geometry'].apply(lambda x: rparaim['SIGLA'].iloc[rparaim.distance(x).idxmin()])"
   ]
  }
 ],
 "metadata": {
  "interpreter": {
   "hash": "2bc076d9378ac5ac660ba4f6a46900d2ea3732140aaa213526ceb6851acbc3f5"
  },
  "kernelspec": {
   "display_name": "Python 3.8.2 64-bit ('mappingBot': conda)",
   "name": "python3"
  },
  "language_info": {
   "name": "python",
   "version": ""
  },
  "orig_nbformat": 4
 },
 "nbformat": 4,
 "nbformat_minor": 2
}