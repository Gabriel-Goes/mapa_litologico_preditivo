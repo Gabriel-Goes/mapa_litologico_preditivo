{
 "cells": [
  {
   "cell_type": "code",
   "execution_count": 1,
   "id": "381aa439-fb89-4198-b79f-716950552bc6",
   "metadata": {},
   "outputs": [
    {
<<<<<<<< HEAD:jupyternotebooks/Interface_preditor.ipynb
     "name": "stderr",
     "output_type": "stream",
     "text": [
      "/home/ggrl/.config/ambiente_geologico/lib/python3.10/site-packages/geopandas/_compat.py:112: UserWarning: The Shapely GEOS version (3.10.2-CAPI-1.16.0) is incompatible with the GEOS version PyGEOS was compiled with (3.10.4-CAPI-1.16.2). Conversions between both will be slow.\n",
      "  warnings.warn(\n"
========
     "ename": "ModuleNotFoundError",
     "evalue": "No module named 'src'",
     "output_type": "error",
     "traceback": [
      "\u001b[0;31m---------------------------------------------------------------------------\u001b[0m",
      "\u001b[0;31mModuleNotFoundError\u001b[0m                       Traceback (most recent call last)",
      "Input \u001b[0;32mIn [1]\u001b[0m, in \u001b[0;36m<cell line: 1>\u001b[0;34m()\u001b[0m\n\u001b[0;32m----> 1\u001b[0m \u001b[38;5;28;01mfrom\u001b[39;00m \u001b[38;5;21;01msrc\u001b[39;00m \u001b[38;5;28;01mimport\u001b[39;00m set_gdb, import_mc, Build_mc,Upload_geof,Upload_litologia,transform_to_carta_utm\n\u001b[1;32m      2\u001b[0m \u001b[38;5;28;01mfrom\u001b[39;00m \u001b[38;5;21;01mtkinter\u001b[39;00m \u001b[38;5;28;01mimport\u001b[39;00m \u001b[38;5;241m*\u001b[39m \n\u001b[1;32m      3\u001b[0m \u001b[38;5;28;01mfrom\u001b[39;00m \u001b[38;5;21;01mtkinter\u001b[39;00m \u001b[38;5;28;01mimport\u001b[39;00m ttk\n",
      "\u001b[0;31mModuleNotFoundError\u001b[0m: No module named 'src'"
>>>>>>>> dev:interface/Interface_preditor.ipynb
     ]
    }
   ],
   "source": [
    "from src import set_gdb, import_mc, Build_mc,Upload_geof,Upload_litologia,transform_to_carta_utm\n",
    "from tkinter import * \n",
    "from tkinter import ttk\n",
    "import geopandas as gpd\n",
    "from tqdm import tqdm \n",
    "import warnings\n",
    "warnings.filterwarnings(\"ignore\")\n",
    "import matplotlib.pyplot as plt\n",
    "\n",
    "from src import import_malha_cartog"
   ]
  },
  {
   "cell_type": "code",
   "execution_count": 2,
   "id": "c65dd541-ec25-4040-8d6e-0781ed36bb1f",
   "metadata": {},
   "outputs": [],
   "source": [
    "from shapely.geometry import Point, LinearRing\n",
    "from operator import attrgetter"
   ]
  },
  {
   "cell_type": "code",
   "execution_count": 3,
   "id": "1bb871d3",
   "metadata": {},
   "outputs": [],
   "source": [
    "empties = filter(attrgetter('is_empty'), [Point(),Point(0, 0)])"
   ]
  },
  {
   "cell_type": "code",
   "execution_count": 4,
   "id": "71705aa1",
   "metadata": {},
   "outputs": [],
   "source": [
    "#len(empties)"
   ]
  },
  {
   "cell_type": "code",
   "execution_count": 5,
   "id": "51c2c171",
   "metadata": {},
   "outputs": [],
   "source": [
    "class Quadricula():\n",
    "    \"\"\"\n",
    "    The Python Dictionary Object to store and manipulate data with ease.\n",
    "    \"\"\"\n",
    "    def __init__(self,verbose=None,quadricula={},escala='25k',IDs=['SF23_YA','SF23_YB','SF23_VC','SF23_VD'],gama_data='gama_line_1105',mag_data='mag_line_1105',lito='litologia_1kk'):\n",
    "        \"\"\"\n",
    "        Parameters\n",
    "        ----------\n",
    "        escala : init, default='25k'\n",
    "                A escala em que os dados serão recortados e iterados.\n",
    "        IDs : init, default=['SF23_YA','SF23_YB','SF23_VC','SF23_VD']\n",
    "                A lista de IDs que serão adicionadas ao dicionário. Adiciona todos os valores que contêm cada uma das strings.\n",
    "        gama_data :\n",
    "        mag_data : \n",
    "        litologia : \n",
    "        \"\"\"\n",
    "        # Iniciar valores descritivos das quadrículas.\n",
    "        self.escala=escala\n",
    "        self.IDs=IDs\n",
    "        self.gama_data=gama_data\n",
    "        self.mag_data=mag_data\n",
    "        self.lito=lito\n",
    "        self.quadricula=quadricula\n",
    "        self.verbose=verbose\n",
    "\n",
    "        print('HELLO! SEE ME HERE')\n",
    "\n",
    "    def abrir_quadricula(self):\n",
    "        mc=import_mc(self.escala,self.IDs)\n",
    "        mc.set_index('id_folha',inplace=True)\n",
    "        \n",
    "        for index,row in tqdm(mc.iterrows()):\n",
    "            y={index:{'folha':row,\n",
    "                        'escala':self.escala}}\n",
    "            self.quadricula.update(y)\n",
    "            if self.verbose:\n",
    "                print(f' - Folha \"{index} adicionada.')\n",
    "        if self.verbose:\n",
    "            print('')\n",
    "            print(f' {len(self.quadricula.keys())} folhas adicionadas. ')\n",
    "\n",
    "        return self.quadricula\n",
    "\n",
    "\n",
    "    def Upload_geof(self):\n",
    "        \n",
    "\n",
    "        return self.quadricula\n"
   ]
  },
  {
   "cell_type": "code",
   "execution_count": 6,
   "id": "5fe46e93",
   "metadata": {
    "tags": []
   },
   "outputs": [],
   "source": [
    "#Quadricula().abrir_quadricula()"
   ]
  },
  {
   "cell_type": "code",
   "execution_count": 7,
   "id": "f37b0920",
   "metadata": {
    "tags": []
   },
   "outputs": [],
   "source": [
    "#Quadricula().Upload_geof()"
   ]
  },
  {
   "cell_type": "code",
   "execution_count": 11,
   "id": "db637f24",
   "metadata": {
    "tags": []
   },
   "outputs": [
    {
     "name": "stdout",
     "output_type": "stream",
     "text": [
      "SF23_VC_III4\n"
     ]
    },
    {
     "name": "stderr",
     "output_type": "stream",
     "text": [
      "100%|███████████████████████████████████████████████████████████████████████████████████████████████████████████| 1/1 [00:00<00:00, 171.88it/s]\n",
      "1it [00:00, 1491.04it/s]\n"
     ]
    },
    {
     "name": "stdout",
     "output_type": "stream",
     "text": [
      "\n",
      " - Folha \"SF23_VC_III4\" adicionada.\n",
      "\n",
      "  1 folhas adicionadas.\n"
     ]
    }
   ],
   "source": [
    "#-----------------------------Main Frame---------------------------- \n",
    "janela=Tk()\n",
    "titulo=Label(text='Preditor de Litologias', font=('Arial',12))\n",
    "titulo.pack()\n",
    "\n",
    "# -------------------------Seletor de Área--------------------------\n",
    "frame_seletor = ttk.Frame(janela,)\n",
    "lbl_seletor = ttk.Label(frame_seletor,text='Seletor de Área')\n",
    "lbl_seletor.grid(row=0,column=0,padx=5,pady=5)\n",
    "frame_seletor['relief'] = 'sunken'\n",
    "frame_seletor['borderwidth'] = 2\n",
    "\n",
    "# --- Funções de Seleção de Área\n",
    "def list_id():\n",
    "    mc = import_mc(cmb_escala.get())\n",
    "    lista_id = list(mc['id_folha'])\n",
    "    return lista_id\n",
    "def on_select(event):\n",
    "    selected = event.widget.get()\n",
    "    cmb_folhas['values'] = list_id()\n",
    "def build_dic():\n",
    "    print(cmb_folhas.get())\n",
    "    quadricula=Build_mc(escala=cmb_escala.get(),ID=[cmb_folhas.get()],verbose=True)\n",
    "    return quadricula\n",
    "\n",
    "def plot_mc():\n",
    "    #carta = quadricula[cmb_folhas.get()]\n",
    "    plt.figure(figsize=(24,16))\n",
    "    plt.plot(*transform_to_carta_utm(carta['folha']).exterior.xy)\n",
    "    plt.title('Folha \"SF23\" - Urânio equivalente (XYZ bruto)')\n",
    "\n",
    "# --- Seletor de Escalas\n",
    "escalas=['25k','50k','100k','250k','1kk']\n",
    "lbl_escala = ttk.Label(frame_seletor,text='Escalas Disponíveis',font=('Arial',9))\n",
    "lbl_escala['relief'] = 'raised'\n",
    "lbl_escala.grid(row=1,column=0,padx=5)\n",
    "cmb_escala = ttk.Combobox(frame_seletor,values=escalas)\n",
    "cmb_escala.grid(row=1,column=1)\n",
    "cmb_escala.bind('<<ComboboxSelected>>', on_select)\n",
    "\n",
    "# --- Seletor de Folhas\n",
    "lbl_folhas = ttk.Label(frame_seletor,text='Folhas Disponíveis',font=('Arial',9))\n",
    "lbl_folhas['relief'] = 'raised'\n",
    "lbl_folhas.grid(row=2,column=0)\n",
    "cmb_folhas = ttk.Combobox(frame_seletor)\n",
    "cmb_folhas.grid(row=2,column=1)\n",
    "\n",
    "# --- Constroi Malha Cartográfica\n",
    "btn_build_mc = ttk.Button(frame_seletor,command=build_dic)\n",
    "btn_build_mc.grid(row=3,column=0)\n",
    "lbl_build_mc = ttk.Label(frame_seletor,text='Construir',font=('Arial',9))\n",
    "lbl_build_mc['relief'] = 'raised'\n",
    "lbl_build_mc.grid(row=3,column=0)\n",
    "\n",
    "frame_seletor.pack()\n",
    "# ------------------------------------------------------------------\n",
    "# ----------------------Visualizador de Área------------------------\n",
    "frame_visualizador = ttk.Frame(janela)\n",
    "lbl_visualizador = ttk.Label(frame_visualizador,text='Visualizador de Área')\n",
    "lbl_visualizador.grid(row=5,column=0,padx=5,pady=5)\n",
    "frame_visualizador['relief'] = 'sunken'\n",
    "frame_visualizador['borderwidth'] = 2\n",
    "\n",
    "btn_plot_mc = ttk.Button(frame_visualizador,command=plot_mc)\n",
    "\n",
    "\n",
    "\n",
    "frame_visualizador.pack()\n",
    "# ------------------------------------------------------------------\n",
    "\n",
    "cmb_folhas.set(['SF23_VC'])\n",
    "cmb_escala.set('250k')\n",
    "\n",
    "janela.mainloop()"
   ]
  },
  {
   "cell_type": "code",
   "execution_count": 10,
   "id": "729b9980",
   "metadata": {
    "tags": []
   },
   "outputs": [
    {
     "name": "stdout",
     "output_type": "stream",
     "text": [
      " - Escala selecionada: 1kk\n",
      " - Número de folhas: 49\n",
      " - Escala selecionada: 100k\n",
      " - Número de folhas: 3056\n"
     ]
    }
   ],
   "source": [
    "def get_folhas():\n",
    "    escala = combo_escala.get()\n",
    "    mc = import_malha_cartog(escala)\n",
    "    list_ids = list(mc['id_folha'])\n",
    "    print(f' - Escala selecionada: {escala}')\n",
    "    print(f' - Número de folhas: {len(list_ids)}')\n",
    "    return list_ids\n",
    "def build_dic():\n",
    "    escala = combo_escala.get()\n",
    "    quadricula = Build_mc(escala=escala,)\n",
    "    print(quadricula.keys())\n",
    "\n",
    "def Update_dic():\n",
    "    quadricula = Upload_mc()\n",
    "    print(quadricula.keys())\n",
    "   \n",
    "frame_escala = ttk.Frame()\n",
    "\n",
    "botao_set_scale = Button(frame_escala,text='Escolha',command=get_folhas)\n",
    "botao_set_scale.grid(row=0,column=2, padx=15)\n",
    "label_escala = ttk.Label(frame_escala,text='Escalas Disponíveis')\n",
    "combo_escala = ttk.Combobox(frame_escala,values = escalas)\n",
    "combo_escala.set('1kk')\n",
    "label_escala.grid(row=0,column=0, padx=15)\n",
    "combo_escala.grid(row=0,column=1)\n",
    "frame_escala.pack()\n",
    "# Lista de Folhas Disponíveis\n",
    "frame_id = ttk.Frame()\n",
    "label_id = ttk.Label(frame_id, text = 'IDs Disponíves')\n",
    "combo_id = ttk.Combobox(frame_id,values = get_folhas())\n",
    "label_id.grid(row=0,column=0,padx=15)\n",
    "combo_id.grid(row=0,column=1,padx=15)\n",
    "frame_id.pack()\n",
    "# Criar Dicionario\n",
    "botao_create = Button(text='Create Dictionary',command=build_dic)\n",
    "botao_create.pack()\n",
    "# Atualizar Dicionário\n",
    "botao_update = Button(text='Update Dictionary',command=Update_dic)\n",
    "botao_update.pack()\n",
    "\n",
    "\n",
    "janela.mainloop()"
   ]
  },
  {
   "cell_type": "code",
   "execution_count": null,
   "id": "20cddc0b-0570-454c-9c43-3b3aca47950d",
   "metadata": {},
   "outputs": [],
   "source": []
  },
  {
   "cell_type": "code",
   "execution_count": null,
   "id": "6e0f99ad-3938-403a-a2ea-497a3cacd969",
   "metadata": {},
   "outputs": [],
   "source": []
  }
 ],
 "metadata": {
  "interpreter": {
   "hash": "ed32a6a1b508148fc3ce5ac19a3a5a750fe820bd77e8693096b5866236bb4c36"
  },
  "kernelspec": {
   "display_name": "Python 3 (ipykernel)",
   "language": "python",
   "name": "python3"
  },
  "language_info": {
   "codemirror_mode": {
    "name": "ipython",
    "version": 3
   },
   "file_extension": ".py",
   "mimetype": "text/x-python",
   "name": "python",
   "nbconvert_exporter": "python",
   "pygments_lexer": "ipython3",
<<<<<<<< HEAD:jupyternotebooks/Interface_preditor.ipynb
   "version": "3.11.3"
========
   "version": "3.10.9"
>>>>>>>> dev:interface/Interface_preditor.ipynb
  }
 },
 "nbformat": 4,
 "nbformat_minor": 5
}
