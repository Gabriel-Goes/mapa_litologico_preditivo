{
    "cells": [
        {
            "cell_type": "code",
            "execution_count": 1,
            "source": [
                "import geopandas as gpd\n",
                "import pandas as pd\n",
                "import verde as vd\n",
                "import numpy as np\n",
                "from shapely import geometry\n",
                "import my_funcs as mf\n",
                "\n",
                "import matplotlib.pyplot as plt\n",
                "%matplotlib widget\n",
                "\n",
                "gdb='/home/ggrl/geodatabase/'"
            ],
            "outputs": [],
            "metadata": {}
        },
        {
            "cell_type": "code",
            "execution_count": 89,
            "source": [
                "# DADOS DE FLIGHT LINES E TIES CONCATENADOS\n",
                "\n",
                "# m_scrr_1105 = pd.read_csv(gdb+'geof/recortado/m_scrr_1105')\n",
                "\n",
                "g_scrr_1105 = pd.read_csv(gdb+'geof/recortado/g_scrr_1105')"
            ],
            "outputs": [],
            "metadata": {}
        },
        {
            "cell_type": "code",
            "execution_count": 3,
            "source": [
                "# DADO SEM LINHAS DE AMARRAÇÃO\n",
                "\n",
                "gama_cols = 'KB DATA BARO UB THB COSMICO CTB UUP ALTURA KPERC eU eTH CTEXP UTHRAZAO X Y UKRAZAO MDT THKRAZAO LIVE_TIME CTCOR KCOR THCOR UCOR HORA GPSALT LATITUDE FIDUCIAL TEMP LONGITUDE'.split(\" \")\n",
                "\n",
                "\n",
                "g_1105 = pd.read_csv(gdb+'xyz/1105_XYZ/1105_GamaLine.XYZ',\n",
                "                         names=gama_cols,\n",
                "                         delim_whitespace=True,\n",
                "                         skiprows=11,\n",
                "                         usecols=[\"X\",\"Y\",\"LATITUDE\",\"LONGITUDE\",\n",
                "                                  \"KPERC\",\"eU\",\"eTH\",\"CTCOR\",\"MDT\"])\n",
                "\n",
                "g_1105 = g_1105.dropna(inplace=False)"
            ],
            "outputs": [],
            "metadata": {}
        },
        {
            "cell_type": "code",
            "execution_count": null,
            "source": [
                "region = [-46.75, -46.50,\n",
                "          -22.50, -22.25]\n",
                "\n",
                "g_scrr_1105 = g_1105[vd.inside((g_1105.LONGITUDE, g_1105.LATITUDE), region = region)]"
            ],
            "outputs": [],
            "metadata": {}
        },
        {
            "cell_type": "code",
            "execution_count": 4,
            "source": [
                "g_scrr_1105"
            ],
            "outputs": [
                {
                    "output_type": "execute_result",
                    "data": {
                        "text/plain": [
                            "       KPERC     eU     eTH          X           Y     MDT   CTCOR   LATITUDE  \\\n",
                            "24712  3.131  3.010  21.450  319876.46  7538416.79  852.63  13.168 -22.250395   \n",
                            "24713  3.138  2.694  19.762  319877.01  7538335.07  854.22  12.603 -22.251133   \n",
                            "24714  3.195  2.584  24.965  319877.79  7538253.58  855.56  12.501 -22.251869   \n",
                            "24715  2.956  3.048  26.830  319878.80  7538172.18  853.89  12.673 -22.252604   \n",
                            "24716  2.605  2.967  27.796  319879.77  7538090.60  847.30  12.911 -22.253341   \n",
                            "...      ...    ...     ...        ...         ...     ...     ...        ...   \n",
                            "95699 -0.051  0.911   8.642  345353.87  7538382.05  881.91   2.979 -22.253180   \n",
                            "95700  0.139  0.860   8.537  345354.70  7538462.38  877.62   3.368 -22.252454   \n",
                            "95701  0.232  1.269  10.269  345355.65  7538542.77  874.30   3.516 -22.251728   \n",
                            "95702  0.311  1.515  10.976  345356.45  7538623.12  874.49   3.675 -22.251003   \n",
                            "95703  0.190  1.179  12.333  345357.15  7538703.57  878.11   4.583 -22.250276   \n",
                            "\n",
                            "       LONGITUDE  \n",
                            "24712 -46.747921  \n",
                            "24713 -46.747925  \n",
                            "24714 -46.747927  \n",
                            "24715 -46.747926  \n",
                            "24716 -46.747926  \n",
                            "...          ...  \n",
                            "95699 -46.500762  \n",
                            "95700 -46.500746  \n",
                            "95701 -46.500729  \n",
                            "95702 -46.500714  \n",
                            "95703 -46.500699  \n",
                            "\n",
                            "[18548 rows x 9 columns]"
                        ],
                        "text/html": [
                            "<div>\n",
                            "<style scoped>\n",
                            "    .dataframe tbody tr th:only-of-type {\n",
                            "        vertical-align: middle;\n",
                            "    }\n",
                            "\n",
                            "    .dataframe tbody tr th {\n",
                            "        vertical-align: top;\n",
                            "    }\n",
                            "\n",
                            "    .dataframe thead th {\n",
                            "        text-align: right;\n",
                            "    }\n",
                            "</style>\n",
                            "<table border=\"1\" class=\"dataframe\">\n",
                            "  <thead>\n",
                            "    <tr style=\"text-align: right;\">\n",
                            "      <th></th>\n",
                            "      <th>KPERC</th>\n",
                            "      <th>eU</th>\n",
                            "      <th>eTH</th>\n",
                            "      <th>X</th>\n",
                            "      <th>Y</th>\n",
                            "      <th>MDT</th>\n",
                            "      <th>CTCOR</th>\n",
                            "      <th>LATITUDE</th>\n",
                            "      <th>LONGITUDE</th>\n",
                            "    </tr>\n",
                            "  </thead>\n",
                            "  <tbody>\n",
                            "    <tr>\n",
                            "      <th>24712</th>\n",
                            "      <td>3.131</td>\n",
                            "      <td>3.010</td>\n",
                            "      <td>21.450</td>\n",
                            "      <td>319876.46</td>\n",
                            "      <td>7538416.79</td>\n",
                            "      <td>852.63</td>\n",
                            "      <td>13.168</td>\n",
                            "      <td>-22.250395</td>\n",
                            "      <td>-46.747921</td>\n",
                            "    </tr>\n",
                            "    <tr>\n",
                            "      <th>24713</th>\n",
                            "      <td>3.138</td>\n",
                            "      <td>2.694</td>\n",
                            "      <td>19.762</td>\n",
                            "      <td>319877.01</td>\n",
                            "      <td>7538335.07</td>\n",
                            "      <td>854.22</td>\n",
                            "      <td>12.603</td>\n",
                            "      <td>-22.251133</td>\n",
                            "      <td>-46.747925</td>\n",
                            "    </tr>\n",
                            "    <tr>\n",
                            "      <th>24714</th>\n",
                            "      <td>3.195</td>\n",
                            "      <td>2.584</td>\n",
                            "      <td>24.965</td>\n",
                            "      <td>319877.79</td>\n",
                            "      <td>7538253.58</td>\n",
                            "      <td>855.56</td>\n",
                            "      <td>12.501</td>\n",
                            "      <td>-22.251869</td>\n",
                            "      <td>-46.747927</td>\n",
                            "    </tr>\n",
                            "    <tr>\n",
                            "      <th>24715</th>\n",
                            "      <td>2.956</td>\n",
                            "      <td>3.048</td>\n",
                            "      <td>26.830</td>\n",
                            "      <td>319878.80</td>\n",
                            "      <td>7538172.18</td>\n",
                            "      <td>853.89</td>\n",
                            "      <td>12.673</td>\n",
                            "      <td>-22.252604</td>\n",
                            "      <td>-46.747926</td>\n",
                            "    </tr>\n",
                            "    <tr>\n",
                            "      <th>24716</th>\n",
                            "      <td>2.605</td>\n",
                            "      <td>2.967</td>\n",
                            "      <td>27.796</td>\n",
                            "      <td>319879.77</td>\n",
                            "      <td>7538090.60</td>\n",
                            "      <td>847.30</td>\n",
                            "      <td>12.911</td>\n",
                            "      <td>-22.253341</td>\n",
                            "      <td>-46.747926</td>\n",
                            "    </tr>\n",
                            "    <tr>\n",
                            "      <th>...</th>\n",
                            "      <td>...</td>\n",
                            "      <td>...</td>\n",
                            "      <td>...</td>\n",
                            "      <td>...</td>\n",
                            "      <td>...</td>\n",
                            "      <td>...</td>\n",
                            "      <td>...</td>\n",
                            "      <td>...</td>\n",
                            "      <td>...</td>\n",
                            "    </tr>\n",
                            "    <tr>\n",
                            "      <th>95699</th>\n",
                            "      <td>-0.051</td>\n",
                            "      <td>0.911</td>\n",
                            "      <td>8.642</td>\n",
                            "      <td>345353.87</td>\n",
                            "      <td>7538382.05</td>\n",
                            "      <td>881.91</td>\n",
                            "      <td>2.979</td>\n",
                            "      <td>-22.253180</td>\n",
                            "      <td>-46.500762</td>\n",
                            "    </tr>\n",
                            "    <tr>\n",
                            "      <th>95700</th>\n",
                            "      <td>0.139</td>\n",
                            "      <td>0.860</td>\n",
                            "      <td>8.537</td>\n",
                            "      <td>345354.70</td>\n",
                            "      <td>7538462.38</td>\n",
                            "      <td>877.62</td>\n",
                            "      <td>3.368</td>\n",
                            "      <td>-22.252454</td>\n",
                            "      <td>-46.500746</td>\n",
                            "    </tr>\n",
                            "    <tr>\n",
                            "      <th>95701</th>\n",
                            "      <td>0.232</td>\n",
                            "      <td>1.269</td>\n",
                            "      <td>10.269</td>\n",
                            "      <td>345355.65</td>\n",
                            "      <td>7538542.77</td>\n",
                            "      <td>874.30</td>\n",
                            "      <td>3.516</td>\n",
                            "      <td>-22.251728</td>\n",
                            "      <td>-46.500729</td>\n",
                            "    </tr>\n",
                            "    <tr>\n",
                            "      <th>95702</th>\n",
                            "      <td>0.311</td>\n",
                            "      <td>1.515</td>\n",
                            "      <td>10.976</td>\n",
                            "      <td>345356.45</td>\n",
                            "      <td>7538623.12</td>\n",
                            "      <td>874.49</td>\n",
                            "      <td>3.675</td>\n",
                            "      <td>-22.251003</td>\n",
                            "      <td>-46.500714</td>\n",
                            "    </tr>\n",
                            "    <tr>\n",
                            "      <th>95703</th>\n",
                            "      <td>0.190</td>\n",
                            "      <td>1.179</td>\n",
                            "      <td>12.333</td>\n",
                            "      <td>345357.15</td>\n",
                            "      <td>7538703.57</td>\n",
                            "      <td>878.11</td>\n",
                            "      <td>4.583</td>\n",
                            "      <td>-22.250276</td>\n",
                            "      <td>-46.500699</td>\n",
                            "    </tr>\n",
                            "  </tbody>\n",
                            "</table>\n",
                            "<p>18548 rows × 9 columns</p>\n",
                            "</div>"
                        ]
                    },
                    "metadata": {},
                    "execution_count": 4
                }
            ],
            "metadata": {}
        },
        {
            "cell_type": "code",
            "execution_count": 5,
            "source": [
                "chain_list = ['CTCOR', 'KPERC', 'MDT', 'eU', 'eTH']\n",
                "\n",
                "grids = {'CTCOR':(),'KPERC':(), 'MDT':(), 'eU':(), 'eTH':()}\n",
                "\n",
                "coordinates = (g_scrr_1105.X.values, g_scrr_1105.Y.values)\n",
                "\n",
                "for i in chain_list:\n",
                "    print(i)\n",
                "    \n",
                "    chain = vd.Chain([\n",
                "        ('trend', vd.Trend(degree=1)),\n",
                "        ('reduce', vd.BlockReduce(np.median, spacing=499)),\n",
                "        ('spline', vd.Spline())\n",
                "    ])\n",
                "    \n",
                "    chain.fit(coordinates, g_scrr_1105[i])\n",
                "    \n",
                "    grid = chain.grid(spacing=100, data_names=[i],pixel_register=True)\n",
                "    grids[i] = vd.distance_mask(coordinates, maxdist=499, grid= grid)"
            ],
            "outputs": [
                {
                    "output_type": "stream",
                    "name": "stdout",
                    "text": [
                        "CTCOR\n",
                        "KPERC\n",
                        "MDT\n",
                        "eU\n",
                        "eTH\n"
                    ]
                }
            ],
            "metadata": {}
        },
        {
            "cell_type": "code",
            "execution_count": 6,
            "source": [
                "data = list()\n",
                "for i in chain_list:\n",
                "    df = grids[i].to_dataframe()\n",
                "    data.append(df[i])"
            ],
            "outputs": [],
            "metadata": {}
        },
        {
            "cell_type": "code",
            "execution_count": 7,
            "source": [
                "geof = pd.concat(data,axis=1, join='inner')"
            ],
            "outputs": [],
            "metadata": {}
        },
        {
            "cell_type": "code",
            "execution_count": 8,
            "source": [
                "geof.reset_index(inplace=True)\n",
                "geof"
            ],
            "outputs": [
                {
                    "output_type": "execute_result",
                    "data": {
                        "text/plain": [
                            "             easting      northing     CTCOR     KPERC         MDT        eU  \\\n",
                            "0      319887.886745  7.510855e+06  4.038868  1.396738  707.889585  1.367782   \n",
                            "1      319887.886745  7.510955e+06  4.000219  1.363911  707.250762  1.406168   \n",
                            "2      319887.886745  7.511055e+06  3.955838  1.334353  706.902784  1.432748   \n",
                            "3      319887.886745  7.511155e+06  3.906529  1.309119  706.881479  1.444532   \n",
                            "4      319887.886745  7.511255e+06  3.853342  1.289124  707.255929  1.439711   \n",
                            "...              ...           ...       ...       ...         ...       ...   \n",
                            "71140  345331.953255  7.538254e+06  3.629228  0.163444  877.561853  1.219581   \n",
                            "71141  345331.953255  7.538354e+06  3.527640  0.116976  879.402452  1.237646   \n",
                            "71142  345331.953255  7.538454e+06  3.417787  0.076915  881.916823  1.255049   \n",
                            "71143  345331.953255  7.538554e+06  3.299956  0.049595  885.264247  1.261531   \n",
                            "71144  345331.953255  7.538654e+06  3.183226  0.029341  889.014135  1.264363   \n",
                            "\n",
                            "             eTH  \n",
                            "0      11.311061  \n",
                            "1      11.219762  \n",
                            "2      11.114221  \n",
                            "3      11.009487  \n",
                            "4      10.931332  \n",
                            "...          ...  \n",
                            "71140   9.544362  \n",
                            "71141   9.271982  \n",
                            "71142   9.000585  \n",
                            "71143   8.744498  \n",
                            "71144   8.504611  \n",
                            "\n",
                            "[71145 rows x 7 columns]"
                        ],
                        "text/html": [
                            "<div>\n",
                            "<style scoped>\n",
                            "    .dataframe tbody tr th:only-of-type {\n",
                            "        vertical-align: middle;\n",
                            "    }\n",
                            "\n",
                            "    .dataframe tbody tr th {\n",
                            "        vertical-align: top;\n",
                            "    }\n",
                            "\n",
                            "    .dataframe thead th {\n",
                            "        text-align: right;\n",
                            "    }\n",
                            "</style>\n",
                            "<table border=\"1\" class=\"dataframe\">\n",
                            "  <thead>\n",
                            "    <tr style=\"text-align: right;\">\n",
                            "      <th></th>\n",
                            "      <th>easting</th>\n",
                            "      <th>northing</th>\n",
                            "      <th>CTCOR</th>\n",
                            "      <th>KPERC</th>\n",
                            "      <th>MDT</th>\n",
                            "      <th>eU</th>\n",
                            "      <th>eTH</th>\n",
                            "    </tr>\n",
                            "  </thead>\n",
                            "  <tbody>\n",
                            "    <tr>\n",
                            "      <th>0</th>\n",
                            "      <td>319887.886745</td>\n",
                            "      <td>7.510855e+06</td>\n",
                            "      <td>4.038868</td>\n",
                            "      <td>1.396738</td>\n",
                            "      <td>707.889585</td>\n",
                            "      <td>1.367782</td>\n",
                            "      <td>11.311061</td>\n",
                            "    </tr>\n",
                            "    <tr>\n",
                            "      <th>1</th>\n",
                            "      <td>319887.886745</td>\n",
                            "      <td>7.510955e+06</td>\n",
                            "      <td>4.000219</td>\n",
                            "      <td>1.363911</td>\n",
                            "      <td>707.250762</td>\n",
                            "      <td>1.406168</td>\n",
                            "      <td>11.219762</td>\n",
                            "    </tr>\n",
                            "    <tr>\n",
                            "      <th>2</th>\n",
                            "      <td>319887.886745</td>\n",
                            "      <td>7.511055e+06</td>\n",
                            "      <td>3.955838</td>\n",
                            "      <td>1.334353</td>\n",
                            "      <td>706.902784</td>\n",
                            "      <td>1.432748</td>\n",
                            "      <td>11.114221</td>\n",
                            "    </tr>\n",
                            "    <tr>\n",
                            "      <th>3</th>\n",
                            "      <td>319887.886745</td>\n",
                            "      <td>7.511155e+06</td>\n",
                            "      <td>3.906529</td>\n",
                            "      <td>1.309119</td>\n",
                            "      <td>706.881479</td>\n",
                            "      <td>1.444532</td>\n",
                            "      <td>11.009487</td>\n",
                            "    </tr>\n",
                            "    <tr>\n",
                            "      <th>4</th>\n",
                            "      <td>319887.886745</td>\n",
                            "      <td>7.511255e+06</td>\n",
                            "      <td>3.853342</td>\n",
                            "      <td>1.289124</td>\n",
                            "      <td>707.255929</td>\n",
                            "      <td>1.439711</td>\n",
                            "      <td>10.931332</td>\n",
                            "    </tr>\n",
                            "    <tr>\n",
                            "      <th>...</th>\n",
                            "      <td>...</td>\n",
                            "      <td>...</td>\n",
                            "      <td>...</td>\n",
                            "      <td>...</td>\n",
                            "      <td>...</td>\n",
                            "      <td>...</td>\n",
                            "      <td>...</td>\n",
                            "    </tr>\n",
                            "    <tr>\n",
                            "      <th>71140</th>\n",
                            "      <td>345331.953255</td>\n",
                            "      <td>7.538254e+06</td>\n",
                            "      <td>3.629228</td>\n",
                            "      <td>0.163444</td>\n",
                            "      <td>877.561853</td>\n",
                            "      <td>1.219581</td>\n",
                            "      <td>9.544362</td>\n",
                            "    </tr>\n",
                            "    <tr>\n",
                            "      <th>71141</th>\n",
                            "      <td>345331.953255</td>\n",
                            "      <td>7.538354e+06</td>\n",
                            "      <td>3.527640</td>\n",
                            "      <td>0.116976</td>\n",
                            "      <td>879.402452</td>\n",
                            "      <td>1.237646</td>\n",
                            "      <td>9.271982</td>\n",
                            "    </tr>\n",
                            "    <tr>\n",
                            "      <th>71142</th>\n",
                            "      <td>345331.953255</td>\n",
                            "      <td>7.538454e+06</td>\n",
                            "      <td>3.417787</td>\n",
                            "      <td>0.076915</td>\n",
                            "      <td>881.916823</td>\n",
                            "      <td>1.255049</td>\n",
                            "      <td>9.000585</td>\n",
                            "    </tr>\n",
                            "    <tr>\n",
                            "      <th>71143</th>\n",
                            "      <td>345331.953255</td>\n",
                            "      <td>7.538554e+06</td>\n",
                            "      <td>3.299956</td>\n",
                            "      <td>0.049595</td>\n",
                            "      <td>885.264247</td>\n",
                            "      <td>1.261531</td>\n",
                            "      <td>8.744498</td>\n",
                            "    </tr>\n",
                            "    <tr>\n",
                            "      <th>71144</th>\n",
                            "      <td>345331.953255</td>\n",
                            "      <td>7.538654e+06</td>\n",
                            "      <td>3.183226</td>\n",
                            "      <td>0.029341</td>\n",
                            "      <td>889.014135</td>\n",
                            "      <td>1.264363</td>\n",
                            "      <td>8.504611</td>\n",
                            "    </tr>\n",
                            "  </tbody>\n",
                            "</table>\n",
                            "<p>71145 rows × 7 columns</p>\n",
                            "</div>"
                        ]
                    },
                    "metadata": {},
                    "execution_count": 8
                }
            ],
            "metadata": {}
        },
        {
            "cell_type": "code",
            "execution_count": 9,
            "source": [
                "geof['geometry'] = [geometry.Point(x,y) for x, y in zip(geof['easting'], geof['northing'])]"
            ],
            "outputs": [],
            "metadata": {}
        },
        {
            "cell_type": "code",
            "execution_count": 10,
            "source": [
                "gdf = gpd.GeoDataFrame(geof,crs=32723)\n",
                "gdf = gdf.set_crs(32723, allow_override=True)"
            ],
            "outputs": [],
            "metadata": {}
        },
        {
            "cell_type": "code",
            "execution_count": 11,
            "source": [
                "gdf"
            ],
            "outputs": [
                {
                    "output_type": "execute_result",
                    "data": {
                        "text/plain": [
                            "             easting      northing     CTCOR     KPERC         MDT        eU  \\\n",
                            "0      319887.886745  7.510855e+06  4.038868  1.396738  707.889585  1.367782   \n",
                            "1      319887.886745  7.510955e+06  4.000219  1.363911  707.250762  1.406168   \n",
                            "2      319887.886745  7.511055e+06  3.955838  1.334353  706.902784  1.432748   \n",
                            "3      319887.886745  7.511155e+06  3.906529  1.309119  706.881479  1.444532   \n",
                            "4      319887.886745  7.511255e+06  3.853342  1.289124  707.255929  1.439711   \n",
                            "...              ...           ...       ...       ...         ...       ...   \n",
                            "71140  345331.953255  7.538254e+06  3.629228  0.163444  877.561853  1.219581   \n",
                            "71141  345331.953255  7.538354e+06  3.527640  0.116976  879.402452  1.237646   \n",
                            "71142  345331.953255  7.538454e+06  3.417787  0.076915  881.916823  1.255049   \n",
                            "71143  345331.953255  7.538554e+06  3.299956  0.049595  885.264247  1.261531   \n",
                            "71144  345331.953255  7.538654e+06  3.183226  0.029341  889.014135  1.264363   \n",
                            "\n",
                            "             eTH                        geometry  \n",
                            "0      11.311061  POINT (319887.887 7510854.938)  \n",
                            "1      11.219762  POINT (319887.887 7510954.933)  \n",
                            "2      11.114221  POINT (319887.887 7511054.928)  \n",
                            "3      11.009487  POINT (319887.887 7511154.923)  \n",
                            "4      10.931332  POINT (319887.887 7511254.918)  \n",
                            "...          ...                             ...  \n",
                            "71140   9.544362  POINT (345331.953 7538253.592)  \n",
                            "71141   9.271982  POINT (345331.953 7538353.587)  \n",
                            "71142   9.000585  POINT (345331.953 7538453.582)  \n",
                            "71143   8.744498  POINT (345331.953 7538553.577)  \n",
                            "71144   8.504611  POINT (345331.953 7538653.572)  \n",
                            "\n",
                            "[71145 rows x 8 columns]"
                        ],
                        "text/html": [
                            "<div>\n",
                            "<style scoped>\n",
                            "    .dataframe tbody tr th:only-of-type {\n",
                            "        vertical-align: middle;\n",
                            "    }\n",
                            "\n",
                            "    .dataframe tbody tr th {\n",
                            "        vertical-align: top;\n",
                            "    }\n",
                            "\n",
                            "    .dataframe thead th {\n",
                            "        text-align: right;\n",
                            "    }\n",
                            "</style>\n",
                            "<table border=\"1\" class=\"dataframe\">\n",
                            "  <thead>\n",
                            "    <tr style=\"text-align: right;\">\n",
                            "      <th></th>\n",
                            "      <th>easting</th>\n",
                            "      <th>northing</th>\n",
                            "      <th>CTCOR</th>\n",
                            "      <th>KPERC</th>\n",
                            "      <th>MDT</th>\n",
                            "      <th>eU</th>\n",
                            "      <th>eTH</th>\n",
                            "      <th>geometry</th>\n",
                            "    </tr>\n",
                            "  </thead>\n",
                            "  <tbody>\n",
                            "    <tr>\n",
                            "      <th>0</th>\n",
                            "      <td>319887.886745</td>\n",
                            "      <td>7.510855e+06</td>\n",
                            "      <td>4.038868</td>\n",
                            "      <td>1.396738</td>\n",
                            "      <td>707.889585</td>\n",
                            "      <td>1.367782</td>\n",
                            "      <td>11.311061</td>\n",
                            "      <td>POINT (319887.887 7510854.938)</td>\n",
                            "    </tr>\n",
                            "    <tr>\n",
                            "      <th>1</th>\n",
                            "      <td>319887.886745</td>\n",
                            "      <td>7.510955e+06</td>\n",
                            "      <td>4.000219</td>\n",
                            "      <td>1.363911</td>\n",
                            "      <td>707.250762</td>\n",
                            "      <td>1.406168</td>\n",
                            "      <td>11.219762</td>\n",
                            "      <td>POINT (319887.887 7510954.933)</td>\n",
                            "    </tr>\n",
                            "    <tr>\n",
                            "      <th>2</th>\n",
                            "      <td>319887.886745</td>\n",
                            "      <td>7.511055e+06</td>\n",
                            "      <td>3.955838</td>\n",
                            "      <td>1.334353</td>\n",
                            "      <td>706.902784</td>\n",
                            "      <td>1.432748</td>\n",
                            "      <td>11.114221</td>\n",
                            "      <td>POINT (319887.887 7511054.928)</td>\n",
                            "    </tr>\n",
                            "    <tr>\n",
                            "      <th>3</th>\n",
                            "      <td>319887.886745</td>\n",
                            "      <td>7.511155e+06</td>\n",
                            "      <td>3.906529</td>\n",
                            "      <td>1.309119</td>\n",
                            "      <td>706.881479</td>\n",
                            "      <td>1.444532</td>\n",
                            "      <td>11.009487</td>\n",
                            "      <td>POINT (319887.887 7511154.923)</td>\n",
                            "    </tr>\n",
                            "    <tr>\n",
                            "      <th>4</th>\n",
                            "      <td>319887.886745</td>\n",
                            "      <td>7.511255e+06</td>\n",
                            "      <td>3.853342</td>\n",
                            "      <td>1.289124</td>\n",
                            "      <td>707.255929</td>\n",
                            "      <td>1.439711</td>\n",
                            "      <td>10.931332</td>\n",
                            "      <td>POINT (319887.887 7511254.918)</td>\n",
                            "    </tr>\n",
                            "    <tr>\n",
                            "      <th>...</th>\n",
                            "      <td>...</td>\n",
                            "      <td>...</td>\n",
                            "      <td>...</td>\n",
                            "      <td>...</td>\n",
                            "      <td>...</td>\n",
                            "      <td>...</td>\n",
                            "      <td>...</td>\n",
                            "      <td>...</td>\n",
                            "    </tr>\n",
                            "    <tr>\n",
                            "      <th>71140</th>\n",
                            "      <td>345331.953255</td>\n",
                            "      <td>7.538254e+06</td>\n",
                            "      <td>3.629228</td>\n",
                            "      <td>0.163444</td>\n",
                            "      <td>877.561853</td>\n",
                            "      <td>1.219581</td>\n",
                            "      <td>9.544362</td>\n",
                            "      <td>POINT (345331.953 7538253.592)</td>\n",
                            "    </tr>\n",
                            "    <tr>\n",
                            "      <th>71141</th>\n",
                            "      <td>345331.953255</td>\n",
                            "      <td>7.538354e+06</td>\n",
                            "      <td>3.527640</td>\n",
                            "      <td>0.116976</td>\n",
                            "      <td>879.402452</td>\n",
                            "      <td>1.237646</td>\n",
                            "      <td>9.271982</td>\n",
                            "      <td>POINT (345331.953 7538353.587)</td>\n",
                            "    </tr>\n",
                            "    <tr>\n",
                            "      <th>71142</th>\n",
                            "      <td>345331.953255</td>\n",
                            "      <td>7.538454e+06</td>\n",
                            "      <td>3.417787</td>\n",
                            "      <td>0.076915</td>\n",
                            "      <td>881.916823</td>\n",
                            "      <td>1.255049</td>\n",
                            "      <td>9.000585</td>\n",
                            "      <td>POINT (345331.953 7538453.582)</td>\n",
                            "    </tr>\n",
                            "    <tr>\n",
                            "      <th>71143</th>\n",
                            "      <td>345331.953255</td>\n",
                            "      <td>7.538554e+06</td>\n",
                            "      <td>3.299956</td>\n",
                            "      <td>0.049595</td>\n",
                            "      <td>885.264247</td>\n",
                            "      <td>1.261531</td>\n",
                            "      <td>8.744498</td>\n",
                            "      <td>POINT (345331.953 7538553.577)</td>\n",
                            "    </tr>\n",
                            "    <tr>\n",
                            "      <th>71144</th>\n",
                            "      <td>345331.953255</td>\n",
                            "      <td>7.538654e+06</td>\n",
                            "      <td>3.183226</td>\n",
                            "      <td>0.029341</td>\n",
                            "      <td>889.014135</td>\n",
                            "      <td>1.264363</td>\n",
                            "      <td>8.504611</td>\n",
                            "      <td>POINT (345331.953 7538653.572)</td>\n",
                            "    </tr>\n",
                            "  </tbody>\n",
                            "</table>\n",
                            "<p>71145 rows × 8 columns</p>\n",
                            "</div>"
                        ]
                    },
                    "metadata": {},
                    "execution_count": 11
                }
            ],
            "metadata": {}
        },
        {
            "cell_type": "code",
            "execution_count": 12,
            "source": [
                "gdf.crs"
            ],
            "outputs": [
                {
                    "output_type": "execute_result",
                    "data": {
                        "text/plain": [
                            "<Projected CRS: EPSG:32723>\n",
                            "Name: WGS 84 / UTM zone 23S\n",
                            "Axis Info [cartesian]:\n",
                            "- E[east]: Easting (metre)\n",
                            "- N[north]: Northing (metre)\n",
                            "Area of Use:\n",
                            "- name: World - S hemisphere - 48°W to 42°W - by country\n",
                            "- bounds: (-48.0, -80.0, -42.0, 0.0)\n",
                            "Coordinate Operation:\n",
                            "- name: UTM zone 23S\n",
                            "- method: Transverse Mercator\n",
                            "Datum: World Geodetic System 1984\n",
                            "- Ellipsoid: WGS 84\n",
                            "- Prime Meridian: Greenwich"
                        ]
                    },
                    "metadata": {},
                    "execution_count": 12
                }
            ],
            "metadata": {}
        },
        {
            "cell_type": "code",
            "execution_count": 14,
            "source": [
                "plt.figure()\n",
                "grids['MDT'].MDT.plot(cmap='terrain')\n",
                "plt.axis('scaled')"
            ],
            "outputs": [
                {
                    "output_type": "display_data",
                    "data": {
                        "text/plain": [
                            "Canvas(toolbar=Toolbar(toolitems=[('Home', 'Reset original view', 'home', 'home'), ('Back', 'Back to previous …"
                        ],
                        "application/vnd.jupyter.widget-view+json": {
                            "version_major": 2,
                            "version_minor": 0,
                            "model_id": "aef66c2468fe47f881f142a586ab0a49"
                        }
                    },
                    "metadata": {}
                },
                {
                    "output_type": "execute_result",
                    "data": {
                        "text/plain": [
                            "(319837.80000000005, 345382.04, 7510804.94, 7538703.57)"
                        ]
                    },
                    "metadata": {},
                    "execution_count": 14
                }
            ],
            "metadata": {}
        },
        {
            "cell_type": "code",
            "execution_count": 15,
            "source": [
                "plt.figure()\n",
                "grids['CTCOR'].CTCOR.plot(cmap='hsv')\n",
                "plt.axis('scaled')"
            ],
            "outputs": [
                {
                    "output_type": "display_data",
                    "data": {
                        "text/plain": [
                            "Canvas(toolbar=Toolbar(toolitems=[('Home', 'Reset original view', 'home', 'home'), ('Back', 'Back to previous …"
                        ],
                        "application/vnd.jupyter.widget-view+json": {
                            "version_major": 2,
                            "version_minor": 0,
                            "model_id": "afe82906bba4484dbae830d5c1a0c305"
                        }
                    },
                    "metadata": {}
                },
                {
                    "output_type": "execute_result",
                    "data": {
                        "text/plain": [
                            "(319837.80000000005, 345382.04, 7510804.94, 7538703.57)"
                        ]
                    },
                    "metadata": {},
                    "execution_count": 15
                }
            ],
            "metadata": {}
        },
        {
            "cell_type": "code",
            "execution_count": 78,
            "source": [
                "vmin=geof.KPERC.quantile(0.1)\n",
                "vmax=geof.KPERC.quantile(0.99)\n",
                "plt.figure()\n",
                "grids['KPERC'].KPERC.plot(cmap='hsv',vmin=vmin,vmax=vmax)\n",
                "plt.axis('scaled')"
            ],
            "outputs": [
                {
                    "output_type": "display_data",
                    "data": {
                        "text/plain": [
                            "Canvas(toolbar=Toolbar(toolitems=[('Home', 'Reset original view', 'home', 'home'), ('Back', 'Back to previous …"
                        ],
                        "application/vnd.jupyter.widget-view+json": {
                            "version_major": 2,
                            "version_minor": 0,
                            "model_id": "a1801ac1043645cdb971665a786fee86"
                        }
                    },
                    "metadata": {}
                },
                {
                    "output_type": "execute_result",
                    "data": {
                        "text/plain": [
                            "(319837.80000000005, 345382.04, 7510804.94, 7538703.57)"
                        ]
                    },
                    "metadata": {},
                    "execution_count": 78
                }
            ],
            "metadata": {}
        },
        {
            "cell_type": "code",
            "execution_count": 17,
            "source": [
                "plt.figure()\n",
                "grids['eTH'].eTH.plot(cmap='hsv')\n",
                "plt.axis('scaled')"
            ],
            "outputs": [
                {
                    "output_type": "display_data",
                    "data": {
                        "text/plain": [
                            "Canvas(toolbar=Toolbar(toolitems=[('Home', 'Reset original view', 'home', 'home'), ('Back', 'Back to previous …"
                        ],
                        "application/vnd.jupyter.widget-view+json": {
                            "version_major": 2,
                            "version_minor": 0,
                            "model_id": "6d92e6041d814f08b4cce9c20bf96e00"
                        }
                    },
                    "metadata": {}
                },
                {
                    "output_type": "execute_result",
                    "data": {
                        "text/plain": [
                            "(319837.80000000005, 345382.04, 7510804.94, 7538703.57)"
                        ]
                    },
                    "metadata": {},
                    "execution_count": 17
                }
            ],
            "metadata": {}
        },
        {
            "cell_type": "code",
            "execution_count": 51,
            "source": [
                "vmin=df_eU.eU.min()\n",
                "vmax=df_eU.eU.max()\n",
                "plt.figure()\n",
                "grids['eU'].eU.plot(cmap='hsv',vmin=vmin,vmax=vmax)\n",
                "plt.axis('scaled')"
            ],
            "outputs": [
                {
                    "output_type": "display_data",
                    "data": {
                        "text/plain": [
                            "Canvas(toolbar=Toolbar(toolitems=[('Home', 'Reset original view', 'home', 'home'), ('Back', 'Back to previous …"
                        ],
                        "application/vnd.jupyter.widget-view+json": {
                            "version_major": 2,
                            "version_minor": 0,
                            "model_id": "d3ac3c7422374011b8b765dbd00d0b58"
                        }
                    },
                    "metadata": {}
                },
                {
                    "output_type": "execute_result",
                    "data": {
                        "text/plain": [
                            "(319837.80000000005, 345382.04, 7510804.94, 7538703.57)"
                        ]
                    },
                    "metadata": {},
                    "execution_count": 51
                }
            ],
            "metadata": {}
        },
        {
            "cell_type": "code",
            "execution_count": 32,
            "source": [
                "df_eU = grids['eU'].to_dataframe()"
            ],
            "outputs": [],
            "metadata": {}
        },
        {
            "cell_type": "code",
            "execution_count": 44,
            "source": [
                "df_eU = df_eU.reset_index()"
            ],
            "outputs": [],
            "metadata": {}
        },
        {
            "cell_type": "code",
            "execution_count": 73,
            "source": [
                "print(geof.eU.min())"
            ],
            "outputs": [
                {
                    "output_type": "stream",
                    "name": "stdout",
                    "text": [
                        "-0.46645587408708167\n"
                    ]
                }
            ],
            "metadata": {}
        },
        {
            "cell_type": "code",
            "execution_count": 76,
            "source": [
                "print(geof.KPERC.min())\n",
                "print(geof.KPERC.quantile([0.10,0.5,0.90]))"
            ],
            "outputs": [
                {
                    "output_type": "stream",
                    "name": "stdout",
                    "text": [
                        "-0.19870656642770257\n",
                        "0.1    0.310994\n",
                        "0.5    1.009870\n",
                        "0.9    1.991911\n",
                        "Name: KPERC, dtype: float64\n"
                    ]
                }
            ],
            "metadata": {}
        },
        {
            "cell_type": "code",
            "execution_count": 5,
            "source": [
                "socorro = gpd.read_file(gdb+'litostrat/250k/socorro.shp')\n",
                "socorro = socorro.drop('id',axis=1)"
            ],
            "outputs": [],
            "metadata": {}
        },
        {
            "cell_type": "code",
            "execution_count": 82,
            "source": [
                "socorro.plot()"
            ],
            "outputs": [
                {
                    "output_type": "display_data",
                    "data": {
                        "text/plain": [
                            "Canvas(toolbar=Toolbar(toolitems=[('Home', 'Reset original view', 'home', 'home'), ('Back', 'Back to previous …"
                        ],
                        "application/vnd.jupyter.widget-view+json": {
                            "version_major": 2,
                            "version_minor": 0,
                            "model_id": "fcbf026922f4431194e85c09ea2a7d3a"
                        }
                    },
                    "metadata": {}
                },
                {
                    "output_type": "execute_result",
                    "data": {
                        "text/plain": [
                            "<AxesSubplot:>"
                        ]
                    },
                    "metadata": {},
                    "execution_count": 82
                }
            ],
            "metadata": {}
        },
        {
            "cell_type": "code",
            "execution_count": 176,
            "source": [
                "geof['closest_unid'] = gdf['geometry'].apply(lambda x: socorro['litologia'].iloc[socorro.distance(x).idxmin()]) # .idxmin() Retorna o indice do menor valor "
            ],
            "outputs": [],
            "metadata": {}
        },
        {
            "cell_type": "code",
            "execution_count": 177,
            "source": [
                "geof"
            ],
            "outputs": [
                {
                    "output_type": "execute_result",
                    "data": {
                        "text/plain": [
                            "             easting      northing     CTCOR     KPERC         MDT        eU  \\\n",
                            "0      319887.886745  7.510855e+06  4.038868  1.396738  707.889585  1.367782   \n",
                            "1      319887.886745  7.510955e+06  4.000219  1.363911  707.250762  1.406168   \n",
                            "2      319887.886745  7.511055e+06  3.955838  1.334353  706.902784  1.432748   \n",
                            "3      319887.886745  7.511155e+06  3.906529  1.309119  706.881479  1.444532   \n",
                            "4      319887.886745  7.511255e+06  3.853342  1.289124  707.255929  1.439711   \n",
                            "...              ...           ...       ...       ...         ...       ...   \n",
                            "71140  345331.953255  7.538254e+06  3.629228  0.163444  877.561853  1.219581   \n",
                            "71141  345331.953255  7.538354e+06  3.527640  0.116976  879.402452  1.237646   \n",
                            "71142  345331.953255  7.538454e+06  3.417787  0.076915  881.916823  1.255049   \n",
                            "71143  345331.953255  7.538554e+06  3.299956  0.049595  885.264247  1.261531   \n",
                            "71144  345331.953255  7.538654e+06  3.183226  0.029341  889.014135  1.264363   \n",
                            "\n",
                            "             eTH                        geometry closest_unid  \n",
                            "0      11.311061  POINT (319887.887 7510854.938)           47  \n",
                            "1      11.219762  POINT (319887.887 7510954.933)           47  \n",
                            "2      11.114221  POINT (319887.887 7511054.928)           47  \n",
                            "3      11.009487  POINT (319887.887 7511154.923)           47  \n",
                            "4      10.931332  POINT (319887.887 7511254.918)           47  \n",
                            "...          ...                             ...          ...  \n",
                            "71140   9.544362  POINT (345331.953 7538253.592)           37  \n",
                            "71141   9.271982  POINT (345331.953 7538353.587)           37  \n",
                            "71142   9.000585  POINT (345331.953 7538453.582)           37  \n",
                            "71143   8.744498  POINT (345331.953 7538553.577)           37  \n",
                            "71144   8.504611  POINT (345331.953 7538653.572)           37  \n",
                            "\n",
                            "[71145 rows x 9 columns]"
                        ],
                        "text/html": [
                            "<div>\n",
                            "<style scoped>\n",
                            "    .dataframe tbody tr th:only-of-type {\n",
                            "        vertical-align: middle;\n",
                            "    }\n",
                            "\n",
                            "    .dataframe tbody tr th {\n",
                            "        vertical-align: top;\n",
                            "    }\n",
                            "\n",
                            "    .dataframe thead th {\n",
                            "        text-align: right;\n",
                            "    }\n",
                            "</style>\n",
                            "<table border=\"1\" class=\"dataframe\">\n",
                            "  <thead>\n",
                            "    <tr style=\"text-align: right;\">\n",
                            "      <th></th>\n",
                            "      <th>easting</th>\n",
                            "      <th>northing</th>\n",
                            "      <th>CTCOR</th>\n",
                            "      <th>KPERC</th>\n",
                            "      <th>MDT</th>\n",
                            "      <th>eU</th>\n",
                            "      <th>eTH</th>\n",
                            "      <th>geometry</th>\n",
                            "      <th>closest_unid</th>\n",
                            "    </tr>\n",
                            "  </thead>\n",
                            "  <tbody>\n",
                            "    <tr>\n",
                            "      <th>0</th>\n",
                            "      <td>319887.886745</td>\n",
                            "      <td>7.510855e+06</td>\n",
                            "      <td>4.038868</td>\n",
                            "      <td>1.396738</td>\n",
                            "      <td>707.889585</td>\n",
                            "      <td>1.367782</td>\n",
                            "      <td>11.311061</td>\n",
                            "      <td>POINT (319887.887 7510854.938)</td>\n",
                            "      <td>47</td>\n",
                            "    </tr>\n",
                            "    <tr>\n",
                            "      <th>1</th>\n",
                            "      <td>319887.886745</td>\n",
                            "      <td>7.510955e+06</td>\n",
                            "      <td>4.000219</td>\n",
                            "      <td>1.363911</td>\n",
                            "      <td>707.250762</td>\n",
                            "      <td>1.406168</td>\n",
                            "      <td>11.219762</td>\n",
                            "      <td>POINT (319887.887 7510954.933)</td>\n",
                            "      <td>47</td>\n",
                            "    </tr>\n",
                            "    <tr>\n",
                            "      <th>2</th>\n",
                            "      <td>319887.886745</td>\n",
                            "      <td>7.511055e+06</td>\n",
                            "      <td>3.955838</td>\n",
                            "      <td>1.334353</td>\n",
                            "      <td>706.902784</td>\n",
                            "      <td>1.432748</td>\n",
                            "      <td>11.114221</td>\n",
                            "      <td>POINT (319887.887 7511054.928)</td>\n",
                            "      <td>47</td>\n",
                            "    </tr>\n",
                            "    <tr>\n",
                            "      <th>3</th>\n",
                            "      <td>319887.886745</td>\n",
                            "      <td>7.511155e+06</td>\n",
                            "      <td>3.906529</td>\n",
                            "      <td>1.309119</td>\n",
                            "      <td>706.881479</td>\n",
                            "      <td>1.444532</td>\n",
                            "      <td>11.009487</td>\n",
                            "      <td>POINT (319887.887 7511154.923)</td>\n",
                            "      <td>47</td>\n",
                            "    </tr>\n",
                            "    <tr>\n",
                            "      <th>4</th>\n",
                            "      <td>319887.886745</td>\n",
                            "      <td>7.511255e+06</td>\n",
                            "      <td>3.853342</td>\n",
                            "      <td>1.289124</td>\n",
                            "      <td>707.255929</td>\n",
                            "      <td>1.439711</td>\n",
                            "      <td>10.931332</td>\n",
                            "      <td>POINT (319887.887 7511254.918)</td>\n",
                            "      <td>47</td>\n",
                            "    </tr>\n",
                            "    <tr>\n",
                            "      <th>...</th>\n",
                            "      <td>...</td>\n",
                            "      <td>...</td>\n",
                            "      <td>...</td>\n",
                            "      <td>...</td>\n",
                            "      <td>...</td>\n",
                            "      <td>...</td>\n",
                            "      <td>...</td>\n",
                            "      <td>...</td>\n",
                            "      <td>...</td>\n",
                            "    </tr>\n",
                            "    <tr>\n",
                            "      <th>71140</th>\n",
                            "      <td>345331.953255</td>\n",
                            "      <td>7.538254e+06</td>\n",
                            "      <td>3.629228</td>\n",
                            "      <td>0.163444</td>\n",
                            "      <td>877.561853</td>\n",
                            "      <td>1.219581</td>\n",
                            "      <td>9.544362</td>\n",
                            "      <td>POINT (345331.953 7538253.592)</td>\n",
                            "      <td>37</td>\n",
                            "    </tr>\n",
                            "    <tr>\n",
                            "      <th>71141</th>\n",
                            "      <td>345331.953255</td>\n",
                            "      <td>7.538354e+06</td>\n",
                            "      <td>3.527640</td>\n",
                            "      <td>0.116976</td>\n",
                            "      <td>879.402452</td>\n",
                            "      <td>1.237646</td>\n",
                            "      <td>9.271982</td>\n",
                            "      <td>POINT (345331.953 7538353.587)</td>\n",
                            "      <td>37</td>\n",
                            "    </tr>\n",
                            "    <tr>\n",
                            "      <th>71142</th>\n",
                            "      <td>345331.953255</td>\n",
                            "      <td>7.538454e+06</td>\n",
                            "      <td>3.417787</td>\n",
                            "      <td>0.076915</td>\n",
                            "      <td>881.916823</td>\n",
                            "      <td>1.255049</td>\n",
                            "      <td>9.000585</td>\n",
                            "      <td>POINT (345331.953 7538453.582)</td>\n",
                            "      <td>37</td>\n",
                            "    </tr>\n",
                            "    <tr>\n",
                            "      <th>71143</th>\n",
                            "      <td>345331.953255</td>\n",
                            "      <td>7.538554e+06</td>\n",
                            "      <td>3.299956</td>\n",
                            "      <td>0.049595</td>\n",
                            "      <td>885.264247</td>\n",
                            "      <td>1.261531</td>\n",
                            "      <td>8.744498</td>\n",
                            "      <td>POINT (345331.953 7538553.577)</td>\n",
                            "      <td>37</td>\n",
                            "    </tr>\n",
                            "    <tr>\n",
                            "      <th>71144</th>\n",
                            "      <td>345331.953255</td>\n",
                            "      <td>7.538654e+06</td>\n",
                            "      <td>3.183226</td>\n",
                            "      <td>0.029341</td>\n",
                            "      <td>889.014135</td>\n",
                            "      <td>1.264363</td>\n",
                            "      <td>8.504611</td>\n",
                            "      <td>POINT (345331.953 7538653.572)</td>\n",
                            "      <td>37</td>\n",
                            "    </tr>\n",
                            "  </tbody>\n",
                            "</table>\n",
                            "<p>71145 rows × 9 columns</p>\n",
                            "</div>"
                        ]
                    },
                    "metadata": {},
                    "execution_count": 177
                }
            ],
            "metadata": {}
        },
        {
            "cell_type": "code",
            "execution_count": 186,
            "source": [
                "type(geof.closest_unid[0])"
            ],
            "outputs": [
                {
                    "output_type": "execute_result",
                    "data": {
                        "text/plain": [
                            "str"
                        ]
                    },
                    "metadata": {},
                    "execution_count": 186
                }
            ],
            "metadata": {}
        },
        {
            "cell_type": "code",
            "execution_count": 184,
            "source": [
                "geof.to_csv(gdb+'orange_input_socorro.csv',index=False)"
            ],
            "outputs": [],
            "metadata": {}
        },
        {
            "cell_type": "code",
            "execution_count": 1,
            "source": [
                "# DADOS DO AEROLEVANTAMENTO 1039 - FLIGHT LINES 1km"
            ],
            "outputs": [],
            "metadata": {}
        },
        {
            "cell_type": "code",
            "execution_count": 2,
            "source": [
                "geof_socorro_cut = pd.read_csv(gdb+'geof/recortado/geof_socorro_cut.csv')"
            ],
            "outputs": [],
            "metadata": {}
        },
        {
            "cell_type": "code",
            "execution_count": 3,
            "source": [
                "geof_socorro_cut"
            ],
            "outputs": [
                {
                    "output_type": "execute_result",
                    "data": {
                        "text/plain": [
                            "            UTME       UTMN       LONG        LAT    MAGR    THC     UC  \\\n",
                            "0       243279.0  7497977.0 -47.497177 -22.605408  113.40  78.97  28.26   \n",
                            "1       243277.0  7498075.0 -47.497177 -22.604523  111.35  77.53  18.51   \n",
                            "2       243275.0  7498174.0 -47.497192 -22.603622  108.29  77.11   0.00   \n",
                            "3       243272.0  7498272.0 -47.497192 -22.602737  105.23  74.49   0.54   \n",
                            "4       243270.0  7498370.0 -47.497192 -22.601852   97.17  56.10   6.14   \n",
                            "...          ...        ...        ...        ...     ...    ...    ...   \n",
                            "180859  329329.0  7563776.0 -46.653473 -22.022064   92.53  70.13  20.86   \n",
                            "180860  329426.0  7563774.0 -46.652527 -22.022095  100.51  54.54  19.79   \n",
                            "180861  329523.0  7563771.0 -46.651596 -22.022125  100.50  74.22  19.75   \n",
                            "180862  329620.0  7563769.0 -46.650650 -22.022156   96.48  68.61   5.81   \n",
                            "180863  329717.0  7563767.0 -46.649719 -22.022186   93.46  64.39  15.35   \n",
                            "\n",
                            "            KC      CTC                geometry  \n",
                            "0        10.75  1214.07  POINT (243279 7497977)  \n",
                            "1        32.60  1188.08  POINT (243277 7498075)  \n",
                            "2        74.30  1269.47  POINT (243275 7498174)  \n",
                            "3        15.39  1265.21  POINT (243272 7498272)  \n",
                            "4        33.21  1090.33  POINT (243270 7498370)  \n",
                            "...        ...      ...                     ...  \n",
                            "180859  245.36  2177.98  POINT (329329 7563776)  \n",
                            "180860  279.66  2144.92  POINT (329426 7563774)  \n",
                            "180861  236.94  2081.99  POINT (329523 7563771)  \n",
                            "180862  235.28  1978.74  POINT (329620 7563769)  \n",
                            "180863  244.92  2025.09  POINT (329717 7563767)  \n",
                            "\n",
                            "[180864 rows x 10 columns]"
                        ],
                        "text/html": [
                            "<div>\n",
                            "<style scoped>\n",
                            "    .dataframe tbody tr th:only-of-type {\n",
                            "        vertical-align: middle;\n",
                            "    }\n",
                            "\n",
                            "    .dataframe tbody tr th {\n",
                            "        vertical-align: top;\n",
                            "    }\n",
                            "\n",
                            "    .dataframe thead th {\n",
                            "        text-align: right;\n",
                            "    }\n",
                            "</style>\n",
                            "<table border=\"1\" class=\"dataframe\">\n",
                            "  <thead>\n",
                            "    <tr style=\"text-align: right;\">\n",
                            "      <th></th>\n",
                            "      <th>UTME</th>\n",
                            "      <th>UTMN</th>\n",
                            "      <th>LONG</th>\n",
                            "      <th>LAT</th>\n",
                            "      <th>MAGR</th>\n",
                            "      <th>THC</th>\n",
                            "      <th>UC</th>\n",
                            "      <th>KC</th>\n",
                            "      <th>CTC</th>\n",
                            "      <th>geometry</th>\n",
                            "    </tr>\n",
                            "  </thead>\n",
                            "  <tbody>\n",
                            "    <tr>\n",
                            "      <th>0</th>\n",
                            "      <td>243279.0</td>\n",
                            "      <td>7497977.0</td>\n",
                            "      <td>-47.497177</td>\n",
                            "      <td>-22.605408</td>\n",
                            "      <td>113.40</td>\n",
                            "      <td>78.97</td>\n",
                            "      <td>28.26</td>\n",
                            "      <td>10.75</td>\n",
                            "      <td>1214.07</td>\n",
                            "      <td>POINT (243279 7497977)</td>\n",
                            "    </tr>\n",
                            "    <tr>\n",
                            "      <th>1</th>\n",
                            "      <td>243277.0</td>\n",
                            "      <td>7498075.0</td>\n",
                            "      <td>-47.497177</td>\n",
                            "      <td>-22.604523</td>\n",
                            "      <td>111.35</td>\n",
                            "      <td>77.53</td>\n",
                            "      <td>18.51</td>\n",
                            "      <td>32.60</td>\n",
                            "      <td>1188.08</td>\n",
                            "      <td>POINT (243277 7498075)</td>\n",
                            "    </tr>\n",
                            "    <tr>\n",
                            "      <th>2</th>\n",
                            "      <td>243275.0</td>\n",
                            "      <td>7498174.0</td>\n",
                            "      <td>-47.497192</td>\n",
                            "      <td>-22.603622</td>\n",
                            "      <td>108.29</td>\n",
                            "      <td>77.11</td>\n",
                            "      <td>0.00</td>\n",
                            "      <td>74.30</td>\n",
                            "      <td>1269.47</td>\n",
                            "      <td>POINT (243275 7498174)</td>\n",
                            "    </tr>\n",
                            "    <tr>\n",
                            "      <th>3</th>\n",
                            "      <td>243272.0</td>\n",
                            "      <td>7498272.0</td>\n",
                            "      <td>-47.497192</td>\n",
                            "      <td>-22.602737</td>\n",
                            "      <td>105.23</td>\n",
                            "      <td>74.49</td>\n",
                            "      <td>0.54</td>\n",
                            "      <td>15.39</td>\n",
                            "      <td>1265.21</td>\n",
                            "      <td>POINT (243272 7498272)</td>\n",
                            "    </tr>\n",
                            "    <tr>\n",
                            "      <th>4</th>\n",
                            "      <td>243270.0</td>\n",
                            "      <td>7498370.0</td>\n",
                            "      <td>-47.497192</td>\n",
                            "      <td>-22.601852</td>\n",
                            "      <td>97.17</td>\n",
                            "      <td>56.10</td>\n",
                            "      <td>6.14</td>\n",
                            "      <td>33.21</td>\n",
                            "      <td>1090.33</td>\n",
                            "      <td>POINT (243270 7498370)</td>\n",
                            "    </tr>\n",
                            "    <tr>\n",
                            "      <th>...</th>\n",
                            "      <td>...</td>\n",
                            "      <td>...</td>\n",
                            "      <td>...</td>\n",
                            "      <td>...</td>\n",
                            "      <td>...</td>\n",
                            "      <td>...</td>\n",
                            "      <td>...</td>\n",
                            "      <td>...</td>\n",
                            "      <td>...</td>\n",
                            "      <td>...</td>\n",
                            "    </tr>\n",
                            "    <tr>\n",
                            "      <th>180859</th>\n",
                            "      <td>329329.0</td>\n",
                            "      <td>7563776.0</td>\n",
                            "      <td>-46.653473</td>\n",
                            "      <td>-22.022064</td>\n",
                            "      <td>92.53</td>\n",
                            "      <td>70.13</td>\n",
                            "      <td>20.86</td>\n",
                            "      <td>245.36</td>\n",
                            "      <td>2177.98</td>\n",
                            "      <td>POINT (329329 7563776)</td>\n",
                            "    </tr>\n",
                            "    <tr>\n",
                            "      <th>180860</th>\n",
                            "      <td>329426.0</td>\n",
                            "      <td>7563774.0</td>\n",
                            "      <td>-46.652527</td>\n",
                            "      <td>-22.022095</td>\n",
                            "      <td>100.51</td>\n",
                            "      <td>54.54</td>\n",
                            "      <td>19.79</td>\n",
                            "      <td>279.66</td>\n",
                            "      <td>2144.92</td>\n",
                            "      <td>POINT (329426 7563774)</td>\n",
                            "    </tr>\n",
                            "    <tr>\n",
                            "      <th>180861</th>\n",
                            "      <td>329523.0</td>\n",
                            "      <td>7563771.0</td>\n",
                            "      <td>-46.651596</td>\n",
                            "      <td>-22.022125</td>\n",
                            "      <td>100.50</td>\n",
                            "      <td>74.22</td>\n",
                            "      <td>19.75</td>\n",
                            "      <td>236.94</td>\n",
                            "      <td>2081.99</td>\n",
                            "      <td>POINT (329523 7563771)</td>\n",
                            "    </tr>\n",
                            "    <tr>\n",
                            "      <th>180862</th>\n",
                            "      <td>329620.0</td>\n",
                            "      <td>7563769.0</td>\n",
                            "      <td>-46.650650</td>\n",
                            "      <td>-22.022156</td>\n",
                            "      <td>96.48</td>\n",
                            "      <td>68.61</td>\n",
                            "      <td>5.81</td>\n",
                            "      <td>235.28</td>\n",
                            "      <td>1978.74</td>\n",
                            "      <td>POINT (329620 7563769)</td>\n",
                            "    </tr>\n",
                            "    <tr>\n",
                            "      <th>180863</th>\n",
                            "      <td>329717.0</td>\n",
                            "      <td>7563767.0</td>\n",
                            "      <td>-46.649719</td>\n",
                            "      <td>-22.022186</td>\n",
                            "      <td>93.46</td>\n",
                            "      <td>64.39</td>\n",
                            "      <td>15.35</td>\n",
                            "      <td>244.92</td>\n",
                            "      <td>2025.09</td>\n",
                            "      <td>POINT (329717 7563767)</td>\n",
                            "    </tr>\n",
                            "  </tbody>\n",
                            "</table>\n",
                            "<p>180864 rows × 10 columns</p>\n",
                            "</div>"
                        ]
                    },
                    "metadata": {},
                    "execution_count": 3
                }
            ],
            "metadata": {}
        },
        {
            "cell_type": "code",
            "execution_count": 6,
            "source": [
                "socorro_250k = mf.litologia('socorro_250k')"
            ],
            "outputs": [],
            "metadata": {}
        },
        {
            "cell_type": "code",
            "execution_count": 8,
            "source": [
                "socorro_250k.plot()"
            ],
            "outputs": [
                {
                    "output_type": "display_data",
                    "data": {
                        "text/plain": [
                            "Canvas(toolbar=Toolbar(toolitems=[('Home', 'Reset original view', 'home', 'home'), ('Back', 'Back to previous …"
                        ],
                        "application/vnd.jupyter.widget-view+json": {
                            "version_major": 2,
                            "version_minor": 0,
                            "model_id": "d1f1312c0bc843f1a8b1dbefd8b7af80"
                        }
                    },
                    "metadata": {}
                },
                {
                    "output_type": "execute_result",
                    "data": {
                        "text/plain": [
                            "<AxesSubplot:>"
                        ]
                    },
                    "metadata": {},
                    "execution_count": 8
                }
            ],
            "metadata": {}
        },
        {
            "cell_type": "code",
            "execution_count": 14,
            "source": [
                "region = [300000,350000,\n",
                "          7400000,7513000]"
            ],
            "outputs": [],
            "metadata": {}
        },
        {
            "cell_type": "code",
            "execution_count": 15,
            "source": [
                "geof_socorro_cut = geof_socorro_cut[vd.inside((geof_socorro_cut.UTME, geof_socorro_cut.UTMN), region = region)]"
            ],
            "outputs": [],
            "metadata": {}
        },
        {
            "cell_type": "code",
            "execution_count": 16,
            "source": [
                "coordinates = (geof_socorro_cut.UTME.values, geof_socorro_cut.UTMN.values)\n",
                "\n",
                "# Block Reduction\n",
                "reducer_median = vd.BlockReduce(np.mean, spacing= 1000)\n",
                "b_coords, b_CTC = reducer_median.filter(coordinates, geof_socorro_cut.CTC)\n",
                "\n",
                "\n",
                "# Ploting the Reduced data\n",
                "plt.figure(figsize=(11,11))\n",
                "plt.scatter(b_coords[0],b_coords[1],\n",
                "            c    = b_CTC,\n",
                "            cmap = 'hsv',\n",
                "            s    = 2)\n",
                "plt.axis('scaled')\n",
                "plt.colorbar()"
            ],
            "outputs": [
                {
                    "output_type": "display_data",
                    "data": {
                        "text/plain": [
                            "Canvas(toolbar=Toolbar(toolitems=[('Home', 'Reset original view', 'home', 'home'), ('Back', 'Back to previous …"
                        ],
                        "application/vnd.jupyter.widget-view+json": {
                            "version_major": 2,
                            "version_minor": 0,
                            "model_id": "5182925589504172a33078ced9dd6e5d"
                        }
                    },
                    "metadata": {}
                },
                {
                    "output_type": "execute_result",
                    "data": {
                        "text/plain": [
                            "<matplotlib.colorbar.Colorbar at 0x7fc90d0dd6d0>"
                        ]
                    },
                    "metadata": {},
                    "execution_count": 16
                }
            ],
            "metadata": {}
        },
        {
            "cell_type": "code",
            "execution_count": 17,
            "source": [
                "geof_socorro_cut"
            ],
            "outputs": [
                {
                    "output_type": "execute_result",
                    "data": {
                        "text/plain": [
                            "            UTME       UTMN       LONG        LAT    MAGR     THC     UC  \\\n",
                            "93981   300340.0  7400023.0 -46.955139 -23.497406   41.22   66.40  11.99   \n",
                            "93982   300337.0  7400122.0 -46.955170 -23.496521   51.18   79.33  17.08   \n",
                            "93983   300333.0  7400221.0 -46.955185 -23.495621   61.14   64.35   0.00   \n",
                            "93984   300329.0  7400321.0 -46.955215 -23.494720   69.11   53.52  21.21   \n",
                            "93985   300326.0  7400420.0 -46.955231 -23.493820   76.07   74.26  20.44   \n",
                            "...          ...        ...        ...        ...     ...     ...    ...   \n",
                            "175297  344823.0  7504431.0 -46.509155 -22.559448  393.64   81.34   9.73   \n",
                            "175298  344924.0  7504432.0 -46.508163 -22.559448  364.62  121.82   6.40   \n",
                            "175299  345025.0  7504433.0 -46.507187 -22.559448  327.59  130.11  11.86   \n",
                            "175300  345124.0  7504434.0 -46.506226 -22.559448  297.56  127.84   0.60   \n",
                            "175301  345219.0  7504435.0 -46.505295 -22.559448  276.54  115.50   9.65   \n",
                            "\n",
                            "           KC      CTC                geometry  \n",
                            "93981   76.19  1411.93  POINT (300340 7400023)  \n",
                            "93982   97.39  1399.23  POINT (300337 7400122)  \n",
                            "93983   87.21  1249.43  POINT (300333 7400221)  \n",
                            "93984   71.54  1207.55  POINT (300329 7400321)  \n",
                            "93985   30.65  1208.15  POINT (300326 7400420)  \n",
                            "...       ...      ...                     ...  \n",
                            "175297  13.51  1200.66  POINT (344823 7504431)  \n",
                            "175298   0.12  1405.71  POINT (344924 7504432)  \n",
                            "175299  45.08  1551.80  POINT (345025 7504433)  \n",
                            "175300  30.97  1539.77  POINT (345124 7504434)  \n",
                            "175301  49.44  1522.42  POINT (345219 7504435)  \n",
                            "\n",
                            "[56275 rows x 10 columns]"
                        ],
                        "text/html": [
                            "<div>\n",
                            "<style scoped>\n",
                            "    .dataframe tbody tr th:only-of-type {\n",
                            "        vertical-align: middle;\n",
                            "    }\n",
                            "\n",
                            "    .dataframe tbody tr th {\n",
                            "        vertical-align: top;\n",
                            "    }\n",
                            "\n",
                            "    .dataframe thead th {\n",
                            "        text-align: right;\n",
                            "    }\n",
                            "</style>\n",
                            "<table border=\"1\" class=\"dataframe\">\n",
                            "  <thead>\n",
                            "    <tr style=\"text-align: right;\">\n",
                            "      <th></th>\n",
                            "      <th>UTME</th>\n",
                            "      <th>UTMN</th>\n",
                            "      <th>LONG</th>\n",
                            "      <th>LAT</th>\n",
                            "      <th>MAGR</th>\n",
                            "      <th>THC</th>\n",
                            "      <th>UC</th>\n",
                            "      <th>KC</th>\n",
                            "      <th>CTC</th>\n",
                            "      <th>geometry</th>\n",
                            "    </tr>\n",
                            "  </thead>\n",
                            "  <tbody>\n",
                            "    <tr>\n",
                            "      <th>93981</th>\n",
                            "      <td>300340.0</td>\n",
                            "      <td>7400023.0</td>\n",
                            "      <td>-46.955139</td>\n",
                            "      <td>-23.497406</td>\n",
                            "      <td>41.22</td>\n",
                            "      <td>66.40</td>\n",
                            "      <td>11.99</td>\n",
                            "      <td>76.19</td>\n",
                            "      <td>1411.93</td>\n",
                            "      <td>POINT (300340 7400023)</td>\n",
                            "    </tr>\n",
                            "    <tr>\n",
                            "      <th>93982</th>\n",
                            "      <td>300337.0</td>\n",
                            "      <td>7400122.0</td>\n",
                            "      <td>-46.955170</td>\n",
                            "      <td>-23.496521</td>\n",
                            "      <td>51.18</td>\n",
                            "      <td>79.33</td>\n",
                            "      <td>17.08</td>\n",
                            "      <td>97.39</td>\n",
                            "      <td>1399.23</td>\n",
                            "      <td>POINT (300337 7400122)</td>\n",
                            "    </tr>\n",
                            "    <tr>\n",
                            "      <th>93983</th>\n",
                            "      <td>300333.0</td>\n",
                            "      <td>7400221.0</td>\n",
                            "      <td>-46.955185</td>\n",
                            "      <td>-23.495621</td>\n",
                            "      <td>61.14</td>\n",
                            "      <td>64.35</td>\n",
                            "      <td>0.00</td>\n",
                            "      <td>87.21</td>\n",
                            "      <td>1249.43</td>\n",
                            "      <td>POINT (300333 7400221)</td>\n",
                            "    </tr>\n",
                            "    <tr>\n",
                            "      <th>93984</th>\n",
                            "      <td>300329.0</td>\n",
                            "      <td>7400321.0</td>\n",
                            "      <td>-46.955215</td>\n",
                            "      <td>-23.494720</td>\n",
                            "      <td>69.11</td>\n",
                            "      <td>53.52</td>\n",
                            "      <td>21.21</td>\n",
                            "      <td>71.54</td>\n",
                            "      <td>1207.55</td>\n",
                            "      <td>POINT (300329 7400321)</td>\n",
                            "    </tr>\n",
                            "    <tr>\n",
                            "      <th>93985</th>\n",
                            "      <td>300326.0</td>\n",
                            "      <td>7400420.0</td>\n",
                            "      <td>-46.955231</td>\n",
                            "      <td>-23.493820</td>\n",
                            "      <td>76.07</td>\n",
                            "      <td>74.26</td>\n",
                            "      <td>20.44</td>\n",
                            "      <td>30.65</td>\n",
                            "      <td>1208.15</td>\n",
                            "      <td>POINT (300326 7400420)</td>\n",
                            "    </tr>\n",
                            "    <tr>\n",
                            "      <th>...</th>\n",
                            "      <td>...</td>\n",
                            "      <td>...</td>\n",
                            "      <td>...</td>\n",
                            "      <td>...</td>\n",
                            "      <td>...</td>\n",
                            "      <td>...</td>\n",
                            "      <td>...</td>\n",
                            "      <td>...</td>\n",
                            "      <td>...</td>\n",
                            "      <td>...</td>\n",
                            "    </tr>\n",
                            "    <tr>\n",
                            "      <th>175297</th>\n",
                            "      <td>344823.0</td>\n",
                            "      <td>7504431.0</td>\n",
                            "      <td>-46.509155</td>\n",
                            "      <td>-22.559448</td>\n",
                            "      <td>393.64</td>\n",
                            "      <td>81.34</td>\n",
                            "      <td>9.73</td>\n",
                            "      <td>13.51</td>\n",
                            "      <td>1200.66</td>\n",
                            "      <td>POINT (344823 7504431)</td>\n",
                            "    </tr>\n",
                            "    <tr>\n",
                            "      <th>175298</th>\n",
                            "      <td>344924.0</td>\n",
                            "      <td>7504432.0</td>\n",
                            "      <td>-46.508163</td>\n",
                            "      <td>-22.559448</td>\n",
                            "      <td>364.62</td>\n",
                            "      <td>121.82</td>\n",
                            "      <td>6.40</td>\n",
                            "      <td>0.12</td>\n",
                            "      <td>1405.71</td>\n",
                            "      <td>POINT (344924 7504432)</td>\n",
                            "    </tr>\n",
                            "    <tr>\n",
                            "      <th>175299</th>\n",
                            "      <td>345025.0</td>\n",
                            "      <td>7504433.0</td>\n",
                            "      <td>-46.507187</td>\n",
                            "      <td>-22.559448</td>\n",
                            "      <td>327.59</td>\n",
                            "      <td>130.11</td>\n",
                            "      <td>11.86</td>\n",
                            "      <td>45.08</td>\n",
                            "      <td>1551.80</td>\n",
                            "      <td>POINT (345025 7504433)</td>\n",
                            "    </tr>\n",
                            "    <tr>\n",
                            "      <th>175300</th>\n",
                            "      <td>345124.0</td>\n",
                            "      <td>7504434.0</td>\n",
                            "      <td>-46.506226</td>\n",
                            "      <td>-22.559448</td>\n",
                            "      <td>297.56</td>\n",
                            "      <td>127.84</td>\n",
                            "      <td>0.60</td>\n",
                            "      <td>30.97</td>\n",
                            "      <td>1539.77</td>\n",
                            "      <td>POINT (345124 7504434)</td>\n",
                            "    </tr>\n",
                            "    <tr>\n",
                            "      <th>175301</th>\n",
                            "      <td>345219.0</td>\n",
                            "      <td>7504435.0</td>\n",
                            "      <td>-46.505295</td>\n",
                            "      <td>-22.559448</td>\n",
                            "      <td>276.54</td>\n",
                            "      <td>115.50</td>\n",
                            "      <td>9.65</td>\n",
                            "      <td>49.44</td>\n",
                            "      <td>1522.42</td>\n",
                            "      <td>POINT (345219 7504435)</td>\n",
                            "    </tr>\n",
                            "  </tbody>\n",
                            "</table>\n",
                            "<p>56275 rows × 10 columns</p>\n",
                            "</div>"
                        ]
                    },
                    "metadata": {},
                    "execution_count": 17
                }
            ],
            "metadata": {}
        },
        {
            "cell_type": "code",
            "execution_count": 45,
            "source": [
                "chain_list = ['THC', 'UC', 'KC', 'CTC', 'MAGR']\n",
                "\n",
                "grids = {'THC':(),'UC':(), 'KC':(), 'CTC':(), 'MAGR':()}\n",
                "\n",
                "scores = {'THC':(),'UC':(), 'KC':(), 'CTC':(), 'MAGR':()}\n",
                "\n",
                "\n",
                "coordinates = (geof_socorro_cut.UTME.values, geof_socorro_cut.UTMN.values)\n",
                "\n",
                "for i in chain_list:\n",
                "    print(i)\n",
                "    \n",
                "    chain = vd.Chain([\n",
                "        ('trend', vd.Trend(degree=1)),\n",
                "        ('reduce', vd.BlockReduce(np.median, spacing=3000)),\n",
                "        ('spline', vd.Spline())\n",
                "    ])\n",
                "    \n",
                "    chain.fit(coordinates, geof_socorro_cut[i])\n",
                "\n",
                "    cv     = vd.BlockKFold(spacing=3000,\n",
                "                  n_splits=25,\n",
                "                  shuffle=True)\n",
                "\n",
                "    scores[i] = vd.cross_val_score(chain,\n",
                "                             coordinates,\n",
                "                             geof_socorro_cut[i],\n",
                "                             cv=cv)\n",
                "    \n",
                "    grid = chain.grid(spacing=600, data_names=[i],pixel_register=True)\n",
                "    grids[i] = vd.distance_mask(coordinates, maxdist=3000, grid= grid)\n"
            ],
            "outputs": [
                {
                    "output_type": "stream",
                    "name": "stdout",
                    "text": [
                        "THC\n",
                        "UC\n",
                        "KC\n",
                        "CTC\n",
                        "MAGR\n"
                    ]
                }
            ],
            "metadata": {}
        },
        {
            "cell_type": "code",
            "execution_count": 46,
            "source": [
                "scores"
            ],
            "outputs": [
                {
                    "output_type": "execute_result",
                    "data": {
                        "text/plain": [
                            "{'THC': array([0.53670398, 0.40951402, 0.63001902, 0.38880332, 0.4907072 ,\n",
                            "        0.55584648, 0.55902851, 0.55593506, 0.58659222, 0.52600309,\n",
                            "        0.5736337 , 0.64696113, 0.64002141, 0.53340164, 0.59105131,\n",
                            "        0.53634521, 0.58168415, 0.67116536, 0.37096197, 0.49908998,\n",
                            "        0.56981871, 0.60097155, 0.50610175, 0.59331178, 0.63792719]),\n",
                            " 'UC': array([-0.02950878,  0.22258222,  0.18724895,  0.13833292,  0.19473033,\n",
                            "         0.31613688,  0.15191187,  0.24659781,  0.29700907,  0.08089541,\n",
                            "         0.25913108,  0.25398818,  0.04640495,  0.28426917,  0.02430159,\n",
                            "         0.17884278,  0.08354211,  0.17835265,  0.22446672,  0.36078904,\n",
                            "         0.22416785,  0.31735679,  0.11178309,  0.16124318,  0.10852914]),\n",
                            " 'KC': array([0.33272182, 0.41267712, 0.50976389, 0.22286122, 0.36041077,\n",
                            "        0.24457321, 0.51494736, 0.27899553, 0.41641912, 0.45955427,\n",
                            "        0.35977059, 0.39421836, 0.36776729, 0.15589062, 0.30570735,\n",
                            "        0.00205792, 0.44837874, 0.3333265 , 0.29214549, 0.18449763,\n",
                            "        0.3033165 , 0.51148455, 0.37056961, 0.27711984, 0.34964773]),\n",
                            " 'CTC': array([0.51190756, 0.32760459, 0.40905582, 0.50758848, 0.47747853,\n",
                            "        0.48778024, 0.48125023, 0.45916529, 0.54266609, 0.61122905,\n",
                            "        0.45333209, 0.3969382 , 0.63185705, 0.52685153, 0.5345309 ,\n",
                            "        0.25561577, 0.3559374 , 0.33031359, 0.30036894, 0.50583164,\n",
                            "        0.47633594, 0.49336942, 0.4742454 , 0.61167392, 0.54670703]),\n",
                            " 'MAGR': array([0.82290619, 0.88050951, 0.85053793, 0.79112617, 0.87928094,\n",
                            "        0.76771861, 0.66039414, 0.89440842, 0.82082495, 0.88976549,\n",
                            "        0.82233317, 0.83303315, 0.72518668, 0.88050815, 0.74731041,\n",
                            "        0.80677116, 0.90021014, 0.88758205, 0.76178481, 0.87562879,\n",
                            "        0.84775114, 0.70488417, 0.87751838, 0.89731655, 0.86083173])}"
                        ]
                    },
                    "metadata": {},
                    "execution_count": 46
                }
            ],
            "metadata": {}
        },
        {
            "cell_type": "code",
            "execution_count": 48,
            "source": [
                "plt.figure()\n",
                "plt.hist(scores['THC'],bins='auto')"
            ],
            "outputs": [
                {
                    "output_type": "display_data",
                    "data": {
                        "text/plain": [
                            "Canvas(toolbar=Toolbar(toolitems=[('Home', 'Reset original view', 'home', 'home'), ('Back', 'Back to previous …"
                        ],
                        "application/vnd.jupyter.widget-view+json": {
                            "version_major": 2,
                            "version_minor": 0,
                            "model_id": "e4428190946740259652e97ce115ba95"
                        }
                    },
                    "metadata": {}
                },
                {
                    "output_type": "execute_result",
                    "data": {
                        "text/plain": [
                            "(array([3., 0., 2., 5., 6., 4., 5.]),\n",
                            " array([0.37096197, 0.41384817, 0.45673437, 0.49962057, 0.54250677,\n",
                            "        0.58539296, 0.62827916, 0.67116536]),\n",
                            " <BarContainer object of 7 artists>)"
                        ]
                    },
                    "metadata": {},
                    "execution_count": 48
                }
            ],
            "metadata": {}
        },
        {
            "cell_type": "code",
            "execution_count": 21,
            "source": [
                "plt.figure()\n",
                "grids['CTC'].CTC.plot(cmap='hsv',vmin=0)\n",
                "plt.axis('scaled')"
            ],
            "outputs": [
                {
                    "output_type": "display_data",
                    "data": {
                        "text/plain": [
                            "Canvas(toolbar=Toolbar(toolitems=[('Home', 'Reset original view', 'home', 'home'), ('Back', 'Back to previous …"
                        ],
                        "application/vnd.jupyter.widget-view+json": {
                            "version_major": 2,
                            "version_minor": 0,
                            "model_id": "727680762e4d498587967fe97928e374"
                        }
                    },
                    "metadata": {}
                },
                {
                    "output_type": "execute_result",
                    "data": {
                        "text/plain": [
                            "(300000.0, 346378.0, 7400006.0, 7513000.0)"
                        ]
                    },
                    "metadata": {},
                    "execution_count": 21
                }
            ],
            "metadata": {}
        },
        {
            "cell_type": "code",
            "execution_count": 29,
            "source": [
                "plt.figure()\n",
                "grids['THC'].THC.plot(cmap='hsv',vmin=0)\n",
                "plt.axis('scaled')"
            ],
            "outputs": [
                {
                    "output_type": "display_data",
                    "data": {
                        "text/plain": [
                            "Canvas(toolbar=Toolbar(toolitems=[('Home', 'Reset original view', 'home', 'home'), ('Back', 'Back to previous …"
                        ],
                        "application/vnd.jupyter.widget-view+json": {
                            "version_major": 2,
                            "version_minor": 0,
                            "model_id": "4b263fae4bed4e6c87966ef40b26e4f7"
                        }
                    },
                    "metadata": {}
                },
                {
                    "output_type": "execute_result",
                    "data": {
                        "text/plain": [
                            "(300000.0, 346378.0, 7400006.0, 7513000.0)"
                        ]
                    },
                    "metadata": {},
                    "execution_count": 29
                }
            ],
            "metadata": {}
        },
        {
            "cell_type": "code",
            "execution_count": 27,
            "source": [
                "plt.figure()\n",
                "grids['KC'].KC.plot(cmap='hsv',vmin=0)\n",
                "plt.axis('scaled')"
            ],
            "outputs": [
                {
                    "output_type": "display_data",
                    "data": {
                        "text/plain": [
                            "Canvas(toolbar=Toolbar(toolitems=[('Home', 'Reset original view', 'home', 'home'), ('Back', 'Back to previous …"
                        ],
                        "application/vnd.jupyter.widget-view+json": {
                            "version_major": 2,
                            "version_minor": 0,
                            "model_id": "c97ce3e637de40e1842738416331f730"
                        }
                    },
                    "metadata": {}
                },
                {
                    "output_type": "execute_result",
                    "data": {
                        "text/plain": [
                            "(300000.0, 346378.0, 7400006.0, 7513000.0)"
                        ]
                    },
                    "metadata": {},
                    "execution_count": 27
                }
            ],
            "metadata": {}
        },
        {
            "cell_type": "code",
            "execution_count": 26,
            "source": [
                "plt.figure()\n",
                "grids['UC'].UC.plot(cmap='hsv',vmin=0)\n",
                "plt.axis('scaled')"
            ],
            "outputs": [
                {
                    "output_type": "display_data",
                    "data": {
                        "text/plain": [
                            "Canvas(toolbar=Toolbar(toolitems=[('Home', 'Reset original view', 'home', 'home'), ('Back', 'Back to previous …"
                        ],
                        "application/vnd.jupyter.widget-view+json": {
                            "version_major": 2,
                            "version_minor": 0,
                            "model_id": "6547a9db014845deac26e6a670f4521e"
                        }
                    },
                    "metadata": {}
                },
                {
                    "output_type": "execute_result",
                    "data": {
                        "text/plain": [
                            "(300000.0, 346378.0, 7400006.0, 7513000.0)"
                        ]
                    },
                    "metadata": {},
                    "execution_count": 26
                }
            ],
            "metadata": {}
        },
        {
            "cell_type": "code",
            "execution_count": 30,
            "source": [
                "plt.figure()\n",
                "grids['MAGR'].MAGR.plot(cmap='hsv')\n",
                "plt.axis('scaled')"
            ],
            "outputs": [
                {
                    "output_type": "display_data",
                    "data": {
                        "text/plain": [
                            "Canvas(toolbar=Toolbar(toolitems=[('Home', 'Reset original view', 'home', 'home'), ('Back', 'Back to previous …"
                        ],
                        "application/vnd.jupyter.widget-view+json": {
                            "version_major": 2,
                            "version_minor": 0,
                            "model_id": "39f181a87e3b4232a5b72cd15812e4f7"
                        }
                    },
                    "metadata": {}
                },
                {
                    "output_type": "execute_result",
                    "data": {
                        "text/plain": [
                            "(300000.0, 346378.0, 7400006.0, 7513000.0)"
                        ]
                    },
                    "metadata": {},
                    "execution_count": 30
                }
            ],
            "metadata": {}
        },
        {
            "cell_type": "code",
            "execution_count": 31,
            "source": [
                "grids"
            ],
            "outputs": [
                {
                    "output_type": "execute_result",
                    "data": {
                        "text/plain": [
                            "{'THC': <xarray.Dataset>\n",
                            " Dimensions:   (easting: 232, northing: 565)\n",
                            " Coordinates:\n",
                            "   * easting   (easting) float64 3.001e+05 3.003e+05 ... 3.461e+05 3.463e+05\n",
                            "   * northing  (northing) float64 7.4e+06 7.4e+06 ... 7.513e+06 7.513e+06\n",
                            " Data variables:\n",
                            "     THC       (northing, easting) float64 66.21 66.99 67.72 ... nan nan nan\n",
                            " Attributes:\n",
                            "     metadata:  Generated by Chain(steps=[('trend', Trend(degree=1)),\\n       ...,\n",
                            " 'UC': <xarray.Dataset>\n",
                            " Dimensions:   (easting: 232, northing: 565)\n",
                            " Coordinates:\n",
                            "   * easting   (easting) float64 3.001e+05 3.003e+05 ... 3.461e+05 3.463e+05\n",
                            "   * northing  (northing) float64 7.4e+06 7.4e+06 ... 7.513e+06 7.513e+06\n",
                            " Data variables:\n",
                            "     UC        (northing, easting) float64 16.59 16.82 17.08 ... nan nan nan\n",
                            " Attributes:\n",
                            "     metadata:  Generated by Chain(steps=[('trend', Trend(degree=1)),\\n       ...,\n",
                            " 'KC': <xarray.Dataset>\n",
                            " Dimensions:   (easting: 232, northing: 565)\n",
                            " Coordinates:\n",
                            "   * easting   (easting) float64 3.001e+05 3.003e+05 ... 3.461e+05 3.463e+05\n",
                            "   * northing  (northing) float64 7.4e+06 7.4e+06 ... 7.513e+06 7.513e+06\n",
                            " Data variables:\n",
                            "     KC        (northing, easting) float64 52.22 57.78 64.21 ... nan nan nan\n",
                            " Attributes:\n",
                            "     metadata:  Generated by Chain(steps=[('trend', Trend(degree=1)),\\n       ...,\n",
                            " 'CTC': <xarray.Dataset>\n",
                            " Dimensions:   (easting: 232, northing: 565)\n",
                            " Coordinates:\n",
                            "   * easting   (easting) float64 3.001e+05 3.003e+05 ... 3.461e+05 3.463e+05\n",
                            "   * northing  (northing) float64 7.4e+06 7.4e+06 ... 7.513e+06 7.513e+06\n",
                            " Data variables:\n",
                            "     CTC       (northing, easting) float64 1.204e+03 1.24e+03 ... nan nan\n",
                            " Attributes:\n",
                            "     metadata:  Generated by Chain(steps=[('trend', Trend(degree=1)),\\n       ...,\n",
                            " 'MAGR': <xarray.Dataset>\n",
                            " Dimensions:   (easting: 232, northing: 565)\n",
                            " Coordinates:\n",
                            "   * easting   (easting) float64 3.001e+05 3.003e+05 ... 3.461e+05 3.463e+05\n",
                            "   * northing  (northing) float64 7.4e+06 7.4e+06 ... 7.513e+06 7.513e+06\n",
                            " Data variables:\n",
                            "     MAGR      (northing, easting) float64 66.26 64.7 63.06 61.3 ... nan nan nan\n",
                            " Attributes:\n",
                            "     metadata:  Generated by Chain(steps=[('trend', Trend(degree=1)),\\n       ...}"
                        ]
                    },
                    "metadata": {},
                    "execution_count": 31
                }
            ],
            "metadata": {}
        },
        {
            "cell_type": "code",
            "execution_count": null,
            "source": [],
            "outputs": [],
            "metadata": {}
        }
    ],
    "metadata": {
        "orig_nbformat": 4,
        "language_info": {
            "name": "python",
            "version": "3.8.2",
            "mimetype": "text/x-python",
            "codemirror_mode": {
                "name": "ipython",
                "version": 3
            },
            "pygments_lexer": "ipython3",
            "nbconvert_exporter": "python",
            "file_extension": ".py"
        },
        "kernelspec": {
            "name": "python3",
            "display_name": "Python 3.8.2 64-bit ('mappingBot': conda)"
        },
        "interpreter": {
            "hash": "2bc076d9378ac5ac660ba4f6a46900d2ea3732140aaa213526ceb6851acbc3f5"
        }
    },
    "nbformat": 4,
    "nbformat_minor": 2
}