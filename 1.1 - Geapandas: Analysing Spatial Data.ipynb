{
 "cells": [
  {
   "cell_type": "markdown",
   "metadata": {},
   "source": [
    "# Neste notebook vamos definir as funçoes de descriçao e filtragem dos dados a partir das classes definidas na bilbioteca GeoPandas e Matplotlib\n",
    "\n",
    "[Mapping and Plotting Tools](https://geopandas.org/docs/user_guide/mapping.html)\n",
    "\n",
    "[Matplotlib](https://matplotlib.org/stable/tutorials/introductory/usage.html#sphx-glr-tutorials-introductory-usage-py)\n",
    "\n",
    "\n",
    " *IMPORTANTE*\n",
    "- Com as funçoes definidas e testadas neste notebook, criaremos um arquivo .py no diretorio .soureces/ para armazena-las, possibilitando assim, sua utilizaçao com a funçao import."
   ]
  },
  {
   "cell_type": "markdown",
   "metadata": {},
   "source": [
    "## As always, we start importing the functions we're gonna use with the function 'import'"
   ]
  },
  {
   "cell_type": "code",
   "execution_count": 1,
   "metadata": {},
   "outputs": [],
   "source": [
    "import geopandas as gpd \n",
    "import pandas as pd\n",
    "#import fiona"
   ]
  },
  {
   "cell_type": "code",
   "execution_count": 2,
   "metadata": {},
   "outputs": [],
   "source": [
    "# Origem do banco de dados\n",
    "gdb = '/home/ggrl/geodatabase/'"
   ]
  },
  {
   "cell_type": "code",
   "execution_count": 3,
   "metadata": {},
   "outputs": [],
   "source": [
    "# Parametro para plot interativo\n",
    "%matplotlib widget"
   ]
  },
  {
   "cell_type": "markdown",
   "metadata": {},
   "source": [
    "## Importando os vetores do banco de dados criado no notebook passado.\n",
    "- Escolha de camada e mapa\n",
    "    - Caso nao tenha o mapa selecionado retorne lista de mapas disponiveis para aquela escala.\n",
    "    - Caso nao escolha um mapa retorne todos os vetores daquela camada."
   ]
  },
  {
   "cell_type": "code",
   "execution_count": 4,
   "metadata": {},
   "outputs": [],
   "source": [
    "# IMPORTADOR DE LITOLOGIAS POR ESCALA --------------------------------------------------------------------------#\n",
    "def importar_geometrias(camada, mapa=False):\n",
    "    '''\n",
    "    Recebe:\n",
    "        camada      : camada vetorial a ser lida do geopackage.\n",
    "        mapa        : nome do mapa presente na camada vetorial;\n",
    "\n",
    "    Retorna:\n",
    "        Objeto GeoDataFrame.\n",
    "        \n",
    "    Se houver seleçao de mapa retornara apenas as geometrias que possuem o nome escolhido na coluna ['MAPA']\n",
    "    Se Retornar camada vazia recebera a lista das camadas veotoriais diposniveis\n",
    "    Se mapa == False: retorna todos os objetos presente nesta camada vetorial\n",
    "    '''\n",
    "    lito =  gpd.read_file(gdb+'geodatabase.gpkg',\n",
    "                        driver= 'GPKG',\n",
    "                        layer= camada)\n",
    "                        \n",
    "    #print(f\"# -- Lista de camadas vetoriais disponiveis: {list(fiona.listlayers(gdb+'geodatabase.gpkg'))}\")  \n",
    "\n",
    "    if mapa:\n",
    "        folha = lito[lito.MAPA == 'Carta geológica da folha '+mapa]\n",
    "        if folha.empty:\n",
    "            print(\"O mapa escolhido nao est'a presente na coluna MAPA da camada veotiral. Os mapas disponiveis serao listados a seguir.\")\n",
    "            print('# Selecionando apenas os caracteres apos ''folha'' (SEM ESPAÇO)')\n",
    "            print(f\"# -- Lista de mapas: {list(lito.MAPA.unique())}\")\n",
    "            lista_mapas = list(lito.MAPA.unique())\n",
    "            return lista_mapas\n",
    "\n",
    "        else:    \n",
    "            return(folha)\n",
    "    else:\n",
    "        return(lito)"
   ]
  },
  {
   "cell_type": "markdown",
   "metadata": {},
   "source": [
    "###  Utilizando as funçoes definidas acima para importar os dados"
   ]
  },
  {
   "cell_type": "code",
   "execution_count": 5,
   "metadata": {},
   "outputs": [],
   "source": [
    "# Abrindo os vetores descritivos dos projetos aerogeofisicos\n",
    "proj_geof = importar_geometrias('proj_aerogeof')"
   ]
  },
  {
   "cell_type": "code",
   "execution_count": 6,
   "metadata": {},
   "outputs": [],
   "source": [
    "litologia_1kk = importar_geometrias('litologia_1kk')\n",
    "litologia_250k = importar_geometrias('litologia_250k')\n",
    "litologia_100k = importar_geometrias('litologia_100k')\n",
    "litologia_50k = importar_geometrias('litologia_50k')"
   ]
  },
  {
   "cell_type": "markdown",
   "metadata": {},
   "source": [
    "## Descrevendo as caracteristicas dos dados"
   ]
  },
  {
   "cell_type": "code",
   "execution_count": 7,
   "metadata": {},
   "outputs": [
    {
     "data": {
      "text/html": [
       "<div>\n",
       "<style scoped>\n",
       "    .dataframe tbody tr th:only-of-type {\n",
       "        vertical-align: middle;\n",
       "    }\n",
       "\n",
       "    .dataframe tbody tr th {\n",
       "        vertical-align: top;\n",
       "    }\n",
       "\n",
       "    .dataframe thead th {\n",
       "        text-align: right;\n",
       "    }\n",
       "</style>\n",
       "<table border=\"1\" class=\"dataframe\">\n",
       "  <thead>\n",
       "    <tr style=\"text-align: right;\">\n",
       "      <th></th>\n",
       "      <th>ID_UNIDADE</th>\n",
       "      <th>SIGLA</th>\n",
       "      <th>HIERARQUIA</th>\n",
       "      <th>NOME</th>\n",
       "      <th>AMBIENTE_T</th>\n",
       "      <th>SUB_AMBIEN</th>\n",
       "      <th>SIGLA_PAI</th>\n",
       "      <th>NOME_PAI</th>\n",
       "      <th>LEGENDA</th>\n",
       "      <th>ESCALA</th>\n",
       "      <th>...</th>\n",
       "      <th>ERA_MIN</th>\n",
       "      <th>ERA_MAX</th>\n",
       "      <th>SISTEMA_MI</th>\n",
       "      <th>SISTEMA_MA</th>\n",
       "      <th>EPOCA_MIN</th>\n",
       "      <th>EPOCA_MAX</th>\n",
       "      <th>SIGLAS_HIS</th>\n",
       "      <th>SHAPE_AREA</th>\n",
       "      <th>SHAPE_LEN</th>\n",
       "      <th>geometry</th>\n",
       "    </tr>\n",
       "  </thead>\n",
       "  <tbody>\n",
       "    <tr>\n",
       "      <th>0</th>\n",
       "      <td>1506</td>\n",
       "      <td>Q1t</td>\n",
       "      <td>Unidade</td>\n",
       "      <td>Unidade Terraços fluviais</td>\n",
       "      <td>Cobertura superficial</td>\n",
       "      <td>Cobertura transportada(Clástica)</td>\n",
       "      <td>Vazio</td>\n",
       "      <td>Vazio</td>\n",
       "      <td>Correspondem a amplos depósitos sedimentares c...</td>\n",
       "      <td>1:1.000.000</td>\n",
       "      <td>...</td>\n",
       "      <td>Cenozóico</td>\n",
       "      <td>Cenozóico</td>\n",
       "      <td>Neogeno</td>\n",
       "      <td>Neogeno</td>\n",
       "      <td>Superior</td>\n",
       "      <td>Superior</td>\n",
       "      <td>Vazio</td>\n",
       "      <td>0.002355</td>\n",
       "      <td>0.326835</td>\n",
       "      <td>POLYGON ((-72.72785 -8.38730, -72.73120 -8.384...</td>\n",
       "    </tr>\n",
       "    <tr>\n",
       "      <th>1</th>\n",
       "      <td>2054</td>\n",
       "      <td>K2ra</td>\n",
       "      <td>Formação</td>\n",
       "      <td>Formação Rio Azul</td>\n",
       "      <td>Vazio</td>\n",
       "      <td>Vazio</td>\n",
       "      <td>Vazio</td>\n",
       "      <td>Vazio</td>\n",
       "      <td>Folhelho cinza a castanho e arenito fino com n...</td>\n",
       "      <td>1:1.000.000</td>\n",
       "      <td>...</td>\n",
       "      <td>Mesozóico</td>\n",
       "      <td>Mesozóico</td>\n",
       "      <td>Cretáceo</td>\n",
       "      <td>Cretáceo</td>\n",
       "      <td>Inferior</td>\n",
       "      <td>Inferior</td>\n",
       "      <td>Vazio</td>\n",
       "      <td>0.005557</td>\n",
       "      <td>0.499255</td>\n",
       "      <td>POLYGON ((-73.73806 -7.33994, -73.73616 -7.343...</td>\n",
       "    </tr>\n",
       "    <tr>\n",
       "      <th>2</th>\n",
       "      <td>214</td>\n",
       "      <td>N12s</td>\n",
       "      <td>Formação</td>\n",
       "      <td>Formação Solimões</td>\n",
       "      <td>Vazio</td>\n",
       "      <td>Vazio</td>\n",
       "      <td>Vazio</td>\n",
       "      <td>Vazio</td>\n",
       "      <td>Sedimento pelítico, flúvio lacustre, contendo ...</td>\n",
       "      <td>1:1.000.000</td>\n",
       "      <td>...</td>\n",
       "      <td>Cenozóico</td>\n",
       "      <td>Cenozóico</td>\n",
       "      <td>Neogeno</td>\n",
       "      <td>Neogeno</td>\n",
       "      <td>Superior</td>\n",
       "      <td>Superior</td>\n",
       "      <td>E2N2s</td>\n",
       "      <td>0.276915</td>\n",
       "      <td>3.847330</td>\n",
       "      <td>MULTIPOLYGON (((-72.00000 -8.00000, -72.03095 ...</td>\n",
       "    </tr>\n",
       "    <tr>\n",
       "      <th>3</th>\n",
       "      <td>1506</td>\n",
       "      <td>Q1t</td>\n",
       "      <td>Unidade</td>\n",
       "      <td>Unidade Terraços fluviais</td>\n",
       "      <td>Cobertura superficial</td>\n",
       "      <td>Cobertura transportada(Clástica)</td>\n",
       "      <td>Vazio</td>\n",
       "      <td>Vazio</td>\n",
       "      <td>Correspondem a amplos depósitos sedimentares c...</td>\n",
       "      <td>1:1.000.000</td>\n",
       "      <td>...</td>\n",
       "      <td>Cenozóico</td>\n",
       "      <td>Cenozóico</td>\n",
       "      <td>Neogeno</td>\n",
       "      <td>Neogeno</td>\n",
       "      <td>Superior</td>\n",
       "      <td>Superior</td>\n",
       "      <td>Vazio</td>\n",
       "      <td>0.033780</td>\n",
       "      <td>1.492084</td>\n",
       "      <td>POLYGON ((-72.00000 -7.25284, -72.00048 -7.253...</td>\n",
       "    </tr>\n",
       "    <tr>\n",
       "      <th>4</th>\n",
       "      <td>214</td>\n",
       "      <td>N12s</td>\n",
       "      <td>Formação</td>\n",
       "      <td>Formação Solimões</td>\n",
       "      <td>Vazio</td>\n",
       "      <td>Vazio</td>\n",
       "      <td>Vazio</td>\n",
       "      <td>Vazio</td>\n",
       "      <td>Sedimento pelítico, flúvio lacustre, contendo ...</td>\n",
       "      <td>1:1.000.000</td>\n",
       "      <td>...</td>\n",
       "      <td>Cenozóico</td>\n",
       "      <td>Cenozóico</td>\n",
       "      <td>Neogeno</td>\n",
       "      <td>Neogeno</td>\n",
       "      <td>Superior</td>\n",
       "      <td>Superior</td>\n",
       "      <td>E2N2s</td>\n",
       "      <td>2.239930</td>\n",
       "      <td>16.631079</td>\n",
       "      <td>POLYGON ((-68.99004 -8.79511, -68.98310 -8.798...</td>\n",
       "    </tr>\n",
       "  </tbody>\n",
       "</table>\n",
       "<p>5 rows × 27 columns</p>\n",
       "</div>"
      ],
      "text/plain": [
       "   ID_UNIDADE SIGLA HIERARQUIA                       NOME  \\\n",
       "0        1506   Q1t    Unidade  Unidade Terraços fluviais   \n",
       "1        2054  K2ra   Formação          Formação Rio Azul   \n",
       "2         214  N12s   Formação          Formação Solimões   \n",
       "3        1506   Q1t    Unidade  Unidade Terraços fluviais   \n",
       "4         214  N12s   Formação          Formação Solimões   \n",
       "\n",
       "              AMBIENTE_T                        SUB_AMBIEN SIGLA_PAI NOME_PAI  \\\n",
       "0  Cobertura superficial  Cobertura transportada(Clástica)     Vazio    Vazio   \n",
       "1                  Vazio                             Vazio     Vazio    Vazio   \n",
       "2                  Vazio                             Vazio     Vazio    Vazio   \n",
       "3  Cobertura superficial  Cobertura transportada(Clástica)     Vazio    Vazio   \n",
       "4                  Vazio                             Vazio     Vazio    Vazio   \n",
       "\n",
       "                                             LEGENDA       ESCALA  ...  \\\n",
       "0  Correspondem a amplos depósitos sedimentares c...  1:1.000.000  ...   \n",
       "1  Folhelho cinza a castanho e arenito fino com n...  1:1.000.000  ...   \n",
       "2  Sedimento pelítico, flúvio lacustre, contendo ...  1:1.000.000  ...   \n",
       "3  Correspondem a amplos depósitos sedimentares c...  1:1.000.000  ...   \n",
       "4  Sedimento pelítico, flúvio lacustre, contendo ...  1:1.000.000  ...   \n",
       "\n",
       "     ERA_MIN    ERA_MAX SISTEMA_MI  SISTEMA_MA  EPOCA_MIN EPOCA_MAX  \\\n",
       "0  Cenozóico  Cenozóico    Neogeno     Neogeno   Superior  Superior   \n",
       "1  Mesozóico  Mesozóico   Cretáceo    Cretáceo   Inferior  Inferior   \n",
       "2  Cenozóico  Cenozóico    Neogeno     Neogeno   Superior  Superior   \n",
       "3  Cenozóico  Cenozóico    Neogeno     Neogeno   Superior  Superior   \n",
       "4  Cenozóico  Cenozóico    Neogeno     Neogeno   Superior  Superior   \n",
       "\n",
       "  SIGLAS_HIS SHAPE_AREA  SHAPE_LEN  \\\n",
       "0      Vazio   0.002355   0.326835   \n",
       "1      Vazio   0.005557   0.499255   \n",
       "2      E2N2s   0.276915   3.847330   \n",
       "3      Vazio   0.033780   1.492084   \n",
       "4      E2N2s   2.239930  16.631079   \n",
       "\n",
       "                                            geometry  \n",
       "0  POLYGON ((-72.72785 -8.38730, -72.73120 -8.384...  \n",
       "1  POLYGON ((-73.73806 -7.33994, -73.73616 -7.343...  \n",
       "2  MULTIPOLYGON (((-72.00000 -8.00000, -72.03095 ...  \n",
       "3  POLYGON ((-72.00000 -7.25284, -72.00048 -7.253...  \n",
       "4  POLYGON ((-68.99004 -8.79511, -68.98310 -8.798...  \n",
       "\n",
       "[5 rows x 27 columns]"
      ]
     },
     "execution_count": 7,
     "metadata": {},
     "output_type": "execute_result"
    }
   ],
   "source": [
    "litologia_1kk.head(5)"
   ]
  },
  {
   "cell_type": "code",
   "execution_count": 8,
   "metadata": {},
   "outputs": [
    {
     "name": "stdout",
     "output_type": "stream",
     "text": [
      "Index(['ID_UNIDADE', 'SIGLA', 'HIERARQUIA', 'NOME', 'AMBIENTE_T', 'SUB_AMBIEN',\n",
      "       'SIGLA_PAI', 'NOME_PAI', 'LEGENDA', 'ESCALA', 'MAPA', 'LITOTIPOS',\n",
      "       'RANGE', 'IDADE_MIN', 'IDADE_MAX', 'EON_MIN', 'EON_MAX', 'ERA_MIN',\n",
      "       'ERA_MAX', 'SISTEMA_MI', 'SISTEMA_MA', 'EPOCA_MIN', 'EPOCA_MAX',\n",
      "       'SIGLAS_HIS', 'SHAPE_AREA', 'SHAPE_LEN', 'geometry'],\n",
      "      dtype='object')\n"
     ]
    }
   ],
   "source": [
    "print(litologia_1kk.columns)"
   ]
  },
  {
   "cell_type": "code",
   "execution_count": 9,
   "metadata": {},
   "outputs": [
    {
     "data": {
      "text/html": [
       "<div>\n",
       "<style scoped>\n",
       "    .dataframe tbody tr th:only-of-type {\n",
       "        vertical-align: middle;\n",
       "    }\n",
       "\n",
       "    .dataframe tbody tr th {\n",
       "        vertical-align: top;\n",
       "    }\n",
       "\n",
       "    .dataframe thead th {\n",
       "        text-align: right;\n",
       "    }\n",
       "</style>\n",
       "<table border=\"1\" class=\"dataframe\">\n",
       "  <thead>\n",
       "    <tr style=\"text-align: right;\">\n",
       "      <th></th>\n",
       "      <th>0</th>\n",
       "      <th>Valores null</th>\n",
       "      <th>Valores unicos</th>\n",
       "    </tr>\n",
       "  </thead>\n",
       "  <tbody>\n",
       "    <tr>\n",
       "      <th>ID_UNIDADE</th>\n",
       "      <td>int64</td>\n",
       "      <td>0</td>\n",
       "      <td>2334</td>\n",
       "    </tr>\n",
       "    <tr>\n",
       "      <th>SIGLA</th>\n",
       "      <td>object</td>\n",
       "      <td>0</td>\n",
       "      <td>2334</td>\n",
       "    </tr>\n",
       "    <tr>\n",
       "      <th>HIERARQUIA</th>\n",
       "      <td>object</td>\n",
       "      <td>0</td>\n",
       "      <td>30</td>\n",
       "    </tr>\n",
       "    <tr>\n",
       "      <th>NOME</th>\n",
       "      <td>object</td>\n",
       "      <td>0</td>\n",
       "      <td>2299</td>\n",
       "    </tr>\n",
       "    <tr>\n",
       "      <th>AMBIENTE_T</th>\n",
       "      <td>object</td>\n",
       "      <td>0</td>\n",
       "      <td>10</td>\n",
       "    </tr>\n",
       "    <tr>\n",
       "      <th>SUB_AMBIEN</th>\n",
       "      <td>object</td>\n",
       "      <td>0</td>\n",
       "      <td>29</td>\n",
       "    </tr>\n",
       "    <tr>\n",
       "      <th>SIGLA_PAI</th>\n",
       "      <td>object</td>\n",
       "      <td>0</td>\n",
       "      <td>381</td>\n",
       "    </tr>\n",
       "    <tr>\n",
       "      <th>NOME_PAI</th>\n",
       "      <td>object</td>\n",
       "      <td>0</td>\n",
       "      <td>381</td>\n",
       "    </tr>\n",
       "    <tr>\n",
       "      <th>LEGENDA</th>\n",
       "      <td>object</td>\n",
       "      <td>0</td>\n",
       "      <td>2096</td>\n",
       "    </tr>\n",
       "    <tr>\n",
       "      <th>ESCALA</th>\n",
       "      <td>object</td>\n",
       "      <td>0</td>\n",
       "      <td>1</td>\n",
       "    </tr>\n",
       "    <tr>\n",
       "      <th>MAPA</th>\n",
       "      <td>object</td>\n",
       "      <td>0</td>\n",
       "      <td>45</td>\n",
       "    </tr>\n",
       "    <tr>\n",
       "      <th>LITOTIPOS</th>\n",
       "      <td>object</td>\n",
       "      <td>0</td>\n",
       "      <td>1637</td>\n",
       "    </tr>\n",
       "    <tr>\n",
       "      <th>RANGE</th>\n",
       "      <td>object</td>\n",
       "      <td>0</td>\n",
       "      <td>112</td>\n",
       "    </tr>\n",
       "    <tr>\n",
       "      <th>IDADE_MIN</th>\n",
       "      <td>int64</td>\n",
       "      <td>0</td>\n",
       "      <td>43</td>\n",
       "    </tr>\n",
       "    <tr>\n",
       "      <th>IDADE_MAX</th>\n",
       "      <td>int64</td>\n",
       "      <td>0</td>\n",
       "      <td>44</td>\n",
       "    </tr>\n",
       "    <tr>\n",
       "      <th>EON_MIN</th>\n",
       "      <td>object</td>\n",
       "      <td>0</td>\n",
       "      <td>3</td>\n",
       "    </tr>\n",
       "    <tr>\n",
       "      <th>EON_MAX</th>\n",
       "      <td>object</td>\n",
       "      <td>0</td>\n",
       "      <td>3</td>\n",
       "    </tr>\n",
       "    <tr>\n",
       "      <th>ERA_MIN</th>\n",
       "      <td>object</td>\n",
       "      <td>0</td>\n",
       "      <td>9</td>\n",
       "    </tr>\n",
       "    <tr>\n",
       "      <th>ERA_MAX</th>\n",
       "      <td>object</td>\n",
       "      <td>0</td>\n",
       "      <td>10</td>\n",
       "    </tr>\n",
       "    <tr>\n",
       "      <th>SISTEMA_MI</th>\n",
       "      <td>object</td>\n",
       "      <td>0</td>\n",
       "      <td>22</td>\n",
       "    </tr>\n",
       "    <tr>\n",
       "      <th>SISTEMA_MA</th>\n",
       "      <td>object</td>\n",
       "      <td>0</td>\n",
       "      <td>22</td>\n",
       "    </tr>\n",
       "    <tr>\n",
       "      <th>EPOCA_MIN</th>\n",
       "      <td>object</td>\n",
       "      <td>0</td>\n",
       "      <td>16</td>\n",
       "    </tr>\n",
       "    <tr>\n",
       "      <th>EPOCA_MAX</th>\n",
       "      <td>object</td>\n",
       "      <td>0</td>\n",
       "      <td>16</td>\n",
       "    </tr>\n",
       "    <tr>\n",
       "      <th>SIGLAS_HIS</th>\n",
       "      <td>object</td>\n",
       "      <td>0</td>\n",
       "      <td>1104</td>\n",
       "    </tr>\n",
       "    <tr>\n",
       "      <th>SHAPE_AREA</th>\n",
       "      <td>float64</td>\n",
       "      <td>0</td>\n",
       "      <td>46705</td>\n",
       "    </tr>\n",
       "    <tr>\n",
       "      <th>SHAPE_LEN</th>\n",
       "      <td>float64</td>\n",
       "      <td>0</td>\n",
       "      <td>46705</td>\n",
       "    </tr>\n",
       "    <tr>\n",
       "      <th>geometry</th>\n",
       "      <td>geometry</td>\n",
       "      <td>0</td>\n",
       "      <td>46705</td>\n",
       "    </tr>\n",
       "  </tbody>\n",
       "</table>\n",
       "</div>"
      ],
      "text/plain": [
       "                   0  Valores null  Valores unicos\n",
       "ID_UNIDADE     int64             0            2334\n",
       "SIGLA         object             0            2334\n",
       "HIERARQUIA    object             0              30\n",
       "NOME          object             0            2299\n",
       "AMBIENTE_T    object             0              10\n",
       "SUB_AMBIEN    object             0              29\n",
       "SIGLA_PAI     object             0             381\n",
       "NOME_PAI      object             0             381\n",
       "LEGENDA       object             0            2096\n",
       "ESCALA        object             0               1\n",
       "MAPA          object             0              45\n",
       "LITOTIPOS     object             0            1637\n",
       "RANGE         object             0             112\n",
       "IDADE_MIN      int64             0              43\n",
       "IDADE_MAX      int64             0              44\n",
       "EON_MIN       object             0               3\n",
       "EON_MAX       object             0               3\n",
       "ERA_MIN       object             0               9\n",
       "ERA_MAX       object             0              10\n",
       "SISTEMA_MI    object             0              22\n",
       "SISTEMA_MA    object             0              22\n",
       "EPOCA_MIN     object             0              16\n",
       "EPOCA_MAX     object             0              16\n",
       "SIGLAS_HIS    object             0            1104\n",
       "SHAPE_AREA   float64             0           46705\n",
       "SHAPE_LEN    float64             0           46705\n",
       "geometry    geometry             0           46705"
      ]
     },
     "execution_count": 9,
     "metadata": {},
     "output_type": "execute_result"
    }
   ],
   "source": [
    "meta_lito_1kk = pd.DataFrame(litologia_1kk.dtypes)\n",
    "meta_lito_1kk['Valores null'] = litologia_1kk.isnull().sum()\n",
    "meta_lito_1kk['Valores unicos'] = litologia_1kk.nunique()\n",
    "meta_lito_1kk                                                                   # NEED TO CREATE A SYSTEM TO GENERATE A DATAFRAME FOR EACH LITOSTRATIGRAPHIC LAYER\n",
    "                                                                                # TO DO SO, WE COULD CREATE AN UPPER INDEX FOR EACH LAYER CONTAINING ALL THIS INDECES."
   ]
  },
  {
   "cell_type": "markdown",
   "metadata": {},
   "source": [
    "### Here we can define a function to execute this operation for any layer"
   ]
  },
  {
   "cell_type": "code",
   "execution_count": 10,
   "metadata": {},
   "outputs": [],
   "source": [
    "def metadataframe(GeoDataFrame):\n",
    "    meta_lito = pd.DataFrame(GeoDataFrame.dtypes)               # Describe the dtype of each column from the DataFrame or, better saying, GeoDataFrame;\n",
    "    meta_lito['Valores null'] = GeoDataFrame.isnull().sum()     # Describe the sum of each null value from our object\n",
    "    meta_lito['Valores unicos'] = GeoDataFrame.nunique()        # Describe the number of unique values from our object, that is a GeoDataFrame\n",
    "    meta_lito = meta_lito.rename(columns = {0 : 'dType'})       # Rename the first column to 'dtype', the name of the function we used.\n",
    "    return meta_lito"
   ]
  },
  {
   "cell_type": "code",
   "execution_count": 11,
   "metadata": {},
   "outputs": [],
   "source": [
    "from sources.descricao import metadataframe   # The above function was inserted inside the /sources/descricao.py file;\n",
    "                                              # So we can import the funcion with this command wennerver we need it"
   ]
  },
  {
   "cell_type": "code",
   "execution_count": 12,
   "metadata": {},
   "outputs": [],
   "source": [
    "#metadataframe(litologia_250k)\n",
    "#metadataframe(litologia_100k)\n",
    "#metadataframe(litologia_50k)\n"
   ]
  },
  {
   "cell_type": "markdown",
   "metadata": {},
   "source": [
    "### We can observe and analyse by the same means our aerogeophysical metadata."
   ]
  },
  {
   "cell_type": "code",
   "execution_count": 13,
   "metadata": {},
   "outputs": [
    {
     "data": {
      "text/html": [
       "<div>\n",
       "<style scoped>\n",
       "    .dataframe tbody tr th:only-of-type {\n",
       "        vertical-align: middle;\n",
       "    }\n",
       "\n",
       "    .dataframe tbody tr th {\n",
       "        vertical-align: top;\n",
       "    }\n",
       "\n",
       "    .dataframe thead th {\n",
       "        text-align: right;\n",
       "    }\n",
       "</style>\n",
       "<table border=\"1\" class=\"dataframe\">\n",
       "  <thead>\n",
       "    <tr style=\"text-align: right;\">\n",
       "      <th></th>\n",
       "      <th>dType</th>\n",
       "      <th>Valores null</th>\n",
       "      <th>Valores unicos</th>\n",
       "    </tr>\n",
       "  </thead>\n",
       "  <tbody>\n",
       "    <tr>\n",
       "      <th>ID_PROJETO</th>\n",
       "      <td>int64</td>\n",
       "      <td>0</td>\n",
       "      <td>296</td>\n",
       "    </tr>\n",
       "    <tr>\n",
       "      <th>TITULO</th>\n",
       "      <td>object</td>\n",
       "      <td>0</td>\n",
       "      <td>295</td>\n",
       "    </tr>\n",
       "    <tr>\n",
       "      <th>METODOS</th>\n",
       "      <td>object</td>\n",
       "      <td>0</td>\n",
       "      <td>15</td>\n",
       "    </tr>\n",
       "    <tr>\n",
       "      <th>ALTURA_VOO</th>\n",
       "      <td>object</td>\n",
       "      <td>31</td>\n",
       "      <td>21</td>\n",
       "    </tr>\n",
       "    <tr>\n",
       "      <th>AREA_LEVAN</th>\n",
       "      <td>object</td>\n",
       "      <td>0</td>\n",
       "      <td>264</td>\n",
       "    </tr>\n",
       "    <tr>\n",
       "      <th>QUILOMETRA</th>\n",
       "      <td>object</td>\n",
       "      <td>94</td>\n",
       "      <td>199</td>\n",
       "    </tr>\n",
       "    <tr>\n",
       "      <th>DIRECAO_LV</th>\n",
       "      <td>object</td>\n",
       "      <td>0</td>\n",
       "      <td>32</td>\n",
       "    </tr>\n",
       "    <tr>\n",
       "      <th>DIRECAO_LC</th>\n",
       "      <td>object</td>\n",
       "      <td>0</td>\n",
       "      <td>34</td>\n",
       "    </tr>\n",
       "    <tr>\n",
       "      <th>ESPACAMENT</th>\n",
       "      <td>object</td>\n",
       "      <td>0</td>\n",
       "      <td>27</td>\n",
       "    </tr>\n",
       "    <tr>\n",
       "      <th>ESPACAME_1</th>\n",
       "      <td>object</td>\n",
       "      <td>4</td>\n",
       "      <td>31</td>\n",
       "    </tr>\n",
       "    <tr>\n",
       "      <th>ID_SERIE</th>\n",
       "      <td>int64</td>\n",
       "      <td>0</td>\n",
       "      <td>4</td>\n",
       "    </tr>\n",
       "    <tr>\n",
       "      <th>SERIE</th>\n",
       "      <td>object</td>\n",
       "      <td>0</td>\n",
       "      <td>4</td>\n",
       "    </tr>\n",
       "    <tr>\n",
       "      <th>DISPONIBIL</th>\n",
       "      <td>object</td>\n",
       "      <td>181</td>\n",
       "      <td>1</td>\n",
       "    </tr>\n",
       "    <tr>\n",
       "      <th>IMAGENS</th>\n",
       "      <td>object</td>\n",
       "      <td>181</td>\n",
       "      <td>115</td>\n",
       "    </tr>\n",
       "    <tr>\n",
       "      <th>SHAPE_AREA</th>\n",
       "      <td>float64</td>\n",
       "      <td>0</td>\n",
       "      <td>290</td>\n",
       "    </tr>\n",
       "    <tr>\n",
       "      <th>SHAPE_LEN</th>\n",
       "      <td>float64</td>\n",
       "      <td>0</td>\n",
       "      <td>281</td>\n",
       "    </tr>\n",
       "    <tr>\n",
       "      <th>geometry</th>\n",
       "      <td>geometry</td>\n",
       "      <td>0</td>\n",
       "      <td>296</td>\n",
       "    </tr>\n",
       "  </tbody>\n",
       "</table>\n",
       "</div>"
      ],
      "text/plain": [
       "               dType  Valores null  Valores unicos\n",
       "ID_PROJETO     int64             0             296\n",
       "TITULO        object             0             295\n",
       "METODOS       object             0              15\n",
       "ALTURA_VOO    object            31              21\n",
       "AREA_LEVAN    object             0             264\n",
       "QUILOMETRA    object            94             199\n",
       "DIRECAO_LV    object             0              32\n",
       "DIRECAO_LC    object             0              34\n",
       "ESPACAMENT    object             0              27\n",
       "ESPACAME_1    object             4              31\n",
       "ID_SERIE       int64             0               4\n",
       "SERIE         object             0               4\n",
       "DISPONIBIL    object           181               1\n",
       "IMAGENS       object           181             115\n",
       "SHAPE_AREA   float64             0             290\n",
       "SHAPE_LEN    float64             0             281\n",
       "geometry    geometry             0             296"
      ]
     },
     "execution_count": 13,
     "metadata": {},
     "output_type": "execute_result"
    }
   ],
   "source": [
    "metadataframe(proj_geof)       # WE CONCLUDE BY OBSERVING THIS DATAFRAME THAT THE 'TITULO' COLUMN EATHER HAS AN DUPLICATED VALUE\n",
    "                               # BECAUSE WE HAVE 296 GEOMETRIES AND 295 DIFERENT TITLES"
   ]
  },
  {
   "cell_type": "markdown",
   "metadata": {},
   "source": [
    "## Com os dados disponiveis na RAM podemos utilizar funçoes do built-in do Python ou funçoes disponibilizadas atravez das bibliotecas podemos produzir informaçoes importantes sobre o nosso dado."
   ]
  },
  {
   "cell_type": "markdown",
   "metadata": {},
   "source": [
    "#### Como por exemplo, calcular area de cobertura do dado."
   ]
  },
  {
   "cell_type": "code",
   "execution_count": 14,
   "metadata": {},
   "outputs": [
    {
     "name": "stdout",
     "output_type": "stream",
     "text": [
      "699.2119915387831\n"
     ]
    },
    {
     "name": "stderr",
     "output_type": "stream",
     "text": [
      "/tmp/ipykernel_200096/3710234299.py:1: UserWarning: Geometry is in a geographic CRS. Results from 'area' are likely incorrect. Use 'GeoSeries.to_crs()' to re-project geometries to a projected CRS before this operation.\n",
      "\n",
      "  area_lito_1kk = litologia_1kk[:].area.sum()\n"
     ]
    }
   ],
   "source": [
    "area_lito_1kk = litologia_1kk[:].area.sum()\n",
    "print(area_lito_1kk)\n",
    "\n",
    "# We can observe that the calculation of the area should be done with a cartesian coordinate reference system instead of geographic for more accurate results\n",
    "# Although, our coverage area is not inside only one UTM Zone, so we need to create a system to convert each geometry to it's correspodent Zone."
   ]
  },
  {
   "cell_type": "code",
   "execution_count": 15,
   "metadata": {},
   "outputs": [
    {
     "data": {
      "text/plain": [
       "699.2119915384314"
      ]
     },
     "execution_count": 15,
     "metadata": {},
     "output_type": "execute_result"
    }
   ],
   "source": [
    "litologia_1kk['SHAPE_AREA'].sum() # We can observe that the area of the polygons have already been calculated and is stored at 'SHAPE_AREA' column"
   ]
  },
  {
   "cell_type": "code",
   "execution_count": 16,
   "metadata": {},
   "outputs": [
    {
     "name": "stdout",
     "output_type": "stream",
     "text": [
      "-3.516333890729584e-10\n"
     ]
    }
   ],
   "source": [
    "print(litologia_1kk['SHAPE_AREA'].sum() - area_lito_1kk) # The result is the difference between the Area calculated by the CRPM and the area calculated by the GeoPandas Function"
   ]
  },
  {
   "cell_type": "code",
   "execution_count": 17,
   "metadata": {},
   "outputs": [],
   "source": [
    "# SELECTING AEROGEOPHYSICAL PROJECTS BY ITS FLIGHT LINE SPACEMENT [RESOLUTION]\n",
    "proj_geof_500m = proj_geof[proj_geof['ESPACAMENT'] == '500']\n",
    "proj_geof_1000m = proj_geof[proj_geof['ESPACAMENT'] == '1000']"
   ]
  },
  {
   "cell_type": "code",
   "execution_count": 18,
   "metadata": {},
   "outputs": [
    {
     "name": "stdout",
     "output_type": "stream",
     "text": [
      " The total coverage area of projects with 500 m resolution: 325.81878046663854\n",
      " The total coverage area of projects with 1000 m resolution: 100.8120406558254\n"
     ]
    }
   ],
   "source": [
    "print(f\" The total coverage area of projects with 500 m resolution: {proj_geof_500m['SHAPE_AREA'].sum()}\")\n",
    "print(f\" The total coverage area of projects with 1000 m resolution: {proj_geof_1000m['SHAPE_AREA'].sum()}\")"
   ]
  },
  {
   "cell_type": "code",
   "execution_count": 19,
   "metadata": {},
   "outputs": [
    {
     "name": "stdout",
     "output_type": "stream",
     "text": [
      " The total coverage area of projects with 500 m resolution: 325.81878041879565\n",
      " The total coverage area of projects with 1000 m resolution: 100.81204065019355\n"
     ]
    },
    {
     "name": "stderr",
     "output_type": "stream",
     "text": [
      "/tmp/ipykernel_200096/1195854347.py:1: UserWarning: Geometry is in a geographic CRS. Results from 'area' are likely incorrect. Use 'GeoSeries.to_crs()' to re-project geometries to a projected CRS before this operation.\n",
      "\n",
      "  print(f\" The total coverage area of projects with 500 m resolution: {proj_geof_500m[:].area.sum()}\")\n",
      "/tmp/ipykernel_200096/1195854347.py:3: UserWarning: Geometry is in a geographic CRS. Results from 'area' are likely incorrect. Use 'GeoSeries.to_crs()' to re-project geometries to a projected CRS before this operation.\n",
      "\n",
      "  print(f\" The total coverage area of projects with 1000 m resolution: {proj_geof_1000m[:].area.sum()}\")\n"
     ]
    }
   ],
   "source": [
    "print(f\" The total coverage area of projects with 500 m resolution: {proj_geof_500m[:].area.sum()}\")\n",
    "\n",
    "print(f\" The total coverage area of projects with 1000 m resolution: {proj_geof_1000m[:].area.sum()}\")"
   ]
  },
  {
   "cell_type": "code",
   "execution_count": 20,
   "metadata": {},
   "outputs": [
    {
     "name": "stdout",
     "output_type": "stream",
     "text": [
      "Percentage of aerogeophysical data coverage of the continental area with 500m resolution: 46.597996660463494 %\n",
      "Percentage of aerogeophysical data coverage of the continental area with 1000m resolution: 14.417950761115398 %\n"
     ]
    }
   ],
   "source": [
    "print(f\"Percentage of aerogeophysical data coverage of the continental area with 500m resolution: {(proj_geof_500m['SHAPE_AREA'].sum()  / litologia_1kk['SHAPE_AREA'].sum()) * 100} %\")\n",
    "print(f\"Percentage of aerogeophysical data coverage of the continental area with 1000m resolution: {(proj_geof_1000m['SHAPE_AREA'].sum() / litologia_1kk['SHAPE_AREA'].sum()) * 100} %\")"
   ]
  },
  {
   "cell_type": "markdown",
   "metadata": {},
   "source": [
    "### Listando atributos geologicos das geometrias importadas."
   ]
  },
  {
   "cell_type": "code",
   "execution_count": 21,
   "metadata": {},
   "outputs": [],
   "source": [
    "# Abrindo os vetores litológicos de um unico mapa utilizando a função definida acima\n",
    "#varginha_100k = importar_geometrias('litologia_100k','Varginha - UFRJ')\n",
    "#varginha_100k.head(5)"
   ]
  },
  {
   "cell_type": "code",
   "execution_count": 22,
   "metadata": {},
   "outputs": [],
   "source": [
    "# com estas funçoes utilizadas asssimas, podemos definir uma funçao que descreve o nosso dado vetorial\n",
    "def describe_geologico(gdf):\n",
    "    lista_colunas = list(gdf.columns)\n",
    "    lista_litotipos = list(gdf.LITOTIPOS.unique())\n",
    "    lista_legenda = list(gdf.LEGENDA.unique())\n",
    "\n",
    "    dic_litologico = {'lista_colunas': lista_colunas,\n",
    "                      'lista_litotipos': lista_litotipos,\n",
    "                      'lista_legenda': lista_legenda}\n",
    "    return dic_litologico   "
   ]
  },
  {
   "cell_type": "code",
   "execution_count": 23,
   "metadata": {},
   "outputs": [],
   "source": [
    "dic_litoligico = describe_geologico(litologia_1kk)"
   ]
  },
  {
   "cell_type": "markdown",
   "metadata": {},
   "source": [
    "### Reconhecendo as litologia mapeadas em suas escalas\n",
    "- Faremos um filtro na coluna LEGENDA e LITOTIOPOS para selecionar as classes de interesse e, com estas geometrias, selecionaremos os mapas que as contém.\n",
    "- Assim podemos identificar quais cartas geológicas e suas escalas podemos trabalhar."
   ]
  },
  {
   "cell_type": "code",
   "execution_count": 27,
   "metadata": {},
   "outputs": [],
   "source": [
    "def filtro(gdf,mineral):\n",
    "    filtrado = gdf[gdf['LITOTIPOS'].str.contains(mineral)]\n",
    "    if filtrado.empty:\n",
    "        print(f\"{list(gdf['LITOTIPOS'].unique())}\")\n",
    "    else:\n",
    "        return filtrado"
   ]
  },
  {
   "cell_type": "code",
   "execution_count": 28,
   "metadata": {},
   "outputs": [],
   "source": [
    "litologia_grafitosa_1kk = filtro(litologia_1kk,'graf')"
   ]
  },
  {
   "cell_type": "code",
   "execution_count": 29,
   "metadata": {},
   "outputs": [
    {
     "data": {
      "text/plain": [
       "Series([], Name: LITOTIPOS, dtype: object)"
      ]
     },
     "execution_count": 29,
     "metadata": {},
     "output_type": "execute_result"
    }
   ],
   "source": [
    "litotipos_vazio = litologia_1kk[litologia_1kk.LITOTIPOS.isna()]\n",
    "litotipos_vazio.LITOTIPOS"
   ]
  },
  {
   "cell_type": "code",
   "execution_count": 30,
   "metadata": {},
   "outputs": [],
   "source": [
    "#Foi necessário inserir a str 'Vazio' em celas que não continham valores para que a função de filtro funcionasse corretamente na coluna LEGENDA.\n",
    "\n",
    "litologia_1kk.fillna('Vazio',inplace=True)\n",
    "litologia_250k.fillna('Vazio',inplace=True)\n",
    "litologia_100k.fillna('Vazio',inplace=True)\n",
    "litologia_50k.fillna('Vazio',inplace=True)"
   ]
  },
  {
   "cell_type": "code",
   "execution_count": 31,
   "metadata": {},
   "outputs": [],
   "source": [
    "litologia_1kk.to_file(gdb+'geodatabase.gpkg',\n",
    "              driver='GPKG',\n",
    "              layer='litologia_1kk')\n",
    "\n",
    "litologia_250k.to_file(gdb+'geodatabase.gpkg',\n",
    "              driver='GPKG',\n",
    "              layer='litologia_250k')\n",
    "\n",
    "litologia_100k.to_file(gdb+'geodatabase.gpkg',\n",
    "              driver='GPKG',\n",
    "              layer='litologia_100k')\n",
    "\n",
    "litologia_50k.to_file(gdb+'geodatabase.gpkg',\n",
    "              driver='GPKG',\n",
    "              layer='litologia_50k')"
   ]
  },
  {
   "cell_type": "code",
   "execution_count": 32,
   "metadata": {
    "tags": []
   },
   "outputs": [
    {
     "data": {
      "text/plain": [
       "['Anfibolito, Grafita xisto, Metapelito, Quartzito',\n",
       " 'Formação ferrífera bandada, Grafita xisto, Metachert, Rocha metassedimentar, Rocha metavulcânica ultramáfica, Serpentinito',\n",
       " 'Biotita-anfibólio xisto, Biotita-quartzo xisto, Filito, Grafita xisto, Mármore calcítico, Mármore dolomítico, Metatufo, Quartzo-mica xisto, Rocha calcissilicática, Xisto carbonático',\n",
       " 'Clorita xisto, Grafita xisto, Hornblenda gnaisse, Metacalcário, Muscovita quartzito, Muscovita-biotita xisto, Quartzito ferruginoso, Talco xisto',\n",
       " 'Clorita xisto, Grafita xisto, Metachert, Metadacito, Metatufo, Xisto',\n",
       " 'Biotita gnaisse, Gnaisse, Gondito, Grafita xisto, Granada gnaisse, Kinzigito, Mármore, Muscovita quartzito, Quartzito, Rocha calcissilicática, Sericita xisto, Xisto',\n",
       " 'Grafita xisto, Metachert, Muscovita quartzito, Quartzito ferruginoso, Xisto, Xisto aluminoso',\n",
       " 'Clorita xisto, Cloritito, Formação ferrífera bandada, Grafita xisto, Muscovita-biotita xisto, Piroxenito, Serpentinito, Talco xisto, Xisto magnesiano',\n",
       " 'Biotita xisto, Biotita-muscovita-quartzo xisto, Grafita xisto, Granada-biotita-muscovita-quartzo xisto, Granada-clorita xisto, Mármore, Metaconglomerado suportado por clastos, Metapsamito, Metarcóseo, Quartzito ferruginoso',\n",
       " 'Filito, Grafita xisto, Quartzo-mica xisto',\n",
       " 'Ardósia, Filito, Grafita xisto, Metarenito, Metargilito, Metassiltito, Mica xisto, Sericita xisto, Xisto',\n",
       " 'Biotita gnaisse, Clorita xisto, Grafita xisto, Metaconglomerado, Metapelito, Metarritmito, Mica xisto, Paragnaisse, Turmalinito',\n",
       " 'Biotita gnaisse, Biotita xisto, Grafita xisto, Mármore, Muscovita-biotita xisto, Rocha calcissilicática, Talco xisto',\n",
       " 'Grafita xisto, Metadiamictito, Metapelito, Quartzito ferruginoso',\n",
       " 'Formação ferrífera bandada, Grafita xisto, Mármore, Metakomatiíto, Metamáfica, Quartzito ferruginoso, Rocha calcissilicática, Xisto',\n",
       " 'Formação ferrífera bandada, Grafita xisto, Kinzigito, Metamáfica, Paragnaisse, Rocha calcissilicática, Rocha metaultramáfica',\n",
       " 'Grafita xisto, Metabasito, Metachert',\n",
       " 'Formação ferrífera bandada, Grafita xisto, Mármore, Metabasalto, Metachert, Metagabro, Metakomatiíto, Mica xisto, Rocha calcissilicática',\n",
       " 'Formação ferrífera bandada, Grafita xisto, Metabasalto, Metachert',\n",
       " 'Grafita xisto, Metabasalto, Metachert, Metamáfica, Metatufo, Muscovita quartzito, Muscovita-biotita xisto, Rocha metaultramáfica, Sericita xisto, Turmalinito',\n",
       " 'Grafita xisto, Metadiamictito, Quartzo xisto, Rocha calcissilicática',\n",
       " 'Biotita xisto, Formação ferrífera bandada, Gnaisse, Grafita xisto, Mármore, Metagrauvaca, Metamáfica, Metamarga, Metavulcanoclástica, Mica xisto, Ortoanfibolito, Paragnaisse, Rocha calcissilicática, Rocha metaultramáfica',\n",
       " 'Anfibolito, Clorita xisto, Grafita xisto, Granada-biotita xisto, Paragnaisse, Quartzito micáceo, Talco xisto, Turmalinito',\n",
       " 'Grafita xisto, Xisto aluminoso, Xisto carbonático',\n",
       " 'Biotita gnaisse, Grafita xisto, Metachert, Metarriolito, Metatufo, Xisto, Xisto aluminoso, Xisto carbonático',\n",
       " 'Grafita xisto',\n",
       " 'Chert, Clorita xisto, Grafita xisto, Metaconglomerado, Metatufo, Xisto',\n",
       " 'Dolomito, Filito, Formação ferrífera bandada, Grafita xisto, Metachert, Quartzo xisto, Xisto',\n",
       " 'Formação ferrífera bandada, Grafita xisto, Metachert, Sericita xisto']"
      ]
     },
     "execution_count": 32,
     "metadata": {},
     "output_type": "execute_result"
    }
   ],
   "source": [
    "Grafita_xistos_1kk = filtro(litologia_1kk,'Graf')\n",
    "list(Grafita_xistos_1kk['LITOTIPOS'].unique())"
   ]
  },
  {
   "cell_type": "markdown",
   "metadata": {},
   "source": [
    "#### Desafio desnecessário para provar meus conhecimentos com for loops:"
   ]
  },
  {
   "cell_type": "code",
   "execution_count": 34,
   "metadata": {},
   "outputs": [
    {
     "ename": "NameError",
     "evalue": "name 'mapas_lito_gr_100k' is not defined",
     "output_type": "error",
     "traceback": [
      "\u001b[0;31m---------------------------------------------------------------------------\u001b[0m",
      "\u001b[0;31mNameError\u001b[0m                                 Traceback (most recent call last)",
      "\u001b[0;32m/tmp/ipykernel_200096/701726827.py\u001b[0m in \u001b[0;36m<module>\u001b[0;34m\u001b[0m\n\u001b[1;32m      2\u001b[0m \u001b[0;34m\u001b[0m\u001b[0m\n\u001b[1;32m      3\u001b[0m \u001b[0mindice\u001b[0m\u001b[0;34m=\u001b[0m\u001b[0;36m0\u001b[0m\u001b[0;34m\u001b[0m\u001b[0;34m\u001b[0m\u001b[0m\n\u001b[0;32m----> 4\u001b[0;31m \u001b[0;32mfor\u001b[0m \u001b[0mi\u001b[0m \u001b[0;32min\u001b[0m \u001b[0mmapas_lito_gr_100k\u001b[0m\u001b[0;34m:\u001b[0m\u001b[0;34m\u001b[0m\u001b[0;34m\u001b[0m\u001b[0m\n\u001b[0m\u001b[1;32m      5\u001b[0m     \u001b[0mprint\u001b[0m\u001b[0;34m(\u001b[0m\u001b[0mi\u001b[0m\u001b[0;34m)\u001b[0m\u001b[0;34m\u001b[0m\u001b[0;34m\u001b[0m\u001b[0m\n\u001b[1;32m      6\u001b[0m     \u001b[0mlist_gr_100k\u001b[0m\u001b[0;34m[\u001b[0m\u001b[0mindice\u001b[0m\u001b[0;34m]\u001b[0m \u001b[0;34m=\u001b[0m \u001b[0ml_100k\u001b[0m\u001b[0;34m[\u001b[0m\u001b[0ml_100k\u001b[0m\u001b[0;34m[\u001b[0m\u001b[0;34m'MAPA'\u001b[0m\u001b[0;34m]\u001b[0m\u001b[0;34m.\u001b[0m\u001b[0mstr\u001b[0m\u001b[0;34m.\u001b[0m\u001b[0mcontains\u001b[0m\u001b[0;34m(\u001b[0m\u001b[0;34m\"i\"\u001b[0m\u001b[0;34m)\u001b[0m\u001b[0;34m]\u001b[0m\u001b[0;34m\u001b[0m\u001b[0;34m\u001b[0m\u001b[0m\n",
      "\u001b[0;31mNameError\u001b[0m: name 'mapas_lito_gr_100k' is not defined"
     ]
    }
   ],
   "source": [
    "#list_gr_100k = mapas_lito_gr_100k\n",
    "\n",
    "indice=0\n",
    "for i in mapas_lito_gr_100k:\n",
    "    print(i)\n",
    "    list_gr_100k[indice] = l_100k[l_100k['MAPA'].str.contains(\"i\")]\n",
    "    indice+=1\n"
   ]
  },
  {
   "cell_type": "code",
   "execution_count": null,
   "metadata": {},
   "outputs": [],
   "source": [
    "len(list_gr_100k)"
   ]
  },
  {
   "cell_type": "code",
   "execution_count": null,
   "metadata": {},
   "outputs": [],
   "source": [
    "lista_mapa = list(litologia_1kk.MAPA.unique())\n",
    "print(len(lista_mapa))\n",
    "lista_nome=[]\n",
    "\n",
    "for mapa in lista_mapa:\n",
    "    trash=0\n",
    "    Mapa=[]\n",
    "    for letra in mapa:\n",
    "        if trash<25:\n",
    "            trash+=1\n",
    "        else:\n",
    "            Mapa+=letra\n",
    "    lista_nome += [''.join(Mapa)]"
   ]
  },
  {
   "cell_type": "code",
   "execution_count": null,
   "metadata": {},
   "outputs": [],
   "source": [
    "lista_nome"
   ]
  },
  {
   "cell_type": "code",
   "execution_count": null,
   "metadata": {},
   "outputs": [],
   "source": [
    "folha=lista_nome\n",
    "indice=0\n",
    "for i in lista_nome:\n",
    "    print(i)\n",
    "    folha[indice] = litologia_1kk[litologia_1kk['MAPA'].str.contains(i)].dissolve('MAPA')\n",
    "    indice+=1"
   ]
  },
  {
   "cell_type": "code",
   "execution_count": null,
   "metadata": {},
   "outputs": [],
   "source": [
    "folha[31].plot()"
   ]
  },
  {
   "cell_type": "code",
   "execution_count": null,
   "metadata": {},
   "outputs": [],
   "source": [
    "lista_mapa = list(litologia_100k.MAPA.unique())\n",
    "lista_mapa"
   ]
  },
  {
   "cell_type": "code",
   "execution_count": null,
   "metadata": {},
   "outputs": [],
   "source": [
    "lista_nome=[]\n",
    "for mapa in lista_mapa:\n",
    "    trash=0\n",
    "    Mapa=[]\n",
    "    for letra in mapa:\n",
    "        if trash<25:\n",
    "            trash+=1\n",
    "        else:\n",
    "            Mapa+=letra\n",
    "    lista_nome += [''.join(Mapa)]"
   ]
  },
  {
   "cell_type": "code",
   "execution_count": null,
   "metadata": {},
   "outputs": [],
   "source": [
    "len(lista_nome)"
   ]
  },
  {
   "cell_type": "code",
   "execution_count": null,
   "metadata": {},
   "outputs": [],
   "source": [
    "folha=lista_nome\n",
    "indice=0\n",
    "for i in lista_nome:\n",
    "    print(i)\n",
    "    folha[indice] = l_100k[l_100k['MAPA'].str.contains(i)].dissolve('MAPA')\n",
    "    indice+=1"
   ]
  },
  {
   "cell_type": "code",
   "execution_count": null,
   "metadata": {},
   "outputs": [],
   "source": [
    "len(folha)"
   ]
  }
 ],
 "metadata": {
  "interpreter": {
   "hash": "d412e3d091f5968552f8aa760bc8da416522b5884f97efbbec2149c97127b032"
  },
  "kernelspec": {
   "display_name": "Python [conda env:geologist_bot]",
   "language": "python",
   "name": "conda-env-geologist_bot-py"
  },
  "language_info": {
   "codemirror_mode": {
    "name": "ipython",
    "version": 3
   },
   "file_extension": ".py",
   "mimetype": "text/x-python",
   "name": "python",
   "nbconvert_exporter": "python",
   "pygments_lexer": "ipython3",
   "version": "3.8.11"
  }
 },
 "nbformat": 4,
 "nbformat_minor": 4
}
