{
 "cells": [
  {
   "cell_type": "code",
   "execution_count": 1,
   "metadata": {},
   "outputs": [],
   "source": [
    "from src import *\n",
    "from verde_source import regular, interp_at\n",
    "\n",
    "from tqdm import tqdm\n",
    "from shapely.ops import transform\n",
    "from pylab import *\n",
    "from shapely.geometry import Point, Polygon\n",
    "\n",
    "import verde as vd\n",
    "import matplotlib.pyplot as plt\n",
    "import pandas as pd\n",
    "import numpy as np \n",
    "import geopandas as gpd\n",
    "import pyproj\n",
    "import os"
   ]
  },
  {
   "cell_type": "code",
   "execution_count": 2,
   "metadata": {},
   "outputs": [],
   "source": [
    "import warnings\n",
    "warnings.filterwarnings(\"ignore\")\n",
    "%load_ext autoreload\n",
    "%autoreload 2\n",
    "\n",
    "%matplotlib inline"
   ]
  },
  {
   "cell_type": "code",
   "execution_count": 3,
   "metadata": {},
   "outputs": [
    {
     "data": {
      "text/plain": [
       "['mag_line_1105',\n",
       " 'mag_1039',\n",
       " 'gama_line_1105',\n",
       " 'mag_line_1089',\n",
       " 'gama_1039',\n",
       " 'mag_3022',\n",
       " 'mag_1105',\n",
       " 'mag_tie_1105',\n",
       " 'gama_1039_mdt.csv',\n",
       " 'gama_line_1089',\n",
       " 'gama_3022',\n",
       " 'gama_line_1092',\n",
       " 'geof_1039']"
      ]
     },
     "execution_count": 3,
     "metadata": {},
     "output_type": "execute_result"
    }
   ],
   "source": [
    "list_geof = os.listdir('/home/ggrl/database/geof/')\n",
    "list_geof"
   ]
  },
  {
   "cell_type": "markdown",
   "metadata": {},
   "source": [
    "# Construindo Quadrícula"
   ]
  },
  {
   "cell_type": "code",
   "execution_count": 4,
   "metadata": {
    "scrolled": true,
    "tags": []
   },
   "outputs": [
    {
     "name": "stderr",
     "output_type": "stream",
     "text": [
      "100%|████████████████████████████████████| 4/4 [00:00<00:00, 73.83it/s]\n",
      "384it [00:00, 17012.38it/s]"
     ]
    },
    {
     "name": "stdout",
     "output_type": "stream",
     "text": [
      "\n",
      " - Folha \"SF23_YA_I1_NW\" adicionada.\n",
      "\n",
      " - Folha \"SF23_YA_IV3_SE\" adicionada.\n",
      "\n",
      " - Folha \"SF23_YA_IV1_SE\" adicionada.\n",
      "\n",
      " - Folha \"SF23_YA_IV3_NE\" adicionada.\n",
      "\n",
      " - Folha \"SF23_YA_I4_SW\" adicionada.\n",
      "\n",
      " - Folha \"SF23_YA_I1_NE\" adicionada.\n",
      "\n",
      " - Folha \"SF23_YA_I2_SW\" adicionada.\n",
      "\n",
      " - Folha \"SF23_YA_I2_NW\" adicionada.\n",
      "\n",
      " - Folha \"SF23_YA_I2_NE\" adicionada.\n",
      "\n",
      " - Folha \"SF23_YA_IV4_SE\" adicionada.\n",
      "\n",
      " - Folha \"SF23_YA_IV4_SW\" adicionada.\n",
      "\n",
      " - Folha \"SF23_YA_I2_SE\" adicionada.\n",
      "\n",
      " - Folha \"SF23_YA_IV4_NE\" adicionada.\n",
      "\n",
      " - Folha \"SF23_YA_I4_NE\" adicionada.\n",
      "\n",
      " - Folha \"SF23_YA_II1_SE\" adicionada.\n",
      "\n",
      " - Folha \"SF23_YA_II1_NE\" adicionada.\n",
      "\n",
      " - Folha \"SF23_YA_V3_SE\" adicionada.\n",
      "\n",
      " - Folha \"SF23_YA_V3_SW\" adicionada.\n",
      "\n",
      " - Folha \"SF23_YA_II4_SW\" adicionada.\n",
      "\n",
      " - Folha \"SF23_YA_II3_SE\" adicionada.\n",
      "\n",
      " - Folha \"SF23_YA_V4_SE\" adicionada.\n",
      "\n",
      " - Folha \"SF23_YA_V4_NE\" adicionada.\n",
      "\n",
      " - Folha \"SF23_YA_III1_NW\" adicionada.\n",
      "\n",
      " - Folha \"SF23_YA_VI3_SW\" adicionada.\n",
      "\n",
      " - Folha \"SF23_YA_VI3_SE\" adicionada.\n",
      "\n",
      " - Folha \"SF23_YA_VI1_NE\" adicionada.\n",
      "\n",
      " - Folha \"SF23_YA_III1_NE\" adicionada.\n",
      "\n",
      " - Folha \"SF23_YA_VI1_SW\" adicionada.\n",
      "\n",
      " - Folha \"SF23_YA_VI1_NW\" adicionada.\n",
      "\n",
      " - Folha \"SF23_YA_III3_SW\" adicionada.\n",
      "\n",
      " - Folha \"SF23_YA_VI1_SE\" adicionada.\n",
      "\n",
      " - Folha \"SF23_YA_III3_SE\" adicionada.\n",
      "\n",
      " - Folha \"SF23_YA_III3_NE\" adicionada.\n",
      "\n",
      " - Folha \"SF23_YA_VI3_NW\" adicionada.\n",
      "\n",
      " - Folha \"SF23_YA_VI3_NE\" adicionada.\n",
      "\n",
      " - Folha \"SF23_YA_VI4_NW\" adicionada.\n",
      "\n",
      " - Folha \"SF23_YA_VI2_SW\" adicionada.\n",
      "\n",
      " - Folha \"SF23_YA_VI2_NW\" adicionada.\n",
      "\n",
      " - Folha \"SF23_YA_III4_SE\" adicionada.\n",
      "\n",
      " - Folha \"SF23_YA_VI2_NE\" adicionada.\n",
      "\n",
      " - Folha \"SF23_YA_VI4_SE\" adicionada.\n",
      "\n",
      " - Folha \"SF23_YA_VI4_SW\" adicionada.\n",
      "\n",
      " - Folha \"SF23_YA_III4_SW\" adicionada.\n",
      "\n",
      " - Folha \"SF23_YA_III2_SE\" adicionada.\n",
      "\n",
      " - Folha \"SF23_YA_III4_NW\" adicionada.\n",
      "\n",
      " - Folha \"SF23_YA_III2_SW\" adicionada.\n",
      "\n",
      " - Folha \"SF23_YA_III4_NE\" adicionada.\n",
      "\n",
      " - Folha \"SF23_YA_I3_SW\" adicionada.\n",
      "\n",
      " - Folha \"SF23_YA_I3_NW\" adicionada.\n",
      "\n",
      " - Folha \"SF23_YA_I1_SW\" adicionada.\n",
      "\n",
      " - Folha \"SF23_YA_I1_SE\" adicionada.\n",
      "\n",
      " - Folha \"SF23_YA_IV1_NW\" adicionada.\n",
      "\n",
      " - Folha \"SF23_YA_I3_SE\" adicionada.\n",
      "\n",
      " - Folha \"SF23_YA_I3_NE\" adicionada.\n",
      "\n",
      " - Folha \"SF23_YA_IV1_NE\" adicionada.\n",
      "\n",
      " - Folha \"SF23_YA_IV2_NW\" adicionada.\n",
      "\n",
      " - Folha \"SF23_YA_IV3_SW\" adicionada.\n",
      "\n",
      " - Folha \"SF23_YA_IV3_NW\" adicionada.\n",
      "\n",
      " - Folha \"SF23_YA_IV4_NW\" adicionada.\n",
      "\n",
      " - Folha \"SF23_YA_IV2_SW\" adicionada.\n",
      "\n",
      " - Folha \"SF23_YA_IV2_SE\" adicionada.\n",
      "\n",
      " - Folha \"SF23_YA_IV2_NE\" adicionada.\n",
      "\n",
      " - Folha \"SF23_YA_II1_SW\" adicionada.\n",
      "\n",
      " - Folha \"SF23_YA_II3_NW\" adicionada.\n",
      "\n",
      " - Folha \"SF23_YA_II1_NW\" adicionada.\n",
      "\n",
      " - Folha \"SF23_YA_V1_SW\" adicionada.\n",
      "\n",
      " - Folha \"SF23_YA_V2_SW\" adicionada.\n",
      "\n",
      " - Folha \"SF23_YA_V1_SE\" adicionada.\n",
      "\n",
      " - Folha \"SF23_YA_V3_NE\" adicionada.\n",
      "\n",
      " - Folha \"SF23_YA_II2_SE\" adicionada.\n",
      "\n",
      " - Folha \"SF23_YA_II2_SW\" adicionada.\n",
      "\n",
      " - Folha \"SF23_YA_II2_NW\" adicionada.\n",
      "\n",
      " - Folha \"SF23_YA_III3_NW\" adicionada.\n",
      "\n",
      " - Folha \"SF23_YA_IV1_SW\" adicionada.\n",
      "\n",
      " - Folha \"SF23_YA_I4_NW\" adicionada.\n",
      "\n",
      " - Folha \"SF23_YA_I4_SE\" adicionada.\n",
      "\n",
      " - Folha \"SF23_YA_II3_SW\" adicionada.\n",
      "\n",
      " - Folha \"SF23_YA_V3_NW\" adicionada.\n",
      "\n",
      " - Folha \"SF23_YA_V1_NW\" adicionada.\n",
      "\n",
      " - Folha \"SF23_YA_V2_NW\" adicionada.\n",
      "\n",
      " - Folha \"SF23_YA_V1_NE\" adicionada.\n",
      "\n",
      " - Folha \"SF23_YA_II2_NE\" adicionada.\n",
      "\n",
      " - Folha \"SF23_YA_II4_NE\" adicionada.\n",
      "\n",
      " - Folha \"SF23_YA_II4_NW\" adicionada.\n",
      "\n",
      " - Folha \"SF23_YA_VI2_SE\" adicionada.\n",
      "\n",
      " - Folha \"SF23_YA_II3_NE\" adicionada.\n",
      "\n",
      " - Folha \"SF23_YA_V4_NW\" adicionada.\n",
      "\n",
      " - Folha \"SF23_YA_V2_SE\" adicionada.\n",
      "\n",
      " - Folha \"SF23_YA_V4_SW\" adicionada.\n",
      "\n",
      " - Folha \"SF23_YA_V2_NE\" adicionada.\n",
      "\n",
      " - Folha \"SF23_YA_III1_SW\" adicionada.\n",
      "\n",
      " - Folha \"SF23_YA_III1_SE\" adicionada.\n",
      "\n",
      " - Folha \"SF23_YA_III2_NE\" adicionada.\n",
      "\n",
      " - Folha \"SF23_YA_III2_NW\" adicionada.\n",
      "\n",
      " - Folha \"SF23_YA_VI4_NE\" adicionada.\n",
      "\n",
      " - Folha \"SF23_YA_II4_SE\" adicionada.\n",
      "\n",
      " - Folha \"SF23_YB_I3_NW\" adicionada.\n",
      "\n",
      " - Folha \"SF23_YB_I1_SW\" adicionada.\n",
      "\n",
      " - Folha \"SF23_YB_I3_NE\" adicionada.\n",
      "\n",
      " - Folha \"SF23_YB_IV3_SE\" adicionada.\n",
      "\n",
      " - Folha \"SF23_YB_I4_NW\" adicionada.\n",
      "\n",
      " - Folha \"SF23_YB_I4_SW\" adicionada.\n",
      "\n",
      " - Folha \"SF23_YB_I3_SE\" adicionada.\n",
      "\n",
      " - Folha \"SF23_YB_IV4_SW\" adicionada.\n",
      "\n",
      " - Folha \"SF23_YB_IV4_NE\" adicionada.\n",
      "\n",
      " - Folha \"SF23_YB_IV4_SE\" adicionada.\n",
      "\n",
      " - Folha \"SF23_YB_I4_NE\" adicionada.\n",
      "\n",
      " - Folha \"SF23_YB_II3_NW\" adicionada.\n",
      "\n",
      " - Folha \"SF23_YB_II4_SW\" adicionada.\n",
      "\n",
      " - Folha \"SF23_YB_II3_SE\" adicionada.\n",
      "\n",
      " - Folha \"SF23_YB_II3_SW\" adicionada.\n",
      "\n",
      " - Folha \"SF23_YB_V1_NW\" adicionada.\n",
      "\n",
      " - Folha \"SF23_YB_IV2_NE\" adicionada.\n",
      "\n",
      " - Folha \"SF23_YB_III4_SE\" adicionada.\n",
      "\n",
      " - Folha \"SF23_YB_III2_SE\" adicionada.\n",
      "\n",
      " - Folha \"SF23_YB_III4_NE\" adicionada.\n",
      "\n",
      " - Folha \"SF23_YB_III4_SW\" adicionada.\n",
      "\n",
      " - Folha \"SF23_YB_III2_SW\" adicionada.\n",
      "\n",
      " - Folha \"SF23_YB_III4_NW\" adicionada.\n",
      "\n",
      " - Folha \"SF23_YB_III1_SE\" adicionada.\n",
      "\n",
      " - Folha \"SF23_YB_III3_NE\" adicionada.\n",
      "\n",
      " - Folha \"SF23_YB_VI1_NE\" adicionada.\n",
      "\n",
      " - Folha \"SF23_YB_III3_SE\" adicionada.\n",
      "\n",
      " - Folha \"SF23_YB_III3_SW\" adicionada.\n",
      "\n",
      " - Folha \"SF23_YB_III3_NW\" adicionada.\n",
      "\n",
      " - Folha \"SF23_YB_VI1_NW\" adicionada.\n",
      "\n",
      " - Folha \"SF23_YB_VI1_SW\" adicionada.\n",
      "\n",
      " - Folha \"SF23_YB_II4_SE\" adicionada.\n",
      "\n",
      " - Folha \"SF23_YB_II4_NE\" adicionada.\n",
      "\n",
      " - Folha \"SF23_YB_V2_NE\" adicionada.\n",
      "\n",
      " - Folha \"SF23_YB_V4_NE\" adicionada.\n",
      "\n",
      " - Folha \"SF23_YB_V2_SE\" adicionada.\n",
      "\n",
      " - Folha \"SF23_YB_II4_NW\" adicionada.\n",
      "\n",
      " - Folha \"SF23_YB_V2_NW\" adicionada.\n",
      "\n",
      " - Folha \"SF23_YB_V4_NW\" adicionada.\n",
      "\n",
      " - Folha \"SF23_YB_V2_SW\" adicionada.\n",
      "\n",
      " - Folha \"SF23_YB_II3_NE\" adicionada.\n",
      "\n",
      " - Folha \"SF23_YB_V3_NE\" adicionada.\n",
      "\n",
      " - Folha \"SF23_YB_V1_SE\" adicionada.\n",
      "\n",
      " - Folha \"SF23_YB_V1_NE\" adicionada.\n",
      "\n",
      " - Folha \"SF23_YB_V3_NW\" adicionada.\n",
      "\n",
      " - Folha \"SF23_YB_V1_SW\" adicionada.\n",
      "\n",
      " - Folha \"SF23_YB_IV4_NW\" adicionada.\n",
      "\n",
      " - Folha \"SF23_YB_IV2_SW\" adicionada.\n",
      "\n",
      " - Folha \"SF23_YB_IV2_NW\" adicionada.\n",
      "\n",
      " - Folha \"SF23_YB_IV2_SE\" adicionada.\n",
      "\n",
      " - Folha \"SF23_YB_I4_SE\" adicionada.\n",
      "\n",
      " - Folha \"SF23_YB_IV3_NE\" adicionada.\n",
      "\n",
      " - Folha \"SF23_YB_IV1_SE\" adicionada.\n",
      "\n",
      " - Folha \"SF23_YB_IV1_NE\" adicionada.\n",
      "\n",
      " - Folha \"SF23_YB_I3_SW\" adicionada.\n",
      "\n",
      " - Folha \"SF23_YB_IV3_SW\" adicionada.\n",
      "\n",
      " - Folha \"SF23_YB_IV3_NW\" adicionada.\n",
      "\n",
      " - Folha \"SF23_YB_IV1_NW\" adicionada.\n",
      "\n",
      " - Folha \"SF23_YB_II2_NW\" adicionada.\n",
      "\n",
      " - Folha \"SF23_YB_II1_NE\" adicionada.\n",
      "\n",
      " - Folha \"SF23_YB_II1_NW\" adicionada.\n",
      "\n",
      " - Folha \"SF23_YB_VI3_SW\" adicionada.\n",
      "\n",
      " - Folha \"SF23_YB_VI1_SE\" adicionada.\n",
      "\n",
      " - Folha \"SF23_YB_VI3_NW\" adicionada.\n",
      "\n",
      " - Folha \"SF23_YB_III1_SW\" adicionada.\n",
      "\n",
      " - Folha \"SF23_YB_VI3_SE\" adicionada.\n",
      "\n",
      " - Folha \"SF23_YB_V4_SE\" adicionada.\n",
      "\n",
      " - Folha \"SF23_YB_III1_NE\" adicionada.\n",
      "\n",
      " - Folha \"SF23_YB_VI4_NE\" adicionada.\n",
      "\n",
      " - Folha \"SF23_YB_VI2_SE\" adicionada.\n",
      "\n",
      " - Folha \"SF23_YB_III2_NE\" adicionada.\n",
      "\n",
      " - Folha \"SF23_YB_III2_NW\" adicionada.\n",
      "\n",
      " - Folha \"SF23_YB_I2_NW\" adicionada.\n",
      "\n",
      " - Folha \"SF23_YB_I2_SW\" adicionada.\n",
      "\n",
      " - Folha \"SF23_YB_I2_SE\" adicionada.\n",
      "\n",
      " - Folha \"SF23_YB_I2_NE\" adicionada.\n",
      "\n",
      " - Folha \"SF23_YB_V3_SW\" adicionada.\n",
      "\n",
      " - Folha \"SF23_YB_II1_SW\" adicionada.\n",
      "\n",
      " - Folha \"SF23_YB_II1_SE\" adicionada.\n",
      "\n",
      " - Folha \"SF23_YB_V3_SE\" adicionada.\n",
      "\n",
      " - Folha \"SF23_YB_V4_SW\" adicionada.\n",
      "\n",
      " - Folha \"SF23_YB_VI3_NE\" adicionada.\n",
      "\n",
      " - Folha \"SF23_YB_III1_NW\" adicionada.\n",
      "\n",
      " - Folha \"SF23_YB_II2_SE\" adicionada.\n",
      "\n",
      " - Folha \"SF23_YB_II2_NE\" adicionada.\n",
      "\n",
      " - Folha \"SF23_YB_II2_SW\" adicionada.\n",
      "\n",
      " - Folha \"SF23_YB_VI2_SW\" adicionada.\n",
      "\n",
      " - Folha \"SF23_YB_VI2_NE\" adicionada.\n",
      "\n",
      " - Folha \"SF23_YB_VI2_NW\" adicionada.\n",
      "\n",
      " - Folha \"SF23_YB_VI4_SW\" adicionada.\n",
      "\n",
      " - Folha \"SF23_YB_VI4_NW\" adicionada.\n",
      "\n",
      " - Folha \"SF23_YB_VI4_SE\" adicionada.\n",
      "\n",
      " - Folha \"SF23_YB_I1_SE\" adicionada.\n",
      "\n",
      " - Folha \"SF23_YB_I1_NE\" adicionada.\n",
      "\n",
      " - Folha \"SF23_YB_I1_NW\" adicionada.\n",
      "\n",
      " - Folha \"SF23_YB_IV1_SW\" adicionada.\n",
      "\n",
      " - Folha \"SF23_VC_IV3_SW\" adicionada.\n",
      "\n",
      " - Folha \"SF23_VC_IV1_NW\" adicionada.\n",
      "\n",
      " - Folha \"SF23_VC_IV4_SW\" adicionada.\n",
      "\n",
      " - Folha \"SF23_VC_IV1_SW\" adicionada.\n",
      "\n",
      " - Folha \"SF23_VC_IV3_NW\" adicionada.\n",
      "\n",
      " - Folha \"SF23_VC_I1_NW\" adicionada.\n",
      "\n",
      " - Folha \"SF23_VC_I1_SE\" adicionada.\n",
      "\n",
      " - Folha \"SF23_VC_I1_NE\" adicionada.\n",
      "\n",
      " - Folha \"SF23_VC_IV1_NE\" adicionada.\n",
      "\n",
      " - Folha \"SF23_VC_IV1_SE\" adicionada.\n",
      "\n",
      " - Folha \"SF23_VC_IV2_SW\" adicionada.\n",
      "\n",
      " - Folha \"SF23_VC_IV2_NW\" adicionada.\n",
      "\n",
      " - Folha \"SF23_VC_IV3_SE\" adicionada.\n",
      "\n",
      " - Folha \"SF23_VC_IV3_NE\" adicionada.\n",
      "\n",
      " - Folha \"SF23_VC_IV4_NW\" adicionada.\n",
      "\n",
      " - Folha \"SF23_VC_I3_NE\" adicionada.\n",
      "\n",
      " - Folha \"SF23_VC_I4_NW\" adicionada.\n",
      "\n",
      " - Folha \"SF23_VC_I2_SW\" adicionada.\n",
      "\n",
      " - Folha \"SF23_VC_I2_NW\" adicionada.\n",
      "\n",
      " - Folha \"SF23_VC_I2_NE\" adicionada.\n",
      "\n",
      " - Folha \"SF23_VC_IV2_SE\" adicionada.\n",
      "\n",
      " - Folha \"SF23_VC_I4_SE\" adicionada.\n",
      "\n",
      " - Folha \"SF23_VC_I2_SE\" adicionada.\n",
      "\n",
      " - Folha \"SF23_VC_II1_SW\" adicionada.\n",
      "\n",
      " - Folha \"SF23_VC_II1_NW\" adicionada.\n",
      "\n",
      " - Folha \"SF23_VC_V1_SW\" adicionada.\n",
      "\n",
      " - Folha \"SF23_VC_V3_NW\" adicionada.\n",
      "\n",
      " - Folha \"SF23_VC_V1_NW\" adicionada.\n",
      "\n",
      " - Folha \"SF23_VC_V1_SE\" adicionada.\n",
      "\n",
      " - Folha \"SF23_VC_II3_SE\" adicionada.\n",
      "\n",
      " - Folha \"SF23_VC_II3_NE\" adicionada.\n",
      "\n",
      " - Folha \"SF23_VC_II2_SW\" adicionada.\n",
      "\n",
      " - Folha \"SF23_VC_V2_SW\" adicionada.\n",
      "\n",
      " - Folha \"SF23_VC_II4_SE\" adicionada.\n",
      "\n",
      " - Folha \"SF23_VC_II4_SW\" adicionada.\n",
      "\n",
      " - Folha \"SF23_VC_II4_NE\" adicionada.\n",
      "\n",
      " - Folha \"SF23_VC_II4_NW\" adicionada.\n",
      "\n",
      " - Folha \"SF23_VC_VI1_NW\" adicionada.\n",
      "\n",
      " - Folha \"SF23_VC_VI3_SW\" adicionada.\n",
      "\n",
      " - Folha \"SF23_VC_VI3_NW\" adicionada.\n",
      "\n",
      " - Folha \"SF23_VC_III3_SE\" adicionada.\n",
      "\n",
      " - Folha \"SF23_VC_III3_NE\" adicionada.\n",
      "\n",
      " - Folha \"SF23_VC_VI2_NE\" adicionada.\n",
      "\n",
      " - Folha \"SF23_VC_VI2_NW\" adicionada.\n",
      "\n",
      " - Folha \"SF23_VC_VI2_SE\" adicionada.\n",
      "\n",
      " - Folha \"SF23_VC_VI2_SW\" adicionada.\n",
      "\n",
      " - Folha \"SF23_VC_VI1_SE\" adicionada.\n",
      "\n",
      " - Folha \"SF23_VC_VI1_NE\" adicionada.\n",
      "\n",
      " - Folha \"SF23_VC_III2_SE\" adicionada.\n",
      "\n",
      " - Folha \"SF23_VC_III2_SW\" adicionada.\n",
      "\n",
      " - Folha \"SF23_VC_III2_NW\" adicionada.\n",
      "\n",
      " - Folha \"SF23_VC_III1_SE\" adicionada.\n",
      "\n",
      " - Folha \"SF23_VC_III1_NE\" adicionada.\n",
      "\n",
      " - Folha \"SF23_VC_III4_SE\" adicionada.\n",
      "\n",
      " - Folha \"SF23_VC_III2_NE\" adicionada.\n",
      "\n",
      " - Folha \"SF23_VC_III1_NW\" adicionada.\n",
      "\n",
      " - Folha \"SF23_VC_III4_NE\" adicionada.\n",
      "\n",
      " - Folha \"SF23_VC_III4_NW\" adicionada.\n",
      "\n",
      " - Folha \"SF23_VC_IV4_SE\" adicionada.\n",
      "\n",
      " - Folha \"SF23_VC_V3_SW\" adicionada.\n",
      "\n",
      " - Folha \"SF23_VC_I3_NW\" adicionada.\n",
      "\n",
      " - Folha \"SF23_VC_I1_SW\" adicionada.\n",
      "\n",
      " - Folha \"SF23_VC_IV4_NE\" adicionada.\n",
      "\n",
      " - Folha \"SF23_VC_II3_NW\" adicionada.\n",
      "\n",
      " - Folha \"SF23_VC_I4_NE\" adicionada.\n",
      "\n",
      " - Folha \"SF23_VC_V3_NE\" adicionada.\n",
      "\n",
      " - Folha \"SF23_VC_II1_SE\" adicionada.\n",
      "\n",
      " - Folha \"SF23_VC_II2_NW\" adicionada.\n",
      "\n",
      " - Folha \"SF23_VC_V4_SW\" adicionada.\n",
      "\n",
      " - Folha \"SF23_VC_V2_NE\" adicionada.\n",
      "\n",
      " - Folha \"SF23_VC_V2_NW\" adicionada.\n",
      "\n",
      " - Folha \"SF23_VC_II1_NE\" adicionada.\n",
      "\n",
      " - Folha \"SF23_VC_VI1_SW\" adicionada.\n",
      "\n",
      " - Folha \"SF23_VC_V4_NE\" adicionada.\n",
      "\n",
      " - Folha \"SF23_VC_III3_SW\" adicionada.\n",
      "\n",
      " - Folha \"SF23_VC_V4_SE\" adicionada.\n",
      "\n",
      " - Folha \"SF23_VC_V3_SE\" adicionada.\n",
      "\n",
      " - Folha \"SF23_VC_I3_SW\" adicionada.\n",
      "\n",
      " - Folha \"SF23_VC_I3_SE\" adicionada.\n",
      "\n",
      " - Folha \"SF23_VC_I4_SW\" adicionada.\n",
      "\n",
      " - Folha \"SF23_VC_VI3_SE\" adicionada.\n",
      "\n",
      " - Folha \"SF23_VC_VI4_NE\" adicionada.\n",
      "\n",
      " - Folha \"SF23_VC_VI4_NW\" adicionada.\n",
      "\n",
      " - Folha \"SF23_VC_V2_SE\" adicionada.\n",
      "\n",
      " - Folha \"SF23_VC_VI3_NE\" adicionada.\n",
      "\n",
      " - Folha \"SF23_VC_III4_SW\" adicionada.\n",
      "\n",
      " - Folha \"SF23_VC_III3_NW\" adicionada.\n",
      "\n",
      " - Folha \"SF23_VC_V4_NW\" adicionada.\n",
      "\n",
      " - Folha \"SF23_VC_II3_SW\" adicionada.\n",
      "\n",
      " - Folha \"SF23_VC_V1_NE\" adicionada.\n",
      "\n",
      " - Folha \"SF23_VC_II2_NE\" adicionada.\n",
      "\n",
      " - Folha \"SF23_VC_III1_SW\" adicionada.\n",
      "\n",
      " - Folha \"SF23_VC_IV2_NE\" adicionada.\n",
      "\n",
      " - Folha \"SF23_VC_II2_SE\" adicionada.\n",
      "\n",
      " - Folha \"SF23_VC_VI4_SW\" adicionada.\n",
      "\n",
      " - Folha \"SF23_VC_VI4_SE\" adicionada.\n",
      "\n",
      " - Folha \"SF23_VD_IV1_NW\" adicionada.\n",
      "\n",
      " - Folha \"SF23_VD_I1_NW\" adicionada.\n",
      "\n",
      " - Folha \"SF23_VD_I4_NW\" adicionada.\n",
      "\n",
      " - Folha \"SF23_VD_I4_SW\" adicionada.\n",
      "\n",
      " - Folha \"SF23_VD_I4_SE\" adicionada.\n",
      "\n",
      " - Folha \"SF23_VD_I4_NE\" adicionada.\n",
      "\n",
      " - Folha \"SF23_VD_I1_SE\" adicionada.\n",
      "\n",
      " - Folha \"SF23_VD_I3_NE\" adicionada.\n",
      "\n",
      " - Folha \"SF23_VD_I3_SE\" adicionada.\n",
      "\n",
      " - Folha \"SF23_VD_I3_NW\" adicionada.\n",
      "\n",
      " - Folha \"SF23_VD_I1_SW\" adicionada.\n",
      "\n",
      " - Folha \"SF23_VD_II1_SW\" adicionada.\n",
      "\n",
      " - Folha \"SF23_VD_I2_SW\" adicionada.\n",
      "\n",
      " - Folha \"SF23_VD_I2_NW\" adicionada.\n",
      "\n",
      " - Folha \"SF23_VD_I2_SE\" adicionada.\n",
      "\n",
      " - Folha \"SF23_VD_I1_NE\" adicionada.\n",
      "\n",
      " - Folha \"SF23_VD_II1_NW\" adicionada.\n",
      "\n",
      " - Folha \"SF23_VD_I2_NE\" adicionada.\n",
      "\n",
      " - Folha \"SF23_VD_V4_SW\" adicionada.\n",
      "\n",
      " - Folha \"SF23_VD_V3_SE\" adicionada.\n",
      "\n",
      " - Folha \"SF23_VD_V3_SW\" adicionada.\n",
      "\n",
      " - Folha \"SF23_VD_V4_NW\" adicionada.\n",
      "\n",
      " - Folha \"SF23_VD_V3_NE\" adicionada.\n",
      "\n",
      " - Folha \"SF23_VD_VI4_SE\" adicionada.\n",
      "\n",
      " - Folha \"SF23_VD_VI4_SW\" adicionada.\n",
      "\n",
      " - Folha \"SF23_VD_VI3_SE\" adicionada.\n",
      "\n",
      " - Folha \"SF23_VD_VI4_NE\" adicionada.\n",
      "\n",
      " - Folha \"SF23_VD_II1_NE\" adicionada.\n",
      "\n",
      " - Folha \"SF23_VD_II4_SW\" adicionada.\n",
      "\n",
      " - Folha \"SF23_VD_II2_NE\" adicionada.\n",
      "\n",
      " - Folha \"SF23_VD_II2_NW\" adicionada.\n",
      "\n",
      " - Folha \"SF23_VD_VI3_SW\" adicionada.\n",
      "\n",
      " - Folha \"SF23_VD_V4_SE\" adicionada.\n",
      "\n",
      " - Folha \"SF23_VD_VI3_NE\" adicionada.\n",
      "\n",
      " - Folha \"SF23_VD_VI3_NW\" adicionada.\n",
      "\n",
      " - Folha \"SF23_VD_III4_NW\" adicionada.\n",
      "\n",
      " - Folha \"SF23_VD_III3_NE\" adicionada.\n",
      "\n",
      " - Folha \"SF23_VD_III2_SW\" adicionada.\n",
      "\n",
      " - Folha \"SF23_VD_III1_SE\" adicionada.\n",
      "\n",
      " - Folha \"SF23_VD_III3_NW\" adicionada.\n",
      "\n",
      " - Folha \"SF23_VD_III1_SW\" adicionada.\n",
      "\n",
      " - Folha \"SF23_VD_II4_NE\" adicionada.\n",
      "\n",
      " - Folha \"SF23_VD_II2_SE\" adicionada.\n",
      "\n",
      " - Folha \"SF23_VD_II4_NW\" adicionada.\n",
      "\n",
      " - Folha \"SF23_VD_II2_SW\" adicionada.\n",
      "\n",
      " - Folha \"SF23_VD_II1_SE\" adicionada.\n",
      "\n",
      " - Folha \"SF23_VD_II3_NE\" adicionada.\n",
      "\n",
      " - Folha \"SF23_VD_II3_NW\" adicionada.\n",
      "\n",
      " - Folha \"SF23_VD_VI2_SW\" adicionada.\n",
      "\n",
      " - Folha \"SF23_VD_VI2_NW\" adicionada.\n",
      "\n",
      " - Folha \"SF23_VD_VI2_SE\" adicionada.\n",
      "\n",
      " - Folha \"SF23_VD_VI2_NE\" adicionada.\n",
      "\n",
      " - Folha \"SF23_VD_III4_SE\" adicionada.\n",
      "\n",
      " - Folha \"SF23_VD_VI4_NW\" adicionada.\n",
      "\n",
      " - Folha \"SF23_VD_III4_SW\" adicionada.\n",
      "\n",
      " - Folha \"SF23_VD_III4_NE\" adicionada.\n",
      "\n",
      " - Folha \"SF23_VD_V1_SW\" adicionada.\n",
      "\n",
      " - Folha \"SF23_VD_V1_NW\" adicionada.\n",
      "\n",
      " - Folha \"SF23_VD_IV2_SE\" adicionada.\n",
      "\n",
      " - Folha \"SF23_VD_IV2_NE\" adicionada.\n",
      "\n",
      " - Folha \"SF23_VD_VI1_SE\" adicionada.\n",
      "\n",
      " - Folha \"SF23_VD_VI1_SW\" adicionada.\n",
      "\n",
      " - Folha \"SF23_VD_VI1_NW\" adicionada.\n",
      "\n",
      " - Folha \"SF23_VD_V4_NE\" adicionada.\n",
      "\n",
      " - Folha \"SF23_VD_V2_SE\" adicionada.\n",
      "\n",
      " - Folha \"SF23_VD_V2_NE\" adicionada.\n",
      "\n",
      " - Folha \"SF23_VD_V2_NW\" adicionada.\n",
      "\n",
      " - Folha \"SF23_VD_V2_SW\" adicionada.\n",
      "\n",
      " - Folha \"SF23_VD_V1_NE\" adicionada.\n",
      "\n",
      " - Folha \"SF23_VD_II3_SE\" adicionada.\n",
      "\n",
      " - Folha \"SF23_VD_VI1_NE\" adicionada.\n",
      "\n",
      " - Folha \"SF23_VD_III3_SE\" adicionada.\n",
      "\n",
      " - Folha \"SF23_VD_III3_SW\" adicionada.\n",
      "\n",
      " - Folha \"SF23_VD_II4_SE\" adicionada.\n",
      "\n",
      " - Folha \"SF23_VD_III2_NW\" adicionada.\n",
      "\n",
      " - Folha \"SF23_VD_III1_NE\" adicionada.\n",
      "\n",
      " - Folha \"SF23_VD_III1_NW\" adicionada.\n",
      "\n",
      " - Folha \"SF23_VD_I3_SW\" adicionada.\n",
      "\n",
      " - Folha \"SF23_VD_IV4_NW\" adicionada.\n",
      "\n",
      " - Folha \"SF23_VD_IV3_NE\" adicionada.\n",
      "\n",
      " - Folha \"SF23_VD_IV1_SE\" adicionada.\n",
      "\n",
      " - Folha \"SF23_VD_IV3_NW\" adicionada.\n",
      "\n",
      " - Folha \"SF23_VD_IV1_SW\" adicionada.\n",
      "\n",
      " - Folha \"SF23_VD_IV4_NE\" adicionada.\n",
      "\n",
      " - Folha \"SF23_VD_V1_SE\" adicionada.\n",
      "\n",
      " - Folha \"SF23_VD_II3_SW\" adicionada.\n",
      "\n",
      " - Folha \"SF23_VD_V3_NW\" adicionada.\n",
      "\n",
      " - Folha \"SF23_VD_IV2_SW\" adicionada.\n",
      "\n",
      " - Folha \"SF23_VD_IV2_NW\" adicionada.\n",
      "\n",
      " - Folha \"SF23_VD_IV4_SE\" adicionada.\n",
      "\n",
      " - Folha \"SF23_VD_IV1_NE\" adicionada.\n",
      "\n",
      " - Folha \"SF23_VD_IV4_SW\" adicionada.\n",
      "\n",
      " - Folha \"SF23_VD_IV3_SE\" adicionada.\n",
      "\n",
      " - Folha \"SF23_VD_III2_NE\" adicionada.\n",
      "\n",
      " - Folha \"SF23_VD_III2_SE\" adicionada.\n",
      "\n",
      " - Folha \"SF23_VD_IV3_SW\" adicionada.\n",
      "\n",
      "  384 folhas adicionadas.\n"
     ]
    },
    {
     "name": "stderr",
     "output_type": "stream",
     "text": [
      "\n"
     ]
    }
   ],
   "source": [
    "quadricula = Build_mc(escala='25k',ID=['SF23_YA','SF23_YB','SF23_VC','SF23_VD'],verbose=True)"
   ]
  },
  {
   "cell_type": "markdown",
   "metadata": {
    "tags": []
   },
   "source": [
    "# Adicionando dados brutos à Quadrícula"
   ]
  },
  {
   "cell_type": "code",
   "execution_count": null,
   "metadata": {
    "tags": []
   },
   "outputs": [
    {
     "name": "stderr",
     "output_type": "stream",
     "text": [
      " 59%|███████████████████             | 228/384 [00:11<00:07, 19.64it/s]"
     ]
    },
    {
     "name": "stdout",
     "output_type": "stream",
     "text": [
      " - mag_3022 atualizado na folha: SF23_VC_II4_SE com 9576 pontos\n",
      " - gama_3022 atualizado na folha: SF23_VC_II4_NE com 3001 pontos\n",
      " - mag_3022 atualizado na folha: SF23_VC_II4_NE com 39541 pontos\n"
     ]
    },
    {
     "name": "stderr",
     "output_type": "stream",
     "text": [
      " 61%|███████████████████▌            | 234/384 [00:11<00:07, 19.13it/s]"
     ]
    },
    {
     "name": "stdout",
     "output_type": "stream",
     "text": [
      " - gama_3022 atualizado na folha: SF23_VC_III3_SE com 5881 pontos\n",
      " - mag_3022 atualizado na folha: SF23_VC_III3_SE com 68195 pontos\n",
      " - gama_3022 atualizado na folha: SF23_VC_III3_NE com 13187 pontos\n",
      " - mag_3022 atualizado na folha: SF23_VC_III3_NE com 141107 pontos\n",
      " - gama_3022 atualizado na folha: SF23_VC_VI2_NE com 17587 pontos\n",
      " - mag_3022 atualizado na folha: SF23_VC_VI2_NE com 185085 pontos\n"
     ]
    },
    {
     "name": "stderr",
     "output_type": "stream",
     "text": [
      " 62%|███████████████████▉            | 239/384 [00:11<00:07, 19.33it/s]"
     ]
    },
    {
     "name": "stdout",
     "output_type": "stream",
     "text": [
      " - gama_3022 atualizado na folha: SF23_VC_VI2_SE com 23344 pontos\n",
      " - mag_3022 atualizado na folha: SF23_VC_VI2_SE com 242544 pontos\n",
      " - mag_3022 atualizado na folha: SF23_VC_VI2_SW com 245758 pontos\n"
     ]
    },
    {
     "name": "stderr",
     "output_type": "stream",
     "text": [
      " 63%|████████████████████▎           | 243/384 [00:12<00:07, 18.98it/s]"
     ]
    },
    {
     "name": "stdout",
     "output_type": "stream",
     "text": [
      " - gama_3022 atualizado na folha: SF23_VC_III2_SE com 24389 pontos\n",
      " - mag_3022 atualizado na folha: SF23_VC_III2_SE com 256081 pontos\n",
      " - gama_3022 atualizado na folha: SF23_VC_III2_SW com 25449 pontos\n",
      " - mag_3022 atualizado na folha: SF23_VC_III2_SW com 266560 pontos\n",
      " - gama_3022 atualizado na folha: SF23_VC_III1_SE com 26544 pontos\n"
     ]
    },
    {
     "name": "stderr",
     "output_type": "stream",
     "text": [
      " 64%|████████████████████▌           | 247/384 [00:12<00:07, 18.92it/s]"
     ]
    },
    {
     "name": "stdout",
     "output_type": "stream",
     "text": [
      " - mag_3022 atualizado na folha: SF23_VC_III1_SE com 277357 pontos\n",
      " - gama_3022 atualizado na folha: SF23_VC_III4_SE com 32875 pontos\n",
      " - mag_3022 atualizado na folha: SF23_VC_III4_SE com 340613 pontos\n"
     ]
    },
    {
     "name": "stderr",
     "output_type": "stream",
     "text": [
      " 65%|████████████████████▊           | 250/384 [00:12<00:07, 19.09it/s]"
     ]
    },
    {
     "name": "stdout",
     "output_type": "stream",
     "text": [
      " - gama_3022 atualizado na folha: SF23_VC_III4_NE com 40139 pontos\n",
      " - mag_3022 atualizado na folha: SF23_VC_III4_NE com 413131 pontos\n",
      " - gama_3022 atualizado na folha: SF23_VC_III4_NW com 47508 pontos\n",
      " - mag_3022 atualizado na folha: SF23_VC_III4_NW com 486688 pontos\n"
     ]
    },
    {
     "name": "stderr",
     "output_type": "stream",
     "text": [
      " 70%|██████████████████████▎         | 268/384 [00:13<00:05, 20.99it/s]"
     ]
    },
    {
     "name": "stdout",
     "output_type": "stream",
     "text": [
      " - gama_3022 atualizado na folha: SF23_VC_III3_SW com 52223 pontos\n",
      " - mag_3022 atualizado na folha: SF23_VC_III3_SW com 533691 pontos\n"
     ]
    },
    {
     "name": "stderr",
     "output_type": "stream",
     "text": [
      " 72%|███████████████████████         | 277/384 [00:13<00:05, 21.30it/s]"
     ]
    },
    {
     "name": "stdout",
     "output_type": "stream",
     "text": [
      " - gama_3022 atualizado na folha: SF23_VC_VI4_NE com 59380 pontos\n",
      " - mag_3022 atualizado na folha: SF23_VC_VI4_NE com 605313 pontos\n",
      " - gama_3022 atualizado na folha: SF23_VC_VI4_NW com 61970 pontos\n",
      " - mag_3022 atualizado na folha: SF23_VC_VI4_NW com 631135 pontos\n",
      " - gama_3022 atualizado na folha: SF23_VC_III4_SW com 65878 pontos\n"
     ]
    },
    {
     "name": "stderr",
     "output_type": "stream",
     "text": [
      " 73%|███████████████████████▎        | 280/384 [00:13<00:05, 20.73it/s]"
     ]
    },
    {
     "name": "stdout",
     "output_type": "stream",
     "text": [
      " - mag_3022 atualizado na folha: SF23_VC_III4_SW com 670079 pontos\n",
      " - gama_3022 atualizado na folha: SF23_VC_III3_NW com 73323 pontos\n",
      " - mag_3022 atualizado na folha: SF23_VC_III3_NW com 744462 pontos\n"
     ]
    },
    {
     "name": "stderr",
     "output_type": "stream",
     "text": [
      " 74%|███████████████████████▊        | 286/384 [00:14<00:04, 21.25it/s]"
     ]
    },
    {
     "name": "stdout",
     "output_type": "stream",
     "text": [
      " - gama_3022 atualizado na folha: SF23_VC_III1_SW com 74531 pontos\n",
      " - mag_3022 atualizado na folha: SF23_VC_III1_SW com 756403 pontos\n",
      " - mag_3022 atualizado na folha: SF23_VC_II2_SE com 762801 pontos\n",
      " - gama_3022 atualizado na folha: SF23_VC_VI4_SW com 76512 pontos\n",
      " - mag_3022 atualizado na folha: SF23_VC_VI4_SW com 782531 pontos\n",
      " - gama_3022 atualizado na folha: SF23_VC_VI4_SE com 82006 pontos\n"
     ]
    },
    {
     "name": "stderr",
     "output_type": "stream",
     "text": [
      " 75%|████████████████████████        | 289/384 [00:14<00:04, 20.26it/s]"
     ]
    },
    {
     "name": "stdout",
     "output_type": "stream",
     "text": [
      " - mag_3022 atualizado na folha: SF23_VC_VI4_SE com 837344 pontos\n",
      " - gama_3022 atualizado na folha: SF23_VD_IV1_NW com 89496 pontos\n",
      " - mag_3022 atualizado na folha: SF23_VD_IV1_NW com 912220 pontos\n",
      " - gama_3022 atualizado na folha: SF23_VD_I4_NW com 97306 pontos\n",
      " - mag_3022 atualizado na folha: SF23_VD_I4_NW com 990161 pontos\n",
      " - gama_3022 atualizado na folha: SF23_VD_I4_SW com 105063 pontos\n"
     ]
    },
    {
     "name": "stderr",
     "output_type": "stream",
     "text": [
      " 77%|████████████████████████▌       | 295/384 [00:14<00:04, 19.35it/s]"
     ]
    },
    {
     "name": "stdout",
     "output_type": "stream",
     "text": [
      " - mag_3022 atualizado na folha: SF23_VD_I4_SW com 1067726 pontos\n",
      " - gama_3022 atualizado na folha: SF23_VD_I4_SE com 112987 pontos\n",
      " - mag_3022 atualizado na folha: SF23_VD_I4_SE com 1146932 pontos\n",
      " - gama_3022 atualizado na folha: SF23_VD_I4_NE com 120902 pontos\n",
      " - mag_3022 atualizado na folha: SF23_VD_I4_NE com 1225928 pontos\n",
      " - gama_3022 atualizado na folha: SF23_VD_I1_SE com 122011 pontos\n",
      " - mag_3022 atualizado na folha: SF23_VD_I1_SE com 1236877 pontos\n",
      " - gama_3022 atualizado na folha: SF23_VD_I3_NE com 129878 pontos\n"
     ]
    },
    {
     "name": "stderr",
     "output_type": "stream",
     "text": [
      " 78%|████████████████████████▉       | 299/384 [00:14<00:04, 18.22it/s]"
     ]
    },
    {
     "name": "stdout",
     "output_type": "stream",
     "text": [
      " - mag_3022 atualizado na folha: SF23_VD_I3_NE com 1315439 pontos\n",
      " - gama_3022 atualizado na folha: SF23_VD_I3_SE com 137581 pontos\n",
      " - mag_3022 atualizado na folha: SF23_VD_I3_SE com 1392456 pontos\n",
      " - gama_3022 atualizado na folha: SF23_VD_I3_NW com 145090 pontos\n",
      " - mag_3022 atualizado na folha: SF23_VD_I3_NW com 1467411 pontos\n",
      " - gama_3022 atualizado na folha: SF23_VD_I1_SW com 146146 pontos\n",
      " - mag_3022 atualizado na folha: SF23_VD_I1_SW com 1477847 pontos\n",
      " - gama_3022 atualizado na folha: SF23_VD_II1_SW com 147187 pontos\n"
     ]
    },
    {
     "name": "stderr",
     "output_type": "stream",
     "text": [
      " 79%|█████████████████████████▎      | 304/384 [00:15<00:04, 18.80it/s]"
     ]
    },
    {
     "name": "stdout",
     "output_type": "stream",
     "text": [
      " - mag_3022 atualizado na folha: SF23_VD_II1_SW com 1488127 pontos\n",
      " - gama_3022 atualizado na folha: SF23_VD_I2_SW com 148276 pontos\n",
      " - mag_3022 atualizado na folha: SF23_VD_I2_SW com 1498895 pontos\n",
      " - gama_3022 atualizado na folha: SF23_VD_I2_SE com 149345 pontos\n",
      " - mag_3022 atualizado na folha: SF23_VD_I2_SE com 1509433 pontos\n"
     ]
    }
   ],
   "source": [
    "gama_3022,mag_3022=Upload_geof(quadricula,'gama_3022','mag_3022',1100)\n",
    "gama_1105,mag_1105=Upload_geof(quadricula,'gama_line_1105','mag_line_1105',1100)\n",
    "gama_1039,mag_1039=Upload_geof(quadricula,'gama_1039','mag_1039',1100)"
   ]
  },
  {
   "cell_type": "markdown",
   "metadata": {
    "tags": []
   },
   "source": [
    "## geof_list_ids = list(quadricula.keys())\n",
    "print(len(geof_list_ids))\n",
    "for id in geof_list_ids:\n",
    "    print(f' - Folha: {id}')\n",
    "    carta=quadricula[id]\n",
    "    for data in list(carta.keys())[2:]:\n",
    "        print(f'    - {data}')"
   ]
  },
  {
   "cell_type": "code",
   "execution_count": null,
   "metadata": {},
   "outputs": [],
   "source": [
    "quadricula=pop_nodata(quadricula)\n",
    "len(quadricula.keys())"
   ]
  },
  {
   "cell_type": "code",
   "execution_count": null,
   "metadata": {
    "scrolled": true,
    "tags": []
   },
   "outputs": [],
   "source": [
    "for id in list(quadricula.keys()):\n",
    "    \n",
    "    print(f' - Folha:  {id}')\n",
    "    carta = quadricula[id]\n",
    "    print(f'    - {list(carta.keys())}')"
   ]
  },
  {
   "cell_type": "markdown",
   "metadata": {
    "tags": []
   },
   "source": [
    "## Vizualisando Área de Estudo"
   ]
  },
  {
   "cell_type": "code",
   "execution_count": null,
   "metadata": {},
   "outputs": [],
   "source": [
    "plt.figure(figsize=(21,16))\n",
    "for id in list(quadricula.keys()):\n",
    "    carta=quadricula[id]\n",
    "    plt.plot(*transform_to_carta_utm(carta['folha']).exterior.xy,color='black')\n",
    "    for data in list(carta.keys())[2:]:\n",
    "        if 'mag' in data:\n",
    "            pass\n",
    "        else:\n",
    "            plt.scatter(carta[data].X,carta[data].Y,c=carta[data].MDT,cmap='terrain',s=0.5,marker='H')\n",
    "            plt.axis('scaled')\n",
    "plt.suptitle('Área de cobertura dos levantamentos aerogeofísicos')\n",
    "plt.tight_layout()"
   ]
  },
  {
   "cell_type": "markdown",
   "metadata": {
    "tags": []
   },
   "source": [
    "## Visualizando dados Radiométricos Brutos"
   ]
  },
  {
   "cell_type": "code",
   "execution_count": null,
   "metadata": {},
   "outputs": [],
   "source": [
    "plot_histograms(gama_3022)"
   ]
  },
  {
   "cell_type": "code",
   "execution_count": null,
   "metadata": {
    "tags": []
   },
   "outputs": [],
   "source": [
    "plot_raw_gama_data(gama_3022,suptitle='Dados Radiométricos brutos (Gama_3022.XYZ)')"
   ]
  },
  {
   "cell_type": "code",
   "execution_count": null,
   "metadata": {},
   "outputs": [],
   "source": [
    "plot_boxplots(gama_1105,gama_FEAT)"
   ]
  },
  {
   "cell_type": "code",
   "execution_count": null,
   "metadata": {},
   "outputs": [],
   "source": [
    "plot_histograms(gama_1105)"
   ]
  },
  {
   "cell_type": "code",
   "execution_count": null,
   "metadata": {
    "scrolled": true,
    "tags": []
   },
   "outputs": [],
   "source": [
    "plot_raw_gama_data(gama_1105,suptitle='DADOS AEROGAMAESPECTROMÉTRICO')"
   ]
  },
  {
   "cell_type": "code",
   "execution_count": null,
   "metadata": {},
   "outputs": [],
   "source": [
    "gama_1039.rename(columns={'CTC':'CTCOR','KC':'KPERC','UC':'eU','THC':'eTh'},inplace=True)\n",
    "plot_histograms(gama_1039)\n",
    "plot_raw_gama_data(gama_1039,suptitle='Dados Radiométricos brutos (XYZ)',orientation='vertical')"
   ]
  },
  {
   "cell_type": "markdown",
   "metadata": {},
   "source": [
    "## Removendo valores negativos das contagens radiométricas"
   ]
  },
  {
   "cell_type": "code",
   "execution_count": null,
   "metadata": {},
   "outputs": [],
   "source": [
    "gama_3022_positive = remove_negative_values(gama_3022)"
   ]
  },
  {
   "cell_type": "code",
   "execution_count": null,
   "metadata": {},
   "outputs": [],
   "source": [
    "plot_boxplots(gama_3022_positive,gama_FEAT)"
   ]
  },
  {
   "cell_type": "code",
   "execution_count": null,
   "metadata": {},
   "outputs": [],
   "source": [
    "plot_histograms(gama_3022_positive)"
   ]
  },
  {
   "cell_type": "code",
   "execution_count": null,
   "metadata": {},
   "outputs": [],
   "source": [
    "plot_raw_gama_data(gama_3022_positive,'Dados radiométricos tratadas : value <= 0 == 0.001')"
   ]
  },
  {
   "cell_type": "code",
   "execution_count": null,
   "metadata": {},
   "outputs": [],
   "source": [
    "gama_1105_positive = remove_negative_values(gama_1105)"
   ]
  },
  {
   "cell_type": "code",
   "execution_count": null,
   "metadata": {},
   "outputs": [],
   "source": [
    "plot_histograms(gama_1105_positive)"
   ]
  },
  {
   "cell_type": "code",
   "execution_count": null,
   "metadata": {},
   "outputs": [],
   "source": [
    "plot_boxplots(gama_1105_positive,gama_FEAT)"
   ]
  },
  {
   "cell_type": "code",
   "execution_count": null,
   "metadata": {},
   "outputs": [],
   "source": [
    "plot_raw_gama_data(gama_1105_positive,'Dados radiométricos tratadas : value <= 0 == 0.001')"
   ]
  },
  {
   "cell_type": "code",
   "execution_count": null,
   "metadata": {},
   "outputs": [],
   "source": [
    "gama_1039_positive=remove_negative_values(gama_1039,lista=['X','Y','LATITUDE','LONGITUDE','geometry'])\n",
    "gama_1039_positive['UTHRAZAO']=gama_1039_positive['eU']/gama_1039_positive['eTh']\n",
    "gama_1039_positive['UKRAZAO']=gama_1039_positive['eU']/gama_1039_positive['KPERC']\n",
    "gama_1039_positive['THKRAZAO']=gama_1039_positive['eTh']/gama_1039_positive['KPERC']\n",
    "\n",
    "plot_histograms(gama_1039_positive)\n",
    "plot_raw_gama_data(gama_1039_positive,'Dados radiométricos tratadas : value <= 0 == 0.001')"
   ]
  },
  {
   "cell_type": "markdown",
   "metadata": {
    "tags": []
   },
   "source": [
    "## CONSTRUINDO UM GRID SINTÉTICO"
   ]
  },
  {
   "cell_type": "code",
   "execution_count": null,
   "metadata": {},
   "outputs": [],
   "source": [
    "# REMOVING PART OF THE SINTETIC GRID\n",
    "'''\n",
    "df_xu_yu = pd.DataFrame(np.array([xu,yu]))\n",
    "df_xu_yu=df_xu_yu.T\n",
    "df_xu_yu.rename(columns={0:'xu',1:'yu'},inplace=True)\n",
    "\n",
    "df_xu_yu[(df_xu_yu.xu < 540937) & (df_xu_yu.yu > 8866937)]\n",
    "\n",
    "df_xu_yu.drop(df_xu_yu[(df_xu_yu.xu < 540937) & (df_xu_yu.yu > 8866937)].index,inplace=True)\n",
    "plt.figure(figsize=(18,12))\n",
    "\n",
    "plt.scatter(df_xu_yu.xu,df_xu_yu.yu,s=0.1,marker='.')\n",
    "plt.axis('scaled')\n",
    "'''\n",
    "\n"
   ]
  },
  {
   "cell_type": "markdown",
   "metadata": {},
   "source": [
    "# Interpolação dos dados Brutos"
   ]
  },
  {
   "cell_type": "markdown",
   "metadata": {
    "tags": []
   },
   "source": [
    "## Método Cúbico"
   ]
  },
  {
   "cell_type": "code",
   "execution_count": null,
   "metadata": {},
   "outputs": [],
   "source": [
    "# Test de área\n",
    "\n",
    "# area=(344093.45426573796, 396417.36691108724, 7621768.799495494, 7677527.304557458)\n",
    "# int((area[3]-area[2])/100),int((area[1]-area[0])/100)"
   ]
  },
  {
   "cell_type": "code",
   "execution_count": null,
   "metadata": {
    "scrolled": true
   },
   "outputs": [],
   "source": [
    "#traditional_interpolation(quadricula,'mag_3022','gama_3022','cubic','geof_3022')"
   ]
  },
  {
   "cell_type": "code",
   "execution_count": null,
   "metadata": {},
   "outputs": [],
   "source": [
    "#list(quadricula['SF23_VC'].keys())"
   ]
  },
  {
   "cell_type": "code",
   "execution_count": null,
   "metadata": {
    "tags": []
   },
   "outputs": [],
   "source": [
    "\n",
    "#df = quadricula['SF23_VC']['geof_3022_cubic']\n",
    "#plt.figure(figsize=(12,12))\n",
    "#plt.scatter(x=df.X,y=df.Y,c=df.GMT,cmap='rainbow')\n",
    "#plt.axis('scaled')"
   ]
  },
  {
   "cell_type": "code",
   "execution_count": null,
   "metadata": {
    "tags": []
   },
   "outputs": [],
   "source": [
    "# Print the output. a=\n",
    "\n",
    "#descript_cubic = df.describe(percentiles)\n",
    "#descript_cubic[['eU','eTh','KPERC','CTCOR','UTHRAZAO','THKRAZAO','UKRAZAO']].T"
   ]
  },
  {
   "cell_type": "code",
   "execution_count": null,
   "metadata": {},
   "outputs": [],
   "source": [
    "#plot_histograms(geof_1089_cubic,suptitle='Distribuição dos dados radiométricos interpolados (cúbico, pixel 100m)')\n",
    "#plot_raw_data(geof_1089_cubic,suptitle='Dados radiométricos interpolados (cúbico, pixel 100m)')"
   ]
  },
  {
   "cell_type": "markdown",
   "metadata": {
    "tags": []
   },
   "source": [
    "## Método Nearest"
   ]
  },
  {
   "cell_type": "code",
   "execution_count": null,
   "metadata": {
    "tags": []
   },
   "outputs": [],
   "source": [
    "#plot_histograms(geof_1089_nearest,suptitle='Distribuição dos dados radiométricos interpolados (nearest, pixel 100m)')"
   ]
  },
  {
   "cell_type": "code",
   "execution_count": null,
   "metadata": {},
   "outputs": [],
   "source": [
    "#plot_raw_data(geof_1089_nearest,suptitle='Dados radiométricos interpolados (nearest, pixel 100m)')"
   ]
  },
  {
   "cell_type": "markdown",
   "metadata": {},
   "source": [
    "## Método Linear"
   ]
  },
  {
   "cell_type": "code",
   "execution_count": null,
   "metadata": {},
   "outputs": [],
   "source": [
    "traditional_interpolation(quadricula,'mag_3022','gama_3022','linear','geof_3022')"
   ]
  },
  {
   "cell_type": "code",
   "execution_count": null,
   "metadata": {
    "scrolled": true
   },
   "outputs": [],
   "source": [
    "traditional_interpolation(quadricula,'mag_line_1105','gama_line_1105','linear','geof_1105')"
   ]
  },
  {
   "cell_type": "code",
   "execution_count": null,
   "metadata": {
    "scrolled": true,
    "tags": []
   },
   "outputs": [],
   "source": [
    "plt.figure(figsize=(24,16))\n",
    "\n",
    "# PLOTANDO A MALHA CARTOGRÁFICA\n",
    "for id in list(quadricula.keys()):\n",
    "    carta=quadricula[id]\n",
    "    plt.plot(*transform_to_carta_utm(carta['folha']).exterior.xy,color='black')\n",
    "    \n",
    "    # PLOTANDO OS DADOS INTERPOLADOS\n",
    "    for data in list(carta.keys())[2:]:        \n",
    "        if 'geof' in data:\n",
    "            plt.scatter(carta[data].X,carta[data].Y,c=carta[data].eU,cmap='rainbow',s=0.5,marker='H')\n",
    "            plt.axis('scaled')\n",
    "        # SE NÃO TIVER DADOS NÃO PLOTA NADA\n",
    "        else:\n",
    "            pass\n",
    "        \n",
    "plt.suptitle('Área de cobertura dos levantamentos aerogeofísicos')\n",
    "plt.tight_layout()"
   ]
  },
  {
   "cell_type": "code",
   "execution_count": null,
   "metadata": {},
   "outputs": [],
   "source": [
    "#traditional_interpolation(quadricula,'mag_1039','gama_1039','linear','geof_1039')"
   ]
  },
  {
   "cell_type": "code",
   "execution_count": null,
   "metadata": {
    "scrolled": true
   },
   "outputs": [],
   "source": [
    "'''\n",
    "plt.figure(figsize=(24,16))\n",
    "\n",
    "for id in list(quadricula.keys()):\n",
    "    carta=quadricula[id]\n",
    "    plt.plot(*transform_to_carta_utm(carta['folha']).exterior.xy,color='black')\n",
    "    \n",
    "    for data in list(carta.keys())[2:]:\n",
    "        if 'geof' in data:\n",
    "            plt.scatter(carta[data].X,carta[data].Y,c=carta[data].MDT,cmap='terrain',s=0.5,marker='H')\n",
    "            plt.axis('scaled')\n",
    "        else:\n",
    "            pass\n",
    "        \n",
    "plt.suptitle('Área de cobertura dos levantamentos aerogeofísicos')\n",
    "plt.tight_layout()\n",
    "'''"
   ]
  },
  {
   "cell_type": "markdown",
   "metadata": {
    "tags": []
   },
   "source": [
    "# Classificações Não-Supervisionadas"
   ]
  },
  {
   "cell_type": "markdown",
   "metadata": {
    "tags": []
   },
   "source": [
    "## Self-organizing maps (SOM)"
   ]
  },
  {
   "cell_type": "code",
   "execution_count": null,
   "metadata": {},
   "outputs": [],
   "source": [
    "import matplotlib\n",
    "import seaborn as sns\n",
    "from sklearn.preprocessing import StandardScaler\n",
    "from sklearn_som.som import SOM\n",
    "\n",
    "def plot_corr(dataframe, size=10):\n",
    "    plt.figure(figsize = (size+size*0.2, size), facecolor='w')\n",
    "    corrMatrix = dataframe.corr()\n",
    "    sns.heatmap(np.round(corrMatrix,2), annot=True)\n",
    "    plt.xticks(rotation=90, ha='right')\n",
    "    plt.yticks(rotation=0, ha='right')\n"
   ]
  },
  {
   "cell_type": "markdown",
   "metadata": {
    "tags": []
   },
   "source": [
    "### teste"
   ]
  },
  {
   "cell_type": "code",
   "execution_count": null,
   "metadata": {},
   "outputs": [],
   "source": [
    "df = quadricula['SF23_YB_I']['geof_1105_linear']\n",
    "\n",
    "plot_histograms(df)\n",
    "\n",
    "plot_boxplots(df,FEAT)"
   ]
  },
  {
   "cell_type": "code",
   "execution_count": null,
   "metadata": {},
   "outputs": [],
   "source": [
    "df"
   ]
  },
  {
   "cell_type": "code",
   "execution_count": null,
   "metadata": {},
   "outputs": [],
   "source": [
    "plot_raw_gama_data(df,suptitle='Dados Radiométricos interpolados (Algoritmo: Linear)',figsize=(27,16))\n",
    "plot_raw_mag_data(df,suptitle='Dados Magnetométricos interpolados (Algoritmo: Linear)')"
   ]
  },
  {
   "cell_type": "code",
   "execution_count": null,
   "metadata": {},
   "outputs": [],
   "source": [
    "df = quadricula['SF23_YB_I']['geof_1105_linear']\n",
    "plot_histograms(df)"
   ]
  },
  {
   "cell_type": "markdown",
   "metadata": {},
   "source": [
    "#### plot_raw_gama_data(df,suptitle='Dados Radiométricos interpolados (Algoritmo: Linear)',figsize=(27,16))"
   ]
  },
  {
   "cell_type": "code",
   "execution_count": null,
   "metadata": {},
   "outputs": [],
   "source": [
    "df"
   ]
  },
  {
   "cell_type": "code",
   "execution_count": null,
   "metadata": {
    "tags": []
   },
   "outputs": [],
   "source": [
    "df.rename(columns={'GMT':'MAGIGRF'},inplace=True)\n",
    "plot_raw_mag_data(df,suptitle='Dados Magnetométricos interpolados (Algoritmo: Linear)')"
   ]
  },
  {
   "cell_type": "markdown",
   "metadata": {
    "tags": []
   },
   "source": [
    "## Pixel size"
   ]
  },
  {
   "cell_type": "code",
   "execution_count": null,
   "metadata": {},
   "outputs": [],
   "source": [
    "df_rs = df\n",
    "df_rs.rename(columns={'X':'E_utm','Y':'N_utm'},inplace=True)\n",
    "#df_rs.fillna(0,inplace=True)\n",
    "\n",
    "xpixel_size = (df_rs.E_utm.max()-df_rs.E_utm.min())/df_rs.E_utm.unique().size\n",
    "ypixel_size = (df_rs.N_utm.max()-df_rs.N_utm.min())/df_rs.N_utm.unique().size\n",
    "print('x:', xpixel_size, 'y:', ypixel_size)\n",
    "\n",
    "nx=df_rs.E_utm.unique().size\n",
    "ny=df_rs.N_utm.unique().size\n",
    "ratio=ny/nx\n",
    "xs = df_rs.E_utm.values.reshape(ny, nx)\n",
    "ys = df_rs.N_utm.values.reshape(ny, nx)"
   ]
  },
  {
   "cell_type": "code",
   "execution_count": null,
   "metadata": {
    "tags": []
   },
   "outputs": [],
   "source": [
    "features = list(df_rs.columns[2:])\n",
    "plot_corr(df_rs[features], size=11)\n",
    "#print(features)\n",
    "#plt.savefig('figs/correlation_matrix.png', dpi=400, bbox_inches='tight')"
   ]
  },
  {
   "cell_type": "code",
   "execution_count": null,
   "metadata": {
    "tags": []
   },
   "outputs": [],
   "source": [
    "data = StandardScaler().fit_transform(df[features].values)\n",
    "\n",
    "# data = df_rs[features].values\n",
    "\n",
    "# NÚMERO DE CLASSES\n",
    "n_clusters=9\n",
    "lito_SOM = SOM(m=n_clusters,\n",
    "               n=1,\n",
    "           sigma=1.5,\n",
    "             dim=len(features),\n",
    "        max_iter=10000)\n",
    "\n",
    "lito_SOM.fit(data)\n",
    "\n",
    "# predição de classes\n",
    "predictions = lito_SOM.predict(data)\n",
    "\n",
    "# create labels\n",
    "cluster_labels=[]\n",
    "for i in range(n_clusters):\n",
    "    cluster_labels+=[f'Classe {i+1}']\n",
    "    \n",
    "# classes weights\n",
    "fig, ax = plt.subplots(figsize=(19,19))\n",
    "im=ax.matshow(lito_SOM.weights)\n",
    "for (i, j), z in np.ndenumerate(lito_SOM.weights):\n",
    "    ax.text(j, i, '{:0.2f}'.format(z), ha='center', va='center')\n",
    "\n",
    "plt.yticks(range(n_clusters), cluster_labels, fontsize=9)\n",
    "plt.xticks(range(len(features)), features, rotation=55, fontsize=10, ha='left')\n",
    "fig.colorbar(im, label='weights', orientation='horizontal')\n",
    "plt.gca().set_aspect('equal')\n",
    "plt.gcf().set_size_inches(10, 10)\n",
    "plt.show()"
   ]
  },
  {
   "cell_type": "code",
   "execution_count": null,
   "metadata": {},
   "outputs": [],
   "source": [
    "id_ = [1,2,3,4,5,6,7,8,9]\n",
    "\n",
    "relcolor =  matplotlib.cm.Set3\n",
    "colors = np.array(relcolor.colors)[id_]\n",
    "relcolor = matplotlib.colors.ListedColormap(colors)\n",
    "\n",
    "idxs=np.arange(0, n_clusters, 1)\n",
    "half=(idxs[1]-idxs[0])/2\n",
    "ticks=np.linspace(idxs[0]+half, idxs[-1]-half, n_clusters)\n",
    "\n",
    "datafig, ax=plt.subplots(figsize=(16, 16), facecolor='w')\n",
    "im=plt.pcolormesh(xs, ys, predictions.reshape(ny, nx), cmap=relcolor, shading='auto')\n",
    "plt.xlim(xs.min(), xs.max())\n",
    "plt.ylim(ys.min(), ys.max())\n",
    "cbar_ax = fig.add_axes([0.93, 0.3, 0.05, 0.4])\n",
    "cbar = fig.colorbar(im, cax=cbar_ax, label = u'Classes', orientation='vertical',cmap='viridis',ticks=ticks)\n",
    "\n",
    "cbar.ax.set_yticklabels(cluster_labels, fontsize=8)\n",
    "plt.suptitle('SOM - Aerogeophysical Data (SF23_YA_III4)')\n",
    "plt.axis('scaled')\n",
    "plt.show()"
   ]
  },
  {
   "cell_type": "code",
   "execution_count": null,
   "metadata": {},
   "outputs": [],
   "source": [
    "n_clusters=18\n",
    "lito_SOM = SOM(m=n_clusters, n=1, sigma=1.5, dim=len(features), max_iter=10000)\n",
    "lito_SOM.fit(data)\n",
    "\n",
    "# predição de classes\n",
    "predictions = lito_SOM.predict(data)\n",
    "\n",
    "# create labels\n",
    "cluster_labels=[]\n",
    "for i in range(n_clusters):\n",
    "    cluster_labels+=[f'Classe {i+1}']\n",
    "    \n",
    "# classes weights\n",
    "fig, ax = plt.subplots(figsize=(27,27))\n",
    "im=ax.matshow(lito_SOM.weights)\n",
    "\n",
    "for (i, j), z in np.ndenumerate(lito_SOM.weights):\n",
    "    ax.text(j, i, '{:0.2f}'.format(z), ha='center', va='center')\n",
    "\n",
    "plt.yticks(range(n_clusters), cluster_labels, fontsize=8)\n",
    "plt.xticks(range(len(features)), features, rotation=55, fontsize=9, ha='left')\n",
    "fig.colorbar(im, label='weights', orientation='horizontal',cmap='Reds')\n",
    "plt.gca().set_aspect('equal')\n",
    "plt.gcf().set_size_inches(15, 10)\n",
    "plt.show()"
   ]
  },
  {
   "cell_type": "code",
   "execution_count": null,
   "metadata": {},
   "outputs": [],
   "source": [
    "df"
   ]
  },
  {
   "cell_type": "code",
   "execution_count": null,
   "metadata": {},
   "outputs": [],
   "source": [
    "id_ = [1,2,3,4,5,6,7,8,9,10,11]\n",
    "\n",
    "relcolor =  matplotlib.cm.Set3\n",
    "colors = np.array(relcolor.colors)[id_]\n",
    "relcolor = matplotlib.colors.ListedColormap(colors)\n",
    "\n",
    "idxs=np.arange(0, n_clusters, 1)\n",
    "half=(idxs[1]-idxs[0])/2\n",
    "ticks=np.linspace(idxs[0]+half, idxs[-1]-half, n_clusters)\n",
    "\n",
    "datafig, ax=plt.subplots(figsize=(16, 16), facecolor='w')\n",
    "im=plt.pcolormesh(xs, ys, predictions.reshape(ny, nx), cmap=relcolor, shading='auto')\n",
    "plt.xlim(xs.min(), xs.max())\n",
    "plt.ylim(ys.min(), ys.max())\n",
    "cbar_ax = fig.add_axes([0.93, 0.3, 0.05, 0.4])\n",
    "cbar = fig.colorbar(im, cax=cbar_ax, label = u'Classes', orientation='vertical',\n",
    "                    ticks=ticks)\n",
    "cbar.ax.set_yticklabels(cluster_labels, fontsize=8)\n",
    "plt.suptitle('SOM - Aerogeophysical Data ()')\n",
    "plt.axis('scaled')\n",
    "plt.show()"
   ]
  },
  {
   "cell_type": "markdown",
   "metadata": {
    "tags": []
   },
   "source": [
    "## Testes"
   ]
  },
  {
   "cell_type": "code",
   "execution_count": null,
   "metadata": {},
   "outputs": [],
   "source": [
    "df = quadricula['SF23_YA_III']['geof_1105_linear']\n",
    "\n",
    "plot_histograms(df)\n",
    "plot_raw_gama_data(df,suptitle='Dados Radiométricos interpolados (Algoritmo: Linear)',figsize=(27,16))\n",
    "plot_raw_mag_data(df,suptitle='Dados Magnetométricos i4nterpolados (Algoritmo: Linear)')\n",
    "\n",
    "\n",
    "df_rs = df\n",
    "df_rs.rename(columns={'X':'E_utm','Y':'N_utm'},inplace=True)\n",
    "#df_rs.fillna(0,inplace=True)\n",
    "\n",
    "\n",
    "xpixel_size = (df_rs.E_utm.max()-df_rs.E_utm.min())/df_rs.E_utm.unique().size\n",
    "ypixel_size = (df_rs.N_utm.max()-df_rs.N_utm.min())/df_rs.N_utm.unique().size\n",
    "print('x:', xpixel_size, 'y:', ypixel_size)\n",
    "\n",
    "\n",
    "nx=df_rs.E_utm.unique().size\n",
    "ny=df_rs.N_utm.unique().size\n",
    "ratio=ny/nx\n",
    "xs = df_rs.E_utm.values.reshape(ny, nx)\n",
    "ys = df_rs.N_utm.values.reshape(ny, nx)\n",
    "\n",
    "features = list(df_rs.columns[2:])\n",
    "print(features)\n",
    "\n",
    "\n",
    "plot_corr(df_rs[features], size=12)\n",
    "#plt.savefig('figs/correlation_matrix.png', dpi=400, bbox_inches='tight')\n",
    "\n",
    "\n",
    "\n",
    "scaler = StandardScaler()\n",
    "data = scaler.fit_transform(df[features].values)\n",
    "# data = df_rs[features].values\n",
    "\n",
    "\n",
    "n_clusters=9\n",
    "lito_SOM = SOM(m=n_clusters, n=1, sigma=1.5, dim=len(features), max_iter=10000)\n",
    "lito_SOM.fit(data)\n",
    "\n",
    "# predição de classes\n",
    "predictions = lito_SOM.predict(data)"
   ]
  },
  {
   "cell_type": "code",
   "execution_count": null,
   "metadata": {},
   "outputs": [],
   "source": [
    "df"
   ]
  },
  {
   "cell_type": "code",
   "execution_count": null,
   "metadata": {},
   "outputs": [],
   "source": [
    "# create labels\n",
    "cluster_labels=[]\n",
    "for i in range(n_clusters):\n",
    "    cluster_labels+=[f'Classe {i+1}']\n",
    "    \n",
    "# classes weights\n",
    "fig, ax = plt.subplots(figsize=(19,26))\n",
    "im=ax.matshow(lito_SOM.weights)\n",
    "for (i, j), z in np.ndenumerate(lito_SOM.weights):\n",
    "    ax.text(j, i, '{:0.2f}'.format(z), ha='center', va='center')\n",
    "\n",
    "plt.yticks(range(n_clusters), cluster_labels, fontsize=9)\n",
    "plt.xticks(range(len(features)), features, rotation=55, fontsize=10, ha='left')\n",
    "fig.colorbar(im, label='weights', orientation='horizontal')\n",
    "plt.gca().set_aspect('equal')\n",
    "plt.gcf().set_size_inches(19, 26)\n",
    "plt.show()"
   ]
  },
  {
   "cell_type": "code",
   "execution_count": null,
   "metadata": {
    "tags": []
   },
   "outputs": [],
   "source": [
    "id_ = [1,2,3,4,5,6,7,8,9]\n",
    "relcolor =  matplotlib.cm.Set3\n",
    "colors = np.array(relcolor.colors)[id_]\n",
    "relcolor = matplotlib.colors.ListedColormap(colors)\n",
    "\n",
    "\n",
    "\n",
    "idxs=np.arange(0, n_clusters, 1)\n",
    "half=(idxs[1]-idxs[0])/2\n",
    "ticks=np.linspace(idxs[0]+half, idxs[-1]-half, n_clusters)\n",
    "\n",
    "datafig, ax=plt.subplots(figsize=(16, 16), facecolor='w')\n",
    "im=plt.pcolormesh(xs, ys, predictions.reshape(ny, nx), cmap=relcolor, shading='auto')\n",
    "plt.xlim(xs.min(), xs.max())\n",
    "plt.ylim(ys.min(), ys.max())\n",
    "cbar_ax = fig.add_axes([0.93, 0.3, 0.05, 0.4])\n",
    "cbar = fig.colorbar(im, cax=cbar_ax, label = u'Classes', orientation='vertical',\n",
    "                    ticks=ticks)\n",
    "cbar.ax.set_yticklabels(cluster_labels, fontsize=8)\n",
    "plt.suptitle('SOM - Aerogeophysical Data (SF23_YA_III4)')\n",
    "plt.axis('scaled')\n",
    "plt.show()"
   ]
  },
  {
   "cell_type": "markdown",
   "metadata": {
    "tags": []
   },
   "source": [
    "# Classificações Supervisionadas"
   ]
  },
  {
   "cell_type": "markdown",
   "metadata": {
    "tags": []
   },
   "source": [
    "## Rotulando amostras com classes litológicas"
   ]
  },
  {
   "cell_type": "code",
   "execution_count": null,
   "metadata": {},
   "outputs": [],
   "source": [
    "import shapely.speedups\n",
    "from shapely import geometry\n",
    "shapely.speedups.enable()\n",
    "\n",
    "geof_1089_linear['geometry'] = [geometry.Point(x,y) for x, y in zip(geof_1089_linear['X'], geof_1089_linear['Y'])]\n",
    "gdf_1089_linear = geof_1089_linear.set_geometry('geometry')\n",
    "\n",
    "gdf_1089_linear.set_crs('EPSG:32723',inplace=True)\n",
    "gdf_1089_linear.geometry"
   ]
  },
  {
   "cell_type": "code",
   "execution_count": null,
   "metadata": {},
   "outputs": [],
   "source": [
    "Upload_litologia(quadricula,'litologia_100k')"
   ]
  },
  {
   "cell_type": "code",
   "execution_count": null,
   "metadata": {
    "tags": []
   },
   "outputs": [],
   "source": [
    "litologia=quadricula['SB24_ZB_II']['litologia_100k']\n",
    "litologia.to_crs('EPSG:32724',inplace=True)\n",
    "print(litologia.crs)\n",
    "litologia.reset_index(drop=True,inplace=True)\n",
    "\n",
    "dic_litologico = describe_geologico(litologia)\n",
    "print(litologia.columns)"
   ]
  },
  {
   "cell_type": "code",
   "execution_count": null,
   "metadata": {
    "tags": []
   },
   "outputs": [],
   "source": [
    "print(dic_litologico['SIGLA']['len'])\n",
    "print(dic_litologico['SIGLA']['lista'])\n",
    "gdf_1089_linear"
   ]
  },
  {
   "cell_type": "code",
   "execution_count": null,
   "metadata": {},
   "outputs": [],
   "source": [
    "litologia.plot('SIGLA',figsize=(16,16),legend=True)"
   ]
  },
  {
   "cell_type": "code",
   "execution_count": null,
   "metadata": {},
   "outputs": [],
   "source": [
    "geof_1089_linear['closest_unit'] = geof_1089_linear['geometry'].apply(lambda x: litologia['SIGLA'].iloc[litologia.distance(x).idxmin()]) # .idxmin() Retorna o indice do menor valor "
   ]
  },
  {
   "cell_type": "code",
   "execution_count": null,
   "metadata": {
    "jp-MarkdownHeadingCollapsed": true,
    "tags": []
   },
   "outputs": [],
   "source": [
    "geof_1089_linear.to_csv('/home/ggrl/database/csv/SB24_ZB_II_gama_linear_100m.csv',index=False)"
   ]
  }
 ],
 "metadata": {
  "kernelspec": {
   "display_name": "Python 3 (ipykernel)",
   "language": "python",
   "name": "python3"
  },
  "language_info": {
   "codemirror_mode": {
    "name": "ipython",
    "version": 3
   },
   "file_extension": ".py",
   "mimetype": "text/x-python",
   "name": "python",
   "nbconvert_exporter": "python",
   "pygments_lexer": "ipython3",
   "version": "3.11.3"
  },
  "vscode": {
   "interpreter": {
    "hash": "ed32a6a1b508148fc3ce5ac19a3a5a750fe820bd77e8693096b5866236bb4c36"
   }
  }
 },
 "nbformat": 4,
 "nbformat_minor": 4
}
