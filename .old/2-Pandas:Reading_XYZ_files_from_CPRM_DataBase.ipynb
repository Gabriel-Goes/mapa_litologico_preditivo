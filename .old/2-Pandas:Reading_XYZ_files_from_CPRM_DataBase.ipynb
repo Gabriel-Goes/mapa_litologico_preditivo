{
 "cells": [
  {
   "cell_type": "code",
   "execution_count": 1,
   "metadata": {},
   "outputs": [],
   "source": [
    "#from pandas import read_csv\n",
    "import pandas as pd\n",
    "from IPython.display import Image"
   ]
  },
  {
   "cell_type": "code",
   "execution_count": 2,
   "metadata": {},
   "outputs": [
    {
     "data": {
      "text/plain": [
       "'/home/ggrl/database/'"
      ]
     },
     "execution_count": 2,
     "metadata": {},
     "output_type": "execute_result"
    }
   ],
   "source": [
    "from src.src import gdb\n",
    "\n",
    "gdb()"
   ]
  },
  {
   "cell_type": "markdown",
   "metadata": {},
   "source": [
    "# Neste notebook vamos utilizar as funçoes read_csv() e dropna() da biblioteca Pandas."
   ]
  },
  {
   "cell_type": "markdown",
   "metadata": {},
   "source": [
    "## Com um visualizador de logs podemos abrir os arquivos GamaLine.XYZ e GamaTie.XYZ:\n",
    "    - git clone https://aur.archlinux.org/klogg-bin.git\n",
    "    - cd klogg\n",
    "    - makepkg\n",
    "    - install tar.gz\n",
    "    \n",
    "    - Klogg is a substitute to Glogg. A fast log viewer and is used here to identify:\n",
    "        - os nomes de cada coluna do arquivo e;\n",
    "        - o numero de linhas de cabeçalho."
   ]
  },
  {
   "cell_type": "markdown",
   "metadata": {},
   "source": [
    "# Levantamento 1105"
   ]
  },
  {
   "cell_type": "markdown",
   "metadata": {},
   "source": [
    "## Dados Gamaespectrometricos"
   ]
  },
  {
   "cell_type": "code",
   "execution_count": null,
   "metadata": {},
   "outputs": [],
   "source": [
    "Image('imagens/klogg_gline_1105.png')"
   ]
  },
  {
   "cell_type": "markdown",
   "metadata": {},
   "source": [
    "### Importando dados brutos"
   ]
  },
  {
   "cell_type": "code",
   "execution_count": null,
   "metadata": {},
   "outputs": [],
   "source": [
    "gdb('xyz/1105_XYZ/1105/XYZ/1105_GamaLine.XYZ')"
   ]
  },
  {
   "cell_type": "code",
   "execution_count": null,
   "metadata": {},
   "outputs": [],
   "source": [
    "gama_line_1105_cols = 'KB DATA BARO UB THB COSMICO CTB UUP ALTURA KPERC eU eTH CTEXP UTHRAZAO X Y UKRAZAO MDT THKRAZAO LIVE_TIME CTCOR KCOR THCOR UCOR HORA GPSALT LATITUDE FIDUCIAL TEMP LONGITUDE'.split(\" \")             \n",
    "\n",
    "\n",
    "gama_line_1105 = pd.read_csv(gdb('xyz/1105_XYZ/1105/XYZ/1105_GamaLine.XYZ'),\n",
    "                         names=gama_line_1105_cols,\n",
    "                         delim_whitespace=True,\n",
    "                         skiprows=10,                                     # Linhas de cabeçalho\n",
    "                         usecols=[\"X\",\"Y\",\"LATITUDE\",\"LONGITUDE\",\n",
    "                                  \"KPERC\",\"eU\",\"eTH\",\"CTCOR\",\n",
    "                                  \"THKRAZAO\",\"UTHRAZAO\",\"UKRAZAO\",\"MDT\"])\n",
    "                                  "
   ]
  },
  {
   "cell_type": "code",
   "execution_count": null,
   "metadata": {},
   "outputs": [],
   "source": [
    "gama_tie_1105_cols  = 'KB DATA BARO UB THB COSMICO CTB UUP ALTURA KPERC eU eTH CTEXP UTHRAZAO X Y UKRAZAO MDT THKRAZAO LIVE_TIME CTCOR KCOR THCOR UCOR HORA GPSALT LATITUDE FIDUCIAL TEMP LONGITUDE __X __Y'.split(\" \")\n",
    "\n",
    "gama_tie_1105 = pd.read_csv(gdb('xyz/1105_XYZ/1105/XYZ/1105_GamaTie.XYZ'),\n",
    "                         names=gama_tie_1105_cols,\n",
    "                         delim_whitespace=True,\n",
    "                         skiprows=10,\n",
    "                         usecols=[\"X\",\"Y\",\"LATITUDE\",\"LONGITUDE\",\n",
    "                                  \"KPERC\",\"eU\",\"eTH\",\"CTCOR\",\n",
    "                                  \"THKRAZAO\",\"UTHRAZAO\",\"UKRAZAO\",\"MDT\"])"
   ]
  },
  {
   "cell_type": "code",
   "execution_count": null,
   "metadata": {},
   "outputs": [],
   "source": [
    "# A primeira linha possui valores não numéricos 'NaN' que devem ser removidos\n",
    "gama_line_1105.head(5)"
   ]
  },
  {
   "cell_type": "markdown",
   "metadata": {},
   "source": [
    "### Observando os logs foi possível identifcar que entre as linhas dos dados numéricos existem índices de Lines e Tie que indicam à qual linha de voo os pontos pertencem e estas linhas serão ignoradas por enquanto.\n",
    "    - Com a função 'df.shape' observamos o formato do nosso dado,\n",
    "    - após a execução da função df.dropna(inplace=True) observamos que aqueles indices foram removidos "
   ]
  },
  {
   "cell_type": "code",
   "execution_count": null,
   "metadata": {},
   "outputs": [],
   "source": [
    "print(f'Rows Gama_Tie: {gama_tie_1105.shape[0]}\\\n",
    "     Columns Gama_Tie: {gama_tie_1105.shape[1]}')"
   ]
  },
  {
   "cell_type": "code",
   "execution_count": null,
   "metadata": {},
   "outputs": [],
   "source": [
    "print(f'Rows Gama_Line: {gama_line_1105.shape[0]}\\\n",
    "     Columns Gama_Line: {gama_line_1105.shape[1]}')"
   ]
  },
  {
   "cell_type": "markdown",
   "metadata": {},
   "source": [
    "### Removendo valores não numéricos"
   ]
  },
  {
   "cell_type": "code",
   "execution_count": null,
   "metadata": {},
   "outputs": [],
   "source": [
    "gama_line_1105.dropna(inplace=True) \n",
    "gama_tie_1105.dropna(inplace=True)"
   ]
  },
  {
   "cell_type": "code",
   "execution_count": null,
   "metadata": {},
   "outputs": [],
   "source": [
    "print(f'Rows Gama_Tie: {gama_tie_1105.shape[0]}\\\n",
    "     Columns Gama_Tie: {gama_tie_1105.shape[1]}')\n",
    "\n",
    "print(f'Rows Gama_Line: {gama_line_1105.shape[0]}\\\n",
    "     Columns Gama_Line: {gama_line_1105.shape[1]}')"
   ]
  },
  {
   "cell_type": "markdown",
   "metadata": {},
   "source": [
    "### Exportando os arquivos tratados para um CSV"
   ]
  },
  {
   "cell_type": "code",
   "execution_count": null,
   "metadata": {},
   "outputs": [],
   "source": [
    "gama_tie_1105.to_csv(gdb('geof/gama_tie_1105'),index=False)\n",
    "gama_line_1105.to_csv(gdb('geof/gama_line_1105'),index=False)"
   ]
  },
  {
   "cell_type": "markdown",
   "metadata": {},
   "source": [
    "## Dados Magnetometricos"
   ]
  },
  {
   "cell_type": "markdown",
   "metadata": {},
   "source": [
    "### Colunas descritas nos dados brutos"
   ]
  },
  {
   "cell_type": "code",
   "execution_count": null,
   "metadata": {},
   "outputs": [],
   "source": [
    "# Line\n",
    "# /        DATA BARO ALTURA X Y MDT HORA   GPSALT    LATITUDE   FIDUCIAL   LONGITUDE     ALTURA_1       IGRF    MAGBASE     MAGBRU     MAGCOM     MAGCOR    MAGIGRF     MAGMIC     MAGNIV\n",
    "# Tie\n",
    "# / DATA BARO ALTURA,X,Y,MDT,HORA GPSALT    LATITUDE   FIDUCIAL   LONGITUDE     ALTURA_1       IGRF    MAGBASE     MAGBRU     MAGCOM     MAGCOR    MAGIGRF     MAGMIC     MAGNIV \n",
    "\n",
    "mag_1105_cols = 'DATA BARO ALTURA X Y MDT HORA GPSALT LATITUDE FIDUCIAL LONGITUDE ALTURA_1 IGRF MAGBASE MAGBRU MAGCOM MAGCOR MAGIGRF MAGMIC MAGNIV'.split(\" \")"
   ]
  },
  {
   "cell_type": "markdown",
   "metadata": {},
   "source": [
    "### Importando dados brutos"
   ]
  },
  {
   "cell_type": "code",
   "execution_count": null,
   "metadata": {},
   "outputs": [],
   "source": [
    "mag_line_1105 = pd.read_csv(gdb('xyz/1105_XYZ/1105/XYZ/1105_MagLine.XYZ'),\n",
    "                         names=mag_1105_cols,\n",
    "                         delim_whitespace=True,\n",
    "                         skiprows=11,                                     # Linhas de cabeçalho\n",
    "                         usecols=[\"X\",\"Y\",\"LATITUDE\",\"LONGITUDE\",\n",
    "                                  \"MAGIGRF\",\"ALTURA\",\"ALTURA_1\",\"MDT\"])\n",
    "\n",
    "mag_tie_1105 = pd.read_csv(gdb('xyz/1105_XYZ/1105/XYZ/1105_MagTie.XYZ'),\n",
    "                         names=mag_1105_cols,\n",
    "                         delim_whitespace=True,\n",
    "                         skiprows=11,\n",
    "                         usecols=[\"X\",\"Y\",\"LATITUDE\",\"LONGITUDE\",\n",
    "                                  \"MAGIGRF\",\"ALTURA\",\"ALTURA_1\",\"MDT\"])\n",
    "\n",
    "mag_1105 = pd.concat([mag_line_1105,mag_tie_1105], ignore_index=True)"
   ]
  },
  {
   "cell_type": "markdown",
   "metadata": {},
   "source": [
    "### Removendo valores nao numericos"
   ]
  },
  {
   "cell_type": "code",
   "execution_count": null,
   "metadata": {},
   "outputs": [],
   "source": [
    "# numero de linhas e colunas;\n",
    "print(mag_1105.shape)\n",
    "print(mag_1105.isna().sum()) # soma dos valores nao numericos para cada coluna;"
   ]
  },
  {
   "cell_type": "code",
   "execution_count": null,
   "metadata": {},
   "outputs": [],
   "source": [
    "mag_1105.dropna(inplace=True)"
   ]
  },
  {
   "cell_type": "code",
   "execution_count": null,
   "metadata": {},
   "outputs": [],
   "source": [
    "print(mag_1105.isna().sum()) # soma dos valores nao numericos para cada coluna;"
   ]
  },
  {
   "cell_type": "markdown",
   "metadata": {},
   "source": [
    "### Exportando os arquivos tratados para um CSV"
   ]
  },
  {
   "cell_type": "code",
   "execution_count": null,
   "metadata": {},
   "outputs": [],
   "source": [
    "mag_line_1105.to_csv(gdb('geof/mag_line_1105'), index=False)\n",
    "mag_tie_1105.to_csv(gdb('geof/mag_tie_1105'), index=False)\n",
    "mag_1105.to_csv(gdb('geof/mag_1105'), index=False)"
   ]
  },
  {
   "cell_type": "markdown",
   "metadata": {},
   "source": [
    "# Levantamento 3022 "
   ]
  },
  {
   "cell_type": "code",
   "execution_count": null,
   "metadata": {},
   "outputs": [],
   "source": [
    "gama_3022_cols = 'ALTURA BARO COSMICO CTB CTCOR CTEXP DATA eTh eU FIDUCIAL GPSALT HORA KB KCOR KPERC LATITUDE LIVE_TIME LONGITUDE MDT TEMP THB THCOR THKRAZAO UB UCOR UKRAZAO UTHRAZAO UUP X X_WGS Y Y_WGS'.split(\" \")\n",
    "\n",
    "gama_3022 = pd.read_csv(gdb('xyz/3022_XYZ/XYZ/Area_14_gama.XYZ'),\n",
    "                         names=gama_3022_cols,\n",
    "                         delim_whitespace=True,\n",
    "                         skiprows=8,\n",
    "                         usecols=['X',\"Y\",\"LATITUDE\",\"LONGITUDE\",\n",
    "                                  \"KPERC\", 'eU', 'eTh', 'CTCOR',\n",
    "                                  'UTHRAZAO', \"THKRAZAO\", \"UKRAZAO\",\n",
    "                                  \"MDT\"],\n",
    "                         encoding='latin-1'\n",
    "                         )"
   ]
  },
  {
   "cell_type": "markdown",
   "metadata": {},
   "source": [
    "### Importando dados brutos\n",
    " - Este arquivo:\n",
    "    - XYZ obtiddo atravéz do Professor Vinicius Abud Louro;\n",
    "    - provém de um projeto diferente dos disponibilizados no portal SGB;\n",
    "    - não possui os mesmo padrões que os arquivos disponibilizados no portal SGB;\n",
    "    - possui valores expúrios entre os valores gama e mag;\n",
    "        - valor identificado como '*' atravéz dos seguintes passos:\n",
    "            - \n",
    " "
   ]
  },
  {
   "cell_type": "code",
   "execution_count": null,
   "metadata": {},
   "outputs": [],
   "source": [
    "mag_3022_cols = 'ALTURA BARO DATA FID GPSALT HORA IGRF LAT_WGS LONG_WGS MAGBASE MAGBRU MAGCOM MAGCOR MAGIGRF MAGMIC MAGNIV MDT X X_WGS Y Y_WGS'.split(\" \")\n",
    "\n",
    "\n",
    "mag_3022 = pd.read_csv(gdb('xyz/3022_XYZ/XYZ/Area_14_mag.XYZ'),\n",
    "                         names=mag_3022_cols,\n",
    "                         delim_whitespace=True,\n",
    "                         skiprows=8,\n",
    "                         usecols=[\"X\",\"Y\",\"LAT_WGS\",\"LONG_WGS\",\n",
    "                                  \"ALTURA\",\n",
    "                                  \"MAGIGRF\",\"MDT\"],\n",
    "                         na_values=('*'),                     \n",
    "                         dtype=('float'),\n",
    "                         encoding='latin-1'\n",
    "                         )"
   ]
  },
  {
   "cell_type": "markdown",
   "metadata": {},
   "source": [
    "### Removendo valores nao numericos"
   ]
  },
  {
   "cell_type": "code",
   "execution_count": null,
   "metadata": {},
   "outputs": [],
   "source": [
    "gama_3022.dropna(inplace=True) \n",
    "mag_3022.dropna(inplace=True)"
   ]
  },
  {
   "cell_type": "markdown",
   "metadata": {},
   "source": [
    "### Salvando o dado tratado em um .CSV"
   ]
  },
  {
   "cell_type": "code",
   "execution_count": null,
   "metadata": {},
   "outputs": [],
   "source": [
    "gama_3022.to_csv(gdb('geof/gama_3022'),index=False)\n",
    "mag_3022.to_csv(gdb('geof/mag_3022'),index=False)"
   ]
  },
  {
   "cell_type": "markdown",
   "metadata": {},
   "source": [
    "# Levantamento 1039"
   ]
  },
  {
   "cell_type": "code",
   "execution_count": null,
   "metadata": {},
   "outputs": [],
   "source": [
    "'/  UTME      UTMN       LONG         LAT       MAGR      THC       UC        KC        CTC       MAGB      MAGC      MAGD      THB       UB        KB        CTB       FIDU      TEMP      ALTE      ALTB'\n",
    "\n",
    "cols_1039 = 'UTME UTMN LONG LAT MAGR THC UC KC CTC MAGB MAGC MAGD THB UB KB CTB FIDU TEMP ALTE ALTB'.split(\" \")\n",
    "\n",
    "usecols=[\"UTME\",\"UTMN\",\"LAT\",\"LONG\",\"KC\",\"UC\",\"THC\",\"CTC\",\"MAGR\",\"ALTE\",\"MAGC\",\"ALTB\"]\n",
    "      \n",
    "geof_1039 = pd.read_csv(gdb('xyz/spaulo_rjaneiro_sp.xyz'),\n",
    "                         names=cols_1039,\n",
    "                         delim_whitespace=True,\n",
    "                         usecols=usecols,\n",
    "                         skiprows=6,\n",
    "                         encoding='latin-1') # foi adicionado um novo tipo de econding diferente de UTF-8"
   ]
  },
  {
   "cell_type": "code",
   "execution_count": null,
   "metadata": {},
   "outputs": [],
   "source": [
    "geof_1039.head(10)"
   ]
  },
  {
   "cell_type": "code",
   "execution_count": null,
   "metadata": {},
   "outputs": [],
   "source": [
    "geof_1039.isnull().sum()"
   ]
  },
  {
   "cell_type": "code",
   "execution_count": null,
   "metadata": {},
   "outputs": [],
   "source": [
    "geof_1039.dropna(inplace=True)\n",
    "geof_1039.isnull().sum()"
   ]
  },
  {
   "cell_type": "code",
   "execution_count": null,
   "metadata": {},
   "outputs": [],
   "source": [
    "geof_1039.rename(columns=\\\n",
    "                {'UTMN':'Y',\n",
    "                 'UTME':'X',\n",
    "                 'LONG':'LONGITUDE',\n",
    "                 'LAT':'LATITUDE'},inplace=True)"
   ]
  },
  {
   "cell_type": "code",
   "execution_count": null,
   "metadata": {},
   "outputs": [],
   "source": [
    "geof_1039"
   ]
  },
  {
   "cell_type": "code",
   "execution_count": null,
   "metadata": {},
   "outputs": [],
   "source": [
    "gama_1039 = geof_1039[['THC','UC','KC','CTC','X','Y','LONGITUDE','LATITUDE']]"
   ]
  },
  {
   "cell_type": "code",
   "execution_count": null,
   "metadata": {},
   "outputs": [],
   "source": [
    "mag_1039 = geof_1039[['ALTE','MAGR','X','Y','LONGITUDE','LATITUDE']]\n",
    "mag_1039"
   ]
  },
  {
   "cell_type": "code",
   "execution_count": null,
   "metadata": {},
   "outputs": [],
   "source": [
    "gama_1039.to_csv('/home/ggrl/database/geof/gama_1039',index=False)\n",
    "mag_1039.to_csv('/home/ggrl/database/geof/mag_1039',index=False)"
   ]
  },
  {
   "cell_type": "code",
   "execution_count": null,
   "metadata": {},
   "outputs": [],
   "source": [
    "geof_1039"
   ]
  },
  {
   "cell_type": "code",
   "execution_count": null,
   "metadata": {},
   "outputs": [],
   "source": [
    "geof_1039.to_csv(gdb('geof/geof_1039'),index=False)"
   ]
  },
  {
   "cell_type": "markdown",
   "metadata": {},
   "source": [
    "# Levantamento 1089"
   ]
  },
  {
   "cell_type": "markdown",
   "metadata": {},
   "source": [
    "### Colunas descritas nos dados brutos"
   ]
  },
  {
   "cell_type": "code",
   "execution_count": 4,
   "metadata": {},
   "outputs": [],
   "source": [
    "gama_1089_cols = 'X Y FIDUCIAL GPSALT BARO ALTURA MDT CTB KB UB THB UPU LIVE_TIME COS TEMP KPERC eU eth CTEXP CTCOR UCOR THCOR KCOR THKRAZAO UKRAZAO UTHRAZAO LONGITUDE LATITUDE DATA HORA'.split(\" \")\n",
    "\n",
    "mag_1089_cols = 'X Y FIDUCIAL GPSALT BARO ALTURA MDT MAGBASE MAGBRU MAGCOM MAGCOR MAGNIV MAGMIC MAGIGRF IGRF LONGITUDE LATITUDE DATA HORA'.split(\" \")"
   ]
  },
  {
   "cell_type": "code",
   "execution_count": 3,
   "metadata": {},
   "outputs": [],
   "source": [
    "test = pd.read_csv(gdb('xyz/1089_GamaLine.XYZ'))"
   ]
  },
  {
   "cell_type": "code",
   "execution_count": 4,
   "metadata": {},
   "outputs": [
    {
     "name": "stdout",
     "output_type": "stream",
     "text": [
      "[['/ XYZ EXPORT [07/10/2009]']\n",
      " ['/ DATABASE   [.\\\\Disco\\\\GDB\\\\1089_GamaLine.gdb]']\n",
      " ['/ ------------------------------------------------------------------------------']\n",
      " ['/']\n",
      " ['/         X             Y   FIDUCIAL     GPSALT       BARO     ALTURA        MDT        CTB         KB         UB        THB        UPU  LIVE_TIME        COS       TEMP      KPERC         eU        eth      CTEXP      CTCOR       UCOR      THCOR       KCOR   THKRAZAO    UKRAZAO   UTHRAZAO    LONGITUDE     LATITUDE       DATA         HORA ']\n",
      " ['/========== ============= ========== ========== ========== ========== ========== ========== ========== ========== ========== ========== ========== ========== ========== ========== ========== ========== ========== ========== ========== ========== ========== ========== ========== ========== ============ ============ ========== ============ ']\n",
      " ['/']\n",
      " ['//Flight 10']\n",
      " ['//Date 2009/01/19']\n",
      " ['Line  10010']\n",
      " [' 472115.74    8754877.13    1995.00     871.62     857.40      89.19     776.89     936.00      45.00      39.00      51.00       5.00     925.00     223.00      26.00       0.05       1.04       7.43       2.89     571.35      11.56      32.69       3.14   159.5634    22.3105     0.1398 -45.25547662 -11.26346127 2009/01/16  11:53:31.00 ']\n",
      " [' 472115.90    8754953.80    1996.00     872.40     858.34      92.65     775.02     941.00      65.00      41.00      35.00       4.00     930.00     198.00      26.00       0.10       1.08       7.53       3.01     596.58      11.94      33.13       6.52    76.7952    11.0589     0.1440 -45.25547457 -11.26276792 2009/01/16  11:53:32.00 ']\n",
      " [' 472116.15    8755030.53    1997.00     872.55     858.34      95.12     773.50     940.00      66.00      37.00      49.00       2.00     928.00     187.00      26.00       0.13       1.18       7.75       3.19     631.86      13.10      34.11       8.54    61.2704     9.3150     0.1520 -45.25547170 -11.26207403 2009/01/16  11:53:33.00 ']\n",
      " [' 472116.27    8755107.38    1998.00     871.88     858.34      97.11     771.65     914.00      59.00      45.00      43.00       3.00     932.00     230.00      26.00       0.12       1.16       8.06       3.25     643.86      12.87      35.46       7.94    67.8138     9.8877     0.1458 -45.25546993 -11.26137895 2009/01/16  11:53:34.00 ']\n",
      " [' 472115.89    8755184.41    1999.00     870.98     856.46      98.98     769.55     980.00      61.00      44.00      48.00       1.00     930.00     204.00      26.00       0.12       1.08       9.44       3.59     710.77      11.94      41.54       7.76    80.5041     9.1303     0.1134 -45.25547288 -11.26068238 2009/01/16  11:53:35.00 ']]\n"
     ]
    }
   ],
   "source": [
    "print(test[0:15].values)"
   ]
  },
  {
   "cell_type": "code",
   "execution_count": 5,
   "metadata": {},
   "outputs": [
    {
     "name": "stdout",
     "output_type": "stream",
     "text": [
      "[['/         X             Y   FIDUCIAL     GPSALT       BARO     ALTURA        MDT        CTB         KB         UB        THB        UPU  LIVE_TIME        COS       TEMP      KPERC         eU        eth      CTEXP      CTCOR       UCOR      THCOR       KCOR   THKRAZAO    UKRAZAO   UTHRAZAO    LONGITUDE     LATITUDE       DATA         HORA ']]\n"
     ]
    }
   ],
   "source": [
    "print(test[4:5].values)\n",
    "gama_1089_cols= 'X Y FIDUCIAL GPSALT BARO ALTURA MDT CTB KB UB THB UPU LIVE_TIME COS TEMP KPERC eU eTh CTEXP CTCOR UCOR THCOR KCOR THKRAZAO UKRAZAO UTHRAZAO LONGITUDE LATITUDE DATA HORA'.split(\" \")\n"
   ]
  },
  {
   "cell_type": "code",
   "execution_count": 6,
   "metadata": {},
   "outputs": [
    {
     "name": "stderr",
     "output_type": "stream",
     "text": [
      "/tmp/ipykernel_13794/1064744998.py:1: DtypeWarning: Columns (1) have mixed types. Specify dtype option on import or set low_memory=False.\n",
      "  gama_line_1089 = pd.read_csv(gdb('xyz/1089_GamaLine.XYZ'),\n"
     ]
    }
   ],
   "source": [
    "gama_line_1089 = pd.read_csv(gdb('xyz/1089_GamaLine.XYZ'),\n",
    "                         names=gama_1089_cols,\n",
    "                         delim_whitespace=True,\n",
    "                         skiprows=10,\n",
    "                         usecols=[\"X\",\"Y\",\"LATITUDE\",\"LONGITUDE\",\n",
    "                                  \"KPERC\",\"eU\",\"eTh\",\"CTCOR\",\n",
    "                                  \"THKRAZAO\",\"UKRAZAO\",\"UTHRAZAO\",\n",
    "                                  \"MDT\"],\n",
    "                         na_values=('*'))"
   ]
  },
  {
   "cell_type": "code",
   "execution_count": 7,
   "metadata": {},
   "outputs": [
    {
     "data": {
      "text/html": [
       "<div>\n",
       "<style scoped>\n",
       "    .dataframe tbody tr th:only-of-type {\n",
       "        vertical-align: middle;\n",
       "    }\n",
       "\n",
       "    .dataframe tbody tr th {\n",
       "        vertical-align: top;\n",
       "    }\n",
       "\n",
       "    .dataframe thead th {\n",
       "        text-align: right;\n",
       "    }\n",
       "</style>\n",
       "<table border=\"1\" class=\"dataframe\">\n",
       "  <thead>\n",
       "    <tr style=\"text-align: right;\">\n",
       "      <th></th>\n",
       "      <th>X</th>\n",
       "      <th>Y</th>\n",
       "      <th>MDT</th>\n",
       "      <th>KPERC</th>\n",
       "      <th>eU</th>\n",
       "      <th>eTh</th>\n",
       "      <th>CTCOR</th>\n",
       "      <th>THKRAZAO</th>\n",
       "      <th>UKRAZAO</th>\n",
       "      <th>UTHRAZAO</th>\n",
       "      <th>LONGITUDE</th>\n",
       "      <th>LATITUDE</th>\n",
       "    </tr>\n",
       "  </thead>\n",
       "  <tbody>\n",
       "    <tr>\n",
       "      <th>0</th>\n",
       "      <td>Line</td>\n",
       "      <td>10010</td>\n",
       "      <td>NaN</td>\n",
       "      <td>NaN</td>\n",
       "      <td>NaN</td>\n",
       "      <td>NaN</td>\n",
       "      <td>NaN</td>\n",
       "      <td>NaN</td>\n",
       "      <td>NaN</td>\n",
       "      <td>NaN</td>\n",
       "      <td>NaN</td>\n",
       "      <td>NaN</td>\n",
       "    </tr>\n",
       "    <tr>\n",
       "      <th>1</th>\n",
       "      <td>472115.74</td>\n",
       "      <td>8754877.13</td>\n",
       "      <td>776.89</td>\n",
       "      <td>0.05</td>\n",
       "      <td>1.04</td>\n",
       "      <td>7.43</td>\n",
       "      <td>571.35</td>\n",
       "      <td>159.5634</td>\n",
       "      <td>22.3105</td>\n",
       "      <td>0.1398</td>\n",
       "      <td>-45.255477</td>\n",
       "      <td>-11.263461</td>\n",
       "    </tr>\n",
       "    <tr>\n",
       "      <th>2</th>\n",
       "      <td>472115.90</td>\n",
       "      <td>8754953.80</td>\n",
       "      <td>775.02</td>\n",
       "      <td>0.10</td>\n",
       "      <td>1.08</td>\n",
       "      <td>7.53</td>\n",
       "      <td>596.58</td>\n",
       "      <td>76.7952</td>\n",
       "      <td>11.0589</td>\n",
       "      <td>0.1440</td>\n",
       "      <td>-45.255475</td>\n",
       "      <td>-11.262768</td>\n",
       "    </tr>\n",
       "    <tr>\n",
       "      <th>3</th>\n",
       "      <td>472116.15</td>\n",
       "      <td>8755030.53</td>\n",
       "      <td>773.50</td>\n",
       "      <td>0.13</td>\n",
       "      <td>1.18</td>\n",
       "      <td>7.75</td>\n",
       "      <td>631.86</td>\n",
       "      <td>61.2704</td>\n",
       "      <td>9.3150</td>\n",
       "      <td>0.1520</td>\n",
       "      <td>-45.255472</td>\n",
       "      <td>-11.262074</td>\n",
       "    </tr>\n",
       "    <tr>\n",
       "      <th>4</th>\n",
       "      <td>472116.27</td>\n",
       "      <td>8755107.38</td>\n",
       "      <td>771.65</td>\n",
       "      <td>0.12</td>\n",
       "      <td>1.16</td>\n",
       "      <td>8.06</td>\n",
       "      <td>643.86</td>\n",
       "      <td>67.8138</td>\n",
       "      <td>9.8877</td>\n",
       "      <td>0.1458</td>\n",
       "      <td>-45.255470</td>\n",
       "      <td>-11.261379</td>\n",
       "    </tr>\n",
       "    <tr>\n",
       "      <th>...</th>\n",
       "      <td>...</td>\n",
       "      <td>...</td>\n",
       "      <td>...</td>\n",
       "      <td>...</td>\n",
       "      <td>...</td>\n",
       "      <td>...</td>\n",
       "      <td>...</td>\n",
       "      <td>...</td>\n",
       "      <td>...</td>\n",
       "      <td>...</td>\n",
       "      <td>...</td>\n",
       "      <td>...</td>\n",
       "    </tr>\n",
       "    <tr>\n",
       "      <th>635759</th>\n",
       "      <td>665126.58</td>\n",
       "      <td>8782417.52</td>\n",
       "      <td>422.06</td>\n",
       "      <td>0.29</td>\n",
       "      <td>0.59</td>\n",
       "      <td>7.02</td>\n",
       "      <td>562.15</td>\n",
       "      <td>23.8827</td>\n",
       "      <td>1.9898</td>\n",
       "      <td>0.0833</td>\n",
       "      <td>-43.488568</td>\n",
       "      <td>-11.010735</td>\n",
       "    </tr>\n",
       "    <tr>\n",
       "      <th>635760</th>\n",
       "      <td>665130.89</td>\n",
       "      <td>8782340.24</td>\n",
       "      <td>422.94</td>\n",
       "      <td>0.33</td>\n",
       "      <td>0.61</td>\n",
       "      <td>7.26</td>\n",
       "      <td>588.93</td>\n",
       "      <td>22.3755</td>\n",
       "      <td>1.9209</td>\n",
       "      <td>0.0858</td>\n",
       "      <td>-43.488525</td>\n",
       "      <td>-11.011434</td>\n",
       "    </tr>\n",
       "    <tr>\n",
       "      <th>635761</th>\n",
       "      <td>665135.62</td>\n",
       "      <td>8782262.93</td>\n",
       "      <td>423.37</td>\n",
       "      <td>0.36</td>\n",
       "      <td>0.66</td>\n",
       "      <td>7.69</td>\n",
       "      <td>630.33</td>\n",
       "      <td>21.1524</td>\n",
       "      <td>1.7839</td>\n",
       "      <td>0.0843</td>\n",
       "      <td>-43.488478</td>\n",
       "      <td>-11.012132</td>\n",
       "    </tr>\n",
       "    <tr>\n",
       "      <th>635762</th>\n",
       "      <td>665140.29</td>\n",
       "      <td>8782185.57</td>\n",
       "      <td>422.44</td>\n",
       "      <td>0.40</td>\n",
       "      <td>0.48</td>\n",
       "      <td>7.39</td>\n",
       "      <td>599.77</td>\n",
       "      <td>18.7542</td>\n",
       "      <td>1.2390</td>\n",
       "      <td>0.0661</td>\n",
       "      <td>-43.488431</td>\n",
       "      <td>-11.012832</td>\n",
       "    </tr>\n",
       "    <tr>\n",
       "      <th>635763</th>\n",
       "      <td>665143.98</td>\n",
       "      <td>8782108.02</td>\n",
       "      <td>423.89</td>\n",
       "      <td>0.45</td>\n",
       "      <td>0.30</td>\n",
       "      <td>7.40</td>\n",
       "      <td>594.58</td>\n",
       "      <td>16.2804</td>\n",
       "      <td>0.6390</td>\n",
       "      <td>0.0393</td>\n",
       "      <td>-43.488394</td>\n",
       "      <td>-11.013533</td>\n",
       "    </tr>\n",
       "  </tbody>\n",
       "</table>\n",
       "<p>635764 rows × 12 columns</p>\n",
       "</div>"
      ],
      "text/plain": [
       "                X           Y     MDT  KPERC    eU   eTh   CTCOR  THKRAZAO  \\\n",
       "0            Line       10010     NaN    NaN   NaN   NaN     NaN       NaN   \n",
       "1       472115.74  8754877.13  776.89   0.05  1.04  7.43  571.35  159.5634   \n",
       "2       472115.90  8754953.80  775.02   0.10  1.08  7.53  596.58   76.7952   \n",
       "3       472116.15  8755030.53  773.50   0.13  1.18  7.75  631.86   61.2704   \n",
       "4       472116.27  8755107.38  771.65   0.12  1.16  8.06  643.86   67.8138   \n",
       "...           ...         ...     ...    ...   ...   ...     ...       ...   \n",
       "635759  665126.58  8782417.52  422.06   0.29  0.59  7.02  562.15   23.8827   \n",
       "635760  665130.89  8782340.24  422.94   0.33  0.61  7.26  588.93   22.3755   \n",
       "635761  665135.62  8782262.93  423.37   0.36  0.66  7.69  630.33   21.1524   \n",
       "635762  665140.29  8782185.57  422.44   0.40  0.48  7.39  599.77   18.7542   \n",
       "635763  665143.98  8782108.02  423.89   0.45  0.30  7.40  594.58   16.2804   \n",
       "\n",
       "        UKRAZAO  UTHRAZAO  LONGITUDE   LATITUDE  \n",
       "0           NaN       NaN        NaN        NaN  \n",
       "1       22.3105    0.1398 -45.255477 -11.263461  \n",
       "2       11.0589    0.1440 -45.255475 -11.262768  \n",
       "3        9.3150    0.1520 -45.255472 -11.262074  \n",
       "4        9.8877    0.1458 -45.255470 -11.261379  \n",
       "...         ...       ...        ...        ...  \n",
       "635759   1.9898    0.0833 -43.488568 -11.010735  \n",
       "635760   1.9209    0.0858 -43.488525 -11.011434  \n",
       "635761   1.7839    0.0843 -43.488478 -11.012132  \n",
       "635762   1.2390    0.0661 -43.488431 -11.012832  \n",
       "635763   0.6390    0.0393 -43.488394 -11.013533  \n",
       "\n",
       "[635764 rows x 12 columns]"
      ]
     },
     "execution_count": 7,
     "metadata": {},
     "output_type": "execute_result"
    }
   ],
   "source": [
    "gama_line_1089"
   ]
  },
  {
   "cell_type": "code",
   "execution_count": 8,
   "metadata": {},
   "outputs": [],
   "source": [
    "gama_line_1089.dropna(inplace=True)"
   ]
  },
  {
   "cell_type": "code",
   "execution_count": 9,
   "metadata": {},
   "outputs": [
    {
     "data": {
      "text/html": [
       "<div>\n",
       "<style scoped>\n",
       "    .dataframe tbody tr th:only-of-type {\n",
       "        vertical-align: middle;\n",
       "    }\n",
       "\n",
       "    .dataframe tbody tr th {\n",
       "        vertical-align: top;\n",
       "    }\n",
       "\n",
       "    .dataframe thead th {\n",
       "        text-align: right;\n",
       "    }\n",
       "</style>\n",
       "<table border=\"1\" class=\"dataframe\">\n",
       "  <thead>\n",
       "    <tr style=\"text-align: right;\">\n",
       "      <th></th>\n",
       "      <th>X</th>\n",
       "      <th>Y</th>\n",
       "      <th>MDT</th>\n",
       "      <th>KPERC</th>\n",
       "      <th>eU</th>\n",
       "      <th>eTh</th>\n",
       "      <th>CTCOR</th>\n",
       "      <th>THKRAZAO</th>\n",
       "      <th>UKRAZAO</th>\n",
       "      <th>UTHRAZAO</th>\n",
       "      <th>LONGITUDE</th>\n",
       "      <th>LATITUDE</th>\n",
       "    </tr>\n",
       "  </thead>\n",
       "  <tbody>\n",
       "    <tr>\n",
       "      <th>1</th>\n",
       "      <td>472115.74</td>\n",
       "      <td>8754877.13</td>\n",
       "      <td>776.89</td>\n",
       "      <td>0.05</td>\n",
       "      <td>1.04</td>\n",
       "      <td>7.43</td>\n",
       "      <td>571.35</td>\n",
       "      <td>159.5634</td>\n",
       "      <td>22.3105</td>\n",
       "      <td>0.1398</td>\n",
       "      <td>-45.255477</td>\n",
       "      <td>-11.263461</td>\n",
       "    </tr>\n",
       "    <tr>\n",
       "      <th>2</th>\n",
       "      <td>472115.90</td>\n",
       "      <td>8754953.80</td>\n",
       "      <td>775.02</td>\n",
       "      <td>0.10</td>\n",
       "      <td>1.08</td>\n",
       "      <td>7.53</td>\n",
       "      <td>596.58</td>\n",
       "      <td>76.7952</td>\n",
       "      <td>11.0589</td>\n",
       "      <td>0.1440</td>\n",
       "      <td>-45.255475</td>\n",
       "      <td>-11.262768</td>\n",
       "    </tr>\n",
       "    <tr>\n",
       "      <th>3</th>\n",
       "      <td>472116.15</td>\n",
       "      <td>8755030.53</td>\n",
       "      <td>773.50</td>\n",
       "      <td>0.13</td>\n",
       "      <td>1.18</td>\n",
       "      <td>7.75</td>\n",
       "      <td>631.86</td>\n",
       "      <td>61.2704</td>\n",
       "      <td>9.3150</td>\n",
       "      <td>0.1520</td>\n",
       "      <td>-45.255472</td>\n",
       "      <td>-11.262074</td>\n",
       "    </tr>\n",
       "    <tr>\n",
       "      <th>4</th>\n",
       "      <td>472116.27</td>\n",
       "      <td>8755107.38</td>\n",
       "      <td>771.65</td>\n",
       "      <td>0.12</td>\n",
       "      <td>1.16</td>\n",
       "      <td>8.06</td>\n",
       "      <td>643.86</td>\n",
       "      <td>67.8138</td>\n",
       "      <td>9.8877</td>\n",
       "      <td>0.1458</td>\n",
       "      <td>-45.255470</td>\n",
       "      <td>-11.261379</td>\n",
       "    </tr>\n",
       "    <tr>\n",
       "      <th>5</th>\n",
       "      <td>472115.89</td>\n",
       "      <td>8755184.41</td>\n",
       "      <td>769.55</td>\n",
       "      <td>0.12</td>\n",
       "      <td>1.08</td>\n",
       "      <td>9.44</td>\n",
       "      <td>710.77</td>\n",
       "      <td>80.5041</td>\n",
       "      <td>9.1303</td>\n",
       "      <td>0.1134</td>\n",
       "      <td>-45.255473</td>\n",
       "      <td>-11.260682</td>\n",
       "    </tr>\n",
       "    <tr>\n",
       "      <th>...</th>\n",
       "      <td>...</td>\n",
       "      <td>...</td>\n",
       "      <td>...</td>\n",
       "      <td>...</td>\n",
       "      <td>...</td>\n",
       "      <td>...</td>\n",
       "      <td>...</td>\n",
       "      <td>...</td>\n",
       "      <td>...</td>\n",
       "      <td>...</td>\n",
       "      <td>...</td>\n",
       "      <td>...</td>\n",
       "    </tr>\n",
       "    <tr>\n",
       "      <th>635759</th>\n",
       "      <td>665126.58</td>\n",
       "      <td>8782417.52</td>\n",
       "      <td>422.06</td>\n",
       "      <td>0.29</td>\n",
       "      <td>0.59</td>\n",
       "      <td>7.02</td>\n",
       "      <td>562.15</td>\n",
       "      <td>23.8827</td>\n",
       "      <td>1.9898</td>\n",
       "      <td>0.0833</td>\n",
       "      <td>-43.488568</td>\n",
       "      <td>-11.010735</td>\n",
       "    </tr>\n",
       "    <tr>\n",
       "      <th>635760</th>\n",
       "      <td>665130.89</td>\n",
       "      <td>8782340.24</td>\n",
       "      <td>422.94</td>\n",
       "      <td>0.33</td>\n",
       "      <td>0.61</td>\n",
       "      <td>7.26</td>\n",
       "      <td>588.93</td>\n",
       "      <td>22.3755</td>\n",
       "      <td>1.9209</td>\n",
       "      <td>0.0858</td>\n",
       "      <td>-43.488525</td>\n",
       "      <td>-11.011434</td>\n",
       "    </tr>\n",
       "    <tr>\n",
       "      <th>635761</th>\n",
       "      <td>665135.62</td>\n",
       "      <td>8782262.93</td>\n",
       "      <td>423.37</td>\n",
       "      <td>0.36</td>\n",
       "      <td>0.66</td>\n",
       "      <td>7.69</td>\n",
       "      <td>630.33</td>\n",
       "      <td>21.1524</td>\n",
       "      <td>1.7839</td>\n",
       "      <td>0.0843</td>\n",
       "      <td>-43.488478</td>\n",
       "      <td>-11.012132</td>\n",
       "    </tr>\n",
       "    <tr>\n",
       "      <th>635762</th>\n",
       "      <td>665140.29</td>\n",
       "      <td>8782185.57</td>\n",
       "      <td>422.44</td>\n",
       "      <td>0.40</td>\n",
       "      <td>0.48</td>\n",
       "      <td>7.39</td>\n",
       "      <td>599.77</td>\n",
       "      <td>18.7542</td>\n",
       "      <td>1.2390</td>\n",
       "      <td>0.0661</td>\n",
       "      <td>-43.488431</td>\n",
       "      <td>-11.012832</td>\n",
       "    </tr>\n",
       "    <tr>\n",
       "      <th>635763</th>\n",
       "      <td>665143.98</td>\n",
       "      <td>8782108.02</td>\n",
       "      <td>423.89</td>\n",
       "      <td>0.45</td>\n",
       "      <td>0.30</td>\n",
       "      <td>7.40</td>\n",
       "      <td>594.58</td>\n",
       "      <td>16.2804</td>\n",
       "      <td>0.6390</td>\n",
       "      <td>0.0393</td>\n",
       "      <td>-43.488394</td>\n",
       "      <td>-11.013533</td>\n",
       "    </tr>\n",
       "  </tbody>\n",
       "</table>\n",
       "<p>635173 rows × 12 columns</p>\n",
       "</div>"
      ],
      "text/plain": [
       "                X           Y     MDT  KPERC    eU   eTh   CTCOR  THKRAZAO  \\\n",
       "1       472115.74  8754877.13  776.89   0.05  1.04  7.43  571.35  159.5634   \n",
       "2       472115.90  8754953.80  775.02   0.10  1.08  7.53  596.58   76.7952   \n",
       "3       472116.15  8755030.53  773.50   0.13  1.18  7.75  631.86   61.2704   \n",
       "4       472116.27  8755107.38  771.65   0.12  1.16  8.06  643.86   67.8138   \n",
       "5       472115.89  8755184.41  769.55   0.12  1.08  9.44  710.77   80.5041   \n",
       "...           ...         ...     ...    ...   ...   ...     ...       ...   \n",
       "635759  665126.58  8782417.52  422.06   0.29  0.59  7.02  562.15   23.8827   \n",
       "635760  665130.89  8782340.24  422.94   0.33  0.61  7.26  588.93   22.3755   \n",
       "635761  665135.62  8782262.93  423.37   0.36  0.66  7.69  630.33   21.1524   \n",
       "635762  665140.29  8782185.57  422.44   0.40  0.48  7.39  599.77   18.7542   \n",
       "635763  665143.98  8782108.02  423.89   0.45  0.30  7.40  594.58   16.2804   \n",
       "\n",
       "        UKRAZAO  UTHRAZAO  LONGITUDE   LATITUDE  \n",
       "1       22.3105    0.1398 -45.255477 -11.263461  \n",
       "2       11.0589    0.1440 -45.255475 -11.262768  \n",
       "3        9.3150    0.1520 -45.255472 -11.262074  \n",
       "4        9.8877    0.1458 -45.255470 -11.261379  \n",
       "5        9.1303    0.1134 -45.255473 -11.260682  \n",
       "...         ...       ...        ...        ...  \n",
       "635759   1.9898    0.0833 -43.488568 -11.010735  \n",
       "635760   1.9209    0.0858 -43.488525 -11.011434  \n",
       "635761   1.7839    0.0843 -43.488478 -11.012132  \n",
       "635762   1.2390    0.0661 -43.488431 -11.012832  \n",
       "635763   0.6390    0.0393 -43.488394 -11.013533  \n",
       "\n",
       "[635173 rows x 12 columns]"
      ]
     },
     "execution_count": 9,
     "metadata": {},
     "output_type": "execute_result"
    }
   ],
   "source": [
    "gama_line_1089"
   ]
  },
  {
   "cell_type": "code",
   "execution_count": 10,
   "metadata": {},
   "outputs": [
    {
     "name": "stdout",
     "output_type": "stream",
     "text": [
      "<class 'pandas.core.frame.DataFrame'>\n",
      "Int64Index: 635173 entries, 1 to 635763\n",
      "Data columns (total 12 columns):\n",
      " #   Column     Non-Null Count   Dtype  \n",
      "---  ------     --------------   -----  \n",
      " 0   X          635173 non-null  object \n",
      " 1   Y          635173 non-null  object \n",
      " 2   MDT        635173 non-null  float64\n",
      " 3   KPERC      635173 non-null  float64\n",
      " 4   eU         635173 non-null  float64\n",
      " 5   eTh        635173 non-null  float64\n",
      " 6   CTCOR      635173 non-null  float64\n",
      " 7   THKRAZAO   635173 non-null  float64\n",
      " 8   UKRAZAO    635173 non-null  float64\n",
      " 9   UTHRAZAO   635173 non-null  float64\n",
      " 10  LONGITUDE  635173 non-null  float64\n",
      " 11  LATITUDE   635173 non-null  float64\n",
      "dtypes: float64(10), object(2)\n",
      "memory usage: 63.0+ MB\n"
     ]
    }
   ],
   "source": [
    "gama_line_1089.info()"
   ]
  },
  {
   "cell_type": "code",
   "execution_count": 16,
   "metadata": {},
   "outputs": [
    {
     "name": "stdout",
     "output_type": "stream",
     "text": [
      "Listando atributos dos dados geofisicos\n"
     ]
    },
    {
     "name": "stderr",
     "output_type": "stream",
     "text": [
      "100%|██████████| 12/12 [00:00<00:00, 222706.41it/s]"
     ]
    },
    {
     "name": "stdout",
     "output_type": "stream",
     "text": [
      "# --- # Listagem de dados do aerolevantamento:  \n",
      "Lista de atributos geofísicos = ['MDT', 'KPERC', 'eU', 'eTh', 'CTCOR', 'THKRAZAO', 'UKRAZAO', 'UTHRAZAO']\n",
      "lista de atributos geograficos = ['LONGITUDE', 'LATITUDE']\n",
      "lista de atributos projetados = ['X', 'Y']\n"
     ]
    },
    {
     "name": "stderr",
     "output_type": "stream",
     "text": [
      "\n"
     ]
    }
   ],
   "source": [
    "from src.funcs_descricao import descricao\n",
    "a,b,c,d,e = descricao(gama_line_1089)"
   ]
  },
  {
   "cell_type": "code",
   "execution_count": 23,
   "metadata": {},
   "outputs": [
    {
     "data": {
      "text/html": [
       "<div>\n",
       "<style scoped>\n",
       "    .dataframe tbody tr th:only-of-type {\n",
       "        vertical-align: middle;\n",
       "    }\n",
       "\n",
       "    .dataframe tbody tr th {\n",
       "        vertical-align: top;\n",
       "    }\n",
       "\n",
       "    .dataframe thead th {\n",
       "        text-align: right;\n",
       "    }\n",
       "</style>\n",
       "<table border=\"1\" class=\"dataframe\">\n",
       "  <thead>\n",
       "    <tr style=\"text-align: right;\">\n",
       "      <th></th>\n",
       "      <th>count</th>\n",
       "      <th>mean</th>\n",
       "      <th>std</th>\n",
       "      <th>min</th>\n",
       "      <th>3%</th>\n",
       "      <th>50%</th>\n",
       "      <th>99.5%</th>\n",
       "      <th>max</th>\n",
       "    </tr>\n",
       "  </thead>\n",
       "  <tbody>\n",
       "    <tr>\n",
       "      <th>MDT</th>\n",
       "      <td>635173.0</td>\n",
       "      <td>508.893234</td>\n",
       "      <td>85.329898</td>\n",
       "      <td>290.640000</td>\n",
       "      <td>357.961600</td>\n",
       "      <td>501.300000</td>\n",
       "      <td>722.290000</td>\n",
       "      <td>795.550000</td>\n",
       "    </tr>\n",
       "    <tr>\n",
       "      <th>KPERC</th>\n",
       "      <td>635173.0</td>\n",
       "      <td>0.520116</td>\n",
       "      <td>0.545391</td>\n",
       "      <td>-0.410000</td>\n",
       "      <td>-0.010000</td>\n",
       "      <td>0.350000</td>\n",
       "      <td>2.990000</td>\n",
       "      <td>6.520000</td>\n",
       "    </tr>\n",
       "    <tr>\n",
       "      <th>eU</th>\n",
       "      <td>635173.0</td>\n",
       "      <td>1.107293</td>\n",
       "      <td>0.683094</td>\n",
       "      <td>-1.640000</td>\n",
       "      <td>0.160000</td>\n",
       "      <td>1.000000</td>\n",
       "      <td>3.880000</td>\n",
       "      <td>25.500000</td>\n",
       "    </tr>\n",
       "    <tr>\n",
       "      <th>eTh</th>\n",
       "      <td>635173.0</td>\n",
       "      <td>9.470464</td>\n",
       "      <td>5.405466</td>\n",
       "      <td>-0.560000</td>\n",
       "      <td>2.250000</td>\n",
       "      <td>8.400000</td>\n",
       "      <td>29.290000</td>\n",
       "      <td>70.130000</td>\n",
       "    </tr>\n",
       "    <tr>\n",
       "      <th>CTCOR</th>\n",
       "      <td>635173.0</td>\n",
       "      <td>836.493968</td>\n",
       "      <td>450.466561</td>\n",
       "      <td>-86.650000</td>\n",
       "      <td>203.060000</td>\n",
       "      <td>754.030000</td>\n",
       "      <td>2424.664200</td>\n",
       "      <td>5958.820000</td>\n",
       "    </tr>\n",
       "    <tr>\n",
       "      <th>THKRAZAO</th>\n",
       "      <td>635173.0</td>\n",
       "      <td>52.609745</td>\n",
       "      <td>92.576155</td>\n",
       "      <td>0.453200</td>\n",
       "      <td>4.806900</td>\n",
       "      <td>24.052000</td>\n",
       "      <td>658.665466</td>\n",
       "      <td>1892.694000</td>\n",
       "    </tr>\n",
       "    <tr>\n",
       "      <th>UKRAZAO</th>\n",
       "      <td>635173.0</td>\n",
       "      <td>6.368725</td>\n",
       "      <td>10.713721</td>\n",
       "      <td>0.011800</td>\n",
       "      <td>0.367200</td>\n",
       "      <td>2.783600</td>\n",
       "      <td>69.429660</td>\n",
       "      <td>217.339100</td>\n",
       "    </tr>\n",
       "    <tr>\n",
       "      <th>UTHRAZAO</th>\n",
       "      <td>635173.0</td>\n",
       "      <td>0.129238</td>\n",
       "      <td>0.070951</td>\n",
       "      <td>0.002300</td>\n",
       "      <td>0.030700</td>\n",
       "      <td>0.118200</td>\n",
       "      <td>0.427100</td>\n",
       "      <td>1.843900</td>\n",
       "    </tr>\n",
       "    <tr>\n",
       "      <th>LONGITUDE</th>\n",
       "      <td>635173.0</td>\n",
       "      <td>-44.306222</td>\n",
       "      <td>0.515346</td>\n",
       "      <td>-45.255804</td>\n",
       "      <td>-45.196111</td>\n",
       "      <td>-44.263697</td>\n",
       "      <td>-43.497473</td>\n",
       "      <td>-43.488394</td>\n",
       "    </tr>\n",
       "    <tr>\n",
       "      <th>LATITUDE</th>\n",
       "      <td>635173.0</td>\n",
       "      <td>-10.485593</td>\n",
       "      <td>0.386353</td>\n",
       "      <td>-11.263667</td>\n",
       "      <td>-11.143310</td>\n",
       "      <td>-10.507605</td>\n",
       "      <td>-9.631656</td>\n",
       "      <td>-9.611454</td>\n",
       "    </tr>\n",
       "  </tbody>\n",
       "</table>\n",
       "</div>"
      ],
      "text/plain": [
       "              count        mean         std         min          3%  \\\n",
       "MDT        635173.0  508.893234   85.329898  290.640000  357.961600   \n",
       "KPERC      635173.0    0.520116    0.545391   -0.410000   -0.010000   \n",
       "eU         635173.0    1.107293    0.683094   -1.640000    0.160000   \n",
       "eTh        635173.0    9.470464    5.405466   -0.560000    2.250000   \n",
       "CTCOR      635173.0  836.493968  450.466561  -86.650000  203.060000   \n",
       "THKRAZAO   635173.0   52.609745   92.576155    0.453200    4.806900   \n",
       "UKRAZAO    635173.0    6.368725   10.713721    0.011800    0.367200   \n",
       "UTHRAZAO   635173.0    0.129238    0.070951    0.002300    0.030700   \n",
       "LONGITUDE  635173.0  -44.306222    0.515346  -45.255804  -45.196111   \n",
       "LATITUDE   635173.0  -10.485593    0.386353  -11.263667  -11.143310   \n",
       "\n",
       "                  50%        99.5%          max  \n",
       "MDT        501.300000   722.290000   795.550000  \n",
       "KPERC        0.350000     2.990000     6.520000  \n",
       "eU           1.000000     3.880000    25.500000  \n",
       "eTh          8.400000    29.290000    70.130000  \n",
       "CTCOR      754.030000  2424.664200  5958.820000  \n",
       "THKRAZAO    24.052000   658.665466  1892.694000  \n",
       "UKRAZAO      2.783600    69.429660   217.339100  \n",
       "UTHRAZAO     0.118200     0.427100     1.843900  \n",
       "LONGITUDE  -44.263697   -43.497473   -43.488394  \n",
       "LATITUDE   -10.507605    -9.631656    -9.611454  "
      ]
     },
     "execution_count": 23,
     "metadata": {},
     "output_type": "execute_result"
    }
   ],
   "source": [
    "gama_line_1089.describe(percentiles=[0.03,0.995]).Tdd"
   ]
  },
  {
   "cell_type": "code",
   "execution_count": 18,
   "metadata": {},
   "outputs": [
    {
     "data": {
      "text/html": [
       "<div>\n",
       "<style scoped>\n",
       "    .dataframe tbody tr th:only-of-type {\n",
       "        vertical-align: middle;\n",
       "    }\n",
       "\n",
       "    .dataframe tbody tr th {\n",
       "        vertical-align: top;\n",
       "    }\n",
       "\n",
       "    .dataframe thead th {\n",
       "        text-align: right;\n",
       "    }\n",
       "</style>\n",
       "<table border=\"1\" class=\"dataframe\">\n",
       "  <thead>\n",
       "    <tr style=\"text-align: right;\">\n",
       "      <th></th>\n",
       "      <th>count</th>\n",
       "      <th>mean</th>\n",
       "      <th>std</th>\n",
       "      <th>min</th>\n",
       "      <th>0.1%</th>\n",
       "      <th>10%</th>\n",
       "      <th>25%</th>\n",
       "      <th>50%</th>\n",
       "      <th>75%</th>\n",
       "      <th>99.5%</th>\n",
       "      <th>max</th>\n",
       "    </tr>\n",
       "  </thead>\n",
       "  <tbody>\n",
       "    <tr>\n",
       "      <th>MDT</th>\n",
       "      <td>635173.0</td>\n",
       "      <td>508.893234</td>\n",
       "      <td>85.329898</td>\n",
       "      <td>290.6400</td>\n",
       "      <td>312.140000</td>\n",
       "      <td>400.9600</td>\n",
       "      <td>450.5400</td>\n",
       "      <td>501.3000</td>\n",
       "      <td>564.3900</td>\n",
       "      <td>722.290000</td>\n",
       "      <td>795.5500</td>\n",
       "    </tr>\n",
       "    <tr>\n",
       "      <th>KPERC</th>\n",
       "      <td>635173.0</td>\n",
       "      <td>0.520116</td>\n",
       "      <td>0.545391</td>\n",
       "      <td>-0.4100</td>\n",
       "      <td>-0.120000</td>\n",
       "      <td>0.0500</td>\n",
       "      <td>0.1400</td>\n",
       "      <td>0.3500</td>\n",
       "      <td>0.7200</td>\n",
       "      <td>2.990000</td>\n",
       "      <td>6.5200</td>\n",
       "    </tr>\n",
       "    <tr>\n",
       "      <th>eU</th>\n",
       "      <td>635173.0</td>\n",
       "      <td>1.107293</td>\n",
       "      <td>0.683094</td>\n",
       "      <td>-1.6400</td>\n",
       "      <td>-0.290000</td>\n",
       "      <td>0.3800</td>\n",
       "      <td>0.6500</td>\n",
       "      <td>1.0000</td>\n",
       "      <td>1.4400</td>\n",
       "      <td>3.880000</td>\n",
       "      <td>25.5000</td>\n",
       "    </tr>\n",
       "    <tr>\n",
       "      <th>eTh</th>\n",
       "      <td>635173.0</td>\n",
       "      <td>9.470464</td>\n",
       "      <td>5.405466</td>\n",
       "      <td>-0.5600</td>\n",
       "      <td>0.600000</td>\n",
       "      <td>3.6200</td>\n",
       "      <td>5.7900</td>\n",
       "      <td>8.4000</td>\n",
       "      <td>11.9900</td>\n",
       "      <td>29.290000</td>\n",
       "      <td>70.1300</td>\n",
       "    </tr>\n",
       "    <tr>\n",
       "      <th>CTCOR</th>\n",
       "      <td>635173.0</td>\n",
       "      <td>836.493968</td>\n",
       "      <td>450.466561</td>\n",
       "      <td>-86.6500</td>\n",
       "      <td>72.351280</td>\n",
       "      <td>331.9800</td>\n",
       "      <td>513.8200</td>\n",
       "      <td>754.0300</td>\n",
       "      <td>1085.9200</td>\n",
       "      <td>2424.664200</td>\n",
       "      <td>5958.8200</td>\n",
       "    </tr>\n",
       "    <tr>\n",
       "      <th>THKRAZAO</th>\n",
       "      <td>635173.0</td>\n",
       "      <td>52.609745</td>\n",
       "      <td>92.576155</td>\n",
       "      <td>0.4532</td>\n",
       "      <td>1.701555</td>\n",
       "      <td>7.4646</td>\n",
       "      <td>12.3368</td>\n",
       "      <td>24.0520</td>\n",
       "      <td>51.7335</td>\n",
       "      <td>658.665466</td>\n",
       "      <td>1892.6940</td>\n",
       "    </tr>\n",
       "    <tr>\n",
       "      <th>UKRAZAO</th>\n",
       "      <td>635173.0</td>\n",
       "      <td>6.368725</td>\n",
       "      <td>10.713721</td>\n",
       "      <td>0.0118</td>\n",
       "      <td>0.045417</td>\n",
       "      <td>0.7330</td>\n",
       "      <td>1.3617</td>\n",
       "      <td>2.7836</td>\n",
       "      <td>6.1791</td>\n",
       "      <td>69.429660</td>\n",
       "      <td>217.3391</td>\n",
       "    </tr>\n",
       "    <tr>\n",
       "      <th>UTHRAZAO</th>\n",
       "      <td>635173.0</td>\n",
       "      <td>0.129238</td>\n",
       "      <td>0.070951</td>\n",
       "      <td>0.0023</td>\n",
       "      <td>0.005800</td>\n",
       "      <td>0.0583</td>\n",
       "      <td>0.0848</td>\n",
       "      <td>0.1182</td>\n",
       "      <td>0.1596</td>\n",
       "      <td>0.427100</td>\n",
       "      <td>1.8439</td>\n",
       "    </tr>\n",
       "  </tbody>\n",
       "</table>\n",
       "</div>"
      ],
      "text/plain": [
       "             count        mean         std       min        0.1%       10%  \\\n",
       "MDT       635173.0  508.893234   85.329898  290.6400  312.140000  400.9600   \n",
       "KPERC     635173.0    0.520116    0.545391   -0.4100   -0.120000    0.0500   \n",
       "eU        635173.0    1.107293    0.683094   -1.6400   -0.290000    0.3800   \n",
       "eTh       635173.0    9.470464    5.405466   -0.5600    0.600000    3.6200   \n",
       "CTCOR     635173.0  836.493968  450.466561  -86.6500   72.351280  331.9800   \n",
       "THKRAZAO  635173.0   52.609745   92.576155    0.4532    1.701555    7.4646   \n",
       "UKRAZAO   635173.0    6.368725   10.713721    0.0118    0.045417    0.7330   \n",
       "UTHRAZAO  635173.0    0.129238    0.070951    0.0023    0.005800    0.0583   \n",
       "\n",
       "               25%       50%        75%        99.5%        max  \n",
       "MDT       450.5400  501.3000   564.3900   722.290000   795.5500  \n",
       "KPERC       0.1400    0.3500     0.7200     2.990000     6.5200  \n",
       "eU          0.6500    1.0000     1.4400     3.880000    25.5000  \n",
       "eTh         5.7900    8.4000    11.9900    29.290000    70.1300  \n",
       "CTCOR     513.8200  754.0300  1085.9200  2424.664200  5958.8200  \n",
       "THKRAZAO   12.3368   24.0520    51.7335   658.665466  1892.6940  \n",
       "UKRAZAO     1.3617    2.7836     6.1791    69.429660   217.3391  \n",
       "UTHRAZAO    0.0848    0.1182     0.1596     0.427100     1.8439  "
      ]
     },
     "execution_count": 18,
     "metadata": {},
     "output_type": "execute_result"
    }
   ],
   "source": [
    "e.T"
   ]
  },
  {
   "cell_type": "code",
   "execution_count": 25,
   "metadata": {},
   "outputs": [],
   "source": [
    "#gama_1089.to_csv(gdb+'geof/gama_1089',index=False)\n",
    "gama_line_1089.to_csv(gdb()+'geof/gama_line_1089',index=False)"
   ]
  },
  {
   "cell_type": "code",
   "execution_count": 7,
   "metadata": {},
   "outputs": [
    {
     "name": "stderr",
     "output_type": "stream",
     "text": [
      "/tmp/ipykernel_16224/2982523452.py:1: DtypeWarning: Columns (1) have mixed types. Specify dtype option on import or set low_memory=False.\n",
      "  mLine_1089 = pd.read_csv(gdb()+'xyz/1089_MagLine.XYZ',\n"
     ]
    }
   ],
   "source": [
    "mLine_1089 = pd.read_csv(gdb()+'xyz/1089_MagLine.XYZ',\n",
    "                         names=mag_1089_cols,\n",
    "                         delim_whitespace=True,\n",
    "                         skiprows=11,\n",
    "                         usecols=[\"X\",\"Y\",\"LATITUDE\",\"LONGITUDE\",\n",
    "                                  \"MAGIGRF\",\"ALTURA\",\"MDT\"],\n",
    "                         na_values=('*'))"
   ]
  },
  {
   "cell_type": "code",
   "execution_count": null,
   "metadata": {},
   "outputs": [],
   "source": [
    "mTie_1089 = pd.read_csv(gdb+'xyz/1089_XYZ/XYZ/1089_MagTie.XYZ',\n",
    "                         names=mag_cols,\n",
    "                         delim_whitespace=True,\n",
    "                         skiprows=11,\n",
    "                         usecols=[\"X\",\"Y\",\"LATITUDE\",\"LONGITUDE\",\n",
    "                                  \"MAGIGRF\",\"ALTURA\",\"MDT\"],\n",
    "                         na_values=('*'))"
   ]
  },
  {
   "cell_type": "code",
   "execution_count": null,
   "metadata": {},
   "outputs": [],
   "source": [
    "#m_1089 = pd.concat([mTie_1089,mLine_1089], ignore_index=True)"
   ]
  },
  {
   "cell_type": "code",
   "execution_count": 8,
   "metadata": {},
   "outputs": [
    {
     "data": {
      "text/html": [
       "<div>\n",
       "<style scoped>\n",
       "    .dataframe tbody tr th:only-of-type {\n",
       "        vertical-align: middle;\n",
       "    }\n",
       "\n",
       "    .dataframe tbody tr th {\n",
       "        vertical-align: top;\n",
       "    }\n",
       "\n",
       "    .dataframe thead th {\n",
       "        text-align: right;\n",
       "    }\n",
       "</style>\n",
       "<table border=\"1\" class=\"dataframe\">\n",
       "  <thead>\n",
       "    <tr style=\"text-align: right;\">\n",
       "      <th></th>\n",
       "      <th>X</th>\n",
       "      <th>Y</th>\n",
       "      <th>ALTURA</th>\n",
       "      <th>MDT</th>\n",
       "      <th>MAGIGRF</th>\n",
       "      <th>LONGITUDE</th>\n",
       "      <th>LATITUDE</th>\n",
       "    </tr>\n",
       "  </thead>\n",
       "  <tbody>\n",
       "    <tr>\n",
       "      <th>0</th>\n",
       "      <td>472115.74</td>\n",
       "      <td>8754877.13</td>\n",
       "      <td>89.19</td>\n",
       "      <td>776.89</td>\n",
       "      <td>-42.072</td>\n",
       "      <td>-45.255477</td>\n",
       "      <td>-11.263461</td>\n",
       "    </tr>\n",
       "    <tr>\n",
       "      <th>1</th>\n",
       "      <td>472115.76</td>\n",
       "      <td>8754884.8</td>\n",
       "      <td>89.25</td>\n",
       "      <td>776.71</td>\n",
       "      <td>-42.247</td>\n",
       "      <td>-45.255476</td>\n",
       "      <td>-11.263392</td>\n",
       "    </tr>\n",
       "    <tr>\n",
       "      <th>2</th>\n",
       "      <td>472115.78</td>\n",
       "      <td>8754892.47</td>\n",
       "      <td>89.83</td>\n",
       "      <td>776.52</td>\n",
       "      <td>-42.419</td>\n",
       "      <td>-45.255476</td>\n",
       "      <td>-11.263323</td>\n",
       "    </tr>\n",
       "    <tr>\n",
       "      <th>3</th>\n",
       "      <td>472115.79</td>\n",
       "      <td>8754900.13</td>\n",
       "      <td>89.90</td>\n",
       "      <td>776.33</td>\n",
       "      <td>-42.590</td>\n",
       "      <td>-45.255476</td>\n",
       "      <td>-11.263253</td>\n",
       "    </tr>\n",
       "    <tr>\n",
       "      <th>4</th>\n",
       "      <td>472115.81</td>\n",
       "      <td>8754907.8</td>\n",
       "      <td>90.39</td>\n",
       "      <td>776.14</td>\n",
       "      <td>-42.763</td>\n",
       "      <td>-45.255476</td>\n",
       "      <td>-11.263184</td>\n",
       "    </tr>\n",
       "    <tr>\n",
       "      <th>...</th>\n",
       "      <td>...</td>\n",
       "      <td>...</td>\n",
       "      <td>...</td>\n",
       "      <td>...</td>\n",
       "      <td>...</td>\n",
       "      <td>...</td>\n",
       "      <td>...</td>\n",
       "    </tr>\n",
       "    <tr>\n",
       "      <th>6348595</th>\n",
       "      <td>665142.51</td>\n",
       "      <td>8782139.04</td>\n",
       "      <td>98.77</td>\n",
       "      <td>423.31</td>\n",
       "      <td>-15.709</td>\n",
       "      <td>-43.488409</td>\n",
       "      <td>-11.013252</td>\n",
       "    </tr>\n",
       "    <tr>\n",
       "      <th>6348596</th>\n",
       "      <td>665142.87</td>\n",
       "      <td>8782131.29</td>\n",
       "      <td>98.78</td>\n",
       "      <td>423.45</td>\n",
       "      <td>-15.599</td>\n",
       "      <td>-43.488405</td>\n",
       "      <td>-11.013322</td>\n",
       "    </tr>\n",
       "    <tr>\n",
       "      <th>6348597</th>\n",
       "      <td>665143.24</td>\n",
       "      <td>8782123.53</td>\n",
       "      <td>98.28</td>\n",
       "      <td>423.60</td>\n",
       "      <td>NaN</td>\n",
       "      <td>-43.488402</td>\n",
       "      <td>-11.013392</td>\n",
       "    </tr>\n",
       "    <tr>\n",
       "      <th>6348598</th>\n",
       "      <td>665143.61</td>\n",
       "      <td>8782115.78</td>\n",
       "      <td>97.86</td>\n",
       "      <td>423.74</td>\n",
       "      <td>NaN</td>\n",
       "      <td>-43.488398</td>\n",
       "      <td>-11.013462</td>\n",
       "    </tr>\n",
       "    <tr>\n",
       "      <th>6348599</th>\n",
       "      <td>665143.98</td>\n",
       "      <td>8782108.02</td>\n",
       "      <td>97.95</td>\n",
       "      <td>423.89</td>\n",
       "      <td>NaN</td>\n",
       "      <td>-43.488394</td>\n",
       "      <td>-11.013533</td>\n",
       "    </tr>\n",
       "  </tbody>\n",
       "</table>\n",
       "<p>6348600 rows × 7 columns</p>\n",
       "</div>"
      ],
      "text/plain": [
       "                 X           Y  ALTURA     MDT  MAGIGRF  LONGITUDE   LATITUDE\n",
       "0        472115.74  8754877.13   89.19  776.89  -42.072 -45.255477 -11.263461\n",
       "1        472115.76   8754884.8   89.25  776.71  -42.247 -45.255476 -11.263392\n",
       "2        472115.78  8754892.47   89.83  776.52  -42.419 -45.255476 -11.263323\n",
       "3        472115.79  8754900.13   89.90  776.33  -42.590 -45.255476 -11.263253\n",
       "4        472115.81   8754907.8   90.39  776.14  -42.763 -45.255476 -11.263184\n",
       "...            ...         ...     ...     ...      ...        ...        ...\n",
       "6348595  665142.51  8782139.04   98.77  423.31  -15.709 -43.488409 -11.013252\n",
       "6348596  665142.87  8782131.29   98.78  423.45  -15.599 -43.488405 -11.013322\n",
       "6348597  665143.24  8782123.53   98.28  423.60      NaN -43.488402 -11.013392\n",
       "6348598  665143.61  8782115.78   97.86  423.74      NaN -43.488398 -11.013462\n",
       "6348599  665143.98  8782108.02   97.95  423.89      NaN -43.488394 -11.013533\n",
       "\n",
       "[6348600 rows x 7 columns]"
      ]
     },
     "execution_count": 8,
     "metadata": {},
     "output_type": "execute_result"
    }
   ],
   "source": [
    "mLine_1089"
   ]
  },
  {
   "cell_type": "code",
   "execution_count": 9,
   "metadata": {},
   "outputs": [],
   "source": [
    "mag_1089 = mLine_1089.dropna()"
   ]
  },
  {
   "cell_type": "code",
   "execution_count": 10,
   "metadata": {},
   "outputs": [],
   "source": [
    "mag_1089.to_csv(gdb()+'geof/mag_line_1089',index=False)"
   ]
  },
  {
   "cell_type": "code",
   "execution_count": null,
   "metadata": {},
   "outputs": [],
   "source": [
    "a = f.descricao(mag_1089)"
   ]
  },
  {
   "cell_type": "code",
   "execution_count": null,
   "metadata": {},
   "outputs": [],
   "source": [
    "a[0]"
   ]
  },
  {
   "cell_type": "code",
   "execution_count": null,
   "metadata": {},
   "outputs": [],
   "source": [
    "a[4].T"
   ]
  },
  {
   "cell_type": "markdown",
   "metadata": {},
   "source": [
    "# Podemos criar uma classe que padroniza a função pandas.read_csv() para que o processo possa ser executado de forma mais eficiente\n"
   ]
  },
  {
   "cell_type": "code",
   "execution_count": null,
   "metadata": {},
   "outputs": [],
   "source": [
    "class Import:\n",
    "    '''\n",
    "\n",
    "    '''\n",
    "    # Params -------------------------------------------------------------------------------------------------------------------------------------------------------------------------------------------------------------------------------\n",
    "    def __init__(self,caminho,usecols):\n",
    "        self.caminho = caminho\n",
    "        self.usecols = usecols\n",
    "    # --------------------------------------------------------------------------------------------------------------------------------------------------------------------------------------------------------------------------------------\n",
    "    \n",
    "    # Gama ---------------------------------------------------------------------------------------------------------------------------------------------------------------------------------------------------------------------------------\n",
    "    def gama(self):\n",
    "        '''\n",
    "\n",
    "        '''\n",
    "        gama_tie_1105_cols  = 'KB DATA BARO UB THB COSMICO CTB UUP ALTURA KPERC eU eTH CTEXP UTHRAZAO X Y UKRAZAO MDT THKRAZAO LIVE_TIME CTCOR KCOR THCOR UCOR HORA GPSALT LATITUDE FIDUCIAL TEMP LONGITUDE __X __Y'.split(\" \")\n",
    "        gama_line_1105_cols = 'KB DATA BARO UB THB COSMICO CTB UUP ALTURA KPERC eU eTH CTEXP UTHRAZAO X Y UKRAZAO MDT THKRAZAO LIVE_TIME CTCOR KCOR THCOR UCOR HORA GPSALT LATITUDE FIDUCIAL TEMP LONGITUDE'.split(\" \")             \n",
    "        gama_1089_cols = 'X Y FIDUCIAL GPSALT BARO ALTURA MDT CTB KB UB THB UPU LIVE_TIME COS TEMP KPERC eU eth CTEXP CTCOR UCOR THCOR KCOR THKRAZAO UKRAZAO UTHRAZAO LONGITUDE LATITUDE DATA HORA'.split(\" \")\n",
    "        mag_1089_cols = 'X Y FIDUCIAL GPSALT BARO ALTURA MDT MAGBASE MAGBRU MAGCOM MAGCOR MAGNIV MAGMIC MAGIGRF IGRF LONGITUDE LATITUDE DATA HORA'.split(\" \")\n",
    "        \n",
    "        df = pd.read_csv(gdb(self.caminho),\n",
    "                            names = 'KB DATA BARO UB THB COSMICO CTB UUP ALTURA KPERC eU eTH CTEXP UTHRAZAO X Y UKRAZAO MDT THKRAZAO LIVE_TIME CTCOR KCOR THCOR UCOR HORA GPSALT LATITUDE FIDUCIAL TEMP LONGITUDE'.split(\" \"),\n",
    "                            usecols = self.usecols,\n",
    "                            delim_whitespace=True,\n",
    "                            skiprows=10)\n",
    "                                \n",
    "        return df\n",
    "    # --------------------------------------------------------------------------------------------------------------------------------------------------------------------------------------------------------------------------------------\n",
    "    \n",
    "    # Mag ----------------------------------------------------------------------------------------------------------------------------------------------------------------------------------------------------------------------------------\n",
    "    def mag(self):\n",
    "        '''\n",
    "        \n",
    "        '''\n",
    "\n",
    "        df = pd.read_csv(gdb(self.caminho),\n",
    "                        names = self.mag_1105_cols,\n",
    "                        usecols = self.usecols,\n",
    "                        delim_whitespace=True,\n",
    "                        skiprows=10)\n",
    "\n",
    "        return df\n",
    "\n",
    "\n",
    "    def litologia(self):\n",
    "        '''\n",
    "        \n",
    "        '''\n",
    "\n",
    "        return litologia\n",
    "\n",
    "    def malha_cartog(self):\n",
    "        '''\n",
    "        \n",
    "        '''\n",
    "        \n",
    "        litologia = gpd.read_file(gdb('geodatabase.gpkg'),\n",
    "                        )\n",
    "\n",
    "\n",
    "        return malha_cartog\n",
    "    # --------------------------------------------------------------------------------------------------------------------------------------------------------------------------------------------------------------------------------------"
   ]
  },
  {
   "cell_type": "code",
   "execution_count": null,
   "metadata": {},
   "outputs": [],
   "source": [
    "Import_xyz('geof/1105_GamaLine.XYZ',['X','Y','CTCOR']).gama()"
   ]
  },
  {
   "cell_type": "code",
   "execution_count": null,
   "metadata": {},
   "outputs": [],
   "source": [
    "Import_xyz('geof/1105_GamaLine.XYZ',['X','Y','LATITUDE','LONGITUDE','KPERC','eU','eTH','CTCOR','MDT']).gama()\n"
   ]
  },
  {
   "cell_type": "code",
   "execution_count": null,
   "metadata": {},
   "outputs": [],
   "source": [
    "Import_xyz('geof/1089_GamaLine.XYZ',['X','Y','LATITUDE','LONGITUDE','KPERC','eU','eTH','CTCOR','MDT']).gama()\n"
   ]
  },
  {
   "cell_type": "code",
   "execution_count": null,
   "metadata": {},
   "outputs": [],
   "source": [
    "Import_xyz('geof/MagLine')"
   ]
  }
 ],
 "metadata": {
  "kernelspec": {
   "display_name": "Python 3.8.13 ('geo_machine')",
   "language": "python",
   "name": "python3"
  },
  "language_info": {
   "codemirror_mode": {
    "name": "ipython",
    "version": 3
   },
   "file_extension": ".py",
   "mimetype": "text/x-python",
   "name": "python",
   "nbconvert_exporter": "python",
   "pygments_lexer": "ipython3",
   "version": "3.8.13"
  },
  "vscode": {
   "interpreter": {
    "hash": "ed32a6a1b508148fc3ce5ac19a3a5a750fe820bd77e8693096b5866236bb4c36"
   }
  }
 },
 "nbformat": 4,
 "nbformat_minor": 4
}
