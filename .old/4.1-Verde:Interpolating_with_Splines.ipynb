{
 "cells": [
  {
   "cell_type": "markdown",
   "metadata": {},
   "source": [
    "### Functions for automating model selection through cross-validation."
   ]
  },
  {
   "cell_type": "code",
   "execution_count": 1,
   "metadata": {},
   "outputs": [],
   "source": [
    "import verde as vd\n",
    "import pandas as pd\n",
    "import numpy as np\n",
    "\n",
    "import matplotlib.pyplot as plt\n",
    "\n",
    "import pyproj\n",
    "from shapely import geometry\n",
    "\n",
    "from sources import source_code as f\n",
    "\n",
    "%matplotlib widget"
   ]
  },
  {
   "cell_type": "markdown",
   "metadata": {},
   "source": [
    "# Selecionando Area de Estudo\n",
    " - Este Jupyternotebook tem como base o tutorial do verde presente no respositorio do transform.\n",
    "\n",
    " - No Tutorial 4 definimos uma funçao que utiliza a funçao verde.get_region() para:\n",
    "    - construir um dicionario de folhas de cartas litologicas e,\n",
    "    - um dicionario de metadata (Informaçoes sobre os dados.)"
   ]
  },
  {
   "cell_type": "code",
   "execution_count": 2,
   "metadata": {},
   "outputs": [
    {
     "name": "stdout",
     "output_type": "stream",
     "text": [
      "importando dados geofisicos\n"
     ]
    },
    {
     "name": "stderr",
     "output_type": "stream",
     "text": [
      "/home/ggrl/anaconda3/envs/geologist_bot/lib/python3.8/site-packages/geopandas/geodataframe.py:1322: SettingWithCopyWarning: \n",
      "A value is trying to be set on a copy of a slice from a DataFrame.\n",
      "Try using .loc[row_indexer,col_indexer] = value instead\n",
      "\n",
      "See the caveats in the documentation: https://pandas.pydata.org/pandas-docs/stable/user_guide/indexing.html#returning-a-view-versus-a-copy\n",
      "  super(GeoDataFrame, self).__setitem__(key, value)\n"
     ]
    },
    {
     "name": "stdout",
     "output_type": "stream",
     "text": [
      "# --- Iniciando seleção de área de estudo\n",
      "24 folhas cartográfica selecionadas\n",
      "\n",
      "Lista de chaves do dicionario de cartas: ['region', 'region_proj', 'raw_data', 'splines', 'scores', 'lito_splines', 'mean_score', 'litologia', 'cubic', 'lito_cubic']\n",
      "Listando atributos dos dados geofisicos\n"
     ]
    },
    {
     "name": "stderr",
     "output_type": "stream",
     "text": [
      "100%|██████████| 12/12 [00:00<00:00, 289262.34it/s]"
     ]
    },
    {
     "name": "stdout",
     "output_type": "stream",
     "text": [
      "# --- # Listagem de dados do aerolevantamento:  \n",
      "Lista de atributos geofísicos = ['MDT', 'KPERC', 'eU', 'eth', 'CTCOR', 'THKRAZAO', 'UKRAZAO', 'UTHRAZAO']\n",
      "lista de atributos geograficos = ['LONGITUDE', 'LATITUDE']\n",
      "lista de atributos projetados = ['X', 'Y']\n"
     ]
    },
    {
     "name": "stderr",
     "output_type": "stream",
     "text": [
      "\n"
     ]
    },
    {
     "name": "stdout",
     "output_type": "stream",
     "text": [
      "Lista de chaves do dicionario de metadata bruto: ['Metadata', 'Lista_id', 'Lista_at_geof', 'Lista_at_geog', 'Lista_at_proj', 'Percentiles', 'Malha_cartografica']\n",
      "\n",
      "# --- Início da iteração entre as folhas cartográficas #\n"
     ]
    },
    {
     "name": "stderr",
     "output_type": "stream",
     "text": [
      "0it [00:00, ?it/s]"
     ]
    },
    {
     "name": "stdout",
     "output_type": "stream",
     "text": [
      "SC23_Z_A_I geometry       POLYGON ((500000 8894587.508698922, 554798.412...\n",
      "region                              (-45.0, -44.5, -10.5, -10.0)\n",
      "region_proj    (500000.0, 554798.4121514614, 8839261.40022261...\n",
      "Name: SC23_Z_A_I, dtype: object\n",
      "# Folha de código: SC23_Z_A_I\n",
      " Atualizando dados brutos em dic_cartas['raw_data']\n",
      " com 50757 pontos de amostragem\n"
     ]
    }
   ],
   "source": [
    "dic_cartas,dic_raw_metadata = f.get_region('100k','SC23_Z','gama_line_1089',camada='litologia_100k')"
   ]
  },
  {
   "cell_type": "markdown",
   "metadata": {},
   "source": [
    "## Dicionario de Metadados"
   ]
  },
  {
   "cell_type": "code",
   "execution_count": null,
   "metadata": {},
   "outputs": [
    {
     "name": "stdout",
     "output_type": "stream",
     "text": [
      "Chaves do dicionario de metadados: dict_keys(['Metadata', 'Lista_id', 'Lista_at_geof', 'Lista_at_geog', 'Lista_at_proj', 'Percentiles', 'Malha_cartografica'])\n"
     ]
    }
   ],
   "source": [
    "print(f'Chaves do dicionario de metadados: {dic_raw_metadata.keys()}')"
   ]
  },
  {
   "cell_type": "markdown",
   "metadata": {},
   "source": [
    "### Visualizando Malha Cartografica"
   ]
  },
  {
   "cell_type": "code",
   "execution_count": 13,
   "metadata": {},
   "outputs": [],
   "source": [
    "def labels(gdf):\n",
    "    gdf['coords'] = gdf['geometry'].apply(lambda x: x.representative_point().coords[:])\n",
    "    gdf['coords'] = [coords[0] for coords in gdf['coords']]\n",
    "\n",
    "    for index, row in gdf.iterrows():\n",
    "        plt.annotate(s=row['id_folha'], xy=row['coords'],horizontalalignment='center')"
   ]
  },
  {
   "cell_type": "code",
   "execution_count": 17,
   "metadata": {},
   "outputs": [],
   "source": [
    "def plot_base(gdf,atributo=None,escala=None,nome=None):\n",
    "    litologia = f.importar(escala,nome)\n",
    "\n",
    "    if atributo:\n",
    "        ax = litologia.plot('SIGLA')\n",
    "        gdf.plot(atributo,ax=ax)\n",
    "    else:\n",
    "        ax = litologia.plot('SIGLA')\n",
    "        gdf.plot(ax=ax)"
   ]
  },
  {
   "cell_type": "code",
   "execution_count": 16,
   "metadata": {},
   "outputs": [],
   "source": [
    "area = dic_raw_metadata['Malha_cartografica']"
   ]
  },
  {
   "cell_type": "code",
   "execution_count": 15,
   "metadata": {},
   "outputs": [
    {
     "data": {
      "application/vnd.jupyter.widget-view+json": {
       "model_id": "f15a1d561ea64c9da525c81020bd0f5a",
       "version_major": 2,
       "version_minor": 0
      },
      "text/plain": [
       "Canvas(toolbar=Toolbar(toolitems=[('Home', 'Reset original view', 'home', 'home'), ('Back', 'Back to previous …"
      ]
     },
     "metadata": {},
     "output_type": "display_data"
    }
   ],
   "source": [
    "f.plot_base(area.boundary,atributo=None,escala='litologia_100k',nome='Rio Paraim')"
   ]
  },
  {
   "cell_type": "code",
   "execution_count": null,
   "metadata": {},
   "outputs": [],
   "source": [
    "labels(area)"
   ]
  },
  {
   "cell_type": "markdown",
   "metadata": {},
   "source": [
    "## Dicionario dos dados litologicos e geofisicos"
   ]
  },
  {
   "cell_type": "code",
   "execution_count": 7,
   "metadata": {},
   "outputs": [
    {
     "name": "stdout",
     "output_type": "stream",
     "text": [
      "Chaves do dicionario principal: ['region', 'region_proj', 'raw_data', 'splines', 'scores', 'lito_splines', 'mean_score', 'litologia', 'cubic', 'lito_cubic']\n"
     ]
    }
   ],
   "source": [
    "print(f'Chaves do dicionario principal: {list(dic_cartas.keys())}')"
   ]
  },
  {
   "cell_type": "markdown",
   "metadata": {},
   "source": [
    "### Definindo data"
   ]
  },
  {
   "cell_type": "code",
   "execution_count": 29,
   "metadata": {},
   "outputs": [],
   "source": [
    "data = dic_cartas['raw_data']['SC23']"
   ]
  },
  {
   "cell_type": "code",
   "execution_count": 30,
   "metadata": {},
   "outputs": [
    {
     "data": {
      "text/plain": [
       "(array([472115.74, 472115.9 , 472116.15, ..., 665135.62, 665140.29,\n",
       "        665143.98]),\n",
       " array([8754877.13, 8754953.8 , 8755030.53, ..., 8782262.93, 8782185.57,\n",
       "        8782108.02]))"
      ]
     },
     "execution_count": 30,
     "metadata": {},
     "output_type": "execute_result"
    }
   ],
   "source": [
    "coordinates = (data.X.values, data.Y.values)\n",
    "\n",
    "coordinates"
   ]
  },
  {
   "cell_type": "code",
   "execution_count": 31,
   "metadata": {},
   "outputs": [
    {
     "data": {
      "text/html": [
       "<div>\n",
       "<style scoped>\n",
       "    .dataframe tbody tr th:only-of-type {\n",
       "        vertical-align: middle;\n",
       "    }\n",
       "\n",
       "    .dataframe tbody tr th {\n",
       "        vertical-align: top;\n",
       "    }\n",
       "\n",
       "    .dataframe thead th {\n",
       "        text-align: right;\n",
       "    }\n",
       "</style>\n",
       "<table border=\"1\" class=\"dataframe\">\n",
       "  <thead>\n",
       "    <tr style=\"text-align: right;\">\n",
       "      <th></th>\n",
       "      <th>count</th>\n",
       "      <th>mean</th>\n",
       "      <th>std</th>\n",
       "      <th>min</th>\n",
       "      <th>0.1%</th>\n",
       "      <th>10%</th>\n",
       "      <th>25%</th>\n",
       "      <th>50%</th>\n",
       "      <th>75%</th>\n",
       "      <th>99.5%</th>\n",
       "      <th>max</th>\n",
       "    </tr>\n",
       "  </thead>\n",
       "  <tbody>\n",
       "    <tr>\n",
       "      <th>MDT</th>\n",
       "      <td>635173.0</td>\n",
       "      <td>508.893234</td>\n",
       "      <td>85.329898</td>\n",
       "      <td>290.6400</td>\n",
       "      <td>312.140000</td>\n",
       "      <td>400.9600</td>\n",
       "      <td>450.5400</td>\n",
       "      <td>501.3000</td>\n",
       "      <td>564.3900</td>\n",
       "      <td>722.290000</td>\n",
       "      <td>795.5500</td>\n",
       "    </tr>\n",
       "    <tr>\n",
       "      <th>KPERC</th>\n",
       "      <td>635173.0</td>\n",
       "      <td>0.520116</td>\n",
       "      <td>0.545391</td>\n",
       "      <td>-0.4100</td>\n",
       "      <td>-0.120000</td>\n",
       "      <td>0.0500</td>\n",
       "      <td>0.1400</td>\n",
       "      <td>0.3500</td>\n",
       "      <td>0.7200</td>\n",
       "      <td>2.990000</td>\n",
       "      <td>6.5200</td>\n",
       "    </tr>\n",
       "    <tr>\n",
       "      <th>eU</th>\n",
       "      <td>635173.0</td>\n",
       "      <td>1.107293</td>\n",
       "      <td>0.683094</td>\n",
       "      <td>-1.6400</td>\n",
       "      <td>-0.290000</td>\n",
       "      <td>0.3800</td>\n",
       "      <td>0.6500</td>\n",
       "      <td>1.0000</td>\n",
       "      <td>1.4400</td>\n",
       "      <td>3.880000</td>\n",
       "      <td>25.5000</td>\n",
       "    </tr>\n",
       "    <tr>\n",
       "      <th>eth</th>\n",
       "      <td>635173.0</td>\n",
       "      <td>9.470464</td>\n",
       "      <td>5.405466</td>\n",
       "      <td>-0.5600</td>\n",
       "      <td>0.600000</td>\n",
       "      <td>3.6200</td>\n",
       "      <td>5.7900</td>\n",
       "      <td>8.4000</td>\n",
       "      <td>11.9900</td>\n",
       "      <td>29.290000</td>\n",
       "      <td>70.1300</td>\n",
       "    </tr>\n",
       "    <tr>\n",
       "      <th>CTCOR</th>\n",
       "      <td>635173.0</td>\n",
       "      <td>836.493968</td>\n",
       "      <td>450.466561</td>\n",
       "      <td>-86.6500</td>\n",
       "      <td>72.351280</td>\n",
       "      <td>331.9800</td>\n",
       "      <td>513.8200</td>\n",
       "      <td>754.0300</td>\n",
       "      <td>1085.9200</td>\n",
       "      <td>2424.664200</td>\n",
       "      <td>5958.8200</td>\n",
       "    </tr>\n",
       "    <tr>\n",
       "      <th>THKRAZAO</th>\n",
       "      <td>635173.0</td>\n",
       "      <td>52.609745</td>\n",
       "      <td>92.576155</td>\n",
       "      <td>0.4532</td>\n",
       "      <td>1.701555</td>\n",
       "      <td>7.4646</td>\n",
       "      <td>12.3368</td>\n",
       "      <td>24.0520</td>\n",
       "      <td>51.7335</td>\n",
       "      <td>658.665466</td>\n",
       "      <td>1892.6940</td>\n",
       "    </tr>\n",
       "    <tr>\n",
       "      <th>UKRAZAO</th>\n",
       "      <td>635173.0</td>\n",
       "      <td>6.368725</td>\n",
       "      <td>10.713721</td>\n",
       "      <td>0.0118</td>\n",
       "      <td>0.045417</td>\n",
       "      <td>0.7330</td>\n",
       "      <td>1.3617</td>\n",
       "      <td>2.7836</td>\n",
       "      <td>6.1791</td>\n",
       "      <td>69.429660</td>\n",
       "      <td>217.3391</td>\n",
       "    </tr>\n",
       "    <tr>\n",
       "      <th>UTHRAZAO</th>\n",
       "      <td>635173.0</td>\n",
       "      <td>0.129238</td>\n",
       "      <td>0.070951</td>\n",
       "      <td>0.0023</td>\n",
       "      <td>0.005800</td>\n",
       "      <td>0.0583</td>\n",
       "      <td>0.0848</td>\n",
       "      <td>0.1182</td>\n",
       "      <td>0.1596</td>\n",
       "      <td>0.427100</td>\n",
       "      <td>1.8439</td>\n",
       "    </tr>\n",
       "  </tbody>\n",
       "</table>\n",
       "</div>"
      ],
      "text/plain": [
       "             count        mean         std       min        0.1%       10%  \\\n",
       "MDT       635173.0  508.893234   85.329898  290.6400  312.140000  400.9600   \n",
       "KPERC     635173.0    0.520116    0.545391   -0.4100   -0.120000    0.0500   \n",
       "eU        635173.0    1.107293    0.683094   -1.6400   -0.290000    0.3800   \n",
       "eth       635173.0    9.470464    5.405466   -0.5600    0.600000    3.6200   \n",
       "CTCOR     635173.0  836.493968  450.466561  -86.6500   72.351280  331.9800   \n",
       "THKRAZAO  635173.0   52.609745   92.576155    0.4532    1.701555    7.4646   \n",
       "UKRAZAO   635173.0    6.368725   10.713721    0.0118    0.045417    0.7330   \n",
       "UTHRAZAO  635173.0    0.129238    0.070951    0.0023    0.005800    0.0583   \n",
       "\n",
       "               25%       50%        75%        99.5%        max  \n",
       "MDT       450.5400  501.3000   564.3900   722.290000   795.5500  \n",
       "KPERC       0.1400    0.3500     0.7200     2.990000     6.5200  \n",
       "eU          0.6500    1.0000     1.4400     3.880000    25.5000  \n",
       "eth         5.7900    8.4000    11.9900    29.290000    70.1300  \n",
       "CTCOR     513.8200  754.0300  1085.9200  2424.664200  5958.8200  \n",
       "THKRAZAO   12.3368   24.0520    51.7335   658.665466  1892.6940  \n",
       "UKRAZAO     1.3617    2.7836     6.1791    69.429660   217.3391  \n",
       "UTHRAZAO    0.0848    0.1182     0.1596     0.427100     1.8439  "
      ]
     },
     "execution_count": 31,
     "metadata": {},
     "output_type": "execute_result"
    }
   ],
   "source": [
    "dic_raw_metadata['Percentiles'].T"
   ]
  },
  {
   "cell_type": "code",
   "execution_count": 32,
   "metadata": {},
   "outputs": [
    {
     "name": "stdout",
     "output_type": "stream",
     "text": [
      "20280\n",
      "5868\n",
      "99\n",
      "133\n"
     ]
    }
   ],
   "source": [
    "print(data.query('KPERC < 0')['KPERC'].count())\n",
    "print(data.query('eU < 0')['eU'].count())\n",
    "\n",
    "print(data.query('CTCOR < 0')['CTCOR'].count())\n",
    "print(data.query('eth < 0')['eth'].count())"
   ]
  },
  {
   "cell_type": "code",
   "execution_count": 33,
   "metadata": {},
   "outputs": [],
   "source": [
    "data.loc[data.KPERC < 0, 'KPERC'] = 0\n",
    "data.loc[data.eU < 0, 'eU'] = 0\n",
    "data.loc[data.eth < 0, 'eth'] = 0\n",
    "data.loc[data.CTCOR < 0, 'CTCOR'] = 0"
   ]
  },
  {
   "cell_type": "code",
   "execution_count": 34,
   "metadata": {},
   "outputs": [
    {
     "name": "stdout",
     "output_type": "stream",
     "text": [
      "0\n",
      "0\n",
      "0\n",
      "0\n"
     ]
    }
   ],
   "source": [
    "print(data.query('KPERC < 0')['KPERC'].count())\n",
    "print(data.query('eU < 0')['eU'].count())\n",
    "\n",
    "print(data.query('CTCOR < 0')['CTCOR'].count())\n",
    "print(data.query('eth < 0')['eth'].count())"
   ]
  },
  {
   "cell_type": "code",
   "execution_count": 35,
   "metadata": {},
   "outputs": [],
   "source": [
    "data_descrito = data.describe(percentiles= [0.01,0.1,0.25,0.5,0.75,0.995])"
   ]
  },
  {
   "cell_type": "code",
   "execution_count": 36,
   "metadata": {},
   "outputs": [
    {
     "data": {
      "text/html": [
       "<div>\n",
       "<style scoped>\n",
       "    .dataframe tbody tr th:only-of-type {\n",
       "        vertical-align: middle;\n",
       "    }\n",
       "\n",
       "    .dataframe tbody tr th {\n",
       "        vertical-align: top;\n",
       "    }\n",
       "\n",
       "    .dataframe thead th {\n",
       "        text-align: right;\n",
       "    }\n",
       "</style>\n",
       "<table border=\"1\" class=\"dataframe\">\n",
       "  <thead>\n",
       "    <tr style=\"text-align: right;\">\n",
       "      <th></th>\n",
       "      <th>count</th>\n",
       "      <th>mean</th>\n",
       "      <th>std</th>\n",
       "      <th>min</th>\n",
       "      <th>1%</th>\n",
       "      <th>10%</th>\n",
       "      <th>25%</th>\n",
       "      <th>50%</th>\n",
       "      <th>75%</th>\n",
       "      <th>99.5%</th>\n",
       "      <th>max</th>\n",
       "    </tr>\n",
       "  </thead>\n",
       "  <tbody>\n",
       "    <tr>\n",
       "      <th>X</th>\n",
       "      <td>635173.0</td>\n",
       "      <td>5.759517e+05</td>\n",
       "      <td>56426.671892</td>\n",
       "      <td>4.720585e+05</td>\n",
       "      <td>4.741124e+05</td>\n",
       "      <td>4.936205e+05</td>\n",
       "      <td>5.261256e+05</td>\n",
       "      <td>5.806173e+05</td>\n",
       "      <td>6.256214e+05</td>\n",
       "      <td>6.646191e+05</td>\n",
       "      <td>6.651544e+05</td>\n",
       "    </tr>\n",
       "    <tr>\n",
       "      <th>Y</th>\n",
       "      <td>635173.0</td>\n",
       "      <td>8.840769e+06</td>\n",
       "      <td>42677.134216</td>\n",
       "      <td>8.754866e+06</td>\n",
       "      <td>8.759358e+06</td>\n",
       "      <td>8.787244e+06</td>\n",
       "      <td>8.806403e+06</td>\n",
       "      <td>8.838350e+06</td>\n",
       "      <td>8.871277e+06</td>\n",
       "      <td>8.935057e+06</td>\n",
       "      <td>8.937363e+06</td>\n",
       "    </tr>\n",
       "    <tr>\n",
       "      <th>MDT</th>\n",
       "      <td>635173.0</td>\n",
       "      <td>5.088932e+02</td>\n",
       "      <td>85.329898</td>\n",
       "      <td>2.906400e+02</td>\n",
       "      <td>3.359900e+02</td>\n",
       "      <td>4.009600e+02</td>\n",
       "      <td>4.505400e+02</td>\n",
       "      <td>5.013000e+02</td>\n",
       "      <td>5.643900e+02</td>\n",
       "      <td>7.222900e+02</td>\n",
       "      <td>7.955500e+02</td>\n",
       "    </tr>\n",
       "    <tr>\n",
       "      <th>KPERC</th>\n",
       "      <td>635173.0</td>\n",
       "      <td>5.213949e-01</td>\n",
       "      <td>0.544087</td>\n",
       "      <td>0.000000e+00</td>\n",
       "      <td>0.000000e+00</td>\n",
       "      <td>5.000000e-02</td>\n",
       "      <td>1.400000e-01</td>\n",
       "      <td>3.500000e-01</td>\n",
       "      <td>7.200000e-01</td>\n",
       "      <td>2.990000e+00</td>\n",
       "      <td>6.520000e+00</td>\n",
       "    </tr>\n",
       "    <tr>\n",
       "      <th>eU</th>\n",
       "      <td>635173.0</td>\n",
       "      <td>1.108532e+00</td>\n",
       "      <td>0.680827</td>\n",
       "      <td>0.000000e+00</td>\n",
       "      <td>1.000000e-02</td>\n",
       "      <td>3.800000e-01</td>\n",
       "      <td>6.500000e-01</td>\n",
       "      <td>1.000000e+00</td>\n",
       "      <td>1.440000e+00</td>\n",
       "      <td>3.880000e+00</td>\n",
       "      <td>2.550000e+01</td>\n",
       "    </tr>\n",
       "    <tr>\n",
       "      <th>eth</th>\n",
       "      <td>635173.0</td>\n",
       "      <td>9.470497e+00</td>\n",
       "      <td>5.405406</td>\n",
       "      <td>0.000000e+00</td>\n",
       "      <td>1.610000e+00</td>\n",
       "      <td>3.620000e+00</td>\n",
       "      <td>5.790000e+00</td>\n",
       "      <td>8.400000e+00</td>\n",
       "      <td>1.199000e+01</td>\n",
       "      <td>2.929000e+01</td>\n",
       "      <td>7.013000e+01</td>\n",
       "    </tr>\n",
       "    <tr>\n",
       "      <th>CTCOR</th>\n",
       "      <td>635173.0</td>\n",
       "      <td>8.364969e+02</td>\n",
       "      <td>450.460998</td>\n",
       "      <td>0.000000e+00</td>\n",
       "      <td>1.487200e+02</td>\n",
       "      <td>3.319800e+02</td>\n",
       "      <td>5.138200e+02</td>\n",
       "      <td>7.540300e+02</td>\n",
       "      <td>1.085920e+03</td>\n",
       "      <td>2.424664e+03</td>\n",
       "      <td>5.958820e+03</td>\n",
       "    </tr>\n",
       "    <tr>\n",
       "      <th>THKRAZAO</th>\n",
       "      <td>635173.0</td>\n",
       "      <td>5.260974e+01</td>\n",
       "      <td>92.576155</td>\n",
       "      <td>4.532000e-01</td>\n",
       "      <td>3.246000e+00</td>\n",
       "      <td>7.464600e+00</td>\n",
       "      <td>1.233680e+01</td>\n",
       "      <td>2.405200e+01</td>\n",
       "      <td>5.173350e+01</td>\n",
       "      <td>6.586655e+02</td>\n",
       "      <td>1.892694e+03</td>\n",
       "    </tr>\n",
       "    <tr>\n",
       "      <th>UKRAZAO</th>\n",
       "      <td>635173.0</td>\n",
       "      <td>6.368725e+00</td>\n",
       "      <td>10.713721</td>\n",
       "      <td>1.180000e-02</td>\n",
       "      <td>1.816000e-01</td>\n",
       "      <td>7.330000e-01</td>\n",
       "      <td>1.361700e+00</td>\n",
       "      <td>2.783600e+00</td>\n",
       "      <td>6.179100e+00</td>\n",
       "      <td>6.942966e+01</td>\n",
       "      <td>2.173391e+02</td>\n",
       "    </tr>\n",
       "    <tr>\n",
       "      <th>UTHRAZAO</th>\n",
       "      <td>635173.0</td>\n",
       "      <td>1.292379e-01</td>\n",
       "      <td>0.070951</td>\n",
       "      <td>2.300000e-03</td>\n",
       "      <td>1.460000e-02</td>\n",
       "      <td>5.830000e-02</td>\n",
       "      <td>8.480000e-02</td>\n",
       "      <td>1.182000e-01</td>\n",
       "      <td>1.596000e-01</td>\n",
       "      <td>4.271000e-01</td>\n",
       "      <td>1.843900e+00</td>\n",
       "    </tr>\n",
       "    <tr>\n",
       "      <th>LONGITUDE</th>\n",
       "      <td>635173.0</td>\n",
       "      <td>-4.430622e+01</td>\n",
       "      <td>0.515346</td>\n",
       "      <td>-4.525580e+01</td>\n",
       "      <td>-4.523689e+01</td>\n",
       "      <td>-4.505837e+01</td>\n",
       "      <td>-4.476090e+01</td>\n",
       "      <td>-4.426370e+01</td>\n",
       "      <td>-4.385347e+01</td>\n",
       "      <td>-4.349747e+01</td>\n",
       "      <td>-4.348839e+01</td>\n",
       "    </tr>\n",
       "    <tr>\n",
       "      <th>LATITUDE</th>\n",
       "      <td>635173.0</td>\n",
       "      <td>-1.048559e+01</td>\n",
       "      <td>0.386353</td>\n",
       "      <td>-1.126367e+01</td>\n",
       "      <td>-1.122302e+01</td>\n",
       "      <td>-1.096979e+01</td>\n",
       "      <td>-1.079652e+01</td>\n",
       "      <td>-1.050760e+01</td>\n",
       "      <td>-1.020929e+01</td>\n",
       "      <td>-9.631656e+00</td>\n",
       "      <td>-9.611454e+00</td>\n",
       "    </tr>\n",
       "  </tbody>\n",
       "</table>\n",
       "</div>"
      ],
      "text/plain": [
       "              count          mean           std           min            1%  \\\n",
       "X          635173.0  5.759517e+05  56426.671892  4.720585e+05  4.741124e+05   \n",
       "Y          635173.0  8.840769e+06  42677.134216  8.754866e+06  8.759358e+06   \n",
       "MDT        635173.0  5.088932e+02     85.329898  2.906400e+02  3.359900e+02   \n",
       "KPERC      635173.0  5.213949e-01      0.544087  0.000000e+00  0.000000e+00   \n",
       "eU         635173.0  1.108532e+00      0.680827  0.000000e+00  1.000000e-02   \n",
       "eth        635173.0  9.470497e+00      5.405406  0.000000e+00  1.610000e+00   \n",
       "CTCOR      635173.0  8.364969e+02    450.460998  0.000000e+00  1.487200e+02   \n",
       "THKRAZAO   635173.0  5.260974e+01     92.576155  4.532000e-01  3.246000e+00   \n",
       "UKRAZAO    635173.0  6.368725e+00     10.713721  1.180000e-02  1.816000e-01   \n",
       "UTHRAZAO   635173.0  1.292379e-01      0.070951  2.300000e-03  1.460000e-02   \n",
       "LONGITUDE  635173.0 -4.430622e+01      0.515346 -4.525580e+01 -4.523689e+01   \n",
       "LATITUDE   635173.0 -1.048559e+01      0.386353 -1.126367e+01 -1.122302e+01   \n",
       "\n",
       "                    10%           25%           50%           75%  \\\n",
       "X          4.936205e+05  5.261256e+05  5.806173e+05  6.256214e+05   \n",
       "Y          8.787244e+06  8.806403e+06  8.838350e+06  8.871277e+06   \n",
       "MDT        4.009600e+02  4.505400e+02  5.013000e+02  5.643900e+02   \n",
       "KPERC      5.000000e-02  1.400000e-01  3.500000e-01  7.200000e-01   \n",
       "eU         3.800000e-01  6.500000e-01  1.000000e+00  1.440000e+00   \n",
       "eth        3.620000e+00  5.790000e+00  8.400000e+00  1.199000e+01   \n",
       "CTCOR      3.319800e+02  5.138200e+02  7.540300e+02  1.085920e+03   \n",
       "THKRAZAO   7.464600e+00  1.233680e+01  2.405200e+01  5.173350e+01   \n",
       "UKRAZAO    7.330000e-01  1.361700e+00  2.783600e+00  6.179100e+00   \n",
       "UTHRAZAO   5.830000e-02  8.480000e-02  1.182000e-01  1.596000e-01   \n",
       "LONGITUDE -4.505837e+01 -4.476090e+01 -4.426370e+01 -4.385347e+01   \n",
       "LATITUDE  -1.096979e+01 -1.079652e+01 -1.050760e+01 -1.020929e+01   \n",
       "\n",
       "                  99.5%           max  \n",
       "X          6.646191e+05  6.651544e+05  \n",
       "Y          8.935057e+06  8.937363e+06  \n",
       "MDT        7.222900e+02  7.955500e+02  \n",
       "KPERC      2.990000e+00  6.520000e+00  \n",
       "eU         3.880000e+00  2.550000e+01  \n",
       "eth        2.929000e+01  7.013000e+01  \n",
       "CTCOR      2.424664e+03  5.958820e+03  \n",
       "THKRAZAO   6.586655e+02  1.892694e+03  \n",
       "UKRAZAO    6.942966e+01  2.173391e+02  \n",
       "UTHRAZAO   4.271000e-01  1.843900e+00  \n",
       "LONGITUDE -4.349747e+01 -4.348839e+01  \n",
       "LATITUDE  -9.631656e+00 -9.611454e+00  "
      ]
     },
     "execution_count": 36,
     "metadata": {},
     "output_type": "execute_result"
    }
   ],
   "source": [
    "data_descrito.T"
   ]
  },
  {
   "cell_type": "code",
   "execution_count": 37,
   "metadata": {},
   "outputs": [
    {
     "name": "stdout",
     "output_type": "stream",
     "text": [
      "Lista de atributos geofisicos: ['MDT', 'KPERC', 'eU', 'eth', 'CTCOR', 'THKRAZAO', 'UKRAZAO', 'UTHRAZAO']\n"
     ]
    }
   ],
   "source": [
    "print(f\"Lista de atributos geofisicos: {dic_raw_metadata['Lista_at_geof']}\")"
   ]
  },
  {
   "cell_type": "code",
   "execution_count": 38,
   "metadata": {},
   "outputs": [
    {
     "data": {
      "text/plain": [
       "{'MDT': 'MDT (m)',\n",
       " 'KPERC': 'K (%)',\n",
       " 'eU': 'U (ppm)',\n",
       " 'eth': 'Th (ppm)',\n",
       " 'CTCOR': 'Contagem Total (μR/h)',\n",
       " 'THKRAZAO': 'Th (ppm) / K (%)',\n",
       " 'UKRAZAO': 'U (ppm) / K (%)',\n",
       " 'UTHRAZAO': 'U (ppm) / Th (ppm)'}"
      ]
     },
     "execution_count": 38,
     "metadata": {},
     "output_type": "execute_result"
    }
   ],
   "source": [
    "# LISTA DE TITULOS \n",
    "titles =   ['MDT (m)',\n",
    "            'K (%)',\n",
    "            'U (ppm)',\n",
    "            'Th (ppm)',\n",
    "            'Contagem Total (μR/h)',\n",
    "            'Th (ppm) / K (%)',\n",
    "            'U (ppm) / K (%)',\n",
    "            'U (ppm) / Th (ppm)']\n",
    "\n",
    "# DICIONARIO DE TITULOS\n",
    "dic_titles = {}\n",
    "for f, t in zip(dic_raw_metadata['Lista_at_geof'], titles):\n",
    "    dic_titles[f] = t\n",
    "\n",
    "dic_titles"
   ]
  },
  {
   "cell_type": "markdown",
   "metadata": {},
   "source": [
    "## Plotando dados Brutos"
   ]
  },
  {
   "cell_type": "code",
   "execution_count": 40,
   "metadata": {},
   "outputs": [],
   "source": [
    "def raw_plot(data):\n",
    "    fig, axs = plt.subplots(nrows = 4, ncols = 2, figsize = (12, 12))\n",
    "\n",
    "    X,Y = data.X,data.Y\n",
    "\n",
    "    for ax, f in zip(axs.flat, dic_titles):\n",
    "        vmin=data_descrito[f]['1%']\n",
    "        vmax=data_descrito[f]['99.5%']\n",
    "\n",
    "        g = ax.scatter(c=data[f], x = X,\n",
    "                                y = Y,\n",
    "                                cmap = 'rainbow',\n",
    "                                s    = 0.5,\n",
    "                                vmax =vmax, vmin=vmin)\n",
    "\n",
    "        fig.colorbar(g, ax = ax)\n",
    "        ax.set_title(str(dic_titles[f]), size =9)\n",
    "        ax.axis('scaled')\n",
    "\n",
    "    #fig.delaxes(axs[2][1])\n",
    "\n",
    "    #plt.tight_layout()"
   ]
  },
  {
   "cell_type": "code",
   "execution_count": 41,
   "metadata": {},
   "outputs": [
    {
     "data": {
      "application/vnd.jupyter.widget-view+json": {
       "model_id": "41c56ef554384e328209a00efb6224fe",
       "version_major": 2,
       "version_minor": 0
      },
      "text/plain": [
       "Canvas(toolbar=Toolbar(toolitems=[('Home', 'Reset original view', 'home', 'home'), ('Back', 'Back to previous …"
      ]
     },
     "metadata": {},
     "output_type": "display_data"
    }
   ],
   "source": [
    "raw_plot(data)"
   ]
  },
  {
   "cell_type": "code",
   "execution_count": 42,
   "metadata": {},
   "outputs": [],
   "source": [
    "# Block Reduction\n",
    "reducer_mean_490 = vd.BlockReduce(np.mean, spacing= 490)\n",
    "reducer_mean_499 = vd.BlockReduce(np.mean, spacing= 499)\n",
    "reducer_mean_500 = vd.BlockReduce(np.mean, spacing= 500)"
   ]
  },
  {
   "cell_type": "code",
   "execution_count": 43,
   "metadata": {},
   "outputs": [],
   "source": [
    "# Block Reduction\n",
    "reducer_median_490 = vd.BlockReduce(np.median, spacing= 490)\n",
    "reducer_median_499 = vd.BlockReduce(np.median, spacing= 499)\n",
    "reducer_median_500 = vd.BlockReduce(np.median, spacing= 500)"
   ]
  },
  {
   "cell_type": "code",
   "execution_count": 44,
   "metadata": {},
   "outputs": [],
   "source": [
    "lista_blocks = [reducer_mean_490,reducer_mean_499,reducer_mean_500,\n",
    "                reducer_median_490,reducer_median_499,reducer_median_500]"
   ]
  },
  {
   "cell_type": "markdown",
   "metadata": {},
   "source": [
    "## Plotando dados reduzidos em medias moveis de 500, 499 e 490 metros"
   ]
  },
  {
   "cell_type": "code",
   "execution_count": 46,
   "metadata": {},
   "outputs": [
    {
     "data": {
      "application/vnd.jupyter.widget-view+json": {
       "model_id": "f321b4cf760344e0af6c817695dd251d",
       "version_major": 2,
       "version_minor": 0
      },
      "text/plain": [
       "Canvas(toolbar=Toolbar(toolitems=[('Home', 'Reset original view', 'home', 'home'), ('Back', 'Back to previous …"
      ]
     },
     "metadata": {},
     "output_type": "display_data"
    }
   ],
   "source": [
    "fig, axs = plt.subplots(nrows = 2, ncols = 3, figsize = (16, 16),sharex='all',sharey='all')\n",
    "\n",
    "for ax, f in zip(axs.flat, lista_blocks):\n",
    "    b_coords, b_geof = f.filter(coordinates, data.MDT)\n",
    "\n",
    "    g = ax.scatter(c    = b_geof, x = b_coords[0],\n",
    "                                y = b_coords[1],\n",
    "                             cmap = 'rainbow',\n",
    "                             s    = 5)\n",
    "    fig.colorbar(g,ax=ax)\n",
    "    ax.set_title(f,size=4)\n",
    "    ax.axis('scaled')"
   ]
  },
  {
   "cell_type": "code",
   "execution_count": 69,
   "metadata": {},
   "outputs": [],
   "source": [
    "reducer_mean_490 = vd.BlockReduce(np.mean, spacing= 1000)\n",
    "b_coords, b_geof = reducer_mean_490.filter(coordinates, data.UTHRAZAO)"
   ]
  },
  {
   "cell_type": "code",
   "execution_count": 70,
   "metadata": {},
   "outputs": [],
   "source": [
    "spline = vd.Spline()"
   ]
  },
  {
   "cell_type": "code",
   "execution_count": 71,
   "metadata": {},
   "outputs": [],
   "source": [
    "spline.fit(b_coords, b_geof)"
   ]
  },
  {
   "cell_type": "code",
   "execution_count": 51,
   "metadata": {},
   "outputs": [],
   "source": [
    "predicted = spline.predict(coordinates)"
   ]
  },
  {
   "cell_type": "code",
   "execution_count": 62,
   "metadata": {},
   "outputs": [
    {
     "data": {
      "text/plain": [
       "count    635173.000000\n",
       "mean          0.129238\n",
       "std           0.070951\n",
       "min           0.002300\n",
       "0.1%          0.005800\n",
       "10%           0.058300\n",
       "25%           0.084800\n",
       "50%           0.118200\n",
       "75%           0.159600\n",
       "99.5%         0.427100\n",
       "max           1.843900\n",
       "Name: UTHRAZAO, dtype: float64"
      ]
     },
     "execution_count": 62,
     "metadata": {},
     "output_type": "execute_result"
    }
   ],
   "source": [
    "dic_raw_metadata['Percentiles']['UTHRAZAO']"
   ]
  },
  {
   "cell_type": "code",
   "execution_count": 64,
   "metadata": {},
   "outputs": [
    {
     "data": {
      "application/vnd.jupyter.widget-view+json": {
       "model_id": "0d960414e3a64dacb6fec523336c88d6",
       "version_major": 2,
       "version_minor": 0
      },
      "text/plain": [
       "Canvas(toolbar=Toolbar(toolitems=[('Home', 'Reset original view', 'home', 'home'), ('Back', 'Back to previous …"
      ]
     },
     "metadata": {},
     "output_type": "display_data"
    },
    {
     "data": {
      "text/plain": [
       "<matplotlib.colorbar.Colorbar at 0x7f9e8eab37c0>"
      ]
     },
     "execution_count": 64,
     "metadata": {},
     "output_type": "execute_result"
    }
   ],
   "source": [
    "plt.figure(figsize=(8,8))\n",
    "descrito =  dic_raw_metadata['Percentiles']['UTHRAZAO']\n",
    "plt.scatter(coordinates[0],coordinates[1],\n",
    "            c=predicted,\n",
    "            cmap='rainbow',\n",
    "            s=1,\n",
    "            vmin = descrito['0.1%'],\n",
    "            vmax=descrito['99.5%'])\n",
    "plt.axis('scaled')\n",
    "plt.title('Valores preditos para os mesmos pontos amostrados')\n",
    "plt.colorbar(label='UTHRAZAO')"
   ]
  },
  {
   "cell_type": "code",
   "execution_count": 55,
   "metadata": {},
   "outputs": [
    {
     "data": {
      "text/plain": [
       "dict_keys(['region', 'region_proj', 'raw_data', 'splines', 'scores', 'lito_splines', 'mean_score', 'litologia', 'cubic', 'lito_cubic'])"
      ]
     },
     "execution_count": 55,
     "metadata": {},
     "output_type": "execute_result"
    }
   ],
   "source": [
    "dic_cartas.keys()"
   ]
  },
  {
   "cell_type": "code",
   "execution_count": null,
   "metadata": {},
   "outputs": [],
   "source": [
    "a = sqrt((2 - 4)**2)"
   ]
  },
  {
   "cell_type": "code",
   "execution_count": 58,
   "metadata": {},
   "outputs": [],
   "source": [
    "residuals = sqrt((data.UTHRAZAO - predicted)**2)"
   ]
  },
  {
   "cell_type": "code",
   "execution_count": 59,
   "metadata": {},
   "outputs": [
    {
     "data": {
      "application/vnd.jupyter.widget-view+json": {
       "model_id": "af28ae8c67f742ee8a5972b3cb79650f",
       "version_major": 2,
       "version_minor": 0
      },
      "text/plain": [
       "Canvas(toolbar=Toolbar(toolitems=[('Home', 'Reset original view', 'home', 'home'), ('Back', 'Back to previous …"
      ]
     },
     "metadata": {},
     "output_type": "display_data"
    },
    {
     "data": {
      "text/plain": [
       "<matplotlib.colorbar.Colorbar at 0x7f9e9f8c91f0>"
      ]
     },
     "execution_count": 59,
     "metadata": {},
     "output_type": "execute_result"
    }
   ],
   "source": [
    "scale = vd.maxabs(residuals)\n",
    "\n",
    "plt.figure(figsize=(7,7))\n",
    "\n",
    "plt.scatter(coordinates[0],coordinates[1],\n",
    "            c=residuals,\n",
    "            cmap='RdBu_r',\n",
    "            s=2,\n",
    "            vmin=-scale,vmax=scale)\n",
    "plt.axis('scaled')\n",
    "plt.title('Residuals: Dado amostrado - Dado predito')\n",
    "plt.colorbar(label='UTHRAZAO')"
   ]
  },
  {
   "cell_type": "code",
   "execution_count": 66,
   "metadata": {},
   "outputs": [],
   "source": [
    "region = vd.get_region(coordinates)\n",
    "grid_coords = vd.grid_coordinates(region, spacing = 250,pixel_register=True)"
   ]
  },
  {
   "cell_type": "code",
   "execution_count": 67,
   "metadata": {},
   "outputs": [],
   "source": [
    "grid_UTHRAZAO = spline.predict(grid_coords)"
   ]
  },
  {
   "cell_type": "code",
   "execution_count": 68,
   "metadata": {},
   "outputs": [
    {
     "data": {
      "application/vnd.jupyter.widget-view+json": {
       "model_id": "955ef01764a747a6a60a6ba78123eb4b",
       "version_major": 2,
       "version_minor": 0
      },
      "text/plain": [
       "Canvas(toolbar=Toolbar(toolitems=[('Home', 'Reset original view', 'home', 'home'), ('Back', 'Back to previous …"
      ]
     },
     "metadata": {},
     "output_type": "display_data"
    },
    {
     "data": {
      "text/plain": [
       "<matplotlib.colorbar.Colorbar at 0x7f9e9f982a60>"
      ]
     },
     "execution_count": 68,
     "metadata": {},
     "output_type": "execute_result"
    }
   ],
   "source": [
    "plt.figure(figsize=(8,8))\n",
    "plt.scatter(grid_coords[0], grid_coords[1],\n",
    "            c=grid_UTHRAZAO,\n",
    "            cmap='rainbow',\n",
    "            s=2)\n",
    "plt.axis('scaled')\n",
    "plt.colorbar()"
   ]
  },
  {
   "cell_type": "code",
   "execution_count": null,
   "metadata": {},
   "outputs": [
    {
     "data": {
      "text/html": [
       "<div><svg style=\"position: absolute; width: 0; height: 0; overflow: hidden\">\n",
       "<defs>\n",
       "<symbol id=\"icon-database\" viewBox=\"0 0 32 32\">\n",
       "<path d=\"M16 0c-8.837 0-16 2.239-16 5v4c0 2.761 7.163 5 16 5s16-2.239 16-5v-4c0-2.761-7.163-5-16-5z\"></path>\n",
       "<path d=\"M16 17c-8.837 0-16-2.239-16-5v6c0 2.761 7.163 5 16 5s16-2.239 16-5v-6c0 2.761-7.163 5-16 5z\"></path>\n",
       "<path d=\"M16 26c-8.837 0-16-2.239-16-5v6c0 2.761 7.163 5 16 5s16-2.239 16-5v-6c0 2.761-7.163 5-16 5z\"></path>\n",
       "</symbol>\n",
       "<symbol id=\"icon-file-text2\" viewBox=\"0 0 32 32\">\n",
       "<path d=\"M28.681 7.159c-0.694-0.947-1.662-2.053-2.724-3.116s-2.169-2.030-3.116-2.724c-1.612-1.182-2.393-1.319-2.841-1.319h-15.5c-1.378 0-2.5 1.121-2.5 2.5v27c0 1.378 1.122 2.5 2.5 2.5h23c1.378 0 2.5-1.122 2.5-2.5v-19.5c0-0.448-0.137-1.23-1.319-2.841zM24.543 5.457c0.959 0.959 1.712 1.825 2.268 2.543h-4.811v-4.811c0.718 0.556 1.584 1.309 2.543 2.268zM28 29.5c0 0.271-0.229 0.5-0.5 0.5h-23c-0.271 0-0.5-0.229-0.5-0.5v-27c0-0.271 0.229-0.5 0.5-0.5 0 0 15.499-0 15.5 0v7c0 0.552 0.448 1 1 1h7v19.5z\"></path>\n",
       "<path d=\"M23 26h-14c-0.552 0-1-0.448-1-1s0.448-1 1-1h14c0.552 0 1 0.448 1 1s-0.448 1-1 1z\"></path>\n",
       "<path d=\"M23 22h-14c-0.552 0-1-0.448-1-1s0.448-1 1-1h14c0.552 0 1 0.448 1 1s-0.448 1-1 1z\"></path>\n",
       "<path d=\"M23 18h-14c-0.552 0-1-0.448-1-1s0.448-1 1-1h14c0.552 0 1 0.448 1 1s-0.448 1-1 1z\"></path>\n",
       "</symbol>\n",
       "</defs>\n",
       "</svg>\n",
       "<style>/* CSS stylesheet for displaying xarray objects in jupyterlab.\n",
       " *\n",
       " */\n",
       "\n",
       ":root {\n",
       "  --xr-font-color0: var(--jp-content-font-color0, rgba(0, 0, 0, 1));\n",
       "  --xr-font-color2: var(--jp-content-font-color2, rgba(0, 0, 0, 0.54));\n",
       "  --xr-font-color3: var(--jp-content-font-color3, rgba(0, 0, 0, 0.38));\n",
       "  --xr-border-color: var(--jp-border-color2, #e0e0e0);\n",
       "  --xr-disabled-color: var(--jp-layout-color3, #bdbdbd);\n",
       "  --xr-background-color: var(--jp-layout-color0, white);\n",
       "  --xr-background-color-row-even: var(--jp-layout-color1, white);\n",
       "  --xr-background-color-row-odd: var(--jp-layout-color2, #eeeeee);\n",
       "}\n",
       "\n",
       "html[theme=dark],\n",
       "body.vscode-dark {\n",
       "  --xr-font-color0: rgba(255, 255, 255, 1);\n",
       "  --xr-font-color2: rgba(255, 255, 255, 0.54);\n",
       "  --xr-font-color3: rgba(255, 255, 255, 0.38);\n",
       "  --xr-border-color: #1F1F1F;\n",
       "  --xr-disabled-color: #515151;\n",
       "  --xr-background-color: #111111;\n",
       "  --xr-background-color-row-even: #111111;\n",
       "  --xr-background-color-row-odd: #313131;\n",
       "}\n",
       "\n",
       ".xr-wrap {\n",
       "  display: block;\n",
       "  min-width: 300px;\n",
       "  max-width: 700px;\n",
       "}\n",
       "\n",
       ".xr-text-repr-fallback {\n",
       "  /* fallback to plain text repr when CSS is not injected (untrusted notebook) */\n",
       "  display: none;\n",
       "}\n",
       "\n",
       ".xr-header {\n",
       "  padding-top: 6px;\n",
       "  padding-bottom: 6px;\n",
       "  margin-bottom: 4px;\n",
       "  border-bottom: solid 1px var(--xr-border-color);\n",
       "}\n",
       "\n",
       ".xr-header > div,\n",
       ".xr-header > ul {\n",
       "  display: inline;\n",
       "  margin-top: 0;\n",
       "  margin-bottom: 0;\n",
       "}\n",
       "\n",
       ".xr-obj-type,\n",
       ".xr-array-name {\n",
       "  margin-left: 2px;\n",
       "  margin-right: 10px;\n",
       "}\n",
       "\n",
       ".xr-obj-type {\n",
       "  color: var(--xr-font-color2);\n",
       "}\n",
       "\n",
       ".xr-sections {\n",
       "  padding-left: 0 !important;\n",
       "  display: grid;\n",
       "  grid-template-columns: 150px auto auto 1fr 20px 20px;\n",
       "}\n",
       "\n",
       ".xr-section-item {\n",
       "  display: contents;\n",
       "}\n",
       "\n",
       ".xr-section-item input {\n",
       "  display: none;\n",
       "}\n",
       "\n",
       ".xr-section-item input + label {\n",
       "  color: var(--xr-disabled-color);\n",
       "}\n",
       "\n",
       ".xr-section-item input:enabled + label {\n",
       "  cursor: pointer;\n",
       "  color: var(--xr-font-color2);\n",
       "}\n",
       "\n",
       ".xr-section-item input:enabled + label:hover {\n",
       "  color: var(--xr-font-color0);\n",
       "}\n",
       "\n",
       ".xr-section-summary {\n",
       "  grid-column: 1;\n",
       "  color: var(--xr-font-color2);\n",
       "  font-weight: 500;\n",
       "}\n",
       "\n",
       ".xr-section-summary > span {\n",
       "  display: inline-block;\n",
       "  padding-left: 0.5em;\n",
       "}\n",
       "\n",
       ".xr-section-summary-in:disabled + label {\n",
       "  color: var(--xr-font-color2);\n",
       "}\n",
       "\n",
       ".xr-section-summary-in + label:before {\n",
       "  display: inline-block;\n",
       "  content: '►';\n",
       "  font-size: 11px;\n",
       "  width: 15px;\n",
       "  text-align: center;\n",
       "}\n",
       "\n",
       ".xr-section-summary-in:disabled + label:before {\n",
       "  color: var(--xr-disabled-color);\n",
       "}\n",
       "\n",
       ".xr-section-summary-in:checked + label:before {\n",
       "  content: '▼';\n",
       "}\n",
       "\n",
       ".xr-section-summary-in:checked + label > span {\n",
       "  display: none;\n",
       "}\n",
       "\n",
       ".xr-section-summary,\n",
       ".xr-section-inline-details {\n",
       "  padding-top: 4px;\n",
       "  padding-bottom: 4px;\n",
       "}\n",
       "\n",
       ".xr-section-inline-details {\n",
       "  grid-column: 2 / -1;\n",
       "}\n",
       "\n",
       ".xr-section-details {\n",
       "  display: none;\n",
       "  grid-column: 1 / -1;\n",
       "  margin-bottom: 5px;\n",
       "}\n",
       "\n",
       ".xr-section-summary-in:checked ~ .xr-section-details {\n",
       "  display: contents;\n",
       "}\n",
       "\n",
       ".xr-array-wrap {\n",
       "  grid-column: 1 / -1;\n",
       "  display: grid;\n",
       "  grid-template-columns: 20px auto;\n",
       "}\n",
       "\n",
       ".xr-array-wrap > label {\n",
       "  grid-column: 1;\n",
       "  vertical-align: top;\n",
       "}\n",
       "\n",
       ".xr-preview {\n",
       "  color: var(--xr-font-color3);\n",
       "}\n",
       "\n",
       ".xr-array-preview,\n",
       ".xr-array-data {\n",
       "  padding: 0 5px !important;\n",
       "  grid-column: 2;\n",
       "}\n",
       "\n",
       ".xr-array-data,\n",
       ".xr-array-in:checked ~ .xr-array-preview {\n",
       "  display: none;\n",
       "}\n",
       "\n",
       ".xr-array-in:checked ~ .xr-array-data,\n",
       ".xr-array-preview {\n",
       "  display: inline-block;\n",
       "}\n",
       "\n",
       ".xr-dim-list {\n",
       "  display: inline-block !important;\n",
       "  list-style: none;\n",
       "  padding: 0 !important;\n",
       "  margin: 0;\n",
       "}\n",
       "\n",
       ".xr-dim-list li {\n",
       "  display: inline-block;\n",
       "  padding: 0;\n",
       "  margin: 0;\n",
       "}\n",
       "\n",
       ".xr-dim-list:before {\n",
       "  content: '(';\n",
       "}\n",
       "\n",
       ".xr-dim-list:after {\n",
       "  content: ')';\n",
       "}\n",
       "\n",
       ".xr-dim-list li:not(:last-child):after {\n",
       "  content: ',';\n",
       "  padding-right: 5px;\n",
       "}\n",
       "\n",
       ".xr-has-index {\n",
       "  font-weight: bold;\n",
       "}\n",
       "\n",
       ".xr-var-list,\n",
       ".xr-var-item {\n",
       "  display: contents;\n",
       "}\n",
       "\n",
       ".xr-var-item > div,\n",
       ".xr-var-item label,\n",
       ".xr-var-item > .xr-var-name span {\n",
       "  background-color: var(--xr-background-color-row-even);\n",
       "  margin-bottom: 0;\n",
       "}\n",
       "\n",
       ".xr-var-item > .xr-var-name:hover span {\n",
       "  padding-right: 5px;\n",
       "}\n",
       "\n",
       ".xr-var-list > li:nth-child(odd) > div,\n",
       ".xr-var-list > li:nth-child(odd) > label,\n",
       ".xr-var-list > li:nth-child(odd) > .xr-var-name span {\n",
       "  background-color: var(--xr-background-color-row-odd);\n",
       "}\n",
       "\n",
       ".xr-var-name {\n",
       "  grid-column: 1;\n",
       "}\n",
       "\n",
       ".xr-var-dims {\n",
       "  grid-column: 2;\n",
       "}\n",
       "\n",
       ".xr-var-dtype {\n",
       "  grid-column: 3;\n",
       "  text-align: right;\n",
       "  color: var(--xr-font-color2);\n",
       "}\n",
       "\n",
       ".xr-var-preview {\n",
       "  grid-column: 4;\n",
       "}\n",
       "\n",
       ".xr-var-name,\n",
       ".xr-var-dims,\n",
       ".xr-var-dtype,\n",
       ".xr-preview,\n",
       ".xr-attrs dt {\n",
       "  white-space: nowrap;\n",
       "  overflow: hidden;\n",
       "  text-overflow: ellipsis;\n",
       "  padding-right: 10px;\n",
       "}\n",
       "\n",
       ".xr-var-name:hover,\n",
       ".xr-var-dims:hover,\n",
       ".xr-var-dtype:hover,\n",
       ".xr-attrs dt:hover {\n",
       "  overflow: visible;\n",
       "  width: auto;\n",
       "  z-index: 1;\n",
       "}\n",
       "\n",
       ".xr-var-attrs,\n",
       ".xr-var-data {\n",
       "  display: none;\n",
       "  background-color: var(--xr-background-color) !important;\n",
       "  padding-bottom: 5px !important;\n",
       "}\n",
       "\n",
       ".xr-var-attrs-in:checked ~ .xr-var-attrs,\n",
       ".xr-var-data-in:checked ~ .xr-var-data {\n",
       "  display: block;\n",
       "}\n",
       "\n",
       ".xr-var-data > table {\n",
       "  float: right;\n",
       "}\n",
       "\n",
       ".xr-var-name span,\n",
       ".xr-var-data,\n",
       ".xr-attrs {\n",
       "  padding-left: 25px !important;\n",
       "}\n",
       "\n",
       ".xr-attrs,\n",
       ".xr-var-attrs,\n",
       ".xr-var-data {\n",
       "  grid-column: 1 / -1;\n",
       "}\n",
       "\n",
       "dl.xr-attrs {\n",
       "  padding: 0;\n",
       "  margin: 0;\n",
       "  display: grid;\n",
       "  grid-template-columns: 125px auto;\n",
       "}\n",
       "\n",
       ".xr-attrs dt,\n",
       ".xr-attrs dd {\n",
       "  padding: 0;\n",
       "  margin: 0;\n",
       "  float: left;\n",
       "  padding-right: 10px;\n",
       "  width: auto;\n",
       "}\n",
       "\n",
       ".xr-attrs dt {\n",
       "  font-weight: normal;\n",
       "  grid-column: 1;\n",
       "}\n",
       "\n",
       ".xr-attrs dt:hover span {\n",
       "  display: inline-block;\n",
       "  background: var(--xr-background-color);\n",
       "  padding-right: 10px;\n",
       "}\n",
       "\n",
       ".xr-attrs dd {\n",
       "  grid-column: 2;\n",
       "  white-space: pre-wrap;\n",
       "  word-break: break-all;\n",
       "}\n",
       "\n",
       ".xr-icon-database,\n",
       ".xr-icon-file-text2 {\n",
       "  display: inline-block;\n",
       "  vertical-align: middle;\n",
       "  width: 1em;\n",
       "  height: 1.5em !important;\n",
       "  stroke-width: 0;\n",
       "  stroke: currentColor;\n",
       "  fill: currentColor;\n",
       "}\n",
       "</style><pre class='xr-text-repr-fallback'>&lt;xarray.Dataset&gt;\n",
       "Dimensions:   (northing: 221, easting: 219)\n",
       "Coordinates:\n",
       "  * easting   (easting) float64 5.001e+05 5.003e+05 ... 5.544e+05 5.547e+05\n",
       "  * northing  (northing) float64 8.784e+06 8.784e+06 ... 8.839e+06 8.839e+06\n",
       "Data variables:\n",
       "    UTHRAZAO  (northing, easting) float64 0.1177 0.1284 0.1457 ... 0.0906 0.1254\n",
       "Attributes:\n",
       "    metadata:  Generated by Spline()</pre><div class='xr-wrap' hidden><div class='xr-header'><div class='xr-obj-type'>xarray.Dataset</div></div><ul class='xr-sections'><li class='xr-section-item'><input id='section-9836908a-a154-4cdf-b3ff-2a864612d699' class='xr-section-summary-in' type='checkbox' disabled ><label for='section-9836908a-a154-4cdf-b3ff-2a864612d699' class='xr-section-summary'  title='Expand/collapse section'>Dimensions:</label><div class='xr-section-inline-details'><ul class='xr-dim-list'><li><span class='xr-has-index'>northing</span>: 221</li><li><span class='xr-has-index'>easting</span>: 219</li></ul></div><div class='xr-section-details'></div></li><li class='xr-section-item'><input id='section-787c2d25-00f1-4304-9952-bbea053146c1' class='xr-section-summary-in' type='checkbox'  checked><label for='section-787c2d25-00f1-4304-9952-bbea053146c1' class='xr-section-summary' >Coordinates: <span>(2)</span></label><div class='xr-section-inline-details'></div><div class='xr-section-details'><ul class='xr-var-list'><li class='xr-var-item'><div class='xr-var-name'><span class='xr-has-index'>easting</span></div><div class='xr-var-dims'>(easting)</div><div class='xr-var-dtype'>float64</div><div class='xr-var-preview xr-preview'>5.001e+05 5.003e+05 ... 5.547e+05</div><input id='attrs-b62490b5-e08b-42d0-a556-97e0a442ffce' class='xr-var-attrs-in' type='checkbox' disabled><label for='attrs-b62490b5-e08b-42d0-a556-97e0a442ffce' title='Show/Hide attributes'><svg class='icon xr-icon-file-text2'><use xlink:href='#icon-file-text2'></use></svg></label><input id='data-178fe14a-cf17-49e3-b7ff-f9871d76e933' class='xr-var-data-in' type='checkbox'><label for='data-178fe14a-cf17-49e3-b7ff-f9871d76e933' title='Show/Hide data repr'><svg class='icon xr-icon-database'><use xlink:href='#icon-database'></use></svg></label><div class='xr-var-attrs'><dl class='xr-attrs'></dl></div><div class='xr-var-data'><pre>array([500056.852857, 500307.293637, 500557.734417, ..., 554152.061298,\n",
       "       554402.502077, 554652.942857])</pre></div></li><li class='xr-var-item'><div class='xr-var-name'><span class='xr-has-index'>northing</span></div><div class='xr-var-dims'>(northing)</div><div class='xr-var-dtype'>float64</div><div class='xr-var-preview xr-preview'>8.784e+06 8.784e+06 ... 8.839e+06</div><input id='attrs-9ddeb25f-6dc3-4950-80f5-19554086886b' class='xr-var-attrs-in' type='checkbox' disabled><label for='attrs-9ddeb25f-6dc3-4950-80f5-19554086886b' title='Show/Hide attributes'><svg class='icon xr-icon-file-text2'><use xlink:href='#icon-file-text2'></use></svg></label><input id='data-46cb4ab3-108c-459f-a709-da936366678f' class='xr-var-data-in' type='checkbox'><label for='data-46cb4ab3-108c-459f-a709-da936366678f' title='Show/Hide data repr'><svg class='icon xr-icon-database'><use xlink:href='#icon-database'></use></svg></label><div class='xr-var-attrs'><dl class='xr-attrs'></dl></div><div class='xr-var-data'><pre>array([8784185.803333, 8784435.34274 , 8784684.882147, ..., 8838585.394043,\n",
       "       8838834.93345 , 8839084.472857])</pre></div></li></ul></div></li><li class='xr-section-item'><input id='section-108d06d2-ca17-4d22-af3c-979e5fe4b42a' class='xr-section-summary-in' type='checkbox'  checked><label for='section-108d06d2-ca17-4d22-af3c-979e5fe4b42a' class='xr-section-summary' >Data variables: <span>(1)</span></label><div class='xr-section-inline-details'></div><div class='xr-section-details'><ul class='xr-var-list'><li class='xr-var-item'><div class='xr-var-name'><span>UTHRAZAO</span></div><div class='xr-var-dims'>(northing, easting)</div><div class='xr-var-dtype'>float64</div><div class='xr-var-preview xr-preview'>0.1177 0.1284 ... 0.0906 0.1254</div><input id='attrs-73a90911-2783-4b5d-9e2c-86bc6b20735d' class='xr-var-attrs-in' type='checkbox' ><label for='attrs-73a90911-2783-4b5d-9e2c-86bc6b20735d' title='Show/Hide attributes'><svg class='icon xr-icon-file-text2'><use xlink:href='#icon-file-text2'></use></svg></label><input id='data-c48ccdcb-b81a-495c-a969-1d956e78dc72' class='xr-var-data-in' type='checkbox'><label for='data-c48ccdcb-b81a-495c-a969-1d956e78dc72' title='Show/Hide data repr'><svg class='icon xr-icon-database'><use xlink:href='#icon-database'></use></svg></label><div class='xr-var-attrs'><dl class='xr-attrs'><dt><span>metadata :</span></dt><dd>Generated by Spline()</dd></dl></div><div class='xr-var-data'><pre>array([[0.11771067, 0.1283779 , 0.14565399, ..., 0.37355811, 0.63110083,\n",
       "        0.88551599],\n",
       "       [0.13521379, 0.131981  , 0.12972898, ..., 0.32226512, 0.54689279,\n",
       "        0.77713894],\n",
       "       [0.15454342, 0.13526982, 0.1079668 , ..., 0.27078973, 0.44302734,\n",
       "        0.63618061],\n",
       "       ...,\n",
       "       [0.1222705 , 0.13978981, 0.16408147, ..., 0.17497187, 0.17547328,\n",
       "        0.18303125],\n",
       "       [0.11450984, 0.12244337, 0.12715427, ..., 0.11606468, 0.13328983,\n",
       "        0.15472444],\n",
       "       [0.1084556 , 0.10879384, 0.10303786, ..., 0.05910068, 0.09060242,\n",
       "        0.12539576]])</pre></div></li></ul></div></li><li class='xr-section-item'><input id='section-58ac75da-42f8-4be1-8f6e-56139cde1591' class='xr-section-summary-in' type='checkbox'  checked><label for='section-58ac75da-42f8-4be1-8f6e-56139cde1591' class='xr-section-summary' >Attributes: <span>(1)</span></label><div class='xr-section-inline-details'></div><div class='xr-section-details'><dl class='xr-attrs'><dt><span>metadata :</span></dt><dd>Generated by Spline()</dd></dl></div></li></ul></div></div>"
      ],
      "text/plain": [
       "<xarray.Dataset>\n",
       "Dimensions:   (northing: 221, easting: 219)\n",
       "Coordinates:\n",
       "  * easting   (easting) float64 5.001e+05 5.003e+05 ... 5.544e+05 5.547e+05\n",
       "  * northing  (northing) float64 8.784e+06 8.784e+06 ... 8.839e+06 8.839e+06\n",
       "Data variables:\n",
       "    UTHRAZAO  (northing, easting) float64 0.1177 0.1284 0.1457 ... 0.0906 0.1254\n",
       "Attributes:\n",
       "    metadata:  Generated by Spline()"
      ]
     },
     "execution_count": 63,
     "metadata": {},
     "output_type": "execute_result"
    }
   ],
   "source": [
    "grid = spline.grid(spacing=250, data_names=['UTHRAZAO'])\n",
    "grid"
   ]
  },
  {
   "cell_type": "code",
   "execution_count": null,
   "metadata": {},
   "outputs": [
    {
     "data": {
      "application/vnd.jupyter.widget-view+json": {
       "model_id": "246853a1a45a47b595988b961d63590d",
       "version_major": 2,
       "version_minor": 0
      },
      "text/plain": [
       "Canvas(toolbar=Toolbar(toolitems=[('Home', 'Reset original view', 'home', 'home'), ('Back', 'Back to previous …"
      ]
     },
     "metadata": {},
     "output_type": "display_data"
    },
    {
     "data": {
      "text/plain": [
       "(499931.6324672345, 554778.1632470512, 8784061.033629868, 8839209.242560606)"
      ]
     },
     "execution_count": 64,
     "metadata": {},
     "output_type": "execute_result"
    }
   ],
   "source": [
    "plt.figure()\n",
    "grid.UTHRAZAO.plot(cmap='rainbow')\n",
    "plt.axis('scaled')"
   ]
  },
  {
   "cell_type": "code",
   "execution_count": null,
   "metadata": {},
   "outputs": [
    {
     "name": "stderr",
     "output_type": "stream",
     "text": [
      "/home/ggrl/anaconda3/envs/geologist_bot/lib/python3.8/site-packages/xarray/plot/utils.py:429: RuntimeWarning: More than 20 figures have been opened. Figures created through the pyplot interface (`matplotlib.pyplot.figure`) are retained until explicitly closed and may consume too much memory. (To control this warning, see the rcParam `figure.max_open_warning`).\n",
      "  _, ax = plt.subplots(figsize=figsize)\n"
     ]
    },
    {
     "data": {
      "application/vnd.jupyter.widget-view+json": {
       "model_id": "d1bab037d56142d28279935a84d38cd4",
       "version_major": 2,
       "version_minor": 0
      },
      "text/plain": [
       "Canvas(toolbar=Toolbar(toolitems=[('Home', 'Reset original view', 'home', 'home'), ('Back', 'Back to previous …"
      ]
     },
     "metadata": {},
     "output_type": "display_data"
    },
    {
     "data": {
      "text/plain": [
       "(499931.6324672345, 554778.1632470512, 8784061.033629868, 8839209.242560606)"
      ]
     },
     "execution_count": 67,
     "metadata": {},
     "output_type": "execute_result"
    }
   ],
   "source": [
    "grid = vd.distance_mask(coordinates, maxdist=500, grid=grid)\n",
    "grid\n",
    "\n",
    "grid.UTHRAZAO.plot(figsize=(7,7),cmap='rainbow')\n",
    "plt.axis('scaled')"
   ]
  },
  {
   "cell_type": "code",
   "execution_count": 65,
   "metadata": {},
   "outputs": [],
   "source": [
    "chain = vd.Chain([\n",
    "    ('trend',  vd.Trend(degree=1)),\n",
    "    ('reduce', vd.BlockReduce(np.mean, spacing=1000)),\n",
    "    ('spline', vd.Spline())\n",
    "])"
   ]
  },
  {
   "cell_type": "code",
   "execution_count": null,
   "metadata": {},
   "outputs": [
    {
     "data": {
      "text/plain": [
       "Chain(steps=[('trend', Trend(degree=1)),\n",
       "             ('reduce',\n",
       "              BlockReduce(reduction=<function mean at 0x7f8ff81cb3a0>,\n",
       "                          spacing=1000)),\n",
       "             ('spline', Spline())])"
      ]
     },
     "execution_count": 88,
     "metadata": {},
     "output_type": "execute_result"
    }
   ],
   "source": [
    "chain.fit(coordinates, data.UTHRAZAO)"
   ]
  },
  {
   "cell_type": "code",
   "execution_count": null,
   "metadata": {},
   "outputs": [
    {
     "data": {
      "text/html": [
       "<div><svg style=\"position: absolute; width: 0; height: 0; overflow: hidden\">\n",
       "<defs>\n",
       "<symbol id=\"icon-database\" viewBox=\"0 0 32 32\">\n",
       "<path d=\"M16 0c-8.837 0-16 2.239-16 5v4c0 2.761 7.163 5 16 5s16-2.239 16-5v-4c0-2.761-7.163-5-16-5z\"></path>\n",
       "<path d=\"M16 17c-8.837 0-16-2.239-16-5v6c0 2.761 7.163 5 16 5s16-2.239 16-5v-6c0 2.761-7.163 5-16 5z\"></path>\n",
       "<path d=\"M16 26c-8.837 0-16-2.239-16-5v6c0 2.761 7.163 5 16 5s16-2.239 16-5v-6c0 2.761-7.163 5-16 5z\"></path>\n",
       "</symbol>\n",
       "<symbol id=\"icon-file-text2\" viewBox=\"0 0 32 32\">\n",
       "<path d=\"M28.681 7.159c-0.694-0.947-1.662-2.053-2.724-3.116s-2.169-2.030-3.116-2.724c-1.612-1.182-2.393-1.319-2.841-1.319h-15.5c-1.378 0-2.5 1.121-2.5 2.5v27c0 1.378 1.122 2.5 2.5 2.5h23c1.378 0 2.5-1.122 2.5-2.5v-19.5c0-0.448-0.137-1.23-1.319-2.841zM24.543 5.457c0.959 0.959 1.712 1.825 2.268 2.543h-4.811v-4.811c0.718 0.556 1.584 1.309 2.543 2.268zM28 29.5c0 0.271-0.229 0.5-0.5 0.5h-23c-0.271 0-0.5-0.229-0.5-0.5v-27c0-0.271 0.229-0.5 0.5-0.5 0 0 15.499-0 15.5 0v7c0 0.552 0.448 1 1 1h7v19.5z\"></path>\n",
       "<path d=\"M23 26h-14c-0.552 0-1-0.448-1-1s0.448-1 1-1h14c0.552 0 1 0.448 1 1s-0.448 1-1 1z\"></path>\n",
       "<path d=\"M23 22h-14c-0.552 0-1-0.448-1-1s0.448-1 1-1h14c0.552 0 1 0.448 1 1s-0.448 1-1 1z\"></path>\n",
       "<path d=\"M23 18h-14c-0.552 0-1-0.448-1-1s0.448-1 1-1h14c0.552 0 1 0.448 1 1s-0.448 1-1 1z\"></path>\n",
       "</symbol>\n",
       "</defs>\n",
       "</svg>\n",
       "<style>/* CSS stylesheet for displaying xarray objects in jupyterlab.\n",
       " *\n",
       " */\n",
       "\n",
       ":root {\n",
       "  --xr-font-color0: var(--jp-content-font-color0, rgba(0, 0, 0, 1));\n",
       "  --xr-font-color2: var(--jp-content-font-color2, rgba(0, 0, 0, 0.54));\n",
       "  --xr-font-color3: var(--jp-content-font-color3, rgba(0, 0, 0, 0.38));\n",
       "  --xr-border-color: var(--jp-border-color2, #e0e0e0);\n",
       "  --xr-disabled-color: var(--jp-layout-color3, #bdbdbd);\n",
       "  --xr-background-color: var(--jp-layout-color0, white);\n",
       "  --xr-background-color-row-even: var(--jp-layout-color1, white);\n",
       "  --xr-background-color-row-odd: var(--jp-layout-color2, #eeeeee);\n",
       "}\n",
       "\n",
       "html[theme=dark],\n",
       "body.vscode-dark {\n",
       "  --xr-font-color0: rgba(255, 255, 255, 1);\n",
       "  --xr-font-color2: rgba(255, 255, 255, 0.54);\n",
       "  --xr-font-color3: rgba(255, 255, 255, 0.38);\n",
       "  --xr-border-color: #1F1F1F;\n",
       "  --xr-disabled-color: #515151;\n",
       "  --xr-background-color: #111111;\n",
       "  --xr-background-color-row-even: #111111;\n",
       "  --xr-background-color-row-odd: #313131;\n",
       "}\n",
       "\n",
       ".xr-wrap {\n",
       "  display: block;\n",
       "  min-width: 300px;\n",
       "  max-width: 700px;\n",
       "}\n",
       "\n",
       ".xr-text-repr-fallback {\n",
       "  /* fallback to plain text repr when CSS is not injected (untrusted notebook) */\n",
       "  display: none;\n",
       "}\n",
       "\n",
       ".xr-header {\n",
       "  padding-top: 6px;\n",
       "  padding-bottom: 6px;\n",
       "  margin-bottom: 4px;\n",
       "  border-bottom: solid 1px var(--xr-border-color);\n",
       "}\n",
       "\n",
       ".xr-header > div,\n",
       ".xr-header > ul {\n",
       "  display: inline;\n",
       "  margin-top: 0;\n",
       "  margin-bottom: 0;\n",
       "}\n",
       "\n",
       ".xr-obj-type,\n",
       ".xr-array-name {\n",
       "  margin-left: 2px;\n",
       "  margin-right: 10px;\n",
       "}\n",
       "\n",
       ".xr-obj-type {\n",
       "  color: var(--xr-font-color2);\n",
       "}\n",
       "\n",
       ".xr-sections {\n",
       "  padding-left: 0 !important;\n",
       "  display: grid;\n",
       "  grid-template-columns: 150px auto auto 1fr 20px 20px;\n",
       "}\n",
       "\n",
       ".xr-section-item {\n",
       "  display: contents;\n",
       "}\n",
       "\n",
       ".xr-section-item input {\n",
       "  display: none;\n",
       "}\n",
       "\n",
       ".xr-section-item input + label {\n",
       "  color: var(--xr-disabled-color);\n",
       "}\n",
       "\n",
       ".xr-section-item input:enabled + label {\n",
       "  cursor: pointer;\n",
       "  color: var(--xr-font-color2);\n",
       "}\n",
       "\n",
       ".xr-section-item input:enabled + label:hover {\n",
       "  color: var(--xr-font-color0);\n",
       "}\n",
       "\n",
       ".xr-section-summary {\n",
       "  grid-column: 1;\n",
       "  color: var(--xr-font-color2);\n",
       "  font-weight: 500;\n",
       "}\n",
       "\n",
       ".xr-section-summary > span {\n",
       "  display: inline-block;\n",
       "  padding-left: 0.5em;\n",
       "}\n",
       "\n",
       ".xr-section-summary-in:disabled + label {\n",
       "  color: var(--xr-font-color2);\n",
       "}\n",
       "\n",
       ".xr-section-summary-in + label:before {\n",
       "  display: inline-block;\n",
       "  content: '►';\n",
       "  font-size: 11px;\n",
       "  width: 15px;\n",
       "  text-align: center;\n",
       "}\n",
       "\n",
       ".xr-section-summary-in:disabled + label:before {\n",
       "  color: var(--xr-disabled-color);\n",
       "}\n",
       "\n",
       ".xr-section-summary-in:checked + label:before {\n",
       "  content: '▼';\n",
       "}\n",
       "\n",
       ".xr-section-summary-in:checked + label > span {\n",
       "  display: none;\n",
       "}\n",
       "\n",
       ".xr-section-summary,\n",
       ".xr-section-inline-details {\n",
       "  padding-top: 4px;\n",
       "  padding-bottom: 4px;\n",
       "}\n",
       "\n",
       ".xr-section-inline-details {\n",
       "  grid-column: 2 / -1;\n",
       "}\n",
       "\n",
       ".xr-section-details {\n",
       "  display: none;\n",
       "  grid-column: 1 / -1;\n",
       "  margin-bottom: 5px;\n",
       "}\n",
       "\n",
       ".xr-section-summary-in:checked ~ .xr-section-details {\n",
       "  display: contents;\n",
       "}\n",
       "\n",
       ".xr-array-wrap {\n",
       "  grid-column: 1 / -1;\n",
       "  display: grid;\n",
       "  grid-template-columns: 20px auto;\n",
       "}\n",
       "\n",
       ".xr-array-wrap > label {\n",
       "  grid-column: 1;\n",
       "  vertical-align: top;\n",
       "}\n",
       "\n",
       ".xr-preview {\n",
       "  color: var(--xr-font-color3);\n",
       "}\n",
       "\n",
       ".xr-array-preview,\n",
       ".xr-array-data {\n",
       "  padding: 0 5px !important;\n",
       "  grid-column: 2;\n",
       "}\n",
       "\n",
       ".xr-array-data,\n",
       ".xr-array-in:checked ~ .xr-array-preview {\n",
       "  display: none;\n",
       "}\n",
       "\n",
       ".xr-array-in:checked ~ .xr-array-data,\n",
       ".xr-array-preview {\n",
       "  display: inline-block;\n",
       "}\n",
       "\n",
       ".xr-dim-list {\n",
       "  display: inline-block !important;\n",
       "  list-style: none;\n",
       "  padding: 0 !important;\n",
       "  margin: 0;\n",
       "}\n",
       "\n",
       ".xr-dim-list li {\n",
       "  display: inline-block;\n",
       "  padding: 0;\n",
       "  margin: 0;\n",
       "}\n",
       "\n",
       ".xr-dim-list:before {\n",
       "  content: '(';\n",
       "}\n",
       "\n",
       ".xr-dim-list:after {\n",
       "  content: ')';\n",
       "}\n",
       "\n",
       ".xr-dim-list li:not(:last-child):after {\n",
       "  content: ',';\n",
       "  padding-right: 5px;\n",
       "}\n",
       "\n",
       ".xr-has-index {\n",
       "  font-weight: bold;\n",
       "}\n",
       "\n",
       ".xr-var-list,\n",
       ".xr-var-item {\n",
       "  display: contents;\n",
       "}\n",
       "\n",
       ".xr-var-item > div,\n",
       ".xr-var-item label,\n",
       ".xr-var-item > .xr-var-name span {\n",
       "  background-color: var(--xr-background-color-row-even);\n",
       "  margin-bottom: 0;\n",
       "}\n",
       "\n",
       ".xr-var-item > .xr-var-name:hover span {\n",
       "  padding-right: 5px;\n",
       "}\n",
       "\n",
       ".xr-var-list > li:nth-child(odd) > div,\n",
       ".xr-var-list > li:nth-child(odd) > label,\n",
       ".xr-var-list > li:nth-child(odd) > .xr-var-name span {\n",
       "  background-color: var(--xr-background-color-row-odd);\n",
       "}\n",
       "\n",
       ".xr-var-name {\n",
       "  grid-column: 1;\n",
       "}\n",
       "\n",
       ".xr-var-dims {\n",
       "  grid-column: 2;\n",
       "}\n",
       "\n",
       ".xr-var-dtype {\n",
       "  grid-column: 3;\n",
       "  text-align: right;\n",
       "  color: var(--xr-font-color2);\n",
       "}\n",
       "\n",
       ".xr-var-preview {\n",
       "  grid-column: 4;\n",
       "}\n",
       "\n",
       ".xr-var-name,\n",
       ".xr-var-dims,\n",
       ".xr-var-dtype,\n",
       ".xr-preview,\n",
       ".xr-attrs dt {\n",
       "  white-space: nowrap;\n",
       "  overflow: hidden;\n",
       "  text-overflow: ellipsis;\n",
       "  padding-right: 10px;\n",
       "}\n",
       "\n",
       ".xr-var-name:hover,\n",
       ".xr-var-dims:hover,\n",
       ".xr-var-dtype:hover,\n",
       ".xr-attrs dt:hover {\n",
       "  overflow: visible;\n",
       "  width: auto;\n",
       "  z-index: 1;\n",
       "}\n",
       "\n",
       ".xr-var-attrs,\n",
       ".xr-var-data {\n",
       "  display: none;\n",
       "  background-color: var(--xr-background-color) !important;\n",
       "  padding-bottom: 5px !important;\n",
       "}\n",
       "\n",
       ".xr-var-attrs-in:checked ~ .xr-var-attrs,\n",
       ".xr-var-data-in:checked ~ .xr-var-data {\n",
       "  display: block;\n",
       "}\n",
       "\n",
       ".xr-var-data > table {\n",
       "  float: right;\n",
       "}\n",
       "\n",
       ".xr-var-name span,\n",
       ".xr-var-data,\n",
       ".xr-attrs {\n",
       "  padding-left: 25px !important;\n",
       "}\n",
       "\n",
       ".xr-attrs,\n",
       ".xr-var-attrs,\n",
       ".xr-var-data {\n",
       "  grid-column: 1 / -1;\n",
       "}\n",
       "\n",
       "dl.xr-attrs {\n",
       "  padding: 0;\n",
       "  margin: 0;\n",
       "  display: grid;\n",
       "  grid-template-columns: 125px auto;\n",
       "}\n",
       "\n",
       ".xr-attrs dt,\n",
       ".xr-attrs dd {\n",
       "  padding: 0;\n",
       "  margin: 0;\n",
       "  float: left;\n",
       "  padding-right: 10px;\n",
       "  width: auto;\n",
       "}\n",
       "\n",
       ".xr-attrs dt {\n",
       "  font-weight: normal;\n",
       "  grid-column: 1;\n",
       "}\n",
       "\n",
       ".xr-attrs dt:hover span {\n",
       "  display: inline-block;\n",
       "  background: var(--xr-background-color);\n",
       "  padding-right: 10px;\n",
       "}\n",
       "\n",
       ".xr-attrs dd {\n",
       "  grid-column: 2;\n",
       "  white-space: pre-wrap;\n",
       "  word-break: break-all;\n",
       "}\n",
       "\n",
       ".xr-icon-database,\n",
       ".xr-icon-file-text2 {\n",
       "  display: inline-block;\n",
       "  vertical-align: middle;\n",
       "  width: 1em;\n",
       "  height: 1.5em !important;\n",
       "  stroke-width: 0;\n",
       "  stroke: currentColor;\n",
       "  fill: currentColor;\n",
       "}\n",
       "</style><pre class='xr-text-repr-fallback'>&lt;xarray.Dataset&gt;\n",
       "Dimensions:   (northing: 222, easting: 220)\n",
       "Coordinates:\n",
       "  * easting   (easting) float64 5e+05 5.003e+05 ... 5.544e+05 5.547e+05\n",
       "  * northing  (northing) float64 8.784e+06 8.784e+06 ... 8.839e+06 8.839e+06\n",
       "Data variables:\n",
       "    UTHRAZAO  (northing, easting) float64 0.1301 0.1312 0.133 ... 0.1108 0.1121\n",
       "Attributes:\n",
       "    metadata:  Generated by Chain(steps=[(&#x27;trend&#x27;, Trend(degree=1)),\\n       ...</pre><div class='xr-wrap' hidden><div class='xr-header'><div class='xr-obj-type'>xarray.Dataset</div></div><ul class='xr-sections'><li class='xr-section-item'><input id='section-a47e797b-1272-4b99-97e6-3974bac58efc' class='xr-section-summary-in' type='checkbox' disabled ><label for='section-a47e797b-1272-4b99-97e6-3974bac58efc' class='xr-section-summary'  title='Expand/collapse section'>Dimensions:</label><div class='xr-section-inline-details'><ul class='xr-dim-list'><li><span class='xr-has-index'>northing</span>: 222</li><li><span class='xr-has-index'>easting</span>: 220</li></ul></div><div class='xr-section-details'></div></li><li class='xr-section-item'><input id='section-d32d97f8-6963-45a1-9ff7-3d378f57dd79' class='xr-section-summary-in' type='checkbox'  checked><label for='section-d32d97f8-6963-45a1-9ff7-3d378f57dd79' class='xr-section-summary' >Coordinates: <span>(2)</span></label><div class='xr-section-inline-details'></div><div class='xr-section-details'><ul class='xr-var-list'><li class='xr-var-item'><div class='xr-var-name'><span class='xr-has-index'>easting</span></div><div class='xr-var-dims'>(easting)</div><div class='xr-var-dtype'>float64</div><div class='xr-var-preview xr-preview'>5e+05 5.003e+05 ... 5.547e+05</div><input id='attrs-8520cc74-4044-41da-8a1a-d70c9dbb2f9e' class='xr-var-attrs-in' type='checkbox' disabled><label for='attrs-8520cc74-4044-41da-8a1a-d70c9dbb2f9e' title='Show/Hide attributes'><svg class='icon xr-icon-file-text2'><use xlink:href='#icon-file-text2'></use></svg></label><input id='data-b7f96fa8-715e-4c17-8ed1-c99894e71b7d' class='xr-var-data-in' type='checkbox'><label for='data-b7f96fa8-715e-4c17-8ed1-c99894e71b7d' title='Show/Hide data repr'><svg class='icon xr-icon-database'><use xlink:href='#icon-database'></use></svg></label><div class='xr-var-attrs'><dl class='xr-attrs'></dl></div><div class='xr-var-data'><pre>array([500005.3     , 500255.025799, 500504.751598, ..., 554195.798402,\n",
       "       554445.524201, 554695.25    ])</pre></div></li><li class='xr-var-item'><div class='xr-var-name'><span class='xr-has-index'>northing</span></div><div class='xr-var-dims'>(northing)</div><div class='xr-var-dtype'>float64</div><div class='xr-var-preview xr-preview'>8.784e+06 8.784e+06 ... 8.839e+06</div><input id='attrs-f607a168-1ab6-4692-8c78-75760deff0c3' class='xr-var-attrs-in' type='checkbox' disabled><label for='attrs-f607a168-1ab6-4692-8c78-75760deff0c3' title='Show/Hide attributes'><svg class='icon xr-icon-file-text2'><use xlink:href='#icon-file-text2'></use></svg></label><input id='data-e73e6f2d-a276-41ba-81c4-df3deefe08d3' class='xr-var-data-in' type='checkbox'><label for='data-e73e6f2d-a276-41ba-81c4-df3deefe08d3' title='Show/Hide data repr'><svg class='icon xr-icon-database'><use xlink:href='#icon-database'></use></svg></label><div class='xr-var-attrs'><dl class='xr-attrs'></dl></div><div class='xr-var-data'><pre>array([8783975.94    , 8784226.296471, 8784476.652941, ..., 8838804.007059,\n",
       "       8839054.363529, 8839304.72    ])</pre></div></li></ul></div></li><li class='xr-section-item'><input id='section-be5a269f-4ce7-43b6-9c84-22e25672fa6b' class='xr-section-summary-in' type='checkbox'  checked><label for='section-be5a269f-4ce7-43b6-9c84-22e25672fa6b' class='xr-section-summary' >Data variables: <span>(1)</span></label><div class='xr-section-inline-details'></div><div class='xr-section-details'><ul class='xr-var-list'><li class='xr-var-item'><div class='xr-var-name'><span>UTHRAZAO</span></div><div class='xr-var-dims'>(northing, easting)</div><div class='xr-var-dtype'>float64</div><div class='xr-var-preview xr-preview'>0.1301 0.1312 ... 0.1108 0.1121</div><input id='attrs-5be6919d-ffc6-4730-bdc1-b92d885eb1b7' class='xr-var-attrs-in' type='checkbox' ><label for='attrs-5be6919d-ffc6-4730-bdc1-b92d885eb1b7' title='Show/Hide attributes'><svg class='icon xr-icon-file-text2'><use xlink:href='#icon-file-text2'></use></svg></label><input id='data-2107cf6a-37ea-4557-abb6-15b9f844b504' class='xr-var-data-in' type='checkbox'><label for='data-2107cf6a-37ea-4557-abb6-15b9f844b504' title='Show/Hide data repr'><svg class='icon xr-icon-database'><use xlink:href='#icon-database'></use></svg></label><div class='xr-var-attrs'><dl class='xr-attrs'><dt><span>metadata :</span></dt><dd>Generated by Chain(steps=[(&#x27;trend&#x27;, Trend(degree=1)),\n",
       "             (&#x27;reduce&#x27;,\n",
       "              BlockReduce(reduction=&lt;function mean at 0x7f8ff81cb3a0&gt;,\n",
       "                          spacing=1000)),\n",
       "             (&#x27;spline&#x27;, Spline())])</dd></dl></div><div class='xr-var-data'><pre>array([[0.13007234, 0.13115064, 0.13301646, ..., 0.51320608, 0.58126352,\n",
       "        0.62908626],\n",
       "       [0.12927661, 0.13004342, 0.13190917, ..., 0.48742586, 0.55826048,\n",
       "        0.60019882],\n",
       "       [0.12988483, 0.13048546, 0.13227872, ..., 0.44852222, 0.51854434,\n",
       "        0.55322325],\n",
       "       ...,\n",
       "       [0.12019422, 0.12443677, 0.13398416, ..., 0.13828023, 0.13885178,\n",
       "        0.13590571],\n",
       "       [0.11492832, 0.12067562, 0.13132178, ..., 0.12227453, 0.12486651,\n",
       "        0.12449899],\n",
       "       [0.11253542, 0.11968771, 0.13042643, ..., 0.10751465, 0.1108103 ,\n",
       "        0.11213505]])</pre></div></li></ul></div></li><li class='xr-section-item'><input id='section-c9578276-c7de-4d3f-988f-6fde1026eebe' class='xr-section-summary-in' type='checkbox'  checked><label for='section-c9578276-c7de-4d3f-988f-6fde1026eebe' class='xr-section-summary' >Attributes: <span>(1)</span></label><div class='xr-section-inline-details'></div><div class='xr-section-details'><dl class='xr-attrs'><dt><span>metadata :</span></dt><dd>Generated by Chain(steps=[(&#x27;trend&#x27;, Trend(degree=1)),\n",
       "             (&#x27;reduce&#x27;,\n",
       "              BlockReduce(reduction=&lt;function mean at 0x7f8ff81cb3a0&gt;,\n",
       "                          spacing=1000)),\n",
       "             (&#x27;spline&#x27;, Spline())])</dd></dl></div></li></ul></div></div>"
      ],
      "text/plain": [
       "<xarray.Dataset>\n",
       "Dimensions:   (northing: 222, easting: 220)\n",
       "Coordinates:\n",
       "  * easting   (easting) float64 5e+05 5.003e+05 ... 5.544e+05 5.547e+05\n",
       "  * northing  (northing) float64 8.784e+06 8.784e+06 ... 8.839e+06 8.839e+06\n",
       "Data variables:\n",
       "    UTHRAZAO  (northing, easting) float64 0.1301 0.1312 0.133 ... 0.1108 0.1121\n",
       "Attributes:\n",
       "    metadata:  Generated by Chain(steps=[('trend', Trend(degree=1)),\\n       ..."
      ]
     },
     "execution_count": 89,
     "metadata": {},
     "output_type": "execute_result"
    }
   ],
   "source": [
    "grid = chain.grid(spacing=250, data_names=['UTHRAZAO'])\n",
    "grid_mask = vd.distance_mask(coordinates, maxdist=500, grid=grid)\n",
    "grid_mask"
   ]
  },
  {
   "cell_type": "code",
   "execution_count": null,
   "metadata": {},
   "outputs": [],
   "source": [
    "df_THKRAZAO=grid_mask.to_dataframe()\n",
    "df_THKRAZAO_descrito = df_THKRAZAO.describe(percentiles=(0.01,0.1,0.25,0.5,0.75,0.995))"
   ]
  },
  {
   "cell_type": "code",
   "execution_count": null,
   "metadata": {},
   "outputs": [
    {
     "data": {
      "text/html": [
       "<div>\n",
       "<style scoped>\n",
       "    .dataframe tbody tr th:only-of-type {\n",
       "        vertical-align: middle;\n",
       "    }\n",
       "\n",
       "    .dataframe tbody tr th {\n",
       "        vertical-align: top;\n",
       "    }\n",
       "\n",
       "    .dataframe thead th {\n",
       "        text-align: right;\n",
       "    }\n",
       "</style>\n",
       "<table border=\"1\" class=\"dataframe\">\n",
       "  <thead>\n",
       "    <tr style=\"text-align: right;\">\n",
       "      <th></th>\n",
       "      <th>UTHRAZAO</th>\n",
       "    </tr>\n",
       "  </thead>\n",
       "  <tbody>\n",
       "    <tr>\n",
       "      <th>count</th>\n",
       "      <td>48840.000000</td>\n",
       "    </tr>\n",
       "    <tr>\n",
       "      <th>mean</th>\n",
       "      <td>0.120143</td>\n",
       "    </tr>\n",
       "    <tr>\n",
       "      <th>std</th>\n",
       "      <td>0.038541</td>\n",
       "    </tr>\n",
       "    <tr>\n",
       "      <th>min</th>\n",
       "      <td>0.029307</td>\n",
       "    </tr>\n",
       "    <tr>\n",
       "      <th>1%</th>\n",
       "      <td>0.064182</td>\n",
       "    </tr>\n",
       "    <tr>\n",
       "      <th>10%</th>\n",
       "      <td>0.077894</td>\n",
       "    </tr>\n",
       "    <tr>\n",
       "      <th>25%</th>\n",
       "      <td>0.091941</td>\n",
       "    </tr>\n",
       "    <tr>\n",
       "      <th>50%</th>\n",
       "      <td>0.115054</td>\n",
       "    </tr>\n",
       "    <tr>\n",
       "      <th>75%</th>\n",
       "      <td>0.139801</td>\n",
       "    </tr>\n",
       "    <tr>\n",
       "      <th>99.5%</th>\n",
       "      <td>0.267650</td>\n",
       "    </tr>\n",
       "    <tr>\n",
       "      <th>max</th>\n",
       "      <td>0.629086</td>\n",
       "    </tr>\n",
       "  </tbody>\n",
       "</table>\n",
       "</div>"
      ],
      "text/plain": [
       "           UTHRAZAO\n",
       "count  48840.000000\n",
       "mean       0.120143\n",
       "std        0.038541\n",
       "min        0.029307\n",
       "1%         0.064182\n",
       "10%        0.077894\n",
       "25%        0.091941\n",
       "50%        0.115054\n",
       "75%        0.139801\n",
       "99.5%      0.267650\n",
       "max        0.629086"
      ]
     },
     "execution_count": 115,
     "metadata": {},
     "output_type": "execute_result"
    }
   ],
   "source": [
    "df_THKRAZAO_descrito"
   ]
  },
  {
   "cell_type": "code",
   "execution_count": null,
   "metadata": {},
   "outputs": [
    {
     "data": {
      "application/vnd.jupyter.widget-view+json": {
       "model_id": "fc53851433e84563ad325325ddcebbcc",
       "version_major": 2,
       "version_minor": 0
      },
      "text/plain": [
       "Canvas(toolbar=Toolbar(toolitems=[('Home', 'Reset original view', 'home', 'home'), ('Back', 'Back to previous …"
      ]
     },
     "metadata": {},
     "output_type": "display_data"
    },
    {
     "data": {
      "text/plain": [
       "(499880.4371004566, 554820.1128995434, 8783850.761764705, 8839429.898235295)"
      ]
     },
     "execution_count": 91,
     "metadata": {},
     "output_type": "execute_result"
    }
   ],
   "source": [
    "grid_mask.UTHRAZAO.plot(figsize=(8,8), cmap='rainbow',vmin=df_THKRAZAO_descrito.UTHRAZAO.min(),\n",
    "                                                      vmax=df_THKRAZAO_descrito.UTHRAZAO.max())\n",
    "plt.axis('scaled')"
   ]
  },
  {
   "cell_type": "markdown",
   "metadata": {},
   "source": [
    "### Model Validation"
   ]
  },
  {
   "cell_type": "markdown",
   "metadata": {},
   "source": [
    "### Escondendo 10% dos dados antes de inserir no chain.fit()"
   ]
  },
  {
   "cell_type": "code",
   "execution_count": null,
   "metadata": {},
   "outputs": [
    {
     "data": {
      "application/vnd.jupyter.widget-view+json": {
       "model_id": "2bc68bfa025e4eea811865073feb3f89",
       "version_major": 2,
       "version_minor": 0
      },
      "text/plain": [
       "Canvas(toolbar=Toolbar(toolitems=[('Home', 'Reset original view', 'home', 'home'), ('Back', 'Back to previous …"
      ]
     },
     "metadata": {},
     "output_type": "display_data"
    },
    {
     "data": {
      "text/plain": [
       "(497270.8025, 557429.7475, 8781209.501, 8842071.159)"
      ]
     },
     "execution_count": 95,
     "metadata": {},
     "output_type": "execute_result"
    }
   ],
   "source": [
    "train, test = vd.train_test_split(coordinates, data.UTHRAZAO,\n",
    "                                 test_size = 0.1)\n",
    "\n",
    "plt.figure(figsize=(12,12))\n",
    "plt.title(label='Dados Escondidos(Vermelho) Dados inseridos no modelo de Splines(Azul)')\n",
    "plt.plot(train[0][0], train[0][1], '.b', markersize=4)\n",
    "plt.plot(test[0][0], test[0][1], '.r', markersize=4)\n",
    "plt.axis('scaled')"
   ]
  },
  {
   "cell_type": "markdown",
   "metadata": {},
   "source": []
  },
  {
   "cell_type": "code",
   "execution_count": null,
   "metadata": {},
   "outputs": [
    {
     "data": {
      "text/plain": [
       "0.6673176584341012"
      ]
     },
     "execution_count": 73,
     "metadata": {},
     "output_type": "execute_result"
    }
   ],
   "source": [
    "chain.fit(*train)\n",
    "# *train   ---> chain.fit(train[0], train[1])\n",
    "\n",
    "chain.score(*test)\n"
   ]
  },
  {
   "cell_type": "code",
   "execution_count": null,
   "metadata": {},
   "outputs": [],
   "source": [
    "chain = vd.Chain([\n",
    "    ('trend',  vd.Trend(degree=4)),\n",
    "    ('reduce', vd.BlockReduce(np.mean, spacing=1500)),\n",
    "    ('spline', vd.Spline())\n",
    "])"
   ]
  },
  {
   "cell_type": "code",
   "execution_count": null,
   "metadata": {},
   "outputs": [
    {
     "data": {
      "application/vnd.jupyter.widget-view+json": {
       "model_id": "bcf29214d8b44736b76fc54444155dd5",
       "version_major": 2,
       "version_minor": 0
      },
      "text/plain": [
       "Canvas(toolbar=Toolbar(toolitems=[('Home', 'Reset original view', 'home', 'home'), ('Back', 'Back to previous …"
      ]
     },
     "metadata": {},
     "output_type": "display_data"
    },
    {
     "data": {
      "text/plain": [
       "0.339774914835025"
      ]
     },
     "execution_count": 119,
     "metadata": {},
     "output_type": "execute_result"
    }
   ],
   "source": [
    "train, test = vd.train_test_split(coordinates, data.UTHRAZAO, test_size=0.1, spacing=500)\n",
    "\n",
    "plt.figure(figsize=(9,9))\n",
    "plt.plot(train[0][0], train[0][1], '.b', markersize=10)\n",
    "plt.plot(test[0][0], test[0][1], '.r', markersize=10)\n",
    "plt.axis('scaled')\n",
    "\n",
    "chain.fit(*train)\n",
    "\n",
    "chain.score(*test)"
   ]
  },
  {
   "cell_type": "markdown",
   "metadata": {},
   "source": [
    "# Script"
   ]
  },
  {
   "cell_type": "code",
   "execution_count": null,
   "metadata": {},
   "outputs": [],
   "source": [
    "from sources import source_code as f"
   ]
  },
  {
   "cell_type": "code",
   "execution_count": null,
   "metadata": {},
   "outputs": [
    {
     "data": {
      "text/plain": [
       "(500000.0, 527356.0359910944, 8811651.835175423, 8839304.90587394)"
      ]
     },
     "execution_count": 8,
     "metadata": {},
     "output_type": "execute_result"
    }
   ],
   "source": [
    "dic_cartas['region_proj'][i]"
   ]
  },
  {
   "cell_type": "code",
   "execution_count": null,
   "metadata": {},
   "outputs": [
    {
     "name": "stdout",
     "output_type": "stream",
     "text": [
      "importando dados geofisicos\n",
      "# --- Iniciando seleção de área de estudo\n",
      "1 folha cartográfica selecionada\n",
      "\n",
      "Listando atributos dos dados geofisicos\n",
      "# --- # Listagem de dados do aerolevantamento:  \n",
      "Lista de atributos geofísicos = ['MDT', 'KPERC', 'eU', 'eth', 'CTCOR', 'THKRAZAO', 'UKRAZAO', 'UTHRAZAO']\n",
      "lista de atributos geograficos = ['LONGITUDE', 'LATITUDE']\n",
      "lista de atributos projetados = ['X', 'Y']\n"
     ]
    },
    {
     "name": "stderr",
     "output_type": "stream",
     "text": [
      "/home/ggrl/anaconda3/envs/geologist_bot/lib/python3.8/site-packages/geopandas/geodataframe.py:1322: SettingWithCopyWarning: \n",
      "A value is trying to be set on a copy of a slice from a DataFrame.\n",
      "Try using .loc[row_indexer,col_indexer] = value instead\n",
      "\n",
      "See the caveats in the documentation: https://pandas.pydata.org/pandas-docs/stable/user_guide/indexing.html#returning-a-view-versus-a-copy\n",
      "  super(GeoDataFrame, self).__setitem__(key, value)\n"
     ]
    },
    {
     "name": "stdout",
     "output_type": "stream",
     "text": [
      "\n",
      "# --- Início da iteração entre as folhas cartográficas #\n",
      "# Folha de código: SC23_Z_A_IV\n",
      " Atualizando dados brutos em dic_cartas['raw_data']\n",
      " com 81859 pontos\n",
      "['SC23_Z_A_IV']\n",
      "folha SC23_Z_A_IV\n",
      "Delayed mean: Delayed('mean-cdb89650-64c9-4f20-aa81-11a8e104faff')\n",
      "0.511437021127595\n",
      "\n"
     ]
    }
   ],
   "source": [
    "dic_cartas,dic_raw_metadata = f.get_region('100k','SC23_Z_A_IV','gama_1089')\n",
    "\n",
    "lista_id = dic_raw_metadata['Lista_id']\n",
    "print(list(lista_id))\n",
    "\n",
    "for i in lista_id:\n",
    "    print(f\"folha {i}\")\n",
    "    data = dic_cartas['raw_data'][i]\n",
    "\n",
    "    coordinates = (data.X.values, data.Y.values)\n",
    "    region = dic_cartas['region_proj'][i]\n",
    "\n",
    "    chain = vd.Chain([('trend',  vd.Trend(degree=1)),\n",
    "                     ('reduce', vd.BlockReduce(np.mean, spacing=1000)),\n",
    "                     ('spline', vd.Spline())\n",
    "                    ])\n",
    "\n",
    "    cv     = vd.BlockKFold(spacing=500,\n",
    "                            n_splits=10,\n",
    "                            shuffle=True)\n",
    "\n",
    "    scores = vd.cross_val_score(chain,\n",
    "                            coordinates,\n",
    "                            data.eU,\n",
    "                            cv=cv,\n",
    "                            delayed=True)\n",
    "\n",
    "    import dask\n",
    "    mean_score = dask.delayed(np.mean)(scores)\n",
    "    print(\"Delayed mean:\", mean_score)\n",
    "\n",
    "    mean_score = mean_score.compute()\n",
    "\n",
    "    print(mean_score)\n",
    "\n",
    "    print(\"\")"
   ]
  },
  {
   "cell_type": "code",
   "execution_count": null,
   "metadata": {},
   "outputs": [
    {
     "name": "stdout",
     "output_type": "stream",
     "text": [
      "importando dados geofisicos\n",
      "# --- Iniciando seleção de área de estudo\n",
      "1 folha cartográfica selecionada\n",
      "\n",
      "Listando atributos dos dados geofisicos\n",
      "# --- # Listagem de dados do aerolevantamento:  \n",
      "Lista de atributos geofísicos = ['MDT', 'KPERC', 'eU', 'eth', 'CTCOR', 'THKRAZAO', 'UKRAZAO', 'UTHRAZAO']\n",
      "lista de atributos geograficos = ['LONGITUDE', 'LATITUDE']\n",
      "lista de atributos projetados = ['X', 'Y']\n"
     ]
    },
    {
     "name": "stderr",
     "output_type": "stream",
     "text": [
      "/home/ggrl/anaconda3/envs/geologist_bot/lib/python3.8/site-packages/geopandas/geodataframe.py:1322: SettingWithCopyWarning: \n",
      "A value is trying to be set on a copy of a slice from a DataFrame.\n",
      "Try using .loc[row_indexer,col_indexer] = value instead\n",
      "\n",
      "See the caveats in the documentation: https://pandas.pydata.org/pandas-docs/stable/user_guide/indexing.html#returning-a-view-versus-a-copy\n",
      "  super(GeoDataFrame, self).__setitem__(key, value)\n"
     ]
    },
    {
     "name": "stdout",
     "output_type": "stream",
     "text": [
      "\n",
      "# --- Início da iteração entre as folhas cartográficas #\n",
      "# Folha de código: SC23_Z_A_IV\n",
      " Atualizando dados brutos em dic_cartas['raw_data']\n",
      " com 81859 pontos\n",
      "['SC23_Z_A_IV']\n",
      "folha SC23_Z_A_IV\n",
      "Delayed mean: Delayed('mean-d5ad70cd-a5ef-46f1-83e5-bc018883158a')\n",
      "0.4794616449012649\n",
      "\n"
     ]
    }
   ],
   "source": [
    "dic_cartas,dic_raw_metadata = f.get_region('100k','SC23_Z_A_IV','gama_1089')\n",
    "\n",
    "lista_id = dic_raw_metadata['Lista_id']\n",
    "print(list(lista_id))\n",
    "\n",
    "for i in lista_id:\n",
    "    print(f\"folha {i}\")\n",
    "    data = dic_cartas['raw_data'][i]\n",
    "\n",
    "    coordinates = (data.X.values, data.Y.values)\n",
    "    region = dic_cartas['region_proj'][i]\n",
    "\n",
    "    chain = vd.Chain([('trend',  vd.Trend(degree=3)),\n",
    "                     ('reduce', vd.BlockReduce(np.mean, spacing=2000)),\n",
    "                     ('spline', vd.Spline())\n",
    "                    ])\n",
    "\n",
    "    cv     = vd.BlockKFold(spacing=100,\n",
    "                            n_splits=50,\n",
    "                            shuffle=True)\n",
    "\n",
    "    scores = vd.cross_val_score(chain,\n",
    "                            coordinates,\n",
    "                            data.eU,\n",
    "                            cv=cv,\n",
    "                            delayed=True)\n",
    "\n",
    "    import dask\n",
    "    mean_score = dask.delayed(np.mean)(scores)\n",
    "    print(\"Delayed mean:\", mean_score)\n",
    "\n",
    "    mean_score = mean_score.compute()\n",
    "\n",
    "    print(mean_score)\n",
    "\n",
    "    print(\"\")"
   ]
  },
  {
   "cell_type": "code",
   "execution_count": null,
   "metadata": {},
   "outputs": [
    {
     "data": {
      "text/plain": [
       "dict_keys(['region', 'region_proj', 'raw_data', 'interpolado', 'scores', 'lito_geof', 'mean_score'])"
      ]
     },
     "execution_count": 7,
     "metadata": {},
     "output_type": "execute_result"
    }
   ],
   "source": [
    "dic_cartas.keys()"
   ]
  },
  {
   "cell_type": "code",
   "execution_count": null,
   "metadata": {},
   "outputs": [
    {
     "data": {
      "text/plain": [
       "''"
      ]
     },
     "execution_count": 10,
     "metadata": {},
     "output_type": "execute_result"
    }
   ],
   "source": [
    "dic_cartas['interpolado']['SC23_Z_A_IV']"
   ]
  },
  {
   "cell_type": "code",
   "execution_count": null,
   "metadata": {},
   "outputs": [
    {
     "name": "stdout",
     "output_type": "stream",
     "text": [
      "['SC23_Z_A_IV']\n",
      "['MDT', 'KPERC', 'eU', 'eth', 'CTCOR', 'THKRAZAO', 'UKRAZAO', 'UTHRAZAO']\n"
     ]
    }
   ],
   "source": [
    "lista_id = dic_raw_metadata['Lista_id']\n",
    "print(list(lista_id))\n",
    "lista_geof = dic_raw_metadata['Lista_at_geof']\n",
    "print(list(lista_geof))"
   ]
  },
  {
   "cell_type": "code",
   "execution_count": null,
   "metadata": {},
   "outputs": [
    {
     "name": "stdout",
     "output_type": "stream",
     "text": [
      "folha SC23_Z_A_IV\n",
      "# Folha de código: SC23_Z_A_IV\n",
      " Atualizando dados brutos em dic_cartas['raw_data']\n"
     ]
    },
    {
     "ename": "NameError",
     "evalue": "name 'data_list' is not defined",
     "output_type": "error",
     "traceback": [
      "\u001b[0;31m---------------------------------------------------------------------------\u001b[0m",
      "\u001b[0;31mNameError\u001b[0m                                 Traceback (most recent call last)",
      "\u001b[0;32m/tmp/ipykernel_36324/3613776674.py\u001b[0m in \u001b[0;36m<module>\u001b[0;34m\u001b[0m\n\u001b[1;32m     15\u001b[0m     \u001b[0mprint\u001b[0m\u001b[0;34m(\u001b[0m\u001b[0;34mf\" Atualizando dados brutos em dic_cartas['raw_data']\"\u001b[0m\u001b[0;34m)\u001b[0m\u001b[0;34m\u001b[0m\u001b[0;34m\u001b[0m\u001b[0m\n\u001b[1;32m     16\u001b[0m     \u001b[0mx\u001b[0m \u001b[0;34m=\u001b[0m \u001b[0;34m{\u001b[0m\u001b[0mindex\u001b[0m\u001b[0;34m:\u001b[0m\u001b[0mdata\u001b[0m\u001b[0;34m}\u001b[0m\u001b[0;34m\u001b[0m\u001b[0;34m\u001b[0m\u001b[0m\n\u001b[0;32m---> 17\u001b[0;31m     \u001b[0mdata_list\u001b[0m\u001b[0;34m[\u001b[0m\u001b[0;36m0\u001b[0m\u001b[0;34m]\u001b[0m\u001b[0;34m[\u001b[0m\u001b[0;34m'raw_data'\u001b[0m\u001b[0;34m]\u001b[0m\u001b[0;34m.\u001b[0m\u001b[0mupdate\u001b[0m\u001b[0;34m(\u001b[0m\u001b[0mx\u001b[0m\u001b[0;34m)\u001b[0m\u001b[0;34m\u001b[0m\u001b[0;34m\u001b[0m\u001b[0m\n\u001b[0m\u001b[1;32m     18\u001b[0m     \u001b[0mprint\u001b[0m\u001b[0;34m(\u001b[0m\u001b[0;34mf\" com {len(data)} pontos de contagens radiométricas coletados com linhas de voo de {spacing} metros\"\u001b[0m\u001b[0;34m)\u001b[0m\u001b[0;34m\u001b[0m\u001b[0;34m\u001b[0m\u001b[0m\n\u001b[1;32m     19\u001b[0m \u001b[0;34m\u001b[0m\u001b[0m\n",
      "\u001b[0;31mNameError\u001b[0m: name 'data_list' is not defined"
     ]
    }
   ],
   "source": [
    "for index in lista_id:\n",
    "    print(f\"folha {index}\")\n",
    "    data = dic_cartas['raw_data'][index]\n",
    "\n",
    "    coordinates = (data.X.values, data.Y.values)\n",
    "    region = dic_cartas['region_proj'][index]\n",
    "\n",
    "    chain = vd.Chain([('trend',  vd.Trend(degree=1)),\n",
    "                     ('reduce', vd.BlockReduce(np.mean, spacing=2000)),\n",
    "                     ('spline', vd.Spline())\n",
    "                    ])\n",
    "\n",
    "\n",
    "    print(f\"# Folha de código: {index}\")\n",
    "    print(f\" Atualizando dados brutos em dic_cartas['raw_data']\")\n",
    "    x = {index:data}\n",
    "    data_list[0]['raw_data'].update(x) \n",
    "    print(f\" com {len(data)} pontos de contagens radiométricas coletados com linhas de voo de {spacing} metros\")\n",
    "    \n",
    "    # ADICIONANDO ATRIBUTOS GEOFÍSICOS AO DICIONÁRIO INTERPOLADO\n",
    "    interpolado={}\n",
    "    for atributo in lista_geof:\n",
    "        x = {atributo:''}\n",
    "        interpolado.update(x)\n",
    "    #print(f\" Construindo dic_cartas['interpolado'] vazio com os atributos geofísicos\")\n",
    "        \n",
    "    # ADICIONANDO ATRIBUTOS AO DICIONÁRIO SCORES\n",
    "    scores={}\n",
    "    for atributo in lista_geof:\n",
    "        y = {atributo:''}\n",
    "        scores.update(y)\n",
    "\n",
    "    mean_score={}\n",
    "    for atributo in lista_geof:\n",
    "        x = {atributo:''}\n",
    "        mean_score.update(x)    \n",
    "\n",
    "    #print(f\" Construindo dicionário vazio de score do cross validation\")\n",
    "    \n",
    "    for i in lista_geof:\n",
    "        cv     = vd.BlockKFold(spacing=500,\n",
    "                                n_splits=10,\n",
    "                                shuffle=True)\n",
    "\n",
    "        scores[i] = vd.cross_val_score(chain,\n",
    "                                coordinates,\n",
    "                                data[i],\n",
    "                                cv=cv,\n",
    "                                delayed=True)\n",
    "\n",
    "        import dask\n",
    "        \n",
    "        mean_score[i] = dask.delayed(np.mean)(scores[i])\n",
    "        print(\"Delayed mean:\", mean_score)\n",
    "\n",
    "        mean_score[i] = mean_score[i].compute()\n",
    "        print(mean_score)\n",
    "\n",
    "\n",
    "        y = {index:scores}\n",
    "        dic_cartas['scores'].update(y)\n",
    "        x = {index:mean_score}\n",
    "        dic_cartas['mean_score'].update(x)\n",
    "        print(f\"# Folha {index} atualizada ao dicionário\")\n",
    "\n",
    "        print(\"\")"
   ]
  },
  {
   "cell_type": "code",
   "execution_count": null,
   "metadata": {},
   "outputs": [],
   "source": [
    "grid_coords = vd.grid_coordinates(region, spacing = 250,pixel_register=True)\n",
    "chain.fit(grid_coords)"
   ]
  }
 ],
 "metadata": {
  "interpreter": {
   "hash": "044c3e0300da4fa3c2a1f13c93c64a53d39114a9c33e72628e43c9ffd211a0b1"
  },
  "kernelspec": {
   "display_name": "Python 3.8.11 64-bit ('geologist_bot': conda)",
   "name": "python3"
  },
  "language_info": {
   "codemirror_mode": {
    "name": "ipython",
    "version": 3
   },
   "file_extension": ".py",
   "mimetype": "text/x-python",
   "name": "python",
   "nbconvert_exporter": "python",
   "pygments_lexer": "ipython3",
   "version": "3.8.11"
  }
 },
 "nbformat": 4,
 "nbformat_minor": 4
}
