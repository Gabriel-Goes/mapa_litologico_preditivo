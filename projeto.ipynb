{
 "cells": [
  {
   "cell_type": "markdown",
   "metadata": {
    "tags": []
   },
   "source": [
    "# Imports"
   ]
  },
  {
   "cell_type": "code",
   "execution_count": 1,
   "metadata": {},
   "outputs": [],
   "source": [
    "#from src import Build_mc,Upload_geof,Upload_geof_geografica,Upload_litologia,plot_filtered_values,plot_raw_mag_data,plot_raw_gama_data,plot_histograms,plot_interpolated_histograms,describe_geologico, plotBoxplots,remove_negative_values,sintetic_grid,traditional_interpolation,plot_interpolated_histograms,pop_nodata\n",
    "from src import *\n",
    "from pylab import *\n",
    "\n",
    "from tqdm import tqdm\n",
    "from shapely.ops import transform\n",
    "from shapely.geometry import Point, Polygon\n",
    "\n",
    "import matplotlib.pyplot as plt\n",
    "import pandas as pd\n",
    "import geopandas as gpd\n",
    "import verde as vd\n",
    "import numpy as np\n",
    "import os\n",
    "import pyproj\n",
    "import verde_source as vds\n",
    "\n",
    "import seaborn as sns\n",
    "import xarray as xr\n",
    "import matplotlib\n",
    "\n",
    "from sklearn_som.som import SOM\n",
    "from sklearn.preprocessing import StandardScaler\n",
    "\n",
    "import warnings\n",
    "warnings.filterwarnings(\"ignore\")\n",
    "\n",
    "%matplotlib widget"
   ]
  },
  {
   "cell_type": "code",
   "execution_count": 2,
   "metadata": {},
   "outputs": [],
   "source": [
    "%load_ext autoreload\n",
    "%autoreload 2"
   ]
  },
  {
   "cell_type": "code",
   "execution_count": 3,
   "metadata": {},
   "outputs": [
    {
     "ename": "AttributeError",
     "evalue": "'NoneType' object has no attribute 'keys'",
     "output_type": "error",
     "traceback": [
      "\u001b[0;31m---------------------------------------------------------------------------\u001b[0m",
      "\u001b[0;31mAttributeError\u001b[0m                            Traceback (most recent call last)",
      "Input \u001b[0;32mIn [3]\u001b[0m, in \u001b[0;36m<cell line: 13>\u001b[0;34m()\u001b[0m\n\u001b[1;32m      9\u001b[0m         carta_utm \u001b[38;5;241m=\u001b[39m transform(project,carta_geografica)\n\u001b[1;32m     11\u001b[0m         \u001b[38;5;28;01mbreak\u001b[39;00m\n\u001b[0;32m---> 13\u001b[0m \u001b[43msintetic_grider\u001b[49m\u001b[43m(\u001b[49m\u001b[43m)\u001b[49m\n",
      "Input \u001b[0;32mIn [3]\u001b[0m, in \u001b[0;36msintetic_grider\u001b[0;34m(quadricula, p_size)\u001b[0m\n\u001b[1;32m      1\u001b[0m \u001b[38;5;28;01mdef\u001b[39;00m \u001b[38;5;21msintetic_grider\u001b[39m(quadricula\u001b[38;5;241m=\u001b[39m\u001b[38;5;28;01mNone\u001b[39;00m,p_size\u001b[38;5;241m=\u001b[39m\u001b[38;5;28;01mNone\u001b[39;00m):\n\u001b[0;32m----> 2\u001b[0m     ids \u001b[38;5;241m=\u001b[39m \u001b[38;5;28mlist\u001b[39m(\u001b[43mquadricula\u001b[49m\u001b[38;5;241;43m.\u001b[39;49m\u001b[43mkeys\u001b[49m())\n\u001b[1;32m      3\u001b[0m     wgs84\u001b[38;5;241m=\u001b[39mpyproj\u001b[38;5;241m.\u001b[39mCRS(\u001b[38;5;124m'\u001b[39m\u001b[38;5;124mEPSG:4326\u001b[39m\u001b[38;5;124m'\u001b[39m)\n\u001b[1;32m      4\u001b[0m     \u001b[38;5;28;01mfor\u001b[39;00m \u001b[38;5;28mid\u001b[39m \u001b[38;5;129;01min\u001b[39;00m tqdm(ids):\n",
      "\u001b[0;31mAttributeError\u001b[0m: 'NoneType' object has no attribute 'keys'"
     ]
    }
   ],
   "source": [
    "def sintetic_grider(quadricula=None,p_size=None):\n",
    "    ids = list(quadricula.keys())\n",
    "    wgs84=pyproj.CRS('EPSG:4326')\n",
    "    for id in tqdm(ids):\n",
    "        folha = quadricula[id]['folha']\n",
    "        utm = pyproj.CRS('EPSG:'+folha['EPSG'])\n",
    "        carta_geografica = folha['geometry']\n",
    "        project = pyproj.Transformer.from_crs(wgs84,utm, always_xy=True).transform\n",
    "        carta_utm = transform(project,carta_geografica)\n",
    "        \n",
    "        break\n",
    "\n",
    "sintetic_grider()"
   ]
  },
  {
   "cell_type": "markdown",
   "metadata": {
    "tags": []
   },
   "source": [
    "# Construindo Quadrícula"
   ]
  },
  {
   "cell_type": "code",
   "execution_count": 4,
   "metadata": {},
   "outputs": [
    {
     "name": "stderr",
     "output_type": "stream",
     "text": [
      "100%|███████████████████████████████████████████████████████████████████████████████████████████████████████████████████████████| 6/6 [00:00<00:00, 179.47it/s]\n",
      "6it [00:00, 300.83it/s]"
     ]
    },
    {
     "name": "stdout",
     "output_type": "stream",
     "text": [
      " - Folha \"SF23_YB_I1\" adicionada.\n",
      " - Folha \"SF23_YB_I2\" adicionada.\n",
      " - Folha \"SF23_YB_I3\" adicionada.\n",
      " - Folha \"SF23_YB_I4\" adicionada.\n",
      " - Folha \"SF23_YA_III4\" adicionada.\n",
      " - Folha \"SF23_YA_III2\" adicionada.\n",
      "\n",
      "  6 folhas adicionadas.\n"
     ]
    },
    {
     "name": "stderr",
     "output_type": "stream",
     "text": [
      "\n"
     ]
    }
   ],
   "source": [
    "quadricula = Build_mc(escala='50k',ID=['SF23_YB_I1','SF23_YB_I2','SF23_YB_I3','SF23_YB_I4','SF23_YA_III4','SF23_YA_III2'],verbose=True)"
   ]
  },
  {
   "cell_type": "code",
   "execution_count": 5,
   "metadata": {},
   "outputs": [
    {
     "name": "stdout",
     "output_type": "stream",
     "text": [
      "['SF23_YB_I1', 'SF23_YB_I2', 'SF23_YB_I3', 'SF23_YB_I4', 'SF23_YA_III4', 'SF23_YA_III2']\n"
     ]
    }
   ],
   "source": [
    "id_list = list(quadricula.keys())\n",
    "print(id_list)"
   ]
  },
  {
   "cell_type": "code",
   "execution_count": 6,
   "metadata": {},
   "outputs": [
    {
     "name": "stdout",
     "output_type": "stream",
     "text": [
      " - Folha: SF23_YB_I1\n",
      "['area']\n",
      " - Folha: SF23_YB_I2\n",
      "['area']\n",
      " - Folha: SF23_YB_I3\n",
      "['area']\n",
      " - Folha: SF23_YB_I4\n",
      "['area']\n",
      " - Folha: SF23_YA_III4\n",
      "['area']\n",
      " - Folha: SF23_YA_III2\n",
      "['area']\n"
     ]
    }
   ],
   "source": [
    "list_ids = list(quadricula.keys())\n",
    "for id in list_ids:\n",
    "    print(f' - Folha: {id}')\n",
    "    carta=quadricula[id]\n",
    "    data_list = list(carta.keys())\n",
    "    print(data_list)\n",
    "    for data in data_list[4:]:\n",
    "        print(f'    - {data}')\n",
    "        print(f'        - {list(quadricula[id][data].columns)}')"
   ]
  },
  {
   "cell_type": "code",
   "execution_count": 7,
   "metadata": {},
   "outputs": [
    {
     "name": "stdout",
     "output_type": "stream",
     "text": [
      " - Folha:  SF23_YB_I1\n",
      "    - ['area']\n",
      "EPSG                                                         32723\n",
      "geometry         POLYGON ((-46.5 -22, -46.25 -22, -46.25 -22.25...\n",
      "geometry_proj    POLYGON ((345155.92149832076 7566413.631237755...\n",
      "Name: SF23_YB_I1, dtype: object\n",
      "\n",
      " - Folha:  SF23_YB_I2\n",
      "    - ['area']\n",
      "EPSG                                                         32723\n",
      "geometry         POLYGON ((-46.25 -22, -46 -22, -46 -22.25, -46...\n",
      "geometry_proj    POLYGON ((370966.5303271687 7566645.712226242,...\n",
      "Name: SF23_YB_I2, dtype: object\n",
      "\n",
      " - Folha:  SF23_YB_I3\n",
      "    - ['area']\n",
      "EPSG                                                         32723\n",
      "geometry         POLYGON ((-46.5 -22.25, -46.25 -22.25, -46.25 ...\n",
      "geometry_proj    POLYGON ((345428.90022465715 7538734.872656884...\n",
      "Name: SF23_YB_I3, dtype: object\n",
      "\n",
      " - Folha:  SF23_YB_I4\n",
      "    - ['area']\n",
      "EPSG                                                         32723\n",
      "geometry         POLYGON ((-46.25 -22.25, -46 -22.25, -46 -22.5...\n",
      "geometry_proj    POLYGON ((371193.9792992249 7538969.043997023,...\n",
      "Name: SF23_YB_I4, dtype: object\n",
      "\n",
      " - Folha:  SF23_YA_III4\n",
      "    - ['area']\n",
      "EPSG                                                         32723\n",
      "geometry         POLYGON ((-46.75 -22.25, -46.5 -22.25, -46.5 -...\n",
      "geometry_proj    POLYGON ((319661.7072951732 7538458.080604897,...\n",
      "Name: SF23_YA_III4, dtype: object\n",
      "\n",
      " - Folha:  SF23_YA_III2\n",
      "    - ['area']\n",
      "EPSG                                                         32723\n",
      "geometry         POLYGON ((-46.75 -22, -46.5 -22, -46.5 -22.25,...\n",
      "geometry_proj    POLYGON ((319343.1770066139 7566139.309800772,...\n",
      "Name: SF23_YA_III2, dtype: object\n",
      "\n"
     ]
    }
   ],
   "source": [
    "for id in list_ids:\n",
    "    print(f' - Folha:  {id}')\n",
    "    carta = quadricula[id]\n",
    "    list_carta_keys = list(carta.keys())\n",
    "    print(f'    - {list_carta_keys}')\n",
    "    for key in list_carta_keys:\n",
    "        print(carta[key])\n",
    "        print('')"
   ]
  },
  {
   "cell_type": "markdown",
   "metadata": {},
   "source": [
    "## Construindo grid regular sintético"
   ]
  },
  {
   "cell_type": "markdown",
   "metadata": {},
   "source": [
    "## Verde gridder"
   ]
  },
  {
   "cell_type": "code",
   "execution_count": null,
   "metadata": {},
   "outputs": [],
   "source": [
    "from verde import grid_coordinates"
   ]
  },
  {
   "cell_type": "code",
   "execution_count": null,
   "metadata": {},
   "outputs": [],
   "source": [
    "def batch_grid_coordinates(quadricula,spacing=0.001,pixel_register=True):\n",
    "    list_id = list(quadricula.keys())\n",
    "    #print(f' Folhas disponíveis: {list_id}')\n",
    "    for id in list_id:\n",
    "        folha = quadricula[id]\n",
    "        print(f' Folha  {id}')\n",
    "\n",
    "        df = quadricula[id]['area']\n",
    "        area = (df['geometry'].bounds[0],df['geometry'].bounds[2],\n",
    "                df['geometry'].bounds[1],df['geometry'].bounds[3])\n",
    "        \n",
    "        xu,yu = grid_coordinates(region=area,spacing=spacing,pixel_register=pixel_register)\n",
    "       \n",
    "        df['coords'] = xu,yu\n",
    "        df['area'] = area\n",
    "        x={'area':df}\n",
    "        quadricula[id].update(x)\n",
    "\n",
    "batch_grid_coordinates(quadricula)"
   ]
  },
  {
   "cell_type": "code",
   "execution_count": null,
   "metadata": {},
   "outputs": [],
   "source": [
    "quadricula['SF23_YA_III2']['area']['coords']"
   ]
  },
  {
   "cell_type": "markdown",
   "metadata": {},
   "source": [
    "## Adicionando dados brutos à Quadrícula"
   ]
  },
  {
   "cell_type": "code",
   "execution_count": null,
   "metadata": {},
   "outputs": [],
   "source": [
    "#Upload_geof(quadricula,'gama_line_1105','mag_line_1105',1000)\n",
    "#gama_1039,mag_1039=Upload_geof(quadricula,'gama_1039','mag_1039',1000)\n",
    "\n",
    "Upload_geof_geografica(quadricula,'gama_line_1105','mag_line_1105',0.01)"
   ]
  },
  {
   "cell_type": "code",
   "execution_count": null,
   "metadata": {},
   "outputs": [],
   "source": [
    "quadricula['SF23_YB_I1']['gama_line_1105']"
   ]
  },
  {
   "cell_type": "code",
   "execution_count": null,
   "metadata": {},
   "outputs": [],
   "source": [
    "geof_list_ids = list(quadricula.keys())\n",
    "for id in geof_list_ids:\n",
    "    print(f' - Folha: {id}')\n",
    "    carta=quadricula[id]\n",
    "    data_list = list(carta.keys())\n",
    "    print(data_list)\n",
    "    for data in data_list[4:]:\n",
    "        print(f'    - {data}')\n",
    "        print(f'        - {list(quadricula[id][data].columns)}')\n"
   ]
  },
  {
   "cell_type": "code",
   "execution_count": null,
   "metadata": {},
   "outputs": [],
   "source": [
    "quadricula=pop_nodata(quadricula)\n",
    "len(quadricula.keys())\n",
    "\n",
    "for id in list(quadricula.keys()):\n",
    "    print(f' - Folha:  {id}')\n",
    "    carta = quadricula[id]\n",
    "    print(f'    - {list(carta.keys())}')"
   ]
  },
  {
   "cell_type": "markdown",
   "metadata": {},
   "source": [
    "## Vizualisando Área de Cobertura"
   ]
  },
  {
   "cell_type": "code",
   "execution_count": null,
   "metadata": {},
   "outputs": [],
   "source": [
    "plt.figure(figsize=(12,12))\n",
    "for id in list(quadricula.keys()):\n",
    "    carta=quadricula[id]['area']\n",
    "    plt.plot(*(carta['geometry']).exterior.xy,color='black')\n",
    "    plt.axis('scaled')\n",
    "    plt.scatter(carta['coords'][0],carta['coords'][1],cmap='terrain',s=1,marker='H')    \n",
    "plt.suptitle('Área de cobertura dos levantamentos aerogeofísicos')\n",
    "plt.axis('scaled')\n",
    "plt.tight_layout()"
   ]
  },
  {
   "cell_type": "code",
   "execution_count": null,
   "metadata": {},
   "outputs": [],
   "source": [
    "plt.figure(figsize=(21,16))\n",
    "for id in list(quadricula.keys()):\n",
    "    carta=quadricula[id]\n",
    "    #print(carta.keys())\n",
    "    plt.plot(*(carta['area']['geometry_proj']).exterior.xy,color='black')\n",
    "    plt.axis('scaled')\n",
    "    for data in list(carta.keys())[:]:\n",
    "        if 'area' or 'lito' or 'mag' in data:\n",
    "            #print('mag OR lito')\n",
    "            pass\n",
    "        else:\n",
    "            print(data)\n",
    "            plt.scatter(carta[data].X,carta[data].Y,c=carta[data].MDT,cmap='terrain',s=1,marker='H')    \n",
    "plt.suptitle('Área de cobertura dos levantamentos aerogeofísicos')\n",
    "plt.axis('scaled')\n",
    "plt.tight_layout()"
   ]
  },
  {
   "cell_type": "markdown",
   "metadata": {},
   "source": [
    "## Visualizando dados Radiométricos Brutos"
   ]
  },
  {
   "cell_type": "code",
   "execution_count": null,
   "metadata": {},
   "outputs": [],
   "source": [
    "df = quadricula['SF23_YA_III4']['gama_line_1105']\n",
    "#remove_negative_values()"
   ]
  },
  {
   "cell_type": "code",
   "execution_count": null,
   "metadata": {},
   "outputs": [],
   "source": [
    "plot_histograms(df,500,'Levantamento 1105 Dados radiométricos brutos')"
   ]
  },
  {
   "cell_type": "markdown",
   "metadata": {
    "jp-MarkdownHeadingCollapsed": true,
    "tags": []
   },
   "source": [
    "# Interpolação dos dados Brutos"
   ]
  },
  {
   "cell_type": "markdown",
   "metadata": {
    "jp-MarkdownHeadingCollapsed": true,
    "tags": []
   },
   "source": [
    "## Verde Splines"
   ]
  },
  {
   "cell_type": "markdown",
   "metadata": {
    "jp-MarkdownHeadingCollapsed": true,
    "tags": []
   },
   "source": [
    "## Método Linear"
   ]
  },
  {
   "cell_type": "code",
   "execution_count": null,
   "metadata": {
    "scrolled": true
   },
   "outputs": [],
   "source": [
    "traditional_interpolation(quadricula,'mag_line_1105','gama_line_1105','linear','geof_1105',extrapolate=True,projection='proj')\n",
    "#traditional_interpolation(quadricula,'mag_1039','gama_1039','linear','geof_1039',extrapolate=True)\n",
    "#traditional_interpolation(quadricula,'mag_3022','gama_3022','linear','geof_3022')"
   ]
  },
  {
   "cell_type": "code",
   "execution_count": null,
   "metadata": {},
   "outputs": [],
   "source": [
    "ds_a = quadricula['SF23_YA_III4']['geof_1105_linear']\n",
    "ds_a"
   ]
  },
  {
   "cell_type": "code",
   "execution_count": null,
   "metadata": {},
   "outputs": [],
   "source": [
    "fig, axes = plt.subplots(4,3,figsize=(36,31))\n",
    "list_data = list(ds_a.keys())\n",
    "for i,ax in enumerate(axes.flatten()):\n",
    "    \n",
    "    if i < len(list_data):\n",
    "        if list_data[i] == 'GMT':\n",
    "            ax.imshow(ds_a[list_data[i]],cmap='bwr')\n",
    "            ax.set(title=ds_a[list_data[i]].name)\n",
    "        elif list_data[i]=='MDT':\n",
    "            ax.imshow(ds_a[list_data[i]],cmap='terrain')\n",
    "            ax.set(title=ds_a[list_data[i]].name)\n",
    "        \n",
    "        else:\n",
    "            ax.imshow(ds_a[list_data[i]])\n",
    "            ax.set(title=ds_a[list_data[i]].name)"
   ]
  },
  {
   "cell_type": "markdown",
   "metadata": {
    "tags": []
   },
   "source": [
    "# Classificações Não-Supervisionadas"
   ]
  },
  {
   "cell_type": "markdown",
   "metadata": {
    "jp-MarkdownHeadingCollapsed": true,
    "tags": []
   },
   "source": [
    "## Rotulando amostras com classes litológicas"
   ]
  },
  {
   "cell_type": "code",
   "execution_count": null,
   "metadata": {},
   "outputs": [],
   "source": [
    "'''\n",
    "import shapely.speedups\n",
    "from shapely import geometry\n",
    "shapely.speedups.enable()\n",
    "\n",
    "#geof_1089_linear['geometry'] = [geometry.Point(x,y) for x, y in zip(geof_1089_linear['X'], geof_1089_linear['Y'])]\n",
    "#gdf_1089_linear = geof_1089_linear.set_geometry('geometry')\n",
    "\n",
    "#gdf_1089_linear.set_crs('EPSG:32723',inplace=True)\n",
    "#gdf_1089_linear.geometry\n",
    "\n",
    "#Upload_litologia(quadricula,'litologia_100k')\n",
    "\n",
    "litologia=quadricula['SB24_ZB_II']['litologia_100k']\n",
    "litologia.to_crs('EPSG:32724',inplace=True)\n",
    "print(litologia.crs)\n",
    "litologia.reset_index(drop=True,inplace=True)\n",
    "\n",
    "dic_litologico = describe_geologico(litologia)\n",
    "print(litologia.columns)\n",
    "\n",
    "#print(dic_litologico['SIGLA']['len'])\n",
    "#print(dic_litologico['SIGLA']['lista'])\n",
    "\n",
    "#litologia.plot('SIGLA',figsize=(16,16),legend=True)\n",
    "\n",
    "#geof_1089_linear['closest_unit'] = geof_1089_linear['geometry'].apply(lambda x: litologia['SIGLA'].iloc[litologia.distance(x).idxmin()]) # .idxmin() Retorna o indice do menor valor \n",
    "\n",
    "#geof_1089_linear.to_csv('/home/ggrl/database/csv/SB24_ZB_II_gama_linear_100m.csv',index=False)\n",
    "'''"
   ]
  },
  {
   "cell_type": "markdown",
   "metadata": {},
   "source": [
    "## Self-organizing maps (SOM)"
   ]
  },
  {
   "cell_type": "markdown",
   "metadata": {
    "jp-MarkdownHeadingCollapsed": true,
    "tags": []
   },
   "source": [
    "### Pixel size"
   ]
  },
  {
   "cell_type": "code",
   "execution_count": null,
   "metadata": {},
   "outputs": [],
   "source": [
    "print(list(quadricula.keys()))\n",
    "print('')\n",
    "print(quadricula['SF23_YA_III4'].keys())\n",
    "print('')\n",
    "ds_a = quadricula['SF23_YA_III4']['geof_1105_linear']\n",
    "ds_b = quadricula['SF23_YA_III2']['geof_1105_linear']"
   ]
  },
  {
   "cell_type": "code",
   "execution_count": null,
   "metadata": {},
   "outputs": [],
   "source": [
    "ds_b.LATITUDE.values.min()"
   ]
  },
  {
   "cell_type": "code",
   "execution_count": null,
   "metadata": {},
   "outputs": [],
   "source": [
    "ds_a.LATITUDE.values.min()"
   ]
  },
  {
   "cell_type": "code",
   "execution_count": null,
   "metadata": {},
   "outputs": [],
   "source": [
    "ds_a"
   ]
  },
  {
   "cell_type": "code",
   "execution_count": null,
   "metadata": {},
   "outputs": [],
   "source": [
    "ds = xr.combine_by_coords([ds_a,ds_b])"
   ]
  },
  {
   "cell_type": "code",
   "execution_count": null,
   "metadata": {},
   "outputs": [],
   "source": [
    "#for id in tqdm(list(quadricula.keys())):\n",
    "#    ds = quadricula[id]['geof_1105_linear']\n",
    "features = list(ds.keys())\n",
    "print(features)"
   ]
  },
  {
   "cell_type": "code",
   "execution_count": null,
   "metadata": {},
   "outputs": [],
   "source": [
    "df = ds[features].to_dataframe()\n",
    "df = df.reset_index()\n",
    "df"
   ]
  },
  {
   "cell_type": "code",
   "execution_count": null,
   "metadata": {},
   "outputs": [],
   "source": [
    "xpixel_size = (ds.LONGITUDE.max().values-ds.LONGITUDE.min().values)/ds.LONGITUDE.size\n",
    "ypixel_size = (ds.LATITUDE.max().values-ds.LATITUDE.min().values)/ds.LATITUDE.size\n",
    "print('x:', xpixel_size, 'y:', ypixel_size)"
   ]
  },
  {
   "cell_type": "code",
   "execution_count": null,
   "metadata": {},
   "outputs": [],
   "source": [
    "nx = ds.LATITUDE.size\n",
    "ny = ds.LONGITUDE.size\n",
    "\n",
    "print(ny,nx,ny/nx)\n",
    "\n",
    "xs = df.LONGITUDE.values.reshape(nx,ny)\n",
    "ys = df.LATITUDE.values.reshape(nx,ny)"
   ]
  },
  {
   "cell_type": "code",
   "execution_count": null,
   "metadata": {},
   "outputs": [],
   "source": [
    "def plot_corr(dataframe, size=10):\n",
    "    plt.figure(figsize = (size+size*0.2, size), facecolor='w')\n",
    "    corrMatrix = dataframe.corr()\n",
    "    sns.heatmap(np.round(corrMatrix,2), annot=True,vmin=-1,vmax=1,cmap='bwr',center=0)\n",
    "    plt.xticks(rotation=90, ha='right')\n",
    "    plt.yticks(rotation=0, ha='right')\n",
    "\n",
    "plot_corr(df, size=12)\n",
    "#plt.savefig('figs/correlation_matrix.png', dpi=400, bbox_inches='tight')"
   ]
  },
  {
   "cell_type": "code",
   "execution_count": null,
   "metadata": {},
   "outputs": [],
   "source": [
    "scaler = StandardScaler()\n",
    "data = scaler.fit_transform(df[features].values)\n",
    "data.shape"
   ]
  },
  {
   "cell_type": "code",
   "execution_count": null,
   "metadata": {},
   "outputs": [],
   "source": [
    "n_clusters=7\n",
    "lito_SOM = SOM(m=n_clusters, n=1, sigma=1.5, dim=len(features), max_iter=1000)\n",
    "lito_SOM.fit(data)"
   ]
  },
  {
   "cell_type": "code",
   "execution_count": null,
   "metadata": {},
   "outputs": [],
   "source": [
    "# predição de classes\n",
    "predictions = lito_SOM.predict(data)"
   ]
  },
  {
   "cell_type": "code",
   "execution_count": null,
   "metadata": {},
   "outputs": [],
   "source": [
    "# create labels\n",
    "cluster_labels=[]\n",
    "for i in range(n_clusters):\n",
    "    cluster_labels+=[f'Classe {i+1}']"
   ]
  },
  {
   "cell_type": "code",
   "execution_count": null,
   "metadata": {},
   "outputs": [],
   "source": [
    "# classes weights\n",
    "fig, ax = plt.subplots(figsize=(19,19))\n",
    "im=ax.matshow(lito_SOM.weights,cmap='bwr',vmin=-1.5,vmax=1.5)\n",
    "for (i, j), z in np.ndenumerate(lito_SOM.weights):\n",
    "    ax.text(j, i, '{:0.2f}'.format(z), ha='center', va='center')\n",
    "\n",
    "plt.yticks(range(n_clusters), cluster_labels, fontsize=9)\n",
    "plt.xticks(range(len(features)), features, rotation=55, fontsize=10, ha='left')\n",
    "fig.colorbar(im, label='weights', orientation='horizontal')\n",
    "plt.gca().set_aspect('equal')\n",
    "plt.gcf().set_size_inches(10, 10)\n",
    "plt.show()"
   ]
  },
  {
   "cell_type": "code",
   "execution_count": null,
   "metadata": {},
   "outputs": [],
   "source": [
    "\n",
    "id_ = [1,2,3,4,6,7]\n",
    "relcolor =  matplotlib.cm.Set3\n",
    "colors = np.array(relcolor.colors)[id_]\n",
    "relcolor = matplotlib.colors.ListedColormap(colors)"
   ]
  },
  {
   "cell_type": "code",
   "execution_count": null,
   "metadata": {},
   "outputs": [],
   "source": [
    "idxs=np.arange(0, n_clusters, 1)\n",
    "half=(idxs[1]-idxs[0])/2\n",
    "ticks=np.linspace(idxs[0]+half, idxs[-1]-half, n_clusters)"
   ]
  },
  {
   "cell_type": "code",
   "execution_count": null,
   "metadata": {},
   "outputs": [],
   "source": [
    "print(xs.shape,ys.shape)"
   ]
  },
  {
   "cell_type": "code",
   "execution_count": null,
   "metadata": {},
   "outputs": [],
   "source": [
    "fig, ax=plt.subplots(figsize=(16, 16), facecolor='w')\n",
    "im=plt.pcolormesh(xs, ys, predictions.reshape(ny, nx), cmap=relcolor, shading='auto')\n",
    "plt.xlim(xs.min(), xs.max())\n",
    "plt.ylim(ys.min(), ys.max())\n",
    "cbar_ax = fig.add_axes([0.93, 0.3, 0.05, 0.4])\n",
    "cbar = fig.colorbar(im, cax=cbar_ax, label = u'Classes', orientation='vertical',\n",
    "                    ticks=ticks)\n",
    "cbar.ax.set_yticklabels(cluster_labels, fontsize=8)\n",
    "plt.suptitle('SOM - Aerogeophysical Data (SF23_YB_I)')\n",
    "plt.axis('scaled')\n",
    "plt.show()"
   ]
  },
  {
   "cell_type": "code",
   "execution_count": null,
   "metadata": {},
   "outputs": [],
   "source": [
    "features = ['MDT','GMT','F_factor']\n",
    "\n",
    "scaler = StandardScaler()\n",
    "data = scaler.fit_transform(df[features].values)\n",
    "n_clusters=10\n",
    "lito_SOM = SOM(m=n_clusters, n=1, sigma=1.5, dim=len(features), max_iter=10000)\n",
    "lito_SOM.fit(data)\n",
    "# predição de classes\n",
    "predictions = lito_SOM.predict(data)\n",
    "# create labels\n",
    "cluster_labels=[]\n",
    "for i in range(n_clusters):\n",
    "    cluster_labels+=[f'Classe {i+1}']\n",
    "\n",
    "\n",
    "# classes weights\n",
    "fig, ax = plt.subplots(figsize=(19,19))\n",
    "im=ax.matshow(lito_SOM.weights)\n",
    "for (i, j), z in np.ndenumerate(lito_SOM.weights):\n",
    "    ax.text(j, i, '{:0.2f}'.format(z), ha='center', va='center')\n",
    "\n",
    "plt.yticks(range(n_clusters), cluster_labels, fontsize=9)\n",
    "plt.xticks(range(len(features)), features, rotation=55, fontsize=10, ha='left')\n",
    "fig.colorbar(im, label='weights', orientation='horizontal')\n",
    "plt.gca().set_aspect('equal')\n",
    "plt.gcf().set_size_inches(10, 10)\n",
    "plt.show()\n",
    "import matplotlib\n",
    "id_ = [1,2,3,4,5,6,7,8,9,10]\n",
    "relcolor =  matplotlib.cm.Set3\n",
    "colors = np.array(relcolor.colors)[id_]\n",
    "relcolor = matplotlib.colors.ListedColormap(colors)\n",
    "idxs=np.arange(0, n_clusters, 1)\n",
    "half=(idxs[1]-idxs[0])/2\n",
    "ticks=np.linspace(idxs[0]+half, idxs[-1]-half, n_clusters)\n",
    "fig, ax=plt.subplots(figsize=(16, 16), facecolor='w')\n",
    "im=plt.pcolormesh(xs, ys, predictions.reshape(ny, nx), cmap=relcolor, shading='auto')\n",
    "plt.xlim(xs.min(), xs.max())\n",
    "plt.ylim(ys.min(), ys.max())\n",
    "cbar_ax = fig.add_axes([0.93, 0.3, 0.05, 0.4])\n",
    "cbar = fig.colorbar(im, cax=cbar_ax, label = u'Classes', orientation='vertical',\n",
    "                    ticks=ticks)\n",
    "cbar.ax.set_yticklabels(cluster_labels, fontsize=8)\n",
    "plt.suptitle('SOM - Aerogeophysical Data ( Aguas de Lindóia - SF23_YA_III4)')\n",
    "plt.axis('scaled')\n",
    "plt.show()"
   ]
  },
  {
   "cell_type": "code",
   "execution_count": null,
   "metadata": {},
   "outputs": [],
   "source": [
    "features = ['MDT','GMT','F_factor','CTCOR']\n",
    "\n",
    "scaler = StandardScaler()\n",
    "data = scaler.fit_transform(df[features].values)\n",
    "n_clusters=10\n",
    "lito_SOM = SOM(m=n_clusters, n=1, sigma=1.5, dim=len(features), max_iter=10000)\n",
    "lito_SOM.fit(data)\n",
    "# predição de classes\n",
    "predictions = lito_SOM.predict(data)\n",
    "# create labels\n",
    "cluster_labels=[]\n",
    "for i in range(n_clusters):\n",
    "    cluster_labels+=[f'Classe {i+1}']\n",
    "\n",
    "\n",
    "# classes weights\n",
    "fig, ax = plt.subplots(figsize=(19,19))\n",
    "im=ax.matshow(lito_SOM.weights)\n",
    "for (i, j), z in np.ndenumerate(lito_SOM.weights):\n",
    "    ax.text(j, i, '{:0.2f}'.format(z), ha='center', va='center')\n",
    "\n",
    "plt.yticks(range(n_clusters), cluster_labels, fontsize=9)\n",
    "plt.xticks(range(len(features)), features, rotation=55, fontsize=10, ha='left')\n",
    "fig.colorbar(im, label='weights', orientation='horizontal')\n",
    "plt.gca().set_aspect('equal')\n",
    "plt.gcf().set_size_inches(10, 10)\n",
    "plt.show()\n",
    "import matplotlib\n",
    "id_ = [1,2,3,4,5,6,7,8,9,10]\n",
    "relcolor =  matplotlib.cm.Set3\n",
    "colors = np.array(relcolor.colors)[id_]\n",
    "relcolor = matplotlib.colors.ListedColormap(colors)\n",
    "idxs=np.arange(0, n_clusters, 1)\n",
    "half=(idxs[1]-idxs[0])/2\n",
    "ticks=np.linspace(idxs[0]+half, idxs[-1]-half, n_clusters)\n",
    "fig, ax=plt.subplots(figsize=(16, 16), facecolor='w')\n",
    "im=plt.pcolormesh(xs, ys, predictions.reshape(ny, nx), cmap=relcolor, shading='auto')\n",
    "plt.xlim(xs.min(), xs.max())\n",
    "plt.ylim(ys.min(), ys.max())\n",
    "cbar_ax = fig.add_axes([0.93, 0.3, 0.05, 0.4])\n",
    "cbar = fig.colorbar(im, cax=cbar_ax, label = u'Classes', orientation='vertical',\n",
    "                    ticks=ticks)\n",
    "cbar.ax.set_yticklabels(cluster_labels, fontsize=8)\n",
    "plt.suptitle('SOM - Aerogeophysical Data ( Aguas de Lindóia - SF23_YA_III4)')\n",
    "plt.axis('scaled')\n",
    "plt.show()"
   ]
  },
  {
   "cell_type": "code",
   "execution_count": null,
   "metadata": {},
   "outputs": [],
   "source": [
    "# get attributes\n",
    "features = list(SF23_YA_III_4.keys())\n",
    "print(features)\n",
    "# transform a xarray.Dataset into pandas.Dataframe\n",
    "df = SF23_YA_III_4[features].to_dataframe()\n",
    "df = df.reset_index()"
   ]
  },
  {
   "cell_type": "code",
   "execution_count": null,
   "metadata": {},
   "outputs": [],
   "source": [
    "# visualize correlations\n",
    "plot_corr(df, size=12)\n",
    "# SELECT FEATURES\n",
    "features = ['MDT','GMT','F_factor']\n",
    "print(f' - Selected Features: {features}')"
   ]
  },
  {
   "cell_type": "code",
   "execution_count": null,
   "metadata": {},
   "outputs": [],
   "source": [
    "# get pixel size\n",
    "xpixel_size = (ds.LONGITUDE.max().values-ds.LONGITUDE.min().values)/ds.LONGITUDE.size\n",
    "ypixel_size = (ds.LATITUDE.max().values-ds.LATITUDE.min().values)/ds.LATITUDE.size\n",
    "print('x:', xpixel_size, 'y:', ypixel_size)\n",
    "# get number of pixels\n",
    "nx = ds.LATITUDE.size\n",
    "ny = ds.LONGITUDE.size\n",
    "print(f'x:{ny} ; y:{nx} | x/y: {ny/nx}')\n",
    "# reshape numpy.array into tuple of arrays\n",
    "xs = df.LONGITUDE.values.reshape(nx,ny)\n",
    "ys = df.LATITUDE.values.reshape(nx,ny)\n",
    "# transform - fit dataframe to scallar matrix of shape 250 x 250\n",
    "scaler = StandardScaler()\n",
    "data = scaler.fit_transform(df[features].values)\n",
    "print(f' - Scalar shape:   {data.shape}')\n",
    "# Clusters, n, sigma, iterations\n",
    "n_clusters=10\n",
    "lito_SOM = SOM(m=n_clusters, n=1, sigma=1.5, dim=len(features), max_iter=10000)\n",
    "lito_SOM.fit(data)\n",
    "# predição de classes\n",
    "predictions = lito_SOM.predict(data)\n",
    "# create labels\n",
    "cluster_labels=[]\n",
    "for i in range(n_clusters):\n",
    "    cluster_labels+=[f'Classe {i+1}']\n",
    "# classes weights\n",
    "fig, ax = plt.subplots(figsize=(19,19))\n",
    "im=ax.matshow(lito_SOM.weights)\n",
    "for (i, j), z in np.ndenumerate(lito_SOM.weights):\n",
    "    ax.text(j, i, '{:0.2f}'.format(z), ha='center', va='center')\n",
    "# \n",
    "plt.yticks(range(n_clusters), cluster_labels, fontsize=9)\n",
    "plt.xticks(range(len(features)), features, rotation=55, fontsize=10, ha='left')\n",
    "fig.colorbar(im, label='weights', orientation='horizontal')\n",
    "plt.gca().set_aspect('equal')\n",
    "plt.gcf().set_size_inches(10, 10)\n",
    "plt.show()\n",
    "import matplotlib\n",
    "id_ = [1,2,3,4,5,6,7,8,9,10]\n",
    "relcolor =  matplotlib.cm.Set3\n",
    "colors = np.array(relcolor.colors)[id_]\n",
    "relcolor = matplotlib.colors.ListedColormap(colors)\n",
    "idxs=np.arange(0, n_clusters, 1)\n",
    "half=(idxs[1]-idxs[0])/2\n",
    "ticks=np.linspace(idxs[0]+half, idxs[-1]-half, n_clusters)\n",
    "fig, ax=plt.subplots(figsize=(16, 16), facecolor='w')\n",
    "im=plt.pcolormesh(xs, ys, predictions.reshape(ny, nx), cmap=relcolor, shading='auto')\n",
    "plt.xlim(xs.min(), xs.max())\n",
    "plt.ylim(ys.min(), ys.max())\n",
    "cbar_ax = fig.add_axes([0.93, 0.3, 0.05, 0.4])\n",
    "cbar = fig.colorbar(im, cax=cbar_ax, label = u'Classes', orientation='vertical',\n",
    "                    ticks=ticks)\n",
    "cbar.ax.set_yticklabels(cluster_labels, fontsize=8)\n",
    "# \n",
    "plt.suptitle('SOM - Aerogeophysical Data ( Aguas de Lindóia - SF23_YA_III4)')\n",
    "plt.axis('scaled')\n",
    "plt.show()"
   ]
  }
 ],
 "metadata": {
  "kernelspec": {
   "display_name": "Python 3 (ipykernel)",
   "language": "python",
   "name": "python3"
  },
  "language_info": {
   "codemirror_mode": {
    "name": "ipython",
    "version": 3
   },
   "file_extension": ".py",
   "mimetype": "text/x-python",
   "name": "python",
   "nbconvert_exporter": "python",
   "pygments_lexer": "ipython3",
   "version": "3.10.6"
  },
  "vscode": {
   "interpreter": {
    "hash": "ed32a6a1b508148fc3ce5ac19a3a5a750fe820bd77e8693096b5866236bb4c36"
   }
  }
 },
 "nbformat": 4,
 "nbformat_minor": 4
}
