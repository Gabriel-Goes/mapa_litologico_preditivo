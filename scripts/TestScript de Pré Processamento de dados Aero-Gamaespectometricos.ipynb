{
 "cells": [
  {
   "cell_type": "code",
   "execution_count": 2,
   "source": [
    "from .sources import my_funcs as f \n",
    "             \n",
    "import matplotlib.pyplot as plt\n",
    "\n",
    "\n",
    "%matplotlib widget              \n",
    "plt.rcParams['figure.dpi'] = 120\n",
    "import seaborn as sns\n"
   ],
   "outputs": [
    {
     "output_type": "error",
     "ename": "ImportError",
     "evalue": "attempted relative import with no known parent package",
     "traceback": [
      "\u001b[0;31m---------------------------------------------------------------------------\u001b[0m",
      "\u001b[0;31mImportError\u001b[0m                               Traceback (most recent call last)",
      "\u001b[0;32m/tmp/ipykernel_54408/1681966559.py\u001b[0m in \u001b[0;36m<module>\u001b[0;34m\u001b[0m\n\u001b[0;32m----> 1\u001b[0;31m \u001b[0;32mfrom\u001b[0m \u001b[0;34m.\u001b[0m\u001b[0msources\u001b[0m \u001b[0;32mimport\u001b[0m \u001b[0mmy_funcs\u001b[0m \u001b[0;32mas\u001b[0m \u001b[0mf\u001b[0m\u001b[0;34m\u001b[0m\u001b[0;34m\u001b[0m\u001b[0m\n\u001b[0m\u001b[1;32m      2\u001b[0m \u001b[0;34m\u001b[0m\u001b[0m\n\u001b[1;32m      3\u001b[0m \u001b[0;32mimport\u001b[0m \u001b[0mmatplotlib\u001b[0m\u001b[0;34m.\u001b[0m\u001b[0mpyplot\u001b[0m \u001b[0;32mas\u001b[0m \u001b[0mplt\u001b[0m\u001b[0;34m\u001b[0m\u001b[0;34m\u001b[0m\u001b[0m\n\u001b[1;32m      4\u001b[0m \u001b[0;34m\u001b[0m\u001b[0m\n\u001b[1;32m      5\u001b[0m \u001b[0;34m\u001b[0m\u001b[0m\n",
      "\u001b[0;31mImportError\u001b[0m: attempted relative import with no known parent package"
     ]
    }
   ],
   "metadata": {}
  },
  {
   "cell_type": "markdown",
   "source": [
    "## IMPORTANDO DADOS BRUTOS"
   ],
   "metadata": {}
  },
  {
   "cell_type": "code",
   "execution_count": 102,
   "source": [
    "data_list = f.get_region('25k','SF23_Y_A_III_4','gama_line_1105.csv')"
   ],
   "outputs": [
    {
     "output_type": "stream",
     "name": "stdout",
     "text": [
      "# --- Iniciando seleção de área de estudo\n"
     ]
    },
    {
     "output_type": "stream",
     "name": "stderr",
     "text": [
      "/home/ggrl/anaconda3/envs/geologist_bot/lib/python3.8/site-packages/geopandas/geodataframe.py:1322: SettingWithCopyWarning: \n",
      "A value is trying to be set on a copy of a slice from a DataFrame.\n",
      "Try using .loc[row_indexer,col_indexer] = value instead\n",
      "\n",
      "See the caveats in the documentation: https://pandas.pydata.org/pandas-docs/stable/user_guide/indexing.html#returning-a-view-versus-a-copy\n",
      "  super(GeoDataFrame, self).__setitem__(key, value)\n"
     ]
    },
    {
     "output_type": "stream",
     "name": "stdout",
     "text": [
      "['SF23_Y_A_III_4_SE', 'SF23_Y_A_III_4_SW', 'SF23_Y_A_III_4_NW', 'SF23_Y_A_III_4_NE']\n",
      "Gerando dicionário com o index\n",
      "dict_keys(['region', 'region_proj', 'raw_data', 'interpolado', 'scores', 'lito_geof', 'mean_score'])\n",
      "4 folhas cartográfica selecionadas\n",
      "\n",
      "# --- # Listagem de dados do aerolevantamento:  \n",
      "Lista de atributos geofísicos = ['KPERC', 'eU', 'eTH', 'UTHRAZAO', 'UKRAZAO', 'MDT', 'THKRAZAO', 'CTCOR']\n",
      "lista de atributos geograficos = ['LATITUDE', 'LONGITUDE']\n",
      "lista de atributos projetados = ['X', 'Y']\n",
      "\n",
      "# --- Início da iteração entre as folhas cartográficas #\n",
      "# Folha de código: SF23_Y_A_III_4_SE\n",
      " Atualizando dados brutos em dic_cartas['raw_data']\n",
      " com 4635 pontos\n",
      "# Folha de código: SF23_Y_A_III_4_SW\n",
      " Atualizando dados brutos em dic_cartas['raw_data']\n",
      " com 4778 pontos\n",
      "# Folha de código: SF23_Y_A_III_4_NW\n",
      " Atualizando dados brutos em dic_cartas['raw_data']\n",
      " com 4848 pontos\n",
      "# Folha de código: SF23_Y_A_III_4_NE\n",
      " Atualizando dados brutos em dic_cartas['raw_data']\n",
      " com 4560 pontos\n"
     ]
    }
   ],
   "metadata": {}
  },
  {
   "cell_type": "markdown",
   "source": [
    "## ESCOLHENDO ESCALA, AREA, CLASSES LITOLOGICAS e PARAMETROS DE INTERPOLACAO"
   ],
   "metadata": {}
  },
  {
   "cell_type": "code",
   "execution_count": null,
   "source": [
    "SC23_Z_A_IV_3"
   ],
   "outputs": [],
   "metadata": {}
  },
  {
   "cell_type": "code",
   "execution_count": 2,
   "source": [
    "#Levantamento 1105\n",
    "dic_cartas, data_list = \\\n",
    "f.interpolar('100k','SC23_Z_A_IV_3',\n",
    "             'gama_line_1105.csv',\n",
    "             psize=125,spacing=490,degree=2,\n",
    "             camada='l_100k',name='Rio Paraim',\n",
    "             describe=True)"
   ],
   "outputs": [
    {
     "output_type": "error",
     "ename": "TypeError",
     "evalue": "interpolar() got an unexpected keyword argument 'name'",
     "traceback": [
      "\u001b[0;31m---------------------------------------------------------------------------\u001b[0m",
      "\u001b[0;31mTypeError\u001b[0m                                 Traceback (most recent call last)",
      "\u001b[0;32m/tmp/ipykernel_54002/1270284621.py\u001b[0m in \u001b[0;36m<module>\u001b[0;34m\u001b[0m\n\u001b[1;32m      1\u001b[0m \u001b[0;31m#Levantamento 1105\u001b[0m\u001b[0;34m\u001b[0m\u001b[0;34m\u001b[0m\u001b[0;34m\u001b[0m\u001b[0m\n\u001b[1;32m      2\u001b[0m \u001b[0mdic_cartas\u001b[0m\u001b[0;34m,\u001b[0m \u001b[0mdata_list\u001b[0m \u001b[0;34m=\u001b[0m\u001b[0;31m \u001b[0m\u001b[0;31m\\\u001b[0m\u001b[0;34m\u001b[0m\u001b[0;34m\u001b[0m\u001b[0m\n\u001b[0;32m----> 3\u001b[0;31m f.interpolar('100k','SC23_Z_A_IV_3',\n\u001b[0m\u001b[1;32m      4\u001b[0m              \u001b[0;34m'gama_line_1105.csv'\u001b[0m\u001b[0;34m,\u001b[0m\u001b[0;34m\u001b[0m\u001b[0;34m\u001b[0m\u001b[0m\n\u001b[1;32m      5\u001b[0m              \u001b[0mpsize\u001b[0m\u001b[0;34m=\u001b[0m\u001b[0;36m125\u001b[0m\u001b[0;34m,\u001b[0m\u001b[0mspacing\u001b[0m\u001b[0;34m=\u001b[0m\u001b[0;36m490\u001b[0m\u001b[0;34m,\u001b[0m\u001b[0mdegree\u001b[0m\u001b[0;34m=\u001b[0m\u001b[0;36m2\u001b[0m\u001b[0;34m,\u001b[0m\u001b[0;34m\u001b[0m\u001b[0;34m\u001b[0m\u001b[0m\n",
      "\u001b[0;31mTypeError\u001b[0m: interpolar() got an unexpected keyword argument 'name'"
     ]
    }
   ],
   "metadata": {}
  },
  {
   "cell_type": "code",
   "execution_count": null,
   "source": [
    "dic_cartas"
   ],
   "outputs": [],
   "metadata": {}
  },
  {
   "cell_type": "markdown",
   "source": [
    "## DESCRIÇÃO DOS DADOS DA FOLHA SF23_Y_A_III_4_SW"
   ],
   "metadata": {}
  },
  {
   "cell_type": "markdown",
   "source": [
    "### DICIONARIO DE DADOS DISPONIVEIS\n",
    "    - Regioes geograficas (W,E, S, N)\n",
    "    - Regioes projetadas (W,E, S, N)\n",
    "    - Dados Brutos\n",
    "    - Dados Interpolados\n",
    "    - Scores da Validacao Crusada para os dados interpolados\n",
    "    - Dataframe com classes alvos (Unidades Litologicas)"
   ],
   "metadata": {}
  },
  {
   "cell_type": "code",
   "execution_count": 28,
   "source": [
    "dic_cartas.keys()"
   ],
   "outputs": [
    {
     "output_type": "execute_result",
     "data": {
      "text/plain": [
       "dict_keys(['region', 'region_proj', 'raw_data', 'interpolado', 'scores', 'lito_geof', 'mean_score'])"
      ]
     },
     "metadata": {},
     "execution_count": 28
    }
   ],
   "metadata": {}
  },
  {
   "cell_type": "code",
   "execution_count": 29,
   "source": [
    "print(f\"#  folhas cartograficas: {len(dic_cartas['region'])}\")\n",
    "print(f\"ID folhas cartograficas: {list(dic_cartas['region'].keys())}\")"
   ],
   "outputs": [
    {
     "output_type": "stream",
     "name": "stdout",
     "text": [
      "#  folhas cartograficas: 1\n",
      "ID folhas cartograficas: ['SF23_Y_A_III_4']\n"
     ]
    }
   ],
   "metadata": {}
  },
  {
   "cell_type": "code",
   "execution_count": 4,
   "source": [
    "print(f\"Grids disponiveis: {list(dic_cartas['interpolado']['SF23_Y_A_III_4_SE'].keys())}\")"
   ],
   "outputs": [
    {
     "output_type": "stream",
     "name": "stdout",
     "text": [
      "Grids disponiveis: ['KPERC', 'eU', 'eTH', 'UTHRAZAO', 'UKRAZAO', 'MDT', 'THKRAZAO', 'CTCOR', 'U_TH', 'U_K', 'TH_K']\n"
     ]
    }
   ],
   "metadata": {
    "scrolled": true
   }
  },
  {
   "cell_type": "code",
   "execution_count": 6,
   "source": [
    "print(f\"Dataframe de classes litologicas disponiveis: {list(dic_cartas['lito_geof']['SF23_Y_A_III_4_NW'].keys())}\")"
   ],
   "outputs": [
    {
     "output_type": "stream",
     "name": "stdout",
     "text": [
      "Dataframe de classes litologicas disponiveis: ['northing', 'easting', 'KPERC', 'eU', 'eTH', 'UTHRAZAO', 'UKRAZAO', 'MDT', 'THKRAZAO', 'CTCOR', 'U_TH', 'U_K', 'TH_K', 'geometry', 'closest_unid']\n"
     ]
    }
   ],
   "metadata": {}
  },
  {
   "cell_type": "code",
   "execution_count": 12,
   "source": [
    "print(f\"Dataframe de classes litologicas disponiveis: {list(dic_cartas['lito_geof']['SF23_Y_A_III_4_SW'].keys())}\")"
   ],
   "outputs": [
    {
     "output_type": "stream",
     "name": "stdout",
     "text": [
      "Dataframe de classes litologicas disponiveis: ['northing', 'easting', 'KPERC', 'eU', 'eTH', 'UTHRAZAO', 'UKRAZAO', 'MDT', 'THKRAZAO', 'CTCOR', 'U_TH', 'U_K', 'TH_K', 'U_TH', 'U_K', 'TH_K', 'geometry', 'closest_unid']\n"
     ]
    }
   ],
   "metadata": {}
  },
  {
   "cell_type": "code",
   "execution_count": 34,
   "source": [
    "dic_cartas.keys()"
   ],
   "outputs": [
    {
     "output_type": "execute_result",
     "data": {
      "text/plain": [
       "dict_keys(['region', 'region_proj', 'raw_data', 'interpolado', 'scores', 'lito_geof', 'mean_score'])"
      ]
     },
     "metadata": {},
     "execution_count": 34
    }
   ],
   "metadata": {}
  },
  {
   "cell_type": "code",
   "execution_count": 32,
   "source": [
    "dic_cartas['lito_geof']['SF23_Y_A_III_4'].keys()"
   ],
   "outputs": [
    {
     "output_type": "execute_result",
     "data": {
      "text/plain": [
       "Index(['northing', 'easting', 'KPERC', 'eU', 'eTH', 'UTHRAZAO', 'UKRAZAO',\n",
       "       'MDT', 'THKRAZAO', 'CTCOR', 'U_TH', 'U_K', 'TH_K', 'geometry',\n",
       "       'closest_unid'],\n",
       "      dtype='object')"
      ]
     },
     "metadata": {},
     "execution_count": 32
    }
   ],
   "metadata": {}
  },
  {
   "cell_type": "code",
   "execution_count": 33,
   "source": [
    "dic_cartas['raw_data']['SF23_Y_A_III_4'].keys()"
   ],
   "outputs": [
    {
     "output_type": "execute_result",
     "data": {
      "text/plain": [
       "Index(['KPERC', 'eU', 'eTH', 'UTHRAZAO', 'X', 'Y', 'UKRAZAO', 'MDT',\n",
       "       'THKRAZAO', 'CTCOR', 'LATITUDE', 'LONGITUDE', 'U_TH', 'U_K', 'TH_K'],\n",
       "      dtype='object')"
      ]
     },
     "metadata": {},
     "execution_count": 33
    }
   ],
   "metadata": {}
  },
  {
   "cell_type": "code",
   "execution_count": 30,
   "source": [
    "dic_cartas['lito_geof']['SF23_Y_A_III_4'].to_csv(f.gdb+'dataframe_input_model/SF23_Y_A_III_4.csv',index=False)"
   ],
   "outputs": [],
   "metadata": {}
  },
  {
   "cell_type": "code",
   "execution_count": 8,
   "source": [
    "dic_cartas['lito_geof']['SF23_Y_A_III_4_SW'].to_csv(f.gdb+'dataframe_input_model/SF23_Y_A_III_4_SW.csv',index=False)\n",
    "dic_cartas['lito_geof']['SF23_Y_A_III_4_SE'].to_csv(f.gdb+'dataframe_input_model/SF23_Y_A_III_4_SE.csv',index=False)\n",
    "dic_cartas['lito_geof']['SF23_Y_A_III_4_NW'].to_csv(f.gdb+'dataframe_input_model/SF23_Y_A_III_4_NW.csv',index=False)\n",
    "dic_cartas['lito_geof']['SF23_Y_A_III_4_NE'].to_csv(f.gdb+'dataframe_input_model/SF23_Y_A_III_4_NE.csv',index=False)"
   ],
   "outputs": [],
   "metadata": {}
  },
  {
   "cell_type": "markdown",
   "source": [
    "### CRIANDO DICIONARIO DE TITULOS PARA OS PLOTS"
   ],
   "metadata": {}
  },
  {
   "cell_type": "code",
   "execution_count": 12,
   "source": [
    "list_canal = list(dic_cartas['scores']['SF23_Y_A_III_4_SW'].keys())\n",
    "list_canal=['KPERC','eU', 'eTH', 'UTHRAZAO', 'UKRAZAO', 'THKRAZAO', 'U_TH', 'U_K', 'TH_K','CTCOR', 'MDT']\n",
    "print(f\"Lista de atributos: {list_canal}\")\n",
    "\n",
    "# LISTA DE TITULOS \n",
    "titles =   [\n",
    "            'K (%)',\n",
    "            'U (ppm)',\n",
    "            'Th (ppm)',\n",
    "            'U (ppm) / Th (ppm)',\n",
    "            'U (ppm) / K (%)',\n",
    "            'Th (ppm) / K (%)',\n",
    "            'U_TH',\n",
    "            'U_K',\n",
    "            'TH_K',\n",
    "            'Contagem Total (μR/h)',\n",
    "            'MDT (m)'\n",
    "            ]\n",
    "\n",
    "\n",
    "# DICIONARIO DE TITULOS\n",
    "dic_titles = {}\n",
    "for f, t in zip(list_canal, titles):\n",
    "    dic_titles[f] = t\n",
    "\n",
    "dic_titles"
   ],
   "outputs": [
    {
     "output_type": "stream",
     "name": "stdout",
     "text": [
      "Lista de atributos: ['KPERC', 'eU', 'eTH', 'UTHRAZAO', 'UKRAZAO', 'THKRAZAO', 'U_TH', 'U_K', 'TH_K', 'CTCOR', 'MDT']\n"
     ]
    },
    {
     "output_type": "execute_result",
     "data": {
      "text/plain": [
       "{'KPERC': 'K (%)',\n",
       " 'eU': 'U (ppm)',\n",
       " 'eTH': 'Th (ppm)',\n",
       " 'UTHRAZAO': 'U (ppm) / Th (ppm)',\n",
       " 'UKRAZAO': 'U (ppm) / K (%)',\n",
       " 'THKRAZAO': 'Th (ppm) / K (%)',\n",
       " 'U_TH': 'U_TH',\n",
       " 'U_K': 'U_K',\n",
       " 'TH_K': 'TH_K',\n",
       " 'CTCOR': 'Contagem Total (μR/h)',\n",
       " 'MDT': 'MDT (m)'}"
      ]
     },
     "metadata": {},
     "execution_count": 12
    }
   ],
   "metadata": {}
  },
  {
   "cell_type": "code",
   "execution_count": 13,
   "source": [
    "fig, axs = plt.subplots(nrows = 5, ncols = 3, figsize = (6, 9))\n",
    "\n",
    "for ax, f in zip(axs.flat, dic_titles):\n",
    "    g = ax.hist(SF23_Y_A_III_4_SW_scores[f],bins='auto')\n",
    "    ax.set_title(str(dic_titles[f]), size = 5)\n",
    "    \n",
    "plt.tight_layout()"
   ],
   "outputs": [
    {
     "output_type": "display_data",
     "data": {
      "application/vnd.jupyter.widget-view+json": {
       "version_major": 2,
       "version_minor": 0,
       "model_id": "718ea1b81b4a40d19dbdf3bbb0a9811a"
      },
      "text/plain": [
       "Canvas(toolbar=Toolbar(toolitems=[('Home', 'Reset original view', 'home', 'home'), ('Back', 'Back to previous …"
      ]
     },
     "metadata": {}
    },
    {
     "output_type": "error",
     "ename": "NameError",
     "evalue": "name 'SF23_Y_A_III_4_SW_scores' is not defined",
     "traceback": [
      "\u001b[0;31m---------------------------------------------------------------------------\u001b[0m",
      "\u001b[0;31mNameError\u001b[0m                                 Traceback (most recent call last)",
      "\u001b[0;32m/tmp/ipykernel_22420/1151664452.py\u001b[0m in \u001b[0;36m<module>\u001b[0;34m\u001b[0m\n\u001b[1;32m      2\u001b[0m \u001b[0;34m\u001b[0m\u001b[0m\n\u001b[1;32m      3\u001b[0m \u001b[0;32mfor\u001b[0m \u001b[0max\u001b[0m\u001b[0;34m,\u001b[0m \u001b[0mf\u001b[0m \u001b[0;32min\u001b[0m \u001b[0mzip\u001b[0m\u001b[0;34m(\u001b[0m\u001b[0maxs\u001b[0m\u001b[0;34m.\u001b[0m\u001b[0mflat\u001b[0m\u001b[0;34m,\u001b[0m \u001b[0mdic_titles\u001b[0m\u001b[0;34m)\u001b[0m\u001b[0;34m:\u001b[0m\u001b[0;34m\u001b[0m\u001b[0;34m\u001b[0m\u001b[0m\n\u001b[0;32m----> 4\u001b[0;31m     \u001b[0mg\u001b[0m \u001b[0;34m=\u001b[0m \u001b[0max\u001b[0m\u001b[0;34m.\u001b[0m\u001b[0mhist\u001b[0m\u001b[0;34m(\u001b[0m\u001b[0mSF23_Y_A_III_4_SW_scores\u001b[0m\u001b[0;34m[\u001b[0m\u001b[0mf\u001b[0m\u001b[0;34m]\u001b[0m\u001b[0;34m,\u001b[0m\u001b[0mbins\u001b[0m\u001b[0;34m=\u001b[0m\u001b[0;34m'auto'\u001b[0m\u001b[0;34m)\u001b[0m\u001b[0;34m\u001b[0m\u001b[0;34m\u001b[0m\u001b[0m\n\u001b[0m\u001b[1;32m      5\u001b[0m     \u001b[0max\u001b[0m\u001b[0;34m.\u001b[0m\u001b[0mset_title\u001b[0m\u001b[0;34m(\u001b[0m\u001b[0mstr\u001b[0m\u001b[0;34m(\u001b[0m\u001b[0mdic_titles\u001b[0m\u001b[0;34m[\u001b[0m\u001b[0mf\u001b[0m\u001b[0;34m]\u001b[0m\u001b[0;34m)\u001b[0m\u001b[0;34m,\u001b[0m \u001b[0msize\u001b[0m \u001b[0;34m=\u001b[0m \u001b[0;36m5\u001b[0m\u001b[0;34m)\u001b[0m\u001b[0;34m\u001b[0m\u001b[0;34m\u001b[0m\u001b[0m\n\u001b[1;32m      6\u001b[0m \u001b[0;34m\u001b[0m\u001b[0m\n",
      "\u001b[0;31mNameError\u001b[0m: name 'SF23_Y_A_III_4_SW_scores' is not defined"
     ]
    }
   ],
   "metadata": {}
  },
  {
   "cell_type": "markdown",
   "source": [
    "#### DISTRIBUICAO GEOSTATISTICA DOS DADOS BRUTOS"
   ],
   "metadata": {}
  },
  {
   "cell_type": "code",
   "execution_count": 14,
   "source": [
    "SF23_Y_A_III_4_SW_raw_data = dic_cartas['raw_data']['SF23_Y_A_III_4_SW']\n",
    "SF23_Y_A_III_4_SW_raw_data_describe = SF23_Y_A_III_4_SW_raw_data.describe(percentiles=(0.01,0.1,0.25,0.5,0.75,0.995))"
   ],
   "outputs": [],
   "metadata": {}
  },
  {
   "cell_type": "code",
   "execution_count": 15,
   "source": [
    "SF23_Y_A_III_4_SW_raw_data_describe.T"
   ],
   "outputs": [
    {
     "output_type": "execute_result",
     "data": {
      "text/html": [
       "<div>\n",
       "<style scoped>\n",
       "    .dataframe tbody tr th:only-of-type {\n",
       "        vertical-align: middle;\n",
       "    }\n",
       "\n",
       "    .dataframe tbody tr th {\n",
       "        vertical-align: top;\n",
       "    }\n",
       "\n",
       "    .dataframe thead th {\n",
       "        text-align: right;\n",
       "    }\n",
       "</style>\n",
       "<table border=\"1\" class=\"dataframe\">\n",
       "  <thead>\n",
       "    <tr style=\"text-align: right;\">\n",
       "      <th></th>\n",
       "      <th>count</th>\n",
       "      <th>mean</th>\n",
       "      <th>std</th>\n",
       "      <th>min</th>\n",
       "      <th>1%</th>\n",
       "      <th>10%</th>\n",
       "      <th>25%</th>\n",
       "      <th>50%</th>\n",
       "      <th>75%</th>\n",
       "      <th>99.5%</th>\n",
       "      <th>max</th>\n",
       "    </tr>\n",
       "  </thead>\n",
       "  <tbody>\n",
       "    <tr>\n",
       "      <th>KPERC</th>\n",
       "      <td>4778.0</td>\n",
       "      <td>1.546108e+00</td>\n",
       "      <td>0.701918</td>\n",
       "      <td>1.545936e-01</td>\n",
       "      <td>3.383100e-01</td>\n",
       "      <td>7.657000e-01</td>\n",
       "      <td>1.052000e+00</td>\n",
       "      <td>1.408000e+00</td>\n",
       "      <td>1.941000e+00</td>\n",
       "      <td>3.833610e+00</td>\n",
       "      <td>4.666000e+00</td>\n",
       "    </tr>\n",
       "    <tr>\n",
       "      <th>eU</th>\n",
       "      <td>4778.0</td>\n",
       "      <td>1.687430e+00</td>\n",
       "      <td>0.775276</td>\n",
       "      <td>1.685162e-01</td>\n",
       "      <td>1.685162e-01</td>\n",
       "      <td>7.180000e-01</td>\n",
       "      <td>1.154000e+00</td>\n",
       "      <td>1.637000e+00</td>\n",
       "      <td>2.168000e+00</td>\n",
       "      <td>3.949415e+00</td>\n",
       "      <td>5.705000e+00</td>\n",
       "    </tr>\n",
       "    <tr>\n",
       "      <th>eTH</th>\n",
       "      <td>4778.0</td>\n",
       "      <td>1.519194e+01</td>\n",
       "      <td>6.253666</td>\n",
       "      <td>1.918000e+00</td>\n",
       "      <td>5.018500e+00</td>\n",
       "      <td>8.072100e+00</td>\n",
       "      <td>1.052450e+01</td>\n",
       "      <td>1.431700e+01</td>\n",
       "      <td>1.877250e+01</td>\n",
       "      <td>3.817771e+01</td>\n",
       "      <td>4.684200e+01</td>\n",
       "    </tr>\n",
       "    <tr>\n",
       "      <th>UTHRAZAO</th>\n",
       "      <td>4778.0</td>\n",
       "      <td>1.172641e-01</td>\n",
       "      <td>0.035828</td>\n",
       "      <td>2.200000e-02</td>\n",
       "      <td>4.700000e-02</td>\n",
       "      <td>7.400000e-02</td>\n",
       "      <td>9.200000e-02</td>\n",
       "      <td>1.150000e-01</td>\n",
       "      <td>1.390000e-01</td>\n",
       "      <td>2.520000e-01</td>\n",
       "      <td>3.080000e-01</td>\n",
       "    </tr>\n",
       "    <tr>\n",
       "      <th>X</th>\n",
       "      <td>4778.0</td>\n",
       "      <td>3.261858e+05</td>\n",
       "      <td>3720.867396</td>\n",
       "      <td>3.198610e+05</td>\n",
       "      <td>3.198832e+05</td>\n",
       "      <td>3.208840e+05</td>\n",
       "      <td>3.228830e+05</td>\n",
       "      <td>3.263643e+05</td>\n",
       "      <td>3.293857e+05</td>\n",
       "      <td>3.323935e+05</td>\n",
       "      <td>3.324175e+05</td>\n",
       "    </tr>\n",
       "    <tr>\n",
       "      <th>Y</th>\n",
       "      <td>4778.0</td>\n",
       "      <td>7.517789e+06</td>\n",
       "      <td>4020.289579</td>\n",
       "      <td>7.510778e+06</td>\n",
       "      <td>7.510913e+06</td>\n",
       "      <td>7.512177e+06</td>\n",
       "      <td>7.514327e+06</td>\n",
       "      <td>7.517831e+06</td>\n",
       "      <td>7.521251e+06</td>\n",
       "      <td>7.524688e+06</td>\n",
       "      <td>7.524761e+06</td>\n",
       "    </tr>\n",
       "    <tr>\n",
       "      <th>UKRAZAO</th>\n",
       "      <td>4778.0</td>\n",
       "      <td>1.234403e+00</td>\n",
       "      <td>0.606975</td>\n",
       "      <td>1.810000e-01</td>\n",
       "      <td>3.790800e-01</td>\n",
       "      <td>6.287000e-01</td>\n",
       "      <td>8.182500e-01</td>\n",
       "      <td>1.094000e+00</td>\n",
       "      <td>1.487750e+00</td>\n",
       "      <td>3.735840e+00</td>\n",
       "      <td>4.593000e+00</td>\n",
       "    </tr>\n",
       "    <tr>\n",
       "      <th>MDT</th>\n",
       "      <td>4778.0</td>\n",
       "      <td>7.995922e+02</td>\n",
       "      <td>123.077207</td>\n",
       "      <td>6.172800e+02</td>\n",
       "      <td>6.216785e+02</td>\n",
       "      <td>6.565370e+02</td>\n",
       "      <td>6.963550e+02</td>\n",
       "      <td>7.790750e+02</td>\n",
       "      <td>8.833875e+02</td>\n",
       "      <td>1.148144e+03</td>\n",
       "      <td>1.178110e+03</td>\n",
       "    </tr>\n",
       "    <tr>\n",
       "      <th>THKRAZAO</th>\n",
       "      <td>4778.0</td>\n",
       "      <td>1.104368e+01</td>\n",
       "      <td>5.557685</td>\n",
       "      <td>3.138000e+00</td>\n",
       "      <td>3.891940e+00</td>\n",
       "      <td>5.600400e+00</td>\n",
       "      <td>7.222000e+00</td>\n",
       "      <td>9.510000e+00</td>\n",
       "      <td>1.364200e+01</td>\n",
       "      <td>3.465758e+01</td>\n",
       "      <td>4.754500e+01</td>\n",
       "    </tr>\n",
       "    <tr>\n",
       "      <th>CTCOR</th>\n",
       "      <td>4778.0</td>\n",
       "      <td>7.554712e+00</td>\n",
       "      <td>3.108047</td>\n",
       "      <td>9.160000e-01</td>\n",
       "      <td>2.389850e+00</td>\n",
       "      <td>3.830100e+00</td>\n",
       "      <td>5.182000e+00</td>\n",
       "      <td>7.146000e+00</td>\n",
       "      <td>9.521000e+00</td>\n",
       "      <td>1.751467e+01</td>\n",
       "      <td>2.060900e+01</td>\n",
       "    </tr>\n",
       "    <tr>\n",
       "      <th>LATITUDE</th>\n",
       "      <td>4778.0</td>\n",
       "      <td>-2.243731e+01</td>\n",
       "      <td>0.036303</td>\n",
       "      <td>-2.250109e+01</td>\n",
       "      <td>-2.249944e+01</td>\n",
       "      <td>-2.248798e+01</td>\n",
       "      <td>-2.246857e+01</td>\n",
       "      <td>-2.243691e+01</td>\n",
       "      <td>-2.240608e+01</td>\n",
       "      <td>-2.237503e+01</td>\n",
       "      <td>-2.237382e+01</td>\n",
       "    </tr>\n",
       "    <tr>\n",
       "      <th>LONGITUDE</th>\n",
       "      <td>4778.0</td>\n",
       "      <td>-4.668896e+01</td>\n",
       "      <td>0.036150</td>\n",
       "      <td>-4.675071e+01</td>\n",
       "      <td>-4.675058e+01</td>\n",
       "      <td>-4.674011e+01</td>\n",
       "      <td>-4.672079e+01</td>\n",
       "      <td>-4.668754e+01</td>\n",
       "      <td>-4.665783e+01</td>\n",
       "      <td>-4.662837e+01</td>\n",
       "      <td>-4.662777e+01</td>\n",
       "    </tr>\n",
       "    <tr>\n",
       "      <th>U_TH</th>\n",
       "      <td>4778.0</td>\n",
       "      <td>1.216983e-01</td>\n",
       "      <td>0.062508</td>\n",
       "      <td>4.816950e-03</td>\n",
       "      <td>1.380079e-02</td>\n",
       "      <td>5.304286e-02</td>\n",
       "      <td>8.036946e-02</td>\n",
       "      <td>1.139896e-01</td>\n",
       "      <td>1.529465e-01</td>\n",
       "      <td>3.514805e-01</td>\n",
       "      <td>9.728884e-01</td>\n",
       "    </tr>\n",
       "    <tr>\n",
       "      <th>U_K</th>\n",
       "      <td>4778.0</td>\n",
       "      <td>1.367487e+00</td>\n",
       "      <td>1.220312</td>\n",
       "      <td>6.373532e-02</td>\n",
       "      <td>1.125990e-01</td>\n",
       "      <td>4.581342e-01</td>\n",
       "      <td>7.210117e-01</td>\n",
       "      <td>1.090578e+00</td>\n",
       "      <td>1.626861e+00</td>\n",
       "      <td>7.710180e+00</td>\n",
       "      <td>1.861656e+01</td>\n",
       "    </tr>\n",
       "    <tr>\n",
       "      <th>TH_K</th>\n",
       "      <td>4778.0</td>\n",
       "      <td>1.189600e+01</td>\n",
       "      <td>9.191301</td>\n",
       "      <td>1.522222e+00</td>\n",
       "      <td>3.315793e+00</td>\n",
       "      <td>5.180839e+00</td>\n",
       "      <td>6.955649e+00</td>\n",
       "      <td>9.655529e+00</td>\n",
       "      <td>1.397306e+01</td>\n",
       "      <td>5.922445e+01</td>\n",
       "      <td>1.552349e+02</td>\n",
       "    </tr>\n",
       "  </tbody>\n",
       "</table>\n",
       "</div>"
      ],
      "text/plain": [
       "            count          mean          std           min            1%  \\\n",
       "KPERC      4778.0  1.546108e+00     0.701918  1.545936e-01  3.383100e-01   \n",
       "eU         4778.0  1.687430e+00     0.775276  1.685162e-01  1.685162e-01   \n",
       "eTH        4778.0  1.519194e+01     6.253666  1.918000e+00  5.018500e+00   \n",
       "UTHRAZAO   4778.0  1.172641e-01     0.035828  2.200000e-02  4.700000e-02   \n",
       "X          4778.0  3.261858e+05  3720.867396  3.198610e+05  3.198832e+05   \n",
       "Y          4778.0  7.517789e+06  4020.289579  7.510778e+06  7.510913e+06   \n",
       "UKRAZAO    4778.0  1.234403e+00     0.606975  1.810000e-01  3.790800e-01   \n",
       "MDT        4778.0  7.995922e+02   123.077207  6.172800e+02  6.216785e+02   \n",
       "THKRAZAO   4778.0  1.104368e+01     5.557685  3.138000e+00  3.891940e+00   \n",
       "CTCOR      4778.0  7.554712e+00     3.108047  9.160000e-01  2.389850e+00   \n",
       "LATITUDE   4778.0 -2.243731e+01     0.036303 -2.250109e+01 -2.249944e+01   \n",
       "LONGITUDE  4778.0 -4.668896e+01     0.036150 -4.675071e+01 -4.675058e+01   \n",
       "U_TH       4778.0  1.216983e-01     0.062508  4.816950e-03  1.380079e-02   \n",
       "U_K        4778.0  1.367487e+00     1.220312  6.373532e-02  1.125990e-01   \n",
       "TH_K       4778.0  1.189600e+01     9.191301  1.522222e+00  3.315793e+00   \n",
       "\n",
       "                    10%           25%           50%           75%  \\\n",
       "KPERC      7.657000e-01  1.052000e+00  1.408000e+00  1.941000e+00   \n",
       "eU         7.180000e-01  1.154000e+00  1.637000e+00  2.168000e+00   \n",
       "eTH        8.072100e+00  1.052450e+01  1.431700e+01  1.877250e+01   \n",
       "UTHRAZAO   7.400000e-02  9.200000e-02  1.150000e-01  1.390000e-01   \n",
       "X          3.208840e+05  3.228830e+05  3.263643e+05  3.293857e+05   \n",
       "Y          7.512177e+06  7.514327e+06  7.517831e+06  7.521251e+06   \n",
       "UKRAZAO    6.287000e-01  8.182500e-01  1.094000e+00  1.487750e+00   \n",
       "MDT        6.565370e+02  6.963550e+02  7.790750e+02  8.833875e+02   \n",
       "THKRAZAO   5.600400e+00  7.222000e+00  9.510000e+00  1.364200e+01   \n",
       "CTCOR      3.830100e+00  5.182000e+00  7.146000e+00  9.521000e+00   \n",
       "LATITUDE  -2.248798e+01 -2.246857e+01 -2.243691e+01 -2.240608e+01   \n",
       "LONGITUDE -4.674011e+01 -4.672079e+01 -4.668754e+01 -4.665783e+01   \n",
       "U_TH       5.304286e-02  8.036946e-02  1.139896e-01  1.529465e-01   \n",
       "U_K        4.581342e-01  7.210117e-01  1.090578e+00  1.626861e+00   \n",
       "TH_K       5.180839e+00  6.955649e+00  9.655529e+00  1.397306e+01   \n",
       "\n",
       "                  99.5%           max  \n",
       "KPERC      3.833610e+00  4.666000e+00  \n",
       "eU         3.949415e+00  5.705000e+00  \n",
       "eTH        3.817771e+01  4.684200e+01  \n",
       "UTHRAZAO   2.520000e-01  3.080000e-01  \n",
       "X          3.323935e+05  3.324175e+05  \n",
       "Y          7.524688e+06  7.524761e+06  \n",
       "UKRAZAO    3.735840e+00  4.593000e+00  \n",
       "MDT        1.148144e+03  1.178110e+03  \n",
       "THKRAZAO   3.465758e+01  4.754500e+01  \n",
       "CTCOR      1.751467e+01  2.060900e+01  \n",
       "LATITUDE  -2.237503e+01 -2.237382e+01  \n",
       "LONGITUDE -4.662837e+01 -4.662777e+01  \n",
       "U_TH       3.514805e-01  9.728884e-01  \n",
       "U_K        7.710180e+00  1.861656e+01  \n",
       "TH_K       5.922445e+01  1.552349e+02  "
      ]
     },
     "metadata": {},
     "execution_count": 15
    }
   ],
   "metadata": {}
  },
  {
   "cell_type": "code",
   "execution_count": 16,
   "source": [
    "dic_titles"
   ],
   "outputs": [
    {
     "output_type": "execute_result",
     "data": {
      "text/plain": [
       "{'KPERC': 'K (%)',\n",
       " 'eU': 'U (ppm)',\n",
       " 'eTH': 'Th (ppm)',\n",
       " 'UTHRAZAO': 'U (ppm) / Th (ppm)',\n",
       " 'UKRAZAO': 'U (ppm) / K (%)',\n",
       " 'THKRAZAO': 'Th (ppm) / K (%)',\n",
       " 'U_TH': 'U_TH',\n",
       " 'U_K': 'U_K',\n",
       " 'TH_K': 'TH_K',\n",
       " 'CTCOR': 'Contagem Total (μR/h)',\n",
       " 'MDT': 'MDT (m)'}"
      ]
     },
     "metadata": {},
     "execution_count": 16
    }
   ],
   "metadata": {}
  },
  {
   "cell_type": "code",
   "execution_count": 17,
   "source": [
    "def plot_raw_data(raw_data):\n",
    "    fig, axs = plt.subplots(nrows = 4, ncols = 3, figsize = (12, 12),sharex='all',sharey='all')\n",
    "    \n",
    "    raw_data_describe = raw_data.describe(percentiles=(0.01,0.1,0.25,0.5,0.75,0.995))\n",
    "\n",
    "    X, Y = raw_data.X, raw_data.Y\n",
    "\n",
    "    for ax, f in zip(axs.flat, dic_titles):\n",
    "        vmin = raw_data_describe[f]['1%']\n",
    "        vmax = raw_data_describe[f]['99.5%']\n",
    "\n",
    "        g = ax.scatter(c=raw_data[f], x = X,\n",
    "                                      y = Y,\n",
    "                                      cmap = 'rainbow',\n",
    "                                      s    = 2.5,\n",
    "                                      vmax =vmax, vmin=vmin)\n",
    "\n",
    "        fig.colorbar(g, ax = ax)\n",
    "        ax.set_title(str(dic_titles[f]), size = 11)\n",
    "        ax.axis('scaled')\n",
    "\n",
    "    fig.delaxes(axs[3][2])\n",
    "    #plt.tight_layout()"
   ],
   "outputs": [],
   "metadata": {}
  },
  {
   "cell_type": "code",
   "execution_count": 18,
   "source": [
    "raw_data_SF23_Y_A_III_4_SW = dic_cartas['raw_data']['SF23_Y_A_III_4_SW']\n",
    "\n",
    "plot_raw_data(raw_data_SF23_Y_A_III_4_SW)"
   ],
   "outputs": [
    {
     "output_type": "display_data",
     "data": {
      "application/vnd.jupyter.widget-view+json": {
       "version_major": 2,
       "version_minor": 0,
       "model_id": "0b381830b3844fb1a9cd97f3e3e85e08"
      },
      "text/plain": [
       "Canvas(toolbar=Toolbar(toolitems=[('Home', 'Reset original view', 'home', 'home'), ('Back', 'Back to previous …"
      ]
     },
     "metadata": {}
    }
   ],
   "metadata": {}
  },
  {
   "cell_type": "markdown",
   "source": [
    "### DESCRICAO GEOSTATISTICA DOS DADOS INTERPOLADOS"
   ],
   "metadata": {}
  },
  {
   "cell_type": "code",
   "execution_count": 19,
   "source": [
    "geodataframe = dic_cartas['lito_geof']['SF23_Y_A_III_4_SW'].set_geometry('geometry')\n",
    "print(geodataframe.crs)\n",
    "geodataframe.plot('closest_unid',legend=True,\n",
    "                                 legend_kwds={'loc': 'center left', 'bbox_to_anchor':(1,0.5)})\n",
    "                                 \n",
    "plt.title(label=f\"'closest_unid': SF23_Y_A_III_4_SW\")\n",
    "plt.axis('scaled')"
   ],
   "outputs": [
    {
     "output_type": "stream",
     "name": "stdout",
     "text": [
      "epsg:32723\n"
     ]
    },
    {
     "output_type": "display_data",
     "data": {
      "application/vnd.jupyter.widget-view+json": {
       "version_major": 2,
       "version_minor": 0,
       "model_id": "46d269460dbf40efa4858a70b5a16ae8"
      },
      "text/plain": [
       "Canvas(toolbar=Toolbar(toolitems=[('Home', 'Reset original view', 'home', 'home'), ('Back', 'Back to previous …"
      ]
     },
     "metadata": {}
    },
    {
     "output_type": "execute_result",
     "data": {
      "text/plain": [
       "(319288.02603174595, 332990.533968254, 7510133.438282143, 7525404.751717857)"
      ]
     },
     "metadata": {},
     "execution_count": 19
    }
   ],
   "metadata": {}
  },
  {
   "cell_type": "code",
   "execution_count": 20,
   "source": [
    "def plotBoxplots(df, cols = None):\n",
    "    n = len(cols)\n",
    "    fig, axs = plt.subplots(n, 1, figsize = (9, n * 2))\n",
    "    \n",
    "    for ax, f in zip(axs, cols):\n",
    "        sns.boxplot(y = f, x = 'closest_unid', data = df, ax = ax)\n"
   ],
   "outputs": [],
   "metadata": {}
  },
  {
   "cell_type": "code",
   "execution_count": 23,
   "source": [
    "dataframe=dic_cartas['lito_geof']['SF23_Y_A_III_4_SW']"
   ],
   "outputs": [],
   "metadata": {}
  },
  {
   "cell_type": "code",
   "execution_count": 24,
   "source": [
    "plotBoxplots(dataframe, cols = dic_titles)"
   ],
   "outputs": [
    {
     "output_type": "display_data",
     "data": {
      "application/vnd.jupyter.widget-view+json": {
       "version_major": 2,
       "version_minor": 0,
       "model_id": "abab34c713de4917b2228113fc9fc50c"
      },
      "text/plain": [
       "Canvas(toolbar=Toolbar(toolitems=[('Home', 'Reset original view', 'home', 'home'), ('Back', 'Back to previous …"
      ]
     },
     "metadata": {}
    }
   ],
   "metadata": {}
  },
  {
   "cell_type": "code",
   "execution_count": 21,
   "source": [
    "fig, axs = plt.subplots(nrows = 4, ncols = 3, figsize = (7, 6))\n",
    "\n",
    "for ax, gf in zip(axs.flat, dic_titles):\n",
    "    g = ax.hist(data[gf], color = 'lightblue', edgecolor = 'black')\n",
    "    ax.set_title(str(dic_titles[gf]), size = 9)\n",
    "\n",
    "plt.tight_layout()"
   ],
   "outputs": [
    {
     "output_type": "display_data",
     "data": {
      "application/vnd.jupyter.widget-view+json": {
       "version_major": 2,
       "version_minor": 0,
       "model_id": "070ac1f01e8d49478f2bc2afa5ee16e9"
      },
      "text/plain": [
       "Canvas(toolbar=Toolbar(toolitems=[('Home', 'Reset original view', 'home', 'home'), ('Back', 'Back to previous …"
      ]
     },
     "metadata": {}
    },
    {
     "output_type": "error",
     "ename": "NameError",
     "evalue": "name 'data' is not defined",
     "traceback": [
      "\u001b[0;31m---------------------------------------------------------------------------\u001b[0m",
      "\u001b[0;31mNameError\u001b[0m                                 Traceback (most recent call last)",
      "\u001b[0;32m/tmp/ipykernel_22420/1389080258.py\u001b[0m in \u001b[0;36m<module>\u001b[0;34m\u001b[0m\n\u001b[1;32m      2\u001b[0m \u001b[0;34m\u001b[0m\u001b[0m\n\u001b[1;32m      3\u001b[0m \u001b[0;32mfor\u001b[0m \u001b[0max\u001b[0m\u001b[0;34m,\u001b[0m \u001b[0mgf\u001b[0m \u001b[0;32min\u001b[0m \u001b[0mzip\u001b[0m\u001b[0;34m(\u001b[0m\u001b[0maxs\u001b[0m\u001b[0;34m.\u001b[0m\u001b[0mflat\u001b[0m\u001b[0;34m,\u001b[0m \u001b[0mdic_titles\u001b[0m\u001b[0;34m)\u001b[0m\u001b[0;34m:\u001b[0m\u001b[0;34m\u001b[0m\u001b[0;34m\u001b[0m\u001b[0m\n\u001b[0;32m----> 4\u001b[0;31m     \u001b[0mg\u001b[0m \u001b[0;34m=\u001b[0m \u001b[0max\u001b[0m\u001b[0;34m.\u001b[0m\u001b[0mhist\u001b[0m\u001b[0;34m(\u001b[0m\u001b[0mdata\u001b[0m\u001b[0;34m[\u001b[0m\u001b[0mgf\u001b[0m\u001b[0;34m]\u001b[0m\u001b[0;34m,\u001b[0m \u001b[0mcolor\u001b[0m \u001b[0;34m=\u001b[0m \u001b[0;34m'lightblue'\u001b[0m\u001b[0;34m,\u001b[0m \u001b[0medgecolor\u001b[0m \u001b[0;34m=\u001b[0m \u001b[0;34m'black'\u001b[0m\u001b[0;34m)\u001b[0m\u001b[0;34m\u001b[0m\u001b[0;34m\u001b[0m\u001b[0m\n\u001b[0m\u001b[1;32m      5\u001b[0m     \u001b[0max\u001b[0m\u001b[0;34m.\u001b[0m\u001b[0mset_title\u001b[0m\u001b[0;34m(\u001b[0m\u001b[0mstr\u001b[0m\u001b[0;34m(\u001b[0m\u001b[0mdic_titles\u001b[0m\u001b[0;34m[\u001b[0m\u001b[0mgf\u001b[0m\u001b[0;34m]\u001b[0m\u001b[0;34m)\u001b[0m\u001b[0;34m,\u001b[0m \u001b[0msize\u001b[0m \u001b[0;34m=\u001b[0m \u001b[0;36m9\u001b[0m\u001b[0;34m)\u001b[0m\u001b[0;34m\u001b[0m\u001b[0;34m\u001b[0m\u001b[0m\n\u001b[1;32m      6\u001b[0m \u001b[0;34m\u001b[0m\u001b[0m\n",
      "\u001b[0;31mNameError\u001b[0m: name 'data' is not defined"
     ]
    }
   ],
   "metadata": {}
  },
  {
   "cell_type": "markdown",
   "source": [
    "## DESCRIÇÃO DOS DADOS DA FOLHA SF23_Y_A_III_4_SE"
   ],
   "metadata": {}
  },
  {
   "cell_type": "code",
   "execution_count": 53,
   "source": [
    "scores = dic_cartas['scores']['SF23_Y_A_III_4_SE']\n",
    "dic_titles = list(dic_cartas['scores']['SF23_Y_A_III_4_SE'].keys())\n",
    "\n",
    "for ax, f in zip(scores, dic_titles):\n",
    "    plt.figure(f,figsize=(4,4))\n",
    "    plt.hist(scores[f], bins ='auto')"
   ],
   "outputs": [
    {
     "output_type": "display_data",
     "data": {
      "application/vnd.jupyter.widget-view+json": {
       "model_id": "9113353be87c439a9b97aec4d0118cc5",
       "version_major": 2,
       "version_minor": 0
      },
      "text/plain": [
       "Canvas(toolbar=Toolbar(toolitems=[('Home', 'Reset original view', 'home', 'home'), ('Back', 'Back to previous …"
      ]
     },
     "metadata": {}
    },
    {
     "output_type": "display_data",
     "data": {
      "application/vnd.jupyter.widget-view+json": {
       "model_id": "ebd6c2b5012f4af9814f601b26a2f898",
       "version_major": 2,
       "version_minor": 0
      },
      "text/plain": [
       "Canvas(toolbar=Toolbar(toolitems=[('Home', 'Reset original view', 'home', 'home'), ('Back', 'Back to previous …"
      ]
     },
     "metadata": {}
    },
    {
     "output_type": "display_data",
     "data": {
      "application/vnd.jupyter.widget-view+json": {
       "model_id": "cec6d6098b4948d19cc4f9e004582463",
       "version_major": 2,
       "version_minor": 0
      },
      "text/plain": [
       "Canvas(toolbar=Toolbar(toolitems=[('Home', 'Reset original view', 'home', 'home'), ('Back', 'Back to previous …"
      ]
     },
     "metadata": {}
    },
    {
     "output_type": "display_data",
     "data": {
      "application/vnd.jupyter.widget-view+json": {
       "model_id": "e5224646eeb341a7a3e33f3436fc06ef",
       "version_major": 2,
       "version_minor": 0
      },
      "text/plain": [
       "Canvas(toolbar=Toolbar(toolitems=[('Home', 'Reset original view', 'home', 'home'), ('Back', 'Back to previous …"
      ]
     },
     "metadata": {}
    },
    {
     "output_type": "display_data",
     "data": {
      "application/vnd.jupyter.widget-view+json": {
       "model_id": "987a82202d934c17bb3a0bfd6af13ef6",
       "version_major": 2,
       "version_minor": 0
      },
      "text/plain": [
       "Canvas(toolbar=Toolbar(toolitems=[('Home', 'Reset original view', 'home', 'home'), ('Back', 'Back to previous …"
      ]
     },
     "metadata": {}
    }
   ],
   "metadata": {
    "scrolled": true
   }
  },
  {
   "cell_type": "code",
   "execution_count": 28,
   "source": [
    "geodataframe = dic_cartas['lito_geof']['SF23_Y_A_III_4_SE'].set_geometry('geometry')\n",
    "print(geodataframe.crs)\n",
    "geodataframe.plot('closest_unid')\n",
    "plt.title(label='Unidade litológica mais próxima da amostragem')\n",
    "plt.axis('scaled')"
   ],
   "outputs": [
    {
     "output_type": "stream",
     "name": "stdout",
     "text": [
      "epsg:32723\n"
     ]
    },
    {
     "output_type": "display_data",
     "data": {
      "application/vnd.jupyter.widget-view+json": {
       "version_major": 2,
       "version_minor": 0,
       "model_id": "738ac81d39ac466b877df56b13752deb"
      },
      "text/plain": [
       "Canvas(toolbar=Toolbar(toolitems=[('Home', 'Reset original view', 'home', 'home'), ('Back', 'Back to previous …"
      ]
     },
     "metadata": {}
    },
    {
     "output_type": "execute_result",
     "data": {
      "text/plain": [
       "(332288.074848, 345953.08515199996, 7510278.750246429, 7525535.319753571)"
      ]
     },
     "metadata": {},
     "execution_count": 28
    }
   ],
   "metadata": {}
  },
  {
   "cell_type": "code",
   "execution_count": 30,
   "source": [
    "dic_cartas['interpolado']['SF23_Y_A_III_4_SW'].keys()"
   ],
   "outputs": [
    {
     "output_type": "execute_result",
     "data": {
      "text/plain": [
       "dict_keys(['KPERC', 'eU', 'eTH', 'UTHRAZAO', 'UKRAZAO', 'MDT', 'THKRAZAO', 'CTCOR', 'U_TH', 'U_K', 'TH_K'])"
      ]
     },
     "metadata": {},
     "execution_count": 30
    }
   ],
   "metadata": {}
  },
  {
   "cell_type": "code",
   "execution_count": 32,
   "source": [
    "grid_THKRAZAO = dic_cartas['interpolado']['SF23_Y_A_III_4_SW']['THKRAZAO']"
   ],
   "outputs": [],
   "metadata": {}
  },
  {
   "cell_type": "code",
   "execution_count": 35,
   "source": [
    "plt.figure()\n",
    "grid_THKRAZAO.THKRAZAO.plot()\n",
    "plt.axis('scaled')"
   ],
   "outputs": [
    {
     "output_type": "display_data",
     "data": {
      "application/vnd.jupyter.widget-view+json": {
       "version_major": 2,
       "version_minor": 0,
       "model_id": "c09405ee1a7f44ae9168f54553ed076f"
      },
      "text/plain": [
       "Canvas(toolbar=Toolbar(toolitems=[('Home', 'Reset original view', 'home', 'home'), ('Back', 'Back to previous …"
      ]
     },
     "metadata": {}
    },
    {
     "output_type": "execute_result",
     "data": {
      "text/plain": [
       "(319861.0399999999, 332417.51999999996, 7510777.65, 7524760.54)"
      ]
     },
     "metadata": {},
     "execution_count": 35
    }
   ],
   "metadata": {}
  },
  {
   "cell_type": "code",
   "execution_count": null,
   "source": [],
   "outputs": [],
   "metadata": {}
  }
 ],
 "metadata": {
  "interpreter": {
   "hash": "044c3e0300da4fa3c2a1f13c93c64a53d39114a9c33e72628e43c9ffd211a0b1"
  },
  "kernelspec": {
   "name": "python3",
   "display_name": "Python 3.8.11 64-bit ('geologist_bot': conda)"
  },
  "language_info": {
   "codemirror_mode": {
    "name": "ipython",
    "version": 3
   },
   "file_extension": ".py",
   "mimetype": "text/x-python",
   "name": "python",
   "nbconvert_exporter": "python",
   "pygments_lexer": "ipython3",
   "version": "3.8.11"
  }
 },
 "nbformat": 4,
 "nbformat_minor": 4
}