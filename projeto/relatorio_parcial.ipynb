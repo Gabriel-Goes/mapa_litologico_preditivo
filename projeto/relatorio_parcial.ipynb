{
 "cells": [
  {
   "cell_type": "markdown",
   "id": "4309b603-172e-443c-ba85-fd2a507a8220",
   "metadata": {
    "tags": []
   },
   "source": [
    "# Relatório Parcial"
   ]
  },
  {
   "cell_type": "markdown",
   "id": "106201db-4636-413b-b3cf-269fcecfcc8c",
   "metadata": {
    "tags": []
   },
   "source": [
    "## RESUMO\n",
    "\n",
    "        A grafita é um bem mineral de importância tecnológica emergente com as novas propriedades descobertas nas últimas décadas no ramo da engenharia de nanomateriais, como no emprego de fabricação de baterias elétricas, supercondutores e fibras leves de alta resistência, e com potencial para fabricação de materiais essenciais para a indústria. Estes novos usos têm aumentado a demanda pela commoditie, trazendo assim, a necessidade de descoberta de novos depósitos economicamente viáveis levando em conta sua localização, volume e grau de pureza. Recentemente, as técnicas de aprendizagem de máquina têm aumentado a viabilidade dos projetos de prospecção mineral devido ao seu baixo custo de execução e sua alta capacidade de correlação de inúmeras variáveis simultaneamente. Com isto, neste projeto, pretende-se utilizar algoritmos de inteligência computacional e dados de sensores remotos para identificar padrões entre os atributos geofísicos e suas classes litológicas mineralizantes, bem como de suas ocorrências minerais. Assim, desenvolvendo novos mapas litológicos para confrontar os existentes e mapas prospectivos de minério de grafita no sistema de nappes de Socorro–Guaxupé no nordeste do estado de São Paulo, divisa com Minas Gerais."
   ]
  },
  {
   "cell_type": "markdown",
   "id": "b59d99fa-eccb-4f1d-8c40-fc4839873cd3",
   "metadata": {
    "tags": []
   },
   "source": [
    "## I. INTRODUÇÃO\t"
   ]
  },
  {
   "cell_type": "markdown",
   "id": "b598ba4d-f916-41bc-b4ee-544722904a02",
   "metadata": {},
   "source": [
    "### 1.1 APRESENTAÇÃO\n",
    "\n",
    "        A grafita possui grande importância industrial e sua demanda tem aumentado devido aos novos usos com potencial de crescimento ainda maior com a ascensão dos motores elétricos em detrimento dos motores à combustão e a necessidade de baterias de alta capacidade para aqueles. Assim, este material tem se tornado estratégico com os preços da grafita de alto teor (grafita em flocos) ultrapassando a casa dos milhares de dólares por toneladas métricas dependendo do tamanho dos flocos."
   ]
  },
  {
   "cell_type": "markdown",
   "id": "7ea72172-fc57-44a7-96c2-03a77ae79236",
   "metadata": {},
   "source": [
    "### 1.2 OBJETIVOS\n",
    "\n",
    "        Esta pesquisa tem como objetivo a prospecção de áreas potenciais de mineralização de minério de grafita no sistema de nappes de Socorro–Guaxupé com o auxílio das técnicas de aprendizagem de máquina supervisionada e não-supervisionada com dados de sensores aeroportados e orbitais desenvolvendo mapas preditivos litológicos e prospectivo mineral. "
   ]
  },
  {
   "cell_type": "markdown",
   "id": "6f5e32a6-4731-4d4b-a035-52b38a3d489e",
   "metadata": {},
   "source": [
    "### 1.3 ÁREA DE ESTUDO\n",
    "\n",
    "        O área de estudo tem como foco os terrenos granulíticos do nordeste de São Paulo, divisa com o estado de Minas Gerais, região em que as rochas sofreram um alto grau de metamorfismo possibilitando a mineralização de grafita. "
   ]
  },
  {
   "cell_type": "code",
   "execution_count": 1,
   "id": "bf2a38ba-5f73-4522-b8d6-df182bcb365c",
   "metadata": {},
   "outputs": [],
   "source": [
    "# imports\n",
    "from src import Build_mc, Upload_litologia\n",
    "\n",
    "import matplotlib.pyplot as plt\n",
    "import geopandas as gpd"
   ]
  },
  {
   "cell_type": "code",
   "execution_count": 2,
   "id": "de32e556-6f07-4841-91c8-9b70bd27dea6",
   "metadata": {},
   "outputs": [],
   "source": [
    "import warnings\n",
    "warnings.filterwarnings(\"ignore\")\n",
    "%matplotlib widget\n",
    "%load_ext autoreload"
   ]
  },
  {
   "cell_type": "code",
   "execution_count": 3,
   "id": "b9e51636-274c-48e1-8c93-733811669579",
   "metadata": {},
   "outputs": [],
   "source": [
    "%reload_ext autoreload"
   ]
  },
  {
   "cell_type": "code",
   "execution_count": 4,
   "id": "6f65a673-070d-4501-a8bd-2f40a8edf413",
   "metadata": {},
   "outputs": [
    {
     "name": "stderr",
     "output_type": "stream",
     "text": [
      "100%|███████████████████████████████████████████████████████████████████████████████████████████████████████████████████████████| 1/1 [00:00<00:00, 338.80it/s]\n",
      "16it [00:00, 24018.92it/s]"
     ]
    },
    {
     "name": "stdout",
     "output_type": "stream",
     "text": [
      "\n",
      "\n",
      "\n",
      "\n",
      "\n",
      "\n",
      "\n",
      "\n",
      "\n",
      "\n",
      "\n",
      "\n",
      "\n",
      "\n",
      "\n",
      "\n"
     ]
    },
    {
     "name": "stderr",
     "output_type": "stream",
     "text": [
      "\n"
     ]
    }
   ],
   "source": [
    "quadricula = Build_mc(escala='250k', ID=['SF23'])"
   ]
  },
  {
   "cell_type": "code",
   "execution_count": 5,
   "id": "ecd6cda8-fb8a-4612-ab52-b068daa9d76a",
   "metadata": {},
   "outputs": [
    {
     "name": "stderr",
     "output_type": "stream",
     "text": [
      "100%|██████████████████████████████████████████████████████████████████████████████████████████████████████████████████████████| 16/16 [00:00<00:00, 79.81it/s]"
     ]
    },
    {
     "name": "stdout",
     "output_type": "stream",
     "text": [
      " - litologia_1kk atualizado na folha: SF23_VA\n",
      " - litologia_1kk atualizado na folha: SF23_VC\n",
      " - litologia_1kk atualizado na folha: SF23_YA\n",
      " - litologia_1kk atualizado na folha: SF23_YC\n",
      " - litologia_1kk atualizado na folha: SF23_VB\n",
      " - litologia_1kk atualizado na folha: SF23_VD\n",
      " - litologia_1kk atualizado na folha: SF23_YB\n",
      " - litologia_1kk atualizado na folha: SF23_YD\n",
      " - litologia_1kk atualizado na folha: SF23_XA\n",
      " - litologia_1kk atualizado na folha: SF23_XC\n",
      " - litologia_1kk atualizado na folha: SF23_ZA\n",
      " - litologia_1kk atualizado na folha: SF23_ZC\n",
      " - litologia_1kk atualizado na folha: SF23_XB\n",
      " - litologia_1kk atualizado na folha: SF23_XD\n",
      " - litologia_1kk atualizado na folha: SF23_ZB\n",
      " - litologia_1kk atualizado na folha: SF23_ZD\n"
     ]
    },
    {
     "name": "stderr",
     "output_type": "stream",
     "text": [
      "\n"
     ]
    }
   ],
   "source": [
    "Upload_litologia(quadricula,'litologia_1kk')"
   ]
  },
  {
   "cell_type": "code",
   "execution_count": 6,
   "id": "abd4c138-d983-4fb7-ac78-c43a6231bea0",
   "metadata": {},
   "outputs": [
    {
     "name": "stderr",
     "output_type": "stream",
     "text": [
      "100%|██████████████████████████████████████████████████████████████████████████████████████████████████████████████████████████| 16/16 [00:00<00:00, 66.56it/s]"
     ]
    },
    {
     "name": "stdout",
     "output_type": "stream",
     "text": [
      " - litologia_100k atualizado na folha: SF23_VB\n",
      " - litologia_100k atualizado na folha: SF23_VD\n",
      " - litologia_100k atualizado na folha: SF23_YB\n",
      " - litologia_100k atualizado na folha: SF23_XA\n",
      " - litologia_100k atualizado na folha: SF23_XC\n",
      " - litologia_100k atualizado na folha: SF23_ZA\n",
      " - litologia_100k atualizado na folha: SF23_ZC\n",
      " - litologia_100k atualizado na folha: SF23_XB\n",
      " - litologia_100k atualizado na folha: SF23_XD\n",
      " - litologia_100k atualizado na folha: SF23_ZB\n",
      " - litologia_100k atualizado na folha: SF23_ZD\n"
     ]
    },
    {
     "name": "stderr",
     "output_type": "stream",
     "text": [
      "\n"
     ]
    }
   ],
   "source": [
    "Upload_litologia(quadricula,'litologia_100k')"
   ]
  },
  {
   "cell_type": "code",
   "execution_count": 7,
   "id": "65e96bf0-2482-4b5b-91b5-3524fc744953",
   "metadata": {},
   "outputs": [
    {
     "name": "stderr",
     "output_type": "stream",
     "text": [
      "100%|█████████████████████████████████████████████████████████████████████████████████████████████████████████████████████████| 16/16 [00:00<00:00, 559.13it/s]"
     ]
    },
    {
     "name": "stdout",
     "output_type": "stream",
     "text": [
      " - litologia_50k atualizado na folha: SF23_XC\n",
      " - litologia_50k atualizado na folha: SF23_XB\n"
     ]
    },
    {
     "name": "stderr",
     "output_type": "stream",
     "text": [
      "\n"
     ]
    }
   ],
   "source": [
    "Upload_litologia(quadricula,'litologia_50k')"
   ]
  },
  {
   "cell_type": "code",
   "execution_count": 8,
   "id": "594be2a8-b394-4674-9753-c040fd070df5",
   "metadata": {},
   "outputs": [
    {
     "data": {
      "text/plain": [
       "['SF23_VA',\n",
       " 'SF23_VC',\n",
       " 'SF23_YA',\n",
       " 'SF23_YC',\n",
       " 'SF23_VB',\n",
       " 'SF23_VD',\n",
       " 'SF23_YB',\n",
       " 'SF23_YD',\n",
       " 'SF23_XA',\n",
       " 'SF23_XC',\n",
       " 'SF23_ZA',\n",
       " 'SF23_ZC',\n",
       " 'SF23_XB',\n",
       " 'SF23_XD',\n",
       " 'SF23_ZB',\n",
       " 'SF23_ZD']"
      ]
     },
     "execution_count": 8,
     "metadata": {},
     "output_type": "execute_result"
    }
   ],
   "source": [
    "lista_folhas = list(quadricula.keys())\n",
    "lista_folhas"
   ]
  },
  {
   "cell_type": "code",
   "execution_count": 9,
   "id": "1cc42284-27ce-4b33-816a-053b411c1022",
   "metadata": {},
   "outputs": [
    {
     "name": "stdout",
     "output_type": "stream",
     "text": [
      "dict_keys(['folha', 'escala', 'litologia_1kk', 'litologia_100k', 'litologia_50k'])\n",
      "\n",
      "EPSG                                                    32723\n",
      "SIGLA                                                     NaN\n",
      "geometry    POLYGON ((-46.5 -22, -45 -22, -45 -23, -46.5 -...\n",
      "Name: SF23_YB, dtype: object\n",
      "\n"
     ]
    },
    {
     "ename": "ImportError",
     "evalue": "The 'folium', 'matplotlib' and 'mapclassify' packages are required for 'explore()'. You can install them using 'conda install -c conda-forge folium matplotlib mapclassify' or 'pip install folium matplotlib mapclassify'.",
     "output_type": "error",
     "traceback": [
      "\u001b[0;31m---------------------------------------------------------------------------\u001b[0m",
      "\u001b[0;31mModuleNotFoundError\u001b[0m                       Traceback (most recent call last)",
      "File \u001b[0;32m~/.config/ambiente_geologico/lib/python3.11/site-packages/geopandas/explore.py:281\u001b[0m, in \u001b[0;36m_explore\u001b[0;34m(df, column, cmap, color, m, tiles, attr, tooltip, popup, highlight, categorical, legend, scheme, k, vmin, vmax, width, height, categories, classification_kwds, control_scale, marker_type, marker_kwds, style_kwds, highlight_kwds, missing_kwds, tooltip_kwds, popup_kwds, legend_kwds, map_kwds, **kwargs)\u001b[0m\n\u001b[1;32m    280\u001b[0m \u001b[38;5;28;01mtry\u001b[39;00m:\n\u001b[0;32m--> 281\u001b[0m     \u001b[38;5;28;01mimport\u001b[39;00m \u001b[38;5;21;01mbranca\u001b[39;00m \u001b[38;5;28;01mas\u001b[39;00m \u001b[38;5;21;01mbc\u001b[39;00m\n\u001b[1;32m    282\u001b[0m     \u001b[38;5;28;01mimport\u001b[39;00m \u001b[38;5;21;01mfolium\u001b[39;00m\n",
      "\u001b[0;31mModuleNotFoundError\u001b[0m: No module named 'branca'",
      "\nDuring handling of the above exception, another exception occurred:\n",
      "\u001b[0;31mImportError\u001b[0m                               Traceback (most recent call last)",
      "Cell \u001b[0;32mIn[9], line 9\u001b[0m\n\u001b[1;32m      6\u001b[0m \u001b[38;5;28mprint\u001b[39m(SF23_YB[\u001b[38;5;124m'\u001b[39m\u001b[38;5;124mfolha\u001b[39m\u001b[38;5;124m'\u001b[39m])\n\u001b[1;32m      7\u001b[0m \u001b[38;5;28mprint\u001b[39m(\u001b[38;5;124m'\u001b[39m\u001b[38;5;124m'\u001b[39m)\n\u001b[0;32m----> 9\u001b[0m \u001b[43mSF23_YB\u001b[49m\u001b[43m[\u001b[49m\u001b[38;5;124;43m'\u001b[39;49m\u001b[38;5;124;43mlitologia_1kk\u001b[39;49m\u001b[38;5;124;43m'\u001b[39;49m\u001b[43m]\u001b[49m\u001b[38;5;241;43m.\u001b[39;49m\u001b[43mexplore\u001b[49m\u001b[43m(\u001b[49m\u001b[38;5;124;43m'\u001b[39;49m\u001b[38;5;124;43mSIGLA\u001b[39;49m\u001b[38;5;124;43m'\u001b[39;49m\u001b[43m,\u001b[49m\u001b[43mlegend\u001b[49m\u001b[38;5;241;43m=\u001b[39;49m\u001b[38;5;28;43;01mFalse\u001b[39;49;00m\u001b[43m)\u001b[49m\n",
      "File \u001b[0;32m~/.config/ambiente_geologico/lib/python3.11/site-packages/geopandas/geodataframe.py:2101\u001b[0m, in \u001b[0;36mGeoDataFrame.explore\u001b[0;34m(self, *args, **kwargs)\u001b[0m\n\u001b[1;32m   2099\u001b[0m \u001b[38;5;129m@doc\u001b[39m(_explore)\n\u001b[1;32m   2100\u001b[0m \u001b[38;5;28;01mdef\u001b[39;00m \u001b[38;5;21mexplore\u001b[39m(\u001b[38;5;28mself\u001b[39m, \u001b[38;5;241m*\u001b[39margs, \u001b[38;5;241m*\u001b[39m\u001b[38;5;241m*\u001b[39mkwargs):\n\u001b[0;32m-> 2101\u001b[0m     \u001b[38;5;28;01mreturn\u001b[39;00m \u001b[43m_explore\u001b[49m\u001b[43m(\u001b[49m\u001b[38;5;28;43mself\u001b[39;49m\u001b[43m,\u001b[49m\u001b[43m \u001b[49m\u001b[38;5;241;43m*\u001b[39;49m\u001b[43margs\u001b[49m\u001b[43m,\u001b[49m\u001b[43m \u001b[49m\u001b[38;5;241;43m*\u001b[39;49m\u001b[38;5;241;43m*\u001b[39;49m\u001b[43mkwargs\u001b[49m\u001b[43m)\u001b[49m\n",
      "File \u001b[0;32m~/.config/ambiente_geologico/lib/python3.11/site-packages/geopandas/explore.py:297\u001b[0m, in \u001b[0;36m_explore\u001b[0;34m(df, column, cmap, color, m, tiles, attr, tooltip, popup, highlight, categorical, legend, scheme, k, vmin, vmax, width, height, categories, classification_kwds, control_scale, marker_type, marker_kwds, style_kwds, highlight_kwds, missing_kwds, tooltip_kwds, popup_kwds, legend_kwds, map_kwds, **kwargs)\u001b[0m\n\u001b[1;32m    294\u001b[0m         \u001b[38;5;28;01mimport\u001b[39;00m \u001b[38;5;21;01mmatplotlib\u001b[39;00m\u001b[38;5;21;01m.\u001b[39;00m\u001b[38;5;21;01mcm\u001b[39;00m \u001b[38;5;28;01mas\u001b[39;00m \u001b[38;5;21;01mcm\u001b[39;00m\n\u001b[1;32m    296\u001b[0m \u001b[38;5;28;01mexcept\u001b[39;00m (\u001b[38;5;167;01mImportError\u001b[39;00m, \u001b[38;5;167;01mModuleNotFoundError\u001b[39;00m):\n\u001b[0;32m--> 297\u001b[0m     \u001b[38;5;28;01mraise\u001b[39;00m \u001b[38;5;167;01mImportError\u001b[39;00m(\n\u001b[1;32m    298\u001b[0m         \u001b[38;5;124m\"\u001b[39m\u001b[38;5;124mThe \u001b[39m\u001b[38;5;124m'\u001b[39m\u001b[38;5;124mfolium\u001b[39m\u001b[38;5;124m'\u001b[39m\u001b[38;5;124m, \u001b[39m\u001b[38;5;124m'\u001b[39m\u001b[38;5;124mmatplotlib\u001b[39m\u001b[38;5;124m'\u001b[39m\u001b[38;5;124m and \u001b[39m\u001b[38;5;124m'\u001b[39m\u001b[38;5;124mmapclassify\u001b[39m\u001b[38;5;124m'\u001b[39m\u001b[38;5;124m packages are required for \u001b[39m\u001b[38;5;124m\"\u001b[39m\n\u001b[1;32m    299\u001b[0m         \u001b[38;5;124m\"\u001b[39m\u001b[38;5;124m'\u001b[39m\u001b[38;5;124mexplore()\u001b[39m\u001b[38;5;124m'\u001b[39m\u001b[38;5;124m. You can install them using \u001b[39m\u001b[38;5;124m\"\u001b[39m\n\u001b[1;32m    300\u001b[0m         \u001b[38;5;124m\"\u001b[39m\u001b[38;5;124m'\u001b[39m\u001b[38;5;124mconda install -c conda-forge folium matplotlib mapclassify\u001b[39m\u001b[38;5;124m'\u001b[39m\u001b[38;5;124m \u001b[39m\u001b[38;5;124m\"\u001b[39m\n\u001b[1;32m    301\u001b[0m         \u001b[38;5;124m\"\u001b[39m\u001b[38;5;124mor \u001b[39m\u001b[38;5;124m'\u001b[39m\u001b[38;5;124mpip install folium matplotlib mapclassify\u001b[39m\u001b[38;5;124m'\u001b[39m\u001b[38;5;124m.\u001b[39m\u001b[38;5;124m\"\u001b[39m\n\u001b[1;32m    302\u001b[0m     )\n\u001b[1;32m    304\u001b[0m \u001b[38;5;66;03m# xyservices is an optional dependency\u001b[39;00m\n\u001b[1;32m    305\u001b[0m \u001b[38;5;28;01mtry\u001b[39;00m:\n",
      "\u001b[0;31mImportError\u001b[0m: The 'folium', 'matplotlib' and 'mapclassify' packages are required for 'explore()'. You can install them using 'conda install -c conda-forge folium matplotlib mapclassify' or 'pip install folium matplotlib mapclassify'."
     ]
    }
   ],
   "source": [
    "SF23_YB = quadricula['SF23_YB']\n",
    "\n",
    "print(SF23_YB.keys())\n",
    "print('')\n",
    "\n",
    "print(SF23_YB['folha'])\n",
    "print('')\n",
    "\n",
    "SF23_YB['litologia_1kk'].explore('SIGLA',legend=False)"
   ]
  },
  {
   "cell_type": "code",
   "execution_count": null,
   "id": "a2044d13-0195-4767-bfc7-7b6a8a9e1172",
   "metadata": {},
   "outputs": [],
   "source": [
    "SF23_YA = quadricula['SF23_YA']\n",
    "list(SF23_YA)"
   ]
  },
  {
   "cell_type": "code",
   "execution_count": null,
   "id": "4087f172-c872-4027-ad16-f975100bc201",
   "metadata": {},
   "outputs": [],
   "source": [
    "SF23_YA['litologia_1kk'].explore('SIGLA',legend=False)"
   ]
  },
  {
   "cell_type": "markdown",
   "id": "2a55a3aa-95cf-4090-a82d-42b65939907f",
   "metadata": {
    "tags": []
   },
   "source": [
    "##  II. CONTEXTO GEOLÓGICO        "
   ]
  },
  {
   "cell_type": "markdown",
   "id": "60bbf570-8c7d-4c03-9551-2ec25f6efb46",
   "metadata": {},
   "source": [
    "### 2.1 NAPPE SOCORRO"
   ]
  },
  {
   "cell_type": "markdown",
   "id": "7f8a6087-f507-41f0-9830-c765d9524682",
   "metadata": {},
   "source": [
    "### 2.2 NAPPE GUAXUPÉ"
   ]
  },
  {
   "cell_type": "markdown",
   "id": "be71294f-6167-4458-9ef7-8e0812ec90f1",
   "metadata": {},
   "source": [
    " III. A GRAFITA\t6\n",
    " \n",
    "3.1 APRESENTAÇÃO\t6\n",
    "\n",
    "3.2 OCORRÊNCIA\t6\n",
    "\n",
    "3.3 TIPOS DE MINERALIZAÇÃO DE GRAFITA\t6\n",
    "\n",
    "3.4 GRAFITA NO SISTEMA DE NAPPES SOCORRO –GUAXUPÉ\t6\n",
    "\n",
    " IV. MATERIAIS\t7\n",
    " \n",
    "4.1 APRESENTAÇÃO\t7\n",
    "\n",
    "4.2 PROJETOS AEROGEOFÍSICOS\t7\n",
    "\n",
    "4.2.1 SÃO JOSÉ DOS CAMPOS – RESENDE\t7\n",
    "\n",
    "4.2.2 SÃO PAULO – RIO DE JANEIRO (ÁREA SÃO PAULO)\t7\n",
    "\n",
    "4.2.3 ÁREA 14 MINAS GERAIS – POÇOS DE CALDAS – VARGINHA – ANDRELÂNDIA\t7\n",
    "\n",
    "4.3 FERRAMENTAS\t7\n",
    "\n",
    " V. MÉTODOS\t8\n",
    " \n",
    "5.1 APRESENTAÇÃO\t8\n",
    "\n",
    "5.2 MÉTODO AEROMAGNETOMÉTRICO\t8\n",
    "\n",
    "5.3 PROCESSAMENTO DE DADOS AEROMAGNETOMÉTRICOS\t8\n",
    "\n",
    " 5.3.1 Pré-processamento dos dados aeromagnetométricos\t8\n",
    " \n",
    " 5.3.2 Interpolação dos dados aeromagnetométricos\t8\n",
    " \n",
    " 5.3.3 Amplitude do Sinal Analítico\t8\n",
    " \n",
    " 5.3.4 Gradiente Horizontal Total\t8\n",
    " \n",
    "5.4 MÉTODO AEROGAMAESPECTROMÉTRICO\t8\n",
    "\n",
    "5.5 PROCESSAMENTO DE DADOS AEROGAMAESPECTROMÉTRICOS\t8\n",
    "\n",
    " 5.5.1 Pré-processamento dos dados aerogamaespectrométricos\t8\n",
    " \n",
    " 5.5.2 Interpolação dos dados gama espectrométricos\t8\n",
    " \n",
    " 5.5.3 Mapas ternários\t8\n",
    " \n",
    "\n",
    "5.6 MÉTODOS DE CLASSIFICAÇÃO NÃO-SUPERVISIONADA\t8\n",
    "\n",
    " 5.6.1 SELF-ORGANIZING MAPS (SOM)\t8\n",
    " \n",
    "5.7 MÉTODOS DE CLASSIFICAÇÃO SUPERVISIONADA\t8\n",
    "\n",
    " 5.7.1 RANDOM FORESTS\t8\n",
    " \n",
    " 5.7.1 SUPPORT VECTOR MACHINES\t8\n",
    " \n",
    "VI. RESULTADOS E DISCUSSÕES\t9\n",
    "\n",
    " 6.1 APRESENTAÇÃO\t9\n",
    " \n",
    " \n",
    " 6.2 INTERPRETAÇÃO DOS DADOS AEROMAGNETOMÉTRICOS\t9\n",
    " \n",
    "VII. CONCLUSÕES\t10\n",
    "\n",
    "VIII. BIBLIOGRAFIA\t11\n"
   ]
  }
 ],
 "metadata": {
  "kernelspec": {
   "display_name": "Python 3 (ipykernel)",
   "language": "python",
   "name": "python3"
  },
  "language_info": {
   "codemirror_mode": {
    "name": "ipython",
    "version": 3
   },
   "file_extension": ".py",
   "mimetype": "text/x-python",
   "name": "python",
   "nbconvert_exporter": "python",
   "pygments_lexer": "ipython3",
   "version": "3.11.5"
  }
 },
 "nbformat": 4,
 "nbformat_minor": 5
}
