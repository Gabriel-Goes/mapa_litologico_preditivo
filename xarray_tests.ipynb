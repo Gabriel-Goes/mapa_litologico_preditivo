{
 "cells": [
  {
   "cell_type": "code",
   "execution_count": 1,
   "id": "11c5e129",
   "metadata": {},
   "outputs": [],
   "source": [
    "import pvxarray\n",
    "import xarray as xr\n",
    "import numpy as np\n",
    "import pandas as pd\n",
    "from src import *\n",
    "import verde\n",
    "\n",
    "%matplotlib inline"
   ]
  },
  {
   "cell_type": "code",
   "execution_count": 2,
   "id": "eb7f5168-7500-4563-857c-bbba51b5299a",
   "metadata": {},
   "outputs": [],
   "source": [
    "%load_ext autoreload"
   ]
  },
  {
   "cell_type": "code",
   "execution_count": 3,
   "id": "fae2ad0d",
   "metadata": {},
   "outputs": [
    {
     "name": "stderr",
     "output_type": "stream",
     "text": [
      "100%|███████████████████████████████████████████| 4/4 [00:00<00:00, 371.65it/s]\n",
      "24it [00:00, 469.44it/s]"
     ]
    },
    {
     "name": "stdout",
     "output_type": "stream",
     "text": [
      " - Folha \"SF23_YB_I\" adicionada.\n",
      " - Folha \"SF23_YB_IV\" adicionada.\n",
      " - Folha \"SF23_YB_II\" adicionada.\n",
      " - Folha \"SF23_YB_V\" adicionada.\n",
      " - Folha \"SF23_YB_III\" adicionada.\n",
      " - Folha \"SF23_YB_VI\" adicionada.\n",
      " - Folha \"SF23_VC_I\" adicionada.\n",
      " - Folha \"SF23_VC_IV\" adicionada.\n",
      " - Folha \"SF23_VC_II\" adicionada.\n",
      " - Folha \"SF23_VC_V\" adicionada.\n",
      " - Folha \"SF23_VC_III\" adicionada.\n",
      " - Folha \"SF23_VC_VI\" adicionada.\n",
      " - Folha \"SF23_VD_I\" adicionada.\n",
      " - Folha \"SF23_VD_IV\" adicionada.\n",
      " - Folha \"SF23_VD_II\" adicionada.\n",
      " - Folha \"SF23_VD_V\" adicionada.\n",
      " - Folha \"SF23_VD_III\" adicionada.\n",
      " - Folha \"SF23_VD_VI\" adicionada.\n",
      " - Folha \"SF23_YA_I\" adicionada.\n",
      " - Folha \"SF23_YA_IV\" adicionada.\n",
      " - Folha \"SF23_YA_II\" adicionada.\n",
      " - Folha \"SF23_YA_V\" adicionada.\n",
      " - Folha \"SF23_YA_III\" adicionada.\n",
      " - Folha \"SF23_YA_VI\" adicionada.\n",
      "\n",
      "  24 folhas adicionadas.\n"
     ]
    },
    {
     "name": "stderr",
     "output_type": "stream",
     "text": [
      "\n"
     ]
    }
   ],
   "source": [
    "quadricula =Build_mc('100k',['SF23_YB','SF23_VC','SF23_VD','SF23_YA'],verbose=True)"
   ]
  },
  {
   "cell_type": "code",
   "execution_count": 4,
   "id": "68e4c619",
   "metadata": {},
   "outputs": [
    {
     "name": "stderr",
     "output_type": "stream",
     "text": [
      "  0%|                                                   | 0/24 [00:00<?, ?it/s]"
     ]
    },
    {
     "name": "stdout",
     "output_type": "stream",
     "text": [
      " - gama_line_1105 atualizado na folha: SF23_YB_I com 1074704 pontos\n"
     ]
    },
    {
     "name": "stderr",
     "output_type": "stream",
     "text": [
      "  4%|█▊                                         | 1/24 [00:00<00:07,  3.27it/s]"
     ]
    },
    {
     "name": "stdout",
     "output_type": "stream",
     "text": [
      " - mag_line_1105 atualizado na folha: SF23_YB_I com 10668216 pontos\n",
      " - gama_line_1105 atualizado na folha: SF23_YB_IV com 743773 pontos\n"
     ]
    },
    {
     "name": "stderr",
     "output_type": "stream",
     "text": [
      "  8%|███▌                                       | 2/24 [00:00<00:05,  3.88it/s]"
     ]
    },
    {
     "name": "stdout",
     "output_type": "stream",
     "text": [
      " - mag_line_1105 atualizado na folha: SF23_YB_IV com 7218497 pontos\n",
      " - gama_line_1105 atualizado na folha: SF23_YB_II com 886040 pontos\n"
     ]
    },
    {
     "name": "stderr",
     "output_type": "stream",
     "text": [
      " 12%|█████▍                                     | 3/24 [00:00<00:05,  3.91it/s]"
     ]
    },
    {
     "name": "stdout",
     "output_type": "stream",
     "text": [
      " - mag_line_1105 atualizado na folha: SF23_YB_II com 8667011 pontos\n",
      " - gama_line_1105 atualizado na folha: SF23_YB_V com 624246 pontos\n",
      " - mag_line_1105 atualizado na folha: SF23_YB_V com 5940464 pontos\n"
     ]
    },
    {
     "name": "stderr",
     "output_type": "stream",
     "text": [
      " 21%|████████▉                                  | 5/24 [00:01<00:04,  4.46it/s]"
     ]
    },
    {
     "name": "stdout",
     "output_type": "stream",
     "text": [
      " - gama_line_1105 atualizado na folha: SF23_YB_III com 620391 pontos\n",
      " - mag_line_1105 atualizado na folha: SF23_YB_III com 5945904 pontos\n",
      " - gama_line_1105 atualizado na folha: SF23_YB_VI com 435196 pontos\n"
     ]
    },
    {
     "name": "stderr",
     "output_type": "stream",
     "text": [
      " 25%|██████████▊                                | 6/24 [00:01<00:03,  4.87it/s]"
     ]
    },
    {
     "name": "stdout",
     "output_type": "stream",
     "text": [
      " - mag_line_1105 atualizado na folha: SF23_YB_VI com 4027039 pontos\n",
      " - gama_line_1105 atualizado na folha: SF23_VC_I com 1169659 pontos\n"
     ]
    },
    {
     "name": "stderr",
     "output_type": "stream",
     "text": [
      " 29%|████████████▌                              | 7/24 [00:01<00:03,  4.27it/s]"
     ]
    },
    {
     "name": "stdout",
     "output_type": "stream",
     "text": [
      " - mag_line_1105 atualizado na folha: SF23_VC_I com 11635640 pontos\n",
      " - gama_line_1105 atualizado na folha: SF23_VC_IV com 1148401 pontos\n"
     ]
    },
    {
     "name": "stderr",
     "output_type": "stream",
     "text": [
      " 33%|██████████████▎                            | 8/24 [00:01<00:04,  3.98it/s]"
     ]
    },
    {
     "name": "stdout",
     "output_type": "stream",
     "text": [
      " - mag_line_1105 atualizado na folha: SF23_VC_IV com 11421576 pontos\n",
      " - gama_line_1105 atualizado na folha: SF23_VC_II com 1169659 pontos\n"
     ]
    },
    {
     "name": "stderr",
     "output_type": "stream",
     "text": [
      " 38%|████████████████▏                          | 9/24 [00:02<00:03,  3.78it/s]"
     ]
    },
    {
     "name": "stdout",
     "output_type": "stream",
     "text": [
      " - mag_line_1105 atualizado na folha: SF23_VC_II com 11635640 pontos\n",
      " - gama_line_1105 atualizado na folha: SF23_VC_V com 1149391 pontos\n"
     ]
    },
    {
     "name": "stderr",
     "output_type": "stream",
     "text": [
      " 42%|█████████████████▌                        | 10/24 [00:02<00:03,  3.65it/s]"
     ]
    },
    {
     "name": "stdout",
     "output_type": "stream",
     "text": [
      " - mag_line_1105 atualizado na folha: SF23_VC_V com 11431460 pontos\n",
      " - gama_line_1105 atualizado na folha: SF23_VC_III com 1169659 pontos\n"
     ]
    },
    {
     "name": "stderr",
     "output_type": "stream",
     "text": [
      " 46%|███████████████████▎                      | 11/24 [00:02<00:03,  3.54it/s]"
     ]
    },
    {
     "name": "stdout",
     "output_type": "stream",
     "text": [
      " - mag_line_1105 atualizado na folha: SF23_VC_III com 11635640 pontos\n",
      " - gama_line_1105 atualizado na folha: SF23_VC_VI com 1150159 pontos\n"
     ]
    },
    {
     "name": "stderr",
     "output_type": "stream",
     "text": [
      " 50%|█████████████████████                     | 12/24 [00:03<00:03,  3.48it/s]"
     ]
    },
    {
     "name": "stdout",
     "output_type": "stream",
     "text": [
      " - mag_line_1105 atualizado na folha: SF23_VC_VI com 11439195 pontos\n",
      " - gama_line_1105 atualizado na folha: SF23_VD_I com 1078855 pontos\n"
     ]
    },
    {
     "name": "stderr",
     "output_type": "stream",
     "text": [
      " 54%|██████████████████████▊                   | 13/24 [00:03<00:03,  3.49it/s]"
     ]
    },
    {
     "name": "stdout",
     "output_type": "stream",
     "text": [
      " - mag_line_1105 atualizado na folha: SF23_VD_I com 10710858 pontos\n",
      " - gama_line_1105 atualizado na folha: SF23_VD_IV com 1077283 pontos\n"
     ]
    },
    {
     "name": "stderr",
     "output_type": "stream",
     "text": [
      " 58%|████████████████████████▌                 | 14/24 [00:03<00:02,  3.54it/s]"
     ]
    },
    {
     "name": "stdout",
     "output_type": "stream",
     "text": [
      " - mag_line_1105 atualizado na folha: SF23_VD_IV com 10694969 pontos\n",
      " - gama_line_1105 atualizado na folha: SF23_VD_II com 889704 pontos\n"
     ]
    },
    {
     "name": "stderr",
     "output_type": "stream",
     "text": [
      " 62%|██████████████████████████▎               | 15/24 [00:03<00:02,  3.72it/s]"
     ]
    },
    {
     "name": "stdout",
     "output_type": "stream",
     "text": [
      " - mag_line_1105 atualizado na folha: SF23_VD_II com 8704608 pontos\n",
      " - gama_line_1105 atualizado na folha: SF23_VD_V com 886809 pontos\n"
     ]
    },
    {
     "name": "stderr",
     "output_type": "stream",
     "text": [
      " 71%|█████████████████████████████▊            | 17/24 [00:04<00:01,  4.20it/s]"
     ]
    },
    {
     "name": "stdout",
     "output_type": "stream",
     "text": [
      " - mag_line_1105 atualizado na folha: SF23_VD_V com 8674554 pontos\n",
      " - gama_line_1105 atualizado na folha: SF23_VD_III com 622890 pontos\n",
      " - mag_line_1105 atualizado na folha: SF23_VD_III com 5974385 pontos\n"
     ]
    },
    {
     "name": "stderr",
     "output_type": "stream",
     "text": [
      " 75%|███████████████████████████████▌          | 18/24 [00:04<00:01,  4.48it/s]"
     ]
    },
    {
     "name": "stdout",
     "output_type": "stream",
     "text": [
      " - gama_line_1105 atualizado na folha: SF23_VD_VI com 622890 pontos\n",
      " - mag_line_1105 atualizado na folha: SF23_VD_VI com 5974385 pontos\n",
      " - gama_line_1105 atualizado na folha: SF23_YA_I com 1100797 pontos\n"
     ]
    },
    {
     "name": "stderr",
     "output_type": "stream",
     "text": [
      " 79%|█████████████████████████████████▎        | 19/24 [00:04<00:01,  4.14it/s]"
     ]
    },
    {
     "name": "stdout",
     "output_type": "stream",
     "text": [
      " - mag_line_1105 atualizado na folha: SF23_YA_I com 10937992 pontos\n",
      " - gama_line_1105 atualizado na folha: SF23_YA_IV com 734648 pontos\n"
     ]
    },
    {
     "name": "stderr",
     "output_type": "stream",
     "text": [
      " 83%|███████████████████████████████████       | 20/24 [00:05<00:00,  4.27it/s]"
     ]
    },
    {
     "name": "stdout",
     "output_type": "stream",
     "text": [
      " - mag_line_1105 atualizado na folha: SF23_YA_IV com 7127087 pontos\n",
      " - gama_line_1105 atualizado na folha: SF23_YA_II com 1106445 pontos\n"
     ]
    },
    {
     "name": "stderr",
     "output_type": "stream",
     "text": [
      " 88%|████████████████████████████████████▊     | 21/24 [00:05<00:00,  4.02it/s]"
     ]
    },
    {
     "name": "stdout",
     "output_type": "stream",
     "text": [
      " - mag_line_1105 atualizado na folha: SF23_YA_II com 10995514 pontos\n",
      " - gama_line_1105 atualizado na folha: SF23_YA_V com 739270 pontos\n"
     ]
    },
    {
     "name": "stderr",
     "output_type": "stream",
     "text": [
      " 92%|██████████████████████████████████████▌   | 22/24 [00:05<00:00,  4.20it/s]"
     ]
    },
    {
     "name": "stdout",
     "output_type": "stream",
     "text": [
      " - mag_line_1105 atualizado na folha: SF23_YA_V com 7173814 pontos\n",
      " - gama_line_1105 atualizado na folha: SF23_YA_III com 1110323 pontos\n"
     ]
    },
    {
     "name": "stderr",
     "output_type": "stream",
     "text": [
      " 96%|████████████████████████████████████████▎ | 23/24 [00:05<00:00,  3.95it/s]"
     ]
    },
    {
     "name": "stdout",
     "output_type": "stream",
     "text": [
      " - mag_line_1105 atualizado na folha: SF23_YA_III com 11038279 pontos\n",
      " - gama_line_1105 atualizado na folha: SF23_YA_VI com 742894 pontos\n"
     ]
    },
    {
     "name": "stderr",
     "output_type": "stream",
     "text": [
      "100%|██████████████████████████████████████████| 24/24 [00:06<00:00,  3.97it/s]"
     ]
    },
    {
     "name": "stdout",
     "output_type": "stream",
     "text": [
      " - mag_line_1105 atualizado na folha: SF23_YA_VI com 7210364 pontos\n"
     ]
    },
    {
     "name": "stderr",
     "output_type": "stream",
     "text": [
      "\n"
     ]
    }
   ],
   "source": [
    "Upload_geof(quadricula,'gama_line_1105','mag_line_1105',1000)"
   ]
  },
  {
   "cell_type": "code",
   "execution_count": 6,
   "id": "eebc26ca",
   "metadata": {},
   "outputs": [
    {
     "name": "stderr",
     "output_type": "stream",
     "text": [
      "  0%|                                                   | 0/24 [00:00<?, ?it/s]"
     ]
    },
    {
     "name": "stdout",
     "output_type": "stream",
     "text": [
      "Atributo - CTCOR\n",
      "Atributo - eU\n",
      "Atributo - eTh\n",
      "Atributo - KPERC\n",
      "Atributo - UTHRAZAO\n",
      "Atributo - THKRAZAO\n",
      "Atributo - UKRAZAO\n",
      "Atributo - MDT\n",
      "              count        mean         std    min     1%      25%      50%  \\\n",
      "CTCOR     1074704.0   13.773299   10.174564  0.001  0.001    6.463   10.942   \n",
      "eU        1074704.0    1.752734    1.064239  0.001  0.001    1.035    1.709   \n",
      "eTh       1074704.0   19.502914   11.162650  0.001  0.001   12.547   18.749   \n",
      "KPERC     1074704.0    0.931338    0.840774  0.001  0.001    0.363    0.729   \n",
      "UTHRAZAO  1074704.0    0.096875    0.042811  0.003  0.032    0.072    0.090   \n",
      "THKRAZAO  1074704.0   30.635216   26.315878  0.798  5.479   15.771   21.725   \n",
      "UKRAZAO   1074704.0    2.811924    2.459945  0.042  0.387    1.384    1.994   \n",
      "MDT       1074704.0  865.638051  421.815358  0.001  0.001  618.040  885.405   \n",
      "\n",
      "               75%       90%        99.9%       max  \n",
      "CTCOR       19.248    27.428    66.653891   210.609  \n",
      "eU           2.399     3.092     6.380297    20.878  \n",
      "eTh         25.532    32.913    76.904891   241.474  \n",
      "KPERC        1.258     1.973     5.715297    14.577  \n",
      "UTHRAZAO     0.112     0.143     0.424000     2.669  \n",
      "THKRAZAO    36.167    59.191   230.023128   525.859  \n",
      "UKRAZAO      3.415     5.522    21.802564    59.007  \n",
      "MDT       1120.160  1387.397  2377.644850  2751.590  \n"
     ]
    },
    {
     "name": "stderr",
     "output_type": "stream",
     "text": [
      "\n"
     ]
    },
    {
     "ename": "TypeError",
     "evalue": "sintetic_grid() got an unexpected keyword argument 'projection'",
     "output_type": "error",
     "traceback": [
      "\u001b[0;31m---------------------------------------------------------------------------\u001b[0m",
      "\u001b[0;31mTypeError\u001b[0m                                 Traceback (most recent call last)",
      "Input \u001b[0;32mIn [6]\u001b[0m, in \u001b[0;36m<cell line: 1>\u001b[0;34m()\u001b[0m\n\u001b[0;32m----> 1\u001b[0m \u001b[43mtraditional_interpolation\u001b[49m\u001b[43m(\u001b[49m\u001b[43mquadricula\u001b[49m\u001b[43m,\u001b[49m\u001b[38;5;124;43m'\u001b[39;49m\u001b[38;5;124;43mmag_line_1105\u001b[39;49m\u001b[38;5;124;43m'\u001b[39;49m\u001b[43m,\u001b[49m\u001b[38;5;124;43m'\u001b[39;49m\u001b[38;5;124;43mgama_line_1105\u001b[39;49m\u001b[38;5;124;43m'\u001b[39;49m\u001b[43m,\u001b[49m\u001b[38;5;124;43m'\u001b[39;49m\u001b[38;5;124;43mlinear\u001b[39;49m\u001b[38;5;124;43m'\u001b[39;49m\u001b[43m,\u001b[49m\u001b[38;5;124;43m'\u001b[39;49m\u001b[38;5;124;43mgeof_1105\u001b[39;49m\u001b[38;5;124;43m'\u001b[39;49m\u001b[43m,\u001b[49m\u001b[38;5;124;43m'\u001b[39;49m\u001b[38;5;124;43mgeog\u001b[39;49m\u001b[38;5;124;43m'\u001b[39;49m\u001b[43m,\u001b[49m\u001b[38;5;28;43;01mTrue\u001b[39;49;00m\u001b[43m)\u001b[49m\n",
      "File \u001b[0;32m~/projetos/geologist/src.py:896\u001b[0m, in \u001b[0;36mtraditional_interpolation\u001b[0;34m(quadricula, mag_xyz, gama_xyz, algorithm, geof, projection, extrapolate)\u001b[0m\n\u001b[1;32m    894\u001b[0m MAGIGRF\u001b[38;5;241m=\u001b[39mnp\u001b[38;5;241m.\u001b[39marray(mag_data\u001b[38;5;241m.\u001b[39mMAGIGRF)\n\u001b[1;32m    895\u001b[0m MDT\u001b[38;5;241m=\u001b[39mnp\u001b[38;5;241m.\u001b[39marray(mag_data\u001b[38;5;241m.\u001b[39mMDT)\n\u001b[0;32m--> 896\u001b[0m xu,yu\u001b[38;5;241m=\u001b[39m\u001b[43msintetic_grid\u001b[49m\u001b[43m(\u001b[49m\u001b[43mquadricula\u001b[49m\u001b[43m,\u001b[49m\u001b[38;5;28;43mid\u001b[39;49m\u001b[43m,\u001b[49m\u001b[43mprojection\u001b[49m\u001b[38;5;241;43m=\u001b[39;49m\u001b[43mprojection\u001b[49m\u001b[43m)\u001b[49m\n\u001b[1;32m    897\u001b[0m x1,y1\u001b[38;5;241m=\u001b[39mnp\u001b[38;5;241m.\u001b[39marray(gama_data\u001b[38;5;241m.\u001b[39mLONGITUDE),np\u001b[38;5;241m.\u001b[39marray(gama_data\u001b[38;5;241m.\u001b[39mLATITUDE)\n\u001b[1;32m    898\u001b[0m x2,y2\u001b[38;5;241m=\u001b[39mnp\u001b[38;5;241m.\u001b[39marray(mag_data\u001b[38;5;241m.\u001b[39mLONGITUDE),np\u001b[38;5;241m.\u001b[39marray(mag_data\u001b[38;5;241m.\u001b[39mLATITUDE)\n",
      "\u001b[0;31mTypeError\u001b[0m: sintetic_grid() got an unexpected keyword argument 'projection'"
     ]
    }
   ],
   "source": [
    "traditional_interpolation(quadricula,'mag_line_1105','gama_line_1105','linear','geof_1105','geog',True)"
   ]
  },
  {
   "cell_type": "code",
   "execution_count": null,
   "id": "694a4de8",
   "metadata": {},
   "outputs": [],
   "source": [
    "df =quadricula['SF23_YB_I']['geof_1105_linear']"
   ]
  },
  {
   "cell_type": "code",
   "execution_count": null,
   "id": "2fa25026",
   "metadata": {},
   "outputs": [],
   "source": [
    "df"
   ]
  },
  {
   "cell_type": "markdown",
   "id": "d678b4d2",
   "metadata": {},
   "source": [
    "# Xarray - more then pandas in multiple dimensions"
   ]
  },
  {
   "cell_type": "code",
   "execution_count": null,
   "id": "194b67fc",
   "metadata": {},
   "outputs": [],
   "source": [
    "ds = df.set_index(['LATITUDE', 'LONGITUDE']).to_xarray()\n",
    "ds"
   ]
  },
  {
   "cell_type": "code",
   "execution_count": null,
   "id": "05ddfcf2",
   "metadata": {},
   "outputs": [],
   "source": [
    "ds.UTHRAZAO.plot(figsize=(12,12),cmap='bwr')\n",
    "plt.axis('scaled')"
   ]
  },
  {
   "cell_type": "code",
   "execution_count": null,
   "id": "a6fc5379",
   "metadata": {},
   "outputs": [],
   "source": [
    "ds"
   ]
  },
  {
   "cell_type": "code",
   "execution_count": null,
   "id": "c8834c4a",
   "metadata": {},
   "outputs": [],
   "source": [
    "da = ds.MDT"
   ]
  },
  {
   "cell_type": "code",
   "execution_count": null,
   "id": "c2482e9f",
   "metadata": {},
   "outputs": [],
   "source": [
    "da"
   ]
  },
  {
   "cell_type": "code",
   "execution_count": null,
   "id": "06485727",
   "metadata": {},
   "outputs": [],
   "source": [
    "da.plot(cmap='terrain')\n",
    "plt.axis('scaled')"
   ]
  },
  {
   "cell_type": "code",
   "execution_count": null,
   "id": "8a71be5e",
   "metadata": {},
   "outputs": [],
   "source": []
  }
 ],
 "metadata": {
  "kernelspec": {
   "display_name": "Python 3 (ipykernel)",
   "language": "python",
   "name": "python3"
  },
  "language_info": {
   "codemirror_mode": {
    "name": "ipython",
    "version": 3
   },
   "file_extension": ".py",
   "mimetype": "text/x-python",
   "name": "python",
   "nbconvert_exporter": "python",
   "pygments_lexer": "ipython3",
   "version": "3.10.6"
  },
  "vscode": {
   "interpreter": {
    "hash": "ed32a6a1b508148fc3ce5ac19a3a5a750fe820bd77e8693096b5866236bb4c36"
   }
  }
 },
 "nbformat": 4,
 "nbformat_minor": 5
}
