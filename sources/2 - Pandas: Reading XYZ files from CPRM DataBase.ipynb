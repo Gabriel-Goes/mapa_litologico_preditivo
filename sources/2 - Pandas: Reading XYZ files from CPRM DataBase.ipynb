{
 "cells": [
  {
   "cell_type": "code",
   "execution_count": null,
   "metadata": {},
   "outputs": [],
   "source": []
  },
  {
   "cell_type": "code",
   "execution_count": 2,
   "metadata": {},
   "outputs": [],
   "source": [
    "import pandas as pd\n",
    "\n",
    "gdb = '/home/ggrl/geodatabase/'"
   ]
  },
  {
   "cell_type": "code",
   "execution_count": 2,
   "metadata": {},
   "outputs": [],
   "source": [
    "gama_cols = 'KB DATA BARO UB THB COSMICO CTB UUP ALTURA KPERC eU eTH CTEXP UTHRAZAO X Y UKRAZAO MDT THKRAZAO LIVE_TIME CTCOR KCOR THCOR UCOR HORA GPSALT LATITUDE FIDUCIAL TEMP LONGITUDE'.split(\" \")\n",
    "\n",
    "gTie_cols = 'KB DATA BARO UB THB COSMICO CTB UUP ALTURA KPERC eU eTH CTEXP UTHRAZAO X Y UKRAZAO MDT THKRAZAO LIVE_TIME CTCOR KCOR THCOR UCOR HORA GPSALT LATITUDE FIDUCIAL TEMP LONGITUDE __X __Y'.split(\" \")\n",
    "\n",
    "mag_cols = 'DATA BARO ALTURA X Y MDT HORA GPSALT LATITUDE FIDUCIAL LONGITUDE ALTURA_1 IGRF MAGBASE MAGBRU MAGCOM MAGCOR MAGIGRF MAGMIC MAGNIV'.split(\" \" )\n"
   ]
  },
  {
   "cell_type": "code",
   "execution_count": 3,
   "metadata": {},
   "outputs": [],
   "source": [
    "gLine_1105 = pd.read_csv(gdb+'xyz/1105_XYZ/1105_GamaLine.XYZ',\n",
    "                         names=gama_cols,\n",
    "                         delim_whitespace=True,\n",
    "                         skiprows=11,\n",
    "                         usecols=[\"X\",\"Y\",\"LATITUDE\",\"LONGITUDE\",\n",
    "                                  \"KPERC\",\"eU\",\"eTH\",\"CTCOR\",\"MDT\"])\n",
    "\n",
    "gTie_1105 = pd.read_csv(gdb+'xyz/1105_XYZ/1105_GamaTie.XYZ',\n",
    "                         names=gTie_cols,\n",
    "                         delim_whitespace=True,\n",
    "                         skiprows=11,\n",
    "                         usecols=[\"X\",\"Y\",\"LATITUDE\",\"LONGITUDE\",\n",
    "                                  \"KPERC\",\"eU\",\"eTH\",\"CTCOR\",\"MDT\"])\n",
    "\n",
    "g_1105 = pd.concat([gTie_1105,gLine_1105], ignore_index=True)"
   ]
  },
  {
   "cell_type": "code",
   "execution_count": 5,
   "metadata": {},
   "outputs": [
    {
     "name": "stdout",
     "output_type": "stream",
     "text": [
      "(1173984, 9)\n",
      "(73152, 9)\n",
      "(1247136, 9)\n"
     ]
    }
   ],
   "source": [
    "print(gLine_1105.shape)\n",
    "print(gTie_1105.shape)\n",
    "\n",
    "print(g_1105.shape)"
   ]
  },
  {
   "cell_type": "code",
   "execution_count": 6,
   "metadata": {},
   "outputs": [
    {
     "data": {
      "text/html": [
       "<div>\n",
       "<style scoped>\n",
       "    .dataframe tbody tr th:only-of-type {\n",
       "        vertical-align: middle;\n",
       "    }\n",
       "\n",
       "    .dataframe tbody tr th {\n",
       "        vertical-align: top;\n",
       "    }\n",
       "\n",
       "    .dataframe thead th {\n",
       "        text-align: right;\n",
       "    }\n",
       "</style>\n",
       "<table border=\"1\" class=\"dataframe\">\n",
       "  <thead>\n",
       "    <tr style=\"text-align: right;\">\n",
       "      <th></th>\n",
       "      <th>KPERC</th>\n",
       "      <th>eU</th>\n",
       "      <th>eTH</th>\n",
       "      <th>X</th>\n",
       "      <th>Y</th>\n",
       "      <th>MDT</th>\n",
       "      <th>CTCOR</th>\n",
       "      <th>LATITUDE</th>\n",
       "      <th>LONGITUDE</th>\n",
       "    </tr>\n",
       "  </thead>\n",
       "  <tbody>\n",
       "    <tr>\n",
       "      <th>0</th>\n",
       "      <td>0.060</td>\n",
       "      <td>0.597</td>\n",
       "      <td>0.587</td>\n",
       "      <td>378133.94</td>\n",
       "      <td>7345653.93</td>\n",
       "      <td>0.00</td>\n",
       "      <td>3.305</td>\n",
       "      <td>-23.996399</td>\n",
       "      <td>-46.198067</td>\n",
       "    </tr>\n",
       "    <tr>\n",
       "      <th>1</th>\n",
       "      <td>0.139</td>\n",
       "      <td>0.332</td>\n",
       "      <td>0.824</td>\n",
       "      <td>378061.80</td>\n",
       "      <td>7345654.98</td>\n",
       "      <td>0.00</td>\n",
       "      <td>5.257</td>\n",
       "      <td>-23.996384</td>\n",
       "      <td>-46.198776</td>\n",
       "    </tr>\n",
       "    <tr>\n",
       "      <th>2</th>\n",
       "      <td>1.490</td>\n",
       "      <td>0.399</td>\n",
       "      <td>6.987</td>\n",
       "      <td>377989.96</td>\n",
       "      <td>7345656.47</td>\n",
       "      <td>0.14</td>\n",
       "      <td>8.125</td>\n",
       "      <td>-23.996365</td>\n",
       "      <td>-46.199482</td>\n",
       "    </tr>\n",
       "    <tr>\n",
       "      <th>3</th>\n",
       "      <td>1.975</td>\n",
       "      <td>1.459</td>\n",
       "      <td>6.574</td>\n",
       "      <td>377917.82</td>\n",
       "      <td>7345657.63</td>\n",
       "      <td>2.46</td>\n",
       "      <td>11.506</td>\n",
       "      <td>-23.996349</td>\n",
       "      <td>-46.200191</td>\n",
       "    </tr>\n",
       "    <tr>\n",
       "      <th>4</th>\n",
       "      <td>2.497</td>\n",
       "      <td>1.755</td>\n",
       "      <td>8.473</td>\n",
       "      <td>377845.99</td>\n",
       "      <td>7345659.12</td>\n",
       "      <td>12.47</td>\n",
       "      <td>14.051</td>\n",
       "      <td>-23.996330</td>\n",
       "      <td>-46.200897</td>\n",
       "    </tr>\n",
       "  </tbody>\n",
       "</table>\n",
       "</div>"
      ],
      "text/plain": [
       "   KPERC     eU    eTH          X           Y    MDT   CTCOR   LATITUDE  \\\n",
       "0  0.060  0.597  0.587  378133.94  7345653.93   0.00   3.305 -23.996399   \n",
       "1  0.139  0.332  0.824  378061.80  7345654.98   0.00   5.257 -23.996384   \n",
       "2  1.490  0.399  6.987  377989.96  7345656.47   0.14   8.125 -23.996365   \n",
       "3  1.975  1.459  6.574  377917.82  7345657.63   2.46  11.506 -23.996349   \n",
       "4  2.497  1.755  8.473  377845.99  7345659.12  12.47  14.051 -23.996330   \n",
       "\n",
       "   LONGITUDE  \n",
       "0 -46.198067  \n",
       "1 -46.198776  \n",
       "2 -46.199482  \n",
       "3 -46.200191  \n",
       "4 -46.200897  "
      ]
     },
     "execution_count": 6,
     "metadata": {},
     "output_type": "execute_result"
    }
   ],
   "source": [
    "g_1105.head()"
   ]
  },
  {
   "cell_type": "code",
   "execution_count": 7,
   "metadata": {},
   "outputs": [
    {
     "data": {
      "text/plain": [
       "(1247136, 9)"
      ]
     },
     "execution_count": 7,
     "metadata": {},
     "output_type": "execute_result"
    }
   ],
   "source": [
    "g_1105.shape"
   ]
  },
  {
   "cell_type": "code",
   "execution_count": 8,
   "metadata": {},
   "outputs": [
    {
     "data": {
      "text/html": [
       "<div>\n",
       "<style scoped>\n",
       "    .dataframe tbody tr th:only-of-type {\n",
       "        vertical-align: middle;\n",
       "    }\n",
       "\n",
       "    .dataframe tbody tr th {\n",
       "        vertical-align: top;\n",
       "    }\n",
       "\n",
       "    .dataframe thead th {\n",
       "        text-align: right;\n",
       "    }\n",
       "</style>\n",
       "<table border=\"1\" class=\"dataframe\">\n",
       "  <thead>\n",
       "    <tr style=\"text-align: right;\">\n",
       "      <th></th>\n",
       "      <th>KPERC</th>\n",
       "      <th>eU</th>\n",
       "      <th>eTH</th>\n",
       "      <th>X</th>\n",
       "      <th>Y</th>\n",
       "      <th>MDT</th>\n",
       "      <th>CTCOR</th>\n",
       "      <th>LATITUDE</th>\n",
       "      <th>LONGITUDE</th>\n",
       "    </tr>\n",
       "  </thead>\n",
       "  <tbody>\n",
       "    <tr>\n",
       "      <th>0</th>\n",
       "      <td>0.060</td>\n",
       "      <td>0.597</td>\n",
       "      <td>0.587</td>\n",
       "      <td>378133.94</td>\n",
       "      <td>7345653.93</td>\n",
       "      <td>0.00</td>\n",
       "      <td>3.305</td>\n",
       "      <td>-23.996399</td>\n",
       "      <td>-46.198067</td>\n",
       "    </tr>\n",
       "    <tr>\n",
       "      <th>1</th>\n",
       "      <td>0.139</td>\n",
       "      <td>0.332</td>\n",
       "      <td>0.824</td>\n",
       "      <td>378061.80</td>\n",
       "      <td>7345654.98</td>\n",
       "      <td>0.00</td>\n",
       "      <td>5.257</td>\n",
       "      <td>-23.996384</td>\n",
       "      <td>-46.198776</td>\n",
       "    </tr>\n",
       "    <tr>\n",
       "      <th>2</th>\n",
       "      <td>1.490</td>\n",
       "      <td>0.399</td>\n",
       "      <td>6.987</td>\n",
       "      <td>377989.96</td>\n",
       "      <td>7345656.47</td>\n",
       "      <td>0.14</td>\n",
       "      <td>8.125</td>\n",
       "      <td>-23.996365</td>\n",
       "      <td>-46.199482</td>\n",
       "    </tr>\n",
       "    <tr>\n",
       "      <th>3</th>\n",
       "      <td>1.975</td>\n",
       "      <td>1.459</td>\n",
       "      <td>6.574</td>\n",
       "      <td>377917.82</td>\n",
       "      <td>7345657.63</td>\n",
       "      <td>2.46</td>\n",
       "      <td>11.506</td>\n",
       "      <td>-23.996349</td>\n",
       "      <td>-46.200191</td>\n",
       "    </tr>\n",
       "    <tr>\n",
       "      <th>4</th>\n",
       "      <td>2.497</td>\n",
       "      <td>1.755</td>\n",
       "      <td>8.473</td>\n",
       "      <td>377845.99</td>\n",
       "      <td>7345659.12</td>\n",
       "      <td>12.47</td>\n",
       "      <td>14.051</td>\n",
       "      <td>-23.996330</td>\n",
       "      <td>-46.200897</td>\n",
       "    </tr>\n",
       "    <tr>\n",
       "      <th>...</th>\n",
       "      <td>...</td>\n",
       "      <td>...</td>\n",
       "      <td>...</td>\n",
       "      <td>...</td>\n",
       "      <td>...</td>\n",
       "      <td>...</td>\n",
       "      <td>...</td>\n",
       "      <td>...</td>\n",
       "      <td>...</td>\n",
       "    </tr>\n",
       "    <tr>\n",
       "      <th>1247131</th>\n",
       "      <td>0.509</td>\n",
       "      <td>0.373</td>\n",
       "      <td>15.020</td>\n",
       "      <td>602874.51</td>\n",
       "      <td>7526876.45</td>\n",
       "      <td>571.23</td>\n",
       "      <td>5.532</td>\n",
       "      <td>-22.360971</td>\n",
       "      <td>-44.000843</td>\n",
       "    </tr>\n",
       "    <tr>\n",
       "      <th>1247132</th>\n",
       "      <td>0.315</td>\n",
       "      <td>0.549</td>\n",
       "      <td>14.462</td>\n",
       "      <td>602872.51</td>\n",
       "      <td>7526806.94</td>\n",
       "      <td>578.02</td>\n",
       "      <td>5.043</td>\n",
       "      <td>-22.361599</td>\n",
       "      <td>-44.000858</td>\n",
       "    </tr>\n",
       "    <tr>\n",
       "      <th>1247133</th>\n",
       "      <td>0.282</td>\n",
       "      <td>1.005</td>\n",
       "      <td>17.569</td>\n",
       "      <td>602871.22</td>\n",
       "      <td>7526737.54</td>\n",
       "      <td>581.39</td>\n",
       "      <td>6.422</td>\n",
       "      <td>-22.362226</td>\n",
       "      <td>-44.000866</td>\n",
       "    </tr>\n",
       "    <tr>\n",
       "      <th>1247134</th>\n",
       "      <td>0.399</td>\n",
       "      <td>1.347</td>\n",
       "      <td>20.376</td>\n",
       "      <td>602870.35</td>\n",
       "      <td>7526668.02</td>\n",
       "      <td>577.24</td>\n",
       "      <td>8.287</td>\n",
       "      <td>-22.362854</td>\n",
       "      <td>-44.000870</td>\n",
       "    </tr>\n",
       "    <tr>\n",
       "      <th>1247135</th>\n",
       "      <td>0.297</td>\n",
       "      <td>1.603</td>\n",
       "      <td>20.764</td>\n",
       "      <td>602870.30</td>\n",
       "      <td>7526598.50</td>\n",
       "      <td>566.03</td>\n",
       "      <td>9.324</td>\n",
       "      <td>-22.363482</td>\n",
       "      <td>-44.000866</td>\n",
       "    </tr>\n",
       "  </tbody>\n",
       "</table>\n",
       "<p>1242654 rows × 9 columns</p>\n",
       "</div>"
      ],
      "text/plain": [
       "         KPERC     eU     eTH          X           Y     MDT   CTCOR  \\\n",
       "0        0.060  0.597   0.587  378133.94  7345653.93    0.00   3.305   \n",
       "1        0.139  0.332   0.824  378061.80  7345654.98    0.00   5.257   \n",
       "2        1.490  0.399   6.987  377989.96  7345656.47    0.14   8.125   \n",
       "3        1.975  1.459   6.574  377917.82  7345657.63    2.46  11.506   \n",
       "4        2.497  1.755   8.473  377845.99  7345659.12   12.47  14.051   \n",
       "...        ...    ...     ...        ...         ...     ...     ...   \n",
       "1247131  0.509  0.373  15.020  602874.51  7526876.45  571.23   5.532   \n",
       "1247132  0.315  0.549  14.462  602872.51  7526806.94  578.02   5.043   \n",
       "1247133  0.282  1.005  17.569  602871.22  7526737.54  581.39   6.422   \n",
       "1247134  0.399  1.347  20.376  602870.35  7526668.02  577.24   8.287   \n",
       "1247135  0.297  1.603  20.764  602870.30  7526598.50  566.03   9.324   \n",
       "\n",
       "          LATITUDE  LONGITUDE  \n",
       "0       -23.996399 -46.198067  \n",
       "1       -23.996384 -46.198776  \n",
       "2       -23.996365 -46.199482  \n",
       "3       -23.996349 -46.200191  \n",
       "4       -23.996330 -46.200897  \n",
       "...            ...        ...  \n",
       "1247131 -22.360971 -44.000843  \n",
       "1247132 -22.361599 -44.000858  \n",
       "1247133 -22.362226 -44.000866  \n",
       "1247134 -22.362854 -44.000870  \n",
       "1247135 -22.363482 -44.000866  \n",
       "\n",
       "[1242654 rows x 9 columns]"
      ]
     },
     "execution_count": 8,
     "metadata": {},
     "output_type": "execute_result"
    }
   ],
   "source": [
    "g_1105 = g_1105.dropna(inplace=False)\n",
    "g_1105"
   ]
  },
  {
   "cell_type": "code",
   "execution_count": 9,
   "metadata": {},
   "outputs": [],
   "source": [
    "mLine_1105 = pd.read_csv(gdb+'xyz/1105_XYZ/1105_MagLine.XYZ',\n",
    "                         names=mag_cols,\n",
    "                         delim_whitespace=True,\n",
    "                         skiprows=11,\n",
    "                         usecols=[\"X\",\"Y\",\"LATITUDE\",\"LONGITUDE\",\n",
    "                                  \"MAGIGRF\",\"MDT\"])\n",
    "\n",
    "mTie_1105 = pd.read_csv(gdb+'xyz/1105_XYZ/1105_MagTie.XYZ',\n",
    "                         names=mag_cols,\n",
    "                         delim_whitespace=True,\n",
    "                         skiprows=11,\n",
    "                         usecols=[\"X\",\"Y\",\"LATITUDE\",\"LONGITUDE\",\n",
    "                                  \"MAGIGRF\",\"MDT\"])\n",
    "\n",
    "m_1105 = pd.concat([mLine_1105,mTie_1105], ignore_index=True)"
   ]
  },
  {
   "cell_type": "code",
   "execution_count": 10,
   "metadata": {},
   "outputs": [
    {
     "data": {
      "text/html": [
       "<div>\n",
       "<style scoped>\n",
       "    .dataframe tbody tr th:only-of-type {\n",
       "        vertical-align: middle;\n",
       "    }\n",
       "\n",
       "    .dataframe tbody tr th {\n",
       "        vertical-align: top;\n",
       "    }\n",
       "\n",
       "    .dataframe thead th {\n",
       "        text-align: right;\n",
       "    }\n",
       "</style>\n",
       "<table border=\"1\" class=\"dataframe\">\n",
       "  <thead>\n",
       "    <tr style=\"text-align: right;\">\n",
       "      <th></th>\n",
       "      <th>X</th>\n",
       "      <th>Y</th>\n",
       "      <th>MDT</th>\n",
       "      <th>LATITUDE</th>\n",
       "      <th>LONGITUDE</th>\n",
       "      <th>MAGIGRF</th>\n",
       "    </tr>\n",
       "  </thead>\n",
       "  <tbody>\n",
       "    <tr>\n",
       "      <th>0</th>\n",
       "      <td>292879.66</td>\n",
       "      <td>7624043.90</td>\n",
       "      <td>609.44</td>\n",
       "      <td>-21.474226</td>\n",
       "      <td>-46.998990</td>\n",
       "      <td>49.882</td>\n",
       "    </tr>\n",
       "    <tr>\n",
       "      <th>1</th>\n",
       "      <td>292879.49</td>\n",
       "      <td>7624052.04</td>\n",
       "      <td>609.53</td>\n",
       "      <td>-21.474153</td>\n",
       "      <td>-46.998991</td>\n",
       "      <td>50.469</td>\n",
       "    </tr>\n",
       "    <tr>\n",
       "      <th>2</th>\n",
       "      <td>292879.32</td>\n",
       "      <td>7624060.18</td>\n",
       "      <td>609.60</td>\n",
       "      <td>-21.474079</td>\n",
       "      <td>-46.998991</td>\n",
       "      <td>50.987</td>\n",
       "    </tr>\n",
       "    <tr>\n",
       "      <th>3</th>\n",
       "      <td>292879.15</td>\n",
       "      <td>7624068.32</td>\n",
       "      <td>609.66</td>\n",
       "      <td>-21.474006</td>\n",
       "      <td>-46.998992</td>\n",
       "      <td>51.473</td>\n",
       "    </tr>\n",
       "    <tr>\n",
       "      <th>4</th>\n",
       "      <td>292878.98</td>\n",
       "      <td>7624076.47</td>\n",
       "      <td>609.71</td>\n",
       "      <td>-21.473932</td>\n",
       "      <td>-46.998993</td>\n",
       "      <td>51.945</td>\n",
       "    </tr>\n",
       "  </tbody>\n",
       "</table>\n",
       "</div>"
      ],
      "text/plain": [
       "           X           Y     MDT   LATITUDE  LONGITUDE  MAGIGRF\n",
       "0  292879.66  7624043.90  609.44 -21.474226 -46.998990   49.882\n",
       "1  292879.49  7624052.04  609.53 -21.474153 -46.998991   50.469\n",
       "2  292879.32  7624060.18  609.60 -21.474079 -46.998991   50.987\n",
       "3  292879.15  7624068.32  609.66 -21.474006 -46.998992   51.473\n",
       "4  292878.98  7624076.47  609.71 -21.473932 -46.998993   51.945"
      ]
     },
     "execution_count": 10,
     "metadata": {},
     "output_type": "execute_result"
    }
   ],
   "source": [
    "m_1105.head()"
   ]
  },
  {
   "cell_type": "code",
   "execution_count": 11,
   "metadata": {},
   "outputs": [
    {
     "data": {
      "text/plain": [
       "(12344761, 6)"
      ]
     },
     "execution_count": 11,
     "metadata": {},
     "output_type": "execute_result"
    }
   ],
   "source": [
    "m_1105.shape"
   ]
  },
  {
   "cell_type": "code",
   "execution_count": 12,
   "metadata": {},
   "outputs": [],
   "source": [
    "m_1105 = m_1105.dropna(inplace=False)"
   ]
  },
  {
   "cell_type": "code",
   "execution_count": 13,
   "metadata": {},
   "outputs": [
    {
     "data": {
      "text/plain": [
       "(12340658, 6)"
      ]
     },
     "execution_count": 13,
     "metadata": {},
     "output_type": "execute_result"
    }
   ],
   "source": [
    "m_1105.shape"
   ]
  },
  {
   "cell_type": "code",
   "execution_count": 14,
   "metadata": {},
   "outputs": [],
   "source": [
    "g_1105.to_csv(gdb+'geof/g1105',index=False)\n",
    "\n",
    "m_1105.to_csv(gdb+'geof/m1105', index=False)"
   ]
  },
  {
   "cell_type": "code",
   "execution_count": 3,
   "metadata": {},
   "outputs": [],
   "source": [
    "m_1105 = pd.read_csv(gdb+'geof/m1105')\n",
    "g_1105 = pd.read_csv(gdb+'geof/g1105')"
   ]
  },
  {
   "cell_type": "code",
   "execution_count": 4,
   "metadata": {},
   "outputs": [
    {
     "data": {
      "text/html": [
       "<div>\n",
       "<style scoped>\n",
       "    .dataframe tbody tr th:only-of-type {\n",
       "        vertical-align: middle;\n",
       "    }\n",
       "\n",
       "    .dataframe tbody tr th {\n",
       "        vertical-align: top;\n",
       "    }\n",
       "\n",
       "    .dataframe thead th {\n",
       "        text-align: right;\n",
       "    }\n",
       "</style>\n",
       "<table border=\"1\" class=\"dataframe\">\n",
       "  <thead>\n",
       "    <tr style=\"text-align: right;\">\n",
       "      <th></th>\n",
       "      <th>KPERC</th>\n",
       "      <th>eU</th>\n",
       "      <th>eTH</th>\n",
       "      <th>X</th>\n",
       "      <th>Y</th>\n",
       "      <th>MDT</th>\n",
       "      <th>CTCOR</th>\n",
       "      <th>LATITUDE</th>\n",
       "      <th>LONGITUDE</th>\n",
       "    </tr>\n",
       "  </thead>\n",
       "  <tbody>\n",
       "    <tr>\n",
       "      <th>0</th>\n",
       "      <td>0.060</td>\n",
       "      <td>0.597</td>\n",
       "      <td>0.587</td>\n",
       "      <td>378133.94</td>\n",
       "      <td>7345653.93</td>\n",
       "      <td>0.00</td>\n",
       "      <td>3.305</td>\n",
       "      <td>-23.996399</td>\n",
       "      <td>-46.198067</td>\n",
       "    </tr>\n",
       "    <tr>\n",
       "      <th>1</th>\n",
       "      <td>0.139</td>\n",
       "      <td>0.332</td>\n",
       "      <td>0.824</td>\n",
       "      <td>378061.80</td>\n",
       "      <td>7345654.98</td>\n",
       "      <td>0.00</td>\n",
       "      <td>5.257</td>\n",
       "      <td>-23.996384</td>\n",
       "      <td>-46.198776</td>\n",
       "    </tr>\n",
       "    <tr>\n",
       "      <th>2</th>\n",
       "      <td>1.490</td>\n",
       "      <td>0.399</td>\n",
       "      <td>6.987</td>\n",
       "      <td>377989.96</td>\n",
       "      <td>7345656.47</td>\n",
       "      <td>0.14</td>\n",
       "      <td>8.125</td>\n",
       "      <td>-23.996365</td>\n",
       "      <td>-46.199482</td>\n",
       "    </tr>\n",
       "    <tr>\n",
       "      <th>3</th>\n",
       "      <td>1.975</td>\n",
       "      <td>1.459</td>\n",
       "      <td>6.574</td>\n",
       "      <td>377917.82</td>\n",
       "      <td>7345657.63</td>\n",
       "      <td>2.46</td>\n",
       "      <td>11.506</td>\n",
       "      <td>-23.996349</td>\n",
       "      <td>-46.200191</td>\n",
       "    </tr>\n",
       "    <tr>\n",
       "      <th>4</th>\n",
       "      <td>2.497</td>\n",
       "      <td>1.755</td>\n",
       "      <td>8.473</td>\n",
       "      <td>377845.99</td>\n",
       "      <td>7345659.12</td>\n",
       "      <td>12.47</td>\n",
       "      <td>14.051</td>\n",
       "      <td>-23.996330</td>\n",
       "      <td>-46.200897</td>\n",
       "    </tr>\n",
       "  </tbody>\n",
       "</table>\n",
       "</div>"
      ],
      "text/plain": [
       "   KPERC     eU    eTH          X           Y    MDT   CTCOR   LATITUDE  \\\n",
       "0  0.060  0.597  0.587  378133.94  7345653.93   0.00   3.305 -23.996399   \n",
       "1  0.139  0.332  0.824  378061.80  7345654.98   0.00   5.257 -23.996384   \n",
       "2  1.490  0.399  6.987  377989.96  7345656.47   0.14   8.125 -23.996365   \n",
       "3  1.975  1.459  6.574  377917.82  7345657.63   2.46  11.506 -23.996349   \n",
       "4  2.497  1.755  8.473  377845.99  7345659.12  12.47  14.051 -23.996330   \n",
       "\n",
       "   LONGITUDE  \n",
       "0 -46.198067  \n",
       "1 -46.198776  \n",
       "2 -46.199482  \n",
       "3 -46.200191  \n",
       "4 -46.200897  "
      ]
     },
     "execution_count": 4,
     "metadata": {},
     "output_type": "execute_result"
    }
   ],
   "source": [
    "g_1105.head()"
   ]
  },
  {
   "cell_type": "code",
   "execution_count": 5,
   "metadata": {},
   "outputs": [
    {
     "data": {
      "text/html": [
       "<div>\n",
       "<style scoped>\n",
       "    .dataframe tbody tr th:only-of-type {\n",
       "        vertical-align: middle;\n",
       "    }\n",
       "\n",
       "    .dataframe tbody tr th {\n",
       "        vertical-align: top;\n",
       "    }\n",
       "\n",
       "    .dataframe thead th {\n",
       "        text-align: right;\n",
       "    }\n",
       "</style>\n",
       "<table border=\"1\" class=\"dataframe\">\n",
       "  <thead>\n",
       "    <tr style=\"text-align: right;\">\n",
       "      <th></th>\n",
       "      <th>X</th>\n",
       "      <th>Y</th>\n",
       "      <th>MDT</th>\n",
       "      <th>LATITUDE</th>\n",
       "      <th>LONGITUDE</th>\n",
       "      <th>MAGIGRF</th>\n",
       "    </tr>\n",
       "  </thead>\n",
       "  <tbody>\n",
       "    <tr>\n",
       "      <th>0</th>\n",
       "      <td>292879.66</td>\n",
       "      <td>7624043.90</td>\n",
       "      <td>609.44</td>\n",
       "      <td>-21.474226</td>\n",
       "      <td>-46.998990</td>\n",
       "      <td>49.882</td>\n",
       "    </tr>\n",
       "    <tr>\n",
       "      <th>1</th>\n",
       "      <td>292879.49</td>\n",
       "      <td>7624052.04</td>\n",
       "      <td>609.53</td>\n",
       "      <td>-21.474153</td>\n",
       "      <td>-46.998991</td>\n",
       "      <td>50.469</td>\n",
       "    </tr>\n",
       "    <tr>\n",
       "      <th>2</th>\n",
       "      <td>292879.32</td>\n",
       "      <td>7624060.18</td>\n",
       "      <td>609.60</td>\n",
       "      <td>-21.474079</td>\n",
       "      <td>-46.998991</td>\n",
       "      <td>50.987</td>\n",
       "    </tr>\n",
       "    <tr>\n",
       "      <th>3</th>\n",
       "      <td>292879.15</td>\n",
       "      <td>7624068.32</td>\n",
       "      <td>609.66</td>\n",
       "      <td>-21.474006</td>\n",
       "      <td>-46.998992</td>\n",
       "      <td>51.473</td>\n",
       "    </tr>\n",
       "    <tr>\n",
       "      <th>4</th>\n",
       "      <td>292878.98</td>\n",
       "      <td>7624076.47</td>\n",
       "      <td>609.71</td>\n",
       "      <td>-21.473932</td>\n",
       "      <td>-46.998993</td>\n",
       "      <td>51.945</td>\n",
       "    </tr>\n",
       "  </tbody>\n",
       "</table>\n",
       "</div>"
      ],
      "text/plain": [
       "           X           Y     MDT   LATITUDE  LONGITUDE  MAGIGRF\n",
       "0  292879.66  7624043.90  609.44 -21.474226 -46.998990   49.882\n",
       "1  292879.49  7624052.04  609.53 -21.474153 -46.998991   50.469\n",
       "2  292879.32  7624060.18  609.60 -21.474079 -46.998991   50.987\n",
       "3  292879.15  7624068.32  609.66 -21.474006 -46.998992   51.473\n",
       "4  292878.98  7624076.47  609.71 -21.473932 -46.998993   51.945"
      ]
     },
     "execution_count": 5,
     "metadata": {},
     "output_type": "execute_result"
    }
   ],
   "source": [
    "m_1105.head()"
   ]
  },
  {
   "cell_type": "code",
   "execution_count": 4,
   "metadata": {},
   "outputs": [],
   "source": [
    "gama_cols = 'X Y FIDUCIAL GPSALT BARO ALTURA MDT CTB KB UB THB UPU LIVE_TIME COS TEMP KPERC eU eth CTEXP CTCOR UCOR THCOR KCOR THKRAZAO UKRAZAO UTHRAZAO LONGITUDE LATITUDE DATA HORA'.split(\" \")\n",
    " \n",
    "mag_cols = 'X Y FIDUCIAL GPSALT BARO ALTURA MDT MAGBASE MAGBRU MAGCOM MAGCOR MAGNIV MAGMIC MAGIGRF IGRF LONGITUDE LATITUDE DATA HORA'.split(\" \")\n"
   ]
  },
  {
   "cell_type": "code",
   "execution_count": 7,
   "metadata": {},
   "outputs": [],
   "source": [
    "gLine_1089 = pd.read_csv(gdb+'xyz/1089_XYZ/XYZ/1089_GamaLine.XYZ',\n",
    "                         names=gama_cols,\n",
    "                         delim_whitespace=True,\n",
    "                         skiprows=11,\n",
    "                         usecols=[\"X\",\"Y\",\"LATITUDE\",\"LONGITUDE\",\n",
    "                                  \"KPERC\",\"eU\",\"eth\",\"CTCOR\",\"MDT\"],\n",
    "                         na_values=('*'))\n",
    "\n",
    "gTie_1089 = pd.read_csv(gdb+'xyz/1089_XYZ/XYZ/1089_GamaTie.XYZ',\n",
    "                         names=gama_cols,\n",
    "                         delim_whitespace=True,\n",
    "                         skiprows=11,\n",
    "                         usecols=[\"X\",\"Y\",\"LATITUDE\",\"LONGITUDE\",\n",
    "                                  \"KPERC\",\"eU\",\"eth\",\"CTCOR\",\"MDT\"],\n",
    "                         na_values=('*'))"
   ]
  },
  {
   "cell_type": "code",
   "execution_count": 8,
   "metadata": {},
   "outputs": [],
   "source": [
    "g_1089 = pd.concat([gTie_1089,gLine_1089], ignore_index=True)"
   ]
  },
  {
   "cell_type": "code",
   "execution_count": 9,
   "metadata": {},
   "outputs": [],
   "source": [
    "g_1089 = g_1089.dropna(inplace=False)\n",
    "g_1089.to_csv(gdb+'geof/g1089',index=False)"
   ]
  },
  {
   "cell_type": "code",
   "execution_count": 27,
   "metadata": {},
   "outputs": [
    {
     "ename": "ValueError",
     "evalue": "could not convert string to float: 'Line'",
     "output_type": "error",
     "traceback": [
      "\u001b[0;31m---------------------------------------------------------------------------\u001b[0m",
      "\u001b[0;31mTypeError\u001b[0m                                 Traceback (most recent call last)",
      "\u001b[0;32mpandas/_libs/parsers.pyx\u001b[0m in \u001b[0;36mpandas._libs.parsers.TextReader._convert_tokens\u001b[0;34m()\u001b[0m\n",
      "\u001b[0;31mTypeError\u001b[0m: Cannot cast array data from dtype('O') to dtype('float64') according to the rule 'safe'",
      "\nDuring handling of the above exception, another exception occurred:\n",
      "\u001b[0;31mValueError\u001b[0m                                Traceback (most recent call last)",
      "\u001b[0;32m<ipython-input-27-9c5b26fb4a8b>\u001b[0m in \u001b[0;36m<module>\u001b[0;34m\u001b[0m\n\u001b[0;32m----> 1\u001b[0;31m mLine_1089 = pd.read_csv(gdb+'xyz/1089_XYZ/XYZ/1089_MagLine.XYZ',\n\u001b[0m\u001b[1;32m      2\u001b[0m                          \u001b[0mnames\u001b[0m\u001b[0;34m=\u001b[0m\u001b[0mmag_cols\u001b[0m\u001b[0;34m,\u001b[0m\u001b[0;34m\u001b[0m\u001b[0;34m\u001b[0m\u001b[0m\n\u001b[1;32m      3\u001b[0m                          \u001b[0mdelim_whitespace\u001b[0m\u001b[0;34m=\u001b[0m\u001b[0;32mTrue\u001b[0m\u001b[0;34m,\u001b[0m\u001b[0;34m\u001b[0m\u001b[0;34m\u001b[0m\u001b[0m\n\u001b[1;32m      4\u001b[0m                          \u001b[0mskiprows\u001b[0m\u001b[0;34m=\u001b[0m\u001b[0;36m11\u001b[0m\u001b[0;34m,\u001b[0m\u001b[0;34m\u001b[0m\u001b[0;34m\u001b[0m\u001b[0m\n\u001b[1;32m      5\u001b[0m                          usecols=[\"X\",\"Y\",\"LATITUDE\",\"LONGITUDE\",\n",
      "\u001b[0;32m~/Softwares/anaconda3/envs/mappingBot/lib/python3.8/site-packages/pandas/io/parsers.py\u001b[0m in \u001b[0;36mread_csv\u001b[0;34m(filepath_or_buffer, sep, delimiter, header, names, index_col, usecols, squeeze, prefix, mangle_dupe_cols, dtype, engine, converters, true_values, false_values, skipinitialspace, skiprows, skipfooter, nrows, na_values, keep_default_na, na_filter, verbose, skip_blank_lines, parse_dates, infer_datetime_format, keep_date_col, date_parser, dayfirst, cache_dates, iterator, chunksize, compression, thousands, decimal, lineterminator, quotechar, quoting, doublequote, escapechar, comment, encoding, dialect, error_bad_lines, warn_bad_lines, delim_whitespace, low_memory, memory_map, float_precision, storage_options)\u001b[0m\n\u001b[1;32m    608\u001b[0m     \u001b[0mkwds\u001b[0m\u001b[0;34m.\u001b[0m\u001b[0mupdate\u001b[0m\u001b[0;34m(\u001b[0m\u001b[0mkwds_defaults\u001b[0m\u001b[0;34m)\u001b[0m\u001b[0;34m\u001b[0m\u001b[0;34m\u001b[0m\u001b[0m\n\u001b[1;32m    609\u001b[0m \u001b[0;34m\u001b[0m\u001b[0m\n\u001b[0;32m--> 610\u001b[0;31m     \u001b[0;32mreturn\u001b[0m \u001b[0m_read\u001b[0m\u001b[0;34m(\u001b[0m\u001b[0mfilepath_or_buffer\u001b[0m\u001b[0;34m,\u001b[0m \u001b[0mkwds\u001b[0m\u001b[0;34m)\u001b[0m\u001b[0;34m\u001b[0m\u001b[0;34m\u001b[0m\u001b[0m\n\u001b[0m\u001b[1;32m    611\u001b[0m \u001b[0;34m\u001b[0m\u001b[0m\n\u001b[1;32m    612\u001b[0m \u001b[0;34m\u001b[0m\u001b[0m\n",
      "\u001b[0;32m~/Softwares/anaconda3/envs/mappingBot/lib/python3.8/site-packages/pandas/io/parsers.py\u001b[0m in \u001b[0;36m_read\u001b[0;34m(filepath_or_buffer, kwds)\u001b[0m\n\u001b[1;32m    466\u001b[0m \u001b[0;34m\u001b[0m\u001b[0m\n\u001b[1;32m    467\u001b[0m     \u001b[0;32mwith\u001b[0m \u001b[0mparser\u001b[0m\u001b[0;34m:\u001b[0m\u001b[0;34m\u001b[0m\u001b[0;34m\u001b[0m\u001b[0m\n\u001b[0;32m--> 468\u001b[0;31m         \u001b[0;32mreturn\u001b[0m \u001b[0mparser\u001b[0m\u001b[0;34m.\u001b[0m\u001b[0mread\u001b[0m\u001b[0;34m(\u001b[0m\u001b[0mnrows\u001b[0m\u001b[0;34m)\u001b[0m\u001b[0;34m\u001b[0m\u001b[0;34m\u001b[0m\u001b[0m\n\u001b[0m\u001b[1;32m    469\u001b[0m \u001b[0;34m\u001b[0m\u001b[0m\n\u001b[1;32m    470\u001b[0m \u001b[0;34m\u001b[0m\u001b[0m\n",
      "\u001b[0;32m~/Softwares/anaconda3/envs/mappingBot/lib/python3.8/site-packages/pandas/io/parsers.py\u001b[0m in \u001b[0;36mread\u001b[0;34m(self, nrows)\u001b[0m\n\u001b[1;32m   1055\u001b[0m     \u001b[0;32mdef\u001b[0m \u001b[0mread\u001b[0m\u001b[0;34m(\u001b[0m\u001b[0mself\u001b[0m\u001b[0;34m,\u001b[0m \u001b[0mnrows\u001b[0m\u001b[0;34m=\u001b[0m\u001b[0;32mNone\u001b[0m\u001b[0;34m)\u001b[0m\u001b[0;34m:\u001b[0m\u001b[0;34m\u001b[0m\u001b[0;34m\u001b[0m\u001b[0m\n\u001b[1;32m   1056\u001b[0m         \u001b[0mnrows\u001b[0m \u001b[0;34m=\u001b[0m \u001b[0mvalidate_integer\u001b[0m\u001b[0;34m(\u001b[0m\u001b[0;34m\"nrows\"\u001b[0m\u001b[0;34m,\u001b[0m \u001b[0mnrows\u001b[0m\u001b[0;34m)\u001b[0m\u001b[0;34m\u001b[0m\u001b[0;34m\u001b[0m\u001b[0m\n\u001b[0;32m-> 1057\u001b[0;31m         \u001b[0mindex\u001b[0m\u001b[0;34m,\u001b[0m \u001b[0mcolumns\u001b[0m\u001b[0;34m,\u001b[0m \u001b[0mcol_dict\u001b[0m \u001b[0;34m=\u001b[0m \u001b[0mself\u001b[0m\u001b[0;34m.\u001b[0m\u001b[0m_engine\u001b[0m\u001b[0;34m.\u001b[0m\u001b[0mread\u001b[0m\u001b[0;34m(\u001b[0m\u001b[0mnrows\u001b[0m\u001b[0;34m)\u001b[0m\u001b[0;34m\u001b[0m\u001b[0;34m\u001b[0m\u001b[0m\n\u001b[0m\u001b[1;32m   1058\u001b[0m \u001b[0;34m\u001b[0m\u001b[0m\n\u001b[1;32m   1059\u001b[0m         \u001b[0;32mif\u001b[0m \u001b[0mindex\u001b[0m \u001b[0;32mis\u001b[0m \u001b[0;32mNone\u001b[0m\u001b[0;34m:\u001b[0m\u001b[0;34m\u001b[0m\u001b[0;34m\u001b[0m\u001b[0m\n",
      "\u001b[0;32m~/Softwares/anaconda3/envs/mappingBot/lib/python3.8/site-packages/pandas/io/parsers.py\u001b[0m in \u001b[0;36mread\u001b[0;34m(self, nrows)\u001b[0m\n\u001b[1;32m   2059\u001b[0m     \u001b[0;32mdef\u001b[0m \u001b[0mread\u001b[0m\u001b[0;34m(\u001b[0m\u001b[0mself\u001b[0m\u001b[0;34m,\u001b[0m \u001b[0mnrows\u001b[0m\u001b[0;34m=\u001b[0m\u001b[0;32mNone\u001b[0m\u001b[0;34m)\u001b[0m\u001b[0;34m:\u001b[0m\u001b[0;34m\u001b[0m\u001b[0;34m\u001b[0m\u001b[0m\n\u001b[1;32m   2060\u001b[0m         \u001b[0;32mtry\u001b[0m\u001b[0;34m:\u001b[0m\u001b[0;34m\u001b[0m\u001b[0;34m\u001b[0m\u001b[0m\n\u001b[0;32m-> 2061\u001b[0;31m             \u001b[0mdata\u001b[0m \u001b[0;34m=\u001b[0m \u001b[0mself\u001b[0m\u001b[0;34m.\u001b[0m\u001b[0m_reader\u001b[0m\u001b[0;34m.\u001b[0m\u001b[0mread\u001b[0m\u001b[0;34m(\u001b[0m\u001b[0mnrows\u001b[0m\u001b[0;34m)\u001b[0m\u001b[0;34m\u001b[0m\u001b[0;34m\u001b[0m\u001b[0m\n\u001b[0m\u001b[1;32m   2062\u001b[0m         \u001b[0;32mexcept\u001b[0m \u001b[0mStopIteration\u001b[0m\u001b[0;34m:\u001b[0m\u001b[0;34m\u001b[0m\u001b[0;34m\u001b[0m\u001b[0m\n\u001b[1;32m   2063\u001b[0m             \u001b[0;32mif\u001b[0m \u001b[0mself\u001b[0m\u001b[0;34m.\u001b[0m\u001b[0m_first_chunk\u001b[0m\u001b[0;34m:\u001b[0m\u001b[0;34m\u001b[0m\u001b[0;34m\u001b[0m\u001b[0m\n",
      "\u001b[0;32mpandas/_libs/parsers.pyx\u001b[0m in \u001b[0;36mpandas._libs.parsers.TextReader.read\u001b[0;34m()\u001b[0m\n",
      "\u001b[0;32mpandas/_libs/parsers.pyx\u001b[0m in \u001b[0;36mpandas._libs.parsers.TextReader._read_low_memory\u001b[0;34m()\u001b[0m\n",
      "\u001b[0;32mpandas/_libs/parsers.pyx\u001b[0m in \u001b[0;36mpandas._libs.parsers.TextReader._read_rows\u001b[0;34m()\u001b[0m\n",
      "\u001b[0;32mpandas/_libs/parsers.pyx\u001b[0m in \u001b[0;36mpandas._libs.parsers.TextReader._convert_column_data\u001b[0;34m()\u001b[0m\n",
      "\u001b[0;32mpandas/_libs/parsers.pyx\u001b[0m in \u001b[0;36mpandas._libs.parsers.TextReader._convert_tokens\u001b[0;34m()\u001b[0m\n",
      "\u001b[0;31mValueError\u001b[0m: could not convert string to float: 'Line'"
     ]
    }
   ],
   "source": [
    "mLine_1089 = pd.read_csv(gdb+'xyz/1089_XYZ/XYZ/1089_MagLine.XYZ',\n",
    "                         names=mag_cols,\n",
    "                         delim_whitespace=True,\n",
    "                         skiprows=11,\n",
    "                         usecols=[\"X\",\"Y\",\"LATITUDE\",\"LONGITUDE\",\n",
    "                                  \"MAGIGRF\",\"MDT\"],\n",
    "                         na_values=('*'))"
   ]
  },
  {
   "cell_type": "code",
   "execution_count": 14,
   "metadata": {},
   "outputs": [
    {
     "name": "stderr",
     "output_type": "stream",
     "text": [
      "/home/ggrl/Softwares/anaconda3/envs/mappingBot/lib/python3.8/site-packages/IPython/core/interactiveshell.py:3165: DtypeWarning: Columns (0,1) have mixed types.Specify dtype option on import or set low_memory=False.\n",
      "  has_raised = await self.run_ast_nodes(code_ast.body, cell_name,\n"
     ]
    }
   ],
   "source": [
    "mTie_1089 = pd.read_csv(gdb+'xyz/1089_XYZ/XYZ/1089_MagTie.XYZ',\n",
    "                         names=mag_cols,\n",
    "                         delim_whitespace=True,\n",
    "                         skiprows=11,\n",
    "                         usecols=[\"X\",\"Y\",\"LATITUDE\",\"LONGITUDE\",\n",
    "                                  \"MAGIGRF\",\"MDT\"],\n",
    "                         na_values=('*'))"
   ]
  },
  {
   "cell_type": "code",
   "execution_count": 21,
   "metadata": {},
   "outputs": [
    {
     "data": {
      "text/plain": [
       "(330128, 6)"
      ]
     },
     "execution_count": 21,
     "metadata": {},
     "output_type": "execute_result"
    }
   ],
   "source": [
    "mTie_1089.shape"
   ]
  },
  {
   "cell_type": "code",
   "execution_count": 22,
   "metadata": {},
   "outputs": [
    {
     "data": {
      "text/plain": [
       "(6348600, 6)"
      ]
     },
     "execution_count": 22,
     "metadata": {},
     "output_type": "execute_result"
    }
   ],
   "source": [
    "mLine_1089.shape"
   ]
  },
  {
   "cell_type": "code",
   "execution_count": 19,
   "metadata": {},
   "outputs": [
    {
     "data": {
      "text/plain": [
       "660256"
      ]
     },
     "execution_count": 19,
     "metadata": {},
     "output_type": "execute_result"
    }
   ],
   "source": [
    "330128+330128"
   ]
  },
  {
   "cell_type": "code",
   "execution_count": 23,
   "metadata": {},
   "outputs": [],
   "source": [
    "m_1089 = pd.concat([mTie_1089,mLine_1089], ignore_index=True)"
   ]
  },
  {
   "cell_type": "code",
   "execution_count": 24,
   "metadata": {},
   "outputs": [
    {
     "data": {
      "text/plain": [
       "(6678728, 6)"
      ]
     },
     "execution_count": 24,
     "metadata": {},
     "output_type": "execute_result"
    }
   ],
   "source": [
    "m_1089.shape"
   ]
  },
  {
   "cell_type": "code",
   "execution_count": 25,
   "metadata": {},
   "outputs": [],
   "source": [
    "m_1089 = m_1089.dropna(inplace=False)\n",
    "m_1089.to_csv(gdb+'geof/m1089',index=False)"
   ]
  },
  {
   "cell_type": "code",
   "execution_count": 26,
   "metadata": {},
   "outputs": [
    {
     "data": {
      "text/plain": [
       "(6676787, 6)"
      ]
     },
     "execution_count": 26,
     "metadata": {},
     "output_type": "execute_result"
    }
   ],
   "source": [
    "m_1089.shape"
   ]
  },
  {
   "cell_type": "code",
   "execution_count": 31,
   "metadata": {},
   "outputs": [
    {
     "data": {
      "text/html": [
       "<div>\n",
       "<style scoped>\n",
       "    .dataframe tbody tr th:only-of-type {\n",
       "        vertical-align: middle;\n",
       "    }\n",
       "\n",
       "    .dataframe tbody tr th {\n",
       "        vertical-align: top;\n",
       "    }\n",
       "\n",
       "    .dataframe thead th {\n",
       "        text-align: right;\n",
       "    }\n",
       "</style>\n",
       "<table border=\"1\" class=\"dataframe\">\n",
       "  <thead>\n",
       "    <tr style=\"text-align: right;\">\n",
       "      <th></th>\n",
       "      <th>X</th>\n",
       "      <th>Y</th>\n",
       "      <th>MDT</th>\n",
       "      <th>MAGIGRF</th>\n",
       "      <th>LONGITUDE</th>\n",
       "      <th>LATITUDE</th>\n",
       "    </tr>\n",
       "  </thead>\n",
       "  <tbody>\n",
       "    <tr>\n",
       "      <th>0</th>\n",
       "      <td>528763.95</td>\n",
       "      <td>8756155.5</td>\n",
       "      <td>518.40</td>\n",
       "      <td>-5.868</td>\n",
       "      <td>-44.736474</td>\n",
       "      <td>-11.251893</td>\n",
       "    </tr>\n",
       "    <tr>\n",
       "      <th>1</th>\n",
       "      <td>528755.79</td>\n",
       "      <td>8756155.53</td>\n",
       "      <td>518.43</td>\n",
       "      <td>-5.898</td>\n",
       "      <td>-44.736549</td>\n",
       "      <td>-11.251893</td>\n",
       "    </tr>\n",
       "    <tr>\n",
       "      <th>2</th>\n",
       "      <td>528747.63</td>\n",
       "      <td>8756155.57</td>\n",
       "      <td>518.36</td>\n",
       "      <td>-5.934</td>\n",
       "      <td>-44.736624</td>\n",
       "      <td>-11.251893</td>\n",
       "    </tr>\n",
       "    <tr>\n",
       "      <th>3</th>\n",
       "      <td>528739.46</td>\n",
       "      <td>8756155.6</td>\n",
       "      <td>519.28</td>\n",
       "      <td>-5.974</td>\n",
       "      <td>-44.736699</td>\n",
       "      <td>-11.251892</td>\n",
       "    </tr>\n",
       "    <tr>\n",
       "      <th>4</th>\n",
       "      <td>528731.30</td>\n",
       "      <td>8756155.63</td>\n",
       "      <td>519.58</td>\n",
       "      <td>-6.018</td>\n",
       "      <td>-44.736773</td>\n",
       "      <td>-11.251892</td>\n",
       "    </tr>\n",
       "  </tbody>\n",
       "</table>\n",
       "</div>"
      ],
      "text/plain": [
       "           X           Y     MDT  MAGIGRF  LONGITUDE   LATITUDE\n",
       "0  528763.95   8756155.5  518.40   -5.868 -44.736474 -11.251893\n",
       "1  528755.79  8756155.53  518.43   -5.898 -44.736549 -11.251893\n",
       "2  528747.63  8756155.57  518.36   -5.934 -44.736624 -11.251893\n",
       "3  528739.46   8756155.6  519.28   -5.974 -44.736699 -11.251892\n",
       "4  528731.30  8756155.63  519.58   -6.018 -44.736773 -11.251892"
      ]
     },
     "execution_count": 31,
     "metadata": {},
     "output_type": "execute_result"
    }
   ],
   "source": [
    "m_1089.head()"
   ]
  },
  {
   "cell_type": "code",
   "execution_count": null,
   "metadata": {},
   "outputs": [],
   "source": []
  }
 ],
 "metadata": {
  "interpreter": {
   "hash": "2bc076d9378ac5ac660ba4f6a46900d2ea3732140aaa213526ceb6851acbc3f5"
  },
  "kernelspec": {
   "display_name": "Python 3.8.2 64-bit ('mappingBot': conda)",
   "name": "python3"
  },
  "language_info": {
   "codemirror_mode": {
    "name": "ipython",
    "version": 3
   },
   "file_extension": ".py",
   "mimetype": "text/x-python",
   "name": "python",
   "nbconvert_exporter": "python",
   "pygments_lexer": "ipython3",
   "version": "3.8.2"
  },
  "orig_nbformat": 4
 },
 "nbformat": 4,
 "nbformat_minor": 2
}