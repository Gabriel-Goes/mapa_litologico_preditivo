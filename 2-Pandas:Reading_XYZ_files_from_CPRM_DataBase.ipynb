{
 "cells": [
  {
   "cell_type": "code",
   "execution_count": 4,
   "metadata": {},
   "outputs": [],
   "source": []
  },
  {
   "cell_type": "markdown",
   "metadata": {},
   "source": [
    "# Neste notebook vamos utilizar as funçoes read_csv() e dropna() da biblioteca Pandas."
   ]
  },
  {
   "cell_type": "markdown",
   "metadata": {},
   "source": [
    "## Com um visualizador de logs podemos abrir os arquivos GamaLine.XYZ e GamaTie.XYZ e indentificamos:\n",
    "    - os nomes de cada coluna do arquivo e;\n",
    "    - o numero de linhas de cabeçalho."
   ]
  },
  {
   "cell_type": "markdown",
   "metadata": {},
   "source": [
    "# Levantamento 1105"
   ]
  },
  {
   "cell_type": "markdown",
   "metadata": {},
   "source": [
    "## Dados Gamaespectrometricos"
   ]
  },
  {
   "cell_type": "markdown",
   "metadata": {},
   "source": [
    "### Colunas descritas nos dados brutos"
   ]
  },
  {
   "cell_type": "code",
   "execution_count": 2,
   "metadata": {},
   "outputs": [],
   "source": [
    "gama_line_cols = 'KB DATA BARO UB THB COSMICO CTB UUP ALTURA KPERC eU eTH CTEXP UTHRAZAO X Y UKRAZAO MDT THKRAZAO LIVE_TIME CTCOR KCOR THCOR UCOR HORA GPSALT LATITUDE FIDUCIAL TEMP LONGITUDE'.split(\" \")\n",
    "\n",
    "gama_tie_cols = 'KB DATA BARO UB THB COSMICO CTB UUP ALTURA KPERC eU eTH CTEXP UTHRAZAO X Y UKRAZAO MDT THKRAZAO LIVE_TIME CTCOR KCOR THCOR UCOR HORA GPSALT LATITUDE FIDUCIAL TEMP LONGITUDE __X __Y'.split(\" \")"
   ]
  },
  {
   "cell_type": "markdown",
   "metadata": {},
   "source": [
    "### Importando dados brutos"
   ]
  },
  {
   "cell_type": "code",
   "execution_count": 5,
   "metadata": {},
   "outputs": [],
   "source": [
    "gama_line_1105 = pd.read_csv(gdb+'xyz/1105_XYZ/1105_GamaLine.XYZ',\n",
    "                         names=gama_line_cols,\n",
    "                         delim_whitespace=True,\n",
    "                         skiprows=11,                                     # Linhas de cabeçalho\n",
    "                         usecols=[\"X\",\"Y\",\"LATITUDE\",\"LONGITUDE\",\n",
    "                                  \"KPERC\",\"eU\",\"eTH\",\"CTCOR\",\n",
    "                                  \"THKRAZAO\",\"UTHRAZAO\",\"UKRAZAO\",\"MDT\"])\n",
    "\n",
    "gama_tie_1105 = pd.read_csv(gdb+'xyz/1105_XYZ/1105_GamaTie.XYZ',\n",
    "                         names=gama_tie_cols,\n",
    "                         delim_whitespace=True,\n",
    "                         skiprows=11,\n",
    "                         usecols=[\"X\",\"Y\",\"LATITUDE\",\"LONGITUDE\",\n",
    "                                  \"KPERC\",\"eU\",\"eTH\",\"CTCOR\",\n",
    "                                  \"THKRAZAO\",\"UTHRAZAO\",\"UKRAZAO\",\"MDT\"])\n",
    "\n",
    "gama_1105     = pd.concat([gama_line_1105,gama_tie_1105], ignore_index=True) # Unindo a line e tie em um unico arquivo"
   ]
  },
  {
   "cell_type": "markdown",
   "metadata": {},
   "source": [
    "### Removendo valores nao numericos"
   ]
  },
  {
   "cell_type": "code",
   "execution_count": 6,
   "metadata": {},
   "outputs": [],
   "source": [
    "gama_line_1105.dropna(inplace=True) \n",
    "gama_tie_1105.dropna(inplace=True)\n",
    "gama_1105.dropna(inplace=True)"
   ]
  },
  {
   "cell_type": "markdown",
   "metadata": {},
   "source": [
    "### Exportando os arquivos tratados para um CSV"
   ]
  },
  {
   "cell_type": "code",
   "execution_count": 7,
   "metadata": {},
   "outputs": [],
   "source": [
    "gama_1105.to_csv(gdb+'geof/gama_1105',index=False)\n",
    "gama_tie_1105.to_csv(gdb+'geof/gama_tie_1105',index=False)\n",
    "gama_line_1105.to_csv(gdb+'geof/gama_line_1105',index=False)"
   ]
  },
  {
   "cell_type": "markdown",
   "metadata": {},
   "source": [
    "## Dados Magnetometricos"
   ]
  },
  {
   "cell_type": "markdown",
   "metadata": {},
   "source": [
    "### Colunas descritas nos dados brutos"
   ]
  },
  {
   "cell_type": "code",
   "execution_count": 2,
   "metadata": {},
   "outputs": [],
   "source": [
    "mag_cols = 'DATA BARO ALTURA X Y MDT HORA GPSALT LATITUDE FIDUCIAL LONGITUDE ALTURA_1 IGRF MAGBASE MAGBRU MAGCOM MAGCOR MAGIGRF MAGMIC MAGNIV'.split(\" \")"
   ]
  },
  {
   "cell_type": "markdown",
   "metadata": {},
   "source": [
    "### Importando dados brutos"
   ]
  },
  {
   "cell_type": "code",
   "execution_count": 15,
   "metadata": {},
   "outputs": [],
   "source": [
    "mag_line_1105 = pd.read_csv(gdb+'xyz/1105_XYZ/1105_MagLine.XYZ',\n",
    "                         names=mag_cols,\n",
    "                         delim_whitespace=True,\n",
    "                         skiprows=11,                                     # Linhas de cabeçalho\n",
    "                         usecols=[\"X\",\"Y\",\"LATITUDE\",\"LONGITUDE\",\n",
    "                                  \"MAGIGRF\",\"ALTURA\",\"ALTURA_1\",\"MDT\"])\n",
    "\n",
    "mag_tie_1105 = pd.read_csv(gdb+'xyz/1105_XYZ/1105_MagTie.XYZ',\n",
    "                         names=mag_cols,\n",
    "                         delim_whitespace=True,\n",
    "                         skiprows=11,\n",
    "                         usecols=[\"X\",\"Y\",\"LATITUDE\",\"LONGITUDE\",\n",
    "                                  \"MAGIGRF\",\"ALTURA\",\"ALTURA_1\",\"MDT\"])\n",
    "\n",
    "mag_1105 = pd.concat([mag_line_1105,mag_tie_1105], ignore_index=True)"
   ]
  },
  {
   "cell_type": "markdown",
   "metadata": {},
   "source": [
    "### Removendo valores nao numericos"
   ]
  },
  {
   "cell_type": "code",
   "execution_count": null,
   "metadata": {},
   "outputs": [
    {
     "name": "stdout",
     "output_type": "stream",
     "text": [
      "(12344761, 8)\n",
      "ALTURA       4103\n",
      "X            4103\n",
      "Y            4103\n",
      "MDT          4103\n",
      "LATITUDE     4103\n",
      "LONGITUDE    4103\n",
      "ALTURA_1     4103\n",
      "MAGIGRF      4103\n",
      "dtype: int64\n"
     ]
    }
   ],
   "source": [
    "print(mag_1105.shape)        # numero de linhas e colunas;\n",
    "print(mag_1105.isna().sum()) # soma dos valores nao numericos para cada coluna;"
   ]
  },
  {
   "cell_type": "code",
   "execution_count": null,
   "metadata": {},
   "outputs": [],
   "source": [
    "mag_line_1105.dropna(inplace=True) \n",
    "mag_tie_1105.dropna(inplace=True)\n",
    "mag_1105.dropna(inplace=True)"
   ]
  },
  {
   "cell_type": "markdown",
   "metadata": {},
   "source": [
    "### Exportando os arquivos tratados para um CSV"
   ]
  },
  {
   "cell_type": "code",
   "execution_count": 5,
   "metadata": {},
   "outputs": [],
   "source": [
    "mag_line_1105.to_csv(gdb+'geof/mag_line_1105', index=False)\n",
    "mag_tie_1105.to_csv(gdb+'geof/mag_tie_1105', index=False)\n",
    "mag_1105.to_csv(gdb+'geof/mag_1105', index=False)"
   ]
  },
  {
   "cell_type": "code",
   "execution_count": 23,
   "metadata": {},
   "outputs": [],
   "source": [
    "cols_1039 = 'UTME UTMN LONG LAT MAGR THC UC KC CTC MAGB MAGC MAGD THB UB KB CTB FIDU TEMP ALTE ALTB'.split(\" \")\n",
    "\n",
    "usecols=[\"UTME\",\"UTMN\",\"LAT\",\"LONG\",\"KC\",\"UC\",\"THC\",\"CTC\",\"MAGR\"]\n",
    "\n",
    "\n",
    "geof_1039 = pd.read_csv(gdb+'xyz/1039_XYZ/spaulo_rjaneiro_sp.xyz',\n",
    "                         names=cols_1039,\n",
    "                         delim_whitespace=True,\n",
    "                         skiprows=6,\n",
    "                         usecols=usecols,\n",
    "                         encoding='latin-1') # foi adicionado um novo tipo de econding diferente de UTF-8"
   ]
  },
  {
   "cell_type": "code",
   "execution_count": 24,
   "metadata": {},
   "outputs": [],
   "source": [
    "geof_1039.dropna(inplace=True)"
   ]
  },
  {
   "cell_type": "code",
   "execution_count": 25,
   "metadata": {},
   "outputs": [],
   "source": [
    "geof_1039.to_csv(gdb+'geof/geof_1039',index=False)"
   ]
  },
  {
   "cell_type": "markdown",
   "metadata": {},
   "source": [
    "# Levantamento 3022 "
   ]
  },
  {
   "cell_type": "markdown",
   "metadata": {},
   "source": [
    "## Dados Gamaespectrometricos"
   ]
  },
  {
   "cell_type": "markdown",
   "metadata": {},
   "source": [
    "### Colunas descritas nos dados brutos"
   ]
  },
  {
   "cell_type": "code",
   "execution_count": 40,
   "metadata": {},
   "outputs": [],
   "source": [
    "from src.funcs_importar import gdb\n",
    "from src.funcs_importar import geof_gdb"
   ]
  },
  {
   "cell_type": "code",
   "execution_count": 41,
   "metadata": {},
   "outputs": [],
   "source": [
    "gama_cols = 'ALTURA BARO COSMICO CTB CTCOR CTEXP DATA eTh eU FIDUCIAL GPSALT HORA KB KCOR KPERC LATITUDE LIVE_TIME LONGITUDE MDT TEMP THB THCOR THKRAZAO UB UCOR UKRAZAO UTHRAZAO UUP X X_WGS Y Y_WGS'.split(\" \")\n",
    "\n",
    "mag_cols = 'ALTURA BARO DATA FID GPSALT HORA IGRF LAT_WGS LONG_WGS MAGBASE MAGBRU MAGCOM MAGCOR MAGIGRF MAGMIC MAGNIV MDT X X_WGS Y Y_WGS'.split(\" \")\n"
   ]
  },
  {
   "cell_type": "code",
   "execution_count": 43,
   "metadata": {},
   "outputs": [
    {
     "ename": "ValueError",
     "evalue": "Number of passed names did not match number of header fields in the file",
     "output_type": "error",
     "traceback": [
      "\u001b[0;31m---------------------------------------------------------------------------\u001b[0m",
      "\u001b[0;31mValueError\u001b[0m                                Traceback (most recent call last)",
      "\u001b[0;32m/tmp/ipykernel_11935/4224326860.py\u001b[0m in \u001b[0;36m<module>\u001b[0;34m\u001b[0m\n\u001b[0;32m----> 1\u001b[0;31m g_3022_raw = pd.read_csv(gdb('/home/ggrl/geodatabase/xyz/3022_XYZ/Area_14_gama.XYZ'),\n\u001b[0m\u001b[1;32m      2\u001b[0m                          \u001b[0mnames\u001b[0m\u001b[0;34m=\u001b[0m\u001b[0mmag_cols\u001b[0m\u001b[0;34m,\u001b[0m\u001b[0;34m\u001b[0m\u001b[0;34m\u001b[0m\u001b[0m\n\u001b[1;32m      3\u001b[0m                          \u001b[0mdelim_whitespace\u001b[0m\u001b[0;34m=\u001b[0m\u001b[0;32mTrue\u001b[0m\u001b[0;34m,\u001b[0m\u001b[0;34m\u001b[0m\u001b[0;34m\u001b[0m\u001b[0m\n\u001b[1;32m      4\u001b[0m                          \u001b[0mskiprows\u001b[0m\u001b[0;34m=\u001b[0m\u001b[0;36m8\u001b[0m\u001b[0;34m,\u001b[0m\u001b[0;34m\u001b[0m\u001b[0;34m\u001b[0m\u001b[0m\n\u001b[1;32m      5\u001b[0m                          usecols=['X',\"Y\",\"LATITUDE\",\"LONGITUDE\",'X_WGS','Y_WGS',\n",
      "\u001b[0;32m~/anaconda3/envs/geologist_bot/lib/python3.8/site-packages/pandas/util/_decorators.py\u001b[0m in \u001b[0;36mwrapper\u001b[0;34m(*args, **kwargs)\u001b[0m\n\u001b[1;32m    309\u001b[0m                     \u001b[0mstacklevel\u001b[0m\u001b[0;34m=\u001b[0m\u001b[0mstacklevel\u001b[0m\u001b[0;34m,\u001b[0m\u001b[0;34m\u001b[0m\u001b[0;34m\u001b[0m\u001b[0m\n\u001b[1;32m    310\u001b[0m                 )\n\u001b[0;32m--> 311\u001b[0;31m             \u001b[0;32mreturn\u001b[0m \u001b[0mfunc\u001b[0m\u001b[0;34m(\u001b[0m\u001b[0;34m*\u001b[0m\u001b[0margs\u001b[0m\u001b[0;34m,\u001b[0m \u001b[0;34m**\u001b[0m\u001b[0mkwargs\u001b[0m\u001b[0;34m)\u001b[0m\u001b[0;34m\u001b[0m\u001b[0;34m\u001b[0m\u001b[0m\n\u001b[0m\u001b[1;32m    312\u001b[0m \u001b[0;34m\u001b[0m\u001b[0m\n\u001b[1;32m    313\u001b[0m         \u001b[0;32mreturn\u001b[0m \u001b[0mwrapper\u001b[0m\u001b[0;34m\u001b[0m\u001b[0;34m\u001b[0m\u001b[0m\n",
      "\u001b[0;32m~/anaconda3/envs/geologist_bot/lib/python3.8/site-packages/pandas/io/parsers/readers.py\u001b[0m in \u001b[0;36mread_csv\u001b[0;34m(filepath_or_buffer, sep, delimiter, header, names, index_col, usecols, squeeze, prefix, mangle_dupe_cols, dtype, engine, converters, true_values, false_values, skipinitialspace, skiprows, skipfooter, nrows, na_values, keep_default_na, na_filter, verbose, skip_blank_lines, parse_dates, infer_datetime_format, keep_date_col, date_parser, dayfirst, cache_dates, iterator, chunksize, compression, thousands, decimal, lineterminator, quotechar, quoting, doublequote, escapechar, comment, encoding, encoding_errors, dialect, error_bad_lines, warn_bad_lines, on_bad_lines, delim_whitespace, low_memory, memory_map, float_precision, storage_options)\u001b[0m\n\u001b[1;32m    584\u001b[0m     \u001b[0mkwds\u001b[0m\u001b[0;34m.\u001b[0m\u001b[0mupdate\u001b[0m\u001b[0;34m(\u001b[0m\u001b[0mkwds_defaults\u001b[0m\u001b[0;34m)\u001b[0m\u001b[0;34m\u001b[0m\u001b[0;34m\u001b[0m\u001b[0m\n\u001b[1;32m    585\u001b[0m \u001b[0;34m\u001b[0m\u001b[0m\n\u001b[0;32m--> 586\u001b[0;31m     \u001b[0;32mreturn\u001b[0m \u001b[0m_read\u001b[0m\u001b[0;34m(\u001b[0m\u001b[0mfilepath_or_buffer\u001b[0m\u001b[0;34m,\u001b[0m \u001b[0mkwds\u001b[0m\u001b[0;34m)\u001b[0m\u001b[0;34m\u001b[0m\u001b[0;34m\u001b[0m\u001b[0m\n\u001b[0m\u001b[1;32m    587\u001b[0m \u001b[0;34m\u001b[0m\u001b[0m\n\u001b[1;32m    588\u001b[0m \u001b[0;34m\u001b[0m\u001b[0m\n",
      "\u001b[0;32m~/anaconda3/envs/geologist_bot/lib/python3.8/site-packages/pandas/io/parsers/readers.py\u001b[0m in \u001b[0;36m_read\u001b[0;34m(filepath_or_buffer, kwds)\u001b[0m\n\u001b[1;32m    480\u001b[0m \u001b[0;34m\u001b[0m\u001b[0m\n\u001b[1;32m    481\u001b[0m     \u001b[0;31m# Create the parser.\u001b[0m\u001b[0;34m\u001b[0m\u001b[0;34m\u001b[0m\u001b[0;34m\u001b[0m\u001b[0m\n\u001b[0;32m--> 482\u001b[0;31m     \u001b[0mparser\u001b[0m \u001b[0;34m=\u001b[0m \u001b[0mTextFileReader\u001b[0m\u001b[0;34m(\u001b[0m\u001b[0mfilepath_or_buffer\u001b[0m\u001b[0;34m,\u001b[0m \u001b[0;34m**\u001b[0m\u001b[0mkwds\u001b[0m\u001b[0;34m)\u001b[0m\u001b[0;34m\u001b[0m\u001b[0;34m\u001b[0m\u001b[0m\n\u001b[0m\u001b[1;32m    483\u001b[0m \u001b[0;34m\u001b[0m\u001b[0m\n\u001b[1;32m    484\u001b[0m     \u001b[0;32mif\u001b[0m \u001b[0mchunksize\u001b[0m \u001b[0;32mor\u001b[0m \u001b[0miterator\u001b[0m\u001b[0;34m:\u001b[0m\u001b[0;34m\u001b[0m\u001b[0;34m\u001b[0m\u001b[0m\n",
      "\u001b[0;32m~/anaconda3/envs/geologist_bot/lib/python3.8/site-packages/pandas/io/parsers/readers.py\u001b[0m in \u001b[0;36m__init__\u001b[0;34m(self, f, engine, **kwds)\u001b[0m\n\u001b[1;32m    809\u001b[0m             \u001b[0mself\u001b[0m\u001b[0;34m.\u001b[0m\u001b[0moptions\u001b[0m\u001b[0;34m[\u001b[0m\u001b[0;34m\"has_index_names\"\u001b[0m\u001b[0;34m]\u001b[0m \u001b[0;34m=\u001b[0m \u001b[0mkwds\u001b[0m\u001b[0;34m[\u001b[0m\u001b[0;34m\"has_index_names\"\u001b[0m\u001b[0;34m]\u001b[0m\u001b[0;34m\u001b[0m\u001b[0;34m\u001b[0m\u001b[0m\n\u001b[1;32m    810\u001b[0m \u001b[0;34m\u001b[0m\u001b[0m\n\u001b[0;32m--> 811\u001b[0;31m         \u001b[0mself\u001b[0m\u001b[0;34m.\u001b[0m\u001b[0m_engine\u001b[0m \u001b[0;34m=\u001b[0m \u001b[0mself\u001b[0m\u001b[0;34m.\u001b[0m\u001b[0m_make_engine\u001b[0m\u001b[0;34m(\u001b[0m\u001b[0mself\u001b[0m\u001b[0;34m.\u001b[0m\u001b[0mengine\u001b[0m\u001b[0;34m)\u001b[0m\u001b[0;34m\u001b[0m\u001b[0;34m\u001b[0m\u001b[0m\n\u001b[0m\u001b[1;32m    812\u001b[0m \u001b[0;34m\u001b[0m\u001b[0m\n\u001b[1;32m    813\u001b[0m     \u001b[0;32mdef\u001b[0m \u001b[0mclose\u001b[0m\u001b[0;34m(\u001b[0m\u001b[0mself\u001b[0m\u001b[0;34m)\u001b[0m\u001b[0;34m:\u001b[0m\u001b[0;34m\u001b[0m\u001b[0;34m\u001b[0m\u001b[0m\n",
      "\u001b[0;32m~/anaconda3/envs/geologist_bot/lib/python3.8/site-packages/pandas/io/parsers/readers.py\u001b[0m in \u001b[0;36m_make_engine\u001b[0;34m(self, engine)\u001b[0m\n\u001b[1;32m   1038\u001b[0m             )\n\u001b[1;32m   1039\u001b[0m         \u001b[0;31m# error: Too many arguments for \"ParserBase\"\u001b[0m\u001b[0;34m\u001b[0m\u001b[0;34m\u001b[0m\u001b[0;34m\u001b[0m\u001b[0m\n\u001b[0;32m-> 1040\u001b[0;31m         \u001b[0;32mreturn\u001b[0m \u001b[0mmapping\u001b[0m\u001b[0;34m[\u001b[0m\u001b[0mengine\u001b[0m\u001b[0;34m]\u001b[0m\u001b[0;34m(\u001b[0m\u001b[0mself\u001b[0m\u001b[0;34m.\u001b[0m\u001b[0mf\u001b[0m\u001b[0;34m,\u001b[0m \u001b[0;34m**\u001b[0m\u001b[0mself\u001b[0m\u001b[0;34m.\u001b[0m\u001b[0moptions\u001b[0m\u001b[0;34m)\u001b[0m  \u001b[0;31m# type: ignore[call-arg]\u001b[0m\u001b[0;34m\u001b[0m\u001b[0;34m\u001b[0m\u001b[0m\n\u001b[0m\u001b[1;32m   1041\u001b[0m \u001b[0;34m\u001b[0m\u001b[0m\n\u001b[1;32m   1042\u001b[0m     \u001b[0;32mdef\u001b[0m \u001b[0m_failover_to_python\u001b[0m\u001b[0;34m(\u001b[0m\u001b[0mself\u001b[0m\u001b[0;34m)\u001b[0m\u001b[0;34m:\u001b[0m\u001b[0;34m\u001b[0m\u001b[0;34m\u001b[0m\u001b[0m\n",
      "\u001b[0;32m~/anaconda3/envs/geologist_bot/lib/python3.8/site-packages/pandas/io/parsers/c_parser_wrapper.py\u001b[0m in \u001b[0;36m__init__\u001b[0;34m(self, src, **kwds)\u001b[0m\n\u001b[1;32m     67\u001b[0m         \u001b[0mkwds\u001b[0m\u001b[0;34m[\u001b[0m\u001b[0;34m\"dtype\"\u001b[0m\u001b[0;34m]\u001b[0m \u001b[0;34m=\u001b[0m \u001b[0mensure_dtype_objs\u001b[0m\u001b[0;34m(\u001b[0m\u001b[0mkwds\u001b[0m\u001b[0;34m.\u001b[0m\u001b[0mget\u001b[0m\u001b[0;34m(\u001b[0m\u001b[0;34m\"dtype\"\u001b[0m\u001b[0;34m,\u001b[0m \u001b[0;32mNone\u001b[0m\u001b[0;34m)\u001b[0m\u001b[0;34m)\u001b[0m\u001b[0;34m\u001b[0m\u001b[0;34m\u001b[0m\u001b[0m\n\u001b[1;32m     68\u001b[0m         \u001b[0;32mtry\u001b[0m\u001b[0;34m:\u001b[0m\u001b[0;34m\u001b[0m\u001b[0;34m\u001b[0m\u001b[0m\n\u001b[0;32m---> 69\u001b[0;31m             \u001b[0mself\u001b[0m\u001b[0;34m.\u001b[0m\u001b[0m_reader\u001b[0m \u001b[0;34m=\u001b[0m \u001b[0mparsers\u001b[0m\u001b[0;34m.\u001b[0m\u001b[0mTextReader\u001b[0m\u001b[0;34m(\u001b[0m\u001b[0mself\u001b[0m\u001b[0;34m.\u001b[0m\u001b[0mhandles\u001b[0m\u001b[0;34m.\u001b[0m\u001b[0mhandle\u001b[0m\u001b[0;34m,\u001b[0m \u001b[0;34m**\u001b[0m\u001b[0mkwds\u001b[0m\u001b[0;34m)\u001b[0m\u001b[0;34m\u001b[0m\u001b[0;34m\u001b[0m\u001b[0m\n\u001b[0m\u001b[1;32m     70\u001b[0m         \u001b[0;32mexcept\u001b[0m \u001b[0mException\u001b[0m\u001b[0;34m:\u001b[0m\u001b[0;34m\u001b[0m\u001b[0;34m\u001b[0m\u001b[0m\n\u001b[1;32m     71\u001b[0m             \u001b[0mself\u001b[0m\u001b[0;34m.\u001b[0m\u001b[0mhandles\u001b[0m\u001b[0;34m.\u001b[0m\u001b[0mclose\u001b[0m\u001b[0;34m(\u001b[0m\u001b[0;34m)\u001b[0m\u001b[0;34m\u001b[0m\u001b[0;34m\u001b[0m\u001b[0m\n",
      "\u001b[0;32m~/anaconda3/envs/geologist_bot/lib/python3.8/site-packages/pandas/_libs/parsers.pyx\u001b[0m in \u001b[0;36mpandas._libs.parsers.TextReader.__cinit__\u001b[0;34m()\u001b[0m\n",
      "\u001b[0;32m~/anaconda3/envs/geologist_bot/lib/python3.8/site-packages/pandas/_libs/parsers.pyx\u001b[0m in \u001b[0;36mpandas._libs.parsers.TextReader._get_header\u001b[0;34m()\u001b[0m\n",
      "\u001b[0;31mValueError\u001b[0m: Number of passed names did not match number of header fields in the file"
     ]
    }
   ],
   "source": [
    "g_3022_raw = pd.read_csv(gdb('/home/ggrl/geodatabase/xyz/3022_XYZ/Area_14_gama.XYZ'),\n",
    "                         names=mag_cols,\n",
    "                         delim_whitespace=True,\n",
    "                         skiprows=8,\n",
    "                         usecols=['X',\"Y\",\"LATITUDE\",\"LONGITUDE\",'X_WGS','Y_WGS',\n",
    "                                  \"BARO\", 'KB', 'UB', 'THB','COSMICO',''\n",
    "                                  \"KPERC\", 'eU', 'eTH', 'CTEXP', 'UTHRAZAO',\"MDT\"],\n",
    "                         na_values=('*'),                     \n",
    "                         dtype=('float'),\n",
    "                         encoding='latin-1')"
   ]
  },
  {
   "cell_type": "markdown",
   "metadata": {},
   "source": [
    "### Importando dados brutos\n",
    " - Este arquivo:\n",
    "    - XYZ obtiddo atravéz do Professor Vinicius Abud Louro;\n",
    "    - provém de um projeto diferente dos disponibilizados no portal SGB;\n",
    "    - não possui os mesmo padrões que os arquivos disponibilizados no portal SGB;\n",
    "    - possui valores expúrios entre os valores gama e mag;\n",
    "        - valor identificado como '*' atravéz dos seguintes passos:\n",
    "            - \n",
    " "
   ]
  },
  {
   "cell_type": "code",
   "execution_count": 18,
   "metadata": {},
   "outputs": [],
   "source": [
    "m_3022_raw = pd.read_csv(gdb('/home/ggrl/geodatabase/xyz/3022_XYZ/Area_14_mag.XYZ'),\n",
    "                         names=mag_cols,\n",
    "                         delim_whitespace=True,\n",
    "                         skiprows=8,\n",
    "                         usecols=[\"X\",\"Y\",\"LAT_WGS\",\"LONG_WGS\",\n",
    "                                  \"MAGIGRF\",\"MDT\"],\n",
    "                         na_values=('*'),                     \n",
    "                         dtype=('float'),\n",
    "                         encoding='latin-1')"
   ]
  },
  {
   "cell_type": "markdown",
   "metadata": {},
   "source": [
    "### Removendo valores nao numericos"
   ]
  },
  {
   "cell_type": "code",
   "execution_count": null,
   "metadata": {},
   "outputs": [],
   "source": [
    "gama_line_1105.dropna(inplace=True) \n",
    "gama_tie_1105.dropna(inplace=True)\n",
    "gama_1105.dropna(inplace=True)"
   ]
  },
  {
   "cell_type": "markdown",
   "metadata": {},
   "source": [
    "### Exportando os arquivos tratados para um CSV"
   ]
  },
  {
   "cell_type": "code",
   "execution_count": null,
   "metadata": {},
   "outputs": [],
   "source": [
    "gama_1105.to_csv(gdb+'geof/gama_1105',index=False)\n",
    "gama_tie_1105.to_csv(gdb+'geof/gama_tie_1105',index=False)\n",
    "gama_line_1105.to_csv(gdb+'geof/gama_line_1105',index=False)"
   ]
  },
  {
   "cell_type": "markdown",
   "metadata": {},
   "source": [
    "# Levantamento 1089"
   ]
  },
  {
   "cell_type": "markdown",
   "metadata": {},
   "source": [
    "### Colunas descritas nos dados brutos"
   ]
  },
  {
   "cell_type": "code",
   "execution_count": 8,
   "metadata": {},
   "outputs": [],
   "source": [
    "gama_cols = 'X Y FIDUCIAL GPSALT BARO ALTURA MDT CTB KB UB THB UPU LIVE_TIME COS TEMP KPERC eU eth CTEXP CTCOR UCOR THCOR KCOR THKRAZAO UKRAZAO UTHRAZAO LONGITUDE LATITUDE DATA HORA'.split(\" \")\n",
    "\n",
    "mag_cols = 'X Y FIDUCIAL GPSALT BARO ALTURA MDT MAGBASE MAGBRU MAGCOM MAGCOR MAGNIV MAGMIC MAGIGRF IGRF LONGITUDE LATITUDE DATA HORA'.split(\" \")"
   ]
  },
  {
   "cell_type": "code",
   "execution_count": 3,
   "metadata": {},
   "outputs": [
    {
     "name": "stderr",
     "output_type": "stream",
     "text": [
      "/home/ggrl/anaconda3/envs/geologist_bot/lib/python3.8/site-packages/IPython/core/interactiveshell.py:3441: DtypeWarning: Columns (1) have mixed types.Specify dtype option on import or set low_memory=False.\n",
      "  exec(code_obj, self.user_global_ns, self.user_ns)\n",
      "/home/ggrl/anaconda3/envs/geologist_bot/lib/python3.8/site-packages/IPython/core/interactiveshell.py:3441: DtypeWarning: Columns (0,1) have mixed types.Specify dtype option on import or set low_memory=False.\n",
      "  exec(code_obj, self.user_global_ns, self.user_ns)\n"
     ]
    }
   ],
   "source": [
    "gama_line_1089 = pd.read_csv(gdb+'xyz/1089_XYZ/XYZ/1089_GamaLine.XYZ',\n",
    "                         names=gama_cols,\n",
    "                         delim_whitespace=True,\n",
    "                         skiprows=11,\n",
    "                         usecols=[\"X\",\"Y\",\"LATITUDE\",\"LONGITUDE\",\n",
    "                                  \"KPERC\",\"eU\",\"eth\",\"CTCOR\",\n",
    "                                  \"THKRAZAO\",\"UKRAZAO\",\"UTHRAZAO\",\n",
    "                                  \"MDT\"],\n",
    "                         na_values=('*'))\n",
    "\n",
    "gama_tie_1089 = pd.read_csv(gdb+'xyz/1089_XYZ/XYZ/1089_GamaTie.XYZ',\n",
    "                         names=gama_cols,\n",
    "                         delim_whitespace=True,\n",
    "                         skiprows=11,\n",
    "                         usecols=[\"X\",\"Y\",\"LATITUDE\",\"LONGITUDE\",\n",
    "                                  \"KPERC\",\"eU\",\"eth\",\"CTCOR\",\n",
    "                                  \"THKRAZAO\",\"UKRAZAO\",\"UTHRAZAO\",\n",
    "                                  \"MDT\"],\n",
    "                         na_values=('*'))\n",
    "\n",
    "gama_1089 = pd.concat([gama_tie_1089,gama_line_1089], ignore_index=True)"
   ]
  },
  {
   "cell_type": "code",
   "execution_count": 4,
   "metadata": {},
   "outputs": [],
   "source": [
    "gama_1089.dropna(inplace=True)"
   ]
  },
  {
   "cell_type": "code",
   "execution_count": 5,
   "metadata": {},
   "outputs": [
    {
     "data": {
      "text/html": [
       "<div>\n",
       "<style scoped>\n",
       "    .dataframe tbody tr th:only-of-type {\n",
       "        vertical-align: middle;\n",
       "    }\n",
       "\n",
       "    .dataframe tbody tr th {\n",
       "        vertical-align: top;\n",
       "    }\n",
       "\n",
       "    .dataframe thead th {\n",
       "        text-align: right;\n",
       "    }\n",
       "</style>\n",
       "<table border=\"1\" class=\"dataframe\">\n",
       "  <thead>\n",
       "    <tr style=\"text-align: right;\">\n",
       "      <th></th>\n",
       "      <th>X</th>\n",
       "      <th>Y</th>\n",
       "      <th>MDT</th>\n",
       "      <th>KPERC</th>\n",
       "      <th>eU</th>\n",
       "      <th>eth</th>\n",
       "      <th>CTCOR</th>\n",
       "      <th>THKRAZAO</th>\n",
       "      <th>UKRAZAO</th>\n",
       "      <th>UTHRAZAO</th>\n",
       "      <th>LONGITUDE</th>\n",
       "      <th>LATITUDE</th>\n",
       "    </tr>\n",
       "  </thead>\n",
       "  <tbody>\n",
       "    <tr>\n",
       "      <th>8</th>\n",
       "      <td>528115.65</td>\n",
       "      <td>8756161.26</td>\n",
       "      <td>522.35</td>\n",
       "      <td>0.38</td>\n",
       "      <td>1.46</td>\n",
       "      <td>18.83</td>\n",
       "      <td>1371.89</td>\n",
       "      <td>49.7742</td>\n",
       "      <td>3.8425</td>\n",
       "      <td>0.0772</td>\n",
       "      <td>-44.742414</td>\n",
       "      <td>-11.251846</td>\n",
       "    </tr>\n",
       "    <tr>\n",
       "      <th>9</th>\n",
       "      <td>528035.37</td>\n",
       "      <td>8756163.26</td>\n",
       "      <td>522.77</td>\n",
       "      <td>0.43</td>\n",
       "      <td>1.06</td>\n",
       "      <td>15.94</td>\n",
       "      <td>1170.76</td>\n",
       "      <td>37.2496</td>\n",
       "      <td>2.4835</td>\n",
       "      <td>0.0667</td>\n",
       "      <td>-44.743149</td>\n",
       "      <td>-11.251829</td>\n",
       "    </tr>\n",
       "    <tr>\n",
       "      <th>10</th>\n",
       "      <td>527955.11</td>\n",
       "      <td>8756164.95</td>\n",
       "      <td>522.11</td>\n",
       "      <td>0.44</td>\n",
       "      <td>1.08</td>\n",
       "      <td>13.13</td>\n",
       "      <td>1016.51</td>\n",
       "      <td>29.9028</td>\n",
       "      <td>2.4507</td>\n",
       "      <td>0.0820</td>\n",
       "      <td>-44.743884</td>\n",
       "      <td>-11.251814</td>\n",
       "    </tr>\n",
       "    <tr>\n",
       "      <th>11</th>\n",
       "      <td>527874.82</td>\n",
       "      <td>8756166.56</td>\n",
       "      <td>522.05</td>\n",
       "      <td>0.42</td>\n",
       "      <td>1.47</td>\n",
       "      <td>11.12</td>\n",
       "      <td>946.89</td>\n",
       "      <td>26.7573</td>\n",
       "      <td>3.5533</td>\n",
       "      <td>0.1328</td>\n",
       "      <td>-44.744620</td>\n",
       "      <td>-11.251800</td>\n",
       "    </tr>\n",
       "    <tr>\n",
       "      <th>12</th>\n",
       "      <td>527794.50</td>\n",
       "      <td>8756168.02</td>\n",
       "      <td>522.57</td>\n",
       "      <td>0.43</td>\n",
       "      <td>1.78</td>\n",
       "      <td>10.41</td>\n",
       "      <td>948.79</td>\n",
       "      <td>24.2187</td>\n",
       "      <td>4.1092</td>\n",
       "      <td>0.1697</td>\n",
       "      <td>-44.745356</td>\n",
       "      <td>-11.251787</td>\n",
       "    </tr>\n",
       "    <tr>\n",
       "      <th>...</th>\n",
       "      <td>...</td>\n",
       "      <td>...</td>\n",
       "      <td>...</td>\n",
       "      <td>...</td>\n",
       "      <td>...</td>\n",
       "      <td>...</td>\n",
       "      <td>...</td>\n",
       "      <td>...</td>\n",
       "      <td>...</td>\n",
       "      <td>...</td>\n",
       "      <td>...</td>\n",
       "      <td>...</td>\n",
       "    </tr>\n",
       "    <tr>\n",
       "      <th>668816</th>\n",
       "      <td>665126.58</td>\n",
       "      <td>8782417.52</td>\n",
       "      <td>422.06</td>\n",
       "      <td>0.29</td>\n",
       "      <td>0.59</td>\n",
       "      <td>7.02</td>\n",
       "      <td>562.15</td>\n",
       "      <td>23.8827</td>\n",
       "      <td>1.9898</td>\n",
       "      <td>0.0833</td>\n",
       "      <td>-43.488568</td>\n",
       "      <td>-11.010735</td>\n",
       "    </tr>\n",
       "    <tr>\n",
       "      <th>668817</th>\n",
       "      <td>665130.89</td>\n",
       "      <td>8782340.24</td>\n",
       "      <td>422.94</td>\n",
       "      <td>0.33</td>\n",
       "      <td>0.61</td>\n",
       "      <td>7.26</td>\n",
       "      <td>588.93</td>\n",
       "      <td>22.3755</td>\n",
       "      <td>1.9209</td>\n",
       "      <td>0.0858</td>\n",
       "      <td>-43.488525</td>\n",
       "      <td>-11.011434</td>\n",
       "    </tr>\n",
       "    <tr>\n",
       "      <th>668818</th>\n",
       "      <td>665135.62</td>\n",
       "      <td>8782262.93</td>\n",
       "      <td>423.37</td>\n",
       "      <td>0.36</td>\n",
       "      <td>0.66</td>\n",
       "      <td>7.69</td>\n",
       "      <td>630.33</td>\n",
       "      <td>21.1524</td>\n",
       "      <td>1.7839</td>\n",
       "      <td>0.0843</td>\n",
       "      <td>-43.488478</td>\n",
       "      <td>-11.012132</td>\n",
       "    </tr>\n",
       "    <tr>\n",
       "      <th>668819</th>\n",
       "      <td>665140.29</td>\n",
       "      <td>8782185.57</td>\n",
       "      <td>422.44</td>\n",
       "      <td>0.40</td>\n",
       "      <td>0.48</td>\n",
       "      <td>7.39</td>\n",
       "      <td>599.77</td>\n",
       "      <td>18.7542</td>\n",
       "      <td>1.2390</td>\n",
       "      <td>0.0661</td>\n",
       "      <td>-43.488431</td>\n",
       "      <td>-11.012832</td>\n",
       "    </tr>\n",
       "    <tr>\n",
       "      <th>668820</th>\n",
       "      <td>665143.98</td>\n",
       "      <td>8782108.02</td>\n",
       "      <td>423.89</td>\n",
       "      <td>0.45</td>\n",
       "      <td>0.30</td>\n",
       "      <td>7.40</td>\n",
       "      <td>594.58</td>\n",
       "      <td>16.2804</td>\n",
       "      <td>0.6390</td>\n",
       "      <td>0.0393</td>\n",
       "      <td>-43.488394</td>\n",
       "      <td>-11.013533</td>\n",
       "    </tr>\n",
       "  </tbody>\n",
       "</table>\n",
       "<p>667899 rows × 12 columns</p>\n",
       "</div>"
      ],
      "text/plain": [
       "                X           Y     MDT  KPERC    eU    eth    CTCOR  THKRAZAO  \\\n",
       "8       528115.65  8756161.26  522.35   0.38  1.46  18.83  1371.89   49.7742   \n",
       "9       528035.37  8756163.26  522.77   0.43  1.06  15.94  1170.76   37.2496   \n",
       "10      527955.11  8756164.95  522.11   0.44  1.08  13.13  1016.51   29.9028   \n",
       "11      527874.82  8756166.56  522.05   0.42  1.47  11.12   946.89   26.7573   \n",
       "12      527794.50  8756168.02  522.57   0.43  1.78  10.41   948.79   24.2187   \n",
       "...           ...         ...     ...    ...   ...    ...      ...       ...   \n",
       "668816  665126.58  8782417.52  422.06   0.29  0.59   7.02   562.15   23.8827   \n",
       "668817  665130.89  8782340.24  422.94   0.33  0.61   7.26   588.93   22.3755   \n",
       "668818  665135.62  8782262.93  423.37   0.36  0.66   7.69   630.33   21.1524   \n",
       "668819  665140.29  8782185.57  422.44   0.40  0.48   7.39   599.77   18.7542   \n",
       "668820  665143.98  8782108.02  423.89   0.45  0.30   7.40   594.58   16.2804   \n",
       "\n",
       "        UKRAZAO  UTHRAZAO  LONGITUDE   LATITUDE  \n",
       "8        3.8425    0.0772 -44.742414 -11.251846  \n",
       "9        2.4835    0.0667 -44.743149 -11.251829  \n",
       "10       2.4507    0.0820 -44.743884 -11.251814  \n",
       "11       3.5533    0.1328 -44.744620 -11.251800  \n",
       "12       4.1092    0.1697 -44.745356 -11.251787  \n",
       "...         ...       ...        ...        ...  \n",
       "668816   1.9898    0.0833 -43.488568 -11.010735  \n",
       "668817   1.9209    0.0858 -43.488525 -11.011434  \n",
       "668818   1.7839    0.0843 -43.488478 -11.012132  \n",
       "668819   1.2390    0.0661 -43.488431 -11.012832  \n",
       "668820   0.6390    0.0393 -43.488394 -11.013533  \n",
       "\n",
       "[667899 rows x 12 columns]"
      ]
     },
     "execution_count": 5,
     "metadata": {},
     "output_type": "execute_result"
    }
   ],
   "source": [
    "gama_1089"
   ]
  },
  {
   "cell_type": "code",
   "execution_count": 10,
   "metadata": {},
   "outputs": [],
   "source": [
    "gama_line_1089.dropna(inplace=True)"
   ]
  },
  {
   "cell_type": "code",
   "execution_count": 11,
   "metadata": {},
   "outputs": [
    {
     "name": "stdout",
     "output_type": "stream",
     "text": [
      "Listando atributos dos dados geofisicos\n",
      "# --- # Listagem de dados do aerolevantamento:  \n",
      "Lista de atributos geofísicos = ['MDT', 'KPERC', 'eU', 'eth', 'CTCOR', 'THKRAZAO', 'UKRAZAO', 'UTHRAZAO']\n",
      "lista de atributos geograficos = ['LONGITUDE', 'LATITUDE']\n",
      "lista de atributos projetados = ['X', 'Y']\n"
     ]
    },
    {
     "data": {
      "text/plain": [
       "(             dType  Valores Faltantes  Valores Únicos  Amostragem\n",
       " X           object                  0          511916      635173\n",
       " Y           object                  0          625447      635173\n",
       " MDT        float64                  0           43029      635173\n",
       " KPERC      float64                  0             534      635173\n",
       " eU         float64                  0             872      635173\n",
       " eth        float64                  0            4141      635173\n",
       " CTCOR      float64                  0          171198      635173\n",
       " THKRAZAO   float64                  0          431058      635173\n",
       " UKRAZAO    float64                  0          173144      635173\n",
       " UTHRAZAO   float64                  0            6152      635173\n",
       " LONGITUDE  float64                  0          628804      635173\n",
       " LATITUDE   float64                  0          632826      635173,\n",
       " ['MDT', 'KPERC', 'eU', 'eth', 'CTCOR', 'THKRAZAO', 'UKRAZAO', 'UTHRAZAO'],\n",
       " ['LONGITUDE', 'LATITUDE'],\n",
       " ['X', 'Y'],\n",
       "                  MDT          KPERC             eU            eth  \\\n",
       " count  635173.000000  635173.000000  635173.000000  635173.000000   \n",
       " mean      508.893234       0.520116       1.107293       9.470464   \n",
       " std        85.329898       0.545391       0.683094       5.405466   \n",
       " min       290.640000      -0.410000      -1.640000      -0.560000   \n",
       " 0.1%      312.140000      -0.120000      -0.290000       0.600000   \n",
       " 10%       400.960000       0.050000       0.380000       3.620000   \n",
       " 25%       450.540000       0.140000       0.650000       5.790000   \n",
       " 50%       501.300000       0.350000       1.000000       8.400000   \n",
       " 75%       564.390000       0.720000       1.440000      11.990000   \n",
       " 99.5%     722.290000       2.990000       3.880000      29.290000   \n",
       " max       795.550000       6.520000      25.500000      70.130000   \n",
       " \n",
       "                CTCOR       THKRAZAO        UKRAZAO       UTHRAZAO  \n",
       " count  635173.000000  635173.000000  635173.000000  635173.000000  \n",
       " mean      836.493968      52.609745       6.368725       0.129238  \n",
       " std       450.466561      92.576155      10.713721       0.070951  \n",
       " min       -86.650000       0.453200       0.011800       0.002300  \n",
       " 0.1%       72.351280       1.701555       0.045417       0.005800  \n",
       " 10%       331.980000       7.464600       0.733000       0.058300  \n",
       " 25%       513.820000      12.336800       1.361700       0.084800  \n",
       " 50%       754.030000      24.052000       2.783600       0.118200  \n",
       " 75%      1085.920000      51.733500       6.179100       0.159600  \n",
       " 99.5%    2424.664200     658.665466      69.429660       0.427100  \n",
       " max      5958.820000    1892.694000     217.339100       1.843900  )"
      ]
     },
     "execution_count": 11,
     "metadata": {},
     "output_type": "execute_result"
    }
   ],
   "source": [
    "f.descricao(gama_line_1089)"
   ]
  },
  {
   "cell_type": "code",
   "execution_count": 7,
   "metadata": {},
   "outputs": [
    {
     "data": {
      "text/html": [
       "<div>\n",
       "<style scoped>\n",
       "    .dataframe tbody tr th:only-of-type {\n",
       "        vertical-align: middle;\n",
       "    }\n",
       "\n",
       "    .dataframe tbody tr th {\n",
       "        vertical-align: top;\n",
       "    }\n",
       "\n",
       "    .dataframe thead th {\n",
       "        text-align: right;\n",
       "    }\n",
       "</style>\n",
       "<table border=\"1\" class=\"dataframe\">\n",
       "  <thead>\n",
       "    <tr style=\"text-align: right;\">\n",
       "      <th></th>\n",
       "      <th>X</th>\n",
       "      <th>Y</th>\n",
       "      <th>MDT</th>\n",
       "      <th>KPERC</th>\n",
       "      <th>eU</th>\n",
       "      <th>eth</th>\n",
       "      <th>CTCOR</th>\n",
       "      <th>THKRAZAO</th>\n",
       "      <th>UKRAZAO</th>\n",
       "      <th>UTHRAZAO</th>\n",
       "      <th>LONGITUDE</th>\n",
       "      <th>LATITUDE</th>\n",
       "    </tr>\n",
       "  </thead>\n",
       "  <tbody>\n",
       "    <tr>\n",
       "      <th>8</th>\n",
       "      <td>528115.65</td>\n",
       "      <td>8756161.26</td>\n",
       "      <td>522.35</td>\n",
       "      <td>0.38</td>\n",
       "      <td>1.46</td>\n",
       "      <td>18.83</td>\n",
       "      <td>1371.89</td>\n",
       "      <td>49.7742</td>\n",
       "      <td>3.8425</td>\n",
       "      <td>0.0772</td>\n",
       "      <td>-44.742414</td>\n",
       "      <td>-11.251846</td>\n",
       "    </tr>\n",
       "    <tr>\n",
       "      <th>9</th>\n",
       "      <td>528035.37</td>\n",
       "      <td>8756163.26</td>\n",
       "      <td>522.77</td>\n",
       "      <td>0.43</td>\n",
       "      <td>1.06</td>\n",
       "      <td>15.94</td>\n",
       "      <td>1170.76</td>\n",
       "      <td>37.2496</td>\n",
       "      <td>2.4835</td>\n",
       "      <td>0.0667</td>\n",
       "      <td>-44.743149</td>\n",
       "      <td>-11.251829</td>\n",
       "    </tr>\n",
       "    <tr>\n",
       "      <th>10</th>\n",
       "      <td>527955.11</td>\n",
       "      <td>8756164.95</td>\n",
       "      <td>522.11</td>\n",
       "      <td>0.44</td>\n",
       "      <td>1.08</td>\n",
       "      <td>13.13</td>\n",
       "      <td>1016.51</td>\n",
       "      <td>29.9028</td>\n",
       "      <td>2.4507</td>\n",
       "      <td>0.0820</td>\n",
       "      <td>-44.743884</td>\n",
       "      <td>-11.251814</td>\n",
       "    </tr>\n",
       "    <tr>\n",
       "      <th>11</th>\n",
       "      <td>527874.82</td>\n",
       "      <td>8756166.56</td>\n",
       "      <td>522.05</td>\n",
       "      <td>0.42</td>\n",
       "      <td>1.47</td>\n",
       "      <td>11.12</td>\n",
       "      <td>946.89</td>\n",
       "      <td>26.7573</td>\n",
       "      <td>3.5533</td>\n",
       "      <td>0.1328</td>\n",
       "      <td>-44.744620</td>\n",
       "      <td>-11.251800</td>\n",
       "    </tr>\n",
       "    <tr>\n",
       "      <th>12</th>\n",
       "      <td>527794.50</td>\n",
       "      <td>8756168.02</td>\n",
       "      <td>522.57</td>\n",
       "      <td>0.43</td>\n",
       "      <td>1.78</td>\n",
       "      <td>10.41</td>\n",
       "      <td>948.79</td>\n",
       "      <td>24.2187</td>\n",
       "      <td>4.1092</td>\n",
       "      <td>0.1697</td>\n",
       "      <td>-44.745356</td>\n",
       "      <td>-11.251787</td>\n",
       "    </tr>\n",
       "  </tbody>\n",
       "</table>\n",
       "</div>"
      ],
      "text/plain": [
       "            X           Y     MDT  KPERC    eU    eth    CTCOR  THKRAZAO  \\\n",
       "8   528115.65  8756161.26  522.35   0.38  1.46  18.83  1371.89   49.7742   \n",
       "9   528035.37  8756163.26  522.77   0.43  1.06  15.94  1170.76   37.2496   \n",
       "10  527955.11  8756164.95  522.11   0.44  1.08  13.13  1016.51   29.9028   \n",
       "11  527874.82  8756166.56  522.05   0.42  1.47  11.12   946.89   26.7573   \n",
       "12  527794.50  8756168.02  522.57   0.43  1.78  10.41   948.79   24.2187   \n",
       "\n",
       "    UKRAZAO  UTHRAZAO  LONGITUDE   LATITUDE  \n",
       "8    3.8425    0.0772 -44.742414 -11.251846  \n",
       "9    2.4835    0.0667 -44.743149 -11.251829  \n",
       "10   2.4507    0.0820 -44.743884 -11.251814  \n",
       "11   3.5533    0.1328 -44.744620 -11.251800  \n",
       "12   4.1092    0.1697 -44.745356 -11.251787  "
      ]
     },
     "execution_count": 7,
     "metadata": {},
     "output_type": "execute_result"
    }
   ],
   "source": [
    "gama_1089.head()"
   ]
  },
  {
   "cell_type": "code",
   "execution_count": 13,
   "metadata": {},
   "outputs": [],
   "source": [
    "#gama_1089.to_csv(gdb+'geof/gama_1089',index=False)\n",
    "gama_line_1089.to_csv(gdb+'geof/gama_line_1089',index=False)"
   ]
  },
  {
   "cell_type": "code",
   "execution_count": 10,
   "metadata": {},
   "outputs": [
    {
     "name": "stderr",
     "output_type": "stream",
     "text": [
      "/home/ggrl/anaconda3/envs/geologist_bot/lib/python3.8/site-packages/IPython/core/interactiveshell.py:3441: DtypeWarning: Columns (1) have mixed types.Specify dtype option on import or set low_memory=False.\n",
      "  exec(code_obj, self.user_global_ns, self.user_ns)\n"
     ]
    }
   ],
   "source": [
    "mLine_1089 = pd.read_csv(gdb+'xyz/1089_XYZ/XYZ/1089_MagLine.XYZ',\n",
    "                         names=mag_cols,\n",
    "                         delim_whitespace=True,\n",
    "                         skiprows=11,\n",
    "                         usecols=[\"X\",\"Y\",\"LATITUDE\",\"LONGITUDE\",\n",
    "                                  \"MAGIGRF\",\"ALTURA\",\"MDT\"],\n",
    "                         na_values=('*'))"
   ]
  },
  {
   "cell_type": "code",
   "execution_count": 11,
   "metadata": {},
   "outputs": [
    {
     "name": "stderr",
     "output_type": "stream",
     "text": [
      "/home/ggrl/anaconda3/envs/geologist_bot/lib/python3.8/site-packages/IPython/core/interactiveshell.py:3441: DtypeWarning: Columns (0,1) have mixed types.Specify dtype option on import or set low_memory=False.\n",
      "  exec(code_obj, self.user_global_ns, self.user_ns)\n"
     ]
    }
   ],
   "source": [
    "mTie_1089 = pd.read_csv(gdb+'xyz/1089_XYZ/XYZ/1089_MagTie.XYZ',\n",
    "                         names=mag_cols,\n",
    "                         delim_whitespace=True,\n",
    "                         skiprows=11,\n",
    "                         usecols=[\"X\",\"Y\",\"LATITUDE\",\"LONGITUDE\",\n",
    "                                  \"MAGIGRF\",\"ALTURA\",\"MDT\"],\n",
    "                         na_values=('*'))"
   ]
  },
  {
   "cell_type": "code",
   "execution_count": 12,
   "metadata": {},
   "outputs": [],
   "source": [
    "m_1089 = pd.concat([mTie_1089,mLine_1089], ignore_index=True)"
   ]
  },
  {
   "cell_type": "code",
   "execution_count": 13,
   "metadata": {},
   "outputs": [],
   "source": [
    "mag_1089 = m_1089.dropna()"
   ]
  },
  {
   "cell_type": "code",
   "execution_count": 14,
   "metadata": {},
   "outputs": [],
   "source": [
    "mag_1089.to_csv(gdb+'geof/mag_1089',index=False)"
   ]
  },
  {
   "cell_type": "code",
   "execution_count": 16,
   "metadata": {},
   "outputs": [
    {
     "name": "stdout",
     "output_type": "stream",
     "text": [
      "# --- # Listagem de dados do aerolevantamento:  \n",
      "Lista de atributos geofísicos = ['ALTURA', 'MDT', 'MAGIGRF']\n",
      "lista de atributos geograficos = ['LONGITUDE', 'LATITUDE']\n",
      "lista de atributos projetados = ['X', 'Y']\n"
     ]
    }
   ],
   "source": [
    "a = f.descricao(mag_1089)"
   ]
  },
  {
   "cell_type": "code",
   "execution_count": 19,
   "metadata": {},
   "outputs": [
    {
     "data": {
      "text/html": [
       "<div>\n",
       "<style scoped>\n",
       "    .dataframe tbody tr th:only-of-type {\n",
       "        vertical-align: middle;\n",
       "    }\n",
       "\n",
       "    .dataframe tbody tr th {\n",
       "        vertical-align: top;\n",
       "    }\n",
       "\n",
       "    .dataframe thead th {\n",
       "        text-align: right;\n",
       "    }\n",
       "</style>\n",
       "<table border=\"1\" class=\"dataframe\">\n",
       "  <thead>\n",
       "    <tr style=\"text-align: right;\">\n",
       "      <th></th>\n",
       "      <th>dType</th>\n",
       "      <th>Valores Faltantes</th>\n",
       "      <th>Valores Únicos</th>\n",
       "      <th>Amostragem</th>\n",
       "    </tr>\n",
       "  </thead>\n",
       "  <tbody>\n",
       "    <tr>\n",
       "      <th>X</th>\n",
       "      <td>object</td>\n",
       "      <td>0</td>\n",
       "      <td>2147452</td>\n",
       "      <td>6676787</td>\n",
       "    </tr>\n",
       "    <tr>\n",
       "      <th>Y</th>\n",
       "      <td>object</td>\n",
       "      <td>0</td>\n",
       "      <td>5686864</td>\n",
       "      <td>6676787</td>\n",
       "    </tr>\n",
       "    <tr>\n",
       "      <th>ALTURA</th>\n",
       "      <td>float64</td>\n",
       "      <td>0</td>\n",
       "      <td>15192</td>\n",
       "      <td>6676787</td>\n",
       "    </tr>\n",
       "    <tr>\n",
       "      <th>MDT</th>\n",
       "      <td>float64</td>\n",
       "      <td>0</td>\n",
       "      <td>49045</td>\n",
       "      <td>6676787</td>\n",
       "    </tr>\n",
       "    <tr>\n",
       "      <th>MAGIGRF</th>\n",
       "      <td>float64</td>\n",
       "      <td>0</td>\n",
       "      <td>402447</td>\n",
       "      <td>6676787</td>\n",
       "    </tr>\n",
       "    <tr>\n",
       "      <th>LONGITUDE</th>\n",
       "      <td>float64</td>\n",
       "      <td>0</td>\n",
       "      <td>6280335</td>\n",
       "      <td>6676787</td>\n",
       "    </tr>\n",
       "    <tr>\n",
       "      <th>LATITUDE</th>\n",
       "      <td>float64</td>\n",
       "      <td>0</td>\n",
       "      <td>6499843</td>\n",
       "      <td>6676787</td>\n",
       "    </tr>\n",
       "  </tbody>\n",
       "</table>\n",
       "</div>"
      ],
      "text/plain": [
       "             dType  Valores Faltantes  Valores Únicos  Amostragem\n",
       "X           object                  0         2147452     6676787\n",
       "Y           object                  0         5686864     6676787\n",
       "ALTURA     float64                  0           15192     6676787\n",
       "MDT        float64                  0           49045     6676787\n",
       "MAGIGRF    float64                  0          402447     6676787\n",
       "LONGITUDE  float64                  0         6280335     6676787\n",
       "LATITUDE   float64                  0         6499843     6676787"
      ]
     },
     "execution_count": 19,
     "metadata": {},
     "output_type": "execute_result"
    }
   ],
   "source": [
    "a[0]"
   ]
  },
  {
   "cell_type": "code",
   "execution_count": 18,
   "metadata": {},
   "outputs": [
    {
     "data": {
      "text/html": [
       "<div>\n",
       "<style scoped>\n",
       "    .dataframe tbody tr th:only-of-type {\n",
       "        vertical-align: middle;\n",
       "    }\n",
       "\n",
       "    .dataframe tbody tr th {\n",
       "        vertical-align: top;\n",
       "    }\n",
       "\n",
       "    .dataframe thead th {\n",
       "        text-align: right;\n",
       "    }\n",
       "</style>\n",
       "<table border=\"1\" class=\"dataframe\">\n",
       "  <thead>\n",
       "    <tr style=\"text-align: right;\">\n",
       "      <th></th>\n",
       "      <th>count</th>\n",
       "      <th>mean</th>\n",
       "      <th>std</th>\n",
       "      <th>min</th>\n",
       "      <th>0.1%</th>\n",
       "      <th>10%</th>\n",
       "      <th>25%</th>\n",
       "      <th>50%</th>\n",
       "      <th>75%</th>\n",
       "      <th>99.5%</th>\n",
       "      <th>max</th>\n",
       "    </tr>\n",
       "  </thead>\n",
       "  <tbody>\n",
       "    <tr>\n",
       "      <th>ALTURA</th>\n",
       "      <td>6676787.0</td>\n",
       "      <td>108.161005</td>\n",
       "      <td>23.916865</td>\n",
       "      <td>-52.430</td>\n",
       "      <td>60.40000</td>\n",
       "      <td>86.570</td>\n",
       "      <td>94.820</td>\n",
       "      <td>103.99</td>\n",
       "      <td>115.240</td>\n",
       "      <td>235.30000</td>\n",
       "      <td>400.190</td>\n",
       "    </tr>\n",
       "    <tr>\n",
       "      <th>MDT</th>\n",
       "      <td>6676787.0</td>\n",
       "      <td>508.932328</td>\n",
       "      <td>85.382206</td>\n",
       "      <td>290.640</td>\n",
       "      <td>312.21000</td>\n",
       "      <td>400.970</td>\n",
       "      <td>450.460</td>\n",
       "      <td>501.29</td>\n",
       "      <td>564.380</td>\n",
       "      <td>722.20000</td>\n",
       "      <td>795.550</td>\n",
       "    </tr>\n",
       "    <tr>\n",
       "      <th>MAGIGRF</th>\n",
       "      <td>6676787.0</td>\n",
       "      <td>12.122186</td>\n",
       "      <td>56.913451</td>\n",
       "      <td>-1004.673</td>\n",
       "      <td>-363.92307</td>\n",
       "      <td>-47.375</td>\n",
       "      <td>-3.245</td>\n",
       "      <td>25.07</td>\n",
       "      <td>42.505</td>\n",
       "      <td>139.15107</td>\n",
       "      <td>504.515</td>\n",
       "    </tr>\n",
       "  </tbody>\n",
       "</table>\n",
       "</div>"
      ],
      "text/plain": [
       "             count        mean        std       min       0.1%      10%  \\\n",
       "ALTURA   6676787.0  108.161005  23.916865   -52.430   60.40000   86.570   \n",
       "MDT      6676787.0  508.932328  85.382206   290.640  312.21000  400.970   \n",
       "MAGIGRF  6676787.0   12.122186  56.913451 -1004.673 -363.92307  -47.375   \n",
       "\n",
       "             25%     50%      75%      99.5%      max  \n",
       "ALTURA    94.820  103.99  115.240  235.30000  400.190  \n",
       "MDT      450.460  501.29  564.380  722.20000  795.550  \n",
       "MAGIGRF   -3.245   25.07   42.505  139.15107  504.515  "
      ]
     },
     "execution_count": 18,
     "metadata": {},
     "output_type": "execute_result"
    }
   ],
   "source": [
    "a[4].T"
   ]
  }
 ],
 "metadata": {
  "interpreter": {
   "hash": "d412e3d091f5968552f8aa760bc8da416522b5884f97efbbec2149c97127b032"
  },
  "kernelspec": {
   "display_name": "Python 3.8.11 64-bit ('geologist_bot': conda)",
   "name": "python3"
  },
  "language_info": {
   "codemirror_mode": {
    "name": "ipython",
    "version": 3
   },
   "file_extension": ".py",
   "mimetype": "text/x-python",
   "name": "python",
   "nbconvert_exporter": "python",
   "pygments_lexer": "ipython3",
   "version": "3.8.11"
  }
 },
 "nbformat": 4,
 "nbformat_minor": 4
}
