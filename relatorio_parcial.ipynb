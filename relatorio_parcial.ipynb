{
 "cells": [
  {
   "cell_type": "markdown",
   "id": "4309b603-172e-443c-ba85-fd2a507a8220",
   "metadata": {
    "tags": []
   },
   "source": [
    "# Relatório Parcial"
   ]
  },
  {
   "cell_type": "markdown",
   "id": "106201db-4636-413b-b3cf-269fcecfcc8c",
   "metadata": {
    "tags": []
   },
   "source": [
    "## RESUMO\n",
    "\n",
    "        A grafita é um bem mineral de importância tecnológica emergente com as novas propriedades descobertas nas últimas décadas no ramo da engenharia de nanomateriais, como no emprego de fabricação de baterias elétricas, supercondutores e fibras leves de alta resistência, e com potencial para fabricação de materiais essenciais para a indústria. Estes novos usos têm aumentado a demanda pela commoditie, trazendo assim, a necessidade de descoberta de novos depósitos economicamente viáveis levando em conta sua localização, volume e grau de pureza. Recentemente, as técnicas de aprendizagem de máquina têm aumentado a viabilidade dos projetos de prospecção mineral devido ao seu baixo custo de execução e sua alta capacidade de correlação de inúmeras variáveis simultaneamente.\n",
    "        Com isto, neste projeto, pretende-se utilizar algoritmos de inteligência computacional e dados de sensores remotos para identificar padrões entre os atributos geofísicos e suas classes litológicas mineralizantes, bem como de suas ocorrências minerais. Assim, desenvolvendo novos mapas litológicos para confrontar os existentes e mapas prospectivos de minério de grafita no sistema de nappes de Socorro–Guaxupé no nordeste do estado de São Paulo, divisa com Minas Gerais."
   ]
  },
  {
   "cell_type": "markdown",
   "id": "b59d99fa-eccb-4f1d-8c40-fc4839873cd3",
   "metadata": {
    "jp-MarkdownHeadingCollapsed": true,
    "tags": []
   },
   "source": [
    "## I. INTRODUÇÃO\t"
   ]
  },
  {
   "cell_type": "markdown",
   "id": "b598ba4d-f916-41bc-b4ee-544722904a02",
   "metadata": {
    "jp-MarkdownHeadingCollapsed": true,
    "tags": []
   },
   "source": [
    "### 1.1 APRESENTAÇÃO\n",
    "\n",
    "        A grafita possui grande importância industrial e sua demanda tem aumentado devido aos novos usos com potencial de crescimento ainda maior com a ascensão dos motores elétricos em detrimento dos motores à combustão e a necessidade de baterias de alta capacidade para aqueles. Assim, este material tem se tornado estratégico com os preços da grafita de alto teor (grafita em flocos) ultrapassando a casa dos milhares de dólares por toneladas métricas dependendo do tamanho dos flocos."
   ]
  },
  {
   "cell_type": "markdown",
   "id": "7ea72172-fc57-44a7-96c2-03a77ae79236",
   "metadata": {
    "jp-MarkdownHeadingCollapsed": true,
    "tags": []
   },
   "source": [
    "### 1.2 OBJETIVOS\n",
    "\n",
    "        Esta pesquisa tem como objetivo a prospecção de áreas potenciais de mineralização de minério de grafita no sistema de nappes de Socorro–Guaxupé com o auxílio das técnicas de aprendizagem de máquina supervisionada e não-supervisionada com dados de sensores aeroportados e orbitais desenvolvendo mapas preditivos litológicos e prospectivo mineral. "
   ]
  },
  {
   "cell_type": "markdown",
   "id": "6f5e32a6-4731-4d4b-a035-52b38a3d489e",
   "metadata": {
    "jp-MarkdownHeadingCollapsed": true,
    "tags": []
   },
   "source": [
    "### 1.3 ÁREA DE ESTUDO\n",
    "\n",
    "        O estudo tem como foco a área dos terrenos granulíticos do nordeste do estado de São Paulo, divisa com o estado de Minas Gerais, região em que as rochas sofreram um alto grau de metamorfismo possibilitando a mineralização de grafita nas camadas onde se atingiu a facies granulito. \n",
    " "
   ]
  },
  {
   "cell_type": "markdown",
   "id": "2a55a3aa-95cf-4090-a82d-42b65939907f",
   "metadata": {
    "jp-MarkdownHeadingCollapsed": true,
    "tags": []
   },
   "source": [
    "##  II. CONTEXTO GEOLÓGICO        "
   ]
  },
  {
   "cell_type": "markdown",
   "id": "60bbf570-8c7d-4c03-9551-2ec25f6efb46",
   "metadata": {},
   "source": [
    "### 2.1 NAPPE SOCORRO"
   ]
  },
  {
   "cell_type": "markdown",
   "id": "7f8a6087-f507-41f0-9830-c765d9524682",
   "metadata": {},
   "source": [
    "### 2.2 NAPPE GUAXUPÉ"
   ]
  },
  {
   "cell_type": "markdown",
   "id": "b9cf1e2a-b8aa-4da4-8f5b-f02cfeb38066",
   "metadata": {
    "jp-MarkdownHeadingCollapsed": true,
    "tags": []
   },
   "source": [
    "## III. A GRAFITA"
   ]
  },
  {
   "cell_type": "markdown",
   "id": "4ff549d3-cda3-48e8-b337-dc7f73b4b4c0",
   "metadata": {
    "jp-MarkdownHeadingCollapsed": true,
    "tags": []
   },
   "source": [
    "### 3.1 APRESENTAÇÃO\t\n"
   ]
  },
  {
   "cell_type": "markdown",
   "id": "75e31255-71a8-43ae-981c-2218f18d89b4",
   "metadata": {},
   "source": [
    "### 3.2 OCORRÊNCIA\t"
   ]
  },
  {
   "cell_type": "markdown",
   "id": "04544b0d-589b-4039-a2b5-e75e59075323",
   "metadata": {
    "jp-MarkdownHeadingCollapsed": true,
    "tags": []
   },
   "source": [
    "### 3.3 TIPOS DE MINERALIZAÇÃO DE GRAFITA"
   ]
  },
  {
   "cell_type": "markdown",
   "id": "f21767ff-6091-4513-a0c4-ecfdfefa38ff",
   "metadata": {},
   "source": [
    "### 3.4 GRAFITA NO SISTEMA DE NAPPES SOCORRO –GUAXUPÉ\t"
   ]
  },
  {
   "cell_type": "markdown",
   "id": "e173e69e-f7e8-4ba6-a7c3-14572b00fc60",
   "metadata": {
    "jp-MarkdownHeadingCollapsed": true,
    "tags": []
   },
   "source": [
    "## IV. MATERIAIS\t"
   ]
  },
  {
   "cell_type": "markdown",
   "id": "b4b54d41-d98f-416b-be5a-c3ea8f02b0e8",
   "metadata": {},
   "source": [
    "### 4.1 APRESENTAÇÃO\t"
   ]
  },
  {
   "cell_type": "markdown",
   "id": "52fc7b95-5526-49b8-aa6e-a5104058d972",
   "metadata": {},
   "source": [
    "### 4.2 PROJETOS AEROGEOFÍSICOS\t"
   ]
  },
  {
   "cell_type": "markdown",
   "id": "95dcffca-51c5-4a25-95de-3a00a2eb4444",
   "metadata": {},
   "source": [
    "#### 4.2.1 SÃO JOSÉ DOS CAMPOS – RESENDE"
   ]
  },
  {
   "cell_type": "markdown",
   "id": "e7858fe3-8b7f-4524-8bb7-44038ae761cd",
   "metadata": {},
   "source": [
    "#### 4.2.2 SÃO PAULO – RIO DE JANEIRO (ÁREA SÃO PAULO)\t"
   ]
  },
  {
   "cell_type": "markdown",
   "id": "04d7fa6a-8591-4ab9-9753-77403fd8e629",
   "metadata": {},
   "source": [
    "#### 4.2.3 ÁREA 14 MINAS GERAIS – POÇOS DE CALDAS – VARGINHA – ANDRELÂNDIA\t"
   ]
  },
  {
   "cell_type": "markdown",
   "id": "81b867cb-5ecf-4e60-823f-b546478ae960",
   "metadata": {},
   "source": [
    "### 4.3 FERRAMENTAS"
   ]
  },
  {
   "cell_type": "markdown",
   "id": "dbdef09f-0972-456f-b816-0c760c33d009",
   "metadata": {
    "jp-MarkdownHeadingCollapsed": true,
    "tags": []
   },
   "source": [
    "## V. MÉTODOS"
   ]
  },
  {
   "cell_type": "markdown",
   "id": "6bd7012e-8b38-4e65-a76f-c0709c8b6cd8",
   "metadata": {},
   "source": [
    "### 5.1 APRESENTAÇÃO\t\n"
   ]
  },
  {
   "cell_type": "markdown",
   "id": "4dd3fb18-d8b3-4fca-950c-ab6c5828aed1",
   "metadata": {
    "jp-MarkdownHeadingCollapsed": true,
    "tags": []
   },
   "source": [
    "### 5.2 MÉTODO AEROMAGNETOMÉTRICO\t"
   ]
  },
  {
   "cell_type": "markdown",
   "id": "93db8bf1-32be-4aea-b3d8-bfb68378ee3d",
   "metadata": {
    "jp-MarkdownHeadingCollapsed": true,
    "tags": []
   },
   "source": [
    "### 5.3 PROCESSAMENTO DE DADOS AEROMAGNETOMÉTRICOS\t"
   ]
  },
  {
   "cell_type": "markdown",
   "id": "f2e97743-e41e-43ee-bf5c-39a647b26301",
   "metadata": {},
   "source": [
    "#### 5.3.1 Pré-processamento dos dados aeromagnetométricos\t"
   ]
  },
  {
   "cell_type": "markdown",
   "id": "155d71be-e113-4ba2-b144-4074dda128b6",
   "metadata": {},
   "source": [
    "#### 5.3.2 Interpolação dos dados aeromagnetométricos\t\n",
    "\t"
   ]
  },
  {
   "cell_type": "markdown",
   "id": "5b095a2e-2ec9-49ec-aa05-0782a06aa204",
   "metadata": {},
   "source": [
    "#### 5.3.3 Amplitude do Sinal Analítico\t\n",
    " \n"
   ]
  },
  {
   "cell_type": "markdown",
   "id": "1519a0c0-7aca-4224-ba1a-137aa48fdf1a",
   "metadata": {},
   "source": [
    "#### 5.3.4 Gradiente Horizontal Total"
   ]
  },
  {
   "cell_type": "markdown",
   "id": "da57d42d-0182-4991-a7e7-6dda693b0c33",
   "metadata": {
    "jp-MarkdownHeadingCollapsed": true,
    "tags": []
   },
   "source": [
    "### 5.4 MÉTODO AEROGAMAESPECTROMÉTRICO\t\n"
   ]
  },
  {
   "cell_type": "markdown",
   "id": "8e72dabc-5d6d-4e72-9fa5-e679e4a2263b",
   "metadata": {
    "jp-MarkdownHeadingCollapsed": true,
    "tags": []
   },
   "source": [
    "### 5.5 PROCESSAMENTO DE DADOS AEROGAMAESPECTROMÉTRICOS\t"
   ]
  },
  {
   "cell_type": "markdown",
   "id": "fc5265d4-5d73-4a35-bd10-a0a893613b24",
   "metadata": {},
   "source": [
    "#### 5.5.1 Pré-processamento dos dados aerogamaespectrométricos\t\n",
    "\t"
   ]
  },
  {
   "cell_type": "markdown",
   "id": "e032b9a3-9d88-4548-b8d3-514e417d0316",
   "metadata": {},
   "source": [
    "#### 5.5.2 Interpolação dos dados gama espectrométricos"
   ]
  },
  {
   "cell_type": "markdown",
   "id": "e533280b-cff1-4b1b-906c-297f534527a5",
   "metadata": {},
   "source": [
    "#### 5.5.3 Mapas ternários"
   ]
  },
  {
   "cell_type": "markdown",
   "id": "ffbde290-e1cf-4c19-915a-446a69287d08",
   "metadata": {
    "jp-MarkdownHeadingCollapsed": true,
    "tags": []
   },
   "source": [
    "### 5.6 MÉTODOS DE CLASSIFICAÇÃO NÃO-SUPERVISIONADA\t"
   ]
  },
  {
   "cell_type": "markdown",
   "id": "5ced87f9-dc70-427d-a281-80cdfa59a8ff",
   "metadata": {},
   "source": [
    "#### 5.6.1 SELF-ORGANIZING MAPS (SOM)\t\n"
   ]
  },
  {
   "cell_type": "markdown",
   "id": "bfa7838f-ab08-4279-8810-476b285b99b0",
   "metadata": {
    "jp-MarkdownHeadingCollapsed": true,
    "tags": []
   },
   "source": [
    "### 5.7 MÉTODOS DE CLASSIFICAÇÃO SUPERVISIONADA\t"
   ]
  },
  {
   "cell_type": "markdown",
   "id": "7dbd4fab-2e34-404a-a89b-607794ef8621",
   "metadata": {},
   "source": [
    "#### 5.7.1 RANDOM FORESTS\t\n",
    " \n"
   ]
  },
  {
   "cell_type": "markdown",
   "id": "97f0d05c-2bf6-4efe-8008-233ff7457a5a",
   "metadata": {},
   "source": [
    "#### 5.7.1 SUPPORT VECTOR MACHINES\t\n"
   ]
  },
  {
   "cell_type": "markdown",
   "id": "1e7fef6b-5e72-4540-b96b-a8602ad8bf3e",
   "metadata": {
    "jp-MarkdownHeadingCollapsed": true,
    "tags": []
   },
   "source": [
    "## VI. RESULTADOS E DISCUSSÕES\t\n"
   ]
  },
  {
   "cell_type": "markdown",
   "id": "5f677f80-5762-4268-a7f4-6bfab8983a86",
   "metadata": {},
   "source": [
    "### 6.1 APRESENTAÇÃO\t\n"
   ]
  },
  {
   "cell_type": "markdown",
   "id": "a4f8eda2-65ae-4b88-b584-6b96fdac56f6",
   "metadata": {},
   "source": [
    "### 6.2 INTERPRETAÇÃO DOS DADOS AEROMAGNETOMÉTRICOS"
   ]
  },
  {
   "cell_type": "markdown",
   "id": "e9acc07b-08ed-4ff2-91c9-1443a9336138",
   "metadata": {},
   "source": [
    "## VII. CONCLUSÕES\n"
   ]
  },
  {
   "cell_type": "markdown",
   "id": "be71294f-6167-4458-9ef7-8e0812ec90f1",
   "metadata": {},
   "source": [
    "## VIII. BIBLIOGRAFIA\n"
   ]
  }
 ],
 "metadata": {
  "kernelspec": {
   "display_name": "Python 3 (ipykernel)",
   "language": "python",
   "name": "python3"
  },
  "language_info": {
   "codemirror_mode": {
    "name": "ipython",
    "version": 3
   },
   "file_extension": ".py",
   "mimetype": "text/x-python",
   "name": "python",
   "nbconvert_exporter": "python",
   "pygments_lexer": "ipython3",
   "version": "3.10.9"
  }
 },
 "nbformat": 4,
 "nbformat_minor": 5
}
