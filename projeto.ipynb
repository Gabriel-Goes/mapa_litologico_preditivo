{
 "cells": [
  {
   "cell_type": "markdown",
   "metadata": {
    "tags": []
   },
   "source": [
    "# Imports"
   ]
  },
  {
   "cell_type": "code",
   "execution_count": 1,
   "metadata": {},
   "outputs": [
    {
     "name": "stderr",
     "output_type": "stream",
     "text": [
      "/home/ggrl/.config/ambiente_geologico/lib/python3.10/site-packages/geopandas/_compat.py:112: UserWarning: The Shapely GEOS version (3.10.2-CAPI-1.16.0) is incompatible with the GEOS version PyGEOS was compiled with (3.10.4-CAPI-1.16.2). Conversions between both will be slow.\n",
      "  warnings.warn(\n"
     ]
    }
   ],
   "source": [
<<<<<<< HEAD
    "from src import *\n",
    "from verde_source import regular, interp_at\n",
=======
    "#from src import Build_mc,Upload_geof,Upload_geof_geografica,Upload_litologia,plot_filtered_values,plot_raw_mag_data,plot_raw_gama_data,plot_histograms,plot_interpolated_histograms,describe_geologico, plotBoxplots,remove_negative_values,sintetic_grid,traditional_interpolation,plot_interpolated_histograms,pop_nodata\n",
    "from src import *\n",
    "from pylab import *\n",
>>>>>>> dev
    "\n",
    "from tqdm import tqdm\n",
    "from shapely.ops import transform\n",
    "from shapely.geometry import Point, Polygon\n",
    "\n",
<<<<<<< HEAD
    "import verde as vd\n",
=======
>>>>>>> dev
    "import matplotlib.pyplot as plt\n",
    "import pandas as pd\n",
    "import numpy as np\n",
    "import geopandas as gpd\n",
    "import pyproj\n",
<<<<<<< HEAD
    "import os\n",
    "\n",
=======
    "import verde_source as vds\n",
    "\n",
    "import seaborn as sns\n",
    "import xarray as xr\n",
    "import matplotlib\n",
    "\n",
    "from sklearn_som.som import SOM\n",
    "from sklearn.preprocessing import StandardScaler"
   ]
  },
  {
   "cell_type": "code",
   "execution_count": 2,
   "metadata": {},
   "outputs": [],
   "source": [
>>>>>>> dev
    "import warnings\n",
    "warnings.filterwarnings(\"ignore\")\n",
    "%matplotlib widget\n",
    "%load_ext autoreload\n",
    "%autoreload 2\n",
<<<<<<< HEAD
    "\n",
    "%matplotlib inline"
=======
    "%reload_ext autoreload"
>>>>>>> dev
   ]
  },
  {
   "cell_type": "markdown",
   "metadata": {},
   "source": [
    "# Parâmetros para visualização "
   ]
  },
  {
   "cell_type": "code",
   "execution_count": 3,
   "metadata": {},
<<<<<<< HEAD
   "outputs": [],
   "source": [
    "FEAT=['CTCOR','eTh','eU','KPERC','UTHRAZAO','UKRAZAO','THKRAZAO','MDT','MAGIGRF']\n",
    "titles=['Contagem Total', 'Th (ppm)', 'U (ppm)','K (%)','U/Th', 'U/K', 'Th/K', 'MDT (m)','Anomalia de Campo (n/T)']\n",
    "\n",
    "# Titulos                                                                                   \n",
    "dic_titles = {}                                                                        \n",
    "for f, t in zip(FEAT, titles):\n",
    "    dic_titles[f] = t\n",
    "    \n",
    "# Percentiles          \n",
    "percentiles=(0.001,0.01,0.05,0.25,0.5,0.75,0.9995)"
   ]
  },
  {
   "cell_type": "code",
   "execution_count": 4,
   "metadata": {},
=======
>>>>>>> dev
   "outputs": [
    {
     "data": {
      "text/plain": [
       "\"def sintetic_grider(quadricula=None,p_size=None):\\n    ids = list(quadricula.keys())\\n    wgs84=pyproj.CRS('EPSG:4326')\\n    for id in tqdm(ids):\\n        folha = quadricula[id]['folha']\\n        utm = pyproj.CRS('EPSG:'+folha['EPSG'])\\n        carta_geografica = folha['geometry']\\n        project = pyproj.Transformer.from_crs(wgs84,utm, always_xy=True).transform\\n        carta_utm = transform(project,carta_geografica)\\n        break\\n\""
      ]
     },
     "execution_count": 3,
     "metadata": {},
     "output_type": "execute_result"
    }
   ],
   "source": [
<<<<<<< HEAD
    "# lista de dados disponíveis\n",
    "\n",
    "list_geof = os.listdir('/home/ggrl/database/geof/')\n",
    "list_geof"
=======
    "'''def sintetic_grider(quadricula=None,p_size=None):\n",
    "    ids = list(quadricula.keys())\n",
    "    wgs84=pyproj.CRS('EPSG:4326')\n",
    "    for id in tqdm(ids):\n",
    "        folha = quadricula[id]['folha']\n",
    "        utm = pyproj.CRS('EPSG:'+folha['EPSG'])\n",
    "        carta_geografica = folha['geometry']\n",
    "        project = pyproj.Transformer.from_crs(wgs84,utm, always_xy=True).transform\n",
    "        carta_utm = transform(project,carta_geografica)\n",
    "        break\n",
    "'''"
>>>>>>> dev
   ]
  },
  {
   "cell_type": "markdown",
   "metadata": {
    "tags": []
   },
   "source": [
<<<<<<< HEAD
    "# Préprocessamento dos Dados"
=======
    "## Construindo Quadrícula"
   ]
  },
  {
   "cell_type": "code",
   "execution_count": 3,
   "metadata": {
    "tags": []
   },
   "outputs": [
    {
     "name": "stderr",
     "output_type": "stream",
     "text": [
      "  0%|                                            | 0/4 [00:00<?, ?it/s]\n"
     ]
    },
    {
     "ename": "AttributeError",
     "evalue": "'GeoDataFrame' object has no attribute 'append'",
     "output_type": "error",
     "traceback": [
      "\u001b[0;31m---------------------------------------------------------------------------\u001b[0m",
      "\u001b[0;31mAttributeError\u001b[0m                            Traceback (most recent call last)",
      "\u001b[0;32m/tmp/ipykernel_4181/2212415174.py\u001b[0m in \u001b[0;36m?\u001b[0;34m()\u001b[0m\n\u001b[0;32m----> 1\u001b[0;31m \u001b[0mquadricula\u001b[0m \u001b[0;34m=\u001b[0m \u001b[0mBuild_mc\u001b[0m\u001b[0;34m(\u001b[0m\u001b[0mescala\u001b[0m\u001b[0;34m=\u001b[0m\u001b[0;34m'100k'\u001b[0m\u001b[0;34m,\u001b[0m\u001b[0mID\u001b[0m\u001b[0;34m=\u001b[0m\u001b[0;34m[\u001b[0m\u001b[0;34m'SF23_VD'\u001b[0m\u001b[0;34m,\u001b[0m\u001b[0;34m'SF23_VC'\u001b[0m\u001b[0;34m,\u001b[0m\u001b[0;34m'SF23_YA'\u001b[0m\u001b[0;34m,\u001b[0m\u001b[0;34m'SF23_YB'\u001b[0m\u001b[0;34m]\u001b[0m\u001b[0;34m,\u001b[0m\u001b[0mverbose\u001b[0m\u001b[0;34m=\u001b[0m\u001b[0;32mTrue\u001b[0m\u001b[0;34m)\u001b[0m\u001b[0;34m\u001b[0m\u001b[0;34m\u001b[0m\u001b[0m\n\u001b[0m",
      "\u001b[0;32m~/projetos/geologist/src.py\u001b[0m in \u001b[0;36m?\u001b[0;34m(escala, ID, verbose)\u001b[0m\n\u001b[1;32m    779\u001b[0m \u001b[0;32mdef\u001b[0m \u001b[0mBuild_mc\u001b[0m\u001b[0;34m(\u001b[0m\u001b[0mescala\u001b[0m\u001b[0;34m=\u001b[0m\u001b[0;34m'50k'\u001b[0m\u001b[0;34m,\u001b[0m\u001b[0mID\u001b[0m\u001b[0;34m=\u001b[0m\u001b[0;34m[\u001b[0m\u001b[0;34m'SF23_YA'\u001b[0m\u001b[0;34m]\u001b[0m\u001b[0;34m,\u001b[0m\u001b[0mverbose\u001b[0m\u001b[0;34m=\u001b[0m\u001b[0;32mNone\u001b[0m\u001b[0;34m)\u001b[0m\u001b[0;34m:\u001b[0m\u001b[0;34m\u001b[0m\u001b[0;34m\u001b[0m\u001b[0m\n\u001b[0;32m--> 780\u001b[0;31m     \u001b[0mmc\u001b[0m \u001b[0;34m=\u001b[0m \u001b[0mimport_mc\u001b[0m\u001b[0;34m(\u001b[0m\u001b[0mescala\u001b[0m\u001b[0;34m,\u001b[0m\u001b[0mID\u001b[0m\u001b[0;34m)\u001b[0m\u001b[0;34m\u001b[0m\u001b[0;34m\u001b[0m\u001b[0m\n\u001b[0m\u001b[1;32m    781\u001b[0m     \u001b[0mmc\u001b[0m\u001b[0;34m.\u001b[0m\u001b[0mset_index\u001b[0m\u001b[0;34m(\u001b[0m\u001b[0;34m'id_folha'\u001b[0m\u001b[0;34m,\u001b[0m\u001b[0minplace\u001b[0m\u001b[0;34m=\u001b[0m\u001b[0;32mTrue\u001b[0m\u001b[0;34m)\u001b[0m\u001b[0;34m\u001b[0m\u001b[0;34m\u001b[0m\u001b[0m\n\u001b[1;32m    782\u001b[0m     \u001b[0mquadricula\u001b[0m \u001b[0;34m=\u001b[0m \u001b[0;34m{\u001b[0m\u001b[0;34m}\u001b[0m\u001b[0;34m\u001b[0m\u001b[0;34m\u001b[0m\u001b[0m\n\u001b[1;32m    783\u001b[0m     \u001b[0mwgs84\u001b[0m \u001b[0;34m=\u001b[0m \u001b[0mpyproj\u001b[0m\u001b[0;34m.\u001b[0m\u001b[0mCRS\u001b[0m\u001b[0;34m(\u001b[0m\u001b[0;34m'EPSG:4326'\u001b[0m\u001b[0;34m)\u001b[0m\u001b[0;34m\u001b[0m\u001b[0;34m\u001b[0m\u001b[0m\n",
      "\u001b[0;32m~/projetos/geologist/src.py\u001b[0m in \u001b[0;36m?\u001b[0;34m(escala, ID)\u001b[0m\n\u001b[1;32m     83\u001b[0m     \u001b[0mmc\u001b[0m \u001b[0;34m=\u001b[0m \u001b[0mgpd\u001b[0m\u001b[0;34m.\u001b[0m\u001b[0mread_file\u001b[0m\u001b[0;34m(\u001b[0m\u001b[0mset_gdb\u001b[0m\u001b[0;34m(\u001b[0m\u001b[0;34m'geodatabase.gpkg'\u001b[0m\u001b[0;34m)\u001b[0m\u001b[0;34m,\u001b[0m\u001b[0mdriver\u001b[0m\u001b[0;34m=\u001b[0m\u001b[0;34m'GPKG'\u001b[0m\u001b[0;34m,\u001b[0m\u001b[0mlayer\u001b[0m\u001b[0;34m=\u001b[0m\u001b[0;34m'mc_'\u001b[0m\u001b[0;34m+\u001b[0m\u001b[0mescala\u001b[0m\u001b[0;34m)\u001b[0m\u001b[0;34m\u001b[0m\u001b[0;34m\u001b[0m\u001b[0m\n\u001b[1;32m     84\u001b[0m     \u001b[0mmc_slct\u001b[0m \u001b[0;34m=\u001b[0m \u001b[0mgpd\u001b[0m\u001b[0;34m.\u001b[0m\u001b[0mGeoDataFrame\u001b[0m\u001b[0;34m(\u001b[0m\u001b[0;34m)\u001b[0m\u001b[0;34m\u001b[0m\u001b[0;34m\u001b[0m\u001b[0m\n\u001b[1;32m     85\u001b[0m     \u001b[0;32mif\u001b[0m \u001b[0mtype\u001b[0m\u001b[0;34m(\u001b[0m\u001b[0mID\u001b[0m\u001b[0;34m)\u001b[0m \u001b[0;34m==\u001b[0m \u001b[0mlist\u001b[0m\u001b[0;34m:\u001b[0m\u001b[0;34m\u001b[0m\u001b[0;34m\u001b[0m\u001b[0m\n\u001b[1;32m     86\u001b[0m         \u001b[0;32mfor\u001b[0m \u001b[0mid\u001b[0m \u001b[0;32min\u001b[0m \u001b[0mtqdm\u001b[0m\u001b[0;34m(\u001b[0m\u001b[0mID\u001b[0m\u001b[0;34m)\u001b[0m\u001b[0;34m:\u001b[0m\u001b[0;34m\u001b[0m\u001b[0;34m\u001b[0m\u001b[0m\n\u001b[0;32m---> 87\u001b[0;31m             \u001b[0mmc_slct\u001b[0m \u001b[0;34m=\u001b[0m \u001b[0mmc_slct\u001b[0m\u001b[0;34m.\u001b[0m\u001b[0mappend\u001b[0m\u001b[0;34m(\u001b[0m\u001b[0mmc\u001b[0m\u001b[0;34m[\u001b[0m\u001b[0mmc\u001b[0m\u001b[0;34m[\u001b[0m\u001b[0;34m'id_folha'\u001b[0m\u001b[0;34m]\u001b[0m\u001b[0;34m.\u001b[0m\u001b[0mstr\u001b[0m\u001b[0;34m.\u001b[0m\u001b[0mcontains\u001b[0m\u001b[0;34m(\u001b[0m\u001b[0mid\u001b[0m\u001b[0;34m)\u001b[0m\u001b[0;34m]\u001b[0m\u001b[0;34m)\u001b[0m\u001b[0;34m\u001b[0m\u001b[0;34m\u001b[0m\u001b[0m\n\u001b[0m\u001b[1;32m     88\u001b[0m         \u001b[0;32mreturn\u001b[0m \u001b[0mmc_slct\u001b[0m\u001b[0;34m\u001b[0m\u001b[0;34m\u001b[0m\u001b[0m\n\u001b[1;32m     89\u001b[0m     \u001b[0;32melif\u001b[0m \u001b[0mtype\u001b[0m\u001b[0;34m(\u001b[0m\u001b[0mID\u001b[0m\u001b[0;34m)\u001b[0m \u001b[0;34m==\u001b[0m \u001b[0mstr\u001b[0m\u001b[0;34m:\u001b[0m\u001b[0;34m\u001b[0m\u001b[0;34m\u001b[0m\u001b[0m\n\u001b[1;32m     90\u001b[0m         \u001b[0mmc_slct\u001b[0m \u001b[0;34m=\u001b[0m \u001b[0mmc\u001b[0m\u001b[0;34m[\u001b[0m\u001b[0mmc\u001b[0m\u001b[0;34m[\u001b[0m\u001b[0;34m'id_folha'\u001b[0m\u001b[0;34m]\u001b[0m \u001b[0;34m==\u001b[0m \u001b[0mID\u001b[0m\u001b[0;34m]\u001b[0m\u001b[0;34m\u001b[0m\u001b[0;34m\u001b[0m\u001b[0m\n",
      "\u001b[0;32m~/.config/ambiente_geologico/lib/python3.11/site-packages/pandas/core/generic.py\u001b[0m in \u001b[0;36m?\u001b[0;34m(self, name)\u001b[0m\n\u001b[1;32m   5985\u001b[0m             \u001b[0;32mand\u001b[0m \u001b[0mname\u001b[0m \u001b[0;32mnot\u001b[0m \u001b[0;32min\u001b[0m \u001b[0mself\u001b[0m\u001b[0;34m.\u001b[0m\u001b[0m_accessors\u001b[0m\u001b[0;34m\u001b[0m\u001b[0;34m\u001b[0m\u001b[0m\n\u001b[1;32m   5986\u001b[0m             \u001b[0;32mand\u001b[0m \u001b[0mself\u001b[0m\u001b[0;34m.\u001b[0m\u001b[0m_info_axis\u001b[0m\u001b[0;34m.\u001b[0m\u001b[0m_can_hold_identifiers_and_holds_name\u001b[0m\u001b[0;34m(\u001b[0m\u001b[0mname\u001b[0m\u001b[0;34m)\u001b[0m\u001b[0;34m\u001b[0m\u001b[0;34m\u001b[0m\u001b[0m\n\u001b[1;32m   5987\u001b[0m         ):\n\u001b[1;32m   5988\u001b[0m             \u001b[0;32mreturn\u001b[0m \u001b[0mself\u001b[0m\u001b[0;34m[\u001b[0m\u001b[0mname\u001b[0m\u001b[0;34m]\u001b[0m\u001b[0;34m\u001b[0m\u001b[0;34m\u001b[0m\u001b[0m\n\u001b[0;32m-> 5989\u001b[0;31m         \u001b[0;32mreturn\u001b[0m \u001b[0mobject\u001b[0m\u001b[0;34m.\u001b[0m\u001b[0m__getattribute__\u001b[0m\u001b[0;34m(\u001b[0m\u001b[0mself\u001b[0m\u001b[0;34m,\u001b[0m \u001b[0mname\u001b[0m\u001b[0;34m)\u001b[0m\u001b[0;34m\u001b[0m\u001b[0;34m\u001b[0m\u001b[0m\n\u001b[0m",
      "\u001b[0;31mAttributeError\u001b[0m: 'GeoDataFrame' object has no attribute 'append'"
     ]
    }
   ],
   "source": [
    "quadricula = Build_mc(escala='100k',ID=['SF23_VD','SF23_VC','SF23_YA','SF23_YB'],verbose=True)"
   ]
  },
  {
   "cell_type": "code",
   "execution_count": null,
   "metadata": {},
   "outputs": [],
   "source": [
    "list_ids = list(quadricula.keys())\n",
    "#print(list_ids)\n",
    "\n",
    "'''\n",
    "for id in list_ids:\n",
    "    print(f' - Folha: {id}')\n",
    "    carta=quadricula[id]\n",
    "    data_list = list(carta.keys())\n",
    "    print(data_list)\n",
    "    for data in data_list[4:]:\n",
    "        print(f'    - {data}')\n",
    "        print(f'        - {list(quadricula[id][data].columns)}')\n",
    "'''    \n",
    "def print_quadriculas(quadricula=quadricula):\n",
    "    list_ids = list(quadricula.keys())\n",
    "    for id in list_ids:\n",
    "        print(f' - Folha {id}')\n",
    "        carta = quadricula[id]\n",
    "        list_carta_keys = list(carta.keys())\n",
    "        print(f'    - {list_carta_keys}:')\n",
    "        for key in list_carta_keys:\n",
    "            print(carta[key])\n",
    "            print('')"
   ]
  },
  {
   "cell_type": "code",
   "execution_count": null,
   "metadata": {
    "tags": []
   },
   "outputs": [],
   "source": [
    "print_quadriculas(quadricula)"
>>>>>>> dev
   ]
  },
  {
   "cell_type": "markdown",
   "metadata": {
<<<<<<< HEAD
    "jp-MarkdownHeadingCollapsed": true,
    "tags": []
   },
   "source": [
    "## Construindo Quadrícula"
=======
    "tags": []
   },
   "source": [
    "### Construindo grid regular sintético"
   ]
  },
  {
   "cell_type": "markdown",
   "metadata": {
    "tags": []
   },
   "source": [
    "_Verde gridder_"
   ]
  },
  {
   "cell_type": "code",
   "execution_count": null,
   "metadata": {},
   "outputs": [],
   "source": [
    "from verde import grid_coordinates"
>>>>>>> dev
   ]
  },
  {
   "cell_type": "code",
   "execution_count": null,
   "metadata": {
<<<<<<< HEAD
    "scrolled": true,
=======
>>>>>>> dev
    "tags": []
   },
   "outputs": [],
   "source": [
<<<<<<< HEAD
    "quadricula = Build_mc(escala='50k',ID=['SF23_VC','SF23_VD','SF23_YA','SF23_YB'],verbose=True)"
=======
    "def batch_grid_coordinates(quadricula,spacing=0.001,pixel_register=True):\n",
    "    list_id = list(quadricula.keys())\n",
    "    \n",
    "    #print(f' Folhas disponíveis: {list_id}')\n",
    "    for id in list_id:\n",
    "        folha = quadricula[id]\n",
    "        print(f' Folha  {id}')\n",
    "\n",
    "        df = quadricula[id]['folha']\n",
    "        area = (df['geometry'].bounds[0],df['geometry'].bounds[2],\n",
    "                df['geometry'].bounds[1],df['geometry'].bounds[3])\n",
    "        \n",
    "        xu,yu = grid_coordinates(region=area,spacing=spacing,pixel_register=pixel_register)\n",
    "       \n",
    "        df['coords'] = xu,yu\n",
    "        df['area'] = area\n",
    "        x={'area':df}\n",
    "        quadricula[id].update(x)\n",
    "        \n",
    "\n",
    "batch_grid_coordinates(quadricula)"
   ]
  },
  {
   "cell_type": "code",
   "execution_count": null,
   "metadata": {
    "tags": []
   },
   "outputs": [],
   "source": [
    "print_quadriculas(quadricula)"
   ]
  },
  {
   "cell_type": "code",
   "execution_count": null,
   "metadata": {
    "tags": []
   },
   "outputs": [],
   "source": [
    "quadricula['SF23_YA_V']['area']['coords']"
   ]
  },
  {
   "cell_type": "code",
   "execution_count": null,
   "metadata": {
    "tags": []
   },
   "outputs": [],
   "source": [
    "quadricula['SF23_YA_V']['folha']['coords']"
>>>>>>> dev
   ]
  },
  {
   "cell_type": "markdown",
   "metadata": {
<<<<<<< HEAD
    "jp-MarkdownHeadingCollapsed": true,
=======
>>>>>>> dev
    "tags": []
   },
   "source": [
    "## Adicionando dados brutos à Quadrícula"
   ]
  },
  {
   "cell_type": "code",
   "execution_count": null,
   "metadata": {
    "tags": []
   },
   "outputs": [],
   "source": [
<<<<<<< HEAD
    "gama_3022,mag_3022=Upload_geof(quadricula,'gama_3022','mag_3022',1100)\n",
    "gama_1105,mag_1105=Upload_geof(quadricula,'gama_line_1105','mag_line_1105',1100)\n",
    "gama_1039,mag_1039=Upload_geof(quadricula,'gama_1039','mag_1039',1100)"
   ]
  },
  {
   "cell_type": "markdown",
   "metadata": {
    "tags": []
   },
   "source": [
    "geof_list_ids = list(quadricula.keys())\n",
    "\n",
    "print(len(geof_list_ids))\n",
=======
    "#Upload_geof(quadricula,'gama_line_1105','mag_line_1105',1000)\n",
    "#gama_1039,mag_1039=Upload_geof(quadricula,'gama_1039','mag_1039',1000)\n",
    "\n",
    "Upload_geof_geografica(quadricula,'gama_line_1105','mag_line_1105',0.01)"
   ]
  },
  {
   "cell_type": "code",
   "execution_count": null,
   "metadata": {
    "tags": []
   },
   "outputs": [],
   "source": [
    "Upload_geof_geografica(quadricula,'gama_line_1089','mag_line_1089')"
   ]
  },
  {
   "cell_type": "code",
   "execution_count": null,
   "metadata": {},
   "outputs": [],
   "source": [
    "quadricula['SF23_YA_III']['gama_line_1105'].head()"
   ]
  },
  {
   "cell_type": "code",
   "execution_count": null,
   "metadata": {
    "tags": []
   },
   "outputs": [],
   "source": [
    "geof_list_ids = list(quadricula.keys())\n",
>>>>>>> dev
    "for id in geof_list_ids:\n",
    "    print(f' - Folha: {id}')\n",
    "    carta=quadricula[id]\n",
    "    data_list = list(carta.keys())\n",
    "    print(data_list)\n",
    "    for data in data_list[4:]:\n",
    "        print(f'    - {data}')\n",
    "        print(f'        - {list(quadricula[id][data].columns)}')\n",
    "    print('')\n"
   ]
  },
  {
   "cell_type": "code",
   "execution_count": null,
   "metadata": {},
   "outputs": [],
   "source": [
    "quadricula=pop_nodata(quadricula)\n",
    "len(quadricula.keys())"
   ]
  },
  {
   "cell_type": "code",
   "execution_count": null,
   "metadata": {
<<<<<<< HEAD
    "scrolled": true,
=======
>>>>>>> dev
    "tags": []
   },
   "outputs": [],
   "source": [
    "for id in list(quadricula.keys()):\n",
    "    \n",
    "    print(f' - Folha:  {id}')\n",
    "    carta = quadricula[id]\n",
    "    print(f'    - {list(carta.keys())}')\n",
    "    print('')"
   ]
  },
  {
   "cell_type": "markdown",
   "metadata": {
<<<<<<< HEAD
    "jp-MarkdownHeadingCollapsed": true,
=======
>>>>>>> dev
    "tags": []
   },
   "source": [
    "## Vizualisando Área de Cobertura"
   ]
  },
  {
   "cell_type": "code",
   "execution_count": null,
   "metadata": {},
   "outputs": [],
   "source": [
<<<<<<< HEAD
    "plt.figure(figsize=(21,16))\n",
=======
    "plt.figure(figsize=(9,6))\n",
    "for id in list(quadricula.keys()):\n",
    "    carta=quadricula[id]['area']\n",
    "    plt.plot(*(carta['geometry']).exterior.xy,color='black')\n",
    "    plt.axis('scaled')\n",
    "    plt.scatter(carta['coords'][0],carta['coords'][1],s=1)    \n",
    "plt.suptitle('Área de cobertura dos levantamentos aerogeofísicos')\n",
    "plt.axis('scaled')\n",
    "plt.tight_layout()"
   ]
  },
  {
   "cell_type": "code",
   "execution_count": null,
   "metadata": {},
   "outputs": [],
   "source": [
    "list(carta.keys())"
   ]
  },
  {
   "cell_type": "code",
   "execution_count": null,
   "metadata": {},
   "outputs": [],
   "source": [
    "plt.figure(figsize=(14,9))\n",
>>>>>>> dev
    "for id in list(quadricula.keys()):\n",
    "    carta=quadricula[id]\n",
    "    #print(carta.keys())\n",
    "    plt.plot(*(carta['area']['geometry_proj']).exterior.xy,color='black')\n",
    "    plt.axis('scaled')\n",
    "    for data in list(carta.keys())[:]:\n",
    "        if 'gama' in data:\n",
    "            #print(data)\n",
    "            plt.scatter(carta[data].X,carta[data].Y,c=carta[data].UTHRAZAO,cmap='hsv',s=1,marker='H')    \n",
    "        else:\n",
    "            None\n",
    "plt.suptitle('Área de cobertura dos levantamentos aerogeofísicos')\n",
    "plt.axis('scaled')\n",
    "plt.tight_layout()"
   ]
  },
  {
   "cell_type": "markdown",
   "metadata": {
<<<<<<< HEAD
    "jp-MarkdownHeadingCollapsed": true,
    "tags": []
   },
   "source": [
    "## Visualizando dados Radiométricos Brutos"
   ]
  },
  {
   "cell_type": "code",
   "execution_count": null,
   "metadata": {},
   "outputs": [],
   "source": [
    "plot_histograms(gama_3022)"
   ]
  },
  {
   "cell_type": "code",
   "execution_count": null,
   "metadata": {
    "tags": []
   },
   "outputs": [],
   "source": [
    "plot_raw_gama_data(gama_3022,suptitle='Dados Radiométricos brutos (Gama_3022.XYZ)')"
=======
    "tags": []
   },
   "source": [
    "#### Visualizando dados Radiométricos Brutos"
>>>>>>> dev
   ]
  },
  {
   "cell_type": "code",
   "execution_count": null,
   "metadata": {},
   "outputs": [],
   "source": [
<<<<<<< HEAD
    "plot_boxplots(gama_1105,FEAT)"
=======
    "df = quadricula['SF23_YA_III']['gama_line_1105']\n",
    "#remove_negative_values()"
>>>>>>> dev
   ]
  },
  {
   "cell_type": "code",
   "execution_count": null,
   "metadata": {},
   "outputs": [],
   "source": [
<<<<<<< HEAD
    "plot_histograms(gama_1105)"
   ]
  },
  {
   "cell_type": "code",
   "execution_count": null,
   "metadata": {
    "scrolled": true,
    "tags": []
   },
   "outputs": [],
   "source": [
    "plot_raw_gama_data(gama_1105,suptitle='Dados Radiométricos brutos (XYZ)')"
   ]
  },
  {
   "cell_type": "code",
   "execution_count": null,
   "metadata": {},
   "outputs": [],
   "source": [
    "#gama_1039.rename(columns={'CTC':'CTCOR','KC':'KPERC','UC':'eU','THC':'eTh'},inplace=True)\n",
    "#plot_histograms(gama_1039)\n",
    "#plot_raw_gama_data(gama_1039,suptitle='Dados Radiométricos brutos (XYZ)',orientation='vertical')"
=======
    "plot_histograms(df,500,'Levantamento 1105 Dados radiométricos brutos')"
>>>>>>> dev
   ]
  },
  {
   "cell_type": "markdown",
   "metadata": {
<<<<<<< HEAD
    "jp-MarkdownHeadingCollapsed": true,
    "tags": []
   },
   "source": [
    "## Removendo valores negativos das contagens radiométricas"
   ]
  },
  {
   "cell_type": "code",
   "execution_count": null,
   "metadata": {},
   "outputs": [],
   "source": [
    "gama_3022_positive = remove_negative_values(gama_3022)"
   ]
  },
  {
   "cell_type": "code",
   "execution_count": null,
   "metadata": {},
   "outputs": [],
   "source": []
  },
  {
   "cell_type": "code",
   "execution_count": null,
   "metadata": {},
   "outputs": [],
   "source": [
    "plot_boxplots(gama_3022_positive,FEAT)"
   ]
  },
  {
   "cell_type": "code",
   "execution_count": null,
   "metadata": {},
   "outputs": [],
   "source": [
    "plot_histograms(gama_3022_positive)"
   ]
  },
  {
   "cell_type": "code",
   "execution_count": null,
   "metadata": {},
   "outputs": [],
   "source": [
    "plot_raw_gama_data(gama_3022_positive,'Dados radiométricos tratadas : value <= 0 == 0.001')"
   ]
  },
  {
   "cell_type": "code",
   "execution_count": null,
   "metadata": {},
   "outputs": [],
   "source": [
    "gama_1105_positive = remove_negative_values(gama_1105)"
   ]
  },
  {
   "cell_type": "code",
   "execution_count": null,
   "metadata": {},
   "outputs": [],
   "source": [
    "plot_histograms(gama_1105_positive)"
   ]
  },
  {
   "cell_type": "code",
   "execution_count": null,
   "metadata": {},
   "outputs": [],
   "source": [
    "plot_boxplots(gama_1105_positive,FEAT)"
   ]
  },
  {
   "cell_type": "code",
   "execution_count": null,
   "metadata": {},
   "outputs": [],
   "source": [
    "plot_raw_gama_data(gama_1105_positive,'Dados radiométricos tratadas : value <= 0 == 0.001')"
   ]
  },
  {
   "cell_type": "code",
   "execution_count": null,
   "metadata": {},
   "outputs": [],
   "source": [
    "#gama_1039_positive=remove_negative_values(gama_1039,lista=['X','Y','LATITUDE','LONGITUDE','geometry'])\n",
    "#gama_1039_positive['UTHRAZAO']=gama_1039_positive['eU']/gama_1039_positive['eTh']\n",
    "#gama_1039_positive['UKRAZAO']=gama_1039_positive['eU']/gama_1039_positive['KPERC']\n",
    "#gama_1039_positive['THKRAZAO']=gama_1039_positive['eTh']/gama_1039_positive['KPERC']\n",
    "\n",
    "#plot_histograms(gama_1039_positive)\n",
    "#plot_raw_gama_data(gama_1039_positive,'Dados radiométricos tratadas : value <= 0 == 0.001')"
   ]
  },
  {
   "cell_type": "markdown",
   "metadata": {
    "jp-MarkdownHeadingCollapsed": true,
    "tags": []
   },
   "source": [
    "## CONSTRUINDO UM GRID SINTÉTICO"
   ]
  },
  {
   "cell_type": "code",
   "execution_count": null,
   "metadata": {},
   "outputs": [],
   "source": [
    "# REMOVING PART OF THE SINTETIC GRID\n",
    "'''\n",
    "df_xu_yu = pd.DataFrame(np.array([xu,yu]))\n",
    "df_xu_yu=df_xu_yu.T\n",
    "df_xu_yu.rename(columns={0:'xu',1:'yu'},inplace=True)\n",
    "\n",
    "df_xu_yu[(df_xu_yu.xu < 540937) & (df_xu_yu.yu > 8866937)]\n",
    "\n",
    "df_xu_yu.drop(df_xu_yu[(df_xu_yu.xu < 540937) & (df_xu_yu.yu > 8866937)].index,inplace=True)\n",
    "plt.figure(figsize=(18,12))\n",
    "\n",
    "plt.scatter(df_xu_yu.xu,df_xu_yu.yu,s=0.1,marker='.')\n",
    "plt.axis('scaled')\n",
    "'''\n",
    "\n"
   ]
  },
  {
   "cell_type": "markdown",
   "metadata": {
    "jp-MarkdownHeadingCollapsed": true,
=======
>>>>>>> dev
    "tags": []
   },
   "source": [
    "## Interpolação dos dados Brutos"
   ]
  },
  {
   "cell_type": "markdown",
<<<<<<< HEAD
   "metadata": {
    "jp-MarkdownHeadingCollapsed": true,
    "tags": []
   },
   "source": [
    "### Método Cúbico"
   ]
  },
  {
   "cell_type": "code",
   "execution_count": null,
   "metadata": {},
   "outputs": [],
   "source": [
    "# Test de área\n",
    "\n",
    "# area=(344093.45426573796, 396417.36691108724, 7621768.799495494, 7677527.304557458)\n",
    "# int((area[3]-area[2])/100),int((area[1]-area[0])/100)"
   ]
  },
  {
   "cell_type": "code",
   "execution_count": null,
=======
>>>>>>> dev
   "metadata": {
    "tags": []
   },
<<<<<<< HEAD
   "outputs": [],
   "source": [
    "#traditional_interpolation(quadricula,'mag_3022','gama_3022','cubic','geof_3022')"
   ]
  },
  {
   "cell_type": "code",
   "execution_count": null,
   "metadata": {},
   "outputs": [],
   "source": [
    "#list(quadricula['SF23_VC'].keys())"
   ]
  },
  {
   "cell_type": "code",
   "execution_count": null,
   "metadata": {
    "tags": []
   },
   "outputs": [],
   "source": [
    "\n",
    "#df = quadricula['SF23_VC']['geof_3022_cubic']\n",
    "#plt.figure(figsize=(12,12))\n",
    "#plt.scatter(x=df.X,y=df.Y,c=df.GMT,cmap='rainbow')\n",
    "#plt.axis('scaled')"
   ]
  },
  {
   "cell_type": "code",
   "execution_count": null,
   "metadata": {
    "tags": []
   },
   "outputs": [],
   "source": [
    "# Print the output. a=\n",
    "\n",
    "#descript_cubic = df.describe(percentiles)\n",
    "#descript_cubic[['eU','eTh','KPERC','CTCOR','UTHRAZAO','THKRAZAO','UKRAZAO']].T"
   ]
  },
  {
   "cell_type": "code",
   "execution_count": null,
   "metadata": {},
   "outputs": [],
   "source": [
    "#plot_histograms(geof_1089_cubic,suptitle='Distribuição dos dados radiométricos interpolados (cúbico, pixel 100m)')\n",
    "#plot_raw_data(geof_1089_cubic,suptitle='Dados radiométricos interpolados (cúbico, pixel 100m)')"
=======
   "source": [
    "## Verde Splines"
>>>>>>> dev
   ]
  },
  {
   "cell_type": "markdown",
   "metadata": {
<<<<<<< HEAD
    "jp-MarkdownHeadingCollapsed": true,
    "tags": []
   },
   "source": [
    "### Método Nearest"
   ]
  },
  {
   "cell_type": "code",
   "execution_count": null,
   "metadata": {
    "tags": []
   },
   "outputs": [],
   "source": [
    "#plot_histograms(geof_1089_nearest,suptitle='Distribuição dos dados radiométricos interpolados (nearest, pixel 100m)')"
=======
    "tags": []
   },
   "source": [
    "## Método Linear"
>>>>>>> dev
   ]
  },
  {
   "cell_type": "code",
   "execution_count": null,
   "metadata": {},
   "outputs": [],
   "source": [
<<<<<<< HEAD
    "#plot_raw_data(geof_1089_nearest,suptitle='Dados radiométricos interpolados (nearest, pixel 100m)')"
   ]
  },
  {
   "cell_type": "markdown",
   "metadata": {
    "jp-MarkdownHeadingCollapsed": true,
    "tags": []
   },
   "source": [
    "### Método Linear"
=======
    "list(quadricula['SF23_YA_III']['area'].keys())"
>>>>>>> dev
   ]
  },
  {
   "cell_type": "code",
   "execution_count": null,
<<<<<<< HEAD
   "metadata": {
    "tags": []
   },
   "outputs": [],
   "source": [
    "traditional_interpolation(quadricula,'mag_3022','gama_3022','linear','geof_3022')"
=======
   "metadata": {},
   "outputs": [],
   "source": [
    "quadricula['SF23_YA_III']['area']['area']"
>>>>>>> dev
   ]
  },
  {
   "cell_type": "code",
   "execution_count": null,
   "metadata": {
    "scrolled": true,
    "tags": []
   },
   "outputs": [],
   "source": [
<<<<<<< HEAD
    "traditional_interpolation(quadricula,'mag_line_1105','gama_line_1105','linear','geof_1105')"
=======
    "traditional_interpolation(quadricula,'mag_line_1105','gama_line_1105','linear','geof_1105',extrapolate=True,projec='geog')\n",
    "#traditional_interpolation(quadricula,'mag_1039','gama_1039','linear','geof_1039',extrapolate=True)\n",
    "#traditional_interpolation(quadricula,'mag_3022','gama_3022','linear','geof_3022')"
>>>>>>> dev
   ]
  },
  {
   "cell_type": "code",
   "execution_count": null,
<<<<<<< HEAD
   "metadata": {
    "scrolled": true,
    "tags": []
   },
   "outputs": [],
   "source": [
    "plt.figure(figsize=(24,16))\n",
    "\n",
    "# PLOTANDO A MALHA CARTOGRÁFICA\n",
    "for id in list(quadricula.keys()):\n",
    "    carta=quadricula[id]\n",
    "    plt.plot(*transform_to_carta_utm(carta['folha']).exterior.xy,color='black')\n",
    "    \n",
    "    # PLOTANDO OS DADOS INTERPOLADOS\n",
    "    for data in list(carta.keys())[2:]:        \n",
    "        if 'geof' in data:\n",
    "            plt.scatter(carta[data].X,carta[data].Y,c=carta[data].eU,cmap='rainbow',s=0.5,marker='H')\n",
    "            plt.axis('scaled')\n",
    "        # SE NÃO TIVER DADOS NÃO PLOTA NADA\n",
    "        else:\n",
    "            pass\n",
    "        \n",
    "plt.suptitle('Área de cobertura dos levantamentos aerogeofísicos')\n",
    "plt.tight_layout()"
=======
   "metadata": {},
   "outputs": [],
   "source": [
    "ds_c = quadricula['SF23_YA_III']['geof_1105_linear']\n",
    "#ds_d = quadricula['SF23_VD']['geof_1105_linear']\n",
    "#ds_a = quadricula['SF23_YA']['geof_1105_linear']\n",
    "#ds_b = quadricula['SF23_YB']['geof_1105_linear']\n"
   ]
  },
  {
   "cell_type": "code",
   "execution_count": null,
   "metadata": {},
   "outputs": [],
   "source": [
    "ds_c"
>>>>>>> dev
   ]
  },
  {
   "cell_type": "code",
   "execution_count": null,
<<<<<<< HEAD
   "metadata": {
    "tags": []
   },
   "outputs": [],
   "source": [
    "traditional_interpolation(quadricula,'mag_1039','gama_1039','linear','geof_1039')"
   ]
  },
  {
   "cell_type": "code",
   "execution_count": null,
   "metadata": {
    "scrolled": true
   },
   "outputs": [],
   "source": [
    "'''\n",
    "plt.figure(figsize=(24,16))\n",
    "\n",
    "for id in list(quadricula.keys()):\n",
    "    carta=quadricula[id]\n",
    "    plt.plot(*transform_to_carta_utm(carta['folha']).exterior.xy,color='black')\n",
    "    \n",
    "    for data in list(carta.keys())[2:]:\n",
    "        if 'geof' in data:\n",
    "            plt.scatter(carta[data].X,carta[data].Y,c=carta[data].MDT,cmap='terrain',s=0.5,marker='H')\n",
    "            plt.axis('scaled')\n",
    "        else:\n",
    "            pass\n",
    "        \n",
    "plt.suptitle('Área de cobertura dos levantamentos aerogeofísicos')\n",
    "plt.tight_layout()\n",
    "'''"
=======
   "metadata": {},
   "outputs": [],
   "source": [
    "fig, axes = plt.subplots(3,3,figsize=(12,9))\n",
    "list_data = list(ds_c.keys())\n",
    "for i,ax in enumerate(axes.flatten()):\n",
    "    \n",
    "    if i < len(list_data):\n",
    "        if list_data[i] == 'GMT':\n",
    "            ax.imshow(ds_a[list_data[i]],cmap='bwr')\n",
    "            ax.set(title=ds_a[list_data[i]].name)\n",
    "        elif list_data[i]=='MDT':\n",
    "            ax.imshow(ds_a[list_data[i]],cmap='terrain')\n",
    "            ax.set(title=ds_a[list_data[i]].name)\n",
    "        \n",
    "        else:\n",
    "            ax.imshow(ds_a[list_data[i]])\n",
    "            ax.set(title=ds_a[list_data[i]].name)"
   ]
  },
  {
   "cell_type": "code",
   "execution_count": null,
   "metadata": {},
   "outputs": [],
   "source": [
    "fig, axes = plt.subplots(3,3,figsize=(14,12))\n",
    "list_data = list(ds_a.keys())\n",
    "for i,ax in enumerate(axes.flatten()):\n",
    "    \n",
    "    if i < len(list_data):\n",
    "        if list_data[i] == 'GMT':\n",
    "            ax.imshow(ds_a[list_data[i]],cmap='bwr')\n",
    "            ax.set(title=ds_a[list_data[i]].name)\n",
    "        elif list_data[i]=='MDT':\n",
    "            ax.imshow(ds_a[list_data[i]],cmap='terrain')\n",
    "            ax.set(title=ds_a[list_data[i]].name)\n",
    "        \n",
    "        else:\n",
    "            ax.imshow(ds_a[list_data[i]])\n",
    "            ax.set(title=ds_a[list_data[i]].name)"
>>>>>>> dev
   ]
  },
  {
   "cell_type": "markdown",
   "metadata": {
<<<<<<< HEAD
    "jp-MarkdownHeadingCollapsed": true,
=======
>>>>>>> dev
    "tags": []
   },
   "source": [
    "# Classificações Não-Supervisionadas"
   ]
  },
  {
   "cell_type": "markdown",
   "metadata": {
<<<<<<< HEAD
    "jp-MarkdownHeadingCollapsed": true,
    "tags": []
   },
   "source": [
    "## Self-organizing maps (SOM)"
   ]
  },
  {
   "cell_type": "code",
   "execution_count": null,
   "metadata": {},
   "outputs": [],
   "source": [
    "import matplotlib\n",
    "import seaborn as sns\n",
    "from sklearn.preprocessing import StandardScaler\n",
    "from sklearn_som.som import SOM\n",
    "\n",
    "def plot_corr(dataframe, size=10):\n",
    "    plt.figure(figsize = (size+size*0.2, size), facecolor='w')\n",
    "    corrMatrix = dataframe.corr()\n",
    "    sns.heatmap(np.round(corrMatrix,2), annot=True)\n",
    "    plt.xticks(rotation=90, ha='right')\n",
    "    plt.yticks(rotation=0, ha='right')\n"
   ]
  },
  {
   "cell_type": "markdown",
   "metadata": {
    "tags": []
   },
   "source": [
    "### teste"
   ]
  },
  {
   "cell_type": "code",
   "execution_count": null,
   "metadata": {},
   "outputs": [],
   "source": [
    "#uadricula.keys()\n"
   ]
  },
  {
   "cell_type": "code",
   "execution_count": null,
   "metadata": {},
   "outputs": [],
   "source": [
    "df = quadricula['SF23_YA_III4']['geof_1105_linear']\n",
    "\n",
    "plot_histograms(df)\n",
    "\n",
    "plot_boxplots(df,FEAT)"
   ]
  },
  {
   "cell_type": "code",
   "execution_count": null,
   "metadata": {},
   "outputs": [],
   "source": [
    "df"
   ]
  },
  {
   "cell_type": "code",
   "execution_count": null,
   "metadata": {},
   "outputs": [],
   "source": [
    "plot_raw_gama_data(df,suptitle='Dados Radiométricos interpolados (Algoritmo: Linear)',figsize=(27,16))\n",
    "plot_raw_mag_data(df,suptitle='Dados Magnetométricos interpolados (Algoritmo: Linear)')"
   ]
  },
  {
   "cell_type": "code",
   "execution_count": null,
   "metadata": {},
   "outputs": [],
   "source": [
    "df"
   ]
  },
  {
   "cell_type": "code",
   "execution_count": null,
   "metadata": {
    "tags": []
   },
   "outputs": [],
   "source": [
    "df.rename(columns={'GMT':'MAGIGRF'},inplace=True)\n",
    "plot_raw_mag_data(df,suptitle='Dados Magnetométricos interpolados (Algoritmo: Linear)')"
   ]
  },
  {
   "cell_type": "markdown",
   "metadata": {
    "jp-MarkdownHeadingCollapsed": true,
    "tags": []
   },
   "source": [
    "## Pixel size"
   ]
  },
  {
   "cell_type": "code",
   "execution_count": null,
   "metadata": {},
   "outputs": [],
   "source": [
    "df_rs = df\n",
    "df_rs.rename(columns={'X':'E_utm','Y':'N_utm'},inplace=True)\n",
    "#df_rs.fillna(0,inplace=True)\n",
    "\n",
    "xpixel_size = (df_rs.E_utm.max()-df_rs.E_utm.min())/df_rs.E_utm.unique().size\n",
    "ypixel_size = (df_rs.N_utm.max()-df_rs.N_utm.min())/df_rs.N_utm.unique().size\n",
    "print('x:', xpixel_size, 'y:', ypixel_size)\n",
    "\n",
    "nx=df_rs.E_utm.unique().size\n",
    "ny=df_rs.N_utm.unique().size\n",
    "ratio=ny/nx\n",
    "xs = df_rs.E_utm.values.reshape(ny, nx)\n",
    "ys = df_rs.N_utm.values.reshape(ny, nx)"
   ]
  },
  {
   "cell_type": "code",
   "execution_count": null,
   "metadata": {
    "tags": []
   },
   "outputs": [],
   "source": [
    "features = list(df_rs.columns[2:])\n",
    "plot_corr(df_rs[features], size=11)\n",
    "#print(features)\n",
    "#plt.savefig('figs/correlation_matrix.png', dpi=400, bbox_inches='tight')"
   ]
  },
  {
   "cell_type": "code",
   "execution_count": null,
   "metadata": {
    "tags": []
   },
   "outputs": [],
   "source": [
    "data = StandardScaler().fit_transform(df[features].values)\n",
    "\n",
    "# data = df_rs[features].values\n",
    "\n",
    "# NÚMERO DE CLASSES\n",
    "n_clusters=9\n",
    "lito_SOM = SOM(m=n_clusters,\n",
    "               n=1,\n",
    "           sigma=1.5,\n",
    "             dim=len(features),\n",
    "        max_iter=10000)\n",
    "\n",
    "lito_SOM.fit(data)\n",
    "\n",
    "# predição de classes\n",
    "predictions = lito_SOM.predict(data)\n",
    "\n",
    "# create labels\n",
    "cluster_labels=[]\n",
    "for i in range(n_clusters):\n",
    "    cluster_labels+=[f'Classe {i+1}']\n",
    "    \n",
    "# classes weights\n",
    "fig, ax = plt.subplots(figsize=(19,19))\n",
    "im=ax.matshow(lito_SOM.weights)\n",
    "for (i, j), z in np.ndenumerate(lito_SOM.weights):\n",
    "    ax.text(j, i, '{:0.2f}'.format(z), ha='center', va='center')\n",
    "\n",
    "plt.yticks(range(n_clusters), cluster_labels, fontsize=9)\n",
    "plt.xticks(range(len(features)), features, rotation=55, fontsize=10, ha='left')\n",
    "fig.colorbar(im, label='weights', orientation='horizontal')\n",
    "plt.gca().set_aspect('equal')\n",
    "plt.gcf().set_size_inches(10, 10)\n",
    "plt.show()"
   ]
  },
  {
   "cell_type": "code",
   "execution_count": null,
   "metadata": {},
   "outputs": [],
   "source": [
    "id_ = [1,2,3,4,5,6,7,8,9]\n",
    "\n",
    "relcolor =  matplotlib.cm.Set3\n",
    "colors = np.array(relcolor.colors)[id_]\n",
    "relcolor = matplotlib.colors.ListedColormap(colors)\n",
    "\n",
    "idxs=np.arange(0, n_clusters, 1)\n",
    "half=(idxs[1]-idxs[0])/2\n",
    "ticks=np.linspace(idxs[0]+half, idxs[-1]-half, n_clusters)\n",
    "\n",
    "datafig, ax=plt.subplots(figsize=(16, 16), facecolor='w')\n",
    "im=plt.pcolormesh(xs, ys, predictions.reshape(ny, nx), cmap=relcolor, shading='auto')\n",
    "plt.xlim(xs.min(), xs.max())\n",
    "plt.ylim(ys.min(), ys.max())\n",
    "cbar_ax = fig.add_axes([0.93, 0.3, 0.05, 0.4])\n",
    "cbar = fig.colorbar(im, cax=cbar_ax, label = u'Classes', orientation='vertical',cmap='viridis',ticks=ticks)\n",
    "\n",
    "cbar.ax.set_yticklabels(cluster_labels, fontsize=8)\n",
    "plt.suptitle('SOM - Aerogeophysical Data (SF23_YA_III4)')\n",
    "plt.axis('scaled')\n",
    "plt.show()"
   ]
  },
  {
   "cell_type": "code",
   "execution_count": null,
   "metadata": {},
   "outputs": [],
   "source": [
    "n_clusters=18\n",
    "lito_SOM = SOM(m=n_clusters, n=1, sigma=1.5, dim=len(features), max_iter=10000)\n",
    "lito_SOM.fit(data)\n",
    "\n",
    "# predição de classes\n",
    "predictions = lito_SOM.predict(data)\n",
    "\n",
    "# create labels\n",
    "cluster_labels=[]\n",
    "for i in range(n_clusters):\n",
    "    cluster_labels+=[f'Classe {i+1}']\n",
    "    \n",
    "# classes weights\n",
    "fig, ax = plt.subplots(figsize=(27,27))\n",
    "im=ax.matshow(lito_SOM.weights)\n",
    "\n",
    "for (i, j), z in np.ndenumerate(lito_SOM.weights):\n",
    "    ax.text(j, i, '{:0.2f}'.format(z), ha='center', va='center')\n",
    "\n",
    "plt.yticks(range(n_clusters), cluster_labels, fontsize=8)\n",
    "plt.xticks(range(len(features)), features, rotation=55, fontsize=9, ha='left')\n",
    "fig.colorbar(im, label='weights', orientation='horizontal',cmap='Reds')\n",
    "plt.gca().set_aspect('equal')\n",
    "plt.gcf().set_size_inches(15, 10)\n",
    "plt.show()"
   ]
  },
  {
   "cell_type": "code",
   "execution_count": null,
   "metadata": {},
   "outputs": [],
   "source": [
    "df"
   ]
  },
  {
   "cell_type": "code",
   "execution_count": null,
   "metadata": {},
   "outputs": [],
   "source": [
    "id_ = [1,2,3,4,5,6,7,8,9,10,11]\n",
    "\n",
    "relcolor =  matplotlib.cm.Set3\n",
    "colors = np.array(relcolor.colors)[id_]\n",
    "relcolor = matplotlib.colors.ListedColormap(colors)\n",
    "\n",
    "idxs=np.arange(0, n_clusters, 1)\n",
    "half=(idxs[1]-idxs[0])/2\n",
    "ticks=np.linspace(idxs[0]+half, idxs[-1]-half, n_clusters)\n",
    "\n",
    "datafig, ax=plt.subplots(figsize=(16, 16), facecolor='w')\n",
    "im=plt.pcolormesh(xs, ys, predictions.reshape(ny, nx), cmap=relcolor, shading='auto')\n",
    "plt.xlim(xs.min(), xs.max())\n",
    "plt.ylim(ys.min(), ys.max())\n",
    "cbar_ax = fig.add_axes([0.93, 0.3, 0.05, 0.4])\n",
    "cbar = fig.colorbar(im, cax=cbar_ax, label = u'Classes', orientation='vertical',\n",
    "                    ticks=ticks)\n",
    "cbar.ax.set_yticklabels(cluster_labels, fontsize=8)\n",
    "plt.suptitle('SOM - Aerogeophysical Data ()')\n",
    "plt.axis('scaled')\n",
    "plt.show()"
   ]
  },
  {
   "cell_type": "markdown",
   "metadata": {
    "jp-MarkdownHeadingCollapsed": true,
    "tags": []
   },
   "source": [
    "## Testes"
   ]
  },
  {
   "cell_type": "code",
   "execution_count": null,
   "metadata": {
    "tags": []
   },
   "outputs": [],
   "source": [
    "df = quadricula['SF23_VC_V3']['geof_1039_linear']\n",
    "\n",
    "plot_histograms(df)\n",
    "plot_raw_gama_data(df,suptitle='Dados Radiométricos interpolados (Algoritmo: Linear)',figsize=(27,16))\n",
    "plot_raw_mag_data(df,suptitle='Dados Magnetométricos interpolados (Algoritmo: Linear)')\n",
    "\n",
    "\n",
    "df_rs = df\n",
    "df_rs.rename(columns={'X':'E_utm','Y':'N_utm'},inplace=True)\n",
    "#df_rs.fillna(0,inplace=True)\n",
    "\n",
    "\n",
    "xpixel_size = (df_rs.E_utm.max()-df_rs.E_utm.min())/df_rs.E_utm.unique().size\n",
    "ypixel_size = (df_rs.N_utm.max()-df_rs.N_utm.min())/df_rs.N_utm.unique().size\n",
    "print('x:', xpixel_size, 'y:', ypixel_size)\n",
    "\n",
    "\n",
    "nx=df_rs.E_utm.unique().size\n",
    "ny=df_rs.N_utm.unique().size\n",
    "ratio=ny/nx\n",
    "xs = df_rs.E_utm.values.reshape(ny, nx)\n",
    "ys = df_rs.N_utm.values.reshape(ny, nx)\n",
    "\n",
    "features = list(df_rs.columns[2:])\n",
    "print(features)\n",
    "\n",
    "\n",
    "plot_corr(df_rs[features], size=12)\n",
    "#plt.savefig('figs/correlation_matrix.png', dpi=400, bbox_inches='tight')\n",
    "\n",
    "\n",
    "\n",
    "scaler = StandardScaler()\n",
    "data = scaler.fit_transform(df[features].values)\n",
    "# data = df_rs[features].values\n",
    "\n",
    "\n",
    "n_clusters=9\n",
    "lito_SOM = SOM(m=n_clusters, n=1, sigma=1.5, dim=len(features), max_iter=10000)\n",
    "lito_SOM.fit(data)\n",
    "\n",
    "# predição de classes\n",
    "predictions = lito_SOM.predict(data)"
   ]
  },
  {
   "cell_type": "code",
   "execution_count": null,
   "metadata": {
    "tags": []
   },
   "outputs": [],
   "source": [
    "# create labels\n",
    "cluster_labels=[]\n",
    "for i in range(n_clusters):\n",
    "    cluster_labels+=[f'Classe {i+1}']\n",
    "    \n",
    "# classes weights\n",
    "fig, ax = plt.subplots(figsize=(19,26))\n",
    "im=ax.matshow(lito_SOM.weights)\n",
    "for (i, j), z in np.ndenumerate(lito_SOM.weights):\n",
    "    ax.text(j, i, '{:0.2f}'.format(z), ha='center', va='center')\n",
    "\n",
    "plt.yticks(range(n_clusters), cluster_labels, fontsize=9)\n",
    "plt.xticks(range(len(features)), features, rotation=55, fontsize=10, ha='left')\n",
    "fig.colorbar(im, label='weights', orientation='horizontal')\n",
    "plt.gca().set_aspect('equal')\n",
    "plt.gcf().set_size_inches(19, 26)\n",
    "plt.show()"
   ]
  },
  {
   "cell_type": "code",
   "execution_count": null,
   "metadata": {
    "tags": []
   },
   "outputs": [],
   "source": [
    "id_ = [1,2,3,4,5,6,7,8,9]\n",
    "relcolor =  matplotlib.cm.Set3\n",
    "colors = np.array(relcolor.colors)[id_]\n",
    "relcolor = matplotlib.colors.ListedColormap(colors)\n",
    "\n",
    "\n",
    "\n",
    "idxs=np.arange(0, n_clusters, 1)\n",
    "half=(idxs[1]-idxs[0])/2\n",
    "ticks=np.linspace(idxs[0]+half, idxs[-1]-half, n_clusters)\n",
    "\n",
    "datafig, ax=plt.subplots(figsize=(16, 16), facecolor='w')\n",
    "im=plt.pcolormesh(xs, ys, predictions.reshape(ny, nx), cmap=relcolor, shading='auto')\n",
    "plt.xlim(xs.min(), xs.max())\n",
    "plt.ylim(ys.min(), ys.max())\n",
    "cbar_ax = fig.add_axes([0.93, 0.3, 0.05, 0.4])\n",
    "cbar = fig.colorbar(im, cax=cbar_ax, label = u'Classes', orientation='vertical',\n",
    "                    ticks=ticks)\n",
    "cbar.ax.set_yticklabels(cluster_labels, fontsize=8)\n",
    "plt.suptitle('SOM - Aerogeophysical Data (SF23_YA_III4)')\n",
    "plt.axis('scaled')\n",
    "plt.show()"
   ]
  },
  {
   "cell_type": "markdown",
   "metadata": {
    "jp-MarkdownHeadingCollapsed": true,
    "tags": []
   },
   "source": [
    "## Automação"
   ]
  },
  {
   "cell_type": "code",
   "execution_count": null,
   "metadata": {
    "tags": []
   },
   "outputs": [],
   "source": [
    "for k in quadricula:\n",
    "    data = list(quadricula[k].keys())\n",
    "    if 'geof_1105_linear' in data:\n",
    "        print(k, data)\n",
    "        df = quadricula[k]['geof_1105_linear']\n",
    "        #plot_histograms(df)\n",
    "        #plot_raw_gama_data(df,suptitle='Dados Radiométricos interpolados (Algoritmo: Linear)',figsize=(27,16))\n",
    "        #plot_raw_mag_data(df,suptitle='Dados Magnetométricos interpolados (Algoritmo: Linear)')\n",
    "\n",
    "        df_rs = df\n",
    "        df_rs.rename(columns={'X':'E_utm','Y':'N_utm'},inplace=True)\n",
    "        #df_rs.fillna(0,inplace=True)\n",
    "\n",
    "        xpixel_size = (df_rs.E_utm.max()-df_rs.E_utm.min())/df_rs.E_utm.unique().size\n",
    "        ypixel_size = (df_rs.N_utm.max()-df_rs.N_utm.min())/df_rs.N_utm.unique().size\n",
    "        #print('x:', xpixel_size, 'y:', ypixel_size)\n",
    "\n",
    "        nx=df_rs.E_utm.unique().size\n",
    "        ny=df_rs.N_utm.unique().size\n",
    "        ratio=ny/nx\n",
    "        xs = df_rs.E_utm.values.reshape(ny, nx)\n",
    "        ys = df_rs.N_utm.values.reshape(ny, nx)\n",
    "\n",
    "        features = list(df_rs.columns[2:])\n",
    "        #print(features)\n",
    "        #plot_corr(df_rs[features], size=12)\n",
    "        #plt.savefig('figs/correlation_matrix.png', dpi=400, bbox_inches='tight')\n",
    "\n",
    "        scaler = StandardScaler()\n",
    "        data = scaler.fit_transform(df[features].values)\n",
    "        #data = df_rs[features].values\n",
    "\n",
    "        n_clusters=5\n",
    "        lito_SOM = SOM(m=n_clusters, n=1, sigma=1.5, dim=len(features), max_iter=1000)\n",
    "        lito_SOM.fit(data)\n",
    "\n",
    "        # predição de classes\n",
    "        predictions = lito_SOM.predict(data)\n",
    "\n",
    "        # create labels\n",
    "        cluster_labels=[]\n",
    "        for i in range(n_clusters):\n",
    "            cluster_labels+=[f'Classe {i+1}']\n",
    "        '''\n",
    "        # classes weights\n",
    "        fig, ax = plt.subplots(figsize=(19,26))\n",
    "        im=ax.matshow(lito_SOM.weights)\n",
    "        for (i, j), z in np.ndenumerate(lito_SOM.weights):\n",
    "            ax.text(j, i, '{:0.2f}'.format(z), ha='center', va='center')\n",
    "\n",
    "        plt.yticks(range(n_clusters), cluster_labels, fontsize=9)\n",
    "        plt.xticks(range(len(features)), features, rotation=55, fontsize=10, ha='left')\n",
    "        fig.colorbar(im, label='weights', orientation='horizontal')\n",
    "        plt.gca().set_aspect('equal')\n",
    "        plt.gcf().set_size_inches(19, 26)\n",
    "        plt.show()\n",
    "        '''\n",
    "        id_ = [1,2,3,4,5]\n",
    "        relcolor =  matplotlib.cm.Set3\n",
    "        colors = np.array(relcolor.colors)[id_]\n",
    "        relcolor = matplotlib.colors.ListedColormap(colors)\n",
    "\n",
    "        idxs=np.arange(0, n_clusters, 1)\n",
    "        half=(idxs[1]-idxs[0])/2\n",
    "        ticks=np.linspace(idxs[0]+half, idxs[-1]-half, n_clusters)\n",
    "        \n",
    "        datafig, ax=plt.subplots(figsize=(16, 16), facecolor='w')\n",
    "        im=plt.pcolormesh(xs, ys, predictions.reshape(ny, nx), cmap=relcolor, shading='auto')\n",
    "        plt.xlim(xs.min(), xs.max())\n",
    "        plt.ylim(ys.min(), ys.max())\n",
    "        cbar_ax = fig.add_axes([0.93, 0.3, 0.05, 0.4])\n",
    "        cbar = fig.colorbar(im, cax=cbar_ax, label = u'Classes', orientation='vertical',\n",
    "                            ticks=ticks)\n",
    "        cbar.ax.set_yticklabels(cluster_labels, fontsize=8)\n",
    "        plt.suptitle(f'SOM - {k}')\n",
    "        plt.axis('scaled')\n",
    "        plt.show()\n",
    "        \n",
    "        plt.figure(figsize=(21,16))\n",
    "        for id in list(quadricula.keys()):\n",
    "            carta=quadricula[id]\n",
    "            #print(id, carta)\n",
    "            plt.plot(*transform_to_carta_utm(carta['folha']).exterior.xy,color='black')\n",
    "            for data in list(carta.keys())[2:]:\n",
    "                if 'mag' in data:\n",
    "                    pass\n",
    "                else:\n",
    "                    plt.scatter(carta[data].X,carta[data].Y,c=carta[data].MDT,cmap='terrain',s=0.5,marker='H')\n",
    "                    plt.axis('scaled')\n",
    "        plt.suptitle('Área de cobertura dos levantamentos aerogeofísicos')\n",
    "        plt.tight_layout()\n",
    "        \n",
    "    else:\n",
    "        None"
   ]
  },
  {
   "cell_type": "markdown",
   "metadata": {
    "jp-MarkdownHeadingCollapsed": true,
    "tags": []
   },
   "source": [
    "# Classificações Supervisionadas"
   ]
  },
  {
   "cell_type": "markdown",
   "metadata": {
    "jp-MarkdownHeadingCollapsed": true,
=======
>>>>>>> dev
    "tags": []
   },
   "source": [
    "## Rotulando amostras com classes litológicas"
   ]
  },
  {
   "cell_type": "code",
   "execution_count": null,
   "metadata": {},
   "outputs": [],
   "source": [
    "'''\n",
    "import shapely.speedups\n",
    "from shapely import geometry\n",
    "shapely.speedups.enable()\n",
    "\n",
    "#geof_1089_linear['geometry'] = [geometry.Point(x,y) for x, y in zip(geof_1089_linear['X'], geof_1089_linear['Y'])]\n",
    "#gdf_1089_linear = geof_1089_linear.set_geometry('geometry')\n",
    "\n",
    "#gdf_1089_linear.set_crs('EPSG:32723',inplace=True)\n",
    "#gdf_1089_linear.geometry\n",
    "\n",
    "#Upload_litologia(quadricula,'litologia_100k')\n",
    "\n",
<<<<<<< HEAD
    "gdf_1089_linear.set_crs('EPSG:32723',inplace=True)\n",
    "gdf_1089_linear.geometry"
   ]
  },
  {
   "cell_type": "code",
   "execution_count": null,
   "metadata": {},
   "outputs": [],
   "source": [
    "Upload_litologia(quadricula,'litologia_100k')"
   ]
  },
  {
   "cell_type": "code",
   "execution_count": null,
   "metadata": {
    "tags": []
   },
   "outputs": [],
   "source": [
=======
>>>>>>> dev
    "litologia=quadricula['SB24_ZB_II']['litologia_100k']\n",
    "litologia.to_crs('EPSG:32724',inplace=True)\n",
    "print(litologia.crs)\n",
    "litologia.reset_index(drop=True,inplace=True)\n",
    "\n",
    "dic_litologico = describe_geologico(litologia)\n",
<<<<<<< HEAD
    "print(litologia.columns)"
   ]
  },
  {
   "cell_type": "code",
   "execution_count": null,
   "metadata": {
    "tags": []
   },
   "outputs": [],
   "source": [
    "print(dic_litologico['SIGLA']['len'])\n",
    "print(dic_litologico['SIGLA']['lista'])\n",
    "gdf_1089_linear"
   ]
  },
  {
   "cell_type": "code",
   "execution_count": null,
   "metadata": {},
   "outputs": [],
   "source": [
    "litologia.plot('SIGLA',figsize=(16,16),legend=True)"
   ]
  },
  {
   "cell_type": "code",
   "execution_count": null,
   "metadata": {},
   "outputs": [],
   "source": [
    "geof_1089_linear['closest_unit'] = geof_1089_linear['geometry'].apply(lambda x: litologia['SIGLA'].iloc[litologia.distance(x).idxmin()]) # .idxmin() Retorna o indice do menor valor "
   ]
  },
  {
   "cell_type": "code",
   "execution_count": null,
   "metadata": {
    "jp-MarkdownHeadingCollapsed": true,
    "tags": []
   },
   "outputs": [],
   "source": [
    "geof_1089_linear.to_csv('/home/ggrl/database/csv/SB24_ZB_II_gama_linear_100m.csv',index=False)"
   ]
=======
    "print(litologia.columns)\n",
    "\n",
    "#print(dic_litologico['SIGLA']['len'])\n",
    "#print(dic_litologico['SIGLA']['lista'])\n",
    "\n",
    "#litologia.plot('SIGLA',figsize=(16,16),legend=True)\n",
    "\n",
    "#geof_1089_linear['closest_unit'] = geof_1089_linear['geometry'].apply(lambda x: litologia['SIGLA'].iloc[litologia.distance(x).idxmin()]) # .idxmin() Retorna o indice do menor valor \n",
    "\n",
    "#geof_1089_linear.to_csv('/home/ggrl/database/csv/SB24_ZB_II_gama_linear_100m.csv',index=False)\n",
    "'''"
   ]
  },
  {
   "cell_type": "markdown",
   "metadata": {},
   "source": [
    "## Self-organizing maps (SOM)"
   ]
  },
  {
   "cell_type": "markdown",
   "metadata": {
    "tags": []
   },
   "source": [
    "### Pixel size"
   ]
  },
  {
   "cell_type": "code",
   "execution_count": null,
   "metadata": {
    "tags": []
   },
   "outputs": [],
   "source": [
    "#help(pcolormesh)"
   ]
  },
  {
   "cell_type": "code",
   "execution_count": null,
   "metadata": {},
   "outputs": [],
   "source": [
    "print(list(quadricula.keys()))\n",
    "print('')\n",
    "print(quadricula['SF23_YA'].keys())\n",
    "print('')\n",
    "ds_a = quadricula['SF23_YA']['geof_1105_linear']\n",
    "ds_b = quadricula['SF23_YB']['geof_1105_linear']"
   ]
  },
  {
   "cell_type": "code",
   "execution_count": null,
   "metadata": {},
   "outputs": [],
   "source": [
    "ds_b.LONGITUDE.values.max()"
   ]
  },
  {
   "cell_type": "code",
   "execution_count": null,
   "metadata": {},
   "outputs": [],
   "source": [
    "ds_a.LONGITUDE.values.max()"
   ]
  },
  {
   "cell_type": "code",
   "execution_count": null,
   "metadata": {},
   "outputs": [],
   "source": [
    "ds_b"
   ]
  },
  {
   "cell_type": "code",
   "execution_count": null,
   "metadata": {},
   "outputs": [],
   "source": [
    "ds_b['LATITUDE']"
   ]
  },
  {
   "cell_type": "code",
   "execution_count": null,
   "metadata": {},
   "outputs": [],
   "source": [
    "ds_a['LATITUDE']"
   ]
  },
  {
   "cell_type": "code",
   "execution_count": null,
   "metadata": {},
   "outputs": [],
   "source": [
    "ds = xr.combine_by_coords([ds_a,ds_b])"
   ]
  },
  {
   "cell_type": "code",
   "execution_count": null,
   "metadata": {},
   "outputs": [],
   "source": [
    "#for id in tqdm(list(quadricula.keys())):\n",
    "#    ds = quadricula[id]['geof_1105_linear']\n",
    "features = list(ds.keys())\n",
    "print(features)"
   ]
  },
  {
   "cell_type": "code",
   "execution_count": null,
   "metadata": {},
   "outputs": [],
   "source": [
    "df = ds[features].to_dataframe()\n",
    "df = df.reset_index()\n",
    "df"
   ]
  },
  {
   "cell_type": "code",
   "execution_count": null,
   "metadata": {},
   "outputs": [],
   "source": [
    "xpixel_size = (ds.LONGITUDE.max().values-ds.LONGITUDE.min().values)/ds.LONGITUDE.size\n",
    "ypixel_size = (ds.LATITUDE.max().values-ds.LATITUDE.min().values)/ds.LATITUDE.size\n",
    "print('x:', xpixel_size, 'y:', ypixel_size)"
   ]
  },
  {
   "cell_type": "code",
   "execution_count": null,
   "metadata": {},
   "outputs": [],
   "source": [
    "nx = ds.LATITUDE.size\n",
    "ny = ds.LONGITUDE.size\n",
    "\n",
    "print(ny,nx,ny/nx)\n",
    "\n",
    "xs = df.LONGITUDE.values.reshape(nx,ny)\n",
    "ys = df.LATITUDE.values.reshape(nx,ny)"
   ]
  },
  {
   "cell_type": "code",
   "execution_count": null,
   "metadata": {},
   "outputs": [],
   "source": [
    "def plot_corr(dataframe, size=10):\n",
    "    plt.figure(figsize = (size+size*0.2, size), facecolor='w')\n",
    "    corrMatrix = dataframe.corr()\n",
    "    sns.heatmap(np.round(corrMatrix,2), annot=True,vmin=-1,vmax=1,cmap='bwr',center=0)\n",
    "    plt.xticks(rotation=90, ha='right')\n",
    "    plt.yticks(rotation=0, ha='right')\n",
    "\n",
    "plot_corr(df, size=12)\n",
    "#plt.savefig('figs/correlation_matrix.png', dpi=400, bbox_inches='tight')"
   ]
  },
  {
   "cell_type": "code",
   "execution_count": null,
   "metadata": {},
   "outputs": [],
   "source": [
    "scaler = StandardScaler()\n",
    "data = scaler.fit_transform(df[features].values)\n",
    "data.shape"
   ]
  },
  {
   "cell_type": "code",
   "execution_count": null,
   "metadata": {},
   "outputs": [],
   "source": [
    "n_clusters=4\n",
    "lito_SOM = SOM(m=n_clusters, n=1, sigma=1.5, dim=len(features), max_iter=50)\n",
    "lito_SOM.fit(data)"
   ]
  },
  {
   "cell_type": "code",
   "execution_count": null,
   "metadata": {},
   "outputs": [],
   "source": [
    "# predição de classes\n",
    "predictions = lito_SOM.predict(data)"
   ]
  },
  {
   "cell_type": "code",
   "execution_count": null,
   "metadata": {},
   "outputs": [],
   "source": [
    "# create labels\n",
    "cluster_labels=[]\n",
    "for i in range(n_clusters):\n",
    "    cluster_labels+=[f'Classe {i+1}']"
   ]
  },
  {
   "cell_type": "code",
   "execution_count": null,
   "metadata": {},
   "outputs": [],
   "source": [
    "# classes weights\n",
    "fig, ax = plt.subplots(figsize=(19,19))\n",
    "im=ax.matshow(lito_SOM.weights,cmap='bwr',vmin=-1.5,vmax=1.5)\n",
    "for (i, j), z in np.ndenumerate(lito_SOM.weights):\n",
    "    ax.text(j, i, '{:0.2f}'.format(z), ha='center', va='center')\n",
    "\n",
    "plt.yticks(range(n_clusters), cluster_labels, fontsize=9)\n",
    "plt.xticks(range(len(features)), features, rotation=55, fontsize=10, ha='left')\n",
    "fig.colorbar(im, label='weights', orientation='horizontal')\n",
    "plt.gca().set_aspect('equal')\n",
    "plt.gcf().set_size_inches(10, 10)\n",
    "plt.show()"
   ]
  },
  {
   "cell_type": "code",
   "execution_count": null,
   "metadata": {},
   "outputs": [],
   "source": [
    "id_ = [1,2,3,4]\n",
    "relcolor =  matplotlib.cm.Set3\n",
    "colors = np.array(relcolor.colors)[id_]\n",
    "relcolor = matplotlib.colors.ListedColormap(colors)"
   ]
  },
  {
   "cell_type": "code",
   "execution_count": null,
   "metadata": {},
   "outputs": [],
   "source": [
    "idxs=np.arange(0, n_clusters, 1)\n",
    "half=(idxs[1]-idxs[0])/2\n",
    "ticks=np.linspace(idxs[0]+half, idxs[-1]-half, n_clusters)"
   ]
  },
  {
   "cell_type": "code",
   "execution_count": null,
   "metadata": {},
   "outputs": [],
   "source": [
    "print(xs.shape,ys.shape)"
   ]
  },
  {
   "cell_type": "code",
   "execution_count": null,
   "metadata": {},
   "outputs": [],
   "source": [
    "fig, ax=plt.subplots(figsize=(16, 16), facecolor='w')\n",
    "im=plt.pcolormesh(xs, ys, predictions.reshape(ny, nx), cmap=relcolor, shading='auto')\n",
    "plt.xlim(xs.min(), xs.max())\n",
    "plt.ylim(ys.min(), ys.max())\n",
    "cbar_ax = fig.add_axes([0.93, 0.3, 0.05, 0.4])\n",
    "cbar = fig.colorbar(im, cax=cbar_ax, label = u'Classes', orientation='vertical',\n",
    "                    ticks=ticks)\n",
    "cbar.ax.set_yticklabels(cluster_labels, fontsize=8)\n",
    "plt.suptitle('SOM - Aerogeophysical Data (SF23_YB_I)')\n",
    "plt.axis('scaled')\n",
    "plt.show()"
   ]
  },
  {
   "cell_type": "code",
   "execution_count": null,
   "metadata": {},
   "outputs": [],
   "source": [
    "features = ['MDT','GMT','F_factor']\n",
    "\n",
    "scaler = StandardScaler()\n",
    "data = scaler.fit_transform(df[features].values)\n",
    "n_clusters=10\n",
    "lito_SOM = SOM(m=n_clusters, n=1, sigma=1.5, dim=len(features), max_iter=10000)\n",
    "lito_SOM.fit(data)\n",
    "# predição de classes\n",
    "predictions = lito_SOM.predict(data)\n",
    "# create labels\n",
    "cluster_labels=[]\n",
    "for i in range(n_clusters):\n",
    "    cluster_labels+=[f'Classe {i+1}']\n",
    "\n",
    "\n",
    "# classes weights\n",
    "fig, ax = plt.subplots(figsize=(19,19))\n",
    "im=ax.matshow(lito_SOM.weights)\n",
    "for (i, j), z in np.ndenumerate(lito_SOM.weights):\n",
    "    ax.text(j, i, '{:0.2f}'.format(z), ha='center', va='center')\n",
    "\n",
    "plt.yticks(range(n_clusters), cluster_labels, fontsize=9)\n",
    "plt.xticks(range(len(features)), features, rotation=55, fontsize=10, ha='left')\n",
    "fig.colorbar(im, label='weights', orientation='horizontal')\n",
    "plt.gca().set_aspect('equal')\n",
    "plt.gcf().set_size_inches(10, 10)\n",
    "plt.show()\n",
    "import matplotlib\n",
    "id_ = [1,2,3,4,5,6,7,8,9,10]\n",
    "relcolor =  matplotlib.cm.Set3\n",
    "colors = np.array(relcolor.colors)[id_]\n",
    "relcolor = matplotlib.colors.ListedColormap(colors)\n",
    "idxs=np.arange(0, n_clusters, 1)\n",
    "half=(idxs[1]-idxs[0])/2\n",
    "ticks=np.linspace(idxs[0]+half, idxs[-1]-half, n_clusters)\n",
    "fig, ax=plt.subplots(figsize=(16, 16), facecolor='w')\n",
    "im=plt.pcolormesh(xs, ys, predictions.reshape(ny, nx), cmap=relcolor, shading='auto')\n",
    "plt.xlim(xs.min(), xs.max())\n",
    "plt.ylim(ys.min(), ys.max())\n",
    "cbar_ax = fig.add_axes([0.93, 0.3, 0.05, 0.4])\n",
    "cbar = fig.colorbar(im, cax=cbar_ax, label = u'Classes', orientation='vertical',\n",
    "                    ticks=ticks)\n",
    "cbar.ax.set_yticklabels(cluster_labels, fontsize=8)\n",
    "plt.suptitle('SOM - Aerogeophysical Data ( Aguas de Lindóia - SF23_YA_III4)')\n",
    "plt.axis('scaled')\n",
    "plt.show()"
   ]
  },
  {
   "cell_type": "code",
   "execution_count": null,
   "metadata": {},
   "outputs": [],
   "source": [
    "features = ['MDT','GMT','F_factor','CTCOR']\n",
    "\n",
    "scaler = StandardScaler()\n",
    "data = scaler.fit_transform(df[features].values)\n",
    "n_clusters=10\n",
    "lito_SOM = SOM(m=n_clusters, n=1, sigma=1.5, dim=len(features), max_iter=10000)\n",
    "lito_SOM.fit(data)\n",
    "# predição de classes\n",
    "predictions = lito_SOM.predict(data)\n",
    "# create labels\n",
    "cluster_labels=[]\n",
    "for i in range(n_clusters):\n",
    "    cluster_labels+=[f'Classe {i+1}']\n",
    "\n",
    "\n",
    "# classes weights\n",
    "fig, ax = plt.subplots(figsize=(19,19))\n",
    "im=ax.matshow(lito_SOM.weights)\n",
    "for (i, j), z in np.ndenumerate(lito_SOM.weights):\n",
    "    ax.text(j, i, '{:0.2f}'.format(z), ha='center', va='center')\n",
    "\n",
    "plt.yticks(range(n_clusters), cluster_labels, fontsize=9)\n",
    "plt.xticks(range(len(features)), features, rotation=55, fontsize=10, ha='left')\n",
    "fig.colorbar(im, label='weights', orientation='horizontal')\n",
    "plt.gca().set_aspect('equal')\n",
    "plt.gcf().set_size_inches(10, 10)\n",
    "plt.show()\n",
    "import matplotlib\n",
    "id_ = [1,2,3,4,5,6,7,8,9,10]\n",
    "relcolor =  matplotlib.cm.Set3\n",
    "colors = np.array(relcolor.colors)[id_]\n",
    "relcolor = matplotlib.colors.ListedColormap(colors)\n",
    "idxs=np.arange(0, n_clusters, 1)\n",
    "half=(idxs[1]-idxs[0])/2\n",
    "ticks=np.linspace(idxs[0]+half, idxs[-1]-half, n_clusters)\n",
    "fig, ax=plt.subplots(figsize=(16, 16), facecolor='w')\n",
    "im=plt.pcolormesh(xs, ys, predictions.reshape(ny, nx), cmap=relcolor, shading='auto')\n",
    "plt.xlim(xs.min(), xs.max())\n",
    "plt.ylim(ys.min(), ys.max())\n",
    "cbar_ax = fig.add_axes([0.93, 0.3, 0.05, 0.4])\n",
    "cbar = fig.colorbar(im, cax=cbar_ax, label = u'Classes', orientation='vertical',\n",
    "                    ticks=ticks)\n",
    "cbar.ax.set_yticklabels(cluster_labels, fontsize=8)\n",
    "plt.suptitle('SOM - Aerogeophysical Data ( Aguas de Lindóia - SF23_YA_III4)')\n",
    "plt.axis('scaled')\n",
    "plt.show()"
   ]
  },
  {
   "cell_type": "code",
   "execution_count": null,
   "metadata": {},
   "outputs": [],
   "source": [
    "# get attributes\n",
    "features = list(SF23_YA_III_4.keys())\n",
    "print(features)\n",
    "# transform a xarray.Dataset into pandas.Dataframe\n",
    "df = SF23_YA_III_4[features].to_dataframe()\n",
    "df = df.reset_index()"
   ]
  },
  {
   "cell_type": "code",
   "execution_count": null,
   "metadata": {},
   "outputs": [],
   "source": [
    "# visualize correlations\n",
    "plot_corr(df, size=12)\n",
    "# SELECT FEATURES\n",
    "features = ['MDT','GMT','F_factor']\n",
    "print(f' - Selected Features: {features}')"
   ]
  },
  {
   "cell_type": "code",
   "execution_count": null,
   "metadata": {},
   "outputs": [],
   "source": [
    "# get pixel size\n",
    "xpixel_size = (ds.LONGITUDE.max().values-ds.LONGITUDE.min().values)/ds.LONGITUDE.size\n",
    "ypixel_size = (ds.LATITUDE.max().values-ds.LATITUDE.min().values)/ds.LATITUDE.size\n",
    "print('x:', xpixel_size, 'y:', ypixel_size)\n",
    "# get number of pixels\n",
    "nx = ds.LATITUDE.size\n",
    "ny = ds.LONGITUDE.size\n",
    "print(f'x:{ny} ; y:{nx} | x/y: {ny/nx}')\n",
    "# reshape numpy.array into tuple of arrays\n",
    "xs = df.LONGITUDE.values.reshape(nx,ny)\n",
    "ys = df.LATITUDE.values.reshape(nx,ny)\n",
    "# transform - fit dataframe to scallar matrix of shape 250 x 250\n",
    "scaler = StandardScaler()\n",
    "data = scaler.fit_transform(df[features].values)\n",
    "print(f' - Scalar shape:   {data.shape}')\n",
    "# Clusters, n, sigma, iterations\n",
    "n_clusters=10\n",
    "lito_SOM = SOM(m=n_clusters, n=1, sigma=1.5, dim=len(features), max_iter=10000)\n",
    "lito_SOM.fit(data)\n",
    "# predição de classes\n",
    "predictions = lito_SOM.predict(data)\n",
    "# create labels\n",
    "cluster_labels=[]\n",
    "for i in range(n_clusters):\n",
    "    cluster_labels+=[f'Classe {i+1}']\n",
    "# classes weights\n",
    "fig, ax = plt.subplots(figsize=(19,19))\n",
    "im=ax.matshow(lito_SOM.weights)\n",
    "for (i, j), z in np.ndenumerate(lito_SOM.weights):\n",
    "    ax.text(j, i, '{:0.2f}'.format(z), ha='center', va='center')\n",
    "# \n",
    "plt.yticks(range(n_clusters), cluster_labels, fontsize=9)\n",
    "plt.xticks(range(len(features)), features, rotation=55, fontsize=10, ha='left')\n",
    "fig.colorbar(im, label='weights', orientation='horizontal')\n",
    "plt.gca().set_aspect('equal')\n",
    "plt.gcf().set_size_inches(10, 10)\n",
    "plt.show()\n",
    "import matplotlib\n",
    "id_ = [1,2,3,4,5,6,7,8,9,10]\n",
    "relcolor =  matplotlib.cm.Set3\n",
    "colors = np.array(relcolor.colors)[id_]\n",
    "relcolor = matplotlib.colors.ListedColormap(colors)\n",
    "idxs=np.arange(0, n_clusters, 1)\n",
    "half=(idxs[1]-idxs[0])/2\n",
    "ticks=np.linspace(idxs[0]+half, idxs[-1]-half, n_clusters)\n",
    "fig, ax=plt.subplots(figsize=(16, 16), facecolor='w')\n",
    "im=plt.pcolormesh(xs, ys, predictions.reshape(ny, nx), cmap=relcolor, shading='auto')\n",
    "plt.xlim(xs.min(), xs.max())\n",
    "plt.ylim(ys.min(), ys.max())\n",
    "cbar_ax = fig.add_axes([0.93, 0.3, 0.05, 0.4])\n",
    "cbar = fig.colorbar(im, cax=cbar_ax, label = u'Classes', orientation='vertical',\n",
    "                    ticks=ticks)\n",
    "cbar.ax.set_yticklabels(cluster_labels, fontsize=8)\n",
    "# \n",
    "plt.suptitle('SOM - Aerogeophysical Data ( Aguas de Lindóia - SF23_YA_III4)')\n",
    "plt.axis('scaled')\n",
    "plt.show()"
   ]
>>>>>>> dev
  }
 ],
 "metadata": {
  "kernelspec": {
   "display_name": "Python 3 (ipykernel)",
   "language": "python",
   "name": "python3"
  },
  "language_info": {
   "codemirror_mode": {
    "name": "ipython",
    "version": 3
   },
   "file_extension": ".py",
   "mimetype": "text/x-python",
   "name": "python",
   "nbconvert_exporter": "python",
   "pygments_lexer": "ipython3",
<<<<<<< HEAD
   "version": "3.10.9"
=======
   "version": "3.11.3"
>>>>>>> dev
  },
  "toc-autonumbering": true,
  "toc-showcode": true,
  "toc-showmarkdowntxt": true,
  "vscode": {
   "interpreter": {
    "hash": "ed32a6a1b508148fc3ce5ac19a3a5a750fe820bd77e8693096b5866236bb4c36"
   }
  }
 },
 "nbformat": 4,
 "nbformat_minor": 4
}
